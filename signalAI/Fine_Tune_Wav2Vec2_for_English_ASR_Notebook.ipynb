{
  "cells": [
    {
      "cell_type": "markdown",
      "metadata": {
        "id": "LBSYoWbi-45k"
      },
      "source": [
        "# Fine-tuning Wav2Vec2 for English ASR with 🤗 Transformers\n",
        "\n",
        "ref:\n",
        "https://huggingface.co/blog/fine-tune-wav2vec2-english\n",
        "https://colab.research.google.com/github/patrickvonplaten/notebooks/blob/master/Fine_tuning_Wav2Vec2_for_English_ASR.ipynb"
      ]
    },
    {
      "cell_type": "markdown",
      "metadata": {
        "id": "V7YOT2mnUiea"
      },
      "source": [
        "Wav2Vec2 is a pretrained model for Automatic Speech Recognition (ASR) and was released in [September 2020](https://ai.facebook.com/blog/wav2vec-20-learning-the-structure-of-speech-from-raw-audio/) by Alexei Baevski, Michael Auli, and Alex Conneau.\n",
        "\n",
        "Using a novel contrastive pretraining objective, Wav2Vec2 learns powerful speech representations from more than 50.000 hours of unlabeled speech. Similar, to [BERT's masked language modeling](http://jalammar.github.io/illustrated-bert/), the model learns contextualized speech representations by randomly masking feature vectors before passing them to a transformer network.\n",
        "\n",
        "![wav2vec2_structure](https://raw.githubusercontent.com/patrickvonplaten/scientific_images/master/wav2vec2.png)\n",
        "\n",
        "For the first time, it has been shown that pretraining, followed by fine-tuning on very little labeled speech data achieves competitive results to state-of-the-art ASR systems. Using as little as 10 minutes of labeled data, Wav2Vec2 yields a word error rate (WER) of less than 5% on the clean test set of [LibriSpeech](https://huggingface.co/datasets/librispeech_asr) - *cf.* with Table 9 of the [paper](https://arxiv.org/pdf/2006.11477.pdf)."
      ]
    },
    {
      "cell_type": "markdown",
      "metadata": {
        "id": "nT_QrfWtsxIz"
      },
      "source": [
        "In this notebook, we will give an in-detail explanation of how Wav2Vec2's pretrained checkpoints can be fine-tuned on any English ASR dataset. Note that in this notebook, we will fine-tune Wav2Vec2 without making use of a language model. It is much simpler to use Wav2Vec2 without a language model as an end-to-end ASR system and it has been shown that a standalone Wav2Vec2 acoustic model achieves impressive results. For demonstration purposes, we fine-tune the \"base\"-sized [pretrained checkpoint](https://huggingface.co/facebook/wav2vec2-base) on the rather small [Timit](https://huggingface.co/datasets/timit_asr) dataset that contains just 5h of training data."
      ]
    },
    {
      "cell_type": "markdown",
      "metadata": {
        "id": "Gx9OdDYrCtQ1"
      },
      "source": [
        "Wav2Vec2 is fine-tuned using Connectionist Temporal Classification (CTC), which is an algorithm that is used to train neural networks for sequence-to-sequence problems and mainly in Automatic Speech Recognition and handwriting recognition.\n",
        "\n",
        "I highly recommend reading the blog post [Sequence Modeling with CTC (2017)](https://distill.pub/2017/ctc/) very well-written blog post by Awni Hannun."
      ]
    },
    {
      "cell_type": "markdown",
      "metadata": {
        "id": "e335hPmdtASZ"
      },
      "source": [
        "Before we start, let's install both `datasets` and `transformers` from master. Also, we need the `soundfile` package to load audio files and the `jiwer` to evaluate our fine-tuned model using the [word error rate (WER)](https://huggingface.co/metrics/wer) metric ${}^1$."
      ]
    },
    {
      "cell_type": "code",
      "execution_count": null,
      "metadata": {
        "id": "c8eh87Hoee5d"
      },
      "outputs": [],
      "source": [
        "%%capture\n",
        "!pip install git+https://github.com/huggingface/datasets.git\n",
        "!pip install git+https://github.com/huggingface/transformers.git\n",
        "!pip install soundfile\n",
        "!pip install jiwer"
      ]
    },
    {
      "cell_type": "markdown",
      "metadata": {
        "id": "Mn9swf6EQ9Vd"
      },
      "source": [
        "\n",
        "\n",
        "\n",
        "---\n",
        "\n",
        "${}^1$ Timit is usually evaluated using the phoneme error rate (PER), but by far the most common metric in ASR is the word error rate (WER). To keep this notebook as general as possible we decided to evaluate the model using WER."
      ]
    },
    {
      "cell_type": "markdown",
      "metadata": {
        "id": "0mW-C1Nt-j7k"
      },
      "source": [
        "## Prepare Data, Tokenizer, Feature Extractor"
      ]
    },
    {
      "cell_type": "markdown",
      "metadata": {
        "id": "BeBosnY9BH3e"
      },
      "source": [
        "ASR models transcribe speech to text, which means that we both need a feature extractor that processes the speech signal to the model's input format, *e.g.* a feature vector, and a tokenizer that processes the model's output format to text.\n",
        "\n",
        "In 🤗 Transformers, the Wav2Vec2 model is thus accompanied by both a tokenizer, called [Wav2Vec2CTCTokenizer](https://huggingface.co/transformers/master/model_doc/wav2vec2.html#wav2vec2ctctokenizer), and a feature extractor, called [Wav2Vec2FeatureExtractor](https://huggingface.co/transformers/master/model_doc/wav2vec2.html#wav2vec2featureextractor).\n",
        "\n",
        "Let's start by creating the tokenizer responsible for decoding the model's predictions."
      ]
    },
    {
      "cell_type": "markdown",
      "metadata": {
        "id": "sEXEWEJGQPqD"
      },
      "source": [
        "### Create Wav2Vec2CTCTokenizer"
      ]
    },
    {
      "cell_type": "markdown",
      "metadata": {
        "id": "tWmMikuNEKl_"
      },
      "source": [
        "The [pretrained Wav2Vec2 checkpoint]( ) maps the speech signal to a sequence of context representations as illustrated in the figure above. A fine-tuned Wav2Vec2 checkpoint needs to map this sequence of context representations to its corresponding transcription so that a linear layer has to be added on top of the transformer block (shown in yellow). This linear layer is used to classifies each context representation to a token class analogous how, *e.g.*, after pretraining a linear layer is added on top of BERT's embeddings for further classification - *cf.* with *\"BERT\"* section of this [blog post](https://huggingface.co/blog/warm-starting-encoder-decoder).\n",
        "\n",
        "The output size of this layer corresponds to the number of tokens in the vocabulary, which does **not** depend on Wav2Vec2's pretraining task, but only on the labeled dataset used for fine-tuning. So in the first step, we will take a look at Timit and define a vocabulary based on the dataset's transcriptions."
      ]
    },
    {
      "cell_type": "markdown",
      "metadata": {
        "id": "bee4g9rpLxll"
      },
      "source": [
        "Let's start by loading the dataset and taking a look at its structure."
      ]
    },
    {
      "cell_type": "code",
      "execution_count": 1,
      "metadata": {},
      "outputs": [],
      "source": [
        "import os\n",
        "#hfhome_dir=\"/data/cmpe249-fa23/Huggingfacecache\"\n",
        "hfhome_dir=os.path.join('D:',os.sep, 'Cache','huggingface')\n",
        "#os.environ['TRANSFORMERS_CACHE'] = hfhome_dir\n",
        "os.environ['HF_HOME'] = hfhome_dir\n",
        "#os.environ['HF_HUB_CACHE'] = os.path.join(hfhome_dir, 'hub')\n",
        "#os.environ['HF_DATASETS_CACHE'] = hfhome_dir\n",
        "#HF_HUB_OFFLINE=1"
      ]
    },
    {
      "cell_type": "code",
      "execution_count": 1,
      "metadata": {
        "colab": {
          "base_uri": "https://localhost:8080/"
        },
        "id": "2MMXcWFFgCXU",
        "outputId": "552b5d57-ad6f-4383-fadc-506bdd4bfe22"
      },
      "outputs": [
        {
          "name": "stderr",
          "output_type": "stream",
          "text": [
            "c:\\Users\\lkk68\\.conda\\envs\\mycondapy310\\lib\\site-packages\\tqdm\\auto.py:21: TqdmWarning: IProgress not found. Please update jupyter and ipywidgets. See https://ipywidgets.readthedocs.io/en/stable/user_install.html\n",
            "  from .autonotebook import tqdm as notebook_tqdm\n",
            "Downloading builder script: 100%|██████████| 7.48k/7.48k [00:00<00:00, 6.46MB/s]\n",
            "Downloading readme: 100%|██████████| 11.1k/11.1k [00:00<00:00, 11.2MB/s]\n",
            "Generating train split: 4620 examples [00:48, 94.75 examples/s] \n",
            "Generating test split: 1680 examples [00:17, 96.52 examples/s] \n"
          ]
        }
      ],
      "source": [
        "from datasets import load_dataset, load_metric\n",
        "# dataset_split = load_dataset(\n",
        "#         \"librispeech_asr\", #'librispeech_asr'\n",
        "#         'clean',\n",
        "#         split='train.100',\n",
        "#     )\n",
        "#timit = load_dataset(\"librispeech_asr\")\n",
        "data_dir=r\"D:\\GitHub\\datasets\\timit\\TIMIT\"\n",
        "timit = load_dataset(\"timit_asr\", data_dir=data_dir)"
      ]
    },
    {
      "cell_type": "code",
      "execution_count": 2,
      "metadata": {},
      "outputs": [
        {
          "data": {
            "text/plain": [
              "DatasetDict({\n",
              "    train: Dataset({\n",
              "        features: ['file', 'audio', 'text', 'phonetic_detail', 'word_detail', 'dialect_region', 'sentence_type', 'speaker_id', 'id'],\n",
              "        num_rows: 4620\n",
              "    })\n",
              "    test: Dataset({\n",
              "        features: ['file', 'audio', 'text', 'phonetic_detail', 'word_detail', 'dialect_region', 'sentence_type', 'speaker_id', 'id'],\n",
              "        num_rows: 1680\n",
              "    })\n",
              "})"
            ]
          },
          "execution_count": 2,
          "metadata": {},
          "output_type": "execute_result"
        }
      ],
      "source": [
        "timit"
      ]
    },
    {
      "cell_type": "markdown",
      "metadata": {
        "id": "ri5y5N_HMANq"
      },
      "source": [
        "Many ASR datasets only provide the target text, `'text'` for each audio file `'file'`. Timit actually provides much more information about each audio file, such as the `'phonetic_detail'`, etc., which is why many researchers choose to evaluate their models on phoneme classification instead of speech recognition when working with Timit. However, we want to keep the notebook as general as possible, so that we will only consider the transcribed text for fine-tuning.\n",
        "\n"
      ]
    },
    {
      "cell_type": "code",
      "execution_count": 3,
      "metadata": {
        "id": "kbyq6lDgQc2a"
      },
      "outputs": [],
      "source": [
        "timit = timit.remove_columns([\"phonetic_detail\", \"word_detail\", \"dialect_region\", \"id\", \"sentence_type\", \"speaker_id\"])"
      ]
    },
    {
      "cell_type": "markdown",
      "metadata": {
        "id": "Go9Hq4e4NDT9"
      },
      "source": [
        "Let's write a short function to display some random samples of the dataset and run it a couple of times to get a feeling for the transcriptions."
      ]
    },
    {
      "cell_type": "code",
      "execution_count": 4,
      "metadata": {
        "id": "72737oog2F6U"
      },
      "outputs": [],
      "source": [
        "from datasets import ClassLabel\n",
        "import random\n",
        "import pandas as pd\n",
        "from IPython.display import display, HTML\n",
        "\n",
        "def show_random_elements(dataset, num_examples=10):\n",
        "    assert num_examples <= len(dataset), \"Can't pick more elements than there are in the dataset.\"\n",
        "    picks = []\n",
        "    for _ in range(num_examples):\n",
        "        pick = random.randint(0, len(dataset)-1)\n",
        "        while pick in picks:\n",
        "            pick = random.randint(0, len(dataset)-1)\n",
        "        picks.append(pick)\n",
        "\n",
        "    df = pd.DataFrame(dataset[picks])\n",
        "    display(HTML(df.to_html()))"
      ]
    },
    {
      "cell_type": "code",
      "execution_count": 5,
      "metadata": {
        "colab": {
          "base_uri": "https://localhost:8080/",
          "height": 669
        },
        "id": "K_JUmf3G3b9S",
        "outputId": "5502285b-0cc8-4d8f-b80e-212861a5c3e3"
      },
      "outputs": [
        {
          "data": {
            "text/html": [
              "<table border=\"1\" class=\"dataframe\">\n",
              "  <thead>\n",
              "    <tr style=\"text-align: right;\">\n",
              "      <th></th>\n",
              "      <th>text</th>\n",
              "    </tr>\n",
              "  </thead>\n",
              "  <tbody>\n",
              "    <tr>\n",
              "      <th>0</th>\n",
              "      <td>Curiosity and mediocrity seldom coexist.</td>\n",
              "    </tr>\n",
              "    <tr>\n",
              "      <th>1</th>\n",
              "      <td>She had your dark suit in greasy wash water all year.</td>\n",
              "    </tr>\n",
              "    <tr>\n",
              "      <th>2</th>\n",
              "      <td>A tiny handful never did make the concert.</td>\n",
              "    </tr>\n",
              "    <tr>\n",
              "      <th>3</th>\n",
              "      <td>Don't ask me to carry an oily rag like that.</td>\n",
              "    </tr>\n",
              "    <tr>\n",
              "      <th>4</th>\n",
              "      <td>The cigarettes in the clay ashtray overflowed onto the oak table.</td>\n",
              "    </tr>\n",
              "    <tr>\n",
              "      <th>5</th>\n",
              "      <td>Shell shock caused by shrapnel is sometimes cured through group therapy.</td>\n",
              "    </tr>\n",
              "    <tr>\n",
              "      <th>6</th>\n",
              "      <td>I ate every oyster on Nora's plate.</td>\n",
              "    </tr>\n",
              "    <tr>\n",
              "      <th>7</th>\n",
              "      <td>They even pay me six dollars a month.</td>\n",
              "    </tr>\n",
              "    <tr>\n",
              "      <th>8</th>\n",
              "      <td>It's fun to roast marshmallows on a gas burner.</td>\n",
              "    </tr>\n",
              "    <tr>\n",
              "      <th>9</th>\n",
              "      <td>The news agency hired a great journalist.</td>\n",
              "    </tr>\n",
              "    <tr>\n",
              "      <th>10</th>\n",
              "      <td>She had your dark suit in greasy wash water all year.</td>\n",
              "    </tr>\n",
              "    <tr>\n",
              "      <th>11</th>\n",
              "      <td>Don't ask me to carry an oily rag like that.</td>\n",
              "    </tr>\n",
              "    <tr>\n",
              "      <th>12</th>\n",
              "      <td>Take charge of choosing her bride's maids' gowns.</td>\n",
              "    </tr>\n",
              "    <tr>\n",
              "      <th>13</th>\n",
              "      <td>She always jokes about too much garlic in his food.</td>\n",
              "    </tr>\n",
              "    <tr>\n",
              "      <th>14</th>\n",
              "      <td>Penguins live near the icy Antarctic.</td>\n",
              "    </tr>\n",
              "    <tr>\n",
              "      <th>15</th>\n",
              "      <td>The walls bulged, the floor trembled, the windowpanes rattled.</td>\n",
              "    </tr>\n",
              "    <tr>\n",
              "      <th>16</th>\n",
              "      <td>She had your dark suit in greasy wash water all year.</td>\n",
              "    </tr>\n",
              "    <tr>\n",
              "      <th>17</th>\n",
              "      <td>Don't ask me to carry an oily rag like that.</td>\n",
              "    </tr>\n",
              "    <tr>\n",
              "      <th>18</th>\n",
              "      <td>Thinking the evidence insufficient to get a conviction, he later released him.</td>\n",
              "    </tr>\n",
              "    <tr>\n",
              "      <th>19</th>\n",
              "      <td>They remain lifelong friends and companions.</td>\n",
              "    </tr>\n",
              "  </tbody>\n",
              "</table>"
            ],
            "text/plain": [
              "<IPython.core.display.HTML object>"
            ]
          },
          "metadata": {},
          "output_type": "display_data"
        }
      ],
      "source": [
        "show_random_elements(timit[\"train\"].remove_columns([\"file\", 'audio']), num_examples=20)"
      ]
    },
    {
      "cell_type": "markdown",
      "metadata": {
        "id": "fowcOllGNNju"
      },
      "source": [
        "Alright! The transcriptions look very clean and the language seems to correspond more to written text than dialogue. This makes sense taking into account that [Timit](https://huggingface.co/datasets/timit_asr) is a read speech corpus."
      ]
    },
    {
      "cell_type": "markdown",
      "metadata": {
        "id": "vq7OR50LN49m"
      },
      "source": [
        "We can see that the transcriptions contain some special characters, such as `,.?!;:`. Without a language model, it is much harder to classify speech chunks to such special characters because they don't really correspond to a characteristic sound unit. *E.g.*, the letter `\"s\"` has a more or less clear sound, whereas the special character `\".\"` does not.\n",
        "Also in order to understand the meaning of a speech signal, it is usually not necessary to include special characters in the transcription.\n",
        "\n",
        "In addition, we normalize the text to only have lower case letters."
      ]
    },
    {
      "cell_type": "code",
      "execution_count": 6,
      "metadata": {
        "id": "svKzVJ_hQGK6"
      },
      "outputs": [],
      "source": [
        "import re\n",
        "chars_to_ignore_regex = '[\\,\\?\\.\\!\\-\\;\\:\\\"]'\n",
        "\n",
        "def remove_special_characters(batch):\n",
        "    batch[\"text\"] = re.sub(chars_to_ignore_regex, '', batch[\"text\"]).lower()\n",
        "    return batch"
      ]
    },
    {
      "cell_type": "code",
      "execution_count": 7,
      "metadata": {
        "colab": {
          "base_uri": "https://localhost:8080/"
        },
        "id": "XIHocAuTQbBR",
        "outputId": "5542cd67-240b-4819-ff49-49f65f593559"
      },
      "outputs": [
        {
          "name": "stderr",
          "output_type": "stream",
          "text": [
            "Map: 100%|██████████| 4620/4620 [00:00<00:00, 14076.60 examples/s]\n",
            "Map: 100%|██████████| 1680/1680 [00:00<00:00, 11017.45 examples/s]\n"
          ]
        }
      ],
      "source": [
        "timit = timit.map(remove_special_characters)"
      ]
    },
    {
      "cell_type": "code",
      "execution_count": 8,
      "metadata": {
        "colab": {
          "base_uri": "https://localhost:8080/",
          "height": 359
        },
        "id": "RBDRAAYxRE6n",
        "outputId": "7580c7f7-cf40-49a7-8bb7-963e598c06d9"
      },
      "outputs": [
        {
          "data": {
            "text/html": [
              "<table border=\"1\" class=\"dataframe\">\n",
              "  <thead>\n",
              "    <tr style=\"text-align: right;\">\n",
              "      <th></th>\n",
              "      <th>text</th>\n",
              "    </tr>\n",
              "  </thead>\n",
              "  <tbody>\n",
              "    <tr>\n",
              "      <th>0</th>\n",
              "      <td>she had your dark suit in greasy wash water all year</td>\n",
              "    </tr>\n",
              "    <tr>\n",
              "      <th>1</th>\n",
              "      <td>with her sharp tongue she'd have cut his pompousness to ribbons</td>\n",
              "    </tr>\n",
              "    <tr>\n",
              "      <th>2</th>\n",
              "      <td>she had your dark suit in greasy wash water all year</td>\n",
              "    </tr>\n",
              "    <tr>\n",
              "      <th>3</th>\n",
              "      <td>cut a small corner off each edge</td>\n",
              "    </tr>\n",
              "    <tr>\n",
              "      <th>4</th>\n",
              "      <td>don't ask me to carry an oily rag like that</td>\n",
              "    </tr>\n",
              "    <tr>\n",
              "      <th>5</th>\n",
              "      <td>don't ask me to carry an oily rag like that</td>\n",
              "    </tr>\n",
              "    <tr>\n",
              "      <th>6</th>\n",
              "      <td>she had your dark suit in greasy wash water all year</td>\n",
              "    </tr>\n",
              "    <tr>\n",
              "      <th>7</th>\n",
              "      <td>in every major cloverleaf traffic sometimes gets backed up</td>\n",
              "    </tr>\n",
              "    <tr>\n",
              "      <th>8</th>\n",
              "      <td>don't ask me to carry an oily rag like that</td>\n",
              "    </tr>\n",
              "    <tr>\n",
              "      <th>9</th>\n",
              "      <td>the giant redwoods simmered in the glistening sun</td>\n",
              "    </tr>\n",
              "  </tbody>\n",
              "</table>"
            ],
            "text/plain": [
              "<IPython.core.display.HTML object>"
            ]
          },
          "metadata": {},
          "output_type": "display_data"
        }
      ],
      "source": [
        "show_random_elements(timit[\"train\"].remove_columns([\"file\", \"audio\"]))"
      ]
    },
    {
      "cell_type": "markdown",
      "metadata": {
        "id": "jwfaptH5RJwA"
      },
      "source": [
        "Good! This looks better. We have removed most special characters from transcriptions and normalized them to lower-case only.\n",
        "\n",
        "In CTC, it is common to classify speech chunks into letters, so we will do the same here.\n",
        "Let's extract all distinct letters of the training and test data and build our vocabulary from this set of letters.\n",
        "\n",
        "We write a mapping function that concatenates all transcriptions into one long transcription and then transforms the string into a set of chars.\n",
        "It is important to pass the argument `batched=True` to the `map(...)` function so that the mapping function has access to all transcriptions at once."
      ]
    },
    {
      "cell_type": "code",
      "execution_count": 9,
      "metadata": {
        "id": "LwCshNbbeRZR"
      },
      "outputs": [],
      "source": [
        "def extract_all_chars(batch):\n",
        "  all_text = \" \".join(batch[\"text\"])\n",
        "  vocab = list(set(all_text))\n",
        "  return {\"vocab\": [vocab], \"all_text\": [all_text]}"
      ]
    },
    {
      "cell_type": "code",
      "execution_count": 10,
      "metadata": {
        "colab": {
          "base_uri": "https://localhost:8080/",
          "height": 117,
          "referenced_widgets": [
            "5f2ed798b2674fd98052ced2faae3aa9",
            "9a81ad54827f47bd8f2a8453a50e706f",
            "940b86f6edca4cecad67b6f6872c39e1",
            "afee4f92343c4be28de297aca4a29505",
            "0a849afcd78842f98c0471c32866fcb8",
            "3298d9de17264aa4ac576b073e32db10",
            "2034de6f09014ee8b458066445444b04",
            "d13d3b5fd2424691b79cd229f8fd4f6f",
            "bc3f9aa79c0a4e9f85fdff7307fa1d1b",
            "69355cf02bae416a9d5fd890fb41d78b",
            "5a2c824fd0f24084a750d2ecd1d9401b",
            "6e23c99a8e6a47faa5f9ee487ad7f920",
            "37051888a8d941f9b9c823ed68b1fbb4",
            "ffb6112b3ebf4bc7b73aa169dfc6792c",
            "8adc6f69164b4090b63e7765afcf8be3",
            "01523f050e044715b493b1e17ace2ce2"
          ]
        },
        "id": "_m6uUjjcfbjH",
        "outputId": "49b69019-0f91-4d73-c19d-61542d1a7f7e"
      },
      "outputs": [
        {
          "name": "stderr",
          "output_type": "stream",
          "text": [
            "Map: 100%|██████████| 4620/4620 [00:00<00:00, 577352.58 examples/s]\n",
            "Map: 100%|██████████| 1680/1680 [00:00<00:00, 559996.08 examples/s]\n"
          ]
        }
      ],
      "source": [
        "vocabs = timit.map(extract_all_chars, batched=True, batch_size=-1, keep_in_memory=True, remove_columns=timit.column_names[\"train\"])"
      ]
    },
    {
      "cell_type": "code",
      "execution_count": 11,
      "metadata": {},
      "outputs": [
        {
          "data": {
            "text/plain": [
              "DatasetDict({\n",
              "    train: Dataset({\n",
              "        features: ['vocab', 'all_text'],\n",
              "        num_rows: 1\n",
              "    })\n",
              "    test: Dataset({\n",
              "        features: ['vocab', 'all_text'],\n",
              "        num_rows: 1\n",
              "    })\n",
              "})"
            ]
          },
          "execution_count": 11,
          "metadata": {},
          "output_type": "execute_result"
        }
      ],
      "source": [
        "vocabs"
      ]
    },
    {
      "cell_type": "code",
      "execution_count": 12,
      "metadata": {},
      "outputs": [
        {
          "data": {
            "text/plain": [
              "[['c',\n",
              "  's',\n",
              "  'd',\n",
              "  ' ',\n",
              "  'u',\n",
              "  'a',\n",
              "  'h',\n",
              "  'o',\n",
              "  'z',\n",
              "  'r',\n",
              "  'f',\n",
              "  'j',\n",
              "  'x',\n",
              "  'g',\n",
              "  'p',\n",
              "  \"'\",\n",
              "  'b',\n",
              "  'l',\n",
              "  'w',\n",
              "  'y',\n",
              "  'i',\n",
              "  't',\n",
              "  'm',\n",
              "  'e',\n",
              "  'n',\n",
              "  'v',\n",
              "  'k',\n",
              "  'q']]"
            ]
          },
          "execution_count": 12,
          "metadata": {},
          "output_type": "execute_result"
        }
      ],
      "source": [
        "vocabs['train']['vocab']"
      ]
    },
    {
      "cell_type": "code",
      "execution_count": 13,
      "metadata": {},
      "outputs": [
        {
          "data": {
            "text/plain": [
              "[\"she had your dark suit in greasy wash water all year don't ask me to carry an oily rag like that even then if she took one step forward he could catch her or borrow some money from someone and go home by bus a sailboat may have a bone in her teeth one minute and lie becalmed the next the emperor had a mean temper how permanent are their records the meeting is now adjourned critical equipment needs proper maintenance tim takes sheila to see movies twice a week she had your dark suit in greasy wash water all year don't ask me to carry an oily rag like that this has been attributed to helium film flow in the vapor pressure thermometer receiving no answer they set the fire as his feet slowed he felt ashamed of the panic and resolved to make a stand cyclical programs will never compile clear pronunciation is appreciated steve collects rare and novel coins a huge power outage rarely occurs academic aptitude guarantees your diploma she had your dark suit in greasy wash water all year don't ask me to carry an oily rag like that the response of reaction is dominated by a concern for what is vanishing they used pink tan or cream powder now forget all this other the government sought authorization of his citizenship i ate every oyster on nora's plate did shawn catch that big goose without help a toothpaste tube should be squeezed from the bottom eat your raisins outdoors on the porch steps she had your dark suit in greasy wash water all year don't ask me to carry an oily rag like that personal predispositions tend to blunt the ear and in turn the voice as well the kid has no manners boys we have become amateur insurance experts and finefeathered yard birds the drunkard is a social outcast reading in poor light gives you eyestrain the dark murky lagoon wound around for miles a crab challenged me but a quick stab vanquished him upgrade your status to reflect your wealth she had your dark suit in greasy wash water all year don't ask me to carry an oily rag like that change involves the displacement of form women didn't use white face powder nowadays he recalled higher toll rates also are helping boost revenues the drunkard is a social outcast reading in poor light gives you eyestrain the dark murky lagoon wound around for miles a crab challenged me but a quick stab vanquished him upgrade your status to reflect your wealth she had your dark suit in greasy wash water all year don't ask me to carry an oily rag like that conceivably the submarine defense problem can be solved by sufficient forces that's your headache this is particularly true in site selection the haunted house was a hit due to outstanding audiovisual effects we saw eight tiny icicles below our roof a lawyer was appointed to execute her will the toddler found a clamshell near the camp site cooperation along with understanding alleviate dispute she had your dark suit in greasy wash water all year don't ask me to carry an oily rag like that she smiled and teeth gleamed in her beautifully modeled olive face his lips felt glued together for girls the overprotection is far more pervasive who took the kayak down the bayou the essay undeniably reflects our view ably i'll have a scoop of that exotic purple and turquoise sherbet shell shock caused by shrapnel is sometimes cured through group therapy doctors prescribe drugs too freely she had your dark suit in greasy wash water all year don't ask me to carry an oily rag like that as these maladies overlap so must the cure to his puzzlement there suddenly was no haze add remaining ingredients and bring to a boil the mango and the papaya are in a bowl do you hear the sleigh bells ringing rockandroll music has a great rhythm an adult male baboon's teeth are not suitable for eating shellfish the giant redwoods shimmered in the glistening sun she had your dark suit in greasy wash water all year don't ask me to carry an oily rag like that the sculptor looked at him bugeyed and amazed angry he might say or do something foolish this big flexible voice with uncommon range has been superbly disciplined curiosity and mediocrity seldom coexist al received a joint appointment in the biology and engineering departments i know i didn't meet her early enough each stag surely finds a big fawn an official deadline cannot be postponed she had your dark suit in greasy wash water all year don't ask me to carry an oily rag like that nice country to meet a lion in face to face the girl nodded understandingly some have walked through pain and sorrow to bring you their message of hope westchester is a county in new york the sermon emphasized the need for affirmative action cottage cheese with chives is delicious help celebrate your brother's success i took her word for it but is she really going with you she had your dark suit in greasy wash water all year don't ask me to carry an oily rag like that now he'll choke for sure he had always been a messy and negligent man she had no way of knowing in advance whether an opportunity for murder existed rich looked for spotted hyenas and jaguars on the safari be careful not to plow over the flower beds the speech symposium might begin monday the thick elm forest was nearly overwhelmed by dutch elm disease the misprint provoked an immediate disclaimer she had your dark suit in greasy wash water all year don't ask me to carry an oily rag like that we do not arrive at spatial images by means of the sense of touch by itself part collie part wirehaired terrier differences were related to social economic and educational backgrounds his sudden departure shocked the cast approach your interview with statuesque composure alfalfa is healthy for you the avalanche triggered a minor earthquake we welcome many new students each year she had your dark suit in greasy wash water all year don't ask me to carry an oily rag like that it was the story of the rhinoceros fight all over again a flash illumined the trees as a crooked bolt twigged in several directions is it anything like cookedover oatmeal publicity and notoriety go hand in hand you always come up with pathological examples those answers will be straightforward if you think them through carefully first we'll serve rhubarb pie after rachel's talk biblical scholars argue history she had your dark suit in greasy wash water all year don't ask me to carry an oily rag like that in simpler terms it amounts to pointing the platform in the proper direction ran away on a black night with a lawful wedded man no manufacturer has taken the initiative in pointing out the cost involved clasp the screw in your left hand when peeling an orange it is hard not to spray juice most young rise early every morning the two artists exchanged autographs which church do the smiths worship in she had your dark suit in greasy wash water all year don't ask me to carry an oily rag like that woe betide the interviewee if he answered vaguely positive results start when it goes towards the hand you use to make your mark wine glass heels are to be found in both high and semiheights the cartoon features a muskrat and a tadpole even i occasionally get the monday blues although always alone we survive should giraffes be kept in small zoos please shorten this skirt for joyce she had your dark suit in greasy wash water all year don't ask me to carry an oily rag like that in two cases airplanes only were indicated her hum became a gurgle of surprise program note reads as follows take hands this urgent visage beckons us rich looked for spotted hyenas and jaguars on the safari be careful not to plow over the flower beds the speech symposium might begin monday the thick elm forest was nearly overwhelmed by dutch elm disease the misprint provoked an immediate disclaimer she had your dark suit in greasy wash water all year don't ask me to carry an oily rag like that whatever their faults they are not hypocrites have they inherited some money or something we think differently scholastic aptitude is judged by standardized tests they all agree that the essay is barely intelligible an adult male baboon's teeth are not suitable for eating shellfish smash lightbulbs and their cash value will diminish to nothing continental drift is a geological theory she had your dark suit in greasy wash water all year don't ask me to carry an oily rag like that this leaves the ordering of entries variable she had jumped away from his shy touch like a cat confronted by a sidewinder get copper or earthenware mugs that keep beer chilled or soup hot the cartoon features a muskrat and a tadpole even i occasionally get the monday blues although always alone we survive should giraffes be kept in small zoos please shorten this skirt for joyce she had your dark suit in greasy wash water all year don't ask me to carry an oily rag like that from childhood he had known all about knives the guttural language from the ghetto stopped a complete plan we have made limited application of the parallel ladder plan correct execution of my instructions is crucial the courier was a dwarf al received a joint appointment in the biology and the engineering departments valley lodge yearly celebrates the first calf born the prowler wore a ski mask for disguise she had your dark suit in greasy wash water all year don't ask me to carry an oily rag like that the platform accelerometers must be slightly modified for this procedure left mine many a time only she never knew it computers are being used to keep branch inventories at more workable levels the mango and the papaya are in a bowl do you hear the sleigh bells ringing did dad do academic bidding rockandroll music has a great rhythm the giant redwoods shimmered in the glistening sun she had your dark suit in greasy wash water all year don't ask me to carry an oily rag like that they should live in modest circumstances avoiding all conspicuous consumption but briefly the topping configuration must be examined for its inferences serve in frankfurter buns or as a meat dish trespassing is forbidden and subject to penalty only the best players enjoy popularity we like bleu cheese but victor prefers swiss cheese a good attitude is unbeatable they all like long hot showers she had your dark suit in greasy wash water all year don't ask me to carry an oily rag like that a concurrent effort is needed to make oceanographic data useful on the spot at home yes they argued yeah seems so don't it the boy laughed hugging her close does creole cooking use curry draw every outer line first then fill in the interior the moisture in my eyes is from eyedrops not from tears first add milk to the shredded cheese primitive tribes have an upbeat attitude she had your dark suit in greasy wash water all year don't ask me to carry an oily rag like that ice baths electric shocks lashings wild dogs testicle crushers hello anyone at home just let me die in peace we plan to build a new beverage plant cory attacked the project with extra determination my desires are simple give me one informative paragraph on the subject the taxicab broke down and caused a traffic jam etiquette mandates compliance with existing regulations she had your dark suit in greasy wash water all year don't ask me to carry an oily rag like that boys and men go along the riverbank or to the alcoves in the top arcade those lovely whorls he chortled gosh the house does look like a morgue though we could barely see the fjords through the snow flurries do atypical farmers grow oats the system may break down soon so save your files frequently ralph prepared red snapper with fresh lemon sauce for dinner it's hard to tell an original from a forgery she had your dark suit in greasy wash water all year don't ask me to carry an oily rag like that make it come off all right now here is truly a marvel place work on a flat surface and smooth out the willowy woman wore a muskrat coat the paper boy bought two apples and three ices the local drugstore was charged with illegally dispensing tranquilizers irish youngsters eat fresh kippers for breakfast the eastern coast is a place for pure pleasure and excitement she had your dark suit in greasy wash water all year don't ask me to carry an oily rag like that they offered no opinions volunteered nothing betrayed no emotions both eventualities are possible logically but practically they are impossible they consider it simply a sign of our times the cartoon features a muskrat and a tadpole even i occasionally get the monday blues although always alone we survive should giraffes be kept in small zoos please shorten this skirt for joyce she had your dark suit in greasy wash water all year don't ask me to carry an oily rag like that we will achieve a more vivid sense of what it is by realizing what it is not his comrades were all dead the side ones are halfinch narrower vietnamese cuisine is exquisite it's not easy to create illuminating examples count the number of teaspoons of soysauce that you add seamstresses attach zippers with a thimble needle and thread the legislature met to judge the state of public education she had your dark suit in greasy wash water all year don't ask me to carry an oily rag like that their gait is impossible to convey in words would have been easy to identify as opium by its odor i'm sorry but i shall have to search this house employee layoffs coincided with the company's reorganization although always alone we survive we are open every monday evening they used an aggressive policeman to flag thoughtless motorists bagpipes and bongos are musical instruments she had your dark suit in greasy wash water all year don't ask me to carry an oily rag like that honey he whispered the entire length of the street could be raked with rifle fire from this barn but fenced or unfenced no poolside is the place for running or horseplay her auburn hair reminded him of autumn leaves the gorgeous butterfly ate a lot of nectar take charge of choosing her bride's maids' gowns coffee is grown on steep junglelike slopes in temperate zones spring street is straight ahead she had your dark suit in greasy wash water all year don't ask me to carry an oily rag like that index words and electronic switches may be reserved in the following ways why ain't you playin' ball when you're less fatigued things just naturally look brighter who took the kayak down the bayou the essay undeniably reflects our view ably i'll have a scoop of that exotic purple and turquoise sherbet shell shock caused by shrapnel is sometimes cured through group therapy doctors prescribe drugs too freely she had your dark suit in greasy wash water all year don't ask me to carry an oily rag like that both the conditions and the complicity are documented in considerable detail he checked into a motel and drove downtown and now nora  don't you encourage him vietnamese cuisine is exquisite it's not easy to create illuminating examples the rose corsage smelled sweet count the number of teaspoons of soysauce that you add the legislature met to judge the state of public education she had your dark suit in greasy wash water all year don't ask me to carry an oily rag like that all about him stood tombstones his own sensitive great hands had fashioned somewhere birds were sweetly calling were answered finally he asked do you object to petting angora cats are furrier than siamese nonprofit organizations have frequent fund raisers the proof that you are seeking is not available in books barb's gold bracelet was a graduation present they assume no burglar will ever enter here she had your dark suit in greasy wash water all year don't ask me to carry an oily rag like that the beatniks crave a sexual experience in which their whole being participates bitter unreasoning jealousy he played basketball there while working toward a law degree tugboats are capable of hauling huge loads how much allowance do you get when all else fails use force these exclusive documents must be locked up at all times george is paranoid about a future gas shortage she had your dark suit in greasy wash water all year don't ask me to carry an oily rag like that so of course he stayed put but to the infuriation of scientists for no known reason not all of them did family loyalties and cooperative work have been unbroken for generations tugboats are capable of hauling huge loads how much allowance do you get when all else fails use force these exclusive documents must be locked up at all times george is paranoid about a future gas shortage she had your dark suit in greasy wash water all year don't ask me to carry an oily rag like that we often say of a person that he looks young for his age or old for his age now there's nothin left of me we would lose our export markets and deny ourselves the imports we need the water contained too much chlorine and stung his eyes does hindu ideology honor cows gus saw pine trees and redwoods on his walk through sequoia national forest movies never have enough villains challenge each general's intelligence she had your dark suit in greasy wash water all year don't ask me to carry an oily rag like that y'all wanna walk  walk he said her cough sounded like cloth ripping we know that actors can learn to portray a wide variety of character roles his scalp was blistered from today's hot sun alimony harms a divorced man's wealth norwegian sweaters are made of lamb's wool brush fires are common in the dry underbrush of nevada i just saw jim near the new archeological museum she had your dark suit in greasy wash water all year don't ask me to carry an oily rag like that vital questions would be quickly answered according to a preprepared agenda nevertheless it's true he told me so today coming up on the train her auburn hair reminded him of autumn leaves the gorgeous butterfly ate a lot of nectar take charge of choosing her bride's maids' gowns coffee is grown on steep junglelike slopes in temperate zones spring street is straight ahead she had your dark suit in greasy wash water all year don't ask me to carry an oily rag like that it offered to surrender its right to exclusive trade but asked an indemnity the body was heavier than he had anticipated as you can count on me to do the same too much curiosity can get you into trouble i itemize all accounts in my agency the full moon shone brightly that night move the garbage nearer to the large window the lack of heat compounded the tenant's grievances she had your dark suit in greasy wash water all year don't ask me to carry an oily rag like that assume for example a situation where a farm has a packing shed and fields what outfit does she drive for fill small hole in bowl with clay publicity and notoriety go hand in hand you always come up with pathological examples those answers will be straightforward if you think them through carefully first we'll serve rhubarb pie after rachel's talk biblical scholars argue history she had your dark suit in greasy wash water all year don't ask me to carry an oily rag like that both have excellent integration of their fiscal tax collection year calendars it took him a long time to compose himself he liked to nip ear lobes of unsuspecting visitors with his needlesharp teeth why else would danny allow others to go the angry boy answered but didn't look up this was easy for us the cow wandered from the farmland and became lost cut a small corner off each edge she had your dark suit in greasy wash water all year don't ask me to carry an oily rag like that have you got enough blankets it had gone like clockwork would a camera club be useful in taking pictures pertinent to plant safety angora cats are furrier than siamese nonprofit organizations have frequent fund raisers the proof that you are seeking is not available in books barb's gold bracelet was a graduation present they assume no burglar will ever enter here she had your dark suit in greasy wash water all year don't ask me to carry an oily rag like that the system works as an impersonal mechanism clapping spurs to the bronc he set off at a sharp canter with growing alarm everything went real smooth the sheriff said why else would danny allow others to go the angry boy answered but didn't look up the cow wandered from the farmland and became lost seamstresses attach zippers with a thimble needle and thread cut a small corner off each edge she had your dark suit in greasy wash water all year don't ask me to carry an oily rag like that at intervals an alumni directory is issued you do that or take you out a permit right now yes indeed we too can see a warlike host of infidels encamped against us the emperor had a mean temper how permanent are their records the preschooler couldn't verbalize her feelings about the emergency conditions critical equipment needs proper maintenance tim takes sheila to see movies twice a week she had your dark suit in greasy wash water all year don't ask me to carry an oily rag like that measured performance characteristics for this experimental tube will be listed no temptation no virtue selecting bunks by economic comparison is usually an individual problem his sudden departure shocked the cast approach your interview with statuesque composure alfalfa is healthy for you the avalanche triggered a minor earthquake we welcome many new students each year she had your dark suit in greasy wash water all year don't ask me to carry an oily rag like that solid concrete blocks relatively heavy and dense are used for this shelter after another long pause he asked how many people know who they are of course dear she said his scalp was blistered from today's hot sun alimony harms a divorced man's wealth norwegian sweaters are made of lamb's wool brush fires are common in the dry underbrush of nevada i just saw jim near the new archeological museum she had your dark suit in greasy wash water all year don't ask me to carry an oily rag like that fiddles screeched a piano tinkled it was nobody's fault before that we lumber dealers were working almost singlehanded on the problem as a precaution the outlaws bought gunpowder for their stronghold we apply auditory modeling to computer speech recognition the high security prison was surrounded by barbed wire the fifth jar contains big juicy peaches porcupines resemble sea urchins she had your dark suit in greasy wash water all year don't ask me to carry an oily rag like that object  a village crossroads they were tethered army style on stable lines her debut over perhaps the earlier scenes will emerge equally fine the easygoing zoologist relaxed throughout the voyage my ideal morning begins with hot coffee trish saw hours and hours of movies saturday the rich should invest in black zircons instead of stylish shoes fill that canteen with fresh spring water she had your dark suit in greasy wash water all year don't ask me to carry an oily rag like that leave me your address now you know she could've but she isn't that kind of girl when did women begin to assert themselves sexually the coyote bobcat and hyena are wild animals jeff's toy gocart never worked amoebas change shape constantly the preschooler couldn't verbalize her feelings about the emergency conditions he picked up nine pairs of socks for each brother she had your dark suit in greasy wash water all year don't ask me to carry an oily rag like that was it a birthday ball but now she looked ugly his prescription hot and cold compresses to increase her absorption of water encyclopedias seldom present anecdotal evidence i gave them several choices and let them set the priorities tofu is made from processed soybeans it's fun to roast marshmallows on a gas burner a young mouse scampered across the field and disappeared she had your dark suit in greasy wash water all year don't ask me to carry an oily rag like that this doctrine was repugnant to my moral sense the lady's eyes unmagnified bugged out she can remove all knickknacks within reach lots of foreign movies have subtitles try to recall the events in chronological order shipbuilding is a most fascinating process young people participate in athletic activities children can consume many fruit candies in one sitting she had your dark suit in greasy wash water all year don't ask me to carry an oily rag like that ideas are the thruway to nowhere running around in the moonlight almost naked and slugging a man with a rock oneupmanship is practiced by both sides in a total war they remained lifelong friends and companions by eating yogurt you may live longer the frightened child was gently subdued by his big brother the overweight charmer could slip poison into anyone's tea cliff's display was misplaced on the screen she had your dark suit in greasy wash water all year don't ask me to carry an oily rag like that roleplaying used for analysis follows these general steps leading to training they'll roll off in another day summertime supper outside is a natural tugboats are capable of hauling huge loads when all else fails use force these exclusive documents must be locked up at all times rob made hungarian goulash for dinner and gooseberry pie for dessert george is paranoid about a future gas shortage she had your dark suit in greasy wash water all year don't ask me to carry an oily rag like that in some measure they depend upon the structure of individual personality self's integrity was and is and ever had been would a blue feather in a man's hat make him happy all day they often go out in the evening the rose corsage smelled sweet the surplus shoes were sold at a discount price nothing is as offensive as innocence penguins live near the icy antarctic she had your dark suit in greasy wash water all year don't ask me to carry an oily rag like that cattle which died from them winter storms were referred to as the winter kill drunkenness was no longer tolerated it took a tragedy to bring things to a head would a tomboy often play outdoors john's brother repainted the garage door would you please confirm government policy regarding waste removal bright sunshine shimmers on the ocean masquerade parties tax one's imagination she had your dark suit in greasy wash water all year don't ask me to carry an oily rag like that it would be well to show the populace how we deal with adulterers a smile pulled at the lower strip of adhesive tape somehow we oldtimers never figured we would ever retire they often go out in the evening the surplus shoes were sold at a discount price seamstresses attach zippers with a thimble needle and thread nothing is as offensive as innocence penguins live near the icy antarctic she had your dark suit in greasy wash water all year don't ask me to carry an oily rag like that these men were without capital or experience from this motor pool personnel develop other meaningful and related data it snowed continuously but quietly evenly cyclical programs will never compile clear pronunciation is appreciated steve collects rare and novel coins according to my interpretation of the problem two lines must be perpendicular academic aptitude guarantees your diploma she had your dark suit in greasy wash water all year don't ask me to carry an oily rag like that maybe they'll stop it now once for all begin the examination of a site with a good map and aerial photos if possible he hoped they would put in somewhere way way down in the earth curiosity and mediocrity seldom coexist do they allow atheists in church i know i didn't meet her early enough each stag surely finds a big fawn an official deadline cannot be postponed she had your dark suit in greasy wash water all year don't ask me to carry an oily rag like that the roof of the command post began to buckle the works are presented chronologically ants carry the seeds so better be sure that there are no ant hills nearby buying a thoroughbred horse requires intuition and expertise withdraw only as much money as you need diane may splurge and buy a turquoise necklace thomas thinks a larger clamp solves the problem hispanic costumes are quite colorful she had your dark suit in greasy wash water all year don't ask me to carry an oily rag like that merely to satisfy the author's curiosity her face seemed to float in an implausibly bright shaft of sunlight homemade sauerkraut is served once a week we could barely see the fjords through the snow flurries do atypical farmers grow oats the system may break down soon so save your files frequently ralph prepared red snapper with fresh lemon sauce for dinner it's hard to tell an original from a forgery she had your dark suit in greasy wash water all year don't ask me to carry an oily rag like that we've done our part no more could he defend himself against them a helpful leaflet may be enclosed in the letter we plan to build a new beverage plant cory attacked the project with extra determination my desires are simple give me one informative paragraph on the subject the taxicab broke down and caused a traffic jam etiquette mandates compliance with existing regulations she had your dark suit in greasy wash water all year don't ask me to carry an oily rag like that either better nor worse his voice seemed thick and purposeless the source is known so there is no necessity to remove insecticide residues thick glue oozed out of the tube allow each child to have an ice pop the annoying raccoons slipped into phil's garden every night in developing film many toxic chemicals are used a large household needs lots of appliances she had your dark suit in greasy wash water all year don't ask me to carry an oily rag like that maybe they will take us fuming helpless he watched them pass him is a relaxed home atmosphere enough to help her outgrow these traits his scalp was blistered from today's hot sun alimony harms a divorced man's wealth norwegian sweaters are made of lamb's wool brush fires are common in the dry underbrush of nevada i just saw jim near the new archeological museum she had your dark suit in greasy wash water all year don't ask me to carry an oily rag like that no poetry no airplanes no dancers there's no chance now of all of us getting away the storyline in sort is wildly unrealistic employee layoffs coincided with the company's reorganization we are open every monday evening the patient and the surgeon are both recuperating from the lengthy operation they used an aggressive policeman to flag thoughtless motorists bagpipes and bongos are musical instruments she had your dark suit in greasy wash water all year don't ask me to carry an oily rag like that the data are presented in lists and tables he reached once more into the carpet bag and brought up a package of wieners need for novelty may be a symptom of cultural fatigue and instability thick glue oozed out of the tube allow each child to have an ice pop the annoying raccoons slipped into phil's garden every night in developing film many toxic chemicals are used a large household needs lots of appliances she had your dark suit in greasy wash water all year don't ask me to carry an oily rag like that it gives social guidance and direction and makes for programs of social action high so it only bounce harmlessly but loudly off a car's steel roof file to a smooth finish almost all colleges are now coeducational are holiday aprons available to us i assume moisture will damage this ship's hull roy ignored the spurious data points in drawing the graph the thinker is a famous sculpture she had your dark suit in greasy wash water all year don't ask me to carry an oily rag like that geocentricism per se pretty girls among them with blonde hair and pert faces thereupon followed a demonstration that tyranny knows no ideological confines who took the kayak down the bayou the essay undeniably reflects our view ably i'll have a scoop of that exotic purple and turquoise sherbet shell shock caused by shrapnel is sometimes cured through group therapy doctors prescribe drugs too freely she had your dark suit in greasy wash water all year don't ask me to carry an oily rag like that they neither gained nor fell back this possibility is anything but reassuring the simplest kind of separate system uses a single selfcontained unit the drunkard is a social outcast reading in poor light gives you eyestrain the dark murky lagoon wound around for miles a crab challenged me but a quick stab vanquished him upgrade your status to reflect your wealth she had your dark suit in greasy wash water all year don't ask me to carry an oily rag like that this viscosity of the material in the drops is of course not negligible we'll ride out as soon as we've had chuck theocracy reconsidered scientific progress comes from the development of new techniques steph could barely handle the psychological trauma that dog chases cats mercilessly there was a gigantic wasp next to irving's big top hat that pickpocket was caught redhanded she had your dark suit in greasy wash water all year don't ask me to carry an oily rag like that this kid's froze bad nobody likes snakes since a fall or blow might have caused it a cold pack was usually first aid the haunted house was a hit due to outstanding audiovisual effects we saw eight tiny icicles below our roof a lawyer was appointed to execute her will the toddler found a clamshell near the camp site cooperation along with understanding alleviate dispute she had your dark suit in greasy wash water all year don't ask me to carry an oily rag like that you're right now buddy yes yes we'll let you know sewing brings numbness writes what makes my hands numb when sewing encyclopedias seldom present anecdotal evidence i gave them several choices and let them set the priorities tofu is made from processed soybeans it's fun to roast marshmallows on a gas burner a young mouse scampered across the field and disappeared she had your dark suit in greasy wash water all year don't ask me to carry an oily rag like that she looked at me provocatively we were off the road gleaming barbed wire pulling taut industry interest in safety goes even farther we could barely see the fjords through the snow flurries do atypical farmers grow oats the system may break down soon so save your files frequently ralph prepared red snapper with fresh lemon sauce for dinner it's hard to tell an original from a forgery she had your dark suit in greasy wash water all year don't ask me to carry an oily rag like that powder flame gushed beneath the wagon why lacerate the  congregation not a corner has been visibly cut in this one the diagnosis was discouraging however he was not overly worried do you have the yellow ointment ready the new suburbanites worked hard on refurbishing their older home don't look for group valuables in a bank vault it's impossible to deal with bureaucracy she had your dark suit in greasy wash water all year don't ask me to carry an oily rag like that unit prices for state vehicles are invariably lower than to the general public although my shot killed his horse he rolled off the bale on top of me how do they turn out later almost all colleges are now coeducational are holiday aprons available to us i assume moisture will damage this ship's hull roy ignored the spurious data points in drawing the graph the thinker is a famous sculpture she had your dark suit in greasy wash water all year don't ask me to carry an oily rag like that nobody really expects to evacuate hiring the wife for one's company may win her taxaided retirement income new selfdeceiving rags are hurriedly tossed on the toonaked bones you must explicitly delete files the museum hires musicians every evening would you allow acts of violence rich purchased several signed lithographs growing wellkept gardens is very time consuming she had your dark suit in greasy wash water all year don't ask me to carry an oily rag like that is his appetite improved no price is too high when true love is at stake one of the most common of camp maladies was diarrhoea most precincts had a third of the votes counted a doctor was in the ambulance with the patient gregory and tom chose to watch cartoons in the afternoon iris thinks this zoo has eleven spanish zebras we experience distress and frustration obtaining our degrees she had your dark suit in greasy wash water all year don't ask me to carry an oily rag like that knows the score with a supreme effort he broke it off she asked smolderingly she must have put his clothes in the closet the haunted house was a hit due to outstanding audiovisual effects we saw eight tiny icicles below our roof a lawyer was appointed to execute her will the toddler found a clamshell near the camp site cooperation along with understanding alleviate dispute she had your dark suit in greasy wash water all year don't ask me to carry an oily rag like that they were not yet prepared to accept it as irremediable they were all faded we'll pay you back if you'll let us mosquitoes exist in warm humid climates may i order a strawberry sundae after i eat dinner todd placed top priority on getting his bike fixed once you finish greasing your chain be sure to wash thoroughly any contributions will be greatly appreciated she had your dark suit in greasy wash water all year don't ask me to carry an oily rag like that his tough honesty condemns him to a solitary and difficult existence the hotel owner shrugged maybe it's taking longer to get things squared away than the bankers expected he ate four extra eggs for breakfast the most recent geological survey found seismic activity the hood of the jeep was steaming in the hot sun stimulating discussions keep students' attention just drop notices in any suggestion box she had your dark suit in greasy wash water all year don't ask me to carry an oily rag like that blowers should be operated periodically on a regular schedule perhaps it was all a vividly conceived dream but this statement is completely unconvincing the mayan neoclassic scholar disappeared while surveying ancient ruins when peeling an orange it is hard not to spray juice most young rise early every morning the two artists exchanged autographs which church do the smiths worship in she had your dark suit in greasy wash water all year don't ask me to carry an oily rag like that it is possible to make a few generalizations about the six giants themselves only ingenuity will uncover it the crisis later on when debts seemed about to overwhelm me the drunkard is a social outcast reading in poor light gives you eyestrain the dark murky lagoon wound around for miles a crab challenged me but a quick stab vanquished him upgrade your status to reflect your wealth she had your dark suit in greasy wash water all year don't ask me to carry an oily rag like that two gas lamps were no more than a misleading glow his black hat with its wide brim high crown and fur trim rode high neither are beds thanks to air mattresses and sleeping bags too much curiosity can get you into trouble i itemize all accounts in my agency the full moon shone brightly that night move the garbage nearer to the large window the lack of heat compounded the tenant's grievances she had your dark suit in greasy wash water all year don't ask me to carry an oily rag like that but now she sank lower to the rock where were they now another brand of indefinite reference arises out of the use of the double verb lots of foreign movies have subtitles try to recall the events in chronological order shipbuilding is a most fascinating process young people participate in athletic activities children can consume many fruit candies in one sitting she had your dark suit in greasy wash water all year don't ask me to carry an oily rag like that the batting average of one success out of seven increased to one out of three she took it grudgingly her dark eyes baleful as they met his don't plan meals that are too complicated his scalp was blistered from today's hot sun alimony harms a divorced man's wealth norwegian sweaters are made of lamb's wool brush fires are common in the dry underbrush of nevada i just saw jim near the new archeological museum she had your dark suit in greasy wash water all year don't ask me to carry an oily rag like that the tapes show that the sudden solitude had lost its momentary charm and become oppressive our entire economy will have a terrific uplift technical writers can abbreviate in bibliographies keep the thermometer under your tongue bob found more clams at the ocean's edge of course you can have another tunafish sandwich addition and subtraction are learned skills she had your dark suit in greasy wash water all year don't ask me to carry an oily rag like that see he's already snapping it up the dumb jerk for a moment he felt like a thief discovered where can we get this cereal he likes so much she encouraged her children to make their own halloween costumes the jaw operates by using antagonistic muscles george seldom watches daytime movies spherical gifts are difficult to wrap flying standby can be practical if you want to save money she had your dark suit in greasy wash water all year don't ask me to carry an oily rag like that how ya gonna keep 'em down on the farm wet also were the marine's fatigues and the face had an oily film it is a big project not to be taken lightly orange juice tastes funny after toothpaste herb's birthday occurs frequently on thanksgiving often you'll get back more than you put in top zinnias rarely have crooked stems regular attendance is seldom required she had your dark suit in greasy wash water all year don't ask me to carry an oily rag like that he recognized his jacket and trousers fall slowly forward onto the hands and let the body down to rest on the floor there's never enough corn peas or strawberries whoever cooperates in finding nan's cameo will be rewarded how oily do you like your salad dressing a connoisseur will enjoy this shellfish dish a lone star shone in the early evening sky my instructions desperately need updating she had your dark suit in greasy wash water all year don't ask me to carry an oily rag like that hired hard lackeys of the warmongering capitalists when they got home at midnight she was tired out another longer strip of tinsel whipped his mouth employee layoffs coincided with the company's reorganization we're open every monday evening top zinnias rarely have crooked stems they used an aggressive policeman to flag thoughtless motorists bagpipes and bongos are musical instruments she had your dark suit in greasy wash water all year don't ask me to carry an oily rag like that to be passive to be girlishly shy was palpably absurd it gave her a lewd winking effect but to continue to divorce advanced students from reality is inexcusable westchester is a county in new york the sermon emphasized the need for affirmative action cottage cheese with chives is delicious help celebrate your brother's success i took her word for it but is she really going with you she had your dark suit in greasy wash water all year don't ask me to carry an oily rag like that and let me add utopianism also meanwhile fishermen took advantage of them to pull up whoppers they could walk ride on a bus or be driven scientific progress comes from the development of new techniques steph could barely handle the psychological trauma that dog chases cats mercilessly there was a gigantic wasp next to irving's big top hat that pickpocket was caught redhanded she had your dark suit in greasy wash water all year don't ask me to carry an oily rag like that we now generalize these ideas for general binomial experiments the enemy did not veer what targets have we successfully knocked out whoever cooperates in finding nan's cameo will be rewarded how oily do you like your salad dressing a connoisseur will enjoy this shellfish dish a lone star shone in the early evening sky my instructions desperately need updating she had your dark suit in greasy wash water all year don't ask me to carry an oily rag like that this may be of overriding importance in considering military objectives we're going someplace why said the teacher art thou so late mosquitoes exist in warm humid climates may i order a strawberry sundae after i eat dinner todd placed top priority on getting his bike fixed once you finish greasing your chain be sure to wash thoroughly any contributions will be greatly appreciated she had your dark suit in greasy wash water all year don't ask me to carry an oily rag like that each of us had his own specialty besides his technique is ample and his musical ideas are projected beautifully does your policy have a layup clause our experiment's positive outcome was unexpected how ancient is this subway escalator rob made hungarian goulash for dinner and gooseberry pie for dessert a moth zigzagged along the path through otto's garden we got drenched from the uninterrupted rain she had your dark suit in greasy wash water all year don't ask me to carry an oily rag like that and the surface is driven back in its very surfaceness only by this contrast you came well equipped to die the decking is quarterinch mahogany marine plywood mosquitoes exist in warm humid climates may i order a strawberry sundae after i eat dinner todd placed top priority on getting his bike fixed once you finish greasing your chain be sure to wash thoroughly any contributions will be greatly appreciated she had your dark suit in greasy wash water all year don't ask me to carry an oily rag like that but we aren't going to let you give him any this truth that the moral law is natural has other important corollaries he doesn't want her to look frowningly at him or speak to him angrily westchester is a county in new york the sermon emphasized the need for affirmative action cottage cheese with chives is delicious help celebrate your brother's success i took her word for it but is she really going with you she had your dark suit in greasy wash water all year don't ask me to carry an oily rag like that this is nevertheless a minority view he remembered the last time he had eaten  actual eggs from an actual pan the trial balloons are afloat the willowy woman wore a muskrat coat the paper boy bought two apples and three ices the local drugstore was charged with illegally dispensing tranquilizers irish youngsters eat fresh kippers for breakfast the eastern coast is a place for pure pleasure and excitement she had your dark suit in greasy wash water all year don't ask me to carry an oily rag like that to use these new ways in daily life is the last step we're lost and burning up already she bit out tensely in the winter hibachi in the kitchen or grill over the logs of the fireplace his sudden departure shocked the cast approach your interview with statuesque composure alfalfa is healthy for you the avalanche triggered a minor earthquake we welcome many new students each year she had your dark suit in greasy wash water all year don't ask me to carry an oily rag like that tiny bodies dropped onto a dry leaf made a pile as big as a small apple they'll tell you what's cooking well there are other things to do right now buying a thoroughbred horse requires intuition and expertise withdraw only as much money as you need diane may splurge and buy a turquoise necklace thomas thinks a larger clamp solves the problem hispanic costumes are quite colorful she had your dark suit in greasy wash water all year don't ask me to carry an oily rag like that the problem of solidarity and morale again involves the concept of values what's your name anyway promptly at seven he would clatter out of the court with twelve in the tallyho would a tomboy often play outdoors john's brother repainted the garage door will you please confirm government policy regarding waste removal bright sunshine shimmers on the ocean masquerade parties tax one's imagination she had your dark suit in greasy wash water all year don't ask me to carry an oily rag like that they're doin' it now was she just naturally sloppy about everything but her physical appearance nine of them had gone down the gangplank already the easygoing zoologist relaxed throughout the voyage my ideal morning begins with hot coffee trish saw hours and hours of movies saturday the rich should invest in black zircons instead of stylish shoes fill that canteen with fresh spring water she had your dark suit in greasy wash water all year don't ask me to carry an oily rag like that the thought came back the one nagging at him these past four days in most cases we recognize certain words persons animals or objects if you do go to it how would you evaluate this algebraic expression tornados often destroy acres of farm land the meeting is now adjourned that stinging vapor was caused by chloride vaporization will you please describe the idiotic predicament she had your dark suit in greasy wash water all year don't ask me to carry an oily rag like that they find deep pessimism in them tragedy presumes such a configuration she drank greedily and murmured thank you as he lowered her head most precincts had a third of the votes counted a doctor was in the ambulance with the patient gregory and tom chose to watch cartoons in the afternoon iris thinks this zoo has eleven spanish zebras we experience distress and frustration obtaining our degrees she had your dark suit in greasy wash water all year don't ask me to carry an oily rag like that between meetings he helps the president keep track of delegated matters not immediately as the deputy demanded we are all involved in them deeply involved lots of foreign movies have subtitles try to recall the events in chronological order shipbuilding is a most fascinating process young people participate in athletic activities children can consume many fruit candies in one sitting she had your dark suit in greasy wash water all year don't ask me to carry an oily rag like that he smashed it in and tumbled into darkness how safe is too safe the highest rated nonsupervisory engineering title is research engineer most precincts had a third of the votes counted a doctor was in the ambulance with the patient gregory and tom chose to watch cartoons in the afternoon iris thinks this zoo has eleven spanish zebras we experience distress and frustration obtaining our degrees she had your dark suit in greasy wash water all year don't ask me to carry an oily rag like that this is no assignment for a frivolous girl she assures him a third shot doused the light we seemed to be witnessing the population explosion right in our own backyards as coauthors we presented our new book to the haughty audience the boston ballet overcame their funding shortage ducks have webbed feet and colorful feathers those who are not purists use canned vegetables when making stew did you eat yet she had your dark suit in greasy wash water all year don't ask me to carry an oily rag like that he had accordingly cultivated eccentricity to the point of second nature it looks like we did when we made blastdown contrast trim provides other touches of color clasp the screw in your left hand when peeling an orange it is hard not to spray juice most young rise early every morning the two artists exchanged autographs which church do the smiths worship in she had your dark suit in greasy wash water all year don't ask me to carry an oily rag like that whether historically a fact or not the legend has a certain symbolic value he strolled back to the door whistling softly hands still clasped behind him then after a while she went to her mirror the coyote bobcat and hyena are wild animals jeff's toy gocart never worked get a calico cat to keep amoebas change shape constantly he picked up nine pairs of socks for each brother she had your dark suit in greasy wash water all year don't ask me to carry an oily rag like that boy you're stirrin early a sleepy voice said his fingers felt absurdly thick and clumsy it is well liked by the children and faculty buying a thoroughbred horse requires intuition and expertise withdraw only as much money as you need diane may splurge and buy a turquoise necklace thomas thinks a larger clamp solves the problem hispanic costumes are quite colorful she had your dark suit in greasy wash water all year don't ask me to carry an oily rag like that surely there is nothing new about communism you lucky kids he said the keelson made of two threeinch widths is next installed while waiting for chipper she crisscrossed the square many times puree some fruit before preparing the skewers chip postponed alimony payments until the latest possible date the football team coach has a watch thin as a dime the singer's finger had a splinter she had your dark suit in greasy wash water all year don't ask me to carry an oily rag like that he brought her shawls in fact nobody saw us cop or citizen jokes cartoons and cynics to the contrary mothersinlaw make good friends why else would danny allow others to go the angry boy answered but didn't look up the patient and the surgeon are both recuperating from the lengthy operation the cow wandered from the farmland and became lost cut a small corner off each edge she had your dark suit in greasy wash water all year don't ask me to carry an oily rag like that he holds that goodness and badness lie in feelings of approval or disapproval whatever you tell him he will dive faces may be made into candles by filling with melted wax and a wick pledge to participate in nevada's aquatic competition i honor my mom the groundhog clearly saw his shadow but stayed out only a moment butterscotch fudge goes well with vanilla ice cream ambidextrous pickpockets accomplish more she had your dark suit in greasy wash water all year don't ask me to carry an oily rag like that somebody'll hafta start thinkin who would take over but why is it necessary to reproduce the retinal image within the brain the mayan neoclassic scholar disappeared while surveying ancient ruins remember to allow identical twins to enter freely many wealthy tycoons splurged and bought both a yacht and a schooner the advertising verse of plymouth variety store never changes it's illegal to postdate a check she had your dark suit in greasy wash water all year don't ask me to carry an oily rag like that did he ever visit here when he was a kid suppose he ran up the white flag altogether she served for a number of years without pay beyond her travel and maintenance would a tomboy often play outdoors john's brother repainted the garage door will you please confirm government policy regarding waste removal bright sunshine shimmers on the ocean masquerade parties tax one's imagination she had your dark suit in greasy wash water all year don't ask me to carry an oily rag like that in the course of its inquiry it took testimony from only seven witnesses his eyes burned feverishly so we note approvingly a fresh sample of unanimity buying a thoroughbred horse requires intuition and expertise withdraw only as much money as you need diane may splurge and buy a turquoise necklace thomas thinks a larger clamp solves the problem hispanic costumes are quite colorful she had your dark suit in greasy wash water all year don't ask me to carry an oily rag like that then the choreographer must arbitrate two other cases also were under advisement the straight line would symbolize its uniqueness the circle of universality would a tomboy often play outdoors john's brother repainted the garage door will you please confirm government policy regarding waste removal bright sunshine shimmers on the ocean masquerade parties tax one's imagination she had your dark suit in greasy wash water all year don't ask me to carry an oily rag like that how do we define it she always did before and showed the utmost confidence in whatever we advised this he added brought about petty jealousies and petty personal grievances trespassing is forbidden and subject to penalty only the best players enjoy popularity we like bleu cheese but victor prefers swiss cheese a good attitude is unbeatable they all like long hot showers she had your dark suit in greasy wash water all year don't ask me to carry an oily rag like that research into several cultures has proven her position to be a mistaken one but it did print good verse and good fiction he kissed her also and with deep tenderness her auburn hair reminded him of autumn leaves the gorgeous butterfly ate a lot of nectar take charge of choosing her bride's maids' gowns coffee is grown on steep junglelike slopes in temperate zones spring street is straight ahead she had your dark suit in greasy wash water all year don't ask me to carry an oily rag like that to what extent such low density applies to micrometeorites is unknown he moistened his lips uneasily the cloudburst cut off abruptly most precincts had a third of the votes counted a doctor was in the ambulance with the patient gregory and tom chose to watch cartoons in the afternoon iris thinks the zoo has eleven spanish zebras we experience distress and frustration obtaining our degrees she had your dark suit in greasy wash water all year don't ask me to carry an oily rag like that they often threw tidbits overboard virus infection nothing she'd scream at him crooked overlapping twisted or widely spaced teeth westchester is a county in new york the sermon emphasized the need for affirmative action cottage cheese with chives is delicious help celebrate your brother's success i took her word for it but is she really going with you she had your dark suit in greasy wash water all year don't ask me to carry an oily rag like that the blow encountered silky hair and hard bone you feel him every mile further away look for these features which may mean you can save duplicate coverage the water contained too much chlorine and stung his eyes does hindu ideology honor cows gus saw pine trees and redwoods on his walk through sequoia national forest movies never have enough villains challenge each general's intelligence she had your dark suit in greasy wash water all year don't ask me to carry an oily rag like that the fear of punishment just didn't bother him is there any word you would like to offer in your own defense put a dollarandcents limit on benefits scientific progress comes from the development of new techniques steph could barely handle the psychological trauma that dog chases cats mercilessly there was a gigantic wasp next to irving's big top hat that pickpocket was caught redhanded she had your dark suit in greasy wash water all year don't ask me to carry an oily rag like that you could also say that in these pamphlets is a relieving quality of maturity there was a thick squashy crack of fist on flesh how will we work it out her auburn hair reminded him of autumn leaves the gorgeous butterfly ate a lot of nectar take charge of choosing her bride's maids' gowns coffee is grown on steep junglelike slopes in temperate zones spring street is straight ahead she had your dark suit in greasy wash water all year don't ask me to carry an oily rag like that they were pursuing him his legs pumped furiously his long black hair streamed out behind him yes ma'am it sure was we could barely see the fjords through the snow flurries do atypical farmers grow oats the system may break down soon so save your files frequently ralph prepared red snapper with fresh lemon sauce for dinner it's hard to tell an original from a forgery she had your dark suit in greasy wash water all year don't ask me to carry an oily rag like that and their chroniclers are not the dramatic poets but the prose novelists my dress needs some work on it but that explanation is only partly true the previous speaker presented ambiguous results the hallway opens into a huge chamber the big dog loved to chew on the old rag doll those who teach values first abolish cheating chocolate and roses never fail as a romantic gift she had your dark suit in greasy wash water all year don't ask me to carry an oily rag like that of particular importance is the study of the actions of drugs in this respect forget we ever knew what milk appears twice a day rich looked for spotted hyenas and jaguars on the safari be careful not to plow over the flower beds the speech symposium might begin monday the thick elm forest was nearly overwhelmed by dutch elm disease the misprint provoked an immediate disclaimer she had your dark suit in greasy wash water all year don't ask me to carry an oily rag like that the word also made him feel hate sincere hate for those so labeled but it was a hopeful sign he told himself he snatched at it savagely biologists use radioactive isotopes to study microorganisms the irate actor stomped away idiotically the barracuda recoiled from the serpent's poisonous fangs please sing just the club theme gently place jim's foam sculpture in the box she had your dark suit in greasy wash water all year don't ask me to carry an oily rag like that do you always navigate like this take your cobbler's shop somewhere else i'm going to search this house the mayan neoclassic scholar disappeared while surveying ancient ruins remember to allow identical twins to enter freely many wealthy tycoons splurged and bought both a yacht and a schooner the advertising verse of plymouth variety store never changes it's illegal to postdate a check she had your dark suit in greasy wash water all year don't ask me to carry an oily rag like that to honor him is to honor ourselves the wagons were burning fiercely he may have a point in urging that decadent themes be given fewer prizes the haunted house was a hit due to outstanding audiovisual effects we saw eight tiny icicles below our roof a lawyer was appointed to execute her will the toddler found a clamshell near the camp site cooperation along with understanding alleviate dispute she had your dark suit in greasy wash water all year don't ask me to carry an oily rag like that instead of that he was engulfed by bedlam teaching guides are included with each record he is not talking in the main about probabilities risks and danger in general a screwdriver is made from vodka and orange juice the news agency hired a great journalist the bluejay flew over the high building coconut cream pie makes a nice dessert she uses both names interchangeably she had your dark suit in greasy wash water all year don't ask me to carry an oily rag like that neither acknowledged the gift in these damp circumstances he was an oddson bet to develop pneumonia however this inaugural feast did its sponsors no good whatever scholastic aptitude is judged by standardized tests they all agree that the essay is barely intelligible did dad do academic bidding smash lightbulbs and their cash value will diminish to nothing continental drift is a geological theory she had your dark suit in greasy wash water all year don't ask me to carry an oily rag like that nor were his manners barbaric if we left one we'd have to wipe it for fingerprints it helps those people who help themselves rich looked for spotted hyenas and jaguars on the safari be careful not to plow over the flower beds the speech symposium might begin monday the thick elm forest was nearly overwhelmed by dutch elm disease the misprint provoked an immediate disclaimer she had your dark suit in greasy wash water all year don't ask me to carry an oily rag like that xray films of the vertebral column showed progression of the demineralization each plane carried two fivehundred pound bombs it was muscular but it wasn't symmetrical they remain lifelong friends and companions by eating yogurt you may live longer the frightened child was gently subdued by his big brother the overweight charmer could slip poison into anyone's tea cliff's display was misplaced on the screen she had your dark suit in greasy wash water all year don't ask me to carry an oily rag like that necessary retouching was put on at once he straightened up alert now as the buffalo hunter came closer don't lose the chuck key our experiment's positive outcome was unexpected how ancient is this subway escalator rob made hungarian goulash for dinner and gooseberry pie for dessert a moth zigzagged along the path through otto's garden we got drenched from the uninterrupted rain she had your dark suit in greasy wash water all year don't ask me to carry an oily rag like that can thermonuclear war be set off by accident it latches when you close it so stay as long as you like davy mathews it's disgusting the way you're always eating our experiment's positive outcome was unexpected how much allowance do you get how ancient is this subway escalator a moth zigzagged along the path through otto's garden we got drenched from the uninterrupted rain she had your dark suit in greasy wash water all year don't ask me to carry an oily rag like that the battery median gradeequivalent was used in data analysis in this study like as if it were built of books have a testrun on the family first to be sure timing and seasoning are right birthday parties have cupcakes and ice cream carl lives in a lively home draw each graph on a new axis in the long run it pays to buy quality clothing she always jokes about too much garlic in his food she had your dark suit in greasy wash water all year don't ask me to carry an oily rag like that to keep 'em scattered somewhat and yet herd 'em was called loose herdin' your leg muscles and back muscles feel weary one species of ambiguity tries to baffle by interweaving repetition clasp the screw in your left hand when peeling an orange it is hard not to spray juice most young rise early every morning the two artists exchanged autographs which church do the smiths worship in she had your dark suit in greasy wash water all year don't ask me to carry an oily rag like that as such it acts as an anchor for the people two cars came over a crest their chrome and glass flashing this changes the formula to an equation thick glue oozed out of the tube allow each child to have an ice pop the annoying raccoons slipped into phil's garden every night in developing film many toxic chemicals are used a large household needs lots of appliances she had your dark suit in greasy wash water all year don't ask me to carry an oily rag like that these curves were derived by an analysis of extensive skywave measurement data what did you mean by that rattlesnake gag satellites sputniks rockets balloons what next a screwdriver is made from vodka and orange juice the news agency hired a great journalist the bluejay flew over the high building coconut cream pie makes a nice dessert she uses both names interchangeably she had your dark suit in greasy wash water all year don't ask me to carry an oily rag like that the same shelter could be built into an embankment or below ground level ten years ago they blew up some of our ditches far more frequently overeating is a result of a psychological compulsion his sudden departure shocked the cast approach your interview with statuesque composure alfalfa is healthy for you the avalanche triggered a minor earthquake we welcome many new students each year she had your dark suit in greasy wash water all year don't ask me to carry an oily rag like that that doctrine has been accepted by many but has it produced good results the clerk's eyes flickered mollusks are a case in point most precincts had a third of the votes counted a doctor was in the ambulance with the patient gregory and tom chose to watch cartoons in the afternoon iris thinks this zoo has eleven spanish zebras we experience distress and frustration obtaining our degrees she had your dark suit in greasy wash water all year don't ask me to carry an oily rag like that our aim must be to learn as much as we teach or maybe you just don't feel like a cigar such a calm and assuring peace can be yours encyclopedias seldom present anecdotal evidence i gave them several choices and let them set the priorities tofu is made from processed soybeans it's fun to roast marshmallows on a gas burner a young mouse scampered across the field and disappeared she had your dark suit in greasy wash water all year don't ask me to carry an oily rag like that he chuckled the memory vivid why put such a high value on being top dog any retaliatory gas attack would be airborne they remained lifelong friends and companions by eating yogurt you may live longer the frightened child was gently subdued by his big brother the overweight charmer could slip poison into anyone's tea cliff's display was misplaced on the screen she had your dark suit in greasy wash water all year don't ask me to carry an oily rag like that have we not actually developed idea worship no other visitor inquired for her that evening are planning and strategy development emphasized sufficiently in your company too much curiosity can get you into trouble i itemize all accounts in my agency the full moon shone brightly that night move the garbage nearer to the large window the lack of heat compounded the tenant's grievances she had your dark suit in greasy wash water all year don't ask me to carry an oily rag like that quince seed gum is the main ingredient in wavesetting lotions this coat looks like a rag heap all that time rifle barrels were pointing unwaveringly at his head and body a huge tapestry hung in her hallway a roll of wire lay near the wall how do oysters make pearls in every major cloverleaf traffic sometimes gets backed up women may never become completely equal to men she had your dark suit in greasy wash water all year don't ask me to carry an oily rag like that the failure to keep these two usages distinct presents hazards to the reader shall we teach him some but problems cling to pools as any pool owner knows the government sought authorization of his citizenship i ate every oyster on nora's plate did shawn catch that big goose without help a toothpaste tube should be squeezed from the bottom eat your raisins outdoors on the porch steps she had your dark suit in greasy wash water all year don't ask me to carry an oily rag like that they also furnish proof that in modern war message sending must be monitored it was a grotesque hen five or six feet tall now maybe they'd realize that life can be tough a screwdriver is made from vodka and orange juice the news agency hired a great journalist the bluejay flew over the high building coconut cream pie makes a nice dessert she uses both names interchangeably she had your dark suit in greasy wash water all year don't ask me to carry an oily rag like that no one will even suspect that it is your work he had never felt particularly close to her sprouted grains and seeds are used in salads and dishes such as chop suey almost all colleges are now coeducational are holiday aprons available to us i assume moisture will damage this ship's hull roy ignored the spurious data points in drawing the graph the thinker is a famous sculpture she had your dark suit in greasy wash water all year don't ask me to carry an oily rag like that the single curve line represents a specific formulation in a test example she was so beautiful so valiant so pitiable what it does aids in preventing foamy bloat you must explicitly delete files the museum hires musicians every evening would you allow acts of violence rich purchased several signed lithographs growing wellkept gardens is very time consuming she had your dark suit in greasy wash water all year don't ask me to carry an oily rag like that the elementaryschool child grows gradually in his ability to work in groups he didn't tell her the truth he now freely admitted to himself turn shaker upside down technical writers can abbreviate in bibliographies keep the thermometer under your tongue bob found more clams at the ocean's edge of course you can have another tunafish sandwich addition and subtraction are learned skills she had your dark suit in greasy wash water all year don't ask me to carry an oily rag like that a slug had torn half of his stirrupguard away it motivates his behavior you're so preoccupied that you've let your faith grow dim as coauthors we presented our new book to the haughty audience the boston ballet overcame their funding shortage ducks have webbed feet and colorful feathers those who are not purists use canned vegetables when making stew did you eat yet she had your dark suit in greasy wash water all year don't ask me to carry an oily rag like that flaxseed poultices and mustard plasters still are used by some persons add things as you find you need 'em be careful that you keep adequate coverage but look for places to save money his sudden departure shocked the cast approach your interview with statuesque composure alfalfa is healthy for you the avalanche triggered a minor earthquake we welcome many new students each year she had your dark suit in greasy wash water all year don't ask me to carry an oily rag like that sometimes although by no means always these are indeed alkaline he may try to phone us but from the start they had two important ingredients sincerity and realism remove the splinter with a pair of tweezers the cigarettes in the clay ashtray overflowed onto the oak table bob bandaged both wounds with the skill of a doctor every cab needs repainting often last year's gas shortage caused steep price increases she had your dark suit in greasy wash water all year don't ask me to carry an oily rag like that let him become honest and they discard him the buddies invariably took advantage of him the bristles are soft enough to massage the gums and not scratch the enamel the coyote bobcat and hyena are wild animals jeff's toy gocart never worked amoebas change shape constantly the groundhog clearly saw his shadow but stayed out only a moment he picked up nine pairs of socks for each brother she had your dark suit in greasy wash water all year don't ask me to carry an oily rag like that in the pity for them his loneliness was gone watch it big shot a hoarse voice yelled back some make beautiful chairs cabinets chests doll houses etc a huge tapestry hung in her hallway a roll of wire lay near the wall in every major cloverleaf traffic sometimes gets backed up women may never become completely equal to men the overweight charmer could slip poison into anyone's tea she had your dark suit in greasy wash water all year don't ask me to carry an oily rag like that no amount of ballyhoo will cover up the sordid facts if she moved gracefully she was clumsy at it and you think you have language problems which long article was opaque and needed clarification his failure to open the store by eight cost him his job a leather handbag would be a suitable gift gwen planted green beans in her vegetable garden her classical performance gained critical acclaim she had your dark suit in greasy wash water all year don't ask me to carry an oily rag like that radio reception is cut down by the shielding necessary to keep out radiation it cost us a hundred thousand dollars and thirty days lost time to fix them just what is meant by spirit and by matter tugboats are capable of hauling huge loads how much allowance do you get when all else fails use force these exclusive documents must be locked up at all times george is paranoid about a future gas shortage she had your dark suit in greasy wash water all year don't ask me to carry an oily rag like that to hold 'em in a compact mass was close herdin' if it ever got behind me the beep turned to a buzz another stock vaudeville gag ran mother is home sick in bed with the doctor the mango and the papaya are in a bowl do you hear the sleigh bells ringing did dad do academic bidding rockandroll music has a great rhythm the giant redwoods shimmered in the glistening sun she had your dark suit in greasy wash water all year don't ask me to carry an oily rag like that the record teems with romance and adventure except for those minutes in her room he had lost touch with her as a reality we must be ready for any needed sacrifice angora cats are furrier than siamese nonprofit organizations have frequent fund raisers the proof that you are seeking is not available in books barb's gold bracelet was a graduation present they assume no burglar will ever enter here she had your dark suit in greasy wash water all year don't ask me to carry an oily rag like that are you positive you'll be all right by yourself one of the most desirable features for park are beautiful views or scenery a vigorous program existed in skiing skating sports and overnight hiking why else would danny allow others to go the angry boy answered but didn't look up this was easy for us the cow wandered from the farmland and became lost cut a small corner off each edge she had your dark suit in greasy wash water all year don't ask me to carry an oily rag like that ain't she beauty though do you know where might have gone that is only partly nonnonsense he began we plan to build a new beverage plant cory attacked the project with extra determination my desires are simple give me one informative paragraph on the subject taxicab broke down and caused a traffic jam etiquette mandates compliance with existing regulations she had your dark suit in greasy wash water all year don't ask me to carry an oily rag like that in time she presents her aristocratic husband with a coalblack child so would radar picket ships suppose you tell me the real reason he drawled while waiting for chipper she crisscrossed the square many times puree some fruit before preparing the skewers chip postponed alimony payments until the latest possible date the football team coach has a watch thin as a dime the singer's finger had a splinter she had your dark suit in greasy wash water all year don't ask me to carry an oily rag like that we hope that he will execute it in a manner that will entitle him to credit behind him his mates stirred without waking steam baths writes do steam baths have any health value trespassing is forbidden and subject to penalty only the best players enjoy popularity we like bleu cheese but victor prefers swiss cheese a good attitude is unbeatable they all like long hot showers she had your dark suit in greasy wash water all year don't ask me to carry an oily rag like that beverages are made from seeds the world over you've not seemed like them but maybe you are perhaps one bored holes in the stone with some kind of an electric gadget tugboats are capable of hauling huge loads how much allowance do you get when all else fails use force these exclusive documents must be locked up at all times george is paranoid about a future gas shortage she had your dark suit in greasy wash water all year don't ask me to carry an oily rag like that he reached out and felt the bath towel hanging on the towel rack over the tub there was no hint of a violent struggle now you're afraid to talk to a guy you idolize orange juice tastes funny after toothpaste herb's birthday occurs frequently on thanksgiving often you'll get back more than you put in top zinnias rarely have crooked stems regular attendance is seldom required she had your dark suit in greasy wash water all year don't ask me to carry an oily rag like that they did not know who they were or know their own worth shivering he put on his clothes then again there's always that lovely old pastime of hooking or braiding rugs you must explicitly delete files the museum hires musicians every evening would you allow acts of violence rich purchased several signed lithographs growing wellkept gardens is very time consuming she had your dark suit in greasy wash water all year don't ask me to carry an oily rag like that his technique is genuinely masterful mike was of legal age and presumed able to defend himself in the clinches his first glimpse of the ranch house across the brushy swells told him nothing you must explicitly delete files the museum hires musicians every evening would you allow acts of violence rich purchased several signed lithographs growing wellkept gardens is very time consuming she had your dark suit in greasy wash water all year don't ask me to carry an oily rag like that within a month calls were up seventy per cent he crossed the next meadow and climbed a tree where the jungle trail resumed ease in any extra fullness evenly around correct execution of my instructions is crucial the courier was a dwarf al received a joint appointment in the biology and the engineering departments valley lodge yearly celebrates the first calf born the prowler wore a ski mask for disguise she had your dark suit in greasy wash water all year don't ask me to carry an oily rag like that the figure in the corner belched loudly a deep liquid eruption oh no not again he said aloud you're having a miserable time aren't you remove the splinter with a pair of tweezers the cigarettes in the clay ashtray overflowed onto the oak table bob bandaged both wounds with the skill of a doctor every cab needs repainting often last year's gas shortage caused steep price increases she had your dark suit in greasy wash water all year don't ask me to carry an oily rag like that these were thought to represent regenerating fibers although they drew light ground fire they saw no signs of activity pansies are gluttons biologists use radioactive isotopes to study microorganisms the irate actor stomped away idiotically the barracuda recoiled from the serpent's poisonous fangs please sing just the club theme gently place jim's foam sculpture in the box she had your dark suit in greasy wash water all year don't ask me to carry an oily rag like that the population can thereby replenish itself and actually grow larger anyway it was evident what he had in mind then simmer fifteen minutes longer they often go out in the evening al received a joint appointment in the biology and the engineering departments the surplus shoes were sold at a discount price nothing is as offensive as innocence penguins live near the icy antarctic she had your dark suit in greasy wash water all year don't ask me to carry an oily rag like that yet one has to go back only some sixty years he murmured to himself with firmness no surrender nor is she a wet boat most precincts had a third of the votes counted a doctor was in the ambulance with the patient gregory and tom chose to watch cartoons in the afternoon iris thinks this zoo has eleven spanish zebras we experience distress and frustration obtaining our degrees she had your dark suit in greasy wash water all year don't ask me to carry an oily rag like that everything in the final analysis reduced itself to sexual symbolism the poor unlucky  the telephone rang so if anybody solicits by phone make sure you mail the dough to the above clasp the screw in your left hand when peeling an orange it is hard not to spray juice most young rise early every morning the two artists exchanged autographs which church do the smiths worship in she had your dark suit in greasy wash water all year don't ask me to carry an oily rag like that the bacteria formed typical activated sludge floc maybe some other day in a new house generous roof overhangs are a logical and effective solution the diagnosis was discouraging however he was not overly worried do you have the yellow ointment ready the new suburbanites worked hard on refurbishing their older home don't look for group valuables in a bank vault it's impossible to deal with bureaucracy she had your dark suit in greasy wash water all year don't ask me to carry an oily rag like that a foolish thought came into his head we'll work for our keep the boy said eagerly what explains this unidirectional paralysis while waiting for chipper she crisscrossed the square many times puree some fruit before preparing the skewers chip postponed alimony payments until the latest possible date the football team coach has a watch thin as a dime the singer's finger had a splinter she had your dark suit in greasy wash water all year don't ask me to carry an oily rag like that we have nothing to hide under a bushel c'mon he whispered four levels about three feet down so don't fall it is one of the rare public ventures here on which nearly everyone is agreed does creole cooking use curry draw every outer line first then fill in the interior the moisture in my eyes is from eyedrops not from tears first add milk to the shredded cheese primitive tribes have an upbeat attitude she had your dark suit in greasy wash water all year don't ask me to carry an oily rag like that this girl soon drops the bourgeoisie psychiatrist who disapproves of her life it was not whatever tale was told by tails he had not covered a hundred yards before a gun crashed from somewhere behind the cartoon features a muskrat and a tadpole even i occasionally get the monday blues although always alone we survive should giraffes be kept in small zoos please shorten this skirt for joyce she had your dark suit in greasy wash water all year don't ask me to carry an oily rag like that they moved toward the skiffs with shocking eagerness elbowing and shoving how's your sunburn now what had been the ambassador's suite was now jagged walls of blackened brick the government sought authorization of his citizenship i ate every oyster on nora's plate did shawn catch that big goose without help a toothpaste tube should be squeezed from the bottom eat your raisins outdoors on the porch steps she had your dark suit in greasy wash water all year don't ask me to carry an oily rag like that the cowboy called this breed of cattle magpies in most discussions of this phenomenon the figures are substantially inflated then he would realize they were really things that only he himself could think the coyote bobcat and hyena are wild animals jeff's toy gocart never worked get a calico cat to keep amoebas change shape constantly he picked up nine pairs of socks for each brother she had your dark suit in greasy wash water all year don't ask me to carry an oily rag like that a domestic automatic washer that will give equivalent results may be used he'd had no idea how unhappy his sweet peach had been drug's chemical name dried rumen bacteria his scalp was blistered from today's hot sun alimony harms a divorced man's wealth norwegian sweaters are made of lamb's wool brush fires are common in the dry underbrush of nevada i just saw jim near the new archeological museum she had your dark suit in greasy wash water all year don't ask me to carry an oily rag like that oh  we managed she said he took a big swig of his drink a cardboard pattern cut to fit inside holder will help to prevent warping which long article was opaque and needed clarification his failure to open the store by eight cost him his job a leather handbag would be a suitable gift gwen planted green beans in her vegetable garden her classical performance gained critical acclaim she had your dark suit in greasy wash water all year don't ask me to carry an oily rag like that intelligence jabbed at him accusingly why the hell didn't you come out when you saw them gang up on me then came coconuts eggs and rice wine they remained lifelong friends and companions by eating yogurt you may live longer the frightened child was gently subdued by his big brother the overweight charmer could slip poison into anyone's tea cliff's display was misplaced on the screen she had your dark suit in greasy wash water all year don't ask me to carry an oily rag like that ten others made no reply you could burn down this whole mountainside with a fire that size the orchestra was obviously on its mettle and it played most responsively thick glue oozed out of the tube allow each child to have an ice pop the annoying raccoons slipped into phil's garden every night in developing film many toxic chemicals are used a large household needs lots of appliances she had your dark suit in greasy wash water all year don't ask me to carry an oily rag like that the wheel of social life spun around the royal or aristocratic centre her eyes were glazed as if she didn't hear or even see him yet the spirit which lives in community is not identical with the community cyclical programs will never compile clear pronunciation is appreciated steve collects rare and novel coins a huge power outage rarely occurs academic aptitude guarantees your diploma she had your dark suit in greasy wash water all year don't ask me to carry an oily rag like that such an animal was said to be mealynosed in news items a man is less often shot in the body or head than in the suburbs if you destroy confidence in banks you do something to the economy he said a screwdriver is made from vodka and orange juice the news agency hired a great journalist the bluejay flew over the high building coconut cream pie makes a nice dessert she uses both names interchangeably she had your dark suit in greasy wash water all year don't ask me to carry an oily rag like that individual human strength is needed to pit against an inhuman condition soak up local color where do you put the lighter fluid ha ha the willowy woman wore a muskrat coat the paper boy bought two apples and three ices the local drugstore was charged with illegally dispensing tranquilizers irish youngsters eat fresh kippers for breakfast the eastern coast is a place for pure pleasure and excitement she had your dark suit in greasy wash water all year don't ask me to carry an oily rag like that how much and how many profits could a majority take out of the losses of a few they were already swollen to bursting make a paste of brown sugar and mustard and spread lightly over scored surface a screwdriver is made from vodka and orange juice the news agency hired a great journalist the bluejay flew over the high building coconut cream pie makes a nice dessert she uses both names interchangeably she had your dark suit in greasy wash water all year don't ask me to carry an oily rag like that he stared at the far morning expecting a pendulum to swing across the horizon why should this suddenly assail her this means either cars or trucks the drunkard is a social outcast reading in poor light gives you eyestrain the dark murky lagoon wound around for miles a crab challenged me but a quick stab vanquished him upgrade your status to reflect your wealth she had your dark suit in greasy wash water all year don't ask me to carry an oily rag like that he waited until they were inside the elevator and then said now what do we do her face turned pink with pleasure and a smothered cough another put sex on a dollarsandcents basis clasp the screw in your left hand when peeling an orange it is hard not to spray juice most young rise early every morning the two artists exchanged autographs which church do the smiths worship in she had your dark suit in greasy wash water all year don't ask me to carry an oily rag like that but it must be remembered that the plan should not be oriented geographically let's hope we come to a safer place you need answers to four important questions buying a thoroughbred horse requires intuition and expertise withdraw only as much money as you need diane may splurge and buy a turquoise necklace thomas thinks a larger clamp solves the problem hispanic costumes are quite colorful she had your dark suit in greasy wash water all year don't ask me to carry an oily rag like that infectious hepatitis he shouted heartily now don't tell me what a good ball player you are now a distinguished old man called on nine divinities to come and join us biologists use radioactive isotopes to study microorganisms the irate actor stomped away idiotically the barracuda recoiled from the serpent's poisonous fangs please sing just the club theme gently place jim's foam sculpture in the box she had your dark suit in greasy wash water all year don't ask me to carry an oily rag like that quite often honeybees form a majority on the willow catkins like enough we'll all be up on top by sundown the new birth is immediate and instantaneous the water contained too much chlorine and stung his eyes does hindu ideology honor cows gus saw pine trees and redwoods on his walk through sequoia national forest movies never have enough villains challenge each general's intelligence she had your dark suit in greasy wash water all year don't ask me to carry an oily rag like that several factors contributed to this change she greeted her husband's colleagues with smiling politeness offering nothing he saw a pintsized man with a graying spade beard and an unusually large head the emperor had a mean temper how permanent are their records the meeting is now adjourned critical equipment needs proper maintenance tim takes sheila to see movies twice a week she had your dark suit in greasy wash water all year don't ask me to carry an oily rag like that afraid you'll lose your job if you don't keep your mouth shut some observers speculated that this might be his revenge on his home town push back up and repeat our experiment's positive outcome was unexpected how ancient is this subway escalator rob made hungarian goulash for dinner and gooseberry pie for dessert a moth zigzagged along the path through otto's garden we got drenched from the uninterrupted rain she had your dark suit in greasy wash water all year don't ask me to carry an oily rag like that by the look of him he wasn't that far gone were you in love with that girl here they did not need to be in ghettos scholastic aptitude is judged by standardized tests they all agree that the essay is barely intelligible an adult male baboon's teeth are not suitable for eating shellfish smash lightbulbs and their cash value will diminish to nothing continental drift is a geological theory she had your dark suit in greasy wash water all year don't ask me to carry an oily rag like that our successors will have an easier task his artistic accomplishments guaranteed him entry into any social gathering they're going to louse me up good rich looked for spotted hyenas and jaguars on the safari be careful not to plow over the flower beds the speech symposium might begin monday the thick elm forest was nearly overwhelmed by dutch elm disease the misprint provoked an immediate disclaimer she had your dark suit in greasy wash water all year don't ask me to carry an oily rag like that he will say that our country is even now a homogeneous community with her sharp tongue she'd have cut his pompousness to ribbons suddenly my reflexes are gone encyclopedias seldom present anecdotal evidence i gave them several choices and let them set the priorities tofu is made from processed soybeans it's fun to roast marshmallows on a gas burner a young mouse scampered across the field and disappeared she had your dark suit in greasy wash water all year don't ask me to carry an oily rag like that can't seem to locate landmarks in this snow to prepare mustard cream blend mustard with enough water to make a thin paste when shed they leave rust marks the easygoing zoologist relaxed throughout the voyage my ideal morning begins with hot coffee trish saw hours and hours of movies saturday the rich should invest in black zircons instead of stylish shoes fill that canteen with fresh spring water she had your dark suit in greasy wash water all year don't ask me to carry an oily rag like that his successors have adopted the opposite alternative in the lighted interior he saw other men and women struggling into their wraps so he hides the mayonnaise publicity and notoriety go hand in hand you always come up with pathological examples those answers will be straightforward if you think them through carefully first we'll serve rhubarb pie after rachel's talk biblical scholars argue history she had your dark suit in greasy wash water all year don't ask me to carry an oily rag like that but they would reconsider it they assured him if he would rewrite it his eyes were dark fluid fearful and he gave a sigh as my knife went in she can decrease the number of temptations the emperor had a mean temper how permanent are their records the meeting is now adjourned critical equipment needs proper maintenance tim takes sheila to see movies twice a week she had your dark suit in greasy wash water all year don't ask me to carry an oily rag like that pa don't care about the kid he could take the advice or leave it bathing the itching parts with kerosene gave relief and also killed the pests severe myopia contributed to ron's inferiority complex the saw is broken so chop the wood instead dolphins are intelligent marine mammals what is this large thing by the ironing board cement is measured in cubic yards she had your dark suit in greasy wash water all year don't ask me to carry an oily rag like that experiment without a fixed number of trials maybe it would work the other way as if drawn by a wire the enemy flew into them the haunted house was a hit due to outstanding audiovisual effects we saw eight tiny icicles below our roof a lawyer was appointed to execute her will the toddler found a clamshell near the camp site cooperation along with understanding alleviate dispute she had your dark suit in greasy wash water all year don't ask me to carry an oily rag like that he picked up the powder canister and ran out his portrayal of an edgy headintheclouds artist is virtually flawless others were ephemeral clasp the screw in your left hand remember to allow identical twins to enter freely many wealthy tycoons splurged and bought both a yacht and a schooner the advertising verse of plymouth variety store never changes it's illegal to postdate a check she had your dark suit in greasy wash water all year don't ask me to carry an oily rag like that a concept of responsibility is in process of articulation and establishment she asked with a reportorial gleam in her eye but everybody calls you junior orange juice tastes funny after toothpaste herb's birthday occurs frequently on thanksgiving often you'll get back more than you put in top zinnias rarely have crooked stems regular attendance is seldom required she had your dark suit in greasy wash water all year don't ask me to carry an oily rag like that he can for example present significant universitywide issues to the senate a rabbit punch redoubled him neglect means spiritual paralysis or death he had four extra eggs for breakfast the most recent geological survey found seismic activity the hood of the jeep was steaming in the hot sun stimulating discussions keep students' attention just drop notices in any suggestion box she had your dark suit in greasy wash water all year don't ask me to carry an oily rag like that a new order is thrusting itself into being you think somebody is going to stand up in the audience and make guilty faces not when i was a kid thick glue oozed out of the tube allow each child to have an ice pop the annoying raccoons slipped into phil's garden every night in developing film many toxic chemicals are used a large household needs lots of appliances she had your dark suit in greasy wash water all year don't ask me to carry an oily rag like that resolved that the antislavery sentiment is becoming ripe for resolute action all your wishful thinking won't change that and these hardy travelers are not unappreciated today almost all colleges are now coeducational are holiday aprons available to us i assume moisture will damage this ship's hull roy ignored the spurious data points in drawing the graph the thinker is a famous sculpture she had your dark suit in greasy wash water all year don't ask me to carry an oily rag like that landbased radar would help with this task they had chosen this night purposely nice even if a trifle gaudy a huge tapestry hung in her hallway a roll of wire lay near the wall in every major cloverleaf traffic sometimes gets backed up the preschooler couldn't verbalize her feelings about the emergency conditions women may never become completely equal to men she had your dark suit in greasy wash water all year don't ask me to carry an oily rag like that avowed atheists or freethinkers are so rare as to be a curiosity soon said the halfman who wants this deed done which long article was opaque and needed clarification his failure to open the store by eight cost him his job a leather handbag would be a suitable gift gwen planted green beans in her vegetable garden her classical performance gained critical acclaim she had your dark suit in greasy wash water all year don't ask me to carry an oily rag like that who is going to stop me if any of us miss they can pick up the pieces avocados however are very rich in nutrients how would you evaluate this algebraic expression tornados often destroy acres of farm land the preschooler couldn't verbalize her feelings about the emergency conditions that stinging vapor was caused by chloride vaporization will you please describe the idiotic predicament she had your dark suit in greasy wash water all year don't ask me to carry an oily rag like that only incomplete imperfect things move towards what they lack there was a grunt curiously inarticulate like that of an animal in pain within a system however the autonomy of each member library is preserved curiosity and mediocrity seldom coexist do they allow atheists in church i know i didn't meet her early enough each stag surely finds a big fawn an official deadline cannot be postponed she had your dark suit in greasy wash water all year don't ask me to carry an oily rag like that there is little doubt that the students benefit from vocational education the dead spirits occupied a prominent place in every hope and in every fear add a few caraway seeds too if you'd like the coyote bobcat and hyena are wild animals jeff's toy gocart never worked get a calico cat to keep amoebas change shape constantly he picked up nine pairs of socks for each brother she had your dark suit in greasy wash water all year don't ask me to carry an oily rag like that a second assistant mopped with two sponges before much longer the marine quieted down the theory the idea behind our design is modular units or panelization the water contained too much chlorine and stung his eyes does hindu ideology honor cows gus saw pine trees and redwoods on his walk through sequoia national forest movies never have enough villains challenge each general's intelligence she had your dark suit in greasy wash water all year don't ask me to carry an oily rag like that how on earth do you manage it at no time were algae found in the mixed liquor thank you she said dusting herself off the mayan neoclassic scholar disappeared while surveying ancient ruins remember to allow identical twins to enter freely many wealthy tycoons splurged and bought both a yacht and a schooner the advertising verse of plymouth variety store never changes it's illegal to postdate a check she had your dark suit in greasy wash water all year don't ask me to carry an oily rag like that thyroid function tests yielded normal results another snarled close overhead we have also seen the power of faith at work among us her auburn hair reminded him of autumn leaves the gorgeous butterfly ate a lot of nectar take charge of choosing her bride's maids' gowns coffee is grown on steep junglelike slopes in temperate zones spring street is straight ahead she had your dark suit in greasy wash water all year don't ask me to carry an oily rag like that his problem concerns longitudes latitudes and angular velocities lullaby and goodnight his voice shook on the bare floorboards a man lay face down the easygoing zoologist relaxed throughout the voyage my ideal morning begins with hot coffee trish saw hours and hours of movies saturday the rich should invest in black zircons instead of stylish shoes fill that canteen with fresh spring water she had your dark suit in greasy wash water all year don't ask me to carry an oily rag like that maybe twenty thirty fifty that touched off a total stampede he praises many individuals generously how would you evaluate this algebraic expression tornados often destroy acres of farm land the preschooler couldn't verbalize her feelings about the emergency conditions that stinging vapor was caused by chloride vaporization will you please describe the idiotic predicament she had your dark suit in greasy wash water all year don't ask me to carry an oily rag like that there are optimal humidity requirements for various agents when airborne he ignores guidebook facts but this esoteric doctrine was lost in the shuffle to acquire special powers the previous speaker presented ambiguous results the hallway opens into a huge chamber the big dog loved to chew on the old rag doll those who teach values first abolish cheating chocolate and roses never fail as a romantic gift she had your dark suit in greasy wash water all year don't ask me to carry an oily rag like that origin of state automobile practices inflammatory cells were strikingly absent if the other pilots were worried they did not show it the easygoing zoologist relaxed throughout the voyage my ideal morning begins with hot coffee trish saw hours and hours of movies saturday the rich should invest in black zircons instead of stylish shoes fill that canteen with fresh spring water she had your dark suit in greasy wash water all year don't ask me to carry an oily rag like that being based on so few events these results are of dubious validity there were no tracks of either hoofs or boots the antislavery movement took many forms correct execution of my instructions is crucial the courier was a dwarf al received a joint appointment in the biology and the engineering departments valley lodge yearly celebrates the first calf born the prowler wore a ski mask for disguise she had your dark suit in greasy wash water all year don't ask me to carry an oily rag like that he must rearrange matters so that two performers do not bump into each other both figures would go higher in later years the desire and ability to read are important aspects of our cultural life they often go out in the evening the rose corsage smelled sweet the surplus shoes were sold at a discount price nothing is as offensive as innocence penguins live near the icy antarctic she had your dark suit in greasy wash water all year don't ask me to carry an oily rag like that no fasciculations or sensory defects were found look somewhere else there are people who travel long distances to assure my continued existence we apply auditory modeling to computer speech recognition the meeting is now adjourned the high security prison was surrounded by barbed wire the fifth jar contains big juicy peaches porcupines resemble sea urchins she had your dark suit in greasy wash water all year don't ask me to carry an oily rag like that with each song he gave verbal footnotes no really right as rain he spoke briefly sensibly to the point and without oratorical flourishes the diagnosis was discouraging however he was not overly worried do you have the yellow ointment ready the new suburbanites worked hard on refurbishing their older home don't look for group valuables in a bank vault it's impossible to deal with bureaucracy she had your dark suit in greasy wash water all year don't ask me to carry an oily rag like that we may say of some unfortunates that they were never young then at last the darkness began to dissolve mercenary term of honor remove the splinter with a pair of tweezers the cigarettes in the clay ashtray overflowed onto the oak table bob bandaged both wounds with the skill of a doctor every cab needs repainting often last year's gas shortage caused steep price increases she had your dark suit in greasy wash water all year don't ask me to carry an oily rag like that no more startling contrast to a system of sullen satellites could be imagined this favorite grievance was not the landlord fools he bayed what do you think you are doing whoever cooperates in finding nan's cameo will be rewarded how oily do you like your salad dressing a connoisseur will enjoy this shellfish dish a lone star shone in the early evening sky my instructions desperately need updating she had your dark suit in greasy wash water all year don't ask me to carry an oily rag like that he didn't figure her at all and if he found out a woman it'd be bad real bright along those lines you might say ant bites were eased by applying liquid bluing buying a thoroughbred horse requires intuition and expertise withdraw only as much money as you need diane may splurge and buy a turquoise necklace thomas thinks a larger clamp solves the problem hispanic costumes are quite colorful she had your dark suit in greasy wash water all year don't ask me to carry an oily rag like that he wore a brown knit sport shirt with no tie and men also used vacuum cleaners in both rooms sucking dust up once more then we'd really have someplace to go a huge tapestry hung in her hallway a roll of wire lay near the wall how do oysters make pearls in every major cloverleaf traffic sometimes gets backed up women may never become completely equal to men she had your dark suit in greasy wash water all year don't ask me to carry an oily rag like that my sincere wish is that he continues to add to this record he sets here today the mudwagon had caught fire also a tiny handful never did make the concert severe myopia contributed to ron's inferiority complex the saw is broken so chop the wood instead dolphins are intelligent marine mammals what is this large thing by the ironing board cement is measured in cubic yards she had your dark suit in greasy wash water all year don't ask me to carry an oily rag like that she seemed irritated many shapes in bathtubs paperweight may be personalized on back while clay is leather hard we plan to build a new beverage plant cory attacked the project with extra determination my desires are simple give me one informative paragraph on the subject the taxicab broke down and caused a traffic jam etiquette mandates compliance with existing regulations she had your dark suit in greasy wash water all year don't ask me to carry an oily rag like that but in every period it has been humanism only then did he decide he didn't want one the good man chortled appreciatively and decided the trip was worth his time technical writers can abbreviate in bibliographies keep the thermometer under your tongue bob found more clams at the ocean's edge of course you can have another tunafish sandwich addition and subtraction are learned skills she had your dark suit in greasy wash water all year don't ask me to carry an oily rag like that it had assumed the terrifying inertia of inanimate matter he slipped outside hugging the walls of buildings and dodging into doorways you should firmly insist that no bobby pins or hair pins be worn in the water curiosity and mediocrity seldom coexist do they allow atheists in church i know i didn't meet her early enough each stag surely finds a big fawn an official deadline cannot be postponed she had your dark suit in greasy wash water all year don't ask me to carry an oily rag like that most assuredly ideas are invaluable the room looked normal and even commonplace this is no surprising trait for a ballplayer scholastic aptitude is judged by standardized tests they all agree that the essay is barely intelligible an adult male baboon's teeth are not suitable for eating shellfish smash lightbulbs and their cash value will diminish to nothing continental drift is a geological theory she had your dark suit in greasy wash water all year don't ask me to carry an oily rag like that he was busy he said in having someone submit to a monkeygland operation he shrugged casually she came back the other day to reassure me thick glue oozed out of the tube allow each child to have an ice pop the annoying raccoons slipped into phil's garden every night in developing film many toxic chemicals are used a large household needs lots of appliances she had your dark suit in greasy wash water all year don't ask me to carry an oily rag like that evidence that other sources of financing are unavailable must be provided space probes have yielded little information this process is especially difficult since gyro drifting is typically random cyclical programs will never compile clear pronunciation is appreciated steve collects rare and novel coins a huge power outage rarely occurs academic aptitude guarantees your diploma she had your dark suit in greasy wash water all year don't ask me to carry an oily rag like that thus far the advances made have been almost entirely along functional lines he rode low on the mare's neck the public is now armed with sophistication and numerous competing media the government sought authorization of his citizenship i ate every oyster on nora's plate did shawn catch that big goose without help a toothpaste tube should be squeezed from the bottom eat your raisins outdoors on the porch steps she had your dark suit in greasy wash water all year don't ask me to carry an oily rag like that he was thus an early and spectacular victim a voice spoke nearathand he injected more vitality into the score than it has revealed in many years biologists use radioactive isotopes to study microorganisms the irate actor stomped away idiotically the barracuda recoiled from the serpent's poisonous fangs please sing just the club theme gently place jim's foam sculpture in the box she had your dark suit in greasy wash water all year don't ask me to carry an oily rag like that the tragic stage is a platform extending precariously between heaven and hell people never live forever their privations are almost beyond endurance too much curiosity can get you into trouble i itemize all accounts in my agency the full moon shone brightly that night move the garbage nearer to the large window the lack of heat compounded the tenant's grievances she had your dark suit in greasy wash water all year don't ask me to carry an oily rag like that it is a happy buzzing crowd there are many such competently anonymous performances among the earlier poems the new birth is miraculous and mysterious orange juice tastes funny after toothpaste herb's birthday occurs frequently on thanksgiving often you'll get back more than you put in top zinnias rarely have crooked stems regular attendance is seldom required she had your dark suit in greasy wash water all year don't ask me to carry an oily rag like that there should be no reason to misinterpret or ignore the intent of this letter stay right here where you are kid he called feed pressure is also of major importance remove the splinter with a pair of tweezers the cigarettes in the clay ashtray overflowed onto the oak table bob bandaged both wounds with the skill of a doctor every cab needs repainting often last year's gas shortage caused steep price increases she had your dark suit in greasy wash water all year don't ask me to carry an oily rag like that for what do the utopians labor the shadow vanished traffic frequently has failed to measure up to engineers' rosy estimates as a precaution the outlaws bought gunpowder for their stronghold we apply auditory modeling to computer speech recognition the high security prison was surrounded by barbed wire the fifth jar contains big juicy peaches porcupines resemble sea urchins she had your dark suit in greasy wash water all year don't ask me to carry an oily rag like that soil redeposition is evaluated by washing clean swatches with the dirty ones we'll talk over at your office would such an act of refusal be useful pledge to participate in nevada's aquatic competition i honor my mom the groundhog clearly saw his shadow but stayed out only a moment butterscotch fudge goes well with vanilla ice cream ambidextrous pickpockets accomplish more she had your dark suit in greasy wash water all year don't ask me to carry an oily rag like that if they are not ellipsoids the conclusions will be a reasonable approximation in my place you'd follow such advice as you give me either that or a veterinarian technical writers can abbreviate in bibliographies keep the thermometer under your tongue bob found more clams at the ocean's edge of course you can have another tunafish sandwich addition and subtraction are learned skills she had your dark suit in greasy wash water all year don't ask me to carry an oily rag like that in earlier years the preservation of food was essentially related to survival you gonna give me a drink fella do this exercise six times each class period would a tomboy often play outdoors john's brother repainted the garage door will you please confirm government policy regarding waste removal bright sunshine shimmers on the ocean masquerade parties tax one's imagination she had your dark suit in greasy wash water all year don't ask me to carry an oily rag like that she snarled warningly we're not drunkards she said originals are not necessarily good and adaptations are not necessarily bad vietnamese cuisine is exquisite it's not easy to create illuminating examples count the number of teaspoons of soysauce that you add seamstresses attach zippers with a thimble needle and thread the legislature met to judge the state of public education she had your dark suit in greasy wash water all year don't ask me to carry an oily rag like that his talk turns to what he calls the mess or sometimes this buzzing confusion check the overnighters out he really crucified him he nailed it for a yard loss birthday parties have cupcakes and ice cream carl lives in a lively home draw each graph on a new axis in the long run it pays to buy quality clothing she always jokes about too much garlic in his food she had your dark suit in greasy wash water all year don't ask me to carry an oily rag like that as we observe moral law and physical law they appear as being inevitable they either walked or were driven too often unless he hails them they pass him by he ate four extra eggs for breakfast the most recent geological survey found seismic activity the hood of the jeep was steaming in the hot sun stimulating discussions keep students' attention just drop notices in any suggestion box she had your dark suit in greasy wash water all year don't ask me to carry an oily rag like that he did not mind the useless kindly questions don't forget whiskey it's such a big seller can your insurance company aid you in reducing administrative costs lots of foreign movies have subtitles try to recall the events in chronological order shipbuilding is a most fascinating process young people participate in athletic activities children can consume many fruit candies in one sitting she had your dark suit in greasy wash water all year don't ask me to carry an oily rag like that this is what necessitates the nonsystematic character of his astronomy the man's eyelids fluttered we congratulate the entire membership on its record of good legislation biologists use radioactive isotopes to study microorganisms the irate actor stomped away idiotically the barracuda recoiled from the serpent's poisonous fangs please sing just the club theme gently place jim's foam sculpture in the box she had your dark suit in greasy wash water all year don't ask me to carry an oily rag like that two things contribute to his popularity why don't they tell me themselves if it bothers them further it has its work cut out stopping anarchy where it is now garrisoned the triumphant warrior exhibited naive heroism can the agency overthrow alien forces a huge power outage rarely occurs suburban housewives often suffer from the gab habit good service should be rewarded by big tips she had your dark suit in greasy wash water all year don't ask me to carry an oily rag like that with the spring rains the flow rose rapidly due to infiltration in open sewers they played crack the whip a few minutes without mishap that brings its peryear cost down mighty low how would you evaluate this algebraic expression how do oysters make pearls tornados often destroy acres of farm land that stinging vapor was caused by chloride vaporization will you please describe the idiotic predicament she had your dark suit in greasy wash water all year don't ask me to carry an oily rag like that let us now give some thought to the soul no signs of these no gross hemorrhage of lungs heart brain or stomach one even gave my little dog a biscuit scientific progress comes from the development of new techniques steph could barely handle the psychological trauma that dog chases cats mercilessly there was a gigantic wasp next to irving's big top hat that pickpocket was caught redhanded she had your dark suit in greasy wash water all year don't ask me to carry an oily rag like that bury those uniforms so they won't be found this is a significant advance but its import should not be exaggerated below is a specific guide keyed to the calendar birthday parties have cupcakes and ice cream carl lives in a lively home draw each graph on a new axis in the long run it pays to buy quality clothing she always jokes about too much garlic in his food she had your dark suit in greasy wash water all year don't ask me to carry an oily rag like that while one element is announcing progress another is delineating its problems to his surprise his plan worked perfectly insulate weatherstrip doubleglaze to the maximum whoever cooperates in finding nan's cameo will be rewarded how oily do you like your salad dressing a connoisseur will enjoy this shellfish dish a lone star shone in the early evening sky my instructions desperately need updating she had your dark suit in greasy wash water all year don't ask me to carry an oily rag like that conservatism and traditionalism seem implied by what has just been said you mean a game with cards replace it with the statue of one or another of the world's famous dictators pledge to participate in nevada's aquatic competition i honor my mom the groundhog clearly saw his shadow but stayed out only a moment butterscotch fudge goes well with vanilla ice cream ambidextrous pickpockets accomplish more she had your dark suit in greasy wash water all year don't ask me to carry an oily rag like that teacher assignment in order to desegregate set aside to dry thoroughly if you use parking attendants can they be replaced by automatic parking gates scientific progress comes from the development of new techniques steph could barely handle the psychological trauma that dog chases cats mercilessly there was a gigantic wasp next to irving's big top hat that pickpocket was caught redhanded she had your dark suit in greasy wash water all year don't ask me to carry an oily rag like that markets should become more competitive as consumers become more selective the lifeboats were stuck fast equipment basic pottery studio equipment westchester is a county in new york the sermon emphasized the need for affirmative action cottage cheese with chives is delicious help celebrate your brother's success i took her word for it but is she really going with you she had your dark suit in greasy wash water all year don't ask me to carry an oily rag like that other morphological physical and optical property values are also given yeah but what're we gonna eat range was a vital detail rich looked for spotted hyenas and jaguars on the safari be careful not to plow over the flower beds the speech symposium might begin monday the thick elm forest was nearly overwhelmed by dutch elm disease the misprint provoked an immediate disclaimer she had your dark suit in greasy wash water all year don't ask me to carry an oily rag like that there was much embracing much exclaiming one of the problems associated with the expressway stems from the basic idea he met nobody he knew on this walk the mayan neoclassic scholar disappeared while surveying ancient ruins why else would danny allow others to go the angry boy answered but didn't look up the cow wandered from the farmland and became lost cut a small corner off each edge she had your dark suit in greasy wash water all year don't ask me to carry an oily rag like that from it spokes of order and degree led to the outward rim of the common man no girl would go this far to fool a man so she could kill him the moment of truth is the moment of crisis correct execution of my instructions is crucial the courier was a dwarf do they allow atheists in church valley lodge yearly celebrates the first calf born the prowler wore a ski mask for disguise she had your dark suit in greasy wash water all year don't ask me to carry an oily rag like that outside only a handful of reporters remained naturally curly hair runs in my family in tradition and in poetry the marriage bed is a place of unity and harmony tugboats are capable of hauling huge loads how much allowance do you get when all else fails use force these exclusive documents must be locked up at all times george is paranoid about a future gas shortage she had your dark suit in greasy wash water all year don't ask me to carry an oily rag like that we scour literature for them here we find stored the wisdom of great minds we have better rooms vacant now he babbled we flew in rickety planes so overloaded that we wondered why they didn't crash cyclical programs will never compile clear pronunciation is appreciated steve collects rare and novel coins a huge power outage rarely occurs academic aptitude guarantees your diploma she had your dark suit in greasy wash water all year don't ask me to carry an oily rag like that questions came to me from all sides about my world citizenship activities anyhow it was high time the boy was salted we did not accept the diagnosis at once but gradually we are coming to a huge tapestry hung in her hallway a roll of wire lay near the wall how do oysters make pearls in every major cloverleaf traffic sometimes gets backed up women may never become completely equal to men she had your dark suit in greasy wash water all year don't ask me to carry an oily rag like that transparent look waxy skin  could well be uremia at the left is a pair of dressy straw pumps in a light but crisp texture other interpretations present the music as an essentially intimate creation the mango and the papaya are in a bowl do you hear the sleigh bells ringing did dad do academic bidding rockandroll music has a great rhythm the giant redwoods shimmered in the glistening sun she had your dark suit in greasy wash water all year don't ask me to carry an oily rag like that the surgeon carried a cage of live pigeons she didn't even give me a chance to refuse often she fails to gain sexual satisfaction trespassing is forbidden and subject to penalty only the best players enjoy popularity we like bleu cheese but victor prefers swiss cheese the groundhog clearly saw his shadow but stayed out only a moment they all like long hot showers she had your dark suit in greasy wash water all year don't ask me to carry an oily rag like that development requires a longterm approach guerrillas were racing toward him the master's hand has lost none of its craft the triumphant warrior exhibited naive heroism can the agency overthrow alien forces according to my interpretation of the problem two lines must be perpendicular suburban housewives often suffer from the gab habit good service should be rewarded by big tips she had your dark suit in greasy wash water all year don't ask me to carry an oily rag like that then he thought me more perverse than ever jeopardize it now to correct so old a wrong there was no confirmation of such massive assaults from independent sources his sudden departure shocked the cast approach your interview with statuesque composure the avalanche triggered a minor earthquake will you please confirm government policy regarding waste removal we welcome many new students each year she had your dark suit in greasy wash water all year don't ask me to carry an oily rag like that he's got to thaw slow she always could sense the shag end of a woolly day a kerosene shampoo seems a heroic treatment but it did the job she encouraged her children to make their own halloween costumes the jaw operates by using antagonistic muscles george seldom watches daytime movies spherical gifts are difficult to wrap flying standby can be practical if you want to save money she had your dark suit in greasy wash water all year don't ask me to carry an oily rag like that ironically enough in this instance such personal virtues were a luxury the blue rug was suspiciously bright and new little geeing and hawing have been necessary the water contained too much chlorine and stung his eyes does hindu ideology honor cows gus saw pine trees and redwoods on his walk through sequoia national forest movies never have enough villains challenge each general's intelligence she had your dark suit in greasy wash water all year don't ask me to carry an oily rag like that their basis seems deeper than mere authority let's take 'em home say he is a horse thief runs an old adage we plan to build a new beverage plant cory attacked the project with extra determination my desires are simple give me one informative paragraph on the subject the taxicab broke down and caused traffic jam etiquette mandates compliance with existing regulations she had your dark suit in greasy wash water all year don't ask me to carry an oily rag like that one of these is the solidarity and the confidential relationship of marriage lips pursed mournfully he stared down at its crazily sagging left side historical existence is a created good the coyote bobcat and hyena are wild animals jeff's toy gocart never worked get a calico cat to keep amoebas change shape constantly he picked up nine pairs of socks for each brother she had your dark suit in greasy wash water all year don't ask me to carry an oily rag like that the smell is sexual but so powerfully so that a civilized nose must deny it me he said merrily i've got to bathe my feet she encouraged her children to make their own halloween costumes the jaw operates by using antagonistic muscles george seldom watches daytime movies spherical gifts are difficult to wrap flying standby can be practical if you want to save money she had your dark suit in greasy wash water all year don't ask me to carry an oily rag like that that is what childhood is he told himself he needs outfielders bad a chaw of tobacco put on an open wound was both antiseptic and healing the diagnosis was discouraging however he was not overly worried do you have the yellow ointment ready the new suburbanites worked hard on refurbishing their older home don't look for group valuables in a bank vault it's impossible to deal with bureaucracy she had your dark suit in greasy wash water all year don't ask me to carry an oily rag like that with a whirling jump it could get into gear its sphere is that of royal courts dynastic quarrels and vaulting ambitions their curiosity went happily out of bounds technical writers can abbreviate in bibliographies keep the thermometer under your tongue bob found more clams at the ocean's edge of course you can have another tunafish sandwich addition and subtraction are learned skills she had your dark suit in greasy wash water all year don't ask me to carry an oily rag like that a covered container such as a kitchen garbage pail might do as a toilet nevertheless she continued to move upward a second point requires more extended comment the mango and the papaya are in a bowl the diagnosis was discouraging however he was not overly worried do you hear the sleigh bells ringing rockandroll music has a great rhythm the giant redwoods shimmered in the glistening sun she had your dark suit in greasy wash water all year don't ask me to carry an oily rag like that his sweet whisper came after great effort fights sprang up and were quickly squelched we send shovels cement nails and corrugated iron for roofs her auburn hair reminded him of autumn leaves the gorgeous butterfly ate a lot of nectar take charge of choosing her bride's maids' gowns coffee is grown on steep junglelike slopes in temperate zones spring street is straight ahead she had your dark suit in greasy wash water all year don't ask me to carry an oily rag like that in an ideological argument the participants tend to thump the table rough cloth rasped his fist under this law annual grants are given to systems in substantial amounts they remained lifelong friends and companions how do oysters make pearls by eating yogurt you may live longer the frightened child was gently subdued by his big brother cliff's display was misplaced on the screen she had your dark suit in greasy wash water all year don't ask me to carry an oily rag like that lousiness is a prerequisite for epidemic typhus where're you takin' me he who does not love abides in death scholastic aptitude is judged by standardized tests they all agree that the essay is barely intelligible an adult male baboon's teeth are not suitable for eating shellfish smash lightbulbs and their cash value will diminish to nothing continental drift is a geological theory she had your dark suit in greasy wash water all year don't ask me to carry an oily rag like that in most cases these soils are taken up as liquids through capillary action it was secured by an oversized padlock nobody else did either which long article was opaque and needed clarification his failure to open the store by eight cost him his job a leather handbag would be a suitable gift gwen planted green beans in her vegetable garden her classical performance gained her critical acclaim she had your dark suit in greasy wash water all year don't ask me to carry an oily rag like that andrei's skilled eye sized them up she went on disregarding my protests during one reading an image appeared of a prisoner in irons he ate four extra eggs for breakfast the most recent geological survey found seismic activity the hood of the jeep was steaming in the hot sun stimulating discussions keep students' attention just drop notices in any suggestion box she had your dark suit in greasy wash water all year don't ask me to carry an oily rag like that one can only speak of what is in front of him and that now is simply the mess anybody carrying anything that might hide a rifle there is definitely some ligament damage in his knee his scalp was blistered from today's hot sun alimony harms a divorced man's wealth norwegian sweaters are made of lamb's wool brush fires are common in the dry underbrush of nevada i just saw jim near the new archeological museum she had your dark suit in greasy wash water all year don't ask me to carry an oily rag like that the photochemical exchange in the gas phase the former scout's alibi couldn't be shaken this is the atomic sun the atomic nucleus the willowy woman wore a muskrat coat the paper boy bought two apples and three ices the local drugstore was charged with illegally dispensing tranquilizers irish youngsters eat fresh kippers for breakfast the eastern coast is a place for pure pleasure and excitement she had your dark suit in greasy wash water all year don't ask me to carry an oily rag like that for a moment boy and mount hung in midair all his family was dead except for his son first go over the type of coverage you now have orange juice tastes funny after toothpaste herb's birthday occurs frequently on thanksgiving often you'll get back more than you put in the patient and the surgeon are both recuperating from the lengthy operation regular attendance is seldom required she had your dark suit in greasy wash water all year don't ask me to carry an oily rag like that toss a die until an ace appears a large piece of engine cowling vanished for me it has more of both elements than the majority of its competitors severe myopia contributed to ron's inferiority complex the saw is broken so chop the wood instead dolphins are intelligent marine mammals what is this large thing by the ironing board cement is measured in cubic yards she had your dark suit in greasy wash water all year don't ask me to carry an oily rag like that he went on to personal bequests a list of names largely unknown to him this staff deserves a lot of credit working down here under real obstacles complexity of complete marketing planning a screwdriver is made from vodka and orange juice the news agency hired a great journalist the bluejay flew over the high building coconut cream pie makes a nice dessert she uses both names interchangeably she had your dark suit in greasy wash water all year don't ask me to carry an oily rag like that marksmanship example she found herself able to sing any role and any song which struck her fancy nuclear rockets can destroy airfields with ease the diagnosis was discouraging however he was not overly worried do you have the yellow ointment ready the new suburbanites worked hard on refurbishing their older home don't look for group valuables in a bank vault it's impossible to deal with bureaucracy she had your dark suit in greasy wash water all year don't ask me to carry an oily rag like that again the analyticity of the two curves guarantees that such intervals exist thinking the evidence insufficient to get a conviction he later released him he fought the panic of vertigo does creole cooking use curry draw every outer line first then fill in the interior the moisture in my eyes is from eyedrops not from tears first add milk to the shredded cheese primitive tribes have an upbeat attitude she had your dark suit in greasy wash water all year don't ask me to carry an oily rag like that these air or gas bubbles make highly functional thermal barriers absolution for his lie caution continuous administration is not recommended for lactating cows a huge tapestry hung in her hallway a roll of wire lay near the wall how do oysters make pearls in every major cloverleaf traffic sometimes gets backed up women may never become completely equal to men she had your dark suit in greasy wash water all year don't ask me to carry an oily rag like that twentynine exhibits received awards and he was handsome despite the long thin scar that slanted across his cheek he was above all a friend seeker almost pathetic in his eagerness to be liked would a tomboy often play outdoors alfalfa is healthy for you john's brother repainted the garage door bright sunshine shimmers on the ocean masquerade parties tax one's imagination she had your dark suit in greasy wash water all year don't ask me to carry an oily rag like that simple elongation has been treated in detail his head came up and he said it defiantly topography  topography is very important we could barely see the fjords through the snow flurries do atypical farmers grow oats the system may break down soon so save your files frequently ralph prepared red snapper with fresh lemon sauce for dinner it's hard to tell an original from a forgery she had your dark suit in greasy wash water all year don't ask me to carry an oily rag like that space charge influences will also decrease at increased voltages go change your shoes before you turn around wider discretionary choices for customers tugboats are capable of hauling huge loads when all else fails use force these exclusive documents must be locked up at all times george is paranoid about a future gas shortage shell shock caused by shrapnel is sometimes cured through group therapy she had your dark suit in greasy wash water all year don't ask me to carry an oily rag like that it takes a great deal of sophisticated thought to get the impact of this fact so what's this all about meanwhile the enemy will capitalize on our fears if he can westchester is a county in new york the sermon emphasized the need for affirmative action cottage cheese with chives is delicious help celebrate your brother's success i took her word for it but is she really going with you she had your dark suit in greasy wash water all year don't ask me to carry an oily rag like that this was chiefly because of the bluish white autofluorescence from the cells twelve o'clock level the avocado should have a give to it as you hold it when it is ripe employee layoffs coincided with the company's reorganization we are open every monday evening this was easy for us they used an aggressive policeman to flag thoughtless motorists bagpipes and bongos are musical instruments she had your dark suit in greasy wash water all year don't ask me to carry an oily rag like that a universe is a safe and permanent home something pulled my leg state numbering laws differ from each other in many ways she encouraged her children to make their own halloween costumes the jaw operates by using antagonistic muscles george seldom watches daytime movies spherical gifts are difficult to wrap flying standby can be practical if you want to save money she had your dark suit in greasy wash water all year don't ask me to carry an oily rag like that there was typhoid and malaria now the hope was gone if a concessionaire runs the cafeteria keep an eye out for quality and price which long article was opaque and needed clarification his failure to open the store by eight cost him his job a leather handbag would be a suitable gift gwen planted green beans in her vegetable garden her classical performance gained critical acclaim she had your dark suit in greasy wash water all year don't ask me to carry an oily rag like that was it all vain labor but roulette's not my game are you utilizing vending machine proceeds to help pay for your program we plan to build a new beverage plant cory attacked the project with extra determination my desires are simple give me one informative paragraph on the subject taxicab broke down and caused a traffic jam etiquette mandates compliance with existing regulations she had your dark suit in greasy wash water all year don't ask me to carry an oily rag like that to some extent predispositions are shaped by exposure to group environments shall we flip a coin to see which of us goes first the narrow fringe of sadness that ran around it only emphasized the pleasure the emperor had a mean temper would a tomboy often play outdoors john's brother repainted the garage door bright sunshine shimmers on the ocean masquerade parties tax one's imagination she had your dark suit in greasy wash water all year don't ask me to carry an oily rag like that that would make him mad enough if he was sober snakes are ugly he said again rabies were cured or prevented by madstones which the pioneer wore or carried whoever cooperates in finding nan's cameo will be rewarded how oily do you like your salad dressing a connoisseur will enjoy this shellfish dish a lone star shone in the early evening sky my instructions desperately need updating she had your dark suit in greasy wash water all year don't ask me to carry an oily rag like that or how do we enrich our already fine marriage he blew his nose expertly between his fingers for roast insert meat thermometer diagonally so it does not rest on bone you must explicitly delete files museum hires musicians every evening would you allow acts of violence rich purchased several signed lithographs growing wellkept gardens is very time consuming she had your dark suit in greasy wash water all year don't ask me to carry an oily rag like that the shock therapies act likewise on the hypothalamic balance they were all good men then we were off again the mayan neoclassic scholar disappeared while surveying ancient ruins remember to allow identical twins to enter freely many wealthy tycoons splurged and bought both a yacht and a schooner the advertising verse of plymouth variety store never changes it's illegal to postdate a check she had your dark suit in greasy wash water all year don't ask me to carry an oily rag like that what one actually remembers is its greenness brain examined for thrombosis clot or hemorrhage her position covers a number of daily tasks common to any social director the mango and the papaya are in a bowl do you hear the sleigh bells ringing did dad do academic bidding rockandroll music has a great rhythm the giant redwoods simmered in the glistening sun she had your dark suit in greasy wash water all year don't ask me to carry an oily rag like that all chance of fulfilling my destiny is over these planets were much bigger nearly all capable of holding an atmosphere this is going to be a language lesson and you can master it in a few minutes his sudden departure shocked the cast approach your interview with statuesque composure alfalfa is healthy for you the avalanche triggered a minor earthquake we welcome many new students each year she had your dark suit in greasy wash water all year don't ask me to carry an oily rag like that our campus unfortunately owns no films you shall see her at dinner also make sure thermometer does not touch the revolving spit or hit the coals a huge tapestry hung in her hallway a roll of wire lay near the wall in every major cloverleaf traffic sometimes gets backed up according to my interpretation of the problem two lines must be perpendicular women may never become completely equal to men she had your dark suit in greasy wash water all year don't ask me to carry an oily rag like that he was kneeling to tie his shoelaces pushups pushups are essential but few have the strength for them at first adults take a long time to convince and you are thwarted if you try to push severe myopia contributed to ron's inferiority complex saw is broken so chop the wood instead dolphins are intelligent marine mammals what is this large thing by the ironing board cement is measured in cubic yards she had your dark suit in greasy wash water all year don't ask me to carry an oily rag like that the walls bulged the floor trembled the windowpanes rattled the eye is all inward or outward the figure five is important in insurance remove the splinter with a pair of tweezers the cigarettes in the clay ashtray overflowed onto the oak table bob bandaged both wounds with the skill of a doctor every cab needs repainting often last year's gas shortage caused steep price increases she had your dark suit in greasy wash water all year don't ask me to carry an oily rag like that hope to see you again the air smelled warmish and foul the long and everincreasing column of sportsmen is now moving into a new era the willowy woman wore a muskrat coat the paper boy bought two apples and three ices the local drugstore was charged with illegally dispensing tranquilizers irish youngsters eat fresh kippers for breakfast the eastern coast is a place for pure pleasure and excitement she had your dark suit in greasy wash water all year don't ask me to carry an oily rag like that no antigen was detectable in certain dark spherical areas in most cells the opposing aircraft continued to come on there is no dyeing or waxing or gassing needed who took the kayak down the bayou the essay undeniably reflects our view ably i'll have a scoop of that exotic purple and turquoise sherbet shell shock caused by shrapnel is sometimes cured through group therapy doctors prescribe drugs too freely she had your dark suit in greasy wash water all year don't ask me to carry an oily rag like that you see she's on a diet are you a thrower of flame marine you can build this vacation cottage yourself scholastic aptitude is judged by standardized tests they all agree that the essay is barely intelligible an adult male baboon's teeth are not suitable for eating shellfish smash lightbulbs and their cash value will diminish to nothing continental drift is a geological theory she had your dark suit in greasy wash water all year don't ask me to carry an oily rag like that a batterypowered radio is essential as she drove she thought about her plan yet it exists and has an objective reality which can be experienced and known the cartoon features a muskrat and a tadpole even i occasionally get the monday blues should giraffes be kept in small zoos the patient and the surgeon are both recuperating from the lengthy operation please shorten this skirt for joyce she had your dark suit in greasy wash water all year don't ask me to carry an oily rag like that lift don't shove lift did you know he is advertising his hamradio equipment for sale this weekend the situation involved some political perils we could barely see the fjords through the snow flurries do atypical farmers grow oats the system may break down soon so save your files frequently ralph prepared red snapper with fresh lemon sauce for dinner it's hard to tell an original from a forgery she had your dark suit in greasy wash water all year don't ask me to carry an oily rag like that behind him billowed a small pungent cloud of smoke you had to be stupid or crazy or immortal the word means it won't boil away easily nothing else the previous speaker presented ambiguous results the hallway opens into a huge chamber the big dog loved to chew on the old rag doll those who teach values first abolish cheating chocolate and roses never fail as a romantic gift she had your dark suit in greasy wash water all year don't ask me to carry an oily rag like that blockade is one answer offered by experts meanwhile spring had passed well into summer he wanted to show the town what happened to anyone who tried to start trouble you must explicitly delete files the museum hires musicians every evening would you allow acts of violence rich purchased several signed lithographs growing wellkept gardens is very time consuming she had your dark suit in greasy wash water all year don't ask me to carry an oily rag like that chestnuts are starchy what possessed you to tell me a clotheshorse would be a good idea needless to say my art suffered drastically during this turbulent period his scalp was blistered from today's hot sun alimony harms a divorced man's wealth norwegian sweaters are made of lamb's wool brush fires are common in the dry underbrush of nevada i just saw jim near the new archeological museum she had your dark suit in greasy wash water all year don't ask me to carry an oily rag like that yet even that explosion did not mean much does this bother you it will accommodate firing rates as low as half a gallon an hour vietnamese cuisine is exquisite it's not easy to create illuminating examples count the number of teaspoons of soysauce that you add seamstresses attach zippers with a thimble needle and thread the legislature met to judge the state of public education she had your dark suit in greasy wash water all year don't ask me to carry an oily rag like that thirtyfive military and civilian students received laboratory training however when labor disputes arise its provisions come clearly into play he enlisted a staff of loyal experts and of many zealous volunteers they often go out in the evening the rose corsage smelled sweet the surplus shoes were sold at a discount price nothing is as offensive as innocence penguins live near the icy antarctic she had your dark suit in greasy wash water all year don't ask me to carry an oily rag like that on all sides doors were being slammed in his face fine day after tomorrow she added the dimensions of these waves dwarf all our usual standards of measurement orange juice tastes funny after toothpaste herb's birthday occurs frequently on thanksgiving often you'll get back more than you put in top zinnias rarely have crooked stems regular attendance is seldom required she had your dark suit in greasy wash water all year don't ask me to carry an oily rag like that though brief it has a sharp dramatic edge and great poignancy he'll shoot up the town so rules we made in unabashed collusion as a precaution the outlaws bought gunpowder for their stronghold we apply auditory modeling to computer speech recognition the high security prison was surrounded by barbed wire the fifth jar contains big juicy peaches porcupines resemble sea urchins she had your dark suit in greasy wash water all year don't ask me to carry an oily rag like that false ideas surfeit another sector of our life there is no store he piped tremulously adequate compensation is indispensable vietnamese cuisine is exquisite it's not easy to create illuminating examples count the number of teaspoons of soysauce that you add seamstresses attach zippers with a thimble needle and thread the legislature met to judge the state of public education she had your dark suit in greasy wash water all year don't ask me to carry an oily rag like that sometimes strong stress serves to focus an important secondary relationship his blue eyes sought the shimmering sea of haze ahead for sweetsour sauce cook onion in oil until soft clasp the screw in your left hand when peeling an orange it is hard not to spray juice most young rise early every morning the two artists exchanged autographs which church do the smiths worship in she had your dark suit in greasy wash water all year don't ask me to carry an oily rag like that how's your luck honey why not try another club bruises and black eyes were relieved by application of raw beefsteak the mayan neoclassic scholar disappeared while surveying ancient ruins remember to allow identical twins to enter freely many wealthy tycoons splurged and bought both a yacht and a schooner the advertising verse of plymouth variety store never changes it's illegal to postdate a check she had your dark suit in greasy wash water all year don't ask me to carry an oily rag like that a third volume remains to be published come sit he repeated motioning to the piled hay bags over the pig leavings an area sheltered from strong winds may be highly desirable for recreation use almost all colleges are now coeducational are holiday aprons available to us i assume moisture will damage this ship's hull roy ignored the spurious data points in drawing the graph the thinker is a famous sculpture she had your dark suit in greasy wash water all year don't ask me to carry an oily rag like that but we cannot start off with a clean slate hiding out like this won't get him anything except more trouble or bullet but this doesn't detract from its merit as an interesting if not great film pledge to participate in nevada's aquatic competition i honor my mom get a calico cat to keep butterscotch fudge goes well with vanilla ice cream ambidextrous pickpockets accomplish more she had your dark suit in greasy wash water all year don't ask me to carry an oily rag like that the season between spring and summer belongs to life in its carefree aspect probably around midnight give or take an hour either way meanwhile three great terrible forces were coagulating and crystallizing the coyote bobcat and hyena are wild animals jeff's toy gocart never worked get a calico cat to keep amoebas change shape constantly he picked up nine pairs of socks for each brother she had your dark suit in greasy wash water all year don't ask me to carry an oily rag like that atomic energy levels he looked over at him lying there asleep and he felt a wave of revulsion he sank back sighing and was soon asleep again the diagnosis was discouraging however he was not overly worried do you have the yellow ointment ready the new suburbanites worked hard on refurbishing their older home don't look for group valuables in a bank vault it's impossible to deal with bureaucracy she had your dark suit in greasy wash water all year don't ask me to carry an oily rag like that as he had longed to be he became the echo of a saga it's still unbelievable that it was murder they make gin saws and deal in parts supplies and some used gin machinery lots of foreign movies have subtitles try to recall the events in chronological order shipbuilding is a most fascinating process young people participate in athletic activities children can consume many fruit candies in one sitting she had your dark suit in greasy wash water all year don't ask me to carry an oily rag like that civilization is what man has made of himself were you on duty here two weeks ago confusion became chaos each succeeding day brought new acts of violence remove the splinter with a pair of tweezers the cigarettes in the clay ashtray overflowed onto the oak table bob bandaged both wounds with the skill of a doctor every cab needs repainting often last year's gas shortage caused steep price increases she had your dark suit in greasy wash water all year don't ask me to carry an oily rag like that two clotted balls the color of mucus rolled between fiery lids they were both walking towards each other unhurried then off again rushing to keep up as a precaution the outlaws bought gunpowder for their stronghold we apply auditory modeling to computer speech recognition the high security prison was surrounded by barbed wire the fifth jar contains big juicy peaches porcupines resemble sea urchins she had your dark suit in greasy wash water all year don't ask me to carry an oily rag like that she knew she was feeling afraid and inwardly laughed at herself it might hurt you though half slyly he enjoyed seeing her stoop to lift the things thick glue oozed out of the tube allow each child to have an ice pop the annoying raccoons slipped into phil's garden every night in developing film many toxic chemicals are used a large household needs lots of appliances she had your dark suit in greasy wash water all year don't ask me to carry an oily rag like that this area is highly susceptible to infection there is no dispute involving fieldwork does this make it any easier coward vietnamese cuisine is exquisite it's not easy to create illuminating examples count the number of teaspoons of soysauce that you add seamstresses attach zippers with a thimble needle and thread the legislature met to judge the state of public education she had your dark suit in greasy wash water all year don't ask me to carry an oily rag like that his sinuous melody is a sort of naive transcendence of all experience his manhood had been attacked the filtered air benefits allergies asthma sinus hay fever biologists use radioactive isotopes to study microorganisms the irate actor stomped away idiotically the barracuda recoiled from the serpent's poisonous fangs please sing just the club theme gently place jim's foam sculpture in the box she had your dark suit in greasy wash water all year don't ask me to carry an oily rag like that no question ruffles him or causes him to hesitate it was awkward very awkward when we left washington his son tad was ill and mrs lincoln hysterical they remained lifelong friends and companions by eating yogurt you may live longer the frightened child was gently subdued by his big brother the overweight charmer could slip poison into anyone's tea cliff's display was misplaced on the screen she had your dark suit in greasy wash water all year don't ask me to carry an oily rag like that your voice is delightful he approved with a warm smile turbulent tides rose as much as fifty feet sometimes soldiers wrote letters while bullets were whizzing about their heads cyclical programs will never compile clear pronunciation is appreciated steve collects rare and novel coins a huge power outage rarely occurs academic aptitude guarantees your diploma she had your dark suit in greasy wash water all year don't ask me to carry an oily rag like that there was also a boomerang elaborately carved whosoever violates our rooftree the legend states can expect maximal sorrow may i go and get cassandra momma severe myopia contributed to ron's inferiority complex the saw is broken so chop the wood instead dolphins are intelligent marine mammals what is this large thing by the ironing board cement is measured in cubic yards she had your dark suit in greasy wash water all year don't ask me to carry an oily rag like that they weren't as well paid as they should have been the pilots' heads looked ridiculously small the rides were tame enough  mostly we talked which long article was opaque and needed clarification his failure to open the store by eight cost him his job a leather handbag would be a suitable gift gwen planted green beans in her vegetable garden her classical performance gained critical acclaim she had your dark suit in greasy wash water all year don't ask me to carry an oily rag like that the library has open shelves even in the unbound periodical stockroom twice he nearly fell may i get some more cookies nora most precincts had a third of the votes counted a doctor was in the ambulance with the patient gregory and tom chose to watch cartoons in the afternoon iris thinks this zoo has eleven spanish zebras we experience distress and frustration obtaining our degrees she had your dark suit in greasy wash water all year don't ask me to carry an oily rag like that manual leveling requires an appropriate display of the accelerometer outputs he scowled at her flowers it has multiple implications and possible headaches for your marketing program the cartoon features a muskrat and a tadpole even i occasionally get the monday blues although always alone we survive should giraffes be kept in small zoos please shorten this skirt for joyce she had your dark suit in greasy wash water all year don't ask me to carry an oily rag like that a clearly recognized exception is a statutory merger or consolidation later you shall know it better trim excess clay away from outer edges angora cats are furrier than siamese nonprofit organizations have frequent fund raisers the proof that you are seeking is not available in books barb's gold bracelet was a graduation present they assume no burglar will ever enter here she had your dark suit in greasy wash water all year don't ask me to carry an oily rag like that consider couples visiting an art museum wingman stay clear he prayed there are canoes ideal for fishing in protected waters or for camping trips buying a thoroughbred horse requires intuition and expertise withdraw only as much money as you need diane may splurge and buy a turquoise necklace thomas thinks a larger clamp solves the problem hispanic costumes are quite colorful she had your dark suit in greasy wash water all year don't ask me to carry an oily rag like that confabulation has come to determine structure gyrocompass heading but why pay her bills employee layoffs coincided with the company's reorganization we are open every monday evening the patient and the surgeon are both recuperating from the lengthy operation they used an aggressive policeman to flag thoughtless motorists bagpipes and bongos are musical instruments she had your dark suit in greasy wash water all year don't ask me to carry an oily rag like that perhaps this is what gives the aborigine his odd air of dignity well then who brought it and nathan did he see them too how would you evaluate this algebraic expression tornados often destroy acres of farm land the preschooler couldn't verbalize her feelings about the emergency conditions that stinging vapor was caused by chloride vaporization will you please describe the idiotic predicament she had your dark suit in greasy wash water all year don't ask me to carry an oily rag like that he did not however settle back into acquiescence with things as they were this one came a bit high at thirty thousand or more both cars were slightly damaged westchester is a county in new york the sermon emphasized the need for affirmative action cottage cheese with chives is delicious help celebrate your brother's success i took her word for it but is she really going with you she had your dark suit in greasy wash water all year don't ask me to carry an oily rag like that they had vermouth sitting in front of a cafe he daydreamed on the rock while she swam and splashed around naturally no woman can ever completely monopolize the sexual initiative the mango and the papaya are in a bowl do you hear the sleigh bells ringing did dad do academic bidding rockandroll music has a great rhythm the giant redwoods shimmered in the glistening sun she had your dark suit in greasy wash water all year don't ask me to carry an oily rag like that this birth length seems to be typical the golfing fathers ruled in his favor you're not living up to your own principles she told my discouraged people the government sought authorization of his citizenship i ate every oyster on nora's plate did shawn catch that big goose without help a toothpaste tube should be squeezed from the bottom eat your raisins outdoors on the porch steps she had your dark suit in greasy wash water all year don't ask me to carry an oily rag like that his head flopped back the shot reverberated in diminishing whiplashes of sound again these blocks were set in resinsaturated glass cloth and nailed the previous speaker presented ambiguous results the hallway opens into a huge chamber the big dog loved to chew on the old rag doll those who teach values first abolish cheating chocolate and roses never fail as a romantic gift she had your dark suit in greasy wash water all year don't ask me to carry an oily rag like that he gazed away from us as we approached you're a taxpayer householder landlord but i'm so sunburned that every move i make is agony the haunted house was a hit due to outstanding audiovisual effects we saw eight tiny icicles below our roof a lawyer was appointed to execute her will the toddler found a clamshell near the camp site cooperation along with understanding alleviate dispute she had your dark suit in greasy wash water all year don't ask me to carry an oily rag like that as we ate we talked and never show my face or my truck around here again first they wanted to clarify a tantalizing bizarre enigma the willowy woman wore a muskrat coat the paper boy bought two apples and three ices the local drugstore was charged with illegally dispensing tranquilizers irish youngsters eat fresh kippers for breakfast the eastern coast is a place for pure pleasure and excitement she had your dark suit in greasy wash water all year don't ask me to carry an oily rag like that microorganisms are often responsible for the rapid spoilage of foods maybe you and me will girlie but these two ain't goin' nowhere this will prevent flat falls and toe injuries they often go out in the evening the rose corsage smelled sweet the surplus shoes were sold at a discount price nothing is as offensive as innocence penguins live near the icy antarctic she had your dark suit in greasy wash water all year don't ask me to carry an oily rag like that they are both trendfollowing methods his wife didn't give a sign she'd heard pretend ham make crisscross gashes on one side of skinless frankfurters encyclopedias seldom present anecdotal evidence i gave them several choices and let them set the priorities tofu is made from processed soybeans it's fun to roast marshmallows on a gas burner a young mouse scampered across the field and disappeared she had your dark suit in greasy wash water all year don't ask me to carry an oily rag like that it is the same ole same tell me its name she was holding on to his rock with one hand some women get a real thrill out of housework birthday parties have cupcakes and ice cream draw each graph on a new axis in the long run it pays to buy quality clothing the patient and the surgeon are both recuperating from the lengthy operation she always jokes about too much garlic in his food she had your dark suit in greasy wash water all year don't ask me to carry an oily rag like that she sprang up and went swiftly to the bedroom you don't hafta get nasty like a fair number of bootleggers he disliked alcohol mosquitoes exist in warm humid climates may i order a strawberry sundae after i eat dinner todd placed top priority on getting his bike fixed once you finish greasing your chain be sure to wash thoroughly any contributions will be greatly appreciated she had your dark suit in greasy wash water all year don't ask me to carry an oily rag like that his superiors had also preached this saying it was the way for eternal honor but his resolution hardly seemed to help both loved the outofdoors including mountain climbing and horseback riding they often go out in the evening the rose corsage smelled sweet the surplus shoes were sold at a discount price nothing is as offensive as innocence penguins live near the icy antarctic she had your dark suit in greasy wash water all year don't ask me to carry an oily rag like that did anyone see my cab see you in about an hour the revolution now under way in materials handling makes this much easier as coauthors we presented our new book to the haughty audience the boston ballet overcame their funding shortage ducks have webbed feet and colorful feathers those who are not purists use canned vegetables when making stew did you eat yet she had your dark suit in greasy wash water all year don't ask me to carry an oily rag like that most of our aid will go to those nearing selfsufficiency some tore entirely through the whipsawed post oak he showed puny men attacked by splendidly tyrannical machines whoever cooperates in finding nan's cameo will be rewarded how oily do you like your salad dressing a connoisseur will enjoy this shellfish dish a lone star shone in the early evening sky my instructions desperately need updating she had your dark suit in greasy wash water all year don't ask me to carry an oily rag like that the flatbottomed boat swung slowly to the pull of the current suppose what'shisname got a sunburn along the main thoroughfares hardly a house had not been peppered the drunkard is a social outcast reading in poor light gives you eyestrain the dark murky lagoon wound around for miles a crab challenged me but a quick stab vanquished him upgrade your status to reflect your wealth she had your dark suit in greasy wash water all year don't ask me to carry an oily rag like that but the information on the dynamics of population was often quite misleading heat's bad for frostbite for wasp stings onion juice obtained by scraping an onion gave quick relief does creole cooking use curry draw every outer line first then fill in the interior the moisture in my eyes is from eyedrops not from tears first add milk to the shredded cheese primitive tribes have an upbeat attitude she had your dark suit in greasy wash water all year don't ask me to carry an oily rag like that resistance thermometers it was like finally getting into one's own nightmares to punish one's dreams his body pitched back and forth on the bench while waiting for chipper she crisscrossed the square many times puree some fruit before preparing the skewers chip postponed alimony payments until the latest possible date the football team coach has a watch thin as a dime the singer's finger had a splinter she had your dark suit in greasy wash water all year don't ask me to carry an oily rag like that how about me trying to help her get her job back he was full of heavy family reminiscence all too often our language is unduly harsh pledge to participate in nevada's aquatic competition i honor my mom the groundhog clearly saw his shadow but stayed out only a moment butterscotch fudge goes well with vanilla ice cream ambidextrous pickpockets accomplish more she had your dark suit in greasy wash water all year don't ask me to carry an oily rag like that how many children do you have present today it was as blissful and fulfilling a night as any bride ever experienced worse his present crew included five men who had sailed with him before too much curiosity can get you into trouble i itemize all accounts in my agency the full moon shone brightly that night move the garbage nearer to the large window the lack of heat compounded the tenant's grievances she had your dark suit in greasy wash water all year don't ask me to carry an oily rag like that they'll move around that rock all day following the shade when he left she knew she would never see him again you're to report back to headquarters at once whoever cooperates in finding nan's cameo will be rewarded how oily do you like your salad dressing a connoisseur will enjoy this shellfish dish a lone star shone in the early evening sky my instructions desperately need updating she had your dark suit in greasy wash water all year don't ask me to carry an oily rag like that the odor here was more powerful than that which surrounded the town aborigines for a man of his mass he was curiously short alice i tell you my feet are like chopped beefsteak does creole cooking use curry draw every outer line first then fill in the interior the moisture in my eyes is from eyedrops not from tears first add milk to the shredded cheese primitive tribes have an upbeat attitude she had your dark suit in greasy wash water all year don't ask me to carry an oily rag like that prompted by a guilty urge he had disobeyed the order of a man he respected but then redheads are often pale a sharp tremor was followed by a jerky roll our experiment's positive outcome was unexpected how ancient is this subway escalator rob made hungarian goulash for dinner and gooseberry pie for dessert a moth zigzagged along the path through otto's garden we got drenched from the uninterrupted rain she had your dark suit in greasy wash water all year don't ask me to carry an oily rag like that with those paintings of big constructions crashing down he felt he could stop and the law virtually ignored the situation thread matching yarn in tapestry needle too much curiosity can get you into trouble i itemize all accounts in my agency the full moon shone brightly that night move the garbage nearer to the large window the lack of heat compounded the tenant's grievances she had your dark suit in greasy wash water all year don't ask me to carry an oily rag like that he began to pack the saddlebags but if she wasn't interested she'd just go back to the same life she'd left superior new material for orthodontic work is another result of research lots of foreign movies have subtitles try to recall the events in chronological order shipbuilding is a most fascinating process young people participate in athletic activities children can consume many fruit candies in one sitting she had your dark suit in greasy wash water all year don't ask me to carry an oily rag like that the old woman arose stiffly and led me to a clearing where a small hut stood could it do otherwise opaque cantaloupe and transparent wood brown were used he ate four extra eggs for breakfast the most recent geological survey found seismic activity the hood of the jeep was steaming in the hot sun stimulating discussions keep students' attention just drop notices in any suggestion box she had your dark suit in greasy wash water all year don't ask me to carry an oily rag like that they inhabit a secret world centered on go codes and gold phones hey come back he shouted this is the second year your mother's donated my fishing tackle to the bazaar as coauthors we presented our new book to the haughty audience the boston ballet overcame their funding shortage ducks have webbed feet and colorful feathers those who are not purists use canned vegetables when making stew did you eat yet she had your dark suit in greasy wash water all year don't ask me to carry an oily rag like that readiness exercises are almost continuous something else distracted him yet there was no sound only tomblike silence don't they still call you junior as though you're about ten years old the drunkard is a social outcast reading in poor light gives you eyestrain the dark murky lagoon wound around for miles a crab challenged me but a quick stab vanquished him upgrade your status to reflect your wealth she had your dark suit in greasy wash water all year don't ask me to carry an oily rag like that he travelled all over the world baseball's no cinch next he addressed himself to our souls employee layoffs coincided with the company's reorganization we are open every monday evening the patient and the surgeon are both recuperating from the lengthy operation they used an aggressive policeman to flag thoughtless motorists bagpipes and bongos are musical instruments she had your dark suit in greasy wash water all year don't ask me to carry an oily rag like that the gunman nodded slipping the picture into his breast pocket saying nothing he sized up the situation and shook his head a pool is no place for a shut trap they remained lifelong friends and companions by eating yogurt you may live longer the frightened child was gently subdued by his big brother the overweight charmer could slip poison into anyone's tea cliff's display was misplaced on the screen she had your dark suit in greasy wash water all year don't ask me to carry an oily rag like that twentyfive the sheik replied the soft snow was deceitful underfoot i always say you've got a wonderful husband miss margaret correct execution of my instructions is crucial the courier was a dwarf al received a joint appointment in the biology and the engineering departments valley lodge yearly celebrates the first calf born the prowler wore a ski mask for disguise she had your dark suit in greasy wash water all year don't ask me to carry an oily rag like that cows givin' no milk were knowed as strippers kinda like a zombie not without good reason has the anatomical been called jocular journalese encyclopedias seldom present anecdotal evidence i gave them several choices and let them set the priorities tofu is made from processed soybeans it's fun to roast marshmallows on a gas burner a young mouse scampered across the field and disappeared she had your dark suit in greasy wash water all year don't ask me to carry an oily rag like that now the problem is presented piecemeal and sometimes contradictorily oh shucks the girl said they're easier to shade there the triumphant warrior exhibited naive heroism can the agency overthrow alien forces according to my interpretation of the problem two lines must be perpendicular suburban housewives often suffer from the gab habit good service should be rewarded by big tips she had your dark suit in greasy wash water all year don't ask me to carry an oily rag like that the social and psychological consequences of this continue to affect the area she'd also remember if the groom died later nora i think you imagine it mosquitoes exist in warm humid climates may i order a strawberry sundae after i eat dinner todd placed top priority on getting his bike fixed once you finish greasing your chain be sure to wash thoroughly any contributions will be greatly appreciated she had your dark suit in greasy wash water all year don't ask me to carry an oily rag like that the stepmother almost without exception has been presented as a cruel ogress a thick crimson carpet muffled every footfall this is a sleeping capsule the previous speaker presented ambiguous results the hallway opens into a huge chamber the big dog loved to chew on the old rag doll those who teach values first abolish cheating chocolate and roses never fail as a romantic gift she had your dark suit in greasy wash water all year don't ask me to carry an oily rag like that he finds it in utter misery and desolation he would offer no theory to account for her murder cable confirmation it said translated as a precaution the outlaws bought gunpowder for their stronghold how permanent are their records will you please confirm government policy regarding waste removal critical equipment needs proper maintenance tim takes sheila to see movies twice a week she had your dark suit in greasy wash water all year don't ask me to carry an oily rag like that northern liberals are the chief supporters of civil rights and of integration the sheriff's swivel chair tilted back why nora the very idea the previous speaker presented ambiguous results the hallway opens into a huge chamber the big dog loved to chew on the old rag doll those who teach values first abolish cheating chocolate and roses never fail as a romantic gift she had your dark suit in greasy wash water all year don't ask me to carry an oily rag like that his name became synonymous with coldblooded cruelty two women who had been chattering like parrots were struck dumb ideally he knew it should be preceded by concrete progress at lower levels correct execution of my instructions is crucial the courier was a dwarf the rose corsage smelled sweet valley lodge yearly celebrates the first calf born the prowler wore a ski mask for disguise she had your dark suit in greasy wash water all year don't ask me to carry an oily rag like that however a boy's lively eyes might rove then the telephoning began large injectionmolded letters are also available for sign installations the government sought authorization of his citizenship i ate every oyster on nora's plate did shawn catch that big goose without help a toothpaste tube should be squeezed from the bottom eat your raisins outdoors on the porch steps she had your dark suit in greasy wash water all year don't ask me to carry an oily rag like that brief snips of actual events were shown parades dances street scenes there was also a dog a dingo dog and so he walked aimless again the triumphant warrior exhibited naive heroism can the agency overthrow alien forces according to my interpretation of the problem two lines must be perpendicular suburban housewives often suffer from the gab habit good service should be rewarded by big tips she had your dark suit in greasy wash water all year don't ask me to carry an oily rag like that he looked lazy spoiled a little querulous just why anybody should wish to start a riot the executive officer didn't know every single problem touched on thus far is related to good marketing planning trespassing is forbidden and subject to penalty only the best players enjoy popularity we like bleu cheese but victor prefers swiss cheese a good attitude is unbeatable they all like long hot showers she had your dark suit in greasy wash water all year don't ask me to carry an oily rag like that and his relatively small hands and feet gave him an almost delicate appearance at least the wheels dug in death reminds man of his sin but it reminds him also of his transience trespassing is forbidden and subject to penalty only the best players enjoy popularity we like bleu cheese but victor prefers swiss cheese a good attitude is unbeatable they all like long hot showers she had your dark suit in greasy wash water all year don't ask me to carry an oily rag like that there are several sources of evidence on the micrometeorite environment privately he created and magnified an image of himself as a hired assassin at any rate it shows us how immaterial we are too much curiosity can get you into trouble i itemize all accounts in my agency the full moon shone brightly that night move the garbage nearer to the large window the lack of heat compounded the tenant's grievances she had your dark suit in greasy wash water all year don't ask me to carry an oily rag like that in many of his poems death comes by train a strongly evocative visual image the guerrilla bivouac remained silent well now we have two big theaters as a precaution the outlaws bought gunpowder for their stronghold we apply auditory modeling to computer speech recognition the high security prison was surrounded by barbed wire the fifth jar contains big juicy peaches porcupines resemble sea urchins she had your dark suit in greasy wash water all year don't ask me to carry an oily rag like that cut off every building at the seventh floor like his glossy black hair wooded stream valleys in the folds of earth would be saved how would you evaluate this algebraic expression tornados often destroy acres of farm land the preschooler couldn't verbalize her feelings about the emergency conditions that stinging vapor was caused by chloride vaporization will you please describe the idiotic predicament she had your dark suit in greasy wash water all year don't ask me to carry an oily rag like that he may get a tax refund we'll both be blowing town tomorrow so we won't be moving in on you county officials have cooperated consistently she encouraged her children to make their own halloween costumes the jaw operates by using antagonistic muscles george seldom watches daytime movies spherical gifts are difficult to wrap flying standby can be practical if you want to save money she had your dark suit in greasy wash water all year don't ask me to carry an oily rag like that the larvae kept warm by the queen are full grown in about ten days so he understood her panic a single kick made it spring open shuddering our experiment's positive outcome was unexpected how ancient is this subway escalator rob made hungarian goulash for dinner and gooseberry pie for dessert a moth zigzagged along the path through otto's garden we got drenched from the uninterrupted rain she had your dark suit in greasy wash water all year don't ask me to carry an oily rag like that this is our singular goal will you tell me why impressions often appear in a symbolic form and cannot be taken at face value angora cats are furrier than siamese nonprofit organizations have frequent fund raisers the proof that you are seeking is not available in books barb's gold bracelet was a graduation present they assume no burglar will ever enter here she had your dark suit in greasy wash water all year don't ask me to carry an oily rag like that biological warfare is considered to be primarily a strategic weapon who told you to do it men believed they could control nature by obeying a moral code while waiting for chipper she crisscrossed the square many times puree some fruit before preparing the skewers chip postponed alimony payments until the latest possible date the football team coach has a watch thin as a dime the singer's finger had a splinter she had your dark suit in greasy wash water all year don't ask me to carry an oily rag like that internal national responsibility now a truism need not be documented come on let's hurry down before they lock up for the day junior what on earth's the matter with you the water contained too much chlorine and stung his eyes does hindu ideology honor cows gus saw pine trees and redwoods on his walk through sequoia national forest movies never have enough villains challenge each general's intelligence she had your dark suit in greasy wash water all year don't ask me to carry an oily rag like that they despised foreigners his suresure was enthusiastic this time but that heritage is shrinking even faster we could barely see the fjords through the snow flurries do atypical farmers grow oats the system may break down soon so save your files frequently ralph prepared red snapper with fresh lemon sauce for dinner it's hard to tell an original from a forgery she had your dark suit in greasy wash water all year don't ask me to carry an oily rag like that beer generally fermented from barley is an old alcoholic beverage they even pay me six dollars a month no he didn't know of any handymancarpenter the cartoon features a muskrat and a tadpole even i occasionally get the monday blues should giraffes be kept in small zoos my desires are simple give me one informative paragraph on the subject please shorten this skirt for joyce she had your dark suit in greasy wash water all year don't ask me to carry an oily rag like that he may not rise to the heights but he can get by and eventually be retired this excellent foreign bomb takes only six stoneware clay for tiles encyclopedias seldom present anecdotal evidence i gave them several choices and let them set the priorities tofu is made from processed soybeans it's fun to roast marshmallows on a gas burner a young mouse scampered across the field and disappeared she had your dark suit in greasy wash water all year don't ask me to carry an oily rag like that the car door crashed shut ambiguity arises when the pronoun it carries a twofold reference the fat man has trouble buying life insurance or has to pay higher premiums he ate four extra eggs for breakfast the most recent geological survey found seismic activity the hood of the jeep was steaming in the hot sun stimulating discussions keep students' attention just drop notices in any suggestion box she had your dark suit in greasy wash water all year don't ask me to carry an oily rag like that in either case they do not appreciate the private detective's zeal worn through at the knees one more muddleheaded play like that one and they'd be leading him away we plan to build a new beverage plant cory attacked the project with extra determination although always alone we survive the taxicab broke down and caused a traffic jam etiquette mandates compliance with existing regulations she had your dark suit in greasy wash water all year don't ask me to carry an oily rag like that if disobeyed the result is turmoil and chaos you people don't have adjustable vision usually they titter loudly after they have passed by angora cats are furrier than siamese nonprofit organizations have frequent fund raisers the proof that you are seeking is not available in books barb's gold bracelet was a graduation present they assume no burglar will ever enter here she had your dark suit in greasy wash water all year don't ask me to carry an oily rag like that closer still regular barricades of barbed wire hung on timber supports with any luck at all he could easily find a flowerpot are you underwriting expensive team trips he ate four extra eggs for breakfast the most recent geological survey found seismic activity the hood of the jeep was steaming in the hot sun stimulating discussions keep students' attention just drop notices in any suggestion box she had your dark suit in greasy wash water all year don't ask me to carry an oily rag like that he has also an extraordinary conscience to kayo him and maybe or maybe not kill thus there is a clearer division of authority administrative and legislative almost all colleges are now coeducational are holiday aprons available to us i assume moisture will damage this ship's hull roy ignored the spurious data points in drawing the graph the thinker is a famous sculpture she had your dark suit in greasy wash water all year don't ask me to carry an oily rag like that they were chasing a rain cloud not when she'd waited so long already not very well behaved is she to run out on a play mate biologists use radioactive isotopes to study microorganisms the irate actor stomped away idiotically the barracuda recoiled from the serpent's poisonous fangs please sing just the club theme gently place jim's foam sculpture in the box she had your dark suit in greasy wash water all year don't ask me to carry an oily rag like that the world is constantly changing what was new yesterday is obsolescent today lifting her skirts she climbed in never relinquishing her grip on his arm why are you trying to worry me severe myopia contributed to ron's inferiority complex the saw is broken so chop the wood instead dolphins are intelligent marine mammals what is this large thing by the ironing board cement is measured in cubic yards she had your dark suit in greasy wash water all year don't ask me to carry an oily rag like that but none of this could soothe the exacerbated nerves don't you hate me any more they were shown how to advance against an enemy outpost atop a cleared ridge orange juice tastes funny after toothpaste herb's birthday occurs frequently on thanksgiving often you'll get back more than you put in top zinnias rarely have crooked stems regular attendance is seldom required she had your dark suit in greasy wash water all year don't ask me to carry an oily rag like that it made no difference that most evidence points to an opposite conclusion we haven't slept together since we started melancholy obsession scholastic aptitude is judged by standardized tests they all agree that the essay is barely intelligible an adult male baboon's teeth are not suitable for eating shellfish smash lightbulbs and their cash value will diminish to nothing continental drift is a geological theory she had your dark suit in greasy wash water all year don't ask me to carry an oily rag like that how well do faculty members govern themselves oilfield workers were a roughtough lot later we shall see what happened when an emperor took this idea too literally angora cats are furrier than siamese nonprofit organizations have frequent fund raisers the proof that you are seeking is not available in books barb's gold bracelet was a graduation present they assume no burglar will ever enter here she had your dark suit in greasy wash water all year don't ask me to carry an oily rag like that the wrinkled mouth laughed revealing astonishingly strong white teeth one white hand poised a stick above his desk the old shop adage still holds a good mechanic is usually a bad boss cyclical programs will never compile clear pronunciation is appreciated steve collects rare and novel coins a huge power outage rarely occurs academic aptitude guarantees your diploma she had your dark suit in greasy wash water all year don't ask me to carry an oily rag like that he put it in his own pocket for safekeeping rundown ironpoor now he's bought it said my wife contentedly the willowy woman wore a muskrat coat the paper boy bought two apples and three ices the local drugstore was charged with illegally dispensing tranquilizers irish youngsters eat fresh kippers for breakfast the eastern coast is a place for pure pleasure and excitement she had your dark suit in greasy wash water all year don't ask me to carry an oily rag like that castor oil made from castorbeans has gone out of style as a medicine before deriving this formula we explain what we mean by problems of this kind we've got plenty of time to think about that you must explicitly delete files the museum hires musicians every evening would you allow acts of violence rich purchased several signed lithographs growing wellkept gardens is very time consuming she had your dark suit in greasy wash water all year don't ask me to carry an oily rag like that the antithesis of the ecumenical and the local then no longer exists he remembered a story he had read as a youth yes ma'am the children chorused heartily scientific progress comes from the development of new techniques steph could barely handle the psychological trauma that dog chases cats mercilessly there was a gigantic wasp next to irving's big top hat that pickpocket was caught redhanded she had your dark suit in greasy wash water all year don't ask me to carry an oily rag like that they are not true because scientists or prophets say they are true someone reasonably trustworthy when she awoke she was the ship publicity and notoriety go hand in hand you always come up with pathological examples those answers will be straightforward if you think through them carefully first we'll serve rhubarb pie after rachel's talk biblical scholars argue history she had your dark suit in greasy wash water all year don't ask me to carry an oily rag like that the continuing modernization of these forces is a costly but necessary process our hypothetical other bum who killed him would have turned out his pockets too many have bogged down in bickering severe myopia contributed to ron's inferiority complex the saw is broken so chop the wood instead dolphins are intelligent marine mammals what is this large thing by the ironing board cement is measured in cubic yards she had your dark suit in greasy wash water all year don't ask me to carry an oily rag like that otherwise the outlook could be dark indeed he earnestly urged a ceasefire the need for reupholstering redecorating repainting becomes more infrequent the haunted house was a hit due to outstanding audiovisual effects we saw eight tiny icicles below our roof a lawyer was appointed to execute her will the toddler found a clamshell near the camp site cooperation along with understanding alleviate dispute she had your dark suit in greasy wash water all year don't ask me to carry an oily rag like that suddenly she was very mysterious and dramatic she saw me and sat down beside me three feet away advantages a farm provides a wholesome and healthful environment for children technical writers can abbreviate in bibliographies keep the thermometer under your tongue bob found more clams at the ocean's edge of course you can have another tunafish sandwich addition and subtraction are learned skills she had your dark suit in greasy wash water all year don't ask me to carry an oily rag like that hastily the boy switched on a ceiling light it was most effective against trade unions splendor by sorcery it's a horror mosquitoes exist in warm humid climates may i order a strawberry sundae after i eat dinner todd placed top priority on getting his bike fixed once you finish greasing your chain be sure to wash thoroughly any contributions will be greatly appreciated she had your dark suit in greasy wash water all year don't ask me to carry an oily rag like that he believed that brave boys didn't cry often they are able to get in only because the area is declining economically however the aircraft which we have today are tied to large soft airfields curiosity and mediocrity seldom coexist do they allow atheists in church i know i didn't meet her early enough each stag surely finds a big fawn an official deadline cannot be postponed she had your dark suit in greasy wash water all year don't ask me to carry an oily rag like that time and space have both become cinematic it moved in a silver arc toward his throat then veered downward got the upstairs guy he bellows which long article was opaque and needed clarification his failure to open the store by eight cost him his job a leather handbag would be a suitable gift gwen planted green beans in her vegetable garden her classical performance gained critical acclaim she had your dark suit in greasy wash water all year don't ask me to carry an oily rag like that nobody does but they gave me ten last year you don't belong in professional baseball but our stumping tour of the south wasn't all misery the easygoing zoologist relaxed throughout the voyage my ideal morning begins with hot coffee trish saw hours and hours of movies saturday the rich should invest in black zircons instead of stylish shoes fill that canteen with fresh spring water she had your dark suit in greasy wash water all year don't ask me to carry an oily rag like that only rarely is attention given to accurate progress reports and evaluation the mixing head moves back and forth slowly across the width of the receptacle drug's chemical name procaine penicillin birthday parties have cupcakes and ice cream carl lives in a lively home draw each graph on a new axis in the long run it pays to buy quality clothing she always jokes about too much garlic in his food she had your dark suit in greasy wash water all year don't ask me to carry an oily rag like that boy you ain't fooling nobody but yourself thirtyfive they rode at a measured pace through the valley with this no loyal citizen can quarrel our experiment's positive outcome was unexpected how ancient is this subway escalator rob made hungarian goulash for dinner and gooseberry pie for dessert a moth zigzagged along the path through otto's garden we got drenched from the uninterrupted rain she had your dark suit in greasy wash water all year don't ask me to carry an oily rag like that the name fell with lazy affectionate remembrance from her lips the leagues are full of guys like that almost everybody in the senior class is married students say dogmatically how would you evaluate this algebraic expression tornados often destroy acres of farm land get a calico cat to keep that stinging vapor was caused by chloride vaporization will you please describe the idiotic predicament she had your dark suit in greasy wash water all year don't ask me to carry an oily rag like that she took it with her wherever she went she chose it why do we need bigger and better bombs then fill the system and add a rust inhibitor mosquitoes exist in warm humid climates may i order a strawberry sundae after i eat dinner todd placed top priority on getting his bike fixed once you finish greasing your chain be sure to wash thoroughly any contributions will be greatly appreciated she had your dark suit in greasy wash water all year don't ask me to carry an oily rag like that they know little about their machinery beyond mechanical details then he heard the outer door closing maybe they're delivering the desk now the government sought authorization of his citizenship i ate every oyster on nora's plate did shawn catch that big goose without help toothpaste tube should be squeezed from the bottom eat your raisins outdoors on the porch steps she had your dark suit in greasy wash water all year don't ask me to carry an oily rag like that a monstrous shadow fell across the illuminated wall distorted and indefinable he felt a good deal less shaky success for many turnpikes has come hard as coauthors we presented our new book to the haughty audience the boston ballet overcame their funding shortage ducks have webbed feet and colorful feathers those who are not purists used canned vegetables when making stew did you eat yet she had your dark suit in greasy wash water all year don't ask me to carry an oily rag like that two miles northeast then five miles southwest  that sort of thing emotionally they penetrated him not at all now if you'll pardon me i won't keep him waiting do you have the yellow ointment ready did dad do academic bidding the new suburbanites worked hard on refurbishing their older home don't look for group valuables in a bank vault it's impossible to deal with bureaucracy she had your dark suit in greasy wash water all year don't ask me to carry an oily rag like that any organism that falters or misperceives the signals or weakens is done so somebody else knew what would happen to her father's money if she died oh mother i saw them who took the kayak down the bayou how much allowance do you get the essay undeniably reflects our view ably i'll have a scoop of that exotic purple and turquoise sherbet doctors prescribe drugs too freely she had your dark suit in greasy wash water all year don't ask me to carry an oily rag like that we both had hangovers not good looking but selfconfident and wise so that it made her attractive as a rule parttime farmers hire little help scientific progress comes from the development of new techniques steph could barely handle the psychological trauma that dog chases cats mercilessly there was a gigantic wasp next to irving's big top hat that pickpocket was caught redhanded she had your dark suit in greasy wash water all year don't ask me to carry an oily rag like that it does not indicate loose management ineffective controls or poor policy there's no war on now it all takes place in the eighteenth century she encouraged her children to make their own halloween costumes the jaw operates by using antagonistic muscles george seldom watches daytime movies spherical gifts are difficult to wrap flying standby can be practical if you want to save money she had your dark suit in greasy wash water all year don't ask me to carry an oily rag like that her lips moist and parted spoke his name this is a problem that goes considerably beyond questions of salary and tenure the coalition was to prove inadvisable the previous speaker presented ambiguous results the hallway opens into a huge chamber the big dog loved to chew on the old rag doll those who teach values first abolish cheating chocolate and roses never fail as a romantic gift she had your dark suit in greasy wash water all year don't ask me to carry an oily rag like that the knifelike pain in his groin nearly brought him down again very peculiar retribution indeed seems to overtake such jokers i saw your horse outside pledge to participate in nevada's aquatic competition i honor my mom the groundhog clearly saw his shadow but stayed out only a moment butterscotch fudge goes well with vanilla ice cream ambidextrous pickpockets accomplish more she had your dark suit in greasy wash water all year don't ask me to carry an oily rag like that when he was eight he began violin lessons they had come not to admire but to observe you'd think her stomach would've got used to it in three weeks almost all colleges are now coeducational are holiday aprons available to us i assume moisture will damage this ship's hull roy ignored the spurious data points in drawing the graph the thinker is a famous sculpture she had your dark suit in greasy wash water all year don't ask me to carry an oily rag like that the cowboy's humorous name for a cow givin' milk was a milk pitcher this explains some group ends and provides a justification of their primacy samples he walked in upon her invitation trespassing is forbidden and subject to penalty only the best players enjoy popularity we like bleu cheese but victor prefers swiss cheese a good attitude is unbeatable they all like long hot showers she had your dark suit in greasy wash water all year don't ask me to carry an oily rag like that it could take place tomorrow night or it might occur months from now the great black leopards he's a pinto and he photographs wonderfully publicity and notoriety go hand in hand you always come up with pathological examples those answers will be straightforward if you think them through carefully first we'll serve rhubarb pie after rachel's talk biblical scholars argue history she had your dark suit in greasy wash water all year don't ask me to carry an oily rag like that they understood and teased me a bit about it deep enough he decided well wait until you finish what you've got davy while waiting for chipper she crisscrossed the square many times puree some fruit before preparing the skewers chip postponed alimony payments until the latest possible date the football team coach has a watch thin as a dime the singer's finger had a splinter she had your dark suit in greasy wash water all year don't ask me to carry an oily rag like that almonds and pistachio nuts are not so high in oil but are rich in protein in a week the hyacinths would spike out joking stopped and everyone gathered around birthday parties have cupcakes and ice cream carl lives in a lively home draw each graph on a new axis in the long run it pays to buy quality clothing she always jokes about too much garlic in his food she had your dark suit in greasy wash water all year don't ask me to carry an oily rag like that no she would not pretend modesty but neither must she be crudely bold it's never wrong if love is real share bath maybe  but share refrigerator while waiting for chipper she crisscrossed the square many times puree some fruit before preparing the skewers chip postponed alimony payments until the latest possible date the football team coach has a watch thin as a dime the singer's finger had a splinter she had your dark suit in greasy wash water all year don't ask me to carry an oily rag like that he found an empty bench opened a newspaper and stretched his legs before him a long long way down livestock must be tended every day routinely publicity and notoriety go hand in hand you always come up with pathological examples those answers will be straightforward if you think them through carefully first we'll serve rhubarb pie after rachel's talk biblical scholars argue history she had your dark suit in greasy wash water all year don't ask me to carry an oily rag like that but considered within technical astronomy a different pattern can be traced it's perhaps a mile from here where we sit the boost is helpful but inadequate employee layoffs coincided with the company's reorganization carl lives in a lively home we are open every monday evening they used an aggressive policeman to flag thoughtless motorists bagpipes and bongos are musical instruments she had your dark suit in greasy wash water all year don't ask me to carry an oily rag like that he advised immediate hospitalization my beloved ward my perennial gadfly said the whining voice what a discussion can ensue when the title of this type of song is in question birthday parties have cupcakes and ice cream carl lives in a lively home draw each graph on a new axis in the long run it pays to buy quality clothing she always jokes about too much garlic in his food she had your dark suit in greasy wash water all year don't ask me to carry an oily rag like that cleaned cloth must be protected against the redeposition of dispersed soil it required an energy he no longer possessed to be satirical about his father is it larger or fancier than you really need the emperor had a mean temper how permanent are their records the meeting is now adjourned critical equipment needs proper maintenance tim takes sheila to see movies twice a week she had your dark suit in greasy wash water all year don't ask me to carry an oily rag like that all three must compare notes and agree to go anything to do with an ace o' spades bad luck then may i ask where these muddy foot prints came from the easygoing zoologist relaxed throughout the voyage my ideal morning begins with hot coffee trish saw hours and hours of movies saturday the rich should invest in black zircons instead of stylish shoes fill that canteen with fresh spring water she had your dark suit in greasy wash water all year don't ask me to carry an oily rag like that unless we send out the whole pie their pieces mean nothing keep your seats boys i just want to put some finishing touches on this thing it seems that open season upon veterans' hospitalization is once more upon us curiosity and mediocrity seldom coexist do they allow atheists in church i know i didn't meet her early enough each stag surely finds a big fawn an official deadline cannot be postponed she had your dark suit in greasy wash water all year don't ask me to carry an oily rag like that the third crawling man forced himself erect when he finally did he had to duck his head quickly away as the pitch came in they polished the windshield as coauthors we presented our new book to the haughty audience the boston ballet overcame their funding shortage ducks have webbed feet and colorful feathers those who are not purists use canned vegetables when making stew did you eat yet she had your dark suit in greasy wash water all year don't ask me to carry an oily rag like that they stayed at hotels and boardinghouses or at private homes she overplayed her hand the way is to rent a chauffeurdriven car her auburn hair reminded him of autumn leaves the gorgeous butterfly ate a lot of nectar take charge of choosing her bride's maids' gowns coffee is grown on steep junglelike slopes in temperate zones spring street is straight ahead she had your dark suit in greasy wash water all year don't ask me to carry an oily rag like that the other patrons were taxi drivers and art students and small shopkeepers named after the ballet use deductible insurance wherever feasible technical writers can abbreviate in bibliographies keep the thermometer under your tongue bob found more clams the ocean's edge of course you can have another tunafish sandwich addition and subtraction are learned skills she had your dark suit in greasy wash water all year don't ask me to carry an oily rag like that are we as safe as we should be from such a disaster now don't shut this door well i guess i ought to dust out that desk anyhow remove the splinter with a pair of tweezers the cigarettes in the clay ashtray overflowed onto the oak table bob bandaged both wounds with the skill of a doctor every cab needs repainting often last year's gas shortage caused steep price increases she had your dark suit in greasy wash water all year don't ask me to carry an oily rag like that the compounds are divided according to composition into seven categories maybe they already got them he ripped down the cellophane carefully and laid three dogs on the tin foil why else would danny allow others to go the angry boy answered but didn't look up this was easy for us the cow wandered from the farmland and became lost cut a small corner off each edge she had your dark suit in greasy wash water all year don't ask me to carry an oily rag like that they've never met you know twentytwo or twentythree tetanus could be avoided by pouring warm turpentine over a wound the triumphant warrior exhibited naive heroism can the agency overthrow alien forces according to my interpretation of the problem two lines must be perpendicular suburban housewives often suffer from the gab habit good service should be rewarded by big tips she had your dark suit in greasy wash water all year don't ask me to carry an oily rag like that the trouble is that like many symbols it doesn't seem a very realistic one you'll have to try it alone he talked about unauthentic storylines too who took the kayak down the bayou the essay undeniably reflects our view ably i'll have a scoop of that exotic purple and turquoise sherbet shell shock caused by shrapnel is sometimes cured through group therapy doctors prescribe drugs too freely she had your dark suit in greasy wash water all year don't ask me to carry an oily rag like that these always contain metallic inclusions we don't know this guy a site may also be attractive just through the beauty of its trees and shrubs she encouraged her children to make their own halloween costumes the jaw operates by using antagonistic muscles george seldom watches daytime movies spherical gifts are difficult to wrap flying standby can be practical if you want to save money she had your dark suit in greasy wash water all year don't ask me to carry an oily rag like that more often these offices are restricted to the gathering of empirical data why he's going to kill me he thought wildly none should ask less publicity and notoriety go hand in hand you always come up with pathological examples those answers will be straightforward if you think them through carefully first we'll serve rhubarb pie after rachel's talk biblical scholars argue history she had your dark suit in greasy wash water all year don't ask me to carry an oily rag like that fortyseven states assign or provide vehicles for employees on state business anything wrong cap'n the humor of the situation can be imagined does creole cooking use curry draw every outer line first then fill in the interior the moisture in my eyes is from eyedrops not from tears first add milk to the shredded cheese primitive tribes have an upbeat attitude she had your dark suit in greasy wash water all year don't ask me to carry an oily rag like that neither his appetites his exacerbations nor his despair were kin to yours oh yes he'd talked about doing so hello boss he said and grinned remember to allow identical twins to enter freely this was easy for us many wealthy tycoons splurged and bought both a yacht and a schooner the advertising verse of plymouth variety store never changes it's illegal to postdate a check she had your dark suit in greasy wash water all year don't ask me to carry an oily rag like that why couldn't they have dumped him off on someone else his fingers fumbled across the bandages no chemical fertilizers and poisonous insecticides and fungicides are used the triumphant warrior exhibited naive heroism how do oysters make pearls can the agency overthrow alien forces suburban housewives often suffer from the gab habit good service should be rewarded by big tips she had your dark suit in greasy wash water all year don't ask me to carry an oily rag like that with his club foot he might well be grateful the red pills are a vitaminandiron compound no group of officers came in for more spirited denunciation than the doctors vietnamese cuisine is exquisite it's not easy to create illuminating examples this was easy for us count the number of teaspoons of soysauce that you add the legislature met to judge the state of public education she had your dark suit in greasy wash water all year don't ask me to carry an oily rag like that he'd not only told me so he'd proved it it was time to go up myself but he was very much like his associates in his hatred of camp routine correct execution of my instructions is crucial the courier was a dwarf al received a joint appointment in the biology and the engineering departments valley lodge yearly celebrates the first calf born the prowler wore a ski mask for disguise she had your dark suit in greasy wash water all year don't ask me to carry an oily rag like that these needs usually concern the reduction of guilt and some relief of tension brakes shrieked behind us the total of these three volumes is the final combustion chamber volume why else would danny allow others to go the angry boy answered but didn't look up this was easy for us the cow wandered from the farmland and became lost cut a small corner off each edge she had your dark suit in greasy wash water all year don't ask me to carry an oily rag like that religion fosters group life in various ways on unoccupied roadway the bottle shattered into a small amber flash this tool can also be made with a lathe rich looked for spotted hyenas and jaguars on the safari be careful not to plow over the flower beds the speech symposium might begin monday the thick elm forest was nearly overwhelmed by dutch elm disease the misprint provoked an immediate disclaimer she had your dark suit in greasy wash water all year don't ask me to carry an oily rag like that he is forced to play for little money and must often take another job to live a bayonet hung in a belt scabbard but the attack was made from an advance copy as coauthors we presented our new book to the haughty audience the boston ballet overcame their funding shortage ducks have webbed feet and colorful feathers those who are not purists use canned vegetables when making stew did you eat yet she had your dark suit in greasy wash water all year don't ask me to carry an oily rag like that he drove sensual patterns off carefully shaving his long upper lip the ward was a small one four beds kept reserved for female alcoholics let the orthodontist decide the proper time to start treatment he urges the emperor had a mean temper how permanent are their records the meeting is now adjourned critical equipment needs proper maintenance tim takes sheila to see movies twice a week she had your dark suit in greasy wash water all year don't ask me to carry an oily rag like that he merely said any good decorator these days can make you a tasteful home another field had given him fame enough to satisfy any egotist latest models serve hot meals at reasonable prices and at a profit to you pledge to participate in nevada's aquatic competition i honor my mom a good attitude is unbeatable butterscotch fudge goes well with vanilla ice cream ambidextrous pickpockets accomplish more she had your dark suit in greasy wash water all year don't ask me to carry an oily rag like that such legislation was clarified and extended from time to time thereafter they were shattered when mold has more than one design cavity make individual paper patterns lots of foreign movies have subtitles try to recall the events in chronological order shipbuilding is a most fascinating process young people participate in athletic activities children can consume many fruit candies in one sitting she had your dark suit in greasy wash water all year don't ask me to carry an oily rag like that they'll toe the line then he fled not waiting to see if she minded him or took notice of his cry they serve cracked wheat oats or cornmeal does creole cooking use curry draw every outer line first then fill in the interior the moisture in my eyes is from eyedrops not from tears first add milk to the shredded cheese primitive tribes have an upbeat attitude she had your dark suit in greasy wash water all year don't ask me to carry an oily rag like that but what if somebody decides to break it no they could kill him just as easy right now she didn't donate anything of yours did she as a precaution the outlaws bought gunpowder for their stronghold we apply auditory modeling to computer speech recognition the high security prison was surrounded by barbed wire the fifth jar contains big juicy peaches porcupines resemble sea urchins she had your dark suit in greasy wash water all year don't ask me to carry an oily rag like that his arm moved swiftly violently once twice they seem darned proud of it is a dream simply a mental or cerebral movie who took the kayak down the bayou the essay undeniably reflects our view ably i'll have a scoop of that exotic purple and turquoise sherbet shell shock caused by shrapnel is sometimes cured through group therapy doctors prescribe drugs too freely she had your dark suit in greasy wash water all year don't ask me to carry an oily rag like that residential associations struggle to insulate themselves against intrusions a crude ladder ran down to a wooden floor a tsunami is not a single wave but a series the water contained too much chlorine and stung his eyes does hindu ideology honor cows gus saw pine trees and redwoods on his walk through sequoia national forest movies never have enough villains challenge each general's intelligence she had your dark suit in greasy wash water all year don't ask me to carry an oily rag like that a precision transit is set up so that it is lined with respect to true north was it a hysterical release from the long strain of vigilance of those weeks to begin with what is an interior designer a screwdriver is made from vodka and orange juice the news agency hired a great journalist the bluejay flew over the high building coconut cream pie makes a nice dessert she uses both names interchangeably she had your dark suit in greasy wash water all year don't ask me to carry an oily rag like that microscopically there was emphysema fibrosis and vascular congestion oh you'll wobble and weave quite a bit at first that experience holds a lesson for us all in regard to birth control today curiosity and mediocrity seldom coexist do they allow atheists in church i know i didn't meet her early enough each stag surely finds a big fawn an official deadline cannot be postponed she had your dark suit in greasy wash water all year don't ask me to carry an oily rag like that perfect he thought that worm a murderer our first necessity at the very outset of war is postattack reconnaissance the triumphant warrior exhibited naive heroism can the agency overthrow alien forces according to my interpretation of the problem two lines must be perpendicular suburban housewives often suffer from the gab habit good service should be rewarded by big tips\"]"
            ]
          },
          "execution_count": 13,
          "metadata": {},
          "output_type": "execute_result"
        }
      ],
      "source": [
        "vocabs['train']['all_text']"
      ]
    },
    {
      "cell_type": "markdown",
      "metadata": {
        "id": "7oVgE8RZSJNP"
      },
      "source": [
        "Now, we create the union of all distinct letters in the training dataset and test dataset and convert the resulting list into an enumerated dictionary."
      ]
    },
    {
      "cell_type": "code",
      "execution_count": 14,
      "metadata": {
        "id": "aQfneNsmlJI0"
      },
      "outputs": [],
      "source": [
        "vocab_list = list(set(vocabs[\"train\"][\"vocab\"][0]) | set(vocabs[\"test\"][\"vocab\"][0]))\n",
        "#vocab_list = list(set(vocabs[\"train\"][\"vocab\"][0]) | set(vocabs[\"validation\"][\"vocab\"][0]))"
      ]
    },
    {
      "cell_type": "code",
      "execution_count": 15,
      "metadata": {
        "colab": {
          "base_uri": "https://localhost:8080/"
        },
        "id": "_0kRndSvqaKk",
        "outputId": "352477a8-4d15-4af8-c626-841e6d6775a2"
      },
      "outputs": [
        {
          "data": {
            "text/plain": [
              "{'c': 0,\n",
              " 's': 1,\n",
              " 'd': 2,\n",
              " ' ': 3,\n",
              " 'u': 4,\n",
              " 'a': 5,\n",
              " 'h': 6,\n",
              " 'o': 7,\n",
              " 'z': 8,\n",
              " 'r': 9,\n",
              " 'f': 10,\n",
              " 'j': 11,\n",
              " 'x': 12,\n",
              " 'g': 13,\n",
              " 'p': 14,\n",
              " \"'\": 15,\n",
              " 'b': 16,\n",
              " 'l': 17,\n",
              " 'w': 18,\n",
              " 'y': 19,\n",
              " 'i': 20,\n",
              " 't': 21,\n",
              " 'm': 22,\n",
              " 'e': 23,\n",
              " 'n': 24,\n",
              " 'v': 25,\n",
              " 'k': 26,\n",
              " 'q': 27}"
            ]
          },
          "execution_count": 15,
          "metadata": {},
          "output_type": "execute_result"
        }
      ],
      "source": [
        "vocab_dict = {v: k for k, v in enumerate(vocab_list)}\n",
        "vocab_dict"
      ]
    },
    {
      "cell_type": "markdown",
      "metadata": {
        "id": "JOSzbvs9SXT1"
      },
      "source": [
        "Cool, we see that all letters of the alphabet occur in the dataset (which is not really surprising) and we also extracted the special characters `\" \"` and `'`. Note that we did not exclude those special characters because:\n",
        "\n",
        "- The model has to learn to predict when a word finished or else the model prediction would always be a sequence of chars which would make it impossible to separate words from each other.\n",
        "- In English, we need to keep the `'` character to differentiate between words, *e.g.*, `\"it's\"` and `\"its\"` which have very different meanings."
      ]
    },
    {
      "cell_type": "markdown",
      "metadata": {
        "id": "b1fBRCn-TRaO"
      },
      "source": [
        "To make it clearer that `\" \"` has its own token class, we give it a more visible character `|`. In addition, we also add an \"unknown\" token so that the model can later deal with characters not encountered in Timit's training set.\n",
        "\n",
        "Finally, we also add a padding token that corresponds to CTC's \"*blank token*\". The \"blank token\" is a core component of the CTC algorithm. For more information, please take a look at the \"Alignment\" section [here](https://distill.pub/2017/ctc/)."
      ]
    },
    {
      "cell_type": "code",
      "execution_count": 16,
      "metadata": {
        "id": "npbIbBoLgaFX"
      },
      "outputs": [],
      "source": [
        "vocab_dict[\"|\"] = vocab_dict[\" \"]\n",
        "del vocab_dict[\" \"]"
      ]
    },
    {
      "cell_type": "code",
      "execution_count": 17,
      "metadata": {
        "colab": {
          "base_uri": "https://localhost:8080/"
        },
        "id": "znF0bNunsjbl",
        "outputId": "0ec0ba82-367d-480b-cae2-2d0fe45e34c6"
      },
      "outputs": [
        {
          "data": {
            "text/plain": [
              "30"
            ]
          },
          "execution_count": 17,
          "metadata": {},
          "output_type": "execute_result"
        }
      ],
      "source": [
        "vocab_dict[\"[UNK]\"] = len(vocab_dict)\n",
        "vocab_dict[\"[PAD]\"] = len(vocab_dict)\n",
        "len(vocab_dict)"
      ]
    },
    {
      "cell_type": "code",
      "execution_count": 18,
      "metadata": {},
      "outputs": [
        {
          "data": {
            "text/plain": [
              "{'c': 0,\n",
              " 's': 1,\n",
              " 'd': 2,\n",
              " 'u': 4,\n",
              " 'a': 5,\n",
              " 'h': 6,\n",
              " 'o': 7,\n",
              " 'z': 8,\n",
              " 'r': 9,\n",
              " 'f': 10,\n",
              " 'j': 11,\n",
              " 'x': 12,\n",
              " 'g': 13,\n",
              " 'p': 14,\n",
              " \"'\": 15,\n",
              " 'b': 16,\n",
              " 'l': 17,\n",
              " 'w': 18,\n",
              " 'y': 19,\n",
              " 'i': 20,\n",
              " 't': 21,\n",
              " 'm': 22,\n",
              " 'e': 23,\n",
              " 'n': 24,\n",
              " 'v': 25,\n",
              " 'k': 26,\n",
              " 'q': 27,\n",
              " '|': 3,\n",
              " '[UNK]': 28,\n",
              " '[PAD]': 29}"
            ]
          },
          "execution_count": 18,
          "metadata": {},
          "output_type": "execute_result"
        }
      ],
      "source": [
        "vocab_dict"
      ]
    },
    {
      "cell_type": "markdown",
      "metadata": {
        "id": "SFPGfet8U5sL"
      },
      "source": [
        "Cool, now our vocabulary is complete and consists of 30 tokens, which means that the linear layer that we will add on top of the pretrained Wav2Vec2 checkpoint will have an output dimension of 30."
      ]
    },
    {
      "cell_type": "markdown",
      "metadata": {
        "id": "1CujRgBNVRaD"
      },
      "source": [
        "Let's now save the vocabulary as a json file."
      ]
    },
    {
      "cell_type": "code",
      "execution_count": 19,
      "metadata": {
        "id": "ehyUoh9vk191"
      },
      "outputs": [],
      "source": [
        "import json\n",
        "with open('vocab.json', 'w') as vocab_file:\n",
        "    json.dump(vocab_dict, vocab_file)"
      ]
    },
    {
      "cell_type": "markdown",
      "metadata": {
        "id": "SHJDaKlIVVim"
      },
      "source": [
        "In a final step, we use the json file to instantiate an object of the `Wav2Vec2CTCTokenizer` class."
      ]
    },
    {
      "cell_type": "code",
      "execution_count": 20,
      "metadata": {
        "id": "xriFGEWQkO4M"
      },
      "outputs": [],
      "source": [
        "from transformers import Wav2Vec2CTCTokenizer\n",
        "\n",
        "tokenizer = Wav2Vec2CTCTokenizer(\"./vocab.json\", unk_token=\"[UNK]\", pad_token=\"[PAD]\", word_delimiter_token=\"|\")"
      ]
    },
    {
      "cell_type": "markdown",
      "metadata": {
        "id": "KvL12DrNV4cx"
      },
      "source": [
        "Next, we will create the feature extractor."
      ]
    },
    {
      "cell_type": "markdown",
      "metadata": {
        "id": "mYcIiR2FQ96i"
      },
      "source": [
        "### Create Wav2Vec2 Feature Extractor"
      ]
    },
    {
      "cell_type": "markdown",
      "metadata": {
        "id": "Y6mDEyW719rx"
      },
      "source": [
        "Speech is a continuous signal and to be treated by computers, it first has to be discretized, which is usually called **sampling**. The sampling rate hereby plays an important role in that it defines how many data points of the speech signal are measured per second. Therefore, sampling with a higher sampling rate results in a better approximation of the *real* speech signal but also necessitates more values per second.\n",
        "\n",
        "A pretrained checkpoint expects its input data to have been sampled more or less from the same distribution as the data it was trained on. The same speech signals sampled at two different rates have a very different distribution, *e.g.*, doubling the sampling rate results in data points being twice as long. Thus,\n",
        "before fine-tuning a pretrained checkpoint of an ASR model, it is crucial to verify that the sampling rate of the data that was used to pretrain the model matches the sampling rate of the dataset used to fine-tune the model.\n",
        "\n",
        "Wav2Vec2 was pretrained on the audio data of [LibriSpeech](https://huggingface.co/datasets/librispeech_asr) and LibriVox which both were sampling with 16kHz. Our fine-tuning dataset, [Timit](hhtps://huggingface.co/datasets/timit_asr), was luckily also sampled with 16kHz. If the fine-tuning dataset would have been sampled with a rate lower or higher than 16kHz, we first would have had to up or downsample the speech signal to match the sampling rate of the data used for pretraining.\n",
        "\n"
      ]
    },
    {
      "cell_type": "markdown",
      "metadata": {
        "id": "KuUbPW7oV-B5"
      },
      "source": [
        "A Wav2Vec2 feature extractor object requires the following parameters to be instantiated:\n",
        "\n",
        "- `feature_size`: Speech models take a sequence of feature vectors as an input. While the length of this sequence obviously varies, the feature size should not. In the case of Wav2Vec2, the feature size is 1 because the model was trained on the raw speech signal ${}^2$.\n",
        "- `sampling_rate`: The sampling rate at which the model is trained on.\n",
        "- `padding_value`: For batched inference, shorter inputs need to be padded with a specific value\n",
        "- `do_normalize`: Whether the input should be *zero-mean-unit-variance* normalized or not. Usually, speech models perform better when normalizing the input\n",
        "- `return_attention_mask`: Whether the model should make use of an `attention_mask` for batched inference. In general, models should **always** make use of the `attention_mask` to mask padded tokens. However, due to a very specific design choice of `Wav2Vec2`'s \"base\" checkpoint, better results are achieved when using no `attention_mask`. This is **not** recommended for other speech models. For more information, one can take a look at [this](https://github.com/pytorch/fairseq/issues/3227) issue. **Important** If you want to use this notebook to fine-tune [large-lv60](https://huggingface.co/facebook/wav2vec2-large-lv60), this parameter should be set to `True`."
      ]
    },
    {
      "cell_type": "code",
      "execution_count": 21,
      "metadata": {
        "id": "kAR0-2KLkopp"
      },
      "outputs": [],
      "source": [
        "from transformers import Wav2Vec2FeatureExtractor\n",
        "\n",
        "feature_extractor = Wav2Vec2FeatureExtractor(feature_size=1, sampling_rate=16000, padding_value=0.0, do_normalize=True, return_attention_mask=False)"
      ]
    },
    {
      "cell_type": "markdown",
      "metadata": {
        "id": "qUETetgqYC3W"
      },
      "source": [
        "Great, Wav2Vec2's feature extraction pipeline is thereby fully defined!\n",
        "\n",
        "To make the usage of Wav2Vec2 as user-friendly as possible, the feature extractor and tokenizer are *wrapped* into a single `Wav2Vec2Processor` class so that one only needs a `model` and `processor` object."
      ]
    },
    {
      "cell_type": "code",
      "execution_count": 22,
      "metadata": {
        "id": "KYZtoW-tlZgl"
      },
      "outputs": [],
      "source": [
        "from transformers import Wav2Vec2Processor\n",
        "\n",
        "processor = Wav2Vec2Processor(feature_extractor=feature_extractor, tokenizer=tokenizer)"
      ]
    },
    {
      "cell_type": "markdown",
      "metadata": {
        "id": "fTfFDSS0YfMN"
      },
      "source": [
        "If one wants to re-use the just created processor and the fine-tuned model of this notebook, one can mount his/her google drive to the notebook and save all relevant files there. To do so, please uncomment the following lines.\n",
        "\n",
        "We will give the fine-tuned model the name `\"wav2vec2-base-timit-demo\"`."
      ]
    },
    {
      "cell_type": "code",
      "execution_count": null,
      "metadata": {
        "id": "yq7Bzuzz4zjQ"
      },
      "outputs": [],
      "source": [
        "# from google.colab import drive\n",
        "# drive.mount('/content/gdrive/')"
      ]
    },
    {
      "cell_type": "code",
      "execution_count": null,
      "metadata": {
        "id": "Par9rpypPsml"
      },
      "outputs": [],
      "source": [
        "# processor.save_pretrained(\"/content/gdrive/MyDrive/wav2vec2-base-timit-demo\")"
      ]
    },
    {
      "cell_type": "markdown",
      "metadata": {
        "id": "DrKnYuvDIoOO"
      },
      "source": [
        "Next, we can prepare the dataset."
      ]
    },
    {
      "cell_type": "markdown",
      "metadata": {
        "id": "YFmShnl7RE35"
      },
      "source": [
        "### Preprocess Data\n",
        "\n",
        "So far, we have not looked at the actual values of the speech signal but just kept the path to its file in the dataset. `Wav2Vec2` expects the audio file in the format of a 1-dimensional array, so in the first step, let's load all audio files into the dataset object.\n",
        "\n",
        "Let's first check the serialization format of the downloaded audio files by looking at the first training sample."
      ]
    },
    {
      "cell_type": "markdown",
      "metadata": {
        "id": "wSBIGEiaKHMn"
      },
      "source": [
        "Alright, the audio file is saved in the `.WAV` format. There are a couple of python-based libraries to read and process audio files, such as [librosa](https://github.com/librosa/librosa), [soundfile](https://github.com/bastibe/python-soundfile), and [audioread](https://github.com/beetbox/audioread).\n",
        "\n",
        "`librosa` seems to be the most active and prominent library, but since it depends on `soundfile` for loading of audio files, we will just use `soundfile` directly in this notebook.\n",
        "\n",
        "An audio file usually stores both its values and the sampling rate with which the speech signal was digitalized. We want to store both in the dataset and write a `map(...)` function accordingly."
      ]
    },
    {
      "cell_type": "code",
      "execution_count": 23,
      "metadata": {},
      "outputs": [
        {
          "data": {
            "text/plain": [
              "'D:\\\\GitHub\\\\datasets\\\\timit\\\\TIMIT\\\\train\\\\DR1\\\\FCJF0\\\\SA1.WAV'"
            ]
          },
          "execution_count": 23,
          "metadata": {},
          "output_type": "execute_result"
        }
      ],
      "source": [
        "timit[\"train\"][0][\"file\"]"
      ]
    },
    {
      "cell_type": "code",
      "execution_count": 24,
      "metadata": {},
      "outputs": [
        {
          "data": {
            "text/plain": [
              "{'path': 'D:\\\\GitHub\\\\datasets\\\\timit\\\\TIMIT\\\\train\\\\DR1\\\\FCJF0\\\\SA1.WAV',\n",
              " 'array': array([ 3.05175781e-05, -3.05175781e-05,  6.10351562e-05, ...,\n",
              "        -3.05175781e-05, -1.52587891e-04, -2.44140625e-04]),\n",
              " 'sampling_rate': 16000}"
            ]
          },
          "execution_count": 24,
          "metadata": {},
          "output_type": "execute_result"
        }
      ],
      "source": [
        "timit[\"train\"][0][\"audio\"]"
      ]
    },
    {
      "cell_type": "markdown",
      "metadata": {
        "id": "SOckzFd4Mbzq"
      },
      "source": [
        "Great, let's listen to a couple of audio files to better understand the dataset and verify that the audio was correctly loaded.\n",
        "\n",
        "**Note**: *You can click the following cell a couple of times to listen to different speech samples.*"
      ]
    },
    {
      "cell_type": "code",
      "execution_count": 26,
      "metadata": {
        "colab": {
          "base_uri": "https://localhost:8080/",
          "height": 74
        },
        "id": "dueM6U7Ev0OA",
        "outputId": "30295196-e3bc-406a-9351-307460022f6b"
      },
      "outputs": [
        {
          "name": "stdout",
          "output_type": "stream",
          "text": [
            "the prowler wore a ski mask for disguise\n"
          ]
        },
        {
          "data": {
            "text/html": [
              "\n",
              "                <audio  controls=\"controls\" autoplay=\"autoplay\">\n",
              "                    <source src=\"data:audio/wav;base64,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\" type=\"audio/wav\" />\n",
              "                    Your browser does not support the audio element.\n",
              "                </audio>\n",
              "              "
            ],
            "text/plain": [
              "<IPython.lib.display.Audio object>"
            ]
          },
          "execution_count": 26,
          "metadata": {},
          "output_type": "execute_result"
        }
      ],
      "source": [
        "import IPython.display as ipd\n",
        "import numpy as np\n",
        "import random\n",
        "\n",
        "rand_int = random.randint(0, len(timit[\"train\"]))\n",
        "\n",
        "print(timit[\"train\"][rand_int][\"text\"])\n",
        "ipd.Audio(data=np.asarray(timit[\"train\"][rand_int][\"audio\"][\"array\"]), autoplay=True, rate=16000)"
      ]
    },
    {
      "cell_type": "markdown",
      "metadata": {
        "id": "1MaL9J2dNVtG"
      },
      "source": [
        "It can be heard, that the speakers change along with their speaking rate, accent, etc. Overall, the recordings sound relatively clear though, which is to be expected from a read speech corpus.\n",
        "\n",
        "Let's do a final check that the data is correctly prepared, but printing the shape of the speech input, its transcription, and the corresponding sampling rate.\n",
        "\n",
        "**Note**: *You can click the following cell a couple of times to verify multiple samples.*"
      ]
    },
    {
      "cell_type": "code",
      "execution_count": 27,
      "metadata": {
        "colab": {
          "base_uri": "https://localhost:8080/"
        },
        "id": "1Po2g7YPuRTx",
        "outputId": "89290291-18ab-41bc-b369-cafe9629060d"
      },
      "outputs": [
        {
          "name": "stdout",
          "output_type": "stream",
          "text": [
            "Target text: she had your dark suit in greasy wash water all year\n",
            "Input array shape: (68301,)\n",
            "Sampling rate: 16000\n"
          ]
        }
      ],
      "source": [
        "rand_int = random.randint(0, len(timit[\"train\"]))\n",
        "\n",
        "print(\"Target text:\", timit[\"train\"][rand_int][\"text\"])\n",
        "print(\"Input array shape:\", np.asarray(timit[\"train\"][rand_int][\"audio\"][\"array\"]).shape)\n",
        "print(\"Sampling rate:\", timit[\"train\"][rand_int][\"audio\"][\"sampling_rate\"])"
      ]
    },
    {
      "cell_type": "markdown",
      "metadata": {
        "id": "M9teZcSwOBJ4"
      },
      "source": [
        "Good! Everything looks fine - the data is a 1-dimensional array, the sampling rate always corresponds to 16kHz, and the target text is normalized."
      ]
    },
    {
      "cell_type": "markdown",
      "metadata": {
        "id": "k3Pbn5WvOYZF"
      },
      "source": [
        "Finally, we can process the dataset to the format expected by the model for training. We will again make use of the `map(...)` function.\n",
        "\n",
        "First, we check that all data samples have the same sampling rate (of 16kHz).\n",
        "Second, we extract the `input_values` from the loaded audio file. In our case, this includes only normalization, but for other speech models, this step could correspond to extracting, *e.g.* [Log-Mel features](https://en.wikipedia.org/wiki/Mel-frequency_cepstrum).\n",
        "Third, we encode the transcriptions to label ids.\n",
        "\n",
        "**Note**: This mapping function is a good example of how the `Wav2Vec2Processor` class should be used. In \"normal\" context, calling `processor(...)` is redirected to `Wav2Vec2FeatureExtractor`'s call method. When wrapping the processor into the `as_target_processor` context, however, the same method is redirected to `Wav2Vec2CTCTokenizer`'s call method.\n",
        "For more information please check the [docs](https://huggingface.co/transformers/master/model_doc/wav2vec2.html#transformers.Wav2Vec2Processor.__call__)."
      ]
    },
    {
      "cell_type": "code",
      "execution_count": 28,
      "metadata": {
        "id": "eJY7I0XAwe9p"
      },
      "outputs": [],
      "source": [
        "def prepare_dataset(batch):\n",
        "    audio = batch[\"audio\"]\n",
        "\n",
        "    # batched output is \"un-batched\" to ensure mapping is correct\n",
        "    batch[\"input_values\"] = processor(audio[\"array\"], sampling_rate=audio[\"sampling_rate\"]).input_values[0]\n",
        "    batch[\"input_length\"] = len(batch[\"input_values\"])\n",
        "    \n",
        "    with processor.as_target_processor():\n",
        "        batch[\"labels\"] = processor(batch[\"text\"]).input_ids\n",
        "    return batch"
      ]
    },
    {
      "cell_type": "code",
      "execution_count": 30,
      "metadata": {},
      "outputs": [
        {
          "name": "stderr",
          "output_type": "stream",
          "text": [
            "Map:   0%|          | 0/4620 [00:00<?, ? examples/s]c:\\Users\\lkk68\\.conda\\envs\\mycondapy310\\lib\\site-packages\\transformers\\models\\wav2vec2\\processing_wav2vec2.py:155: UserWarning: `as_target_processor` is deprecated and will be removed in v5 of Transformers. You can process your labels by using the argument `text` of the regular `__call__` method (either in the same call as your audio inputs, or in a separate call.\n",
            "  warnings.warn(\n",
            "Map: 100%|██████████| 4620/4620 [00:12<00:00, 373.19 examples/s]\n",
            "Map: 100%|██████████| 1680/1680 [00:12<00:00, 138.47 examples/s]\n"
          ]
        }
      ],
      "source": [
        "timit = timit.map(prepare_dataset, remove_columns=timit.column_names[\"train\"], num_proc=1)"
      ]
    },
    {
      "cell_type": "code",
      "execution_count": 31,
      "metadata": {},
      "outputs": [
        {
          "name": "stderr",
          "output_type": "stream",
          "text": [
            "Filter: 100%|██████████| 4620/4620 [00:00<00:00, 384447.35 examples/s]\n"
          ]
        }
      ],
      "source": [
        "max_input_length_in_sec = 4.0\n",
        "timit[\"train\"] = timit[\"train\"].filter(lambda x: x < max_input_length_in_sec * processor.feature_extractor.sampling_rate, input_columns=[\"input_length\"])"
      ]
    },
    {
      "cell_type": "markdown",
      "metadata": {
        "id": "gYlQkKVoRUos"
      },
      "source": [
        "## Training & Evaluation\n",
        "\n",
        "The data is processed so that we are ready to start setting up the training pipeline. We will make use of 🤗's [Trainer](https://huggingface.co/transformers/master/main_classes/trainer.html?highlight=trainer) for which we essentially need to do the following:\n",
        "\n",
        "- Define a data collator. In contrast to most NLP models, Wav2Vec2 has a much larger input length than output length. *E.g.*, a sample of input length 50000 has an output length of no more than 100. Given the large input sizes, it is much more efficient to pad the training batches dynamically meaning that all training samples should only be padded to the longest sample in their batch and not the overall longest sample. Therefore, fine-tuning Wav2Vec2 requires a special padding data collator, which we will define below\n",
        "\n",
        "- Evaluation metric. During training, the model should be evaluated on the word error rate. We should define a `compute_metrics` function accordingly\n",
        "\n",
        "- Load a pretrained checkpoint. We need to load a pretrained checkpoint and configure it correctly for training.\n",
        "\n",
        "- Define the training configuration.\n",
        "\n",
        "After having fine-tuned the model, we will correctly evaluate it on the test data and verify that it has indeed learned to correctly transcribe speech."
      ]
    },
    {
      "cell_type": "markdown",
      "metadata": {
        "id": "Slk403unUS91"
      },
      "source": [
        "### Set-up Trainer\n",
        "\n",
        "Let's start by defining the data collator. The code for the data collator was copied from [this example](https://github.com/huggingface/transformers/blob/9a06b6b11bdfc42eea08fa91d0c737d1863c99e3/examples/research_projects/wav2vec2/run_asr.py#L81).\n",
        "\n",
        "Without going into too many details, in contrast to the common data collators, this data collator treats the `input_values` and `labels` differently and thus applies to separate padding functions on them (again making use of Wav2Vec2's context manager). This is necessary because in speech input and output are of different modalities meaning that they should not be treated by the same padding function.\n",
        "Analogous to the common data collators, the padding tokens in the labels with `-100` so that those tokens are **not** taken into account when computing the loss."
      ]
    },
    {
      "cell_type": "code",
      "execution_count": 32,
      "metadata": {
        "id": "tborvC9hx88e"
      },
      "outputs": [],
      "source": [
        "import torch\n",
        "\n",
        "from dataclasses import dataclass, field\n",
        "from typing import Any, Dict, List, Optional, Union\n",
        "\n",
        "@dataclass\n",
        "class DataCollatorCTCWithPadding:\n",
        "    \"\"\"\n",
        "    Data collator that will dynamically pad the inputs received.\n",
        "    Args:\n",
        "        processor (:class:`~transformers.Wav2Vec2Processor`)\n",
        "            The processor used for proccessing the data.\n",
        "        padding (:obj:`bool`, :obj:`str` or :class:`~transformers.tokenization_utils_base.PaddingStrategy`, `optional`, defaults to :obj:`True`):\n",
        "            Select a strategy to pad the returned sequences (according to the model's padding side and padding index)\n",
        "            among:\n",
        "            * :obj:`True` or :obj:`'longest'`: Pad to the longest sequence in the batch (or no padding if only a single\n",
        "              sequence if provided).\n",
        "            * :obj:`'max_length'`: Pad to a maximum length specified with the argument :obj:`max_length` or to the\n",
        "              maximum acceptable input length for the model if that argument is not provided.\n",
        "            * :obj:`False` or :obj:`'do_not_pad'` (default): No padding (i.e., can output a batch with sequences of\n",
        "              different lengths).\n",
        "        max_length (:obj:`int`, `optional`):\n",
        "            Maximum length of the ``input_values`` of the returned list and optionally padding length (see above).\n",
        "        max_length_labels (:obj:`int`, `optional`):\n",
        "            Maximum length of the ``labels`` returned list and optionally padding length (see above).\n",
        "        pad_to_multiple_of (:obj:`int`, `optional`):\n",
        "            If set will pad the sequence to a multiple of the provided value.\n",
        "            This is especially useful to enable the use of Tensor Cores on NVIDIA hardware with compute capability >=\n",
        "            7.5 (Volta).\n",
        "    \"\"\"\n",
        "\n",
        "    processor: Wav2Vec2Processor\n",
        "    padding: Union[bool, str] = True\n",
        "    max_length: Optional[int] = None\n",
        "    max_length_labels: Optional[int] = None\n",
        "    pad_to_multiple_of: Optional[int] = None\n",
        "    pad_to_multiple_of_labels: Optional[int] = None\n",
        "\n",
        "    def __call__(self, features: List[Dict[str, Union[List[int], torch.Tensor]]]) -> Dict[str, torch.Tensor]:\n",
        "        # split inputs and labels since they have to be of different lenghts and need\n",
        "        # different padding methods\n",
        "        input_features = [{\"input_values\": feature[\"input_values\"]} for feature in features]\n",
        "        label_features = [{\"input_ids\": feature[\"labels\"]} for feature in features]\n",
        "\n",
        "        batch = self.processor.pad(\n",
        "            input_features,\n",
        "            padding=self.padding,\n",
        "            max_length=self.max_length,\n",
        "            pad_to_multiple_of=self.pad_to_multiple_of,\n",
        "            return_tensors=\"pt\",\n",
        "        )\n",
        "        with self.processor.as_target_processor():\n",
        "            labels_batch = self.processor.pad(\n",
        "                label_features,\n",
        "                padding=self.padding,\n",
        "                max_length=self.max_length_labels,\n",
        "                pad_to_multiple_of=self.pad_to_multiple_of_labels,\n",
        "                return_tensors=\"pt\",\n",
        "            )\n",
        "\n",
        "        # replace padding with -100 to ignore loss correctly\n",
        "        labels = labels_batch[\"input_ids\"].masked_fill(labels_batch.attention_mask.ne(1), -100)\n",
        "\n",
        "        batch[\"labels\"] = labels\n",
        "\n",
        "        return batch"
      ]
    },
    {
      "cell_type": "code",
      "execution_count": 33,
      "metadata": {
        "id": "lbQf5GuZyQ4_"
      },
      "outputs": [],
      "source": [
        "data_collator = DataCollatorCTCWithPadding(processor=processor, padding=True)"
      ]
    },
    {
      "cell_type": "markdown",
      "metadata": {
        "id": "xO-Zdj-5cxXp"
      },
      "source": [
        "Next, the evaluation metric is defined. As mentioned earlier, the\n",
        "predominant metric in ASR is the word error rate (WER), hence we will use it in this notebook as well."
      ]
    },
    {
      "cell_type": "code",
      "execution_count": 34,
      "metadata": {
        "id": "9Xsux2gmyXso"
      },
      "outputs": [
        {
          "name": "stderr",
          "output_type": "stream",
          "text": [
            "C:\\Users\\lkk68\\AppData\\Local\\Temp\\ipykernel_22688\\24688115.py:1: FutureWarning: load_metric is deprecated and will be removed in the next major version of datasets. Use 'evaluate.load' instead, from the new library 🤗 Evaluate: https://huggingface.co/docs/evaluate\n",
            "  wer_metric = load_metric(\"wer\")\n",
            "Downloading builder script: 4.48kB [00:00, 4.47MB/s]                   \n"
          ]
        }
      ],
      "source": [
        "wer_metric = load_metric(\"wer\")"
      ]
    },
    {
      "cell_type": "markdown",
      "metadata": {
        "id": "E1qZU5p-deqB"
      },
      "source": [
        "The model will return a sequence of logit vectors:\n",
        "$\\mathbf{y}_1, \\ldots, \\mathbf{y}_m$ with $\\mathbf{y}_1 = f_{\\theta}(x_1, \\ldots, x_n)[0]$ and $n >> m$.\n",
        "\n",
        "A logit vector $\\mathbf{y}_1$ contains the log-odds for each word in the vocabulary we defined earlier, thus $\\text{len}(\\mathbf{y}_i) =$ `config.vocab_size`. We are interested in the most likely prediction of the model and thus take the `argmax(...)` of the logits. Also, we transform the encoded labels back to the original string by replacing `-100` with the `pad_token_id` and decoding the ids while making sure that consecutive tokens are **not** grouped to the same token in CTC style ${}^1$."
      ]
    },
    {
      "cell_type": "code",
      "execution_count": 35,
      "metadata": {
        "id": "1XZ-kjweyTy_"
      },
      "outputs": [],
      "source": [
        "def compute_metrics(pred):\n",
        "    pred_logits = pred.predictions\n",
        "    pred_ids = np.argmax(pred_logits, axis=-1)\n",
        "\n",
        "    pred.label_ids[pred.label_ids == -100] = processor.tokenizer.pad_token_id\n",
        "\n",
        "    pred_str = processor.batch_decode(pred_ids)\n",
        "    # we do not want to group tokens when computing the metrics\n",
        "    label_str = processor.batch_decode(pred.label_ids, group_tokens=False)\n",
        "\n",
        "    wer = wer_metric.compute(predictions=pred_str, references=label_str)\n",
        "\n",
        "    return {\"wer\": wer}"
      ]
    },
    {
      "cell_type": "markdown",
      "metadata": {
        "id": "Xmgrx4bRwLIH"
      },
      "source": [
        "Now, we can load the pretrained `Wav2Vec2` checkpoint. The tokenizer's `pad_token_id` must be to define the model's `pad_token_id` or in the case of `Wav2Vec2ForCTC` also CTC's *blank token* ${}^2$. To save GPU memory, we enable PyTorch's [gradient checkpointing](https://pytorch.org/docs/stable/checkpoint.html) and also set the loss reduction to \"*mean*\"."
      ]
    },
    {
      "cell_type": "code",
      "execution_count": 36,
      "metadata": {
        "colab": {
          "base_uri": "https://localhost:8080/"
        },
        "id": "e7cqAWIayn6w",
        "outputId": "058979ad-ca6b-483c-9c71-b14584099f70"
      },
      "outputs": [
        {
          "name": "stderr",
          "output_type": "stream",
          "text": [
            "config.json: 100%|██████████| 1.84k/1.84k [00:00<00:00, 1.84MB/s]\n",
            "c:\\Users\\lkk68\\.conda\\envs\\mycondapy310\\lib\\site-packages\\transformers\\configuration_utils.py:380: UserWarning: Passing `gradient_checkpointing` to a config initialization is deprecated and will be removed in v5 Transformers. Using `model.gradient_checkpointing_enable()` instead, or if you are using the `Trainer` API, pass `gradient_checkpointing=True` in your `TrainingArguments`.\n",
            "  warnings.warn(\n",
            "pytorch_model.bin: 100%|██████████| 380M/380M [00:03<00:00, 105MB/s]  \n",
            "Some weights of Wav2Vec2ForCTC were not initialized from the model checkpoint at facebook/wav2vec2-base and are newly initialized: ['wav2vec2.encoder.pos_conv_embed.conv.parametrizations.weight.original0', 'lm_head.weight', 'lm_head.bias', 'wav2vec2.encoder.pos_conv_embed.conv.parametrizations.weight.original1']\n",
            "You should probably TRAIN this model on a down-stream task to be able to use it for predictions and inference.\n"
          ]
        }
      ],
      "source": [
        "from transformers import Wav2Vec2ForCTC\n",
        "\n",
        "model = Wav2Vec2ForCTC.from_pretrained(\n",
        "    \"facebook/wav2vec2-base\",\n",
        "    gradient_checkpointing=True,\n",
        "    ctc_loss_reduction=\"mean\",\n",
        "    pad_token_id=processor.tokenizer.pad_token_id,\n",
        ")"
      ]
    },
    {
      "cell_type": "markdown",
      "metadata": {
        "id": "1DwR3XLSzGDD"
      },
      "source": [
        "The first component of Wav2Vec2 consists of a stack of CNN layers that are used to extract acoustically meaningful - but contextually independent - features from the raw speech signal. This part of the model has already been sufficiently trained during pretrainind and as stated in the [paper](https://arxiv.org/abs/2006.11477) does not need to be fine-tuned anymore.\n",
        "Thus, we can set the `requires_grad` to `False` for all parameters of the *feature extraction* part."
      ]
    },
    {
      "cell_type": "code",
      "execution_count": 37,
      "metadata": {
        "id": "oGI8zObtZ3V0"
      },
      "outputs": [
        {
          "name": "stderr",
          "output_type": "stream",
          "text": [
            "c:\\Users\\lkk68\\.conda\\envs\\mycondapy310\\lib\\site-packages\\transformers\\models\\wav2vec2\\modeling_wav2vec2.py:1925: FutureWarning: The method `freeze_feature_extractor` is deprecated and will be removed in Transformers v5.Please use the equivalent `freeze_feature_encoder` method instead.\n",
            "  warnings.warn(\n"
          ]
        }
      ],
      "source": [
        "model.freeze_feature_extractor()"
      ]
    },
    {
      "cell_type": "markdown",
      "metadata": {
        "id": "lD4aGhQM0K-D"
      },
      "source": [
        "In a final step, we define all parameters related to training.\n",
        "To give more explanation on some of the parameters:\n",
        "- `group_by_length` makes training more efficient by grouping training samples of similar input length into one batch. This can significantly speed up training time by heavily reducing the overall number of useless padding tokens that are passed through the model\n",
        "- `learning_rate` and `weight_decay` were heuristically tuned until fine-tuning has become stable. Note that those parameters strongly depend on the Timit dataset and might be suboptimal for other speech datasets.\n",
        "\n",
        "For more explanations on other parameters, one can take a look at the [docs](https://huggingface.co/transformers/master/main_classes/trainer.html?highlight=trainer#trainingarguments).\n",
        "\n",
        "**Note**: If one wants to save the trained models in his/her google drive the commented-out `output_dir` can be used instead."
      ]
    },
    {
      "cell_type": "code",
      "execution_count": 38,
      "metadata": {
        "id": "KbeKSV7uzGPP"
      },
      "outputs": [],
      "source": [
        "from transformers import TrainingArguments\n",
        "\n",
        "training_args = TrainingArguments(\n",
        "  # output_dir=\"/content/gdrive/MyDrive/wav2vec2-base-timit-demo\",\n",
        "  output_dir=\"./output/wav2vec2-base-timit-demo\",\n",
        "  group_by_length=True,\n",
        "  per_device_train_batch_size=32,\n",
        "  evaluation_strategy=\"steps\",\n",
        "  num_train_epochs=30,\n",
        "  fp16=True,\n",
        "  save_steps=500,\n",
        "  eval_steps=500,\n",
        "  logging_steps=500,\n",
        "  learning_rate=1e-4,\n",
        "  weight_decay=0.005,\n",
        "  warmup_steps=1000,\n",
        "  save_total_limit=2,\n",
        ")"
      ]
    },
    {
      "cell_type": "markdown",
      "metadata": {
        "id": "OsW-WZcL1ZtN"
      },
      "source": [
        "Now, all instances can be passed to Trainer and we are ready to start training!"
      ]
    },
    {
      "cell_type": "code",
      "execution_count": 39,
      "metadata": {
        "id": "rY7vBmFCPFgC"
      },
      "outputs": [],
      "source": [
        "from transformers import Trainer\n",
        "\n",
        "trainer = Trainer(\n",
        "    model=model,\n",
        "    data_collator=data_collator,\n",
        "    args=training_args,\n",
        "    compute_metrics=compute_metrics,\n",
        "    train_dataset=timit[\"train\"],\n",
        "    eval_dataset=timit[\"test\"],\n",
        "    tokenizer=processor.feature_extractor,\n",
        ")"
      ]
    },
    {
      "cell_type": "markdown",
      "metadata": {
        "id": "UoXBx1JAA0DX"
      },
      "source": [
        "\n",
        "\n",
        "---\n",
        "\n",
        "${}^1$ To allow models to become independent of the speaker rate, in CTC, consecutive tokens that are identical are simply grouped as a single token. However, the encoded labels should not be grouped when decoding since they don't correspond to the predicted tokens of the model, which is why the `group_tokens=False` parameter has to be passed. If we wouldn't pass this parameter a word like `\"hello\"` would incorrectly be encoded, and decoded as `\"helo\"`.\n",
        "\n",
        "${}^2$ The blank token allows the model to predict a word, such as `\"hello\"` by forcing it to insert the blank token between the two l's. A CTC-conform prediction of `\"hello\"` of our model would be `[PAD] [PAD] \"h\" \"e\" \"e\" \"l\" \"l\" [PAD] \"l\" \"o\" \"o\" [PAD]`."
      ]
    },
    {
      "cell_type": "markdown",
      "metadata": {
        "id": "rpvZHM1xReIW"
      },
      "source": [
        "### Training"
      ]
    },
    {
      "cell_type": "markdown",
      "metadata": {
        "id": "j-3oKSzZ1hGq"
      },
      "source": [
        "Training will take between 90 and 180 minutes depending on the GPU allocated to this notebook. While the trained model yields satisfying results on *Timit*'s test data, it is by no means an optimally fine-tuned model. The purpose of this notebook is to demonstrate how Wav2Vec2's [base](https://huggingface.co/facebook/wav2vec2-base), [large](https://huggingface.co/facebook/wav2vec2-large), and [large-lv60](https://huggingface.co/facebook/wav2vec2-large-lv60) checkpoints can be fine-tuned on any English dataset.\n",
        "\n",
        "In case you want to use this google colab to fine-tune your model, you should make sure that your training doesn't stop due to inactivity. A simple hack to prevent this is to paste the following code into the console of this tab (*right mouse click -> inspect -> Console tab and insert code*)."
      ]
    },
    {
      "cell_type": "markdown",
      "metadata": {
        "id": "VYYAvgkW4P0m"
      },
      "source": [
        "```javascript\n",
        "function ConnectButton(){\n",
        "    console.log(\"Connect pushed\");\n",
        "    document.querySelector(\"#top-toolbar > colab-connect-button\").shadowRoot.querySelector(\"#connect\").click()\n",
        "}\n",
        "setInterval(ConnectButton,60000);\n",
        "```"
      ]
    },
    {
      "cell_type": "code",
      "execution_count": 40,
      "metadata": {
        "colab": {
          "base_uri": "https://localhost:8080/",
          "height": 397
        },
        "id": "_UEjJqGsQw24",
        "outputId": "adc5a597-7f5a-403d-b061-f8701a237f48"
      },
      "outputs": [
        {
          "name": "stderr",
          "output_type": "stream",
          "text": [
            "c:\\Users\\lkk68\\.conda\\envs\\mycondapy310\\lib\\site-packages\\transformers\\models\\wav2vec2\\processing_wav2vec2.py:155: UserWarning: `as_target_processor` is deprecated and will be removed in v5 of Transformers. You can process your labels by using the argument `text` of the regular `__call__` method (either in the same call as your audio inputs, or in a separate call.\n",
            "  warnings.warn(\n",
            "c:\\Users\\lkk68\\.conda\\envs\\mycondapy310\\lib\\site-packages\\torch\\utils\\checkpoint.py:429: UserWarning: torch.utils.checkpoint: please pass in use_reentrant=True or use_reentrant=False explicitly. The default value of use_reentrant will be updated to be False in the future. To maintain current behavior, pass use_reentrant=True. It is recommended that you use use_reentrant=False. Refer to docs for more details on the differences between the two variants.\n",
            "  warnings.warn(\n"
          ]
        },
        {
          "data": {
            "text/html": [
              "\n",
              "    <div>\n",
              "      \n",
              "      <progress value='3750' max='3750' style='width:300px; height:20px; vertical-align: middle;'></progress>\n",
              "      [3750/3750 1:27:12, Epoch 30/30]\n",
              "    </div>\n",
              "    <table border=\"1\" class=\"dataframe\">\n",
              "  <thead>\n",
              " <tr style=\"text-align: left;\">\n",
              "      <th>Step</th>\n",
              "      <th>Training Loss</th>\n",
              "      <th>Validation Loss</th>\n",
              "      <th>Wer</th>\n",
              "    </tr>\n",
              "  </thead>\n",
              "  <tbody>\n",
              "    <tr>\n",
              "      <td>500</td>\n",
              "      <td>3.521700</td>\n",
              "      <td>1.390191</td>\n",
              "      <td>0.853422</td>\n",
              "    </tr>\n",
              "    <tr>\n",
              "      <td>1000</td>\n",
              "      <td>0.551100</td>\n",
              "      <td>0.450171</td>\n",
              "      <td>0.370409</td>\n",
              "    </tr>\n",
              "    <tr>\n",
              "      <td>1500</td>\n",
              "      <td>0.181500</td>\n",
              "      <td>0.454385</td>\n",
              "      <td>0.337124</td>\n",
              "    </tr>\n",
              "    <tr>\n",
              "      <td>2000</td>\n",
              "      <td>0.106900</td>\n",
              "      <td>0.462417</td>\n",
              "      <td>0.327614</td>\n",
              "    </tr>\n",
              "    <tr>\n",
              "      <td>2500</td>\n",
              "      <td>0.073100</td>\n",
              "      <td>0.460186</td>\n",
              "      <td>0.315692</td>\n",
              "    </tr>\n",
              "    <tr>\n",
              "      <td>3000</td>\n",
              "      <td>0.053100</td>\n",
              "      <td>0.456862</td>\n",
              "      <td>0.305561</td>\n",
              "    </tr>\n",
              "    <tr>\n",
              "      <td>3500</td>\n",
              "      <td>0.039400</td>\n",
              "      <td>0.473774</td>\n",
              "      <td>0.302391</td>\n",
              "    </tr>\n",
              "  </tbody>\n",
              "</table><p>"
            ],
            "text/plain": [
              "<IPython.core.display.HTML object>"
            ]
          },
          "metadata": {},
          "output_type": "display_data"
        },
        {
          "name": "stderr",
          "output_type": "stream",
          "text": [
            "c:\\Users\\lkk68\\.conda\\envs\\mycondapy310\\lib\\site-packages\\transformers\\models\\wav2vec2\\processing_wav2vec2.py:155: UserWarning: `as_target_processor` is deprecated and will be removed in v5 of Transformers. You can process your labels by using the argument `text` of the regular `__call__` method (either in the same call as your audio inputs, or in a separate call.\n",
            "  warnings.warn(\n",
            "c:\\Users\\lkk68\\.conda\\envs\\mycondapy310\\lib\\site-packages\\torch\\utils\\checkpoint.py:429: UserWarning: torch.utils.checkpoint: please pass in use_reentrant=True or use_reentrant=False explicitly. The default value of use_reentrant will be updated to be False in the future. To maintain current behavior, pass use_reentrant=True. It is recommended that you use use_reentrant=False. Refer to docs for more details on the differences between the two variants.\n",
            "  warnings.warn(\n",
            "c:\\Users\\lkk68\\.conda\\envs\\mycondapy310\\lib\\site-packages\\transformers\\models\\wav2vec2\\processing_wav2vec2.py:155: UserWarning: `as_target_processor` is deprecated and will be removed in v5 of Transformers. You can process your labels by using the argument `text` of the regular `__call__` method (either in the same call as your audio inputs, or in a separate call.\n",
            "  warnings.warn(\n",
            "c:\\Users\\lkk68\\.conda\\envs\\mycondapy310\\lib\\site-packages\\torch\\utils\\checkpoint.py:429: UserWarning: torch.utils.checkpoint: please pass in use_reentrant=True or use_reentrant=False explicitly. The default value of use_reentrant will be updated to be False in the future. To maintain current behavior, pass use_reentrant=True. It is recommended that you use use_reentrant=False. Refer to docs for more details on the differences between the two variants.\n",
            "  warnings.warn(\n",
            "c:\\Users\\lkk68\\.conda\\envs\\mycondapy310\\lib\\site-packages\\transformers\\models\\wav2vec2\\processing_wav2vec2.py:155: UserWarning: `as_target_processor` is deprecated and will be removed in v5 of Transformers. You can process your labels by using the argument `text` of the regular `__call__` method (either in the same call as your audio inputs, or in a separate call.\n",
            "  warnings.warn(\n",
            "c:\\Users\\lkk68\\.conda\\envs\\mycondapy310\\lib\\site-packages\\torch\\utils\\checkpoint.py:429: UserWarning: torch.utils.checkpoint: please pass in use_reentrant=True or use_reentrant=False explicitly. The default value of use_reentrant will be updated to be False in the future. To maintain current behavior, pass use_reentrant=True. It is recommended that you use use_reentrant=False. Refer to docs for more details on the differences between the two variants.\n",
            "  warnings.warn(\n",
            "c:\\Users\\lkk68\\.conda\\envs\\mycondapy310\\lib\\site-packages\\transformers\\models\\wav2vec2\\processing_wav2vec2.py:155: UserWarning: `as_target_processor` is deprecated and will be removed in v5 of Transformers. You can process your labels by using the argument `text` of the regular `__call__` method (either in the same call as your audio inputs, or in a separate call.\n",
            "  warnings.warn(\n",
            "c:\\Users\\lkk68\\.conda\\envs\\mycondapy310\\lib\\site-packages\\torch\\utils\\checkpoint.py:429: UserWarning: torch.utils.checkpoint: please pass in use_reentrant=True or use_reentrant=False explicitly. The default value of use_reentrant will be updated to be False in the future. To maintain current behavior, pass use_reentrant=True. It is recommended that you use use_reentrant=False. Refer to docs for more details on the differences between the two variants.\n",
            "  warnings.warn(\n",
            "c:\\Users\\lkk68\\.conda\\envs\\mycondapy310\\lib\\site-packages\\transformers\\models\\wav2vec2\\processing_wav2vec2.py:155: UserWarning: `as_target_processor` is deprecated and will be removed in v5 of Transformers. You can process your labels by using the argument `text` of the regular `__call__` method (either in the same call as your audio inputs, or in a separate call.\n",
            "  warnings.warn(\n",
            "c:\\Users\\lkk68\\.conda\\envs\\mycondapy310\\lib\\site-packages\\torch\\utils\\checkpoint.py:429: UserWarning: torch.utils.checkpoint: please pass in use_reentrant=True or use_reentrant=False explicitly. The default value of use_reentrant will be updated to be False in the future. To maintain current behavior, pass use_reentrant=True. It is recommended that you use use_reentrant=False. Refer to docs for more details on the differences between the two variants.\n",
            "  warnings.warn(\n",
            "c:\\Users\\lkk68\\.conda\\envs\\mycondapy310\\lib\\site-packages\\transformers\\models\\wav2vec2\\processing_wav2vec2.py:155: UserWarning: `as_target_processor` is deprecated and will be removed in v5 of Transformers. You can process your labels by using the argument `text` of the regular `__call__` method (either in the same call as your audio inputs, or in a separate call.\n",
            "  warnings.warn(\n",
            "c:\\Users\\lkk68\\.conda\\envs\\mycondapy310\\lib\\site-packages\\torch\\utils\\checkpoint.py:429: UserWarning: torch.utils.checkpoint: please pass in use_reentrant=True or use_reentrant=False explicitly. The default value of use_reentrant will be updated to be False in the future. To maintain current behavior, pass use_reentrant=True. It is recommended that you use use_reentrant=False. Refer to docs for more details on the differences between the two variants.\n",
            "  warnings.warn(\n",
            "c:\\Users\\lkk68\\.conda\\envs\\mycondapy310\\lib\\site-packages\\transformers\\models\\wav2vec2\\processing_wav2vec2.py:155: UserWarning: `as_target_processor` is deprecated and will be removed in v5 of Transformers. You can process your labels by using the argument `text` of the regular `__call__` method (either in the same call as your audio inputs, or in a separate call.\n",
            "  warnings.warn(\n",
            "c:\\Users\\lkk68\\.conda\\envs\\mycondapy310\\lib\\site-packages\\torch\\utils\\checkpoint.py:429: UserWarning: torch.utils.checkpoint: please pass in use_reentrant=True or use_reentrant=False explicitly. The default value of use_reentrant will be updated to be False in the future. To maintain current behavior, pass use_reentrant=True. It is recommended that you use use_reentrant=False. Refer to docs for more details on the differences between the two variants.\n",
            "  warnings.warn(\n"
          ]
        },
        {
          "data": {
            "text/plain": [
              "TrainOutput(global_step=3750, training_loss=0.6059846611022949, metrics={'train_runtime': 5244.4061, 'train_samples_per_second': 22.756, 'train_steps_per_second': 0.715, 'total_flos': 3.0987481095379983e+18, 'train_loss': 0.6059846611022949, 'epoch': 30.0})"
            ]
          },
          "execution_count": 40,
          "metadata": {},
          "output_type": "execute_result"
        }
      ],
      "source": [
        "trainer.train()"
      ]
    },
    {
      "cell_type": "markdown",
      "metadata": {
        "id": "UCyp-v3n4Zlt"
      },
      "source": [
        "The final WER should be below 0.3 which is reasonable given that state-of-the-art phoneme error rates (PER) are just below 0.1 (see [leaderboard](https://paperswithcode.com/sota/speech-recognition-on-timit)) and that WER is usually worse than PER.\n",
        "\n",
        "The resulting model of this notebook has been saved to [patrickvonplaten/wav2vec2-base-timit-demo](https://huggingface.co/patrickvonplaten/wav2vec2-base-timit-demo)."
      ]
    },
    {
      "cell_type": "markdown",
      "metadata": {
        "id": "nD4XP5IHncsY"
      },
      "source": [
        "### Evaluate\n",
        "\n",
        "In the final part, we evaluate our fine-tuned model on the test set and play around with it a bit.\n",
        "\n",
        "Let's load the `processor` and `model`."
      ]
    },
    {
      "cell_type": "code",
      "execution_count": 41,
      "metadata": {
        "colab": {
          "base_uri": "https://localhost:8080/"
        },
        "id": "-rg0USDCnbo6",
        "outputId": "8a60c4a5-c57e-43e7-be3f-482a94471488"
      },
      "outputs": [
        {
          "name": "stderr",
          "output_type": "stream",
          "text": [
            "c:\\Users\\lkk68\\.conda\\envs\\mycondapy310\\lib\\site-packages\\transformers\\models\\wav2vec2\\processing_wav2vec2.py:53: FutureWarning: Loading a tokenizer inside Wav2Vec2Processor from a config that does not include a `tokenizer_class` attribute is deprecated and will be removed in v5. Please add `'tokenizer_class': 'Wav2Vec2CTCTokenizer'` attribute to either your `config.json` or `tokenizer_config.json` file to suppress this warning: \n",
            "  warnings.warn(\n"
          ]
        },
        {
          "ename": "OSError",
          "evalue": "Can't load tokenizer for '.\\output\\wav2vec2-base-timit-demo\\checkpoint-3500'. If you were trying to load it from 'https://huggingface.co/models', make sure you don't have a local directory with the same name. Otherwise, make sure '.\\output\\wav2vec2-base-timit-demo\\checkpoint-3500' is the correct path to a directory containing all relevant files for a Wav2Vec2CTCTokenizer tokenizer.",
          "output_type": "error",
          "traceback": [
            "\u001b[1;31m---------------------------------------------------------------------------\u001b[0m",
            "\u001b[1;31mOSError\u001b[0m                                   Traceback (most recent call last)",
            "File \u001b[1;32mc:\\Users\\lkk68\\.conda\\envs\\mycondapy310\\lib\\site-packages\\transformers\\models\\wav2vec2\\processing_wav2vec2.py:51\u001b[0m, in \u001b[0;36mWav2Vec2Processor.from_pretrained\u001b[1;34m(cls, pretrained_model_name_or_path, **kwargs)\u001b[0m\n\u001b[0;32m     50\u001b[0m \u001b[38;5;28;01mtry\u001b[39;00m:\n\u001b[1;32m---> 51\u001b[0m     \u001b[38;5;28;01mreturn\u001b[39;00m \u001b[38;5;28msuper\u001b[39m()\u001b[38;5;241m.\u001b[39mfrom_pretrained(pretrained_model_name_or_path, \u001b[38;5;241m*\u001b[39m\u001b[38;5;241m*\u001b[39mkwargs)\n\u001b[0;32m     52\u001b[0m \u001b[38;5;28;01mexcept\u001b[39;00m \u001b[38;5;167;01mOSError\u001b[39;00m:\n",
            "File \u001b[1;32mc:\\Users\\lkk68\\.conda\\envs\\mycondapy310\\lib\\site-packages\\transformers\\processing_utils.py:226\u001b[0m, in \u001b[0;36mProcessorMixin.from_pretrained\u001b[1;34m(cls, pretrained_model_name_or_path, cache_dir, force_download, local_files_only, token, revision, **kwargs)\u001b[0m\n\u001b[0;32m    224\u001b[0m     kwargs[\u001b[38;5;124m\"\u001b[39m\u001b[38;5;124mtoken\u001b[39m\u001b[38;5;124m\"\u001b[39m] \u001b[38;5;241m=\u001b[39m token\n\u001b[1;32m--> 226\u001b[0m args \u001b[38;5;241m=\u001b[39m \u001b[38;5;28mcls\u001b[39m\u001b[38;5;241m.\u001b[39m_get_arguments_from_pretrained(pretrained_model_name_or_path, \u001b[38;5;241m*\u001b[39m\u001b[38;5;241m*\u001b[39mkwargs)\n\u001b[0;32m    227\u001b[0m \u001b[38;5;28;01mreturn\u001b[39;00m \u001b[38;5;28mcls\u001b[39m(\u001b[38;5;241m*\u001b[39margs)\n",
            "File \u001b[1;32mc:\\Users\\lkk68\\.conda\\envs\\mycondapy310\\lib\\site-packages\\transformers\\processing_utils.py:270\u001b[0m, in \u001b[0;36mProcessorMixin._get_arguments_from_pretrained\u001b[1;34m(cls, pretrained_model_name_or_path, **kwargs)\u001b[0m\n\u001b[0;32m    268\u001b[0m         attribute_class \u001b[38;5;241m=\u001b[39m \u001b[38;5;28mgetattr\u001b[39m(transformers_module, class_name)\n\u001b[1;32m--> 270\u001b[0m     args\u001b[38;5;241m.\u001b[39mappend(attribute_class\u001b[38;5;241m.\u001b[39mfrom_pretrained(pretrained_model_name_or_path, \u001b[38;5;241m*\u001b[39m\u001b[38;5;241m*\u001b[39mkwargs))\n\u001b[0;32m    271\u001b[0m \u001b[38;5;28;01mreturn\u001b[39;00m args\n",
            "File \u001b[1;32mc:\\Users\\lkk68\\.conda\\envs\\mycondapy310\\lib\\site-packages\\transformers\\models\\auto\\tokenization_auto.py:748\u001b[0m, in \u001b[0;36mAutoTokenizer.from_pretrained\u001b[1;34m(cls, pretrained_model_name_or_path, *inputs, **kwargs)\u001b[0m\n\u001b[0;32m    747\u001b[0m \u001b[38;5;28;01mif\u001b[39;00m tokenizer_class_py \u001b[38;5;129;01mis\u001b[39;00m \u001b[38;5;129;01mnot\u001b[39;00m \u001b[38;5;28;01mNone\u001b[39;00m:\n\u001b[1;32m--> 748\u001b[0m     \u001b[38;5;28;01mreturn\u001b[39;00m tokenizer_class_py\u001b[38;5;241m.\u001b[39mfrom_pretrained(pretrained_model_name_or_path, \u001b[38;5;241m*\u001b[39minputs, \u001b[38;5;241m*\u001b[39m\u001b[38;5;241m*\u001b[39mkwargs)\n\u001b[0;32m    749\u001b[0m \u001b[38;5;28;01melse\u001b[39;00m:\n",
            "File \u001b[1;32mc:\\Users\\lkk68\\.conda\\envs\\mycondapy310\\lib\\site-packages\\transformers\\tokenization_utils_base.py:1838\u001b[0m, in \u001b[0;36mPreTrainedTokenizerBase.from_pretrained\u001b[1;34m(cls, pretrained_model_name_or_path, cache_dir, force_download, local_files_only, token, revision, *init_inputs, **kwargs)\u001b[0m\n\u001b[0;32m   1837\u001b[0m \u001b[38;5;28;01mif\u001b[39;00m \u001b[38;5;28mall\u001b[39m(full_file_name \u001b[38;5;129;01mis\u001b[39;00m \u001b[38;5;28;01mNone\u001b[39;00m \u001b[38;5;28;01mfor\u001b[39;00m full_file_name \u001b[38;5;129;01min\u001b[39;00m resolved_vocab_files\u001b[38;5;241m.\u001b[39mvalues()):\n\u001b[1;32m-> 1838\u001b[0m     \u001b[38;5;28;01mraise\u001b[39;00m \u001b[38;5;167;01mEnvironmentError\u001b[39;00m(\n\u001b[0;32m   1839\u001b[0m         \u001b[38;5;124mf\u001b[39m\u001b[38;5;124m\"\u001b[39m\u001b[38;5;124mCan\u001b[39m\u001b[38;5;124m'\u001b[39m\u001b[38;5;124mt load tokenizer for \u001b[39m\u001b[38;5;124m'\u001b[39m\u001b[38;5;132;01m{\u001b[39;00mpretrained_model_name_or_path\u001b[38;5;132;01m}\u001b[39;00m\u001b[38;5;124m'\u001b[39m\u001b[38;5;124m. If you were trying to load it from \u001b[39m\u001b[38;5;124m\"\u001b[39m\n\u001b[0;32m   1840\u001b[0m         \u001b[38;5;124m\"\u001b[39m\u001b[38;5;124m'\u001b[39m\u001b[38;5;124mhttps://huggingface.co/models\u001b[39m\u001b[38;5;124m'\u001b[39m\u001b[38;5;124m, make sure you don\u001b[39m\u001b[38;5;124m'\u001b[39m\u001b[38;5;124mt have a local directory with the same name. \u001b[39m\u001b[38;5;124m\"\u001b[39m\n\u001b[0;32m   1841\u001b[0m         \u001b[38;5;124mf\u001b[39m\u001b[38;5;124m\"\u001b[39m\u001b[38;5;124mOtherwise, make sure \u001b[39m\u001b[38;5;124m'\u001b[39m\u001b[38;5;132;01m{\u001b[39;00mpretrained_model_name_or_path\u001b[38;5;132;01m}\u001b[39;00m\u001b[38;5;124m'\u001b[39m\u001b[38;5;124m is the correct path to a directory \u001b[39m\u001b[38;5;124m\"\u001b[39m\n\u001b[0;32m   1842\u001b[0m         \u001b[38;5;124mf\u001b[39m\u001b[38;5;124m\"\u001b[39m\u001b[38;5;124mcontaining all relevant files for a \u001b[39m\u001b[38;5;132;01m{\u001b[39;00m\u001b[38;5;28mcls\u001b[39m\u001b[38;5;241m.\u001b[39m\u001b[38;5;18m__name__\u001b[39m\u001b[38;5;132;01m}\u001b[39;00m\u001b[38;5;124m tokenizer.\u001b[39m\u001b[38;5;124m\"\u001b[39m\n\u001b[0;32m   1843\u001b[0m     )\n\u001b[0;32m   1845\u001b[0m \u001b[38;5;28;01mfor\u001b[39;00m file_id, file_path \u001b[38;5;129;01min\u001b[39;00m vocab_files\u001b[38;5;241m.\u001b[39mitems():\n",
            "\u001b[1;31mOSError\u001b[0m: Can't load tokenizer for '.\\output\\wav2vec2-base-timit-demo\\checkpoint-3500'. If you were trying to load it from 'https://huggingface.co/models', make sure you don't have a local directory with the same name. Otherwise, make sure '.\\output\\wav2vec2-base-timit-demo\\checkpoint-3500' is the correct path to a directory containing all relevant files for a Wav2Vec2CTCTokenizer tokenizer.",
            "\nDuring handling of the above exception, another exception occurred:\n",
            "\u001b[1;31mOSError\u001b[0m                                   Traceback (most recent call last)",
            "Cell \u001b[1;32mIn[41], line 2\u001b[0m\n\u001b[0;32m      1\u001b[0m trainedpath\u001b[38;5;241m=\u001b[39m\u001b[38;5;124m\"\u001b[39m\u001b[38;5;124m.\u001b[39m\u001b[38;5;124m\\\u001b[39m\u001b[38;5;124moutput\u001b[39m\u001b[38;5;124m\\\u001b[39m\u001b[38;5;124mwav2vec2-base-timit-demo\u001b[39m\u001b[38;5;124m\\\u001b[39m\u001b[38;5;124mcheckpoint-3500\u001b[39m\u001b[38;5;124m\"\u001b[39m\n\u001b[1;32m----> 2\u001b[0m processor \u001b[38;5;241m=\u001b[39m \u001b[43mWav2Vec2Processor\u001b[49m\u001b[38;5;241;43m.\u001b[39;49m\u001b[43mfrom_pretrained\u001b[49m\u001b[43m(\u001b[49m\u001b[43mtrainedpath\u001b[49m\u001b[43m)\u001b[49m\n",
            "File \u001b[1;32mc:\\Users\\lkk68\\.conda\\envs\\mycondapy310\\lib\\site-packages\\transformers\\models\\wav2vec2\\processing_wav2vec2.py:63\u001b[0m, in \u001b[0;36mWav2Vec2Processor.from_pretrained\u001b[1;34m(cls, pretrained_model_name_or_path, **kwargs)\u001b[0m\n\u001b[0;32m     53\u001b[0m warnings\u001b[38;5;241m.\u001b[39mwarn(\n\u001b[0;32m     54\u001b[0m     \u001b[38;5;124mf\u001b[39m\u001b[38;5;124m\"\u001b[39m\u001b[38;5;124mLoading a tokenizer inside \u001b[39m\u001b[38;5;132;01m{\u001b[39;00m\u001b[38;5;28mcls\u001b[39m\u001b[38;5;241m.\u001b[39m\u001b[38;5;18m__name__\u001b[39m\u001b[38;5;132;01m}\u001b[39;00m\u001b[38;5;124m from a config that does not\u001b[39m\u001b[38;5;124m\"\u001b[39m\n\u001b[0;32m     55\u001b[0m     \u001b[38;5;124m\"\u001b[39m\u001b[38;5;124m include a `tokenizer_class` attribute is deprecated and will be \u001b[39m\u001b[38;5;124m\"\u001b[39m\n\u001b[1;32m   (...)\u001b[0m\n\u001b[0;32m     59\u001b[0m     \u001b[38;5;167;01mFutureWarning\u001b[39;00m,\n\u001b[0;32m     60\u001b[0m )\n\u001b[0;32m     62\u001b[0m feature_extractor \u001b[38;5;241m=\u001b[39m Wav2Vec2FeatureExtractor\u001b[38;5;241m.\u001b[39mfrom_pretrained(pretrained_model_name_or_path, \u001b[38;5;241m*\u001b[39m\u001b[38;5;241m*\u001b[39mkwargs)\n\u001b[1;32m---> 63\u001b[0m tokenizer \u001b[38;5;241m=\u001b[39m Wav2Vec2CTCTokenizer\u001b[38;5;241m.\u001b[39mfrom_pretrained(pretrained_model_name_or_path, \u001b[38;5;241m*\u001b[39m\u001b[38;5;241m*\u001b[39mkwargs)\n\u001b[0;32m     65\u001b[0m \u001b[38;5;28;01mreturn\u001b[39;00m \u001b[38;5;28mcls\u001b[39m(feature_extractor\u001b[38;5;241m=\u001b[39mfeature_extractor, tokenizer\u001b[38;5;241m=\u001b[39mtokenizer)\n",
            "File \u001b[1;32mc:\\Users\\lkk68\\.conda\\envs\\mycondapy310\\lib\\site-packages\\transformers\\tokenization_utils_base.py:1838\u001b[0m, in \u001b[0;36mPreTrainedTokenizerBase.from_pretrained\u001b[1;34m(cls, pretrained_model_name_or_path, cache_dir, force_download, local_files_only, token, revision, *init_inputs, **kwargs)\u001b[0m\n\u001b[0;32m   1832\u001b[0m     logger\u001b[38;5;241m.\u001b[39minfo(\n\u001b[0;32m   1833\u001b[0m         \u001b[38;5;124mf\u001b[39m\u001b[38;5;124m\"\u001b[39m\u001b[38;5;124mCan\u001b[39m\u001b[38;5;124m'\u001b[39m\u001b[38;5;124mt load following files from cache: \u001b[39m\u001b[38;5;132;01m{\u001b[39;00munresolved_files\u001b[38;5;132;01m}\u001b[39;00m\u001b[38;5;124m and cannot check if these \u001b[39m\u001b[38;5;124m\"\u001b[39m\n\u001b[0;32m   1834\u001b[0m         \u001b[38;5;124m\"\u001b[39m\u001b[38;5;124mfiles are necessary for the tokenizer to operate.\u001b[39m\u001b[38;5;124m\"\u001b[39m\n\u001b[0;32m   1835\u001b[0m     )\n\u001b[0;32m   1837\u001b[0m \u001b[38;5;28;01mif\u001b[39;00m \u001b[38;5;28mall\u001b[39m(full_file_name \u001b[38;5;129;01mis\u001b[39;00m \u001b[38;5;28;01mNone\u001b[39;00m \u001b[38;5;28;01mfor\u001b[39;00m full_file_name \u001b[38;5;129;01min\u001b[39;00m resolved_vocab_files\u001b[38;5;241m.\u001b[39mvalues()):\n\u001b[1;32m-> 1838\u001b[0m     \u001b[38;5;28;01mraise\u001b[39;00m \u001b[38;5;167;01mEnvironmentError\u001b[39;00m(\n\u001b[0;32m   1839\u001b[0m         \u001b[38;5;124mf\u001b[39m\u001b[38;5;124m\"\u001b[39m\u001b[38;5;124mCan\u001b[39m\u001b[38;5;124m'\u001b[39m\u001b[38;5;124mt load tokenizer for \u001b[39m\u001b[38;5;124m'\u001b[39m\u001b[38;5;132;01m{\u001b[39;00mpretrained_model_name_or_path\u001b[38;5;132;01m}\u001b[39;00m\u001b[38;5;124m'\u001b[39m\u001b[38;5;124m. If you were trying to load it from \u001b[39m\u001b[38;5;124m\"\u001b[39m\n\u001b[0;32m   1840\u001b[0m         \u001b[38;5;124m\"\u001b[39m\u001b[38;5;124m'\u001b[39m\u001b[38;5;124mhttps://huggingface.co/models\u001b[39m\u001b[38;5;124m'\u001b[39m\u001b[38;5;124m, make sure you don\u001b[39m\u001b[38;5;124m'\u001b[39m\u001b[38;5;124mt have a local directory with the same name. \u001b[39m\u001b[38;5;124m\"\u001b[39m\n\u001b[0;32m   1841\u001b[0m         \u001b[38;5;124mf\u001b[39m\u001b[38;5;124m\"\u001b[39m\u001b[38;5;124mOtherwise, make sure \u001b[39m\u001b[38;5;124m'\u001b[39m\u001b[38;5;132;01m{\u001b[39;00mpretrained_model_name_or_path\u001b[38;5;132;01m}\u001b[39;00m\u001b[38;5;124m'\u001b[39m\u001b[38;5;124m is the correct path to a directory \u001b[39m\u001b[38;5;124m\"\u001b[39m\n\u001b[0;32m   1842\u001b[0m         \u001b[38;5;124mf\u001b[39m\u001b[38;5;124m\"\u001b[39m\u001b[38;5;124mcontaining all relevant files for a \u001b[39m\u001b[38;5;132;01m{\u001b[39;00m\u001b[38;5;28mcls\u001b[39m\u001b[38;5;241m.\u001b[39m\u001b[38;5;18m__name__\u001b[39m\u001b[38;5;132;01m}\u001b[39;00m\u001b[38;5;124m tokenizer.\u001b[39m\u001b[38;5;124m\"\u001b[39m\n\u001b[0;32m   1843\u001b[0m     )\n\u001b[0;32m   1845\u001b[0m \u001b[38;5;28;01mfor\u001b[39;00m file_id, file_path \u001b[38;5;129;01min\u001b[39;00m vocab_files\u001b[38;5;241m.\u001b[39mitems():\n\u001b[0;32m   1846\u001b[0m     \u001b[38;5;28;01mif\u001b[39;00m file_id \u001b[38;5;129;01mnot\u001b[39;00m \u001b[38;5;129;01min\u001b[39;00m resolved_vocab_files:\n",
            "\u001b[1;31mOSError\u001b[0m: Can't load tokenizer for '.\\output\\wav2vec2-base-timit-demo\\checkpoint-3500'. If you were trying to load it from 'https://huggingface.co/models', make sure you don't have a local directory with the same name. Otherwise, make sure '.\\output\\wav2vec2-base-timit-demo\\checkpoint-3500' is the correct path to a directory containing all relevant files for a Wav2Vec2CTCTokenizer tokenizer."
          ]
        }
      ],
      "source": [
        "trainedpath=\".\\output\\wav2vec2-base-timit-demo\\checkpoint-3500\"\n",
        "processor = Wav2Vec2Processor.from_pretrained(trainedpath)"
      ]
    },
    {
      "cell_type": "code",
      "execution_count": 43,
      "metadata": {},
      "outputs": [
        {
          "data": {
            "text/plain": [
              "('.\\\\output\\\\wav2vec2-base-timit-demo\\\\checkpoint-3500\\\\tokenizer_config.json',\n",
              " '.\\\\output\\\\wav2vec2-base-timit-demo\\\\checkpoint-3500\\\\special_tokens_map.json',\n",
              " '.\\\\output\\\\wav2vec2-base-timit-demo\\\\checkpoint-3500\\\\vocab.json',\n",
              " '.\\\\output\\\\wav2vec2-base-timit-demo\\\\checkpoint-3500\\\\added_tokens.json')"
            ]
          },
          "execution_count": 43,
          "metadata": {},
          "output_type": "execute_result"
        }
      ],
      "source": [
        "tokenizer.save_pretrained(trainedpath)"
      ]
    },
    {
      "cell_type": "code",
      "execution_count": 44,
      "metadata": {},
      "outputs": [
        {
          "name": "stderr",
          "output_type": "stream",
          "text": [
            "Special tokens have been added in the vocabulary, make sure the associated word embeddings are fine-tuned or trained.\n"
          ]
        }
      ],
      "source": [
        "processor = Wav2Vec2Processor.from_pretrained(trainedpath)"
      ]
    },
    {
      "cell_type": "code",
      "execution_count": 42,
      "metadata": {
        "id": "sSpFW3pDn23P"
      },
      "outputs": [],
      "source": [
        "model = Wav2Vec2ForCTC.from_pretrained(trainedpath)"
      ]
    },
    {
      "cell_type": "markdown",
      "metadata": {
        "id": "TUuZpB0v5jn_"
      },
      "source": [
        "Now, we will make use of the `map(...)` function to predict the transcription of every test sample and to save the prediction in the dataset itself. We will call the resulting dictionary `\"results\"`.\n",
        "\n",
        "**Note**: we evaluate the test data set with `batch_size=1` on purpose due to this [issue](https://github.com/pytorch/fairseq/issues/3227). Since padded inputs don't yield the exact same output as non-padded inputs, a better WER can be achieved by not padding the input at all."
      ]
    },
    {
      "cell_type": "code",
      "execution_count": 47,
      "metadata": {
        "id": "40naJl53n7jT"
      },
      "outputs": [],
      "source": [
        "def map_to_result(batch):\n",
        "  with torch.no_grad():\n",
        "    input_values = torch.tensor(batch[\"input_values\"], device=\"cuda\").unsqueeze(0)\n",
        "    logits = model(input_values).logits\n",
        "\n",
        "  pred_ids = torch.argmax(logits, dim=-1)\n",
        "  batch[\"pred_str\"] = processor.batch_decode(pred_ids)[0]\n",
        "  batch[\"text\"] = processor.decode(batch[\"labels\"], group_tokens=False)\n",
        "  \n",
        "  return batch"
      ]
    },
    {
      "cell_type": "code",
      "execution_count": 48,
      "metadata": {
        "colab": {
          "base_uri": "https://localhost:8080/",
          "height": 67,
          "referenced_widgets": [
            "44668393974b4a63ad82be76f0590f4c",
            "9060eb779ab8498bae00e6d96565a294",
            "b95a7aee13244ddea0abefe5618195ad",
            "f0484d53c00e4aa19cb7e6520c9ca75d",
            "db5d8dfcdd004ac0bbb5142725da4f50",
            "41a42b64f5e34cbaa0bab1fc8f620192",
            "3c98308d5b424de79df93434da63912c",
            "8ea5fb339ee24d2289d3edc0977b08e9"
          ]
        },
        "id": "uPqH7gZqrGPi",
        "outputId": "021bbd87-00ba-47fe-a7fb-a0924cc8724b"
      },
      "outputs": [
        {
          "name": "stderr",
          "output_type": "stream",
          "text": [
            "Map: 100%|██████████| 1680/1680 [02:04<00:00, 13.51 examples/s]\n"
          ]
        }
      ],
      "source": [
        "results = timit[\"test\"].map(map_to_result, remove_columns=timit[\"test\"].column_names)"
      ]
    },
    {
      "cell_type": "markdown",
      "metadata": {
        "id": "-mqpdB8R6rty"
      },
      "source": [
        "Let's compute the overall WER now."
      ]
    },
    {
      "cell_type": "code",
      "execution_count": 50,
      "metadata": {
        "colab": {
          "base_uri": "https://localhost:8080/"
        },
        "id": "PmqAb4Isx8OK",
        "outputId": "a081a8a2-e59f-4054-d057-0e28dad9a6c2"
      },
      "outputs": [
        {
          "name": "stdout",
          "output_type": "stream",
          "text": [
            "Test WER: 0.222\n"
          ]
        }
      ],
      "source": [
        "print(\"Test WER: {:.3f}\".format(wer_metric.compute(predictions=results[\"pred_str\"], references=results[\"text\"])))"
      ]
    },
    {
      "cell_type": "markdown",
      "metadata": {
        "id": "6Va94d8Y7Q98"
      },
      "source": [
        "18.6% WER - not bad! Our model would have surely made the top 20 on the official [leaderboard](https://paperswithcode.com/sota/speech-recognition-on-timit).\n",
        "\n",
        "Let's take a look at some predictions to see what errors are made by the model."
      ]
    },
    {
      "cell_type": "code",
      "execution_count": 51,
      "metadata": {
        "colab": {
          "base_uri": "https://localhost:8080/"
        },
        "id": "odNDiFVRy53w",
        "outputId": "05b21744-7e3b-49a3-e801-487fff92dd1a"
      },
      "outputs": [
        {
          "data": {
            "text/html": [
              "<table border=\"1\" class=\"dataframe\">\n",
              "  <thead>\n",
              "    <tr style=\"text-align: right;\">\n",
              "      <th></th>\n",
              "      <th>pred_str</th>\n",
              "      <th>text</th>\n",
              "    </tr>\n",
              "  </thead>\n",
              "  <tbody>\n",
              "    <tr>\n",
              "      <th>0</th>\n",
              "      <td>look sweet art some fool was</td>\n",
              "      <td>look sweetheart some fool was</td>\n",
              "    </tr>\n",
              "    <tr>\n",
              "      <th>1</th>\n",
              "      <td>don't ask me to carry an oily rag like that</td>\n",
              "      <td>don't ask me to carry an oily rag like that</td>\n",
              "    </tr>\n",
              "    <tr>\n",
              "      <th>2</th>\n",
              "      <td>each untimely income laws coincided with a break down of a heding system part</td>\n",
              "      <td>each untimely income loss coincided with the breakdown of a heating system part</td>\n",
              "    </tr>\n",
              "    <tr>\n",
              "      <th>3</th>\n",
              "      <td>spechial taskforces rescue hostages from kidnappers</td>\n",
              "      <td>special task forces rescue hostages from kidnappers</td>\n",
              "    </tr>\n",
              "    <tr>\n",
              "      <th>4</th>\n",
              "      <td>her wardrol consists afe only skirts and blouses</td>\n",
              "      <td>her wardrobe consists of only skirts and blouses</td>\n",
              "    </tr>\n",
              "    <tr>\n",
              "      <th>5</th>\n",
              "      <td>eaquandnas and aligators are tropical reptiles</td>\n",
              "      <td>iguanas and alligators are tropical reptiles</td>\n",
              "    </tr>\n",
              "    <tr>\n",
              "      <th>6</th>\n",
              "      <td>the clumsy custemers spilled some expensive perfum</td>\n",
              "      <td>the clumsy customer spilled some expensive perfume</td>\n",
              "    </tr>\n",
              "    <tr>\n",
              "      <th>7</th>\n",
              "      <td>the view point overlooke the ocean</td>\n",
              "      <td>the viewpoint overlooked the ocean</td>\n",
              "    </tr>\n",
              "    <tr>\n",
              "      <th>8</th>\n",
              "      <td>alisabillity to work without supervision is notworthy</td>\n",
              "      <td>alice's ability to work without supervision is noteworthy</td>\n",
              "    </tr>\n",
              "    <tr>\n",
              "      <th>9</th>\n",
              "      <td>the owasis was a marage</td>\n",
              "      <td>the oasis was a mirage</td>\n",
              "    </tr>\n",
              "  </tbody>\n",
              "</table>"
            ],
            "text/plain": [
              "<IPython.core.display.HTML object>"
            ]
          },
          "metadata": {},
          "output_type": "display_data"
        }
      ],
      "source": [
        "show_random_elements(results)"
      ]
    },
    {
      "cell_type": "markdown",
      "metadata": {
        "id": "5HFCujhd9n4N"
      },
      "source": [
        "It becomes clear that the predicted transcriptions are acoustically very similar to the target transcriptions, but often contain spelling or grammatical errors. This shouldn't be very surprising though given that we purely rely on Wav2Vec2 without making use of a language model."
      ]
    },
    {
      "cell_type": "markdown",
      "metadata": {
        "id": "a3ydKvUl9FTK"
      },
      "source": [
        "Finally, to better understand how CTC works, it is worth taking a deeper look at the exact output of the model. Let's run the first test sample through the model, take the predicted ids and convert them to their corresponding tokens."
      ]
    },
    {
      "cell_type": "code",
      "execution_count": 52,
      "metadata": {
        "colab": {
          "base_uri": "https://localhost:8080/",
          "height": 71
        },
        "id": "AqaM45t87uM4",
        "outputId": "43695fa3-12d3-4de9-a5fe-c946dd0a05b0"
      },
      "outputs": [
        {
          "data": {
            "text/plain": [
              "'[PAD] [PAD] [PAD] [PAD] [PAD] [PAD] [PAD] [PAD] [PAD] [PAD] [PAD] [PAD] [PAD] [PAD] [PAD] [PAD] [PAD] [PAD] [PAD] [PAD] [PAD] [PAD] [PAD] [PAD] [PAD] [PAD] [PAD] [PAD] [PAD] [PAD] [PAD] s s h h h e e | | | | h [PAD] [PAD] [PAD] a a a d d | | y y o o u r r | | d d [PAD] [PAD] a a r r r k k | | | | s s [PAD] [PAD] [PAD] [PAD] [PAD] [PAD] u u i i t t | | i i n n n | | | g g r r e e e a a a s s [PAD] [PAD] [PAD] [PAD] [PAD] y y | | w w [PAD] [PAD] [PAD] [PAD] [PAD] [PAD] [PAD] a a s s h h h | | | w w [PAD] [PAD] [PAD] [PAD] [PAD] a a a t t e e e r r | | | [PAD] [PAD] a l l l [PAD] [PAD] l l | | | y y y e e e e e a a a r r r [PAD] [PAD] [PAD] [PAD] [PAD] [PAD] [PAD] [PAD] [PAD] [PAD]'"
            ]
          },
          "execution_count": 52,
          "metadata": {},
          "output_type": "execute_result"
        },
        {
          "ename": "",
          "evalue": "",
          "output_type": "error",
          "traceback": [
            "\u001b[1;31mThe Kernel crashed while executing code in the the current cell or a previous cell. Please review the code in the cell(s) to identify a possible cause of the failure. Click <a href='https://aka.ms/vscodeJupyterKernelCrash'>here</a> for more info. View Jupyter <a href='command:jupyter.viewOutput'>log</a> for further details."
          ]
        }
      ],
      "source": [
        "model.to(\"cuda\")\n",
        "\n",
        "with torch.no_grad():\n",
        "  logits = model(torch.tensor(timit[\"test\"][:1][\"input_values\"], device=\"cuda\")).logits\n",
        "\n",
        "pred_ids = torch.argmax(logits, dim=-1)\n",
        "\n",
        "# convert ids to tokens\n",
        "\" \".join(processor.tokenizer.convert_ids_to_tokens(pred_ids[0].tolist()))"
      ]
    },
    {
      "cell_type": "markdown",
      "metadata": {
        "id": "tdO8E28g-n5C"
      },
      "source": [
        "The output should make it a bit clearer how CTC works in practice. The model is to some extent invariant to speaking rate since it has learned to either just repeat the same token in case the speech chunk to be classified still corresponds to the same token. This makes CTC a very powerful algorithm for speech recognition since the speech file's transcription is often very much independent of its length.\n",
        "\n",
        "I again advise the reader to take a look at [this](https://distill.pub/2017/ctc) very nice blog post to better understand CTC."
      ]
    }
  ],
  "metadata": {
    "accelerator": "GPU",
    "colab": {
      "machine_shape": "hm",
      "provenance": [],
      "toc_visible": true
    },
    "kernelspec": {
      "display_name": "Python 3",
      "name": "python3"
    },
    "language_info": {
      "codemirror_mode": {
        "name": "ipython",
        "version": 3
      },
      "file_extension": ".py",
      "mimetype": "text/x-python",
      "name": "python",
      "nbconvert_exporter": "python",
      "pygments_lexer": "ipython3",
      "version": "0.0.0"
    },
    "widgets": {
      "application/vnd.jupyter.widget-state+json": {
        "01523f050e044715b493b1e17ace2ce2": {
          "model_module": "@jupyter-widgets/base",
          "model_module_version": "1.2.0",
          "model_name": "LayoutModel",
          "state": {
            "_model_module": "@jupyter-widgets/base",
            "_model_module_version": "1.2.0",
            "_model_name": "LayoutModel",
            "_view_count": null,
            "_view_module": "@jupyter-widgets/base",
            "_view_module_version": "1.2.0",
            "_view_name": "LayoutView",
            "align_content": null,
            "align_items": null,
            "align_self": null,
            "border": null,
            "bottom": null,
            "display": null,
            "flex": null,
            "flex_flow": null,
            "grid_area": null,
            "grid_auto_columns": null,
            "grid_auto_flow": null,
            "grid_auto_rows": null,
            "grid_column": null,
            "grid_gap": null,
            "grid_row": null,
            "grid_template_areas": null,
            "grid_template_columns": null,
            "grid_template_rows": null,
            "height": null,
            "justify_content": null,
            "justify_items": null,
            "left": null,
            "margin": null,
            "max_height": null,
            "max_width": null,
            "min_height": null,
            "min_width": null,
            "object_fit": null,
            "object_position": null,
            "order": null,
            "overflow": null,
            "overflow_x": null,
            "overflow_y": null,
            "padding": null,
            "right": null,
            "top": null,
            "visibility": null,
            "width": null
          }
        },
        "0a849afcd78842f98c0471c32866fcb8": {
          "model_module": "@jupyter-widgets/controls",
          "model_module_version": "1.5.0",
          "model_name": "ProgressStyleModel",
          "state": {
            "_model_module": "@jupyter-widgets/controls",
            "_model_module_version": "1.5.0",
            "_model_name": "ProgressStyleModel",
            "_view_count": null,
            "_view_module": "@jupyter-widgets/base",
            "_view_module_version": "1.2.0",
            "_view_name": "StyleView",
            "bar_color": null,
            "description_width": "initial"
          }
        },
        "2034de6f09014ee8b458066445444b04": {
          "model_module": "@jupyter-widgets/controls",
          "model_module_version": "1.5.0",
          "model_name": "DescriptionStyleModel",
          "state": {
            "_model_module": "@jupyter-widgets/controls",
            "_model_module_version": "1.5.0",
            "_model_name": "DescriptionStyleModel",
            "_view_count": null,
            "_view_module": "@jupyter-widgets/base",
            "_view_module_version": "1.2.0",
            "_view_name": "StyleView",
            "description_width": ""
          }
        },
        "3298d9de17264aa4ac576b073e32db10": {
          "model_module": "@jupyter-widgets/base",
          "model_module_version": "1.2.0",
          "model_name": "LayoutModel",
          "state": {
            "_model_module": "@jupyter-widgets/base",
            "_model_module_version": "1.2.0",
            "_model_name": "LayoutModel",
            "_view_count": null,
            "_view_module": "@jupyter-widgets/base",
            "_view_module_version": "1.2.0",
            "_view_name": "LayoutView",
            "align_content": null,
            "align_items": null,
            "align_self": null,
            "border": null,
            "bottom": null,
            "display": null,
            "flex": null,
            "flex_flow": null,
            "grid_area": null,
            "grid_auto_columns": null,
            "grid_auto_flow": null,
            "grid_auto_rows": null,
            "grid_column": null,
            "grid_gap": null,
            "grid_row": null,
            "grid_template_areas": null,
            "grid_template_columns": null,
            "grid_template_rows": null,
            "height": null,
            "justify_content": null,
            "justify_items": null,
            "left": null,
            "margin": null,
            "max_height": null,
            "max_width": null,
            "min_height": null,
            "min_width": null,
            "object_fit": null,
            "object_position": null,
            "order": null,
            "overflow": null,
            "overflow_x": null,
            "overflow_y": null,
            "padding": null,
            "right": null,
            "top": null,
            "visibility": null,
            "width": null
          }
        },
        "37051888a8d941f9b9c823ed68b1fbb4": {
          "model_module": "@jupyter-widgets/controls",
          "model_module_version": "1.5.0",
          "model_name": "ProgressStyleModel",
          "state": {
            "_model_module": "@jupyter-widgets/controls",
            "_model_module_version": "1.5.0",
            "_model_name": "ProgressStyleModel",
            "_view_count": null,
            "_view_module": "@jupyter-widgets/base",
            "_view_module_version": "1.2.0",
            "_view_name": "StyleView",
            "bar_color": null,
            "description_width": "initial"
          }
        },
        "3c98308d5b424de79df93434da63912c": {
          "model_module": "@jupyter-widgets/controls",
          "model_module_version": "1.5.0",
          "model_name": "DescriptionStyleModel",
          "state": {
            "_model_module": "@jupyter-widgets/controls",
            "_model_module_version": "1.5.0",
            "_model_name": "DescriptionStyleModel",
            "_view_count": null,
            "_view_module": "@jupyter-widgets/base",
            "_view_module_version": "1.2.0",
            "_view_name": "StyleView",
            "description_width": ""
          }
        },
        "41a42b64f5e34cbaa0bab1fc8f620192": {
          "model_module": "@jupyter-widgets/base",
          "model_module_version": "1.2.0",
          "model_name": "LayoutModel",
          "state": {
            "_model_module": "@jupyter-widgets/base",
            "_model_module_version": "1.2.0",
            "_model_name": "LayoutModel",
            "_view_count": null,
            "_view_module": "@jupyter-widgets/base",
            "_view_module_version": "1.2.0",
            "_view_name": "LayoutView",
            "align_content": null,
            "align_items": null,
            "align_self": null,
            "border": null,
            "bottom": null,
            "display": null,
            "flex": null,
            "flex_flow": null,
            "grid_area": null,
            "grid_auto_columns": null,
            "grid_auto_flow": null,
            "grid_auto_rows": null,
            "grid_column": null,
            "grid_gap": null,
            "grid_row": null,
            "grid_template_areas": null,
            "grid_template_columns": null,
            "grid_template_rows": null,
            "height": null,
            "justify_content": null,
            "justify_items": null,
            "left": null,
            "margin": null,
            "max_height": null,
            "max_width": null,
            "min_height": null,
            "min_width": null,
            "object_fit": null,
            "object_position": null,
            "order": null,
            "overflow": null,
            "overflow_x": null,
            "overflow_y": null,
            "padding": null,
            "right": null,
            "top": null,
            "visibility": null,
            "width": null
          }
        },
        "44668393974b4a63ad82be76f0590f4c": {
          "model_module": "@jupyter-widgets/controls",
          "model_module_version": "1.5.0",
          "model_name": "HBoxModel",
          "state": {
            "_dom_classes": [],
            "_model_module": "@jupyter-widgets/controls",
            "_model_module_version": "1.5.0",
            "_model_name": "HBoxModel",
            "_view_count": null,
            "_view_module": "@jupyter-widgets/controls",
            "_view_module_version": "1.5.0",
            "_view_name": "HBoxView",
            "box_style": "",
            "children": [
              "IPY_MODEL_b95a7aee13244ddea0abefe5618195ad",
              "IPY_MODEL_f0484d53c00e4aa19cb7e6520c9ca75d"
            ],
            "layout": "IPY_MODEL_9060eb779ab8498bae00e6d96565a294"
          }
        },
        "5a2c824fd0f24084a750d2ecd1d9401b": {
          "model_module": "@jupyter-widgets/controls",
          "model_module_version": "1.5.0",
          "model_name": "FloatProgressModel",
          "state": {
            "_dom_classes": [],
            "_model_module": "@jupyter-widgets/controls",
            "_model_module_version": "1.5.0",
            "_model_name": "FloatProgressModel",
            "_view_count": null,
            "_view_module": "@jupyter-widgets/controls",
            "_view_module_version": "1.5.0",
            "_view_name": "ProgressView",
            "bar_style": "success",
            "description": "100%",
            "description_tooltip": null,
            "layout": "IPY_MODEL_ffb6112b3ebf4bc7b73aa169dfc6792c",
            "max": 1,
            "min": 0,
            "orientation": "horizontal",
            "style": "IPY_MODEL_37051888a8d941f9b9c823ed68b1fbb4",
            "value": 1
          }
        },
        "5f2ed798b2674fd98052ced2faae3aa9": {
          "model_module": "@jupyter-widgets/controls",
          "model_module_version": "1.5.0",
          "model_name": "HBoxModel",
          "state": {
            "_dom_classes": [],
            "_model_module": "@jupyter-widgets/controls",
            "_model_module_version": "1.5.0",
            "_model_name": "HBoxModel",
            "_view_count": null,
            "_view_module": "@jupyter-widgets/controls",
            "_view_module_version": "1.5.0",
            "_view_name": "HBoxView",
            "box_style": "",
            "children": [
              "IPY_MODEL_940b86f6edca4cecad67b6f6872c39e1",
              "IPY_MODEL_afee4f92343c4be28de297aca4a29505"
            ],
            "layout": "IPY_MODEL_9a81ad54827f47bd8f2a8453a50e706f"
          }
        },
        "69355cf02bae416a9d5fd890fb41d78b": {
          "model_module": "@jupyter-widgets/base",
          "model_module_version": "1.2.0",
          "model_name": "LayoutModel",
          "state": {
            "_model_module": "@jupyter-widgets/base",
            "_model_module_version": "1.2.0",
            "_model_name": "LayoutModel",
            "_view_count": null,
            "_view_module": "@jupyter-widgets/base",
            "_view_module_version": "1.2.0",
            "_view_name": "LayoutView",
            "align_content": null,
            "align_items": null,
            "align_self": null,
            "border": null,
            "bottom": null,
            "display": null,
            "flex": null,
            "flex_flow": null,
            "grid_area": null,
            "grid_auto_columns": null,
            "grid_auto_flow": null,
            "grid_auto_rows": null,
            "grid_column": null,
            "grid_gap": null,
            "grid_row": null,
            "grid_template_areas": null,
            "grid_template_columns": null,
            "grid_template_rows": null,
            "height": null,
            "justify_content": null,
            "justify_items": null,
            "left": null,
            "margin": null,
            "max_height": null,
            "max_width": null,
            "min_height": null,
            "min_width": null,
            "object_fit": null,
            "object_position": null,
            "order": null,
            "overflow": null,
            "overflow_x": null,
            "overflow_y": null,
            "padding": null,
            "right": null,
            "top": null,
            "visibility": null,
            "width": null
          }
        },
        "6e23c99a8e6a47faa5f9ee487ad7f920": {
          "model_module": "@jupyter-widgets/controls",
          "model_module_version": "1.5.0",
          "model_name": "HTMLModel",
          "state": {
            "_dom_classes": [],
            "_model_module": "@jupyter-widgets/controls",
            "_model_module_version": "1.5.0",
            "_model_name": "HTMLModel",
            "_view_count": null,
            "_view_module": "@jupyter-widgets/controls",
            "_view_module_version": "1.5.0",
            "_view_name": "HTMLView",
            "description": "",
            "description_tooltip": null,
            "layout": "IPY_MODEL_01523f050e044715b493b1e17ace2ce2",
            "placeholder": "​",
            "style": "IPY_MODEL_8adc6f69164b4090b63e7765afcf8be3",
            "value": " 1/1 [00:00&lt;00:00,  6.36ba/s]"
          }
        },
        "8adc6f69164b4090b63e7765afcf8be3": {
          "model_module": "@jupyter-widgets/controls",
          "model_module_version": "1.5.0",
          "model_name": "DescriptionStyleModel",
          "state": {
            "_model_module": "@jupyter-widgets/controls",
            "_model_module_version": "1.5.0",
            "_model_name": "DescriptionStyleModel",
            "_view_count": null,
            "_view_module": "@jupyter-widgets/base",
            "_view_module_version": "1.2.0",
            "_view_name": "StyleView",
            "description_width": ""
          }
        },
        "8ea5fb339ee24d2289d3edc0977b08e9": {
          "model_module": "@jupyter-widgets/base",
          "model_module_version": "1.2.0",
          "model_name": "LayoutModel",
          "state": {
            "_model_module": "@jupyter-widgets/base",
            "_model_module_version": "1.2.0",
            "_model_name": "LayoutModel",
            "_view_count": null,
            "_view_module": "@jupyter-widgets/base",
            "_view_module_version": "1.2.0",
            "_view_name": "LayoutView",
            "align_content": null,
            "align_items": null,
            "align_self": null,
            "border": null,
            "bottom": null,
            "display": null,
            "flex": null,
            "flex_flow": null,
            "grid_area": null,
            "grid_auto_columns": null,
            "grid_auto_flow": null,
            "grid_auto_rows": null,
            "grid_column": null,
            "grid_gap": null,
            "grid_row": null,
            "grid_template_areas": null,
            "grid_template_columns": null,
            "grid_template_rows": null,
            "height": null,
            "justify_content": null,
            "justify_items": null,
            "left": null,
            "margin": null,
            "max_height": null,
            "max_width": null,
            "min_height": null,
            "min_width": null,
            "object_fit": null,
            "object_position": null,
            "order": null,
            "overflow": null,
            "overflow_x": null,
            "overflow_y": null,
            "padding": null,
            "right": null,
            "top": null,
            "visibility": null,
            "width": null
          }
        },
        "9060eb779ab8498bae00e6d96565a294": {
          "model_module": "@jupyter-widgets/base",
          "model_module_version": "1.2.0",
          "model_name": "LayoutModel",
          "state": {
            "_model_module": "@jupyter-widgets/base",
            "_model_module_version": "1.2.0",
            "_model_name": "LayoutModel",
            "_view_count": null,
            "_view_module": "@jupyter-widgets/base",
            "_view_module_version": "1.2.0",
            "_view_name": "LayoutView",
            "align_content": null,
            "align_items": null,
            "align_self": null,
            "border": null,
            "bottom": null,
            "display": null,
            "flex": null,
            "flex_flow": null,
            "grid_area": null,
            "grid_auto_columns": null,
            "grid_auto_flow": null,
            "grid_auto_rows": null,
            "grid_column": null,
            "grid_gap": null,
            "grid_row": null,
            "grid_template_areas": null,
            "grid_template_columns": null,
            "grid_template_rows": null,
            "height": null,
            "justify_content": null,
            "justify_items": null,
            "left": null,
            "margin": null,
            "max_height": null,
            "max_width": null,
            "min_height": null,
            "min_width": null,
            "object_fit": null,
            "object_position": null,
            "order": null,
            "overflow": null,
            "overflow_x": null,
            "overflow_y": null,
            "padding": null,
            "right": null,
            "top": null,
            "visibility": null,
            "width": null
          }
        },
        "940b86f6edca4cecad67b6f6872c39e1": {
          "model_module": "@jupyter-widgets/controls",
          "model_module_version": "1.5.0",
          "model_name": "FloatProgressModel",
          "state": {
            "_dom_classes": [],
            "_model_module": "@jupyter-widgets/controls",
            "_model_module_version": "1.5.0",
            "_model_name": "FloatProgressModel",
            "_view_count": null,
            "_view_module": "@jupyter-widgets/controls",
            "_view_module_version": "1.5.0",
            "_view_name": "ProgressView",
            "bar_style": "success",
            "description": "100%",
            "description_tooltip": null,
            "layout": "IPY_MODEL_3298d9de17264aa4ac576b073e32db10",
            "max": 1,
            "min": 0,
            "orientation": "horizontal",
            "style": "IPY_MODEL_0a849afcd78842f98c0471c32866fcb8",
            "value": 1
          }
        },
        "9a81ad54827f47bd8f2a8453a50e706f": {
          "model_module": "@jupyter-widgets/base",
          "model_module_version": "1.2.0",
          "model_name": "LayoutModel",
          "state": {
            "_model_module": "@jupyter-widgets/base",
            "_model_module_version": "1.2.0",
            "_model_name": "LayoutModel",
            "_view_count": null,
            "_view_module": "@jupyter-widgets/base",
            "_view_module_version": "1.2.0",
            "_view_name": "LayoutView",
            "align_content": null,
            "align_items": null,
            "align_self": null,
            "border": null,
            "bottom": null,
            "display": null,
            "flex": null,
            "flex_flow": null,
            "grid_area": null,
            "grid_auto_columns": null,
            "grid_auto_flow": null,
            "grid_auto_rows": null,
            "grid_column": null,
            "grid_gap": null,
            "grid_row": null,
            "grid_template_areas": null,
            "grid_template_columns": null,
            "grid_template_rows": null,
            "height": null,
            "justify_content": null,
            "justify_items": null,
            "left": null,
            "margin": null,
            "max_height": null,
            "max_width": null,
            "min_height": null,
            "min_width": null,
            "object_fit": null,
            "object_position": null,
            "order": null,
            "overflow": null,
            "overflow_x": null,
            "overflow_y": null,
            "padding": null,
            "right": null,
            "top": null,
            "visibility": null,
            "width": null
          }
        },
        "afee4f92343c4be28de297aca4a29505": {
          "model_module": "@jupyter-widgets/controls",
          "model_module_version": "1.5.0",
          "model_name": "HTMLModel",
          "state": {
            "_dom_classes": [],
            "_model_module": "@jupyter-widgets/controls",
            "_model_module_version": "1.5.0",
            "_model_name": "HTMLModel",
            "_view_count": null,
            "_view_module": "@jupyter-widgets/controls",
            "_view_module_version": "1.5.0",
            "_view_name": "HTMLView",
            "description": "",
            "description_tooltip": null,
            "layout": "IPY_MODEL_d13d3b5fd2424691b79cd229f8fd4f6f",
            "placeholder": "​",
            "style": "IPY_MODEL_2034de6f09014ee8b458066445444b04",
            "value": " 1/1 [00:08&lt;00:00,  8.33s/ba]"
          }
        },
        "b95a7aee13244ddea0abefe5618195ad": {
          "model_module": "@jupyter-widgets/controls",
          "model_module_version": "1.5.0",
          "model_name": "FloatProgressModel",
          "state": {
            "_dom_classes": [],
            "_model_module": "@jupyter-widgets/controls",
            "_model_module_version": "1.5.0",
            "_model_name": "FloatProgressModel",
            "_view_count": null,
            "_view_module": "@jupyter-widgets/controls",
            "_view_module_version": "1.5.0",
            "_view_name": "ProgressView",
            "bar_style": "success",
            "description": "100%",
            "description_tooltip": null,
            "layout": "IPY_MODEL_41a42b64f5e34cbaa0bab1fc8f620192",
            "max": 1680,
            "min": 0,
            "orientation": "horizontal",
            "style": "IPY_MODEL_db5d8dfcdd004ac0bbb5142725da4f50",
            "value": 1680
          }
        },
        "bc3f9aa79c0a4e9f85fdff7307fa1d1b": {
          "model_module": "@jupyter-widgets/controls",
          "model_module_version": "1.5.0",
          "model_name": "HBoxModel",
          "state": {
            "_dom_classes": [],
            "_model_module": "@jupyter-widgets/controls",
            "_model_module_version": "1.5.0",
            "_model_name": "HBoxModel",
            "_view_count": null,
            "_view_module": "@jupyter-widgets/controls",
            "_view_module_version": "1.5.0",
            "_view_name": "HBoxView",
            "box_style": "",
            "children": [
              "IPY_MODEL_5a2c824fd0f24084a750d2ecd1d9401b",
              "IPY_MODEL_6e23c99a8e6a47faa5f9ee487ad7f920"
            ],
            "layout": "IPY_MODEL_69355cf02bae416a9d5fd890fb41d78b"
          }
        },
        "d13d3b5fd2424691b79cd229f8fd4f6f": {
          "model_module": "@jupyter-widgets/base",
          "model_module_version": "1.2.0",
          "model_name": "LayoutModel",
          "state": {
            "_model_module": "@jupyter-widgets/base",
            "_model_module_version": "1.2.0",
            "_model_name": "LayoutModel",
            "_view_count": null,
            "_view_module": "@jupyter-widgets/base",
            "_view_module_version": "1.2.0",
            "_view_name": "LayoutView",
            "align_content": null,
            "align_items": null,
            "align_self": null,
            "border": null,
            "bottom": null,
            "display": null,
            "flex": null,
            "flex_flow": null,
            "grid_area": null,
            "grid_auto_columns": null,
            "grid_auto_flow": null,
            "grid_auto_rows": null,
            "grid_column": null,
            "grid_gap": null,
            "grid_row": null,
            "grid_template_areas": null,
            "grid_template_columns": null,
            "grid_template_rows": null,
            "height": null,
            "justify_content": null,
            "justify_items": null,
            "left": null,
            "margin": null,
            "max_height": null,
            "max_width": null,
            "min_height": null,
            "min_width": null,
            "object_fit": null,
            "object_position": null,
            "order": null,
            "overflow": null,
            "overflow_x": null,
            "overflow_y": null,
            "padding": null,
            "right": null,
            "top": null,
            "visibility": null,
            "width": null
          }
        },
        "db5d8dfcdd004ac0bbb5142725da4f50": {
          "model_module": "@jupyter-widgets/controls",
          "model_module_version": "1.5.0",
          "model_name": "ProgressStyleModel",
          "state": {
            "_model_module": "@jupyter-widgets/controls",
            "_model_module_version": "1.5.0",
            "_model_name": "ProgressStyleModel",
            "_view_count": null,
            "_view_module": "@jupyter-widgets/base",
            "_view_module_version": "1.2.0",
            "_view_name": "StyleView",
            "bar_color": null,
            "description_width": "initial"
          }
        },
        "f0484d53c00e4aa19cb7e6520c9ca75d": {
          "model_module": "@jupyter-widgets/controls",
          "model_module_version": "1.5.0",
          "model_name": "HTMLModel",
          "state": {
            "_dom_classes": [],
            "_model_module": "@jupyter-widgets/controls",
            "_model_module_version": "1.5.0",
            "_model_name": "HTMLModel",
            "_view_count": null,
            "_view_module": "@jupyter-widgets/controls",
            "_view_module_version": "1.5.0",
            "_view_name": "HTMLView",
            "description": "",
            "description_tooltip": null,
            "layout": "IPY_MODEL_8ea5fb339ee24d2289d3edc0977b08e9",
            "placeholder": "​",
            "style": "IPY_MODEL_3c98308d5b424de79df93434da63912c",
            "value": " 1680/1680 [01:10&lt;00:00, 23.69ex/s]"
          }
        },
        "ffb6112b3ebf4bc7b73aa169dfc6792c": {
          "model_module": "@jupyter-widgets/base",
          "model_module_version": "1.2.0",
          "model_name": "LayoutModel",
          "state": {
            "_model_module": "@jupyter-widgets/base",
            "_model_module_version": "1.2.0",
            "_model_name": "LayoutModel",
            "_view_count": null,
            "_view_module": "@jupyter-widgets/base",
            "_view_module_version": "1.2.0",
            "_view_name": "LayoutView",
            "align_content": null,
            "align_items": null,
            "align_self": null,
            "border": null,
            "bottom": null,
            "display": null,
            "flex": null,
            "flex_flow": null,
            "grid_area": null,
            "grid_auto_columns": null,
            "grid_auto_flow": null,
            "grid_auto_rows": null,
            "grid_column": null,
            "grid_gap": null,
            "grid_row": null,
            "grid_template_areas": null,
            "grid_template_columns": null,
            "grid_template_rows": null,
            "height": null,
            "justify_content": null,
            "justify_items": null,
            "left": null,
            "margin": null,
            "max_height": null,
            "max_width": null,
            "min_height": null,
            "min_width": null,
            "object_fit": null,
            "object_position": null,
            "order": null,
            "overflow": null,
            "overflow_x": null,
            "overflow_y": null,
            "padding": null,
            "right": null,
            "top": null,
            "visibility": null,
            "width": null
          }
        }
      }
    }
  },
  "nbformat": 4,
  "nbformat_minor": 0
}
