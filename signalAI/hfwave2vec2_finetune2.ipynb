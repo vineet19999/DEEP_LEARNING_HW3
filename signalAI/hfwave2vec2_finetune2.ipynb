{
 "cells": [
  {
   "cell_type": "markdown",
   "metadata": {},
   "source": [
    "# Prepare Dataset"
   ]
  },
  {
   "cell_type": "code",
   "execution_count": 1,
   "metadata": {},
   "outputs": [],
   "source": [
    "import os\n",
    "#hfhome_dir=\"/data/cmpe249-fa23/Huggingfacecache\"\n",
    "hfhome_dir=os.path.join('D:',os.sep, 'Cache','huggingface')\n",
    "#os.environ['TRANSFORMERS_CACHE'] = hfhome_dir\n",
    "os.environ['HF_HOME'] = hfhome_dir\n",
    "#os.environ['HF_HUB_CACHE'] = os.path.join(hfhome_dir, 'hub')\n",
    "#os.environ['HF_DATASETS_CACHE'] = hfhome_dir\n",
    "#HF_HUB_OFFLINE=1"
   ]
  },
  {
   "cell_type": "code",
   "execution_count": 3,
   "metadata": {},
   "outputs": [
    {
     "name": "stderr",
     "output_type": "stream",
     "text": [
      "Generating train split: 4620 examples [00:45, 100.98 examples/s]\n",
      "Generating test split: 1680 examples [00:16, 100.76 examples/s]\n"
     ]
    }
   ],
   "source": [
    "from datasets import load_dataset, load_metric\n",
    "# dataset_split = load_dataset(\n",
    "#         \"librispeech_asr\", #'librispeech_asr'\n",
    "#         'clean',\n",
    "#         split='train.100',\n",
    "#     )\n",
    "data_dir=r\"D:\\GitHub\\datasets\\timit\\TIMIT\"\n",
    "dataset_split = load_dataset(\"timit_asr\", data_dir=data_dir)"
   ]
  },
  {
   "cell_type": "code",
   "execution_count": 4,
   "metadata": {},
   "outputs": [
    {
     "data": {
      "text/plain": [
       "DatasetDict({\n",
       "    train: Dataset({\n",
       "        features: ['file', 'audio', 'text', 'phonetic_detail', 'word_detail', 'dialect_region', 'sentence_type', 'speaker_id', 'id'],\n",
       "        num_rows: 4620\n",
       "    })\n",
       "    test: Dataset({\n",
       "        features: ['file', 'audio', 'text', 'phonetic_detail', 'word_detail', 'dialect_region', 'sentence_type', 'speaker_id', 'id'],\n",
       "        num_rows: 1680\n",
       "    })\n",
       "})"
      ]
     },
     "execution_count": 4,
     "metadata": {},
     "output_type": "execute_result"
    }
   ],
   "source": [
    "dataset_split"
   ]
  },
  {
   "cell_type": "code",
   "execution_count": 9,
   "metadata": {},
   "outputs": [],
   "source": [
    "dataset_iter = iter(dataset_split['train'])\n",
    "sample = next(dataset_iter)"
   ]
  },
  {
   "cell_type": "code",
   "execution_count": 10,
   "metadata": {},
   "outputs": [
    {
     "data": {
      "text/plain": [
       "{'file': 'D:\\\\GitHub\\\\datasets\\\\timit\\\\TIMIT\\\\train\\\\DR1\\\\FCJF0\\\\SA1.WAV',\n",
       " 'audio': {'path': 'D:\\\\GitHub\\\\datasets\\\\timit\\\\TIMIT\\\\train\\\\DR1\\\\FCJF0\\\\SA1.WAV',\n",
       "  'array': array([ 3.05175781e-05, -3.05175781e-05,  6.10351562e-05, ...,\n",
       "         -3.05175781e-05, -1.52587891e-04, -2.44140625e-04]),\n",
       "  'sampling_rate': 16000},\n",
       " 'text': 'She had your dark suit in greasy wash water all year.',\n",
       " 'phonetic_detail': {'start': [0,\n",
       "   3050,\n",
       "   4559,\n",
       "   5723,\n",
       "   6642,\n",
       "   8772,\n",
       "   9190,\n",
       "   10337,\n",
       "   11517,\n",
       "   12500,\n",
       "   12640,\n",
       "   14714,\n",
       "   15870,\n",
       "   16334,\n",
       "   18088,\n",
       "   20417,\n",
       "   21199,\n",
       "   22560,\n",
       "   22920,\n",
       "   23271,\n",
       "   24229,\n",
       "   25566,\n",
       "   27156,\n",
       "   28064,\n",
       "   29660,\n",
       "   31719,\n",
       "   33360,\n",
       "   33754,\n",
       "   34715,\n",
       "   36080,\n",
       "   36326,\n",
       "   37556,\n",
       "   39561,\n",
       "   40313,\n",
       "   42059,\n",
       "   43479,\n",
       "   44586],\n",
       "  'stop': [3050,\n",
       "   4559,\n",
       "   5723,\n",
       "   6642,\n",
       "   8772,\n",
       "   9190,\n",
       "   10337,\n",
       "   11517,\n",
       "   12500,\n",
       "   12640,\n",
       "   14714,\n",
       "   15870,\n",
       "   16334,\n",
       "   18088,\n",
       "   20417,\n",
       "   21199,\n",
       "   22560,\n",
       "   22920,\n",
       "   23271,\n",
       "   24229,\n",
       "   25566,\n",
       "   27156,\n",
       "   28064,\n",
       "   29660,\n",
       "   31719,\n",
       "   33360,\n",
       "   33754,\n",
       "   34715,\n",
       "   36080,\n",
       "   36326,\n",
       "   37556,\n",
       "   39561,\n",
       "   40313,\n",
       "   42059,\n",
       "   43479,\n",
       "   44586,\n",
       "   46720],\n",
       "  'utterance': ['h#',\n",
       "   'sh',\n",
       "   'ix',\n",
       "   'hv',\n",
       "   'eh',\n",
       "   'dcl',\n",
       "   'jh',\n",
       "   'ih',\n",
       "   'dcl',\n",
       "   'd',\n",
       "   'ah',\n",
       "   'kcl',\n",
       "   'k',\n",
       "   's',\n",
       "   'ux',\n",
       "   'q',\n",
       "   'en',\n",
       "   'gcl',\n",
       "   'g',\n",
       "   'r',\n",
       "   'ix',\n",
       "   's',\n",
       "   'ix',\n",
       "   'w',\n",
       "   'ao',\n",
       "   'sh',\n",
       "   'epi',\n",
       "   'w',\n",
       "   'ao',\n",
       "   'dx',\n",
       "   'axr',\n",
       "   'ao',\n",
       "   'l',\n",
       "   'y',\n",
       "   'ih',\n",
       "   'axr',\n",
       "   'h#']},\n",
       " 'word_detail': {'start': [3050,\n",
       "   5723,\n",
       "   9190,\n",
       "   11517,\n",
       "   16334,\n",
       "   21199,\n",
       "   22560,\n",
       "   28064,\n",
       "   33754,\n",
       "   37556,\n",
       "   40313],\n",
       "  'stop': [5723,\n",
       "   10337,\n",
       "   11517,\n",
       "   16334,\n",
       "   21199,\n",
       "   22560,\n",
       "   28064,\n",
       "   33360,\n",
       "   37556,\n",
       "   40313,\n",
       "   44586],\n",
       "  'utterance': ['she',\n",
       "   'had',\n",
       "   'your',\n",
       "   'dark',\n",
       "   'suit',\n",
       "   'in',\n",
       "   'greasy',\n",
       "   'wash',\n",
       "   'water',\n",
       "   'all',\n",
       "   'year']},\n",
       " 'dialect_region': 'DR1',\n",
       " 'sentence_type': 'SA',\n",
       " 'speaker_id': 'CJF0',\n",
       " 'id': 'SA1'}"
      ]
     },
     "execution_count": 10,
     "metadata": {},
     "output_type": "execute_result"
    }
   ],
   "source": [
    "sample"
   ]
  },
  {
   "cell_type": "code",
   "execution_count": 11,
   "metadata": {},
   "outputs": [
    {
     "name": "stdout",
     "output_type": "stream",
     "text": [
      "46797\n"
     ]
    }
   ],
   "source": [
    "audioarray=sample[\"audio\"][\"array\"]\n",
    "print(len(audioarray))"
   ]
  },
  {
   "cell_type": "code",
   "execution_count": 12,
   "metadata": {},
   "outputs": [
    {
     "data": {
      "text/plain": [
       "16000"
      ]
     },
     "execution_count": 12,
     "metadata": {},
     "output_type": "execute_result"
    }
   ],
   "source": [
    "sample[\"audio\"][\"sampling_rate\"]"
   ]
  },
  {
   "cell_type": "code",
   "execution_count": 13,
   "metadata": {},
   "outputs": [],
   "source": [
    "from transformers import AutoTokenizer, AutoFeatureExtractor, AutoModelForCTC\n",
    "from datasets import load_dataset\n",
    "import datasets\n",
    "import torch"
   ]
  },
  {
   "cell_type": "code",
   "execution_count": 14,
   "metadata": {},
   "outputs": [
    {
     "name": "stderr",
     "output_type": "stream",
     "text": [
      "Some weights of the model checkpoint at facebook/wav2vec2-base-960h were not used when initializing Wav2Vec2ForCTC: ['wav2vec2.encoder.pos_conv_embed.conv.weight_g', 'wav2vec2.encoder.pos_conv_embed.conv.weight_v']\n",
      "- This IS expected if you are initializing Wav2Vec2ForCTC from the checkpoint of a model trained on another task or with another architecture (e.g. initializing a BertForSequenceClassification model from a BertForPreTraining model).\n",
      "- This IS NOT expected if you are initializing Wav2Vec2ForCTC from the checkpoint of a model that you expect to be exactly identical (initializing a BertForSequenceClassification model from a BertForSequenceClassification model).\n",
      "Some weights of Wav2Vec2ForCTC were not initialized from the model checkpoint at facebook/wav2vec2-base-960h and are newly initialized: ['wav2vec2.masked_spec_embed', 'wav2vec2.encoder.pos_conv_embed.conv.parametrizations.weight.original1', 'wav2vec2.encoder.pos_conv_embed.conv.parametrizations.weight.original0']\n",
      "You should probably TRAIN this model on a down-stream task to be able to use it for predictions and inference.\n"
     ]
    }
   ],
   "source": [
    "# import model, feature extractor, tokenizer\n",
    "model = AutoModelForCTC.from_pretrained(\"facebook/wav2vec2-base-960h\")\n",
    "tokenizer = AutoTokenizer.from_pretrained(\"facebook/wav2vec2-base-960h\")\n",
    "feature_extractor = AutoFeatureExtractor.from_pretrained(\"facebook/wav2vec2-base-960h\")\n"
   ]
  },
  {
   "cell_type": "code",
   "execution_count": 15,
   "metadata": {},
   "outputs": [],
   "source": [
    "#forward sample through model to get greedily predicted transcription ids\n",
    "processedsample=feature_extractor(sample[\"audio\"][\"array\"],sampling_rate=sample[\"audio\"][\"sampling_rate\"], return_tensors=\"pt\")"
   ]
  },
  {
   "cell_type": "code",
   "execution_count": 16,
   "metadata": {},
   "outputs": [
    {
     "data": {
      "text/plain": [
       "{'input_values': tensor([[ 0.0046, -0.0026,  0.0082,  ..., -0.0026, -0.0170, -0.0278]])}"
      ]
     },
     "execution_count": 16,
     "metadata": {},
     "output_type": "execute_result"
    }
   ],
   "source": [
    "processedsample"
   ]
  },
  {
   "cell_type": "code",
   "execution_count": 17,
   "metadata": {},
   "outputs": [],
   "source": [
    "input_values = processedsample.input_values\n",
    "logits = model(input_values).logits[0]"
   ]
  },
  {
   "cell_type": "code",
   "execution_count": 18,
   "metadata": {},
   "outputs": [
    {
     "data": {
      "text/plain": [
       "torch.Size([145, 32])"
      ]
     },
     "execution_count": 18,
     "metadata": {},
     "output_type": "execute_result"
    }
   ],
   "source": [
    "logits.shape"
   ]
  },
  {
   "cell_type": "code",
   "execution_count": 19,
   "metadata": {},
   "outputs": [
    {
     "data": {
      "text/plain": [
       "tensor([ 0,  0,  0,  0,  0,  0,  0,  0,  0,  0,  0, 12, 12, 11,  0,  5,  0,  0,\n",
       "         4,  4, 11,  0,  0,  7,  0,  0, 14,  0,  4,  4, 22,  0,  0,  8, 16,  0,\n",
       "        13,  4,  4, 14,  0,  0,  0, 16,  0, 19,  0, 26,  0,  0,  4,  4,  0, 12,\n",
       "         0,  0,  0,  0,  0, 16,  0,  0, 23,  0,  4,  4,  7,  9,  0, 14,  4,  4,\n",
       "        21,  0, 13,  0,  5,  0,  0,  7,  0, 12,  0,  0,  0,  0,  0, 22,  0,  4,\n",
       "         4, 18,  0,  0,  0,  0,  7,  0,  0, 12,  0, 11,  0,  0,  0, 18,  0,  0,\n",
       "         0,  7,  0,  0,  6,  5,  5, 13,  4,  4,  4,  7, 15,  0,  0,  0, 15,  4,\n",
       "         4,  4,  4, 22,  0,  0,  0,  5,  7,  7, 13,  0,  4,  4,  4,  4,  0,  0,\n",
       "         0])"
      ]
     },
     "execution_count": 19,
     "metadata": {},
     "output_type": "execute_result"
    }
   ],
   "source": [
    "pred_ids = torch.argmax(logits, axis=-1)\n",
    "pred_ids"
   ]
  },
  {
   "cell_type": "code",
   "execution_count": 20,
   "metadata": {},
   "outputs": [
    {
     "data": {
      "text/plain": [
       "torch.Size([145])"
      ]
     },
     "execution_count": 20,
     "metadata": {},
     "output_type": "execute_result"
    }
   ],
   "source": [
    "pred_ids.shape"
   ]
  },
  {
   "cell_type": "code",
   "execution_count": 21,
   "metadata": {},
   "outputs": [],
   "source": [
    "# retrieve word stamps (analogous commands for `output_char_offsets`)\n",
    "outputs = tokenizer.decode(pred_ids, output_word_offsets=True)"
   ]
  },
  {
   "cell_type": "code",
   "execution_count": 22,
   "metadata": {},
   "outputs": [],
   "source": [
    "# compute `time_offset` in seconds as product of downsampling ratio and sampling_rate\n",
    "time_offset = model.config.inputs_to_logits_ratio / feature_extractor.sampling_rate"
   ]
  },
  {
   "cell_type": "code",
   "execution_count": 23,
   "metadata": {},
   "outputs": [],
   "source": [
    "word_offsets = [\n",
    "    {\n",
    "        \"word\": d[\"word\"],\n",
    "        \"start_time\": round(d[\"start_offset\"] * time_offset, 2),\n",
    "        \"end_time\": round(d[\"end_offset\"] * time_offset, 2),\n",
    "    }\n",
    "    for d in outputs.word_offsets\n",
    "]"
   ]
  },
  {
   "cell_type": "code",
   "execution_count": 24,
   "metadata": {},
   "outputs": [
    {
     "data": {
      "text/plain": [
       "[{'word': 'SHE', 'start_time': 0.22, 'end_time': 0.32},\n",
       " {'word': 'HAD', 'start_time': 0.4, 'end_time': 0.54},\n",
       " {'word': 'YOUR', 'start_time': 0.6, 'end_time': 0.74}]"
      ]
     },
     "execution_count": 24,
     "metadata": {},
     "output_type": "execute_result"
    }
   ],
   "source": [
    "word_offsets[:3]"
   ]
  },
  {
   "cell_type": "code",
   "execution_count": 220,
   "metadata": {},
   "outputs": [
    {
     "data": {
      "text/plain": [
       "{'file': 'D:\\\\GitHub\\\\datasets\\\\timit\\\\TIMIT\\\\train\\\\DR1\\\\FCJF0\\\\SA1.WAV',\n",
       " 'audio': {'path': 'D:\\\\GitHub\\\\datasets\\\\timit\\\\TIMIT\\\\train\\\\DR1\\\\FCJF0\\\\SA1.WAV',\n",
       "  'array': array([ 3.05175781e-05, -3.05175781e-05,  6.10351562e-05, ...,\n",
       "         -3.05175781e-05, -1.52587891e-04, -2.44140625e-04]),\n",
       "  'sampling_rate': 16000},\n",
       " 'text': 'She had your dark suit in greasy wash water all year.',\n",
       " 'phonetic_detail': {'start': [0,\n",
       "   3050,\n",
       "   4559,\n",
       "   5723,\n",
       "   6642,\n",
       "   8772,\n",
       "   9190,\n",
       "   10337,\n",
       "   11517,\n",
       "   12500,\n",
       "   12640,\n",
       "   14714,\n",
       "   15870,\n",
       "   16334,\n",
       "   18088,\n",
       "   20417,\n",
       "   21199,\n",
       "   22560,\n",
       "   22920,\n",
       "   23271,\n",
       "   24229,\n",
       "   25566,\n",
       "   27156,\n",
       "   28064,\n",
       "   29660,\n",
       "   31719,\n",
       "   33360,\n",
       "   33754,\n",
       "   34715,\n",
       "   36080,\n",
       "   36326,\n",
       "   37556,\n",
       "   39561,\n",
       "   40313,\n",
       "   42059,\n",
       "   43479,\n",
       "   44586],\n",
       "  'stop': [3050,\n",
       "   4559,\n",
       "   5723,\n",
       "   6642,\n",
       "   8772,\n",
       "   9190,\n",
       "   10337,\n",
       "   11517,\n",
       "   12500,\n",
       "   12640,\n",
       "   14714,\n",
       "   15870,\n",
       "   16334,\n",
       "   18088,\n",
       "   20417,\n",
       "   21199,\n",
       "   22560,\n",
       "   22920,\n",
       "   23271,\n",
       "   24229,\n",
       "   25566,\n",
       "   27156,\n",
       "   28064,\n",
       "   29660,\n",
       "   31719,\n",
       "   33360,\n",
       "   33754,\n",
       "   34715,\n",
       "   36080,\n",
       "   36326,\n",
       "   37556,\n",
       "   39561,\n",
       "   40313,\n",
       "   42059,\n",
       "   43479,\n",
       "   44586,\n",
       "   46720],\n",
       "  'utterance': ['h#',\n",
       "   'sh',\n",
       "   'ix',\n",
       "   'hv',\n",
       "   'eh',\n",
       "   'dcl',\n",
       "   'jh',\n",
       "   'ih',\n",
       "   'dcl',\n",
       "   'd',\n",
       "   'ah',\n",
       "   'kcl',\n",
       "   'k',\n",
       "   's',\n",
       "   'ux',\n",
       "   'q',\n",
       "   'en',\n",
       "   'gcl',\n",
       "   'g',\n",
       "   'r',\n",
       "   'ix',\n",
       "   's',\n",
       "   'ix',\n",
       "   'w',\n",
       "   'ao',\n",
       "   'sh',\n",
       "   'epi',\n",
       "   'w',\n",
       "   'ao',\n",
       "   'dx',\n",
       "   'axr',\n",
       "   'ao',\n",
       "   'l',\n",
       "   'y',\n",
       "   'ih',\n",
       "   'axr',\n",
       "   'h#']},\n",
       " 'word_detail': {'start': [3050,\n",
       "   5723,\n",
       "   9190,\n",
       "   11517,\n",
       "   16334,\n",
       "   21199,\n",
       "   22560,\n",
       "   28064,\n",
       "   33754,\n",
       "   37556,\n",
       "   40313],\n",
       "  'stop': [5723,\n",
       "   10337,\n",
       "   11517,\n",
       "   16334,\n",
       "   21199,\n",
       "   22560,\n",
       "   28064,\n",
       "   33360,\n",
       "   37556,\n",
       "   40313,\n",
       "   44586],\n",
       "  'utterance': ['she',\n",
       "   'had',\n",
       "   'your',\n",
       "   'dark',\n",
       "   'suit',\n",
       "   'in',\n",
       "   'greasy',\n",
       "   'wash',\n",
       "   'water',\n",
       "   'all',\n",
       "   'year']},\n",
       " 'dialect_region': 'DR1',\n",
       " 'sentence_type': 'SA',\n",
       " 'speaker_id': 'CJF0',\n",
       " 'id': 'SA1'}"
      ]
     },
     "execution_count": 220,
     "metadata": {},
     "output_type": "execute_result"
    }
   ],
   "source": [
    "sample"
   ]
  },
  {
   "cell_type": "code",
   "execution_count": 221,
   "metadata": {},
   "outputs": [
    {
     "name": "stderr",
     "output_type": "stream",
     "text": [
      "Some weights of the model checkpoint at facebook/wav2vec2-base-960h were not used when initializing Wav2Vec2ForCTC: ['wav2vec2.encoder.pos_conv_embed.conv.weight_g', 'wav2vec2.encoder.pos_conv_embed.conv.weight_v']\n",
      "- This IS expected if you are initializing Wav2Vec2ForCTC from the checkpoint of a model trained on another task or with another architecture (e.g. initializing a BertForSequenceClassification model from a BertForPreTraining model).\n",
      "- This IS NOT expected if you are initializing Wav2Vec2ForCTC from the checkpoint of a model that you expect to be exactly identical (initializing a BertForSequenceClassification model from a BertForSequenceClassification model).\n",
      "Some weights of Wav2Vec2ForCTC were not initialized from the model checkpoint at facebook/wav2vec2-base-960h and are newly initialized: ['wav2vec2.masked_spec_embed', 'wav2vec2.encoder.pos_conv_embed.conv.parametrizations.weight.original1', 'wav2vec2.encoder.pos_conv_embed.conv.parametrizations.weight.original0']\n",
      "You should probably TRAIN this model on a down-stream task to be able to use it for predictions and inference.\n"
     ]
    }
   ],
   "source": [
    "from transformers import AutoProcessor, Wav2Vec2ForCTC\n",
    "# transcribe speech\n",
    "processor = AutoProcessor.from_pretrained(\"facebook/wav2vec2-base-960h\")\n",
    "model = Wav2Vec2ForCTC.from_pretrained(\"facebook/wav2vec2-base-960h\")\n",
    "\n",
    "# audio file is decoded on the fly\n",
    "inputs = processor(sample[\"audio\"][\"array\"], sampling_rate=sample[\"audio\"][\"sampling_rate\"], return_tensors=\"pt\")\n",
    "with torch.no_grad():\n",
    "    logits = model(**inputs).logits\n",
    "predicted_ids = torch.argmax(logits, dim=-1)"
   ]
  },
  {
   "cell_type": "code",
   "execution_count": 222,
   "metadata": {},
   "outputs": [
    {
     "data": {
      "text/plain": [
       "torch.Size([1, 46797])"
      ]
     },
     "execution_count": 222,
     "metadata": {},
     "output_type": "execute_result"
    }
   ],
   "source": [
    "inputs.input_values.shape"
   ]
  },
  {
   "cell_type": "code",
   "execution_count": 223,
   "metadata": {},
   "outputs": [
    {
     "data": {
      "text/plain": [
       "'SHE HAD YOUR DUCK SUP AND GREASY WASHWATER ALL YEAR'"
      ]
     },
     "execution_count": 223,
     "metadata": {},
     "output_type": "execute_result"
    }
   ],
   "source": [
    "transcription = processor.decode(pred_ids) #transcription = processor.batch_decode(pred_ids)\n",
    "transcription"
   ]
  },
  {
   "cell_type": "code",
   "execution_count": 232,
   "metadata": {},
   "outputs": [
    {
     "data": {
      "text/plain": [
       "'She had your dark suit in greasy wash water all year.'"
      ]
     },
     "execution_count": 232,
     "metadata": {},
     "output_type": "execute_result"
    }
   ],
   "source": [
    "sample[\"text\"]"
   ]
  },
  {
   "cell_type": "code",
   "execution_count": 233,
   "metadata": {},
   "outputs": [
    {
     "data": {
      "text/plain": [
       "73.71"
      ]
     },
     "execution_count": 233,
     "metadata": {},
     "output_type": "execute_result"
    }
   ],
   "source": [
    "#convert the text to upper case to match with the prediction output\n",
    "inputs[\"labels\"] = processor(text=sample[\"text\"].upper(), return_tensors=\"pt\").input_ids\n",
    "\n",
    "# compute loss\n",
    "loss = model(**inputs).loss\n",
    "round(loss.item(), 2)"
   ]
  },
  {
   "cell_type": "code",
   "execution_count": 226,
   "metadata": {},
   "outputs": [],
   "source": [
    "wer_metric = load_metric(\"wer\")"
   ]
  },
  {
   "cell_type": "code",
   "execution_count": 234,
   "metadata": {},
   "outputs": [
    {
     "data": {
      "text/plain": [
       "'SHE HAD YOUR DUCK SUP AND GREASY WASHWATER ALL YEAR'"
      ]
     },
     "execution_count": 234,
     "metadata": {},
     "output_type": "execute_result"
    }
   ],
   "source": [
    "transcription"
   ]
  },
  {
   "cell_type": "code",
   "execution_count": 235,
   "metadata": {},
   "outputs": [
    {
     "data": {
      "text/plain": [
       "'She had your dark suit in greasy wash water all year.'"
      ]
     },
     "execution_count": 235,
     "metadata": {},
     "output_type": "execute_result"
    }
   ],
   "source": [
    "sample[\"text\"]"
   ]
  },
  {
   "cell_type": "code",
   "execution_count": 236,
   "metadata": {},
   "outputs": [
    {
     "data": {
      "text/plain": [
       "0.5454545454545454"
      ]
     },
     "execution_count": 236,
     "metadata": {},
     "output_type": "execute_result"
    }
   ],
   "source": [
    "wer=wer_metric.compute(predictions=[transcription], references=[sample[\"text\"].upper()])\n",
    "wer"
   ]
  },
  {
   "cell_type": "markdown",
   "metadata": {},
   "source": [
    "# Fine-tuning Wav2Vec2 for English ASR"
   ]
  },
  {
   "cell_type": "code",
   "execution_count": 237,
   "metadata": {},
   "outputs": [],
   "source": [
    "from datasets import DatasetDict\n",
    "raw_datasets = DatasetDict()\n",
    "raw_datasets[\"train\"] = dataset_split[\"train\"]\n",
    "validation_split_percentage = 1\n",
    "num_validation_samples = raw_datasets[\"train\"].num_rows * validation_split_percentage // 100\n",
    "\n",
    "valkeyname=\"test\"\n",
    "raw_datasets[valkeyname] = raw_datasets[\"train\"].select(range(num_validation_samples))\n",
    "raw_datasets[\"train\"] = raw_datasets[\"train\"].select(range(num_validation_samples, raw_datasets[\"train\"].num_rows))"
   ]
  },
  {
   "cell_type": "code",
   "execution_count": 238,
   "metadata": {},
   "outputs": [
    {
     "data": {
      "text/plain": [
       "DatasetDict({\n",
       "    train: Dataset({\n",
       "        features: ['file', 'audio', 'text', 'phonetic_detail', 'word_detail', 'dialect_region', 'sentence_type', 'speaker_id', 'id'],\n",
       "        num_rows: 4574\n",
       "    })\n",
       "    test: Dataset({\n",
       "        features: ['file', 'audio', 'text', 'phonetic_detail', 'word_detail', 'dialect_region', 'sentence_type', 'speaker_id', 'id'],\n",
       "        num_rows: 46\n",
       "    })\n",
       "})"
      ]
     },
     "execution_count": 238,
     "metadata": {},
     "output_type": "execute_result"
    }
   ],
   "source": [
    "raw_datasets"
   ]
  },
  {
   "cell_type": "code",
   "execution_count": 239,
   "metadata": {},
   "outputs": [],
   "source": [
    "raw_datasets = raw_datasets.remove_columns([\"phonetic_detail\", \"word_detail\", 'dialect_region', 'sentence_type', 'speaker_id', 'id'])"
   ]
  },
  {
   "cell_type": "code",
   "execution_count": 127,
   "metadata": {},
   "outputs": [
    {
     "data": {
      "text/plain": [
       "DatasetDict({\n",
       "    train: Dataset({\n",
       "        features: ['file', 'audio', 'text'],\n",
       "        num_rows: 4574\n",
       "    })\n",
       "    test: Dataset({\n",
       "        features: ['file', 'audio', 'text'],\n",
       "        num_rows: 46\n",
       "    })\n",
       "})"
      ]
     },
     "execution_count": 127,
     "metadata": {},
     "output_type": "execute_result"
    }
   ],
   "source": [
    "raw_datasets"
   ]
  },
  {
   "cell_type": "code",
   "execution_count": 240,
   "metadata": {},
   "outputs": [],
   "source": [
    "from datasets import ClassLabel\n",
    "import random\n",
    "import pandas as pd\n",
    "from IPython.display import display, HTML\n",
    "\n",
    "def show_random_elements(dataset, num_examples=10):\n",
    "    assert num_examples <= len(dataset), \"Can't pick more elements than there are in the dataset.\"\n",
    "    picks = []\n",
    "    for _ in range(num_examples):\n",
    "        pick = random.randint(0, len(dataset)-1)\n",
    "        while pick in picks:\n",
    "            pick = random.randint(0, len(dataset)-1)\n",
    "        picks.append(pick)\n",
    "\n",
    "    df = pd.DataFrame(dataset[picks])\n",
    "    display(HTML(df.to_html()))"
   ]
  },
  {
   "cell_type": "code",
   "execution_count": 241,
   "metadata": {},
   "outputs": [
    {
     "data": {
      "text/html": [
       "<table border=\"1\" class=\"dataframe\">\n",
       "  <thead>\n",
       "    <tr style=\"text-align: right;\">\n",
       "      <th></th>\n",
       "      <th>text</th>\n",
       "    </tr>\n",
       "  </thead>\n",
       "  <tbody>\n",
       "    <tr>\n",
       "      <th>0</th>\n",
       "      <td>Irish youngsters eat fresh kippers for breakfast.</td>\n",
       "    </tr>\n",
       "    <tr>\n",
       "      <th>1</th>\n",
       "      <td>She had your dark suit in greasy wash water all year.</td>\n",
       "    </tr>\n",
       "    <tr>\n",
       "      <th>2</th>\n",
       "      <td>An official deadline cannot be postponed.</td>\n",
       "    </tr>\n",
       "    <tr>\n",
       "      <th>3</th>\n",
       "      <td>Resolved that the anti-slavery sentiment is becoming ripe for resolute action.</td>\n",
       "    </tr>\n",
       "    <tr>\n",
       "      <th>4</th>\n",
       "      <td>Another put sex on a dollars-and-cents basis.</td>\n",
       "    </tr>\n",
       "    <tr>\n",
       "      <th>5</th>\n",
       "      <td>I took her word for it, but is she really going with you?</td>\n",
       "    </tr>\n",
       "    <tr>\n",
       "      <th>6</th>\n",
       "      <td>Westchester is a county in New York.</td>\n",
       "    </tr>\n",
       "    <tr>\n",
       "      <th>7</th>\n",
       "      <td>A bayonet hung in a belt scabbard.</td>\n",
       "    </tr>\n",
       "    <tr>\n",
       "      <th>8</th>\n",
       "      <td>The toddler found a clamshell near the camp site.</td>\n",
       "    </tr>\n",
       "    <tr>\n",
       "      <th>9</th>\n",
       "      <td>Most of our aid will go to those nearing self-sufficiency.</td>\n",
       "    </tr>\n",
       "    <tr>\n",
       "      <th>10</th>\n",
       "      <td>It's not easy to create illuminating examples.</td>\n",
       "    </tr>\n",
       "    <tr>\n",
       "      <th>11</th>\n",
       "      <td>She had your dark suit in greasy wash water all year.</td>\n",
       "    </tr>\n",
       "    <tr>\n",
       "      <th>12</th>\n",
       "      <td>Where were they now?</td>\n",
       "    </tr>\n",
       "    <tr>\n",
       "      <th>13</th>\n",
       "      <td>The bluejay flew over the high building.</td>\n",
       "    </tr>\n",
       "    <tr>\n",
       "      <th>14</th>\n",
       "      <td>Don't ask me to carry an oily rag like that.</td>\n",
       "    </tr>\n",
       "    <tr>\n",
       "      <th>15</th>\n",
       "      <td>Who took the kayak down the bayou?</td>\n",
       "    </tr>\n",
       "    <tr>\n",
       "      <th>16</th>\n",
       "      <td>His comrades were all dead.</td>\n",
       "    </tr>\n",
       "    <tr>\n",
       "      <th>17</th>\n",
       "      <td>You're having a miserable time, aren't you?</td>\n",
       "    </tr>\n",
       "    <tr>\n",
       "      <th>18</th>\n",
       "      <td>She had your dark suit in greasy wash water all year.</td>\n",
       "    </tr>\n",
       "    <tr>\n",
       "      <th>19</th>\n",
       "      <td>His superiors had also preached this, saying it was the way for eternal honor.</td>\n",
       "    </tr>\n",
       "  </tbody>\n",
       "</table>"
      ],
      "text/plain": [
       "<IPython.core.display.HTML object>"
      ]
     },
     "metadata": {},
     "output_type": "display_data"
    }
   ],
   "source": [
    "show_random_elements(raw_datasets[\"train\"].remove_columns([\"file\", 'audio']), num_examples=20)"
   ]
  },
  {
   "cell_type": "code",
   "execution_count": 242,
   "metadata": {},
   "outputs": [],
   "source": [
    "import re\n",
    "chars_to_ignore_regex = '[\\,\\?\\.\\!\\-\\;\\:\\\"]'\n",
    "\n",
    "def remove_special_characters(batch):\n",
    "    batch[\"text\"] = re.sub(chars_to_ignore_regex, '', batch[\"text\"]).lower()\n",
    "    return batch"
   ]
  },
  {
   "cell_type": "code",
   "execution_count": 243,
   "metadata": {},
   "outputs": [],
   "source": [
    "raw_datasets = raw_datasets.map(remove_special_characters)"
   ]
  },
  {
   "cell_type": "code",
   "execution_count": 244,
   "metadata": {},
   "outputs": [
    {
     "data": {
      "text/html": [
       "<table border=\"1\" class=\"dataframe\">\n",
       "  <thead>\n",
       "    <tr style=\"text-align: right;\">\n",
       "      <th></th>\n",
       "      <th>text</th>\n",
       "    </tr>\n",
       "  </thead>\n",
       "  <tbody>\n",
       "    <tr>\n",
       "      <th>0</th>\n",
       "      <td>don't ask me to carry an oily rag like that</td>\n",
       "    </tr>\n",
       "    <tr>\n",
       "      <th>1</th>\n",
       "      <td>the previous speaker presented ambiguous results</td>\n",
       "    </tr>\n",
       "    <tr>\n",
       "      <th>2</th>\n",
       "      <td>this process is especially difficult since gyro drifting is typically random</td>\n",
       "    </tr>\n",
       "    <tr>\n",
       "      <th>3</th>\n",
       "      <td>i took her word for it but is she really going with you</td>\n",
       "    </tr>\n",
       "    <tr>\n",
       "      <th>4</th>\n",
       "      <td>your leg muscles and back muscles feel weary</td>\n",
       "    </tr>\n",
       "    <tr>\n",
       "      <th>5</th>\n",
       "      <td>a lone star shone in the early evening sky</td>\n",
       "    </tr>\n",
       "    <tr>\n",
       "      <th>6</th>\n",
       "      <td>she found herself able to sing any role and any song which struck her fancy</td>\n",
       "    </tr>\n",
       "    <tr>\n",
       "      <th>7</th>\n",
       "      <td>evidence that other sources of financing are unavailable must be provided</td>\n",
       "    </tr>\n",
       "    <tr>\n",
       "      <th>8</th>\n",
       "      <td>cliff's display was misplaced on the screen</td>\n",
       "    </tr>\n",
       "    <tr>\n",
       "      <th>9</th>\n",
       "      <td>cliff's display was misplaced on the screen</td>\n",
       "    </tr>\n",
       "  </tbody>\n",
       "</table>"
      ],
      "text/plain": [
       "<IPython.core.display.HTML object>"
      ]
     },
     "metadata": {},
     "output_type": "display_data"
    }
   ],
   "source": [
    "show_random_elements(raw_datasets[\"train\"].remove_columns([\"file\", \"audio\"]))"
   ]
  },
  {
   "cell_type": "code",
   "execution_count": 245,
   "metadata": {},
   "outputs": [],
   "source": [
    "import transformers\n",
    "from transformers import (\n",
    "    AdamW,\n",
    "    SchedulerType,\n",
    "    Wav2Vec2Config,\n",
    "    Wav2Vec2FeatureExtractor,\n",
    "    Wav2Vec2ForPreTraining,\n",
    "    get_scheduler,\n",
    "    is_wandb_available,\n",
    "    set_seed,\n",
    ")\n",
    "from transformers.models.wav2vec2.modeling_wav2vec2 import _compute_mask_indices, _sample_negative_indices"
   ]
  },
  {
   "cell_type": "code",
   "execution_count": 246,
   "metadata": {},
   "outputs": [],
   "source": [
    "model_name_or_path=\"facebook/wav2vec2-base-960h\" #\"facebook/wav2vec2-large-lv60\" #\"facebook/wav2vec2-base-960h\" #\"patrickvonplaten/wav2vec2-base-v2\" \"facebook/wav2vec2-base\""
   ]
  },
  {
   "cell_type": "code",
   "execution_count": 247,
   "metadata": {},
   "outputs": [],
   "source": [
    "#option1\n",
    "feature_extractor = Wav2Vec2FeatureExtractor.from_pretrained(model_name_or_path)\n",
    "\n",
    "#option2\n",
    "# feature_extractor = Wav2Vec2FeatureExtractor(feature_size=1, sampling_rate=16000, padding_value=0.0, do_normalize=True, return_attention_mask=False)"
   ]
  },
  {
   "cell_type": "code",
   "execution_count": 136,
   "metadata": {},
   "outputs": [
    {
     "data": {
      "text/plain": [
       "16000"
      ]
     },
     "execution_count": 136,
     "metadata": {},
     "output_type": "execute_result"
    }
   ],
   "source": [
    "feature_extractor.sampling_rate"
   ]
  },
  {
   "cell_type": "code",
   "execution_count": 137,
   "metadata": {},
   "outputs": [
    {
     "data": {
      "text/plain": [
       "True"
      ]
     },
     "execution_count": 137,
     "metadata": {},
     "output_type": "execute_result"
    }
   ],
   "source": [
    "feature_extractor.do_normalize"
   ]
  },
  {
   "cell_type": "code",
   "execution_count": 138,
   "metadata": {},
   "outputs": [],
   "source": [
    "from transformers import Wav2Vec2CTCTokenizer\n",
    "#option1\n",
    "tokenizer = AutoTokenizer.from_pretrained(model_name_or_path)\n",
    "\n",
    "#option2\n",
    "# tokenizer = Wav2Vec2CTCTokenizer(\"./vocab.json\", unk_token=\"[UNK]\", pad_token=\"[PAD]\", word_delimiter_token=\"|\")"
   ]
  },
  {
   "cell_type": "code",
   "execution_count": 140,
   "metadata": {},
   "outputs": [],
   "source": [
    "from transformers import Wav2Vec2Processor\n",
    "\n",
    "processor = Wav2Vec2Processor(feature_extractor=feature_extractor, tokenizer=tokenizer)"
   ]
  },
  {
   "cell_type": "code",
   "execution_count": 248,
   "metadata": {},
   "outputs": [],
   "source": [
    "import datasets\n",
    "# make sure that dataset decodes audio with correct sampling rate\n",
    "raw_datasets = raw_datasets.cast_column(\n",
    "    \"audio\", datasets.features.Audio(sampling_rate=feature_extractor.sampling_rate)\n",
    ")"
   ]
  },
  {
   "cell_type": "code",
   "execution_count": 249,
   "metadata": {},
   "outputs": [
    {
     "data": {
      "text/plain": [
       "{'file': 'D:\\\\GitHub\\\\datasets\\\\timit\\\\TIMIT\\\\train\\\\DR1\\\\FETB0\\\\SX248.WAV',\n",
       " 'audio': {'path': 'D:\\\\GitHub\\\\datasets\\\\timit\\\\TIMIT\\\\train\\\\DR1\\\\FETB0\\\\SX248.WAV',\n",
       "  'array': array([ 9.15527344e-05,  6.10351562e-05,  3.05175781e-05, ...,\n",
       "          3.05175781e-05, -3.05175781e-05, -9.15527344e-05]),\n",
       "  'sampling_rate': 16000},\n",
       " 'text': 'reading in poor light gives you eyestrain'}"
      ]
     },
     "execution_count": 249,
     "metadata": {},
     "output_type": "execute_result"
    }
   ],
   "source": [
    "raw_datasets[\"train\"][0]"
   ]
  },
  {
   "cell_type": "code",
   "execution_count": 143,
   "metadata": {},
   "outputs": [
    {
     "data": {
      "text/plain": [
       "{'path': 'D:\\\\GitHub\\\\datasets\\\\timit\\\\TIMIT\\\\train\\\\DR1\\\\FETB0\\\\SX248.WAV',\n",
       " 'array': array([ 9.15527344e-05,  6.10351562e-05,  3.05175781e-05, ...,\n",
       "         3.05175781e-05, -3.05175781e-05, -9.15527344e-05]),\n",
       " 'sampling_rate': 16000}"
      ]
     },
     "execution_count": 143,
     "metadata": {},
     "output_type": "execute_result"
    }
   ],
   "source": [
    "raw_datasets[\"train\"][0][\"audio\"]"
   ]
  },
  {
   "cell_type": "code",
   "execution_count": 144,
   "metadata": {},
   "outputs": [
    {
     "name": "stdout",
     "output_type": "stream",
     "text": [
      "will you please describe the idiotic predicament\n"
     ]
    },
    {
     "data": {
      "text/html": [
       "\n",
       "                <audio  controls=\"controls\" autoplay=\"autoplay\">\n",
       "                    <source src=\"data:audio/wav;base64,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\" type=\"audio/wav\" />\n",
       "                    Your browser does not support the audio element.\n",
       "                </audio>\n",
       "              "
      ],
      "text/plain": [
       "<IPython.lib.display.Audio object>"
      ]
     },
     "execution_count": 144,
     "metadata": {},
     "output_type": "execute_result"
    }
   ],
   "source": [
    "import IPython.display as ipd\n",
    "import numpy as np\n",
    "import random\n",
    "\n",
    "rand_int = random.randint(0, len(raw_datasets[\"train\"]))\n",
    "\n",
    "print(raw_datasets[\"train\"][rand_int][\"text\"])\n",
    "ipd.Audio(data=np.asarray(raw_datasets[\"train\"][rand_int][\"audio\"][\"array\"]), autoplay=True, rate=16000)"
   ]
  },
  {
   "cell_type": "code",
   "execution_count": 145,
   "metadata": {},
   "outputs": [
    {
     "name": "stdout",
     "output_type": "stream",
     "text": [
      "Input array shape: (44544,)\n",
      "Sampling rate: 16000\n"
     ]
    }
   ],
   "source": [
    "print(\"Input array shape:\", np.asarray(raw_datasets[\"train\"][rand_int][\"audio\"][\"array\"]).shape)\n",
    "print(\"Sampling rate:\", raw_datasets[\"train\"][rand_int][\"audio\"][\"sampling_rate\"])"
   ]
  },
  {
   "cell_type": "code",
   "execution_count": 171,
   "metadata": {},
   "outputs": [
    {
     "data": {
      "text/plain": [
       "{'path': 'D:\\\\GitHub\\\\datasets\\\\timit\\\\TIMIT\\\\train\\\\DR1\\\\FETB0\\\\SX248.WAV',\n",
       " 'array': array([ 9.15527344e-05,  6.10351562e-05,  3.05175781e-05, ...,\n",
       "         3.05175781e-05, -3.05175781e-05, -9.15527344e-05]),\n",
       " 'sampling_rate': 16000}"
      ]
     },
     "execution_count": 171,
     "metadata": {},
     "output_type": "execute_result"
    }
   ],
   "source": [
    "raw_datasets[\"train\"][0]['audio']"
   ]
  },
  {
   "cell_type": "code",
   "execution_count": 170,
   "metadata": {},
   "outputs": [
    {
     "data": {
      "text/plain": [
       "'reading in poor light gives you eyestrain'"
      ]
     },
     "execution_count": 170,
     "metadata": {},
     "output_type": "execute_result"
    }
   ],
   "source": [
    "raw_datasets[\"train\"][0]['text']"
   ]
  },
  {
   "cell_type": "code",
   "execution_count": 188,
   "metadata": {},
   "outputs": [
    {
     "name": "stdout",
     "output_type": "stream",
     "text": [
      "{'input_ids': [3, 3, 3, 3, 3, 3, 3, 4, 3, 3, 4, 3, 3, 3, 3, 4, 3, 3, 3, 3, 3, 4, 3, 3, 3, 3, 3, 4, 3, 3, 3, 4, 3, 3, 3, 3, 3, 3, 3, 3, 3], 'attention_mask': [1, 1, 1, 1, 1, 1, 1, 1, 1, 1, 1, 1, 1, 1, 1, 1, 1, 1, 1, 1, 1, 1, 1, 1, 1, 1, 1, 1, 1, 1, 1, 1, 1, 1, 1, 1, 1, 1, 1, 1, 1]}\n"
     ]
    }
   ],
   "source": [
    "#with processor.as_target_processor():\n",
    "result=tokenizer(raw_datasets[\"train\"][0]['text'])\n",
    "print(result)"
   ]
  },
  {
   "cell_type": "code",
   "execution_count": 189,
   "metadata": {},
   "outputs": [
    {
     "data": {
      "text/plain": [
       "Wav2Vec2CTCTokenizer(name_or_path='facebook/wav2vec2-base-960h', vocab_size=32, model_max_length=9223372036854775807, is_fast=False, padding_side='right', truncation_side='right', special_tokens={'bos_token': '<s>', 'eos_token': '</s>', 'unk_token': '<unk>', 'pad_token': '<pad>'}, clean_up_tokenization_spaces=True)"
      ]
     },
     "execution_count": 189,
     "metadata": {},
     "output_type": "execute_result"
    }
   ],
   "source": [
    "tokenizer"
   ]
  },
  {
   "cell_type": "markdown",
   "metadata": {},
   "source": [
    "This tokenizer does not work for the TIMIT dataset, change a new tokenizer"
   ]
  },
  {
   "cell_type": "code",
   "execution_count": 250,
   "metadata": {},
   "outputs": [],
   "source": [
    "from transformers import Wav2Vec2CTCTokenizer\n",
    "\n",
    "newtokenizer = Wav2Vec2CTCTokenizer(\"./vocab.json\", unk_token=\"[UNK]\", pad_token=\"[PAD]\", word_delimiter_token=\"|\")"
   ]
  },
  {
   "cell_type": "code",
   "execution_count": 192,
   "metadata": {},
   "outputs": [
    {
     "data": {
      "text/plain": [
       "Wav2Vec2CTCTokenizer(name_or_path='', vocab_size=30, model_max_length=1000000000000000019884624838656, is_fast=False, padding_side='right', truncation_side='right', special_tokens={'bos_token': '<s>', 'eos_token': '</s>', 'unk_token': '[UNK]', 'pad_token': '[PAD]'}, clean_up_tokenization_spaces=True)"
      ]
     },
     "execution_count": 192,
     "metadata": {},
     "output_type": "execute_result"
    }
   ],
   "source": [
    "newtokenizer"
   ]
  },
  {
   "cell_type": "code",
   "execution_count": 251,
   "metadata": {},
   "outputs": [
    {
     "name": "stdout",
     "output_type": "stream",
     "text": [
      "{'input_ids': [9, 0, 19, 25, 21, 4, 6, 14, 21, 4, 14, 5, 15, 15, 9, 14, 2, 21, 6, 22, 23, 14, 6, 21, 11, 0, 1, 14, 18, 15, 12, 14, 0, 18, 0, 1, 23, 9, 19, 21, 4], 'attention_mask': [1, 1, 1, 1, 1, 1, 1, 1, 1, 1, 1, 1, 1, 1, 1, 1, 1, 1, 1, 1, 1, 1, 1, 1, 1, 1, 1, 1, 1, 1, 1, 1, 1, 1, 1, 1, 1, 1, 1, 1, 1]}\n"
     ]
    }
   ],
   "source": [
    "result=newtokenizer(raw_datasets[\"train\"][0]['text'])\n",
    "print(result)"
   ]
  },
  {
   "cell_type": "code",
   "execution_count": 252,
   "metadata": {},
   "outputs": [],
   "source": [
    "processor = Wav2Vec2Processor(feature_extractor=feature_extractor, tokenizer=newtokenizer)"
   ]
  },
  {
   "cell_type": "code",
   "execution_count": 253,
   "metadata": {},
   "outputs": [],
   "source": [
    "# set max & min audio length in number of samples\n",
    "max_duration_in_seconds = 5 \n",
    "min_duration_in_seconds = 3   \n",
    "max_length = int(max_duration_in_seconds * feature_extractor.sampling_rate) #80000\n",
    "min_length = int(min_duration_in_seconds * feature_extractor.sampling_rate) #48000"
   ]
  },
  {
   "cell_type": "code",
   "execution_count": 254,
   "metadata": {},
   "outputs": [
    {
     "data": {
      "text/plain": [
       "Wav2Vec2Processor:\n",
       "- feature_extractor: Wav2Vec2FeatureExtractor {\n",
       "  \"do_normalize\": true,\n",
       "  \"feature_extractor_type\": \"Wav2Vec2FeatureExtractor\",\n",
       "  \"feature_size\": 1,\n",
       "  \"padding_side\": \"right\",\n",
       "  \"padding_value\": 0.0,\n",
       "  \"return_attention_mask\": false,\n",
       "  \"sampling_rate\": 16000\n",
       "}\n",
       "\n",
       "- tokenizer: Wav2Vec2CTCTokenizer(name_or_path='', vocab_size=30, model_max_length=1000000000000000019884624838656, is_fast=False, padding_side='right', truncation_side='right', special_tokens={'bos_token': '<s>', 'eos_token': '</s>', 'unk_token': '[UNK]', 'pad_token': '[PAD]'}, clean_up_tokenization_spaces=True)"
      ]
     },
     "execution_count": 254,
     "metadata": {},
     "output_type": "execute_result"
    }
   ],
   "source": [
    "processor"
   ]
  },
  {
   "cell_type": "code",
   "execution_count": 261,
   "metadata": {},
   "outputs": [],
   "source": [
    "# def prepare_dataset(batch):\n",
    "#     sample = batch[\"audio\"]\n",
    "\n",
    "#     inputs = feature_extractor(\n",
    "#         sample[\"array\"], sampling_rate=sample[\"sampling_rate\"], max_length=max_length, truncation=True\n",
    "#     )\n",
    "#     batch[\"input_values\"] = inputs.input_values[0]\n",
    "#     batch[\"input_length\"] = len(inputs.input_values[0])\n",
    "\n",
    "#     return batch\n",
    "\n",
    "def prepare_dataset(batch):\n",
    "    audio = batch[\"audio\"]\n",
    "\n",
    "    # batched output is \"un-batched\" to ensure mapping is correct\n",
    "    batch[\"input_values\"] = processor(audio[\"array\"], sampling_rate=audio[\"sampling_rate\"]).input_values[0]\n",
    "    batch[\"input_length\"] = len(batch[\"input_values\"])\n",
    "    \n",
    "    with processor.as_target_processor(): #redirected to Wav2Vec2CTCTokenizer\n",
    "        #add .upper() for the text\n",
    "        result = processor(batch[\"text\"])\n",
    "        #print(result)\n",
    "        batch[\"labels\"] = result.input_ids\n",
    "    return batch"
   ]
  },
  {
   "cell_type": "markdown",
   "metadata": {},
   "source": [
    "When wrapping the processor into the as_target_processor context, however, the same method is redirected to Wav2Vec2CTCTokenizer's call method."
   ]
  },
  {
   "cell_type": "code",
   "execution_count": 262,
   "metadata": {},
   "outputs": [
    {
     "data": {
      "text/plain": [
       "{'train': ['file', 'audio', 'text'], 'test': ['file', 'audio', 'text']}"
      ]
     },
     "execution_count": 262,
     "metadata": {},
     "output_type": "execute_result"
    }
   ],
   "source": [
    "raw_datasets.column_names"
   ]
  },
  {
   "cell_type": "code",
   "execution_count": 263,
   "metadata": {},
   "outputs": [],
   "source": [
    "cache_file_names = None\n",
    "vectorized_datasets = raw_datasets.map(\n",
    "        prepare_dataset,\n",
    "        num_proc=1,\n",
    "        remove_columns=raw_datasets[\"train\"].column_names,\n",
    "        cache_file_names=cache_file_names,\n",
    "    )"
   ]
  },
  {
   "cell_type": "code",
   "execution_count": 201,
   "metadata": {},
   "outputs": [
    {
     "data": {
      "text/plain": [
       "Dataset({\n",
       "    features: ['input_values', 'input_length', 'labels'],\n",
       "    num_rows: 4574\n",
       "})"
      ]
     },
     "execution_count": 201,
     "metadata": {},
     "output_type": "execute_result"
    }
   ],
   "source": [
    "vectorized_datasets[\"train\"]"
   ]
  },
  {
   "cell_type": "code",
   "execution_count": 259,
   "metadata": {},
   "outputs": [
    {
     "data": {
      "text/plain": [
       "42189"
      ]
     },
     "execution_count": 259,
     "metadata": {},
     "output_type": "execute_result"
    }
   ],
   "source": [
    "vectorized_datasets[\"train\"][0]['input_length']"
   ]
  },
  {
   "cell_type": "code",
   "execution_count": 264,
   "metadata": {},
   "outputs": [
    {
     "data": {
      "text/plain": [
       "'reading in por light gives you eyestrain'"
      ]
     },
     "execution_count": 264,
     "metadata": {},
     "output_type": "execute_result"
    }
   ],
   "source": [
    "processor.decode(vectorized_datasets[\"train\"][0]['labels'])"
   ]
  },
  {
   "cell_type": "code",
   "execution_count": 265,
   "metadata": {},
   "outputs": [],
   "source": [
    "#filter all sequences that are longer than 4 seconds out of the training dataset.\n",
    "if max_length > 0.0:\n",
    "    vectorized_datasets = vectorized_datasets.filter(\n",
    "        lambda x: x < max_length,\n",
    "        num_proc=1,\n",
    "        input_columns=[\"input_length\"],\n",
    "    )"
   ]
  },
  {
   "cell_type": "code",
   "execution_count": 266,
   "metadata": {},
   "outputs": [
    {
     "data": {
      "text/plain": [
       "Dataset({\n",
       "    features: ['input_values', 'input_length', 'labels'],\n",
       "    num_rows: 4455\n",
       "})"
      ]
     },
     "execution_count": 266,
     "metadata": {},
     "output_type": "execute_result"
    }
   ],
   "source": [
    "vectorized_datasets['train']"
   ]
  },
  {
   "cell_type": "code",
   "execution_count": 267,
   "metadata": {},
   "outputs": [
    {
     "data": {
      "text/plain": [
       "46183"
      ]
     },
     "execution_count": 267,
     "metadata": {},
     "output_type": "execute_result"
    }
   ],
   "source": [
    "vectorized_datasets['train'][10]['input_length']"
   ]
  },
  {
   "cell_type": "code",
   "execution_count": 268,
   "metadata": {},
   "outputs": [
    {
     "data": {
      "text/plain": [
       "'we saw eight tiny icicles below our rof'"
      ]
     },
     "execution_count": 268,
     "metadata": {},
     "output_type": "execute_result"
    }
   ],
   "source": [
    "processor.decode(vectorized_datasets['train'][10]['labels'])"
   ]
  },
  {
   "cell_type": "code",
   "execution_count": 269,
   "metadata": {},
   "outputs": [],
   "source": [
    "vectorized_datasets = vectorized_datasets.remove_columns(\"input_length\")"
   ]
  },
  {
   "cell_type": "code",
   "execution_count": 209,
   "metadata": {},
   "outputs": [
    {
     "data": {
      "text/plain": [
       "DatasetDict({\n",
       "    train: Dataset({\n",
       "        features: ['input_values', 'labels'],\n",
       "        num_rows: 4455\n",
       "    })\n",
       "    test: Dataset({\n",
       "        features: ['input_values', 'labels'],\n",
       "        num_rows: 44\n",
       "    })\n",
       "})"
      ]
     },
     "execution_count": 209,
     "metadata": {},
     "output_type": "execute_result"
    }
   ],
   "source": [
    "vectorized_datasets"
   ]
  },
  {
   "cell_type": "markdown",
   "metadata": {},
   "source": [
    "Define a data collator. In contrast to most NLP models, Wav2Vec2 has a much larger input length than output length. E.g., a sample of input length 50000 has an output length of no more than 100. Given the large input sizes, it is much more efficient to pad the training batches dynamically meaning that all training samples should only be padded to the longest sample in their batch and not the overall longest sample. Therefore, fine-tuning Wav2Vec2 requires a special padding data collator"
   ]
  },
  {
   "cell_type": "code",
   "execution_count": 270,
   "metadata": {},
   "outputs": [],
   "source": [
    "import torch\n",
    "\n",
    "from dataclasses import dataclass, field\n",
    "from typing import Any, Dict, List, Optional, Union\n",
    "\n",
    "#ref from https://github.com/huggingface/transformers/blob/main/examples/research_projects/wav2vec2/run_asr.py\n",
    "@dataclass\n",
    "class DataCollatorCTCWithPadding:\n",
    "    \"\"\"\n",
    "    Data collator that will dynamically pad the inputs received.\n",
    "    Args:\n",
    "        processor (:class:`~transformers.Wav2Vec2Processor`)\n",
    "            The processor used for proccessing the data.\n",
    "        padding (:obj:`bool`, :obj:`str` or :class:`~transformers.tokenization_utils_base.PaddingStrategy`, `optional`, defaults to :obj:`True`):\n",
    "            Select a strategy to pad the returned sequences (according to the model's padding side and padding index)\n",
    "            among:\n",
    "            * :obj:`True` or :obj:`'longest'`: Pad to the longest sequence in the batch (or no padding if only a single\n",
    "              sequence if provided).\n",
    "            * :obj:`'max_length'`: Pad to a maximum length specified with the argument :obj:`max_length` or to the\n",
    "              maximum acceptable input length for the model if that argument is not provided.\n",
    "            * :obj:`False` or :obj:`'do_not_pad'` (default): No padding (i.e., can output a batch with sequences of\n",
    "              different lengths).\n",
    "    \"\"\"\n",
    "\n",
    "    processor: Wav2Vec2Processor\n",
    "    padding: Union[bool, str] = True\n",
    "\n",
    "    def __call__(self, features: List[Dict[str, Union[List[int], torch.Tensor]]]) -> Dict[str, torch.Tensor]:\n",
    "        # split inputs and labels since they have to be of different lenghts and need\n",
    "        # different padding methods\n",
    "        input_features = [{\"input_values\": feature[\"input_values\"]} for feature in features]\n",
    "        label_features = [{\"input_ids\": feature[\"labels\"]} for feature in features]\n",
    "\n",
    "        batch = self.processor.pad(\n",
    "            input_features,\n",
    "            padding=self.padding,\n",
    "            return_tensors=\"pt\",\n",
    "        )\n",
    "        with self.processor.as_target_processor():\n",
    "            labels_batch = self.processor.pad(\n",
    "                label_features,\n",
    "                padding=self.padding,\n",
    "                return_tensors=\"pt\",\n",
    "            )\n",
    "\n",
    "        # replace padding with -100 to ignore loss correctly\n",
    "        labels = labels_batch[\"input_ids\"].masked_fill(labels_batch.attention_mask.ne(1), -100)\n",
    "\n",
    "        batch[\"labels\"] = labels\n",
    "\n",
    "        return batch"
   ]
  },
  {
   "cell_type": "code",
   "execution_count": 271,
   "metadata": {},
   "outputs": [],
   "source": [
    "data_collator = DataCollatorCTCWithPadding(processor=processor, padding=True)"
   ]
  },
  {
   "cell_type": "code",
   "execution_count": 36,
   "metadata": {},
   "outputs": [
    {
     "name": "stdout",
     "output_type": "stream",
     "text": [
      "Looking in indexes: https://pypi.org/simple, https://pypi.ngc.nvidia.com\n",
      "Collecting jiwer\n",
      "  Downloading jiwer-3.0.3-py3-none-any.whl.metadata (2.6 kB)\n",
      "Requirement already satisfied: click<9.0.0,>=8.1.3 in c:\\users\\lkk68\\.conda\\envs\\mycondapy310\\lib\\site-packages (from jiwer) (8.1.7)\n",
      "Collecting rapidfuzz<4,>=3 (from jiwer)\n",
      "  Downloading rapidfuzz-3.6.1-cp310-cp310-win_amd64.whl.metadata (11 kB)\n",
      "Requirement already satisfied: colorama in c:\\users\\lkk68\\.conda\\envs\\mycondapy310\\lib\\site-packages (from click<9.0.0,>=8.1.3->jiwer) (0.4.6)\n",
      "Downloading jiwer-3.0.3-py3-none-any.whl (21 kB)\n",
      "Downloading rapidfuzz-3.6.1-cp310-cp310-win_amd64.whl (1.6 MB)\n",
      "   ---------------------------------------- 0.0/1.6 MB ? eta -:--:--\n",
      "   ------ --------------------------------- 0.3/1.6 MB 8.6 MB/s eta 0:00:01\n",
      "   -------------------- ------------------- 0.8/1.6 MB 10.6 MB/s eta 0:00:01\n",
      "   ---------------------------------------  1.6/1.6 MB 12.9 MB/s eta 0:00:01\n",
      "   ---------------------------------------- 1.6/1.6 MB 13.0 MB/s eta 0:00:00\n",
      "Installing collected packages: rapidfuzz, jiwer\n",
      "Successfully installed jiwer-3.0.3 rapidfuzz-3.6.1\n"
     ]
    }
   ],
   "source": [
    "!pip install jiwer"
   ]
  },
  {
   "cell_type": "code",
   "execution_count": 212,
   "metadata": {},
   "outputs": [],
   "source": [
    "wer_metric = load_metric(\"wer\")"
   ]
  },
  {
   "cell_type": "code",
   "execution_count": 274,
   "metadata": {},
   "outputs": [],
   "source": [
    "import numpy as np\n",
    "def compute_metrics(pred):\n",
    "    pred_logits = pred.predictions\n",
    "    pred_ids = np.argmax(pred_logits, axis=-1)\n",
    "\n",
    "    pred.label_ids[pred.label_ids == -100] = processor.tokenizer.pad_token_id\n",
    "\n",
    "    pred_str = processor.batch_decode(pred_ids)\n",
    "    # we do not want to group tokens when computing the metrics\n",
    "    label_str = processor.batch_decode(pred.label_ids, group_tokens=False)\n",
    "\n",
    "    newlabel_str=[]\n",
    "    for label in label_str:\n",
    "        newlabel_str.append(label.upper())\n",
    "\n",
    "    wer = wer_metric.compute(predictions=pred_str, references=newlabel_str)\n",
    "\n",
    "    return {\"wer\": wer}"
   ]
  },
  {
   "cell_type": "code",
   "execution_count": 272,
   "metadata": {},
   "outputs": [
    {
     "name": "stderr",
     "output_type": "stream",
     "text": [
      "Some weights of the model checkpoint at facebook/wav2vec2-base-960h were not used when initializing Wav2Vec2ForCTC: ['wav2vec2.encoder.pos_conv_embed.conv.weight_g', 'wav2vec2.encoder.pos_conv_embed.conv.weight_v']\n",
      "- This IS expected if you are initializing Wav2Vec2ForCTC from the checkpoint of a model trained on another task or with another architecture (e.g. initializing a BertForSequenceClassification model from a BertForPreTraining model).\n",
      "- This IS NOT expected if you are initializing Wav2Vec2ForCTC from the checkpoint of a model that you expect to be exactly identical (initializing a BertForSequenceClassification model from a BertForSequenceClassification model).\n",
      "Some weights of Wav2Vec2ForCTC were not initialized from the model checkpoint at facebook/wav2vec2-base-960h and are newly initialized: ['wav2vec2.masked_spec_embed', 'wav2vec2.encoder.pos_conv_embed.conv.parametrizations.weight.original1', 'wav2vec2.encoder.pos_conv_embed.conv.parametrizations.weight.original0']\n",
      "You should probably TRAIN this model on a down-stream task to be able to use it for predictions and inference.\n"
     ]
    }
   ],
   "source": [
    "from transformers import Wav2Vec2ForCTC\n",
    "\n",
    "model = Wav2Vec2ForCTC.from_pretrained(\n",
    "    model_name_or_path,\n",
    "    ctc_loss_reduction=\"mean\", \n",
    "    pad_token_id=processor.tokenizer.pad_token_id,\n",
    ")"
   ]
  },
  {
   "cell_type": "code",
   "execution_count": 273,
   "metadata": {},
   "outputs": [
    {
     "name": "stderr",
     "output_type": "stream",
     "text": [
      "c:\\Users\\lkk68\\.conda\\envs\\mycondapy310\\lib\\site-packages\\transformers\\models\\wav2vec2\\modeling_wav2vec2.py:1925: FutureWarning: The method `freeze_feature_extractor` is deprecated and will be removed in Transformers v5.Please use the equivalent `freeze_feature_encoder` method instead.\n",
      "  warnings.warn(\n"
     ]
    }
   ],
   "source": [
    "model.freeze_feature_extractor()"
   ]
  },
  {
   "cell_type": "code",
   "execution_count": null,
   "metadata": {},
   "outputs": [],
   "source": [
    "#test compute_metrics\n"
   ]
  },
  {
   "cell_type": "code",
   "execution_count": 275,
   "metadata": {},
   "outputs": [],
   "source": [
    "from transformers import TrainingArguments\n",
    "\n",
    "training_args = TrainingArguments(\n",
    "  output_dir=\"./output/wav2vec2-finetune-asr-timit\",\n",
    "  group_by_length=True,\n",
    "  per_device_train_batch_size=8,\n",
    "  evaluation_strategy=\"steps\",\n",
    "  num_train_epochs=30,\n",
    "  fp16=True,\n",
    "  gradient_checkpointing=True,\n",
    "  save_steps=500,\n",
    "  eval_steps=500,\n",
    "  logging_steps=500,\n",
    "  learning_rate=1e-4,\n",
    "  weight_decay=0.005,\n",
    "  warmup_steps=1000,\n",
    "  save_total_limit=2,\n",
    ")"
   ]
  },
  {
   "cell_type": "code",
   "execution_count": 217,
   "metadata": {},
   "outputs": [
    {
     "data": {
      "text/plain": [
       "'test'"
      ]
     },
     "execution_count": 217,
     "metadata": {},
     "output_type": "execute_result"
    }
   ],
   "source": [
    "valkeyname"
   ]
  },
  {
   "cell_type": "code",
   "execution_count": 276,
   "metadata": {},
   "outputs": [],
   "source": [
    "from transformers import Trainer\n",
    "\n",
    "trainer = Trainer(\n",
    "    model=model,\n",
    "    data_collator=data_collator,\n",
    "    args=training_args,\n",
    "    compute_metrics=compute_metrics,\n",
    "    train_dataset=vectorized_datasets[\"train\"],\n",
    "    eval_dataset=vectorized_datasets[valkeyname],\n",
    "    tokenizer=processor.feature_extractor,\n",
    ")"
   ]
  },
  {
   "cell_type": "code",
   "execution_count": 277,
   "metadata": {},
   "outputs": [
    {
     "name": "stderr",
     "output_type": "stream",
     "text": [
      "c:\\Users\\lkk68\\.conda\\envs\\mycondapy310\\lib\\site-packages\\transformers\\models\\wav2vec2\\processing_wav2vec2.py:155: UserWarning: `as_target_processor` is deprecated and will be removed in v5 of Transformers. You can process your labels by using the argument `text` of the regular `__call__` method (either in the same call as your audio inputs, or in a separate call.\n",
      "  warnings.warn(\n",
      "c:\\Users\\lkk68\\.conda\\envs\\mycondapy310\\lib\\site-packages\\torch\\utils\\checkpoint.py:429: UserWarning: torch.utils.checkpoint: please pass in use_reentrant=True or use_reentrant=False explicitly. The default value of use_reentrant will be updated to be False in the future. To maintain current behavior, pass use_reentrant=True. It is recommended that you use use_reentrant=False. Refer to docs for more details on the differences between the two variants.\n",
      "  warnings.warn(\n"
     ]
    },
    {
     "data": {
      "text/html": [
       "\n",
       "    <div>\n",
       "      \n",
       "      <progress value='16710' max='16710' style='width:300px; height:20px; vertical-align: middle;'></progress>\n",
       "      [16710/16710 1:52:35, Epoch 30/30]\n",
       "    </div>\n",
       "    <table border=\"1\" class=\"dataframe\">\n",
       "  <thead>\n",
       " <tr style=\"text-align: left;\">\n",
       "      <th>Step</th>\n",
       "      <th>Training Loss</th>\n",
       "      <th>Validation Loss</th>\n",
       "      <th>Wer</th>\n",
       "    </tr>\n",
       "  </thead>\n",
       "  <tbody>\n",
       "    <tr>\n",
       "      <td>500</td>\n",
       "      <td>5.317600</td>\n",
       "      <td>3.019619</td>\n",
       "      <td>1.000000</td>\n",
       "    </tr>\n",
       "    <tr>\n",
       "      <td>1000</td>\n",
       "      <td>2.830000</td>\n",
       "      <td>0.530265</td>\n",
       "      <td>1.010724</td>\n",
       "    </tr>\n",
       "    <tr>\n",
       "      <td>1500</td>\n",
       "      <td>0.698900</td>\n",
       "      <td>0.224900</td>\n",
       "      <td>1.002681</td>\n",
       "    </tr>\n",
       "    <tr>\n",
       "      <td>2000</td>\n",
       "      <td>0.476400</td>\n",
       "      <td>0.143653</td>\n",
       "      <td>1.010724</td>\n",
       "    </tr>\n",
       "    <tr>\n",
       "      <td>2500</td>\n",
       "      <td>0.309800</td>\n",
       "      <td>0.202433</td>\n",
       "      <td>1.005362</td>\n",
       "    </tr>\n",
       "    <tr>\n",
       "      <td>3000</td>\n",
       "      <td>0.289600</td>\n",
       "      <td>0.133042</td>\n",
       "      <td>1.002681</td>\n",
       "    </tr>\n",
       "    <tr>\n",
       "      <td>3500</td>\n",
       "      <td>0.336100</td>\n",
       "      <td>0.139767</td>\n",
       "      <td>1.002681</td>\n",
       "    </tr>\n",
       "    <tr>\n",
       "      <td>4000</td>\n",
       "      <td>0.263000</td>\n",
       "      <td>0.130537</td>\n",
       "      <td>1.005362</td>\n",
       "    </tr>\n",
       "    <tr>\n",
       "      <td>4500</td>\n",
       "      <td>0.237100</td>\n",
       "      <td>0.132002</td>\n",
       "      <td>1.010724</td>\n",
       "    </tr>\n",
       "    <tr>\n",
       "      <td>5000</td>\n",
       "      <td>0.193500</td>\n",
       "      <td>0.132193</td>\n",
       "      <td>1.005362</td>\n",
       "    </tr>\n",
       "    <tr>\n",
       "      <td>5500</td>\n",
       "      <td>0.189900</td>\n",
       "      <td>0.124870</td>\n",
       "      <td>1.002681</td>\n",
       "    </tr>\n",
       "    <tr>\n",
       "      <td>6000</td>\n",
       "      <td>0.207400</td>\n",
       "      <td>0.104706</td>\n",
       "      <td>1.002681</td>\n",
       "    </tr>\n",
       "    <tr>\n",
       "      <td>6500</td>\n",
       "      <td>0.156400</td>\n",
       "      <td>0.150932</td>\n",
       "      <td>1.005362</td>\n",
       "    </tr>\n",
       "    <tr>\n",
       "      <td>7000</td>\n",
       "      <td>0.150300</td>\n",
       "      <td>0.111314</td>\n",
       "      <td>1.000000</td>\n",
       "    </tr>\n",
       "    <tr>\n",
       "      <td>7500</td>\n",
       "      <td>0.168300</td>\n",
       "      <td>0.086914</td>\n",
       "      <td>1.000000</td>\n",
       "    </tr>\n",
       "    <tr>\n",
       "      <td>8000</td>\n",
       "      <td>0.142700</td>\n",
       "      <td>0.116518</td>\n",
       "      <td>1.002681</td>\n",
       "    </tr>\n",
       "    <tr>\n",
       "      <td>8500</td>\n",
       "      <td>0.149200</td>\n",
       "      <td>0.107472</td>\n",
       "      <td>1.002681</td>\n",
       "    </tr>\n",
       "    <tr>\n",
       "      <td>9000</td>\n",
       "      <td>0.144300</td>\n",
       "      <td>0.139107</td>\n",
       "      <td>1.005362</td>\n",
       "    </tr>\n",
       "    <tr>\n",
       "      <td>9500</td>\n",
       "      <td>0.118100</td>\n",
       "      <td>0.108263</td>\n",
       "      <td>1.002681</td>\n",
       "    </tr>\n",
       "    <tr>\n",
       "      <td>10000</td>\n",
       "      <td>0.120700</td>\n",
       "      <td>0.137906</td>\n",
       "      <td>1.002681</td>\n",
       "    </tr>\n",
       "    <tr>\n",
       "      <td>10500</td>\n",
       "      <td>0.118100</td>\n",
       "      <td>0.212840</td>\n",
       "      <td>1.005362</td>\n",
       "    </tr>\n",
       "    <tr>\n",
       "      <td>11000</td>\n",
       "      <td>0.127500</td>\n",
       "      <td>0.125476</td>\n",
       "      <td>1.005362</td>\n",
       "    </tr>\n",
       "    <tr>\n",
       "      <td>11500</td>\n",
       "      <td>0.085400</td>\n",
       "      <td>0.134622</td>\n",
       "      <td>1.005362</td>\n",
       "    </tr>\n",
       "    <tr>\n",
       "      <td>12000</td>\n",
       "      <td>0.091600</td>\n",
       "      <td>0.159082</td>\n",
       "      <td>1.002681</td>\n",
       "    </tr>\n",
       "    <tr>\n",
       "      <td>12500</td>\n",
       "      <td>0.097900</td>\n",
       "      <td>0.143878</td>\n",
       "      <td>1.000000</td>\n",
       "    </tr>\n",
       "    <tr>\n",
       "      <td>13000</td>\n",
       "      <td>0.098100</td>\n",
       "      <td>0.172228</td>\n",
       "      <td>1.002681</td>\n",
       "    </tr>\n",
       "    <tr>\n",
       "      <td>13500</td>\n",
       "      <td>0.069700</td>\n",
       "      <td>0.160852</td>\n",
       "      <td>1.000000</td>\n",
       "    </tr>\n",
       "    <tr>\n",
       "      <td>14000</td>\n",
       "      <td>0.061300</td>\n",
       "      <td>0.144557</td>\n",
       "      <td>1.000000</td>\n",
       "    </tr>\n",
       "    <tr>\n",
       "      <td>14500</td>\n",
       "      <td>0.073000</td>\n",
       "      <td>0.136198</td>\n",
       "      <td>1.002681</td>\n",
       "    </tr>\n",
       "    <tr>\n",
       "      <td>15000</td>\n",
       "      <td>0.095700</td>\n",
       "      <td>0.148583</td>\n",
       "      <td>1.002681</td>\n",
       "    </tr>\n",
       "    <tr>\n",
       "      <td>15500</td>\n",
       "      <td>0.061100</td>\n",
       "      <td>0.140995</td>\n",
       "      <td>1.002681</td>\n",
       "    </tr>\n",
       "    <tr>\n",
       "      <td>16000</td>\n",
       "      <td>0.063200</td>\n",
       "      <td>0.140625</td>\n",
       "      <td>1.000000</td>\n",
       "    </tr>\n",
       "    <tr>\n",
       "      <td>16500</td>\n",
       "      <td>0.080500</td>\n",
       "      <td>0.139814</td>\n",
       "      <td>1.000000</td>\n",
       "    </tr>\n",
       "  </tbody>\n",
       "</table><p>"
      ],
      "text/plain": [
       "<IPython.core.display.HTML object>"
      ]
     },
     "metadata": {},
     "output_type": "display_data"
    },
    {
     "name": "stderr",
     "output_type": "stream",
     "text": [
      "c:\\Users\\lkk68\\.conda\\envs\\mycondapy310\\lib\\site-packages\\transformers\\models\\wav2vec2\\processing_wav2vec2.py:155: UserWarning: `as_target_processor` is deprecated and will be removed in v5 of Transformers. You can process your labels by using the argument `text` of the regular `__call__` method (either in the same call as your audio inputs, or in a separate call.\n",
      "  warnings.warn(\n",
      "c:\\Users\\lkk68\\.conda\\envs\\mycondapy310\\lib\\site-packages\\torch\\utils\\checkpoint.py:429: UserWarning: torch.utils.checkpoint: please pass in use_reentrant=True or use_reentrant=False explicitly. The default value of use_reentrant will be updated to be False in the future. To maintain current behavior, pass use_reentrant=True. It is recommended that you use use_reentrant=False. Refer to docs for more details on the differences between the two variants.\n",
      "  warnings.warn(\n",
      "c:\\Users\\lkk68\\.conda\\envs\\mycondapy310\\lib\\site-packages\\transformers\\models\\wav2vec2\\processing_wav2vec2.py:155: UserWarning: `as_target_processor` is deprecated and will be removed in v5 of Transformers. You can process your labels by using the argument `text` of the regular `__call__` method (either in the same call as your audio inputs, or in a separate call.\n",
      "  warnings.warn(\n",
      "c:\\Users\\lkk68\\.conda\\envs\\mycondapy310\\lib\\site-packages\\torch\\utils\\checkpoint.py:429: UserWarning: torch.utils.checkpoint: please pass in use_reentrant=True or use_reentrant=False explicitly. The default value of use_reentrant will be updated to be False in the future. To maintain current behavior, pass use_reentrant=True. It is recommended that you use use_reentrant=False. Refer to docs for more details on the differences between the two variants.\n",
      "  warnings.warn(\n",
      "c:\\Users\\lkk68\\.conda\\envs\\mycondapy310\\lib\\site-packages\\transformers\\models\\wav2vec2\\processing_wav2vec2.py:155: UserWarning: `as_target_processor` is deprecated and will be removed in v5 of Transformers. You can process your labels by using the argument `text` of the regular `__call__` method (either in the same call as your audio inputs, or in a separate call.\n",
      "  warnings.warn(\n",
      "c:\\Users\\lkk68\\.conda\\envs\\mycondapy310\\lib\\site-packages\\torch\\utils\\checkpoint.py:429: UserWarning: torch.utils.checkpoint: please pass in use_reentrant=True or use_reentrant=False explicitly. The default value of use_reentrant will be updated to be False in the future. To maintain current behavior, pass use_reentrant=True. It is recommended that you use use_reentrant=False. Refer to docs for more details on the differences between the two variants.\n",
      "  warnings.warn(\n",
      "c:\\Users\\lkk68\\.conda\\envs\\mycondapy310\\lib\\site-packages\\transformers\\models\\wav2vec2\\processing_wav2vec2.py:155: UserWarning: `as_target_processor` is deprecated and will be removed in v5 of Transformers. You can process your labels by using the argument `text` of the regular `__call__` method (either in the same call as your audio inputs, or in a separate call.\n",
      "  warnings.warn(\n",
      "c:\\Users\\lkk68\\.conda\\envs\\mycondapy310\\lib\\site-packages\\torch\\utils\\checkpoint.py:429: UserWarning: torch.utils.checkpoint: please pass in use_reentrant=True or use_reentrant=False explicitly. The default value of use_reentrant will be updated to be False in the future. To maintain current behavior, pass use_reentrant=True. It is recommended that you use use_reentrant=False. Refer to docs for more details on the differences between the two variants.\n",
      "  warnings.warn(\n",
      "c:\\Users\\lkk68\\.conda\\envs\\mycondapy310\\lib\\site-packages\\transformers\\models\\wav2vec2\\processing_wav2vec2.py:155: UserWarning: `as_target_processor` is deprecated and will be removed in v5 of Transformers. You can process your labels by using the argument `text` of the regular `__call__` method (either in the same call as your audio inputs, or in a separate call.\n",
      "  warnings.warn(\n",
      "c:\\Users\\lkk68\\.conda\\envs\\mycondapy310\\lib\\site-packages\\torch\\utils\\checkpoint.py:429: UserWarning: torch.utils.checkpoint: please pass in use_reentrant=True or use_reentrant=False explicitly. The default value of use_reentrant will be updated to be False in the future. To maintain current behavior, pass use_reentrant=True. It is recommended that you use use_reentrant=False. Refer to docs for more details on the differences between the two variants.\n",
      "  warnings.warn(\n",
      "c:\\Users\\lkk68\\.conda\\envs\\mycondapy310\\lib\\site-packages\\transformers\\models\\wav2vec2\\processing_wav2vec2.py:155: UserWarning: `as_target_processor` is deprecated and will be removed in v5 of Transformers. You can process your labels by using the argument `text` of the regular `__call__` method (either in the same call as your audio inputs, or in a separate call.\n",
      "  warnings.warn(\n",
      "c:\\Users\\lkk68\\.conda\\envs\\mycondapy310\\lib\\site-packages\\torch\\utils\\checkpoint.py:429: UserWarning: torch.utils.checkpoint: please pass in use_reentrant=True or use_reentrant=False explicitly. The default value of use_reentrant will be updated to be False in the future. To maintain current behavior, pass use_reentrant=True. It is recommended that you use use_reentrant=False. Refer to docs for more details on the differences between the two variants.\n",
      "  warnings.warn(\n",
      "c:\\Users\\lkk68\\.conda\\envs\\mycondapy310\\lib\\site-packages\\transformers\\models\\wav2vec2\\processing_wav2vec2.py:155: UserWarning: `as_target_processor` is deprecated and will be removed in v5 of Transformers. You can process your labels by using the argument `text` of the regular `__call__` method (either in the same call as your audio inputs, or in a separate call.\n",
      "  warnings.warn(\n",
      "c:\\Users\\lkk68\\.conda\\envs\\mycondapy310\\lib\\site-packages\\torch\\utils\\checkpoint.py:429: UserWarning: torch.utils.checkpoint: please pass in use_reentrant=True or use_reentrant=False explicitly. The default value of use_reentrant will be updated to be False in the future. To maintain current behavior, pass use_reentrant=True. It is recommended that you use use_reentrant=False. Refer to docs for more details on the differences between the two variants.\n",
      "  warnings.warn(\n",
      "c:\\Users\\lkk68\\.conda\\envs\\mycondapy310\\lib\\site-packages\\transformers\\models\\wav2vec2\\processing_wav2vec2.py:155: UserWarning: `as_target_processor` is deprecated and will be removed in v5 of Transformers. You can process your labels by using the argument `text` of the regular `__call__` method (either in the same call as your audio inputs, or in a separate call.\n",
      "  warnings.warn(\n",
      "c:\\Users\\lkk68\\.conda\\envs\\mycondapy310\\lib\\site-packages\\torch\\utils\\checkpoint.py:429: UserWarning: torch.utils.checkpoint: please pass in use_reentrant=True or use_reentrant=False explicitly. The default value of use_reentrant will be updated to be False in the future. To maintain current behavior, pass use_reentrant=True. It is recommended that you use use_reentrant=False. Refer to docs for more details on the differences between the two variants.\n",
      "  warnings.warn(\n",
      "c:\\Users\\lkk68\\.conda\\envs\\mycondapy310\\lib\\site-packages\\transformers\\models\\wav2vec2\\processing_wav2vec2.py:155: UserWarning: `as_target_processor` is deprecated and will be removed in v5 of Transformers. You can process your labels by using the argument `text` of the regular `__call__` method (either in the same call as your audio inputs, or in a separate call.\n",
      "  warnings.warn(\n",
      "c:\\Users\\lkk68\\.conda\\envs\\mycondapy310\\lib\\site-packages\\torch\\utils\\checkpoint.py:429: UserWarning: torch.utils.checkpoint: please pass in use_reentrant=True or use_reentrant=False explicitly. The default value of use_reentrant will be updated to be False in the future. To maintain current behavior, pass use_reentrant=True. It is recommended that you use use_reentrant=False. Refer to docs for more details on the differences between the two variants.\n",
      "  warnings.warn(\n",
      "c:\\Users\\lkk68\\.conda\\envs\\mycondapy310\\lib\\site-packages\\transformers\\models\\wav2vec2\\processing_wav2vec2.py:155: UserWarning: `as_target_processor` is deprecated and will be removed in v5 of Transformers. You can process your labels by using the argument `text` of the regular `__call__` method (either in the same call as your audio inputs, or in a separate call.\n",
      "  warnings.warn(\n",
      "c:\\Users\\lkk68\\.conda\\envs\\mycondapy310\\lib\\site-packages\\torch\\utils\\checkpoint.py:429: UserWarning: torch.utils.checkpoint: please pass in use_reentrant=True or use_reentrant=False explicitly. The default value of use_reentrant will be updated to be False in the future. To maintain current behavior, pass use_reentrant=True. It is recommended that you use use_reentrant=False. Refer to docs for more details on the differences between the two variants.\n",
      "  warnings.warn(\n",
      "c:\\Users\\lkk68\\.conda\\envs\\mycondapy310\\lib\\site-packages\\transformers\\models\\wav2vec2\\processing_wav2vec2.py:155: UserWarning: `as_target_processor` is deprecated and will be removed in v5 of Transformers. You can process your labels by using the argument `text` of the regular `__call__` method (either in the same call as your audio inputs, or in a separate call.\n",
      "  warnings.warn(\n",
      "c:\\Users\\lkk68\\.conda\\envs\\mycondapy310\\lib\\site-packages\\torch\\utils\\checkpoint.py:429: UserWarning: torch.utils.checkpoint: please pass in use_reentrant=True or use_reentrant=False explicitly. The default value of use_reentrant will be updated to be False in the future. To maintain current behavior, pass use_reentrant=True. It is recommended that you use use_reentrant=False. Refer to docs for more details on the differences between the two variants.\n",
      "  warnings.warn(\n",
      "c:\\Users\\lkk68\\.conda\\envs\\mycondapy310\\lib\\site-packages\\transformers\\models\\wav2vec2\\processing_wav2vec2.py:155: UserWarning: `as_target_processor` is deprecated and will be removed in v5 of Transformers. You can process your labels by using the argument `text` of the regular `__call__` method (either in the same call as your audio inputs, or in a separate call.\n",
      "  warnings.warn(\n",
      "c:\\Users\\lkk68\\.conda\\envs\\mycondapy310\\lib\\site-packages\\torch\\utils\\checkpoint.py:429: UserWarning: torch.utils.checkpoint: please pass in use_reentrant=True or use_reentrant=False explicitly. The default value of use_reentrant will be updated to be False in the future. To maintain current behavior, pass use_reentrant=True. It is recommended that you use use_reentrant=False. Refer to docs for more details on the differences between the two variants.\n",
      "  warnings.warn(\n",
      "c:\\Users\\lkk68\\.conda\\envs\\mycondapy310\\lib\\site-packages\\transformers\\models\\wav2vec2\\processing_wav2vec2.py:155: UserWarning: `as_target_processor` is deprecated and will be removed in v5 of Transformers. You can process your labels by using the argument `text` of the regular `__call__` method (either in the same call as your audio inputs, or in a separate call.\n",
      "  warnings.warn(\n",
      "c:\\Users\\lkk68\\.conda\\envs\\mycondapy310\\lib\\site-packages\\torch\\utils\\checkpoint.py:429: UserWarning: torch.utils.checkpoint: please pass in use_reentrant=True or use_reentrant=False explicitly. The default value of use_reentrant will be updated to be False in the future. To maintain current behavior, pass use_reentrant=True. It is recommended that you use use_reentrant=False. Refer to docs for more details on the differences between the two variants.\n",
      "  warnings.warn(\n",
      "c:\\Users\\lkk68\\.conda\\envs\\mycondapy310\\lib\\site-packages\\transformers\\models\\wav2vec2\\processing_wav2vec2.py:155: UserWarning: `as_target_processor` is deprecated and will be removed in v5 of Transformers. You can process your labels by using the argument `text` of the regular `__call__` method (either in the same call as your audio inputs, or in a separate call.\n",
      "  warnings.warn(\n",
      "c:\\Users\\lkk68\\.conda\\envs\\mycondapy310\\lib\\site-packages\\torch\\utils\\checkpoint.py:429: UserWarning: torch.utils.checkpoint: please pass in use_reentrant=True or use_reentrant=False explicitly. The default value of use_reentrant will be updated to be False in the future. To maintain current behavior, pass use_reentrant=True. It is recommended that you use use_reentrant=False. Refer to docs for more details on the differences between the two variants.\n",
      "  warnings.warn(\n",
      "c:\\Users\\lkk68\\.conda\\envs\\mycondapy310\\lib\\site-packages\\transformers\\models\\wav2vec2\\processing_wav2vec2.py:155: UserWarning: `as_target_processor` is deprecated and will be removed in v5 of Transformers. You can process your labels by using the argument `text` of the regular `__call__` method (either in the same call as your audio inputs, or in a separate call.\n",
      "  warnings.warn(\n",
      "c:\\Users\\lkk68\\.conda\\envs\\mycondapy310\\lib\\site-packages\\torch\\utils\\checkpoint.py:429: UserWarning: torch.utils.checkpoint: please pass in use_reentrant=True or use_reentrant=False explicitly. The default value of use_reentrant will be updated to be False in the future. To maintain current behavior, pass use_reentrant=True. It is recommended that you use use_reentrant=False. Refer to docs for more details on the differences between the two variants.\n",
      "  warnings.warn(\n",
      "c:\\Users\\lkk68\\.conda\\envs\\mycondapy310\\lib\\site-packages\\transformers\\models\\wav2vec2\\processing_wav2vec2.py:155: UserWarning: `as_target_processor` is deprecated and will be removed in v5 of Transformers. You can process your labels by using the argument `text` of the regular `__call__` method (either in the same call as your audio inputs, or in a separate call.\n",
      "  warnings.warn(\n",
      "c:\\Users\\lkk68\\.conda\\envs\\mycondapy310\\lib\\site-packages\\torch\\utils\\checkpoint.py:429: UserWarning: torch.utils.checkpoint: please pass in use_reentrant=True or use_reentrant=False explicitly. The default value of use_reentrant will be updated to be False in the future. To maintain current behavior, pass use_reentrant=True. It is recommended that you use use_reentrant=False. Refer to docs for more details on the differences between the two variants.\n",
      "  warnings.warn(\n",
      "c:\\Users\\lkk68\\.conda\\envs\\mycondapy310\\lib\\site-packages\\transformers\\models\\wav2vec2\\processing_wav2vec2.py:155: UserWarning: `as_target_processor` is deprecated and will be removed in v5 of Transformers. You can process your labels by using the argument `text` of the regular `__call__` method (either in the same call as your audio inputs, or in a separate call.\n",
      "  warnings.warn(\n",
      "c:\\Users\\lkk68\\.conda\\envs\\mycondapy310\\lib\\site-packages\\torch\\utils\\checkpoint.py:429: UserWarning: torch.utils.checkpoint: please pass in use_reentrant=True or use_reentrant=False explicitly. The default value of use_reentrant will be updated to be False in the future. To maintain current behavior, pass use_reentrant=True. It is recommended that you use use_reentrant=False. Refer to docs for more details on the differences between the two variants.\n",
      "  warnings.warn(\n",
      "c:\\Users\\lkk68\\.conda\\envs\\mycondapy310\\lib\\site-packages\\transformers\\models\\wav2vec2\\processing_wav2vec2.py:155: UserWarning: `as_target_processor` is deprecated and will be removed in v5 of Transformers. You can process your labels by using the argument `text` of the regular `__call__` method (either in the same call as your audio inputs, or in a separate call.\n",
      "  warnings.warn(\n",
      "c:\\Users\\lkk68\\.conda\\envs\\mycondapy310\\lib\\site-packages\\torch\\utils\\checkpoint.py:429: UserWarning: torch.utils.checkpoint: please pass in use_reentrant=True or use_reentrant=False explicitly. The default value of use_reentrant will be updated to be False in the future. To maintain current behavior, pass use_reentrant=True. It is recommended that you use use_reentrant=False. Refer to docs for more details on the differences between the two variants.\n",
      "  warnings.warn(\n",
      "c:\\Users\\lkk68\\.conda\\envs\\mycondapy310\\lib\\site-packages\\transformers\\models\\wav2vec2\\processing_wav2vec2.py:155: UserWarning: `as_target_processor` is deprecated and will be removed in v5 of Transformers. You can process your labels by using the argument `text` of the regular `__call__` method (either in the same call as your audio inputs, or in a separate call.\n",
      "  warnings.warn(\n",
      "c:\\Users\\lkk68\\.conda\\envs\\mycondapy310\\lib\\site-packages\\torch\\utils\\checkpoint.py:429: UserWarning: torch.utils.checkpoint: please pass in use_reentrant=True or use_reentrant=False explicitly. The default value of use_reentrant will be updated to be False in the future. To maintain current behavior, pass use_reentrant=True. It is recommended that you use use_reentrant=False. Refer to docs for more details on the differences between the two variants.\n",
      "  warnings.warn(\n",
      "c:\\Users\\lkk68\\.conda\\envs\\mycondapy310\\lib\\site-packages\\transformers\\models\\wav2vec2\\processing_wav2vec2.py:155: UserWarning: `as_target_processor` is deprecated and will be removed in v5 of Transformers. You can process your labels by using the argument `text` of the regular `__call__` method (either in the same call as your audio inputs, or in a separate call.\n",
      "  warnings.warn(\n",
      "c:\\Users\\lkk68\\.conda\\envs\\mycondapy310\\lib\\site-packages\\torch\\utils\\checkpoint.py:429: UserWarning: torch.utils.checkpoint: please pass in use_reentrant=True or use_reentrant=False explicitly. The default value of use_reentrant will be updated to be False in the future. To maintain current behavior, pass use_reentrant=True. It is recommended that you use use_reentrant=False. Refer to docs for more details on the differences between the two variants.\n",
      "  warnings.warn(\n",
      "c:\\Users\\lkk68\\.conda\\envs\\mycondapy310\\lib\\site-packages\\transformers\\models\\wav2vec2\\processing_wav2vec2.py:155: UserWarning: `as_target_processor` is deprecated and will be removed in v5 of Transformers. You can process your labels by using the argument `text` of the regular `__call__` method (either in the same call as your audio inputs, or in a separate call.\n",
      "  warnings.warn(\n",
      "c:\\Users\\lkk68\\.conda\\envs\\mycondapy310\\lib\\site-packages\\torch\\utils\\checkpoint.py:429: UserWarning: torch.utils.checkpoint: please pass in use_reentrant=True or use_reentrant=False explicitly. The default value of use_reentrant will be updated to be False in the future. To maintain current behavior, pass use_reentrant=True. It is recommended that you use use_reentrant=False. Refer to docs for more details on the differences between the two variants.\n",
      "  warnings.warn(\n",
      "c:\\Users\\lkk68\\.conda\\envs\\mycondapy310\\lib\\site-packages\\transformers\\models\\wav2vec2\\processing_wav2vec2.py:155: UserWarning: `as_target_processor` is deprecated and will be removed in v5 of Transformers. You can process your labels by using the argument `text` of the regular `__call__` method (either in the same call as your audio inputs, or in a separate call.\n",
      "  warnings.warn(\n",
      "c:\\Users\\lkk68\\.conda\\envs\\mycondapy310\\lib\\site-packages\\torch\\utils\\checkpoint.py:429: UserWarning: torch.utils.checkpoint: please pass in use_reentrant=True or use_reentrant=False explicitly. The default value of use_reentrant will be updated to be False in the future. To maintain current behavior, pass use_reentrant=True. It is recommended that you use use_reentrant=False. Refer to docs for more details on the differences between the two variants.\n",
      "  warnings.warn(\n",
      "c:\\Users\\lkk68\\.conda\\envs\\mycondapy310\\lib\\site-packages\\transformers\\models\\wav2vec2\\processing_wav2vec2.py:155: UserWarning: `as_target_processor` is deprecated and will be removed in v5 of Transformers. You can process your labels by using the argument `text` of the regular `__call__` method (either in the same call as your audio inputs, or in a separate call.\n",
      "  warnings.warn(\n",
      "c:\\Users\\lkk68\\.conda\\envs\\mycondapy310\\lib\\site-packages\\torch\\utils\\checkpoint.py:429: UserWarning: torch.utils.checkpoint: please pass in use_reentrant=True or use_reentrant=False explicitly. The default value of use_reentrant will be updated to be False in the future. To maintain current behavior, pass use_reentrant=True. It is recommended that you use use_reentrant=False. Refer to docs for more details on the differences between the two variants.\n",
      "  warnings.warn(\n",
      "c:\\Users\\lkk68\\.conda\\envs\\mycondapy310\\lib\\site-packages\\transformers\\models\\wav2vec2\\processing_wav2vec2.py:155: UserWarning: `as_target_processor` is deprecated and will be removed in v5 of Transformers. You can process your labels by using the argument `text` of the regular `__call__` method (either in the same call as your audio inputs, or in a separate call.\n",
      "  warnings.warn(\n",
      "c:\\Users\\lkk68\\.conda\\envs\\mycondapy310\\lib\\site-packages\\torch\\utils\\checkpoint.py:429: UserWarning: torch.utils.checkpoint: please pass in use_reentrant=True or use_reentrant=False explicitly. The default value of use_reentrant will be updated to be False in the future. To maintain current behavior, pass use_reentrant=True. It is recommended that you use use_reentrant=False. Refer to docs for more details on the differences between the two variants.\n",
      "  warnings.warn(\n",
      "c:\\Users\\lkk68\\.conda\\envs\\mycondapy310\\lib\\site-packages\\transformers\\models\\wav2vec2\\processing_wav2vec2.py:155: UserWarning: `as_target_processor` is deprecated and will be removed in v5 of Transformers. You can process your labels by using the argument `text` of the regular `__call__` method (either in the same call as your audio inputs, or in a separate call.\n",
      "  warnings.warn(\n",
      "c:\\Users\\lkk68\\.conda\\envs\\mycondapy310\\lib\\site-packages\\torch\\utils\\checkpoint.py:429: UserWarning: torch.utils.checkpoint: please pass in use_reentrant=True or use_reentrant=False explicitly. The default value of use_reentrant will be updated to be False in the future. To maintain current behavior, pass use_reentrant=True. It is recommended that you use use_reentrant=False. Refer to docs for more details on the differences between the two variants.\n",
      "  warnings.warn(\n",
      "c:\\Users\\lkk68\\.conda\\envs\\mycondapy310\\lib\\site-packages\\transformers\\models\\wav2vec2\\processing_wav2vec2.py:155: UserWarning: `as_target_processor` is deprecated and will be removed in v5 of Transformers. You can process your labels by using the argument `text` of the regular `__call__` method (either in the same call as your audio inputs, or in a separate call.\n",
      "  warnings.warn(\n",
      "c:\\Users\\lkk68\\.conda\\envs\\mycondapy310\\lib\\site-packages\\torch\\utils\\checkpoint.py:429: UserWarning: torch.utils.checkpoint: please pass in use_reentrant=True or use_reentrant=False explicitly. The default value of use_reentrant will be updated to be False in the future. To maintain current behavior, pass use_reentrant=True. It is recommended that you use use_reentrant=False. Refer to docs for more details on the differences between the two variants.\n",
      "  warnings.warn(\n",
      "c:\\Users\\lkk68\\.conda\\envs\\mycondapy310\\lib\\site-packages\\transformers\\models\\wav2vec2\\processing_wav2vec2.py:155: UserWarning: `as_target_processor` is deprecated and will be removed in v5 of Transformers. You can process your labels by using the argument `text` of the regular `__call__` method (either in the same call as your audio inputs, or in a separate call.\n",
      "  warnings.warn(\n",
      "c:\\Users\\lkk68\\.conda\\envs\\mycondapy310\\lib\\site-packages\\torch\\utils\\checkpoint.py:429: UserWarning: torch.utils.checkpoint: please pass in use_reentrant=True or use_reentrant=False explicitly. The default value of use_reentrant will be updated to be False in the future. To maintain current behavior, pass use_reentrant=True. It is recommended that you use use_reentrant=False. Refer to docs for more details on the differences between the two variants.\n",
      "  warnings.warn(\n",
      "c:\\Users\\lkk68\\.conda\\envs\\mycondapy310\\lib\\site-packages\\transformers\\models\\wav2vec2\\processing_wav2vec2.py:155: UserWarning: `as_target_processor` is deprecated and will be removed in v5 of Transformers. You can process your labels by using the argument `text` of the regular `__call__` method (either in the same call as your audio inputs, or in a separate call.\n",
      "  warnings.warn(\n",
      "c:\\Users\\lkk68\\.conda\\envs\\mycondapy310\\lib\\site-packages\\torch\\utils\\checkpoint.py:429: UserWarning: torch.utils.checkpoint: please pass in use_reentrant=True or use_reentrant=False explicitly. The default value of use_reentrant will be updated to be False in the future. To maintain current behavior, pass use_reentrant=True. It is recommended that you use use_reentrant=False. Refer to docs for more details on the differences between the two variants.\n",
      "  warnings.warn(\n",
      "c:\\Users\\lkk68\\.conda\\envs\\mycondapy310\\lib\\site-packages\\transformers\\models\\wav2vec2\\processing_wav2vec2.py:155: UserWarning: `as_target_processor` is deprecated and will be removed in v5 of Transformers. You can process your labels by using the argument `text` of the regular `__call__` method (either in the same call as your audio inputs, or in a separate call.\n",
      "  warnings.warn(\n",
      "c:\\Users\\lkk68\\.conda\\envs\\mycondapy310\\lib\\site-packages\\torch\\utils\\checkpoint.py:429: UserWarning: torch.utils.checkpoint: please pass in use_reentrant=True or use_reentrant=False explicitly. The default value of use_reentrant will be updated to be False in the future. To maintain current behavior, pass use_reentrant=True. It is recommended that you use use_reentrant=False. Refer to docs for more details on the differences between the two variants.\n",
      "  warnings.warn(\n",
      "c:\\Users\\lkk68\\.conda\\envs\\mycondapy310\\lib\\site-packages\\transformers\\models\\wav2vec2\\processing_wav2vec2.py:155: UserWarning: `as_target_processor` is deprecated and will be removed in v5 of Transformers. You can process your labels by using the argument `text` of the regular `__call__` method (either in the same call as your audio inputs, or in a separate call.\n",
      "  warnings.warn(\n",
      "c:\\Users\\lkk68\\.conda\\envs\\mycondapy310\\lib\\site-packages\\torch\\utils\\checkpoint.py:429: UserWarning: torch.utils.checkpoint: please pass in use_reentrant=True or use_reentrant=False explicitly. The default value of use_reentrant will be updated to be False in the future. To maintain current behavior, pass use_reentrant=True. It is recommended that you use use_reentrant=False. Refer to docs for more details on the differences between the two variants.\n",
      "  warnings.warn(\n",
      "c:\\Users\\lkk68\\.conda\\envs\\mycondapy310\\lib\\site-packages\\transformers\\models\\wav2vec2\\processing_wav2vec2.py:155: UserWarning: `as_target_processor` is deprecated and will be removed in v5 of Transformers. You can process your labels by using the argument `text` of the regular `__call__` method (either in the same call as your audio inputs, or in a separate call.\n",
      "  warnings.warn(\n",
      "c:\\Users\\lkk68\\.conda\\envs\\mycondapy310\\lib\\site-packages\\torch\\utils\\checkpoint.py:429: UserWarning: torch.utils.checkpoint: please pass in use_reentrant=True or use_reentrant=False explicitly. The default value of use_reentrant will be updated to be False in the future. To maintain current behavior, pass use_reentrant=True. It is recommended that you use use_reentrant=False. Refer to docs for more details on the differences between the two variants.\n",
      "  warnings.warn(\n",
      "c:\\Users\\lkk68\\.conda\\envs\\mycondapy310\\lib\\site-packages\\transformers\\models\\wav2vec2\\processing_wav2vec2.py:155: UserWarning: `as_target_processor` is deprecated and will be removed in v5 of Transformers. You can process your labels by using the argument `text` of the regular `__call__` method (either in the same call as your audio inputs, or in a separate call.\n",
      "  warnings.warn(\n",
      "c:\\Users\\lkk68\\.conda\\envs\\mycondapy310\\lib\\site-packages\\torch\\utils\\checkpoint.py:429: UserWarning: torch.utils.checkpoint: please pass in use_reentrant=True or use_reentrant=False explicitly. The default value of use_reentrant will be updated to be False in the future. To maintain current behavior, pass use_reentrant=True. It is recommended that you use use_reentrant=False. Refer to docs for more details on the differences between the two variants.\n",
      "  warnings.warn(\n",
      "c:\\Users\\lkk68\\.conda\\envs\\mycondapy310\\lib\\site-packages\\transformers\\models\\wav2vec2\\processing_wav2vec2.py:155: UserWarning: `as_target_processor` is deprecated and will be removed in v5 of Transformers. You can process your labels by using the argument `text` of the regular `__call__` method (either in the same call as your audio inputs, or in a separate call.\n",
      "  warnings.warn(\n",
      "c:\\Users\\lkk68\\.conda\\envs\\mycondapy310\\lib\\site-packages\\torch\\utils\\checkpoint.py:429: UserWarning: torch.utils.checkpoint: please pass in use_reentrant=True or use_reentrant=False explicitly. The default value of use_reentrant will be updated to be False in the future. To maintain current behavior, pass use_reentrant=True. It is recommended that you use use_reentrant=False. Refer to docs for more details on the differences between the two variants.\n",
      "  warnings.warn(\n"
     ]
    },
    {
     "data": {
      "text/plain": [
       "TrainOutput(global_step=16710, training_loss=0.40843746258354985, metrics={'train_runtime': 6756.8041, 'train_samples_per_second': 19.78, 'train_steps_per_second': 2.473, 'total_flos': 3.6870105087521736e+18, 'train_loss': 0.40843746258354985, 'epoch': 30.0})"
      ]
     },
     "execution_count": 277,
     "metadata": {},
     "output_type": "execute_result"
    },
    {
     "ename": "",
     "evalue": "",
     "output_type": "error",
     "traceback": [
      "\u001b[1;31mThe Kernel crashed while executing code in the the current cell or a previous cell. Please review the code in the cell(s) to identify a possible cause of the failure. Click <a href='https://aka.ms/vscodeJupyterKernelCrash'>here</a> for more info. View Jupyter <a href='command:jupyter.viewOutput'>log</a> for further details."
     ]
    }
   ],
   "source": [
    "trainer.train()"
   ]
  },
  {
   "cell_type": "markdown",
   "metadata": {},
   "source": [
    "trainer.push_to_hub()"
   ]
  },
  {
   "cell_type": "markdown",
   "metadata": {},
   "source": [
    "## Evaluate"
   ]
  },
  {
   "cell_type": "code",
   "execution_count": 64,
   "metadata": {},
   "outputs": [
    {
     "data": {
      "text/plain": [
       "Dataset({\n",
       "    features: ['file', 'audio', 'text'],\n",
       "    num_rows: 46\n",
       "})"
      ]
     },
     "execution_count": 64,
     "metadata": {},
     "output_type": "execute_result"
    }
   ],
   "source": [
    "raw_datasets[\"test\"]"
   ]
  },
  {
   "cell_type": "code",
   "execution_count": 65,
   "metadata": {},
   "outputs": [],
   "source": [
    "#facebook/wav2vec2-large-lv60\n",
    "from transformers import AutoProcessor, Wav2Vec2ForCTC\n",
    "from datasets import load_dataset\n",
    "import torch\n",
    "\n",
    "sampling_rate = raw_datasets[\"test\"].features[\"audio\"].sampling_rate"
   ]
  },
  {
   "cell_type": "code",
   "execution_count": 66,
   "metadata": {},
   "outputs": [
    {
     "data": {
      "text/plain": [
       "16000"
      ]
     },
     "execution_count": 66,
     "metadata": {},
     "output_type": "execute_result"
    }
   ],
   "source": [
    "sampling_rate"
   ]
  },
  {
   "cell_type": "code",
   "execution_count": 67,
   "metadata": {},
   "outputs": [
    {
     "name": "stderr",
     "output_type": "stream",
     "text": [
      "Some weights of the model checkpoint at facebook/wav2vec2-base-960h were not used when initializing Wav2Vec2ForCTC: ['wav2vec2.encoder.pos_conv_embed.conv.weight_g', 'wav2vec2.encoder.pos_conv_embed.conv.weight_v']\n",
      "- This IS expected if you are initializing Wav2Vec2ForCTC from the checkpoint of a model trained on another task or with another architecture (e.g. initializing a BertForSequenceClassification model from a BertForPreTraining model).\n",
      "- This IS NOT expected if you are initializing Wav2Vec2ForCTC from the checkpoint of a model that you expect to be exactly identical (initializing a BertForSequenceClassification model from a BertForSequenceClassification model).\n",
      "Some weights of Wav2Vec2ForCTC were not initialized from the model checkpoint at facebook/wav2vec2-base-960h and are newly initialized: ['wav2vec2.masked_spec_embed', 'wav2vec2.encoder.pos_conv_embed.conv.parametrizations.weight.original1', 'wav2vec2.encoder.pos_conv_embed.conv.parametrizations.weight.original0']\n",
      "You should probably TRAIN this model on a down-stream task to be able to use it for predictions and inference.\n"
     ]
    }
   ],
   "source": [
    "eval_processor = AutoProcessor.from_pretrained(\"facebook/wav2vec2-base-960h\")\n",
    "eval_model = Wav2Vec2ForCTC.from_pretrained(\"facebook/wav2vec2-base-960h\")\n"
   ]
  },
  {
   "cell_type": "code",
   "execution_count": 69,
   "metadata": {},
   "outputs": [
    {
     "data": {
      "text/plain": [
       "{'file': 'D:\\\\GitHub\\\\datasets\\\\timit\\\\TIMIT\\\\train\\\\DR1\\\\FCJF0\\\\SA1.WAV',\n",
       " 'audio': {'path': 'D:\\\\GitHub\\\\datasets\\\\timit\\\\TIMIT\\\\train\\\\DR1\\\\FCJF0\\\\SA1.WAV',\n",
       "  'array': array([ 3.05175781e-05, -3.05175781e-05,  6.10351562e-05, ...,\n",
       "         -3.05175781e-05, -1.52587891e-04, -2.44140625e-04]),\n",
       "  'sampling_rate': 16000},\n",
       " 'text': 'She had your dark suit in greasy wash water all year.',\n",
       " 'phonetic_detail': {'start': [0,\n",
       "   3050,\n",
       "   4559,\n",
       "   5723,\n",
       "   6642,\n",
       "   8772,\n",
       "   9190,\n",
       "   10337,\n",
       "   11517,\n",
       "   12500,\n",
       "   12640,\n",
       "   14714,\n",
       "   15870,\n",
       "   16334,\n",
       "   18088,\n",
       "   20417,\n",
       "   21199,\n",
       "   22560,\n",
       "   22920,\n",
       "   23271,\n",
       "   24229,\n",
       "   25566,\n",
       "   27156,\n",
       "   28064,\n",
       "   29660,\n",
       "   31719,\n",
       "   33360,\n",
       "   33754,\n",
       "   34715,\n",
       "   36080,\n",
       "   36326,\n",
       "   37556,\n",
       "   39561,\n",
       "   40313,\n",
       "   42059,\n",
       "   43479,\n",
       "   44586],\n",
       "  'stop': [3050,\n",
       "   4559,\n",
       "   5723,\n",
       "   6642,\n",
       "   8772,\n",
       "   9190,\n",
       "   10337,\n",
       "   11517,\n",
       "   12500,\n",
       "   12640,\n",
       "   14714,\n",
       "   15870,\n",
       "   16334,\n",
       "   18088,\n",
       "   20417,\n",
       "   21199,\n",
       "   22560,\n",
       "   22920,\n",
       "   23271,\n",
       "   24229,\n",
       "   25566,\n",
       "   27156,\n",
       "   28064,\n",
       "   29660,\n",
       "   31719,\n",
       "   33360,\n",
       "   33754,\n",
       "   34715,\n",
       "   36080,\n",
       "   36326,\n",
       "   37556,\n",
       "   39561,\n",
       "   40313,\n",
       "   42059,\n",
       "   43479,\n",
       "   44586,\n",
       "   46720],\n",
       "  'utterance': ['h#',\n",
       "   'sh',\n",
       "   'ix',\n",
       "   'hv',\n",
       "   'eh',\n",
       "   'dcl',\n",
       "   'jh',\n",
       "   'ih',\n",
       "   'dcl',\n",
       "   'd',\n",
       "   'ah',\n",
       "   'kcl',\n",
       "   'k',\n",
       "   's',\n",
       "   'ux',\n",
       "   'q',\n",
       "   'en',\n",
       "   'gcl',\n",
       "   'g',\n",
       "   'r',\n",
       "   'ix',\n",
       "   's',\n",
       "   'ix',\n",
       "   'w',\n",
       "   'ao',\n",
       "   'sh',\n",
       "   'epi',\n",
       "   'w',\n",
       "   'ao',\n",
       "   'dx',\n",
       "   'axr',\n",
       "   'ao',\n",
       "   'l',\n",
       "   'y',\n",
       "   'ih',\n",
       "   'axr',\n",
       "   'h#']},\n",
       " 'word_detail': {'start': [3050,\n",
       "   5723,\n",
       "   9190,\n",
       "   11517,\n",
       "   16334,\n",
       "   21199,\n",
       "   22560,\n",
       "   28064,\n",
       "   33754,\n",
       "   37556,\n",
       "   40313],\n",
       "  'stop': [5723,\n",
       "   10337,\n",
       "   11517,\n",
       "   16334,\n",
       "   21199,\n",
       "   22560,\n",
       "   28064,\n",
       "   33360,\n",
       "   37556,\n",
       "   40313,\n",
       "   44586],\n",
       "  'utterance': ['she',\n",
       "   'had',\n",
       "   'your',\n",
       "   'dark',\n",
       "   'suit',\n",
       "   'in',\n",
       "   'greasy',\n",
       "   'wash',\n",
       "   'water',\n",
       "   'all',\n",
       "   'year']},\n",
       " 'dialect_region': 'DR1',\n",
       " 'sentence_type': 'SA',\n",
       " 'speaker_id': 'CJF0',\n",
       " 'id': 'SA1'}"
      ]
     },
     "execution_count": 69,
     "metadata": {},
     "output_type": "execute_result"
    }
   ],
   "source": [
    "dataset['train'][0]"
   ]
  },
  {
   "cell_type": "code",
   "execution_count": 71,
   "metadata": {},
   "outputs": [],
   "source": [
    "eval_model=eval_model.to('cuda')"
   ]
  },
  {
   "cell_type": "code",
   "execution_count": 72,
   "metadata": {},
   "outputs": [],
   "source": [
    "# audio file is decoded on the fly\n",
    "inputs = eval_processor(dataset[\"test\"][0][\"audio\"][\"array\"], sampling_rate=sampling_rate, return_tensors=\"pt\")\n",
    "inputs=inputs.to('cuda')\n",
    "with torch.no_grad():\n",
    "    logits = eval_model(**inputs).logits\n",
    "predicted_ids = torch.argmax(logits, dim=-1)"
   ]
  },
  {
   "cell_type": "code",
   "execution_count": 73,
   "metadata": {},
   "outputs": [
    {
     "data": {
      "text/plain": [
       "'SHE HAD YOUR DARK SUIT IN GREASY WASHWATER ALL YEAR'"
      ]
     },
     "execution_count": 73,
     "metadata": {},
     "output_type": "execute_result"
    }
   ],
   "source": [
    "pred_str = eval_processor.batch_decode(predicted_ids)[0]\n",
    "pred_str\n",
    "#text = eval_processor.decode(dataset[0][\"text\"], group_tokens=False)"
   ]
  },
  {
   "cell_type": "code",
   "execution_count": 74,
   "metadata": {},
   "outputs": [
    {
     "data": {
      "text/plain": [
       "'She had your dark suit in greasy wash water all year.'"
      ]
     },
     "execution_count": 74,
     "metadata": {},
     "output_type": "execute_result"
    }
   ],
   "source": [
    "dataset[\"test\"][0][\"text\"]"
   ]
  },
  {
   "cell_type": "code",
   "execution_count": 75,
   "metadata": {},
   "outputs": [
    {
     "data": {
      "text/plain": [
       "'SHE HAD YOUR DARK SUIT IN GREASY WASHWATER ALL YEAR'"
      ]
     },
     "execution_count": 75,
     "metadata": {},
     "output_type": "execute_result"
    }
   ],
   "source": [
    "# transcribe speech\n",
    "transcription = eval_processor.batch_decode(predicted_ids)\n",
    "transcription[0]\n"
   ]
  },
  {
   "cell_type": "code",
   "execution_count": 76,
   "metadata": {},
   "outputs": [],
   "source": [
    "inputs[\"labels\"] = eval_processor(text=dataset[\"test\"][0][\"text\"], return_tensors=\"pt\").input_ids"
   ]
  },
  {
   "cell_type": "code",
   "execution_count": 77,
   "metadata": {},
   "outputs": [
    {
     "data": {
      "text/plain": [
       "{'input_values': tensor([[0.0037, 0.0062, 0.0024,  ..., 0.0100, 0.0126, 0.0088]],\n",
       "       device='cuda:0'), 'labels': tensor([[12,  3,  3,  4,  3,  3,  3,  4,  3,  3,  3,  3,  4,  3,  3,  3,  3,  4,\n",
       "          3,  3,  3,  3,  4,  3,  3,  4,  3,  3,  3,  3,  3,  3,  4,  3,  3,  3,\n",
       "          3,  4,  3,  3,  3,  3,  3,  4,  3,  3,  3,  4,  3,  3,  3,  3,  3]])}"
      ]
     },
     "execution_count": 77,
     "metadata": {},
     "output_type": "execute_result"
    }
   ],
   "source": [
    "inputs"
   ]
  },
  {
   "cell_type": "code",
   "execution_count": 78,
   "metadata": {},
   "outputs": [
    {
     "data": {
      "text/plain": [
       "1356.02"
      ]
     },
     "execution_count": 78,
     "metadata": {},
     "output_type": "execute_result"
    }
   ],
   "source": [
    "# compute loss, inputs as labels and input_values\n",
    "loss = eval_model(**inputs).loss\n",
    "round(loss.item(), 2)"
   ]
  },
  {
   "cell_type": "markdown",
   "metadata": {},
   "source": [
    "## Evaluate own trained model"
   ]
  },
  {
   "cell_type": "code",
   "execution_count": 79,
   "metadata": {},
   "outputs": [],
   "source": [
    "mymodel = Wav2Vec2ForCTC.from_pretrained(\".\\output\\wav2vec2-finetune-asr-timit\\checkpoint-16500\")"
   ]
  },
  {
   "cell_type": "code",
   "execution_count": 80,
   "metadata": {},
   "outputs": [],
   "source": [
    "mymodel=mymodel.cuda()"
   ]
  },
  {
   "cell_type": "code",
   "execution_count": 81,
   "metadata": {},
   "outputs": [
    {
     "name": "stderr",
     "output_type": "stream",
     "text": [
      "c:\\Users\\lkk68\\.conda\\envs\\mycondapy310\\lib\\site-packages\\transformers\\models\\wav2vec2\\processing_wav2vec2.py:53: FutureWarning: Loading a tokenizer inside Wav2Vec2Processor from a config that does not include a `tokenizer_class` attribute is deprecated and will be removed in v5. Please add `'tokenizer_class': 'Wav2Vec2CTCTokenizer'` attribute to either your `config.json` or `tokenizer_config.json` file to suppress this warning: \n",
      "  warnings.warn(\n"
     ]
    },
    {
     "ename": "OSError",
     "evalue": "Can't load tokenizer for '.\\output\\wav2vec2-finetune-asr-timit\\checkpoint-16500'. If you were trying to load it from 'https://huggingface.co/models', make sure you don't have a local directory with the same name. Otherwise, make sure '.\\output\\wav2vec2-finetune-asr-timit\\checkpoint-16500' is the correct path to a directory containing all relevant files for a Wav2Vec2CTCTokenizer tokenizer.",
     "output_type": "error",
     "traceback": [
      "\u001b[1;31m---------------------------------------------------------------------------\u001b[0m",
      "\u001b[1;31mOSError\u001b[0m                                   Traceback (most recent call last)",
      "File \u001b[1;32mc:\\Users\\lkk68\\.conda\\envs\\mycondapy310\\lib\\site-packages\\transformers\\models\\wav2vec2\\processing_wav2vec2.py:51\u001b[0m, in \u001b[0;36mWav2Vec2Processor.from_pretrained\u001b[1;34m(cls, pretrained_model_name_or_path, **kwargs)\u001b[0m\n\u001b[0;32m     50\u001b[0m \u001b[38;5;28;01mtry\u001b[39;00m:\n\u001b[1;32m---> 51\u001b[0m     \u001b[38;5;28;01mreturn\u001b[39;00m \u001b[38;5;28msuper\u001b[39m()\u001b[38;5;241m.\u001b[39mfrom_pretrained(pretrained_model_name_or_path, \u001b[38;5;241m*\u001b[39m\u001b[38;5;241m*\u001b[39mkwargs)\n\u001b[0;32m     52\u001b[0m \u001b[38;5;28;01mexcept\u001b[39;00m \u001b[38;5;167;01mOSError\u001b[39;00m:\n",
      "File \u001b[1;32mc:\\Users\\lkk68\\.conda\\envs\\mycondapy310\\lib\\site-packages\\transformers\\processing_utils.py:226\u001b[0m, in \u001b[0;36mProcessorMixin.from_pretrained\u001b[1;34m(cls, pretrained_model_name_or_path, cache_dir, force_download, local_files_only, token, revision, **kwargs)\u001b[0m\n\u001b[0;32m    224\u001b[0m     kwargs[\u001b[38;5;124m\"\u001b[39m\u001b[38;5;124mtoken\u001b[39m\u001b[38;5;124m\"\u001b[39m] \u001b[38;5;241m=\u001b[39m token\n\u001b[1;32m--> 226\u001b[0m args \u001b[38;5;241m=\u001b[39m \u001b[38;5;28mcls\u001b[39m\u001b[38;5;241m.\u001b[39m_get_arguments_from_pretrained(pretrained_model_name_or_path, \u001b[38;5;241m*\u001b[39m\u001b[38;5;241m*\u001b[39mkwargs)\n\u001b[0;32m    227\u001b[0m \u001b[38;5;28;01mreturn\u001b[39;00m \u001b[38;5;28mcls\u001b[39m(\u001b[38;5;241m*\u001b[39margs)\n",
      "File \u001b[1;32mc:\\Users\\lkk68\\.conda\\envs\\mycondapy310\\lib\\site-packages\\transformers\\processing_utils.py:270\u001b[0m, in \u001b[0;36mProcessorMixin._get_arguments_from_pretrained\u001b[1;34m(cls, pretrained_model_name_or_path, **kwargs)\u001b[0m\n\u001b[0;32m    268\u001b[0m         attribute_class \u001b[38;5;241m=\u001b[39m \u001b[38;5;28mgetattr\u001b[39m(transformers_module, class_name)\n\u001b[1;32m--> 270\u001b[0m     args\u001b[38;5;241m.\u001b[39mappend(attribute_class\u001b[38;5;241m.\u001b[39mfrom_pretrained(pretrained_model_name_or_path, \u001b[38;5;241m*\u001b[39m\u001b[38;5;241m*\u001b[39mkwargs))\n\u001b[0;32m    271\u001b[0m \u001b[38;5;28;01mreturn\u001b[39;00m args\n",
      "File \u001b[1;32mc:\\Users\\lkk68\\.conda\\envs\\mycondapy310\\lib\\site-packages\\transformers\\models\\auto\\tokenization_auto.py:748\u001b[0m, in \u001b[0;36mAutoTokenizer.from_pretrained\u001b[1;34m(cls, pretrained_model_name_or_path, *inputs, **kwargs)\u001b[0m\n\u001b[0;32m    747\u001b[0m \u001b[38;5;28;01mif\u001b[39;00m tokenizer_class_py \u001b[38;5;129;01mis\u001b[39;00m \u001b[38;5;129;01mnot\u001b[39;00m \u001b[38;5;28;01mNone\u001b[39;00m:\n\u001b[1;32m--> 748\u001b[0m     \u001b[38;5;28;01mreturn\u001b[39;00m tokenizer_class_py\u001b[38;5;241m.\u001b[39mfrom_pretrained(pretrained_model_name_or_path, \u001b[38;5;241m*\u001b[39minputs, \u001b[38;5;241m*\u001b[39m\u001b[38;5;241m*\u001b[39mkwargs)\n\u001b[0;32m    749\u001b[0m \u001b[38;5;28;01melse\u001b[39;00m:\n",
      "File \u001b[1;32mc:\\Users\\lkk68\\.conda\\envs\\mycondapy310\\lib\\site-packages\\transformers\\tokenization_utils_base.py:1838\u001b[0m, in \u001b[0;36mPreTrainedTokenizerBase.from_pretrained\u001b[1;34m(cls, pretrained_model_name_or_path, cache_dir, force_download, local_files_only, token, revision, *init_inputs, **kwargs)\u001b[0m\n\u001b[0;32m   1837\u001b[0m \u001b[38;5;28;01mif\u001b[39;00m \u001b[38;5;28mall\u001b[39m(full_file_name \u001b[38;5;129;01mis\u001b[39;00m \u001b[38;5;28;01mNone\u001b[39;00m \u001b[38;5;28;01mfor\u001b[39;00m full_file_name \u001b[38;5;129;01min\u001b[39;00m resolved_vocab_files\u001b[38;5;241m.\u001b[39mvalues()):\n\u001b[1;32m-> 1838\u001b[0m     \u001b[38;5;28;01mraise\u001b[39;00m \u001b[38;5;167;01mEnvironmentError\u001b[39;00m(\n\u001b[0;32m   1839\u001b[0m         \u001b[38;5;124mf\u001b[39m\u001b[38;5;124m\"\u001b[39m\u001b[38;5;124mCan\u001b[39m\u001b[38;5;124m'\u001b[39m\u001b[38;5;124mt load tokenizer for \u001b[39m\u001b[38;5;124m'\u001b[39m\u001b[38;5;132;01m{\u001b[39;00mpretrained_model_name_or_path\u001b[38;5;132;01m}\u001b[39;00m\u001b[38;5;124m'\u001b[39m\u001b[38;5;124m. If you were trying to load it from \u001b[39m\u001b[38;5;124m\"\u001b[39m\n\u001b[0;32m   1840\u001b[0m         \u001b[38;5;124m\"\u001b[39m\u001b[38;5;124m'\u001b[39m\u001b[38;5;124mhttps://huggingface.co/models\u001b[39m\u001b[38;5;124m'\u001b[39m\u001b[38;5;124m, make sure you don\u001b[39m\u001b[38;5;124m'\u001b[39m\u001b[38;5;124mt have a local directory with the same name. \u001b[39m\u001b[38;5;124m\"\u001b[39m\n\u001b[0;32m   1841\u001b[0m         \u001b[38;5;124mf\u001b[39m\u001b[38;5;124m\"\u001b[39m\u001b[38;5;124mOtherwise, make sure \u001b[39m\u001b[38;5;124m'\u001b[39m\u001b[38;5;132;01m{\u001b[39;00mpretrained_model_name_or_path\u001b[38;5;132;01m}\u001b[39;00m\u001b[38;5;124m'\u001b[39m\u001b[38;5;124m is the correct path to a directory \u001b[39m\u001b[38;5;124m\"\u001b[39m\n\u001b[0;32m   1842\u001b[0m         \u001b[38;5;124mf\u001b[39m\u001b[38;5;124m\"\u001b[39m\u001b[38;5;124mcontaining all relevant files for a \u001b[39m\u001b[38;5;132;01m{\u001b[39;00m\u001b[38;5;28mcls\u001b[39m\u001b[38;5;241m.\u001b[39m\u001b[38;5;18m__name__\u001b[39m\u001b[38;5;132;01m}\u001b[39;00m\u001b[38;5;124m tokenizer.\u001b[39m\u001b[38;5;124m\"\u001b[39m\n\u001b[0;32m   1843\u001b[0m     )\n\u001b[0;32m   1845\u001b[0m \u001b[38;5;28;01mfor\u001b[39;00m file_id, file_path \u001b[38;5;129;01min\u001b[39;00m vocab_files\u001b[38;5;241m.\u001b[39mitems():\n",
      "\u001b[1;31mOSError\u001b[0m: Can't load tokenizer for '.\\output\\wav2vec2-finetune-asr-timit\\checkpoint-16500'. If you were trying to load it from 'https://huggingface.co/models', make sure you don't have a local directory with the same name. Otherwise, make sure '.\\output\\wav2vec2-finetune-asr-timit\\checkpoint-16500' is the correct path to a directory containing all relevant files for a Wav2Vec2CTCTokenizer tokenizer.",
      "\nDuring handling of the above exception, another exception occurred:\n",
      "\u001b[1;31mOSError\u001b[0m                                   Traceback (most recent call last)",
      "Cell \u001b[1;32mIn[81], line 1\u001b[0m\n\u001b[1;32m----> 1\u001b[0m myprocessor \u001b[38;5;241m=\u001b[39m \u001b[43mWav2Vec2Processor\u001b[49m\u001b[38;5;241;43m.\u001b[39;49m\u001b[43mfrom_pretrained\u001b[49m\u001b[43m(\u001b[49m\u001b[38;5;124;43m\"\u001b[39;49m\u001b[38;5;124;43m.\u001b[39;49m\u001b[38;5;124;43m\\\u001b[39;49m\u001b[38;5;124;43moutput\u001b[39;49m\u001b[38;5;124;43m\\\u001b[39;49m\u001b[38;5;124;43mwav2vec2-finetune-asr-timit\u001b[39;49m\u001b[38;5;124;43m\\\u001b[39;49m\u001b[38;5;124;43mcheckpoint-16500\u001b[39;49m\u001b[38;5;124;43m\"\u001b[39;49m\u001b[43m)\u001b[49m\n",
      "File \u001b[1;32mc:\\Users\\lkk68\\.conda\\envs\\mycondapy310\\lib\\site-packages\\transformers\\models\\wav2vec2\\processing_wav2vec2.py:63\u001b[0m, in \u001b[0;36mWav2Vec2Processor.from_pretrained\u001b[1;34m(cls, pretrained_model_name_or_path, **kwargs)\u001b[0m\n\u001b[0;32m     53\u001b[0m warnings\u001b[38;5;241m.\u001b[39mwarn(\n\u001b[0;32m     54\u001b[0m     \u001b[38;5;124mf\u001b[39m\u001b[38;5;124m\"\u001b[39m\u001b[38;5;124mLoading a tokenizer inside \u001b[39m\u001b[38;5;132;01m{\u001b[39;00m\u001b[38;5;28mcls\u001b[39m\u001b[38;5;241m.\u001b[39m\u001b[38;5;18m__name__\u001b[39m\u001b[38;5;132;01m}\u001b[39;00m\u001b[38;5;124m from a config that does not\u001b[39m\u001b[38;5;124m\"\u001b[39m\n\u001b[0;32m     55\u001b[0m     \u001b[38;5;124m\"\u001b[39m\u001b[38;5;124m include a `tokenizer_class` attribute is deprecated and will be \u001b[39m\u001b[38;5;124m\"\u001b[39m\n\u001b[1;32m   (...)\u001b[0m\n\u001b[0;32m     59\u001b[0m     \u001b[38;5;167;01mFutureWarning\u001b[39;00m,\n\u001b[0;32m     60\u001b[0m )\n\u001b[0;32m     62\u001b[0m feature_extractor \u001b[38;5;241m=\u001b[39m Wav2Vec2FeatureExtractor\u001b[38;5;241m.\u001b[39mfrom_pretrained(pretrained_model_name_or_path, \u001b[38;5;241m*\u001b[39m\u001b[38;5;241m*\u001b[39mkwargs)\n\u001b[1;32m---> 63\u001b[0m tokenizer \u001b[38;5;241m=\u001b[39m Wav2Vec2CTCTokenizer\u001b[38;5;241m.\u001b[39mfrom_pretrained(pretrained_model_name_or_path, \u001b[38;5;241m*\u001b[39m\u001b[38;5;241m*\u001b[39mkwargs)\n\u001b[0;32m     65\u001b[0m \u001b[38;5;28;01mreturn\u001b[39;00m \u001b[38;5;28mcls\u001b[39m(feature_extractor\u001b[38;5;241m=\u001b[39mfeature_extractor, tokenizer\u001b[38;5;241m=\u001b[39mtokenizer)\n",
      "File \u001b[1;32mc:\\Users\\lkk68\\.conda\\envs\\mycondapy310\\lib\\site-packages\\transformers\\tokenization_utils_base.py:1838\u001b[0m, in \u001b[0;36mPreTrainedTokenizerBase.from_pretrained\u001b[1;34m(cls, pretrained_model_name_or_path, cache_dir, force_download, local_files_only, token, revision, *init_inputs, **kwargs)\u001b[0m\n\u001b[0;32m   1832\u001b[0m     logger\u001b[38;5;241m.\u001b[39minfo(\n\u001b[0;32m   1833\u001b[0m         \u001b[38;5;124mf\u001b[39m\u001b[38;5;124m\"\u001b[39m\u001b[38;5;124mCan\u001b[39m\u001b[38;5;124m'\u001b[39m\u001b[38;5;124mt load following files from cache: \u001b[39m\u001b[38;5;132;01m{\u001b[39;00munresolved_files\u001b[38;5;132;01m}\u001b[39;00m\u001b[38;5;124m and cannot check if these \u001b[39m\u001b[38;5;124m\"\u001b[39m\n\u001b[0;32m   1834\u001b[0m         \u001b[38;5;124m\"\u001b[39m\u001b[38;5;124mfiles are necessary for the tokenizer to operate.\u001b[39m\u001b[38;5;124m\"\u001b[39m\n\u001b[0;32m   1835\u001b[0m     )\n\u001b[0;32m   1837\u001b[0m \u001b[38;5;28;01mif\u001b[39;00m \u001b[38;5;28mall\u001b[39m(full_file_name \u001b[38;5;129;01mis\u001b[39;00m \u001b[38;5;28;01mNone\u001b[39;00m \u001b[38;5;28;01mfor\u001b[39;00m full_file_name \u001b[38;5;129;01min\u001b[39;00m resolved_vocab_files\u001b[38;5;241m.\u001b[39mvalues()):\n\u001b[1;32m-> 1838\u001b[0m     \u001b[38;5;28;01mraise\u001b[39;00m \u001b[38;5;167;01mEnvironmentError\u001b[39;00m(\n\u001b[0;32m   1839\u001b[0m         \u001b[38;5;124mf\u001b[39m\u001b[38;5;124m\"\u001b[39m\u001b[38;5;124mCan\u001b[39m\u001b[38;5;124m'\u001b[39m\u001b[38;5;124mt load tokenizer for \u001b[39m\u001b[38;5;124m'\u001b[39m\u001b[38;5;132;01m{\u001b[39;00mpretrained_model_name_or_path\u001b[38;5;132;01m}\u001b[39;00m\u001b[38;5;124m'\u001b[39m\u001b[38;5;124m. If you were trying to load it from \u001b[39m\u001b[38;5;124m\"\u001b[39m\n\u001b[0;32m   1840\u001b[0m         \u001b[38;5;124m\"\u001b[39m\u001b[38;5;124m'\u001b[39m\u001b[38;5;124mhttps://huggingface.co/models\u001b[39m\u001b[38;5;124m'\u001b[39m\u001b[38;5;124m, make sure you don\u001b[39m\u001b[38;5;124m'\u001b[39m\u001b[38;5;124mt have a local directory with the same name. \u001b[39m\u001b[38;5;124m\"\u001b[39m\n\u001b[0;32m   1841\u001b[0m         \u001b[38;5;124mf\u001b[39m\u001b[38;5;124m\"\u001b[39m\u001b[38;5;124mOtherwise, make sure \u001b[39m\u001b[38;5;124m'\u001b[39m\u001b[38;5;132;01m{\u001b[39;00mpretrained_model_name_or_path\u001b[38;5;132;01m}\u001b[39;00m\u001b[38;5;124m'\u001b[39m\u001b[38;5;124m is the correct path to a directory \u001b[39m\u001b[38;5;124m\"\u001b[39m\n\u001b[0;32m   1842\u001b[0m         \u001b[38;5;124mf\u001b[39m\u001b[38;5;124m\"\u001b[39m\u001b[38;5;124mcontaining all relevant files for a \u001b[39m\u001b[38;5;132;01m{\u001b[39;00m\u001b[38;5;28mcls\u001b[39m\u001b[38;5;241m.\u001b[39m\u001b[38;5;18m__name__\u001b[39m\u001b[38;5;132;01m}\u001b[39;00m\u001b[38;5;124m tokenizer.\u001b[39m\u001b[38;5;124m\"\u001b[39m\n\u001b[0;32m   1843\u001b[0m     )\n\u001b[0;32m   1845\u001b[0m \u001b[38;5;28;01mfor\u001b[39;00m file_id, file_path \u001b[38;5;129;01min\u001b[39;00m vocab_files\u001b[38;5;241m.\u001b[39mitems():\n\u001b[0;32m   1846\u001b[0m     \u001b[38;5;28;01mif\u001b[39;00m file_id \u001b[38;5;129;01mnot\u001b[39;00m \u001b[38;5;129;01min\u001b[39;00m resolved_vocab_files:\n",
      "\u001b[1;31mOSError\u001b[0m: Can't load tokenizer for '.\\output\\wav2vec2-finetune-asr-timit\\checkpoint-16500'. If you were trying to load it from 'https://huggingface.co/models', make sure you don't have a local directory with the same name. Otherwise, make sure '.\\output\\wav2vec2-finetune-asr-timit\\checkpoint-16500' is the correct path to a directory containing all relevant files for a Wav2Vec2CTCTokenizer tokenizer."
     ]
    }
   ],
   "source": [
    "myprocessor = Wav2Vec2Processor.from_pretrained(\".\\output\\wav2vec2-finetune-asr-timit\\checkpoint-16500\")"
   ]
  },
  {
   "cell_type": "code",
   "execution_count": 82,
   "metadata": {},
   "outputs": [
    {
     "data": {
      "text/plain": [
       "('.\\\\output\\\\wav2vec2-finetune-asr-timit\\\\checkpoint-16500\\\\tokenizer_config.json',\n",
       " '.\\\\output\\\\wav2vec2-finetune-asr-timit\\\\checkpoint-16500\\\\special_tokens_map.json',\n",
       " '.\\\\output\\\\wav2vec2-finetune-asr-timit\\\\checkpoint-16500\\\\vocab.json',\n",
       " '.\\\\output\\\\wav2vec2-finetune-asr-timit\\\\checkpoint-16500\\\\added_tokens.json')"
      ]
     },
     "execution_count": 82,
     "metadata": {},
     "output_type": "execute_result"
    }
   ],
   "source": [
    "tokenizer.save_pretrained(\".\\output\\wav2vec2-finetune-asr-timit\\checkpoint-16500\")"
   ]
  },
  {
   "cell_type": "code",
   "execution_count": 83,
   "metadata": {},
   "outputs": [],
   "source": [
    "myprocessor = Wav2Vec2Processor.from_pretrained(\".\\output\\wav2vec2-finetune-asr-timit\\checkpoint-16500\")"
   ]
  },
  {
   "cell_type": "code",
   "execution_count": 84,
   "metadata": {},
   "outputs": [
    {
     "data": {
      "text/plain": [
       "Wav2Vec2Processor:\n",
       "- feature_extractor: Wav2Vec2FeatureExtractor {\n",
       "  \"do_normalize\": true,\n",
       "  \"feature_extractor_type\": \"Wav2Vec2FeatureExtractor\",\n",
       "  \"feature_size\": 1,\n",
       "  \"padding_side\": \"right\",\n",
       "  \"padding_value\": 0.0,\n",
       "  \"return_attention_mask\": false,\n",
       "  \"sampling_rate\": 16000\n",
       "}\n",
       "\n",
       "- tokenizer: Wav2Vec2CTCTokenizer(name_or_path='.\\output\\wav2vec2-finetune-asr-timit\\checkpoint-16500', vocab_size=32, model_max_length=9223372036854775807, is_fast=False, padding_side='right', truncation_side='right', special_tokens={'bos_token': '<s>', 'eos_token': '</s>', 'unk_token': '<unk>', 'pad_token': '<pad>'}, clean_up_tokenization_spaces=True)"
      ]
     },
     "execution_count": 84,
     "metadata": {},
     "output_type": "execute_result"
    }
   ],
   "source": [
    "myprocessor"
   ]
  },
  {
   "cell_type": "code",
   "execution_count": 85,
   "metadata": {},
   "outputs": [
    {
     "data": {
      "text/plain": [
       "Wav2Vec2Processor:\n",
       "- feature_extractor: Wav2Vec2FeatureExtractor {\n",
       "  \"do_normalize\": true,\n",
       "  \"feature_extractor_type\": \"Wav2Vec2FeatureExtractor\",\n",
       "  \"feature_size\": 1,\n",
       "  \"padding_side\": \"right\",\n",
       "  \"padding_value\": 0.0,\n",
       "  \"return_attention_mask\": false,\n",
       "  \"sampling_rate\": 16000\n",
       "}\n",
       "\n",
       "- tokenizer: Wav2Vec2CTCTokenizer(name_or_path='facebook/wav2vec2-base-960h', vocab_size=32, model_max_length=9223372036854775807, is_fast=False, padding_side='right', truncation_side='right', special_tokens={'bos_token': '<s>', 'eos_token': '</s>', 'unk_token': '<unk>', 'pad_token': '<pad>'}, clean_up_tokenization_spaces=True)"
      ]
     },
     "execution_count": 85,
     "metadata": {},
     "output_type": "execute_result"
    }
   ],
   "source": [
    "processor"
   ]
  },
  {
   "cell_type": "code",
   "execution_count": 86,
   "metadata": {},
   "outputs": [],
   "source": [
    "def map_to_result(batch):\n",
    "  with torch.no_grad():\n",
    "    input_values = torch.tensor(batch[\"input_values\"], device=\"cuda\").unsqueeze(0)\n",
    "    logits = mymodel(input_values).logits\n",
    "\n",
    "  pred_ids = torch.argmax(logits, dim=-1)\n",
    "  batch[\"pred_str\"] = myprocessor.batch_decode(pred_ids)[0]\n",
    "  batch[\"text\"] = myprocessor.decode(batch[\"labels\"], group_tokens=False)\n",
    "  \n",
    "  return batch"
   ]
  },
  {
   "cell_type": "markdown",
   "metadata": {},
   "source": [
    "we will make use of the map(...) function to predict the transcription of every test sample and to save the prediction in the dataset itself. We will call the resulting dictionary \"results\".\n",
    "\n",
    "Note: we evaluate the test data set with batch_size=1 on purpose due to this issue. Since padded inputs don't yield the exact same output as non-padded inputs, a better WER can be achieved by not padding the input at all."
   ]
  },
  {
   "cell_type": "code",
   "execution_count": 87,
   "metadata": {},
   "outputs": [
    {
     "data": {
      "text/plain": [
       "Dataset({\n",
       "    features: ['input_values', 'labels'],\n",
       "    num_rows: 44\n",
       "})"
      ]
     },
     "execution_count": 87,
     "metadata": {},
     "output_type": "execute_result"
    }
   ],
   "source": [
    "vectorized_datasets[\"test\"]"
   ]
  },
  {
   "cell_type": "code",
   "execution_count": 98,
   "metadata": {},
   "outputs": [
    {
     "data": {
      "text/plain": [
       "{'input_values': [0.004556330386549234,\n",
       "  -0.0026364438235759735,\n",
       "  0.008152717724442482,\n",
       "  0.0009599433979019523,\n",
       "  0.0009599433979019523,\n",
       "  0.011749105527997017,\n",
       "  0.0009599433979019523,\n",
       "  0.004556330386549234,\n",
       "  -0.009829217568039894,\n",
       "  -0.006232831161469221,\n",
       "  0.008152717724442482,\n",
       "  0.004556330386549234,\n",
       "  0.0009599433979019523,\n",
       "  0.0009599433979019523,\n",
       "  0.011749105527997017,\n",
       "  0.018941879272460938,\n",
       "  0.018941879272460938,\n",
       "  0.018941879272460938,\n",
       "  0.018941879272460938,\n",
       "  0.018941879272460938,\n",
       "  0.015345491468906403,\n",
       "  0.011749105527997017,\n",
       "  0.018941879272460938,\n",
       "  0.018941879272460938,\n",
       "  0.018941879272460938,\n",
       "  0.018941879272460938,\n",
       "  0.015345491468906403,\n",
       "  0.004556330386549234,\n",
       "  0.018941879272460938,\n",
       "  0.0009599433979019523,\n",
       "  0.008152717724442482,\n",
       "  0.022538265213370323,\n",
       "  0.015345491468906403,\n",
       "  0.018941879272460938,\n",
       "  0.015345491468906403,\n",
       "  0.022538265213370323,\n",
       "  0.015345491468906403,\n",
       "  0.008152717724442482,\n",
       "  0.008152717724442482,\n",
       "  -0.009829217568039894,\n",
       "  -0.0026364438235759735,\n",
       "  -0.006232831161469221,\n",
       "  0.015345491468906403,\n",
       "  0.018941879272460938,\n",
       "  0.004556330386549234,\n",
       "  -0.0026364438235759735,\n",
       "  -0.006232831161469221,\n",
       "  -0.013425605371594429,\n",
       "  -0.0026364438235759735,\n",
       "  0.015345491468906403,\n",
       "  0.011749105527997017,\n",
       "  0.022538265213370323,\n",
       "  0.015345491468906403,\n",
       "  0.022538265213370323,\n",
       "  0.011749105527997017,\n",
       "  0.015345491468906403,\n",
       "  0.0009599433979019523,\n",
       "  0.018941879272460938,\n",
       "  0.018941879272460938,\n",
       "  0.011749105527997017,\n",
       "  -0.009829217568039894,\n",
       "  -0.0026364438235759735,\n",
       "  0.0009599433979019523,\n",
       "  -0.009829217568039894,\n",
       "  0.004556330386549234,\n",
       "  0.0009599433979019523,\n",
       "  -0.009829217568039894,\n",
       "  -0.006232831161469221,\n",
       "  0.015345491468906403,\n",
       "  -0.006232831161469221,\n",
       "  0.0009599433979019523,\n",
       "  0.015345491468906403,\n",
       "  0.008152717724442482,\n",
       "  0.011749105527997017,\n",
       "  -0.006232831161469221,\n",
       "  -0.009829217568039894,\n",
       "  -0.006232831161469221,\n",
       "  0.004556330386549234,\n",
       "  0.015345491468906403,\n",
       "  0.018941879272460938,\n",
       "  0.018941879272460938,\n",
       "  0.018941879272460938,\n",
       "  0.018941879272460938,\n",
       "  0.018941879272460938,\n",
       "  0.018941879272460938,\n",
       "  0.018941879272460938,\n",
       "  0.018941879272460938,\n",
       "  0.018941879272460938,\n",
       "  0.018941879272460938,\n",
       "  0.004556330386549234,\n",
       "  0.004556330386549234,\n",
       "  -0.006232831161469221,\n",
       "  -0.009829217568039894,\n",
       "  -0.006232831161469221,\n",
       "  -0.006232831161469221,\n",
       "  -0.006232831161469221,\n",
       "  0.004556330386549234,\n",
       "  0.011749105527997017,\n",
       "  0.018941879272460938,\n",
       "  0.018941879272460938,\n",
       "  0.018941879272460938,\n",
       "  0.018941879272460938,\n",
       "  0.018941879272460938,\n",
       "  0.018941879272460938,\n",
       "  0.011749105527997017,\n",
       "  0.015345491468906403,\n",
       "  0.004556330386549234,\n",
       "  0.004556330386549234,\n",
       "  0.0009599433979019523,\n",
       "  0.008152717724442482,\n",
       "  0.018941879272460938,\n",
       "  0.018941879272460938,\n",
       "  0.018941879272460938,\n",
       "  0.018941879272460938,\n",
       "  0.015345491468906403,\n",
       "  0.004556330386549234,\n",
       "  0.018941879272460938,\n",
       "  0.015345491468906403,\n",
       "  0.011749105527997017,\n",
       "  0.022538265213370323,\n",
       "  0.004556330386549234,\n",
       "  0.018941879272460938,\n",
       "  0.018941879272460938,\n",
       "  0.018941879272460938,\n",
       "  0.008152717724442482,\n",
       "  0.018941879272460938,\n",
       "  0.018941879272460938,\n",
       "  0.018941879272460938,\n",
       "  0.022538265213370323,\n",
       "  0.018941879272460938,\n",
       "  0.018941879272460938,\n",
       "  0.022538265213370323,\n",
       "  0.015345491468906403,\n",
       "  0.008152717724442482,\n",
       "  0.018941879272460938,\n",
       "  0.018941879272460938,\n",
       "  0.015345491468906403,\n",
       "  0.008152717724442482,\n",
       "  0.015345491468906403,\n",
       "  0.011749105527997017,\n",
       "  0.008152717724442482,\n",
       "  0.015345491468906403,\n",
       "  0.018941879272460938,\n",
       "  0.018941879272460938,\n",
       "  0.018941879272460938,\n",
       "  0.008152717724442482,\n",
       "  0.022538265213370323,\n",
       "  0.011749105527997017,\n",
       "  0.022538265213370323,\n",
       "  0.008152717724442482,\n",
       "  0.004556330386549234,\n",
       "  0.011749105527997017,\n",
       "  0.008152717724442482,\n",
       "  -0.0026364438235759735,\n",
       "  0.008152717724442482,\n",
       "  0.004556330386549234,\n",
       "  0.008152717724442482,\n",
       "  0.011749105527997017,\n",
       "  -0.006232831161469221,\n",
       "  -0.009829217568039894,\n",
       "  -0.006232831161469221,\n",
       "  -0.006232831161469221,\n",
       "  -0.009829217568039894,\n",
       "  0.011749105527997017,\n",
       "  0.011749105527997017,\n",
       "  0.011749105527997017,\n",
       "  0.008152717724442482,\n",
       "  0.022538265213370323,\n",
       "  0.015345491468906403,\n",
       "  0.018941879272460938,\n",
       "  0.018941879272460938,\n",
       "  0.018941879272460938,\n",
       "  0.018941879272460938,\n",
       "  0.018941879272460938,\n",
       "  0.018941879272460938,\n",
       "  0.011749105527997017,\n",
       "  0.011749105527997017,\n",
       "  0.015345491468906403,\n",
       "  0.008152717724442482,\n",
       "  0.008152717724442482,\n",
       "  0.015345491468906403,\n",
       "  0.011749105527997017,\n",
       "  0.011749105527997017,\n",
       "  0.022538265213370323,\n",
       "  0.008152717724442482,\n",
       "  0.004556330386549234,\n",
       "  0.022538265213370323,\n",
       "  0.018941879272460938,\n",
       "  0.004556330386549234,\n",
       "  0.0009599433979019523,\n",
       "  0.018941879272460938,\n",
       "  0.004556330386549234,\n",
       "  0.015345491468906403,\n",
       "  0.022538265213370323,\n",
       "  0.018941879272460938,\n",
       "  0.018941879272460938,\n",
       "  0.018941879272460938,\n",
       "  0.018941879272460938,\n",
       "  0.018941879272460938,\n",
       "  0.022538265213370323,\n",
       "  0.015345491468906403,\n",
       "  0.011749105527997017,\n",
       "  0.022538265213370323,\n",
       "  0.015345491468906403,\n",
       "  0.008152717724442482,\n",
       "  0.022538265213370323,\n",
       "  0.011749105527997017,\n",
       "  0.015345491468906403,\n",
       "  0.004556330386549234,\n",
       "  0.004556330386549234,\n",
       "  0.015345491468906403,\n",
       "  -0.0026364438235759735,\n",
       "  0.008152717724442482,\n",
       "  0.008152717724442482,\n",
       "  0.011749105527997017,\n",
       "  0.011749105527997017,\n",
       "  -0.006232831161469221,\n",
       "  -0.006232831161469221,\n",
       "  0.0009599433979019523,\n",
       "  -0.0026364438235759735,\n",
       "  0.011749105527997017,\n",
       "  0.015345491468906403,\n",
       "  0.011749105527997017,\n",
       "  0.004556330386549234,\n",
       "  0.018941879272460938,\n",
       "  0.011749105527997017,\n",
       "  0.022538265213370323,\n",
       "  0.011749105527997017,\n",
       "  0.015345491468906403,\n",
       "  0.004556330386549234,\n",
       "  0.022538265213370323,\n",
       "  0.011749105527997017,\n",
       "  0.015345491468906403,\n",
       "  0.008152717724442482,\n",
       "  0.022538265213370323,\n",
       "  0.008152717724442482,\n",
       "  0.018941879272460938,\n",
       "  0.018941879272460938,\n",
       "  0.018941879272460938,\n",
       "  0.018941879272460938,\n",
       "  0.018941879272460938,\n",
       "  0.018941879272460938,\n",
       "  0.011749105527997017,\n",
       "  0.015345491468906403,\n",
       "  0.008152717724442482,\n",
       "  0.018941879272460938,\n",
       "  0.018941879272460938,\n",
       "  0.011749105527997017,\n",
       "  0.015345491468906403,\n",
       "  0.011749105527997017,\n",
       "  0.015345491468906403,\n",
       "  0.011749105527997017,\n",
       "  0.008152717724442482,\n",
       "  0.011749105527997017,\n",
       "  0.011749105527997017,\n",
       "  0.015345491468906403,\n",
       "  0.015345491468906403,\n",
       "  0.022538265213370323,\n",
       "  0.008152717724442482,\n",
       "  0.004556330386549234,\n",
       "  0.0009599433979019523,\n",
       "  0.018941879272460938,\n",
       "  -0.0026364438235759735,\n",
       "  0.011749105527997017,\n",
       "  0.018941879272460938,\n",
       "  0.008152717724442482,\n",
       "  0.022538265213370323,\n",
       "  0.018941879272460938,\n",
       "  0.018941879272460938,\n",
       "  0.018941879272460938,\n",
       "  0.018941879272460938,\n",
       "  0.018941879272460938,\n",
       "  0.018941879272460938,\n",
       "  0.018941879272460938,\n",
       "  0.018941879272460938,\n",
       "  0.018941879272460938,\n",
       "  0.018941879272460938,\n",
       "  0.018941879272460938,\n",
       "  0.004556330386549234,\n",
       "  0.004556330386549234,\n",
       "  0.015345491468906403,\n",
       "  -0.009829217568039894,\n",
       "  0.008152717724442482,\n",
       "  0.0009599433979019523,\n",
       "  0.004556330386549234,\n",
       "  0.0009599433979019523,\n",
       "  -0.009829217568039894,\n",
       "  0.011749105527997017,\n",
       "  0.015345491468906403,\n",
       "  0.015345491468906403,\n",
       "  0.011749105527997017,\n",
       "  0.018941879272460938,\n",
       "  0.018941879272460938,\n",
       "  0.015345491468906403,\n",
       "  0.018941879272460938,\n",
       "  0.018941879272460938,\n",
       "  0.018941879272460938,\n",
       "  0.018941879272460938,\n",
       "  0.018941879272460938,\n",
       "  0.018941879272460938,\n",
       "  0.004556330386549234,\n",
       "  -0.006232831161469221,\n",
       "  -0.0026364438235759735,\n",
       "  0.015345491468906403,\n",
       "  0.018941879272460938,\n",
       "  0.008152717724442482,\n",
       "  0.004556330386549234,\n",
       "  -0.0026364438235759735,\n",
       "  -0.009829217568039894,\n",
       "  -0.0026364438235759735,\n",
       "  0.008152717724442482,\n",
       "  0.011749105527997017,\n",
       "  -0.0026364438235759735,\n",
       "  0.004556330386549234,\n",
       "  0.008152717724442482,\n",
       "  -0.0026364438235759735,\n",
       "  -0.0026364438235759735,\n",
       "  0.015345491468906403,\n",
       "  0.011749105527997017,\n",
       "  0.011749105527997017,\n",
       "  0.022538265213370323,\n",
       "  0.018941879272460938,\n",
       "  0.015345491468906403,\n",
       "  0.004556330386549234,\n",
       "  0.018941879272460938,\n",
       "  -0.0026364438235759735,\n",
       "  0.008152717724442482,\n",
       "  0.008152717724442482,\n",
       "  0.0009599433979019523,\n",
       "  0.004556330386549234,\n",
       "  0.0009599433979019523,\n",
       "  0.015345491468906403,\n",
       "  0.011749105527997017,\n",
       "  0.011749105527997017,\n",
       "  -0.013425605371594429,\n",
       "  0.0009599433979019523,\n",
       "  0.008152717724442482,\n",
       "  0.015345491468906403,\n",
       "  -0.006232831161469221,\n",
       "  0.004556330386549234,\n",
       "  0.0009599433979019523,\n",
       "  -0.0026364438235759735,\n",
       "  0.004556330386549234,\n",
       "  0.004556330386549234,\n",
       "  -0.0026364438235759735,\n",
       "  0.008152717724442482,\n",
       "  0.004556330386549234,\n",
       "  0.008152717724442482,\n",
       "  0.004556330386549234,\n",
       "  0.008152717724442482,\n",
       "  0.015345491468906403,\n",
       "  0.015345491468906403,\n",
       "  0.018941879272460938,\n",
       "  0.004556330386549234,\n",
       "  0.018941879272460938,\n",
       "  0.008152717724442482,\n",
       "  0.026134653016924858,\n",
       "  0.008152717724442482,\n",
       "  0.015345491468906403,\n",
       "  -0.0026364438235759735,\n",
       "  0.004556330386549234,\n",
       "  0.015345491468906403,\n",
       "  0.015345491468906403,\n",
       "  0.011749105527997017,\n",
       "  0.008152717724442482,\n",
       "  -0.0026364438235759735,\n",
       "  0.015345491468906403,\n",
       "  0.004556330386549234,\n",
       "  0.004556330386549234,\n",
       "  0.015345491468906403,\n",
       "  0.015345491468906403,\n",
       "  0.011749105527997017,\n",
       "  0.018941879272460938,\n",
       "  0.011749105527997017,\n",
       "  0.008152717724442482,\n",
       "  0.008152717724442482,\n",
       "  0.015345491468906403,\n",
       "  0.008152717724442482,\n",
       "  0.011749105527997017,\n",
       "  0.015345491468906403,\n",
       "  0.015345491468906403,\n",
       "  0.022538265213370323,\n",
       "  0.018941879272460938,\n",
       "  0.018941879272460938,\n",
       "  0.004556330386549234,\n",
       "  0.015345491468906403,\n",
       "  0.008152717724442482,\n",
       "  0.022538265213370323,\n",
       "  0.015345491468906403,\n",
       "  0.018941879272460938,\n",
       "  0.018941879272460938,\n",
       "  0.008152717724442482,\n",
       "  0.011749105527997017,\n",
       "  0.004556330386549234,\n",
       "  -0.0026364438235759735,\n",
       "  0.018941879272460938,\n",
       "  0.004556330386549234,\n",
       "  0.011749105527997017,\n",
       "  0.011749105527997017,\n",
       "  0.011749105527997017,\n",
       "  0.011749105527997017,\n",
       "  0.011749105527997017,\n",
       "  0.011749105527997017,\n",
       "  0.015345491468906403,\n",
       "  0.0009599433979019523,\n",
       "  0.022538265213370323,\n",
       "  0.011749105527997017,\n",
       "  0.015345491468906403,\n",
       "  0.018941879272460938,\n",
       "  0.018941879272460938,\n",
       "  0.011749105527997017,\n",
       "  0.004556330386549234,\n",
       "  0.015345491468906403,\n",
       "  0.004556330386549234,\n",
       "  0.004556330386549234,\n",
       "  0.004556330386549234,\n",
       "  0.008152717724442482,\n",
       "  0.004556330386549234,\n",
       "  0.018941879272460938,\n",
       "  0.011749105527997017,\n",
       "  0.022538265213370323,\n",
       "  0.015345491468906403,\n",
       "  0.022538265213370323,\n",
       "  0.008152717724442482,\n",
       "  0.018941879272460938,\n",
       "  0.0009599433979019523,\n",
       "  0.018941879272460938,\n",
       "  0.004556330386549234,\n",
       "  0.004556330386549234,\n",
       "  -0.0026364438235759735,\n",
       "  0.0009599433979019523,\n",
       "  -0.0026364438235759735,\n",
       "  0.0009599433979019523,\n",
       "  0.011749105527997017,\n",
       "  0.008152717724442482,\n",
       "  0.022538265213370323,\n",
       "  0.004556330386549234,\n",
       "  0.004556330386549234,\n",
       "  0.015345491468906403,\n",
       "  0.011749105527997017,\n",
       "  -0.0026364438235759735,\n",
       "  -0.006232831161469221,\n",
       "  -0.0026364438235759735,\n",
       "  0.004556330386549234,\n",
       "  0.015345491468906403,\n",
       "  0.0009599433979019523,\n",
       "  0.004556330386549234,\n",
       "  -0.0026364438235759735,\n",
       "  0.015345491468906403,\n",
       "  0.018941879272460938,\n",
       "  0.004556330386549234,\n",
       "  0.015345491468906403,\n",
       "  0.011749105527997017,\n",
       "  0.011749105527997017,\n",
       "  0.011749105527997017,\n",
       "  0.018941879272460938,\n",
       "  0.008152717724442482,\n",
       "  0.015345491468906403,\n",
       "  0.008152717724442482,\n",
       "  0.015345491468906403,\n",
       "  -0.0026364438235759735,\n",
       "  0.022538265213370323,\n",
       "  0.011749105527997017,\n",
       "  0.004556330386549234,\n",
       "  0.015345491468906403,\n",
       "  0.022538265213370323,\n",
       "  0.015345491468906403,\n",
       "  0.022538265213370323,\n",
       "  0.015345491468906403,\n",
       "  0.022538265213370323,\n",
       "  0.004556330386549234,\n",
       "  0.011749105527997017,\n",
       "  0.0009599433979019523,\n",
       "  0.015345491468906403,\n",
       "  0.011749105527997017,\n",
       "  0.022538265213370323,\n",
       "  0.015345491468906403,\n",
       "  0.008152717724442482,\n",
       "  0.015345491468906403,\n",
       "  0.011749105527997017,\n",
       "  0.008152717724442482,\n",
       "  -0.0026364438235759735,\n",
       "  0.015345491468906403,\n",
       "  0.011749105527997017,\n",
       "  0.018941879272460938,\n",
       "  0.015345491468906403,\n",
       "  0.011749105527997017,\n",
       "  0.008152717724442482,\n",
       "  0.011749105527997017,\n",
       "  0.008152717724442482,\n",
       "  -0.0026364438235759735,\n",
       "  0.015345491468906403,\n",
       "  0.004556330386549234,\n",
       "  -0.0026364438235759735,\n",
       "  0.008152717724442482,\n",
       "  0.018941879272460938,\n",
       "  0.008152717724442482,\n",
       "  0.018941879272460938,\n",
       "  0.011749105527997017,\n",
       "  0.015345491468906403,\n",
       "  0.015345491468906403,\n",
       "  0.004556330386549234,\n",
       "  0.018941879272460938,\n",
       "  0.018941879272460938,\n",
       "  0.015345491468906403,\n",
       "  0.004556330386549234,\n",
       "  0.015345491468906403,\n",
       "  -0.0026364438235759735,\n",
       "  0.004556330386549234,\n",
       "  0.011749105527997017,\n",
       "  0.015345491468906403,\n",
       "  0.004556330386549234,\n",
       "  0.018941879272460938,\n",
       "  0.018941879272460938,\n",
       "  0.018941879272460938,\n",
       "  0.018941879272460938,\n",
       "  0.015345491468906403,\n",
       "  0.011749105527997017,\n",
       "  0.011749105527997017,\n",
       "  0.0009599433979019523,\n",
       "  0.0009599433979019523,\n",
       "  0.0009599433979019523,\n",
       "  0.015345491468906403,\n",
       "  0.008152717724442482,\n",
       "  0.0009599433979019523,\n",
       "  0.011749105527997017,\n",
       "  0.015345491468906403,\n",
       "  0.004556330386549234,\n",
       "  0.018941879272460938,\n",
       "  0.008152717724442482,\n",
       "  0.022538265213370323,\n",
       "  0.015345491468906403,\n",
       "  0.022538265213370323,\n",
       "  0.018941879272460938,\n",
       "  0.022538265213370323,\n",
       "  0.008152717724442482,\n",
       "  0.018941879272460938,\n",
       "  0.015345491468906403,\n",
       "  0.004556330386549234,\n",
       "  0.026134653016924858,\n",
       "  0.011749105527997017,\n",
       "  0.008152717724442482,\n",
       "  0.011749105527997017,\n",
       "  0.011749105527997017,\n",
       "  0.011749105527997017,\n",
       "  0.015345491468906403,\n",
       "  0.022538265213370323,\n",
       "  0.015345491468906403,\n",
       "  0.022538265213370323,\n",
       "  0.0009599433979019523,\n",
       "  0.008152717724442482,\n",
       "  0.011749105527997017,\n",
       "  0.0009599433979019523,\n",
       "  0.015345491468906403,\n",
       "  0.011749105527997017,\n",
       "  0.022538265213370323,\n",
       "  0.015345491468906403,\n",
       "  0.011749105527997017,\n",
       "  0.011749105527997017,\n",
       "  0.004556330386549234,\n",
       "  0.008152717724442482,\n",
       "  0.011749105527997017,\n",
       "  0.011749105527997017,\n",
       "  0.015345491468906403,\n",
       "  0.011749105527997017,\n",
       "  -0.0026364438235759735,\n",
       "  0.004556330386549234,\n",
       "  -0.0026364438235759735,\n",
       "  -0.009829217568039894,\n",
       "  0.004556330386549234,\n",
       "  0.011749105527997017,\n",
       "  -0.009829217568039894,\n",
       "  0.008152717724442482,\n",
       "  0.0009599433979019523,\n",
       "  0.011749105527997017,\n",
       "  0.008152717724442482,\n",
       "  0.008152717724442482,\n",
       "  0.011749105527997017,\n",
       "  -0.006232831161469221,\n",
       "  0.004556330386549234,\n",
       "  0.0009599433979019523,\n",
       "  -0.009829217568039894,\n",
       "  0.004556330386549234,\n",
       "  0.011749105527997017,\n",
       "  -0.0026364438235759735,\n",
       "  -0.0026364438235759735,\n",
       "  0.004556330386549234,\n",
       "  0.004556330386549234,\n",
       "  0.004556330386549234,\n",
       "  0.004556330386549234,\n",
       "  0.015345491468906403,\n",
       "  0.011749105527997017,\n",
       "  0.008152717724442482,\n",
       "  0.015345491468906403,\n",
       "  0.0009599433979019523,\n",
       "  0.004556330386549234,\n",
       "  0.011749105527997017,\n",
       "  0.008152717724442482,\n",
       "  0.015345491468906403,\n",
       "  -0.0026364438235759735,\n",
       "  0.0009599433979019523,\n",
       "  0.004556330386549234,\n",
       "  0.0009599433979019523,\n",
       "  0.018941879272460938,\n",
       "  0.011749105527997017,\n",
       "  0.015345491468906403,\n",
       "  0.0009599433979019523,\n",
       "  0.018941879272460938,\n",
       "  0.008152717724442482,\n",
       "  0.011749105527997017,\n",
       "  0.015345491468906403,\n",
       "  0.0009599433979019523,\n",
       "  0.004556330386549234,\n",
       "  0.0009599433979019523,\n",
       "  0.008152717724442482,\n",
       "  0.0009599433979019523,\n",
       "  0.0009599433979019523,\n",
       "  0.0009599433979019523,\n",
       "  -0.0026364438235759735,\n",
       "  0.011749105527997017,\n",
       "  0.0009599433979019523,\n",
       "  0.015345491468906403,\n",
       "  0.015345491468906403,\n",
       "  0.018941879272460938,\n",
       "  0.015345491468906403,\n",
       "  0.011749105527997017,\n",
       "  0.011749105527997017,\n",
       "  -0.006232831161469221,\n",
       "  -0.0026364438235759735,\n",
       "  0.011749105527997017,\n",
       "  0.011749105527997017,\n",
       "  -0.0026364438235759735,\n",
       "  0.004556330386549234,\n",
       "  0.011749105527997017,\n",
       "  0.004556330386549234,\n",
       "  -0.006232831161469221,\n",
       "  0.0009599433979019523,\n",
       "  0.015345491468906403,\n",
       "  0.011749105527997017,\n",
       "  0.022538265213370323,\n",
       "  0.008152717724442482,\n",
       "  0.018941879272460938,\n",
       "  0.015345491468906403,\n",
       "  0.0009599433979019523,\n",
       "  0.018941879272460938,\n",
       "  0.015345491468906403,\n",
       "  0.011749105527997017,\n",
       "  0.022538265213370323,\n",
       "  0.015345491468906403,\n",
       "  0.008152717724442482,\n",
       "  0.022538265213370323,\n",
       "  0.004556330386549234,\n",
       "  0.015345491468906403,\n",
       "  0.018941879272460938,\n",
       "  0.018941879272460938,\n",
       "  0.015345491468906403,\n",
       "  0.008152717724442482,\n",
       "  0.008152717724442482,\n",
       "  0.008152717724442482,\n",
       "  0.004556330386549234,\n",
       "  0.011749105527997017,\n",
       "  0.022538265213370323,\n",
       "  0.015345491468906403,\n",
       "  0.022538265213370323,\n",
       "  0.008152717724442482,\n",
       "  0.022538265213370323,\n",
       "  0.011749105527997017,\n",
       "  0.015345491468906403,\n",
       "  0.008152717724442482,\n",
       "  0.015345491468906403,\n",
       "  0.004556330386549234,\n",
       "  0.008152717724442482,\n",
       "  0.008152717724442482,\n",
       "  0.004556330386549234,\n",
       "  0.008152717724442482,\n",
       "  0.008152717724442482,\n",
       "  0.011749105527997017,\n",
       "  0.015345491468906403,\n",
       "  0.004556330386549234,\n",
       "  0.011749105527997017,\n",
       "  0.011749105527997017,\n",
       "  0.015345491468906403,\n",
       "  0.0009599433979019523,\n",
       "  0.0009599433979019523,\n",
       "  0.008152717724442482,\n",
       "  -0.0026364438235759735,\n",
       "  0.011749105527997017,\n",
       "  0.015345491468906403,\n",
       "  0.011749105527997017,\n",
       "  0.011749105527997017,\n",
       "  0.015345491468906403,\n",
       "  0.015345491468906403,\n",
       "  0.022538265213370323,\n",
       "  0.018941879272460938,\n",
       "  0.022538265213370323,\n",
       "  0.011749105527997017,\n",
       "  0.0009599433979019523,\n",
       "  -0.006232831161469221,\n",
       "  0.008152717724442482,\n",
       "  0.015345491468906403,\n",
       "  0.008152717724442482,\n",
       "  -0.0026364438235759735,\n",
       "  0.008152717724442482,\n",
       "  0.011749105527997017,\n",
       "  0.015345491468906403,\n",
       "  0.022538265213370323,\n",
       "  0.015345491468906403,\n",
       "  0.022538265213370323,\n",
       "  0.015345491468906403,\n",
       "  0.004556330386549234,\n",
       "  0.022538265213370323,\n",
       "  0.011749105527997017,\n",
       "  0.015345491468906403,\n",
       "  0.011749105527997017,\n",
       "  0.018941879272460938,\n",
       "  0.008152717724442482,\n",
       "  0.011749105527997017,\n",
       "  0.015345491468906403,\n",
       "  0.008152717724442482,\n",
       "  0.015345491468906403,\n",
       "  0.008152717724442482,\n",
       "  0.018941879272460938,\n",
       "  0.011749105527997017,\n",
       "  0.015345491468906403,\n",
       "  0.008152717724442482,\n",
       "  0.004556330386549234,\n",
       "  0.022538265213370323,\n",
       "  0.018941879272460938,\n",
       "  0.008152717724442482,\n",
       "  0.008152717724442482,\n",
       "  0.0009599433979019523,\n",
       "  0.011749105527997017,\n",
       "  0.008152717724442482,\n",
       "  0.018941879272460938,\n",
       "  0.018941879272460938,\n",
       "  0.018941879272460938,\n",
       "  0.018941879272460938,\n",
       "  0.018941879272460938,\n",
       "  0.011749105527997017,\n",
       "  -0.0026364438235759735,\n",
       "  0.008152717724442482,\n",
       "  0.015345491468906403,\n",
       "  0.008152717724442482,\n",
       "  -0.0026364438235759735,\n",
       "  0.011749105527997017,\n",
       "  0.011749105527997017,\n",
       "  0.008152717724442482,\n",
       "  0.011749105527997017,\n",
       "  0.011749105527997017,\n",
       "  0.008152717724442482,\n",
       "  0.008152717724442482,\n",
       "  0.015345491468906403,\n",
       "  0.018941879272460938,\n",
       "  0.018941879272460938,\n",
       "  0.018941879272460938,\n",
       "  0.015345491468906403,\n",
       "  0.011749105527997017,\n",
       "  0.011749105527997017,\n",
       "  0.011749105527997017,\n",
       "  0.004556330386549234,\n",
       "  0.011749105527997017,\n",
       "  0.008152717724442482,\n",
       "  0.022538265213370323,\n",
       "  0.011749105527997017,\n",
       "  0.018941879272460938,\n",
       "  0.015345491468906403,\n",
       "  0.008152717724442482,\n",
       "  0.022538265213370323,\n",
       "  0.015345491468906403,\n",
       "  0.022538265213370323,\n",
       "  0.011749105527997017,\n",
       "  0.015345491468906403,\n",
       "  0.018941879272460938,\n",
       "  0.018941879272460938,\n",
       "  0.018941879272460938,\n",
       "  0.018941879272460938,\n",
       "  0.018941879272460938,\n",
       "  0.022538265213370323,\n",
       "  0.011749105527997017,\n",
       "  0.015345491468906403,\n",
       "  0.018941879272460938,\n",
       "  0.011749105527997017,\n",
       "  0.015345491468906403,\n",
       "  0.004556330386549234,\n",
       "  0.008152717724442482,\n",
       "  0.0009599433979019523,\n",
       "  0.004556330386549234,\n",
       "  0.0009599433979019523,\n",
       "  0.015345491468906403,\n",
       "  0.0009599433979019523,\n",
       "  0.004556330386549234,\n",
       "  0.015345491468906403,\n",
       "  0.022538265213370323,\n",
       "  0.011749105527997017,\n",
       "  0.008152717724442482,\n",
       "  0.022538265213370323,\n",
       "  0.008152717724442482,\n",
       "  0.022538265213370323,\n",
       "  0.011749105527997017,\n",
       "  0.018941879272460938,\n",
       "  0.015345491468906403,\n",
       "  0.008152717724442482,\n",
       "  0.022538265213370323,\n",
       "  0.018941879272460938,\n",
       "  0.018941879272460938,\n",
       "  0.018941879272460938,\n",
       "  0.018941879272460938,\n",
       "  0.018941879272460938,\n",
       "  0.011749105527997017,\n",
       "  0.018941879272460938,\n",
       "  0.022538265213370323,\n",
       "  0.004556330386549234,\n",
       "  0.015345491468906403,\n",
       "  0.022538265213370323,\n",
       "  0.011749105527997017,\n",
       "  0.015345491468906403,\n",
       "  0.0009599433979019523,\n",
       "  0.004556330386549234,\n",
       "  0.004556330386549234,\n",
       "  0.004556330386549234,\n",
       "  0.022538265213370323,\n",
       "  0.011749105527997017,\n",
       "  0.008152717724442482,\n",
       "  0.022538265213370323,\n",
       "  0.008152717724442482,\n",
       "  0.015345491468906403,\n",
       "  0.011749105527997017,\n",
       "  0.022538265213370323,\n",
       "  0.008152717724442482,\n",
       "  0.022538265213370323,\n",
       "  0.015345491468906403,\n",
       "  0.022538265213370323,\n",
       "  0.015345491468906403,\n",
       "  0.008152717724442482,\n",
       "  0.011749105527997017,\n",
       "  0.011749105527997017,\n",
       "  0.008152717724442482,\n",
       "  0.011749105527997017,\n",
       "  0.011749105527997017,\n",
       "  0.008152717724442482,\n",
       "  0.004556330386549234,\n",
       "  0.008152717724442482,\n",
       "  0.008152717724442482,\n",
       "  0.008152717724442482,\n",
       "  0.008152717724442482,\n",
       "  -0.0026364438235759735,\n",
       "  0.008152717724442482,\n",
       "  0.008152717724442482,\n",
       "  0.004556330386549234,\n",
       "  0.004556330386549234,\n",
       "  0.008152717724442482,\n",
       "  0.0009599433979019523,\n",
       "  0.0009599433979019523,\n",
       "  0.008152717724442482,\n",
       "  0.011749105527997017,\n",
       "  -0.0026364438235759735,\n",
       "  0.015345491468906403,\n",
       "  0.011749105527997017,\n",
       "  0.015345491468906403,\n",
       "  0.011749105527997017,\n",
       "  0.015345491468906403,\n",
       "  0.004556330386549234,\n",
       "  0.008152717724442482,\n",
       "  0.004556330386549234,\n",
       "  0.015345491468906403,\n",
       "  0.0009599433979019523,\n",
       "  0.015345491468906403,\n",
       "  0.018941879272460938,\n",
       "  0.015345491468906403,\n",
       "  0.011749105527997017,\n",
       "  0.015345491468906403,\n",
       "  0.004556330386549234,\n",
       "  0.008152717724442482,\n",
       "  0.004556330386549234,\n",
       "  0.018941879272460938,\n",
       "  0.011749105527997017,\n",
       "  0.015345491468906403,\n",
       "  -0.0026364438235759735,\n",
       "  0.008152717724442482,\n",
       "  0.004556330386549234,\n",
       "  0.004556330386549234,\n",
       "  0.004556330386549234,\n",
       "  0.015345491468906403,\n",
       "  0.011749105527997017,\n",
       "  0.011749105527997017,\n",
       "  0.0009599433979019523,\n",
       "  0.015345491468906403,\n",
       "  0.011749105527997017,\n",
       "  0.011749105527997017,\n",
       "  0.0009599433979019523,\n",
       "  0.015345491468906403,\n",
       "  0.011749105527997017,\n",
       "  0.015345491468906403,\n",
       "  0.022538265213370323,\n",
       "  0.011749105527997017,\n",
       "  0.015345491468906403,\n",
       "  0.022538265213370323,\n",
       "  0.015345491468906403,\n",
       "  0.022538265213370323,\n",
       "  0.004556330386549234,\n",
       "  0.015345491468906403,\n",
       "  0.011749105527997017,\n",
       "  0.022538265213370323,\n",
       "  0.004556330386549234,\n",
       "  0.004556330386549234,\n",
       "  0.022538265213370323,\n",
       "  0.008152717724442482,\n",
       "  0.011749105527997017,\n",
       "  0.018941879272460938,\n",
       "  0.011749105527997017,\n",
       "  0.015345491468906403,\n",
       "  0.004556330386549234,\n",
       "  0.018941879272460938,\n",
       "  0.004556330386549234,\n",
       "  0.022538265213370323,\n",
       "  0.0009599433979019523,\n",
       "  0.015345491468906403,\n",
       "  0.004556330386549234,\n",
       "  0.022538265213370323,\n",
       "  0.015345491468906403,\n",
       "  0.022538265213370323,\n",
       "  0.015345491468906403,\n",
       "  0.022538265213370323,\n",
       "  0.018941879272460938,\n",
       "  0.018941879272460938,\n",
       "  0.018941879272460938,\n",
       "  0.018941879272460938,\n",
       "  0.018941879272460938,\n",
       "  0.018941879272460938,\n",
       "  0.018941879272460938,\n",
       "  0.022538265213370323,\n",
       "  0.011749105527997017,\n",
       "  0.018941879272460938,\n",
       "  0.018941879272460938,\n",
       "  0.018941879272460938,\n",
       "  0.018941879272460938,\n",
       "  0.018941879272460938,\n",
       "  0.018941879272460938,\n",
       "  0.018941879272460938,\n",
       "  0.011749105527997017,\n",
       "  0.015345491468906403,\n",
       "  0.011749105527997017,\n",
       "  0.011749105527997017,\n",
       "  0.004556330386549234,\n",
       "  0.018941879272460938,\n",
       "  0.008152717724442482,\n",
       "  0.015345491468906403,\n",
       "  0.011749105527997017,\n",
       "  0.015345491468906403,\n",
       "  0.011749105527997017,\n",
       "  0.004556330386549234,\n",
       "  0.015345491468906403,\n",
       "  0.011749105527997017,\n",
       "  0.008152717724442482,\n",
       "  0.004556330386549234,\n",
       "  0.008152717724442482,\n",
       "  0.011749105527997017,\n",
       "  0.015345491468906403,\n",
       "  0.011749105527997017,\n",
       "  0.015345491468906403,\n",
       "  0.008152717724442482,\n",
       "  0.018941879272460938,\n",
       "  0.011749105527997017,\n",
       "  0.015345491468906403,\n",
       "  0.018941879272460938,\n",
       "  0.018941879272460938,\n",
       "  0.018941879272460938,\n",
       "  0.018941879272460938,\n",
       "  0.018941879272460938,\n",
       "  0.018941879272460938,\n",
       "  0.011749105527997017,\n",
       "  0.015345491468906403,\n",
       "  0.018941879272460938,\n",
       "  0.018941879272460938,\n",
       "  0.018941879272460938,\n",
       "  0.018941879272460938,\n",
       "  0.004556330386549234,\n",
       "  0.022538265213370323,\n",
       "  0.011749105527997017,\n",
       "  0.015345491468906403,\n",
       "  0.018941879272460938,\n",
       "  0.011749105527997017,\n",
       "  0.018941879272460938,\n",
       "  0.018941879272460938,\n",
       "  0.018941879272460938,\n",
       "  0.018941879272460938,\n",
       "  0.011749105527997017,\n",
       "  0.015345491468906403,\n",
       "  0.018941879272460938,\n",
       "  0.004556330386549234,\n",
       "  0.022538265213370323,\n",
       "  0.008152717724442482,\n",
       "  0.015345491468906403,\n",
       "  0.004556330386549234,\n",
       "  0.022538265213370323,\n",
       "  0.008152717724442482,\n",
       "  0.018941879272460938,\n",
       "  0.015345491468906403,\n",
       "  0.015345491468906403,\n",
       "  0.011749105527997017,\n",
       "  ...],\n",
       " 'labels': [3,\n",
       "  3,\n",
       "  3,\n",
       "  4,\n",
       "  3,\n",
       "  3,\n",
       "  3,\n",
       "  4,\n",
       "  3,\n",
       "  3,\n",
       "  3,\n",
       "  3,\n",
       "  4,\n",
       "  3,\n",
       "  3,\n",
       "  3,\n",
       "  3,\n",
       "  4,\n",
       "  3,\n",
       "  3,\n",
       "  3,\n",
       "  3,\n",
       "  4,\n",
       "  3,\n",
       "  3,\n",
       "  4,\n",
       "  3,\n",
       "  3,\n",
       "  3,\n",
       "  3,\n",
       "  3,\n",
       "  3,\n",
       "  4,\n",
       "  3,\n",
       "  3,\n",
       "  3,\n",
       "  3,\n",
       "  4,\n",
       "  3,\n",
       "  3,\n",
       "  3,\n",
       "  3,\n",
       "  3,\n",
       "  4,\n",
       "  3,\n",
       "  3,\n",
       "  3,\n",
       "  4,\n",
       "  3,\n",
       "  3,\n",
       "  3,\n",
       "  3]}"
      ]
     },
     "execution_count": 98,
     "metadata": {},
     "output_type": "execute_result"
    }
   ],
   "source": [
    "vectorized_datasets[\"test\"][0]"
   ]
  },
  {
   "cell_type": "code",
   "execution_count": 99,
   "metadata": {},
   "outputs": [
    {
     "data": {
      "text/plain": [
       "[3,\n",
       " 3,\n",
       " 3,\n",
       " 4,\n",
       " 3,\n",
       " 3,\n",
       " 3,\n",
       " 4,\n",
       " 3,\n",
       " 3,\n",
       " 3,\n",
       " 3,\n",
       " 4,\n",
       " 3,\n",
       " 3,\n",
       " 3,\n",
       " 3,\n",
       " 4,\n",
       " 3,\n",
       " 3,\n",
       " 3,\n",
       " 3,\n",
       " 4,\n",
       " 3,\n",
       " 3,\n",
       " 4,\n",
       " 3,\n",
       " 3,\n",
       " 3,\n",
       " 3,\n",
       " 3,\n",
       " 3,\n",
       " 4,\n",
       " 3,\n",
       " 3,\n",
       " 3,\n",
       " 3,\n",
       " 4,\n",
       " 3,\n",
       " 3,\n",
       " 3,\n",
       " 3,\n",
       " 3,\n",
       " 4,\n",
       " 3,\n",
       " 3,\n",
       " 3,\n",
       " 4,\n",
       " 3,\n",
       " 3,\n",
       " 3,\n",
       " 3]"
      ]
     },
     "execution_count": 99,
     "metadata": {},
     "output_type": "execute_result"
    }
   ],
   "source": [
    "vectorized_datasets[\"test\"][0]['labels']"
   ]
  },
  {
   "cell_type": "code",
   "execution_count": 92,
   "metadata": {},
   "outputs": [],
   "source": [
    "labelresult=myprocessor.decode(vectorized_datasets[\"test\"][0]['labels'], group_tokens=False) "
   ]
  },
  {
   "cell_type": "code",
   "execution_count": 93,
   "metadata": {},
   "outputs": [
    {
     "data": {
      "text/plain": [
       "'<unk><unk><unk> <unk><unk><unk> <unk><unk><unk><unk> <unk><unk><unk><unk> <unk><unk><unk><unk> <unk><unk> <unk><unk><unk><unk><unk><unk> <unk><unk><unk><unk> <unk><unk><unk><unk><unk> <unk><unk><unk> <unk><unk><unk><unk>'"
      ]
     },
     "execution_count": 93,
     "metadata": {},
     "output_type": "execute_result"
    }
   ],
   "source": [
    "labelresult"
   ]
  },
  {
   "cell_type": "code",
   "execution_count": 94,
   "metadata": {},
   "outputs": [
    {
     "name": "stderr",
     "output_type": "stream",
     "text": [
      "Parameter 'function'=<function map_to_result at 0x0000014C3972D1B0> of the transform datasets.arrow_dataset.Dataset._map_single couldn't be hashed properly, a random hash was used instead. Make sure your transforms and parameters are serializable with pickle or dill for the dataset fingerprinting and caching to work. If you reuse this transform, the caching mechanism will consider it to be different from the previous calls and recompute everything. This warning is only showed once. Subsequent hashing failures won't be showed.\n",
      "Map: 100%|██████████| 44/44 [00:04<00:00, 10.95 examples/s]\n"
     ]
    }
   ],
   "source": [
    "results = vectorized_datasets[\"test\"].map(map_to_result, remove_columns=vectorized_datasets[\"test\"].column_names)"
   ]
  },
  {
   "cell_type": "markdown",
   "metadata": {},
   "source": [
    "compute the overall WER"
   ]
  },
  {
   "cell_type": "code",
   "execution_count": 95,
   "metadata": {},
   "outputs": [
    {
     "name": "stdout",
     "output_type": "stream",
     "text": [
      "Test WER: 0.971\n"
     ]
    }
   ],
   "source": [
    "print(\"Test WER: {:.3f}\".format(wer_metric.compute(predictions=results[\"pred_str\"], references=results[\"text\"])))"
   ]
  },
  {
   "cell_type": "code",
   "execution_count": 96,
   "metadata": {},
   "outputs": [
    {
     "data": {
      "text/plain": [
       "Dataset({\n",
       "    features: ['pred_str', 'text'],\n",
       "    num_rows: 44\n",
       "})"
      ]
     },
     "execution_count": 96,
     "metadata": {},
     "output_type": "execute_result"
    }
   ],
   "source": [
    "results"
   ]
  },
  {
   "cell_type": "code",
   "execution_count": 97,
   "metadata": {},
   "outputs": [
    {
     "data": {
      "text/html": [
       "<table border=\"1\" class=\"dataframe\">\n",
       "  <thead>\n",
       "    <tr style=\"text-align: right;\">\n",
       "      <th></th>\n",
       "      <th>pred_str</th>\n",
       "      <th>text</th>\n",
       "    </tr>\n",
       "  </thead>\n",
       "  <tbody>\n",
       "    <tr>\n",
       "      <th>0</th>\n",
       "      <td>&lt;unk&gt;</td>\n",
       "      <td>&lt;unk&gt;&lt;unk&gt;&lt;unk&gt;'&lt;unk&gt; &lt;unk&gt;&lt;unk&gt;&lt;unk&gt; &lt;unk&gt;&lt;unk&gt; &lt;unk&gt;&lt;unk&gt; &lt;unk&gt;&lt;unk&gt;&lt;unk&gt;&lt;unk&gt;&lt;unk&gt; &lt;unk&gt;&lt;unk&gt; &lt;unk&gt;&lt;unk&gt;&lt;unk&gt;&lt;unk&gt; &lt;unk&gt;&lt;unk&gt;&lt;unk&gt; &lt;unk&gt;&lt;unk&gt;&lt;unk&gt;&lt;unk&gt; &lt;unk&gt;&lt;unk&gt;&lt;unk&gt;&lt;unk&gt;</td>\n",
       "    </tr>\n",
       "    <tr>\n",
       "      <th>1</th>\n",
       "      <td>&lt;unk&gt;</td>\n",
       "      <td>&lt;unk&gt;&lt;unk&gt;&lt;unk&gt;&lt;unk&gt;&lt;unk&gt; &lt;unk&gt;&lt;unk&gt;&lt;unk&gt;&lt;unk&gt;&lt;unk&gt;&lt;unk&gt;&lt;unk&gt;&lt;unk&gt; &lt;unk&gt;&lt;unk&gt;&lt;unk&gt;&lt;unk&gt; &lt;unk&gt;&lt;unk&gt;&lt;unk&gt; &lt;unk&gt;&lt;unk&gt;&lt;unk&gt;&lt;unk&gt;&lt;unk&gt; &lt;unk&gt;&lt;unk&gt;&lt;unk&gt;&lt;unk&gt;&lt;unk&gt;</td>\n",
       "    </tr>\n",
       "    <tr>\n",
       "      <th>2</th>\n",
       "      <td>&lt;unk&gt;</td>\n",
       "      <td>&lt;unk&gt;&lt;unk&gt;&lt;unk&gt;&lt;unk&gt;&lt;unk&gt;&lt;unk&gt;&lt;unk&gt;&lt;unk&gt; &lt;unk&gt;&lt;unk&gt;&lt;unk&gt;&lt;unk&gt;&lt;unk&gt;&lt;unk&gt;&lt;unk&gt;&lt;unk&gt; &lt;unk&gt;&lt;unk&gt;&lt;unk&gt;&lt;unk&gt; &lt;unk&gt;&lt;unk&gt;&lt;unk&gt;&lt;unk&gt;&lt;unk&gt; &lt;unk&gt;&lt;unk&gt;&lt;unk&gt;&lt;unk&gt;&lt;unk&gt;&lt;unk&gt;&lt;unk&gt;</td>\n",
       "    </tr>\n",
       "    <tr>\n",
       "      <th>3</th>\n",
       "      <td>&lt;unk&gt;</td>\n",
       "      <td>&lt;unk&gt;&lt;unk&gt; &lt;unk&gt;&lt;unk&gt;&lt;unk&gt; &lt;unk&gt;&lt;unk&gt;&lt;unk&gt;&lt;unk&gt; &lt;unk&gt;&lt;unk&gt;&lt;unk&gt;&lt;unk&gt;&lt;unk&gt;&lt;unk&gt; &lt;unk&gt;&lt;unk&gt; &lt;unk&gt;&lt;unk&gt;&lt;unk&gt;&lt;unk&gt; &lt;unk&gt;&lt;unk&gt;&lt;unk&gt;&lt;unk&gt;&lt;unk&gt;&lt;unk&gt;&lt;unk&gt; &lt;unk&gt;&lt;unk&gt; &lt;unk&gt;&lt;unk&gt;&lt;unk&gt; &lt;unk&gt;&lt;unk&gt;&lt;unk&gt;&lt;unk&gt;&lt;unk&gt; &lt;unk&gt;&lt;unk&gt;&lt;unk&gt; &lt;unk&gt;&lt;unk&gt;&lt;unk&gt;&lt;unk&gt;&lt;unk&gt;&lt;unk&gt;&lt;unk&gt;&lt;unk&gt; &lt;unk&gt;&lt;unk&gt; &lt;unk&gt;&lt;unk&gt;&lt;unk&gt;&lt;unk&gt; &lt;unk&gt; &lt;unk&gt;&lt;unk&gt;&lt;unk&gt;&lt;unk&gt;&lt;unk&gt;</td>\n",
       "    </tr>\n",
       "    <tr>\n",
       "      <th>4</th>\n",
       "      <td>&lt;unk&gt;</td>\n",
       "      <td>&lt;unk&gt;&lt;unk&gt;&lt;unk&gt;&lt;unk&gt;&lt;unk&gt;&lt;unk&gt;&lt;unk&gt;&lt;unk&gt; &lt;unk&gt;&lt;unk&gt;&lt;unk&gt;&lt;unk&gt;&lt;unk&gt;&lt;unk&gt;&lt;unk&gt;&lt;unk&gt;&lt;unk&gt; &lt;unk&gt;&lt;unk&gt;&lt;unk&gt;&lt;unk&gt;&lt;unk&gt; &lt;unk&gt;&lt;unk&gt;&lt;unk&gt;&lt;unk&gt;&lt;unk&gt;&lt;unk&gt; &lt;unk&gt;&lt;unk&gt;&lt;unk&gt;&lt;unk&gt;&lt;unk&gt;&lt;unk&gt;&lt;unk&gt;&lt;unk&gt;&lt;unk&gt;&lt;unk&gt;&lt;unk&gt;</td>\n",
       "    </tr>\n",
       "    <tr>\n",
       "      <th>5</th>\n",
       "      <td>&lt;unk&gt;</td>\n",
       "      <td>&lt;unk&gt;&lt;unk&gt;&lt;unk&gt; &lt;unk&gt;&lt;unk&gt;&lt;unk&gt;&lt;unk&gt;&lt;unk&gt;&lt;unk&gt;&lt;unk&gt;&lt;unk&gt;&lt;unk&gt; &lt;unk&gt;&lt;unk&gt;&lt;unk&gt; &lt;unk&gt;&lt;unk&gt;&lt;unk&gt;&lt;unk&gt;&lt;unk&gt; &lt;unk&gt;&lt;unk&gt;&lt;unk&gt;&lt;unk&gt;&lt;unk&gt;&lt;unk&gt;&lt;unk&gt;</td>\n",
       "    </tr>\n",
       "    <tr>\n",
       "      <th>6</th>\n",
       "      <td>&lt;unk&gt;</td>\n",
       "      <td>&lt;unk&gt;&lt;unk&gt;&lt;unk&gt; &lt;unk&gt;&lt;unk&gt;&lt;unk&gt;&lt;unk&gt;&lt;unk&gt;&lt;unk&gt;&lt;unk&gt;&lt;unk&gt; &lt;unk&gt;&lt;unk&gt; &lt;unk&gt; &lt;unk&gt;&lt;unk&gt;&lt;unk&gt;&lt;unk&gt;&lt;unk&gt;&lt;unk&gt; &lt;unk&gt;&lt;unk&gt;&lt;unk&gt;&lt;unk&gt;&lt;unk&gt;&lt;unk&gt;&lt;unk&gt;</td>\n",
       "    </tr>\n",
       "    <tr>\n",
       "      <th>7</th>\n",
       "      <td>&lt;unk&gt;</td>\n",
       "      <td>&lt;unk&gt;&lt;unk&gt;&lt;unk&gt;&lt;unk&gt;&lt;unk&gt;&lt;unk&gt;&lt;unk&gt; &lt;unk&gt;&lt;unk&gt; &lt;unk&gt;&lt;unk&gt;&lt;unk&gt;&lt;unk&gt; &lt;unk&gt;&lt;unk&gt;&lt;unk&gt;&lt;unk&gt;&lt;unk&gt; &lt;unk&gt;&lt;unk&gt;&lt;unk&gt;&lt;unk&gt;&lt;unk&gt; &lt;unk&gt;&lt;unk&gt;&lt;unk&gt; &lt;unk&gt;&lt;unk&gt;&lt;unk&gt;&lt;unk&gt;&lt;unk&gt;&lt;unk&gt;&lt;unk&gt;&lt;unk&gt;&lt;unk&gt;</td>\n",
       "    </tr>\n",
       "    <tr>\n",
       "      <th>8</th>\n",
       "      <td>&lt;unk&gt;</td>\n",
       "      <td>&lt;unk&gt;&lt;unk&gt;&lt;unk&gt; &lt;unk&gt;&lt;unk&gt;&lt;unk&gt;&lt;unk&gt;&lt;unk&gt;&lt;unk&gt;&lt;unk&gt; &lt;unk&gt;&lt;unk&gt;&lt;unk&gt; &lt;unk&gt; &lt;unk&gt;&lt;unk&gt;&lt;unk&gt;&lt;unk&gt; &lt;unk&gt;&lt;unk&gt;&lt;unk&gt;&lt;unk&gt;&lt;unk&gt;&lt;unk&gt;</td>\n",
       "    </tr>\n",
       "    <tr>\n",
       "      <th>9</th>\n",
       "      <td>&lt;unk&gt;</td>\n",
       "      <td>&lt;unk&gt;&lt;unk&gt;&lt;unk&gt;&lt;unk&gt;&lt;unk&gt;&lt;unk&gt;&lt;unk&gt; &lt;unk&gt;&lt;unk&gt;&lt;unk&gt;&lt;unk&gt; &lt;unk&gt;&lt;unk&gt;&lt;unk&gt;&lt;unk&gt;&lt;unk&gt;&lt;unk&gt; &lt;unk&gt;&lt;unk&gt; &lt;unk&gt;&lt;unk&gt;&lt;unk&gt;&lt;unk&gt;&lt;unk&gt;&lt;unk&gt;&lt;unk&gt; &lt;unk&gt;&lt;unk&gt;&lt;unk&gt;&lt;unk&gt; &lt;unk&gt;&lt;unk&gt;&lt;unk&gt;&lt;unk&gt;&lt;unk&gt;&lt;unk&gt;</td>\n",
       "    </tr>\n",
       "  </tbody>\n",
       "</table>"
      ],
      "text/plain": [
       "<IPython.core.display.HTML object>"
      ]
     },
     "metadata": {},
     "output_type": "display_data"
    }
   ],
   "source": [
    "show_random_elements(results)"
   ]
  },
  {
   "cell_type": "code",
   "execution_count": 212,
   "metadata": {},
   "outputs": [
    {
     "data": {
      "text/plain": [
       "'<pad> <pad> <pad> <pad> <pad> <pad> <pad> <pad> <pad> <pad> <pad> <pad> <pad> <pad> <pad> <pad> <pad> I I T <pad> | | W W A <pad> S S | | <pad> I I M <pad> <pad> <pad> P <pad> <pad> <pad> <pad> O S <pad> <pad> <pad> S S <pad> <pad> I I <pad> B <pad> L L L E | | <pad> <pad> T <pad> <pad> O O | | R R <pad> E <pad> <pad> <pad> S <pad> <pad> <pad> <pad> I I S S <pad> T T <pad> | | | <pad> <pad> I <pad> N <pad> | | | <pad> E E <pad> X <pad> <pad> <pad> <pad> <pad> <pad> <pad> <pad> I I S S <pad> <pad> T T <pad> <pad> <pad> <pad> <pad> E N N <pad> <pad> C E E <pad> <pad> <pad> <pad> <pad> <pad> <pad> <pad> <pad>'"
      ]
     },
     "execution_count": 212,
     "metadata": {},
     "output_type": "execute_result"
    }
   ],
   "source": [
    "with torch.no_grad():\n",
    "  logits = mymodel(torch.tensor(vectorized_datasets[\"test\"][:1][\"input_values\"], device=\"cuda\")).logits\n",
    "\n",
    "pred_ids = torch.argmax(logits, dim=-1)\n",
    "\n",
    "# convert ids to tokens\n",
    "\" \".join(processor.tokenizer.convert_ids_to_tokens(pred_ids[0].tolist()))"
   ]
  },
  {
   "cell_type": "markdown",
   "metadata": {},
   "source": [
    "# Custom Training loop"
   ]
  },
  {
   "cell_type": "code",
   "execution_count": 213,
   "metadata": {},
   "outputs": [],
   "source": [
    "from torch.utils.data.dataloader import DataLoader\n",
    "batch_size = 8\n",
    "train_dataloader = DataLoader(\n",
    "    vectorized_datasets[\"train\"],\n",
    "    shuffle=True,\n",
    "    collate_fn=data_collator,\n",
    "    batch_size=batch_size,\n",
    ")\n"
   ]
  },
  {
   "cell_type": "code",
   "execution_count": 214,
   "metadata": {},
   "outputs": [
    {
     "name": "stderr",
     "output_type": "stream",
     "text": [
      "c:\\Users\\lkk68\\.conda\\envs\\mycondapy310\\lib\\site-packages\\transformers\\optimization.py:411: FutureWarning: This implementation of AdamW is deprecated and will be removed in a future version. Use the PyTorch implementation torch.optim.AdamW instead, or set `no_deprecation_warning=True` to disable this warning\n",
      "  warnings.warn(\n"
     ]
    }
   ],
   "source": [
    "# Optimizer\n",
    "learning_rate=5e-5\n",
    "adam_beta1=0.9\n",
    "adam_beta2=0.999\n",
    "adam_epsilon=1e-8\n",
    "optimizer = AdamW(\n",
    "    list(model.parameters()),\n",
    "    lr=learning_rate,\n",
    "    betas=[adam_beta1, adam_beta2],\n",
    "    eps=adam_epsilon,\n",
    ")"
   ]
  },
  {
   "cell_type": "code",
   "execution_count": 215,
   "metadata": {},
   "outputs": [],
   "source": [
    "import math\n",
    "gradient_accumulation_steps =1\n",
    "num_update_steps_per_epoch = math.ceil(len(train_dataloader) / gradient_accumulation_steps)"
   ]
  },
  {
   "cell_type": "code",
   "execution_count": 216,
   "metadata": {},
   "outputs": [
    {
     "data": {
      "text/plain": [
       "242"
      ]
     },
     "execution_count": 216,
     "metadata": {},
     "output_type": "execute_result"
    }
   ],
   "source": [
    "num_update_steps_per_epoch"
   ]
  },
  {
   "cell_type": "code",
   "execution_count": 217,
   "metadata": {},
   "outputs": [],
   "source": [
    "num_train_epochs = 6\n",
    "max_train_steps = num_train_epochs * num_update_steps_per_epoch"
   ]
  },
  {
   "cell_type": "code",
   "execution_count": 218,
   "metadata": {},
   "outputs": [],
   "source": [
    "num_warmup_steps = 10\n",
    "lr_scheduler = get_scheduler(\n",
    "        name=\"linear\", #[\"linear\", \"cosine\", \"cosine_with_restarts\", \"polynomial\", \"constant\", \"constant_with_warmup\"]\n",
    "        optimizer=optimizer,\n",
    "        num_warmup_steps=num_warmup_steps,\n",
    "        num_training_steps=max_train_steps,\n",
    "    )"
   ]
  },
  {
   "cell_type": "code",
   "execution_count": 220,
   "metadata": {},
   "outputs": [],
   "source": [
    "#recalculate our number of training epochs\n",
    "num_train_epochs = math.ceil(max_train_steps / num_update_steps_per_epoch)"
   ]
  },
  {
   "cell_type": "code",
   "execution_count": 221,
   "metadata": {},
   "outputs": [],
   "source": [
    "total_batch_size = batch_size * gradient_accumulation_steps"
   ]
  },
  {
   "cell_type": "code",
   "execution_count": 222,
   "metadata": {},
   "outputs": [
    {
     "data": {
      "text/plain": [
       "Wav2Vec2ForCTC(\n",
       "  (wav2vec2): Wav2Vec2Model(\n",
       "    (feature_extractor): Wav2Vec2FeatureEncoder(\n",
       "      (conv_layers): ModuleList(\n",
       "        (0): Wav2Vec2GroupNormConvLayer(\n",
       "          (conv): Conv1d(1, 512, kernel_size=(10,), stride=(5,), bias=False)\n",
       "          (activation): GELUActivation()\n",
       "          (layer_norm): GroupNorm(512, 512, eps=1e-05, affine=True)\n",
       "        )\n",
       "        (1-4): 4 x Wav2Vec2NoLayerNormConvLayer(\n",
       "          (conv): Conv1d(512, 512, kernel_size=(3,), stride=(2,), bias=False)\n",
       "          (activation): GELUActivation()\n",
       "        )\n",
       "        (5-6): 2 x Wav2Vec2NoLayerNormConvLayer(\n",
       "          (conv): Conv1d(512, 512, kernel_size=(2,), stride=(2,), bias=False)\n",
       "          (activation): GELUActivation()\n",
       "        )\n",
       "      )\n",
       "    )\n",
       "    (feature_projection): Wav2Vec2FeatureProjection(\n",
       "      (layer_norm): LayerNorm((512,), eps=1e-05, elementwise_affine=True)\n",
       "      (projection): Linear(in_features=512, out_features=768, bias=True)\n",
       "      (dropout): Dropout(p=0.1, inplace=False)\n",
       "    )\n",
       "    (encoder): Wav2Vec2Encoder(\n",
       "      (pos_conv_embed): Wav2Vec2PositionalConvEmbedding(\n",
       "        (conv): ParametrizedConv1d(\n",
       "          768, 768, kernel_size=(128,), stride=(1,), padding=(64,), groups=16\n",
       "          (parametrizations): ModuleDict(\n",
       "            (weight): ParametrizationList(\n",
       "              (0): _WeightNorm()\n",
       "            )\n",
       "          )\n",
       "        )\n",
       "        (padding): Wav2Vec2SamePadLayer()\n",
       "        (activation): GELUActivation()\n",
       "      )\n",
       "      (layer_norm): LayerNorm((768,), eps=1e-05, elementwise_affine=True)\n",
       "      (dropout): Dropout(p=0.1, inplace=False)\n",
       "      (layers): ModuleList(\n",
       "        (0-11): 12 x Wav2Vec2EncoderLayer(\n",
       "          (attention): Wav2Vec2Attention(\n",
       "            (k_proj): Linear(in_features=768, out_features=768, bias=True)\n",
       "            (v_proj): Linear(in_features=768, out_features=768, bias=True)\n",
       "            (q_proj): Linear(in_features=768, out_features=768, bias=True)\n",
       "            (out_proj): Linear(in_features=768, out_features=768, bias=True)\n",
       "          )\n",
       "          (dropout): Dropout(p=0.1, inplace=False)\n",
       "          (layer_norm): LayerNorm((768,), eps=1e-05, elementwise_affine=True)\n",
       "          (feed_forward): Wav2Vec2FeedForward(\n",
       "            (intermediate_dropout): Dropout(p=0.1, inplace=False)\n",
       "            (intermediate_dense): Linear(in_features=768, out_features=3072, bias=True)\n",
       "            (intermediate_act_fn): GELUActivation()\n",
       "            (output_dense): Linear(in_features=3072, out_features=768, bias=True)\n",
       "            (output_dropout): Dropout(p=0.1, inplace=False)\n",
       "          )\n",
       "          (final_layer_norm): LayerNorm((768,), eps=1e-05, elementwise_affine=True)\n",
       "        )\n",
       "      )\n",
       "    )\n",
       "  )\n",
       "  (dropout): Dropout(p=0.1, inplace=False)\n",
       "  (lm_head): Linear(in_features=768, out_features=32, bias=True)\n",
       ")"
      ]
     },
     "execution_count": 222,
     "metadata": {},
     "output_type": "execute_result"
    }
   ],
   "source": [
    "model"
   ]
  },
  {
   "cell_type": "code",
   "execution_count": 223,
   "metadata": {},
   "outputs": [
    {
     "data": {
      "text/plain": [
       "Wav2Vec2ForCTC(\n",
       "  (wav2vec2): Wav2Vec2Model(\n",
       "    (feature_extractor): Wav2Vec2FeatureEncoder(\n",
       "      (conv_layers): ModuleList(\n",
       "        (0): Wav2Vec2GroupNormConvLayer(\n",
       "          (conv): Conv1d(1, 512, kernel_size=(10,), stride=(5,), bias=False)\n",
       "          (activation): GELUActivation()\n",
       "          (layer_norm): GroupNorm(512, 512, eps=1e-05, affine=True)\n",
       "        )\n",
       "        (1-4): 4 x Wav2Vec2NoLayerNormConvLayer(\n",
       "          (conv): Conv1d(512, 512, kernel_size=(3,), stride=(2,), bias=False)\n",
       "          (activation): GELUActivation()\n",
       "        )\n",
       "        (5-6): 2 x Wav2Vec2NoLayerNormConvLayer(\n",
       "          (conv): Conv1d(512, 512, kernel_size=(2,), stride=(2,), bias=False)\n",
       "          (activation): GELUActivation()\n",
       "        )\n",
       "      )\n",
       "    )\n",
       "    (feature_projection): Wav2Vec2FeatureProjection(\n",
       "      (layer_norm): LayerNorm((512,), eps=1e-05, elementwise_affine=True)\n",
       "      (projection): Linear(in_features=512, out_features=768, bias=True)\n",
       "      (dropout): Dropout(p=0.1, inplace=False)\n",
       "    )\n",
       "    (encoder): Wav2Vec2Encoder(\n",
       "      (pos_conv_embed): Wav2Vec2PositionalConvEmbedding(\n",
       "        (conv): ParametrizedConv1d(\n",
       "          768, 768, kernel_size=(128,), stride=(1,), padding=(64,), groups=16\n",
       "          (parametrizations): ModuleDict(\n",
       "            (weight): ParametrizationList(\n",
       "              (0): _WeightNorm()\n",
       "            )\n",
       "          )\n",
       "        )\n",
       "        (padding): Wav2Vec2SamePadLayer()\n",
       "        (activation): GELUActivation()\n",
       "      )\n",
       "      (layer_norm): LayerNorm((768,), eps=1e-05, elementwise_affine=True)\n",
       "      (dropout): Dropout(p=0.1, inplace=False)\n",
       "      (layers): ModuleList(\n",
       "        (0-11): 12 x Wav2Vec2EncoderLayer(\n",
       "          (attention): Wav2Vec2Attention(\n",
       "            (k_proj): Linear(in_features=768, out_features=768, bias=True)\n",
       "            (v_proj): Linear(in_features=768, out_features=768, bias=True)\n",
       "            (q_proj): Linear(in_features=768, out_features=768, bias=True)\n",
       "            (out_proj): Linear(in_features=768, out_features=768, bias=True)\n",
       "          )\n",
       "          (dropout): Dropout(p=0.1, inplace=False)\n",
       "          (layer_norm): LayerNorm((768,), eps=1e-05, elementwise_affine=True)\n",
       "          (feed_forward): Wav2Vec2FeedForward(\n",
       "            (intermediate_dropout): Dropout(p=0.1, inplace=False)\n",
       "            (intermediate_dense): Linear(in_features=768, out_features=3072, bias=True)\n",
       "            (intermediate_act_fn): GELUActivation()\n",
       "            (output_dense): Linear(in_features=3072, out_features=768, bias=True)\n",
       "            (output_dropout): Dropout(p=0.1, inplace=False)\n",
       "          )\n",
       "          (final_layer_norm): LayerNorm((768,), eps=1e-05, elementwise_affine=True)\n",
       "        )\n",
       "      )\n",
       "    )\n",
       "  )\n",
       "  (dropout): Dropout(p=0.1, inplace=False)\n",
       "  (lm_head): Linear(in_features=768, out_features=32, bias=True)\n",
       ")"
      ]
     },
     "execution_count": 223,
     "metadata": {},
     "output_type": "execute_result"
    }
   ],
   "source": [
    "gpuid=0\n",
    "if torch.cuda.is_available():\n",
    "    device = torch.device('cuda:'+str(gpuid))  # CUDA GPU 0\n",
    "elif torch.backends.mps.is_available():\n",
    "    device = torch.device(\"mps\")\n",
    "else:\n",
    "    device = torch.device(\"cpu\")\n",
    "model.to(device)"
   ]
  },
  {
   "cell_type": "code",
   "execution_count": 228,
   "metadata": {},
   "outputs": [
    {
     "name": "stderr",
     "output_type": "stream",
     "text": [
      "  3%|▎         | 48/1452 [00:32<15:57,  1.47it/s]\n",
      " 17%|█▋        | 242/1452 [01:51<08:15,  2.44it/s]"
     ]
    },
    {
     "name": "stdout",
     "output_type": "stream",
     "text": [
      "epoch 0, loss: 0.016273705288767815\n"
     ]
    },
    {
     "name": "stderr",
     "output_type": "stream",
     "text": [
      " 33%|███▎      | 484/1452 [03:43<06:07,  2.64it/s]"
     ]
    },
    {
     "name": "stdout",
     "output_type": "stream",
     "text": [
      "epoch 1, loss: 0.018542783334851265\n"
     ]
    },
    {
     "name": "stderr",
     "output_type": "stream",
     "text": [
      " 50%|█████     | 726/1452 [05:34<04:52,  2.48it/s]"
     ]
    },
    {
     "name": "stdout",
     "output_type": "stream",
     "text": [
      "epoch 2, loss: 0.014463784173130989\n"
     ]
    },
    {
     "name": "stderr",
     "output_type": "stream",
     "text": [
      " 67%|██████▋   | 968/1452 [07:26<03:17,  2.45it/s]"
     ]
    },
    {
     "name": "stdout",
     "output_type": "stream",
     "text": [
      "epoch 3, loss: 0.015551198273897171\n"
     ]
    },
    {
     "name": "stderr",
     "output_type": "stream",
     "text": [
      " 83%|████████▎ | 1210/1452 [09:18<01:36,  2.51it/s]"
     ]
    },
    {
     "name": "stdout",
     "output_type": "stream",
     "text": [
      "epoch 4, loss: 0.03556506335735321\n"
     ]
    },
    {
     "name": "stderr",
     "output_type": "stream",
     "text": [
      "100%|██████████| 1452/1452 [11:09<00:00,  2.55it/s]"
     ]
    },
    {
     "name": "stdout",
     "output_type": "stream",
     "text": [
      "epoch 5, loss: 0.04022493213415146\n"
     ]
    }
   ],
   "source": [
    "from tqdm.auto import tqdm\n",
    "\n",
    "progress_bar = tqdm(range(max_train_steps))\n",
    "completed_steps = 0\n",
    "starting_epoch = 0\n",
    "for epoch in range(starting_epoch, num_train_epochs):\n",
    "    model.train()\n",
    "    losses=[]\n",
    "    for step, batch in enumerate(train_dataloader):\n",
    "        batch = {k: v.to(device) for k, v in batch.items()}\n",
    "        outputs = model(**batch)\n",
    "        loss = outputs.loss\n",
    "        if gradient_accumulation_steps > 1:\n",
    "            loss = loss / gradient_accumulation_steps\n",
    "\n",
    "        #backward\n",
    "        loss.backward()\n",
    "\n",
    "        if step % gradient_accumulation_steps == 0 or step == len(train_dataloader) - 1:\n",
    "                optimizer.step()\n",
    "                lr_scheduler.step()\n",
    "                optimizer.zero_grad()\n",
    "                progress_bar.update(1)\n",
    "                completed_steps += 1\n",
    "        \n",
    "    print(f\"epoch {epoch}, loss: {loss}\")"
   ]
  },
  {
   "cell_type": "code",
   "execution_count": 234,
   "metadata": {},
   "outputs": [],
   "source": [
    "eval_dataloader = DataLoader(\n",
    "    vectorized_datasets[valkeyname], collate_fn=data_collator, batch_size=1\n",
    ")"
   ]
  },
  {
   "cell_type": "code",
   "execution_count": 247,
   "metadata": {},
   "outputs": [
    {
     "name": "stderr",
     "output_type": "stream",
     "text": [
      "c:\\Users\\lkk68\\.conda\\envs\\mycondapy310\\lib\\site-packages\\transformers\\models\\wav2vec2\\processing_wav2vec2.py:155: UserWarning: `as_target_processor` is deprecated and will be removed in v5 of Transformers. You can process your labels by using the argument `text` of the regular `__call__` method (either in the same call as your audio inputs, or in a separate call.\n",
      "  warnings.warn(\n"
     ]
    }
   ],
   "source": [
    "batch=next(iter(eval_dataloader))"
   ]
  },
  {
   "cell_type": "code",
   "execution_count": 249,
   "metadata": {},
   "outputs": [
    {
     "data": {
      "text/plain": [
       "torch.Size([1, 40])"
      ]
     },
     "execution_count": 249,
     "metadata": {},
     "output_type": "execute_result"
    }
   ],
   "source": [
    "batch[\"labels\"].shape"
   ]
  },
  {
   "cell_type": "code",
   "execution_count": 250,
   "metadata": {},
   "outputs": [
    {
     "data": {
      "text/plain": [
       "torch.Size([1, 47360])"
      ]
     },
     "execution_count": 250,
     "metadata": {},
     "output_type": "execute_result"
    }
   ],
   "source": [
    "batch[\"input_values\"].shape"
   ]
  },
  {
   "cell_type": "code",
   "execution_count": 275,
   "metadata": {},
   "outputs": [],
   "source": [
    "def evaluate_dataset(model, processor, eval_dataloader, device):\n",
    "    # Evaluation\n",
    "    totallen = len(eval_dataloader)\n",
    "    print(\"Total evaluation length:\", totallen)\n",
    "    model.eval()\n",
    "    predictions=[]\n",
    "    references=[]\n",
    "    for batch in tqdm(eval_dataloader):\n",
    "        #batch = {k: v.to(device) for k, v in batch.items()}\n",
    "        with torch.no_grad():\n",
    "            #outputs = model(**batch)\n",
    "            print(\"input shape:\", batch[\"input_values\"].shape)\n",
    "            input_values = torch.tensor(batch[\"input_values\"], device=device)#.unsqueeze(0)\n",
    "            logits = model(input_values).logits\n",
    "        #logits = outputs.logits\n",
    "        print(logits.shape)\n",
    "        predicted_ids = torch.argmax(logits[0], dim=-1)\n",
    "        # transcribe speech\n",
    "        print(\"predicted_ids shape\", predicted_ids.shape)\n",
    "        #print(predicted_ids)\n",
    "        pred_str = processor.decode(predicted_ids)\n",
    "        #batch_decode results do not perform tokenization?\n",
    "        predictions.append(pred_str)\n",
    "        text_str = processor.decode(batch[\"labels\"][0], group_tokens=False)\n",
    "        references.append(text_str)\n",
    "        print(\"pred_str\", pred_str)\n",
    "        print(\"text_str\", text_str)\n",
    "    werscore=wer_metric.compute(predictions=predictions, references=references)\n",
    "    print(\"Test WER: {:.3f}\".format(werscore))"
   ]
  },
  {
   "cell_type": "code",
   "execution_count": 243,
   "metadata": {},
   "outputs": [
    {
     "data": {
      "text/plain": [
       "10"
      ]
     },
     "execution_count": 243,
     "metadata": {},
     "output_type": "execute_result"
    }
   ],
   "source": [
    "len(eval_dataloader)"
   ]
  },
  {
   "cell_type": "code",
   "execution_count": 276,
   "metadata": {},
   "outputs": [
    {
     "name": "stdout",
     "output_type": "stream",
     "text": [
      "Total evaluation length: 10\n"
     ]
    },
    {
     "name": "stderr",
     "output_type": "stream",
     "text": []
    },
    {
     "name": "stdout",
     "output_type": "stream",
     "text": [
      "input shape: torch.Size([1, 47360])\n",
      "torch.Size([1, 147, 32])\n",
      "predicted_ids shape torch.Size([147])\n",
      "pred_str IT WAS IMPOSSIBLE TO RESIST IN EXISTENCE\n",
      "text_str IT WAS IMPOSSIBLE TO RESIST AN EXISTENCE\n",
      "input shape: torch.Size([1, 64320])\n",
      "torch.Size([1, 200, 32])\n",
      "predicted_ids shape torch.Size([200])\n"
     ]
    },
    {
     "name": "stderr",
     "output_type": "stream",
     "text": [
      "c:\\Users\\lkk68\\.conda\\envs\\mycondapy310\\lib\\site-packages\\transformers\\models\\wav2vec2\\processing_wav2vec2.py:155: UserWarning: `as_target_processor` is deprecated and will be removed in v5 of Transformers. You can process your labels by using the argument `text` of the regular `__call__` method (either in the same call as your audio inputs, or in a separate call.\n",
      "  warnings.warn(\n",
      "C:\\Users\\lkk68\\AppData\\Local\\Temp\\ipykernel_15572\\2957877289.py:13: UserWarning: To copy construct from a tensor, it is recommended to use sourceTensor.clone().detach() or sourceTensor.clone().detach().requires_grad_(True), rather than torch.tensor(sourceTensor).\n",
      "  input_values = torch.tensor(batch[\"input_values\"], device=device)#.unsqueeze(0)\n",
      "\n"
     ]
    },
    {
     "name": "stdout",
     "output_type": "stream",
     "text": [
      "pred_str I HAVE TRAVELLED A GOOD DEAL AND SEEN MUCH GRANDER THINGS\n",
      "text_str I HAVE TRAVELLED A GOOD DEAL AND SEEN MUCH GRANDER THINGS\n",
      "input shape: torch.Size([1, 52640])\n",
      "torch.Size([1, 164, 32])\n",
      "predicted_ids shape torch.Size([164])\n",
      "pred_str IN THE COURSE OF THE DAY I RECEIVED THIS NOTE\n",
      "text_str IN THE COURSE OF THE DAY I RECEIVED THIS NOTE\n",
      "input shape: torch.Size([1, 44960])\n",
      "torch.Size([1, 140, 32])\n",
      "predicted_ids shape torch.Size([140])\n",
      "pred_str BE AT PRUDENCE'S TONIGHT AT EIGHT\n",
      "text_str BE AT PRUDENCE'S TO NIGHT AT EIGHT\n"
     ]
    },
    {
     "name": "stderr",
     "output_type": "stream",
     "text": [
      " 40%|████      | 4/10 [00:00<00:00,  9.76it/s]\u001b[A"
     ]
    },
    {
     "name": "stdout",
     "output_type": "stream",
     "text": [
      "input shape: torch.Size([1, 66320])\n",
      "torch.Size([1, 207, 32])\n",
      "predicted_ids shape torch.Size([207])\n",
      "pred_str NO AT POINT DEJOUR WHERE WE HAD DINNER THE DUKE AND I\n",
      "text_str NO AT POINT DU JOUR WHERE WE HAD DINNER THE DUKE AND I\n",
      "input shape: torch.Size([1, 76320])\n",
      "torch.Size([1, 238, 32])\n",
      "predicted_ids shape torch.Size([238])\n",
      "pred_str I HAPPENED TO DODGE A BALL FIRED FROM THE OTHER SIDE AND IT WENT THROUGH THE GLASS WHAT\n",
      "text_str I HAPPENED TO DODGE A BALL FIRED FROM THE OTHER SIDE AND IT WENT THROUGH THE GLASS WHAT\n",
      "input shape: torch.Size([1, 61840])\n",
      "torch.Size([1, 193, 32])\n",
      "predicted_ids shape torch.Size([193])\n"
     ]
    },
    {
     "name": "stderr",
     "output_type": "stream",
     "text": []
    },
    {
     "name": "stdout",
     "output_type": "stream",
     "text": [
      "pred_str ALTHOUGH THE LATTER HAD NOT BEEN A RESIDENT THERE MUCH MORE THAN THREE YEARS\n",
      "text_str ALTHOUGH THE LATTER HAD NOT BEEN A RESIDENT THERE MUCH MORE THAN THREE YEARS\n",
      "input shape: torch.Size([1, 44560])\n",
      "torch.Size([1, 139, 32])\n",
      "predicted_ids shape torch.Size([139])\n",
      "pred_str AS THE FOUR CHUMS WENT AWAY JERRY CHUCKLED\n",
      "text_str AS THE FOUR CHUMS WENT AWAY JERRY CHUCKLED\n",
      "input shape: torch.Size([1, 52000])\n",
      "torch.Size([1, 162, 32])\n",
      "predicted_ids shape torch.Size([162])\n",
      "pred_str OH NO IT ISN'T SO BAD AS THAT HE WAS ASSURED\n",
      "text_str OH NO IT ISN'T SO BAD AS THAT HE WAS ASSURED\n",
      "input shape: torch.Size([1, 54240])\n",
      "torch.Size([1, 169, 32])\n",
      "predicted_ids shape torch.Size([169])\n"
     ]
    },
    {
     "name": "stderr",
     "output_type": "stream",
     "text": [
      "100%|██████████| 10/10 [00:00<00:00, 11.31it/s]"
     ]
    },
    {
     "name": "stdout",
     "output_type": "stream",
     "text": [
      "pred_str WELL SO LONG BOYS AND WE ALL WISH YOU SUCCESS\n",
      "text_str WELL SO LONG BOYS AND WE ALL WISH YOU SUCCESS\n",
      "Test WER: 0.046\n"
     ]
    },
    {
     "name": "stderr",
     "output_type": "stream",
     "text": [
      "\n"
     ]
    }
   ],
   "source": [
    "evaluate_dataset(mymodel, processor, eval_dataloader, device)"
   ]
  }
 ],
 "metadata": {
  "kernelspec": {
   "display_name": "mycondapy310",
   "language": "python",
   "name": "python3"
  },
  "language_info": {
   "codemirror_mode": {
    "name": "ipython",
    "version": 3
   },
   "file_extension": ".py",
   "mimetype": "text/x-python",
   "name": "python",
   "nbconvert_exporter": "python",
   "pygments_lexer": "ipython3",
   "version": "3.10.13"
  }
 },
 "nbformat": 4,
 "nbformat_minor": 2
}
