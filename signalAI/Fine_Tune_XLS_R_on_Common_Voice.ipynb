{
  "cells": [
    {
      "cell_type": "markdown",
      "metadata": {
        "id": "LBSYoWbi-45k"
      },
      "source": [
        "# **Fine-tuning XLS-R for Multi-Lingual ASR with 🤗 Transformers**\n",
        "\n",
        "ref: https://huggingface.co/blog/fine-tune-xlsr-wav2vec2\n",
        "Original colab link: https://colab.research.google.com/github/patrickvonplaten/notebooks/blob/master/Fine_Tune_XLS_R_on_Common_Voice.ipynb\n"
      ]
    },
    {
      "cell_type": "markdown",
      "metadata": {
        "id": "V7YOT2mnUiea"
      },
      "source": [
        "**Wav2Vec2** is a pretrained model for Automatic Speech Recognition (ASR) and was released in [September 2020](https://ai.facebook.com/blog/wav2vec-20-learning-the-structure-of-speech-from-raw-audio/) by *Alexei Baevski, Michael Auli, and Alex Conneau*.  Soon after the superior performance of Wav2Vec2 was demonstrated on one of the most popular English datasets for ASR, called [LibriSpeech](https://huggingface.co/datasets/librispeech_asr), *Facebook AI* presented a multi-lingual version of Wav2Vec2, called [XLSR](https://arxiv.org/abs/2006.13979). XLSR stands for *cross-lingual speech representations* and refers to model's ability to learn speech representations that are useful across multiple languages.\n",
        "\n",
        "XLSR's successor, simply called **XLS-R** (refering to the [*''XLM-R*](https://ai.facebook.com/blog/-xlm-r-state-of-the-art-cross-lingual-understanding-through-self-supervision/) *for Speech''*), was released in [November 2021](https://ai.facebook.com/blog/xls-r-self-supervised-speech-processing-for-128-languages) by *Arun Babu, Changhan Wang, Andros Tjandra, et al.* XLS-R used almost **half a million** hours of audio data in 128 languages for self-supervised pre-training and comes in sizes ranging from 300 milion up to **two billion** parameters. You can find the pretrained checkpoints on the 🤗 Hub:\n",
        "\n",
        "- [**Wav2Vec2-XLS-R-300M**](https://huggingface.co/facebook/wav2vec2-xls-r-300m)\n",
        "- [**Wav2Vec2-XLS-R-1B**](https://huggingface.co/facebook/wav2vec2-xls-r-1b)\n",
        "- [**Wav2Vec2-XLS-R-2B**](https://huggingface.co/facebook/wav2vec2-xls-r-2b)\n",
        "\n",
        "Similar to [BERT's masked language modeling objective](http://jalammar.github.io/illustrated-bert/), XLS-R learns contextualized speech representations by randomly masking feature vectors before passing them to a transformer network during self-supervised pre-training (*i.e.* diagram on the left below).\n",
        "\n",
        "For fine-tuning, a single linear layer is added on top of the pre-trained network to train the model on labeled data of audio downstream tasks such as speech recognition, speech translation and audio classification (*i.e.* diagram on the right below).\n",
        "\n",
        "![wav2vec2_structure](https://raw.githubusercontent.com/patrickvonplaten/scientific_images/master/xls_r.png)\n",
        "\n",
        "XLS-R shows impressive improvements over previous state-of-the-art results on both speech recognition, speech translation and speaker/language identification, *cf.* with Table 3-6, Table 7-10, and Table 11-12 respectively of the official [paper](https://ai.facebook.com/blog/xls-r-self-supervised-speech-processing-for-128-languages)."
      ]
    },
    {
      "cell_type": "markdown",
      "metadata": {
        "id": "nT_QrfWtsxIz"
      },
      "source": [
        "## Notebook Setup"
      ]
    },
    {
      "cell_type": "markdown",
      "metadata": {
        "id": "kruqixOYHaIo"
      },
      "source": [
        "\n",
        "In this notebook, we will give an in-detail explanation of how XLS-R - more specifically the pre-trained checkpoint [**Wav2Vec2-XLS-R-300M**](https://huggingface.co/facebook/wav2vec2-xls-r-300m) - can be fine-tuned for ASR.  \n",
        "\n",
        "For demonstration purposes, we fine-tune the model on the low resource ASR dataset of [Common Voice](https://huggingface.co/datasets/common_voice) that contains only *ca.* 4h of validated training data."
      ]
    },
    {
      "cell_type": "markdown",
      "metadata": {
        "id": "Gx9OdDYrCtQ1"
      },
      "source": [
        "XLS-R is fine-tuned using Connectionist Temporal Classification (CTC), which is an algorithm that is used to train neural networks for sequence-to-sequence problems, such as ASR and handwriting recognition.\n",
        "\n",
        "I highly recommend reading the well-written blog post [*Sequence Modeling with CTC (2017)*](https://distill.pub/2017/ctc/) by Awni Hannun."
      ]
    },
    {
      "cell_type": "markdown",
      "metadata": {
        "id": "wcHuXIaWyHZU"
      },
      "source": [
        "First, let's try to get a good GPU in our colab! With Google Colab's free version it's sadly becoming much harder to get access to a good GPU. With Google Colab Pro, however, one should easily get either a V100 or P100 GPU."
      ]
    },
    {
      "cell_type": "code",
      "execution_count": 1,
      "metadata": {
        "colab": {
          "base_uri": "https://localhost:8080/"
        },
        "id": "YELVqGxMxnbG",
        "outputId": "1ab7eb67-409d-4371-b99e-7eb1171cb5fb"
      },
      "outputs": [
        {
          "name": "stdout",
          "output_type": "stream",
          "text": [
            "Thu Jan 18 14:25:27 2024       \n",
            "+---------------------------------------------------------------------------------------+\n",
            "| NVIDIA-SMI 545.23.08              Driver Version: 545.23.08    CUDA Version: 12.3     |\n",
            "|-----------------------------------------+----------------------+----------------------+\n",
            "| GPU  Name                 Persistence-M | Bus-Id        Disp.A | Volatile Uncorr. ECC |\n",
            "| Fan  Temp   Perf          Pwr:Usage/Cap |         Memory-Usage | GPU-Util  Compute M. |\n",
            "|                                         |                      |               MIG M. |\n",
            "|=========================================+======================+======================|\n",
            "|   0  NVIDIA GeForce RTX 4090        On  | 00000000:01:00.0 Off |                  Off |\n",
            "|  0%   30C    P8              38W / 480W |     14MiB / 24564MiB |      0%      Default |\n",
            "|                                         |                      |                  N/A |\n",
            "+-----------------------------------------+----------------------+----------------------+\n",
            "                                                                                         \n",
            "+---------------------------------------------------------------------------------------+\n",
            "| Processes:                                                                            |\n",
            "|  GPU   GI   CI        PID   Type   Process name                            GPU Memory |\n",
            "|        ID   ID                                                             Usage      |\n",
            "|=======================================================================================|\n",
            "|    0   N/A  N/A      1842      G   /usr/lib/xorg/Xorg                            4MiB |\n",
            "+---------------------------------------------------------------------------------------+\n"
          ]
        }
      ],
      "source": [
        "gpu_info = !nvidia-smi\n",
        "gpu_info = '\\n'.join(gpu_info)\n",
        "if gpu_info.find('failed') >= 0:\n",
        "  print('Not connected to a GPU')\n",
        "else:\n",
        "  print(gpu_info)"
      ]
    },
    {
      "cell_type": "markdown",
      "metadata": {
        "id": "e335hPmdtASZ"
      },
      "source": [
        "Before we start, let's install `datasets` and `transformers`. Also, we need the `torchaudio` to load audio files and `jiwer` to evaluate our fine-tuned model using the [word error rate (WER)](https://huggingface.co/metrics/wer) metric ${}^1$."
      ]
    },
    {
      "cell_type": "code",
      "execution_count": null,
      "metadata": {
        "id": "c8eh87Hoee5d"
      },
      "outputs": [],
      "source": [
        "%%capture\n",
        "!pip install datasets==1.18.3\n",
        "!pip install transformers==4.11.3\n",
        "!pip install torchaudio==0.10.0+cu113 -f https://download.pytorch.org/whl/cu113/torch_stable.html\n",
        "!pip install jiwer"
      ]
    },
    {
      "cell_type": "markdown",
      "metadata": {
        "id": "0xxt_LwxDQlO"
      },
      "source": [
        "We strongly suggest to upload your training checkpoints directly to the [🤗 Hub](https://huggingface.co/) while training. The [🤗 Hub](https://huggingface.co/) has integrated version control so you can be sure that no model checkpoint is getting lost during training.\n",
        "\n",
        "To do so you have to store your authentication token from the Hugging Face website (sign up [here](https://huggingface.co/join) if you haven't already!)"
      ]
    },
    {
      "cell_type": "code",
      "execution_count": null,
      "metadata": {
        "colab": {
          "base_uri": "https://localhost:8080/",
          "height": 239,
          "referenced_widgets": [
            "b896566369e3403091e357af18648740",
            "26bf8a70fe5449a99ca1b06430b2fc8f",
            "dd5d9b3f70ee4a0dabe18e87ab38145c",
            "2d4eb3e5acc348948299c506db83ca90",
            "384228b409cb4bb0bbd77ef259b9a568",
            "0c01a04a8a924740af301c5c53a51315",
            "15f8964842df434ca0dee00d7dc1bd9a",
            "49f98244a8634be9b2305bb87731e765",
            "a28d3e82e04646b79c89f93cf40ee596",
            "4c3e043e600641538a479df6ad389784",
            "d11d94912b26401a860c80eba767907a",
            "6dd7aa6b17b34d18ba46d834ffd559bc",
            "4bf1f9d3031e4877aa6ef704e9a227d7",
            "bfb6a1e47f6e4f74af4db7e71227ef3e",
            "8541f8f949ea49b7a1335aaf31ca4f81",
            "c237b5686d3e48aeb226c87aa703f63d"
          ]
        },
        "id": "mlMSH3T3EazV",
        "outputId": "cecdacd4-9e12-4878-d5ae-fd2eeeb7d355"
      },
      "outputs": [
        {
          "data": {
            "application/vnd.jupyter.widget-view+json": {
              "model_id": "b896566369e3403091e357af18648740",
              "version_major": 2,
              "version_minor": 0
            },
            "text/plain": [
              "VBox(children=(HTML(value=\"<center>\\n<img src=https://huggingface.co/front/assets/huggingface_logo-noborder.sv…"
            ]
          },
          "metadata": {},
          "output_type": "display_data"
        }
      ],
      "source": [
        "from huggingface_hub import notebook_login\n",
        "\n",
        "notebook_login()"
      ]
    },
    {
      "cell_type": "markdown",
      "metadata": {
        "id": "ujdZ2TxhElk6"
      },
      "source": [
        "\n",
        "Then you need to install Git-LFS to upload your model checkpoints:"
      ]
    },
    {
      "cell_type": "code",
      "execution_count": null,
      "metadata": {
        "id": "WcR-d83OEkqb"
      },
      "outputs": [],
      "source": [
        "%%capture\n",
        "!apt install git-lfs"
      ]
    },
    {
      "cell_type": "markdown",
      "metadata": {
        "id": "Mn9swf6EQ9Vd"
      },
      "source": [
        "\n",
        "\n",
        "\n",
        "---\n",
        "\n",
        "${}^1$ In the [paper](https://arxiv.org/pdf/2006.13979.pdf), the model was evaluated using the phoneme error rate (PER), but by far the most common metric in ASR is the word error rate (WER). To keep this notebook as general as possible we decided to evaluate the model using WER."
      ]
    },
    {
      "cell_type": "markdown",
      "metadata": {
        "id": "0mW-C1Nt-j7k"
      },
      "source": [
        "## Prepare Data, Tokenizer, Feature Extractor"
      ]
    },
    {
      "cell_type": "markdown",
      "metadata": {
        "id": "BeBosnY9BH3e"
      },
      "source": [
        "ASR models transcribe speech to text, which means that we both need a feature extractor that processes the speech signal to the model's input format, *e.g.* a feature vector, and a tokenizer that processes the model's output format to text.\n",
        "\n",
        "In 🤗 Transformers, the XLS-R model is thus accompanied by both a tokenizer, called [Wav2Vec2CTCTokenizer](https://huggingface.co/transformers/master/model_doc/wav2vec2.html#wav2vec2ctctokenizer), and a feature extractor, called [Wav2Vec2FeatureExtractor](https://huggingface.co/transformers/master/model_doc/wav2vec2.html#wav2vec2featureextractor).\n",
        "\n",
        "Let's start by creating the tokenizer to decode the predicted output classes to the output transcription."
      ]
    },
    {
      "cell_type": "markdown",
      "metadata": {
        "id": "sEXEWEJGQPqD"
      },
      "source": [
        "### Create `Wav2Vec2CTCTokenizer`"
      ]
    },
    {
      "cell_type": "markdown",
      "metadata": {
        "id": "tWmMikuNEKl_"
      },
      "source": [
        "A pre-trained XLS-R model maps the speech signal to a sequence of context representations as illustrated in the figure above. However, for speech recognition the model has to to map this sequence of context representations to its corresponding transcription which means that a linear layer has to be added on top of the transformer block (shown in yellow in the diagram above). This linear layer is used to classifies each context representation to a token class analogous how, *e.g.*, after pretraining a linear layer is added on top of BERT's embeddings for further classification - *cf.* with *'BERT'* section of this [blog post](https://huggingface.co/blog/warm-starting-encoder-decoder)."
      ]
    },
    {
      "cell_type": "markdown",
      "metadata": {
        "id": "v5oRE8XjIUH3"
      },
      "source": [
        "The output size of this layer corresponds to the number of tokens in the vocabulary, which does **not** depend onXLS-R's pretraining task, but only on the labeled dataset used for fine-tuning. So in the first step, we will take a look at the chosen dataset of Common Voice and define a vocabulary based on the transcriptions."
      ]
    },
    {
      "cell_type": "markdown",
      "metadata": {
        "id": "idBczw8mWzgt"
      },
      "source": [
        "First, let's go to Common Voice [official website](https://commonvoice.mozilla.org/en/datasets) and pick a language to fine-tune XLS-R on. For this notebook, we will use Turkish.\n",
        "\n",
        "For each language-specific dataset, you can find a language code corresponding to your chosen language. On [Common Voice](https://commonvoice.mozilla.org/en/datasets), look for the field \"Version\". The language code then corresponds to the prefix before the underscore. For Turkish, *e.g.* the language code is `\"tr\"`.\n",
        "\n",
        "Great, now we can use 🤗 Datasets' simple API to download the data. The dataset name is `\"common_voice\"`, the configuration name corresponds to the language code, which is `\"tr\"` in our case."
      ]
    },
    {
      "cell_type": "markdown",
      "metadata": {
        "id": "bee4g9rpLxll"
      },
      "source": [
        "Common Voice has many different splits including `invalidated`, which refers to data that was not rated as \"clean enough\" to be considered useful. In this notebook, we will only make use of the splits `\"train\"`, `\"validation\"` and `\"test\"`.\n",
        "\n",
        "Because the Turkish dataset is so small, we will merge both the validation and training data into a training dataset and only use the test data for validation."
      ]
    },
    {
      "cell_type": "code",
      "execution_count": 2,
      "metadata": {},
      "outputs": [],
      "source": [
        "import os\n",
        "hfhome_dir=os.path.join(os.sep, 'DATA10T', 'Cache')\n",
        "#os.environ['TRANSFORMERS_CACHE'] = hfhome_dir\n",
        "os.environ['HF_HOME'] = hfhome_dir\n",
        "#os.environ['HF_HUB_CACHE'] = os.path.join(hfhome_dir, 'hub')\n",
        "os.environ['HF_DATASETS_CACHE'] = hfhome_dir\n",
        "#HF_HUB_OFFLINE=1\n",
        "mycache_dir = hfhome_dir"
      ]
    },
    {
      "cell_type": "code",
      "execution_count": 27,
      "metadata": {
        "colab": {
          "base_uri": "https://localhost:8080/"
        },
        "id": "2MMXcWFFgCXU",
        "outputId": "00961862-9e79-4e0e-c887-db62adafa553"
      },
      "outputs": [
        {
          "name": "stderr",
          "output_type": "stream",
          "text": [
            "/home/lkk/miniconda3/envs/mycondapy310/lib/python3.10/site-packages/datasets/load.py:1429: FutureWarning: The repository for mozilla-foundation/common_voice_11_0 contains custom code which must be executed to correctly load the dataset. You can inspect the repository content at https://hf.co/datasets/mozilla-foundation/common_voice_11_0\n",
            "You can avoid this message in future by passing the argument `trust_remote_code=True`.\n",
            "Passing `trust_remote_code=True` will be mandatory to load this dataset from the next major release of `datasets`.\n",
            "  warnings.warn(\n"
          ]
        },
        {
          "data": {
            "application/vnd.jupyter.widget-view+json": {
              "model_id": "a40d02055cdb4233b964d7a03a78573a",
              "version_major": 2,
              "version_minor": 0
            },
            "text/plain": [
              "Downloading builder script:   0%|          | 0.00/8.13k [00:00<?, ?B/s]"
            ]
          },
          "metadata": {},
          "output_type": "display_data"
        },
        {
          "data": {
            "application/vnd.jupyter.widget-view+json": {
              "model_id": "a8e5a42cfc33465aa48015c8ab806cbd",
              "version_major": 2,
              "version_minor": 0
            },
            "text/plain": [
              "Downloading readme:   0%|          | 0.00/14.4k [00:00<?, ?B/s]"
            ]
          },
          "metadata": {},
          "output_type": "display_data"
        },
        {
          "data": {
            "application/vnd.jupyter.widget-view+json": {
              "model_id": "31691907fc664a69a5b3e66b1314afa3",
              "version_major": 2,
              "version_minor": 0
            },
            "text/plain": [
              "Downloading extra modules:   0%|          | 0.00/3.44k [00:00<?, ?B/s]"
            ]
          },
          "metadata": {},
          "output_type": "display_data"
        },
        {
          "data": {
            "application/vnd.jupyter.widget-view+json": {
              "model_id": "105952e05db34d28a9d7e6b1d5e3db87",
              "version_major": 2,
              "version_minor": 0
            },
            "text/plain": [
              "Downloading extra modules:   0%|          | 0.00/60.9k [00:00<?, ?B/s]"
            ]
          },
          "metadata": {},
          "output_type": "display_data"
        }
      ],
      "source": [
        "from datasets import load_dataset, load_metric, Audio\n",
        "dataset_name = \"mozilla-foundation/common_voice_11_0\"\n",
        "Test_SAMPLES = 100\n",
        "Train_SAMPLES=1000\n",
        "train_dataset = load_dataset(dataset_name, \"en\", split=f\"train[:{Train_SAMPLES}]\", cache_dir=mycache_dir)\n",
        "test_dataset = load_dataset(dataset_name, \"en\", split=f\"test[:{Test_SAMPLES}]\", cache_dir=mycache_dir)"
      ]
    },
    {
      "cell_type": "code",
      "execution_count": 3,
      "metadata": {},
      "outputs": [
        {
          "name": "stderr",
          "output_type": "stream",
          "text": [
            "<frozen importlib._bootstrap>:241: RuntimeWarning: pyarrow._fs.FileInfo size changed, may indicate binary incompatibility. Expected 64 from C header, got 88 from PyObject\n",
            "<frozen importlib._bootstrap>:241: RuntimeWarning: pyarrow._fs.FileSelector size changed, may indicate binary incompatibility. Expected 48 from C header, got 72 from PyObject\n",
            "/home/lkk/miniconda3/envs/mycondapy310/lib/python3.10/site-packages/datasets/load.py:1429: FutureWarning: The repository for mozilla-foundation/common_voice_11_0 contains custom code which must be executed to correctly load the dataset. You can inspect the repository content at https://hf.co/datasets/mozilla-foundation/common_voice_11_0\n",
            "You can avoid this message in future by passing the argument `trust_remote_code=True`.\n",
            "Passing `trust_remote_code=True` will be mandatory to load this dataset from the next major release of `datasets`.\n",
            "  warnings.warn(\n",
            "/home/lkk/miniconda3/envs/mycondapy310/lib/python3.10/site-packages/datasets/load.py:1429: FutureWarning: The repository for mozilla-foundation/common_voice_11_0 contains custom code which must be executed to correctly load the dataset. You can inspect the repository content at https://hf.co/datasets/mozilla-foundation/common_voice_11_0\n",
            "You can avoid this message in future by passing the argument `trust_remote_code=True`.\n",
            "Passing `trust_remote_code=True` will be mandatory to load this dataset from the next major release of `datasets`.\n",
            "  warnings.warn(\n"
          ]
        }
      ],
      "source": [
        "from datasets import load_dataset, load_metric, Audio\n",
        "dataset_name = \"mozilla-foundation/common_voice_11_0\"\n",
        "Test_SAMPLES = 200\n",
        "Train_SAMPLES=10000\n",
        "train_dataset = load_dataset(dataset_name, \"en\", split=f\"train[:{Train_SAMPLES}]\", cache_dir=mycache_dir)\n",
        "test_dataset = load_dataset(dataset_name, \"en\", split=f\"test[:{Test_SAMPLES}]\", cache_dir=mycache_dir)"
      ]
    },
    {
      "cell_type": "code",
      "execution_count": 10,
      "metadata": {},
      "outputs": [
        {
          "name": "stderr",
          "output_type": "stream",
          "text": [
            "Some weights of the model checkpoint at jonatasgrosman/wav2vec2-large-xlsr-53-english were not used when initializing Wav2Vec2ForCTC: ['wav2vec2.encoder.pos_conv_embed.conv.weight_v', 'wav2vec2.encoder.pos_conv_embed.conv.weight_g']\n",
            "- This IS expected if you are initializing Wav2Vec2ForCTC from the checkpoint of a model trained on another task or with another architecture (e.g. initializing a BertForSequenceClassification model from a BertForPreTraining model).\n",
            "- This IS NOT expected if you are initializing Wav2Vec2ForCTC from the checkpoint of a model that you expect to be exactly identical (initializing a BertForSequenceClassification model from a BertForSequenceClassification model).\n",
            "Some weights of Wav2Vec2ForCTC were not initialized from the model checkpoint at jonatasgrosman/wav2vec2-large-xlsr-53-english and are newly initialized: ['wav2vec2.encoder.pos_conv_embed.conv.parametrizations.weight.original0', 'wav2vec2.encoder.pos_conv_embed.conv.parametrizations.weight.original1']\n",
            "You should probably TRAIN this model on a down-stream task to be able to use it for predictions and inference.\n"
          ]
        }
      ],
      "source": [
        "import torch\n",
        "import librosa\n",
        "from datasets import load_dataset\n",
        "from transformers import Wav2Vec2ForCTC, Wav2Vec2Processor\n",
        "\n",
        "LANG_ID = \"en\"\n",
        "MODEL_ID = \"jonatasgrosman/wav2vec2-large-xlsr-53-english\" #https://huggingface.co/jonatasgrosman/wav2vec2-large-xlsr-53-english\n",
        "processor = Wav2Vec2Processor.from_pretrained(MODEL_ID, cache_dir=mycache_dir)\n",
        "model = Wav2Vec2ForCTC.from_pretrained(MODEL_ID, cache_dir=mycache_dir)"
      ]
    },
    {
      "cell_type": "code",
      "execution_count": 4,
      "metadata": {},
      "outputs": [
        {
          "data": {
            "text/plain": [
              "Dataset({\n",
              "    features: ['client_id', 'path', 'audio', 'sentence', 'up_votes', 'down_votes', 'age', 'gender', 'accent', 'locale', 'segment'],\n",
              "    num_rows: 200\n",
              "})"
            ]
          },
          "execution_count": 4,
          "metadata": {},
          "output_type": "execute_result"
        }
      ],
      "source": [
        "test_dataset"
      ]
    },
    {
      "cell_type": "code",
      "execution_count": 5,
      "metadata": {},
      "outputs": [
        {
          "data": {
            "text/plain": [
              "[{'path': '/DATA10T/Cache/downloads/extracted/ba5c265b423696aeece652c80df565d72d9f7c1cc9b807e127f44f989150f409/en_test_0/common_voice_en_27710027.mp3',\n",
              "  'array': array([-7.95807864e-13, -1.59161573e-12, -6.25277607e-12, ...,\n",
              "          1.52416442e-06,  1.94649760e-06,  1.25737506e-06]),\n",
              "  'sampling_rate': 48000},\n",
              " {'path': '/DATA10T/Cache/downloads/extracted/ba5c265b423696aeece652c80df565d72d9f7c1cc9b807e127f44f989150f409/en_test_0/common_voice_en_699711.mp3',\n",
              "  'array': array([ 0.00000000e+00, -7.05920511e-14, -5.47149741e-14, ...,\n",
              "         -8.53668247e-09,  2.06165751e-09,  1.62003939e-08]),\n",
              "  'sampling_rate': 48000},\n",
              " {'path': '/DATA10T/Cache/downloads/extracted/ba5c265b423696aeece652c80df565d72d9f7c1cc9b807e127f44f989150f409/en_test_0/common_voice_en_21953345.mp3',\n",
              "  'array': array([ 0.00000000e+00,  0.00000000e+00,  0.00000000e+00, ...,\n",
              "          4.44706211e-06,  1.88029878e-06, -5.69346810e-08]),\n",
              "  'sampling_rate': 48000},\n",
              " {'path': '/DATA10T/Cache/downloads/extracted/ba5c265b423696aeece652c80df565d72d9f7c1cc9b807e127f44f989150f409/en_test_0/common_voice_en_18132047.mp3',\n",
              "  'array': array([ 0.00000000e+00, -8.81545068e-14,  8.29455726e-14, ...,\n",
              "         -1.69993072e-07, -1.69268290e-07, -1.58188001e-07]),\n",
              "  'sampling_rate': 48000},\n",
              " {'path': '/DATA10T/Cache/downloads/extracted/ba5c265b423696aeece652c80df565d72d9f7c1cc9b807e127f44f989150f409/en_test_0/common_voice_en_27340672.mp3',\n",
              "  'array': array([ 1.70530257e-13,  2.89901436e-12,  2.61479727e-12, ...,\n",
              "         -4.97878500e-05, -6.20688006e-05, -3.78657860e-05]),\n",
              "  'sampling_rate': 48000},\n",
              " {'path': '/DATA10T/Cache/downloads/extracted/ba5c265b423696aeece652c80df565d72d9f7c1cc9b807e127f44f989150f409/en_test_0/common_voice_en_30533383.mp3',\n",
              "  'array': array([0., 0., 0., ..., 0., 0., 0.]),\n",
              "  'sampling_rate': 48000},\n",
              " {'path': '/DATA10T/Cache/downloads/extracted/ba5c265b423696aeece652c80df565d72d9f7c1cc9b807e127f44f989150f409/en_test_0/common_voice_en_17263741.mp3',\n",
              "  'array': array([ 0.00000000e+00,  0.00000000e+00,  0.00000000e+00, ...,\n",
              "          1.54652230e-06,  3.36470293e-07, -5.12976158e-07]),\n",
              "  'sampling_rate': 48000},\n",
              " {'path': '/DATA10T/Cache/downloads/extracted/ba5c265b423696aeece652c80df565d72d9f7c1cc9b807e127f44f989150f409/en_test_0/common_voice_en_17893917.mp3',\n",
              "  'array': array([ 0.00000000e+00, -1.98919271e-15,  4.96847080e-16, ...,\n",
              "          2.95693894e-06, -5.95047868e-06, -1.47020546e-05]),\n",
              "  'sampling_rate': 48000},\n",
              " {'path': '/DATA10T/Cache/downloads/extracted/ba5c265b423696aeece652c80df565d72d9f7c1cc9b807e127f44f989150f409/en_test_0/common_voice_en_17561821.mp3',\n",
              "  'array': array([0.00000000e+00, 0.00000000e+00, 0.00000000e+00, ...,\n",
              "         1.66726761e-06, 1.84703367e-06, 1.70227156e-06]),\n",
              "  'sampling_rate': 48000},\n",
              " {'path': '/DATA10T/Cache/downloads/extracted/ba5c265b423696aeece652c80df565d72d9f7c1cc9b807e127f44f989150f409/en_test_0/common_voice_en_59751.mp3',\n",
              "  'array': array([ 0.00000000e+00,  1.23710644e-16,  2.71943739e-16, ...,\n",
              "         -2.47510434e-06, -2.09052519e-06,  1.34417334e-07]),\n",
              "  'sampling_rate': 48000},\n",
              " {'path': '/DATA10T/Cache/downloads/extracted/ba5c265b423696aeece652c80df565d72d9f7c1cc9b807e127f44f989150f409/en_test_0/common_voice_en_17914141.mp3',\n",
              "  'array': array([ 0.00000000e+00, -2.67909609e-14,  7.52535919e-14, ...,\n",
              "         -6.20182755e-06, -9.22448817e-06, -2.40181225e-06]),\n",
              "  'sampling_rate': 48000},\n",
              " {'path': '/DATA10T/Cache/downloads/extracted/ba5c265b423696aeece652c80df565d72d9f7c1cc9b807e127f44f989150f409/en_test_0/common_voice_en_18064497.mp3',\n",
              "  'array': array([ 0.00000000e+00, -1.23756670e-15, -1.13704930e-15, ...,\n",
              "         -1.78553271e-13,  3.73532992e-14,  1.50724146e-13]),\n",
              "  'sampling_rate': 48000},\n",
              " {'path': '/DATA10T/Cache/downloads/extracted/ba5c265b423696aeece652c80df565d72d9f7c1cc9b807e127f44f989150f409/en_test_0/common_voice_en_18902772.mp3',\n",
              "  'array': array([ 0.00000000e+00, -2.34016528e-13, -3.75949055e-13, ...,\n",
              "          0.00000000e+00,  0.00000000e+00,  0.00000000e+00]),\n",
              "  'sampling_rate': 48000},\n",
              " {'path': '/DATA10T/Cache/downloads/extracted/ba5c265b423696aeece652c80df565d72d9f7c1cc9b807e127f44f989150f409/en_test_0/common_voice_en_30735068.mp3',\n",
              "  'array': array([ 0.00000000e+00,  1.63424829e-13,  1.70530257e-13, ...,\n",
              "         -1.69450359e-05, -1.12969428e-05, -4.24672908e-06]),\n",
              "  'sampling_rate': 48000},\n",
              " {'path': '/DATA10T/Cache/downloads/extracted/ba5c265b423696aeece652c80df565d72d9f7c1cc9b807e127f44f989150f409/en_test_0/common_voice_en_33532190.mp3',\n",
              "  'array': array([ 0.00000000e+00, -5.45696821e-12, -6.59383659e-12, ...,\n",
              "          1.90984974e-05,  1.03788825e-05,  9.44822023e-06]),\n",
              "  'sampling_rate': 48000},\n",
              " {'path': '/DATA10T/Cache/downloads/extracted/ba5c265b423696aeece652c80df565d72d9f7c1cc9b807e127f44f989150f409/en_test_0/common_voice_en_18295850.mp3',\n",
              "  'array': array([ 0.00000000e+00, -1.60925858e-14, -1.35344938e-15, ...,\n",
              "         -1.32064888e-04,  8.37206680e-05,  1.45013255e-05]),\n",
              "  'sampling_rate': 48000},\n",
              " {'path': '/DATA10T/Cache/downloads/extracted/ba5c265b423696aeece652c80df565d72d9f7c1cc9b807e127f44f989150f409/en_test_0/common_voice_en_665631.mp3',\n",
              "  'array': array([ 0.00000000e+00, -9.38605849e-15, -1.95430847e-14, ...,\n",
              "         -9.33998194e-08, -4.74903317e-08, -4.69614179e-08]),\n",
              "  'sampling_rate': 48000},\n",
              " {'path': '/DATA10T/Cache/downloads/extracted/ba5c265b423696aeece652c80df565d72d9f7c1cc9b807e127f44f989150f409/en_test_0/common_voice_en_32958651.mp3',\n",
              "  'array': array([-1.13686838e-12,  1.93267624e-12,  5.45696821e-12, ...,\n",
              "         -1.98522466e-05, -2.73250207e-05, -1.78225200e-05]),\n",
              "  'sampling_rate': 48000},\n",
              " {'path': '/DATA10T/Cache/downloads/extracted/ba5c265b423696aeece652c80df565d72d9f7c1cc9b807e127f44f989150f409/en_test_0/common_voice_en_32371106.mp3',\n",
              "  'array': array([-3.55271368e-15, -3.55271368e-15, -3.64153152e-14, ...,\n",
              "          1.11301142e-06,  8.88800969e-07,  4.89729246e-07]),\n",
              "  'sampling_rate': 48000},\n",
              " {'path': '/DATA10T/Cache/downloads/extracted/ba5c265b423696aeece652c80df565d72d9f7c1cc9b807e127f44f989150f409/en_test_0/common_voice_en_18297811.mp3',\n",
              "  'array': array([ 0.00000000e+00, -4.42889345e-15, -3.93709554e-15, ...,\n",
              "          0.00000000e+00,  0.00000000e+00,  0.00000000e+00]),\n",
              "  'sampling_rate': 48000},\n",
              " {'path': '/DATA10T/Cache/downloads/extracted/ba5c265b423696aeece652c80df565d72d9f7c1cc9b807e127f44f989150f409/en_test_0/common_voice_en_32643242.mp3',\n",
              "  'array': array([-1.73707929e-23,  2.56425990e-23, -1.69572026e-23, ...,\n",
              "          7.71652253e-08,  1.01633475e-06,  8.47302999e-07]),\n",
              "  'sampling_rate': 48000},\n",
              " {'path': '/DATA10T/Cache/downloads/extracted/ba5c265b423696aeece652c80df565d72d9f7c1cc9b807e127f44f989150f409/en_test_0/common_voice_en_456493.mp3',\n",
              "  'array': array([ 0.00000000e+00,  1.45164337e-14, -1.42604417e-14, ...,\n",
              "         -5.51653238e-06,  5.29890394e-06,  1.12383323e-05]),\n",
              "  'sampling_rate': 48000},\n",
              " {'path': '/DATA10T/Cache/downloads/extracted/ba5c265b423696aeece652c80df565d72d9f7c1cc9b807e127f44f989150f409/en_test_0/common_voice_en_18179121.mp3',\n",
              "  'array': array([ 0.00000000e+00,  2.97441352e-13,  2.83595304e-13, ...,\n",
              "          1.89433604e-06,  9.52209916e-07, -3.88014485e-07]),\n",
              "  'sampling_rate': 48000},\n",
              " {'path': '/DATA10T/Cache/downloads/extracted/ba5c265b423696aeece652c80df565d72d9f7c1cc9b807e127f44f989150f409/en_test_0/common_voice_en_496376.mp3',\n",
              "  'array': array([0., 0., 0., ..., 0., 0., 0.]),\n",
              "  'sampling_rate': 48000},\n",
              " {'path': '/DATA10T/Cache/downloads/extracted/ba5c265b423696aeece652c80df565d72d9f7c1cc9b807e127f44f989150f409/en_test_0/common_voice_en_32542964.mp3',\n",
              "  'array': array([-8.52651283e-14,  4.83169060e-13,  7.67386155e-13, ...,\n",
              "         -3.47910913e-07, -1.56945148e-07,  2.79248695e-08]),\n",
              "  'sampling_rate': 48000},\n",
              " {'path': '/DATA10T/Cache/downloads/extracted/ba5c265b423696aeece652c80df565d72d9f7c1cc9b807e127f44f989150f409/en_test_0/common_voice_en_23730890.mp3',\n",
              "  'array': array([ 0.00000000e+00, -5.19233745e-13, -3.00217587e-13, ...,\n",
              "         -4.92616709e-05, -9.45587308e-05, -1.00619909e-04]),\n",
              "  'sampling_rate': 48000},\n",
              " {'path': '/DATA10T/Cache/downloads/extracted/ba5c265b423696aeece652c80df565d72d9f7c1cc9b807e127f44f989150f409/en_test_0/common_voice_en_18274681.mp3',\n",
              "  'array': array([0.00000000e+00, 0.00000000e+00, 0.00000000e+00, ...,\n",
              "         2.51492178e-11, 1.75540884e-11, 8.67312559e-12]),\n",
              "  'sampling_rate': 48000},\n",
              " {'path': '/DATA10T/Cache/downloads/extracted/ba5c265b423696aeece652c80df565d72d9f7c1cc9b807e127f44f989150f409/en_test_0/common_voice_en_32548361.mp3',\n",
              "  'array': array([ 2.55795385e-13,  1.81898940e-12, -1.08002496e-12, ...,\n",
              "          1.22447509e-05,  1.06392545e-05,  7.47304102e-06]),\n",
              "  'sampling_rate': 48000},\n",
              " {'path': '/DATA10T/Cache/downloads/extracted/ba5c265b423696aeece652c80df565d72d9f7c1cc9b807e127f44f989150f409/en_test_0/common_voice_en_20141506.mp3',\n",
              "  'array': array([0.00000000e+00, 0.00000000e+00, 0.00000000e+00, ...,\n",
              "         6.08553069e-11, 6.68407760e-11, 5.88966931e-11]),\n",
              "  'sampling_rate': 48000},\n",
              " {'path': '/DATA10T/Cache/downloads/extracted/ba5c265b423696aeece652c80df565d72d9f7c1cc9b807e127f44f989150f409/en_test_0/common_voice_en_32830092.mp3',\n",
              "  'array': array([-6.21724894e-15, -6.83897383e-14, -9.05941988e-14, ...,\n",
              "          2.08166817e-17, -2.77555756e-17, -6.93889390e-18]),\n",
              "  'sampling_rate': 48000},\n",
              " {'path': '/DATA10T/Cache/downloads/extracted/ba5c265b423696aeece652c80df565d72d9f7c1cc9b807e127f44f989150f409/en_test_0/common_voice_en_572372.mp3',\n",
              "  'array': array([ 0.00000000e+00, -8.31876072e-14, -1.87723724e-13, ...,\n",
              "          0.00000000e+00,  0.00000000e+00,  0.00000000e+00]),\n",
              "  'sampling_rate': 48000},\n",
              " {'path': '/DATA10T/Cache/downloads/extracted/ba5c265b423696aeece652c80df565d72d9f7c1cc9b807e127f44f989150f409/en_test_0/common_voice_en_32642818.mp3',\n",
              "  'array': array([ 7.10542736e-15, -5.68434189e-14, -1.24344979e-13, ...,\n",
              "          5.44049271e-06,  6.44475313e-06,  1.74257730e-06]),\n",
              "  'sampling_rate': 48000},\n",
              " {'path': '/DATA10T/Cache/downloads/extracted/ba5c265b423696aeece652c80df565d72d9f7c1cc9b807e127f44f989150f409/en_test_0/common_voice_en_19595713.mp3',\n",
              "  'array': array([ 0.00000000e+00, -2.76441738e-13, -1.12082815e-13, ...,\n",
              "          1.68826503e-07,  1.98465585e-07,  2.47636081e-07]),\n",
              "  'sampling_rate': 48000},\n",
              " {'path': '/DATA10T/Cache/downloads/extracted/ba5c265b423696aeece652c80df565d72d9f7c1cc9b807e127f44f989150f409/en_test_0/common_voice_en_20888935.mp3',\n",
              "  'array': array([ 0.00000000e+00, -3.47563707e-14, -2.01189027e-14, ...,\n",
              "         -7.25068844e-07,  3.48187911e-07,  1.13206772e-06]),\n",
              "  'sampling_rate': 48000},\n",
              " {'path': '/DATA10T/Cache/downloads/extracted/ba5c265b423696aeece652c80df565d72d9f7c1cc9b807e127f44f989150f409/en_test_0/common_voice_en_18125649.mp3',\n",
              "  'array': array([ 0.00000000e+00,  1.13785655e-16,  3.12017821e-18, ...,\n",
              "         -1.19355009e-05, -3.66172048e-06, -3.44357295e-06]),\n",
              "  'sampling_rate': 48000},\n",
              " {'path': '/DATA10T/Cache/downloads/extracted/ba5c265b423696aeece652c80df565d72d9f7c1cc9b807e127f44f989150f409/en_test_0/common_voice_en_346569.mp3',\n",
              "  'array': array([ 0.00000000e+00, -1.10477193e-13, -4.10893751e-14, ...,\n",
              "          1.11196941e-05,  9.95956543e-06, -1.25815595e-05]),\n",
              "  'sampling_rate': 48000},\n",
              " {'path': '/DATA10T/Cache/downloads/extracted/ba5c265b423696aeece652c80df565d72d9f7c1cc9b807e127f44f989150f409/en_test_0/common_voice_en_15016096.mp3',\n",
              "  'array': array([ 0.00000000e+00,  7.73363578e-14,  1.25461883e-13, ...,\n",
              "         -7.84561053e-07, -9.18328283e-07,  2.69061672e-07]),\n",
              "  'sampling_rate': 48000},\n",
              " {'path': '/DATA10T/Cache/downloads/extracted/ba5c265b423696aeece652c80df565d72d9f7c1cc9b807e127f44f989150f409/en_test_0/common_voice_en_30136178.mp3',\n",
              "  'array': array([-1.56319402e-13, -4.12114787e-13, -1.56319402e-13, ...,\n",
              "          1.91966524e-06,  8.49775347e-07,  6.39494431e-08]),\n",
              "  'sampling_rate': 48000},\n",
              " {'path': '/DATA10T/Cache/downloads/extracted/ba5c265b423696aeece652c80df565d72d9f7c1cc9b807e127f44f989150f409/en_test_0/common_voice_en_19706560.mp3',\n",
              "  'array': array([ 0.00000000e+00, -1.00559968e-13,  6.35480113e-13, ...,\n",
              "         -4.80845338e-05, -2.48175093e-05,  3.00512493e-05]),\n",
              "  'sampling_rate': 48000},\n",
              " {'path': '/DATA10T/Cache/downloads/extracted/ba5c265b423696aeece652c80df565d72d9f7c1cc9b807e127f44f989150f409/en_test_0/common_voice_en_1885769.mp3',\n",
              "  'array': array([ 0.00000000e+00,  0.00000000e+00,  0.00000000e+00, ...,\n",
              "         -1.21885975e-07, -1.10426797e-07, -1.01997628e-07]),\n",
              "  'sampling_rate': 48000},\n",
              " {'path': '/DATA10T/Cache/downloads/extracted/ba5c265b423696aeece652c80df565d72d9f7c1cc9b807e127f44f989150f409/en_test_0/common_voice_en_32029891.mp3',\n",
              "  'array': array([-8.27180613e-25,  7.44462551e-24, -5.95570041e-23, ...,\n",
              "         -1.69348095e-06,  1.40851753e-05,  1.16830906e-05]),\n",
              "  'sampling_rate': 48000},\n",
              " {'path': '/DATA10T/Cache/downloads/extracted/ba5c265b423696aeece652c80df565d72d9f7c1cc9b807e127f44f989150f409/en_test_0/common_voice_en_20308606.mp3',\n",
              "  'array': array([ 0.00000000e+00, -6.28985389e-14, -5.24277650e-14, ...,\n",
              "         -1.32833790e-07, -9.81121175e-08, -8.21490005e-08]),\n",
              "  'sampling_rate': 48000},\n",
              " {'path': '/DATA10T/Cache/downloads/extracted/ba5c265b423696aeece652c80df565d72d9f7c1cc9b807e127f44f989150f409/en_test_0/common_voice_en_18891931.mp3',\n",
              "  'array': array([0., 0., 0., ..., 0., 0., 0.]),\n",
              "  'sampling_rate': 48000},\n",
              " {'path': '/DATA10T/Cache/downloads/extracted/ba5c265b423696aeece652c80df565d72d9f7c1cc9b807e127f44f989150f409/en_test_0/common_voice_en_32703291.mp3',\n",
              "  'array': array([ 0.00000000e+00,  2.48689958e-14,  0.00000000e+00, ...,\n",
              "         -1.36442395e-08, -2.15495675e-08, -1.40844350e-08]),\n",
              "  'sampling_rate': 48000},\n",
              " {'path': '/DATA10T/Cache/downloads/extracted/ba5c265b423696aeece652c80df565d72d9f7c1cc9b807e127f44f989150f409/en_test_0/common_voice_en_15735183.mp3',\n",
              "  'array': array([ 0.00000000e+00, -2.74631324e-14, -9.81692212e-14, ...,\n",
              "         -3.03378329e-07,  9.27499059e-06,  3.05300418e-05]),\n",
              "  'sampling_rate': 48000},\n",
              " {'path': '/DATA10T/Cache/downloads/extracted/ba5c265b423696aeece652c80df565d72d9f7c1cc9b807e127f44f989150f409/en_test_0/common_voice_en_12677.mp3',\n",
              "  'array': array([ 0.00000000e+00,  0.00000000e+00,  0.00000000e+00, ...,\n",
              "          1.96452602e-05, -1.20180688e-04,  3.02074477e-06]),\n",
              "  'sampling_rate': 48000},\n",
              " {'path': '/DATA10T/Cache/downloads/extracted/ba5c265b423696aeece652c80df565d72d9f7c1cc9b807e127f44f989150f409/en_test_0/common_voice_en_19909115.mp3',\n",
              "  'array': array([ 0.00000000e+00, -2.81239629e-15, -7.17510090e-15, ...,\n",
              "         -1.54903660e-07, -1.99639018e-07, -4.42587229e-08]),\n",
              "  'sampling_rate': 48000},\n",
              " {'path': '/DATA10T/Cache/downloads/extracted/ba5c265b423696aeece652c80df565d72d9f7c1cc9b807e127f44f989150f409/en_test_0/common_voice_en_21687614.mp3',\n",
              "  'array': array([0.00000000e+00, 4.37328193e-16, 5.41758419e-15, ...,\n",
              "         1.28444447e-06, 4.94945471e-06, 5.90786885e-06]),\n",
              "  'sampling_rate': 48000},\n",
              " {'path': '/DATA10T/Cache/downloads/extracted/ba5c265b423696aeece652c80df565d72d9f7c1cc9b807e127f44f989150f409/en_test_0/common_voice_en_24988400.mp3',\n",
              "  'array': array([-5.68434189e-13,  3.29691829e-12,  4.14956958e-12, ...,\n",
              "          1.45544254e-05, -4.36112496e-05, -3.01422187e-05]),\n",
              "  'sampling_rate': 48000},\n",
              " {'path': '/DATA10T/Cache/downloads/extracted/ba5c265b423696aeece652c80df565d72d9f7c1cc9b807e127f44f989150f409/en_test_0/common_voice_en_22005778.mp3',\n",
              "  'array': array([ 0.00000000e+00,  0.00000000e+00,  0.00000000e+00, ...,\n",
              "         -2.01668695e-06, -1.47798005e-06, -1.08543770e-06]),\n",
              "  'sampling_rate': 48000},\n",
              " {'path': '/DATA10T/Cache/downloads/extracted/ba5c265b423696aeece652c80df565d72d9f7c1cc9b807e127f44f989150f409/en_test_0/common_voice_en_26452532.mp3',\n",
              "  'array': array([ 2.84217094e-14,  6.60804744e-13,  1.03739239e-12, ...,\n",
              "          1.23440986e-06, -5.67961251e-07, -1.05059007e-06]),\n",
              "  'sampling_rate': 48000},\n",
              " {'path': '/DATA10T/Cache/downloads/extracted/ba5c265b423696aeece652c80df565d72d9f7c1cc9b807e127f44f989150f409/en_test_0/common_voice_en_601141.mp3',\n",
              "  'array': array([ 0.00000000e+00, -2.22343978e-16, -3.78719760e-16, ...,\n",
              "          1.34148377e-05,  1.40726706e-05,  3.31024012e-06]),\n",
              "  'sampling_rate': 48000},\n",
              " {'path': '/DATA10T/Cache/downloads/extracted/ba5c265b423696aeece652c80df565d72d9f7c1cc9b807e127f44f989150f409/en_test_0/common_voice_en_19688238.mp3',\n",
              "  'array': array([ 0.00000000e+00, -1.79350675e-13, -1.34086020e-13, ...,\n",
              "          3.10810174e-06,  1.78007076e-06,  6.23121923e-06]),\n",
              "  'sampling_rate': 48000},\n",
              " {'path': '/DATA10T/Cache/downloads/extracted/ba5c265b423696aeece652c80df565d72d9f7c1cc9b807e127f44f989150f409/en_test_0/common_voice_en_17260286.mp3',\n",
              "  'array': array([0.00000000e+00, 9.70849920e-14, 5.53054374e-14, ...,\n",
              "         1.94089468e-15, 2.19009516e-15, 2.43970116e-15]),\n",
              "  'sampling_rate': 48000},\n",
              " {'path': '/DATA10T/Cache/downloads/extracted/ba5c265b423696aeece652c80df565d72d9f7c1cc9b807e127f44f989150f409/en_test_0/common_voice_en_17941982.mp3',\n",
              "  'array': array([ 0.00000000e+00,  0.00000000e+00,  0.00000000e+00, ...,\n",
              "         -1.00912839e-05, -8.37233165e-06, -4.08446067e-06]),\n",
              "  'sampling_rate': 48000},\n",
              " {'path': '/DATA10T/Cache/downloads/extracted/ba5c265b423696aeece652c80df565d72d9f7c1cc9b807e127f44f989150f409/en_test_0/common_voice_en_30601019.mp3',\n",
              "  'array': array([ 0.00000000e+00,  6.82121026e-13,  6.53699317e-13, ...,\n",
              "         -1.71793290e-05, -4.04392340e-05, -3.02312037e-05]),\n",
              "  'sampling_rate': 48000},\n",
              " {'path': '/DATA10T/Cache/downloads/extracted/ba5c265b423696aeece652c80df565d72d9f7c1cc9b807e127f44f989150f409/en_test_0/common_voice_en_24993666.mp3',\n",
              "  'array': array([ 3.55271368e-15, -4.61852778e-14, -7.46069873e-14, ...,\n",
              "          1.91344793e-06,  4.58430577e-07,  6.04691195e-08]),\n",
              "  'sampling_rate': 48000},\n",
              " {'path': '/DATA10T/Cache/downloads/extracted/ba5c265b423696aeece652c80df565d72d9f7c1cc9b807e127f44f989150f409/en_test_0/common_voice_en_32689356.mp3',\n",
              "  'array': array([-1.42108547e-14, -7.95807864e-13, -1.36424205e-12, ...,\n",
              "         -7.54681423e-07, -2.41707969e-08,  3.13946259e-07]),\n",
              "  'sampling_rate': 48000},\n",
              " {'path': '/DATA10T/Cache/downloads/extracted/ba5c265b423696aeece652c80df565d72d9f7c1cc9b807e127f44f989150f409/en_test_0/common_voice_en_20274470.mp3',\n",
              "  'array': array([ 0.00000000e+00, -2.62204300e-15,  5.30996569e-15, ...,\n",
              "         -1.77427501e-06, -3.85840503e-05, -1.36723020e-05]),\n",
              "  'sampling_rate': 48000},\n",
              " {'path': '/DATA10T/Cache/downloads/extracted/ba5c265b423696aeece652c80df565d72d9f7c1cc9b807e127f44f989150f409/en_test_0/common_voice_en_18929193.mp3',\n",
              "  'array': array([ 0.00000000e+00, -6.14929233e-15,  1.07671914e-14, ...,\n",
              "         -1.75896457e-06, -7.84307190e-07,  6.91008722e-07]),\n",
              "  'sampling_rate': 48000},\n",
              " {'path': '/DATA10T/Cache/downloads/extracted/ba5c265b423696aeece652c80df565d72d9f7c1cc9b807e127f44f989150f409/en_test_0/common_voice_en_18001366.mp3',\n",
              "  'array': array([ 0.00000000e+00,  8.39769606e-14,  4.03935105e-14, ...,\n",
              "          2.43712429e-06, -1.98643488e-06, -8.38059634e-07]),\n",
              "  'sampling_rate': 48000},\n",
              " {'path': '/DATA10T/Cache/downloads/extracted/ba5c265b423696aeece652c80df565d72d9f7c1cc9b807e127f44f989150f409/en_test_0/common_voice_en_26555335.mp3',\n",
              "  'array': array([ 3.49483809e-23, -1.57164316e-23, -4.13590306e-24, ...,\n",
              "          0.00000000e+00,  0.00000000e+00,  0.00000000e+00]),\n",
              "  'sampling_rate': 48000},\n",
              " {'path': '/DATA10T/Cache/downloads/extracted/ba5c265b423696aeece652c80df565d72d9f7c1cc9b807e127f44f989150f409/en_test_0/common_voice_en_20789189.mp3',\n",
              "  'array': array([ 0.00000000e+00,  0.00000000e+00,  0.00000000e+00, ...,\n",
              "          1.95669185e-04,  1.99177361e-04, -4.67499485e-05]),\n",
              "  'sampling_rate': 48000},\n",
              " {'path': '/DATA10T/Cache/downloads/extracted/ba5c265b423696aeece652c80df565d72d9f7c1cc9b807e127f44f989150f409/en_test_0/common_voice_en_28715410.mp3',\n",
              "  'array': array([ 1.13686838e-13,  3.97903932e-13,  5.82645043e-13, ...,\n",
              "         -3.50124901e-06, -2.96358485e-06, -1.54715963e-06]),\n",
              "  'sampling_rate': 48000},\n",
              " {'path': '/DATA10T/Cache/downloads/extracted/ba5c265b423696aeece652c80df565d72d9f7c1cc9b807e127f44f989150f409/en_test_0/common_voice_en_22338655.mp3',\n",
              "  'array': array([ 0.00000000e+00,  0.00000000e+00,  0.00000000e+00, ...,\n",
              "         -1.64136060e-09, -2.37069742e-09, -3.53460372e-10]),\n",
              "  'sampling_rate': 48000},\n",
              " {'path': '/DATA10T/Cache/downloads/extracted/ba5c265b423696aeece652c80df565d72d9f7c1cc9b807e127f44f989150f409/en_test_0/common_voice_en_193576.mp3',\n",
              "  'array': array([ 0.00000000e+00,  8.97783313e-13,  6.75328500e-13, ...,\n",
              "         -6.27693908e-07, -5.11975315e-07,  1.30801823e-08]),\n",
              "  'sampling_rate': 48000},\n",
              " {'path': '/DATA10T/Cache/downloads/extracted/ba5c265b423696aeece652c80df565d72d9f7c1cc9b807e127f44f989150f409/en_test_0/common_voice_en_635431.mp3',\n",
              "  'array': array([ 0.00000000e+00, -8.02130931e-13,  1.66786900e-13, ...,\n",
              "          0.00000000e+00,  0.00000000e+00,  0.00000000e+00]),\n",
              "  'sampling_rate': 48000},\n",
              " {'path': '/DATA10T/Cache/downloads/extracted/ba5c265b423696aeece652c80df565d72d9f7c1cc9b807e127f44f989150f409/en_test_0/common_voice_en_17961589.mp3',\n",
              "  'array': array([ 0.00000000e+00,  3.07458811e-13, -6.50940890e-14, ...,\n",
              "         -1.14866339e-07,  4.12989777e-07,  1.40171983e-06]),\n",
              "  'sampling_rate': 48000},\n",
              " {'path': '/DATA10T/Cache/downloads/extracted/ba5c265b423696aeece652c80df565d72d9f7c1cc9b807e127f44f989150f409/en_test_0/common_voice_en_26949722.mp3',\n",
              "  'array': array([ 3.97903932e-13,  1.87583282e-12,  2.61479727e-12, ...,\n",
              "         -1.03620187e-05, -1.02573995e-05, -5.14435123e-06]),\n",
              "  'sampling_rate': 48000},\n",
              " {'path': '/DATA10T/Cache/downloads/extracted/ba5c265b423696aeece652c80df565d72d9f7c1cc9b807e127f44f989150f409/en_test_0/common_voice_en_155041.mp3',\n",
              "  'array': array([ 0.00000000e+00,  3.53890365e-16, -2.12911472e-15, ...,\n",
              "         -1.88210816e-08,  4.44874915e-10,  2.56797383e-09]),\n",
              "  'sampling_rate': 48000},\n",
              " {'path': '/DATA10T/Cache/downloads/extracted/ba5c265b423696aeece652c80df565d72d9f7c1cc9b807e127f44f989150f409/en_test_0/common_voice_en_25902308.mp3',\n",
              "  'array': array([ 1.77635684e-15, -2.33146835e-14, -3.59712260e-14, ...,\n",
              "         -2.77555756e-15, -9.99200722e-16,  6.66133815e-16]),\n",
              "  'sampling_rate': 48000},\n",
              " {'path': '/DATA10T/Cache/downloads/extracted/ba5c265b423696aeece652c80df565d72d9f7c1cc9b807e127f44f989150f409/en_test_0/common_voice_en_111075.mp3',\n",
              "  'array': array([0.00000000e+00, 4.73428805e-13, 3.72377883e-13, ...,\n",
              "         1.20562952e-04, 1.04920444e-04, 1.25131090e-04]),\n",
              "  'sampling_rate': 48000},\n",
              " {'path': '/DATA10T/Cache/downloads/extracted/ba5c265b423696aeece652c80df565d72d9f7c1cc9b807e127f44f989150f409/en_test_0/common_voice_en_25512283.mp3',\n",
              "  'array': array([-3.41060513e-13,  7.10542736e-13,  8.66862138e-13, ...,\n",
              "         -6.85924533e-06, -5.67019379e-06, -2.71746103e-06]),\n",
              "  'sampling_rate': 48000},\n",
              " {'path': '/DATA10T/Cache/downloads/extracted/ba5c265b423696aeece652c80df565d72d9f7c1cc9b807e127f44f989150f409/en_test_0/common_voice_en_31615499.mp3',\n",
              "  'array': array([-1.42108547e-14, -1.77635684e-14, -4.79616347e-14, ...,\n",
              "          1.93715987e-05,  1.44773840e-05,  5.63518097e-06]),\n",
              "  'sampling_rate': 48000},\n",
              " {'path': '/DATA10T/Cache/downloads/extracted/ba5c265b423696aeece652c80df565d72d9f7c1cc9b807e127f44f989150f409/en_test_0/common_voice_en_86584.mp3',\n",
              "  'array': array([ 0.00000000e+00, -1.58602176e-14, -1.51988763e-14, ...,\n",
              "          5.35374556e-06,  2.88515002e-06,  3.01583839e-07]),\n",
              "  'sampling_rate': 48000},\n",
              " {'path': '/DATA10T/Cache/downloads/extracted/ba5c265b423696aeece652c80df565d72d9f7c1cc9b807e127f44f989150f409/en_test_0/common_voice_en_19479960.mp3',\n",
              "  'array': array([0.00000000e+00, 8.93768913e-12, 8.28472360e-12, ...,\n",
              "         0.00000000e+00, 0.00000000e+00, 0.00000000e+00]),\n",
              "  'sampling_rate': 48000},\n",
              " {'path': '/DATA10T/Cache/downloads/extracted/ba5c265b423696aeece652c80df565d72d9f7c1cc9b807e127f44f989150f409/en_test_0/common_voice_en_193520.mp3',\n",
              "  'array': array([ 0.00000000e+00,  0.00000000e+00,  0.00000000e+00, ...,\n",
              "          3.49564016e-06,  3.97673375e-06, -1.14770683e-06]),\n",
              "  'sampling_rate': 48000},\n",
              " {'path': '/DATA10T/Cache/downloads/extracted/ba5c265b423696aeece652c80df565d72d9f7c1cc9b807e127f44f989150f409/en_test_0/common_voice_en_32766628.mp3',\n",
              "  'array': array([ 2.95585778e-12, -9.09494702e-13, -7.16227078e-12, ...,\n",
              "          1.62726246e-05,  2.39054261e-05,  1.56986116e-05]),\n",
              "  'sampling_rate': 48000},\n",
              " {'path': '/DATA10T/Cache/downloads/extracted/ba5c265b423696aeece652c80df565d72d9f7c1cc9b807e127f44f989150f409/en_test_0/common_voice_en_18987361.mp3',\n",
              "  'array': array([0.00000000e+00, 0.00000000e+00, 0.00000000e+00, ...,\n",
              "         7.49318406e-06, 7.97489292e-07, 7.18184765e-07]),\n",
              "  'sampling_rate': 48000},\n",
              " {'path': '/DATA10T/Cache/downloads/extracted/ba5c265b423696aeece652c80df565d72d9f7c1cc9b807e127f44f989150f409/en_test_0/common_voice_en_27366699.mp3',\n",
              "  'array': array([ 0.00000000e+00,  0.00000000e+00,  0.00000000e+00, ...,\n",
              "         -1.77369480e-10, -2.61299992e-11,  3.79153757e-11]),\n",
              "  'sampling_rate': 48000},\n",
              " {'path': '/DATA10T/Cache/downloads/extracted/ba5c265b423696aeece652c80df565d72d9f7c1cc9b807e127f44f989150f409/en_test_0/common_voice_en_30699821.mp3',\n",
              "  'array': array([-1.42108547e-14, -7.10542736e-15, -1.98951966e-13, ...,\n",
              "         -6.42731829e-05, -1.22506026e-05,  1.11410700e-05]),\n",
              "  'sampling_rate': 48000},\n",
              " {'path': '/DATA10T/Cache/downloads/extracted/ba5c265b423696aeece652c80df565d72d9f7c1cc9b807e127f44f989150f409/en_test_0/common_voice_en_28819598.mp3',\n",
              "  'array': array([-4.44089210e-16,  5.77315973e-15, -5.77315973e-15, ...,\n",
              "          1.51646527e-05,  2.00652503e-05,  9.92047717e-06]),\n",
              "  'sampling_rate': 48000},\n",
              " {'path': '/DATA10T/Cache/downloads/extracted/ba5c265b423696aeece652c80df565d72d9f7c1cc9b807e127f44f989150f409/en_test_0/common_voice_en_20233685.mp3',\n",
              "  'array': array([ 0.00000000e+00,  7.85638373e-14,  4.21043544e-14, ...,\n",
              "          3.74718252e-06, -1.19090294e-06, -2.24865198e-06]),\n",
              "  'sampling_rate': 48000},\n",
              " {'path': '/DATA10T/Cache/downloads/extracted/ba5c265b423696aeece652c80df565d72d9f7c1cc9b807e127f44f989150f409/en_test_0/common_voice_en_26957325.mp3',\n",
              "  'array': array([-5.68434189e-14, -1.98951966e-13, -1.13686838e-13, ...,\n",
              "          1.24086341e-06,  1.61431603e-06,  1.00610214e-06]),\n",
              "  'sampling_rate': 48000},\n",
              " {'path': '/DATA10T/Cache/downloads/extracted/ba5c265b423696aeece652c80df565d72d9f7c1cc9b807e127f44f989150f409/en_test_0/common_voice_en_33612242.mp3',\n",
              "  'array': array([ 0.00000000e+00,  0.00000000e+00,  0.00000000e+00, ...,\n",
              "          3.13791361e-06,  9.40625853e-07, -1.15996102e-08]),\n",
              "  'sampling_rate': 48000},\n",
              " {'path': '/DATA10T/Cache/downloads/extracted/ba5c265b423696aeece652c80df565d72d9f7c1cc9b807e127f44f989150f409/en_test_0/common_voice_en_18277778.mp3',\n",
              "  'array': array([ 0.00000000e+00, -3.50864303e-13, -3.27746782e-13, ...,\n",
              "          1.05359845e-06,  1.76052481e-06,  1.62645222e-06]),\n",
              "  'sampling_rate': 48000},\n",
              " {'path': '/DATA10T/Cache/downloads/extracted/ba5c265b423696aeece652c80df565d72d9f7c1cc9b807e127f44f989150f409/en_test_0/common_voice_en_24023123.mp3',\n",
              "  'array': array([ 5.08219768e-21,  5.08219768e-21,  6.77626358e-21, ...,\n",
              "         -3.88768967e-06, -5.88256080e-05, -5.37416490e-05]),\n",
              "  'sampling_rate': 48000},\n",
              " {'path': '/DATA10T/Cache/downloads/extracted/ba5c265b423696aeece652c80df565d72d9f7c1cc9b807e127f44f989150f409/en_test_0/common_voice_en_18319767.mp3',\n",
              "  'array': array([0., 0., 0., ..., 0., 0., 0.]),\n",
              "  'sampling_rate': 48000},\n",
              " {'path': '/DATA10T/Cache/downloads/extracted/ba5c265b423696aeece652c80df565d72d9f7c1cc9b807e127f44f989150f409/en_test_0/common_voice_en_17913515.mp3',\n",
              "  'array': array([ 0.00000000e+00,  6.15463338e-17,  2.45008912e-17, ...,\n",
              "         -1.32043169e-06, -1.84183511e-06, -7.45981538e-07]),\n",
              "  'sampling_rate': 48000},\n",
              " {'path': '/DATA10T/Cache/downloads/extracted/ba5c265b423696aeece652c80df565d72d9f7c1cc9b807e127f44f989150f409/en_test_0/common_voice_en_18208645.mp3',\n",
              "  'array': array([ 0.00000000e+00,  1.28558080e-13,  1.94363622e-13, ...,\n",
              "         -1.21228495e-05, -6.06805907e-06, -8.43268663e-06]),\n",
              "  'sampling_rate': 48000},\n",
              " {'path': '/DATA10T/Cache/downloads/extracted/ba5c265b423696aeece652c80df565d72d9f7c1cc9b807e127f44f989150f409/en_test_0/common_voice_en_21943181.mp3',\n",
              "  'array': array([0.00000000e+00, 1.57206767e-13, 2.38753787e-13, ...,\n",
              "         0.00000000e+00, 0.00000000e+00, 0.00000000e+00]),\n",
              "  'sampling_rate': 48000},\n",
              " {'path': '/DATA10T/Cache/downloads/extracted/ba5c265b423696aeece652c80df565d72d9f7c1cc9b807e127f44f989150f409/en_test_0/common_voice_en_34021941.mp3',\n",
              "  'array': array([ 2.84217094e-14, -8.38440428e-13, -1.09423581e-12, ...,\n",
              "          6.76346133e-07, -3.73471721e-07, -5.80468054e-07]),\n",
              "  'sampling_rate': 48000},\n",
              " {'path': '/DATA10T/Cache/downloads/extracted/ba5c265b423696aeece652c80df565d72d9f7c1cc9b807e127f44f989150f409/en_test_0/common_voice_en_159192.mp3',\n",
              "  'array': array([ 0.00000000e+00,  1.67083808e-13,  4.23313999e-14, ...,\n",
              "          5.02045168e-07, -9.92461537e-07, -5.28920873e-06]),\n",
              "  'sampling_rate': 48000},\n",
              " {'path': '/DATA10T/Cache/downloads/extracted/ba5c265b423696aeece652c80df565d72d9f7c1cc9b807e127f44f989150f409/en_test_0/common_voice_en_20586574.mp3',\n",
              "  'array': array([ 0.00000000e+00, -1.73446445e-14, -1.62721331e-14, ...,\n",
              "         -3.02037142e-06, -1.84534838e-06, -4.79816777e-07]),\n",
              "  'sampling_rate': 48000},\n",
              " {'path': '/DATA10T/Cache/downloads/extracted/ba5c265b423696aeece652c80df565d72d9f7c1cc9b807e127f44f989150f409/en_test_0/common_voice_en_31963137.mp3',\n",
              "  'array': array([ 0.00000000e+00, -1.70530257e-13, -1.53477231e-12, ...,\n",
              "         -5.21400398e-06, -1.52245048e-05, -1.44418591e-05]),\n",
              "  'sampling_rate': 48000},\n",
              " {'path': '/DATA10T/Cache/downloads/extracted/ba5c265b423696aeece652c80df565d72d9f7c1cc9b807e127f44f989150f409/en_test_0/common_voice_en_32850241.mp3',\n",
              "  'array': array([-1.42108547e-13, -8.81072992e-13, -1.64845915e-12, ...,\n",
              "         -7.23094581e-06,  1.48817371e-05,  1.60251639e-05]),\n",
              "  'sampling_rate': 48000},\n",
              " {'path': '/DATA10T/Cache/downloads/extracted/ba5c265b423696aeece652c80df565d72d9f7c1cc9b807e127f44f989150f409/en_test_0/common_voice_en_18339580.mp3',\n",
              "  'array': array([ 0.00000000e+00,  1.48890960e-14,  5.43193759e-15, ...,\n",
              "         -1.29733201e-06, -1.97156032e-06, -2.95973973e-06]),\n",
              "  'sampling_rate': 48000},\n",
              " {'path': '/DATA10T/Cache/downloads/extracted/ba5c265b423696aeece652c80df565d72d9f7c1cc9b807e127f44f989150f409/en_test_0/common_voice_en_638672.mp3',\n",
              "  'array': array([ 0.00000000e+00,  8.58599758e-14, -5.78099580e-14, ...,\n",
              "         -3.93214421e-08,  8.09091372e-09,  8.52376871e-08]),\n",
              "  'sampling_rate': 48000},\n",
              " {'path': '/DATA10T/Cache/downloads/extracted/ba5c265b423696aeece652c80df565d72d9f7c1cc9b807e127f44f989150f409/en_test_0/common_voice_en_217612.mp3',\n",
              "  'array': array([ 0.00000000e+00,  0.00000000e+00,  0.00000000e+00, ...,\n",
              "         -2.61633226e-09, -1.61462683e-08,  1.27662050e-08]),\n",
              "  'sampling_rate': 48000},\n",
              " {'path': '/DATA10T/Cache/downloads/extracted/ba5c265b423696aeece652c80df565d72d9f7c1cc9b807e127f44f989150f409/en_test_0/common_voice_en_25540199.mp3',\n",
              "  'array': array([ 1.42108547e-14,  6.25277607e-13,  1.13686838e-12, ...,\n",
              "         -8.30040790e-07,  3.53471478e-07,  7.08691005e-07]),\n",
              "  'sampling_rate': 48000},\n",
              " {'path': '/DATA10T/Cache/downloads/extracted/ba5c265b423696aeece652c80df565d72d9f7c1cc9b807e127f44f989150f409/en_test_0/common_voice_en_32941558.mp3',\n",
              "  'array': array([ 4.26325641e-14,  7.38964445e-13,  1.10844667e-12, ...,\n",
              "          4.51535016e-06, -3.12257725e-06, -4.85104192e-06]),\n",
              "  'sampling_rate': 48000},\n",
              " {'path': '/DATA10T/Cache/downloads/extracted/ba5c265b423696aeece652c80df565d72d9f7c1cc9b807e127f44f989150f409/en_test_0/common_voice_en_16327.mp3',\n",
              "  'array': array([ 0.00000000e+00, -4.38831570e-16, -1.92048561e-16, ...,\n",
              "         -7.76358684e-06, -1.20114337e-05, -8.55491089e-06]),\n",
              "  'sampling_rate': 48000},\n",
              " {'path': '/DATA10T/Cache/downloads/extracted/ba5c265b423696aeece652c80df565d72d9f7c1cc9b807e127f44f989150f409/en_test_0/common_voice_en_19992991.mp3',\n",
              "  'array': array([0., 0., 0., ..., 0., 0., 0.]),\n",
              "  'sampling_rate': 48000},\n",
              " {'path': '/DATA10T/Cache/downloads/extracted/ba5c265b423696aeece652c80df565d72d9f7c1cc9b807e127f44f989150f409/en_test_0/common_voice_en_21568053.mp3',\n",
              "  'array': array([0.00000000e+00, 8.85370987e-13, 6.47027570e-13, ...,\n",
              "         4.99818416e-05, 2.85314454e-05, 2.39113433e-07]),\n",
              "  'sampling_rate': 48000},\n",
              " {'path': '/DATA10T/Cache/downloads/extracted/ba5c265b423696aeece652c80df565d72d9f7c1cc9b807e127f44f989150f409/en_test_0/common_voice_en_17278289.mp3',\n",
              "  'array': array([ 0.00000000e+00, -7.85593280e-17, -1.48995306e-16, ...,\n",
              "         -4.54013360e-07,  1.14206784e-07, -1.30175329e-06]),\n",
              "  'sampling_rate': 48000},\n",
              " {'path': '/DATA10T/Cache/downloads/extracted/ba5c265b423696aeece652c80df565d72d9f7c1cc9b807e127f44f989150f409/en_test_0/common_voice_en_21853647.mp3',\n",
              "  'array': array([ 0.00000000e+00,  1.91645853e-13, -3.58638520e-13, ...,\n",
              "         -4.99503767e-06, -6.18796594e-06, -5.88532066e-06]),\n",
              "  'sampling_rate': 48000},\n",
              " {'path': '/DATA10T/Cache/downloads/extracted/ba5c265b423696aeece652c80df565d72d9f7c1cc9b807e127f44f989150f409/en_test_0/common_voice_en_32690166.mp3',\n",
              "  'array': array([0., 0., 0., ..., 0., 0., 0.]),\n",
              "  'sampling_rate': 48000},\n",
              " {'path': '/DATA10T/Cache/downloads/extracted/ba5c265b423696aeece652c80df565d72d9f7c1cc9b807e127f44f989150f409/en_test_0/common_voice_en_25899004.mp3',\n",
              "  'array': array([ 1.42108547e-14,  7.95807864e-13,  1.10844667e-12, ...,\n",
              "         -1.36691165e-06, -2.34672734e-06, -1.49773234e-06]),\n",
              "  'sampling_rate': 48000},\n",
              " {'path': '/DATA10T/Cache/downloads/extracted/ba5c265b423696aeece652c80df565d72d9f7c1cc9b807e127f44f989150f409/en_test_0/common_voice_en_32803056.mp3',\n",
              "  'array': array([ 2.84217094e-14, -4.83169060e-12, -6.93489710e-12, ...,\n",
              "          5.86854298e-07,  1.47486799e-06,  1.09544771e-06]),\n",
              "  'sampling_rate': 48000},\n",
              " {'path': '/DATA10T/Cache/downloads/extracted/ba5c265b423696aeece652c80df565d72d9f7c1cc9b807e127f44f989150f409/en_test_0/common_voice_en_21728876.mp3',\n",
              "  'array': array([0.00000000e+00, 0.00000000e+00, 0.00000000e+00, ...,\n",
              "         1.39323180e-04, 1.57098388e-04, 7.55259534e-05]),\n",
              "  'sampling_rate': 48000},\n",
              " {'path': '/DATA10T/Cache/downloads/extracted/ba5c265b423696aeece652c80df565d72d9f7c1cc9b807e127f44f989150f409/en_test_0/common_voice_en_16047883.mp3',\n",
              "  'array': array([ 0.00000000e+00,  6.71276660e-15,  5.90690369e-15, ...,\n",
              "          3.53474416e-10, -7.08745562e-13,  2.98489428e-10]),\n",
              "  'sampling_rate': 48000},\n",
              " {'path': '/DATA10T/Cache/downloads/extracted/ba5c265b423696aeece652c80df565d72d9f7c1cc9b807e127f44f989150f409/en_test_0/common_voice_en_19658862.mp3',\n",
              "  'array': array([0.00000000e+00, 1.38370218e-14, 2.21291518e-13, ...,\n",
              "         7.37101800e-06, 9.74013528e-06, 1.01551777e-05]),\n",
              "  'sampling_rate': 48000},\n",
              " {'path': '/DATA10T/Cache/downloads/extracted/ba5c265b423696aeece652c80df565d72d9f7c1cc9b807e127f44f989150f409/en_test_0/common_voice_en_28693767.mp3',\n",
              "  'array': array([ 7.10542736e-14, -2.62900812e-13, -4.97379915e-13, ...,\n",
              "         -3.91723006e-07, -8.30676800e-06, -5.85647649e-06]),\n",
              "  'sampling_rate': 48000},\n",
              " {'path': '/DATA10T/Cache/downloads/extracted/ba5c265b423696aeece652c80df565d72d9f7c1cc9b807e127f44f989150f409/en_test_0/common_voice_en_125399.mp3',\n",
              "  'array': array([ 0.00000000e+00, -4.31753869e-17, -1.66642382e-15, ...,\n",
              "         -1.27878491e-04, -1.38975738e-04, -1.49449945e-04]),\n",
              "  'sampling_rate': 48000},\n",
              " {'path': '/DATA10T/Cache/downloads/extracted/ba5c265b423696aeece652c80df565d72d9f7c1cc9b807e127f44f989150f409/en_test_0/common_voice_en_571988.mp3',\n",
              "  'array': array([ 0.00000000e+00, -1.21949705e-13,  7.95706654e-13, ...,\n",
              "         -4.08832308e-11, -9.39012756e-10, -4.16119250e-10]),\n",
              "  'sampling_rate': 48000},\n",
              " {'path': '/DATA10T/Cache/downloads/extracted/ba5c265b423696aeece652c80df565d72d9f7c1cc9b807e127f44f989150f409/en_test_0/common_voice_en_26948291.mp3',\n",
              "  'array': array([-3.72231276e-24, -4.96308368e-23, -4.88036561e-23, ...,\n",
              "          5.89805982e-16,  7.21644966e-16,  4.16333634e-16]),\n",
              "  'sampling_rate': 48000},\n",
              " {'path': '/DATA10T/Cache/downloads/extracted/ba5c265b423696aeece652c80df565d72d9f7c1cc9b807e127f44f989150f409/en_test_0/common_voice_en_32136086.mp3',\n",
              "  'array': array([-8.88178420e-15, -7.10542736e-15, -1.06581410e-14, ...,\n",
              "          0.00000000e+00,  0.00000000e+00,  0.00000000e+00]),\n",
              "  'sampling_rate': 48000},\n",
              " {'path': '/DATA10T/Cache/downloads/extracted/ba5c265b423696aeece652c80df565d72d9f7c1cc9b807e127f44f989150f409/en_test_0/common_voice_en_32962317.mp3',\n",
              "  'array': array([-1.73472348e-18,  1.04083409e-17,  1.21430643e-17, ...,\n",
              "          0.00000000e+00,  0.00000000e+00,  0.00000000e+00]),\n",
              "  'sampling_rate': 48000},\n",
              " {'path': '/DATA10T/Cache/downloads/extracted/ba5c265b423696aeece652c80df565d72d9f7c1cc9b807e127f44f989150f409/en_test_0/common_voice_en_18225037.mp3',\n",
              "  'array': array([ 0.00000000e+00, -7.66298442e-14, -8.01230420e-14, ...,\n",
              "          6.13525663e-06,  6.99750017e-05,  1.11293208e-04]),\n",
              "  'sampling_rate': 48000},\n",
              " {'path': '/DATA10T/Cache/downloads/extracted/ba5c265b423696aeece652c80df565d72d9f7c1cc9b807e127f44f989150f409/en_test_0/common_voice_en_31095836.mp3',\n",
              "  'array': array([1.19371180e-12, 4.54747351e-12, 6.13908924e-12, ...,\n",
              "         2.19514495e-05, 5.88672192e-05, 3.84596497e-05]),\n",
              "  'sampling_rate': 48000},\n",
              " {'path': '/DATA10T/Cache/downloads/extracted/ba5c265b423696aeece652c80df565d72d9f7c1cc9b807e127f44f989150f409/en_test_0/common_voice_en_587953.mp3',\n",
              "  'array': array([ 0.00000000e+00,  0.00000000e+00,  0.00000000e+00, ...,\n",
              "         -3.48366882e-08, -4.18111767e-09, -4.70888040e-09]),\n",
              "  'sampling_rate': 48000},\n",
              " {'path': '/DATA10T/Cache/downloads/extracted/ba5c265b423696aeece652c80df565d72d9f7c1cc9b807e127f44f989150f409/en_test_0/common_voice_en_1738082.mp3',\n",
              "  'array': array([ 0.00000000e+00,  3.29072164e-14, -1.94294925e-13, ...,\n",
              "          3.24724851e-07, -2.82321025e-07,  2.19635922e-07]),\n",
              "  'sampling_rate': 48000},\n",
              " {'path': '/DATA10T/Cache/downloads/extracted/ba5c265b423696aeece652c80df565d72d9f7c1cc9b807e127f44f989150f409/en_test_0/common_voice_en_55485.mp3',\n",
              "  'array': array([0.00000000e+00, 1.41216270e-12, 1.12550073e-12, ...,\n",
              "         5.00765191e-06, 9.10588096e-06, 9.94785387e-06]),\n",
              "  'sampling_rate': 48000},\n",
              " {'path': '/DATA10T/Cache/downloads/extracted/ba5c265b423696aeece652c80df565d72d9f7c1cc9b807e127f44f989150f409/en_test_0/common_voice_en_17857149.mp3',\n",
              "  'array': array([ 0.00000000e+00,  3.59880786e-14, -1.08715798e-14, ...,\n",
              "          7.85294924e-06, -3.28878741e-06, -9.05693832e-06]),\n",
              "  'sampling_rate': 48000},\n",
              " {'path': '/DATA10T/Cache/downloads/extracted/ba5c265b423696aeece652c80df565d72d9f7c1cc9b807e127f44f989150f409/en_test_0/common_voice_en_29205769.mp3',\n",
              "  'array': array([-3.55271368e-15, -2.13162821e-14,  3.19744231e-14, ...,\n",
              "         -4.78547518e-05, -6.15108074e-05, -4.01278703e-05]),\n",
              "  'sampling_rate': 48000},\n",
              " {'path': '/DATA10T/Cache/downloads/extracted/ba5c265b423696aeece652c80df565d72d9f7c1cc9b807e127f44f989150f409/en_test_0/common_voice_en_211811.mp3',\n",
              "  'array': array([ 0.00000000e+00,  5.93593100e-13,  7.44815396e-13, ...,\n",
              "          1.51355903e-06, -2.64697383e-06, -3.13169039e-06]),\n",
              "  'sampling_rate': 48000},\n",
              " {'path': '/DATA10T/Cache/downloads/extracted/ba5c265b423696aeece652c80df565d72d9f7c1cc9b807e127f44f989150f409/en_test_0/common_voice_en_18945888.mp3',\n",
              "  'array': array([ 0.00000000e+00, -4.13468969e-14, -3.27141675e-14, ...,\n",
              "         -1.45402100e-05, -1.64671401e-05, -4.51432788e-06]),\n",
              "  'sampling_rate': 48000},\n",
              " {'path': '/DATA10T/Cache/downloads/extracted/ba5c265b423696aeece652c80df565d72d9f7c1cc9b807e127f44f989150f409/en_test_0/common_voice_en_17390325.mp3',\n",
              "  'array': array([ 0.00000000e+00, -2.51152181e-14,  6.13065778e-14, ...,\n",
              "         -3.40500883e-05, -1.72472246e-05, -4.45119349e-06]),\n",
              "  'sampling_rate': 48000},\n",
              " {'path': '/DATA10T/Cache/downloads/extracted/ba5c265b423696aeece652c80df565d72d9f7c1cc9b807e127f44f989150f409/en_test_0/common_voice_en_20248097.mp3',\n",
              "  'array': array([ 0.00000000e+00,  4.45314426e-14, -1.77597229e-15, ...,\n",
              "         -1.06386851e-05, -1.72688506e-05, -2.12329032e-05]),\n",
              "  'sampling_rate': 48000},\n",
              " {'path': '/DATA10T/Cache/downloads/extracted/ba5c265b423696aeece652c80df565d72d9f7c1cc9b807e127f44f989150f409/en_test_0/common_voice_en_346163.mp3',\n",
              "  'array': array([ 0.00000000e+00,  9.35128355e-15,  1.03009396e-14, ...,\n",
              "         -1.22355311e-06, -1.49259597e-06, -1.67456915e-06]),\n",
              "  'sampling_rate': 48000},\n",
              " {'path': '/DATA10T/Cache/downloads/extracted/ba5c265b423696aeece652c80df565d72d9f7c1cc9b807e127f44f989150f409/en_test_0/common_voice_en_118385.mp3',\n",
              "  'array': array([0.00000000e+00, 0.00000000e+00, 0.00000000e+00, ...,\n",
              "         1.16739707e-09, 2.27284502e-08, 3.84702155e-08]),\n",
              "  'sampling_rate': 48000},\n",
              " {'path': '/DATA10T/Cache/downloads/extracted/ba5c265b423696aeece652c80df565d72d9f7c1cc9b807e127f44f989150f409/en_test_0/common_voice_en_216602.mp3',\n",
              "  'array': array([0.00000000e+00, 0.00000000e+00, 0.00000000e+00, ...,\n",
              "         5.48193668e-09, 4.21173354e-08, 4.57936302e-08]),\n",
              "  'sampling_rate': 48000},\n",
              " {'path': '/DATA10T/Cache/downloads/extracted/ba5c265b423696aeece652c80df565d72d9f7c1cc9b807e127f44f989150f409/en_test_0/common_voice_en_20783554.mp3',\n",
              "  'array': array([ 0.00000000e+00,  1.63676147e-13, -9.84573967e-13, ...,\n",
              "         -2.92607947e-05, -1.25201361e-04,  1.09427696e-04]),\n",
              "  'sampling_rate': 48000},\n",
              " {'path': '/DATA10T/Cache/downloads/extracted/ba5c265b423696aeece652c80df565d72d9f7c1cc9b807e127f44f989150f409/en_test_0/common_voice_en_18599794.mp3',\n",
              "  'array': array([ 0.00000000e+00,  1.64347960e-15, -2.57728070e-15, ...,\n",
              "          3.46885997e-07, -5.82310804e-08,  3.84865700e-07]),\n",
              "  'sampling_rate': 48000},\n",
              " {'path': '/DATA10T/Cache/downloads/extracted/ba5c265b423696aeece652c80df565d72d9f7c1cc9b807e127f44f989150f409/en_test_0/common_voice_en_173227.mp3',\n",
              "  'array': array([ 0.00000000e+00, -2.43432471e-13, -1.54144004e-14, ...,\n",
              "         -5.65781647e-06,  1.24920243e-05,  1.88049125e-05]),\n",
              "  'sampling_rate': 48000},\n",
              " {'path': '/DATA10T/Cache/downloads/extracted/ba5c265b423696aeece652c80df565d72d9f7c1cc9b807e127f44f989150f409/en_test_0/common_voice_en_31702396.mp3',\n",
              "  'array': array([ 2.55795385e-13, -1.42108547e-13, -9.94759830e-13, ...,\n",
              "          6.93827246e-07,  1.52220082e-06,  9.81373205e-07]),\n",
              "  'sampling_rate': 48000},\n",
              " {'path': '/DATA10T/Cache/downloads/extracted/ba5c265b423696aeece652c80df565d72d9f7c1cc9b807e127f44f989150f409/en_test_0/common_voice_en_30513358.mp3',\n",
              "  'array': array([ 0.00000000e+00,  0.00000000e+00,  0.00000000e+00, ...,\n",
              "         -1.07422977e-08, -2.20330705e-07, -2.06690615e-07]),\n",
              "  'sampling_rate': 48000},\n",
              " {'path': '/DATA10T/Cache/downloads/extracted/ba5c265b423696aeece652c80df565d72d9f7c1cc9b807e127f44f989150f409/en_test_0/common_voice_en_19684552.mp3',\n",
              "  'array': array([ 0.00000000e+00,  0.00000000e+00,  0.00000000e+00, ...,\n",
              "          2.95812853e-13,  3.09619344e-12, -1.08042681e-11]),\n",
              "  'sampling_rate': 48000},\n",
              " {'path': '/DATA10T/Cache/downloads/extracted/ba5c265b423696aeece652c80df565d72d9f7c1cc9b807e127f44f989150f409/en_test_0/common_voice_en_33980433.mp3',\n",
              "  'array': array([ 2.27373675e-13,  9.09494702e-13,  2.27373675e-12, ...,\n",
              "         -3.15272700e-05, -1.91053114e-05, -3.52034203e-06]),\n",
              "  'sampling_rate': 48000},\n",
              " {'path': '/DATA10T/Cache/downloads/extracted/ba5c265b423696aeece652c80df565d72d9f7c1cc9b807e127f44f989150f409/en_test_0/common_voice_en_178086.mp3',\n",
              "  'array': array([ 0.00000000e+00, -1.79798616e-14, -7.90840951e-15, ...,\n",
              "          3.20374005e-04,  3.32920346e-04,  2.96703423e-04]),\n",
              "  'sampling_rate': 48000},\n",
              " {'path': '/DATA10T/Cache/downloads/extracted/ba5c265b423696aeece652c80df565d72d9f7c1cc9b807e127f44f989150f409/en_test_0/common_voice_en_17303873.mp3',\n",
              "  'array': array([0., 0., 0., ..., 0., 0., 0.]),\n",
              "  'sampling_rate': 48000},\n",
              " {'path': '/DATA10T/Cache/downloads/extracted/ba5c265b423696aeece652c80df565d72d9f7c1cc9b807e127f44f989150f409/en_test_0/common_voice_en_590018.mp3',\n",
              "  'array': array([ 0.00000000e+00,  1.67491672e-12,  1.17245927e-12, ...,\n",
              "          1.06177604e-05,  8.49829848e-06, -4.70722625e-06]),\n",
              "  'sampling_rate': 48000},\n",
              " {'path': '/DATA10T/Cache/downloads/extracted/ba5c265b423696aeece652c80df565d72d9f7c1cc9b807e127f44f989150f409/en_test_0/common_voice_en_17147389.mp3',\n",
              "  'array': array([ 0.00000000e+00, -8.15289964e-16,  1.54427511e-15, ...,\n",
              "          7.69280541e-06,  4.57556462e-06,  1.55855605e-06]),\n",
              "  'sampling_rate': 48000},\n",
              " {'path': '/DATA10T/Cache/downloads/extracted/ba5c265b423696aeece652c80df565d72d9f7c1cc9b807e127f44f989150f409/en_test_0/common_voice_en_605985.mp3',\n",
              "  'array': array([ 0.00000000e+00,  6.59514002e-13, -9.40299704e-13, ...,\n",
              "          2.19515130e-07,  3.85388830e-07,  5.19566470e-08]),\n",
              "  'sampling_rate': 48000},\n",
              " {'path': '/DATA10T/Cache/downloads/extracted/ba5c265b423696aeece652c80df565d72d9f7c1cc9b807e127f44f989150f409/en_test_0/common_voice_en_1384.mp3',\n",
              "  'array': array([ 0.00000000e+00,  3.92376236e-13,  3.00852415e-13, ...,\n",
              "          9.27562837e-07, -2.27531564e-06, -3.86696092e-06]),\n",
              "  'sampling_rate': 48000},\n",
              " {'path': '/DATA10T/Cache/downloads/extracted/ba5c265b423696aeece652c80df565d72d9f7c1cc9b807e127f44f989150f409/en_test_0/common_voice_en_25385044.mp3',\n",
              "  'array': array([-4.54747351e-13,  1.39266376e-12,  3.06954462e-12, ...,\n",
              "          3.10338919e-08,  4.70491273e-08,  1.85261797e-08]),\n",
              "  'sampling_rate': 48000},\n",
              " {'path': '/DATA10T/Cache/downloads/extracted/ba5c265b423696aeece652c80df565d72d9f7c1cc9b807e127f44f989150f409/en_test_0/common_voice_en_25659642.mp3',\n",
              "  'array': array([-2.27373675e-12, -5.91171556e-12, -1.18234311e-11, ...,\n",
              "         -1.78438677e-05,  2.93322537e-05,  6.54572796e-05]),\n",
              "  'sampling_rate': 48000},\n",
              " {'path': '/DATA10T/Cache/downloads/extracted/ba5c265b423696aeece652c80df565d72d9f7c1cc9b807e127f44f989150f409/en_test_0/common_voice_en_20952616.mp3',\n",
              "  'array': array([ 0.00000000e+00, -4.35899757e-15, -1.66289296e-15, ...,\n",
              "          3.06294460e-05,  2.17832276e-05, -8.68162260e-06]),\n",
              "  'sampling_rate': 48000},\n",
              " {'path': '/DATA10T/Cache/downloads/extracted/ba5c265b423696aeece652c80df565d72d9f7c1cc9b807e127f44f989150f409/en_test_0/common_voice_en_17249708.mp3',\n",
              "  'array': array([ 0.00000000e+00,  2.49679631e-14, -2.84742289e-14, ...,\n",
              "          7.10027592e-10,  2.79847145e-10, -9.07859760e-11]),\n",
              "  'sampling_rate': 48000},\n",
              " {'path': '/DATA10T/Cache/downloads/extracted/ba5c265b423696aeece652c80df565d72d9f7c1cc9b807e127f44f989150f409/en_test_0/common_voice_en_34872001.mp3',\n",
              "  'array': array([1.42108547e-13, 1.95399252e-13, 6.03961325e-14, ...,\n",
              "         4.42987221e-06, 2.58960063e-06, 1.15074363e-06]),\n",
              "  'sampling_rate': 48000},\n",
              " {'path': '/DATA10T/Cache/downloads/extracted/ba5c265b423696aeece652c80df565d72d9f7c1cc9b807e127f44f989150f409/en_test_0/common_voice_en_31902697.mp3',\n",
              "  'array': array([ 1.13686838e-13, -2.38742359e-12, -5.34328137e-12, ...,\n",
              "          1.54593035e-05,  1.57773975e-05,  7.56309146e-06]),\n",
              "  'sampling_rate': 48000},\n",
              " {'path': '/DATA10T/Cache/downloads/extracted/ba5c265b423696aeece652c80df565d72d9f7c1cc9b807e127f44f989150f409/en_test_0/common_voice_en_19970459.mp3',\n",
              "  'array': array([ 0.00000000e+00, -3.59066075e-13, -1.63172210e-13, ...,\n",
              "         -2.46070158e-07, -1.05260540e-07, -1.64835896e-07]),\n",
              "  'sampling_rate': 48000},\n",
              " {'path': '/DATA10T/Cache/downloads/extracted/ba5c265b423696aeece652c80df565d72d9f7c1cc9b807e127f44f989150f409/en_test_0/common_voice_en_30653091.mp3',\n",
              "  'array': array([ 8.88178420e-16, -9.10382880e-15, -8.88178420e-15, ...,\n",
              "          5.69054464e-07, -2.75821230e-06, -3.50653568e-06]),\n",
              "  'sampling_rate': 48000},\n",
              " {'path': '/DATA10T/Cache/downloads/extracted/ba5c265b423696aeece652c80df565d72d9f7c1cc9b807e127f44f989150f409/en_test_0/common_voice_en_23432310.mp3',\n",
              "  'array': array([ 0.00000000e+00, -5.81139412e-14, -6.93676277e-14, ...,\n",
              "         -4.64489176e-07, -1.08558834e-06, -5.89415731e-06]),\n",
              "  'sampling_rate': 48000},\n",
              " {'path': '/DATA10T/Cache/downloads/extracted/ba5c265b423696aeece652c80df565d72d9f7c1cc9b807e127f44f989150f409/en_test_0/common_voice_en_20971256.mp3',\n",
              "  'array': array([ 0.00000000e+00, -2.79917528e-13, -2.17787092e-13, ...,\n",
              "          1.74813307e-04,  1.75681751e-04,  1.69797320e-04]),\n",
              "  'sampling_rate': 48000},\n",
              " {'path': '/DATA10T/Cache/downloads/extracted/ba5c265b423696aeece652c80df565d72d9f7c1cc9b807e127f44f989150f409/en_test_0/common_voice_en_23622461.mp3',\n",
              "  'array': array([ 0.00000000e+00, -1.32784856e-13, -5.69766673e-14, ...,\n",
              "         -1.55045488e-09, -1.37579448e-09, -1.18696042e-09]),\n",
              "  'sampling_rate': 48000},\n",
              " {'path': '/DATA10T/Cache/downloads/extracted/ba5c265b423696aeece652c80df565d72d9f7c1cc9b807e127f44f989150f409/en_test_0/common_voice_en_31960662.mp3',\n",
              "  'array': array([ 2.84217094e-13, -2.50111043e-12, -4.43378667e-12, ...,\n",
              "         -1.86050056e-05, -6.39602058e-06,  1.48907168e-06]),\n",
              "  'sampling_rate': 48000},\n",
              " {'path': '/DATA10T/Cache/downloads/extracted/ba5c265b423696aeece652c80df565d72d9f7c1cc9b807e127f44f989150f409/en_test_0/common_voice_en_19670349.mp3',\n",
              "  'array': array([ 0.00000000e+00, -6.80044372e-17,  7.52010356e-16, ...,\n",
              "         -6.95834024e-05, -1.52695284e-05, -1.36533936e-05]),\n",
              "  'sampling_rate': 48000},\n",
              " {'path': '/DATA10T/Cache/downloads/extracted/ba5c265b423696aeece652c80df565d72d9f7c1cc9b807e127f44f989150f409/en_test_0/common_voice_en_32693885.mp3',\n",
              "  'array': array([ 0.00000000e+00,  2.84217094e-14,  2.84217094e-14, ...,\n",
              "         -5.33213385e-09, -2.26186359e-09, -8.54360360e-10]),\n",
              "  'sampling_rate': 48000},\n",
              " {'path': '/DATA10T/Cache/downloads/extracted/ba5c265b423696aeece652c80df565d72d9f7c1cc9b807e127f44f989150f409/en_test_0/common_voice_en_148006.mp3',\n",
              "  'array': array([0.00000000e+00, 3.95214731e-14, 2.66658135e-14, ...,\n",
              "         1.55917587e-05, 2.53192138e-05, 4.51547021e-05]),\n",
              "  'sampling_rate': 48000},\n",
              " {'path': '/DATA10T/Cache/downloads/extracted/ba5c265b423696aeece652c80df565d72d9f7c1cc9b807e127f44f989150f409/en_test_0/common_voice_en_26972624.mp3',\n",
              "  'array': array([0., 0., 0., ..., 0., 0., 0.]),\n",
              "  'sampling_rate': 48000},\n",
              " {'path': '/DATA10T/Cache/downloads/extracted/ba5c265b423696aeece652c80df565d72d9f7c1cc9b807e127f44f989150f409/en_test_0/common_voice_en_18954059.mp3',\n",
              "  'array': array([ 0.00000000e+00,  6.01473515e-13,  5.87211594e-13, ...,\n",
              "         -6.09214680e-07, -1.50201004e-07,  3.95713073e-07]),\n",
              "  'sampling_rate': 48000},\n",
              " {'path': '/DATA10T/Cache/downloads/extracted/ba5c265b423696aeece652c80df565d72d9f7c1cc9b807e127f44f989150f409/en_test_0/common_voice_en_496804.mp3',\n",
              "  'array': array([0.00000000e+00, 0.00000000e+00, 0.00000000e+00, ...,\n",
              "         1.11749296e-06, 7.44461613e-06, 1.35475457e-05]),\n",
              "  'sampling_rate': 48000},\n",
              " {'path': '/DATA10T/Cache/downloads/extracted/ba5c265b423696aeece652c80df565d72d9f7c1cc9b807e127f44f989150f409/en_test_0/common_voice_en_32669886.mp3',\n",
              "  'array': array([-2.48689958e-14,  8.52651283e-14,  1.62536651e-13, ...,\n",
              "         -8.31395027e-07, -1.75600871e-06, -1.24679070e-06]),\n",
              "  'sampling_rate': 48000},\n",
              " {'path': '/DATA10T/Cache/downloads/extracted/ba5c265b423696aeece652c80df565d72d9f7c1cc9b807e127f44f989150f409/en_test_0/common_voice_en_32850675.mp3',\n",
              "  'array': array([-2.27373675e-13,  1.30739863e-12,  1.62003744e-12, ...,\n",
              "         -1.79845956e-05, -9.35781281e-06, -5.83560904e-07]),\n",
              "  'sampling_rate': 48000},\n",
              " {'path': '/DATA10T/Cache/downloads/extracted/ba5c265b423696aeece652c80df565d72d9f7c1cc9b807e127f44f989150f409/en_test_0/common_voice_en_188461.mp3',\n",
              "  'array': array([ 0.00000000e+00, -7.84978636e-14, -2.95460271e-14, ...,\n",
              "          0.00000000e+00,  0.00000000e+00,  0.00000000e+00]),\n",
              "  'sampling_rate': 48000},\n",
              " {'path': '/DATA10T/Cache/downloads/extracted/ba5c265b423696aeece652c80df565d72d9f7c1cc9b807e127f44f989150f409/en_test_0/common_voice_en_25899258.mp3',\n",
              "  'array': array([-1.13686838e-13,  2.38742359e-12,  4.71800377e-12, ...,\n",
              "          2.35471816e-05,  2.10322723e-05,  4.81057214e-06]),\n",
              "  'sampling_rate': 48000},\n",
              " {'path': '/DATA10T/Cache/downloads/extracted/ba5c265b423696aeece652c80df565d72d9f7c1cc9b807e127f44f989150f409/en_test_0/common_voice_en_18330830.mp3',\n",
              "  'array': array([0.00000000e+00, 0.00000000e+00, 0.00000000e+00, ...,\n",
              "         4.99351813e-08, 1.40236097e-07, 1.85849075e-07]),\n",
              "  'sampling_rate': 48000},\n",
              " {'path': '/DATA10T/Cache/downloads/extracted/ba5c265b423696aeece652c80df565d72d9f7c1cc9b807e127f44f989150f409/en_test_0/common_voice_en_27673036.mp3',\n",
              "  'array': array([-1.77635684e-15, -6.35047570e-14, -7.63833441e-14, ...,\n",
              "         -4.17340780e-05, -1.95417670e-05, -1.22142956e-06]),\n",
              "  'sampling_rate': 48000},\n",
              " {'path': '/DATA10T/Cache/downloads/extracted/ba5c265b423696aeece652c80df565d72d9f7c1cc9b807e127f44f989150f409/en_test_0/common_voice_en_23817648.mp3',\n",
              "  'array': array([ 0.00000000e+00, -1.30354139e-19, -2.49189633e-19, ...,\n",
              "          4.39449941e-05,  4.35912043e-05,  2.61485784e-05]),\n",
              "  'sampling_rate': 48000},\n",
              " {'path': '/DATA10T/Cache/downloads/extracted/ba5c265b423696aeece652c80df565d72d9f7c1cc9b807e127f44f989150f409/en_test_0/common_voice_en_31031171.mp3',\n",
              "  'array': array([ 2.70901651e-23, -1.32348898e-23, -3.22600439e-23, ...,\n",
              "         -1.39126470e-08, -8.82300988e-09,  1.10184306e-09]),\n",
              "  'sampling_rate': 48000},\n",
              " {'path': '/DATA10T/Cache/downloads/extracted/ba5c265b423696aeece652c80df565d72d9f7c1cc9b807e127f44f989150f409/en_test_0/common_voice_en_18580493.mp3',\n",
              "  'array': array([0.00000000e+00, 0.00000000e+00, 0.00000000e+00, ...,\n",
              "         5.51218250e-07, 4.86781391e-06, 1.25709412e-05]),\n",
              "  'sampling_rate': 48000},\n",
              " {'path': '/DATA10T/Cache/downloads/extracted/ba5c265b423696aeece652c80df565d72d9f7c1cc9b807e127f44f989150f409/en_test_0/common_voice_en_28841471.mp3',\n",
              "  'array': array([0.00000000e+00, 0.00000000e+00, 0.00000000e+00, ...,\n",
              "         2.10248581e-05, 3.02695262e-05, 2.02341362e-05]),\n",
              "  'sampling_rate': 48000},\n",
              " {'path': '/DATA10T/Cache/downloads/extracted/ba5c265b423696aeece652c80df565d72d9f7c1cc9b807e127f44f989150f409/en_test_0/common_voice_en_78672.mp3',\n",
              "  'array': array([ 0.00000000e+00,  5.24198198e-16,  1.68829760e-14, ...,\n",
              "          3.79857212e-08,  3.44941808e-09, -1.75835968e-09]),\n",
              "  'sampling_rate': 48000},\n",
              " {'path': '/DATA10T/Cache/downloads/extracted/ba5c265b423696aeece652c80df565d72d9f7c1cc9b807e127f44f989150f409/en_test_0/common_voice_en_32289174.mp3',\n",
              "  'array': array([-5.68434189e-13, -4.54747351e-13, -1.81898940e-12, ...,\n",
              "          4.53570181e-07,  1.01207047e-06,  1.06815992e-06]),\n",
              "  'sampling_rate': 48000},\n",
              " {'path': '/DATA10T/Cache/downloads/extracted/ba5c265b423696aeece652c80df565d72d9f7c1cc9b807e127f44f989150f409/en_test_0/common_voice_en_32133713.mp3',\n",
              "  'array': array([ 1.42108547e-13,  7.67386155e-13,  1.05160325e-12, ...,\n",
              "         -7.79995025e-06, -8.95734775e-06, -2.14289321e-06]),\n",
              "  'sampling_rate': 48000},\n",
              " {'path': '/DATA10T/Cache/downloads/extracted/ba5c265b423696aeece652c80df565d72d9f7c1cc9b807e127f44f989150f409/en_test_0/common_voice_en_27167009.mp3',\n",
              "  'array': array([ 5.68434189e-14, -2.27373675e-13,  0.00000000e+00, ...,\n",
              "          3.15912757e-06,  3.49386210e-06,  1.79363724e-06]),\n",
              "  'sampling_rate': 48000},\n",
              " {'path': '/DATA10T/Cache/downloads/extracted/ba5c265b423696aeece652c80df565d72d9f7c1cc9b807e127f44f989150f409/en_test_0/common_voice_en_534327.mp3',\n",
              "  'array': array([ 0.00000000e+00,  2.22463039e-16, -4.01709017e-15, ...,\n",
              "          1.18151502e-06,  8.82472023e-07, -1.18516681e-07]),\n",
              "  'sampling_rate': 48000},\n",
              " {'path': '/DATA10T/Cache/downloads/extracted/ba5c265b423696aeece652c80df565d72d9f7c1cc9b807e127f44f989150f409/en_test_0/common_voice_en_18257271.mp3',\n",
              "  'array': array([ 0.00000000e+00,  4.24771573e-14, -4.59117811e-14, ...,\n",
              "          7.36378524e-06,  8.11684004e-06,  5.33844650e-06]),\n",
              "  'sampling_rate': 48000},\n",
              " {'path': '/DATA10T/Cache/downloads/extracted/ba5c265b423696aeece652c80df565d72d9f7c1cc9b807e127f44f989150f409/en_test_0/common_voice_en_17881653.mp3',\n",
              "  'array': array([0.00000000e+00, 3.75656402e-15, 3.76414242e-15, ...,\n",
              "         1.90540019e-15, 2.18905628e-15, 2.47317146e-15]),\n",
              "  'sampling_rate': 48000},\n",
              " {'path': '/DATA10T/Cache/downloads/extracted/ba5c265b423696aeece652c80df565d72d9f7c1cc9b807e127f44f989150f409/en_test_0/common_voice_en_22933180.mp3',\n",
              "  'array': array([ 0.00000000e+00,  0.00000000e+00,  0.00000000e+00, ...,\n",
              "         -3.95960524e-06, -3.82544522e-06, -6.60652768e-06]),\n",
              "  'sampling_rate': 48000},\n",
              " {'path': '/DATA10T/Cache/downloads/extracted/ba5c265b423696aeece652c80df565d72d9f7c1cc9b807e127f44f989150f409/en_test_0/common_voice_en_22815192.mp3',\n",
              "  'array': array([ 0.00000000e+00, -5.19233745e-13, -3.00217587e-13, ...,\n",
              "         -1.06595344e-05, -2.55499890e-05, -7.70661245e-06]),\n",
              "  'sampling_rate': 48000},\n",
              " {'path': '/DATA10T/Cache/downloads/extracted/ba5c265b423696aeece652c80df565d72d9f7c1cc9b807e127f44f989150f409/en_test_0/common_voice_en_19087733.mp3',\n",
              "  'array': array([ 0.00000000e+00,  2.85218948e-15,  1.26160179e-15, ...,\n",
              "         -2.80577951e-04, -2.55068473e-04, -1.35493698e-04]),\n",
              "  'sampling_rate': 48000},\n",
              " {'path': '/DATA10T/Cache/downloads/extracted/ba5c265b423696aeece652c80df565d72d9f7c1cc9b807e127f44f989150f409/en_test_0/common_voice_en_25167293.mp3',\n",
              "  'array': array([ 1.66533454e-16, -9.43689571e-16, -1.38777878e-15, ...,\n",
              "         -7.57777457e-07, -4.92372874e-06, -4.17627598e-06]),\n",
              "  'sampling_rate': 48000},\n",
              " {'path': '/DATA10T/Cache/downloads/extracted/ba5c265b423696aeece652c80df565d72d9f7c1cc9b807e127f44f989150f409/en_test_0/common_voice_en_34335470.mp3',\n",
              "  'array': array([-4.54747351e-13, -5.45696821e-12, -8.41282599e-12, ...,\n",
              "          3.92269339e-06,  9.36307879e-06,  6.75481715e-06]),\n",
              "  'sampling_rate': 48000},\n",
              " {'path': '/DATA10T/Cache/downloads/extracted/ba5c265b423696aeece652c80df565d72d9f7c1cc9b807e127f44f989150f409/en_test_0/common_voice_en_590694.mp3',\n",
              "  'array': array([0.00000000e+00, 8.69209329e-16, 4.02573028e-16, ...,\n",
              "         5.41064139e-07, 7.80654091e-07, 2.05557399e-06]),\n",
              "  'sampling_rate': 48000},\n",
              " {'path': '/DATA10T/Cache/downloads/extracted/ba5c265b423696aeece652c80df565d72d9f7c1cc9b807e127f44f989150f409/en_test_0/common_voice_en_592975.mp3',\n",
              "  'array': array([ 0.        ,  0.        ,  0.        , ..., -0.00358833,\n",
              "         -0.00307038, -0.00066173]),\n",
              "  'sampling_rate': 48000},\n",
              " {'path': '/DATA10T/Cache/downloads/extracted/ba5c265b423696aeece652c80df565d72d9f7c1cc9b807e127f44f989150f409/en_test_0/common_voice_en_21327535.mp3',\n",
              "  'array': array([ 0.00000000e+00, -3.72659430e-14, -6.11977510e-14, ...,\n",
              "          3.78335244e-07,  1.00834513e-05,  1.18000935e-05]),\n",
              "  'sampling_rate': 48000},\n",
              " {'path': '/DATA10T/Cache/downloads/extracted/ba5c265b423696aeece652c80df565d72d9f7c1cc9b807e127f44f989150f409/en_test_0/common_voice_en_33085852.mp3',\n",
              "  'array': array([ 2.84217094e-14,  3.19744231e-14, -2.13162821e-13, ...,\n",
              "          0.00000000e+00,  0.00000000e+00,  0.00000000e+00]),\n",
              "  'sampling_rate': 48000},\n",
              " {'path': '/DATA10T/Cache/downloads/extracted/ba5c265b423696aeece652c80df565d72d9f7c1cc9b807e127f44f989150f409/en_test_0/common_voice_en_18165213.mp3',\n",
              "  'array': array([ 0.00000000e+00, -1.20206670e-15, -7.26764857e-16, ...,\n",
              "         -6.55461037e-08,  1.34503196e-07,  3.07430241e-07]),\n",
              "  'sampling_rate': 48000},\n",
              " {'path': '/DATA10T/Cache/downloads/extracted/ba5c265b423696aeece652c80df565d72d9f7c1cc9b807e127f44f989150f409/en_test_0/common_voice_en_18127728.mp3',\n",
              "  'array': array([ 0.00000000e+00, -7.54657431e-14, -2.00663376e-14, ...,\n",
              "          3.74058072e-06,  4.64753612e-06,  6.55077656e-06]),\n",
              "  'sampling_rate': 48000},\n",
              " {'path': '/DATA10T/Cache/downloads/extracted/ba5c265b423696aeece652c80df565d72d9f7c1cc9b807e127f44f989150f409/en_test_0/common_voice_en_28954183.mp3',\n",
              "  'array': array([0., 0., 0., ..., 0., 0., 0.]),\n",
              "  'sampling_rate': 48000},\n",
              " {'path': '/DATA10T/Cache/downloads/extracted/ba5c265b423696aeece652c80df565d72d9f7c1cc9b807e127f44f989150f409/en_test_0/common_voice_en_29319614.mp3',\n",
              "  'array': array([6.21724894e-15, 1.68753900e-14, 1.33226763e-15, ...,\n",
              "         3.58084051e-08, 8.76363586e-08, 7.81152067e-08]),\n",
              "  'sampling_rate': 48000},\n",
              " {'path': '/DATA10T/Cache/downloads/extracted/ba5c265b423696aeece652c80df565d72d9f7c1cc9b807e127f44f989150f409/en_test_0/common_voice_en_19704043.mp3',\n",
              "  'array': array([ 0.00000000e+00,  2.85362054e-15,  1.18141572e-15, ...,\n",
              "         -8.82341556e-06,  1.85975077e-05,  6.66271008e-05]),\n",
              "  'sampling_rate': 48000},\n",
              " {'path': '/DATA10T/Cache/downloads/extracted/ba5c265b423696aeece652c80df565d72d9f7c1cc9b807e127f44f989150f409/en_test_0/common_voice_en_696829.mp3',\n",
              "  'array': array([ 0.00000000e+00,  1.16072830e-14,  1.55794533e-14, ...,\n",
              "         -1.50156367e-07, -6.30526586e-07,  2.98462282e-07]),\n",
              "  'sampling_rate': 48000},\n",
              " {'path': '/DATA10T/Cache/downloads/extracted/ba5c265b423696aeece652c80df565d72d9f7c1cc9b807e127f44f989150f409/en_test_0/common_voice_en_20003201.mp3',\n",
              "  'array': array([ 0.00000000e+00, -2.35544657e-13,  2.49510536e-13, ...,\n",
              "          3.09938587e-05, -1.75303976e-05, -2.67702999e-05]),\n",
              "  'sampling_rate': 48000},\n",
              " {'path': '/DATA10T/Cache/downloads/extracted/ba5c265b423696aeece652c80df565d72d9f7c1cc9b807e127f44f989150f409/en_test_0/common_voice_en_20115558.mp3',\n",
              "  'array': array([ 0.00000000e+00,  4.93657917e-15, -2.74180584e-15, ...,\n",
              "         -6.73261184e-07, -2.15097111e-06, -2.36678147e-06]),\n",
              "  'sampling_rate': 48000},\n",
              " {'path': '/DATA10T/Cache/downloads/extracted/ba5c265b423696aeece652c80df565d72d9f7c1cc9b807e127f44f989150f409/en_test_0/common_voice_en_17850951.mp3',\n",
              "  'array': array([ 0.00000000e+00,  4.66061583e-15, -9.05571055e-15, ...,\n",
              "         -4.43599356e-06, -8.96909000e-07,  1.24931671e-06]),\n",
              "  'sampling_rate': 48000},\n",
              " {'path': '/DATA10T/Cache/downloads/extracted/ba5c265b423696aeece652c80df565d72d9f7c1cc9b807e127f44f989150f409/en_test_0/common_voice_en_19261373.mp3',\n",
              "  'array': array([0.00000000e+00, 0.00000000e+00, 0.00000000e+00, ...,\n",
              "         4.57830083e-07, 8.60118234e-07, 1.17468016e-06]),\n",
              "  'sampling_rate': 48000},\n",
              " {'path': '/DATA10T/Cache/downloads/extracted/ba5c265b423696aeece652c80df565d72d9f7c1cc9b807e127f44f989150f409/en_test_0/common_voice_en_17853794.mp3',\n",
              "  'array': array([ 0.00000000e+00,  2.10882129e-15, -1.81735916e-15, ...,\n",
              "         -8.84488545e-05, -1.42999979e-05,  1.00196004e-04]),\n",
              "  'sampling_rate': 48000}]"
            ]
          },
          "execution_count": 5,
          "metadata": {},
          "output_type": "execute_result"
        }
      ],
      "source": [
        "test_dataset['audio']"
      ]
    },
    {
      "cell_type": "code",
      "execution_count": 5,
      "metadata": {},
      "outputs": [
        {
          "data": {
            "text/plain": [
              "['Joe Keaton disapproved of films, and Buster also had reservations about the medium.',\n",
              " \"She'll be all right.\",\n",
              " 'six',\n",
              " \"All's well that ends well.\",\n",
              " 'It is a busy market town that serves a large surrounding area.',\n",
              " 'The team had Olympic Champion Carolina Marin in their squad for the season.',\n",
              " 'Do you mean it?',\n",
              " 'The new patch is less invasive than the old one, but still causes regressions.',\n",
              " 'How is Mozilla going to handle ambiguities like queue and cue?',\n",
              " \"I guess you must think I'm kinda batty.\",\n",
              " 'No one near the remote machine you could ring?',\n",
              " 'Sauce for the goose is sauce for the gander.',\n",
              " 'Groves started writing songs when she was four years old.',\n",
              " 'His uncle Mike Shula was the former head coach at Alabama.',\n",
              " 'The response was that the Board did not appoint individual officers.',\n",
              " 'The long-lived bridge still stands today.',\n",
              " 'There was nothing to hold him back except himself.',\n",
              " 'The meat processing and construction industries would be allowed to operate with reduced personnel.',\n",
              " 'Coles Branch is underlaid by the Deep River Basin.',\n",
              " 'We spoke often.',\n",
              " 'He was Protestant.',\n",
              " 'The electrician looked puzzled.',\n",
              " 'The ladder on the fire truck was not long enough.',\n",
              " 'I will tell her what we decided.',\n",
              " 'These and the other youth leaders are advised and supported by the adult leaders.',\n",
              " 'Enoxaparin belongs to the class of drugs known as low molecular weight heparins.',\n",
              " 'Good things come in small packages.',\n",
              " 'Boles is studying chemical engineering at the University College Dublin.',\n",
              " 'It is a member theater of the Union of the Theatres of Europe.',\n",
              " 'All three battalions were equipped with captured French tanks.',\n",
              " 'YOU WANNA TAKE THIS OUTSIDE?',\n",
              " 'She joined the \"K\" patrol line and patrolled off Unalaska Island.',\n",
              " 'The immersion in hot water also kills the silkworm pupa.',\n",
              " 'She married her business partner, Steve Lane.',\n",
              " 'The attack on our root server overstrained our senior administrator.',\n",
              " 'Do you want me?',\n",
              " 'That would be funny if he did.',\n",
              " 'Eight National Paralympic Committee quotas and three individual athlete quotas were secured.',\n",
              " 'Although she had flowers and applause, Mavis said she was not content.',\n",
              " 'Add the column and put the sum here.',\n",
              " 'They perfectly illuminate the flowerbeds of gardens.',\n",
              " 'A mansion was usually set on a one square.',\n",
              " 'Alston commented that he felt the cartoonist \"might have had some racial intent\".',\n",
              " 'He was the chief clerk of the Chicago and Northwestern Railroad.',\n",
              " 'Doing a handstand needs a lot of practice to learn.',\n",
              " 'Man in red tshirt and baseball cap viewed from above he is has a pile of posters',\n",
              " 'The two films were then released within one day of each other.',\n",
              " '‘What did he say his name was?’ asked the captain.',\n",
              " 'He has German ancestry from his paternal side.',\n",
              " 'yes',\n",
              " \"Since their inception, Harris has been the band's principal composer and lyricist.\",\n",
              " 'After experiencing a mind-blowing sensual orgy, Mike was sure he had taken an overdose.',\n",
              " 'Religious festivals include the Muslim Eids and the Christian Christmas and Easter.',\n",
              " 'What do you advise, sir?',\n",
              " 'Charles looked on, angry that there was nothing he could do.',\n",
              " 'She had made personal exhibitions and participated in group exhibitions as well.',\n",
              " 'The manifesto made apparent the philosophical changes that Abbas had undergone.',\n",
              " 'She was also appointed the Eleanor Easley Distinguished Professor of Medicine.',\n",
              " 'Karina Smirnoff of \"Dancing With The Stars\" hosted the following month.',\n",
              " 'It is inhibited by the pneumotaxic centre.',\n",
              " 'His wide grin earned many friends.',\n",
              " 'An important person in the life of Emile Claus was the painter Jenny Montigny.',\n",
              " \"In the United States, Federal Vehicle fleets refers to the federal government's vehicles.\",\n",
              " 'It was won by a woman from Vara, Sweden.',\n",
              " 'The prints are then delivered to the customer.',\n",
              " 'In spite of this, I still believed that there were men in Mars.',\n",
              " 'The land was ruined, and I had to find some other way to earn a living.',\n",
              " 'Footprints of mud and clay were on the floor.',\n",
              " \"Other well-known relatives in Handsome Lake's family included Governor Blacksnake, Red Jacket and Half-Town.\",\n",
              " 'I pointed out Mars, a bright dot of light.',\n",
              " 'He ended up running to the bars which fortified the windows of the first floor.',\n",
              " 'I know why I want to get back to my flock, he thought.',\n",
              " 'Many notable problem and study composers are also International Judges, including Genrikh Kasparyan.',\n",
              " 'Many of the supporting characters present an unflattering portrayal of colonial life in Virginia.',\n",
              " 'You should see the other guy, specifically, how good at fighting he is.',\n",
              " 'He is of African-American and Italian descent.',\n",
              " \"That's not Carson Sphinx.\",\n",
              " 'Some rules of thumb are also accepted in the codes.',\n",
              " 'Lorenz is listed as a Swiss heritage site of national significance.',\n",
              " 'I have never in life hit a tennis ball.',\n",
              " 'The warehouses of Megapolis Ukraine in six cities were blocked by activists.',\n",
              " 'He is the first known and undisputed member of the Gediminids.',\n",
              " 'Lion Rock is located north west of Wong Tai Sin.',\n",
              " 'At dusk the Greek western flank was broken.',\n",
              " 'Her father is sure to inherit.',\n",
              " 'We should not take for granted how fortunate we have been.',\n",
              " 'Topical and up-to-the-minute, E!',\n",
              " 'The farmer works the soil and produces grain.',\n",
              " \"Since I've gotten a dog, the regular visits of the fox have stopped.\",\n",
              " 'His speech ended with a standing ovation.',\n",
              " 'eight',\n",
              " 'The reserve is in pristine condition with almost no human habitation.',\n",
              " '\"The wind told me that you know about love\" the boy said to the sun.',\n",
              " 'Geils began playing jazz trumpet but eventually switched to blues guitar.',\n",
              " 'This is the context in which the film begins.',\n",
              " 'These qualities make her beloved by her hometown.',\n",
              " 'The little pink ones are so cute.',\n",
              " 'The students colored with their crayons.',\n",
              " 'It seemed to him that it fell to earth about one hundred miles east of here.',\n",
              " 'As such it is face uniform but with irregular face polygons.',\n",
              " 'George Hare and Rev.',\n",
              " 'He took the fourth part and handed it to the monk.',\n",
              " 'He is a right-handed batsman and a left-arm slow bowler.',\n",
              " 'Cador is also said to be of Roman stock.',\n",
              " 'Where will you go?',\n",
              " 'Only John Wayne himself surpassed McGrath in scenes in this movie.',\n",
              " 'It was opened in July of that year.',\n",
              " 'Vera Schlink is a talented fund manager. She works in Vienna.',\n",
              " 'They were eliminated in the fourth episode.',\n",
              " \"'Munising' means near the island.\",\n",
              " 'The owner of the dwelling was not amused.',\n",
              " 'All of this activity in Milwaukee was in no way unique.',\n",
              " 'William Barnes the poet also lived in Sturminster Newton.',\n",
              " 'Thai dancers happily going through their steps in unison.',\n",
              " \"I'm so glad to see you.\",\n",
              " 'Corncockle is an attractive plant, and its seeds are still commercially available to gardeners.',\n",
              " 'Davao de Oro is headed by its governor as the chief executive.',\n",
              " 'The Swedish actress Anna Norrie instructed her in drama.',\n",
              " 'Then she looked up.',\n",
              " 'Agni agrees to let Togata film his revenge on Doma in exchange for training.',\n",
              " 'What was he like?',\n",
              " \"Luckily, the dagger couldn't penetrate the bullet proof vest.\",\n",
              " '\"Like everybody learns,\" he said.',\n",
              " 'This has become a bit of a cult in Romania.',\n",
              " 'His other film roles include Who Done It?',\n",
              " 'How often has the train been late?',\n",
              " \"He is currently a member of investment bank Jefferies' Global Senior Advisory Board.\",\n",
              " 'To increase his popularity in public-opinion polls, the politician started a campaign.',\n",
              " 'She was the first woman Senator to die in office.',\n",
              " 'Where is it, then?',\n",
              " 'Always ask an objective question.',\n",
              " 'rate the current book two stars',\n",
              " 'People from all over have come to taste its bear stew.',\n",
              " 'More discussion is needed on how it will be financed.',\n",
              " 'A soldier wearing a pink scarf peers out of the top of a vehicle.',\n",
              " 'Passive surveillance is often incomplete because of the limited reporting incentives.',\n",
              " 'Princess Vilas herself also contributed personally to the construction of the temple.',\n",
              " '\"Bambalio\" refers to a tendency to stammer.',\n",
              " 'He became chief of the army personnel department.',\n",
              " '\"I can work for the rest of today,\" the boy answered.',\n",
              " \"I'd like to order some cinnamon pretzels, please.\",\n",
              " 'The boy was also saddened; his friend was in pursuit of his destiny.',\n",
              " 'Women form less than half of the group.',\n",
              " 'Men play football as a crowd watches.',\n",
              " 'How about once more around the park?',\n",
              " 'It is possible that there were other visits.',\n",
              " 'Radio will go on and on forever.',\n",
              " 'The genus name was given in honour of Queen Victoria of the United Kingdom.',\n",
              " 'A song, a Girl, a maid.',\n",
              " 'Nick Flynn was raised by his mother in Scituate, Massachusetts, a suburb of Boston.',\n",
              " 'These plants are hermaphroditic.',\n",
              " 'Local branches throughout Slovakia were primarily engaged in public education and cultural activities.',\n",
              " 'The current representative for the district is Democrat Karin Power of Milwaukie.',\n",
              " 'Its major industry has been slate mining.',\n",
              " 'Today, Signature Flight Support services private aircraft in this area.',\n",
              " 'This process is intense and often lengthy.',\n",
              " 'He also was the elected senator of Khuzestan.',\n",
              " 'The line appears today on the Tube Map as an orange stripe.',\n",
              " 'Armand immigrated to the United States from France and sold hats as an occupation.',\n",
              " 'What kind of a proof is that?',\n",
              " 'The crew also activated one group of the payload bay Getaway Special experiments.',\n",
              " 'That application was rejected.',\n",
              " 'They had a lot to divulge.',\n",
              " 'The printer also supports landscape orientation and multiple typefaces.',\n",
              " 'They displaced at normal load and at deep load.',\n",
              " \"Every day was there to be lived or to mark one's departure from this world.\",\n",
              " \"Let's go to Orba.\",\n",
              " 'Potato crisps are thinly sliced fried potatoes, eaten as a snack',\n",
              " 'The movie \"White Christmas\" also starred Bing Crosby and Danny Kaye.',\n",
              " 'The staircase survives in The Swan Hotel in Bedford.',\n",
              " 'Only six of the planned ten episodes were produced.',\n",
              " 'We are giving them no rest.',\n",
              " 'Double seaming uses rollers to shape the can, lid and the final double seam.',\n",
              " 'Throughout the entire day we will be on the lookout for our enemies.',\n",
              " 'The palace was rebuilt with the same stones.',\n",
              " 'He was employed in the coal industry before assuming office.',\n",
              " \"The village's topography is mostly flat.\",\n",
              " 'Plastic surgery has become more popular.',\n",
              " 'The tracking reference did not work.',\n",
              " 'But you are joking.',\n",
              " 'These original parts of the hospital are now administrative and social accommodation.',\n",
              " 'She wanted to do penance.',\n",
              " 'With no weapons, the only attack option open to him was aerial ramming.',\n",
              " 'It was in Sixpenny Hundred and the lord and tenant-in-chief was Shaftesbury Abbey.',\n",
              " 'After being coach he held other functions within Dutch speed skating.',\n",
              " 'Touchscreens do not provide haptic feedback.',\n",
              " 'It was a tent like many at the oasis.',\n",
              " 'The episode \"Father\\'s Day\" depicts two younger versions of Jackie also played by Coduri.',\n",
              " 'Rosemary was born in Uganda and she attended local primary and secondary schools.',\n",
              " \"This blurry tomography doesn't help me a lot with the diagnosis.\",\n",
              " 'Sunburn can be avoided by applying sunscreen or by staying in the shadows.',\n",
              " 'Fouls, on the other hand, can occur only while the ball is in play.',\n",
              " 'In pure vacuum, some weak scattering of light by light exists as well.',\n",
              " 'Since leaving office, he has also attended a number of other events of significance.',\n",
              " '\"Fatima,\" the girl said, averting her eyes.',\n",
              " 'Indeed the scene was very beautiful.',\n",
              " 'She also taught journalism at the University of California at Berkeley.',\n",
              " 'Still waters run deep.',\n",
              " 'The University is a member of several organizations of colleges and universities.',\n",
              " 'These chimes have a mellow sound.']"
            ]
          },
          "execution_count": 5,
          "metadata": {},
          "output_type": "execute_result"
        }
      ],
      "source": [
        "test_dataset['sentence']"
      ]
    },
    {
      "cell_type": "code",
      "execution_count": 6,
      "metadata": {},
      "outputs": [
        {
          "data": {
            "text/plain": [
              "{'client_id': '0013037a1d45cc33460806cc3f8ecee9d536c45639ba4cbbf1564f1c051f53ff3c9f89ef2f1bf04badf55b3a2e7654c086f903681a7b6299616cff6f67598eff',\n",
              " 'path': '/DATA10T/Cache/downloads/extracted/ba5c265b423696aeece652c80df565d72d9f7c1cc9b807e127f44f989150f409/en_test_0/common_voice_en_699711.mp3',\n",
              " 'audio': {'path': '/DATA10T/Cache/downloads/extracted/ba5c265b423696aeece652c80df565d72d9f7c1cc9b807e127f44f989150f409/en_test_0/common_voice_en_699711.mp3',\n",
              "  'array': array([ 0.00000000e+00, -7.05920511e-14, -5.47149741e-14, ...,\n",
              "         -8.53668247e-09,  2.06165751e-09,  1.62003939e-08]),\n",
              "  'sampling_rate': 48000},\n",
              " 'sentence': \"She'll be all right.\",\n",
              " 'up_votes': 2,\n",
              " 'down_votes': 1,\n",
              " 'age': '',\n",
              " 'gender': '',\n",
              " 'accent': '',\n",
              " 'locale': 'en',\n",
              " 'segment': ''}"
            ]
          },
          "execution_count": 6,
          "metadata": {},
          "output_type": "execute_result"
        }
      ],
      "source": [
        "sample=test_dataset[1]\n",
        "sample"
      ]
    },
    {
      "cell_type": "code",
      "execution_count": 8,
      "metadata": {},
      "outputs": [
        {
          "data": {
            "text/plain": [
              "48000"
            ]
          },
          "execution_count": 8,
          "metadata": {},
          "output_type": "execute_result"
        }
      ],
      "source": [
        "sample[\"audio\"][\"sampling_rate\"]"
      ]
    },
    {
      "cell_type": "code",
      "execution_count": 9,
      "metadata": {},
      "outputs": [
        {
          "data": {
            "text/plain": [
              "\"She'll be all right.\""
            ]
          },
          "execution_count": 9,
          "metadata": {},
          "output_type": "execute_result"
        }
      ],
      "source": [
        "sample['sentence']"
      ]
    },
    {
      "cell_type": "code",
      "execution_count": 34,
      "metadata": {},
      "outputs": [],
      "source": [
        "inputids=processor.tokenizer(sample['sentence'])"
      ]
    },
    {
      "cell_type": "code",
      "execution_count": 35,
      "metadata": {},
      "outputs": [
        {
          "data": {
            "text/plain": [
              "{'input_ids': [3, 14, 11, 5, 18, 18, 4, 8, 11, 4, 7, 18, 18, 4, 24, 15, 13, 14, 26, 3], 'attention_mask': [1, 1, 1, 1, 1, 1, 1, 1, 1, 1, 1, 1, 1, 1, 1, 1, 1, 1, 1, 1]}"
            ]
          },
          "execution_count": 35,
          "metadata": {},
          "output_type": "execute_result"
        }
      ],
      "source": [
        "inputids"
      ]
    },
    {
      "cell_type": "code",
      "execution_count": 40,
      "metadata": {},
      "outputs": [
        {
          "data": {
            "text/plain": [
              "\"<unk>he'l be al right<unk>\""
            ]
          },
          "execution_count": 40,
          "metadata": {},
          "output_type": "execute_result"
        }
      ],
      "source": [
        "decoded_str = processor.decode(inputids.input_ids)\n",
        "decoded_str"
      ]
    },
    {
      "cell_type": "markdown",
      "metadata": {},
      "source": [
        "S and . is replaced as <unk>"
      ]
    },
    {
      "cell_type": "code",
      "execution_count": 41,
      "metadata": {},
      "outputs": [
        {
          "data": {
            "text/plain": [
              "\"she'l be al right<unk>\""
            ]
          },
          "execution_count": 41,
          "metadata": {},
          "output_type": "execute_result"
        }
      ],
      "source": [
        "inputids=processor.tokenizer(sample['sentence'].lower())\n",
        "decoded_str = processor.decode(inputids.input_ids)\n",
        "decoded_str"
      ]
    },
    {
      "cell_type": "code",
      "execution_count": 43,
      "metadata": {},
      "outputs": [
        {
          "data": {
            "text/plain": [
              "\"she'll be all right<unk>\""
            ]
          },
          "execution_count": 43,
          "metadata": {},
          "output_type": "execute_result"
        }
      ],
      "source": [
        "decoded_str = processor.tokenizer.decode(inputids.input_ids, group_tokens=False)\n",
        "decoded_str"
      ]
    },
    {
      "cell_type": "code",
      "execution_count": 45,
      "metadata": {},
      "outputs": [
        {
          "data": {
            "text/plain": [
              "{'<pad>': 0,\n",
              " '<s>': 1,\n",
              " '</s>': 2,\n",
              " '<unk>': 3,\n",
              " '|': 4,\n",
              " \"'\": 5,\n",
              " '-': 6,\n",
              " 'a': 7,\n",
              " 'b': 8,\n",
              " 'c': 9,\n",
              " 'd': 10,\n",
              " 'e': 11,\n",
              " 'f': 12,\n",
              " 'g': 13,\n",
              " 'h': 14,\n",
              " 'i': 15,\n",
              " 'j': 16,\n",
              " 'k': 17,\n",
              " 'l': 18,\n",
              " 'm': 19,\n",
              " 'n': 20,\n",
              " 'o': 21,\n",
              " 'p': 22,\n",
              " 'q': 23,\n",
              " 'r': 24,\n",
              " 's': 25,\n",
              " 't': 26,\n",
              " 'u': 27,\n",
              " 'v': 28,\n",
              " 'w': 29,\n",
              " 'x': 30,\n",
              " 'y': 31,\n",
              " 'z': 32}"
            ]
          },
          "execution_count": 45,
          "metadata": {},
          "output_type": "execute_result"
        }
      ],
      "source": [
        "processor.tokenizer.encoder"
      ]
    },
    {
      "cell_type": "code",
      "execution_count": 46,
      "metadata": {},
      "outputs": [],
      "source": [
        "speech_array, sampling_rate = librosa.load(sample[\"path\"], sr=16_000)\n",
        "#sample[\"audio\"][\"array\"] is 48000\n",
        "inputs_sample = processor(speech_array, sampling_rate=sampling_rate, return_tensors=\"pt\")"
      ]
    },
    {
      "cell_type": "code",
      "execution_count": 47,
      "metadata": {},
      "outputs": [
        {
          "data": {
            "text/plain": [
              "{'input_values': tensor([[4.2237e-05, 4.2201e-05, 4.2325e-05,  ..., 4.2364e-05, 4.2385e-05,\n",
              "         4.2037e-05]]), 'attention_mask': tensor([[1, 1, 1,  ..., 1, 1, 1]], dtype=torch.int32)}"
            ]
          },
          "execution_count": 47,
          "metadata": {},
          "output_type": "execute_result"
        }
      ],
      "source": [
        "inputs_sample"
      ]
    },
    {
      "cell_type": "code",
      "execution_count": 48,
      "metadata": {},
      "outputs": [],
      "source": [
        "with torch.no_grad():\n",
        "    logits = model(inputs_sample.input_values, attention_mask=inputs_sample.attention_mask).logits"
      ]
    },
    {
      "cell_type": "code",
      "execution_count": 49,
      "metadata": {},
      "outputs": [
        {
          "data": {
            "text/plain": [
              "torch.Size([1, 108, 33])"
            ]
          },
          "execution_count": 49,
          "metadata": {},
          "output_type": "execute_result"
        }
      ],
      "source": [
        "logits.shape"
      ]
    },
    {
      "cell_type": "code",
      "execution_count": 50,
      "metadata": {},
      "outputs": [
        {
          "data": {
            "text/plain": [
              "torch.Size([1, 108])"
            ]
          },
          "execution_count": 50,
          "metadata": {},
          "output_type": "execute_result"
        }
      ],
      "source": [
        "predicted_ids = torch.argmax(logits, dim=-1)\n",
        "predicted_ids.shape"
      ]
    },
    {
      "cell_type": "code",
      "execution_count": 51,
      "metadata": {},
      "outputs": [
        {
          "data": {
            "text/plain": [
              "[\"she'll be all right\"]"
            ]
          },
          "execution_count": 51,
          "metadata": {},
          "output_type": "execute_result"
        }
      ],
      "source": [
        "predicted_sentences = processor.batch_decode(predicted_ids)\n",
        "predicted_sentences"
      ]
    },
    {
      "cell_type": "code",
      "execution_count": 52,
      "metadata": {},
      "outputs": [
        {
          "data": {
            "application/vnd.jupyter.widget-view+json": {
              "model_id": "fc2b5e80570d4b46810a33828a0dccf3",
              "version_major": 2,
              "version_minor": 0
            },
            "text/plain": [
              "Map:   0%|          | 0/100 [00:00<?, ? examples/s]"
            ]
          },
          "metadata": {},
          "output_type": "display_data"
        }
      ],
      "source": [
        "# Preprocessing the datasets.\n",
        "# We need to read the audio files as arrays\n",
        "def speech_file_to_array_fn(batch):\n",
        "    speech_array, sampling_rate = librosa.load(batch[\"path\"], sr=16_000)\n",
        "    batch[\"speech\"] = speech_array\n",
        "    batch[\"sentence\"] = batch[\"sentence\"]#.upper()\n",
        "    return batch\n",
        "\n",
        "test_dataset_new = test_dataset.map(speech_file_to_array_fn)\n",
        "inputs = processor(test_dataset_new[\"speech\"], sampling_rate=16_000, return_tensors=\"pt\", padding=True)\n",
        "\n",
        "with torch.no_grad():\n",
        "    logits = model(inputs.input_values, attention_mask=inputs.attention_mask).logits\n",
        "\n",
        "predicted_ids = torch.argmax(logits, dim=-1)\n",
        "predicted_sentences = processor.batch_decode(predicted_ids)\n"
      ]
    },
    {
      "cell_type": "code",
      "execution_count": 54,
      "metadata": {},
      "outputs": [
        {
          "data": {
            "text/plain": [
              "['joe keatson disapproved of films and buster also had reservations about the medium',\n",
              " \"she'll be all right\",\n",
              " 'six',\n",
              " 'all as well that ends well',\n",
              " 'it is a busy market town that serves a large surrounded area',\n",
              " 'the team at olympic chapion carolina marine in is quiet forty season',\n",
              " 'do you mean it',\n",
              " 'the new patch is less invasive than the old one but still causes regression',\n",
              " 'how is moslillar going to handle andbewooth his like q and q',\n",
              " 'christian ws sitin pam on te batty',\n",
              " 'no one near the remote machine you could ring',\n",
              " 'sauce for the guice is sauce for the gonder',\n",
              " 'grafs started writing songs when she was four years old',\n",
              " 'his uncle mike schula was the former edge coach at alabama',\n",
              " 'the response was that the ball did not appoint individual officers',\n",
              " 'the long-lived bleached still stands today',\n",
              " 'there was nothing to hold him back except himself',\n",
              " 'the mead processing and construction industries would be allowed to operate with readios personel',\n",
              " \"cole's branch is underlayd by the deep river basin\",\n",
              " 'we spoke off on',\n",
              " 'he was protestant',\n",
              " 'they decretion youp pozzls',\n",
              " 'a leader on the fighter truck was not long enough',\n",
              " 'i will tell her what we decided',\n",
              " 'these and the other leaders are advised and supported by the adult leaders',\n",
              " 'loimoni a oxparian belongs to a class of truks monars bonalgiagat apariska',\n",
              " 'good things come in small paggages',\n",
              " 'bowles is studying chemical engineering at the university college dublin',\n",
              " 'it is a member theatre of the union of the theatres of europe',\n",
              " 'all three battalions were equipped with captured frenge tanks',\n",
              " 'you want to take this outside',\n",
              " 'she joined the k patrol line and patrolled off inalaska island',\n",
              " 'the imergion in hotwater also kills the sick one upah',\n",
              " 'she married her benness partner stephen lee',\n",
              " 'the attak on your road serve war strained our senior administrator',\n",
              " 'do you want me',\n",
              " 'that would be funny if he did',\n",
              " 'eight national paralympic committee kotas and three individual athlete kotas were secured',\n",
              " 'although she had flowers and applause maybe said she was not content',\n",
              " 'add the column and put the sum here',\n",
              " 'they perfectly illuminate the flower beds of t gardens',\n",
              " 'a mantion was usually hit on a one square',\n",
              " 'arlstone commented that he felt the cartoonist might have had some racial intent',\n",
              " 'he is the chief clerk of the chipalo and northwestern railroad',\n",
              " 'doing a handstan needs a lot of practice to learn',\n",
              " 'man in red t-shirt and baseball cap views from above he is as a pile of postures',\n",
              " 'the two films were then released within one day each other',\n",
              " 'what did he say his name wos asked the captain',\n",
              " 'he has german ancestry from his paternal sight',\n",
              " 'yes',\n",
              " 'many mean the kapalloturman is a gereqyo bashanzachabilirsens',\n",
              " 'after experiencing a mind-blowing sensual orgy mikes was sure he had taken ot over those',\n",
              " 'religious festivals include the muslim eids and the christian christmas and easter',\n",
              " 'what are you advise sir',\n",
              " 'charles looked on angry that there was nothing he could do',\n",
              " 'she had more personal exhibitions and participated in group exhibitions as well',\n",
              " 'the mony feasts to made apparent the philosophical changes that allus has undergone',\n",
              " 'she was also appointed the elenor easiley distinguished professor of medicine',\n",
              " 'carinas wurenoug of dancing with the stars hosted the following month',\n",
              " 'it is inhibited by the neumotoxic center',\n",
              " 'his white green and many friends',\n",
              " 'an important verson in the life of gemir cross was the painter jenn montegni',\n",
              " \"in the united states federal vehicle fleets refer to the federal government's vehicles\",\n",
              " 'it was on by a woman frombara swated bupy',\n",
              " 'te pring are then delivered to the constals',\n",
              " 'in spite of this i still believe that there were men ion marce',\n",
              " 'teland swilled bu had to fend sima the later in ravi',\n",
              " 'footprints of mud and clay were on the floor',\n",
              " 'other wearming weluses ainhungsan los comedy in filbo basma blat milk wom prakes and harxhantan',\n",
              " 'i pointed out mars a bright dot of light',\n",
              " 'he ended up running to the bars which fortified the windows of the first floor',\n",
              " 'i know why i want to get back to my flock he thought',\n",
              " 'many notable problems and study composers  are also international judges including gendrik kasparian  ss',\n",
              " 'many of the supporting characters present an unflattering portrayal of colonial life in virginia',\n",
              " 'you should see the other guin specifili how go that fighting his',\n",
              " 'he is of african-american egitary descent',\n",
              " \"that's not carson spinks\",\n",
              " 'some rules of thumb are also accepted in the codes',\n",
              " 'lorrange is listed as a swiss heritage site of national significance',\n",
              " 'i have never in life head at tennis ball',\n",
              " 'the warehouses of megapolis ucraine in six cities were blocked by activists',\n",
              " 'he is the first known and undisputed member of the geminids',\n",
              " 'lion rock is located northwest of wong taising',\n",
              " 'at dusk the greek western flank was broker',\n",
              " 'her father is sure to inherit',\n",
              " 'we should not take for granted how fortunate we have been',\n",
              " 'topical and up to the minute e',\n",
              " 'the farmer works the soil and produces grain',\n",
              " \"since i've gotten a dog the regular visits of the fox have stopped\",\n",
              " 'his speech ended with a standing ovation',\n",
              " 'ahd',\n",
              " 'the reserve is in prestine condition with almost no human habitation',\n",
              " 'the wind told me that you know about love the boy said to the sun',\n",
              " 'jales began playing gaz trompetes but avan charlish richard to blues guitar',\n",
              " 'this is the context in which the film begins',\n",
              " 'these qualities make her beloved by her home ton',\n",
              " 'the little pink ones are so cute',\n",
              " 'the students colored with their craons',\n",
              " 'it seemed to him that it fell to earth about one hundred miles east here',\n",
              " 'as such it is base uniform but with irregular base polygons']"
            ]
          },
          "execution_count": 54,
          "metadata": {},
          "output_type": "execute_result"
        }
      ],
      "source": [
        "predicted_sentences"
      ]
    },
    {
      "cell_type": "code",
      "execution_count": 53,
      "metadata": {},
      "outputs": [
        {
          "name": "stdout",
          "output_type": "stream",
          "text": [
            "----------------------------------------------------------------------------------------------------\n",
            "Reference: Joe Keaton disapproved of films, and Buster also had reservations about the medium.\n",
            "Prediction: joe keatson disapproved of films and buster also had reservations about the medium\n",
            "----------------------------------------------------------------------------------------------------\n",
            "Reference: She'll be all right.\n",
            "Prediction: she'll be all right\n",
            "----------------------------------------------------------------------------------------------------\n",
            "Reference: six\n",
            "Prediction: six\n",
            "----------------------------------------------------------------------------------------------------\n",
            "Reference: All's well that ends well.\n",
            "Prediction: all as well that ends well\n",
            "----------------------------------------------------------------------------------------------------\n",
            "Reference: It is a busy market town that serves a large surrounding area.\n",
            "Prediction: it is a busy market town that serves a large surrounded area\n",
            "----------------------------------------------------------------------------------------------------\n",
            "Reference: The team had Olympic Champion Carolina Marin in their squad for the season.\n",
            "Prediction: the team at olympic chapion carolina marine in is quiet forty season\n",
            "----------------------------------------------------------------------------------------------------\n",
            "Reference: Do you mean it?\n",
            "Prediction: do you mean it\n",
            "----------------------------------------------------------------------------------------------------\n",
            "Reference: The new patch is less invasive than the old one, but still causes regressions.\n",
            "Prediction: the new patch is less invasive than the old one but still causes regression\n",
            "----------------------------------------------------------------------------------------------------\n",
            "Reference: How is Mozilla going to handle ambiguities like queue and cue?\n",
            "Prediction: how is moslillar going to handle andbewooth his like q and q\n",
            "----------------------------------------------------------------------------------------------------\n",
            "Reference: I guess you must think I'm kinda batty.\n",
            "Prediction: christian ws sitin pam on te batty\n",
            "----------------------------------------------------------------------------------------------------\n",
            "Reference: No one near the remote machine you could ring?\n",
            "Prediction: no one near the remote machine you could ring\n",
            "----------------------------------------------------------------------------------------------------\n",
            "Reference: Sauce for the goose is sauce for the gander.\n",
            "Prediction: sauce for the guice is sauce for the gonder\n",
            "----------------------------------------------------------------------------------------------------\n",
            "Reference: Groves started writing songs when she was four years old.\n",
            "Prediction: grafs started writing songs when she was four years old\n",
            "----------------------------------------------------------------------------------------------------\n",
            "Reference: His uncle Mike Shula was the former head coach at Alabama.\n",
            "Prediction: his uncle mike schula was the former edge coach at alabama\n",
            "----------------------------------------------------------------------------------------------------\n",
            "Reference: The response was that the Board did not appoint individual officers.\n",
            "Prediction: the response was that the ball did not appoint individual officers\n",
            "----------------------------------------------------------------------------------------------------\n",
            "Reference: The long-lived bridge still stands today.\n",
            "Prediction: the long-lived bleached still stands today\n",
            "----------------------------------------------------------------------------------------------------\n",
            "Reference: There was nothing to hold him back except himself.\n",
            "Prediction: there was nothing to hold him back except himself\n",
            "----------------------------------------------------------------------------------------------------\n",
            "Reference: The meat processing and construction industries would be allowed to operate with reduced personnel.\n",
            "Prediction: the mead processing and construction industries would be allowed to operate with readios personel\n",
            "----------------------------------------------------------------------------------------------------\n",
            "Reference: Coles Branch is underlaid by the Deep River Basin.\n",
            "Prediction: cole's branch is underlayd by the deep river basin\n",
            "----------------------------------------------------------------------------------------------------\n",
            "Reference: We spoke often.\n",
            "Prediction: we spoke off on\n",
            "----------------------------------------------------------------------------------------------------\n",
            "Reference: He was Protestant.\n",
            "Prediction: he was protestant\n",
            "----------------------------------------------------------------------------------------------------\n",
            "Reference: The electrician looked puzzled.\n",
            "Prediction: they decretion youp pozzls\n",
            "----------------------------------------------------------------------------------------------------\n",
            "Reference: The ladder on the fire truck was not long enough.\n",
            "Prediction: a leader on the fighter truck was not long enough\n",
            "----------------------------------------------------------------------------------------------------\n",
            "Reference: I will tell her what we decided.\n",
            "Prediction: i will tell her what we decided\n",
            "----------------------------------------------------------------------------------------------------\n",
            "Reference: These and the other youth leaders are advised and supported by the adult leaders.\n",
            "Prediction: these and the other leaders are advised and supported by the adult leaders\n",
            "----------------------------------------------------------------------------------------------------\n",
            "Reference: Enoxaparin belongs to the class of drugs known as low molecular weight heparins.\n",
            "Prediction: loimoni a oxparian belongs to a class of truks monars bonalgiagat apariska\n",
            "----------------------------------------------------------------------------------------------------\n",
            "Reference: Good things come in small packages.\n",
            "Prediction: good things come in small paggages\n",
            "----------------------------------------------------------------------------------------------------\n",
            "Reference: Boles is studying chemical engineering at the University College Dublin.\n",
            "Prediction: bowles is studying chemical engineering at the university college dublin\n",
            "----------------------------------------------------------------------------------------------------\n",
            "Reference: It is a member theater of the Union of the Theatres of Europe.\n",
            "Prediction: it is a member theatre of the union of the theatres of europe\n",
            "----------------------------------------------------------------------------------------------------\n",
            "Reference: All three battalions were equipped with captured French tanks.\n",
            "Prediction: all three battalions were equipped with captured frenge tanks\n",
            "----------------------------------------------------------------------------------------------------\n",
            "Reference: YOU WANNA TAKE THIS OUTSIDE?\n",
            "Prediction: you want to take this outside\n",
            "----------------------------------------------------------------------------------------------------\n",
            "Reference: She joined the \"K\" patrol line and patrolled off Unalaska Island.\n",
            "Prediction: she joined the k patrol line and patrolled off inalaska island\n",
            "----------------------------------------------------------------------------------------------------\n",
            "Reference: The immersion in hot water also kills the silkworm pupa.\n",
            "Prediction: the imergion in hotwater also kills the sick one upah\n",
            "----------------------------------------------------------------------------------------------------\n",
            "Reference: She married her business partner, Steve Lane.\n",
            "Prediction: she married her benness partner stephen lee\n",
            "----------------------------------------------------------------------------------------------------\n",
            "Reference: The attack on our root server overstrained our senior administrator.\n",
            "Prediction: the attak on your road serve war strained our senior administrator\n",
            "----------------------------------------------------------------------------------------------------\n",
            "Reference: Do you want me?\n",
            "Prediction: do you want me\n",
            "----------------------------------------------------------------------------------------------------\n",
            "Reference: That would be funny if he did.\n",
            "Prediction: that would be funny if he did\n",
            "----------------------------------------------------------------------------------------------------\n",
            "Reference: Eight National Paralympic Committee quotas and three individual athlete quotas were secured.\n",
            "Prediction: eight national paralympic committee kotas and three individual athlete kotas were secured\n",
            "----------------------------------------------------------------------------------------------------\n",
            "Reference: Although she had flowers and applause, Mavis said she was not content.\n",
            "Prediction: although she had flowers and applause maybe said she was not content\n",
            "----------------------------------------------------------------------------------------------------\n",
            "Reference: Add the column and put the sum here.\n",
            "Prediction: add the column and put the sum here\n",
            "----------------------------------------------------------------------------------------------------\n",
            "Reference: They perfectly illuminate the flowerbeds of gardens.\n",
            "Prediction: they perfectly illuminate the flower beds of t gardens\n",
            "----------------------------------------------------------------------------------------------------\n",
            "Reference: A mansion was usually set on a one square.\n",
            "Prediction: a mantion was usually hit on a one square\n",
            "----------------------------------------------------------------------------------------------------\n",
            "Reference: Alston commented that he felt the cartoonist \"might have had some racial intent\".\n",
            "Prediction: arlstone commented that he felt the cartoonist might have had some racial intent\n",
            "----------------------------------------------------------------------------------------------------\n",
            "Reference: He was the chief clerk of the Chicago and Northwestern Railroad.\n",
            "Prediction: he is the chief clerk of the chipalo and northwestern railroad\n",
            "----------------------------------------------------------------------------------------------------\n",
            "Reference: Doing a handstand needs a lot of practice to learn.\n",
            "Prediction: doing a handstan needs a lot of practice to learn\n",
            "----------------------------------------------------------------------------------------------------\n",
            "Reference: Man in red tshirt and baseball cap viewed from above he is has a pile of posters\n",
            "Prediction: man in red t-shirt and baseball cap views from above he is as a pile of postures\n",
            "----------------------------------------------------------------------------------------------------\n",
            "Reference: The two films were then released within one day of each other.\n",
            "Prediction: the two films were then released within one day each other\n",
            "----------------------------------------------------------------------------------------------------\n",
            "Reference: ‘What did he say his name was?’ asked the captain.\n",
            "Prediction: what did he say his name wos asked the captain\n",
            "----------------------------------------------------------------------------------------------------\n",
            "Reference: He has German ancestry from his paternal side.\n",
            "Prediction: he has german ancestry from his paternal sight\n",
            "----------------------------------------------------------------------------------------------------\n",
            "Reference: yes\n",
            "Prediction: yes\n",
            "----------------------------------------------------------------------------------------------------\n",
            "Reference: Since their inception, Harris has been the band's principal composer and lyricist.\n",
            "Prediction: many mean the kapalloturman is a gereqyo bashanzachabilirsens\n",
            "----------------------------------------------------------------------------------------------------\n",
            "Reference: After experiencing a mind-blowing sensual orgy, Mike was sure he had taken an overdose.\n",
            "Prediction: after experiencing a mind-blowing sensual orgy mikes was sure he had taken ot over those\n",
            "----------------------------------------------------------------------------------------------------\n",
            "Reference: Religious festivals include the Muslim Eids and the Christian Christmas and Easter.\n",
            "Prediction: religious festivals include the muslim eids and the christian christmas and easter\n",
            "----------------------------------------------------------------------------------------------------\n",
            "Reference: What do you advise, sir?\n",
            "Prediction: what are you advise sir\n",
            "----------------------------------------------------------------------------------------------------\n",
            "Reference: Charles looked on, angry that there was nothing he could do.\n",
            "Prediction: charles looked on angry that there was nothing he could do\n",
            "----------------------------------------------------------------------------------------------------\n",
            "Reference: She had made personal exhibitions and participated in group exhibitions as well.\n",
            "Prediction: she had more personal exhibitions and participated in group exhibitions as well\n",
            "----------------------------------------------------------------------------------------------------\n",
            "Reference: The manifesto made apparent the philosophical changes that Abbas had undergone.\n",
            "Prediction: the mony feasts to made apparent the philosophical changes that allus has undergone\n",
            "----------------------------------------------------------------------------------------------------\n",
            "Reference: She was also appointed the Eleanor Easley Distinguished Professor of Medicine.\n",
            "Prediction: she was also appointed the elenor easiley distinguished professor of medicine\n",
            "----------------------------------------------------------------------------------------------------\n",
            "Reference: Karina Smirnoff of \"Dancing With The Stars\" hosted the following month.\n",
            "Prediction: carinas wurenoug of dancing with the stars hosted the following month\n",
            "----------------------------------------------------------------------------------------------------\n",
            "Reference: It is inhibited by the pneumotaxic centre.\n",
            "Prediction: it is inhibited by the neumotoxic center\n",
            "----------------------------------------------------------------------------------------------------\n",
            "Reference: His wide grin earned many friends.\n",
            "Prediction: his white green and many friends\n",
            "----------------------------------------------------------------------------------------------------\n",
            "Reference: An important person in the life of Emile Claus was the painter Jenny Montigny.\n",
            "Prediction: an important verson in the life of gemir cross was the painter jenn montegni\n",
            "----------------------------------------------------------------------------------------------------\n",
            "Reference: In the United States, Federal Vehicle fleets refers to the federal government's vehicles.\n",
            "Prediction: in the united states federal vehicle fleets refer to the federal government's vehicles\n",
            "----------------------------------------------------------------------------------------------------\n",
            "Reference: It was won by a woman from Vara, Sweden.\n",
            "Prediction: it was on by a woman frombara swated bupy\n",
            "----------------------------------------------------------------------------------------------------\n",
            "Reference: The prints are then delivered to the customer.\n",
            "Prediction: te pring are then delivered to the constals\n",
            "----------------------------------------------------------------------------------------------------\n",
            "Reference: In spite of this, I still believed that there were men in Mars.\n",
            "Prediction: in spite of this i still believe that there were men ion marce\n",
            "----------------------------------------------------------------------------------------------------\n",
            "Reference: The land was ruined, and I had to find some other way to earn a living.\n",
            "Prediction: teland swilled bu had to fend sima the later in ravi\n",
            "----------------------------------------------------------------------------------------------------\n",
            "Reference: Footprints of mud and clay were on the floor.\n",
            "Prediction: footprints of mud and clay were on the floor\n",
            "----------------------------------------------------------------------------------------------------\n",
            "Reference: Other well-known relatives in Handsome Lake's family included Governor Blacksnake, Red Jacket and Half-Town.\n",
            "Prediction: other wearming weluses ainhungsan los comedy in filbo basma blat milk wom prakes and harxhantan\n",
            "----------------------------------------------------------------------------------------------------\n",
            "Reference: I pointed out Mars, a bright dot of light.\n",
            "Prediction: i pointed out mars a bright dot of light\n",
            "----------------------------------------------------------------------------------------------------\n",
            "Reference: He ended up running to the bars which fortified the windows of the first floor.\n",
            "Prediction: he ended up running to the bars which fortified the windows of the first floor\n",
            "----------------------------------------------------------------------------------------------------\n",
            "Reference: I know why I want to get back to my flock, he thought.\n",
            "Prediction: i know why i want to get back to my flock he thought\n",
            "----------------------------------------------------------------------------------------------------\n",
            "Reference: Many notable problem and study composers are also International Judges, including Genrikh Kasparyan.\n",
            "Prediction: many notable problems and study composers  are also international judges including gendrik kasparian  ss\n",
            "----------------------------------------------------------------------------------------------------\n",
            "Reference: Many of the supporting characters present an unflattering portrayal of colonial life in Virginia.\n",
            "Prediction: many of the supporting characters present an unflattering portrayal of colonial life in virginia\n",
            "----------------------------------------------------------------------------------------------------\n",
            "Reference: You should see the other guy, specifically, how good at fighting he is.\n",
            "Prediction: you should see the other guin specifili how go that fighting his\n",
            "----------------------------------------------------------------------------------------------------\n",
            "Reference: He is of African-American and Italian descent.\n",
            "Prediction: he is of african-american egitary descent\n",
            "----------------------------------------------------------------------------------------------------\n",
            "Reference: That's not Carson Sphinx.\n",
            "Prediction: that's not carson spinks\n",
            "----------------------------------------------------------------------------------------------------\n",
            "Reference: Some rules of thumb are also accepted in the codes.\n",
            "Prediction: some rules of thumb are also accepted in the codes\n",
            "----------------------------------------------------------------------------------------------------\n",
            "Reference: Lorenz is listed as a Swiss heritage site of national significance.\n",
            "Prediction: lorrange is listed as a swiss heritage site of national significance\n",
            "----------------------------------------------------------------------------------------------------\n",
            "Reference: I have never in life hit a tennis ball.\n",
            "Prediction: i have never in life head at tennis ball\n",
            "----------------------------------------------------------------------------------------------------\n",
            "Reference: The warehouses of Megapolis Ukraine in six cities were blocked by activists.\n",
            "Prediction: the warehouses of megapolis ucraine in six cities were blocked by activists\n",
            "----------------------------------------------------------------------------------------------------\n",
            "Reference: He is the first known and undisputed member of the Gediminids.\n",
            "Prediction: he is the first known and undisputed member of the geminids\n",
            "----------------------------------------------------------------------------------------------------\n",
            "Reference: Lion Rock is located north west of Wong Tai Sin.\n",
            "Prediction: lion rock is located northwest of wong taising\n",
            "----------------------------------------------------------------------------------------------------\n",
            "Reference: At dusk the Greek western flank was broken.\n",
            "Prediction: at dusk the greek western flank was broker\n",
            "----------------------------------------------------------------------------------------------------\n",
            "Reference: Her father is sure to inherit.\n",
            "Prediction: her father is sure to inherit\n",
            "----------------------------------------------------------------------------------------------------\n",
            "Reference: We should not take for granted how fortunate we have been.\n",
            "Prediction: we should not take for granted how fortunate we have been\n",
            "----------------------------------------------------------------------------------------------------\n",
            "Reference: Topical and up-to-the-minute, E!\n",
            "Prediction: topical and up to the minute e\n",
            "----------------------------------------------------------------------------------------------------\n",
            "Reference: The farmer works the soil and produces grain.\n",
            "Prediction: the farmer works the soil and produces grain\n",
            "----------------------------------------------------------------------------------------------------\n",
            "Reference: Since I've gotten a dog, the regular visits of the fox have stopped.\n",
            "Prediction: since i've gotten a dog the regular visits of the fox have stopped\n",
            "----------------------------------------------------------------------------------------------------\n",
            "Reference: His speech ended with a standing ovation.\n",
            "Prediction: his speech ended with a standing ovation\n",
            "----------------------------------------------------------------------------------------------------\n",
            "Reference: eight\n",
            "Prediction: ahd\n",
            "----------------------------------------------------------------------------------------------------\n",
            "Reference: The reserve is in pristine condition with almost no human habitation.\n",
            "Prediction: the reserve is in prestine condition with almost no human habitation\n",
            "----------------------------------------------------------------------------------------------------\n",
            "Reference: \"The wind told me that you know about love\" the boy said to the sun.\n",
            "Prediction: the wind told me that you know about love the boy said to the sun\n",
            "----------------------------------------------------------------------------------------------------\n",
            "Reference: Geils began playing jazz trumpet but eventually switched to blues guitar.\n",
            "Prediction: jales began playing gaz trompetes but avan charlish richard to blues guitar\n",
            "----------------------------------------------------------------------------------------------------\n",
            "Reference: This is the context in which the film begins.\n",
            "Prediction: this is the context in which the film begins\n",
            "----------------------------------------------------------------------------------------------------\n",
            "Reference: These qualities make her beloved by her hometown.\n",
            "Prediction: these qualities make her beloved by her home ton\n",
            "----------------------------------------------------------------------------------------------------\n",
            "Reference: The little pink ones are so cute.\n",
            "Prediction: the little pink ones are so cute\n",
            "----------------------------------------------------------------------------------------------------\n",
            "Reference: The students colored with their crayons.\n",
            "Prediction: the students colored with their craons\n",
            "----------------------------------------------------------------------------------------------------\n",
            "Reference: It seemed to him that it fell to earth about one hundred miles east of here.\n",
            "Prediction: it seemed to him that it fell to earth about one hundred miles east here\n",
            "----------------------------------------------------------------------------------------------------\n",
            "Reference: As such it is face uniform but with irregular face polygons.\n",
            "Prediction: as such it is base uniform but with irregular base polygons\n"
          ]
        }
      ],
      "source": [
        "for i, predicted_sentence in enumerate(predicted_sentences):\n",
        "    print(\"-\" * 100)\n",
        "    print(\"Reference:\", test_dataset[i][\"sentence\"])\n",
        "    print(\"Prediction:\", predicted_sentence)"
      ]
    },
    {
      "cell_type": "markdown",
      "metadata": {
        "id": "ri5y5N_HMANq"
      },
      "source": [
        "Many ASR datasets only provide the target text, `'sentence'` for each audio array `'audio'` and file `'path'`. Common Voice actually provides much more information about each audio file, such as the `'accent'`, etc. Keeping the notebook as general as possible, we only consider the transcribed text for fine-tuning.\n",
        "\n"
      ]
    },
    {
      "cell_type": "code",
      "execution_count": 7,
      "metadata": {
        "id": "kbyq6lDgQc2a"
      },
      "outputs": [],
      "source": [
        "train_dataset = train_dataset.remove_columns([\"accent\", \"age\", \"client_id\", \"down_votes\", \"gender\", \"locale\", \"segment\", \"up_votes\"])\n",
        "test_dataset = test_dataset.remove_columns([\"accent\", \"age\", \"client_id\", \"down_votes\", \"gender\", \"locale\", \"segment\", \"up_votes\"])"
      ]
    },
    {
      "cell_type": "markdown",
      "metadata": {
        "id": "Go9Hq4e4NDT9"
      },
      "source": [
        "Let's write a short function to display some random samples of the dataset and run it a couple of times to get a feeling for the transcriptions."
      ]
    },
    {
      "cell_type": "code",
      "execution_count": 8,
      "metadata": {
        "id": "72737oog2F6U"
      },
      "outputs": [],
      "source": [
        "from datasets import ClassLabel\n",
        "import random\n",
        "import pandas as pd\n",
        "from IPython.display import display, HTML\n",
        "\n",
        "def show_random_elements(dataset, num_examples=10):\n",
        "    assert num_examples <= len(dataset), \"Can't pick more elements than there are in the dataset.\"\n",
        "    picks = []\n",
        "    for _ in range(num_examples):\n",
        "        pick = random.randint(0, len(dataset)-1)\n",
        "        while pick in picks:\n",
        "            pick = random.randint(0, len(dataset)-1)\n",
        "        picks.append(pick)\n",
        "\n",
        "    df = pd.DataFrame(dataset[picks])\n",
        "    display(HTML(df.to_html()))"
      ]
    },
    {
      "cell_type": "code",
      "execution_count": 9,
      "metadata": {
        "colab": {
          "base_uri": "https://localhost:8080/",
          "height": 359
        },
        "id": "K_JUmf3G3b9S",
        "outputId": "e3a0d9c8-4b68-4255-fd29-8dba65632a24"
      },
      "outputs": [
        {
          "data": {
            "text/html": [
              "<table border=\"1\" class=\"dataframe\">\n",
              "  <thead>\n",
              "    <tr style=\"text-align: right;\">\n",
              "      <th></th>\n",
              "      <th>sentence</th>\n",
              "    </tr>\n",
              "  </thead>\n",
              "  <tbody>\n",
              "    <tr>\n",
              "      <th>0</th>\n",
              "      <td>Undeterred, Max began to slowly build his solo career through live shows and word-of-mouth.</td>\n",
              "    </tr>\n",
              "    <tr>\n",
              "      <th>1</th>\n",
              "      <td>This is to the northwest of Ogikubo and Ogikubo Station.</td>\n",
              "    </tr>\n",
              "    <tr>\n",
              "      <th>2</th>\n",
              "      <td>Scheckter thus regained the lead, with Villeneuve dutifully following him.</td>\n",
              "    </tr>\n",
              "    <tr>\n",
              "      <th>3</th>\n",
              "      <td>Musicians in free improvisation have also made heavy use of extended techniques.</td>\n",
              "    </tr>\n",
              "    <tr>\n",
              "      <th>4</th>\n",
              "      <td>Don't you have homes to eat and drink in?</td>\n",
              "    </tr>\n",
              "    <tr>\n",
              "      <th>5</th>\n",
              "      <td>Exar Kun's spirit began tempting Kyp.</td>\n",
              "    </tr>\n",
              "    <tr>\n",
              "      <th>6</th>\n",
              "      <td>Locks of Love has received criticism of poor accountability practices.</td>\n",
              "    </tr>\n",
              "    <tr>\n",
              "      <th>7</th>\n",
              "      <td>The station building is now divided between a day nursery and a private house.</td>\n",
              "    </tr>\n",
              "    <tr>\n",
              "      <th>8</th>\n",
              "      <td>Almighty God, hear our prayer today; save the Poles.</td>\n",
              "    </tr>\n",
              "    <tr>\n",
              "      <th>9</th>\n",
              "      <td>Notice that these species are all oxides.</td>\n",
              "    </tr>\n",
              "  </tbody>\n",
              "</table>"
            ],
            "text/plain": [
              "<IPython.core.display.HTML object>"
            ]
          },
          "metadata": {},
          "output_type": "display_data"
        }
      ],
      "source": [
        "show_random_elements(train_dataset.remove_columns([\"path\", \"audio\"]), num_examples=10)"
      ]
    },
    {
      "cell_type": "markdown",
      "metadata": {
        "id": "fowcOllGNNju"
      },
      "source": [
        "Alright! The transcriptions look fairly clean. Having translated the transcribed sentences, it seems that the language corresponds more to written-out text than noisy dialogue. This makes sense considering that [Common Voice](https://huggingface.co/datasets/common_voice) is a crowd-sourced read speech corpus."
      ]
    },
    {
      "cell_type": "markdown",
      "metadata": {
        "id": "vq7OR50LN49m"
      },
      "source": [
        "We can see that the transcriptions contain some special characters, such as `,.?!;:`. Without a language model, it is much harder to classify speech chunks to such special characters because they don't really correspond to a characteristic sound unit. *E.g.*, the letter `\"s\"` has a more or less clear sound, whereas the special character `\".\"` does not.\n",
        "Also in order to understand the meaning of a speech signal, it is usually not necessary to include special characters in the transcription.\n",
        "\n",
        "Let's simply remove all characters that don't contribute to the meaning of a word and cannot really be represented by an acoustic sound and normalize the text."
      ]
    },
    {
      "cell_type": "code",
      "execution_count": 10,
      "metadata": {
        "id": "svKzVJ_hQGK6"
      },
      "outputs": [],
      "source": [
        "import re\n",
        "chars_to_remove_regex = '[\\,\\?\\.\\!\\-\\;\\:\\\"\\“\\%\\‘\\”\\�\\']'\n",
        "\n",
        "\n",
        "def remove_special_characters(batch):\n",
        "    batch[\"sentence\"] = re.sub(chars_to_remove_regex, '', batch[\"sentence\"]).lower()\n",
        "    return batch"
      ]
    },
    {
      "cell_type": "code",
      "execution_count": 11,
      "metadata": {
        "colab": {
          "base_uri": "https://localhost:8080/"
        },
        "id": "XIHocAuTQbBR",
        "outputId": "32b09453-6f60-42c4-e417-4e87edad58dd"
      },
      "outputs": [],
      "source": [
        "train_dataset = train_dataset.map(remove_special_characters)\n",
        "test_dataset = test_dataset.map(remove_special_characters)"
      ]
    },
    {
      "cell_type": "markdown",
      "metadata": {
        "id": "TxnVS9gIhIma"
      },
      "source": [
        "Let's look at the processed text labels again."
      ]
    },
    {
      "cell_type": "code",
      "execution_count": 12,
      "metadata": {
        "colab": {
          "base_uri": "https://localhost:8080/",
          "height": 359
        },
        "id": "RBDRAAYxRE6n",
        "outputId": "5bbca4d5-57b3-48ca-e591-b5feeab0db3d"
      },
      "outputs": [
        {
          "data": {
            "text/html": [
              "<table border=\"1\" class=\"dataframe\">\n",
              "  <thead>\n",
              "    <tr style=\"text-align: right;\">\n",
              "      <th></th>\n",
              "      <th>sentence</th>\n",
              "    </tr>\n",
              "  </thead>\n",
              "  <tbody>\n",
              "    <tr>\n",
              "      <th>0</th>\n",
              "      <td>the club is the sole favorite of football fans in the donbas</td>\n",
              "    </tr>\n",
              "    <tr>\n",
              "      <th>1</th>\n",
              "      <td>up to present neutralinos have never been observed or detected in an experiment</td>\n",
              "    </tr>\n",
              "    <tr>\n",
              "      <th>2</th>\n",
              "      <td>in the decimal system each decimal place is a power of ten</td>\n",
              "    </tr>\n",
              "    <tr>\n",
              "      <th>3</th>\n",
              "      <td>he held the seat for the national country party</td>\n",
              "    </tr>\n",
              "    <tr>\n",
              "      <th>4</th>\n",
              "      <td>with highspeed supercomputers better solutions can be achieved</td>\n",
              "    </tr>\n",
              "    <tr>\n",
              "      <th>5</th>\n",
              "      <td>his rejection of doubtful lines made his severity proverbial</td>\n",
              "    </tr>\n",
              "    <tr>\n",
              "      <th>6</th>\n",
              "      <td>several miles further downstream it enters warsaw the county seat</td>\n",
              "    </tr>\n",
              "    <tr>\n",
              "      <th>7</th>\n",
              "      <td>he has three children and has six grandchildren</td>\n",
              "    </tr>\n",
              "    <tr>\n",
              "      <th>8</th>\n",
              "      <td>he played college football for the memphis tigers</td>\n",
              "    </tr>\n",
              "    <tr>\n",
              "      <th>9</th>\n",
              "      <td>studies of the carcinogenicity of caffeic acid have mixed results</td>\n",
              "    </tr>\n",
              "  </tbody>\n",
              "</table>"
            ],
            "text/plain": [
              "<IPython.core.display.HTML object>"
            ]
          },
          "metadata": {},
          "output_type": "display_data"
        }
      ],
      "source": [
        "show_random_elements(train_dataset.remove_columns([\"path\",\"audio\"]))"
      ]
    },
    {
      "cell_type": "markdown",
      "metadata": {
        "id": "jwfaptH5RJwA"
      },
      "source": [
        "Good! This looks better. We have removed most special characters from transcriptions and normalized them to lower-case only.\n",
        "\n",
        "Before finalizing the pre-processing, it is always advantageous to consult a native speaker of the target language to see whether the text can be further simplified.\n",
        "For this blog post, [Merve](https://twitter.com/mervenoyann) was kind enough to take a quick look and noted that \"hatted\" characters - like `â` - aren't really used anymore in Turkish and can be replaced by their \"un-hatted\" equivalent, *e.g.* `a`.\n",
        "\n",
        "This means that we should replace a sentence like `\"yargı sistemi hâlâ sağlıksız\"` to `\"yargı sistemi hala sağlıksız\"`.\n",
        "\n",
        "Let's write another short mapping function to further simplify the text labels. Remember - the simler the text labels, the easier it is for the model to learn to predict those labels.\n",
        "\n"
      ]
    },
    {
      "cell_type": "code",
      "execution_count": 13,
      "metadata": {
        "id": "aZcrz6z7lgGm"
      },
      "outputs": [],
      "source": [
        "def replace_hatted_characters(batch):\n",
        "    batch[\"sentence\"] = re.sub('[â]', 'a', batch[\"sentence\"])\n",
        "    batch[\"sentence\"] = re.sub('[î]', 'i', batch[\"sentence\"])\n",
        "    batch[\"sentence\"] = re.sub('[ô]', 'o', batch[\"sentence\"])\n",
        "    batch[\"sentence\"] = re.sub('[û]', 'u', batch[\"sentence\"])\n",
        "    return batch"
      ]
    },
    {
      "cell_type": "code",
      "execution_count": 14,
      "metadata": {
        "colab": {
          "base_uri": "https://localhost:8080/"
        },
        "id": "ieGhhND5mSwI",
        "outputId": "2f5cee33-a98a-45ae-a8b4-0f10d97f4d15"
      },
      "outputs": [],
      "source": [
        "train_dataset = train_dataset.map(replace_hatted_characters)\n",
        "test_dataset = test_dataset.map(replace_hatted_characters)"
      ]
    },
    {
      "cell_type": "markdown",
      "metadata": {
        "id": "3ORHDb2Th2TW"
      },
      "source": [
        "In CTC, it is common to classify speech chunks into letters, so we will do the same here.\n",
        "Let's extract all distinct letters of the training and test data and build our vocabulary from this set of letters.\n",
        "\n",
        "We write a mapping function that concatenates all transcriptions into one long transcription and then transforms the string into a set of chars.\n",
        "It is important to pass the argument `batched=True` to the `map(...)` function so that the mapping function has access to all transcriptions at once."
      ]
    },
    {
      "cell_type": "code",
      "execution_count": 15,
      "metadata": {
        "id": "LwCshNbbeRZR"
      },
      "outputs": [],
      "source": [
        "def extract_all_chars(batch):\n",
        "  all_text = \" \".join(batch[\"sentence\"])\n",
        "  vocab = list(set(all_text))\n",
        "  return {\"vocab\": [vocab], \"all_text\": [all_text]}"
      ]
    },
    {
      "cell_type": "code",
      "execution_count": 16,
      "metadata": {
        "colab": {
          "base_uri": "https://localhost:8080/",
          "height": 81,
          "referenced_widgets": [
            "e78238c96d6a4152bf40f5d7a81e5495",
            "75b26f4a95d24e9d8939d1f7b376eb51",
            "f58af0561fc242238cfd0163f0ad5e5f",
            "a1419cc920324f62be58d6e48a82e275",
            "6ec3c80319fb45f3b6f7715049c9bce0",
            "02519344818c40d0b961c5ea210a5c62",
            "e575e46791b24f449b8afcb773e46dcc",
            "5cff6b2dd6944c59b8c2f205db5f49bf",
            "5ba2a38c71e64253a4fd39cf7d3b3326",
            "bc11f833cc9c441b9a58d69ea792fa9c",
            "4f81e460906a428f9f74a0aa469ba63f",
            "093927de0d86406290365759e88fd4e7",
            "f6e777f3a1684a7da3efc63281553b5e",
            "609781a3f55d4d3dbf0b3640972755fa",
            "8783792878a64402981a416989924348",
            "92e295e353624110880cff6835b9e119",
            "db7a9c27eabb4ba391bfb9d819d7a36e",
            "fd2ba2bf4b2946078a0761b773626b64",
            "a5777207c788498fb4ac4900af91d7cf",
            "890ff54dc35e460b9108e2690966fafe",
            "cc70741031664fa89bfe8e8e672c5b2b",
            "46c8681bd36f419495d33b06c96311ed"
          ]
        },
        "id": "_m6uUjjcfbjH",
        "outputId": "67fa96dd-2df9-4393-f551-4d599c42efff"
      },
      "outputs": [
        {
          "data": {
            "application/vnd.jupyter.widget-view+json": {
              "model_id": "cf5223e4fa844c828e20089b4e17be04",
              "version_major": 2,
              "version_minor": 0
            },
            "text/plain": [
              "Map:   0%|          | 0/10000 [00:00<?, ? examples/s]"
            ]
          },
          "metadata": {},
          "output_type": "display_data"
        },
        {
          "data": {
            "application/vnd.jupyter.widget-view+json": {
              "model_id": "c4fd3c08f2654bbabca230e7709562a9",
              "version_major": 2,
              "version_minor": 0
            },
            "text/plain": [
              "Map:   0%|          | 0/200 [00:00<?, ? examples/s]"
            ]
          },
          "metadata": {},
          "output_type": "display_data"
        }
      ],
      "source": [
        "vocab_train = train_dataset.map(extract_all_chars, batched=True, batch_size=-1, keep_in_memory=True, remove_columns=train_dataset.column_names)\n",
        "vocab_test = test_dataset.map(extract_all_chars, batched=True, batch_size=-1, keep_in_memory=True, remove_columns=test_dataset.column_names)"
      ]
    },
    {
      "cell_type": "markdown",
      "metadata": {
        "id": "7oVgE8RZSJNP"
      },
      "source": [
        "Now, we create the union of all distinct letters in the training dataset and test dataset and convert the resulting list into an enumerated dictionary."
      ]
    },
    {
      "cell_type": "code",
      "execution_count": 17,
      "metadata": {
        "id": "aQfneNsmlJI0"
      },
      "outputs": [],
      "source": [
        "vocab_list = list(set(vocab_train[\"vocab\"][0]) | set(vocab_test[\"vocab\"][0]))"
      ]
    },
    {
      "cell_type": "code",
      "execution_count": 18,
      "metadata": {
        "colab": {
          "base_uri": "https://localhost:8080/"
        },
        "id": "_0kRndSvqaKk",
        "outputId": "63440dfc-3f58-42c1-db78-3369f96f103f"
      },
      "outputs": [
        {
          "data": {
            "text/plain": [
              "{' ': 0,\n",
              " '(': 1,\n",
              " ')': 2,\n",
              " 'a': 3,\n",
              " 'b': 4,\n",
              " 'c': 5,\n",
              " 'd': 6,\n",
              " 'e': 7,\n",
              " 'f': 8,\n",
              " 'g': 9,\n",
              " 'h': 10,\n",
              " 'i': 11,\n",
              " 'j': 12,\n",
              " 'k': 13,\n",
              " 'l': 14,\n",
              " 'm': 15,\n",
              " 'n': 16,\n",
              " 'o': 17,\n",
              " 'p': 18,\n",
              " 'q': 19,\n",
              " 'r': 20,\n",
              " 's': 21,\n",
              " 't': 22,\n",
              " 'u': 23,\n",
              " 'v': 24,\n",
              " 'w': 25,\n",
              " 'x': 26,\n",
              " 'y': 27,\n",
              " 'z': 28,\n",
              " 'á': 29,\n",
              " 'è': 30,\n",
              " 'é': 31,\n",
              " 'í': 32,\n",
              " 'ï': 33,\n",
              " 'ó': 34,\n",
              " 'ō': 35,\n",
              " 'ř': 36,\n",
              " 'ž': 37,\n",
              " '–': 38,\n",
              " '—': 39,\n",
              " '’': 40}"
            ]
          },
          "execution_count": 18,
          "metadata": {},
          "output_type": "execute_result"
        }
      ],
      "source": [
        "vocab_dict = {v: k for k, v in enumerate(sorted(vocab_list))}\n",
        "vocab_dict"
      ]
    },
    {
      "cell_type": "markdown",
      "metadata": {
        "id": "JOSzbvs9SXT1"
      },
      "source": [
        "Cool, we see that all letters of the alphabet occur in the dataset (which is not really surprising) and we also extracted the special characters `\"\"` and `'`. Note that we did not exclude those special characters because:\n",
        "\n",
        "The model has to learn to predict when a word is finished or else the model prediction would always be a sequence of chars which would make it impossible to separate words from each other.\n",
        "\n",
        "One should always keep in mind that pre-processing is a very important step before training your model. E.g., we don't want our model to differentiate between `a` and `A` just because we forgot to normalize the data. The difference between `a` and `A` does not depend on the \"sound\" of the letter at all, but more on grammatical rules - *e.g.* use a capitalized letter at the beginning of the sentence. So it is sensible to remove the difference between capitalized and non-capitalized letters so that the model has an easier time learning to transcribe speech."
      ]
    },
    {
      "cell_type": "markdown",
      "metadata": {
        "id": "b1fBRCn-TRaO"
      },
      "source": [
        "To make it clearer that `\" \"` has its own token class, we give it a more visible character `|`. In addition, we also add an \"unknown\" token so that the model can later deal with characters not encountered in Common Voice's training set."
      ]
    },
    {
      "cell_type": "code",
      "execution_count": 19,
      "metadata": {
        "id": "npbIbBoLgaFX"
      },
      "outputs": [],
      "source": [
        "vocab_dict[\"|\"] = vocab_dict[\" \"]\n",
        "del vocab_dict[\" \"]"
      ]
    },
    {
      "cell_type": "markdown",
      "metadata": {
        "id": "_9yCWg4Sd0cb"
      },
      "source": [
        "Finally, we also add a padding token that corresponds to CTC's \"*blank token*\". The \"blank token\" is a core component of the CTC algorithm. For more information, please take a look at the \"Alignment\" section [here](https://distill.pub/2017/ctc/)."
      ]
    },
    {
      "cell_type": "code",
      "execution_count": 20,
      "metadata": {
        "colab": {
          "base_uri": "https://localhost:8080/"
        },
        "id": "znF0bNunsjbl",
        "outputId": "314ca989-0587-485e-d7d2-3e6efe2158ee"
      },
      "outputs": [
        {
          "data": {
            "text/plain": [
              "43"
            ]
          },
          "execution_count": 20,
          "metadata": {},
          "output_type": "execute_result"
        }
      ],
      "source": [
        "vocab_dict[\"[UNK]\"] = len(vocab_dict)\n",
        "vocab_dict[\"[PAD]\"] = len(vocab_dict)\n",
        "len(vocab_dict)"
      ]
    },
    {
      "cell_type": "markdown",
      "metadata": {
        "id": "SFPGfet8U5sL"
      },
      "source": [
        "Cool, now our vocabulary is complete and consists of 39 tokens, which means that the linear layer that we will add on top of the pretrained XLS-R checkpoint will have an output dimension of 39."
      ]
    },
    {
      "cell_type": "markdown",
      "metadata": {
        "id": "1CujRgBNVRaD"
      },
      "source": [
        "Let's now save the vocabulary as a json file."
      ]
    },
    {
      "cell_type": "code",
      "execution_count": 21,
      "metadata": {
        "id": "ehyUoh9vk191"
      },
      "outputs": [],
      "source": [
        "import json\n",
        "with open('vocab.json', 'w') as vocab_file:\n",
        "    json.dump(vocab_dict, vocab_file)"
      ]
    },
    {
      "cell_type": "markdown",
      "metadata": {
        "id": "SHJDaKlIVVim"
      },
      "source": [
        "In a final step, we use the json file to load the vocabulary into an instance of the `Wav2Vec2CTCTokenizer` class."
      ]
    },
    {
      "cell_type": "code",
      "execution_count": 22,
      "metadata": {
        "colab": {
          "base_uri": "https://localhost:8080/"
        },
        "id": "xriFGEWQkO4M",
        "outputId": "95e57a04-c48e-4748-8d77-bac71dd2750e"
      },
      "outputs": [
        {
          "name": "stderr",
          "output_type": "stream",
          "text": [
            "Special tokens have been added in the vocabulary, make sure the associated word embeddings are fine-tuned or trained.\n"
          ]
        }
      ],
      "source": [
        "from transformers import Wav2Vec2CTCTokenizer, AutoTokenizer, AutoConfig\n",
        "\n",
        "tokenizer = Wav2Vec2CTCTokenizer.from_pretrained(\"./\", unk_token=\"[UNK]\", pad_token=\"[PAD]\", word_delimiter_token=\"|\")\n",
        "model_checkpoint=\"facebook/wav2vec2-xls-r-300m\"\n",
        "# config = AutoConfig.from_pretrained(model_checkpoint)\n",
        "# tokenizer = AutoTokenizer.from_pretrained(\n",
        "#                 \"./\", #vocab_filepath,\n",
        "#                 #**tokenizer_kwargs,\n",
        "#                 cache_dir = mycache_dir,\n",
        "#                 config=config,#None\n",
        "#                 # tokenizer_type=tokenizer_type, #'wav2vec2'\n",
        "#                 #do_lower_case=True,\n",
        "#                 unk_token=\"[UNK]\",\n",
        "#                 pad_token=\"[PAD]\",\n",
        "#                 word_delimiter_token=\"|\",\n",
        "#                 )"
      ]
    },
    {
      "cell_type": "code",
      "execution_count": 23,
      "metadata": {},
      "outputs": [
        {
          "data": {
            "text/plain": [
              "Wav2Vec2CTCTokenizer(name_or_path='./', vocab_size=43, model_max_length=1000000000000000019884624838656, is_fast=False, padding_side='right', truncation_side='right', special_tokens={'bos_token': '<s>', 'eos_token': '</s>', 'unk_token': '[UNK]', 'pad_token': '[PAD]', 'additional_special_tokens': [AddedToken(\"<s>\", rstrip=False, lstrip=False, single_word=False, normalized=True), AddedToken(\"</s>\", rstrip=False, lstrip=False, single_word=False, normalized=True)]}, clean_up_tokenization_spaces=True)"
            ]
          },
          "execution_count": 23,
          "metadata": {},
          "output_type": "execute_result"
        }
      ],
      "source": [
        "tokenizer"
      ]
    },
    {
      "cell_type": "code",
      "execution_count": 24,
      "metadata": {},
      "outputs": [
        {
          "data": {
            "text/plain": [
              "{'(': 1,\n",
              " ')': 2,\n",
              " 'a': 3,\n",
              " 'b': 4,\n",
              " 'c': 5,\n",
              " 'd': 6,\n",
              " 'e': 7,\n",
              " 'f': 8,\n",
              " 'g': 9,\n",
              " 'h': 10,\n",
              " 'i': 11,\n",
              " 'j': 12,\n",
              " 'k': 13,\n",
              " 'l': 14,\n",
              " 'm': 15,\n",
              " 'n': 16,\n",
              " 'o': 17,\n",
              " 'p': 18,\n",
              " 'q': 19,\n",
              " 'r': 20,\n",
              " 's': 21,\n",
              " 't': 22,\n",
              " 'u': 23,\n",
              " 'v': 24,\n",
              " 'w': 25,\n",
              " 'x': 26,\n",
              " 'y': 27,\n",
              " 'z': 28,\n",
              " 'á': 29,\n",
              " 'è': 30,\n",
              " 'é': 31,\n",
              " 'í': 32,\n",
              " 'ï': 33,\n",
              " 'ó': 34,\n",
              " 'ō': 35,\n",
              " 'ř': 36,\n",
              " 'ž': 37,\n",
              " '–': 38,\n",
              " '—': 39,\n",
              " '’': 40,\n",
              " '|': 0,\n",
              " '[UNK]': 41,\n",
              " '[PAD]': 42}"
            ]
          },
          "execution_count": 24,
          "metadata": {},
          "output_type": "execute_result"
        }
      ],
      "source": [
        "tokenizer.encoder"
      ]
    },
    {
      "cell_type": "code",
      "execution_count": 25,
      "metadata": {},
      "outputs": [
        {
          "data": {
            "text/plain": [
              "43"
            ]
          },
          "execution_count": 25,
          "metadata": {},
          "output_type": "execute_result"
        }
      ],
      "source": [
        "len(tokenizer.encoder)"
      ]
    },
    {
      "cell_type": "code",
      "execution_count": 26,
      "metadata": {},
      "outputs": [],
      "source": [
        "sample = train_dataset[0]"
      ]
    },
    {
      "cell_type": "code",
      "execution_count": 27,
      "metadata": {},
      "outputs": [
        {
          "name": "stderr",
          "output_type": "stream",
          "text": [
            "2024-01-18 14:29:41.026925: I tensorflow/core/platform/cpu_feature_guard.cc:193] This TensorFlow binary is optimized with oneAPI Deep Neural Network Library (oneDNN) to use the following CPU instructions in performance-critical operations:  AVX2 AVX_VNNI FMA\n",
            "To enable them in other operations, rebuild TensorFlow with the appropriate compiler flags.\n",
            "2024-01-18 14:29:41.115973: I tensorflow/core/util/port.cc:104] oneDNN custom operations are on. You may see slightly different numerical results due to floating-point round-off errors from different computation orders. To turn them off, set the environment variable `TF_ENABLE_ONEDNN_OPTS=0`.\n",
            "2024-01-18 14:29:41.400934: W tensorflow/compiler/xla/stream_executor/platform/default/dso_loader.cc:64] Could not load dynamic library 'libnvinfer.so.7'; dlerror: libnvinfer.so.7: cannot open shared object file: No such file or directory\n",
            "2024-01-18 14:29:41.400970: W tensorflow/compiler/xla/stream_executor/platform/default/dso_loader.cc:64] Could not load dynamic library 'libnvinfer_plugin.so.7'; dlerror: libnvinfer_plugin.so.7: cannot open shared object file: No such file or directory\n",
            "2024-01-18 14:29:41.400972: W tensorflow/compiler/tf2tensorrt/utils/py_utils.cc:38] TF-TRT Warning: Cannot dlopen some TensorRT libraries. If you would like to use Nvidia GPU with TensorRT, please make sure the missing libraries mentioned above are installed properly.\n"
          ]
        },
        {
          "data": {
            "text/plain": [
              "'the track apears on the compilation album kraftworks'"
            ]
          },
          "execution_count": 27,
          "metadata": {},
          "output_type": "execute_result"
        }
      ],
      "source": [
        "inputids=tokenizer(sample['sentence'].lower())\n",
        "decoded_str = tokenizer.decode(inputids.input_ids)\n",
        "decoded_str"
      ]
    },
    {
      "cell_type": "code",
      "execution_count": 32,
      "metadata": {},
      "outputs": [
        {
          "data": {
            "text/plain": [
              "'the track appears on the compilation album kraftworks'"
            ]
          },
          "execution_count": 32,
          "metadata": {},
          "output_type": "execute_result"
        }
      ],
      "source": [
        "decoded_str = tokenizer.decode(inputids.input_ids, group_tokens=False)\n",
        "decoded_str"
      ]
    },
    {
      "cell_type": "code",
      "execution_count": 74,
      "metadata": {},
      "outputs": [
        {
          "data": {
            "text/plain": [
              "('./output/tokenizer_config.json',\n",
              " './output/special_tokens_map.json',\n",
              " './output/vocab.json',\n",
              " './output/added_tokens.json')"
            ]
          },
          "execution_count": 74,
          "metadata": {},
          "output_type": "execute_result"
        }
      ],
      "source": [
        "tokenizer.save_pretrained(\"./output\")"
      ]
    },
    {
      "cell_type": "markdown",
      "metadata": {
        "id": "KvL12DrNV4cx"
      },
      "source": [
        "If one wants to re-use the just created tokenizer with the fine-tuned model of this notebook, it is strongly advised to upload the `tokenizer` to the [🤗 Hub](https://huggingface.co/). Let's call the repo to which we will upload the files\n",
        "`\"wav2vec2-large-xlsr-turkish-demo-colab\"`:"
      ]
    },
    {
      "cell_type": "code",
      "execution_count": null,
      "metadata": {
        "id": "A1XApZBAF2zr"
      },
      "outputs": [],
      "source": [
        "repo_name = \"wav2vec2-large-xls-r-300m-turkish-colab\""
      ]
    },
    {
      "cell_type": "markdown",
      "metadata": {
        "id": "B1BiezWZF16d"
      },
      "source": [
        "and upload the tokenizer to the [🤗 Hub](https://huggingface.co/)."
      ]
    },
    {
      "cell_type": "code",
      "execution_count": null,
      "metadata": {
        "colab": {
          "base_uri": "https://localhost:8080/",
          "height": 199
        },
        "id": "zytE1175GAKM",
        "outputId": "bbe63dbe-0639-4468-9a3a-687bb8b3bb6e"
      },
      "outputs": [
        {
          "name": "stderr",
          "output_type": "stream",
          "text": [
            "/usr/local/lib/python3.7/dist-packages/huggingface_hub/hf_api.py:718: FutureWarning: `create_repo` now takes `token` as an optional positional argument. Be sure to adapt your code!\n",
            "  FutureWarning,\n",
            "/usr/local/lib/python3.7/dist-packages/huggingface_hub/hf_api.py:718: FutureWarning: `create_repo` now takes `token` as an optional positional argument. Be sure to adapt your code!\n",
            "  FutureWarning,\n",
            "Cloning https://huggingface.co/patrickvonplaten/wav2vec2-large-xls-r-300m-turkish-colab into local empty directory.\n",
            "To https://huggingface.co/patrickvonplaten/wav2vec2-large-xls-r-300m-turkish-colab\n",
            "   54dbd42..56ebe74  main -> main\n",
            "\n"
          ]
        },
        {
          "data": {
            "application/vnd.google.colaboratory.intrinsic+json": {
              "type": "string"
            },
            "text/plain": [
              "'https://huggingface.co/patrickvonplaten/wav2vec2-large-xls-r-300m-turkish-colab/commit/56ebe744b5acf5853233e4425bd914b938c4f013'"
            ]
          },
          "execution_count": 53,
          "metadata": {},
          "output_type": "execute_result"
        }
      ],
      "source": [
        "tokenizer.push_to_hub(repo_name)"
      ]
    },
    {
      "cell_type": "markdown",
      "metadata": {
        "id": "SwQM8lH_GGuP"
      },
      "source": [
        "Great, you can see the just created repository under `https://huggingface.co/<your-username>/wav2vec2-large-xls-r-300m-tr-colab`"
      ]
    },
    {
      "cell_type": "markdown",
      "metadata": {
        "id": "mYcIiR2FQ96i"
      },
      "source": [
        "### Create `Wav2Vec2FeatureExtractor`"
      ]
    },
    {
      "cell_type": "markdown",
      "metadata": {
        "id": "Y6mDEyW719rx"
      },
      "source": [
        "Speech is a continuous signal and to be treated by computers, it first has to be discretized, which is usually called **sampling**. The sampling rate hereby plays an important role in that it defines how many data points of the speech signal are measured per second. Therefore, sampling with a higher sampling rate results in a better approximation of the *real* speech signal but also necessitates more values per second.\n",
        "\n",
        "A pretrained checkpoint expects its input data to have been sampled more or less from the same distribution as the data it was trained on. The same speech signals sampled at two different rates have a very different distribution, *e.g.*, doubling the sampling rate results in data points being twice as long. Thus,\n",
        "before fine-tuning a pretrained checkpoint of an ASR model, it is crucial to verify that the sampling rate of the data that was used to pretrain the model matches the sampling rate of the dataset used to fine-tune the model.\n",
        "\n",
        "XLS-R was pretrained on audio data of [Babel](http://www.reading.ac.uk/AcaDepts/ll/speechlab/babel/r),\n",
        "[Multilingual LibriSpeech (MLS)](https://huggingface.co/datasets/multilingual_librispeech), [Common Voice](https://huggingface.co/datasets/common_voice), [VoxPopuli](https://arxiv.org/abs/2101.00390), and [VoxLingua107](https://arxiv.org/abs/2011.12998) at a sampling rate of 16kHz. Common Voice, in its original form, has a sampling rate of 48kHz, thus we will have to downsample the fine-tuning data to 16kHz in the following.\n",
        "\n"
      ]
    },
    {
      "cell_type": "markdown",
      "metadata": {
        "id": "KuUbPW7oV-B5"
      },
      "source": [
        "A `Wav2Vec2FeatureExtractor` object requires the following parameters to be instantiated:\n",
        "\n",
        "- `feature_size`: Speech models take a sequence of feature vectors as an input. While the length of this sequence obviously varies, the feature size should not. In the case of Wav2Vec2, the feature size is 1 because the model was trained on the raw speech signal ${}^2$.\n",
        "- `sampling_rate`: The sampling rate at which the model is trained on.\n",
        "- `padding_value`: For batched inference, shorter inputs need to be padded with a specific value\n",
        "- `do_normalize`: Whether the input should be *zero-mean-unit-variance* normalized or not. Usually, speech models perform better when normalizing the input\n",
        "- `return_attention_mask`: Whether the model should make use of an `attention_mask` for batched inference. In general, XLS-R models checkpoints should **always** use the `attention_mask`."
      ]
    },
    {
      "cell_type": "code",
      "execution_count": 28,
      "metadata": {
        "id": "kAR0-2KLkopp"
      },
      "outputs": [],
      "source": [
        "from transformers import Wav2Vec2FeatureExtractor, AutoFeatureExtractor\n",
        "\n",
        "feature_extractor = Wav2Vec2FeatureExtractor(feature_size=1, sampling_rate=16000, padding_value=0.0, do_normalize=True, return_attention_mask=True)\n",
        "\n",
        "# model_checkpoint=\"facebook/wav2vec2-xls-r-300m\"\n",
        "# feature_extractor = AutoFeatureExtractor.from_pretrained(model_checkpoint, cache_dir=mycache_dir, do_normalize=True,return_attention_mask=True)"
      ]
    },
    {
      "cell_type": "code",
      "execution_count": 29,
      "metadata": {},
      "outputs": [
        {
          "data": {
            "text/plain": [
              "Wav2Vec2FeatureExtractor {\n",
              "  \"do_normalize\": true,\n",
              "  \"feature_extractor_type\": \"Wav2Vec2FeatureExtractor\",\n",
              "  \"feature_size\": 1,\n",
              "  \"padding_side\": \"right\",\n",
              "  \"padding_value\": 0.0,\n",
              "  \"return_attention_mask\": true,\n",
              "  \"sampling_rate\": 16000\n",
              "}"
            ]
          },
          "execution_count": 29,
          "metadata": {},
          "output_type": "execute_result"
        }
      ],
      "source": [
        "feature_extractor"
      ]
    },
    {
      "cell_type": "markdown",
      "metadata": {
        "id": "qUETetgqYC3W"
      },
      "source": [
        "Great, XLS-R's feature extraction pipeline is thereby fully defined!\n",
        "\n",
        "For improved user-friendliness, the feature extractor and tokenizer are *wrapped* into a single `Wav2Vec2Processor` class so that one only needs a `model` and `processor` object."
      ]
    },
    {
      "cell_type": "code",
      "execution_count": 30,
      "metadata": {
        "id": "KYZtoW-tlZgl"
      },
      "outputs": [],
      "source": [
        "from transformers import Wav2Vec2Processor\n",
        "\n",
        "processor = Wav2Vec2Processor(feature_extractor=feature_extractor, tokenizer=tokenizer)"
      ]
    },
    {
      "cell_type": "markdown",
      "metadata": {
        "id": "DrKnYuvDIoOO"
      },
      "source": [
        "Next, we can prepare the dataset."
      ]
    },
    {
      "cell_type": "markdown",
      "metadata": {
        "id": "YFmShnl7RE35"
      },
      "source": [
        "### Preprocess Data\n",
        "\n",
        "So far, we have not looked at the actual values of the speech signal but just the transcription. In addition to `sentence`, our datasets include two more column names `path` and `audio`. `path` states the absolute path of the audio file. Let's take a look.\n"
      ]
    },
    {
      "cell_type": "code",
      "execution_count": 31,
      "metadata": {
        "colab": {
          "base_uri": "https://localhost:8080/",
          "height": 53
        },
        "id": "TTCS7W6XJ9BG",
        "outputId": "d4b375f8-a536-4be9-b995-578fd321acfe"
      },
      "outputs": [
        {
          "data": {
            "text/plain": [
              "'/DATA10T/Cache/downloads/extracted/b346aab12d7b8d3067d379267bbecbd285cb56b9272116d4588c4bf6e461e436/en_train_0/common_voice_en_19121553.mp3'"
            ]
          },
          "execution_count": 31,
          "metadata": {},
          "output_type": "execute_result"
        }
      ],
      "source": [
        "train_dataset[0][\"path\"]"
      ]
    },
    {
      "cell_type": "markdown",
      "metadata": {
        "id": "T6ndIjHGFp0W"
      },
      "source": [
        "XLS-R expects the input in the format of a 1-dimensional array of 16 kHz. This means that the audio file has to be loaded and resampled.\n",
        "\n",
        " Thankfully, `datasets` does this automatically by calling the other column `audio`. Let try it out."
      ]
    },
    {
      "cell_type": "code",
      "execution_count": 32,
      "metadata": {
        "colab": {
          "base_uri": "https://localhost:8080/"
        },
        "id": "qj_z5Zc3GAs9",
        "outputId": "6b0dca9c-aadc-493f-f754-b01d0f35fe28"
      },
      "outputs": [
        {
          "data": {
            "text/plain": [
              "{'path': '/DATA10T/Cache/downloads/extracted/b346aab12d7b8d3067d379267bbecbd285cb56b9272116d4588c4bf6e461e436/en_train_0/common_voice_en_19121553.mp3',\n",
              " 'array': array([ 0.00000000e+00,  1.96611932e-15, -7.55335397e-14, ...,\n",
              "         1.68718216e-05,  1.41903001e-07,  1.16676725e-04]),\n",
              " 'sampling_rate': 48000}"
            ]
          },
          "execution_count": 32,
          "metadata": {},
          "output_type": "execute_result"
        }
      ],
      "source": [
        "train_dataset[0][\"audio\"]"
      ]
    },
    {
      "cell_type": "code",
      "execution_count": 33,
      "metadata": {},
      "outputs": [
        {
          "data": {
            "text/plain": [
              "Dataset({\n",
              "    features: ['path', 'audio', 'sentence'],\n",
              "    num_rows: 10000\n",
              "})"
            ]
          },
          "execution_count": 33,
          "metadata": {},
          "output_type": "execute_result"
        }
      ],
      "source": [
        "train_dataset"
      ]
    },
    {
      "cell_type": "markdown",
      "metadata": {
        "id": "WUUTgI1bGHW-"
      },
      "source": [
        "Great, we can see that the audio file has automatically been loaded. This is thanks to the new [`\"Audio\"` feature](https://huggingface.co/docs/datasets/package_reference/main_classes.html?highlight=audio#datasets.Audio) introduced in `datasets == 4.13.3`, which loads and resamples audio files on-the-fly upon calling.\n",
        "\n",
        "In the example above we can see that the audio data is loaded with a sampling rate of 48kHz whereas 16kHz are expected by the model. We can set the audio feature to the correct sampling rate by making use of [`cast_column`](https://huggingface.co/docs/datasets/package_reference/main_classes.html?highlight=cast_column#datasets.DatasetDict.cast_column):"
      ]
    },
    {
      "cell_type": "code",
      "execution_count": 34,
      "metadata": {
        "id": "rrv65aj7G95i"
      },
      "outputs": [],
      "source": [
        "train_dataset = train_dataset.cast_column(\"audio\", Audio(sampling_rate=16_000))\n",
        "test_dataset = test_dataset.cast_column(\"audio\", Audio(sampling_rate=16_000))"
      ]
    },
    {
      "cell_type": "markdown",
      "metadata": {
        "id": "PcnO4x-NGBEi"
      },
      "source": [
        "Let's take a look at `\"audio\"` again."
      ]
    },
    {
      "cell_type": "code",
      "execution_count": 35,
      "metadata": {
        "colab": {
          "base_uri": "https://localhost:8080/"
        },
        "id": "aKtkc1o_HWHC",
        "outputId": "c2c1375e-4812-4112-d843-9e3da6dd327d"
      },
      "outputs": [
        {
          "data": {
            "text/plain": [
              "{'path': '/DATA10T/Cache/downloads/extracted/b346aab12d7b8d3067d379267bbecbd285cb56b9272116d4588c4bf6e461e436/en_train_0/common_voice_en_19121553.mp3',\n",
              " 'array': array([ 7.27595761e-11, -2.32830644e-10, -4.65661287e-10, ...,\n",
              "        -5.81125205e-05, -2.75571801e-05,  2.96054786e-05]),\n",
              " 'sampling_rate': 16000}"
            ]
          },
          "execution_count": 35,
          "metadata": {},
          "output_type": "execute_result"
        }
      ],
      "source": [
        "train_dataset[0][\"audio\"]"
      ]
    },
    {
      "cell_type": "markdown",
      "metadata": {
        "id": "SOckzFd4Mbzq"
      },
      "source": [
        "This seemed to have worked! Let's listen to a couple of audio files to better understand the dataset and verify that the audio was correctly loaded.\n",
        "\n",
        "**Note**: *You can click the following cell a couple of times to listen to different speech samples.*"
      ]
    },
    {
      "cell_type": "code",
      "execution_count": 36,
      "metadata": {
        "colab": {
          "base_uri": "https://localhost:8080/",
          "height": 92
        },
        "id": "dueM6U7Ev0OA",
        "outputId": "1a771d0a-085d-441b-cc1b-f05438425ce4"
      },
      "outputs": [
        {
          "name": "stdout",
          "output_type": "stream",
          "text": [
            "both refer to a vehicle fully equipped for camping\n"
          ]
        },
        {
          "data": {
            "text/html": [
              "\n",
              "                <audio  controls=\"controls\" autoplay=\"autoplay\">\n",
              "                    <source src=\"data:audio/wav;base64,UklGRiQDAwBXQVZFZm10IBAAAAABAAEAgD4AAAB9AAACABAAZGF0YQADAwAAAAAAAAAAAAAAAAAAAAAAAAAAAAAAAAAAAAAAAAAAAAAAAAAAAAAAAAAAAAAAAAAAAAAAAAAAAAAAAAAAAAAAAAAAAAAAAAAAAAAAAAAAAAAAAAAAAAAAAAAAAAAAAAAAAAAAAAAAAAAAAAAAAAAAAAAAAAAAAAAAAAAAAAAAAAAAAAAAAAAAAAAAAAAAAAAAAAAAAAAAAAAAAAAAAAAAAAAAAAAAAAAAAAAAAAAAAAAAAAAAAAAAAAAAAAAAAAAAAAAAAAAAAAAAAAAAAAAAAAAAAAAAAAAAAAAAAAAAAAAAAAAAAAAAAAAAAAAAAAAAAAAAAAAAAAAAAAAAAAAAAAAAAAAAAAAAAAAAAAAAAAAAAAAAAAAAAAAAAAAAAAAAAAAAAAAAAAAAAAAAAAAAAAAAAAAAAAAAAAAAAAAAAAAAAAAAAAAAAAAAAAAAAAAAAAAAAAAAAAAAAAAAAAAAAAAAAAAAAAAAAAAAAAAAAAAAAAAAAAAAAAAAAAAAAAAAAAAAAAAAAAAAAAAAAAAAAAAAAAAAAAAAAAAAAAAAAAAAAAAAAAAAAAAAAAAAAAAAAAAAAAAAAAAAAAAAAAAAAAAAAAAAAAAAAAAAAAAAAAAAAAAAAAAAAAAAAAAAAAAAAAAAAAAAAAAAAAAAAAAAAAAAAAAAAAAAAAAAAAAAAAAAAAAAAAAAAAAAAAAAAAAAAAAAAAAAAAAAAAAAAAAAAAAAAAAAAAAAAAAAAAAAAAAAAAAAAAAAAAAAAAAAAAAAAAAAAAAAAAAAAAAAAAAAAAAAAAAAAAAAAAAAAAAAAAAAAAAAAAAAAAAAAAAAAAAAAAAAAAAAAAAAAAAAAAAAAAAAAAAAAAAAAAAAAAAAAAAAAAAAAAAAAAAAAAAAAAAAAAAAAAAAAAAAAAAAAAAAAAAAAAAAAAAAAAAAAAAAAAAAAAAAAAAAAAAAAAAAAAAAAAAAAAAAAAAAAAAAAAAAAAAAAAAAAAAAAAAAAAAAAAAAAAAAAAAAAAAAAAAAAAAAAAAAAAAAAAAAAAAAAAAAAAAAAAAAAAAAAAAAAAAAAAAAAAAAAAAAAAAAAAAAAAAAAAAAAAAAAAAAAAAAAAAAAAAAAAAAAAAAAAAAAAAAAAAAAAAAAAAAAAAAAAAAAAAAAAAAAAAAAAAAAAAAAAAAAAAAAAAAAAAAAAAAAAAAAAAAAAAAAAAAAAAAAAAAAAAAAAAAAAAAAAAAAAAAAAAAAAAAAAAAAAAAAAAAAAAAAAAAAAAAAAAAAAAAAAAAAAAAAAAAAAAAAAAAAAAAAAAAAAAAAAAAAAAAAAAAAAAAAAAAAAAAAAAAAAAAAAAAAAAAAAAAAAAAAAAAAAAAAAAAAAAAAAAAAAAAAAAAAAAAAAAAAAAAAAAAAAAAAAAAAAAAAAAAAAAAAAAAAAAAAAAAAAAAAAAAAAAAAAAAAAAAAAAAAAAAAAAAAAAAAAAAAAAAAAAAAAAAAAAAAAAAAAAAAAAAAAAAAAAAAAAAAAAAAAAAAAAAAAAAAAAAAAAAAAAAAAAAAAAAAAAAAAAAAAAAAAAAAAAAAAAAAAAAAAAAAAAAAAAAAAAAAAAAAAAAAAAAAAAAAAAAAAAAAAAAAAAAAAAAAAAAAAAAAAAAAAAAAAAAAAAAAAAAAAAAAAAAAAAAAAAAAAAAAAAAAAAAAAAAAAAAAAAAAAAAAAAAAAAAAAAAAAAAAAAAAAAAAAAAAAAAAAAAAAAAAAAAAAAAAAAAAAAAAAAAAAAAAAAAAAAAAAAAAAAAAAAAAAAAAAAAAAAAAAAAAAAAAAAAAAAAAAAAAAAAAAAAAAAAAAAAAAAAAAAAAAAAAAAAAAAAAAAAAAAAAAAAAAAAAAAAAAAAAAAAAAAAAAAAAAAAAAAAAAAAAAAAAAAAAAAAAAAAAAAAAAAAAAAAAAAAAAAAAAAAAAAAAAAAAAAAAAAAAAAAAAAAAAAAAAAAAAAAAAAAAAAAAAAAAAAAAAAAAAAAAAAAAAAAAAAAAAAAAAAAAAAAAAAAAAAAAAAAAAAAAAAAAAAAAAAAAAAAAAAAAAAAAAAAAAAAAAAAAAAAAAAAAAAAAAAAAAAAAAAAAAAAAAAAAAAAAAAAAAAAAAAAAAAAAAAAAAAAAAAAAAAAAAAAAAAAAAAAAAAAAAAAAAAAAAAAAAAAAAAAAAAAAAAAAAAAAAAAAAAAAAAAAAAAAAAAAAAAAAAAAAAAAAAAAAAAAAAAAAAAAAAAAAAAAAAAAAAAAAAAAAAAAAAAAAAAAAAAAAAAAAAAAAAAAAAAAAAAAAAAAAAAAAAAAAAAAAAAAAAAAAAAAAAAAAAAAAAAAAAAAAAAAAAAAAAAAAAAAAAAAAAAAAAAAAAAAAAAAAAAAAAAAAAAAAAAAAAAAAAAAAAAAAAAAAAAAAAAAAAAAAAAAAAAAAAAAAAAAAAAAAAAAAAAAAAAAAAAAAAAAAAAAAAAAAAAAAAAAAAAAAAAAAAAAAAAAAAAAAAAAAAAAAAAAAAAAAAAAAAAAAAAAAAAAAAAAAAAAAAAAAAAAAAAAAAAAAAAAAAAAAAAAAAAAAAAAAAAAAAAAAAAAAAAAAAAAAAAAAAAAAAAAAAAAAAAAAAAAAAAAAAAAAAAAAAAAAAAAAAAAAAAAAAAAAAAAAAAAAAAAAAAAAAAAAAAAAAAAAAAAAAAAAAAAAAAAAAAAAAAAAAAAAAAAAAAAAAAAAAAAAAAAAAAAAAAAAAAAAAAAAAAAAAAAAAAAAAAAAAAAAAAAAAAAAAAAAAAAAAAAAAAAAAAAAAAAAAAAAAAAAAAAAAAAAAAAAAAAAAAAAAAAAAAAAAAAAAAAAAAAAAAAAAAAAAAAAAAAAAAAAAAAAAAAAAAAAAAAAAAAAAAAAAAAAAAAAAAAAAAAAAAAAAAAAAAAAAAAAAAAAAAAAAAAAAAAAAAAAAAAAAAAAAAAAAAAAAAAAAAAAAAAAAAAAAAAAAAAAAAAP//AAAAAAEAAAD/////AAACAAEA/////wAAAQAAAAAAAAAAAAAAAAAAAAAAAAAAAP//AAABAAIA/v/+/wEAAAADAP///v/+/wIAAwAAAP7//v8AAAQAAAAAAPz/AQD//wQABQDz/wcA+f8HAP3///8GAPr/BAD6/wUABQAAAPz///8GAAIA+v8AAPf/AQAGAPn///8CAAcA+/8GAAAA8P8EAAYA//8AAAAAAAAGAAMA8v8KAPr/CAD5/wcAAAACABIA6/8UAPP/+//4/xMA2v/4/x8ADADP/+T/LgDn/yAA+v9BANb/9/8AAHH/lwA5AO7/vP/6/zMAqf88AAAA0v8IANX/TAAyANj/HwCI/1gAmv8HAG8A/P/Z/57/dADQ/38AS/91/yUAWwDAAO//8v8k/9z/xf81AI4Alf9rAD0AHwCd/6X/CAFiAKP/7f+H/zQACABnAPP/SgDPANP/EgCV/3gAIQAKAG0AQQCvAAEAyP+AAWUA6/+g/x4A5/8uABsBc/+ZABEAf//I/0UAkv/1/3D/7f5KADQAMP8w/33/P/+Q/4X+sv5o/5f/n/4q/wv/1f5J/in+nf+C/qX+Iv4L/qv+LP7m/pP9KP5G//r91v73/dH9PP6Q/jn+z/5O/pD+Xv95/Xn+fv7R/gb/PP9I/tf+NP/M/sn+k/6Q/2r/Rv/4/l//P//s/2n/w/7//xYA2v64/2AA9P7B/8r/if9xAC8ASf8fAGEAA/9tAHT/AAC4AMz+eACR/1v/hABW/yP/5v+V/5v/If8n/3j/0f6T/1X/8P6e/uj+/v6N/lj//v5w/mP+jf5s/sD+k/4h/lr+dP5M/tj9k/7T/c39MP7J/Zj9h/4W/jn9k/26/f39Hf2N/Y79iv2T/XH9Sf08/a39WP3i/PX9rP10/Xf8pf3X/Xz9vf0b/dz9g/2T/pP8xf1G/un9Qf1n/ef+Nv0K/on+fv0E/mz99P1y/lP92v40/t79+v2u/a39If6J/jb+2/3F/YL+mf4J/tD9cf5W/jX+Yf5Y/rn+lv5n/hT+WP7J/nH+jv7X/nL+O/51/j7+z/7G/23+pf7A/tn+KP/p/mX/Of5S//7+S/+W/0//df9Y/rD+Kf/G/xn/ff/V/zr+kP9q/4H+t/+3/1j+s/9g/0v+YP8z/6L/9/75/jb/Hf9v/p7/4v5r/g3/jv4S//n+rf6Z/jb/o/4Z/o3+eP6z/v796/5z/jH+Ff9N/iD/gv0y/rL+X/5u/tP9dv5Z/nj+av67/b3+N/5i/lv+yv2L/uf+tf4z/mX+VP+4/8L9ov5R/+v+J//j/i7/wv+V/lb/3/+L//j+x/+//4T+XwAr/8//yP9X/8r/7f9V/zn/tgALAOv+Vf+GAHj/2v/Y/1QAjf/J/97/ev93AFH/AAHg/0r/Wv84AMMAgP8HAN//0wCR/6j/8P/6/1MAwf9hAF3/8//9/7z/z/+7/9v/wf+Z/wX/HwAcAIT/0P+D/x4AZf8p/9MAu/+e/wUAyv+Q/0MAdADg/yMAOADY/gYAHAEoAHkAK/+BAFYA5v8mADYA9/+GAPn/aQApAGQApAH4/jgAEgB6AIsAMgFIAAAA3wDvALAAoADVANf/8gCvAOAAhAAyAeoAkAC6ACsBswC0AKEBgwB/AFoB0ADuALkAwwBsAb4AvQDuADUBCQF0ABgB9ACEAPYBlADdAU8AvgClAS0AugFLAUABzADGAckAowCHAY4BCQHOALcAmgHqAM0AyAG1APkAdgFsAUoAZAGwAYQAtgA0Af4A3wAHAowAlABpATgANAGVACsBDQGfAK0A6ACyAYAAaAAeATUBbACJAL8APgFPAOcA8AD+/20BwQCUABMB6//nAEAB2gDoAJoAaAEGAeoAmAG9AK4A3wFfAQYBZQE5AgwBggHeAR8CWwHtALwCuQFDAbIBNwJYAVICmwHDAQwCBAIdAskBzgF5AfoCWQHaAeMB7AFAAlEBHAKcATQC5gHAAK4BDQKBAY4BcgGDARoBeQFIAfAAfAG5AGABFQBHAWIBvv/9AGoAgwAmAG8ADQBqACcAbABwAAf/KwA8AN3/wv/3/6H/pf+w/3P/3P9cAC7/Uf+7/2AASQAp/8P/Jv83AOr/if+i/8gAy/9M/wMAlf8uAAAALgB7/3sAUgAjABcAiAC0/28AawD1/7YABwBcAF0A7wDX/7AApwBIAIkAmQArAHYA4wDFADUA4/81AacAqQAEAL8A5gAuALAAewA3ACYA3ACHAJf/OgGGAMz/OwDw/78ARABvANL/NABxAAoAbQDB//X/2ADl/+D/OABNAMP/wf+bAFX/0/8pAP//8v9S/7T/4v/y/2T/d/8w/w7/df8q/3H/2v7R/23/lf6C/17/lP46/xn/Gf/7/ub+EP8F/yf/K/4M/13/Hf6H/tX+W/4Z//H92P5s/qn+Hv4n/iH/g/2q/v39I/4d/sL+bv6Y/TD+9v25/mj9Mf6A/j3+JP4l/az+Uf5T/iv+Jv4n/kr+1/36/Wn+bv47/kv+Lv4q/g3/2P1B/o/+fv7+/bn+Ef+H/pT+Ef68/t3+cf4g/7z+Tf7l/hX/If8L/3v+8f5o//z+rf6C/4b/v/5H/4H/LP/+/kb/R/96//7+sv/6/j//bP/3/n3/Lv+q/t//ov95/lL/Mf8D/xH/3P53/6v/Rv5r/6f+2/69/jH/8P55/mX/m/7S/iX+3f6P/ov++f6K/kf+I/5U/3L+HP6n/k3+Mf5D/tX+Pf5O/jX+cv5k/mb+Xf5E/qP+lv5+/hn+e/4G/0b+sf5h/rH+ev/7/Qf/uv4r/zr/iv7E/tH+Zf/n/tX+Kf4S/wn/s/7W/kr/JP+P/if/q/4X/8z+PP8U/6z/kv55/hYAHf+p/lv/Qv9P/zz/nv4YAEb/nf+1/gv/0v+W/2//vf67/yn/x/5a//P/6v5O/6L/vv78/on/qv+P/k7/lP9E/0j/CP/e/1D///5C/6//0P67/9//J/+2/5X/lv8+/+H/2f+S/5//lP/p/9n/ov/C/+P/wP9S/zcA7v8EAPz/tv/UAAkAnf8WAKj/bQBsAE0AJQArAHIAbgCJACoA1wCqAN8ArQDU/4UAiwBfAH0AjgAIAdn/6QAQAEMAyABV/7EAawDy/2wAfQA/AFkAZAA0ADcAtgB8ABMAKgCYAGcAjgAQALoApgCzAJ4AfwALAZgA8wDVAPcA4QD7AK0AkwFxANoAJAGhACYB4wBUAfAAQwHPAC8BvwGvABUBngEDAaMBUgFPAWwBowG+AbABcgF9AYABdAF8AjQBdQHeAGwBIALDALkBPQFiAUYBiAF/AacAjAE9Ad4ABQHgAG4BDQE+AGcBJwEmAeEAzwBfASUB3QAaAUIBiwAtAQAB+gDnACoBDQEMAe0AFQGXAW8BuQCZAbIBqwBhAdAB8AEyAT0C6QHJAXwBvgFtAm8CEwIZAkUCAQL1Aj4ChQKHAmMCBAOyAmECPwPWAtgCHwOwAqUCBgPfAnICyQKuAjgDlwKaApYCxgLbAhUCkAIZAnwCuQJeAlwCDQJ2AiUCnQH6AXcCJAKVAX8BBgK1AYkBmAHoAQoCVQFDAcIBqQFAAV4BbAHEAQABDAF3AY0BzwAwAR0BsgBnAWcBJwGiAH8BtgAeAX0BLgGRAaoAVwEqAQkBpAFeAR8BTwGWAQcBdwE6AWUBdwEhATEBNAE6AegAWgF0AekAJQGCAVkBPQHNADsBEQFsAdEA3wDsACUBDAGzADoBpQAGAQ4BIQFVAAkBFgGZAJsAnQA5AfsATAANAaMAewD5AJEABgFfANEA+QDLAEoAZQDnAOgA9QB5AK0AGwGxAKwAxgCvAIYABgHTADcAOQG5AC8A8gC0AFsAygAnAJYAvwBTAGIAHwCZADcA8f8kAIoAu/+W/6UA1f+3/xwAzf+B/4r/Xf+X/4r/Kv9X/x7/Kf9E/zz/4/7L/pv/v/6X/hr/gf5P/17+hv7Y/t7+fv42/gX/Nf6s/mL+j/4l/jX+r/4Q/mn+Of7I/TP+z/4A/gf+0/4A/sj9U/5V/tP+AP6E/jX+Jf6u/vL9of4+/sL+4P0U/tT+mP4k/iz+Sf4w/jD+2/28/j7+Q/6m/VP+Dv4A/k3+Zv1d/vD9pv21/bn96f3O/QP+wP2y/bf9yP33/Xn9dP2n/Wv9fP2m/ab9OP1h/UX94Pyn/bj8Jv1z/ab8Ef1k/Zr8N/w6/R39vvyH/Bn91/y3/MP8svyC/LX8e/2F/M/82/zQ/Cz9v/y5/FH9Pf2i/Hz9I/0v/e/8j/1i/RL9S/15/cP9F/0U/hv9pf3F/cz9If3R/Sz+mf00/m/97v0C/hT+of3r/ij+Kv6P/lD+XP4X/pL+gf62/lb+sP6N/vb+xP6K/q3+i/68/vr+rf68/uf+q/66/oT+4v4G/67+9f6l/nj+Kf8Q/7H+sv7n/j3/IP9w/jT/If+R/x//qv6D/zr/iv/v/p3/6/45//b/3v65/4z/Wf9k/8b/gv/r/4H/g//N/5z/8v+0//D/8v8+AJT/HQAbAGkAHgA0AKwAmAAsAFgAxgCcAI4A6QDlAEIAXwGJAOcAMQECAfEAzAD4AE8B5QDtAE0BEgGwAAwBgAEQARsB9ACUAQ4BSQE9AfIAUgFJAawAdgEpAUEBegHvAIsB7ACMAU4BzwAjARsBSAHvAPMAcwHuAPsAAwHnAAoBlwBGAe8AuQD0AP8AagG4AOwAzwAsAfcAaAGGAfsA8wCLAXMBswBfATEBJwE7ASgBngDTAV4B7gBaASQBUgFzAesAPQGDAXkANQFQAf0AEgFWAQkBCwH/ANYAJQFhAQwB5ABNAf8A7wBVASYBhwHiAAUBwAHzAGYBowFmAesAJQFXAUcBNgFIAU0BUgFxATcBHAEbAWgBOgHzAEsBZgFYAXsBHAEHATcBjgFIAXgBfwE+AagBcAGUAYoBgAGhAZYBswGmAY4BiAG/AbIBywGMAQUCtwFyAdgBAQLoAX8B6wGFAQcCRgFaAS0CBAJQAdIBrwFoAeUBXgEPAmUBagF+AeQBmgGkAZABfQEKAhsBlAG4AWwBbAEcAYEBcAFZAWgBawEmAUcBPAHsAHoB9wCAAdoAAAFvAcMARwHhABYBdgEZAfQAoQFaAe4AjgFFASUBbwEkAWsBcwGGAX8BVwF1AXYBcgGJAXoBYgGFAW4BmAEDAUoBmwF+AYcBcwFQAVkBTAEaAbwBEAE4ARkBOwFRAekAZgEfAU4B7wAqATsB8QAzAQYBAgHMANcAGgG5AN4AMgGfALsADQHDAOYAhgDBALoALgC8AHAAxwCIAOv/jQDcAIIAjwC6AH8AuwCrAC4A2wDnAFEABgG8AGsAtwDFAIIA3QC4AKUAzACBAL4AgQC3AIIAiACUALsAkwAtAIEAkgD9AOD/MwDNADYAegAPAP//VgBmABkAKADX/ykAeADe/+L/4//n/7D/qf/N/57/4P/F/3v/bv80/2D/mv89/yj/Wf8H/+3+W//i/t/+8P7Z/sr+6f7y/qn+Q//0/uj+sf4D/w//4/62/jj/M/+v/hf/D/8y/8b+uf4B/0j/tf4Q/8/+9/7o/v7+Pf+y/mb/u/4//+L+5/5q//P+Qf/h/hz/R/8a/0X/g//w/mb/dv9D/4j/Tv+A/x//Zv8y/0r/gf8M/0T/l/8m/xX/Uv9G/1n/6/4j/+D+Zv8X/7/+e/+l/gf/M/8l/9T+9/5F/53+Pv/h/vn+Mf+p/h7/Hf/h/kT/Ff/P/jr/5P4V/+z+tf4d//T+yf60/r7+wv7h/of+vv4S//T+zf6p/rj+of7R/m3+7f4Q/43+Mf+4/uL+F/+//jP/Q/8M/+T+Af9B/wb/G/8t/x3/If/q/g3/wf4l/xv/uP5G/83+jP4i/7n+1P4Q/8T+0P6k/ub+EP+0/r7+4f7i/q/+yv4H/33+vv4G/5/+JP/g/oH+Gf8V/zj/1/4U//T+6/4M/wb/K//8/kr/Ev/v/kf/XP8J/1z/KP8s/yT/lf+V/8v+VP/d/y7/Qv+d/0n/p/9v/57/Sf+Z/6H/Zf+N/13/kP9V/0P/rP90/0b/hf88/+z/Nf9N/yj/ov+M/x//Uf87/9T/5f6Q/zT/Qv9k/37/Mf8y/xn/S/90/xz/rP91/2r/I/+o/1z/zv9b/23/r/9F/63/Nv9Q/5z/aP+t/17/Tv/D/6X/df87/wQAnv9m/8b/uP+P/5z/tP+W/7z/yf/l/yMArf/+/wMAyf8vAKj//f8UAAAAMAD0/xgAMgDf/ykATwAaAML/FQBGAPf/AABoADgA+f9GADUAPwAgADkAcgCPAEgAlQBRAHAAfABJAJEAowCRAE0AbABVAKQAowCJAGoAsgCJAHMAwgBJAG0AbgCpAH8AeAC5AIQA7wCFAHkA4wCEANMA9QCQAL0A4QCUAAcBvwDJAB0B0QAZAcMAKgGiACsB9QApAV4BAQCoAUQBuAAkASIBOgHaADEBWQAyAWgBEgHwAF4BKgFuAAEC4gBpASwBvQFPAcsA6AE0AVYBpgFfAScBpQFzAY8BjAGGAboBeAF5AaoBdAGMAVIBXQEcAYsBhgG8AZ0BjAG4AZ8BaAG8AQACdAH5Ad4BvwGeAf4B6wHUAd8BPQIDAhUCuQHYAS4C+AEwAtwBVQIFAgsC9gEBAtYB6AH2Ab4B9gEKAtsBkAHyAeEBfwHDAQMCjQHGAacB6gGmAZcBpwEfAdEBfAGfAZsBeQHQAUABdQG3AX4BhAEtAYwBZQFKAWMBJwFSATIBGgEDATcBDAEdAUcBzgDyAAEB6wAbAesAAQHFAPwAFwEHAQAB9AALAQkBBwFTAUQBDQESAd8AOgEOAUMBWAEXAe8AKAE9ARYBCwHyACkB+wDkAPAA7ADJAMwAzwCbAC4B7QC1AK8AlgAVAYwAqACLALsAEAFwAM4AygCQAHEAWQC8AHQAlAB2AEIAbgA6AFIAQAD2/zkAPgBDACMAJQApAPz/IwD1/y0A9/9lADoAsf8BADoATAAcACgA+f8uAGIAGwAHAEUAKQAJABIAOgAiABwAYQAVAE8AEQAzACgA6v9RAOH/NgA3ACwAQAA+AAAAGQCeAFAALQBpAGQAIgBrAGQAYgBiADgAeABQAEUAbQAbAEkALwAsADIA4f8MADIA8v+o/w4AJACr/6z//P/M/3j/ef+h/4b/ev+U/1D/cv+r/33/Rf9J/0n/Rv9i/0j/bP8z/wz/Yf8I//T+Jf/f/lP/L/+6/sL+xv4P/8n+3P67/gX/Pf+1/u7+0f6H/rL+y/7+/vD+l/7X/qD+yf7k/r3+1f6w/s/+6P6t/qz+A//h/u/+4P79/v/+GP8T/wn/F//h/hr/X/8l/93+Tv8s/+3+Of8d/zT/S////iP/G//c/ib/9P7m/vX+If8Z/+T+JP/L/vn+Hv/i/uP+Cv/D/u7+9v6s/t3+nP6L/tz+gP5m/tb+pf6W/pH+pv6X/qT+qv6b/qb+vf6j/tH+0f7R/u/+sv79/vD+C/8K/+r+Iv8x//P+Pv9P/z//OP8E/y//Of9b/zD/O/8Z/0j/d/9W/2n/T/8m/2r/Ov/9/lj/Pf8c/yL/Qf8a/zb/Av9g/0L/Jf+d/xv/N/8k/wz/a/9U/0D/M/9j/1j/Hv9q/0H/G/8r/y3/Fv8G/xL/Gf/o/vP+Hf/u/rf+Af8b/+v+yP7W/vX+6/4f/93+9/4P/xr/I//7/v7+Rv9k/xL/Iv9Y/0n/X/9Z/zv/c/85/3H/sv9I/3D/oP9u/1v/ZP9O/1r/Nf8m/0//Xf9I/zv/NP8e/yf/Bf82/0v/DP/P/jT/B//T/hf/sP65/rT+av6S/m7+Zv6L/nz+Rv4o/nr+Kv45/ir+Df4Q/gr+Iv4c/gL+Jf5H/ij+af5Z/oT+Vv5N/sT+pP7M/t7+5f4h/x7/Xv9K/3H/XP+G/+r/5f8KAMD/FwAjACIAcwBSAIwAsADJAMwA2gD4AEABHQH7AGgBTgF1AV8BdAG5AZ8BpQGXAaoB1AGNAd8B3gGCAbQBfgEMAs0BmQHAAWIBtAGOAYkBaQEQAWMBLwENAekABwE8AdcA2wC9APMA5QDFAPgAvADoANMAaQCpAKMAmADeAI8AaQB6AGIAVACcAJEAXwBrAFEAbAAdAE0ALwAnAIsAIQCRAHEAQQB4AIYAcAA0AHkARwChAIkASgDBAI8AewCXAN8AqQCkALoAqADiAIwAtADvALUAzgDfAJwA3wDJALUApACXANcApACgAJsA0QCgAIcAfwB+ALMAowC7AMYAtACjAK0AqACTAKoAsQCyAMAAoADdAN8AuwDZANUABQGpAPMA6gDeAPUA0gAqAfEAEwHhAAoB1wABAQcB9AAyAQgBHwEMAQABLgFLARUBGwE7AVQBNAE3AQ8BPgFDAScBFQEYARAB7QAPAQUBDwHxAOAA9ADpAO4A0wAHAdAAyAD1AMIA+QDAANQA3ADPANUAxwCyAMIArwDUANIAwwDJANkA1QDhAPMA2gAJAdIA+wD2ACIB9AAdATABIQE9ARIBKgEtATQBNQFKATABYAFlAWYBQwGAAZoBSwF1AWgBhQGQAV8BgAGFAU4BSgFsAVMBRQFSASwBQQE6AQkBJgELAfkA4QDhAL0AtgCtAJ8AjgBuAIwAMABCAAwA/P/r//n/CAC1/8z/xf++/7j/nf+m/3n/lv+T/2//mP+G/3X/Y/+C/zv/hv9u/5H/df9//6f/VP+H/5P/uf+F/9H/tv/V/9H/z//f/9D/GQD+/wEAIgBDAF4AVwCEAHQAlwCoANIA0QDXAA8BvwAhAdAAJQECASUBNQFBAUoB+wAZAT8BNgEYAUgBBgFRARcBPAEXAecAQQEYAT8BywAvAVkBaQBaAYIAEgFxAAEBKgCsAKoAJACOANP/wgD4/ggBP/+7/+b/qf+R/yH/uv8S/zL/8v4p/5n++P6//sH+r/6b/nr+i/5Z/n/+Sf52/lH+YP5o/o3+Zv5I/nr+Kv5t/kD+V/45/mv+Sv55/mb+Y/5n/mj+l/5C/on+W/5q/mD+fv6V/on+q/5u/q/+rv7D/sb+wv7A/rT+3f7z/v3+6v42/wH/D//7/hL/N//8/jb/KP8v/1X/KP9T/zD/D/88//3+LP8V/zf/Pf82/yH/Rf9L/z7/TP85/0v/VP9u/1z/WP91/4T/dP+a/3D/dP9m/5X/Yv9y/4b/c/+q/2z/iP9//4b/bP+M/4T/f/92/2L/iP9J/1//Yf8+/z7/VP9Q/1L/Tv8y/1H/IP9i/wD/Ev9X/wX/R/87/zv/Ef9R/y//If8d/1b/Fv/w/iv/5/4T//D+EP/l/vD+5v69/vH+Bv/P/tv+/P7p/tX+7/4I/9f+BP/8/gL/Cv8X/xL/J/8w/yr/Nv9q/1//WP9p/2v/h/+J/8X/wP/D/83/4P/G/9z/3/8UAAQAHAAeACcAWgA/AFAARwB1AH4AjABvAKwAgACTAHgAfgCfAIMAsAB6AJoAoACcAJUAiwB/AIEAbQBnAIAAXQBeAFAAOwBNAFUAPQA4AFMAPQAkAA0AFAD7/xAALQD9/yQARgACAB8ACAARACgAFAAmACIAQQAcAAUACQA9ABYAHgBHAFIASAA5AD8APwA+ADwARAAwAHQAZQAvAGYAWwBcAIYAhACpAHQAlQCOAIoAhgCkAKYAlADHAKUAxgCQAKQAnQCqALYApwCeAKIAfgBtAJEATQBdAFAAUwBFAE8ARwA+ACkAHQAbAAcAFwAAABMADgD///T/7v/T/9j/5v/o/7//u/+z/5z/k/95/5H/av+J/6T/gf+H/2b/gv99/2H/kv9t/5v/lv+T/5z/jf+k/5//nP+v/8T/1P/x//D/IwAPADMAHgAWADcAOwBHAFIAbABTAHUAggCEAHwAjABtAH0AjgCTAJgAhQCfAJMArQC0ALcApAC0AM4AqACcAMkA0QDBALoAywC/AMoAzADNAPgA1ADeANsA6ADSAM8A1QDIANMAyADZAOkA3gDZAMUA0QC2AKUAtwC4AMoArADZAMsAxADdAN4A4wD0AAcBAwH5AC4BMgEqAVMBJwFJAVMBTAE4AUcBTwFAAWYBTAFIAVkBRgFEAT4BQAFCATsBSAFDATEBMQEzARYBDQEcASABJgEkASQBIgEpATEB8gANARsB/gAXAfMA9wD2APEA3QDLAOUA1wDWALsAsQChAIgAfgB3AG0AZwBlAE4AXQA/AFEAQQBFAGIAXgBrAGEAZABiAGsAZABgAGUAdgB7AKIAnQCtAMcAuQCnAKEAugDHALkAxAC9AK8AqwClAKMAmACZAIwAowCUAIsAgwCTAJAAjQCbAIIAhgCXAIsAigCFAIIAgACAAI8AegB9AGYAggBmAFEAWQBZAHEASQBiAD0APAAxADQALQDz/wwA+f/x//X/3v+t/67/u//M/8b/0f/P/9f/2v/Y/+r/7v8AAPv/3P/X/xEA7v8WABgACAAdABYAJAAVACIAAwAOAPH/8/8QAP//CgD0/wsACQADAOn/8/8PAO3/7v/q/wMA8P/a/+3//v8IAPz/BgAKABoAJgAVAPT/+P8DANn/9P/e/+f/wf+r/8f/g/+b/4T/fP9a/17/Vv85/z7/GP8s/yv/Mf8Z/yb/Gf8a/xj/DP8R///++P4E/w3/8/4v/x7/Gv8r/y7/Mv8k/x//L/9M/yb/NP9H/zT/SP9Z/0b/YP95/3r/e/+B/4T/lP+U/5f/r/+3/77/4v/x//v/CAACABAACgAXAAsABQAVAB4AGgAdABsAFAAUAB8A/f/u/+z/2//0/9f/0P/L/8j/zf/Q/7//w/++/8P/wv/I/73/sP+Y/5n/ov+K/6H/mP+4/7b/uv+j/5r/tf+K/37/cv9v/2z/ZP9l/2H/e/9j/1f/cf9h/17/Yf9T/3D/cv9p/4b/f/+N/5v/n/+4/5v/u//O/7n/0P+9/8z/3v/X/7v/w/+5/7j/uP/D/9v/w/+6/8H/tP+x/7X/pf+j/6P/nf+u/6j/mf+V/53/s/+Y/7D/lf+e/63/oP+n/6n/p/+F/57/pv+u/5v/lP+X/6D/o/+a/6P/kP+O/5D/oP+t/5n/sf+g/67/zP+8/9n/2//d/+n/5f/9/w4AFAAyACkAKABNAFEAYwB6AHYAfwBsAHQAcQB0AFcAVwBaAHIAdABYAHYAWABfAFcAZQBRAF4AVQBMAGAATwBOAEsAUAA1AE4AXgBZAFoATQBPAGIARQBJAEcATABgAEkAaQBLADkAUABRADIAOAA0ABcALwAaABEAHAAMABkAIwAcAC8AJQA4ACMAFgAsADwANwBBAEoAQQBpAFkAiQB+AJEAkQB4AKMAfQCOAJcAnQCMAKUAoQCaALMAoQCfAJwAiwCdAKIAiQCUAJMAtwCSAJQAgwCVALoAwwDUALUA4QDEAL4AvgDBALAAowDEALAA0gDEALoAyQCwALUAwADOAL4AtwCcAJEAiQCAAIwAbQCGAHQAdAB5AGsAeQBMAGQAcQBhAGQAVQBoAGkAcQCCAIwAfAB7AIkAmwCnAIcAogCMAJoAoACmAJ8AuAC7AKIAvQCZALkApwCgAJgAsACdAJ8AmwB+AJAAjACcAIUAhwCEAJ8AfwCGAJ0AhAChALUAmACoAKoAigCVAHcAhgCCAHsAggBsAGsAaABcAGIAUgA6AFsAOwAwAGUAMwA/ADwAQgBHACMALAA7AE0ASgBkAEsAaQBlAG0AdQB4AJcAkgCUAJ8AsACWALkAvAC5AMIA0gDDALgAzAC1AMsA1ADfANsAuwDRANEAvADVALgAxAD1ANIA3ADmAOAA2QDIAOkA7QAAAQAB5AD/AAMB+ADyAOMA4wDTAOAA8wC9AK0AvgDRALIAogCsAKIArgCAAHgAdgBeAGcAYQBIAB0AFAAyAFQAIgARACMAOABNAAIABgA6AFIAHwAMAPn/9P9EACIAAQAVAFMAWQARAPX/BAAfADoAOAADABIAOQAsAAAA//88AGAAVwAxACoAOwBeACoALwBpAGMAYQAjAGkAcAA+AFIAVABcAEcAWQBUAE0AFgAxAEUA9/8QACMACgDy/9//7f8dAPr/0P/N/9n/xf+L/9j/5v+G/4v/zP/W/5r/lf/F/7L/j/+T/5//t/+C/1X/cf+J/5T/l/+O/6P/g/9N/1j/Wf+S/6H/if9Q/0r/dP9x/4L/gP+c/6b/a/9E/2L/iP+d/3//Yv9x/3z/gf+A/2z/X/+h/4b/Zf9R/zv/cv9Z/1H/Zf9n/07/Pf8c/xz/Sv9Q/1X/Pf8e/xf/Cf/Y/gb/IP80/zL/2/73/i3/EP/y/g7/Dv8H/+P+4f7s/tz+1P7N/t3+9v70/u3+Bv/r/uz+1v71/hj/9v4N/wT//v7o/u3+D/8S/xz/LP8o/xn/Av/+/hv/Kf87/0f/O/8v/y//Rv9k/0H/Yf96/0//Kf84/4//n/+p/+T/BQDM/5D/qv/K/6f/ev+//9X/fv97/6//qP+D/6T/u/9+/z3/MP8a/97+tP7e/tb+tv5//oP+n/5G/kT+Z/5i/jP+Sv5s/oD+eP6T/rX+q/6m/t7+0/6D/sj+yf6C/kP+Nv6b/rv+Yf5u/mr+Of71/fL9QP4n/hf+Mf5V/nD+Yv5x/rz+0/73/hP/If9M/4P/nf/B/7T/rf/h/+X//f8KACQALQAdAOj/1v/F/9v/BwAvAEUA/v/p/+z/AAAzAGYAkgCnAIoAmwCIAGoAcQBnAGgAPgAEAOP//f8vACIA8/8CABAA9P/6/wcAIABBAPn/n/+V/8r/8v/R/5f/gv+O/5z/hv+m/9j/+v/n/7n/xf/D/6//s//v/9z/tP+6/9b/8v8JAPv//P8GAB0AEAAEAAwAOgCoAHcAKgA+AJkAkwB5AKIAuwDBALMAnwCwANAA4wD+ABgBEwHsABMBHgE+AVYBTgFKATYBWAFVAV0BZQFSAWwBdwFrAUUBWAGvAaUBaAFVAYsBrQGgAakBjAGPAcQBzgGZAWsBpAG6AZoBhgFvAbIBvQGTAXsBcwF+AWYBYgFCAT4BowHvAeYBigEdAd4AwwDgAPMAMgFnAXABNgHLAH4AfgDpAP0AiwAnADkAXQBlAHMAWADs/5b/bf8x/9v+2/4Q/2//N/+N/jL+Pf5Q/vf92/2p/Zj9df1Y/UH9Qv0t/eT8uPy2/Nf8HP2G/Xb9Nv3s/ND8xPzN/O/8M/27/Q/+EP4f/jT+Vf6w/ov+w/wt+2T8k//jAQ4CMwEFAIv/A/6N/If8fv/EAvwD1AJSAOYA7gLpA7wB9wBjAmoDBwOGAngDGAUMBhwFLAMaAqICngMgBOUDeARVBWAFIASnAl0CAQNpA1wDYQPEA00EdATFA2kClwHQATkCZwJVAuwC9gMpBOgCFgEVANb/dwBGAdMBGAIyAh4CWwEAAPX+I/8yALgARADx/z8A0wDiAPb/Cf+e/vb+Tv8F/z3/zf8vAG7/gP4h/ln+u/6k/qz+lv7R/ur+3P6z/lf+Dv5B/pP+d/6d/hn/Lv+4/hX+9P1L/pn+nf6x/hD/ZP9z/+f+J/7Y/W7+Fv9h/z3/P/98/4z/Vf/0/uX+IP9+/7r/7//Y/+7/EQDZ/63/fv+m/8T/5v9RAIIAoQBxABwAqv+K/3r/pP8KAHAAywCuADgAjf8z/zb/bP97/7n/DAByAIEA3/8U/6b+xf5P/6H/1f/Y/9z/CgDD/3H/t/5x/ov+KP/y/yoA+/+z/4f/SP/3/pH+5v4v/4f/hf9m/33/if/D/6P/VP8d/1b/of+//8//DAB8AFwABQDf/83/AwBBAIgAywDhAMoAmQAvABMAegDdAN8AnACHAKMAywCaACUAKQBsANYAAAHUALIAsACmAKUAjwBsAKoA2QAWAcsAcgB3ALUAzgDQAH0AcQDKAPAA3QBlAH4AnAB+AFAAOAAwAHIAewAPAKv/uP84AG8AJACP/27/bP83/yP/QP/A/9b/j/9Q/xz/If/8/gn/CP8o/zj/Pf9Z/0P/C//d/t7+2f7W/sr+J/9U/1H/Mv/y/gT/7P7w/uX+Ff9o/6P/zP+p/3j/Zv+B/2D/lP/Y/0IAiACDAFwARQCUAKgAowCBAK0ACgEzAUcBVwE1ASoBCgEGAUIBZQGPAYUBYAFbAYUBigF9AXkBQQE9AXkBpAGTAYcBbwFTAVgBKgEYAU0BmwGTAUMBAAHYAMsAtQB3AH0AlQDXANsAmQBEAOz/2f+8/7j/rv/5/woA0/93/xv/Bf8T/x7/Ef8H//P+xv7q/sv+rf6d/qD+uf6S/pv+yf4d/+n+tP5M/mz+pv71/iH/Af8u/yT/BP/L/tT+//5G/0P/TP9k/3z/fv9P/zj/Tf91/6f/of+d/8f/2v/t/73/qf/a/wIAEQAUAC0APgBFAC0ADQAzADwAQgBKAEEAUQA/ADIANABLAHEAdQBbAEgAOgBZAG8AbACQAMkAuwCCAHMAawCQAI4AgQB6AJwAxgDSAMwArACLAHUAfABuAJIAogClAKkAiQBwAD0AKwBAAFMAZABAAD8AHwD2/+7/4f/k/97/5v/r//H/8//0/+T/2v/f/9r/2//b/9D/6P8LADgASQAqAPH/zf/q/+7/7f/+//3/BAAgAB8AAQDs/+L/6P/x//r/EQBCAEUASwBRADUAIAD0/wwAPgB9AK4ArgCLAGsAWQBQAG4AbACLAKcAuwDfANIAvgCvAJAAgQBcAFAAhQC4AMkA0gC7AJoAlACGAIAAhgCcAMIA7gD9AAgBzAC8AMcAyADcAL4A0wDGAOsA/wDrAMAAhwCTAJ4A3wC+AKwAmwCGAK4AeQBpAFMAbwCUAHMAWwA9AFQAVABUADoAIwAuAD4AbABlAGUAUAA0ACcAPwByAGgARwBRAHIAcQBQAD0AMgAVAD4AUwBRAFwAPAA9AF0ANgAtACAADQBBAFIAaQBWAFYAaABhAGYAVgBaAHkAowC8AK8AiQCJAIUAlwCXAKIAywDtAA4B5wDEALAAyADXANgA4wDbAOoA5wDpAP0A+wD6AOgAzwDDAOMAAgHwAN4A0ADAAL8AowCbAL4A2QDYAL0AogBuAHEAcwB+AGMARwAmACYATQAvAFYAQgAIAND/yP/X/+T/+f/u/wMA6P/W/93/uv+P/7P/8v/y/+//5f/1/xkAEQDv/67/jf+b/9D/BgAHABcAFgACAN7/xv/X/+T/5/8IACoANAAyADIABQDv/+j/4f8qAEQAZABMAFwAVwD7/+//AQATACMAXgCHAIwAfABBAC8AIQAsADwAMABGAFoAYwBHADsAFwADAO//+v8NAA0AEAD5/wUA7P+1/7b/sv+m/8f/wv/N/7//vv+5/7L/s/+Q/5//n//H/7r/xf/8//f/4/+6/6T/nv+8//H/BQDu//j/+P/k/+j/4P/4/xsAIgAbAB8AQAA3ADoAPAAoADoAPABbAHsAagBhAGwAcQBhAGYAegCLAJwAewCCAHwAaABsAHkAjAB+AH0AkwCIAG4AcAB1AFcAGwAeACAAIwAgABwAHAD///r/7f/c/8X/yP/+//b/xf+s/7v/rv+p/7//wf/I/7D/wv/M/6j/kP+P/3r/af9R/1P/a/9l/3j/fP9S/y7/K/9D/z3/Tf9Y/0//Qf8i/zb/Iv8e/yL/Uf9x/2z/bP9f/2L/Y/+R/3j/Yv9v/2T/gf+E/5f/p/+o/6r/rf+R/3D/mP+r/7L/l/+K/5n/kf+R/6D/lP+p/67/xf/D/7j/7P/4/wsA+//0/wgAGgAhAEwAXABlAGwAegB7AGcAZQBnAGwAdACSAKAAsACNAIYAkgCJAHUAcgCRAJkAtQDFALcAqACYALMAnQCXALIAvADYAMsA0ADEAK0AkQCHAKIAlACVAKAAqwCnAJEAjgBlAE8ASQA+AEYAVABYAEIACwDn/9//1f/n/+v/6//V/9T/yP+m/5D/h/+I/4P/hf+h/7T/lv+M/2//V/9F/1//af9d/1P/Vv9Q/yT/Kf8k/zD/F/8h/zf/O/9N/0z/Vv9Z/0v/T/9r/3j/o/+7/8r/0P/o//f/5//u/xQANwBLAFEAXwBfAFsAbgB+AK4AsAC2AMgAxwCxAMgA4wDfAPQA3wDuAO4A8gD/AOwA7gD1AP4ACAETAQwBEwHzAPMA6QDTAO8A7ADwAPIA8wDRAKoApQDCAMgAtQC/ALYArwCjAHkAagBTADcAVgBVAFEASgA5ADgAKQAIAAcACQAQADUALAAPAAIAGQAoABgACQAhAB0AKAAnAA0AGQAaABkAKAAdACoAOgAgADEAGwANAAwAHwAwACQAKAAxABsA+/8CABAAJQAmADQATwBBAD8AOQAeACoAMQBPAFQARABEAFMARgApACcAIwA7AEEASAA6ADMAJwA3AC0AJwAoADAAQAA0AFQATAB2AIIAfAB3AHMAkQCiAKMAswDVANEA4AD5AN4A4ADxANwA8wAEARABAQESAR0BFQEQAfsA8gAKAQYBBwEaAQ4BHAH/AAEBAwEMARUBCQENAQsBGgEPAQkBKgENAQMBBwHwAAcBBQEDAQ0B+QDkAN4A2gDSAMsAzADPANIAtQCpAKgArACvAKIAmQCOAJsAigB6AGkAZgBwAHIAZABgAHMAbgB1AFQAVgBmAHsAfQBoAGgAcgB2AG8AfwBxAIMAiACDAIcAhQCOAKEArwCUAJsAqAClAJgAjQCrAKkAsgC8AK8AsADCAL4AwwDVAMgAyQDcAOwA1gDWAOsA6QDqAPkA6gDbAOIA5gDnAO4A5wDiANUA0wC2AJ0ArACfAMQAwgCkAI8AgwCFAHsAfwBsAGoAewCPAIsAfwB2AHQAcwBdAGsAfQCFAHQAeABnAEMASwBIAGEARgBFAFwAYgBhAE4AUQBDAFQASwBKAFAASQBIAEwAZgBoAG8AaQBtAHgAfAB1AHIAewByAH8AiQCGAIgAhACBAH8AewB/AHIAbABvAG4AbwBnAHQAcQBUADkAOwA7ADoAOgA1AEUAPwA1ADAAHAAdACgAKAAyADYANwA/ADwAQgBFAC8ANAAxAEEAOAAqAEIAOwA/AEUATgBDAEcAQQBHAEUANQBOAEIAQABBAEkAOABCAEQAUQBqAFQAcABhAGwAdwB1AIAAfACJAIsAkAB5AI0AiwCPAKAAjQCbAH8AhgB0AGgAigBtAGIAaABkAGYAbgBqAE8APAAyACMAGAAeAB0AGwArABIA5v/w/+n/zP/c/9b/6v/2/9j/xP++/8L/sf+3/6z/sv+0/5f/kf+W/5D/lf+X/5D/kf+T/5D/lP+Q/5T/s/+u/8j/wf/I/8r/xP/D/9P/8f/h/wgACgAnAB0ACwAPAAgAHwArADUAJAAdAC0AKgAVAA0AHwAdACUAMAAkADcAFAAmAAkA+v8WAAoADgAdABgADwAOAPH/BwD4/w0AFAAQAAsADgAHAPb/3f/U/93/1f/y/9f/0v/U/9L/uv/G/8L/wP/T/7z/w//G/77/sf+u/7D/p/+9/7z/r//B/7n/wv/E/7j/v//R/9L/0v/l/+P/5v/g/9j/5P/n/+f/5f/b/93/5f/O/9H/4//X/83/1P/Q/9b/4//j/+f/5v/v/9r/5P/x/+z/7f/u/+7/7v/r/w8AAgD1//3/3//t/+T/7//n/9v/0v/P/93/1//B/8n/xP/C/8X/yf/B/7v/xf+u/6T/pf/P/8r/y//M/8f/yv/W/+D/3v/e/9n/3f/W/9z/2//X/9n/1f/a/+f/1P/q/97/2P/l/9L/4P/j/+D/y//n/9r/4//o/8v/5f/P/9r/3f/g/9r/4P/k/+D/8P/b//T/9P/p/+X/8P/5/93/3v/R/8//0P/J/9P/yf/K/7f/wP/N/73/v/++/7b/oP+4/8H/qf+b/5z/rf+8/7n/vP/A/77/uf+7/7L/uv/I/8j/3//O/8X/0v/B/7j/5f/Q/83/3P/L/8r/zv/N/8f/x//H/9//0//u/+r/7f/s/9j/6P/n/+//8P8FAAoABwADAAAAFQAGABYAFQAGAB4ABgALAAgAAQAAAAkACAAOABIA8P/9//3////8////AgAFAAYA+P/1//D/6f///wQA+P8CAPf/8P8IAAQA9P/x/+//CAAFAP//DAAJAPX//f8DAAcAAAD+/w0ABwD8/wMAHQAbACgAHwArACgAFwAmAB4AJwAjAC8APQBBAEoAOwBNAGkAaABjAGEAeQB+AHQAiAB3AGoAdwCEAIIAigCZAIgAkACNAI4AiQCKAI0AiQB7AG4AjgB5AH4AawBPAG4AZgBmAG4AaABvAGkATwBNAEAARABNAFYAXQBfAGEAWgBgAEMASwBgAHAAZgBLAEkASQBDADcASAA0AC8AIwApADYAIgA+ADcAMAA0ADYARABDAD4AVQBWAGgAeQBnAHoAgQCEAHwAbgBaAFkAZQBpAHkAcwBiAFAAPQA4AEQARgAxAEgAYAA3AEcAOwApAC8ALwAwADYAUgBHADkAMgAxADsAPgBDAEUARABGADwAJAD///b/+v/x/+r/9v/V//L/0f/j/xEA4//u/+X/AAC6/9D/BwAHABAAJQA9ABAACQAkAHoApQB8AG4AowCOAIkAoQDPAMoAaABfAOX/1f9AAJAAtwBhAGgAQAAIAAIA9f8xAE8AfgBOAND/y/8SAHIATwAAACQALwAfANv/+v9eAEIAUgAzAPX/yf8VAG8AUABJADsAYQB8AFQASwA3AHUAfwBKAHEAUQChAMQAmQCDACYAYAB8AEwAPQAUAFIAPAD4//P/5f8RAAIA9v/x/9T/4/8tAHMALQAMACMAFgANAOX/+v88AFgAaQBUADEAJwA8AFcAUgBcAE8AYABUADcARQBAADgAQABkAFoAXQCZANIAsACIAHEAlgCiAIAAoQCOAJoAhwBvAH0AXQBnAIUATQAmACkADgD2//v/BwAXAAAAzv/C/37/bf+c/xgAbABXAEgAPABKACIAJwBAACYAGAAxAEoAEgAPAD0ATgBLAAsAFgAMACYARQBHAHkAewCpAH0APwBBAEUASgAkACkAIgAlAEAARABcAEEASAA+ABAA4f/Q/xEAPgBgAGcAeABgAEEASgBKAGMAbABPABMA5v/w//z/HgA/AHEAfgBoAHUAKwAAAPL/9//+/7j/uv/o/+//1f+m/7P/gv9Z/3L/Sv9s/6//BAAUALr/jv98/2n/Mf/w/gL/LP8Z/wX/Bf/o/sL+yP7n/t7+y/48/3D/IP/X/pb+n/5v/kX+ff7d/iD/G/8I/9T+uP6t/sP+2v7Q/tf+7/78/g7/PP8//zL/D//X/rb+x/7z/hP/P/9A/xX/7f7F/p/+u/7q/gX/Lf8k/+n+qv54/pH+rP6w/rr+ov66/uL+6v7Z/vf+Of8S/9T+z/7b/gH/Qf97/5r/eP9i/zr/Kf8X/y3/tv/L/6H/gf+P/3b/Tv+D/7j/0f/M/+7/6v/U//X/JgAfAPb/2//x/xgACgAaADAAHgDW/7n/lf9r/27/sv8XAAQAMgA3ABMALAALAPv/GABMAEAAMAA8ADkAMwBIAHEATQAMABkAOgA7AC8APQCDAIMAQQAmAD8AfgCWAMIA0gCpAI8AeQCIAGwAeQCeAI0AiQA2AC4AcgB6AGkAQQAjANj/sf+z/6X/uP/l/ygA8/+b/6L/zv8UAEAAWwCJAIMAZwB8AIQAgACAAJsAewAoABQATQCUAJIAeQBHACcACQAEAD0AggDHAOkA+gDbAIgAkAAFAR0B5AC+AMgAigBfALMA/AAmAQsBKwEQAbgAfgCtAPAAoACRAIcAmACJAIYAyQDqANIAkgClAJ0AbgCJAAgBZwElAeEACAEmARoBMwGTAaMBPgErAUUBIQHzADkBsAGRARgBEQFwAZYBlgHtARMCvgFmAVsBdwFnAaQB8QEHAqkBUQGCAZsBmAFvAaABuAFXAToBUgFhAVEBVgGMAX8BIwEsAYABbQECAQMBQAFXAVYBYwGOAWoBVAE/AScBMgFDAVoBVQEQAe0AAAH+ABIB0ADEAP0AGwEBAcYAuQDPAAYB8QDbAOYA9ADXAJ4AgwB1AIQAkwCfAHEASgBMAHYAZQAsADMAaACPAG4AlwCuAKkApgCoAMUAkwCLAL0A7QDuAM8A3AALAf8AtADeAP8ABwEkAUkBYQEOAecAAwFGAToBFwEYAfoAywCnAOsAEQFEAYgBtQGEASsBNQFoAYUBhwGbAYwBggFhAR0B3gDAAMQANgGlAaMBsQHEAdABVAHlAAgBTgGwAaYBjwG4AYUBTwFXAUIB+gDRABQBJAHzADkBRAFIARoB9wAPAckA3wAdAXkBnwGNAYwBCQGTAGoAhwD2AAoBMAHwANYAugCZAOEA2AC5AIgAkwB5AGcA1QAjAQkB2wAIAID/Vv+p/+P/+v95AHoAdQALAKb/cv+W/xsAiwCBAB4ADwD4/83/l/9K/yf/P/9t/6T/7f8CANr/qf+S/xz/wf7w/oj/qf91/2P/A/+r/qf+1/74/tn+cP6O/ur+7/7L/i//tv9U/4L+Wv7T/jT/if/u//v/of9Z/2P/df9V/1b/m/98/+r+0/55//X/tv+k//H/EQC2/6T/OgCOAI4ASgBDAMD/Df9R/8v/xf9t/zz/l/+g/2D/af+q////sP/S/+z/w/9w/5L/AAB7/43+R/44/gH+cP4G/5L/ef+L/6L/EP/J/ij/OADOALwAdQCoALsABABg/yz/If8j/9P/YgA+AOj/bgDYAN8ANgERAo0CTAItAjECNAL/AAwA3f8i/zH+mv3L/Q/+2v0S/lL+jv6P/sj+jv/7/wQApP/t/63/u/5x/or+cv44/j/+Wv50/nb+Ef8wANEAugCbAAoBMgHJALgAGQH+AKwAoQA0AHv/h/7N/hz/kP4o/ir+4P7t/sn+nv6B/gH+yPxf/Cn82/tO/JP8lfwX/Jn7Bfzz+/37TPzB/DD9pvw//GP80Px3/DX8s/zn/Mv83Pwc/eb8ifw3/Ez8RPwm/GX8svyq/A78rPvc+1j7LPtu+8z7vPsk+x37Rft2+9n68vqM+7v7ePtS+077N/uS+/X78/tx+2v7cfug+9/7a/tX+6v7hvv6+hT7mPsL/HD8tfxL/af9TP6h/oH+Mv4J/i7+B/4R/hr+Yv6f/mL+Zf7r/cX94P2p/ff9Av6X/gv/Pf8k/3X+z/1Y/Sr98vyZ/bL+//7m/nD+Hf7A/az9AP6j/YP9if0L/sj+6P7t/r7+Df/D/kD+o/5P/2sAagBHAFMA8f/T/+z/HgBIAJAAywDgALkAywD6ADkB6AAsAPH/+v/d//3/QQBeAFYAVP+n/v/+AADKAMwAmACj/z//bv+Z/zsAtwAfAbUAOgBdALkAhQEQAsoBRwH3AJkAogA8AVECKgMyA3ICDgKCAmID4wNwBCsFKwXmBNYDawNRA7cDhgQ3BPcDjgPFA24EHQSAA1EDUQSqBI4DmwM9BEsEKgTSA10DpwIXAhYCUwKrArcC4gLlAm4C+gFSAjYDSwOuAhQDtwMiA8gCFAMcA9ICmwLWAu8C+gJnAzkDEwN3AhACwgL8AuIC/gJhAzADkAJHAucBrAHUAUsC5gF1AVMBdAEuAgACvwEJAjQC0wH9AbcCxwLuAjMDJALmAHMA+AAJAtoC/wLQAtYCvgIXAiQCWQPCAzsEIwT6A8EDPgTTBGQEhARjBNYDlwN1BNcEagX5BX0FiARABI4E3wSsBY0FQAVSBdkFJgVRBC8EMgR9BIQEAwXMBHwF3wWIBVEFIQUzBeME+QQ7BeYEHAW+BcQFBgXnA90DrgMGBIsElATLBP8EagSgA7ADxgMVBH0E1QReBNkDNgQxBEkEAASGA3YD5wIcA10DZAPXAz4DZQL1AeoBGgIgAsQClQLDAS8BigA7ADMAigALAfAAhwDcAGwBbQHMASMCUwIjAjYByAAoASkCJwJkAgsD7QGfAOAAVwEhAUkBJQLTAQ8BAQFxAS8CdAJtAkcCxgJBAtsBwAIAAx8D6QLGAloClgHwAVgC7wKKAusBCgO/A4gDSQMdAysDhAO9A38DDwMgA04DNQOOA3YDRQOkAw8DRAK4Ad4BnwLsAhID7wF3ARUChwFTAQMCegL1AWQBRAFSAZoBnQG7AHcA9wCPALAASwFzAYcAJAC5AFMAAABGAIAAff+f/iv+4v0c/nP+TP4x/Qv9y/zj/Dz9YP1f/d78Of1a/MX7d/z6/Er9SP2F/Xj82/us/Kn8l/xy/Un+Wv7D/XH9Bf0A/Wf9B/1C/ar9Yf2K/E78Dv2w/VX+E/5V/fj8M/23/af9gv4o/wX/Dv71/Bz93vy5/Tf+Qf1s/H/8WP2S/J/8Ev3Z/P78d/zW+9D7U/2d/f38lP0a/Tf8NPx+/Pr7cPy3/bP74vmm+kr77fqA+x/9kvxa/F/8Avyu+/D72vy//PP8+Pp8+lz8Av0o/KX7D/56/Qr8kPw4/sP+rv1P/uL9Df3k+zX8B/1B/LP76fsK/F/6KPp6+7/8Yfxm+/37NPzr+5P7kfx7/df8sfxA/c38UPwM/dj90/3w/Dj9rf00/Yz8kvwu/YP8YPyG/br9a/1u/YH9fv3R/SL+zf0z/ij+cP3F/RL+lv2P/TH+2v00/X/9d/2D/F/8z/zl/FL9+fyD/LX8pvwo/Hj71ftv/HP8Yfzm+437NPxn/Rf+lf0X/TL95/zq+xP8Df37/bX96Ptx+8z7GvzW+6X8g/1u/Hb7hvvl++L7pfzQ/Ff8Ffw5/Or8Nf09/U79gf7f/b/8B/z/+0L9Ev1D/Vf9ov1t/ZL8WfyF/Pb8Tf6P/sj8qvyL/eL90v2m/lj///44/4H+1/3W/mIAyADSAGMAe/+P/wEAU//N/mIA/QAUAC//rP9Q/2P+mf60/j//N/8F/2L///99AF8Alf/w/qz+yf5P//P+fv93ALwAm//P/Vv+9P8XAKH/uP/8/rT+4/6S/iL+Y/9WAFL/bv4L/rr+xP8cAB//3P6A/7T+Av5r/vf+9P6M/0n/G/7p/an+1f7h/UX+3f5z/3X/V/44/tD+EP9t///+Ov7//Sn+0v42/4z/9/9IABkANP+o/xQBUAETAfUAPABN/1v/TwDkANcAcwDm/0YAkQALAegBLAKmATcBGQG4AB8B+QFbAucBMQFxAbMB5gFpAVkBhAJzAtkBhQEyAngCgAIrAmsB9gGGAroCzwG0AA0BdQLSAnEBnwFoApkCqAEoAbwB4AFJAjQCCgLcAUwC6wG+ANf/RQCyATICJwKlAToCgAJWAdQAuQH4AkkC4wHtAWcBpgG0Af4AfAEuApEB1QC1AO4BvAIdA78B0wBlAtkCuQEEAeMArwBkAeUBJgGFAQ0D3AKeACgARwGAAkUDggIWAhwCIQJqAVsAiwHJAtoCrQJxARYBkAF5ArIBjwAnAT8CGgL+AI4AvQDMAZsBVQHsAaECbQLCAVgCFAJ1AhgDhwKbAewBKgIPAXMBXwEaAtoCIgLIABwBjwJLAisCdQLwAXgBhwFrAN4AEAIKAoIC3AJaAvUB3AIxAnsBswLbAoEBEgHkAVQBBQL/AjoCbwLcAvABtgD8ACkBKwGeAnMCWgGdAWAC/QEpAmIDeALoAQcCwgGTAcYCoAPyAocCtwHRAI0AQgE+AP7/SgEeAc8ADwE/AVoAsACDAV8BUgE5Ah0C4wDgAHUAUAAcAVIBuADTADkB0wCFAIEBGQJ7AUIBJADD/5UAQgAuAPIAIwHdAPH/U/+D/1EAuQADAAcAVgD5ANYAtwDfAM8A0QAMAE//G//a/wQArf/H/6n/pP+g/0b/hf9hAN0AMwBC/yn/MP+A/9//FgD4//T/ef/D/nz+8v7x/8f/LwDA/53/w/85/8D+/f4sAL//pv8R/7L+wP7s/vX+AP/C/87/2f8j//H++f7o/yMAhP9p/+T+2f7E/nr/VP/S/+z/jf78/cj9UP5v/jT/s/+L/3X/q/7P/f/9Sv9z/w3//f5b/tT9X/74/gb/T/+W/9D+AP5E/p/+MP/V/87/I/+U/pf96PwE/vD+6f7V/sb+Pv7i/R3+YP6A/or+sP6r/pz+bP6Y/m3/3P7x/eH9Pv4j/j3+yv6v/hT/C//r/dv8dv2N/hj/Av9k/sz95v2J/bX8zf3X/qz+DP76/av99f3s/vP+v/6E/lT+sv01/QL+zP4A/33+d/2D/ar9rf26/Tz+tP5s/pf+Ef+N/in+p/60/oD+Z/4D/ur9Cv7L/cv9BP5B/p3+Rv/9/j/+Df6m/jj/T/8A/xf+4P37/Qf+2f3O/f79+v0I/ub9rf2R/jL/5f6Z/nD+S/6//oL/4f5v/u3+uv7v/ZL9Tv0A/in/Q/+B/nv+Cv8y/yL/rf5n/of+s/4B/oj9PP5N/1b/mv49/kv+pv7P/sX+pf5m/+r/Pf/Z/tj+LP+J/0n/LP6//RH+kf6h/nP+8/48/2D/Nf8W/+j+m//D/zD/5/7d/sf+e/69/p/+E/+K/+H/i/+F/1j/Dv8p/0P/s/+N/wgAw/8P/7j+3v76/vr+8v4f/57/Xv9S/4L/PwC1AGsAAABe/xP/5/7T/g//l/8dAAwAn//r/kX/DQDk/5//6P+YALYAPQCD/4f/SwC7AEkAi/91/5D/VP/0/lv/KQCXAEUAgP8GANYAQAENARUAw/+C/3b/lf8XANIAEwGjAKP/SP+t/ysAVQCWAIIAVwClAPcA/QDJAMAAjwBSACQA9v9GACsBdwHoAJUAkgCYACsBUAHjAOwAggHHASEBKAFBARMB/wC0AK0AMQGxAZ8BuwHqAW0BCgFtAWwBYwHTAawBMgFiAdABqQFZASABGwE4AREBGAENAu0CqAJqAnMCCQK0AawBrwHJAT4CowI7Aq4BoQHeAUMCTwL1AfgBLAIgAukB/QEzAtwBFQJbAuABogHpAWkCbwKdAjICkAGSAZYB1AHsAUoCggJ1AvIBQwFNAbcBMQITAq4BngEUAi4C+AHiAcsB3AHMAW8B9ACKAYwC1QLPAmICAwIjAjEC3QFcAZwBFAJKAhYCgwGAAaQBpAFCASoBgAEkAtoCqALTARgBGAFjAbYB+QEMAv0B3wG2AccB9QH8AQEC3gGoARsBTQELAiICGgLqAbMBNwH5AP0AvwACAboB8AHfAdUBywHMAaIBKwGDAJkACwE6AYkBhgE1AVUBcwFGAeYACwFNAVoBYAHDAJEA+wBsAS4BqgCVAKcAJAEjAcsAzQAlAUAB3QC7ALQALQGyAY0B9gCYAKcAoQCSAL8A+wAxAVMB+gBaACIAdgDeAB0B/QCWAGAAcQBPAGkApQDXAMAAZgAhANb/PwDSABQBLwHOABYAbv9H/7X/NABxAGAAIQDx/7//pf/T/9j/9/8UAPH/q/+q//T//v/Y/67/hf9J/4L/0P+7/7b/tP+h/1r/Gv88/0j/Yf9P/z3/U/9c/2f/kv+o/1f/RP9M/xD/C/9r/4v/ZP9X/yz/1/7B/u7+K/9K/3f/mP+4/7L/Qf+7/pT+qP6R/sD+8f7J/tz+Iv8R/73+kv50/mj+wP7M/vH+Qf8g/87+hf42/vD9Hv5j/k/+c/6d/oD+av5e/iD+9/0j/h/+Av4x/m/+YP6W/nr+4P10/WH9av2N/eH99v3w/Rj+/v2X/XX9bv2E/bL90f3b/ev98v0C/t79mP2V/bP92P3h/a/9uf3V/ab9ef1k/W/9gv21/dn9p/2d/Zv9af1H/Rz9KP1i/Zf9rP3C/b79jf1j/Vj9h/13/Wn9d/1x/Xz9jv27/cn9uf1r/T79Lv1P/ZX91/0O/qP9S/1B/Vn9Yv1z/ZH9f/18/Vj9SP1V/Wj9rv2o/Xf9cP2Y/cP9s/1//Vb9Zv12/bf98P36/fn94/2u/ZX9vf3G/fX9EP7J/bf9v/2s/bf93/3x/dv90/3u/f39DP4g/hH+4v3B/bv9jP21/fz9Df4U/vf9zP3u/Qr+8f0b/iX+F/4U/hv+CP4K/iL+G/7l/dH9xv21/d/9/f0g/iz+GP7f/dT98/0S/i7+bf5j/kn+Rf4P/vn9+P0p/hf+Iv40/j7+ff6i/uf+9v7R/rf+ov6Z/oj+oP7f/tH+5f76/uf+6f7E/r/+z/77/gn/7f74/gD/Kf87/yX/If8W/xj/Ov9Z/2b/jf+Y/4b/V/9g/33/mP+7/7b/4//a//X/5P/F/8P/vf/y/wsAFwAsAEMARAAtACIAJAAFABkAGAANACIANABOAGQAVAA6AB4A+/8EACIAZgCkAMAAsQCOAHwAagCeAJUAlwDNAMQAtQCWAJ4AoQDCAN0A1ADHAMoA3wDaAMcAuAC9ALIAkwCFAJIAwADbANoA7ADgANYA0gDWAN4A5QDfANoAzADSAPEA9QD5AO4A7QDwAPoAEQEUASkBPQE6AUkBOgE0AS8BHgEIAQoBDwH0AAgBGgEcASsBNgEoARgBIwEQARIBIQEtAV4BXwFrAW4BfAF/AYcBkAGgAZMBlgG4AZYBlQGZAcQBxgHLAcgBzAHLAcMB2gHPAc0BxAHGAdIB2AHqAe0B3wHdAcgBzAHdAQsCKwIwAjgCOAI/AjcCQQJVAlQCUgI+Aj4CNwInAjsCLgI2AjgCHwIgAh4CHwIvAjcCJQISAhkCAAL5ARECEgIXAhUCAwLjAd4B3QHzAQEC8QEAAv0BAQIFAvcB/gHrAfMB+QHhAekB7gH4AeAB7AEGAvEB+QHgAckB2gHdAbcBtwHJAcsB6QHvAf0B2wHYAeQBuQG6AbUBtAHQAesB9AH5AfQB4wHlAecB5wHhAfwB8gHdAeEB1AHpAdoB0gHQAcYB0wHGAa0BqQG6AbUBpgGuAbIBpQGwAa0BpwGtAagBpwG2AacBqgHQAacBmQGQAYgBfgFtAYwBkwF8AXoBagFLAV0BTgFDATIBHwEaASUBOAEYARABEQENAfoA6wDyAOwA8QDjAOUA6ADiAOkA1ADUAMMAvADGAM4A1AC2AKsAqQCRAIUAdACKAKgAjwCCAGoAawB0AFYAMwAuADsALgAiABoACAD8//T/CADz/9z/9f/m/9r/yf/D/7P/zv/F/7H/sf+J/47/h/9//3T/Z/9O/1D/S/9E/zv/OP87/zn/MP8u/yj/DP8b/xT/H/8f/xb/Dv/1/vX+BP8I/xH/+P4Q/xT/7/4Z//D+6/7k/s7+5P7f/tr+1P7O/sb+t/6f/pz+mv6Q/pL+mP6E/oL+mf6N/oL+hv54/mj+Y/5Y/kL+Sf5O/lL+U/5L/jv+Sv5c/kf+Qf41/jT+Ov40/hn+I/4o/hD++v37/eT93v3r/dP90f3A/cH9wP20/ZX9nP2Y/ZT9mv2W/an9iP2Y/ZH9Z/1w/Wr9c/2L/Y79jv2L/Xv9df12/Wn9ev12/XH9ev1z/X39g/1s/WD9bv1h/WT9bP1u/Wb9av1h/Vn9Vf1X/Wz9bf1u/WT9af1Y/Ur9Wv1p/Xz9gv1u/Wv9Z/1p/Wv9Wv1U/Vb9bP1t/W39dv1r/Wz9Y/1g/Xf9dv13/Yr9jv2H/YX9kP2T/Y79sv2s/bD9yv22/cT9vv3K/d/93P3w/eP9/P0O/vH9Ff4M/vn9Fv4J/hH+L/4q/i/+JP4U/hj+Ff4j/iv+K/41/jz+M/4y/jb+OP5G/kP+Rf5K/kv+V/5e/mH+Xf5f/l/+eP6A/of+df5o/n/+e/58/oP+hP51/ob+gf5+/oL+ff6D/of+gP5t/mv+e/5l/mH+iP6C/oD+Xv5k/nr+e/6X/pb+kv6a/pL+n/6p/qz+v/7A/sH+x/67/sX+1v7C/t/+2f7c/vT+9v75/gT/BP8I/xj/Gf8z/zr/Pf86/1n/S/9X/2v/av9x/4L/l/+b/7D/rv+v/6P/wv+9/7//zf/d/+//4f/P/9P/6P/q/+n/8P/3//b/BwD1/wAA+/8TABMAGAAyADcARQA0AEoATABcAGcAYQBbAHAAZgB1AIIAiwCgAJoAowClALEAoQC0ALIAoQCyAMEAtwDGAMEAxwDIAMkA5ADcAOEA4QDnAOQA9AD2ABQBDwH+AA4BCgERAQ4BEgEZASABIgEdARoBPAFCAToBOwE1AUQBVAFWAU4BUgFVAVIBSgFPAVMBTgFRAU4BTwFLAUwBSQFPAUoBSAFWAUMBVAFUAVQBXQFQAVgBXwFoAWABcQFsAV8BaQFmAV4BYAGDAXUBXwFWAVcBeAF6AXMBdAFwAW4BaQFrAXYBegF6AYsBiQGFAYoBiwGdAZYBlgGeAa4BuwG9AZ0BnAG1Aa0BsQGwAbsBtwGxAbMBqQGvAbYBsgGwAbABtgGzAa0BsgGtAZkBmwGNAZcBsgGgAZ0BmQGXAZgBnAGXAY8BmQGHAY8BiAGLAZ4BjQGOAYIBfQF8AXwBbAFrAWMBZwFlAUsBaQFqAVYBUAFNATEBNAFGAT0BOQE2AToBMAEzAUEBQQFAAUMBQgFJAT0BMAEtAS8BJwElATEBKQElASoBJwELARABEQERAQ4BDQEMARYBEAEDAQYB9gAHAfoA9QDmAPQA7gDSAM4AuwDTAMgAugC+ALoAvQClAKEAqwCeAJsAngCjAKgAkwBvAHYAagBhAGYAXgBcAFcAYQBhAFwASgBGAE8ATABIAEIAUQBPADcAOQAzAEwASwBNAEgAQwBAADcAPAAiAD0AHgAZACEAHAAgABAADAASAAgA/P8SAAgAEAAZABMAAAD6/+7//P/+//3/BgD+/wMA7v/y/+z/0v/U/97/zf/T/8v/wf+7/6z/q/+k/6f/nP+d/6f/ov+N/4X/gv+K/4T/cP9r/3T/a/9Y/1r/XP9W/0T/O/88/07/Tv9M/0v/U/9F/zz/Rf9B/z7/Qv9N/0H/QP9H/0b/S/9T/0P/Sf9D/0X/Uf9Q/0z/Uv9c/0//Pf81/z//QP88/zv/Pf84/0X/Nv9I/1f/RP9T/0L/Pf9D/zz/L/8u/yn/Kv8y/yj/Lv8p/xj/G/8a/xr/Gv8b/xv/HP8I/wT/Ev8G/w3/CP8I/wX/8P7k/uf+4f7b/uL+4P7g/t3+5/7o/uL+4v7h/ub+1/7S/sz+z/7g/uT+6P7i/u3+6f7v/un+5P7x/uz+8/7n/ur+7f7y/u7+8P7y/vD+FP8P/w7/Hf8Y/yb/Jf8W/yr/L/8v/zH/Iv8z/y3/I/8w/zD/Lv8v/yz/HP8Y/xb/L/8x/yf/Mf8x/yz/Lv8v/yv/Mf8q/yX/KP8o/xT/E/8o/yT/Jv83/yX/MP84/zz/RP8x/yz/Kf83/zn/S/9T/0D/O/8+/z7/PP9A/0L/Q/8w/0D/Sf9A/0X/N/8+/1b/Tv9V/27/df9x/3H/cP98/3T/V/9z/3v/ev+N/4r/gP+H/47/lf+Y/5H/lf+S/5P/lf+j/6T/lP+m/6j/pv+e/5j/oP+d/5//pP+Y/5j/ov+b/7H/tv+r/7b/sf+1/7T/tv/E/77/uv+y/7z/t/+u/7z/zP/E/8z/w/+v/6b/rv+2/63/u/+7/7f/u//Z/9r/6P/r/+b/5P/u/w4AGQARABQALQAfACMAMQA2AEYASABRAGAAZgBnAGQAZwBjAH4AfQBlAHkAeACCAJMAlQCSAJQAkACQAJcAmgCjAJ0ApAClAKEApAC3AMIAuQC8AMIAywDFALwA1ADQALoAugC4AM8A0ADPAM0A0QDUAMgA2wDVAM8A0gDEALsAugC6AMMAywC/ALoAuwDLANIAyQDHAM4A1QDRANgAygDRAN0A6gDnAOsA8wD8APsAAQESAQEBGAEHARoBGAEAAfoA9AD+ABEBEwEPASYBGwESAQcBFAEbAR0BFAETARQBEQEOAQkBEwEMAQsBDAEKAQsBCwEAAfIA9QAEAQcBBQH0APAA8QDmAO0A5gDoAOMA4QDgAN0A3ADbAN0A1QDWAOAA5ADjAN4A4wDnAOUA+wD4AP4A+wD/AAEBBwEMAQcBEAEdARcBJwE8AScBQwEsAScBLgEtATcBMgE1ATkBOAE8ATwBJQFGAUABSQFdAU0BQQE/AU4BSgFMAVQBUQFWAU8BPAFGAUEBPQE+AT0BOgE7AToBMAEpASIBDwEaARQB/gD3APUA7wDoAOEAzwDbAMoAwgDJANsAyADJALcAjgCPAIwAjACHAIgAbwBuAGYAawBtAGwAbwBZAFgAWABQAEMAOQA7AD8AOAA4ADsAMAAcABIAEQARAA8A9f/7/w0A9P/1//j/8//4//H//P/y/+T/9f/j/+L/4v/d//D/4P/Z/9L/2f/T/7z/uP+7/7b/rf+l/5n/pP+N/5H/j/+S/5H/kv+P/4//mf+R/5n/d/95/3r/bv91/3P/cf91/2z/dv9v/3D/mP+M/3L/dP9x/3L/c/9z/3L/eP9z/2T/bv9p/3b/ef90/3f/fP+A/3z/f/+D/4j/m/+J/4L/of+h/6j/qf+p/6n/q/+s/6z/sf+1/7L/qf+t/6//sP+v/6z/rf+z/6//mP+V/47/lP+W/33/fv+E/37/c/9p/3D/bv9V/2H/Wv9C/0f/Sv8x/zD/Mf8v/yf/F/8O/+/+8v7h/sH+xv7G/rX+uv6c/pj+if5y/nn+ZP5g/kn+Tf5M/jn+OP4o/jT+Nv4X/iz+Lv4h/h3+Fv4f/hn+/P3m/d396P3T/cr90P2p/a/9q/2q/a79of2n/Z/9ov2q/aD9pv2p/an9q/27/cP90v3m/ef96P0D/iL+Jv4y/jb+Tv5c/l7+df6P/p7+sP7L/uD+6/78/hb/K/8y/0z/Xv9x/4P/l/+3/9L//v8PAEkAZgB/AJ8AwQDLANMACAEKASQBPAE5AVcBdwF3AYcBngGFAZABlwFzAXEBZgFpAWQBUgFBATsBIwELARMBBQHrAMoAuQCiAIwAeQBmAFQAQwAfAAkADgDb/9//xv+g/6z/ff9s/1n/Uf86/x7/Hv8D//H+1v7A/rL+mf6M/oX+aP5R/kb+MP4b/h3+Cv76/ev90/3J/cP9s/2x/a39mv2d/YX9gf2F/YL9Y/1o/WL9T/1A/Sz9Kv0Q/Rj9Cf0I/fr85/zR/Lv8qPyv/KL8e/xz/Fv8Ufwt/Cn8NPwi/BX8A/wJ/A/8Efwh/Ef8aPx2/Kn80/z9/Cb9Yf2f/ez9Nf53/u7+Pf+X/wAAcADiAFEBqwEFAnACvQIeA3MDuQP+A0MEkATGBPkEPAVaBW8FcgV5BWwFWQVPBR0F/QTOBJ8EZAQjBO4DtANwAyADzAJ9AiUC1QGDATwB8wCeAFsAFQDP/4X/Wv8r/w//7P7Q/rX+nv6J/n3+k/6K/pj+qv7A/uL+/P4Z/0z/XP9w/6D/v//i////EAAnAD0AQwBcAF4AcABvAG0AaAB1AHQATAA6ACkAGwDv/+D/xP+q/5z/dP9O/zz/Fv/t/sT+lv58/lL+H/7w/cr9m/2I/W/9QP0n/RL9+fzY/Lz8rvyl/JL8e/xz/ID8kvyN/Ib8jvyb/KP8r/zQ/Nr84PwH/Sb9Pf1y/Z79y/0C/jH+b/6f/uP+NP9t/8r/MQCLAPkAcAHlAUwC4QJcA88DSwSkBB0FbgXBBRIGTQavBt8GBwcyB0gHYwdaB2AHRAcaB+wGmQZNBvcFlgUwBcQEXQT/A4sDBQOjAjYCqgFKAckAKwCv/z//zf5V/vb9lP0+/fj8uPyT/GL8SfxM/D/8TPxY/F78k/zR/Pz8S/2S/dz9Of6U/gP/U/+o/xsAfwDcAEgBjwHJARYCWQKIAsUC+QINAz8DVgNPA2sDZwNSA0gDKQMQA+UCngJpAigC4AGrAVsBAAHAAHcADgDB/2j/C/+t/lT+9f2l/Wb9BP28/HH8NvwX/OD7pPuL+1P7Sfs2+xH7+fro+gP79Pr0+v36DPsq+zj7NvtA+z77X/t++4T7nPu9++v7H/xq/J/80vwf/V39lf3l/Tn+c/7I/i//tv9DAMQAZwEHArMCSQPWA0MExAQqBWwF0QUFBkYGiAbSBgsHOwduB3gHlQecB4oHRwcFB6wGMwbSBWAF9wR6BP8DmAM9A8oCaAIJAqIBRgHHAD0Asv8//83+S/7j/ZP9Of0B/dr8ufy0/Kj8lPyR/Kz8wfzn/P/8Mf1V/Yn9xv0A/k3+l/4M/2v/2/8zAKsABAFtAdMB/AFBAm0CtgLZAgYDQANiA6UD2gMKBDoEUQRRBEcEDgT5A80DggM2A9wCcwIcAt4BZgELAaAANwCx/zD/uv42/pz9Gf2X/AX8jvsu+8b6Xfob+s75oPld+Sv56PjK+L/4l/iL+Hf4Vfhm+Hv4lvjM+M742vjX+Of4B/kY+TT5Vvl5+Y75pPm6+e35IPo++m/6wvoW+4b7IPyz/Fb9/f3F/mP/HwADAbMBggJEAwEEwASABWQGJAexB1IIEwm9CTsKxAoQCyMLCAuWCiUK5gmRCf8ICQgfB3AGvAUkBeEE5gTcBHgE0gOBAy8D6QJOAowB3ADu//n+Dv5+/VD9Gv2f/O/7U/sR++/66vpE+5H7vfv7+/v7EvxM/JP8R/yz+xL7dvrb+Z35lPqr/Hv/8AH1A/sF6QciCX8JhwmnCSEJ9AefBvcFdAbjB5UJcQp+Cv8JwAk8CRoIXwaJBHsCjf+b/Kv6dPrD+nz6n/ny+Mf4pviE+Gn4Gvg/9/D1ZPQo8zPzXvRp9V71hPRR9DX1+vWk9cX0u/Qn9aL0HvN/8T7wke7O66LoaubP5CHjveJ15nnvOfojAvIF6Af4CmQOYw/+DDQJZAYvBCwCAgNdC8UavikeMJMuZyxgLEUrMyUAG+0OlQDs793hY93J4o/qFO7G7QXui/Hr9yT+nQEAAZr8AfeU8/P1MP9HC3cU3xgtG8MeRyMwJrAlqCBLFgMI5Plv8DPsOepz6KzmxubO6fTvGPh4/8kCgQEl/vT7Rvyb/rcBzANtBUAIjw25E2UYARpSGP8SlAq6AdD6U/bD8VTs9+aq5E7nt+6y+GIBewbCCLwKmw3vEFcTvRTMFFsTEhFdEDwTjhi3HHoc/xYAD9cIfQXPAZP67fBW6H/iPt+X3jzh9+U16ZDpD+m16s3vi/Yx+yH8p/ud/XwDqgpMD7MQHBAvDg8KPwNf+7Pzsuqg3vvPhMGjtoiwGK4Yr7y4ydFH9p0XySnoLfkvEzZjOVMxUR95DMn/W/rA/NMKnCj1TflkwF+HSVs5VTa3MOUYbvGqyOmoS5QakNKi/cNf3+vp3evc9rAQBCztNb4o6RAGAHz8MQIzDQ8dDS57Nh4xBSjoKKwwHC4EFx/zK9OBwbO8Z743wwLLZtW44qT0fAyJJ5A8rEEEN5Qn8B47HvYe8xsnFXwOqQudDRATkBbIEfgCZO1f1w7G0rsUuhq/BsZBzLDUUeWIAIEgkznCQ7hB6jxsO0s7WTcvL1gmsh6YFooOtwoDCzoIqf1Z7ozgs9YVzy3IfsO5w8zI1dA13PHrjP65D6MaxB6rIFQkIiiQJyUhOxieEPcKSAbJAX76se4/4YbW/8+jysnCN7u3uNW6oL2Hv17Cacf0zNfTlePMAbEnTEVnTvNGmD/HP1M+QDDDFYX6Jukb4TPhW+90Drkxz0J9OXYnNSLxKWMsDhts+VjWp7xCsbq43dF/7y8BDwJ5/pMHeB7iMfYvVhdE+A/lt+IL7FL6egjYEZQS6g32D+8e/C9vL+QVNPIR2mvVGNxH4gLk9+PW5YHt5P3QFhMxlT9dOsImfBOqDGARcxb4EXcE3PY58b71WQChCEQH6vkl5TTSGMkNy73RWtYE2NXaJOUH+mwVpy6CPIw85zU7Mho00TRmLOYbVQshAVX+T/////39hff47U3mguPe4+7i790E2K/WSdvr49vuzPrcBXMNChDPEMUTNRfKFeENKgPw+jH3SfUg8yXwketQ5mXjJuVf6HDmod731lrUpdWi1S/RK8tNx2DGpsvz3qT/yCANNP80Uy1lK9kv+CxrGoL+juet3SbfzemaAV8ly0TIS8k8oDE3OaJDGDniFfbrU85wvny4LcBB1uPtNvjA9TL3CAnmIn8vWiKBBPfqJOLZ5rfxfP/NDdYXxxrqHFsn7jeyPmov+w+Q8dPfMNnN1v3UdtXI2v/ljvdSDk8mJzgwPKYxoSC5E10ORAtSAxz2uuo26AzvePnM/yr++/Uv6sve4dXdz6nMi8z6zijW0uWB/dYYRzAyP89G50laSBVB8zODJB0WdQjf+7v0sfVb+8T+/fod86ftyus56VHjo9tk1hLWqNrV4jXt1vhkBSYQ8hW3F5UXmRVIEEQGP/p58GDpluMp4BDinui97ezsfekL6Jfp+umB5DLaLdEYzKDIxsQvxkfY+vlXG+8sBS7zKwMwPTIfJysPdvRl4WbYYddG4mb/iynvTKZWjEvuQuVGjUnkOEEUiustzVK7LrX9vXDSZ+b18Qf4FAN+Fy4riC6vHPkB6+8O7I7v4vRc/aUJeRS+GM8a8iLZK4smhA5A8UXfzNw+4OTeW9n+2BzkPvjmDYYfeiwFNFgzsinyHgkaOBi8EGkBtvN88In3TQCeAlv8bvG85dbc39eR1MvPE8reyNLQRONb++YRRSIkLrQ4KULaRkZEyDz/MnQmahZJB4MB2QWBCSQDjvbB7krunu7Y5//a59AO0PvV392A5l3xrf5hCzsVShvOHlEg/RxHE3cGEvqX7t3kxN0Z2enWg9dO2QHbm93137jgm97E2I3R6c6G0gLUNc+Y0MXoERKoMk04iSwtKGMwLTLOHsgAq+sa5Vvj/+Cw6UAL+TrAV1JRHT31OKxChD76Hjz1RdcFxja4k7EjvqrZ3PDf+bn96wspJKw1JDEWG4EGOv8+/yX+Rf6bBAIODxEfDq8QPxxGIfURcfWj3/rZ3N3G37Hbz9lg5J78kBh3LWI5gz9TQaQ7ZS2YHSEUIw81BmP3E+xz7hv8ugfmBT73YOZd2n3R28gVwHq4YrRQt3PEh9wx+xcZ1i91Pq5IE1IDWXBYNk6vPCUpbRg1DkcLcQt5B1392PKH7DzpleUs4G/YRNBgzc7RxNoO5gv0NQKVDFkUexv9IBIjqB9CF0cM9P6r8Wjq7OgV5RjbddH2zU/NIMn2wLW4ebHeq/eo+awkwCPjCwlbJFUxizdLQtVM7UeIMO8Safwy8Y7tIPBeAF4in0c9VslKSz+iRFlIky8t/HjLW7Pbqr6jX6SZthHSEOne+JkJMCGzNgI8pi2GF1cJLwmfD2YUVRfOG2EhHSTuIxwilhrvBVbmO8jat/61nLm8u4W+XMqd4ncBbB17MltBV0v6TvxJQkCdNzgwjiUPGBsNcguxEooZrRbNCVX58Ohw2UvIArTZoKyXmJtTqtvANdsh9p0PSyfYPBVOF1XJUCNHpjxnMQAmmh8oH50fdxzLFYIMbgJr+H/sKd69ze+9R7TytbzA48+94ADz3AYGGiIo6S0+LTkovB5XD0z82Ot94vneSdxv2QjZYdpb2N7Rk8hVvQmyDqgNny2cZa1z0u/3Ow4hGS4pIUOcUsRFICjKDqMBzPil8DzyRghULpxO2VYaTyZPR1hjUs0qlPE+xlexPqJlk6SRB6H2thDMSeVxBLcgWS7OLKQk9R3iHBUfbCATIiQpEDR0PFg/aT7DNukgkP4V29HBAbNrqUaj8KN9rh/EdOKjAp8dny+8Oo9BTUVmRRVCBzxzM78ptiMOJqsv5De8NFUm9hXFCMn66eYdzje1BKPNnS2laLPNwhfRr+E7+QkUNirzNyo+XT+FPqk8VjgjMqYsoyYnHeISUww0BxT9A+6c38zTYciUvmO7rsAkyTrOjNGE297uewPzD0oTSxS4GfwgTCHGFl0Ic/8L+ubva+GZ1VbM78CCsQ6nO6YLqZeuTcGs4b7/0QzjDggcDTOOPIIrNhFCA6gGzwoFB6wJnyXUUK5lv1gnStVVwmOwTiEYHOos1wnIVavplMma+rFjwZjEz8155lYF0xfOFQIJhQOXDS0fICvUMDw5SUcbVSFdJFu3TN0yVxTO9ZzYHsAFsRSqx6Qvo6Cvg8ym670A3wxzGmcr/jbeOL44QDypPyo9iTalNLo6c0CsO+Ur+RfuBy/7uOuO1fe+pLGqsMy1GL1xx27Vkeeo+egGEBDCGs8m9S++MVYtcypXLyI5kTxfNEIlGBeZC2v/+O8d3CfF1LC1qN2t57ilwsnLV9j35jb12wEMDbAVNBq8Fz8RRgzACCwGHwOP/P7vA+Gh1F/MBMTwtlqpIKQZsFrIwN4k6970WwSJFHEbBhYxDUsGmgN7Ao8EHw+xJx9JgF/KXxtX4VvJZQVa9C8DBO3uu+W70MOyNqdkthvKTMzwxtrMZt5d6qPkAddc0y7ffvBdAMwQISYfPVdPrltmYJVcjE23NNAXIP947DfeA9CJwWy9Lcij2drm6e+z97QAkAcuC5oMvA2aEIoXRyEsKbQuJDVlPvpEHEQ9OlYpqRSqAh71C+iO2GnMPsps0LLYW+Hp7Cr5WQCyAFL/gADtA+kFwQUAB0UObxtGKDMvpzCPLjUo/xvRCuD3ZOPKzYe92LXIslGy+bXdvgzMF9kw5FHtnPJd9R75APxe/Dr8d/wE/Ej5WPc0+lwAoQW7CpEOKg6TB/f+hfgj8Yzj8dNvy4fObdo86Ar3RwsJKFBFn1aHWPxVyFNyS2E2gRzaCpcB+/WM58TgEuYp8JLzNu/B6l/rVOwM6LHeCNls3NDlVu5V9moCgBR8JkMytTYVNr4ygSyWIa8RKgKJ9mTuW+X73FLa/N9T6O3uOPQP+wQExQtCD1oPnhBSFOgYLxvLG7gcQR/zIeAi0CBGHVYZNBQeDa8DKPqi9M3zAvNT7y/rFuyg8/f8yAHNATsD0wiTDRAN4QkvCHgHvgNp/aH5d/j/9MXtbefu5KLkBuMs4XDhs+PS5ALk3eMH5nHns+T+35jd59212w7Xydb43qHnROrj68f1ngWIEQ0UxBBXDpIOdQ5jCgkErgGWCAsSmBWFFsUeSysuMKcpnyCnGxcWmArw+03wfOnZ5o7lJOX15ofsnPMW+N/4IftAADIDuAM7BycQ0Bm+H90i9iZVKjMqpCUKHaQRLwaR/K30du0L5zDkSOX/52/qNe6i8kf06PGy77Hwd/J/8UPwafWRANkL/hTrH5ksJTaeOEI35jRxLsEgthB5Bfz+dfdM7VLoJO119hD8jP3y/pQCugR3Ahn9ZviQ99/6ZP8jA14IoxE7HRUkXyIdG4oTOwzIAkn2dedj2DDNE8hzxkDH2Mj0yMTHwMe2ySHNJM8Gz6rQttUR3G7igOyj+hgIbBBiFtobmSAJIZ8cnRb3EBIJBgAw+hj4K/n7/SoGDw13E4scnic0LTIsoylyKfkkFxn9DN8GzQG3+R3zH/HH8FzvEfDB8sj0ivR29QL4Jfv0/dIC2QfJC7YQUhcCHQMhnyPvI9Ehxh0mGf0SIAxyBaH/Avr69UnzTfA565fn2Oj06p3ogeYH603z5vkM/4gFiAyNE/gaEiE3IoogSCDgH6waBBNlDrMMzge+/zX7Wfq498zyDe5f6QblN+JX4DPejt303yzlcesE8zD9OghoECoW3hsUIKcfixoeE8ELJAU8/cnykueB33/a1tXq0ILN3Mu4yh3KvcuhzmPRetV43JDlTO5290ICswzOE5wXkRgTGK0XBBfUE8wO+AoCC9oNsQ/AEF0TGxYBFlIULhMNEmcPNgxdCX4HgAdNCS0LtgyKDbcOEhLAE8UPywm7BQwCuPyM95H0svLg8ZLyP/UV+pz+aQAEAVgC/gOwBFgESAOzAwAHAgqkCtYKpQw1DsYMMgjcAtj+Kfy4+I71T/St9KT2Bvmw/D4CLgfkCCYJzwh/CNwHHgaKA5gA6v7Y/ob/rgCzAYUARP/2/f37W/qz9/T0n/Je8BjujO338Pz0mPUo9qf4QfzXACIDeAF6/sX9IP6w/3L/bvw5+gn9pgA+AMX+1v10/Kb6NfhM8sbsOOlz6FvrdvDA9GX5f/9yBtAMDhNpF98XWRYNFXsSww/aDFgKrwqeCpEJEArDDMoNnQwbCrcITAhBCaMInAg8CjAMng2KEPAT2hZCGY0axxq2F9sUXhGzDGYIOwRbAA79Ivqr+Yj5Mfnj+DT6FfvR+2v9PwEmBAsGhQgFC1MNbA8uEaMSPhOnEmQTSxNjE78Qew4bDe4LcArKCYsH5gTMA2YDigPdA7UFSAfpB3QItwrwDxoWGxqJG88ddCCAIfQh+x5CG4kWgRKfDRMLOgnJCMwICAotDXYPKhHAEe0TrhdmGPcWfRrVGh8eaR42HzMggSFzIhojXCOLIQ0hbx1DGkkTnBDODVwM+QgECcAIUgoID5ETXBkSHYIgyiFkJJkmPik7KVUp1CjIKo0rgyymLWcutSzJKSgmJiM+IHQbPxVgDq0LQwraCZYI3gkuDPMNSQ9BEaMT7xZYGLcWDBXkFPITTRFiDuwLUAqfB4MCHPuW9ZXxqu2T6cLm2OR44yjhrd263KHeduCh3xPecN0Q3WPcUtvv2PfXJNeb1b3SANG/0vnRk9OJ0vPOz827y0LLsclQyO3F/sOTxWLI6cthzvrOONBq0prTCdSX0AjNS8rYx6fFLcSUw9bC5cTnw6vCIsP3xIjF4cMMxr/GSseAxyXLdNB81MTand0q3mHj2ejv53DpJObp5I/izN8j3gzZe9l01uLVC9I01IbXsdeg2krbS9nx22Dg/t9z3wXipOaM56TvBPA+9L74QPtU+6/7RfrY9mX2AvC57hvoQefU4jbiLeBL3E3fU+Bn4+Des+L95EfhjOZd58bhR+Tz5iDlH+s47Hrtn/Me9bjrbeWT5y/jKuTY4Gjc2NTh1T7Yus132ELXx9MO1hnXc9Me0mnelNgT2gTfWtWp1+vYBN5l2YPcROLj1SXgidny2KXZvd2G1xPYJNca1qPeP9p+37fZXt494ALktOB54VLjIOZv7Q7lkuoD7CjpyO5Y687yku9d82HvA+x18Gju5e3u6K/vqerI8nnxY/YX9P35MAD79Fz/Ufot/9r+E/ts+ln7DvyV/Pf9bviB/KX3lPwl+/vzPPyt9gz6AgGj/h8A2wj/Cs0NABQCE1QWeBZtGbcXCRsjGUsbZRulIkQhkheRIZcW9Bp2F1oSJBNJEGoSxgxnDEQKBgsxD00R6hGMFdYaLBz0HRUg9h+8I9MoLSfSJ04qlyoYLqYsGywpKukqtCmaJ6kmSCUTJ84kQCVOJmMloyXqJEonmym+Kcouri75MH00wjUQNqY5cDnUNsM55jn6O5s8ij0QPJw7wzu0Of43cjcmNgYyEzFzMPQsji1bK1onbCwfLMYtXjC/LuAyQTQFN9U3Ezf8OUw7KT1VPRU/+j2lP6s/VDxXOQU3tTaQNHcxKi7xKzknZyczJK8idSJ5Iw8kiyc5KdQqRS7rL2gyJDI9NKMxVDT4NP00rTMhNJA2/jaEN1Y4QTbsNqg36TX7N6wydDThM9cyCjQ6McEzoTLxMuIxYzAPMW0vdS87LWwteSkkLIEqLSiJKIolgCfvJsMm1iM+I7Mg6iK5HrcfeB0EGTEbkRe/F5sYWxeHFZ4V+xA9FG4SxhLbErEMZQ4IDD8KCgtaB0oHQAm1CDcKRQs1Da8Nqwt5Cv4KIQpPCfQHfAMdAksBBwDOAcD/8QBW/yT/aP5X+1/8/vkL9mbx/+1462brUunG6J3lwOai57fn6Ou864vqTepn6DPoY+dG44biX91g3BLbk9ki2SLXwNZs1MjSoNEoz/vLTMlXxgTFxsP3wy/EQMXTx4PJtsw9z6bQZdR41aPVGtUg1DTUUtNo0qDRNdL60KbRgtEi0EnRa8+OzdfLS8lDyUDH4Ma7x4HHQMoRy2DNzM/10HbTrdOd0/LSStLn0JnP/c/YzrTNU80czJXLtstry/rKL8vByb3JB8oSyQrL5skhy7fMPc1w0YbSGdUf2HzZOt2b3v3fVuNm44fkMOVv5a/o/uei52Pmj+Re5S/mpudA56HnfOiG6m/sX+1N7Qzu0e918Fvx//As8YXx0/HC8izzDvSV84v0D/UZ9OLz4fEc8iDxPvGM7gDtde5R7sLxaPGZ8oPzAPWA9jD48fkm+bv6C/pO+x78Bfxj/Pn8//2O/rz/fwBIAJ0AUQEgAHkAXwAlAAYAMf+U/6z/MAA+AdoCHwQ3BdgGmQc+CV8KkQqECloJhwmXCGcHFQdkBo4GvQUwBbQEGQSqBDYEPwOHAVABIAEzAcQBfALjAokDEwQEBG8GAAY0BmsFmgS2A/IDHARPA7gCpAF8ABwB7gFaAb0C9gFGAfgADwKHASQDFAMUArsDwAM8BiEHmgdXCIsHKQmICakJ6AmrCXQJ4wjOCBQIOAg6CM0G/AUxBq8G8wf9B8sIswi+CfcKGQvcDF4N2Q2CDV8NDw5uDrwOOA+BDucNTw5YDvoOVA+3D2kOug67DtwOqw5nDtQNUA3UDIsM1QyrDE8OSQ52EHAQfREOElQTFxTVE/ITjxInE+ESoBI0EscRHxFdEfoPwg87DoANMA1qCtAJGAinCNwHCAhKCQkIqwl7CUcLxAvdC9IL7gvtC4wKaQqSCCgJoQjYB/0FBAfxBVsFXAXCAjYC0f8XAFv92/y0/Fr7rvu0+8j9nf1Y/q//m/4x/ur+dv43/l/9Fvze+R/6QPqG+FH4gfjW9+z2gvcP9gD2WvaY9cv0E/Rv9M3z6PP69IP0H/UD9pn1y/Wi9l32QvcV9wb2J/jL9s/01vfS9oX14feq9tD3KfjT+fT4tPcv+SX2X/hr+Kz2/vUL9//6XfqZ/Pn8/fyq/iX/ugGM/V3/DwBC/Nn/r//W/tn/egCp//gArwdmB+MEaQfaBfkDdAYHCt0HzAb5CSQK7AquEA0V0hD7EpIVQwtICbwK7Ae/BzkKkQnvBGgGJQhvBJIJDAz1AwMGtgjwBzsHAwr+C6cHcQk1CVsIRgppChILgAqYDBgMwQlyCFwFxgPWA03/7ABPAVgAkARSBWwFYQRYCDMIkQXSB5YIvwZ5B6sGcQT8B7IJ1wY/BkQJVwSNAyIIKQUNA8oDmgSY/kECpQPnAZcHTgisBx0JaAssBuYK4xG/DXsL3BIVDiQFYA2cDG4GHAuREXQIdAVADKEJ3wi3DK8McQaLDIEMXgebDe0OTgxyCccKyAkvCKEJAgv6CmkROhLhEC4QuxAIFp4OQQsBDVwPowv1CQ4Sjg/4DBwO/w9EDhwRHRLcDAcSJxMPEMgNGBFdDlsLWQ3YC5ALgw3PDBMH5QrtC4sFDQUHBvUGAQTnA38D/wPgBSoEgAAeAUkFgwDkAkkCjAKHBFgBTQKg/aT+QP7h+1r+IfmJ9nL6qvtw+Cb5N/mu+mb5Kvmd+fT45vyM+Yz6kP28+pj3xPuE+2v2VPmU9zv3cvid+Fb0pfTy/MX2ufPQ+Ln0j+8H9Wfy0+tA82b2LvA07/X0XvG97xH7PfgD8Jr2KfbT7+jyufJd7sLsZPAz7ffpHPIu7/PscPb88irvyfSw9RbwYvEH+xX1GO/f8gL2lvRQ9NX0pPG89xn6J/cR+C75NPpV9oP5OPur9U73J/tB9534Jf5b+Tn2XfioAWP9V/fl+rf84f37+l36wfoyAFn9GP27/A37rP8//Gf9kf6n/tP9WfxX/oT+1P5S/1j+Rfvy+5r9zvyw/S3/EwDp/twAFAB1/7b7Nf0I/3H6x/sf+kz8vfzt/C78GvvW+Sv7h/yO/jP+CfkL+B36jv56+yr+PgAD/ev77fy3ADYAV/2S/Gb74vmw+Mr2gPk6/UP8Vf2z+fr4XfpI+Zf8ZflX943zgPj29uz0FPtC+l35P/de99j38fv8+YD1XfXd/Kr6ZPZl9xn29vvx97H0afkK+Pn3evg9+rX4v/eb+kT25vkc/TL64ffj+mj5MvU//Cj/TPiZ+TH8Fff0/EH8qfkv+8z6D/1M+sL6Sf0e+RH+m/6T+on8gvy1+AH1Kvor/Br9uPpD+ib5Hv2Z+2z4GPt2+f37Zfpu+tH5h/tFAN3+Tvy1+vb6rvwV/c37Cvxy/H36Sf0I+rf4dvlg+0j6ivTW+GL34/eo98z2MPUr9sb0APXu95D1zvfb9Jz2Uffv9b/23fY79Z727/ZN9dH01PMl8znxY/BP8ULxYu+08JryU/IK8vbyQfAm8yTyC/B88jHyqPEg9cPyse0t8azx5PFC8KPyufFa8vDysfGZ8c7xt/I38if0pvF98sfyMvWj9fP0C/Nr8UP0uPQH9gTzs/JN9fHyq/N889r0LPPX8qz0/vR7+a/4hfbN+JT48fT6+an3L/cN+sv8ZvyC+oz97fr9/aL9avqg+0f7MPyb/W77bvzE+uP5MP/I/l/+4gAD/3MAlQCHAT0ERQVkBAkFVQb5BG8IeQn/CxcLUwtyCVgJ5AdbCAsLIwj5CskKswmkCesLwQweDUcL/QsPDdgMBw/2EEYQVg47DtYRtxb9FOISzRC7E7UUsw8OEvcUahLyERcRFg+nEcgRwBHlEcMUUBIuCloQyRC3EeURlBBzEy0SpxPdE3IVrhYcFzoXrBaqFCMW+BWDFZkXehOcElkU7xLaE8cSKRX1FMUVShYWFfUX3hVMFk0V3RddF8UU5xNyGRgZ+xhvG08XghpUF6UWnhUGFdwWAxYTFsgVKxTqF9wXFxlHGY4WfxnnFokXjBfKFQsXpRZ1FsUX8BSMFXcV1BYXF4USoBEEEgwSfRLhEX0T0REyEvgUdxMMF5kV/RMKFn0VYRPoE1ATDRYwFYoTFBSLEvgUtBMsEncTBRPkEIARtRGtEHMQ9xE8ESsTWhOYEtsSwBHeEhER1xFaERcPoA4IDx8P5xAvEYEQvw41DvAP7wyjDnoOxwryDI4Nig7tDvwMNg49DXgMYA2lDrEMRQzUDLALJwyOCmsJjAqsC2sLfgoRC3wMWgujC7EM9QmZB8kJswc9CLoJqwgmCVIHBAgPB5AG6QeQBgAGigaRBLACsgQNBEQCywH4AWUCdQDeAMUBLwCa/1f/q/2o/hD/zv4nAAEBRgCi/jH/tf5Z/OL99/sd+1L8xP3l/Xv8Ev55/Nv7R/sR+7P5xPty+2/7K/6U/un+AwGEAjMAXQHk/ZH8v/6i/R39qvtc+gD6xfhU+JP4xfac9mL2Hvct+GH1DPa19zb3sPXS9B/2tPa19nn4cPlR+DP6ePmj+Oz5uPmC+DX4BfqE+Gb4g/n89zX4+fcU+er5RfnX+Rf4g/hA+AP4zfe99e/1XfQH9Af12POT8bTyAPKV8Jvvnu1M7lfrzep86uvnVObO54bpNOgD58jlMuXy5ufo5+lq7f3xlPTB9Mr1MfbQ80HxK+6S60DtOe/j80D4wv0AAksDogQZA7AAKP0e+r34dPjZ9tT3o/jz+U732fO98iXvrO0l6/bnqugL6ozo0ef85u/mDOY85a7mrOdc6fTr7+1T7jnvUu6p7WbtZ+y37NLsNe7/77DwavHA8vHy3vKM8VnxPvI58ZnyZ/Pn8mPz9vKs8Qry4vGr8dPx0vEV8hPxwPAg79btDe2j7OPrxetI7PbsT+w77GXt8eyr7Nvqn+oK6nnqvuvx6uPq0+v/69Xq8ul86aTpQOgj52XnfObz5WjkXOQP48jh1d/f3hbeg9pd2QHXudTI0ezOTs0o0FDTOthA3/Hl0esB8F7yI/F47u3qL+cQ5eHl2erE8nf8ugeKENgYGBwBGzIV9A6oCE4Cnfwo+1H9Z/7y/RT9wv3++lr3mvEm7iHsL+rS6Dnpi+vE7eXsde0P73vvQPGa8//21/qZ/Uv/ggFEAjgCOAEsAG8AZgEGAoUEOQbKBgcHFQZCBVoEWwJMAVgALABvAV0CkQObA68DZgPsAlsBQgAwAAT/AP+r/yf/Zv7R/un+aP/h/zUB6gFvAlAEKQVJBp0G8AVeBeAEcQSFA3MD6gP5ArICCgKR/w792PtV+fn23vVK9nv1WPWA9vL1QfT/8WTwBe5C7B3oZuVD5LXiYuCy4Krl2up88GT5iQN1CRkOvg/4DQMKtwUzAZL+XwCGBuMRCiFpMfc/9Up2UeFOz0RdOkAvpiTjGvsVxhWkFr4W0RecF8wWJxFnCkQFrv/n+wb49vaT+Jj62Pu8/7MCQwZPCQ8OgxJ5FckXRxr7G88cmRyfGlEacBrLGqIaARxOHksf9x4eHxweBB3+GXEXjhbrFNcTZRQhFRAWVxWdFRoWLxSpEmkQvA5+DDgLYQs7DbkPvhKZFacYfxr8GVcZ3xckFuETORMGE8kT+BX7F4walxtzHEobnBj3FKcPwAlSBL8A8P6+/mD+tv7b/rv/GP/g/Nz6uPgH9wn0rvHc8JzwtfDE8OnwIe9M7U/rMeyt8FD2V/7uCLITRRppHsYerhtlFCsOCAnBBhAJ7g/tHZAvbkGaT3lacF9RWu9NREGRNNkn8R7DG6ocrx8LIqoj6yLgH+AXbA2CA8b71PT670zw6fL29kb7TAEEBrsJuQ1dEQYUxBYyGfMZiRoiGuQXjBWYE2wSGxGQERITNxZpGXwbgBuHGRoXWBObDoMJOAZHBO4EfAbnCKENPxGJEmURLQ76CTAEYv4H++36WfyoAD4GLg1kE68X5hgQF+ETZQ6LCIIEqgOnBIEIbA4nFGQZjhzFHPMYVBLdCocCiPr383zw/+6775fwzfEl8n3x++4t7BnqfOf45mDnnuiL6krsK+5b7ljsG+p957LjIeCF3cLdhuIi6VbxHvzpB2EOVxFOERMN/AUd/0P6tPc3+h8CVg88Icwy5j9QSYxN/EeYOv4r+R3YD9QEAAD2/z8DpAY/CakJsAfQ/wv0Z+lE37fWFdJs0tTW3dze48vrQ/KM9uL5TvwI/dL83/y6/OP8v/yX+if5i/fc9c302fX992T6If4QAgUE3QNqAl3/xvqe9bPx++/28Gjzcvfq/O0AyAEFABL8K/aR7hToFeQ85H3mRert8Lb3yPtv/lL/Ov09+VL1NfIs8UbzY/ZK+6IBAQcACiYLgQkfBT7/9/kL9MfuVev/6arpben06Bvo0OY35BTgjNzk2ZvX3Nak18XZRtxR30ThLuLQ4cvguN4H3HHYNdZp1FXSZ9DPzw7S2Na/3IbkGu759kn8mP/x/wL8ifbf8OTsXOse7iL1TgFaEN8deCiCMEYyvSuwHwUTMAZu+g3ymu9w8Sb2ivrI/c3+6fv286Lo1d2T02fLrceiyObMctMa25bigOgE7JntBu4c7FLqP+g859TnE+rb7NLwB/Y1+0v/4gL6BO8FTwYLBfUC7wDK/rv9+Px4/TH/AgEiA3sDjAO8Abb+aPrh9PfvAexZ6LvmbOdW6anst/DE9Kz4YfsN/TL9vPwi+2/5pfje+MH6DP0HApwHkQxpEGISIBLDDrIJtwKW+4H1WvCA7QHtC++D8Q700PWg9VLz7e4y6j7lIOJH4EDhJuRp5wnrQ+367m3umeyQ6ZfmVOTI4TnhS+F+4nvkE+bv5/zpeu5C8kf2tPtYAX0EiQVRBXUCuf7C+Zv2vfXN90r9HQWYEC8cayU/LNIv9S7VJ4UgKBnLEfEL7wmUCgYMjg0PDUALtQUH/vn0TOuk47HdT9sW3ELfQuQX6VDuRPHc8mnzDPTD8+3zAPZe+fz9rgL+CK0PDxU5GjYePSEqIpsiDyKoIOkfCh4GHZcciBxrG3QaehliFxMUkxC1DcoK1gc5BiYG+QaiBoQHdwjTCMAITAgwCGoH8Ad5CG8JNgsqDWcOCxCPEngU7BXNF8gZFhs0GwwbFRnSFhQUexCbDeMLuQp5CTcJaglHCJMFGANIALT8BPrh+Aj4mveT+EX6oPp9+wP9r/1E/qr/YgEeA+8E9Aa4CBYKwAlJCJMHGQc+BokFhAYwB1sHDgfGBtYFZwO6ALj+Kv1r+zj8hv89A3gImA8AF6wcuyEfJmYnkCi2KOknzCehKa8rWi5AMlQ0YTRQMl8uSCbBHa8VTQwZBKr/zvwE+6T65vte/IT7yPoc+vL5mPoG/P7+jQM8CAYN0RBEFdgYAxzoHawf9CHWIrkisiKLIkciESI7IqMiuCLYIvAhoiDCHiMcGxoCGXAYNBhHGOgYGxjsFTYSQg00CIAC+P2S+yb7Zfyu/iwC2gRYBs4GOQYaBTIEuwRcBmwJRQ0HEJ8S8BOaFI0UvxKnENENnAw1CwsJJQjJB0YHFwbJA/oCyQLKAcEBGAGAAMf/zv4m/tL9Mv4k/vr9eP/p/3T/YwGzA8kC3wCN/8L+z/6K/vr/9QCsAnADJAJ/AZUBrP87/dj8Ivt/9y71HvaN9535Bfrv+Tn7iv3S/b/8Nf4c/zT+i/7U/Mn7wPzM/Mb93QCJBN4FmwjpCpIMCQxxDB0NVQz1DAIM+Av1DPQMfwxVC9EJ0AjZBhYD3P81/Yz65/lF98z2/vYU94b4hfhE+gT7mPte/c//bAFHA4YEcwR2BHcEFQSCA84C6wPZAlsB/f9Y/Uz8qvpc+jH6ifh49hD2O/XH9CXzDPHP8L3xTfL08rbyzvMl9C31CfhF92b1JfT98gHyE/Es8DDxHfJ59B/2q/gs+bf6Pvx7+mX5ZvjK93v5q/rZ/Lz+qv2s/Hz6EfoV+cf0DvIS8evs7+qd6Hbrnept5gLnjOX64trgaeAG4f7hUeIv4/nhTOH35JfnO+jm6Mvnlun/7SLwdPLx8jzzT/OL8Fvz8e+I7BvvDfGg7kLtjO3v7eHsa+kg63LoNOjk56/jqeMD5Fjk2eQf46PkHuUt5hfmpOUe5ZHnx+wN7q/teu0c7y7vjfLr827xsPHQ9B3zo/An8gnwou/T8PXsuukO7B3t3+n46IzouelR6GvnfOUL5EnmWeVM5mroUuvd7Ibxk/NZ9ev4Y/m2+8T7VPiQ9oj1rPg4+Ej3Ffsc/SP7KPS+8anute3+67PnzuQk5nThceEq6cvntubp5qHra+pZ5wvrKPGh8Z/12PTl9FH73PfD/Vb70f20Acv9Tv/9/9f/tfwhABD70fg+9sbxMvJs7b3wHOxs6NHvJ+3H7DnstOyU7pPqmulk6qTsle5S7ADvPvnb95P8Y/+F/xICqvyN/aIA+AEYA1wFJwnsCJkBagG2/iT9W/lq91X8+PMh8l33wvaW9a3tJ+1s8DPpResb6j3pG/Ku9nP2S/me/U778v0XBdMDSP/8A0gJRQZdBy0PEgnHCAgNVgPWBAsEkgDoAIb7xQGr/934qgAm/MT8LP+z/dz5pffi+9IBZgTPBGYJ0wm3Dd4PdRWXE40TkxJdDqIOhxJeFM4SEhSNF8sSAw61Du4H0g2RDoMG7vrUAWkF1fpMAPUFkQAq/RMA1P+K/4sAqwMOAicFugfF/20Fzw5jC44KKxGJErIKQBFVEhcShxWIFUAUCA2sEh0TaAa9B90MEAmPBhEJ+wQ3ALMFNgMTARIH3waO/gwAHgbyBdQCAQ66D5EMyw91FCsOEBFAF+0NzRbJE/0SOROHGMUThBAjFugR8Q4lDnUMyAf2CJ8HVgWCCBcJswUbCqoJXAnMBc4MvQrkBCgPVg/FDFUSrg63Dz8VyBS6F0wUEBj+FF4SRRTNFxoWFhYWEq0RuhJwDw8VUxHBEZ0QfBBCEIAS5hCtDn8PXBFyEeYMkRcIGGQUOhflFyEUURU5GaITcRuRG/YSLhZTFVQZMBX9FB8ZEw/HFPwRkgvHDpgTjA+MDmsSwAyjChQN5Q/3CS0OyQ1DCl0N2g0EB6sNaRAPDQQIgg3CFRIJFQzBDKASzxCyEWcTzwteDykQyw7PDeUGEgrXDuAPzggFB8EKwxAiC3EFDA/KC9wNYAomDsMKpwhDDJkQaQiVBLYL3RAcDCEG0A0ODKYO4QpNCNwLgAt5BnwDeADBBzsChgWOCqj/l/6OAuwHKAI8+5EAVAXQ99IBEv6s+4YEXgSmCQb/2gR9D1MBqwJbCvH9WwzRCPsELgeoB10M7wExCh0NugJbBZ0MWv/OAPMHVwn3CbwE3QmICtsK8QMNAAwNEQQOBDAL4wZJA4ICoA2lA78Dugm3/q0L2Al4+Tb6TQYwBR38j/+YAE36ov11CVb50fo6/1z6H/y1+yL9Kf7IAb0ARPwS////5fof/yf6yv+Z/bb57vui+ZgC5Pej+bf65vIP+zz6XPZ4+W34xPT/9hHztvr49k73zfv88B/2afrT+jD8nfSs+Xf+GvbI9pb1Tfa0+gH7dPQK8mbzefmQ9wb6RfxY9W/2HvNL8wjvLPYc8gfvwPNn7OjxuO8n9aDyyu6J7jXvd+5s657s4uw68GHsA+7C7ubte/Fe9e7s0u1s7Q7tDfIm7z7wlfA87pnqZezm75H2AfA262Tuzuko8+PwOPBs9trvkvTt8p7vjPJQ82T4uPKc8vH2sPQw9Zn5bftL9/71o/E6+dr3Y/iu9lvwbvQv7CjyX/VB8u/xxfHh8lbyFewm6m/0vfGW9SPvbfHi9UDxB/dO9jn4mPo0/hf58vZ48XD5wvvN9p75G/hz+NX4rPa29Aj2cfWa9mnvBvMg82Tun/R+9vDwYvTo9Lbz2/Lb8rH1l+/V88L0HPJv9ZT3+vV49gT29/Ub89/3TPpm9hn5T+/l8/T1yvUj90bzP/Yy9VrwtPOh8o7xWvif8EL0n/C28Dfy2PVw9R7xHPML8RL3K/ez+On4QfYr9IT6XfbS+tX6IfTp+WrxMval90/2Tv9B+Kn1hPbi8Tj2xfpD9Zb1kPaL9o/1gPVa/KT7D/xF/Dv7Wvv1/h8C4f4RA1EF/v8x/30DCP+XANkD3AIJAWP90QTaAswBbP9hAab9vgBO/kb56P+3/pACOv30/NkAAf+R/ZcBOwFu/+YDWgbq/dgBMgGGBawI3AJGCaICBQWEBCUFZwayB4cGzgNcB8gBJwMY/7wFIwhlA0oETQCT/w3/gQXcBtAAtABSA7QFPQYHAXcC7ATdBvoCkwGnBTIGQQUQBjYBxgEgB+kE9gXzBBgCyQFCBuEC4P8jAwwIugQQBLUDNf/8A0YI9gZOBooIzwcLBg4IHwk/BwoJ0Ad8B+8HEgepDI4JZgq0CuQEhAdMCLgJgAs8DLsFUAfLBasCtgiADLUOAwisB14GtwcJC4EIHgzVDJEOYgulCwoHBgkfELgQnw0PBZcLRA1fEgUPywZ1CyYL/QrlCqIIXguGDV4NQAltCLMHtAriDh4KjQeDCA0NsA15Cd0I5AvsDSsMQQe4CHAKmgvdCxkOdg5GC3kHcQnECv0JXg3ICOEKZAvDCPgPHRCBC8wLxwl+Di8OkwqNDn0PHBSDDq8M1A+cDlQTNhOjEfQTChLVEhgUghbaFYcPyg9fEoUTKg8FFQ0SBRWvDkwORBKUDtgTGAzhD64KmA5vDk0S+BNRCYkLxQ03EHENUQ4nD0wNEBE3EToQfxL3DooOeg3vDNAKrwgvCkkU6Q7wCc0LBgITBxwItQq6CXAFjQebBZAIKwbMAA0HXAwbBykI9gZqBHwH6Am5CmYFxgR2BoADBQn2CeEDSAj3BnAGgwb9Bx0F9QZGCU8DOwV3AVUG8QddCIcKOwJIBg8DdgMhChwDsgT3Bpb/gwMABNYDRwksB/YJn/82ASAIpgGCBIML4gYhBCwEmgF+AvgFjgSeAHcBiP/d/af+RQGi/+b+bfuZATL8rPv0/yb8EQNV/9T/0/1f/ZoE2wAhA2MC7/2x/VcAOQX+APwEpQPg/8H9pv2Z/tkAMgHC/AT7nvuD/hP8lwPq+Qz5HfwG+bD3sPU8/N0AXwNv9qD8A/l3+3n8BPiJ+y757/sk+jX4pvL5+HH5I/8i9UDwXPRQ+7D+HvZb9RLvG/Rs97r0zfI59Mrwo/iP9xrw1PGC8Nr2nvhF8JrzL/Y+9Yn3YfSD9jj4Lvay+Zn05O8V9gv0NftG9MT1Mfhh98D1WunJ8l/znfhn8sLyRPAl6nzwe+528kLtPvNe9O/ttOs67H3vnPPc84Xw1utb87PxLfGi+OPzEPQi8aH0g/VD9u/yNvY17qzv0PKz8Vr3IfFu8IDy2+5U7vfzNOyr9Un0Ie+N7svvJ+1u8LT2+fQj9L/sHvWq8k/0kPTU8NXxI/d48nPy1/Qn8rj1RfIG7w/r3u+58xH1mvWg8a3tQPaQ8WLw7vHT9dP1GO7h73nsj/Cw9MP0e+8O9CTvFO4r71DxJvKz78f3tvJ481D0XvIF9oj0kvQ+9dHz5/XA9L/2bfTw8kvy3PWL83vyCfVH9Tz0Ku4m9ZHxkPVP8yfyc/YA8933VPa99i/4e/ZF9Vv5N/gh9p/5NPi69q/3bfn19033tfca97T1NvZB+0T6N/le+Lb3vfai+Qv2lffn+Zb2L/ok9jL6hfc5+J74ifeE+rf32vhH+fP6Zfnh+Rn7s/oE/JX7T/uZ/eP9y/3R/VAAHQAz/qf+z/4l/Rj+1P7R/f7+6f0j/qX93Pow+jj6aPlf+7P2lvlG+i/6VP1Y+r78Uvsf/S7/Zv0y/MX8Fv7y/nj/g/yt+w//0f4xAVIAKP6o/sb+sf/Z/0b/c/1//q//0AAR/sD/eAArAjUEYQHjAjUCTgN9BKcDcAWMBUcGygiBCHMIMwg5CCsKBAqgCNcJRQo4C/MM1QxZDKsL0gu+CwELvAqOCAQHhgceB8MG3AWvBygICQg5CNEFJQZfB5YGSwcZB9QI0wgXCbAKJApPDG8L3gw/DVoMkg30DfkMiQ86Di4N6w5pDrsPdw4fEBISRxKeETsSORCTD5sPuw63DsQN8A29DD8OoA36DEANeQyODSkLwAqFC0kJ3QkBCjAJ7wfLCKMJMAiFCa4IQwgrCQwGJAbrBvwDtQQpA+ECmwKaANIBCv+z/43/qP68/wL/ZAKHBKMHEQvuDLwOrA0yCycJBggZB+AIpwzdESgXYRzUIVIl8CUPJr0jISF1H5gbQhktFwgVgRTcE38SyBA/DjIMUQgnBrMEjAJWA5MDGQSbBf8HQQqaDYoQkxJJFA4WyBeYFgIXShfxFrAWbBewGJYYPBmtGcwX4hSnEvUOdAu4CeEJZglXC34MkQ2vDo4MdQ1QCy4K1AlSCIYIXwijClMKFwuXDZ4MTg4KDxUPNhFpEE4QYQ8KDoAOGA+6EOcR7hKWFFYUnBTvE68QYRC+DmkO6A3GDH8NLA1wDM0JMwbbAWL+vvox+IL1f/Rp9Lr04/TY83by8O/N7vjsA+4I7x3vbvH58d3wte/u7D/q7ucj5vjlmOhT7pL2tgC9CIwOIRBODUMHWP8V+KHzcPQa+gMDkQ6jGmkoVDMDOBc2aC/MJ3Qd6RQ9Da0IkgfOB1YHuweNBc0A4Pxd9oXxlepz5bvkluQY563qj+9j93/+DwZxDMIQrBMpE7EQXwzPB7cF9ARNBiEKgQxqDoANcQooBXL9mPTK7NXpA+pI7SzyyvWH+lv+HP/J/ir8kvmO93P32Pfs+V/7/vup/eT9aP8l/pT8rfua+Rr5DvY09LLztfIb9CX1v/iI+9P9AP9o/vj9GvwK+k35IfoF+hn7G/xU/a398vsJ+vP25fJw8Ijusu1X7ZPtO+7Q7Vrs3ukg6IfkCeJN38ncldsI2rfagtsG3dneEeEU5VvnUur+61Hr1eg45Efg6tpz2CbaXeLH7kn7iAUVDEsOSAmc/07ySOZ23l7crOIR7rL8ag3ZH+4wtTd4Nl8uTSPdF+IKuwHp+8L5ofpE/FP9DvpZ87fq/uEf2aTOJcg5xKrETcijzVHUmNyA5jLvGvj3/H0AIwGr/Sr6Dfch9vn3GvxeBLMLrg/0EAgNgQdN/snxjecg4Nfe+uCr5eTsQvHB88vxDO5t6ePk+eF/4ozk0+Yn6YbqRe1O7yfy+PU5+iL+OQLkAusASf6D+Rb1b/EB737yOvj6/4II2QywDocK2gOn+zLz/+w/6hnsffFC94T8SQCLAB//UPvv9rnzuvFp8RD01fV992b3+PRs8pXugOsL6fPnpefx52boCuoT61Xsdu1l7SXuIO6o7e/rJOqs53XkX+E43QLb4deu1e3UYdiQ4DPqZvUG/+YGoAcKBBP9NfT665boEeyU9oIFFRmQLy5DSFAMU0xO3UGtMnwhmRJuCAsCOQCi/8b+5Pwm9Vvs5eFu2CPRNMm2xt3FaclozKrQ+Nat3pTrWfc3BcgRThsbIeEhASDKG8EXvBSPF0IduSLCKMIrDiwZJ74bdw7v/0v1qu2y6iPtJ/Lz+EP+nQKpAxUBufz9+Mj2xvbX9pX4zPpB/j4CtwUICksO5hMpF6YafxxFGxUZKRSwEA4O0QwFD7UTMRr2HjciYSFyHSoXfA5hB/sABv+J/3sC/gcXDFkPlg5zDdAKwQZeAkP/fv6V/cH9xP1p/tr+o/76/bX8K/tv+hP5L/iJ97T2SPes99D4d/nt+fz5cfnH+B/2WPPP7vnpSuQW35bddOF86nv3bAXAEoEcWB/hG1kRSQUq97TudOxM8rr+iRAkKFc/71GJWkZamlLQRTc2uCZeGqcStA4JD4QQWRIyD/EITgHr+G/wE+dO4FLdL90K33jhIeSj6T3yOf12CvcYoCYnMdA2JTgaNXgt/CUGIsIinSevLIE0ZzqZPLU3aS3hH+URuAbT/T36i/oJ/igC+gS4BbYDo/6D+eb2u/YX9xP43Ple/UAAhwHIAp8F5wmFDsETsBkUHlogYh+GHGgZQRRHEUcRCBQcGbsewiJAJaAkhSAGGhcSxQogBZYAdP6q/6IBwgS7B5QJoQoRCdwFcAJh/jj6dvY09c311vcT+i79gv/BALoAlP6a/I350/fD9g/33PfT+Mj6kPyw/Rz9NPvn94jzWu7i58Lhft2x3SHjOew49xoDOw3tEv4SXgyMAnr2xewI6UnstfagBw0eXzYXSwRYN1yJWL1NyD7NLywjfBm1E0UR1RD8Dw4McgVT/DLzQOl439HXZtK7zjbMGMqmyg/Pttfx5Ef1pQdtGiophTKUNSwyQCqxIE4adxfuGDYd6iOzK6gvHy1lJXwZLAzm/iXzIetE57vlAuV+5UblqOTX4oHhO+JT5HDmV+cO6Mrnj+dv59bns+oi8Uj6IwX+D3sYQR59H4wc/xfcERMM/Ah8CDELVBBwFb0ZEhtiGTMUEwvXAS/3je4P5yTjBuPx5D/pyu0g8z/2gPjh9+v1CfO/7nDrFekf6T3rOu678kj2Jvky+hv5c/Zx8vjuuOss6iPpQOm86brq3uvI7Lns/OoY533hlNpc0uLKUsjsy7TUsODS7af63wLqBJf/m/V65y7bn9S71sngG/KXCUQkbz2vTeRUT1IXSAw4HSYIFU4HS/0L9wL0RvNx8frtH+hE4QbaNdGCyArBLbzcuAG307icvqbIHdfb6H3+lhPOJY0xHjdWNfEtiCOrGLURyQ6kEOgVSB3SI5Al9iDpFnEJX/qE6lDdNNQ/0PLPR9G908fWadlS2p3bed5Y4rvlWugp69HtPu9c7y3xRfUW/H0FRRCvG4MkyCiwJ2MiGBnVDVAD3/tZ+bn6TP9OBXEKqQwqC0MFYPw68vfnqd/O2fnXz9lE3vLjO+o88S/3bvuA/uQAsQHmAC7/Vv2S+0n5v/cL9yX36Pft+Ar6kPrc+aD2rPEu7KHmv+FU3nvd6d594azk2uVm5MPfNdjuzqHGxMK6xULQk9/V8XgDVRDOFSET+giK+tXs8+Pc4o3qO/rREesto0g0XHBlSGQ5WS5H9zG8HIwKK/wK85bvXu8i8Obu6Ovx51Limdsm1LTM+savwkXAb8Fox/bS5OM/+q8Usy8SRmFUtVksVQFILTZMJHAXWhF8ErkavSYSMp439jSNKooZFQQq7s3b38+6ym3LJtH22dXiFepz73bzPPYb+I75SPs4/Zr+CQDsAU4FFAuREgcc4iY7MbA4gTqSNtotAiJ0E2QGjP2a+Tv7BAF7CYcRRBYoFqwRQAlH/p/yE+ow5vzmfesw82X8MQWPDAURnxOWE+8RuA8uDT4LkQkFCBIHGwajBewFvwYNCFkIbwbQAgP++/eV8UDrD+cm5tnnp+si8Kj0UffY9lTzf+xZ4+nZ2dIc0uvYGeYP9+8J1RtJKJgsGyixHW0PIwLf+NT26PwZC+kgzTsnVrRpiHMIcy1pC1fuPwAnxRHRABn2nPFL8or21fki+275CfVQ7XTiAdeMzEbGz8TDyLHTVOT4+VASfSsFQ81UYF4YX5RYbkz1PGAugyM9HzYheCgfMvU5FDwbNososBTm/d3mxtNZx8/C3MUazt3YuuNW7QP0jfgi+038o/35/okBLAVZCRIOrBOIGmQiPisPNKY7HkBkP6o5iS9UItQT9QZC/nv6RfxoAlIKrBDdExwS7wt7AtH3+e7J6Yvpie3c9JD9/wUKDTwRtRL6EcAP0A3WC/AKmAqXCh0L5QpoCn0JLAhaBz4GcwSiAW/9Xfhp8sPsq+jX5rbnHOux7wr1UPn2+nT4hPKp6YPff9VFzlLNp9P44Q/0qAcfGWklzil9JTIaIAp5+nXv/uup8DT+ABS1L8VKlV+9akJrxmBQTOcxSxZN/7ztg+N94EnkfuuG8Q/0B/Iz7KjiFddlyzHCLr3zvbzE6NAh4WH0yQkJIKc03UTrThhRtEwKQq8zsCTPF1gQLA5ZEW8XZx3UH3YbHhAM/3nqP9Wwwly2+7G6tWW/xczS2tXmBPDJ9aH4Sflm+T/6b/xZAP8EdQpXEBUWDxweISwl3yd0KJkl8B60FaIK+v7O8+zqXeYI5nLpne479Oj4yPrW+QT2vPBI6/7mZ+Vw5izqGe+u9KX6s/87AzkEOgTMA3MCnQAr/hX8zPn79jH0XfFp79Ptk+yl62bqrejg5abisN9n3QncS9yK3sbhwOUV6bvqZepd5+/hKto/0bjJusauyuLU9uM69fkFtRLeF4oUSglU+ZHokNtf1u3Ziudm/rwb4DkhUY9eg2B9VuxBbia2CuPz4OPF26rb5+HY6uLxH/OL7qLkD9dpyHW7VLMWsQG12b51zSLfzfHeBH8XjyhNNqY+XUEZPs014inwHPAR7QrECKoKOw/zEykVhBDDBLnzmN+gy0O7H7FCr9C0M8Cpzujc9egF8Rv1DfYc9SX0WvRd94f8GgP6CSkQkhWbGUUcwx0dHlIdMRrIFDoNmASC+w/yi+o75gzlVuZZ6aDt0fF09Cj1E/Sm8SvuBOtM6bnpquvH7trySPd5+0n+yv+lAIoAlv+i/WD7T/mx9uDzAPHD7jXtx+uB6njpQOiG5qbkfOMJ42LjN+QL5uro+uvf7uzwWfFg7+/qYOS/2/LSis1gznfW8+PI9D8GQxTEGpgXuQsk+iXnQ9in0aPVneQU/vEeZkDBWhxpCWuoYPVKhy7rEZ37Bu6l6BHrCfNz/VUFZQY8AP7zQ+R5037E5LpAuJK8ksZr1ejnnvv/DhYh+zBAPcRDjkQkQGw3fysdH9wVNBFEESMVeBt/IS8j5R0pEVn+seiJ00HDfLqIuh/Dy9EO49/yGf5tA0MDVv85+nb2WvYL+yoEjA8xG7Qk7yqHLZwsXCm5JHwfKRomFdMQqgwbCKcD4v+B/fb7Qvvu+4j9yv6j/i/9GPsR+dz3g/gF/G4CAgppEe8WgBlCGd0VnQ+ZCBMDowBZAUYE9Qh7DTkQ8w81DDsFHfwQ83fswOgQ6OTq4fA9+FX+jgL7BLQFJQQVARn9Evml9JXv6eky5Cbgv+BC56zyXwHQEB0eAiV4IycZpgg79fbkUt3N4BbuEQVZJJlG/GLjcip1ZGujV9I8gCEbDAQB8f6vA2AM9hVKGwsZpQ7z/jLsx9leyzPEHMX+y0nXtOW/9fsEPRLnHYsp/zPTOx1AHkJ2QXw96zYhMCgrKig/JswlfyaqJWMgFxXrBYz1h+XF10zPnM5e1XXg6ewV+Fz/SwE0/jL5TPUB9Cz3JgBoDkceSCvrMmA1wDJrK4QhDRmVFPcTrBW6GDccZh30GjIVOA75BjAAqvuF+rT73f1EAP0CmgXwBs0HygiWCigMBw2HDQQOQQ68Da8MrgulCkkJ9wfSBuAF/wM1ARX+dfol9ojxce5t7abudPEM9Yr44vo3+0X50fW68Zbuuey87Abt8+3I7T/sPOqx6uvu+fUq/m8G+A1DEaAObQV5+RDt4OTi4kDp0PatC30lwT45UEFW9VJsSHw40yROFGwLWgsSDyUU9ReFGCASeQMj7x/a5sj4vfm7sMLDzxveS+uU9Qn8P/2V+5T7WwArCTQUyCGIMBk8l0DlPnY5CjGbJS4aJBJqDWAJfwSM/w77X/b08L3rEugP5vbkfePg4P/cmtiR1J/SE9W13PjnMfVAA1AP8xVfFdAPRwikAOr6ifoMAW8M9RjTI/kqpivcJA8YUQjD+KLsg+Yu52nt7vYMAY8IEQvwB+T/VPQW6KDe69nG2irhTuwK+fUDyQo7DfUKOgM1+KbtB+ZZ4fXf+eGV52ftZ/Ee8x3z5vAp7HvmweF+3yDf4+BB41/mcOhI6YznAOQW3pPXyNPc1RzehOmH9vMCYwytDeEGs/lE6yreXtdV2bjkJvZSC8MiZDftQU0/3zTWJ9Aa4Q1rBl4IUxIyHKwh3iEoHMMN+fYs3X7Hj7ntsxy3d8Is0uHgaOvG8MXw4+tg5VTi3+U377v8Pg2LH2UvWznwOx057DFeJ/caIxAXCHMCXf5V/JD8Kf22/Hz69Pbg8Ljn2dts0CLHJcFyv/HDd8513Cvq0fRP+6/8Sfl98ibskOnc7EP2wwRpFaQksC6EMTwtjSLCEw8FNPvi9xL6pP8/B/YNzg/0CjcB2PXI6kPhgdvH2kret+Qo7APz1vfK+Vf5Yvfb9OzywPKo9Jj3VvoR/Bj8RPp79u7w4Orw5czjneRI55TqRu5M8Szyau+L6QHiYtow1KjQUc9m0KvVAeC+7W76rANNCcwKBAbe+8/vbeYJ4sbkDO8L/wIQAx/vKzs14TacL20kbRtoFtMTQhVYHPwmBC5yLbUlyBiRBq7wDdzTzgXL486y19viK+1V8s3w4ukK4eDYudTq1y7kYfbpCZsbmCqPNKg2lTELKloktyDvHiMgxiSwKU0rnSiFIwoc6RF6Bmz8JfXp7+jrSukU6NXmeeRH4abeOtz92bbYJtr03unlOu0e9Un+nAfKDuQS8BVXGeYc5h98I4AoWS4WM+s12jUFMqIqcCEnGKwP3gjaBOkDFwRvAwwBWv0X+KLxM+vP5lvljeYv6Yvs9++l8nP0kPW79lX4evqU/Bj+QP79/Jn6Nfi09pz2s/eq+RH8KP0o+9P1xe6D58/gCdsz2GTaNOJR7QD4Zv+qAqcB2vyb9bLuY+xI8dz8/gtxGp0lcS0NMskyBy++KdsnIysaMWc2cTrkPYM+7TioLF8dVQ/8AzH7ofWT9F73t/p5+3343/Iq7ODktN2p2H3Y1N2i5mTwvPlPAuUJYg/dEU0SzxMOGSohsij6LYkyVDcLOj44RTOZL9IudS4vLFMosCRuIfIcpRYdEEILAQi7BF7/kffR7pTm0N+H2zfbid+J50fw8/YP+qX5avfi9R73afxbBiEU5iLlLsU1RDd0NAgvwyjmI98h/yGyInMiTSDrG0cVaw3ZBXn/QPpg9WLwBOty5SLgu9s+2VfZ9tsy4KfkPuh26s3rq+yt7VTw8fTd+l0B7Qa4CmMM0gvDCRkHmQTgAhICoQGaALz+XPza+VX3p/Qq83jzAvXD9l74bvov/C39aP1V/Yv90/4mAiAHxAzDEf4VVBl0GhwZvxZ6Fa0VCxY/FhMXvRgmGu4Z/heLFT4T8xAdDoEK9wbvA54BQP/p/Cf70vlp+GD2F/TQ8TDwCvDJ8QH1yPhi/LT/ewJxBLQF0Qb4CAANqBKdGDYdpR/jHyke+BrJFj4ThxGvEZYSnRLYEHsMwAVz/Zj0bOx95qbjCeQc5nDo7Onb6cHooeYj5fTk0+ZB67fxaPn9AGsH9QvtDlwQ8BAXEUARfRFCEk8TIhQcFIQSKBAsDcAJWgVsANL7//fS9KTxku6x6xrpYOZc44/gk95I3qjfu+I+51fsKPGI9Gn2ZPZA9X3zj/JP8+v1fvqc/30EeQdQCD0GxwG4+3L1iPCy7Wft9u7E8Wv0PvaK9gP1tvHQ7XHqdegJ6Jzp/+yI8Rn23/kO/dz+Nv+J/iH+QP6O/kb/CAGqAwcGnAetCFcJbQlrCM0GJAVBA24Bff/3/cj8EPyA+8L69/kD+Qr40vZ79Tj0c/MS8yzzt/Om9AH2kPds+XX7hP2q/54BXAP1BFAGcQc5CLEI4wjHCF0IjwdcBhoFiwPGAZX/2vx9+Zj1mfHx7evqVejM5hXmVOYr56jnX+hZ6Q7rRO2x713yQvVe+Df7G/6xAIkDAgZDCGoKAQwFDRgNTgwJClEHJQTDAB/+Dfwo+1v7rPtL+5X5nfZf8jbt5ec35GHisOIX5SPolOtL7yzy7fPd813yzfDg7/fw6fCv8u/2j/tS/2gBlAK7AroCXQFm/xf9d/vl+gD6KPoB+br2TfeW9272HPRo80TzyfPq9K31Hvdr+Fn5Pfkk+rr7Cf1A/oIAqwKzBIEGSwdTB88GngapBtsGDQd3B6IHsAeaBwkHeAbIBDsCjv+g/Yr8dPyJ/bj+DQAnAYsBIgG6/3L+Sv36+1b7xvuo/ecAmAVJCWcMjw05Du4NgwvjCEgIKgqnCiALNwzhDdYN5gyyC5oJoAUBAo3/X/3z+ST3hfce+Wr6rviY9wH3FfdN9zP4Q/pD/N/9F/+uAIECPAR1BqEIqQrSDOUNWg8bEE8QbA/jDngNhgvBCesH4QYoBqYGjQbbBaIEQgNLAdT/fv65/Eb7U/oh+rr6f/wV/n3/fgAPAVgBMAHcAH0AHwG0AjgEKAVjBjYHMweEB6sHjQcuB48GoQWdBG8DngHR/7f+Kv7k/eX9Zf4//xAAYgBuANQA6AEcA2wERAY+CCgKCAwODjUP0w83EF4QZBAEEPMPlA8jD24OKQ6+DdAMhAwJDCQLdgnnB3sGMAVWBEQE9QRhBn4HFQhQCP4HsQffBicGvwUiBtIGIQjhCZQL2AxUDeINKA4FDiYOew7PDu8Ong4rDvcNQQ5PDucNPQ1yDJYLhAp7CAMGfANYAeP/8f7C/uP+k/8pAJsAmwAXAJL/Tv/y//UAVgIzBBQGtgfHCIQJEwp6CtIKyQqdCnwKtQr8CucK0gqcClQKugmhCLEH0gYfBt4FWgULBcQE2gTrBIYEBwQeAyMCQQH6AO8A6QDvAMsB6AIoAwgD/wLxAqsCGALUAQUC7QHqAfcBLwJ2AioCoQEsAasAwf9k/oj9SP0v/e38KP0s/nH/bwBgAXYCVQO+AzkEywRwBW0GyQcqCSEKkgoRC1AL9gpzChEJ6gfzBtkG3QZwBs4FYgXlBLUD8wHO/2r+XP3V/GD8Zfzy/Bv+JP/0/14AJgCw/zD/FP8x/6f/SQBCAUwCcgM+BO8EGQXmBHkE3QNNAw0DTAO4Ay8ETwSjBMEErgTHA30CDwHg/6z+k/3r/Fz8P/xy/LX8VPxp+2T6fPnP+Ln4hvjK+Cn5//nQ+hD7ZPu2+yf8d/yM/Jb8rPzZ/If9A/4N/k7+uv7P/gH/yP57/iX+lf0R/ar8Gfwc/LX8Y/07/pj+N/4r/dz7l/pO+Tb4E/ha+Db5Mvq9+vz6t/q6+WL4q/cq95r26vZO98T38ffR90H3OvY59Tj0wPPZ89vzufNI9D71WPYa93b3Zvdz94H3wfdp+J35MPs2/Xn+mP/TAEoBZwEMAToAvf9u/2//CgAFALMAowA1AMX+If0q/KH6Fvkb+Jf35/aq9u/2lvan9Z31pPUo9S/1NPZM9hX2KfcQ+ZT4LPg/+d75BvoR+9T93P6m/tH+mf/I/97+zPyX+h38vgIkB3AEBP7j+gj9X/9z/f73UfS391P+0P4l+EP0WfkgAXoBs/gJ8Ebu/vW9+634/u0w66nyS/r0+a7xve7z8Vz7jf1t+CTxzvLM/DIBO/119lX3wPzkAPD/z/kd+B77T//3/sz9eQHdBW8HQ/+m+mb4GvvV/L35vfPJ9Mn7Wf9C/cr3dfnlAZMHKftR7bfqPvRm/FP89vHk63HyHPoV9g7vXeqO70D68/m583PvXvi7AOb+i/XQ8o3vGf2jBu/5APfL+dMAjgUWAt/7r/wgABgCqQOI/sQAcQK5AC8HAwe4/eP7KAAnAPsCKAA1+l79EQQm+J/0Kfvr/eT2KvI5+n/2jPkx/7P5P/P//x4DTf18/+r3zfU+BdQK9AJ7+EMB8ghdBQwDu/8T+1oCDRHj/pz9D/1OAUMNJwYY++jyOAIPCgv+L/Uh+t8Bf/4yAJYCrPVL+J0KdQC+9FL8U/xPA7MENvmS/W380wLYAeT+BAYA/ZcA2wFR/F4DzAaK/7753wBBCoH8JAhvAM/rUQZEEUoCcAH19ED/wQ/kCFj/5+4a+YkB0wib/oH0ceuWCssKtfrt+fHtV/kWC1EOnfEpAij6HQI1ClP44P4e+5QHPw2s6vz/UQ+5A6YSV++C79II7xtABgfvKfUcDf8ePQFr9An3kwQ3HwIXEfTA8GT+oxuIKOf6pOZwAn0efiNf8vfszQgpEqIezQqe4iryjSGpEPAMiuuA3uIdNCIFEQDlWeSqC6MmExam8AbkwfAdNRwR4fXP/dfpnyrEFKflWwZsC5UZxxm55V7nJS4qE9UTKfYV410d4g8nFIwOguDr8GQs8g1rES/ny/D8GlsPfgmN9iP48AfqH3j9Jvsc/kkWNhH29zgDkf8ACqYWTf9bAw8T2w8eBb4S5fLG8esgRg3dBinsAPm9BG0W6wtnAgn6/fvWHCgES/49/zf1Awvg/mrzyAUqA2sB+O8j/S0IABO/CuL99PNh/MwQAQ/x/nn11/85B4QP2QSL9GUCWgS1A2YNZfBsBasYs/nJ9t0UE/ijBpQLJd7NEiQKhfoNEXPsivJbDB0J8hmk8kDStBoCDInyeCZQ6ozkOxZgBnEN/gTr820BzgdhCXr++u0VEaoFzQTTA77tc//LBl4Cbvw29pjxxhZ8BUDwbve+9oAX+gmb6aAE+/dcAJYpzfCi684bnfb9D60bVtYA+QUhBQBmCG32COZKGXb7xgayCljxFQRqBBYCfgUV+KvydQQT/534lPVVBMIFaf1y9nrwOwinCKT0TgNq83j3MwihCAX3Q/CH/x8FYhYD/xv0j+af+zYOc/t2As73QPRz9ZMHQwJq98oDPfex7Br1tAeEDGEArenh7AT8TA2xBkvw/Pvz9B/5df/C/KQBbuwy/Qj/Kefo/QoDm/n+/t7pEOwVF8z8EgCY/ZjdZhHJCerq1/tn7VD3WRCg/4H3Nu6E73cMHQAu71cBy+bh++YOEfEx9h7+a/TR9kAFLvL9Cuv9pPbsA5XuWPkJAQUFQAqG++rk8vinC7wEJgEc7Lrpn/ZRBtQTL+/C7pT05PM6CW/9DPnP++31gQAe/Zbn5gF3BST6Cvwj7d3/YhHK+abzX/U87YsPaAX48cf2SvgN/GYBTfyW8n74MPfsANr6Ev/H83jyBgJH9xP3eQCVBTfxP/S0ACzw5v/7AAz05u5c9eQK4vwE9P73qPgN7J3+4QWi97T94ekM9kYAofpJ9T71TgNs/Ub15viV/KX7/ATJ/Dvy5/jqA7AGwfce8hH9V/z8/w4Azvec8+EAUQWE7pT6Gvzs80r/2APC9BvyrwRJ/vf9BP419wL7p/0z/ef02AApDRP0kfHB/P76ZgCyBw36WfJV/sAA6fjd9wQGBvilBAMBfe8/AlgEDPajAMYB6fAQAcYAnQLG9zj4dwDDA2oKae6L7asE1/+kCPoEse3O+DH/Rft1+HL4cAAi/ocEKQXo6rfy3vwi/ZAJnAnH/knxeP7YBkz5Ogap/5L3pQtD/3X21f7tCicEgPdB/ScD8/q8DV8NLPCkCMH1cPDvDzADMA7TBXDpUAgXCOf2ZAzf/sb9HA7U/Gb/GAKU+QYCWwzZCq74UfVQB1IOOgUR/Uf5nPmXAPYVaAaH9ysJJgHg/I0Lifx5/vQSWQZ3BtT78wJRBCD9YhSuAML7+Bi4/93/Fw+D+Lb8KgFVCFQNSwRe/nT94QBEB5oFyfxQBvYHKfsbDLQLqPTjABwJvf4RDhQCt/t0E7gDrwIUCcT9GAFmDfECjgrdAuvzpAvVD3sJdANW/Gf9dAxXEQsI/wEW/XsBiAozBbkDIwiPCw4L+wJY/Rn8mgbFDlYJ8wm3/eL8nApkBsIKDQST/ZkCuAWiBbEEzQe6BqIDJAdI+yP9Dw+IA9wJGwku8wcDGQ3sAm8M3QYM/IwITAeNAKcMUQZV/ZAGdwLkB4kIa/7yAyEE8QbXCN/7pwPcCSsFLw2MB6L92/3DAYkJew1NAuz/aP8/BDMM1/+fAggIBAO0BIYAx/+pBN0HMga//Dv9Sgf+CVwH8wVHAVYAlAWZC40EZQNpA5r/2gRGB6MFHQRUCPEB2/5YAqH/OQOQCCYFPwJ0AJb9kQEMBMIEZgVz/tb7pQFmBGwCywYgAR784AES/1sGbQdt/L0EgAUi/PsCuv+IAIAHbAUCBU8B2P7HAMwFrAUsAEYCQQY0CLEEJgKy/q0AlwYeCP8Hy/+qAQgGXQQmAub/gQA1BRsIsgPg/8ICIQEeBksCg/yiA3IAUQQrBvb/sPyj//ADuf6r/D8AvQVaA0r8dP8C/1D/Pf4d/R0APwSXAHz6df1R+7/8IgP6Abz8KPx7/6T7XPoj+4r5Av5x/KABxv1V8qL5yvv1+Iz8BPsz+TH80Pmv93z5gvqe/dD8NfuH+WL49//tAFz7ufwMAFP7IADyAa3+WgJTAMQAxARdALH9BQWXA44ETALd/mkCgAFbAW0B0P88/qH+9vou/GD8/Pmt/Df4Y/pe/MX1Ivku+ar3bvpf+Lz6xP0g+1H6H/3o+q79QwIN/kD/XQCC/dQCAQMfAMwFywLh/9QETwKEAJQG9wGqAcsCLv6y/tL+GwFr/33+3/v3+C350Prt+w35T/eJ+Uz45Pf19ZT0u/Sd9BH5dvat8pb0NPaz8bfyHvPg89zzfPTw9FnxsPFu8dfvbe1s8p3ym+zn72/wkutW8b7vre5M9dDvCO4w8a7uS/Nj9zL1N/Yk9mf63P0c+GP5tv6G/+4DHATuAR0FQQS0A1UHMgSKBv8IEANzA4cAX/6vBHUAu/2//hr5r/g9+PL4rvl99Vn1kfXs85D1H/bG84n2wfix+CX6effG/NH9Zfr+/B4BjQN2A4EH/ATDBSUJdQhNCw8LMAoxDdUKgwerCrUHSwhYCO4FCAfSAhkBDAHQAIn+gP33/GL7t/lF+wj7g/qx/AP8Pvmp+eb7Lf2eAIL9XfsE/ev99vwm//v/dvyN/S79y/p6/mv6Gftk/Fz0efXD9hj2xvXm80TxZO8u7NXtBO7N62TpTueu5WXnxeXe5C7lkePQ51rkYuMR6DfpsurS7oru9PKZ9q30XvYP+Cb5sP1cA+4H3A2MDWYMmxB5E2QYcxuNGjUasxncHB8cjBlgHPIbMRiJFSkRNg4FC8oIIgZqBHoCfgPxARj66fh49hL0fvWu9nv12PTd9AL3wvhT+BL3yPnO+jn4f/o3/Of9pgL3BAkDtAOMBJoHHgn1CKcLvgycDJUN7w11DksQng5uDmkOfApYCzkLNgl5CbsFngObAm4D4AMmAcj9G/2L/eX9zP93/Oz8Uv8y/WH+0ACC/mQC/wVWBM4EqALuAqwEugUrCEwJ2gdACIQHXgcjCHIGYQS+BVEB4f14/1T6YPrZ+Gr2x/VR9ILzUfF5743tX+wZ7JvrXeqS6xztGuv+6+btruzj74nw+PDY8w71HvrO/60D2QdECNoJ2gltBkQL9g9EEwQYABvrG7EfwiP2Jv4sdit6KMsmKyaCKawk1SDDIuIhsCHEHNoUrxBWDJoFlgIT/6r9ef4T+Q32ZPOH8szzl/J18S7vauu37kHykvIa9k73q/tq/ur98gD1AXcBUwNNBZUHMQkhC1kOdg70Dr4RCxP8E6UUxxL0D8wNxQ3MDKALOww0CgcJxgkGBmECnP8+/eb8VfoE+nj5Uvjd9634cvni92/4A/nL+dj5sPqc/SYBsQMXBl4JFAvgDKsNjg10D4AQwBH+EdUPaBGDEcYQbRSTFEgRqRDhDqgNFgu8BvYE/gLZASD/DfsV+ZH3l/UM9PXx4/Cj8CXwBO8P7kXt8O1R79jt2+3b7Efsq+7j757vqe8e8qj1Zfhf+vL7G/yS/Bb+Fv5D/a39iP7xA40I5ghCDN8QIRmmHxQgwB6sHf8e5x7hGroV4xaPGjoY2hWnD4ULgwziBukATPzq92z0JfFh7Hfo+uZp5w7pTukL6I7mnOc76Xjqdeu77Kfwq/Z2+az6+v1gAHkDwwgzCoQLwQ5SD7kP8hDeEkMUYBcqGuQYKxiRFZMSuRNFEJ4LcwtxCPME9wIw/+38uPuX9zP36fU08aDweO1h69jrz+wC7Unuq/Ce8DDyavT799X7HP8pAaYDSgbECBoKawysDxIT+RROEtwSyxHZEC4SjA/YDbINLQwWCQIH0AMOAaf/Efvd9/z22PRX8LPrM+gn53/mmuWO5bLj4+PR45fh+uIg44LjA+Vp45vjAeQf5Jnm4ujU6CjqJOvU7av0Ufk2+SD5Rfrx+fv5Kvmv9474of0u/1j/5AKdBloPZhfrGFoYbRftFroXiBO1DkQQfRDzEdYPEgnZB/8I5gZJA9n+tPlm9ybzzezp5wPmceYR6R7sE+yo7L/t5+738Afxr/EA9cn38/jV+on+VwLEBoMLaw0YEOYTKxPsEnYVwRY8FvUX3hd/FxoZCBViEq0QNQ13CwcI9wEI/AP4FfS78L/uUuxC6X7oo+Z05ELkRuMs5Trmgua25+XoreqL7gryy/PB+Lr7yf/oBJgGaQriDZYOAxDqEaQRlRGLEn4RdBHSEL8NVQsRCa8GXwT4AEb9O/zU+Zv1EfI/7+jtO+yL6WHmyuNo4WPiXOKQ4R/l/uWK5Wfm6uac50XrIO2i7JftR+3X7cHwFPPy8rXzo/P49bX6m/0k//T+FQCkAID/bfww++T6Z/u//nv+Cf/zBCANpxYJH7Yf9R7JIqMjnSHGHcwZdRuwH/QcJhfEFO4TORVsEtYLygZ3Aob9K/bO7hLpPOfT6I3r++xF7LLs4+1G8PzyqvIY80r1RPYP+W/7v/2JAhkIYA0SEokVLRVdFUkWBRcvF90UuhRyFQUUNxJeDwoMOQ02Dq8KxwRp/h/5iPTB8L3s1er16rfrhurG57/nFuqI7Tjvre9D8ITxA/T69d35Jf96BDIKdg0TEQgUKxZcGaka8BuEHfAdqx3PHScc9xiHFwwXaBQfEaENVwhrBQYC4P04+xX5U/d79WPyGO8/7mjtle1m7iHtMOz27ejva/ES8zv0dfc6/Of+7f5o/yUAFwDO/93+W/70/mj+RvwL+iv4tvcO+rn98AD7ATX/Pf0q/HX6Yvct9bj2evlK/b7+eP//BVwRWxvlIu8lCyRqJT4mMSO7IE4fuCDmI+MhHBuqFswUXRREEAoIYgFC+kHzhOrL4i7hyuIS5urneOnq6pXsCO9X8gX24Pd6+av7Mf+dAlEGhgrvEDkYYB11ICEg9x6MHQwbIBr/Gb8X3RYoFukT+RHNDuwM/gt7Cn0Gdv/x+Uv1PvEY70nuY+5a77PuLu2e7qLwTvJH9FL1Qvao+GP67/ztAcMGCw3DErEW1RriHO8dZx/EH7AeFB6QHYEcyhr+F5UUdxGPD4gLvgf1A8L+zvq09UXxoO8B77Xuee+Q77Tule8m8IDwiPHS8pfzJ/U59373XvnV+rT7XP2U/lT/1v+z/oH79/n995X2zvR58Rnuluti6uboIOcp5M/i4uRw6qHvA/I38fnvx/AV8pzyF/MB9U/6xQDpAyMGPQq9FBUiHCvKLKcpNCmZKpgoBCR+IfMjfCj0JQsbOBEjDewLwwcA/2P28/DB6tPiO9zk2nPemOO+5nbnmuiS6OHp5e3T8/H5zP50A50IPg0UEIASPxg1Hq8iRyI3HZcYfRW8E48SuRJkEGMNmwkNBScAfvtM+Ij29vT37+Po2OMv4ubifuOm4wbmKulw6jDqNeoh7Gvw9/SL+OL7zv+HAtMFzQn5DYoTlhjZGzIcshrvGGMYgxhNFjwTgRHLDykNDQizAR/+W/xb+O/x7epl5i3l5OM34pLhx+KR5gzpWOoY7F7uRfKb9Nv0kPW8+MP8NwGgA0sEVweuCJIHagSZALr//v7z+3X27PBp7qvtCuoH5j7jauGx4RzeGdkU16fZ9OA86mzxbvad+DT5M/uA/Hn+zP+eAq4HqgzoDlsQ8xaDJAszGDnZNd8uICz1Kmkm+R9QHQAgHiGjGbMLnAGN/VX7JPQj6aTgkdoJ1VvPA80v0UnZ0N/74jHl7ufm6xPwBPWd/BEFZAyMEbQUwRdPHeEhyyOjIwEgOhtgFaYNVgf2A+sCrwGF/tT5c/QZ74fpTeU+4gPgON0f2wPay9r+3TPilugP71nyZPPX89T0Cvjh++4BWgrpEN8THhSnE5AVxhjhGcMZNxoPGDEUwQ++C20LQwxSC/MGaQBc+dnyoe296Wnou+mU6prpteYc5SjnZOso7s7vL/MS97/6Gf1V/2gECwuZELUTTBTOFDkUaxRYFWkVKRNjDmIKqwYnAsP8k/fY8yXyGO/H6THmY+SH40rjsOH4393eAd6y3kjgGOF/45XoefHN/XEIGw7dDhgNXQsfCzYK/QmMC5IQShjbGs4ZEB1oJ980BjqZMHwjUhs/FyYTNAxvCjIQDRMCDAn8dewO5qnj5t4C2WzVCNd42qHcIuBF55vxu/qM/rb+J//ZAVUGsgtbE7scUSS9J+QlmCEVHrUabRXNDm4IPQNl/Uj3PfPa8nz2Sfmh+M/0B/Db6hnndebd6cDwAPek+7v/SQQYCNEK2QwmD54RchENDyIOtg8pEtcUJhcpGSQaGhfvEAcMAQl8BvoD3AB1/8X/bf5H/Ef6F/cU9Anx8uzm6ZvmdOTG5ufsqPSG+3QALwTuBn0HZgaDBi0Jeg0pE14XJRlLGlYb1h1vIA0fgxouFbwP9AqlBHj+7ftI+8z4pPN/7SfpueYt5HLi0OJX5MzkYORZ5S/qK/Ad9JP2Gfh/+T76L/nh+FL57Pnt/FQDfQ4lGdUcpBn5E1oPjwxGCOYCOgFwBYcNMRIbEWIRdxpqKmU1VzAlIK8S/g9LEtQRlA8iEhoZNhniDH755usE6ZHpzuaD4lzhOeWP6jTue/K6+FMA9AWfBjsEtwNEB04OXBb1HHEhhiNOIcUaMROLDLoHxQN4/4j7afiG9DXx6fCA9Lb5mvre9hDy1O9k8D/yQvZB/X8FrgoADDsLlgsfDfEMfwtxCsAJbglyCOsGkQe2CeQK0ghZA1r9BfkS9kf0J/Pf80r2zPd79z72j/am+Jb5A/hA9lv3evuy/uD/HAIJB2wNahHrEWUSpRS8FvcVgBKfDsUNBA+MDgYNDgv2B0gEAP+o+pb6aPtM+tb2CPIh8B/xG/Gr8P7vhe8o8Ijvce2n7NLu8PP/+A38V/5yAN8BRwLQAYQBXgEPADH+2Px/+4f5s/Zg8/LwCe9A7TTvdfjnBYQPdw/JCNIC6wA4AHr+7P2PA3QNlhKBEBUOXBViJq8zcy/CHAoK9wGqAogCu/80AMYEWgVT+ibnttkR2kniRub14SXdid4y5TLsTvGg9wAAVQZ5B4AEMgK3BWkOpxd2HUgeaRtgFuAPUAohB8cEzQEv/ZX3xPIG72nsUe1+8j74//iD8/Xsq+p07abxB/Xb+DT+YgIjAkP+QvuV/QsCngOWANT6W/cg+Bf7kv6dAooFbwWPADz5TfTp87P2cvns+iv8+P3A/7MBaAP1BN0FWAUhA9MANQEXBMEHvgrYDF8Oog6YDOgJRQgSB0AEY/9T+rP3Dfj99/31BPOM8DjvZ+1N6wzrKu4j9D74Hvh49lL2c/hZ+1/8Y/uc+qL6D/uZ+1f92wEoB5gIIQV2/3b7Qfpf+Qn3e/TX8xL0QPM18cjvKvDz8KHvPOwz6a7oiOxv9VQDARIuGkwZMRM1DKIG8gGF/fL8QgGvB14LIwqpCTIRih5uJSkcCgeQ9YbwD/OA9s76lwLyCk0KXP5V7y7nEumk7dHsIei95kTstfV6/W0D9QkeD40N/gVc/67/RAYFDfgQUxM2FR8VWRG+Cj8Egv89+y/1ye4U6zLrXeyw7H7uJ/Lc9Gvzzu5e7G/vXfWM+kr+VAKUBwUMsg06DQwN6Q0uDdEIjwKR/hH/UgLXBM4FuAWfA3b/nPrT9vb0fvQd9J30b/dY/OUB9gVGCIsJpAk1CG8F4wNYBfwIXgxxDSIN0QwHDcIMaQqiBogCpv5F+6L3ePRz9Nz3A/tn+jP2ZfF77xXxH/TI9xb84ABeBb0Hywc+B98IJg0ZEDkPKgtuBygGwQVYBckEmgPdAID8LPje9cT1nPZV93f3vvZK9fvzSfPb8wr2ffgj+Z32cvO68tj0zvlaAqkMcxScFesPJgl5BXEEtAOvAocCAQRCBnIHSQhlDBQWhiEEJW4cKg6XA+0AxgJjBd8IDQxwDBYIaf8a93Lyo/Hi8WvvBOqY5i/opO2y9Cf7gABLA3MCiv/y/YEAvAYRDqoTDxbAFfcTKBLSD2UMkgg9BNL+f/nm9S/1bPZ5+N36k/xK/U78ffoe+Wz5H/ybAHgFhwm4DKAPDxJxEh8QRwx1CF4FHgOUAdcAiwFuAxMFIQWCA60AlP1G+3T5t/ij+Y/8DQG5Bd4JPQyxDNcLjQlsBggESwQrByUKqAvsC0sL0QpQCsoI7QXvAZH9DfkG9bjyo/OH91j8hf85/578IfrB+CL5QPtw/n8CbgZGCD0IKgh9CIMI/AYFBJwAyv7+/uD/5QBGATsBygBf/7/9Wvzs+9f8yP3U/TH9r/2q/5wCYAWjBnAGFgUXA54BswCYAO0AjADb/yr+zvy8/Jf9tf8ZAiEDQwKo//D8KPtp+hL7mPx2/qr/Qf/L/e788fwy/Ub9nP2S/mcAhAKJBIYHVAs3D0MRFw/kCTgFfAOiBIEFiAXZBSsGowXtAoz/YP3F/Bv9zfw8+yP6lfp3/Pf9xf1o/Ev6D/iR9hz3sPke/a//fgAqAMb/AP+l/j7/1v/PAKECCwQwBQEHUAi2CU0KwwhiBskD4gH8AIUABwAu/wz+0Pza+3D6FvhH9sb00fT+9Vb33vlf/NH+iwDdAJ8AIQHYAdoCLgSwBZ0HzQjNCIkI7Qf3BqAFxwOyAdH+nvwI+zL5gPfj9ub2d/ZT9Rr0vfKW8TLxj/H68hn1X/dj+cX7Yv1E/1IBtQJoA9UDcAQDBeMFrQZTCOsIfAjdBz4F7QIrAssAx/+4/vb8n/uP+uz5Mvpj+tf6bPuX+hT6Cvl++NL4cPnj+ej5XPo4+pX6gfvX+yv8Qfxc/OT8MPzr+z/7ZfrD+qf6kfpj+vf5Sfr4+UX5r/hN+Oj42/mj+jr73vs//Hn83vuF+x375fsi/Vf91f0L/vn+/f9TAaYCfwIvArIA9f4X/n39Sf4F/7L/CQB////+r/2t/K/8Df3O/Xz+yv7G/mD/6v9PAEwAEAAX/1L+dP1C/H38XP1Q/tP+xv43/sH9a/1z/Zv8G/1j/Uv9sv3c/YH9n/2+/tj+Af+q/p/++/1L/j3/CgBiAcwBAgG8AIIA7/+l/1j/Uf/z/gL/vv7e/TP9Xf3n/Cn85fqr+HD4J/l9+a36Zftn/Ej9AP3R/XX+7P4WAAQBTgE+AaMBoQKlA+UEhgV/BeIDYQL9AfIBPQINArQA1v/U/pL7Wfoi+nr54fgk+ST4XvdC9yf3zveR+GP65Prv+4/7FfvO/D7+9v70/i3/c//h/5kARwBl/z4AVwBZAB4A5P9m/6j+av9O/ub92P4H/2z+lv6Q/mj/jgAoAPn/L/++/ur/AAA8ABACVQL8AjoDwAIsAicCYgIjAdIA1QANAYMAwwBgAVkAwf99/rj+tf2K/FH8i/sR/FT8mfuh+wP8tvy0/q3/wP9VAL4AowA+AUkCpgRfBPkE5gQzBCEF8wSRBQwF6QS+BGsEmQN8AzkDcgNMBMMC0gEuAmYBTgGGAA4ABwDX/sz/wf7W/bL+2f9xAVQAEgAA//L9Jv5m/kj9jPxZ/2f/4v7cAPP/LgFrA10CRAMIAjwEEgRPA6QFAATjBCAIQQkuBzsI2QYKBAkF3gOUAygDkQMpBBQCqwH9AEEBrQGC/wT9Qv3Q/pT9wP4fACQBmgJ6AHcCgQIKAyEFiAT2BJoD5QOOBggHAwaoBmEFvgUIBvUCOwGIAYEA7/8LAbv/j/+k/83+RwBz/vH9zv9FAZcCzwGaAjYCpwGVA9wGXwjSB3UHWAU/BP8FLwXbBTwFXwQyBFUCqwMOA8gAmwJd/z372f+6/ej6Rf1u/hQA0/5X/kf+kv5tAi4DxwGnAXoBewHVBWIFZwa+B8gHVAqiBlAGTwfkBTMH9wR2AZ4D7QKZAyUC0f9K/2r/Dv82AJn+Jfo3/x0BPf6/+mP5q/+XAMz/mAGL/i//1QFHALcCLwOjAtEDpwYwBx4ANwgYCv0DnAT9BEYCowDdAxABUv3VAaEAGfx8/yL91fvx/08AyPr1+kz8Cf4GApMCUQO1ADsDqALq/ZoDvwZpBsQE2wOuAiEExAXDBNADxP4u/uQBlP/m/i/+OPyU/6v7pwB5/Uv5Zv4P/fv/7/1X/Ev+lQL5BRYCBAODBJYArQOTBRUEkQOvBrkEiALWBVgBugC5ACgB6QCy/VcAJPu0+B/+I/yU+5r6M/cy+VL8Xf38/M8BuP6U+gAAcgAWAVkBwQMbBNkCIQOlAT0DcQMAAz4CewOBATL8DwF6ADf+6AGzAFb/F/1w/O76SPsTAMP61fv7/0z94f1M/av9TfwTAKkA3f5dAVn/mwFDAc0BBAHmAPEE6P9w/nH/QwDl/2b/p/29+9P/4/69/rr64vkN/D762vz0+KP5C/kj+fz8ff5V+hD65f9MAFcAvQDLAdcBlwLU/1wC7QFFA/ECawJcALb9GwLIAkX+fPl4/S78z/36/On58P4s/SP6xPrQ+Yn6ufoGAH8ACfuJ/Wv6cfzoAlECWQD1AeUBffwg/w7/XgCNArr/OACu/eT+NwCT+9b+1P8+/HH+y/uc+j0Ag/4f/HoA6P4N/cb9Hf+7/kH+6f3m/hX9ef1m/9L8bP8FAJn7Gvzu/vP79v4HAh/9MfmK/1sBCv0S/yj/lfn2+07/F/zR/Kv8Rv7dACEA4vmm+bP+Lv9e/6kABv6k+jP/gQAP/fb+4P6E/uUBnv9N+CH8oQEF/SsAhQBH+1j7hP76/NP57f0K/6r6Uvut/XX97f7z//T8zfptABv8Q/xEACj+Gf7L/lz+Rv8k/8b8swBS/uz9Kfpc/zgAi//l/6T7p/+//EUADfwz/bsAjfo8/an8Efz5/VL/gf/m/JIAqf6M+779z/+HABQBXwH2/nf+owCd/80ADwL6/r///f9f//v9iwGzAKsAIgHr/nj/OgFH/xP+wf+G/Rr+HQEo/1L9hwA6/4gAZ/+U/jz+igCQASn/Uv+IABgBwf2v/8MC3/7lATcCM/om/5sBAwCr/2P9HfuoAM4AP/9fANL8bv/y/q39uwDC/Ib8/wEoAbQA6v65/9n/ygFjAE0Ajf8O/icDmwLoACIBtQHGAgQBGgGoALP+VwI8ABQBwgDcAPUAcwA0AnMAnQBSAAH+W/7CAHwA2wF5/yEBYgL7ALwC/f9O/6cC1gGyAu4BngJuAzv/PwJHAqQBBgKwAgAB5P8PAv3//gHfAN8A/QPd/3oCYwBs/8gDTv70ASYCkv9/Ae0BkwLH/nsAmgLVAcMDLwD5AFwCHQIUA9oARQDnAEYFUAIn/w//GAG4Aib+MAIQAe8B0QMf/fwCWgFdAbMDjgBbApQBPAFiA3UBBwJSBx8BjwPCA0MAnQTfA9sAAwXZA6wCNAQnAMED3gJjA0oBFf/WAmkC//5QAioBlP8mAkUCtAGKAioCZAF2AT0BFgL+AMMENAEbAnYC1wHp/44BXwMoAUsCugJcAL8BxwN5ARID5gDmAhMCHgEvAAUBNwF+AcgAcgLtAh0ABwGFABYCvgCyATQB1wB2AdYAdQGLAPkBlAC+AlEBqwG4AYH/xQL4/9sD8QE8/1wCpwD4//EABwC4/2kA3gEKAZD+cf6UAd3/x//YAIv+rALAAtn+uwD6AeYA8QKvAD0C9//oADYDiwB//wcB8gDE/gEDz/1u/7cAZP2jAPr8yv4sAQD9+f9h/xf8TQCr/m3+1gDr/pf/HABVAPACnP9i/2ECzP0WAoIAagCnAHz+ggF//8D/2f7fAJX/HwHt/9n/YQGS/zP/mQB+/w8ANgAL/xEAFf6DAdEATv+4/XUAhgCJ/b8Arv+m/dgBnv4qAT0BOADE/xv92wAd/mX+gP79AOv9DgDy/3T9Af8v/u0AZP2Q/VD/ovzO/t0AVv01AXD+v/0KAfT8xv8//ij/TwDn/sf/JgBH/jkCKf+u/zL/GP2aAeL7HwGY/kj85AEL/yr8Q//9/GL/yP6N/IX+4f0X/6v/jP1W/tz/bf6yAU3+fQCO/wQArgB7/s//yP/c/bABRf60/U7/Af7pAAn8ZQDz+xf/5Px5/PP/UPsxApr8pv0y/g79EQBh/er+JP/9/tr8Kv8g/wf/3QEe/A0BXP40+zgDavoL/3sAMvuPAe/7sf1//636dgAO/Qr8d/6y/GL/1Pye/5f7bv6IAMj8zP6F/ZEAGvzt/yD/ovp4A+z9qgCd/kD7OQP9+pr/z/4p/q//z/7+/cf6hQEY/JX8Q/9Y+18AuvyG+oD+wv3d/rL+MfyY/EMAV/z+/hr9n/3Q/0n+0f9z/17+EPwZAWr+Dv1K/Vr/+P+K/dP+FfyJ/bD+S/0v/sv7hv7b/uz7sf16/W7+bf/P/CoAhP9u/Mn/c/7e/3P9qP/SACT+3v/y/67/RP78/uEAL/7s/mr/d/0xAWr+RQDE/X39uP4/APkApPwjAL38XAEb/2f+nQBC/HsDGgC+/lj/6/31Axv9CwB9/7j9ugOl/WoAKv66AHj/bQA6/ggAjf+W/LIDhPszAGD+6gC8/oT9yQDL/qcBnf4t/Zj+6v8OAeT/Jf9vAQH+oAEU/iL/7QCHACX/sf5WA8X+CP4nAj//5v2D/yr9tgE2/YIBCP/z/L0BgPzo/h0AhP8IAKsBKf5CAEH+5/9JAzkAiwG4/t39cgFvANH/8gAY/wMBRAD7/qMAJ/7z/Z0ARgBKAAz9zv3IAaQB1/7P/s/+xP5cASD/gP+tAfv/fAHC/2/+wQLm/p8CagCD/uICOP5wAeEACAEx/zf/rATc+3wABQCD/lcEnf7TAeT9RAEqA1sAvf99AWkA8v+CBWv+FQI2AFcBSAPP/f0BewHJACsCuwBlAVv/IgH4BMz+MwF5AXwCRwDuALcD4/+hAxoAsgHSAhH/wv+/AF0D4ASbAFX/r/+1AqkBBAHu/tgCgAP4/F0EUf+MARkCuQJPAYD/5ABg/1ECyAKEAan+dALGAtwBAwD4Adj/YgDNAVEBLQDpAfcCm/1WBZgC3/1v/9n/gASaA6kAhP/FAIoDAQM2/pABnQLsAZoBRgIqANT9XQdLAcYAPwNR/xT/qQFnA/cAXAB5AXEE3ABLAQAC4f1/BKoEPv37//0C0gRR/W//tQPAAPUCPP69/yACPAGeA3z/kAAAAYD/QwI0AuIBqAGFAtD9GQE3A/f/5/8iAWcBlAAQA3n/qf+AAb7+TQIJAnf/lwAk/WoCRgLw/l0F0P9u/N0C4AMq/8sBzP55/0wEZP+HA+79jQC9AE0ArgJH/Db/lP6ABNv/ef6qAtb9iQGLA2X+s/+Y/60A1AFu/jkDzAAX/icBjgFZ/hL/AAAKAeYAiv4DBP/+k/83AHn8lQS1/tf+6/0K/1wEWP3K/xX/8/0pAYIAkf+X/QUDIv9y+icCqwFIAR0ADf6q/ogA7PzQAcD/R/5x//j7SgI9AET+XwKLAjH8GP4Z/gf/lwExARsCBP88/t3/2P5n/V7/CgHEAIYAgfuJ/eEBpv68/lQB+v+GAeH7kf6BASf9bgKh/uP8xvyuAlICMgBsAIv7yPj9/zkDcQHh/Kf9af5XAKwCFvoH+sb+UwUw/fz/Rv5b+ff8ZALuAi/8Hf3j/Rn/j/54/WD7Z/3ZABn+BfxHAYD/Sv1v/t38Pv3AAB8BgwH9/4r+cv+C/gMA1gFjAUH+EAC/AXT/eP5a/zEAVQCSAMz+v/yD/vf+7P4T/3n/Df+H/Bz+RQCz/Zn/CP/O+wwAWf/R/Vb9EQAhAWD/nP8U/Vr64fs+/4b/XgE+AFn9Sv0W/T78DPzw/u0AbP8q/h38qvrO/CP9f/xC/5z9jfw7+jf78fwa+zT7H/wa/nD+kv51+7r9Av28+sH6OP1C/4oAcQBm/Oj6jvyj/I77vv7s/lMBsv4W/UX8qPul/WX+ewDm/yr/Bf0G/bf+wwBCAAwB6/+5/nv/Y//fAQUDGQNkARL+OP1//3sCvAItAQUBM/4R/oD91v0j/kz+6/85/ur9aPwR+/L5lvrh/Oj8WPt4+x778vra+/r8rfyt+8P7cvwM//P/iv5w/oX/pf8p/9r+EQDWAMMByAKkAYQAGgB//pUAaALtALQALv9R/vr/IAB2/kr+2/3R/sT9OPwh/b797/2E/pL/4PuR+aP5tPpE/cL9r/z3+kT5NPqS+S/36vga+In4l/jz9gj2ffU59fb0v/SI8+f0svbZ+fv39/Vo86ryPPbs94z8WP4A/vr6wfgD+lr9cwKeCAML7ga0A/QAIQPeCdMOhBIuEDcLlwZRA/MFEwy2EYwQEgx6BpQBdP8LAH8EWwhQCDcEC/64+EX5Gvu6/TQA6P5g/EH46ffM+Bn71vxA/Dr8Wfzq/J/8yv29/w4C2wHnAXICUQTuBPcFOQdbBwYJYQc4CRcJ6QibCv8IEgfIBvcHCgjaB+IFIARFAwQCdQKjAhcBewE1AUMA3v/0/Vr9rP7X/vf/CgDJ/on+PPwX/Xj8HP7u/5b+lf3b+iH8h/o8+r/66vrc+r74R/eW9Tv1jfVf9fP0dvPq8evxcvD571vvGe6K7XHukO6u71Hu1OtC69fswfBc9O71L/Q08sbwHvJg9h78Kf8ZAer/5/77/ccAggjgEOUWVxYEEl8OHxIjGRIhFSWlJKchxxzbGH8Zph3jIBgitR0zFnUQ6g3MDFQMkAsrCmoGkQDr/P35M/ir9mr1wvRJ9A/zjvAu7Qfrk+uk7U7xIfIl89byoPKU8mL0A/hb/ScDOQU3B5MGmwV3CCAOXBMeGNsX4xYWFWgUwxUGF28ZChoPFyES3A8eDuMMNAv6CIsHqgQdAOP9f/wC+ub4+/eF9VH0NfPK9IH1RfSU9BH0P/RU9KL21Pqt+yr7A/qS+Dr5g/vk/tL/xv5w/Wb8u/pD+T36Pf0R/Qn78fYY9G/0vPLF8prx4e+17p3tUuze6vPoxeeW5+LprO3x70Pvouo36SnrBvD59rn64vui/Db9xP+uARsGaA4/F3Yb3BoKGCYYhR7FJeMsVy/SLVUqMidIJScmHSl4KigoJiBHGPAT3RCND8sMigg1BCf/i/om9mjx1u+E7nHsOete6Onl7+IZ4pPiv+SJ5qnm5+X65F/nb+q/7bDwtfLf9Rj5EP3H/3gBVAR+CF4OxhGxEh4SsRONFr8YFBpqGQ0ZCBhfF4gWgxR4Es8QbA4QCyUJAAjMBZcBEvyg+JX5lvmo93X0pPGK8RHxXvC67znwj/Gl80b0Z/Tp9Ab2//YS+bb7lP38/sv9bP00/m8ApwLdAdAAKP/+/b/+gf0//dz6Rvl6+L72ivSh8fHwLPBD8LjujOv26OvnsOce6Izqhuw/7d7qLeV3493lHu5i9JTz1vBv78LyIPhG+2X+YgU1DtITHhGWC2gNChlPJV8rtigBIy4g3B/HIR0lOSdhJtYgERgnEg4QvQ6mCxEIfwTBABH77PTV763s3urU6XPqJ+kI5WDfAdtP3SbjyuRO5KfiaOKd45blaelv7UbyxfQL9lv4fP1WArkFQAdLChIR7BWjGMAXQhZrGFwezyNIJPgfahpzGJ4buR73HNsWMRBrDHkLtgsRCKUASfuM+UT5qPYG81nvhexw67/qTuux6zLrG+vm6hPrTe2D8BPzq/Of9Nn1Dviv+Un7Rv6n/9v/yf/r/zAArwDG/5z/VP8w/679/flI90T1bfWh9vn0hfCT7Bfrderk6A7ojeZn5z7q7Om/5Y/fiN2N4sfpdO1s62Lns+jA7evysvO99e3+PAvoEU0MXAbPCfIZACqyLsMqjCQ/I1UmgSpDLiUxLi4/KA4iNB5BHLkX0hIHEAcPjAyOBBT6bPRt8uvxZ/A77qLszOca4ZTdOt/2457lgeT94mXia+Rz5vjo/OzJ8Cn0Wffi+3UBGgSWBFYHcQ9tGb8eLx1KGrkbJCK/KPMqvSm6JrUlsSTTIvUhaiE3HzcZvhM4EIAOuwpFA6v9qPoT+wH6L/RS7bzoauje6RXri+pL6Czmz+TF5j7rCO8+7z3uWe/e8cX0H/fE+p79Mv+k/TD98v73AVwGkgUSA74COgP4Am//1/vc/AAAQwGb/Kf19u8w72zxrPHo74DsyOuF7rfuH+ma4I/dxOU/8Tr3EfCo5Qzmv/Bl+4P7C/lmALMRwRssEyQFNAdVHv027zorLZ4gCiAtKacwjzKeMQMtNCV1HssbexoTFmYO8gqvCw4Jtf7E8XTsae5P8BzuvunP5gTiltt92SPey+bn6Ink1d5H3gjkNetk8ODx6fJv9qf7PAF2BPIEtgeiDVYY1SBGIU0cqxlcHWEl7izvLuMrUyV2H2QgzSTSJLEfBBhVFJYTqxEZDNIFe/+A+977dfuR+Qv0uOw+6I7pOe3F7ZjoC+TY5rzsbu7c6nPpVu2P8lP0DvTy9a36Tv5+/uf9Vf94A5UGxwbbBVcGAwjSBw4GvARxA00BMv/a/80A9fwn9OjusfGf9Sz0gupX5PnnlPFh9ATq9dy32FrkUPIq9nrueeU858PwvvgX+eb20/8rEYMa8xAhAsQFJh1kNY45jCsjHi4fHynxMU4zHTG/LIkltyEKIEke/RfHDm0Lrw2TDaIDgfRo7CrshO9N7+/r0uUX3vXYl9eF3E/h0OKw30vcHt0T4RfmDeuu7k/w3PMJ+fL/GwUYBvwGEA20FsoejCCtHVcd/h+8JAwqrC3oKikkBB/SHYgijySaHgsVNRC1EN8PGAqiAVv82PpZ+6v5QfT57F3pSOkz6W3poOjT5Vnkc+Xy5v3oDOoC7BTuD+9I74/xC/iZ+6f7bPp/+xQBrAXeBeMCwwGdBcYJswYHAqQAcQGlAHP9RPwk+xH4n/Ew7fHsr+4Z7dHnEuby6ZDt8Odm3arZCeGF7PHx0ewE5ffiOetn9rH5D/ju+5IJTBZEEvsC0wDBFUoy4TriK9QZEBg3I5Ms2S0pLXQrbCQ3GgQV+RYcFSgNRQXqBQcJnwF68cPmMefr6+vsyOkU5v3fXdf+0pXYHuPi6KPk1d0k3fvhS+ik7djyBvbO94j76QEsCKMJwAgNDF0W9B/zIuAeexo0G2EfPCRnJpgn8iImHE8XQBdbGToWhRA4DZgMAwlaAbL5aPja+CH39fTJ86bvXul+5VDnee0k8DftBui55wjsv/D78vXyV/In9Fn3tvl+/Mr90vw1/Mb+NwPcAwwBCP9QAI8CLgJD/1L7kfjU99n4o/j59XPxUOwV6Wjp9Omj6LXj9uCM5CTqnOq04bTaV9tm5Erswe7a61Xnl+ql8l748fYO+TwE8BWqHFIQKQNWCQ8iaDcWOs0sTR8nG6ohhSmQMGMyJisVHt0RAA8DEWsRBQyUBG3/tfsU9QDsYeVO4oLilOYn6X/jp9YDzNTPwd2V6KPnq98D26HdiOV67pz0pvb39xH8EQUADQMPzAwODyYaKSdvLKcmZSCgIegpJi9mLcgpZCePJRAiRx9WHLwWwg/hDo4R5Q69A3b4RPUC9RL0JvPI8mvvmOm45LzjkOZb6zrvZu116ALo1+1t9CP2tvNP9Mv3ivx5/rP9h/5e/sz+awFrBHcFOwMC/0v+SgB1Aab/UPxY+h35qvY18xvxGvEN8qvtP+dW5GjlKubY46HmJu0y79rmddpf2bTl4vXk+iDyuery7jb6j/1z+W4AVxSaJicjXgxkAXgTtTR5Rig9/yfkG5sg7Sl8LrguYSz1I+kV8wzCC2MNNQiF+7fyefNm9z7zpeX217HTSdld5HnqSOUH2QLP/tB93NvqqvJV8anso+oZ8EH6AQO5BjAIkQ5CGEQegx3IGPoariQFMEs1wjL5LeQpASmUKRYsaS13Kj8jtxrQFcYTJhHICkwE/gDA/+z8nPbP7KXldeez7FTu9up15o/hjt8e4xLrRvIT8qjuruzt70/2Jvz2AQEFbwbMBEkCUwN4CF4QihP+DgEHmgKMBMYJHgzUBlX9Evc09zv5R/hk8+XtHOo06FnmzeL43/TgkuMg4sng1+Xp7/zxVeeG3Gbg5fLBBBAJXP7d9dT5SQSTCVsLHRjLLwA+Vy2GDEgBvR7uSyleoEiNJJMTGRmBJBIqBSyVKpcdjQas9Gj1WABGAKvwqOES4fnoQerk33jRK8oz0ETfj+x57pDif9TN0lPhxPVXAYAB9vxu+rL86QFLCkcTKBraHjAhHyFXHpkcHB2fIsYrCjI5MA4mrhtqFg8YKhxDIFAguBjWC8j+VPl3/BsCLgM6/xP3ve4d6i7pNOkk7JLzdPnQ9yLvseno7Ln1PP0TAD7/VQBXA0UC7P/5AKIHXg4JEKQM/gjlBfgBSwHfBIMKOgj7+8vwpu/d9bH4CfMf6Yrj5eLZ40/kwuO94/Lhzt3W2bbaj97X4QHjEuSF6qb0nPu49vXqSuVH768BYBCjFMMLBgKm/q8CyghKEBsiyTkNQUQpnQNh+EoYR0WoV4ZDqyMIEKAKbgv6EVogByqLH/sBj+dP4gPtXPSg8PTp3+bI49ndn9cI1lHXCNrr37zoNu/Q7G3kEuAZ51j06f4gBiQKKwoGB58AsAH0DX8evSi2Jjof+xZQEVcScR1BLYc0JSp/F2YLWgujEVQYiRsLGJQNMv6c9JbzZvly/1gA3vq78G/oaubC6bvsT+9H8wH3Qfcf86HvWfLK+er/6gJRBUcJ1Qs2CCwDuAOgCgoTDReSFRUSjA1gCRUIZApnDmQOmgpDBsoBi/sP9KfvDvDl8wH0/+20467ctNs33Vvg6OFJ4X3cLtcs1mjc/OIf483i9ehP9Kz4t+/W5Gblm/ImA9YMVgthAhz7Fvub/p4FBxMHJ5g2By4FEPf3gAIJKFVGa0bJMFQaIw3pBDgD8w9XJGYshxn5+APjFuBx6d3zfPpK+xbwPt2r0NrTwt+352HnfOjC67nrVeid5QLr9/X6/XUAjAO1CT8O7wtOB6sHiBCkHGInNiy5J6wc3hC4DwQc0S2CNm4tDxvKCxQIBA2WE1IWZRLFCXr+CvQW7UXsWfF795P3F/Au5CrdMt855dbquu/X8jj0FPRz8R/w4vJZ+6IHjg/tDnsJogWAB1YKAQ8gFQ0ccx5dGMoMpgXfBxoOUBLHDxoKaAMl/lT2Lu7U6znxofXg8YPnC95i2sPZk9tU37Dhm99i23bZm9v/3KTdld7A40bsb/X/+cX1V+1K6GruH/5GD2EX2hL6B4sAcQEBCFUTECTONME4ByePC3L/BRC8LcRA6UBGMrwbfQNb82P6lBd/Mtow2w9I6TrUx9dT64YALwxuBW3s+dD1xyHUSOhs92j8mPjD7PbfoNwR5tb3+AVbClYGrf+w/TUCfAklD6wS4RV6G88ioSTFHqcWiRIgGOYjcS0iLzYozxufDY0F9QiDFfge2Rp3DPf74+9z60fwS/nP/lT7tvAV5Q7dNdyu4p/tMvef+rbzVufP4Rzqb/qjBXUHPQS/Ah8DkgNAB9cL5hGmFh4WfRLRDloOpA7aDxUQPg7jCkUHMgMzAQUAafjW8g/yB/LO8cLvhOvS4z7eut/b5DHnVeaC4zzg4OAA4Y/iaucC7TXx6PI48yvzRPUI+i8BsgYNCHUFpQSJCHEPGRWVFnMT3Q7DEGkYJiCbIeUbYRajFSEY5RoBHlEfHBteEt4IOgW5CUEQKRCGCGYANvvM9531N/aK+T79+/p68i3tQu0Q8Azz9vVP94j22vS08ov0G/mC/Nb9Of66/lz/pwHiBPUHggpZC7EJ6AjgDcQU6RioGLwT0A9zEQMXgRuJG1YX3xEoDogNtg1iDT8LhQe0BJwAJvzI+Df3ufXV81fy2+8G7hbtE+ya61zr6er87FTxsvRl9IbyVvEG9I768wGbBQEFqQQUBgAIZApXDXMQxRPfE9wRrw5QDGEKfAt9DbsNxglvA179Efpe+tL5bvjF9djy8u8c7vzrwOyF7rjuyu4d8LDxOPLC8ajzb/W6+Eb8RfyO/Cn9H//NADoDEgWxBZEEYASIBiwI2QZoBCIEaQVcBS4EcgL6AJEAcv8u/k7+fADw/jv8mvrm+mz9E/0k/GD9SADvAaD//fzG/mMCmgWdByMH3QXXBGsDugMcBkQIJAnwCYQJ7gbVA/YAZwFRBZgJXwjSA0wBZv91ANYB9wIPBv0HOwfKBIYDOgR6BgcJXApfCoUJywfsBk4GpwR/BAQFGAZiBvQC3/4k+2j6O/t4+8f5/vfM9wX2h/SM8sLxN/Kq9F/38ffC9hv0H/OM9fr5XP5TARQBVP9C/14AbgQbCeIKnwtSC9MK4AmHCYYJCAppC1EK7Qc2BWQCbAJiAXX/If1X+8L6bfiF9qH0LfNj8j3yPvLT8mbzKfM/8uXwsfLP9RP5ZPr4+uD7oPyy/ir/pgE8BHYFrwW6A/YC6gJRAwsE2QPjAdv/Sfxm+IH4XPkW+pT48fVm823wwPCL8qr0yfYe9qfzTvMZ9WH4kft8/Zv+uv4D/8n/bQJrBj0IbAd7BzwI0gnaC78LAAycC+0LAgxaCw8MewvrCsAJTAioCIgICwjMB2sHwgYIBkUFoAUQByIHfQbRBP4CbgKbA88EhAXpBIICggBM/xb/f//z/1z/vv1y+934Lfd39or3Pvj192j3WvR98lDyyvSM+NT5zPn/98P3yPle/Hz+DQB/AHoAcgFnAqoDCwXQBdQFCQb9BYkG+Qb1BukGtgWWBOoE+wQKBF4DfQHr/3P/1/6n/uf8e/yT+/X5//n1+I/5Q/kq+iz6cPl4+WD5d/tn/G79r/3r/GX8i/14/3wAQgBh/0b+kv4d//3+5v64/Yv9r/yr+8j7HvxW/Cr6svh7+d75Svqf+ST6hPrU+ln77fqv/Lz9WP5K/08A2QKDA1YDyAM5Ba4HTgh6CHYIJArVCmIKgApYCn8KFQqgCk8K+ghnCB0HpAauB2oHGQbsBLkDzAJ0AsACbgNVA9YBj/8M/9f+WAB6AZgBkAE5/4r9rfx4/lMATQF8AEv+g/xu+6X7DP3n/Yz9zvzI+nv6lPqq+q/6cfvd+/L7pPzX/LH8TPzO/Mn9Q/+/AFABswACAEEAbQFgAjEESwWRBFMDdgNpBAoFNAUUBeEE2AQCBbMDdAMxA9QCdQIeAQUBqQCa/8P+4P38/eH9cf2D/K/7XvxB/MD7Lfxp/Ef8fvyL/Hv8Lf1s/YP98/0V/x7/x/5V/if+2P8wAF0AS//Z/5UALQAkANX/rAA8ATYB5QAaAQgBKQHYAE4BpAJrA+0BMQBIAHgBLAMxAz0DbwNPAswBjwFiAqoDzANlA4MCZgODA98CGQJdAr4CjwLnAikCdAKMAgkB0//4/1EAZwCoAOv/zf9C/67+mP7L/o0AkgBwAGoAEQDgAMIALQElAkYCqQIaAdYAbwF7Af0BnQHzACsByADt//L+5f5v/+D+7/5o/r3+Sv4X/qr9jv1P/i/+Jv5v/vH+vf8a/7r+Cv+r//gA/ACLAWwBXQGsAQ8CkAIRA4oD/QKnAikDwQNjA/wC6QLJAgwDPALCAVQBlAFDAaYANAAe/33+CP61/bn9iv3O/A38CftG+3L78ftW+8761vo0+/z7a/tf+7L70fuD/MT8lP2b/Vb9pv3Z/fn+TAB0AF3/5/8SAEQByQH+AegC0wL3AmkC/AKxA+cDbARYBK8EwAQmBIgD+wOIBHcEpQPVArACPQIOAjIBYQB5AIb/vf6d/gf+w/0p/M/7r/sY/PT7afvZ+vP6rvtU++f76vv7/Kn9fv1K/hj/KAD7AAEBzgGmAjsDqgOeAwMEewSOBJIFrwRMBK4D8gJaA1YD+gJrAloB0v8fABUAXP+4/ur91P2r/TP9J/0L/EX8kfw1/R79+fww/f/8If1z/gv/gv8sAOP/DwEqATIBXAF/AccCfQMXA64C7gHiAroCAgP4AuwBZgEIAdIAMAB9AH7/uP5j/in+u/13/D/8ivuc+/r7YvsX+5v5ePkl+gX6VPre+uz52Pml+cn5AfvJ+1P8gPw9/Bb89/yz/dz+R/+1/zYAdgCvAKUB+AHGAlUDMgP5AzEEKASDBBwFKQUFBUkF9wTBBO8EUQRoBKUDXANaA3MDNQNlAi0BuP/N/87/DADW/xX/6/2R/FT8NvzO/Bv94/yL/Pr7GvwN/D78v/y8/XX+Kf4p/tX+yf7R/xsBOgF6AbIBAQGqAd0CKANsA1YCdwLhAugC6gLnAlkCDwJnAu8BfQEcAXYAxv/H/+L/2v8U/2D+af77/ff99f0R/uP+pP62/kf+vv1l/ib/5f9CAC4Ag/9g/4//6QBsAQkBXAHBAPAAoAFFARMBGAELARkBLAH3AI0AMABW//j+Lv9m/7f+zf6k/u79x/2I/N78ov2x/Qb+Gf1y/MH8k/z//Gj9b/3i/QT+af28/RL+Sf7N/lD/ZQCgAB4Aj/+2/yQBMQJqAugCrwIIAm4C6wL3AqMD/QMwBEgDNgMdA8QCRgNvA3oDAwNdAq4BqQHrAW8CZwGpAN//q/9AAHoA1P+w/tL9UP28/WD+Jv/I/av8p/xz/O38iv3+/Vn9nf2p/Wv9dP5y/jv/2P5+/x4AAADCACkBIwGuAXIC2wGEAk8DiwMxA1wD3AK5AkwDRANqA3UDnQJlAhwCzgF7AdYAiQHJAF0AtwBB/4r+/P7z/ob/Rf+A/tn+bv7z/qf/Cf/p/6r/OQCIAGgAcwDGAFgBCQHnAX4BzAF3AdMBAQKkATACnwG/AV8BAgGCAaAARQC9AIMAPAA+AIX/zv4Y/6/+Mf/7/pz+QP7i/Wj+Df4a/l/+vf7y/q3+nP7u/YP+ov9h/5T/6f+g/4H/jf/A/6cAAgE/AQwBKgGeAUkBZQFbAjoC1QEqAiYCPwI3AnQCxgGhAcUBbAG5AcQBRQG6AHIA2v/N/1kAVgCt/wb/iP78/f/9yP6H/q/9uP2i/er8gPwm/Vn9R/55/rP9Fv4G/n/+Kv+T/4P/QwDpAKcAgQEBAkMC4AHKAo4DiwO2BEoEmQMjA9kDzgMNBF4EkgMmA3YCawIiAiUCbgHdAMMA7gDm/+3+k/44/pT+gP7z/cL9Jf4R/Rb9D/1Q/V7+Kv81/43+Jv/d/iD/8P/5ACUBrwFTAZcAiQFLAUkC5ALXAqwCVQLUAekBwQFUAdUBcQD+/9oA4f/a/1EAoAAOAfwAiADc/zL/Av7L/ID6kvoR+k35d/hu+Dj5wPmT+4X9U/8YADkCqQKAA1ID4AO1BA8ERATnBHkDBANOA2gCvwE8AKv/m/4u/pX+vQDzALIBQgLwA5EFwQQEA8UASf4y+1n5Rffr9Vn0YfWV9or4Z/uw/p0AewB+ARAC4wGPAe8Aa/8W/8D+Q/8AAvsE5gdlC6YNQw43DV4LOAnUBcECZAAN/Uj6hPn3+UX8F/92AosEHAWpBL8CFQEO/qD5u/Tw8SXvm+2477XyQPfR+1kBkgPhBfgGdwadBckEyAIlAOD/BP5HAGECsgWQCKAMrg5sEBQRhw7RC2gGmgHt+tD1cPHN76ztxO5E8Y/3iwDbBsgMRxIzEzwONAxCBOz6NvPd7BnlDeCw30LhgOV/7e34RAJRC84RXxgLGzQaTBdsE+cM7AXx/hP6WfhD91H5XvuV/GT/4AJqAu4DnANJA8ABj/4//AP6xvmJ+Cz4p/mq+5b7z/8kArsC0wNbA4wCCAFK/0v+cvx8+5/8V/yy/iIBWAKAApkFvAQABSYFCgRCAN//IP57+o36BPqt+jD6SQD9/2YCcQMsBlEELAIeAXn+IPpC9g731vT/+Jr4xv5QBDYItAk4DmYQdA0sC3UHKwO4+y/5lvSy8hbycfTN+Lj8LgGlBg0L3AvHDeIMjAtFB0ACLv8X+373NfYy9r/1NviU+J/8Hf8tARgD/wQABYkCVAGj/mX8UvnB+Uz2sfYt9/D5gfzK//gD3wW/B+0GwgeXBlMGpwOzAvAAwf7Y/IT9fv8e/8sBYwNPAwQEmARrBB0EBARIA58CQwAa/6n+1/7c/xb/NQA/Ac4DUASNBEIF6ATCAosAHP0Y+7/5k/Vp9dH1F/bm+Bv7Gf75AC0BygNpBNcDnAOmAxsCWwHi/n7+jf4c/i8AXAG2A04EvAYVBs4GfAXHBBgDxAD3/on8fPzF+on67fk5/Ij8xv0O//H/Wv9Q/0IAZf6n/lz+Yv1X/Xj9av7H/zcAkQGoA+cEVQbyBO4D0wT9AnMB2ADRAD0AOgHaAf0C2wMaBJoEVQUKBVUECwOeANv+XP3O/Gv8DP1R/Ev7XfxE/pv/LgKiA4QF3gZsBmQFbwTABOIDCAJYAX4AB//+/uH+eP94AB0CGQP0Au0CMANfA4wDDARHAyACGgFfAAYAiwD7/8gAVgH3/7D/uP7s/m7/CP/H/tYAswClAKABowGZAmwCKwHc/0X/9v0X/p787Pw4/rH8mvzm/Ab9cv3b/QP8bPuX+mH4EPel9g/2hfTG9Bv1zPWb9yz5efiz+mH9ef0L//P+//4LADr/V/+VANIBNQRWBYQHzwk+C5INVQ6hDokOPQ2JC+wINwdKBZICcgEg/2z9OPz0+pT7mPwf/XT9b/2o/AD7SPog+i/5gPn0+Ff6xfp4+9D9f/98AnMFjQY4CEUJUwhiCcEIvQhLCKAHKAbABKgF0gSEBNgFtgZmBzIH3QYqBzIGVQXtA7wC4AIRAFP+bP4v/S78Dvyp+0b7svsO+0P8tv2B/pf/hQHWAdICEwOVAlYDDgMkAlYB/gCE/9f+T/7r/dv8rfy3/Gf99P3i/tf+9f47/iv8vPtc+h748fat9rD0w/Om8z31v/Zy92333/ct+Kf3Avdm9vf14fQ/9M30nvb09wH6w/ui/dX+s/+MAe0B2gIgAmcAxAAUAZ8CXwSFB9oKIw7XEAETRhWQFvIXcBf8FdoS2A4KCnUG4gPuAIf+Bfvr+Xb58fji+Vn7ovui/Jr9e/wj/Rf9A/2f/BP9Iv5z/S/9if2W/Xb/iwB4ATIDRARvBoUGtQhLCqoKDgw1C5wLTQvyCBUJbAeFBRsGUAQlA+4BhgB7/+z+Nv98/aH8hfxt++f6X/tr+kf7eftz++j8bvzs/Rz/ff9GACkBawIiBPAEigVQBjUHOAi/B1MHBgYVBTcEbQFpAU0Acf8d/t37HfsW+un6WvrA+Hv3Gffy9Inz4fJq8Yrwku+d7cDt2e7+7afube7f7tfvPO+U7oDuq+3I7RPv3O+88TH1EPc5+W/9xf9uAiUFOQboB64J1ggzCv8KeA1SEg8VCRgxGhEeIyJBJEQkXiSDIlwfRBlyERsLvgRK/pz4/fLa7SvsNux87GTvkvKx8433CPr++nL9X/7x/QX+zvt7+u35ZPkj+zz8if4EAXgDfgdECmUObBGyEuATVRJFEXMPnA2RC+kIIwatAsr/wf19/Sv9x/yj/Rz9DP13/HD7p/q6+UH4o/Xw9OHypfHN8VXypfKl9Ff4avym/w8CsgX/B9cM9w2fDlQPOg6fDggNdAtfCuAIMgc3B9wF1gXwBk4GxgXYBNMEGQT3AegAXv3M+Or1XPM68BXuBOxn6u3py+mE66LsEu957+7x1vKR8s7yQvBP8ODt7+1n7Mfsxux97lH03/ey/ET/eQRGBwELkwuXC1ILmggMCNIEPwOgA18Ihg0UEjkVhRnQIEsmBSvdLLsqOyjqIpwa/hB0B8b9t/Rk7KHild032sra29zj3zPkXuhM7sbyePhv+xn/FAFbAGb+Wf5V/jz+7/87AOkClgSyCNsM8RBSFiAZLxvxGtYZqhniFhIT/Q5eCaEEPwFj/BH6RvgK+HT3jvZA96z3YPpK+l36wfi7+IX3evY49STzE/R78xH1L/fS+Cj9UwItBlUL7w9WE7kVwhdEGUEZehc8FY4SIhCqDgEL4gakBp0FjAQnBJEC5gI5AsgA+v6G+0H6q/ji8zfxeu5U7Cvqt+lc6q/q2Ov77XfvtPBv9LL1hPXP9Hr0VfSf8ZvvLO5667TrqOvW6rTsTfG+9vD6zf5mAVMDygXrBkEGTQSmAtb/FP2c+1X7UP7UBHcLixKuF+AcdibILDYyETO3L4krHCdNHUcSKghv/Djyj+df3v7Ww9T3037VDdd22gvf9OSy7NXyTviT+w0AHwK8BO8HqQn0C6ENlxDaEc4UKBkTHWshJSNoJBsl7CMHI6cghRzQF+YQMAprA3f+lvpu9vfyn/Di7F/sfu3F7fvuqu737Wrtte037XrtxuyS7ljuIO808mn1N/vTALEGCwy3EVIWuxtDHjUfwR/8HjQcShisE48O+gwECYEEkgGbALb/mP4c/hD8sfya/B37o/hn9m30dfJv8H/v6O0n7JHsBe1d7kTvqfF39L32f/bW91L4rfjZ+dD3i/SA8Wbw/uwg6tTosOdC53roROhV6Qrw7/US+8z/AAGcA38HbgnJCHYGPwSQAb8ASP5W/gUB5QUTDbsRqhf1HU8o6S6UMlo0NTEEL4kpuyEAF/sLbAB59QXqmuC62ZjUu9MK0yHU+taU3Dziseki8Jb1bfrW/oYEXAcpDAEPixBfE80VxhlCHDIeAyGsIsAiCSMFI9Uf4h1rG1sV1g9TCwYGoADf+6T2FvM/75Xrpukm6AHn3ebH5YbkR+Z854rpBeqV66ruDvDg9Iv2BPt1/wYCGQeNCfINEBL2FiQXqRdEGsQabRukGTUYbhWtE84R1wzeCXwHYQRgAob9D/oW9+z0wfQJ8svufuwm7NPrFuvK6kPqWOqK64Xs/exK76Ly7PPl9u/4qfrg/SH/rAHeAcMAQABm/wH9FPoL+Nr0vvIL8KXtquyp7pTwofEF8g7z1PR69tH5APmT9zr3m/eT+On5yvpJ/cIEGQyREowY0h/rKYcyEjhFOr05VDn3Ng8wQic9G08RqwVD+PLtjOMx3IjVa9KszjnPotID1yzcOuKH6THv//Yo/fcCOwfqC3UOjRFGFGUVDBfCF1UasxxnHPseNyBjILghBCGgH2scLBqFEyEOtwcLAMb3be+96HThT94V2AvVvtQ01VDXctkV3jvixufi7GXy1fdv/YYCMwdJDJUPnBPSF5caih/bIb4hmiR8JUkmTyTmImAfcBpNFpwOagiXANT6L/XZ7UTpjuR64XbgguD03wPi6+Op5hfqAuv97ofxT/Qe9/H3hfmU/O/9+//4/6cBRQSlBKAFhwWRBSIFVQSYAQD/QvrQ9jfzDO/b6p3mbeLC4dDh1OGD4iPjs+Y56gfvv/CQ85n1bfmu/eT+UgEbBbsLuRJRGcQduySSLGw13zu3PG89iDyrOkU00ivKIEUUeAnC+2TufuMv2anShs2+yMbIRso9zpzUyNu/4WjqrfQb/FMF1QsWElIYrh1JIl0jYyWPJl8nkydaJ8UlbiT5I54ixh/JHOoYshQdEGQJIQMy+xz0Duwx5Fvec9g80+XQdc/Oz67Sl9Y93LTjiepf8sj7QgPiCpQRxRdEHIwfmCEdI7EjpSIDIhsg8RyfG+0YjxReEZMMIgkwBTsBMvzP91n0NPEr78Hrr+qz6OPoyejl5x3p8Oqq7Azuf/Ci8uf0o/ip+2D+4wB7Aw4H8Ah3C68L9wxUDQ0N8ArgB1QGjgEV/p/5qfRZ8OTqmuVj41bf2dyK2jfZ69i72VDcWN6p48TmQOs/8Ov1J/zAAVoGqgpEDvcSDxe0GQgdFiA8JCkmPSjpKW0rniwnLXUrIyj+JBMg9Ri5EvoJnAD6+M7udueS4HvcGNny14vYgNuU4PfmM++E9Yj+8AU1DUoT4BjLG4Eeeh8eINgepxuDGskWJRRwEP4NqAqAB3sE0AE3AJb7Avkl997y3fEM8MDsNuzC6hfrEuwJ7Gvtlu9R8ob0/Pfa+TH8WgA2A0gGmwgqC3QNWw/hEI8SnBM2ErMSLxLbES0QEA1GDKUJgQeYBUQDlwA2/479HPyD+q34pPYk99P1MPSE8sDx1/E88WXyc/AV8rPyUPUw9rP4j/t8/TgA0QFMAywE4wUABXUFWgORAsAACv67+9D45/Uv9Ijxr+8v70/tt+wd7Cjsc+xt7N7rsuzS6xjrcO177THuEPH78br0rvjG/XIBagZVCUwNNBKaE84XphdwGIAYkRhAGE4WXxVuE/sSTxLdEd8Qtw/+D9gOIgxsC3sHAAU/AZ78fflD9VbzwPDc7rjuSfBV8e/0q/eo+rD+xwLNBQgJPws7DIkNxgyOC00KBAfIAz4Cff3i+2H5mPZn9WL0FPMj9Oj0hvXv9uH4Cfu7/BT/LAGoAgECIgVSBG0FWgbkBBwFhQWnBakEjAaVBeAFAwfzBXQGbgUUBqIEswLfAgf/2P4+/nf8VvuT++L70Ptm/ej79/6A/Zz+IgAY/g0AkP35/X783fsT+jL6XfnE+N35J/kQ+q74cfqv+YD7S/zM+mH6Ivuv+Tb5Z/mQ93v35fWQ9ub1jvWv9On0KvQA9TX1JfRm9pT1Cfad9wb49fcN+YL4wvj1+Wn5vPqT+uX60/vb/BoAxQDvANsD/wPSBtYIZQewCBgIBgkBCTMIfQclB9QHYAn5CGEJdQrvCxgOrw4ND/wPEBIqEAERsg+FDkYOaAz/CgEJcQZiBOwC/AEEAQb+sv01/W38Z/xD/Nz7Efva++D8aPsd+0/6UfrZ+nT6SfmR+Cb5z/j9+ej6Yf36/Fv+4QBMAmQDHwTWBqQFHQgqCDYI1gehB2YHvwajB54EDwOdA8QCz/9FAcL+q/5E/Vv9Vf2y+xX9/fol/GD6svo4+wj9ufwo/EL8QPsb/6f+3P9w/jf89/wm/Bf8M/rR9rz2s/dg89H0vvMI86L3hPct98H3l/cs+gb9wPyr/VP7QP6q/nD8Cf6i/lsA7v+7/zL/eP5AAIoBdf+x/qv+4f8z//X9kfxo/Hf+5/xy/Ef7kPxB+037P/vc+HT6RPuP+0X7zv3L/GP+QgDn/7wC9QTNBRsFyAQSB+kGmwb7BoQHHQh6CbUKOwkkDEILFg1vDe0M0QxODJkLowrmCN0GHwclBJsC1QLQAUj//f1P/db+yvsx/hv7CvmD+zb6Ivog+kn71Ppi/GX9lf4TAPICrgS2BeoEBwemBUsImwaVA40E1AE4ADkAjQAR/LX9cP1o/er+J//oAMwA2AJcAy//RQJpA+kBeQFlAIH9TPs5/Yf7TvoK+pv7afkt+nn6fflQ/UL+rP73+17+gf6X/Fz9l/vn+rL3ePmc9wD2H/aA9bf3Xfrq+dH8C/8T/b0Aw/+OAakCeAL4BCoFawStBFMCKANqBbkEgQaACDcFwAP8BPgBhgP7AKf+qf7z+4/7avjf9ij3k/U7+Er7o/ny+sr7gfot+6b7jP6H/oD+p/2e+n78y/3y/hkAEAHNAWUDdQNjAxUHyAe2C3kMWAs+DJsLWws+DNELvwxICrAH8QdBAo8DmALzAaP/XwDW/zb9fP/x/bv94/+3///8IfzS+1b8efij+q73dva4+137m/yG/ET+7P/sANgCgQDwALQDZQX/A+EDKQXoARUFOwRtAyMDGQKVAgMAEP53ArkAk/7f/9P6S/xo/WcCvQF3AIwD8P94//7/bgB7AP4B3gRi/Ob6X/3N+wv+qAEPASX/SQBU/6f7//ry/KD2ZvgH+Rr58/e+92L4i/dY+4/82/cy+3sBhf0IAET+t/vj/sMB9wCCAtkCiwg9BzoDwAaNAF8F7AhVBagFZQamBbYAgv7PAmoAMwHjAyb94fuz+V/3Pfaj9dn29fUV9+f8p/mk+Kz7p/tO/RP+zQC0/c0A7P+w/Zv90P6R/wID5wW3ByAK3AXeDQsJfgqEDisJNgpNDAgF4gO5BLoCnQUSAT8DXfwx/o4Bj/1t9979WP5a/TsDW/5X/WH+4f4B+JX9hf7w/5L81/2G/Hn4SQCyAKUAF/91Ayv/vAIhBDwCMQWzBCYFVgK4BsEBGwBnAvAB/f46AN//wft9/hj/HAAw/DkBm/k5+cwDhPuG/EEEigGc/Bj/av5w/wwBqf99/PL8zwOFAcH6ufpY+uj4mP8LAPX5R/3s+8X6+Puq+fX81v+P/P37m/vU9nf+XQFF/lMDQgFZ/ir9vv1kAcIBRgaJCZYFlAE2AhwBJwAyBUEEgADKAzsD1vuK/+f+dv0J/vf99v2j+Fv/MgN3/cn54gA7/gH/EwGC+aP+SAP6AQP+ZgEiAk//ogA9BlwF9wNXBP0EQQXzAk0F7AFQBb0IvgbUAn0COARuA2wDjARxAfcCPgZ9/y/7Mf05BGT+fv+a/lz4ff9DAen8Hf0qA7QEEwSnAa/+SP4VAmsE0gEcAM3/gPykAGwCL/8//wT+FAOLATD+xwBY/x4AIf8N/LEEnQAyAGkCDP71BKT9b/kl/gr+tP/1/zX2R/rc+xv5zfz/+7wAzPzd/cT7aPqXAEsBxfv2/Qb93voIAC399wIK/iYAdAF99Bf7s/0w+zgDsQC1/Iz+WviF/C//mv+rBU0AVQEQAvf9W/6x/FgAMP7G/2YFP/9/AZwA8vyeA2kBVv8A/3b++wP0BEz+Dv7aAJwA1wONAAMAWABd/ioArgGf/1T/N/5Y/W4CXAFy/w4B0wGW/8kCcQLx/KIAewEhAzUFYgPgATAAvf+X/xwIJgibBYAEWv/m/08CFgGeBG8HEwNwBR7+UAAlAAwAcQNiAj4BnALR/zb7PwNQ/Kz86AHAAgMCbQBj+Or6WAGXAuADigOGAvH7hgDgBIIBI/0oABkA7gSk/o/8IQBt/Q0DPP57AJoDKQBxAoUELP5b/Jz/SAJABi784f+yAlz77vyH/fP/uP/cAPb6w/pI+dT6KPzWALQDVv6b+rr8hf8o92wBBQHP/kgAGvzD+Z/7MQASBwT/5wHRBEn02QPoA4D/EwhBBLz98wACABwEDASGAaID0PvmARAEJ/+SA1QC6fm7AvsDJP7pALj/r/4hAGEDz/9r/5kA8fvQAAcAWwHu/5T9swBK/r8A3AW5/9v5uwb5/8r/ywFI/HcCDgP/ALsAjAKtA/D/nv6tBf8CrP9ZBVoDff+hAs0ERgDbAJID1fzbA+wCDgDf/uf+QQO5Afz/8/5T/4P9fwH9AI/8/v7N/rj88gBo/fH99f0Q/8gBGAFA/hQAyv3c/jgDs/9jARf/2/6jAPkA2wDgARL/bAG8/4UAOQK3AXkB3wEbA6YCKgEMA5sC1PwpATP/NP74BRUBZvlwAMv8SP7N/f3/+v/a+ej/PP4D/CoAGf34+jsBbPum/rj9+ftH/Tb+5gE2AIn9Cv8gAHv/uv+n/uoFZgOk/3gBHAE0/sYCFwGZAvwDSgIpAjUCaAN0/ywDSATgAzX/7AYO/ir9NQRT/vIAU/62AE7/fwBdAcX90f9iAxX+tv/TAWj+HQJ1/qr9eAKd/3sD5/+3/dkAkf+SBKMCVP/FAt0Cn/3rAo4DQgAmAtwCOwK6/xUDJv0A/e0G2gLY/+kAUgEO/XsA/AEgAyD/sP+9Ajz7ZQLM/7H8OgJHA5j8yv/y/nn70P/rAVsAh//n/zv+p/93/d7+hQBJAWL/ZQHH/v79EAOKAdf+pQDlA/f/AgAsA9MAtgANA+4A3/2WAkcAA/6ZBWICSf1H/moBeP/G/uMA7f69/akAef8R/cf/pfzM+8IAzP/W+8H++v9D/Lz+CgBB/Vf9hgEw/qX+MQF3/6L/3fwXAmkA3f+TAZQALABwAJwAfQBIA4oBIwMRAk0DlwHOAK0E6QCJAjEC8ADYAof/gP59Ar//HP9sAX4C5/9R/JQBCwD4AEkBRP4OAF8AJf7GAGD+1f/9AGX/WAQy/t3+qQHz/sn+RgKKAEH/YQChABH+LQBcAj3+sALcATgAtP9KAJIDcv4i/icE/f5FAFkEvf0jAN4CmgHV/kv/mwMw/8X/sAH+/8n+lgDWAF/+2ABXAc79I//+Av/9zv2kAPH/p//L/VwBv//G/iMBsgAd/3j+egIuANkCG/50/oMDmP7nAIcBjAHXAekAHQHDAF0BCAP2/50A2QJUAO3+0ALMARf/Ff8ZAtMBHP9UAhL+V/7y/yD+/P8m/+3/w/+i+wQArf4k+9QB+f98/mYBZv9+/tQBpgDI/3gBCAEsAs4A3wLvAIv94gIAA/j91AGuAuf+kwM+A9//WgC/AVL/RAEiBPgAa/6UAcECe/0xAu0A4f7yAY0AywAh/9IBdP9i/ToBBv+5/tICMwAX/HYC5wDS/7wB8AA9Abj9FQA6ACf+PwGK/zv9dAMwAFD+7f/Z/w8BWwEIAzQAY/2+Abv+Ef2uAmcAKAEk/PcAcQCr/dYDPv9O/zABJP8IAeQA9f4tANT9vAFWAc7+2wBm/53+q/8R/6T/QADx/S4BEgCb/6j/QgDG/3D++wEnADQBqv97/lYA4wGBACcAEgCmAMoATgCDAv4AUQC+/l0Abf9qALgAnf8wAeL9CgC3AP39xwG2AcL9hwAaAdf96wBvAPP+IACX/zIAev4TAbcBrv3R/xkAdP4Y/3ECEgJG/doB7f+I/ckB6QHfAZ4AzP+CAcQAKf+rAl4AtgHgACb/VwKCAYv/awFTAYn+HgLYAFAAvAFqASIAVAA6AgkBNP9GATUBw/+0/2QAg//aAM8ACv/UAVQA7gH1/ysBEgJ2/yoCvQCD/x8A+f/X/6oAIv/w/9YA7f8IACoAc/8wAM4A4v8CAG/9sf9OAo7+OwF8ArP91/+cAYUB5P+4AEcBsv8VAID/R/9c/1gBgP/O/pQArgC2/jABZgCu/s8B6f/VAL7/Bv+kAYf/MgLhAa/9WQF3/3QAGwHaAJ4APP8vAAn/oQBRAdwALgDCAXsBBwCW/6wATf52ASMC8v2oAA0Aq/5P/6UBUgEM/yAATgEW/+n/jwC5/3b////0/+7/YAHN/7/+pQEIAeP+WwB3ALoA7f9IAMEB+f4v/9oBV//iABMDfQAiAHAAeP5TAAABVwDCAMj/OgDu/jAAyQBiAEUBrgDt/mEADACcAIkAZgEQAHj+PwJo/j4BYAFM/iEAcgBM/60AXf9zAEH/I/9qAyX+lQB3Abv/rv/uAZ7/5/3EAPwAqf77/7AC7v8b/lEAygGT/r0C0wDa/f8A3QD+/R8BegH+/TQBbwFfAaL+rP+2AYz/BwFY/3X/hwGr/az/cQQQAEX+O/+CAAT+cgBOAaX8MgLlAID89P/3/xr8XgTFBKf+0f3pAFwBfP4VAaQAsABTAUUBZf2F/4QB/v4xAisA3v7HAP3/5wC8AOT/zf9EAaf9v/6KAbcAmP49/zz/If/Y/4n/WAAM/wMCBAAw/+z+nwHk/oMB9gDJ/bQDDABk/pH/rwD7/q8ACAKm/7f/2gCX/wT/rgJvAFL/RQR1AOv+uACkAaL+LQCJBmv+C/3vAlr/IQBfApL+FwGKABUA2P5TANcBMf/s/s7/pATx/UACQ/7y+voEz//WAIP/LwLUAi78XQF0AoX8bgKZAucAev8l/uMCs/0YAOIBDf5DAfMCYP3g/dwBdwDzAUoDD//j/w//egFlAub+YQJR/aIC2/5JAAYDXvqrAvYAYQBwAOr+igBNAMkB1/9z/VACpwEx/VwDNgP59yIBUQbc+rIBmwLJ+6P+kwfvAHT7nwFDBGH+DP6eBSr/Tf4sAvkATf5WAVIDmwCx/In/zQAqAEH/W/83AHf+zALF/WH+CQHoAkD/gf/KAlD+9P4GAewAcv6bAsr/7P6L/q3+YAGyAuv+5v62/1b+UwLZ/fkBo/5W/gMFgQKn/bH+zwM5AP4ANQC9/jwBbwG8ARH9n/8M/w7/3QEoAZ0CSvyaBDX9OAFSAx779wHs/lQDmP/AAEn9Tf8p/2UBRwCs+0wBYAT7AZH3eAKtCeQDFv9YAnD6kP9YA2v6QfsmBPYBXPmYBXH/dvjsAFUQJQT79g4CPf26/gUDU/yO+ywC+AK4+Cj89f0u/hT8FvyxAbj9BgbJAMn66/9cBUQBSAT8/7YB+f8u/t8CTvjqAQMCVgID+zIDxf7j/tEFcvpz/xIDAQUk/jD6Sf6bAQD+HARs/sf9qgH/APYASv0K/af+8AJj/RH9NALGAQH9dfms/bUC+P/pAYEDkwGc/oUC/wAM/Uv/tQVHBI0A//2i/mcEXQLv/JT5ZAbaBOUCTfqV/YIBeACCAPv99QFi/asBHwNuAWj2CAHfA4v8qv+SALv/Yf6nAkoCNP67/kEE+AB6/aH/VgL4/0AAiQMsBQz86ADPAED7/P8dBbT9uPsvBxr+4Pbp/f8Eufp1B3cEyfXw+x4Cp/2w+oMFGAJI/loBOQNN9iX9Zwbb/PH/JAHb/Ej+lAK1Alb7uP6DBsoFDv8yAS//7fpvABYDAAKu+k0DQP/+/WL9Z/7q/4X/JwEO/nX+y/cA/4v+0ATm/RwBAw1cAdL+UAJD/gz7UgAS/PcC2AExAVQCmPutAXH8ofs8CLwCZf0ZA7X9lP3XAPL7pANrAkcA1QMTAlYE3P3x+YH+jQDz/FgCqP54/P0AdAEV/X/9aQOYAL8DhAFiA3T+P/0YBEf/5fywAw0FdgCfAYoBgADdAc8AnPxx/ev87v6r/cr+MgCt/4sAkgGA/X77aAZKAwv98fxJAtb/gvuV/g/94/yLAtUGBv3F/MABVfty/SACgvtV+34GTgHm/T4CagIUAh8CPQOn+zMAAAPF/Mb8PwRSADr/2QCK+z0AZP6IAlX6fgEqBqb3ef8oBjv85/1sBkQAEP9b/yIFfP/2+9T9DP1B/j8JPP9w/VkLC/2c+0oAEgQi/fcCc//2/koAoQKcBA36rgNhAAwCCAJsA3P90fxEAkv+LPwt+XoAtQNh/5n/Yv9s/JL+OP6M/ksBqwH4/OsBl/3O/DwBBASSBjkDVAYfANX5ZP0lAFz9YP+d+SEAWALTAdgCBf8+A48E0wRzAfz9v/ab/l4CpgIH+3j66gLI/kn9kgBrAmT9Av3J+mz7iv+J/yUAbgGn/W4BIwagB8QA2f7uA6EA+f3Y/Gb/Zf56/wH/l/5Z/zT/JQA2AGP/JwBkATwAif1r+mz9HQOFAfr+8f9JAA/+AP4FARv8Vv+eAm4AavxW/Cb9lvqr/6UECwI8ACMDjP73/w8ARALxAAEAwQKz/7IBh//F/Tf+vAKK/in+uQGKAPkAhf7X/0f9HAHbA4X+u/xXAK7/i//HAHH+UPxwAFECev+lABr/GQGtAMgCtgCp/mgBGQCRAG8DWAKo/kr8GAAZAU3+3wAPAL7/jfs+/+IAzPxe/fD+AQFoADIBXf9g/54A1P+u/oL9Z/+X/xT9Tv68/mn////x/1b+pABBAfD+m/9P/xQCb/1M/hIBGv0fARsBQQATAv0AJwHZ/a/9FgASAncBMwBjAP79KwG0AAAAuv/M/e4BpgBvAh0BNf/n/0oA3wEp/7D/hvscADMCUwALADP91f4A/Gb/1gHW/5D+MfzyAGIBv/+4/3v/zQElARwBKP8g/nUBZABH/3cCrwBM/4IABAL2/gkBpQKLARIAsv7PAicCqwE8AVT+nv5aApD/XwDH//f/Wv4F/TwA/P06/pIAhv80/h8AQ/2j/t3+D/5W/mj/mQCD/dj+Gv5i/vX/O/+Z/zj+iv3y/Sr/e/91/er8Pf1h/t396/yR/pf/cP3e+/799/zj/FP+l//X/hn+HAGI/k4BbwEsAA4DeQN4BMcABgPhBH8DYQbbBZgCSwVLBwUFPwQNBEwBqgIwBPkB1gErAUYB9gC9AP8ACwF1/6MAV/+c/Vf/Zv8iAOsAu/67/Uj/ewD4AEP/kwGgAyICDAFMAMABBQGUAFcBav/n/qv/jQDz/0n/YP4O/2D/8/+JAc3+XP/u/iH+3P5I/Hf9dPxZ++b5ufhp+F730fZh9fT1tfZt9rP0WfbN9vj3avkF/dn9F/1z/+H/QQHz/4IAuAA6/0EAeQHf/5H+nAARBmIKuA0PC44IFA3+DfwLawutC7sIegcoA/b/rf94AnsCNv1g+076R/sl+sX3HPZv9bjzqfMg9QT22/cc+3b8k/9VAokCzwUACbQJawslCTIImQzKDF0QGRPkEYMSBRccF+8W7xnXFkkUfxJnEYYQDw1xDfUMiQxZDKwJRgjjB7MGWwXKAS3/nfzV+NT5Y/as9XX0BfQ084vz3faE9FX0zvOR9f30DfPM81nztPNY8o7vUO0J7Srtvug75ufkJuL74drgrd7g3e7iaele7Yrwa/GQ8z31Dved9TH10/ZR9Yvz+vLa9K/8AAfZDzkWvxUUGhIiwiV2IpcgAR4iGlsV1A0KB0gFFgYlBBgCSPvs+R37XP6N+cHy6fDa7E7tBe3S7ajuJvGO9uT6o//RA6AJgA5wEEUS3BACE1gTCxUTFs8VORlpGzIglB3JIBgl/CEpIH4eQBs0Ft4XlRM7DvULCQjeBusE2ASmAH38Nf33+m/1kvNx8r7vau777FLtruwF8M7x7fEJ9ob2mfeW+WH5ufi5+dD7offq9Qv07fAI8GbqU+dv5GPhf9wc22LZn9g94IjlPOT+45XkxOeG6nboAend6Rjpseo07dXt0vTiAIEQMxgiGV4bRCPxKcUt/ypZJvIiPB7RGY8QrwyTCvMLswceAEL7+PoT+Uv38vBY6/znOeTx5OXj9uWa6XjwCfWI+6wAIwitDQ0UxBf9FasX6RrBGycbfB0FHx4goSHMJuYkCydPKUsmDSXFIXYd7hgmFAkOGAlKAjcAe/5y/Mb6IPUs9P700fQW9UvzBfHl7cPrPe3E7DLst+7O8K7yWPRB9gv6nv2JAcn/VP1Y/DL5x/iq8u/rlugj5ezgztzZ1hPUFdnJ3tTikOEX3zTgyOOo5RblaOMG4wbiPORJ5QvlqO5I+9gLUBafGLwbpSKFLp8wfSsLJiYjCB8zGDsS6wnSCnULqgQH/KH3GPo++cnzh+ox41vir+Jd3wne8+An6ZHv//Xx+q4B9Q4tF/cbnR0NIbcjsiq1LrQtMC2gLooyKjXiN+83yTgTOY41Hy2pKdEhiRvZFGMMlAbC/bL4rfU59o3zZPD76/rq4eqB5xTkfuFx4fTdSd1h3yviwegm7B/uLPPo+Gz96P0U/1j/RP5p+0r27/Al70PuPOkr5sjkWuh97jTvpOtE6Jjm6udG41jfXtlY1xHbDtgk2nXchelt/nkLmg1bDrcVnyNeLuYo+B/zGwkc1RmlEkUOcwy8DI8MHQc4AkcC8gOsAUv44Oqg46XjZOQD5LjiquGH5rLxB/l0/ksFzAssFKAXixZ4FfgWNh/JI9slryhuLC80EDpBP9A/fD/bPGA41DHzKnAn+h+LGSkUOA54CuAL9Aq1BHj7yfbt9FftW+WZ2z/Vt9XQ1PDTvtWa3Rjlqukq7OzszvOJ+3D/jvqm9Qj00vSN9lv0uPO39dX8MQN6BCYClAHjAaj/MPms707m8N/Y3d7WzdAp0q3cmuuk9Vj68/1pAqsKthHAECULjQP7/qL+pP0d+AD5I/+/A1wCofvV+6H/9QLA/r3wfuV64pHkGeYW5q3o9u6j9zn9Vv8bCNgTdxmwF8MS1w+/EnMYTxm6GjsdASLuKj0yBTiaOw49kT39Oug1hi97KeIl8SETG4AXKRayFrUZbRh8E4AKvwVbAeb5OPCx5ojhWttL2N3UVdfT3gzlP+fe5jDoievS8g3wZOqY5knjRubR55HmIuyE9pUDIw7+DbgNpg0nECsO2ASQ+cvvlOtR56XjH+MD7Vv9VgnfCzAIDwlKEQgVGgs2+t3t7ujP5sbf19Zm2u3iU+du5gjkoujl8BLwH+Xw28TYJ97x4NbfBeJh6wf5aQIaCrcSlh0cJVcl8B2tFxQVFhN4EVAQJA7aDPEQFRjbIZom8ykmLCkrqScVI9Ifcxu9GHAUaBH0EIAUpRukH4wgrh4YHOEYvxGvB4f/wfY97JPlsuK243fmV+ik7CPy5vMt9N/yIvFN73vp0uAu2/3aMN8A4wfp8PRtAJgL7g8mEUcU/RJUD18Itv/B+LnxHu/R7tf0PwJnDoIVTBboFUMbaCFQGXIJiPfx78rqot+31fzPwdXG153W69JU1yDk7uYo3l7SWdIN2JXbktjc1iTeSOkP9jkAfwwYGg4kcySSIY4i5B/HHb4Z/RJVC34IGg08EpAXuhtzHjUi3iSYJYMh0RtkGeoRGA3MBzcG3QhVCvsRbhVYF54a6xpbGYsVcw74B+oAa/jR8WLvX+8y8c3zeve6+0sBagJuAaP/5PgG85vuv+uW6B/rnvDL9iT5ff5DB5wQThPSD8IKWggnBnD8mfXr8fn2hf4qCYYOnRFtGNMh+SgzKEweJA8HBQz8gO8w3lLSvc4wzwvMZceZypbVpNzH2JTRudJr23PeOde0zz3QjNrN4aHpG/Oz/U8MqhXtGpAgHCZpKSwowx5sGq0UTBGtD6wRlBLMErgXrBuoJLQmsyVBIUAeqxtBFukQUQoABZMB+gH8AzIESQabCiEMTAmwA8oAGgEd/Xj0sO516+LsRvDK8Xjz4/YT/d0AYQRMA9r+5f9N+/333Pl0+3H9Jfwg/CgBtAlADfkJHAjZCU8KcQe8ARj+QgKsCVsNBQ06DzQWYyB9J7MlcB3pF+gV0BHiCGP4BuqM5eLhDtmz0hDR/9Ou1WfR2Mwq0LPU7Nc71jDQdc990orZxN5C4orkxuwj+c4DpAkmDd8PEBNNF0oXRBWXEaMRfBIDFbwWjBc6G24dix72IOYhiCLXHzYaSximE20PnA2MCUEGlgRlAdP/UP4a/eH5v/WL8k3wK/Cd7A7rpOw376vvXPBd8ij2pvrw++35YPe59xT5Ofod/Cv97P2bAYEDWAXbCUwLdgnXByoEQAKuA1kBXQBPAn4CwQeFD8MXCRkrGmcfySdkLZ8kex4DHfgbLxXPCKH9CPkW9d/vpeeM3lrcztpH2hvWCdFk0UjS3tES0J7OMc/x1XLbNtxm3g/kTO4d9lD88P1aAvoKYRBkEeIRGBO8FZoWYBeSGiwacxsZHLkdZSC2IEkd4Bw2HNgYYxiaFFAOdwjyBMcEpwE2/On4O/af8x30zPPo8nfwAPCO8WLyjfSI8TryMfTI9Kn0g/T+9GL3vPeU9lD3lPcG+Hr5Y/37/qj/1/0FALgBdQL5/mf9jP8t/0QBbAEJBPcHHQ+KFbUZsRsbIPwlASxaLR4oTiNlIFUhChniDjcHN/2o97PxzOpz5ZfgId6X2+TY+dTz1XTZb9eR1hXXV9g326rdCeAL5ELoCu1B9f/6cv7HBHoJiAyyDvISABUKFsgVJxQIGXUbthzKHHEdCx/tH7Yi3SBXHXIYMhbFFXoQKQn5AmkDMANt/hL5TPYN+F34vffT9UnyF/Fw84P0NfOd7zTske418S3y7fG98KvxKfTw9Rr1jfNR9EP2dvkk+h35BPky/KYAUwE1AZ0ASAE+ARwEiganB24MihCwFdkbDB+qIH0n3S1BLw4qCyVmI6MfbBoDD9YDsPp99Pnu9ueO5Krfit2726XZWdxE3hvfMt643Fbc599d4zblRud/6Vbvt/O/+Mj+wAM8CTwLQA11D8gRqxVkFM0TNBNiFGwYMxhJGHYZdRvdG40c9hqKGMsWlRIXEG0MDwjmAhL/gf0G/Rz7pvZU9QL5xPnK9mf0nPJ08qTxNe+e6kHpfens6kLqD+eG6Jrps+tC7XDtUe7s8BzzIfSZ9/L4tPrb++n94AG1A8wCLQN4BD4IFA13DtcSAxa6G+wf5iLrJjopQyzwKg4o3CR+H0IZoBJ4CJL+RPUe7vXneuJy3q/ZndYZ1+XX1Nl425nY3dqj3afggOPI5RLoCOxn8gz2k/qTALIFlQx/EKISFBbiF5wZZBgfGMMW1BaCFsQVdxXkFSYVtBUAF74XfhcWEgsPLwzgC0MIdgJ5/hL6U/kE+Az2OfZx86vz8/Qe9NP0qvOx8rHxovDg7izuru+c7HfpDepc6fDpDOr/6pXr+utg7+v0g/j2+Rb8LADNAxkH3AgICTQJDQdpCC4MvA6PDrgRIxe2G4YdByALJg0qKSmwJCggPhylGaoROAf9/CLz3+116dHjSd7T2fDXiNkP2+TcGN2Y3RbfWuCB5Ibmnehy63fx6vXs93T9rAJBCsAPuhDMFcEXUxjEGXUZwhaUFVMVYxMDE9AQsxEAEigT8BIEFSEVXRIOEnMR1A7vCY4FKABw/Xb6CPY19MnzbvJE8xnz4fNg9pH1Zvbz9kr2cPe39PTy4/Gt7n3ryuk26UTooefu5wbofun67ZTyiPW/9/r5MfzHAc4EwwPsAeICngMtA1IGbwrSDAIQdBVkG1kdpx+kJEAoCCoxJVUd/RlaF3URAAgl/Az1c/La75roduO24O7gl+Av3wvgquAn4tzhduL44hrnhurS7bnwTfS++GD+NAWeCXkPpxEHE8cU4xVkFzcXyBKYDf0NPRBFEbMQvA7IENUUVxkZGJMVCRd5Fr0TTw8mC8MGlANP/kT7BPgA+Gj5Rff59x/5Xvof/AL8Lv1z/Dr6vfk79jn2PPTh8gPxfe5d7vjuKe6/7L7t2e1T8Bbxp/NL95n4Wvjh+LD8l//A/qv9sf75/8v/IQIgBQgIXw3VEKIT/xOzFk4cjSDgHokYVBM8EFsQIg2uBZv7xPUv9qL0bfAT6FXm9ejq547lr+EH45vnSuek5CDnQOoG79Dzg/cp+qn9oALABS8JWw0rD5IM/wvyDKcOAQ9gDWELQA08ET4SiRTxFd8XwRpaGnUaxBpSGkgYwRRBENILYQkqB/EEDwR6AUz92P4S/5v+//5K/Oz5EfkL+vz36PVE9Q7yfvC07+bvHPBr76/uJe1y7Vbtlu/m79ftVO4L8mD30vpR+iX6rv5HAakCpAKUAYQCHAQjBYoEJAXjCiMQVBNSEv8P6hP2Grgc1hbkD7ELeQsXCokERPyw9Ub0i/M77+TpG+o/7WHq+uWo5C7nFOvk7AvpK+Yq6xHwCPMa9L72B/oj/2kCqwLGBmAJ0AmLCIcHhAh7CswMfwxzDBgPRxXgGSIbVh22HvIfNCJ/IAod0hs/GVEUug4WDUMLbApSCfcENQNDAwUD7QCIADj/Lfu/9QzySPIt7+zsgOvW68DuIO7h6zroLOl46y3urusR5gjoMOrH6lnsCfUw/uECkgAR/ZgCRgWfArsBZQHU/wX+jP1nAQMJNhKrGr0egRxPGmoaNB3yHIsSJwUI/yID4gGv+0zzIPKL9r/yLOlL4RblyeWP3orUctO63U/mBOrw6qjvHPa+/N4C7wVbCAcI/AZOBw4L4xH3FaIVMBL9ErcW5hwHIccdJhmKFn8XFBmNGgMdGx7xG4QYAxecGFwZgBdkEvwLPgkOCRAIBwZCBCIAhwDxALP+7fsb+hD6U/NT70rxFfJ68DjtE+3+7PDroeov6azoVOOr4PXfxd+C3zvl+PH4/MP/cfqQ/vwC8ANlAGr72PrE/YcAsv6dAggNvRosJakq6ybpHCEVcxbxGggWSglw/gUCbQQg/3z30vUE9dToP9eWyBbMCdRHzgXB0cAE0AvhSOn354TtKfV8+EL7kADVB+wPthbMF/MariGAKQUu0ComIssbIBuQG6IckB3XHeYbgR2vH6ofvx53GusU2AsPBIgDFgc0CuEI3gbnBlEIAwdzApUA/Pzt9JTtqu8X9pP6fvd389/12PZh90r0gPC67FLpyubq4gjhruIW5jrms+QF5ULuHvoUAAkBYfvx9ST5p/5XAAYBlQHgAz0E0gS5CzUXpCHZI18fTBksEq4RNxgAHSwYpQ7gCMYJPwhp+3XuR+Yp4zzYG8ldxE/LTtPozvPFu8IUzRXYQNvA3C/f+uiF8lT7IALnB0oTxhmgHKgZDRkTIMwkSyd1IjofViIlJyQnWiUxJXwkJCI9HEAYvRYtHAUZmAtRBRIDzAX1BkoCmv+Q/xn/qPut+Tj6rPls93rxLO3m7/n0PfnA+s34C/eK+nf9ev04/EX44PSh8Czw5fHY9WP3cPWJ91H9gwWOCP3/+vNo79Tzxv9PArD/sAMRBlcEIwEHBFANaRcdHVgWzQgaBmMPuSAhJn0c2hF9DQEJ/v1d9qPwmvEv6ifeA9ac2Vfj0N+10djEPMUmzIrTD9kV4EXo3Oyo75L1LfrbAYwHsAtbDT0NmxVWHsslLCQLH/AeYiN9JwclfSboLNcwBysRIUcf8iS6JpMeIhNfEsgU8hECDLYHmwasAbj67/Ey7RfttO1g6sHnm+WB5aXn8+ZI5Djjy+ax6x3w+fSE99T2BfN48HvzYfiC/t0CrAWCBioHpwIo/V/8lf1wAJ4BQgDVAIgBrgIOAkH90QBtCxcWdRWsC7YE1gn7Gt8eoBTADIoMzgzmBLn4ZvaT/50AOfIW4mTd5OQq5/3cHdOJ0mnYWNnA2qrewOmy8KPvK+147W70yP0/CD0LkgzxCvcPOhmlG6waLRxlHFMcfR8lItQm3CyvL/4rVydTIBIf0SHVIaQdkBiLF6sZKBiBD28Cf/uk/Iv9OvyB82rureoK5iLfad2A4ZTjneRc4H/inebb6EjnFOTh54PsTfES+JQBFA3TEPIHzfvw+aACjQ9ZGDoXJhGoCfwIOgrXCwEQYBofJCMjLhhkCNgK3BkRJWkhXBMBCfoIRAhD/l32wfkh//X2N+TX2SXcaN7c2i3RqM+11LzbYd4O3T/d7OIL56bp4Own8lf7gf8GA84DAAm4DREPbQ5/Dc4LRwzjEB0SqBV0GRYdExsiFSkUYhmFGBMUXhXUFmQXbxb2FyUX4RlkGt8SFwlEBcUHWwk+CIsCjf0W/nv5WurU5LLqJ/GM8+jyn+8z7Dnl+t4C20DdHOuj/WQG1P9A+2/3bfV+8PLxCQF5EnYc+xZCDpcEVwKeAwsKVxU/ICgr/y6GJu4QWAciEXAmWzbPMrQi7xVBD3kE7Prq/TsIJgtL/F7njdkP3PPgb9cI0Y/NC9Dm0dTNastxz4bZ9OCF5JvnhOyc8Vz2Mfcb+wf/uwRaDggTAhNeD1gNUw5ZDhUR8hoWIlQhOxVjC3UL0xH2FfUUaxiiGDgV1g2gBk0HdgqAC6oIoAWnBC8Bov2r+3H91f+u/8n4N/DH7u3yK/fm8SrvMO577pTsNOV35YXnyOuk7lPvDe577PXukvEF7wntevMl/0EL8Qda+T3y2fRm/kkKAxfJJc8t6yomHVEQRxHdJMdBtEzvPUEoGxrdE0cU8xg+HqQi9R1mCDDxyOSa5Azro+nP4N/aRNty3dXbB9ym30XhvuNf5hjp6++a92X9Z/1B/n4DMwtXEawNfQmjCrcPyRQMFgsYUBh8FvcQBwp0DgwXBBrmFpIQNAyuCmcIeQUiCKELoAiPA1/8DvfW9eH2Nfo4+TX4KPkY+NrytOuE6FXr5/Ij9+b1BfJW74vqv+Lg4ZLnhO747fHpT+jI6VDu6u+A743sDuh86F/zGf81Am367/AK8Ef3NgYUF90kCyRVGykQNARfCpIgCjuPRSU3vhuvAnb6XAOiE5og1RxZCKvuK9bBzJXVnOXc67XmGNqCzv7IsMZ8zTHZDOO46QXtQup265ruDe9R9Nz9cQgED4kOyQmSAyUDCQ2nGUQffh49G7USGw1MDaUSph+zJwMjKhlQEIsJ8ghCDw0XVBpXFtkGLPlu+joCMAtoDJwEdfzl+Zz2lPYO+VAAigfxAGz4nPA88Nr38f7I/Wf4//Wz8+PvzOyx7471avfQ9gL0DPMB9nvz1u7J7fn1ZgJECTMEU/vC90n7NASuCY0QcxdOG4EVYweN/lcJICJ6MGMlPwvt+v31yfeH/H4D4Qb8ADDsxdXEyszQeuSy8HTuxd49zxbIedPr4Zbq5/BS83Pyrezc5xnqV/lTBRQKcQt3CwYKmAKq/D7+5gfbFEcaQRQ9C8YFogJABAgPZxtTHnUXagyqBFIFUg17F+AZPBTSCez++f7ZBAIL4Q3VCp0CLPnp9nX4VP/EBm0DpPnl82D5YAJ2Akn+Ef8XACv+uAAiBlQJWQmOBdQDmwjHCYgHcgjdDFoNvAbjAlAKGhZdFKYDB/X89wUGFg7QCaUDLP349I7qVeTv7bECIROmD8/yftJ8zwTyWxsQJroOIO4d4kHkGPAeBF8dfC0tGkPwEdS75W4OYSkMJggNzPbG7Kjwjvt2BzQPuhDvBLzz5OVL5NTxwP+0AiT8ffjD9nDvX+QS4+fxPgbkDuMGgfiI8dnyxffGAtYUtiKrHs0L+vpa+zkOuyI0KggjpRJWAfr6z/8aDI8ZGhlnC5v2Aep66Zrygv02ApH/vfTx6Kbjxump8vf+6wYGBVT6+PEH9xn+WwoHFLQZ3BmODsEDVQRTEJEdvSGQGnMQIQYz/Vr3CfvEApgDtvvb7QPj3t3r3I/ebeHw4h3hsNvV06vPy9Jh3Xnpsu6O8LbzVvX09JX0H/ogDRIhQCWqGEoM6Qu2E3ogdSprKf4gzxMfCGcIUhKbGn8a8hGuA+L4bvQw+RgCRQSL/5b3kvOy8GvtKO2T8ZH60ADR/gb3L/M29O74+f/lCCQQdRBECgEDRQFHBcUNBhVHGAYUqAlqA7wGDxBmFFIQAQnQA5gFxQiaC9UOGwx9Bcj93/1XCFoS2haKEtMIpADw//wI2xRQGnAWQQuYAvr/swLvChcQBw3RAJD0e/GN80f3bPaU7rnob+Ix28zYzt3J4W3gD9pw1h/aRt3m3mbdjOI46N/rX+/H8M3w1u4U9JT++wiwDvwLVQOCApIJIxQiHhsfTxl0DTEIcgvKEYkYZxgSFrcMeP6h9/H6LwbzCagC6vgH9MXz/PI980P5zf57/az2iPIG9Ar4cf1G/jICwQUuB9MCjP7vAeAJhREAEnUQhw3qCfIFGwqPEAkWcBjEEf8H3gG5Aj0IWA4HDvkJwQJR/fP79v2XAh4FaAX4A2j8fvYk+U39HgBP/dz+UwC7/Bj2LPUx/Cb+4Pv3+GP7nv8P/5f5/POt9XT8yf8AAIH+gv9jANT5Y/df/EIDeAjmCEgEVfqo9k37YQDfAs4DDgAJ+VPwX+wO8o/3Uvie84PucebX4LzjPOhQ6JrlveU16i/wX+tj4D7b6+QW9qz9xPq482HwFu9S72f2aghdGj4ilhiqAAPz7f9PJfpEpEKEJs4KpgQ3D5kf0zFQP+c2sxZq9IPrawcHJ1YsKBVE+fvpBOfY7cv66ARCBkz7A+nR32rjEO8z+Fr8Y/tu+nT5p/aW8R7y5v63Dp0XpRAGBK7+9gR8DDYRFRj1HtgaoQtV/Un92AoSGL4Y7AuT/ij21vOO9EX8cABP/CHwVOTG4J7j0OrJ7b/r+OfJ5ZHlf+dE6BztxfT294D3YvU59zv++wGWAzYECAp1EPANggmFBnsKRxBxEOcNkQqMCUYJKgUQAXcAVARnBu8BIfqA86P19fyd/9z7nPgW97v0b/Jy9Dj+dgZjBYn5qvE6+XcGAQwCB6gACAExBgwKNAhXAxMEeAb1CL0H0ANSBMUFQAS8/dP6GwGtCXQJ5vr77pDzLP/RAmr9T/hJ+jT8m/XJ6Uvrjf4xE44ZmwRh6lHh1fglHusvxyJoBzn6t/x1AzcNTyAqLJAge/mh3VnoRgzXHksNC/S16Jnpged+6L3zhwGg/hXrRtxO4sfyAfxt+vLzY/aQ/LH/0/y79lv5MwQOErgSlARQ/M8DQA5DENkL4g4JGMEUYwXY+2EIiBrBGkAJefpt/JIDXgGL/FYBFAeHAPnu5uWs7Yb6L/+J+Hfxt+6Q72/vyPO4+Vr+ygIEApb9PPxgA2MM9BJ3EWIQnRNXF0QWtxHsFPgcOyGMHXoSRgvvDIQPDxG1ELURugvv/Z3z3PSX/cQC4/+09kjuQOos7DDzM/dP8gjvIPIj9STzfPL69Qv8UwHz/Gz4gv0nAtkB5P4Q/94EtwcOBKP6avaN+Nz5vfz++wf2m+ne5FPw8f1x/HrlVdZF3qLuP/dR9Bvv+u2N6jnk3OQ29CcMBhn5EcX8cO3482kRGTB+N/QmWBEHB14HJBFIH6ow1DWNHe349Okc+14XTCAAEKb7XO/S6k3qyPHw/qwGS/0E7fbnRO589dL5dP0yAj0HqAJ5+4H5+v1HCT4UNhhPEfQG6wT7CSgRdhQSGE4bGRfxC4UBcAdeEyMZlhRUCwIF8QPpArb9AABFBmoGoP2q8LbqXfCw9/X4tPOu75DvaO8K7QHtdvRN/Rr89vJ777DzjP0uBR8ERQDL/7gBMQEJAKsBvglWFToSTASJ/eYD9ArNDPYL0gszDB0JNAUcAHgBnwWwCxULFAU9/KP4Tv41/sz9vf27/W/3cfBy65XuPvVj95LxBOk95xLomOqz6dzrfOxz7LznLeRQ6Gzuy/G58lfzLfMw9eX2cPge+toDJAugCMcAMf3wA9UP3RU0EqAObREiGtgdqhkOFMcYzSeHMP4o4xw2GF4aFx4xHXEa5xs1F7wJOvu99p7/KQdnBR74U+tG5FblO+ur8RbzVO3N5tjiTuMp6Xvy1/dC9+vtcOg97Yn6ZwSUAsz6g/VD+PD/LQdaC6cNhgrYAnz+WwWAEEwWCREGDLsI1ALfADIElAqhDekHE/yN8xDx7fPs9qH5PPhE8y/szuUL5k/tK/VH9m3zb++M7FTyM/uC/9UAJP7B/h4B0wT9BgwLsRBnEskQ1At9CWUNNhToGEwX2BBiC3QGowcnC0gPkA1dAwj4XPUx/LMBr/0e9P/upu6u8H/uhOyr7JjvGuw65rHkc+dh6hvpfen+6vXrZ+gR56/qivEP9I/2m/jp9UXzE/Rw++0FDQuCBykDLAHwAg4I/BFXGtwajRLiCpAL1RQwID8iAB7NF9YRqQ/4EXMVDxroGHwN4QBL/csBawTNANz7RPdA8Qnr7uXO5gTt1O1L6O7h6d3V3rri5ec669Lq7elo6hPsPe+T8xz6lv+tAC79bfxIAlgL+Q8lDvMM7g6zEBUQrRBNE5MW6RRGEF4LKAxDDX8M7ws3CYUF6gDq/8r+z/4X/pv65vd89933vvf29Yb1ufWl9p75zflO+S361PsA/kH/qQEnBMoHpQm7B0UGvQcKDFkO3w+cDd8LsAnFBvQGCwnvCNMFxgGf/Zn8YPwf/Iz4FPZ09rn1ifPN8ZfxNvFh8cLwqPC38nbyVfHK8XvxNvOr9cD3RPmY+GD3rPVT9r33P/te+9n58vln9wv4ePfX+O36w/rI+DX4Ofxs/Vr8Lftm+UT7P/6eACoEhAPF/5b8LQBRBNcHIgpXCjkKpwbwBOQGnAtyD7sQuA0gCkgIyQQTBV8Lww6JDCsGHAEt/7kACQPyBLYG1AMc/4n70fylAIUEmwUcA6sAn/7j/3wDLwdBCR4I+AYRBo4FjweICg8MPAvRCAEH+QahBx4H+gVUBTsFKQPNAEgBsAKhAQUAKP+a/jL/X/8G/xn/6v7C/Tb+hP61/43/Z/zZ+1z9bf8cArT/uvx9/jL+qP0K/xsDkANvANX8L/qv/+wCtgIYAbH+sv6Y/C38Lv2w/9cAvv3Y+qr4G/pZ+2b6X/x8/KT8I/og9wb6p/sN/J/9F/9R/k39DPxT/mACeQLCAP0AhwLlAg8CnwB5AtUDegH0/x4AbQFCAqP+mfy7/2UAAv9y/Yn8FP9u/17+agDMAvACBAEFAHADSQcxCU0JxAgUCAkHpAchCngOeA6PDEILHAm7Ce0MoA3UDBULbQmmCHkHoQfIB2IIyAW6A4QDswJtAy8CYABh/2j+EP6//TH9Rf54/un7xvlf+Zb7Ovye/H78PvrY+oX6Wvkb/Hf+d/6T/KP7UPoe/AAAjP+a/0j9Wv0f/M77i/4OACABHP8C/mz8kv1R/yf/VQL5AWYAZQBO/6sAUAEdAlACXgLqAK4AGgLeAF0Afv+3/60AFwDF/3/+Qv3K/HP8yvwP/xD/vvz0+8373f2X/vP+pP8f/04AMAA6/zUBNwSrBIQD/gNtA0UESgY6CFwILQfTBNcEbAbzBvMIUggTBaACkAMZAlQCWQTmAq/+kvsU/JX+u/56/Fv6svjE+db6tfma+Lz58/nz+B74FPmW+9D8K/uj+tL7Zf02/2r/DQBLABYBRQFXAoYD7wNnBdADmgJCAzsFCgYwBS4EMQJ1AbgBdgJoAkkCgQFpAIH+cv20/Xz9vv5X/t/8zPof+9H7Qvv9+p777fvv+s76Kvr6+rP7V/xF+5r6afu0/Oz7Kvv7+y38TPxg++z7lfy2+6L8nv0E+6H7t/yf/H78gfz//MP8aPy7/JD85vsT/mf9qPsx/Tf+nf4Q/jv81/zI/hH/Gf9a/vj9Zv9p/4v+Gf0s/ln/Xv6x/Q7+rP0L/SH9xfya/cf95v3A/Fj8V/z9/eb+7P1f/R/+E/8n//r/L/+D/mIABgKFAbMAlgDfAVIBeQGqAZkBJQKuAbj/qv7m/30BEwG//pj9BP6d/rz9Iv0m/Rn+lP1w/KL71ftM/ZH92Pzj/B399Pyo/N38n/14/k/+M/5m/vP9jf6a/lf/nv9eAAsA0v8/AKMAQAH5ACgBaAHdAHwAOwH4AAsBVgCuAAQAZv/l/l/+L/5c/iX/3v1y/G/8pvyU++L7sPtn+0X7DvsP+in6vfro+uL7Jvwq+0r7j/vu+yf9wf3M/gH+y/1S/Q//LAEjAVQADACIAO0AkQHGAh4EsQOlA9wC1QKgA6IFYwYtBUgFmQRcBDsGFAefBtIFuwY/Bp8FSweWByMIuwZHBq0GeAd2CBMIowcdBwYHAQdCB0EH0wcHB9gFzQXzBRoG3wY5BhgEAwWxBaMEOAScBDIEowInAvcCFQOiA9EDLgLZAcIBmwIOA/4CoQJnAXoB3gEFAtABdAJjAm0BpwBZATcCoAFXADb/HP8D/18ASgBk/nX9kP1u/Zf9mf5I/W38UPxy+yD75Psd/Xz8qfpp+tT7x/wa/SD9W/w1/Kv88fyl/Vz+FP/f/Zn9K/6I/rf/RgC3//X9rv7J/jr/kgDg/+L+Ov6N/tv+5v6n/57/Av5m/cb9lP62/hn/IP8F/lH+XP5j/ln/x//J/xP/6/7v/0IAOQBoAGYA3f+bAGoBXwEzAYcABwGJAJ4AAgLsALEAEgFHAJcAhwCLAB4Azf/0/8j+j/7//mf/p/4r/qL+aP0Z/b/9a/05/gv/2v3B/PP8Af1X/SH+H//u/nX9pv0w/XT97/4AAA4A6f6T/i/+iP63/yMA9v/A/wn/iv8M/3H/EQHi/9X/FABzALAA/f95AJcA4QBVAUcBWAHsAFEB+QEkAicCOwLbAfgBygGpAesBjwEZA2MC6gFgASIBygFZAZEC8AGqAMcA8ACs/+UArwDK/xwAT//B/7r/IwD7/37/uP5U/1j/gP9MAH3/7v5R/t/+gP/b/+b/SP9F/lf+9f7h/rn/uP+w/mb9gv1L/nf+/v6B/hD+R/1x/az9A/6s/u795f0k/kb+7f0v/sT+A/8J/9j+yP/3/6D/GwCUAEIBvgCeAbMBdgEYAjkBnAEQAk4CXAIIA/wCsQL3AoMDkQMQBL0DSwPcAgEBPQH1/5YAmgF0AEIBvQKDA44DaAQABYoEUAPhAa0AAwD5/i7/AP99/0gBsAEfBK8F8wWQBWsFngUwBKoD7AJOAev/DP+g/5kAuQHRAqMCVQOxA9sDuwQnAxECHQGr/pL9Av08/J78jvyk/JH+Vv/HACQCrgF4AAMAwv98/VX8SvsG+qD5V/k++iX8D/2U/tP/XABxAbgA3f/M/5r+uPwY/JT7K/uI+ur7aP32/bv+d/4d/57+4P3E/Tz9Bvyz+gz6/Pq3+zX8nv2s/ngAHQGgAaICEALsAbgALP/w/Yj8q/uK+1f9jP1O/noAjQL9BNgFfwbrBmwGNAVNBG4Bk/7y/fX7Vvuz+3D9n//7/x8CUQVzBoIHqwcOBm8EQgJE/3D88fp/+d34ZPlu+l77/P6/AQsESQWtBhgIDQfbBokEEAKF/4L8/Pgy+Kr2tPai9y/51ftE/iMC7ATxBqUHUwc7BZMB//xe+k71EPJT73bwGfMg9rr+qgknDtsRAxq+FmIQsAvaBdP46u9V6zblV+GK5vft3vjaCnEVMh5xJhAqCCM1HSYVVgat96DswN661IDVzdlP37/pu/hPBEIPrRhNIKIgGh7GGHgQVwfx/Jfzbe1v6AblseZN7MLzxfscBWcLbA+fEtUUXxMeD2gLDgey/0r5O/Z29XP1lfZ4+7f+XAHhA6YGYgahBTcFAAFa/A75EvjR9GjzRvWR+Of5WvuY/+sDowQnBrgHtQUrBYkCj/8V/U/5+/T78bnwhvAN8OvzXPcJ+sP/bwU5CV0MXg/RDfMKyQcIAzH8YvZ/8O3qo+dO5k3ou+yF8f/2Wf2MAroI5A3fEAgSKRJMEcQMlwiJBskD6v6r/Lz7ZvnG99f4APnC+ff6Cfxl/6oAmQKxAyMGAAdXBr8HjQm2B7YEKgQdAn3/df1l/M36xvn++On4s/mp+uX7Tv1C/lX/9ABmAUYBGAFaAET/Bf4I/u797fxM/b/9fv4b/yAAuwHOAgMDzAHBABD/Jvzj+dj3l/Zs9q/2c/iF+sf9XwFYA5MExgamBzgGMgVlA+4ABv7b+8z6uvnz+SP7G/xS/WL+j/89AY4BGwFYAKAAp//8/V79Bf0H/Tj8jfzZ/IT8F/6f/13+tf5J//n+IP6i/lf+3P2U/az8l/ye/FL9gf0E/hv+J/+nAMUC7gO7BXgHowjRB5kIlAmfBzIGqAR/Ak7/zv1W/SX86PrV/Of+GwCrAQcFuQczCYEJtwnGCn8JZwdGBicFjwFt/o/9xfyD+sD65fv5+lT7hP2d/uP/qALIBH8F6wV2B+AHtgZLBiYGlgRoAywCKgE1ACv/2v0e/gn/Of5i/4sBCgL6AcQDKgUuBUoG4gcVB8MFKgXFBPUDHwMOAgcBy//t/Rf9cPyx+/X6zfuj+6z6PPw//pL/YAEpBNIGZwiLCakK1QpOCWkHRAToACP9Ovmm9mP0VvP58jT0/vZ3+bv8WQF2BPsFvQgxCsoJuwnjBzAFuwOkAQb/xf3d/Br7APp9+u/66vp5+4H9yf0a/kX/TQH3AbIClAPtArQCawKSAu8AqADs//P+gf4i/iD+bv+v/97+e/8/ALH/VADPAZUBtgH9AQsDAwPqAuICygNWAyYCWAKUAvEAq//F/0/+dv1J/lz+xf1o/nr/7f+QAIUCOgMpBD0EXwTVAz8DFwNMA2IC5gCoAYoBbQGVAQwDrAS0BcoFDgcXCOUHkAfgB2AHUwW2A9UCAALC/yr+QP5e/i393/6JAAwAgQENBOcE/gTNBpEG2wTjAxECxP4o/Cv6xfYj9NryzfEt8W3ynfQ19yz7fv8MA7kGpAqCDBwN3g1VDQwL1wcvBesB1/3x+Zf3n/Vo9Cz0rvT39Tb3PvkR+/T8ff1//l7+If6V/UH8+/r4+aH57/gM+Vn5o/kX+rX7bvzu/CD+p/66/ib/af/X/p/++P8fAM7+fP69/77/yv+KAZ0CkgJsA04F5QVABuEGJgfDBiEGtQRHA9sCGAGI/sn9n/2F/Lv7xPzI/MP8Tv2E/qX+GP/E/w4AsADPAOgBowKIAxAEQQUpBt0GkgbMBnQGNgVVBJYDMgIAAFH+Rv0O/KX6T/pw+hP7UfuJ/L/9p/6m/0oBAwLiAc8B8gG0AZQAlf8P/8n+EP60/Qj+sP4U/rz9Rf7+/u7+Xf5J/ov+uP2o/Lv8XPzM+5v7BPzr+9z7ePyC/fv9mv1l/Ur9xfwi+8r5e/mn+EP3M/e197L3OfiS+Uv7zfzQ/WX/4gADAf7////Y/8T+S/46/g7+kvyi/JX9ef1I/eD+zP8+/97+6f5J/2L+u/5I/6H/Mf95/jH/dQD1AEIByAIwA+MCeAPlBNMEeQRIBTcGxgXoBF8FjgUwBfkEBwWMBMkD9QKQAgMCIwH9/7n/1P+e/1n/AQChAK8AsgGMA6MEuQQWBasE0AMsAjkBUwCN/gL9i/x3+wX6LvsM/Zr9lf4vAOsATQHoAlQEfgQSBPkDegNrAqYB4wDZADAAsf+b//z/rf98/9n/5/+D/zT/Bv9t/h39Wfx9/Mr7Ivso+y38lPw3/Xr+PwAGASwCqQNYAyIClgFlAVr/iP3f/A/8NvpT+bz5F/qd+nr71fz4/YP9C/4gANcAtgATAY0BgAFtARcCFQOPA+kDqQO3A4ADlAI4AhIC8gCq/wr/bv77/TT+EP+VACYDcgSSBJQFOwZRBqYGiwbxBTYEXwL5AMH/jv6h/Qv+Wv8QANoAdQJrA3MDtAM7BG0DBAJTAV0AOP4P/fP8Wv3+/fb+SwCMAFgBJgKNAs0BSwA5/y3+l/yq+dX4Svkj+aj4t/kO/GH9hv6TAOYBggH8AAwBWQAp/r78cfwQ/Lb6k/px+x/95/2p/ogANgFLAJz/kf9e/g79Ef1Z/Q/8EvtH+xT9iv6//xUBuAIVA6oCjQIJAk8AwP67/iD9vfs8+6r7gfwl/oT/QAGBAu0DTAV0BSwFGARGBJgDeQIOAc0AagDL/6P/JgAYAc8BFwO/A2sDdQIdAtIBNwHm//v+gv79/lr/4/9yAMUBCwMdA88DqQNjA9ECsgFsAIz/ff8JAAcAYwCDANwA+gFiAnQCngKgApUBjgCc/2D+//y//Hb88Pva+wH8j/yl/O/7m/vI+zD7j/o3+uf5Jvm9+Av5Kfm8+IP4d/gC+Cv3WfaM9iL3jPf+94v4Pvmw+X76EvuO+7b79foW+qX4fvcw91/3C/jh+NL5OfsT/av/2QFmA60EigQ0A8YBqgArANf/7f/DAOgBIQSFB5sL8g5QEfARqhH+EGwP1g19C4IJOwdjBakDzwJhA78DGAQcAyoCjwBY/7n9efuU+Qz4XPji+Or5b/tQ/vMBeQR2BhwIvAhYCP8HywYmBZ8DgwJeAkYCDwPRBFEHQgn6CfUK5AsMDJULRgqyCMAGqgRaA1UCVwHBAIIBVAInApMBJwHmANP/rP07+0f5s/eg9cPztfKY8lTzS/TN9HH0tfSL9Vf2MvbQ9GnzlPLC8a/wye9S7g/tPuwQ7Drsh+1s8cT2kfob+nv2JPIW73XuiO9O8djxpvF38n71K/suA1INdxbXG1obzxj+FZEUlxP1EncT0xIcEVkNjAvuCwoN1AozBcH9vPVG7zrqv+jN6a3s1+657zrxUPRe+az+jASICX4Mowx5C1MMzg8EFYoYUhp5Gk4aAxmbF/AWhRd6GDsWrRF9DHAKrQlDCF4FCwK6/kT7sPdj9Bnz7PIb87HyX/IH88n1ePk6/dH/FQI9BDsGSwcVCbEM5RCuFRYZsxw4H/kgmSDUHR4Z0hOMD5ULGwclANP5Q/Yk9dfzo+/J6Jng49i+0eDL/MckxmfFu8TGxBPHJ9Ak4LHyl/7E/wf5GfEy7Fbqpez68qj8mAMgBewCggbsFeUtt0GVRNw3Pye3HuMd8x/RIgIovSpVI0IQc/xY8w/0v/OM6QbZe8l5wlfDC8rM1Jbhe+t37QHqeegS8IH+ww6AHNImaCwgLaMtojPKPsRF7UFnNJUlkhr2E+kQRBF8E9oR7QhE+i/uJOgR5pfiqd2B2g/a4dt034ToxvWjAQ0FkQFH/f78JgCABBAKeBCAFwEc4h6LIuwnpCstKdEgcxa7Du8KbgrcC3cO9w8qDsgJ/wRHAnMA+Pws9hfuE+gG5lrnwul/7LvtYeuK5HPcg9eV11HahNvs2QrWG9Jlz0nP99N73/Hx4wRVDiEKD/9R+HH5L/40AQgE0gkKD7gN/wYqB0wXizECQs466CHxChsEhAvnF1EjQSwZLT8gEgnm9QXx3PWv99PuV+ET2H/XDd8P7Tn90Qb8A333ie1R7wL90A52Hi4qri/ALZImhyHVI4MqaiuEIOsOlAD9+kv79Pzt+9L1bunn2ZzPXdEH3njrFfIF8j3wePC185b50AHsCq0RzRPKEr0TIBoYJJ4q0iiOHjYRkQWH/8j/oATcCToKRwWr+87xaOrM6GjsAfHd8RXuwOka6o/xdP1UCKULOQeDAMD/fQXdDMwQQRFpDyEL3gQR/xL9gP1v+wbyeeOO1e/OD8+s0EvO1cXmurKySbSuxLvhLf7JCdT/OOti3ZnfB+88BC0YaSVAJ1kelxSqGJYvdkyIWORIiirrFb0XsijiObNBjD2jK+IOe/HN4KjfGOUb5TvdLtNkzTzQNtpM5vTqYuOf03DIq83d5CgETB6iK+IsUCawHAgVDxV8HnIoWChCG68MbAdnC7kPqgz/AWbyMOFt0yXRmtyb7h/5+PSq5jXaP9jK3xHrQvTt+bL75/tv/SQDwAuoEa4QnAg7/oz2gvbV/8APIB0SH7sUkwaC/qX+5wI9BvQIoAwMEAcPYAqfB94K5g+CDtQG+AASBGIL+Q7cDCkJkQQT/L3wZel36/jw+fAi6mPjsuIK5WHjQt3J18XWqtYE07nOy9Qb7KUL8SHEIpsSTf488sjymv4jEcYiDiwAKXIcPw/7DAMa/C5LOWwuXhVVA1kG9xlnLi438zGyH/UF9OuN3oHimPCt+Xb2NOwk5UTmm+pc7Krnut1U0jLOndj98WkOvx/oHyoVPgoNBAwE3wkNFGcbyBicC6b9R/gk+w79VfcB7Prgh9qz25zm9PcIBocF8/bX5cbggenl+GkHSBFsFtQVfRKlEI8TOBeYFSQNkAOo/zkCtgexDHsQpxAFC4b/ePT48H/2TP9hBVYJ4gz3D88PfA7cDqsSuRV/FVsV6BhdH4Aj2CIUHsIWowsQALP3iPVv9fvy/Oyb5pPhK9xV1RTN4MXMwWDCUMaQzQDZlOku/DAJ2gkxAfD3C/dD/ycOXB4wLAoycS1eITgXSRmIKEU7H0DaM9UfrxbmG6YncSxUJ5EaYwbQ7WLalthP5o701PGZ4V7S09ET3L3lE+cy4g3dbNy54+TzWApPHW0k0R25EQIJXAh+DlEZOyMJJQcakwg4/CP6L/wd+FPtaeJI3trfkuSc6/rzmfjM8x3ou+B+5qj2GQXWCWIIuQcBC7oOMBGjElcTURFEDKYIOgr2EC8WbxXiDlYG8/6f+5/9qwQHDIgP8g5mDQ4PPxHHEMYMMQunDq0Vzxu3H2QjTCbVJD8cPRHqCBYFQgE2+mTy2e1I7TjtwOp05Y/eGteszy7Ki8mszc/T/diK3P/iwe7j/BkF6APv/Ov2x/bQ+uMBLQuIFH0Z4xd2EzgU3B1uK/gyri65ImUZwhjLHsYlzSkDKQQhehBo/YzyZPP1+Jv4UvB153flrulU7vLt6OgC4gzdyNzN4u7uwfw5B+AKPwknBicE/QKOA9UGkgpfCl0FMABo/7IBbwGe/Cf2YPGx7gvtv+1P8hv5e/2Y/V78Ff75Al4HbQebAwgB5QE9BlMLGxAHE2MSBg4oBy8BL/7v/bH9uPzj+hv6T/tF/V3/dgDoAO0AuwEvA9UE1wXxBrQKjBFQGLsaJBmYFPMQ+Q76DtAPwA/YDXAJ0wLe+YXy4e3p7I7s5Okl5EnfFd5g4LPkR+a35TPkxOSV5YDlOear6djvBfRi9GDzpfWB+pr/cwIBA4kDXwQMBskH9AiICiIOyBEBE3MRpQ+8DyIPXAyLBy8DigHiAS0EbAXhAwIA0PsU+0T79frl+eL4Tvn3+TL9dQNSCnoOgg6aDOAJwAdWBqMFAAZCBgEGLwV2Avv9tfiF8T/rcOYE5CTkgORV5WjmmehJ6sfqxutl7v7xMfZk+xMCDwniDk0UuxebGEQXkBQ3Et0RrhPgFBwVqBPXD5QITQBe+g/39fRn8Uvt3uk96PLo4+no6jTsDO0d7qTvLfNR9oH5BvyI/uACyAa4CEAIpQfzBt8FegSUA+kDDgOGAML+a/1a/T/84/rL+Pf0nvFC8J3zR/iW+or4yvVa9Hf08fST9Zj4+/t6/kL/y/6N//wCzAWsBsEFrwR2BZkGlwYGB44H1AcJBx8EMgHb/Jv49/Vz9Xz2lPb39jT3p/cH+M73n/fT9kz3uveB+pv9lABUBSEIfgpICUsHoQUhBJADxgK7A9oE6QbxBj4E9f+a+3H4l/R78HHtnusU67rrsO3G8Cv0z/WJ9d/0ofSd9oD4Q/tn/i4BOgT7BFkFYQZ9Bn0F3ALvAKD/Yf5A/J362vgV97L2KvTJ8sbxz/JW9Xr27/YR9tz1cPa39936U/15/j7+Tv6D/6b/sgAoAGH/T/6h/Cr8n/rH+9v9A/89/9n8Svtv+4j9q/5x/pL/mAO0CBILxgtMC5ILVwuqCu4KMgtHC3ULvAyfDTMO0g4rD2cOsgznCoUIdwd3CcQLMwxFCq8IYQeGBGoC3QCbAG4A9v9MAGkAOQGAAOj/AwCN/ij+/P3p/TP+EwCOAycF7QUZCKcJ3wfRBG8DswNABMEFOAdJCLkJDgnhBBL/pPva+oH6gPmn+cX7Vf4a/2T+T/0x/RL8x/lL+Ev4zfpX/rIC+wUaCAcIfAY2BXgEnAR+BWsGcAdEBwsIDgkMCRAIYgYsBtsFaAXYBaMH1wmKCk4ImwY3BC0DUgIrArMCwQJcBKEEOAZeBz0HkwadA5kBIwHmAd8BVAH3A5IFRgYUBV4D3AJCA04FLwchBxUIzwlDC9AMFg6aD0AOHgz3CFkHhQZEBTYFFwZbBtoFPwWOBfEFYwVzBYEFOAUcBEQEBwWQBl8J2AobC9sKfArLCtoIagc8B5gHyQe9BgwG1QSkAxcCtf9p/JD4nvZ49oj2ufa+9u32zfUO9b3yxu+l7uDvAfOe9b/3avhU+Br4Bvgd+G/3SPXe84D0KvVS9a71KPUv9SP0vvEo8B7vvO/j8Nzwi+9t7a7r2umm6cPq8+yr7pPuA+/T7dftTe7z77Dwp+948DHx1fPR9W73dflx+Fv3t/ZK99P4QPrb+5b9S/9m/Aj5t/UO877yQ/Mb9SX24vYN9632SvaA9eXzqPPi9GP3ZPvP/scCfQbxCLUKdAsADUIOsQ9bEVMTGhVHFrgW1xawFtYTsBCnDqYNoQzHCzUL2gv2CkkJBwihBkQGpwWqBmcJnwuJDAYNIg14DokPjw8PDwYPAhD8D/YPkxDEEYsS9RCmDlkMbwupCkEJegeXBVkD9f8F/ln8pfzv/Wz+qP2j/Ez6cfii9g/27viL+hz8jfx4/br+av8Y/5P9l/3I/pH/hgC+AdACygJQAsYA7v6W/XP7O/q1+An3/fWl80LxWu+S7ULukO0/7HfrcOtY7LftCu+o79Pv2O6H7q7u4fAb8/z0nvbF9+H40PgM98b0Z/OJ8r7yWPPC8oTxJu8K7LbqG+kG6LvoSulu6pfsH+/q8AjxIvHI8cvzivXv9nL5OPww/3UBdwO+BFoFHwWUBLwEJAXKBVQGPgeICIoJ0gi8Bv4FjwW9BYgG9gb7ByMIfgi7CJMIAgnyCOIIPgmwC3EOEBDbEM8RAxO+E98TkxP8E94UNRasFpoXHhcfFigWsxUTFv8WLxcLFzkXIxkMGtsZyBmxF/kWexb8FhgXRhftGDEaohvIG1ocbhxpHNgdKR55H0cg4x+ZHtEcMRzkG0gcQxuSGvIY2BZLEzgQ5w7lDVoNWQvWCWEI7wZ4BXcESQM4AssAVf+p/i3+0P5L/9j+Gv5L/IT70fky+JD3Tffe+MP51vr8+oT54/bz87nxB/EU8azxjPEx8nfyZPIY8RnvAO/J7+3xf/On9eP2hvgR+Dv4Y/h895b4QPh5+QH7mfwS/1wA8QHoAcYAXgBW/8X/SAB+AV0CJAIAAxcDSQNVApwBAALcAckCXAMjBbcFVQTFAvkB4wJJA5AE/wRuBcAGogfGB8cH3Ad+B6wHiQc7B20H+QfDB50HDwjACNYIlAiqCEsIsgjYCKQI9ggXCZMICAjhB68HQwhMCDUIKAi7B8IHDAiSB4AIHwlYCbUJUgfQBzAGhAZ3BnsFEAeiBsIH5QX4A64CdQHcAWcBwwAwAd3//f+z/2X/ngD4/jX+b/zR+xT8gvrp+7H7ufsV/Oz6H/uv+C34+/fo9/34OvnN+sD7yvrU+Zv4efd39yr2FvY19qD2yPY/92f3PffP97z2iPXM81n0UPQi9fz2V/fm9073APbt893yUfNI8jPyWfL98VvyWPHk8rbyQvJO8eTu8e2u7TzvufAr8vvyj/Lq8FTwUO697jnvyu9y8IbwXPKq8qrzZ/ML813yivFJ8ezxcPI68z/0rfQV9D/0XfM/8q/xxfHX8ZLyIvSy9Pj0JPRR9Iby1/K28gHz8/PE9Br2GfbW9vD2NPaj9uv1yvXA9d71TPcv9j73zPWE9uP2v/XX9Wr0xfQm9BjzCPJb8ZPxjfAx7/Tvmu4m7t/tYu7D7qntp+3Q7N7to+1F7nXume6m7fXsc+zn67fszOx67i3uCO/Q7VTuQu147FXshOu060rrXuxN7OfsKe0J7r/r6ery6KTpd+ni6w7u5+3C7+3uze6l7VDvIu+k8HHxxPK78rD0wvQ19DD1/vJK827xsPE18R3zWPXr9B/2hvS88vXzhPPp8hPzx/J/9CD15/bk9Y/1nfag9Kn1i/Yn9+n3Lfnm+W38nfqc/HL7GfqO/PP6vP3V/A/+hf5s/cn+kf46/iYAgv5c/lL86AGKAB4AGQNOAy4FxwK2Bl0EOQeSCK0JxAgmCqoIrg3SDq4MVQ+gD/QRxBNGEkETWRhmFLsZBxSRGUMXIxdhG98VrRtOGeIa5RvgGgQeQR7NH0YgCh6DIfkftyLAH3gjiyRhI/cmPSVjKH4oVCfZKOwnGygHKfEnkSkUKMEplyiXK34ngSjrKJsplidmJ5MrDCj/KsUoVyogKoQr9CklLfArsSxsLe0vwy8bLdgu4C0DL04tJS7HLBww3isELv8s0SxQLcYqcC5rKmErzSs4KMcseyoFKvEtrileLPgrjyugKxIrBi2QKw8sti1rK5QvWi7/KxQueCyULSct0iyRKkEs0Co5KRspECYhKG0n+iWmJX0lRCZYJKskQCaUIT0llCM4IlYjRyCoIpsgcSNSIYYhGyHJIF4euSAyHlQemR1HGqccLxkjGoAXShplEpsXlBONE4sTPhETEygPjxJoDKsPTA48DC8Lfg0wClgMAwomCuYI1AhXCoUFmAj6A9MG8gESBPACcAAzAzcASv61/ST70PwX+uD4CPv39lz5F/QH+HLzkvS786bzHfOb8gH2MfHX9gj0L/SY8iDyUvJV8GjwDPU37pnzZPFV8BDyS+qo84jrou7f7tHq8eyn7Mzslutd6xjuxOjQ7JLrRenV8ELsTO/s7RPvPe2A8jXu/uy58aLwku/47yTyZe458uTuGfBo7RHtDe5c7bnqoO1R7LTtCewx6tjvWegb7tLoX/Dh6q/qNPJP6SDtI++37tTrVu816wbuR+vf7cPrc+vR7jLq8upL6I7mQOZz6LjjhOnq39rlhOQp4YXk7N2u5szaMeH23U7fjeDI35Dhotu54Vvcn+D92obcYOAp11/dw9xg1qjb+NhB2PfT09Wi1LrQE9X3z9nSytK1zJnO29HdyI/O+s0gyjHMwMyEy57L58wByZLLoMjQysvHlcqMymDGxMtgxVjJBMmnxHvKWMOExvjCU8V5w9nBisb7wezFSr4hxUHDmMAdxYXBw8a6wwfFXMm2wiDLGsd/ycLIuceKzHfIOM/Dyg3PJMyR0L3K5dEezjjM9tNAyxDSxNCizwXR9NXYzYzXZNK81ZvUqNeZ2xfU0N+D2ZzeON3Q333gk+GX35vkI+b85SLojuaP6zzpqunt6r/okumG8b7nW+++7X7uXO+L7lbzDu9g9XjvhPN98Rr3qPOr9sH1EfUr/A/2avp79h/9dvf2/mb6mPoS/YP5Evwj9zcABvaj/Vn61fnn+h36ZfsW+oH7XPmo/Cz1OPzN+I36WfuC+Ff98vkA+cz9O/y3+OD81/hD+UD64vot+kf5w/tW+Yj8k/Z9+Pr8P/q/+cP5i/nG+M793PO4/vz4yvmQ+9b5e//W+cMBbfqNAGj7ZQCCAUICoADiAzsFZAR7ByQEuwh5BVsNcgS+Cm8I/Q7VCSUO8A1pDPgUKQzCFpoOVBXTESAWJhdeFUkbKRsNGgce7xlXHnsjHCDpIxcfISjWJGgl6CUYJwgu3SpxKQosNy0ZL1MvXTPeLuU1TTEYNnc2ozI5N6Q1ITxdNI86XzjIPow3uzs2OOpADTmjPLk+xjU7Rh42eULENkNB/jqIP7E9GDmdQYc3qUMvOu4+IToVO8c87TmNOAg9CjnKOao6IjmBOBM7TTlCMc08FzTqNroyJjj8L7k39DLQLtA2pynQNCQq1jNOKHYxlCq/KTAxaSR+LvokgC30IZ0pYiiaI9MonyXmJo4iNyaPHqUlTSDwIDIjzR74IX8gxB4JHQIjhxiVH0UahBrVGAQathorGYoffxHAICwS+xrqEBkeLRSXEw0gJw3BHwMMTB0pDSQZlRS0FPEVXhNTFpkRjxYaDk8eIwxLGxAQdhPDD5wT7BJAD4sbmAtCGlsLgxW1Du4RdBWWD7ASrA/nE4MOqRHJENoVTA06F/gG+xfDDIUVcxM3DBQd8gBiIoUBNRoEDmcPfRpUAngfTQIaG7cNsw44FtIFxhn4CF0QQA/hC8wVuAZ8E9cJrA+pD5AFqxPhBqoOrQrJCm4LVAqgB6wL7wb1BSoL3gfhCuICowmmAj8GcgXPAMMFPAJZAiMGUQBnAbj/Ov9DAPr7AAGk+Ov+KPU6/v74c/iO/GH0ef3r8uD5d/JQ9PHynvPc7ff00O7H8C/wpfBs70PpJu/E5yTtsufM9K3lIuxH4wbpcOMc5ILppeW75SPexuWp20/g5eIX6bXZCOXh06zdINim2Kzjb9VV5CDV4dm3zE/bwNZd1jvYxNc424vJUt3Z1EDZBNg/2MrXz8xJ1XjTF9Oc1Y3VN9Tg0mLVG9Pz09DSs9aZ2HjQus7S1b3Svs3K2kjKO9ly0QXUd9jiz7TaAtHz1x/QyNMu0ePVB8/t2H7UtdXk3FzVFdhf2ajbAtp+2ErS/N7Y0e/fddPY3XDfcd592rLdrt3g00rkdtJ75b3V5uPz183cddzG2gzhitjC48bc++AL2gzjW9Qy4GDdNN6E3bTe5+TU2m3iX9tn4EXfLOXM5trh995b3tbYgdjH4G3hFubR5ODgx9703B3cs+HJ3nPig+Bt4fPV/tWm3g3a9OXB3rji5dxS3nLdPd2l3Efc7+H53MjccOFV5BLcj+b53Eviot+M41zllOMB4sngAOX+2ljiluG95pXkseZ23cTh/ttD4pfiLudn6I7o8uui3grqzeGk61PooPPW7hXqr+vd4gLlLOMa8MLv7/Mm69btjeie5VDwXvPc9fD1S/u67E3uq+xi9n71FP2Z/ez54fMF8cj2ofEdAuj2nANM9vf9rvmy+iMCcQBiArj7LwLu/+IDEgGnCcH9gAk7Ac4CrANYCToGUAqdBv4CdAvfA8ESwQqzEhYN+g15CLEKVQx2EREOkxWaDu0LIxKFC+EVPwrOGe0LvBX3DTsOshNoCloZNA9qGD8LzBMwFAoScxmaEdAU7hEhEswRLBW8EtEb7xB2FZQWHBNHF4MSlhvmEfUaPxLoEbgOcg37HG4SoxVVFjUTYRHtFJYT4xFcF54VrRIHFIsTvBKfGpIX2xkOHegTTRg1GJYTUhu4GUIdERj8EUIYlBDIGawVsROXHEIY5Rh9G9QSHRdaHWwX5RzQGSkYshTeFYMVaRaFGYcV0RhuGQAU1hyiF7gWLBtnFPgbxRWfHekXaBANHmEUMhqQGWEXtBxeE0AeqhUUE1YVKxCSF/QUcRsAGOoRRhdHFLcSNhvrGN0atxh/EUQYMROTFQcZGRSxHJsZAReJGNwSvhfIFtIY8RcSE0oZmRHyFogZahM+HHAVAxctGBEWDxk1GD0VjRX/F74Trhk6FNgX0xdNF80ZUxaRGWITKRjZFwkWiBZJFI0TiBlnFAIWcRTPEWUTCxNwGOwQvBfJEuETTBX1DucS2RE4E4QX9hWEEncWnBJWEuUTuBLMFPYP+RKmDy4QLRC/DAsMlw5aD5MMeRQUDI8OLBM7D28MQRMvClkMAA72ByUPFAX3CGELDAvsCV4LgQsUCGMJ7wpxBi4KsAqwBgIH1ATRBokGVQW5CAIGEwSTBlYBRgMmAeD+AwQQAfQBWQGw/okANAJoBjICzgcGAQD/JALD/rr/e//eAmT9GwGe/Jb9tv5c/RAC3v7fAFD+Tv0o/8z8Mf7f/jj95v3k/cr74f///PP9g/2L+y37kvi8/gb7d/6L//H/pf/eACwBNP59AZj/kgAd/O/8/P3x/Cj+wvx3/U/77/vc/BEBBgF1AEgBMfv//az9lf6FAiAAOv8E/xr98v0J/gsBrgD0/ogCKv3G/F78s/uIAfwBeAK0AqH8Kv05/iv9gP9J/wD+gf3X+mz6YPxa+7/9Ev1M/Eb+8vwe/eP7Uf05/Sr9NP/I+jr+Pv4f/pn+Tv3Q/fH9hfwl/LX9Mfqf+lz63vaX+fX80/kZ/B76rfi99wv4Bvf19/z4qPdy+sL2E/jk+B/5cPiN9zX37vVQ+Kn55fi398/3tfZP9Yz1fvS89Hz0Q/Qf82X0S/P/8oXzwPT59WT1Nvdo89vzkvR38xbzM/QU8k703PNE8k706/HH8WvxR/Py8iTx9vEo8O/svu9w7dTvsvFA7mnxdu6s7kTvl+717RXtnu5D7Nztje5c76HvAPHN8bLxIfFb8o7z0vHT8mvvCe8B7ljxt/Bb8QvzaPFN81LyRfOu9Gn0O/T89qXznPQc9VD00PSD9in2CvVq93D1t/gO+Iz5g/lg94v6sflw+1v9yP14/8z9WP5S//36nv5D/ZP8f/1M+Bb3g/Me9nz0ZPWG9Wz0avbU9Cn4lfpn+gz87vzF+NX6APlK+lf6vvk6/PX6rvxA+4X8rPum+9r+CP5z/qr+O/vt+gH5w/lH+o/4wPnB+yn9Tv2o/jL9C/4s/Yn8c/yn+Pv3ofSG9an1T/ZU94/2efpU+PX7Jvzu+9T9hPow/HH8v/nV+jz5Ufgi+eb2Lfiq9i324PaK9XP1efNB8rLynfGS86Xxj/Lq8Gnule516w7sOunb6BHpdemy61Xs/O2k8Sn1ZvdU+hH8ffrZ+cb25PWl81D0TPY2+Eb/QQMgDEwPBhS3FhsUExWaDoYItQH7+WT2xPFY7z/uvO6O78vxffUq91P6t/rJ+VT6qviC+Nz3vfb2+Jf6iP0yAf0E3wdSC6wNlQ4RDecLaAnpBY0DDAKGAJr+KABsAegESAY+CiUMmQ4TEGoQHxHTDMwL8wikBpcE5QGLADkA6gD5AQ8DzgS7Bk4I/whoCS8IIAZ3BMgC6AHbAWgCiwIQBk4INQzVEMcSwBaxFWgWPRU6Eu4Q5QomCUYFcgKHADT9Zf29+/H7kfyb/GP9hv3z/TH9jftn+tX4+vZ99+b3kfiZ+h38nv/wAcEFqgiYCpgMwA2SDwsQNRFyERYSnxESEbgPQgy4CaYGuAONAdX+wv0M/rf/FgIqBZwIoAlgC4cKBwkmB4EE0gHiAegEeQhWEKoXIiJCK8Iznjm5O8M7izZhMZUotyDlF38QnAvtB/AFRARSBHYDawPlAecAU/+H/ZT7IPpN+pP6lvyb/5cEWgrHEOQWrBtQHx0ieCEMIegdGhoeFtASrxAADugPGA/SEv8U2hdmGhsaCBq/Fb4T4A+yDL4I8QWPBLQDIgWOBp4ISwoYDGUMzAsbCq8HdQTHAa4Auf5O/x4BYgT1CDsNiBPPFpgaxhyZHO8dVhtzGwsarhjXGfkYExtuG+4cLR3tG2QbIxhXFnMRnA2PCQEGnwPfAuwDNgQDCKwJIw19DtgPtRDEDxcPjA0NDP0JgAo3C3YNcBHYFN0XgxtNHV4eTB4DHD0avxedFGESyg+IDgIOUw3bDRQOAA4BDIAKqAYCAaH9Qvec9NfxzfHj8+f2A/wEAboG7wmnDRgOGw7+DM8LDAqfCs8Law61EjIWbBr/HModvh0LG0MXYRN0DswKagetBYIDkQMYA5IDfAMmA/QClQKVAagA3QAw/4wAOQCIARIDmgPIBa8F5wbiBfUEfwM0ACP/evsg+nL58fgJ+337cP64AH8DuQbxB2kKZwpOC1kKyAmHCcwIkgjxBzUIYwd+B3IGhAaVBJADtQHW/gL9WPnX9iH0oPLX8WHxbfJv82P1v/dv+cv79fyx/vr+If+2/0T/xP+H/xEAjADqAHIB7gGJAeAA/v9T/sP8q/oY+QH3ZfVH9H7yzvED8cvwmPCR8C3xc/FE8a3xefF18NDwBfAo8NDv7O/g7xHwAfHm8LzxgfG18XPxyPDO8EDvZu8C7/ruBPB272LwTvCN8HPwMfA88Fjvve5o7rbtre1B7SXtGO077S7t0+zd7Dzs8eu46iXqSOkh6RXpTOnc6WHq9Opo69rrKuwA7Arsyutk6w3sROzO7VLuwe/i8FDx7/Lf8pPz0/Mi8zDzMPIb8tzw4u+g77ftqu3S65LqPulW52nmHuQY4wniBuE/4Z3hxOLY5HXmDunQ6i/stu1R7frsr+vb6urpWOlc6V/psekG6s/qN+pa6mbpoOiM5zHms+Xc5FjlVub557DpDOzl7a/vvPDc8YzxoPHq8B7w6+/67tTv3u6M79/vOvCN8VHx+PEV8lXx6/EF8UrxjfGL8ZzyH/Nw9Gj1Iva49mz2APZe9fXzvvIT8X/vJO5K7STsy+tf63brV+st63DrfOuq62XsDu1h7ZbuFu8M8O3w+PEC8+zzwvSs9XT2xfZ39zX3c/eT9wj3RfdT9mj2H/aO9cf1bfWq9X31VvXx9c31tPUU9v31T/ap9nv3DPiW+ab6yvuK/S/+Vv/g/8D/r//F/hf+Mf1S/J77evpi+mj5U/lq+Oj3jPdu9hv2DvU29X70qPTW9Ln0a/U59nL36PhI+nL7Hf3T/Qj/Ff+L/4D/b//y/8D/hQD0AMEBFAIXA/cC/AKrAv0B1QEYAQsB7QAKAVYB/AG0Ap4D/gPABPcEGgW1BXAF8AUyBsIGoQdyCNMJcwo4DGoM8wxQDWUMvQw4CzELVwrdCTEKOwrsCm0LuQzuDJcN8g22DbUNIg3ZDKMM+wv/CxAM0gwEDc4NtQ76DnwQ0xCiEaMRvRGzEQ4R1xBiEFcQUBBuELMQcRGvEWcSPhLgEVMRNRA/DxIO+gwcDLsLEgtjC1QL/gu+DIgNIA63DjYPZA8dEJ4PhhC5EPAQfxEwEroSthPTFHwVPBa3Fm4X6RYvFyEW3RVkFXoUcxSrE4kTCxPEEm0SvRFIEaAQiQ+8DpYNuwwRDKwL6gsFDPYMcQ2QDmIPShB7EWkRsxK2EgQT3xOSEw0UwBP8EwgUhxPrE+cSmBL/EQQRfRA/D8UO8A3FDWcNIA18DXgNXA2sDUUOUQ6oDmMOgQ5PDmAO2A6wDlUPhA/LD+UPkRBBEEIQYhBOD2UPSA7SDQsNuQyNDO0LbAzXC3AMgwzPDN4MbAzDDAYMIgyvC5gLfwt3CwwM9AttDJQMtAziDL4Mtgz0C6UL/goxCuwJCAnLCFEIKwisB0UIewhfCCYJ8AhzCRoJYAnyCJEIjAj8B1EIIgjwCPoIPAltCRsJEQlcCMoH5AZiBtAFKQXDBJAElwSHBLkECAUeBTUGAQaMBsgGhAYhBy0GdgafBbcFpAVqBcAF6wSNBUIFagXdBFoEuANxAqYB5/87/9v9wP3j/I/8tPwt/BX9WPzm/EL83fuv+wr79vpU+qz69PlY+kP6SPrU+sX6Jfv2+g37f/qL+sj5R/np+AX4c/eK9jP2LvUl9bj0WvTN9HP0g/Qw9Ef0afTf80r0yPPe81z0UPSN9LL09/TP9CL1x/T99JX0V/Ty9Ev06PRL9HP0S/Rp84PzUvJw8vvxOPJT8nTy1fJV8wn0EvTn9J30DfVD9Qf1/fTc9Pn01fRB9VH1rPXx9S/24/bc9iv3MPfm9tH2T/Y59rL1QfU/9Xj00/Sk9Ab1pPUS9rL2+vZH9/z2G/dd9k32VfUL9e30OfT59GD0o/Sx9IL06PSK9Hr0LvQx9KfzXvOH8xTzPPMf8/TyTPOA8xT09fM79Fv0RPR49N/zK/SD8x/zDfN48g/yFvJG8hvyRPLw8dbxi/HN8aLxR/FP8f7wZvHi8IjxmPEO8rfyW/IO86fy//Lu8tnyTfNj86TzpfOX843zXvMA87fyTPIL8uHxv/HK8XTx2fGP8WLxsvFk8W/xmPGG8Ubxy/G18d7xJfJb8uDyWfMT9GP0IfWI9e/1V/ZY9s72bvay9oz2KPYz9qb1X/VU9aL1kPXw9f716fUT9uT14/XP9Un2kfZ49h73lfcz+Bj5i/m3+Q/6V/pB+hT6JvqY+Xn5r/lz+bL5sfnQ+ff55Pkt+ub5ofnh+YP54/nN+Rn6M/qv+Xr6X/px+uH6pvr1+qn6C/si+4j6FPtq+rL6Jvsh+6H7nfsY/GD8l/z2/MH8p/x1/Dz8Hvwi/DP8Vvxg/av94/3f/u3+SP8P/+L+Wv/N/jz/Hf/z/oz/pP8cAFkA8wBbAVEB3AFQArQCKgNXA20DxwMOBIIEogQKBWAFrQUzBtoGPgd/B/EHuQdLCNkHEwj0B6oH9QfcB9QHOQieCHEI7Qg9CEcIIwjsB8oHZwdoB4YHfQfuB/EHPwgGCY8IxAi5CBsJdAiKCIgIVgisCG4I0QjwCLcJqwkkCgsKwglzCQsJvQgOCOsH9gfvBxEIiQgCCHQIaQioCOQITQldCVYJJwnYCB4JhAgGCZEI7AggCXoJJgpKCnIKVgp/CqgJhAk5CdEIAgkgCXwJGgqyCgwLMwt+C54LLQvnCogKIwroCS8KAgo5ChgLYwshDE4MZQzIDJYMygyXDGcMkQxlDBwNRQ2nDZcNyA2MDm0OFA/IDsgObw7wDf0NTw0zDQ0NQQ1CDboNHg5zDusO6g5KD9oOsQ6FDosO7w3cDawNVQ2VDUAN9g0EDiIOpw6ADoMOcQ7oDcgNhw1qDT4NAQ3/DPEM+Az6DKQMjgykDLkMsww+DBYMcAtdCwIL2ArwCjYKgQp0CoEKvAqxCmcKPgp0ClwKRAowCjEKWAqZCnoKCAuNCrcKcgr7CT0KuwkqCt8JzAmuCXkJegkdCU8JNwnpCC4JzgjXCNoIrwiSCCoIMgg3CC8IOQjYB/kHCgj8B2AISgh5CBQIAQiXBwkHIQeDBucGCQfwBnsHNwfSB5cHdgc+B9UGuAboBSUGbAUpBR0FuQT8BP0EKQWwBQEGxAW9BY8FTgUDBa8ESARgBEkEhgTDBGsE2ARbBJ0EjARhBGsEYAQKBKwDzgNTAzkDOwPNAqMC2wK4AsYCbQLZAoUCzgLRArcC8QJ3ArYCSgKLAmsC6AEvAgUC7QEpAhICXwJVAqwCjQJuAn4C/gFEAvcB3gHXAaQBtAHUASwCagLEAuQCsQK9ApoCAgIGAj0B8wDrAKAA1wDUAO4AJQF+AVABfAEmAeIArACDACkAMQAtAMv/9v+i/xwAbgBtAJoAOgAsAP//af9U/zH/2P6n/oH+M/4S/gj+G/7r/QX+nf1d/QT9mPyl/A/8TfwD/BH82PvP++j7sPuY+7b6vvpN+v75xvl6+Vr5CflG+UX5PvlA+Tj51vjj+KX4hvhN+FD3Gvdy9n/22PZY95P3xPcm+Bj47PfY9/73WPcm9472JPZZ9o32RvYB9mL2dvaE9qT25/ai9kr2avb19Y71DfY19n/11fWl9aH12/Wa9eD1X/Va9bX1qfXI9V/2AfYL9jr2W/Yl9lH2bfZL9nb2OfY+9hb2J/b69QD2ZPav9nz2x/ar9tH2q/Zy9lH2SPZg9nP2ZvZj9oj2wfZj9yr3pvey92P3sPei9yD3Y/e+9p32ufas9jn3w/YF9x73EPdD9673Vvd592b3DPd19wn3bvcm9zj3nPey9wH4qPdo95T3dPdQ9+z3pPfJ92H3U/dO94f3Gfgw96H30vf29zH4D/gO+OH3Ffgb+K73+/cP+Bb4WPiB+KD4E/iA+E74dviU+Nn47/jn+Cn5JPkp+Yz5Ffqx+Yb6M/px+kr6LPra+gf7EvsO++j6uvqd+1H7MPtS+zr7Afsx+0v7JPv/+iv7fPuh+7b7mvyW/Kb7Zfy0+5H73vt7+237Nfu5+3j7TPto+4776fsG/JH8dPx//LP8mfyt/Av9Fv3i/L38QP3//Bn94/3V/eT9w/3k/aT9yv3A/S/+lP2L/dr9d/12/Uf+Wv4M/jT/+f42/y//V//9/if/+f5w/4z/Xf+I/0X/3P/h/zMACAAQAAcAfgAAAK4AEAH5AE0BuQEkAowCqgICAmMC6gE/AvwBXQHRASgCjAKZAvICeQP2AuoD+AMiBMMESQQiBWYEoATHBP8ELAXfBE4FWgXABYUFXgaGBVMGNAZcBp4GywU/BqkFhAZ3BcYGGAY+BsgGZAaQB+IGswZ+ByoIowbBCM0HMQc9CLEHPAiVB4EJ5AYECOcIxgZzCYwHjwnMCOsG9AmHCGcI4wjqB+sIvAiuCH0KiQeQCvgJ9Qh6DXgHZApaCv8HFwfzBv0KUwe4CdEHawiDBDAI0xBbB7wG+wgOCfsF/QmbCbIINAX8BxUORQLwCF0HEQWKBfwIeQ3eBc4F4AZTCusIkA1pDfYFGwVADXgPbgmSCRILtQrWBYwMWg/XBawFtQ3vDlQJ1QzcDUoJ1QicDiISFQljDKgKJwiFCnUJgw4TBw8IggdsBycLKQgSCSMHkglzCFYMMQyyBngJeQp+DgMM/Ap7CYcFJgivDZwNjgZYCvIHRAavCysNyQ1NBYUJiQk1B7cLnQpgCP4C9weECWcJewbgBMgF0QAYB6oKrwkNAuwCCAsaBp8I5AoYCBAAswehDykG/gN4B/IJiAI1BscN8wOhAZIHqQRBA2cJcggqAhf/UQUdCpwBxQdmCi79J/8iEFcBmPqcCagDhwLjAXQJYfzf/iwI6gqaA2/+Ugzt+sgNWQqrB4kAmv8EElwAowotA80KbgFD/2EQxf6eBYj+iAfOBq73Rgym/6cAHf/v/8cFdPe3CfAAvfySAB/+1gHDAXECuv10A4P5WAdG/xX8FggN+lUN/vZCAUIIl/1BBnD8cAma+RIF2gK1+YgJk/ev/n8CKfuB/iYB2//u9KYARAJ/AU/+H/qoAmP7TQEp/o4Aj/o/+dkB3vy9/7r8Y/5G99j7XP5tBZf2MvpIB3DyL//+ByAGq+4o/G0CIPk597z80QCY7rf9Ff0m/oPynvey/3X6HPlE/vX/De4i/Rv8gfmY/Xf6zfVg+oD4C/yMAe/t5PUnA3f8v+9G/Tr6bPXS+5b9OAHH7r76bv+s9ov8bf34/eLtGvmzBk34LPef+Cb8ufNFAwz8B+4w/mb2v/tc+S4CGfOV7sf9K/dlAbrz+/ko7yXzRARl81T5PfI79Cb6TPgd+mv9Oex57+kDcPn79n73H/Uj8873vv+f/cLu3/JQ+Un5RfmI+R/4BfX6+JH45PjF88PzpPdw9rPwFfpB+e/vz/TQ8374K/rL8bD1KPfe85nx0PbU/Xr17fQT+ODzy/NT/jr71/Gm9goAf/cf7Mv9rftd9jf68fb3/6bui+5hBJn3be5KAGz6yOoB9GT9rO6l93EB+fOQ8Uft9AHj+PH1kPzE+Jf3b/Lf/or7tPgA+Ib+Pvsr8yD9cQA++Zz2yP9a+BD5effw+qL/ePL5/ugCTPKH8Q3/EP428mn8xANq8AL1ePeH+aP6+PqO/Fz2wfMj/qoKVPQ48HsFNgax8SsCcwsc8T70jgbOA5r4vQA9+/Tv6vpMB84AcPK/8bj46f0m+kMAtfU09R36MAMW//HxAP679jj8xf+G/1j7hftH83b3qAiR/3/57Pwl/oH4bv5uCOb/j/bdAVUD7/ulAnz/mvhg+ocC+wDk+bj4dvjQ/b75TvysBi/7uPTkAf/67/u8BbQEl/n1+dwAZv6f/m4EnQE7+/ICJf6lAzYEG/0R/iEDowpEA1MCz/wK+LUI3QoRAsQCMAED+HT+ygf/A8n/7Po9/NT+wwIOAt74Y//KAQcFiASdAZcBc/tUAwUFcAoWCDEFjv0W9qUKOQ0nBKgDtgX/AUYBYQtC/poAlgjwCRIE4f9SBQP+vP0jBXsMKgLQA4n9TPq3AqAEGgVJAtH+9v+x/sf+PwSoCNgDHv7UAUv+HgEwBDoH0QKNB1YEVP26/PoCYgg3BLUFbgSQAu/7bv/SA24F+AnvBTP/YPxA/jUDYQMdCvQGkgQn/t/9pgK3A7oIIAXGBRcEoQNw+8sDkwZBCj8H3f/1//gBEQaCAbUG/wSBBEf/GQE1AuEK2gqUAQACgwd8BIEBFgk/B4sKlQU4AMkAMginCFQJPAu5BZYIhQhvBrQE2AiGDXgMSgicA2EGDAe5BTcIfgzrB7kEkANrA8EHcQtdBgYChgb/B+gJDweYBvQCkgWAB2QJbQrLBWoHJgUtBWMGMQg9Bw4F0QfkCWgIBgjPBp4FrggMC1wIugabB74CJQWvCWEHOQV3AtQDxwS7BZsCC//FAYwAQ/9XBGgDsf40AHD9R/51A/0ElP9S/SMANQCuArwB1gAJ/8QBhQL7AdAFuwQLBEMC5f9GAWAG4wZCBe0EvAEd/zr8pf4iAv8GkAVa/2v9v/oI+0r8LANpAnACTgIj/9X7l/uGAjUEYgSGA4cDsAJj/Tf+ZQUyBFoGtAZ6BREEEwQ0BO0DPAgfC+MLOQbyB8gIxwkpCq4JfAriB28IMwRlBNMGpwY9ABH/hQNCAGf+QfxCAff+a/0jAB77K/7wAPH/N/3f/U0Bu//+/Ib9lgA3AfX94vzc/zADXQH5/iT/PP9lA4UCI/91/hUCCgDR+qf9t////F73RvaV+Dj8v/lS9AXzJPKG9dn4yvR28/fzRPCH7fPwefh5+bX25fLJ78T0rPac9xv5K/xy/Uz5yfQY9DP8L/6D/ev93ADg9xvwSPJp9er9gf81+rLx3uw56njsKfPh94L6CvcM7j/qO+6L9Dz5O/p9+vj3/fFw7tHvvPlsAJb8v/RJ7YLr0+/t9ir+BAL5/0P1m++F9JH8nAQwCBcFkv6f/Fb1K/Wr/v0JlA2fBWL/Hvq49u76fABGBW4KNgWdAMD59PSc9rz2Mfp6/Iv9f/b/7STtnPGR9h/3ffhb+Ez24PWW+Ib+iAFX/xv+gfyw/hkBav9b/v/+c/+N/BT5vPjb92v3sPej+b37VPn093PzDvVv+w7/Fv3n+sL8L/y/+j756/ud+pX6bvvA94/3T/aU9QXzVPJw9KD0JPVj8mHzDPQ38njzlPUc+Tf5f/tO+7z67fzm/Pf+vQAkA1wBaQDq/e789vvf+cL6Z/m59nry3/A87+Duqe9L8kzy9fBK8zzyBfCw8Wn1nPnV+3n82v1o+uL4OPiP+qz9XgECBRkBAP4j+qb7tPqL+t769vnJ+Kj20/XF8vTvV+oB60rxzvsLB9ULWwAE8FrpMPAnBBgV3hwmE4oAQfRc9EQCThEQGdkVAws/CDkCd/qF+gv+ggqBEDoMXPwf7P3ipuel8rP6Sv2v9o300+248HD1BPny/bYBcQoYDfwPiRHcDY0KJwrRC0kOHhAFDlMH9gHN+vj1b/M28UrzmvcQ+kD4bviO9yT4qfyxBFsMyRP2E8UQrhFnEDARUhHhE7UTZBEsDUEFC//X+5H4p/cw94r4AvrW9r73ePdG+9z+JgLoBocIMg57EygZohtSG84dih4SH8oeqhzOGVwWGhK9CTICzP+rAQUAM/kR8prtku5X8oz3L/o4/P362/scAYILQxjRHPoa3hVbFVAVQhQOGFcaHBrwFg8O0wME/CH4mPaT96v3QPjK9Jfx2+0N7kn1//mzAa8GWgpqC2QHuAUxDYccRyxHLWciuxLBBAEB+gQDEeQbzxk9BrrvAehB9lcKXhdqGRsXnhTnC1gCsQR+F0ot3TmdMNocUgWy+j3/fQtAGDoW3ApG+//2G/1KArH+7vlY+7gFGBJcHWEisR3LElUH9AfWElIjoSqCJHYUwAQt+XXzmfae/wEK0w2zCqICTPyj+hD8RQRkE2Yg3yWFIRkajxJiCp4GzwfRDkoUcBPhC8//qPc+8zLyA/Nx9wz93f9bATsBrAPdBPkHnQlXDSYVhhxtH4AaDRdaEnURMBLoEQgPRAnVAt76g/Mc8aHxlfPv8m3vBvCm8K/0t/dJ/TwCOAY5B+8ExgafDaYWzRbHEnANoQprCRoHBQYABqgE4QAr98bya/QG9a7zBO0T7lLybvgw/Pz6Jvqa9mT1y/lZAmoJhwvaBVb+P/yM/bD8bvbs9OL7egeKESMSngqv+xLuCOsy8d/+RgytD+4FlPWm7Y/0owFVDpEWZRsNHDARNAEw9j75cwoSGvcbaQ0z92fmruJY6Yvy2ff5+En5YvrD/Wv+O/6k/WT/yQWgDIoUuRhLF6wOf/0s6knc4tvR5a3vSvID6/Td59DBzVXWOuia+UwG+g5kEzIW1RS7EqERQBI9FqYbyh8uHIENQfpn5+/f5eEK5orolOZl48Xdmt6P4bvlUfDW+fcDKAwUE4MZkByTHZEZshSgEPQNRg4TDjsLywJ8+HvtHebz5DHmjulF7s3xq/Nc9I/0+fcj/2AHZxAtFmUVVBMdDqkJRAfgBr0G/gUTAa762fXL8fLtFefq58/tNPRm9ezzsPQf+7T/EQDZ/YL4Ivbi99kAwgeJDKwIB/9d9Zbwz/Xd+tn+lgE9AGD5nfGz6jvpa+sK7yfvGepC5t/kb+k89NsBzgrsCCv9i/Py8lj+igzTFDYQhwBZ8qTsufjPC4cY0RfRDrcEDvnH8N/uzPtJEtYhSxp7/mXhO9Ic2J/m1feBBC4Fcvm161LoL+5R9sL6b/yrAcYLiRG0D04L2wZ/AJb4UPDd75j4rAUMCiICsfYd6gLloubP8rMCag6vE48N5AVX/8T7yfp5+9IDcg9FFLMQ9gSn9vHs5ukP7Xf0pv1UBckHZQWo/Uv4mfjF/C4GCgw5EQ8QBQ2NCOX9OPje9iT5J/3YAH4CxAEzAEL8lfil9mH0iPbX+V3/5QRhBZEDy/6Z+0b66/lP+bv7cv/HAuQCBP3j9vnyYPMo9R33L/hI+pX6HPrQ+lL+bgMsCRYOFw1SC9oHtQaIA6//kv0k/vQA///G/MP0OO/+6yzt1vQN/0cFlQV3Ak7+P/3c+wD9QQCMCBYPwQ/vCA3/Q/iw8hb0v/WmAYUSRh2lHzsV6ASf8yjrGu4b/E0KDA4/B3X6yvNk+N7+EQN2CJcQsBeWEl0Emfea+M0HKha7F7YJiPo88yH25v1KATYE6wF/++z3oPnI/vz/vf4t+aP3ffx9AfwIwwrvAn32C+5O7dH0Mf8VBh0IegUJA23/ovto+87/NgbvDOkSPxZKFLYOUwjuAy4CzgOZB1EF5gLAAMD+1vtD993yKvC39Hn6sgGbB6AMWRDqEcISGhAADX8GsgPWCLwQuBUKEnMGz/hB8kr1RfveAKMGewjDBz0GqQTbAQP9cfsIAAAHCQwVDMIH9QFV/bX8Xf0GAuwFPgVyAlkATAEHAowBT/40+434O/qa/bkAHgWBBogJeAsHDnYPYA5RDR0L8gt5CjQJvgnyCGMINwbjAdn8sveX9978TwKGBrwIYwYj/wX4LvQn+boAxgN6AWP7zvl3+uD71vhS8u3u5+5T+MgGWhg5IxYdVQyg+R7v7fBq+qcK3xjBGWMNgfjM7Y70fwZLFnwb2BcUDCn9pu7y6fP14Ao5GWkWuwSa8NnqfPFG/bwDMAXgB78FyQMgAUD/0f8gAXQH8A3nEz4WgRSNEQMJh/5g8FLnBOpd9osDggjNAl74VvEW7jby8PvSCswWRRzrHCcdfB9/G8sSXwZF/4EBuwZuCuUGAAB19kTwQO0y7jzySfkEAwsLCw42CkII1AUBBX0HAA0hEV0PrA0UDOQMnw9XELULYALs+2X5+fpL/WH8DPpP9nfycvDa7ubuC/Fz8zX0svZh+pz+DQX1CWsKxgYXAq7/EQOACeUPphNSEf0IfP7F9CTuGevz7hn5ggT4CaYH7gAr/Av6t/bX95f9xgX0ENYWNRGVBWP7OfqD/k8BhABL/wX/yP9M/lX2q+yX6Qjt7PTj+8L9uP0W/Jz79fni9hj0rfRi90z62ft5+lX8KwI2CTMPOg2SAoX3yO/x7Ybx/fWW9ijz7u2I7qv4cAUKD6kSIhSxFGsPAwVI+oX3BAOlFAQfzhQq/P3lq9x24LzoX/CW9A33RPg8+M/2LPbF9rv6ZwPqDo4Yaxx/G6oSVgW7+H3uz+lk6tPwoPj1+7T4BPEz69nkguPc60f5UgarD+oTMBZ2FDwPGQng/oP5UvnS/aABKQFx/Sn4ufOH7LHmnuJo5Ujug/c9AFgFhgb4Aq/+q/sZ/CsBhgePDekPrw9uDMIHOv598dXoz+Zv6j7vC/Vq9zn1su2Q6Gbm4ug67wP3TgCuBCsGigMpAUn/mP71/Tr80PuD/kcBVQN+Avb60vEZ657si/Ds9Bf5Wv5XA+QCTgN3BJoEwwRNAVH9KP79AD4F6gVNAfr7OPaI8+Ty0vI/9Zv2ZPcT9k30s/EA74byVfe++7X9HvtO+LL2D/fz9yf33vSF8VrwrvCs8DDyjvhuAz8N7Q5EBwr7GfGU7aHuOPLH9hb7RPvu+90A7gbkCMoHlQnzDt4PKAYR9yfulPbRCGcYtRaABFHwvOai6HbtlvP/+ff/nAJlAFv6aPg1+O/3xfptAL8JIRFnEs8PwAfb/W326+3U50voH+5d9x8BfQKr/ob31e5Q7ZT0HgEADsAUuxYgGgYYfg+QAkH1oe8i9N37dwHkAnsCbf6i+dX3lPMS8ibyB/Sc+A3/xAXECckHYASmAz4ErQVrBUYFQwZwCBgKgwl9An34G/Fm66/qt++79Lb5ifnR9tT3KPkf+5D82v7/AOMBNAIDAhQE2AdACPQHkgNs/cX8mf3S/Kf6EPlT+lf5EPVQ9lD71wHLBsMIkgd6BykIxgcNBiEEdgMwBAsEYwHSAYoAJQKfAWr8rvh7+Gj9cQJQA9AC1P9P/Tf9Tv2QAA79HvqX+Ff6gv0b/J/5hvQZ8EvvTvNy+ygJyRXBHBQanhF8BA/5dvW09xIAwgfgCKUDMwA+Ah0I2Ay3DpQNhAo1A+D71frD/rAI5BIRFWQPAQeJADv9vf1q/H39jgIYAyAD//+o/dT65Pqb/wAFfQtLDdEMQAotB4MD0P/+/GL5rPfi+eP8TwJcBEACCP9n+4H8cf+FA1MFzwfACgkMPw0aCzYHMgUTBMABGgD//gkA7QP6BgwHQAO4/YX8RADRAZQDPQKn/Qv8/PrZ/ZgDVQhJCOgJMQplCBgHRwN6A/gFdwkcCcEFu/+P+EP17/IZ9Ob3IPkj/Jn/xAAr/w373Pe49sP6UAHaCeUOUQ8SC+oFZgNFAg4Bfv77/Vf9sAALAIr7vPeW9KT0yPjn/u8E9gg8CVUIogP5/dP5DPyj/8EEKgi9CEoHAgJ7/fj4sviP+jYAoANcBHMB2f0r/eX86P2w+xH50PTv9YL3Xvb09e32zPpg/x8GEwqlDlsOfgvbCH0E/wNWAiUAaf9cAdgGvwoBCQoHkgjiC6EJ5gNl/WX7RP9IAiEHmQkgC5gM4gnxBAcBAf4i/vX9MwH1AjUECwauAXcApf1d+uf6dfuI/68HEAyCDL8GzP6S+F71PfY9+rf/vwL6A8oB+v1C+Yj4tfpt/mADrwf0CsQKegczA9f/Z/92/4kBbAKhAfIDiAOwBNUBOP4h/SX9xgEKA9YCuQG2/hz9Ffox9+z2gvhI+m/9MQCjAAIB6/0c/cn71fnH+9n9KgBrAk4CDf8T+7/33/Vr9J/zVvPG83T2x/ae9lP4W/eM96T2afYo+JL7KgDxAisFBAUCBOgBqf+Z/7kBQgPyBgoJlwbQAsT+Tvx5+un56/i/9xj5WfnU+W77lvrf+an4B/mc+jn9nwBuAcwBiwOZBD8EMwRuAuH+vP0u/tz+uPxn+dD16vMS9C3z4fbx+2H/O/7X/Kz7Qvui+0r+mAIzBzsMegpsCeUElgKRASQBqgIwAZoAJQDAAcUChQI5AukDhwMjA4kDygT1BxYIrQXNBCMD8QHMAdkBzQEBAacBkgCH/4H88fpm+CD3ivgH+S38DP9WANoAAv1J+Hj3nPQJ9SX2TvjH+vv7CP02/OT5X/hM+Nr4ZPy+/K3+L/4G+w/6Yflq+KD4DvtN/vcCQwclCl0JcQWuAGD/BP/O/n8AzgJwBI4EVgLl/r75SPZ79Xv22vmj/HAAUABN/h79FvwO/Cb76vq4+/D6D/zC/sH+Yv1E+2T3GPVE9yj7s/40AEMB2v7A/Ij7lPi/9yD3D/qr/vIBfQO/AuYAmvxx+hX7bf3aAeQErQVGBfgDKQFU/6T9BP+JAgQE4gQVBBQD4QAI/2T/J/8c/24ApAIXBdIGKge2BEsCXP4d+z78h/2N/0kBxgIjAkb/cPsj+Gn3/fdi+rH7bfw3/WX+1P/w/tv9wPzY/RUBvQMpBjcGRgQPAqf/vP1w/sX+4v+8AzAF0wXwBdoDqAEjAnMB3QD5A8sE0AZiCDsHigZvBX4EsgOnAv4BsQPuAiUCNwDS/Ob7JfpY+cf6xfvI+z38O/tj+Y/4hfhb+Dv7wfxGADwCmQAzAeT/NgCK/+8AqQLJAywEKgRtAkIAXv91/vL/8gA2AlcBuQFjASkCwwJ7A+MBBAFoAicAzQJ2A3kEigWHA6QBAv99/EX8JP8nAicDVQTGAvX/XQCo/XH+Zv88AMoCFATZA/kBngIFAccAWwF6AesBWAKOAw4DhwK3AScBLQDb/lYAkgCaABsBTwCSAG/+mv2b/bv+5wHEAiICcwKGArACDgRnA6QEXwWLBtgHQgdOBisFZQUpB0wI7AfrCKAIIwivBx8HjwZVBoEFLgVFBXkEHAUMBJIDgAR1AwQCsAD5/+7/GAE3AnMCOAJrAaMA8v/HAHgA2wKYBHIECAWVArYC4gFWAZUCGAJ4AsYCLAT1BIgGWwf1BLkEkwMHBHoGeQZ0B+cGDgaJBpwFDAYTBpkFSgTiASwBsgChAekDAwUNA4ECnQBo/pj9B/xy/mf/Iv++/pn/Tf/W/sIA0QAIAFYA4wBDAVYC4AH7A/YDrQF7AGf/QwD2/7UA7wEgAa8DYgNjAg4E/gF+AmcBwgCkAzsEjQSmA4UCWAJUAkUDXAJnAr0B5QDNAUAC7wLrAgUDsgJqAUYASABeASEB4wCvAUMCqAHs/9X/3f4FAMIBXAEjAucBBgDP/6j+AQCRAuoCAQOgAQsAO/5Y/b7+r/+eAGoDAgLXApoBygAtAR3/0/7M/X//YQD+ARQDygJlAsgC6gGwAVMD9ATiB0kJzgm0CSgIggXrBAIDVALqAv4DTAV6A5UCs//B/Nv7cfxT/wwA0f/xAO//Zv+3/44AkgDz/2sBlP/E/8v/LP+SAMP+N//B/eD8DPzz+9L9ePxp/qj+Yf9P/7H+rwAVALQAWgG4AHIBVgAfAFABpgCLAV0CFwE1AIb/OP4P//f+MP8r/5X+vf6T/vr++f4T/3D/Ff9h/+3/pv9CAH4AY/9t/m/+K/4A/m/+2f5Z/rf+Dvxh+7P7hvpC/FX8GP2F/gD+rf2e/dL8kP1H/Wb9Rf0z/RP94/xq/X39lP12/Zb/Of8W/xn/iP5M/0j/8f9yAX0BvgG+ABgACQGD/4sAgP83/4f/S/+8/o/++/4R/hn/8/0P/gb+wf3T/V3+Nv9j/63/SgDtAKUAGQAUAA0A5f/7/yAA4QBt/wgAef/q/cz9wPzV/Mr8/P02/qv9A/5X/vj+yf6E/1v/uv7u/sH+iQBWAc4BHQJyAGj/Yv1j/Iv9hP3k/lcAVQAF/1r+av34/Mj+kv+8AKkAQwA6AFQAUgBOADgA0gCD/yP+0v6b/tf+//54/67+5/7s/fv7Xvvv+438AP2S/fH9h/50/or+n/2a/Qr9C/3m/YH/dv+6/xYAy/5a/q78Hf3//bP9i/7Q/sP9Cf4b/Wn9Qf7H/uX+pf7M/5X/1QAbAnsB+wCPAHL/YP9p/wAAyQACAPD/tv+C/gX+A/6r/XL9m/26/T3/bv8t/+f/7P/9/4n+3P6h/9v/jwC0AGoAb/9t/0T/UP7r/jv+Mv2V/XP9iv7y/hL/ov6d/jz+8v28/1QB0gF/AgYD6gGsAVMBXQFAAf4AgwG5AUEAMgD+/ob+V/8I/w//kf7a/07/kf8UABgBnADd/40Ay//SAB4CqQGYAl0BAAC4/07+Rv7b/RL+f/3J/ev8xP2a/m/+W/6d/sz+TP73/gkAvQCiAEQB2gADAcH/2f97AFb/a/6G/xYAjQBTAa//KQABAB//9/8oAU8B2wDLAFABxwCuAIUBtgHiAbgBKgEPAPEAugAsAegBGQGNAM7/k/7u/nIALv86AKoAGwCOAFUBiQD4/2MAXP+k/6UA2wEaAh4CUQHsAPT/qP/d/xf/2/+q/77/oP/f/xgACACYAP8AbQGLAfMAwwAvAWYBwwHxAHgBogCCANMA1wBpAZUBwgHVARgB0/9oANP/RADVAO8BRAKYAd8BqAHW/5gAfADD/+UA9P9QAeIAxgBXAV8Ayf+d/iD/Wf+E/+0AoQDVAGoASf/V/1H/SP+OADIBjwFbAfsBEwLdAKQAJAC3/z7/pf9dAYMB3AA3ASMBXgCC/0kALQA0/xQAGwHEAa4BeAGQAMT/hP+MABoBkwEHAgcCnwFQAXoAgf/G//v+mf8UADwBjQBzAOL/GP/B/83/UQC1/20AhgBlADMBjQJrAZwACQAv/4P+P//IAD4BtgF7AHsAgP/y/r/+6v8JAGv/3v8BANUA9f8GANf/Qv+V/lb/8P+VAOsAGQGKAPH+i/9w/8j+Z/6g/9v+w/5z/+r+yf69/ev9O/5t/xr/v/5x/+/+bP/8/xIABwCv/9n+/P7W/sD+mv9N/1v+zf4U/67+LP+e/j/+5/6E/vD+aP82/4D/m/7c/nH/F////h4AlP/X/0kA8v7F/pj+SP8K/3//5P7x/mr+G/7H/tH9if4e/rH9Hf40/8//XQA/ADP/8f7K/uz+av+5/2v/jv+8/vL+8v6I/mH/6f6O/gD/H/8i/2j/jP/T/+D/7v6l/lX/3f4V/8b/gAAAARYA+v8yADX/ZP7G/4D/xP7I/rj+BP9n/ob+dP57/vT9lP6W/hX/7P/O/2j/3P+E/zf+Jf/r/kj/Cv8q/67+tP7m/n7+Sv6H/v397f2+/kj/bP8J/4//wP67//H+Hf9e/0T+jv4R/1z/Nv++/7v/0/6W/r3+Bv6s/lj+9v5e/9H/Pf/+/rb/uP5h/o7+DP+S/yAAUwACAeH/Vf9c/kz+C/6N/qn+F/+L///9h/4k/iH+/f3W/kr+DP8z/5T+pv9H/x3/z/4J/9L+If84/5D+lP5f/qT+sP7m/rf+T/5B/oP+Zv6n/in/ff61/nz+8v4S/7X/Wv+C/83/v/7p/lz/2v8x/3b/Lf/N/tn+0/6w/vn++f4R/oj+H//t/ov/JwDt/y7/Nv8t/23+yv9Q/0j/PAAfAKr/Hv+7/zj/8v4C/nj+5//y/i3/+P/k/jb+7v4i/2L+r/89AAQAt/9QAF8A+P/OAAsARQCk/wAA+v9O/8j/V/81/+b+Tf8yAID/aP/G/2T/EP+V//X/rf9GAIv/gf8ZAJv/p/9e/5v/cP+p/5n/Uf8//xX/dv+u/zoA6v+3/4D/Uv9H/xMAev82/0D/Bv/y/z7//f5x//n+E/9O/9r/hf8i/4T/9/4q/+j+df/A/3n/d/8f/2n/Z//B/j///f5M/6P/2f8FAPD/ZP/O/sP/tv6k/uX+3P7N/sn+Qf67/Sj+ov3g/ZH+Sv/h/n7/1f+S/i3/OP77/Sz+Y/7c/mD/YP/k/l0AuP+F/w8APf9K/0r/xf/i/4T/rv8g/0v/4P4N/4n/jP9C/2H/xP93/xgAJQCm/xQAYACoAP0AvgB/ABcAtf/W/9r/eP/e/5j/lf+Y/87/iACMANUAbwAmALYArwAAAZ0AEwHPAM7/LQCa/y4AW/9H/zz/Uv+9/9f/zv+f/2MADwCXABwAwwBqAF0ATQDq/2sALwCNAOL/NgBtAEAAAADe//b/aAA8AG8A1wBBAGwAuwDEAPMAIwEsAagB2wAiARwBcQChAI8AuQCPAN8AYwDUAOcA+ACYAU4BEQG5AaMBYAGfAW4BegFoAXgBWAHrAVQBPQELAUABSQFwAW8BwQDyAGkAFgE9AL0ASQACAMsAXQDjALIA1gAEAIsAYADoAL0B2gBbAcsAKgCRAEsALQC//7r/TQDP/+X/Pf87/wP/Af+z/yH/Xf9A/xX/+P5n/2z/cv92/yH/b//O/gT/eP+q/q/+mP42/gf+Mv7t/lH+uP6Z/rH+of48/k7/hv4n/tb+l/+X/7v/UP8R//b+Pv+x/xb/tP/p/tv+pf6P/qL/xf9h/zz/MP9r/oD/xf+W/wUAs/8FAGsAFwDx/xAAs/9W/wEARAABAE0ACgAEAFYAugB3AGcArv/6/wUBTABHAAIAHQDc/wIABwD2/10ATgCfACsAWAAyAB4AFQCn/+r/TgCp/03/oP9i/xkAIwDk/1sAZgCF/7z/bgA2AL4A6AD5/4b/cv/U/nz/T/8V//H/0v93/5L//f8YAH0A4v93/xQAsAAzASYBHQEvAcwAvAB2ADUAwADSAIAAJwG4AaIABgEIAHj/PgA1AEEBQwECAawARgDq/+r/CwA+AGIAHgHqABwBGQHEAN4AaQDxANwACwH1AGABhgD5APgADABUAGcAmwB0APIAFgBoADIAlv9tACcBrgA1ASkAUv+U/zf/sAARAAYA8P9i/2P+U/6v/rv+7v7g/hn/0P4y/iP+Mv9L/hv/UP/d/s3+fv7L/iL++v0v/Sr90f4ZAF4AWwDi/i3++v0d/tD+LwB1ARr/F/7O/VH+xgBvAaQBHgFJAFn/uv4m/4L/awHBAnEBtQACAHH+9v5V/nD+j/+A/0v//P3Q/pT+Hf5V/mH92/1p/5IAvQE+AY4AMgAa/6j/vv8uASQCqgEgAaQAbgCXACkBiwDUAGUAsgBIAZcB/gHdAUABVf8YAKUAHQETAlYBgwD4/0gA4P+s/+z/XP/q/l7/Sf/m/8D/lv7y/QP9c/0b/vf/ngCUAAQArP4Q/jX9Sf61/5IArQAvAJf/eP4I/p7/ff8F/yr/O/2r/Af96P01/nn+Rf4o/AL77vpt/JH+Gv5r/Mv6JfoS+/r8wv43/xv/VP+O/4P+X/7v/ogAhQLkAzMErgJy/9f8g/1D/6oCywLF/5b8QftX/Q0AIwBc/fX7yfti/vf//wBjAAz+Fv3E/Ir/MgJTBJUDrAJ8AicA6fxx+kL8gAH0BfED/Pz99lj0kPXl91L3LPjs+NH5vfoP+LD0tu9p7zP3lAQwDgEO4wKP82nuifaQBk8QtQ7CBIX6J/YN+UQCUQrMCw8HrgCm+jb1ffUN/uoIlRIHEewBpu545v/w7gLQDnkKx/zz8EbxfPqAAkYDmPl38dLyUf0oC7wTvQ6p/9nxcO45954EMg+aEA4MlwK3+Pbz3/S7+ycDQQbcA/8BagJvBKUCcvyS9mT12/tCBdcNdA8MCbP9E/UT9Fj7wwSUCLcHAQQVArsBZACs/ZP75Ppc/TsD3Al0DrcLqAMO+p710PvGB1QRcxNvDpsEyv31/J4AiAQTBlwF+wK5Aa0BJQHY+4n1vPBA8Ub3jv+LBGMBWPqA8afsOe+u9+wB0Am/COwA0vo2+Qf84wFMBhoH2QbsBTQFewXVBbkDwAB6/H/6Rv5eBDsHIAOL+0v1UPQj+BX+QAOTBLkDaQAq/P36xvuj/yoF2AloCjkH5QO/AQECLwQNBh4HGgYHBlUKEw6gDDEF2P91/6UDEQmaCzMMLwyQC40ItQOEAbkBcQPEBxYN2RLgEvMMzgF3+5/+Zge+EOwTfRPJDiUJfAFZ/LH/JwctDagLvwYuBeAK0RNHE8sHRvgo8ov7ew5lIQom3Rcn/ZbnCOp4Ax0iBi8mJCYQcgC8+T32Zfj0A+QY5iggIckEBufM3WLqjQC7DMgJ4fuv797scPMO/br7YPGi5krt/QShHOMekgY26ZPdUuvtBQ4aOB4VEgP91+rw5gvxpv6UB7EEGf5A/Nv9+vt69e/tTu5p93ABDQnPCWAF6/tG8SLrtvEXArcPqhOlDL7/e/Qv7qbvZ/q6CdEUhBCdAun2LPfQ/xkFGwRKAfEEZg9HGe4W/ggf+vTzQvyLDbgbxx5eE3MDhfpt+ygCCQdjB6YFfAgCC0wJqQMI/Wb6cPsiAMkDLQk5DpsOggvmA5D/VwB4BKANvxdXHWcbYBJICB0GrA3CFl0bshfGEe8PIxBZEdINSgkkCGIKNA91EpsS6A2sCPQCcQOCCu0QBBT7D48K+QcZCacKPQ1iEUYU+xKeDdQICQq4ELsXjxkuFMAORQtCDWMSRxUwFd8OGAg3Bl8KKxGTEqgLTwRxBG4JSg0CC+cEpAEiApUD6gJzAfcBagMNAlz+mvqr9/D24ffB/H0DNQRO+h3qZONQ7x0FwRGyBoTuLdyM3cHvuAMlC8EAWupe18DXu+zxBgwNnfw65DPap+En7S7x5e1Q76z08fVm6TPXwM1j08Liou8C87Lrj96r01rR79fS4pTnSeaw5iLuGfc49qrnptfm1lToCwAODegH3vVP5DXaRt8d8YwChghHAEnyEOqh6yjyOff8+cf9ygLMBQkEhP/Y+vb7tQGxCZYPQRCxDaAIWgSfAh8EBAcyCq0N8xCyEZwLkQDC+sX/jAwlGF0ZixEUCNsD1ARvCbwOjRBsEc8SkxQ5EnwKJwDs+XP9gwldFuUYVw09+Y7pJOdm8xoEjQzyCOz6Wez05djpGvTq+kj82fmZ94r1kfI38IjvFvNf9gD4WvdQ9sn0HPGI7VDqPuu+7w/2Rfm09CDqZNzZ1ovffPBB/VD8BO4f3ULW6Nsh6Jfy4vYd9RPvg+jo5ejlMekk7bvwx/OZ9V716fAr7Brqcuya8Mb0kPi8+vr7mvlc9BLxafI1+ZP/xAEj/7z6hveR90P6iP10APv/5fwP+ob6g/3z/9r/O/3A+6T+6gGtAg7//flK+e79gQR6BsUCMv77+3D8Bv7d/10B3gHHAakAKgH4BIMJqwk2BKn8Nvq5/ygLlhToE5cGLvSZ6SDwHwaTGy8fvw1S9+7q4O5g+/EHYRG4F9AXoAtg9g/n7OqE/3cXUyI2GEQCvO486GLyRwVjE8cRbQXt+Q/4O/41Aof/JPvr+18Cvgc+B1sBePiB8pHzZfsiB2sOKgsV/170GvPS+SUE6gq7CzEJ/wOl/bv5U/mD/NIBHQahBrgCo/sC9TTyQPQC+i0AEwK3/rf4ZfMq8ub1ePtkADgDtQFF/hf5CPWh9qv8HwRsBxkCm/cJ76ztjPOa+yIAwf2K9uHvJexC7RbwMPJ/9Ez18PXa9dr0AvI47sPsivCc+K0BkgVoAA/2Re6h7lb2ggG7CA8I8wB6+FzzYfYT//kFPQdyAiD82fiC+UD+IgLuAhcCpf+a/zED8gdNCQUHKwTpBJAKmBBOEsUPzwulClkOmxKuFCgULRHhDysQchCiEFAQjBHOE/AVKBW7EcUNxwzTECkYDh6jHakXOBD4DB0PRRRbGOcXjhUPFBwTjhIvEVQQLhBdENQRDxLvEqcTERJBEPEMEAt4C7cNZRAZEaIPSQtmBYQCEgW3CoAORQtSBPX+iADkBZMIXAg2BjADlP4A+ir6hAF3B2YE/fhy7xLxWPlE/2L8WfVQ8svzcPYM+Sr89v6d/cL3D/Mj9Jj8JQaJChsG7/nn7drp+fPfB7QWVRKF/EXn6eOW8b8DVw7zDZUIZ//p8kzpGuo6+YoMbxZNEPH8Qep64lPs1ABAE88WTAc08o7nNu5H/24Mzg2/B1v/zvk49+z4lv2QAqcFNQWKAef8pfkl+Ln61/8fBnMINwXW/+v86f5LAoQF8gf+CAUJ7gV5AaX/BAEoBfQHiAdcBKz/zPx9/J//YQT0BXECs/3K/KP/HgPoAxEDJQNWBUcHmgZCBAED+gJQBF4GzAeyCL4FXwGj/JH6jvxX/5cCiwKr/rL4FvOB8hL4mP7/AUz+yvZw8g/z1Pk/AaUE9gEo+2f1EvWw+fgABAW0A9r+mvfO85f06PlC/rX+hfu19kH0LfTG9Mv0lvTM9Hj2/PeZ+F/3K/Ql8e/wVvW7+6r+hvsI9o3xo/Iz96n6XfsT+Oz1s/TA9DT1nvTp9I727vfH9470n/Ba7xvylfiM/Dn7xfXe8AfyyveL/E39lPh89V34u/1tACb8E/Yo9a/6vgIoBSQA7/gd9XX4jP/8A5cBXvsc9sf2wv2GA1ICVfuH9jn6dwGKBCoA5/mh+g0COwicBXT9rfac+SACkghpCCv/ofXa8FT1rgDIB9YDu/aa68btwfqrCF8LyQDC86btmvN7AGENjxBjBnf2EOyj8VEEpxX+FuQI1fYb7v/yWAAXD1YVtBBzAf7uN+cj73YCKxPgEywEI+1j3lbh+fN7CqkSpQYy7iLdneAI9B8JYw8KBQf1ruq06+D0Cv4mA2YBdfu79Sfxj/A69K35nf5W/pX43/EO7cLvxfa7/XL/gPqL9H/w6fGB9ij66/pn+bP4a/iV9pn1yPTa9iL7Qv1u/Jz5Qvfy9vD4p/uB/sz+Df0O+uf2C/ie/GIAMQG+/YP4j/Wp9nf7egH+A5MA/vm+9Nv00/qrAVMFXwN0/Vz4kPVk+TUBFQZOBl8AV/oc+X39oQO2BQkFtwEZ/jD9jv7dAXEEeQRyA8YB6ABxACn/af/vAG8DcQUZBEcCUgBM/0f/UQB+A9AHqQnhBw4D1v68/woDkgjdC84Lcgj0Ag//u/+DBCAKNAySCJgBjPwp/KP/XgRBB0oGfwGv/PX4UvvYAEYGXgcGBJv/xvtA/SYAqQLFA6oCaQGX/4z+2/5p/jj+cv5s/tX+XQA+APb9jvsP+WX58PzFABgCr/7d9x7zT/M4+Kr/OgA/+ozzte9r8t/3Hftg/EX8avxK/GT6Mvni+Uz+wQMbB7cEmf1m91r2yfzbBgAMHAhE/7n4T/qsAC4HJQrnCOMG2QRPAnEAQAElBuoMERHnDg8GNvxU+Z4BzQ70FnkTRgXg+G/3uAJ1ERQZSBUXCAX8f/jJ/zIMdRUqFFAK2f3z9277JwXKDzUTPQ6XA3n6o/iRAHoMBBWkE64Jxf2b+FH+ZgrsE6sTqwnw/Qb5w/yEBiQN0A3dB/P/hPtl/EoC4gdYCn4IyQPn/xD+nP+7AzgH+AeFBcMBiv7T/b//8AE8BAoEwgGy/rP7Vf02/ywA1/9a/hL+zP2w/EP7p/pX/Mb+iP/w/sv7dPlN+VP8FQFgA+ACe/4Z+yn8YQCoBUoHPQWGAcT/FQEpBDEGeASBAez/KQJOBmsHXAXnAKz9Dv/OAqkGTAiDB54FOQMGAnQCNwSnBwcK9QrgCA0FYAL4AiwHwQqJDPMJBwa0A5oDLwdECt8KWgmPBTwEzgXSCG4KfwlyCOgGcwZuBsQGsQbIBhIHpwa3BVUEDQPaARcDBgXFBVoEoAEAADoAtwNaBf4EZANkARMCLQORBN0EXwOsAngCjwP7BJIDKAGa/s7+CQFvBB8GGAXiA0YCCAJiAlMEqga5B5EHagXOAdP/7P9AAt0EmAU+AzD+vvrO+nv+OAIxA6gA9vuC+R/7QP9/A3oEAAIk/gj79Pqc/HD/VwKeAXb/tfvz+G/55fteAO0BQAHa/cD6Dvsq/oQDvAW1BFkBgv0d/tkB5AVICPQG2wI7/qv9hACKBEIH4gUaA3P/XP4TAO4BfQTvBCAEMQI1ABsAYADeAUsDZQOsAu0B2gB1AOYA1wBSAVkBPgGvADEAm/81/wb/uP6m/kn9r/zg+4D85P3p/VX8ffmY+K75oPzs/tP+dfx3+mn6XvwTALEBtwD5/mf+b//RANwCygI2AhACsgBWAI3/OwDGAUkDKATrAQb/J/1w/ioCgAbQB5cEIAD1/Pb+1QPpB9EHiwK+/aj7Uv4yA4YFtQRoABv8sfrt/A4B1ALTAdb9lPoU+kr6UvwW/a38oftD+g35Nvfy9l336/i/+nf7U/q199X1G/Yb+jL+0f86/s36jPhe+e38iv8cAaEAVf7z+8r6Kvyf/8ADfQbkBc0Bqv3n+wL/hwThCJQIfwLw+wH5PfyLApAGFgQU/er1JPSk+Hj+qQFc/3r55vMb84X2jPtE/kr8V/je9LvznPXl9w/5Vvi29qX1ofVj98/4cPly+GD3kvZP99b5e/wI/qb9UfyO+Zn5d/u//psBvQFVAIn91fwJ/oYANwOvA3oCbQGyAPIB4wMVBQ8FTwOYApgCPwPbBDoFxQS0AzIC8gG0AgEDlALsAC/+MP1x/fL+jP+Z/v77WvjG9534DPuV/P76J/iH9e30Rfbm98D4hPhE93/2Rfda+P34EPmN+Ej5e/rb+0z86fuz+3T8CP7H/yUBtwCb/7f+NP8uAAkC1AIJAlMBZf9e/rX+U/9EAXICFALkAMT+A/4T/5UAQwElAKj9RPxD/GL9a/46/cj60Pew9tr33fng+jb5Cvc09VH1eveI+OL4bPiq95n3DfiR+NT4e/g8+Fb4rvjj+YX6X/uR+wr8j/wa/Sz+Av9EAP4AaQFhAX4BdgKsA50EtwUIBioGnwbyBggHvwZ4Bp4G5QatBiYG9QQWBJUDIAT/BMwE2wOGAQ0AUQDnAZ8DJgMmAaj+Rf0G/vT/xwGXATj/nvy0+0L8of3Z/qX+P/0X/OT7hfy6/Zz+Yv8M/9L+AQDrAMUBzwL+AsICXQKfAu0DpQXbBskGvwVMBJIEvQaYCSsLOQqJB2wFWwVmB7kJOwrPCMEFnQPXAx8FhAbyBhgFKAPeAbwBHAO9A+MDnwNPAmwBZwGjAZACVAMRAz8CYgHEABwB8AHDAlIDYQIZATMARAAVAqoDbQR9A0UBVQCAAX8DEgX1BdwEMwMhAtoB1wIFBHAETQQMBCMDTwOUA6kD3AQ3BSoFgQRlAzEDogMFBf0FqQWsBEID7wLUA0YFAwZ9BdsDrgF6AMAAvgEUA38DMwJ+APP+Mv4D/wABfgJAAl0A6P3N/Hv+wQBcAuABXv9n/SP9RP/TAUQD8AIjAcD/x/9RAZ0DSwWkBR8FeARLBOwErwZACJ0IlwiNB54G3AbJBxIJhQklCbkIHghlCG8JywmqCegIlgfkBpIG2gZjBzIHjQanBVsFWQXdBTkGhgZ5BioFEwQ0AycDWwQTBekEvQPLAe0AiwHHAjwEcgS7AjIBZwAgARkDzAQ2BVgETgP7ArsDwgStBYEFZQTCA9sDXgQRBdUEUgTBA2UDkwObA2UDNgNjA4cDvgMbAxoCmQEnAgQDxwPwA6QCBAH5/08ATQERAhECvQB6/xz/Tf8pAJAAUgDk/z7/Df+O/0kAcAALAJb/Nv93/wwAgQCAABQA6v8CADIArwAMAdwAsgB/ANsANAFgATMBVgA+ALcAjAEyAk8CDgK/ARYCvgJsA74DXgPzAqwC8gLqAw0EvgMWA3QCvgL7Ao0DwQM/A6YCCwKuAaoBnQGYAc8BvQGmAfEAJQDO/zMAGwF+AXcBbABS/yH/j/+wAPgAGQDK/tH9bf6b/08ADgDn/q79Wf0P/lj/t//a/tj9HP1X/Qv+R/4M/m/90Pyd/An9r/0L/oH9OPy/+4r7u/tp/LT8p/xS/Kf73vpe+oP6Zfsh/Af8L/sC+rL4kvio+d76Uvt4+gT5qPdm91H4pvmf+nX68PiH9wj3hfcU+fP5nfm/+FX30vaX94D4h/l6+XX41/fD93n40fl3+g76W/mP+Jn4o/lB+mr6RPpt+bj4n/jM+KL5Ofpb+m761fmd+Y/5xvk2+mb6pvow+qP53Pk3+kr6lPqB+hH6HPpo+n/6sPqr+n/6wPr0+in7GvuH+ib6lvpd+z/8cfyg+176vvkq+gT7CvwE/Mb6ofnM+C35hPoR+/D63vlL+Lv3E/i1+Ij5bPnf+En4/vdb+EL5s/l0+cD4o/f89hL38/fp+IL5Dfmj94H2rvb59zr6K/tm+r34uPYj9mX3Cvn/+X35r/dT9gv2F/e3+Mf5lflb+EH3UvfC94P4Jfng+Fj4DPiA98T3nfhA+RL66vkc+ej3HfeH94j4d/nr+Rr5APjF90L4hPmY+gr7wPrp+Yz5r/lH+hb7f/uZ+z37ffrz+Uj6Cvvo+zP8nvtg+qf5MvqM+0f9s/3v/JD7tvr2+kr8iP2g/Rz9GfwP/Kf86fwA/ar8VPyx/K/9O/41/p/91fyI/AL9+P0q/lL+Tf4m/g3+B/4M/i7+gP6F/rz+LP4a/XL8Nfzd/DD+qv5w/rT9Bv0f/dH9sv7J/on+1P18/Zf9tP3A/Tv9vvyH/MT8If1q/YD9Zf1y/YH9eP06/Vb9j/0H/qz+5f6Q/r/9Sf2d/e/+JQA9AF//Ov6E/ev9BP8wAN0A2QA+ANr/HADZAOABHgIzAtkBgwEyAUQBwAHVAfkB3gGjAWkB/QHrAmwD0AOkAzkDDgM2A6sDFQREBAcErwN6A1IDWQOjA7wDtwOVA2IDRgMsA1IDlQPTA6kDlQMEBMQEkAXQBU4FiATrA28E7QXeBtoGBAbMBGQEEgU7BhYHEweYBvcFBQZqBv4G6AZiBg0G5gUuBnAGmQaTBmUGYwZuBroFkAWQBQ4G+wZ4B2UHewa4BYEFOQYUB6MHjweUBssFWQUdBTkFsAUhBnoG+AbUBkIGxAXSBVEGCQfVB5UHkQbSBc8FrQbGB2EIAwjLBj8GDwbdBuIHBQhHB9UFLgX5BJ0FswZJB/UGVQaRBeQEIAXMBSkGtgWjBLgDJgNHA9oDcARoBLMDzwL6AW8C5wJRA9oDiQOZApQBMwFiAaMBKAIiAmQB+QAnABQAjQARAUUBFwEXAXAAjwDXANkA+AD2AJkA2//F/8z/+/9gAKAAwQB+ACcA5v/4////2P/5/+r/hv8i/xj/U/9X/3//Yf8g/yX/Jf+N/7P/8/8VANT/jP8u/yX/Uv+N/+3/HADV/2D/+P4c/8j/QQBQAOn/Yf/u/tD+Jv9a/5v/iP9x/2f/Yf90/5v/df9n/5P/h/9I/+b+Df81/2n/Vf8o/8X+yP4g/1P/Vf/P/ij+Xv4P/2P/of9Z/7z+pv4C/z7/Yv/4/hD+df3u/T/+cv5x/t/9p/32/Vj+bf7n/YX9g/2r/aL9Pv3f/DX8TPzz/Gn9Kv2l/Cb8xfvq+zr87vuL+0D7Cvsr+2n7W/vX+oP6p/ot+5X7p/tM+5T6Evr++Tv6bfpF+kD6ZfoE+zn7EPt++sr5x/ku+pf60fq2+jv6u/la+e/5yPo3+2P7K/uu+mH6Z/rU+gD7BvvH+pr6svrp+jL7QPv/+qX6ZPqK+kX7N/v4+oH6BPoa+nX6jPqZ+u/6X/uP+yT7mPqS+sb6Ofu4+7r7QPts+iv6m/pp+977z/tM++76EfvD+wT8xPtE+/v6+/pL+8X7f/sW+4v6u/p++8X7l/tE+8764Poy+2r7R/vJ+n36mPo++637ofuH+1v7JvvY+q36qvq8+lH7pftf+9D6O/rj+XT6Sfv1+xL8OftX+o36dPtb/N/8Yfyx+9z6Hfv7+0X8EvxV+6z6H/qL+lH79ftY/Db8CPyb+5b7r/vq+zv8VPwm/L37a/sw+2/7AvxA/ED8RvxN/F78YPyD/HP8LvxC/Lb8+vwI/QH9lPxu/Lb8/vyr/eD9Bf63/S39NP0X/VL9af2M/cP9NP5g/gP+xv2y/dH9Uf6V/s/+l/7+/cj9s/3//Wj+jv4j/ur9sf22/Rb+Z/5q/kP+Lv6Z/hD/Lf9z/2n/gv+h/3//Fv+q/s/+Jf+B/8T/i/8+/9D+EP/S/30ApAAxAPf/+/9PAM8A3wCXAG4AhAD9AFcBhAE9AQQBKAGPAegB0wGiASkBbQHpAbEBpgFoATYBLAGIARMCHwLgAeIB6AG8AecB4wHQAQgClwLPAq4CdQJhAvoCoQPFA2IDuAJYAmoCOwMOBAUEkQNKA1cDogPlAx4E1ANeAz8DIwNKA7oDHAQIBOoDfAMyAyMDTQOQAwoE0wMNA3kCPgKEAigD6QPKA0UDcQKYAugCOANoA9wCaAJcAmECVAKLAkoCsQFdAXQBhQHgAU4CWQIDAvEBmAHtALAA3QCBAcYB/gEPAmkB7gAcAXsByQHwAaEBSgFBASUBGAEAAfUA2QAoAYUBkAGFAYMB0wEoAoMCkQL8ATcBbwEhAosCpwIkAkEB7ABXASECpgLNAnoCNgIRAikCwQLlAuECjwJ4ApkCdwJ4AmoCnQKtArACqQKRAqgC4AI8A4EDlQNhA1wDYwOlA+gDEgTQA0ID7QLpAvMCIQMoAwEDQwOnA94D+APFA9YDQgR4BMEEewQZBHoDWAOLA+cDJgQSBAoErwOAA3oDoQO+A4oDMgPVAqkCyQL2Ak0DfQN2AzADNgNFA3cD3wOpA/kCLwIgAi0CJQJIAjoC/AHaARMCJwJGAkoCZAKsAsoCkwL8AcUBhAFRAZ8B8QH8AdUBwwHJAagByQF5AUYBhwG3ASACPQIkArMBjwGbAfIBGQLaAbwBXAFnAZQBsgGaARcBKgF1AZQBpwGbAVkBBQEoAREB7gDZALMA3wABARkB6ADqAIwBrwHIAe4BnQEoAS0BTAE5ARsB3wDZAMsAUAHUAaQBbQE7ASEBggHWAbcBVgFDAf8A8AAqAfsAmgClAPAADQGbAYQB8QCBAP4AGQFEAb4BPwEBAfAAHwFaAZsBeQEqAcsAoQDEANsA/wDzAJ0AggC6ANsANwHOAV4CcwIdArgBLgEFAUoBHAG1AJsAQQABAFAAmgDJAN4A1ADsAPUA8QDWALgA3gDrAM4AwwCvAJEA4wDpAPMAvQBxAF4A/f/o/8v/3v/Q/9n/CQD5//r/cADSAPYA3QC1AGYA+//f/+T/JgAIAJX/4v6t/gf/Jf82/2X/IP/Z/tb+M/9m/2H/Uv/j/mf+hP6X/nv+j/5A/hL+8P0W/h3+Sf5G/jP+Wf7R/s7+pf6v/mr+h/7E/un+u/6b/mD+8/2s/Rn+af5s/on+mv6O/lP+Yf7f/g3/If/R/mr+U/52/u/+G//9/k3+Ff7P/cr9Uf61/sv+LP7U/d793f34/R3+Zf5F/hP+9v3Z/e797P1e/qX+qv5L/gf+Av7R/QP+X/4y/gP+/P3Q/bj9//2K/vb+9v65/qP+Tf4h/tz9P/6u/lf+D/7A/U/9/PzF/Yv+gP4m/t39Zf00/QP+iP5R/ij+3P1K/S/9Nv1G/YP98v3b/Yf9VP1Z/VX9o/0s/sj9W/0M/RD9+vxw/eT92/2Y/XP9o/3c/fP9/v38/bH9tv3I/e793f0h/hf+Jf4d/jz+Xf4//pX+dv4//jz+Nf58/qH+x/4z/9j+xf6S/rv+4/7b/qv+yv7q/rH+5P7p/uL+z/40/3L/iP9W/y//Hf8D/1X/1f/B/6T/V/8y/0H/iv8LADsAKgDP/7P/JABqAE4AlwB0AB8A/v8XADcAVgBQAHsAQABaAHYAfACUAMsAygBrAFcAPgBjAJwA6wDJAMsA3wCzAMYALQH9AMsAuwDxANQAzwDKAMUAjgDLAG8BNwErAdkAoAC1AEwBfgGtAccBTQHUAMAAKAF1AbIB8wGnASQBVAGOAYQB6AERApsBngGOAVcBnwEYAjECFgIaAg0CAgIAAmACIwLlARYCBQI/As8C8wLJAuMC4gLsAmADcgMUA/MCzALCAvQCbANsAz4DOgP5AhIDUANrA1YDeQOjA0YDcQOaA2oDPANYA2QDSgNSA5EDiwOJA7cDVwN0A/ED3APrA/oDgwOlA9UDVQTMBL4EiQRiBO4DAwSKBHYEggQ9BNYDEQQlBJkEJAX5BOcEswSvBKcE8gQqBX8FSAUCBfME7wQTBRUFMQXmBLwEoASHBKcE+AQSBf4EKAUrBbYE3QTUBLsEigSEBIsEkgTNBJoEdwRiBEUEWwRyBKwEngQUBGcEVgRGBJMElgR+BH0EmAS3BOkEvgSFBMMEgQS1BAgF8QQABXIEewQvBBEEmQTOBJ4EjARjBN0DBwRXBCoEUwR8BBgE5QOpA/kDFgRBBJIEQQQxBJ4E1wS1BOAEggT1Ay0EcQRPBJYEtgSRBJQEtQS1BJMEqgTSBMwEoQSLBEYEMwRMBGYEHgTTA6cDcQPaAwIERwSABDsE7AOEA8sDwQP3AyoE2wOqA44D0gPXAwsE+APrA+kDfwNkA1MDKgNIA1QDeQPEA+ADxwOsA5UDXAN2A2ADegM2A+4CywKPAskC+gJBAzsDIgOdAm8CowLSAtwCMQMdA6UCMgJRApICRwLOAswCaAIiAgwCrQECAkACPgJTAjECHgLwAQoCRgIyAloClAIFAt8BrAGEAZ0BuAGUAWoBPAEvARcBWwFQASUBIgErARoBswCwAJMAlADYAJoASACYAGgAUwCfAJUAQQBfACMAEwDz/zcAGAC+/xQAr/+9/9v/7P+c/+X/LwD3/9j/uv9//3b/0v/t/7X/r/+i/5//EwAeABAAuf/f/7//e/+p/4D/Wf88/zn/9v5//6j/Yv+R/0n/Av8I/1z/K//j/hb/7f6j/qT+2v7v/t3+Bf/s/rX+w/77/t7+Bf8I/13+Xv53/ln+Qv5t/oH+IP7z/er9xP3U/fD9BP4b/v39jP2a/az9iP26/cL9k/1M/WX9n/15/YP9n/1p/SL9FP0f/QH9Sv1G/UL9EP07/RH9DP1z/eP8xvzY/Nr8xvzE/GL8f/yb/HD8pvzG/I38gfxx/Bv8H/ze+777kvuh++P7pPtm+5n7fftj+8P7uvuy+2z7Nftk+zn7bft3+x77N/sA+6j67vrN+rj68vr7+tb6sfqS+j76UfqR+oT6f/qD+iP6EvpH+mL6ePqF+pn60fqq+ob6avpz+tL65frS+rv63vqh+tz6D/vj+u76tPp8+lb6ifqL+rX64Pqk+sb68frZ+u/6OPsN+xT7Hvv2+vT63Prd+kD7WvtZ+1z7Tvuc+5r7BPwB/O37ofta+zj7GPuD+577pvtJ+2n7b/tb+6r7wfuo+8v7wvtz+1n7fvuf+6z7s/uc+537w/sG/M/7F/we/NP7vfvK+w/88vsc/Fb8TvwM/EX8UvyS/MP8iPy3/KL8g/xu/JP8cPxX/IT8h/yo/K78XPxQ/DP8PfyI/Hf8M/xD/GX8XPyQ/IP8pfyh/Ln8y/zK/L78svzN/OH83PzX/LH8g/yn/K/80vzL/J/8u/y9/Nb8/Py+/NL81/wR/cr8A/0S/dD8NP04/VD9Tv1y/Wr9pP3e/fT96P3s/fz9C/77/U/+MP4K/hb+Gv5M/jn+ev5G/nf+i/6c/pn+t/7D/sL+Ef8V//z+G/8e/+f+QP9S/0z/bv+E/3T/nP/T/wcADQD+/0gAMgBKAIgAZQB9AKkAmwCCAIYA0gDDAJAAvADCANcAFgEnAegA4wASAUEBYgEyATcBKQEsAWEBSAFhAbQBfgGaAeUBywHlAfkB+AHBAeYB5wHXAeEB9wEPAuQBCwISAiICRAI4AksCUQIkAk0CdgJMApcCswKDAqoCyQLcAsEC9QKtAo0C8gLaAhwDPgNTA0EDOgNQAy0DXAN5A50DegN2A8cDTgN7A5oDaQN9A7UDoANuA50DdwOEA5QDtQPkAwYE0wPXA50DgQOjA44DmwOOA0wDdQObA54D3AMoBDcELgRjBCgEMgRABDEEOwRrBE8EUgRJBGkEfASQBKUEuQTKBMoE7gTUBPEExgTXBPgE3gTdBBwFDQUkBT4FQQVXBaAFrwVGBUMFHgUvBWwFjgWEBcsF3QWsBY0FdwWeBZsFywXnBdsFrQXiBbMFkQXLBbYFxwUWBvwFmgXyBc4FwwW3BbAFrwV+BaMFkQVUBY4FkQU5BWQFcQXwBP4EYQUTBR4FQAX0BKEEuwTeBMwEzQS+BHEERgQdBAoECwQaBPcDzwP5A7gDlAO1A8QDAwQTBAYEEwQBBA4ExgPeA9cD0APYA74DtgOvA9UDmQPHA7IDfQOSA2sDTAMsAzgDPQNUA0MDEAMRA+MC5ALSAuEC8gLUAtEChwK0AoACcQKZAnICrQKiApkCcAJYAnMCfQKBAnICWwI9AiYCEALcARcCNwJ9AmcCPwI6AhgCCALnAUMC9wEKAggCwwG8AbkBtwHMATcCLAL9ATwCAgLmAekBzgHuAeoB/QHjAeQBqQHNAQECAwLNAckB6gGLAZMBfwFuAY0BWwExARgBEgEAAecAHgH+APoA2gDWAKsAxADkAK8AtgBuAIEAoQDAAIQAqwB1AGUAUwD0/0kAGgAKADsA+/+j/7n/wf+8/9v/5f+l/6//XP9K/1n/TP9r/xX/N/86/+r+5f4J/7f+2P6+/nz+s/6m/nT+fP54/kn+MP4k/nT+Sf5r/nX+Cf4v/lT+Vv46/hD+//3l/dX93f26/Y391P2n/YL9h/07/V/9WP01/ef8AP0S/fT8Jf0L/Rb9tfyf/Mr8o/zF/JL8evxc/Dz8B/zy+wj8y/sL/PD73PvM+7v7y/up++L79fv++837qfug+4H7Zvtg+5f7bPtn+637U/tS+2T7ePtz+5T7dvse+zX75foG+/b6IPsa++36+fq4+q764vqy+mf6n/qL+mH6Y/pv+pv68PoF+xf79frs+tD6wPrE+vf68/qz+v361foF+zz7QPsy+4P7iPs1++/6vPrT+s36A/vt+vz6/vqy+rP6wvrj+hj74Prr+r36o/qA+kf6h/qo+tj61Pqx+rD68/r5+jv7WPs++2f7aPtu+5/7u/u9+9L79PsG/BT8EPzj+/j7Kfxf/Cb8FvwW/B38PPwK/FT8kPy3/NX80fzk/Lf82/zm/Nf89vzs/OX89vwj/Qv9Uf2G/YX9tf3R/cL9rv3g/d39Ev5W/hP+Kf55/on+dP6a/uz+AP8J///+6f7I/s/+wf7m/hn/wf6T/rz+p/6Z/s3+rv6L/qn+k/6g/rf+lP6h/tr+9/70/gn/Cv/z/sz+9v7Z/uP+//7m/vv+GP9z/6P/+f/t/xoAPAD2/1UAVwBMANEA+gAZARgBIQEuATMBbgF2AWsBgAFkAVIBgwF+AZkBoQHFAZsBdQGCAVYBbQGUAXABdgGbAX0BegGjAasBrAHqAc4BrwHlARwCPQJnAq4CoALJAhUDxAKqAqECiQKEAqoCfAIwAiICSwIWAgECHwL4ATQCDQLzAecBwgGLAZUBeAFdATABOAFQAR4BUQFoAV4BfAFbAUMBgwFHAUYBewGIAbkBEQJUAngCfgKGAq0CnwKcAoYCbQJqAjgCewJhAlcCjwJ5AoYClAJ+AmsCTAIoAvkBuAH2AbYBvgHMAdoBHgI3AmoCdwKzAosCbQKYAm8CjQKRApMCzQLLAvsCHwNYA0sDXAOoA6QDoAPGA/IDBwQFBAsE/gMHBCoEDATqA9sDuwPSA+QD0QPEA6YDxQPcA7wDuwPLA7wD6wPAA9MD+AP2A+wDqQOdA6EDsAPDA+cD/AMyBPUDBwQjBAUEMgRNBFMEZASDBG4EhQSmBMQEtgSkBMcExgRnBGUEXwRPBGEEMwQuBDIEWgQHBDIEiAR/BIsEaARbBFQEYwQlBCwEBwQFBPkD4wPdA7IDxAPFAwEE3wPaA8oD4gP3A/8DFATVAwAEAQT5A+4D3gPuAxME5QOnA4sDkAOxA50DuQN/A1wDTANSAzoDYgNGAyEDHgPXAqUCTAI+AgcCAwLzAe0BmgGDAc4B+gFWAkICAwIfAhsCHwL7AecBBwINAjsCXAJHAikCbQJHAmICeAI9AiYCIAIrAvYBygGVAY4BigGZAagBgAGpAa8BnwGEAXMBVwEhAUgBPQETARwBJgHiABQBMQEiASoBEgETAQkB/gDVAM4A5QDlALwAkQCDAJcAogCHAHsAkQCOAHoAJgAgACMAIQAPACMA9P+4/43/OP+C/2D/cP9a//j+4/7Q/or+mP62/oH+e/5W/vP9yv29/aj9s/2L/W39Vf0P/fP8+fzg/NH8tfzB/Kb8nvy0/Lv83fy3/Kj8kfyS/LD8dPw+/FL8Xvw6/DL8W/w6/DL8K/wv/C/87fso/AL86fsA/Nn72/vf+7/7rfvG+4b7bvuV+337b/s1++L6/vr5+v76JPvp+tD6qPqf+rn6v/rC+sT63fqq+qT6dPpu+qH6kPrN+uT62vrW+tv6kfp0+mj6UvpJ+ij6MPom+jT6Dvoj+u/50vnO+dX57PnY+ef5sPmw+bj5yvmy+bD5zvnd+Qz6F/om+hT6Hvpe+nn6kvqB+p36z/ry+hv7JPtE+2X7i/t6+3T7kft6+5D7lPu/+8f7ovvQ+8P74Pv1+9r72/vI+6/7tPuY+5b7qvu9+6L7mvuO+5f7qvud+/D7vvu5+/v7A/y++/L78fvm+yL8NfxU/Fj8tPyq/L/8u/zB/Lb81Pzj/N/8Cv0Y/TH9R/1Y/Uv9ZP1v/a/9qP2X/V/9Y/2S/Xf9bf2g/eX98P0Z/jH+Qv5N/nD+d/6y/tz+3/4K/y3/Uv80/0//b/+o/9j/8v8uAEsAfwBwAF4AkgCuANoA+gAdASUBLgFiAWcBhAGsAcYB4gEXAiICDwIEAgoCCQJIAlUCcAKIAmwCrgK6AsICzQLkAhwDZAMfA+oC7gIWA0QDRQNUAy4DZQOAA0wDOQNPA0YDRgMhAwkDCQPuAvICFwNRAyQDCgMMAwkDOwNWAxEDIwM1AzsDOAM5A3kDhQOVA4kDtwOsA8UDwAOqA90D0wO+A8ADzgOfA9oD5AO5A/UDLgQCBMAD2gOTA4MDxwPhA9EDyQP4A/oD5gPWA/gDFgQYBP0DBwQmBCsERAQaBDUETQROBHEEdwRMBBgEGAT5AwwE+wP2AwYEFQTbA9kD3AOpA7ADvQPfA6QDiwOCA4cDdgNTAz8DZgN7A0gDTgNrA08DLANKA2wDSQNWA1oDMgNdA1MDNwNOAyEDAAMaA+8C/wLnAvUCHQMFAxoDvwKhAq8CvQLjAtQCnQKXAr0CuALWAvQCMANHA1MDWQOAA30DngOTA6YD2wOfA4cDiwPGA54DtAO8A6YDawOZA74DqAPIA9wD7wPUA+gDrwO/A60DzAMABMMD0wPhA+gDsAPJA8wDnQO/A5kDkgPEA9ID6gMWBDEEXAQqBD4EOwQyBF4ENARNBIsEgARUBJgEgQSxBLAEiQS1BJgEnQRwBIgEmQTDBKQETgRBBEoEQgQIBA4E9QOtA7gDsAN2A5UDegNsA6wDsgN2A3cDnwN2A1oDQwPnAsICsgJOAv0BAgL6AbgBlgGNAXYBigHBAfABWAKFArACIwNzA4kDbQN3A0wDPwMVA6QCXQIfAtABVAEzAeYAagBrAIUADAAtAOP/mP/m/9L/EAApAG4AqgDzAO0AGwFzAYcB0AGkAZMBeAELAQAB1wCyAGQA2/+a/zD/B/8A/7/+z/4B/wD/IP96/5n/6f8/AGMAmAC7ANAAdwBJADUAGwACAMj/ff8P/+X+nv45/uP9e/1Z/V39Vf37/Ov88/zG/Ir8dPxn/CX8VvyA/JP8vPy//OH86fzI/A/98/wN/Qz9svy8/Iv8hfxd/ED8bPwl/AX8CvzS++378vst/Ef8c/zO/A/9Gf0W/WL9O/07/UD9TP1G/Qv96Pzo/L78p/x5/Eb8R/wQ/Ab8/vsJ/Bz8I/wi/Pj7y/vM++n79PsF/PP73/vx++H7MvxG/HL8Pvw8/GL8F/xf/Cf8G/xH/Hf8ePyN/G78YPx2/Bn87Pu5+677K/vf+uv6wPq7+sz6qvqy+sn6p/qT+oH6lvq2+u/67fra+uP60Pq3+s760/rN+gv7Rvsq+3/7s/vj++r7tvvi+6/7zPu0+1j7Kfvo+tb65vr4+hv7Ofsf+/z6TvuL+5z7rfvC+6v7t/vG+6z7vfvW+8v7pfvV+6D7hvui+9D73Pvk++P7wPvy+9H7hvs8+/v65/rt+sz6p/rS+tn6svrv+hz7FPtE+2T7TPtw+9T7Ifxe/I38jvx5/Ir8a/xn/Gj8Yfw5/CP8Ofz0+/L7Kfzq+x78afxH/Hb8Wvxy/E/8Z/x5/G38ifyq/JP8n/zt/Kf85fzy/BD9If1B/Vz9lf3F/dX90f2x/Z39dv2f/b/91f3t/Tb+Uf5R/jz+aP6G/qr+5P7k/uT+y/7L/vH+8/4V/z//PP9C/1v/Tv9P/3j/R/8s/zL/PP8U/+D+4P79/ur+wf7Z/uL+1/7J/tf+8P4E/0v/NP9T/5D/Vv96/0r/Jv9W/zz/Hv8L/wX/8v7u/u/+Cf/O/uP+2f61/tn+r/64/tf+3/7S/ib/F/9V/7P/jv+b/5b/gP89/x7/Hf/5/hT/T/90/6f/qv+Z/5f/of/x/yUAQABNAFoAlwCkAL0AoACsAMoAvQDRAOkABQFDAXcBeAF/AYMBrwGQAbYBxQHMATwCgAKJAooC8wILAwkDWQNyA2EDtgPLA7kD9QPZA6kDtgOnA60DvgO6A+wD1AMSBDgEDQRtBHAEPwRXBF8EQgRwBHsEcgR5BCoEIgQ4BBYECwT1A9AD1wOuA5sDbQNNA28DdAODA4YDgANHA0gDPwMJAzQDHQMmA1sDPgM0Ax0D/gLUArQCjAKFAscC8ALhAtoC4QLJAtMCyALPAtACBAMXA9EC5gKPAlUCWQJqAmUCnAKmAn0CewJ/ApoCYwJ2Ak4CbwJVAkACHwIaAicCCAI+AjgCRwJPAk8CUwKgAs4C2QLTAgQDCwMHA/oCywLhAikDXANSA0IDYANSA3oDkQNOAy4D/QIcA+oC9gItAzcDRQMzA9MCxAIKA2oDfgNlA3sDRAMiA7ECEgKgAegBOgI7AjQCQQI5AiQCBgJyAQMBeQHDAZMBigFcAY0BlQGoAZYBhAGLAaUBuAGhAcwBnAHIAa0BmQH3AeABmgGcAYYBTQFpAZUBqgHIAS0CIgL/AakBUgEJAZ4AsAB7AOMAcQGFAewB9QGzAUIB+wCPAI0A7gD/AE8BUgFTAQQBvgBEAA0AMAB+AMoADQGeAaEB3wF1AcEAVQABABUAGwB5AJsA5wANAZMAPQC7/7f/tP+f/77/AQAzAAQAAACu/3P/9//5/8r/mP+s/8D/f/9k//H+1/41/3z/S/+W/9L/HwDJ//H+u/6R/tv+/P7T/jz/t//d/6D/x/6y/hn/HP89/0X/XP+v/5H/Of+2/rP+V/+a/+f/3v+R/4z/B/+n/k3+mP6Q/xQAYgApAHT/1v5M/vH9Hv6h/pP/ywBvAUABigCL/4j+kv1G/Zf96P4WANUASAHBAOr/+/4n/r39Bf50/pv/cADbANsA3/9f/7j+9/1l/Xn9p/7y/+0ANAHsAB8ARf9Z/k79+Pxu/VL+Tf+q/+v/6v+k/1D/cP4m/vf92f0y/nj+3/7x/ir/J/+c/ob+E/68/dv96v1E/uT+/P66/h3+3v3d/ZH9Tf0u/dj9wf5D//L+jf5I/hT+rf0t/R39W/10/nT/zv++/9b/v//f/sj9If1N/an9y/58//3/dQCHAPf/mP7O/aD9/P3P/sz/RQD3ABgBIQDM/oH9M/0n/cL9/P7f/+cA7ABoAFD/Nv5o/TD9lf3j/SH/uP/e/xoAkf/F/jb+w/36/V3+q/4d/6n/WQAPAG3/4v6A/mr+bv7e/kb/wv+s/0v/CP+p/iL+7P35/V3+7P4U/1n/cf9b/8H+A/55/Xn9hv0G/hj+Fv5y/ij+Nf4m/hP+0v3G/b390P39/ev99v0D/vD9bP2L/Yf9pf0n/oL+CP9d/1n/7v6C/u39DP4Z/nH++f4Y//f/JQD2/67/B/86/0H/Xf+B/7X/MwAQAAAAvP80/yj/X/8t/x//Q//R/4UAqwA9ALD/r//C/8j/sf/o/6cAbAEaAgICXgF0ADYASABdALAAGQHEAeYB/gFpAZ8AfwCTAKoAAgEjAV0B8gEDAnAB6AAcAQ8B1ADzAJsAxwAoAVsBrQHUAboBWwHWABUAkf9t/wcAfABbAR0CVwLwATABewDQ/5j/nP9WAG8BRQJKAgsC1gEIAUgAo/+O/ygAoQB/ASwCNALGAW0B8QAfAE3/aP/b/x4BRAKgApQC2AF7AWsAav/Z/un+AgBpAXECugK4AmsCgAGZACsAOAA4ADUBfAIEAzADCANQAkYBwgCAAHYAvAAbAfABQgOrAzYDLgL/APb/nv8UAOkA3AF/A90EAwU3BJoCOAFpACAA6AD6AV4DowSLBOQDxQJ6AfT/kf8ZACwBEwITA3sD8QJ+AlUBKgC7/xQAawCRAcgChQOkA1sDwAKGAXcAzf9DAGIBewKbAxME2QOGA3sCUwExANz/lQBrAcICYgPUA9sDZwPZAgcCfQFiAQUCPAMaBJ4EtwSnBBgEKgNwApoB6QGFAiYDbAPjA6oEhwT1AxcDTAJmAtICMQOcA3IEZQWmBWoFEAW8BIMERQQxBE0EoARdBb4F9gXrBTgFxARPBBgE/QNsAxEEaAQXBQIFYwT1A2IDFgPuAhoDHAPYAy0EiASqBFcE6QMwA4QCxwLXAgMDWwN5A5ADegObA0cDJwL1AfUBTQKrAnACoALPAhUDgQJZAh8CJQJDAmMCeAJqAhsCYALVApEC+gGbAeIB6QG0AV4BaAHxAR8C8QHYAZIBAAF+AKkAUACyAMYACwG1AeQBmAE3AUMB0QDTANQA/wBNAU8BeQHTASYCVAJoAiwC4gESAvUBzwGnAQoCwAICA/QCogKGAogCUAIxAl0CTQMIBDcEXgR2A7gClgI1AtUBmQHTAcICgwOQAwgDZgLsARoBWAARAEUA1QCbASsCOwIqAkwBcADI/2b/rf9BAEUB9AFJArQCQgKIAagA8P+3/wgABQFcAfcBcQJxAlQC2AHMAAQA1v8bAHsA5gDgAI4AfAD5/zL/bf65/c79C/4U/m3+sf1p/V39F/3p/NP89fw2/Sv+Y/7+/Rv+e/7l/sv+vP7o/rX++P4N/w7/4/4X/2r/Q/90/2v/Gf8H/y3/yv5i/nz+pf4C/hL+X/4F/tT92/0X/t39Av4z/hX+bv7B/sT+Ef+N/7v/V/8g/4//4P/7/ysANgBsAN0AvAC9AMoAmADdAIMAmQC6AGQAQgBLAIIAlwBUAJP/Iv/o/if/J/9U/2n/d/+A/0X///4c/7P+sP7E/qX+2/5u/sX+g/6w/sH+x/7Y/tj+9f7Q/mD+p/64/lr+pf6c/g3/pf6k/rH+Mv4L/ur9y/29/ZL9fP1N/WL9Jf3D/Nz8cvyk/LP81vwW/eb8Bf1f/fn9dP4A/sn9e/0L/VH9pv3l/c79df6v/nf+Jf44/k3+CP6L/iP+2P0V/oz9kf3v/Q/+sf0M/cb9pP0g/fj8wfw3/SD9svwO/Qr96fwK/dv8Df2b/FH88Pvn+4j8kPyT/LH81/xB/cP8Svwz/A/8O/xF/PD8Nf2M/aH9a/3E/Xr9Lv2n/Kz8cP3d/Nv8X/20/e39mv2O/Zj9aP30/IH8zvwB/RX9jP06/Wn9If0S/R/97Pw9/QP9S/3M/UX+av5P/mf+7f3q/SD+p/2m/WH9kv3n/RL+3f4U/+T+bf7o/aP9Cf3j/A79UP37/ff9PP6m/nz+F/5O/aH9Cv12/Cb9h/35/Yr92P11/ob+Qf6//YP9+vwT/UL9Fv3j/dL9qv1u/jr+TP4u/pj9Y/1//X/9Mf0//b/9WP6S/h//Lv8o/yX/Lv8N/4v+bv5M/sb+9v4v/53/a/8u/4H/tf/6/wwAiv99/4X/V/+C/4T/kP94/9j+Rv89//b++/7B/oX/qv85/1f/fv+b/9z/9v8hAEsAegDXAOUAFwEhAdEAqgDdACMBOgHHACgBbwFSAXQB1gBQAe4AKgBdAPX/3f8xAKIApABvAJkAcACVAMkADABH/x3/wf9NAJ8A1AA/Ab8BvAGtAWEBewEkAccAMAFkAbwBDgIWAhcCeQJKAlECTgLMAYMBEgFmAXsBmAH8AdABCwKNAckAlAClAC0BDAE3ASABcwGQARsBsQF1ASwBCAHbAKwAoABFAeUBhwGjAeMBuQH/AUEB1AB5AWQBSgGNAaABEALSAfMBGQJsAlcCrQGZAScBtwHWATQCvwJmAkUCBAIjAuoBWQGHAYwBbAEzApMCkAKmAmAC9wGQAXIBWgEAAXkAOQDQAEwBZAHLAc4BCQKaAdwAzgCkAMkA/wCOAAgAogAbAUIBCgG+AMoAhQAAABQAKgAWAEQAngDIALEAzAB8AE0ABwCzACIBFQFyAZwBegHkALoAeAB1ANwAuQB9AM0AhgBpAE8BewHIAR4BsQA7AXwAlgDLACYBaQGyAfsBJAIJAvYBjgF9AbYBqgBVABMA9wA0AaMBAQIRAq8BDgFMAaQAIAFxAZUB1wGvAXsBZAGGAW8BGgH4AGIA4P8WAJf/fv9aAEMAYQBxAK4A8wDgAIsBdAEjAXkARQHcASAB5AGyAp0C7AFuAcsBlQFJARIBYQGGAcQA9gGJAmoCrwJrAokCwwKkApoCugLNAgYDJQPuAjMDWwPGAn4CcQIrA/EC4AGZAVkCOQI1AV4BswHYANn/rgASAcoAxgAYASkBrQDR/4H/UP9L/sH+zf48/oD+4f52/7H/ef9D/4D/cf/m////TQDlANAANAHuANsAZAC+/3r/TP9c/8X/e/+5/u/+fP7N/TL+Qv4f/jT+QP6O/n7+lv5L/qb+3/5w/qD+h/18/UX+Pv5H/mv+l/49/gz+If4I/tz95f3B/dP9j/3s/Z3+3P5H//D+BP+8/0P/u/7F/nb+N/3n/Kb9Pv0t/W787PtL+1f7y/sp+5X7V/u3+yH7nvoo+6r6k/pf+j77fPus+7v79vvS+zn7P/se+9D7Sfvz+sL6bvq6+e75E/q/+TH6//rX+6L72fsq+3n76vtF+3n76vtN/Bz8e/zH/L/8OPyQ+7T7LfzQ+8j75vu/+5f71vpa+537//va/H/9Zv22/iwAcwApAe0A8gCjAHgAvwAzAa8AFABpAJgAHgG9AFECNwMEA7ME8gRxBDwEUwQ+BH4DnwLVAjcDwgJsAhsDywJgAiwC6QElArcBWgKhAo8CHgJCAXsA7f7E/Yf9g/3E/MD87fwq/JT7aPuQ+w37xvpO+2H7L/sA+1z69vmM+ez4Qfkw+rD60vp6+/v6u/pH+3L7APzA+6385vzL/M38sPxS/Fz6kvnl+Gz4Wfi3+CD5ofkQ+Vz57frQ+ib7z/vW+zf8zvzQ/PD86vtp+w78Yvsn+7L7zPzY/DH9SP4J/zgA0AC4AkIDogOlA24CyQHNALkAZQBSAe0CyQRuBsYHtAjOCBQJJAjzBtIG6gb4BYcFcATKA+oDIQNzAxEDSwOqAn0CmQOgA+IE8wTrBDkEPgM5A6MCDwNLAwMEnAQ2BPYDZQNfA7gCLwL1AZkBKgKPAp4CTwL/AfUAtP+E/x7/sf/x/7P+R/6X/fz8avzy/HD9z/0I/wb/tv88/6L9SfxH+/D6e/v8+9z70vt5+1T7Bfs3+xf8E/1d/Qr9DvyN+kH5Y/gi+I/5CfxI/o//3/83/5H+Zf08/LX7YvtN/M38t/6H/2j/a/7a/FH9bf45ABYBkgFyAZb/2f5c/9b/NQGRAVcBGwHJAHAAx//b/2YA4AByAeAB6gEyAv0CIgMjBA0G3gZ3BywHjAZsBZUE0QIXAz0EsAT0B8oJjgodC5gKmwlUCWYJSQoWCvoItQcIBjMDtQAPAJH/KAE8AzAGQwgZCLkHzAZ8BlgFGgSFA/0BHAJOAf8AcQCn/y8Aev8xABUB0wGSAWsBHQGgAMQA8gAmAaMB0AFvAT8C1AFiAewBFwOJBAwGGAZLBRMFVgRiBL8FgAZqBq4FrgPSAVoBywA8/yL/P/4u/nD+Zf7v/kb+z/02/qH/+gAkAvkCGAOrAmUBL/+d/qL+T/82AAwBLgGEAKj/9P3r/YH+nACoArME6QUhBssF1QN+AlIAIv+C//r/iABjACsAu/+J/30AKgHaAv4D5wNWA7sBi/8Q/ef5GPgG9xf2vPhP+9b9CQBaAbYCqgRvBe4FTAboBD8EpAJSAZMAVABHAIMB4QLpA2AF+wS+BNoEFAUSBRUF9AS9BNsDPgIJAWkAS/9P/uv+f/+nAPkAfACm/7/+jP2d/CL+PQBAAcoAFf97/SP7lfms+PP3y/g0+R76I/s++2z7b/ul+7z9RwB9ApIEDgX3A+4BkP6n+3z6zvow/JP9T/+kAaQCvwLXAV0BhgBW/1P/Jv///k39nvwW+3b67/om/GP9Jf4d/9H+G/9O/hP+uv3V/E/8Af0H/Rr90PxG+6363vq/+v76Zfy2/ID+9f9oAEcBrALfAzQFiQZZBj8F9QIfAZkA9ACpAW0DnQSDBB8FGgXlBGYFyQRBBHsCD/8o/MT5/vdP9zH4gvng+9T+3wDLAe4Awf/Y/iv+Xv5C/oD+Nf9I/9n+TP5Z/RP8Ovs4+5T7efyN/W/+u/5B/ur+LwC3AdgCTQNKA8YCJQMmA6MDQASYA60CbgGcABQAVQBIAfECtgQ2BmEGlQROAmD/XPwD+pj4J/nc+Zv6vvtL/Jn89fwD/eP9ZwALAgYDZAONApkA2P4a/RT98/wx/Fr8svwQ/aT9dP2a/EL8HfwQ/QD+Y/9fALEAdgC2AGYAHgBGAbgCVwNDAwUCowDT/8b//P7b/nP/Rf+1/0v+Xv6J/g7/dP+F/8D/sv87/4f9mvx4/Cn81fyz/oUAoAIxA5UCbAF5AD8AzQBaAakBwgEyAfb/Dv/n/WX95v16/sT+SP9y/xL/3/7+/Sb+rv6A/3IA3gEDAuoBAwJ8AUUBEAGQAJkApAB8/6T+P/2P+5H6bPtS/Nf9d/8HAZgCrQI5A7sDwANsA6oCcAJhAjsCTQE+ANL/nv87AEABsgLWApsC1gEeAtoCuwKYAqkBLwEOAm8CXgMhBCgEhASuA+0ClAGaAZIAawDqAP4BaQKlAkoDGgLPASQAg/9Q/53+q/7G/sb+gf72/cX9Z/1g/vn+8/8pAZIBcgImAx0EOgVoBRQE9gGF/1/9Tv2n/Rj+8v9oAGUACAC9/xf/Z/4E/dD9WP75/xwCGwNQBAkDmgJyAV4B7AAUADEBEgGoAZoBTgD//wn/Dv4I/VL8E/sJ+2r64PrF/LD81/wK/Rz8VPxm/Cb70vqw+wL7pvvi/Sj+6P7T/Lb8LPy8+678R/13/6IAugJbAgQB/QCk/67/EgB8AAYCiQJWA0kEvwPPA2YDGgJ0AXEBSAEoAU4B9QAbAX8ANACS/xH/5P31/Az9dfy0+2L7ufpj+kv7lfqk+rj7o/wB/vr/9AFuAuQCvgK2AvcCrAEYATcA3P4U/rD+3P20/Zv9uPx6/WP9Q/6c/2QBAALbAagCZgNSAxYEBQMiAz8CdwJ2A1gCAQTsA5kD9QIhA9MBxgF4ALAApAHpAOsBkgEHAtUALAGw/xT/af8Y/t3/wwBzAtECMgPrArQBRgGVADYAoP/0/50ANQJjAuwDqgPoAr4A3/+R/yz/BQBYAIMBpgHAAYEBngI/ApgDyAKPA44DnQNeBHoEwAPuAnYDjQE4AlcB4AAoAQoBHwHHArECbgPoAlcCHwIPAHf/kf4g/0v/RgDNAUID0gPTA38EewPGA08DYAJQA0sCrAL0AVcClwEGAZIBwQA7AVcBLQIoAoYB5wEVAXEBrwGsAaoCRgKgAQ4C1wMSBKEGogbgBxAHxwW7BD4DZAHL/zAANP8wAeAAwAIsAWQC7wHBAa8CCwPKA+kCSAOdAdsCnQC5AIf/T//O/9P/pQCnAPQB9gCiAV8BuABDAXcB/gI2BK0E/AN6BGwEeQM8BMcDTgRABGAEEAWGA7sCrgJlAksDtwM9BAwE1APbAq4CxQDuAMoAPQAkAZ8ADQETAMUAzP7D/2H/SADiANsAbAEAAKsA0/5w/wr/Bv+O/mX/4f9y/10Ax//b/5UAngFOAmADhAJKA7wCXQJ/AtsCiwJ/Ad8C3gFWAh0CMQJtAuYCZgMhBH8EmAMiA8oB4AHqAccB8wHqAR4B9QEFAvsBPwI9AcAA+P+NAPsA1gASArwBAgLkASoByADdAOcB6AGXA9IDdAQkBH8DJAP0AWACBAKQAl0DNwMnBaME8ASZBHEE5QS2A94D0AH+AKL/3f6s/iMALQAfAMYAsgChAJkAgwCP/yEAi/+l/+r/lf/I/yT/wf+H//7/6v92ABUByAArAjQBCwIcASoBVADu/5j/Xv8+AMD/WwBSAMEA2AAAAVYAaAAVANYAOQCpAFYAYgAsAUcB6AFGAKj/AP56/TT9o/zQ/CH9ff13/sP9B/7C/Z78vf3+/ZL+0v5C/gz+df2+/C39uPx3/Dz9xv17/iD/rP8wAN7/dQBK/5D+4f2E/XL9WP0A/gz+dv62/h3/xf6S/9f+uf6s/tz+SP66/pb9uPyN/B77PfvR+ZL6aPqG+l77Gfu3+sT7T/r4+vr69vqe+5f7cPyr++f84vuT/DD7kPuE+sz6EPtT+v/6bPrb+uz64vst+/T70/qS+0v6m/t2+9z6Lftl+h386vs5/Dz8TPyq+7D7BPv0+jn6+PnY+TL6hPmC+R35LPl9+mr6wPv/+2H8Kf0x/Vn9ov3Z/Gv91fy3/I794Pxc/fz8Ef3//Oj86fxe/I38Avzh/A79BP6o/vX+tv+Z/mD/gP7D/lz+9v10/vz9nP4+/uf+T/9v//3+lP6O/tz9Jv3u/AT9QP1m/fb9Qv5m/hT/Uf83//n/q/+1AEsBhQBpASQAAwCe/0P/lf9E/8YAWQBbAG8BcwEnAoYBUAJ+AVYB0QHuABcCegGXAYkBiACAAAUANQBlAEwA4QDDALMAeQCEAFMASQD3/4T/rf/x/ysAS/9S/w7/Pv98/8n/IgDM/08A7v+IAFkASwChAFAAmAD9/0wAr/////T/2/9JAPz/mAD+/3sAkP8ZAF8AXP+IAKT/GwCB/5b/3/8y/5sAsf8lAJn/g/6e/kT+3P7b/Tz+Zv6Y/g//yv7+/uj+QP/y/gH/O/9n/2//yP9aAIUAoAC+APMAbQAVAeoAmQD+AJAA/ACmANMAbwBVAIkAIwBoAHYA1QAzAOUA6wDeANMBMQHyAaoBqwHgARkBtwFLAWQBhAHUAKYA9gAMAX0BmAG4AeAB8wGVAg8CMwKUAZ8BggGJAf8BCwLkAk4CBwMCA58C8QLYASQCrgGWASwBxwDOARUBEQLXAagBFAIyApcCMAIWAz0CPQJNArgBKgIeAogCbAKvAqgCRwKKAlsCKQIrArgBjAEHAvYBpwIHAzgDTANGA7IDhQP9A6UDXgNxA84CuwLzAvoCFAOMA58DqwMZBK0DPgTtA2MEYAS8Ax4E4AIiA8cCUAKqArkC0wKXAzUDtgN/AzUDQwOIAnwCIQLYAmACHAPsAtACKQMVA9kDDwOIA9ADFgN4A0IDWQMuA0gDHQMhA4sDXQPjA1YDAQRkAzMDRQNtAs4CigIgA9MCPwNcA1EDHgOmAvACGQK8AncCaAI7AqEBRgKJATYCMwKNAswCWAKzAs8BSQL7AU0CqwGaAeUBLQFMAtsBWQJJAvgBOAKxAdIBAgJ0AWQBWgHdAHQB6wAjAWUBewD3AFkAyP8AAKT/rf/n/0QAOAAyAEcAbABa/xMA8f/y/mv/t/7x/ur+lf8j/37/7f+W/2T/4f8k/wb/rv+h/i7/gP44/7D+1/6S/xL/OQCj/67/jP+F/4r/2f40/37+yf5j/kz+fP4a/mL+3v0O/rj9Tf2B/R/9j/2y/Yn9Af6L/Qn+kf0c/vr90v1I/sD9Kf7a/dL9Df7q/UP+mv6P/gL/6/53/wX/aP/7/sL+uP5r/or+qv1l/v39xP0t/j3+h/5u/rT+Bf+D/rP+l/3a/fP8ofwl/U/8yPwX/en8If22/QL97f25/ev9gv1i/XP95fzv/Af9kPx//LP8BvyG/A78I/y2/Jz8zvwz/fn8j/0Y/TX9D/0E/S39nPyZ/CD81vuG+0n76PqR+8f7JPyz/DT9pP3S/Ej9+vyZ+/38vfve+yD8tvtF/Hf8Pf3z/GP+if0W/k/+FP4I/t39HP5y/Q7+0v2d/Yf93f2n/XX9T/33/Dv92Pyo/Kb8T/yV/Mz7A/yZ+1v7wvt1+8j7Tfvm+4/7l/vG+6f79fuu+z38jvyZ/DP9Rv17/Yr9n/2l/Xr9//2z/Zr9Xf4V/l/+zf5k/tT+hP7g/sb+Ev/e/g7/O/+s/rr+sv4v/yj+IP/l/lb/y/8y/8H/zv9NAPv/UgAWAF8AbAA4ALAAJACeAPX/zf/A/zz/+f9y/6H/Z/9P//7+6/7W/qH+2v6Q/mH+Zv5E/tf9Tf6z/dj9B/76/Wz94P2//Wv9Lf5S/cv9+PwD/Q79cfxG/ej8Cv1y/Xj9i/3S/QX+V/64/on+j/6//kv+N/7p/dL9CP5c/dL9fv21/WX9n/3H/Tn96v11/Xn9b/1p/S/9wP2q/aT9fv3i/VP9Gf0t/nj9Pv76/jr/r/+WAFkABAGnAfsAzgGlAaMB+wGvASMC2gFMAggCPgLbAukCcgMDA9QDhQNxA9UD2gPoA70DkQNtA1cDLgMFA8ECqQKCApcCiwK+AuoCJgMGAzUDTgMJA3oDQAPhAq4CSgIgAlMCSgLvAWoCdQIsAjUCTALNAQsCTgG0AN0AKQBGAMn/3f9E/zj/cv9S/xr/fv+N/wv/MP/j/gT/k/55/vj9sP2t/WD9ov2a/Yj9/f0r/u79N/6c/nv+UP8G/+b+9/7H/gb/Zv52//L+Hf91/zz/GgDw/5sAjwAHAX4BIAGoAUgBggFkAU4BkAEeAQsBjQCOACQAAwAyAC4ASADR/ygAAgB9/23/Jv+N/g/+T/6a/Zb9ZP1H/Sf9T/2S/Wb9GP7G/d/93v1T/kn+w/4p//X+Pv8z/+f+0P7r/vn+EP8C/xP/Zv/t/8z/sQB2ANwA+wDlAGABHQF5ARkBvQHlAakBzwHGAT4CggLXAnwDpwMLBEIEQwRoBEsEogRzBOwEGwXjBEkFQAWHBU0FyAX6BU0GsgZZBsQG3QYlBxIHYAfyBugGEgfwBlEHWwfKB9kH3QefB+AHwgfdB9oHGwgMCA4IbQjuB68HgQeQB1UHLgd+B48HVgetB0IHugdHBywHaAfGBh0HYAa6BvcFtQWrBWMFoQX7BIYFHwUvBTgF+gQwBQAFGAUfBcQEpQRSBPYDzwPBA9YDMwNPA+0CBQMnA9UC4gKhAr8CZgJqAiUCIQIYAv4BpgF0ATEB5QDMANgAYQGhAKAAQABMAMP/sf8CAGT/Yf9S/3//N/++/lr+VP7v/ej9XP3L/cX9a/2E/TX9af07/Uz94vwx/Qr9FP1M/QD9C/3E/Pb83Px3/Pj8FP0k/VT9g/28/Tf9lv0//Xv9pP1G/Xv9Z/2q/af9v/3r/Tb+g/7k/vz+4v4B//3+Lv8E/9b+Jv+W/vT+IP/4/vP+HP87//j+VP/4/mP/L/8t/0n/4f5E/+f+1v7Y/tD+C/+Z/hP/Ff8P/x7/3/6E/zz/nv+2/3T/xf+E/2//yP/h/24AegCYANcAAAE0ATIBqwGWATwCEAJaAsECzQIEA/wCTANBA80DswOKAxEE9QMkBGgEYgTOBIYEuQTIBNAECQXJBKsEkQSzBMUE7wQRBasErgTTBI4EwQSGBIwEZQQeBC4EswOpA8UDiQM6A0wDZgMaAysDnwKgAo4C3QENArYBqAHXAcIBqQGBAUwBHgEWAQQB4ADXAJAATABSAGkAdQAwAHMANAACACgA9v9IAM7/nv8NANL/sP+R/7r/qP/F/w4ANABxAFAAjQBuAJIANQAAAE8AYgB6AHMAtACfAKoAtACwAJ4AtABPAKYAdgCfAIMAFgCUAOf/5//a/7T/zP9I/xP//P5o/nH+Gv7H/Xj9Gv3c/IL8P/wj/Mb7W/tO+/76BvvJ+mz6Vfol+i76Cvol+tT5yPkf+vH59fmC+f35ufmw+ff5sPk6+SL5Pfln+bD5Pflt+TP5Z/nA+ZL5ofkS+tf54fkA+gX66Pnz+a/5ePn0+XL5ifmc+aD5p/mT+ab54vnW+a/57vnW+eX5NPpH+mL6afqa+rj64frj+hf7o/vl+xv8MPzT/Bv9ff3Y/a79+P0x/i7+h/58/lL+ov4T/yD/h/+m/2z/y////8r/5v8vAOD/OADt/x4AkgBBAA8AbABXACwACQALAAwAr//0/6b/h/9n/2P/N/+3/sr+8f5y/l/+SP73/Q7+Hf79/Uv+xf3e/dL9cv1k/cf8XP38/On8v/wj/Tb91Pwt/c/85Pyp/Jv8sPx//JL8pfyA/Lj8gPxr/In8nvzU/LP8Gf3x/Fr9b/2F/ev9pP06/vr9SP6B/iz+jv6W/v/+HP8g/yL/Iv9t/7///v/Z/+v/bwC3AEMBawEhAW8BdAHDAf4BCgIQAksCtAL9AkMDcAO6A4QDowPXA3wD+QP5Ax8EaARqBJwE0gT9BKcEDwXbBO0E0AQQBUMFRwWtBawFMwZDBiYGKAbbBYIF4wUUBgQG9gX1BdsFrQWmBV0FMQVlBTwFdAVSBRcF4ASaBHYEVgRDBOMD8wO3A8UDZQMeA4sCYgKYAkoC/wHgAYoBGQELAdMANAA4AEcAl//i/13/RP8y/zr/3/7A/u/+Tv6J/ij+7P1j/Vn9r/0+/Tv9J/3z/Kz85fzk/LH8gPxV/IL8V/xT/Ar8PvwX/Ej8XvzR++z78vvn+/z7bPwk/Ef8avxq/GL8ZvyQ/EH85fya/N/8NP0T/Qj96fyN/VH9j/12/YX92/3N/dz9Ef5L/kD+kP7H/un+8v4l/1D/i/+m/2r/q/+U/+L/wf+W//L/BQCXAHgA7ABHAbgBBgKHAigDWgM9A0ADHwQZBI0ElgRlBZQFxQXABnIGrwb3BgAHSwffBwMIkgj3CI4J6AlgCoYKyAoJC/kKVAsKC4kLaAumC8gLWwtXC/cLxQurC+ELZwuAC3gLmQt6C58LDwv+CvUK4AroCmoKXgrpCcoJUglSCCkI9QdQB6EHUgeUBpkGTwbSBWsF1AQcBK4DegPtAgEDlgLJAeYB9wB8ACUA5v+p/y3/zP5d/hr+3/2q/ZH9eP0f/SL9/vzo/FP84vuZ+2X7GPtt+mH6YPr++UP68vnW+eb5bPml+U35PPlf+VT5//i0+Kj4vvhv+Dv4//fL9+b3vvcK+KH31vf39+732feE96L3zvcN+AL4B/gK+EP4FvgL+BP4ZfiH+Gr4XvjV+Nz40Phb+Sf5VPn9+Qr6KfqC+lr6qvrW+mb7yvsh/Jr8XvwP/WP9dv0h/lv+nv7W/pr/EQCvAPIAAAHoAVkCjgLVAoMDiwMnBIUEmQQtBX4F0wXqBTkGKQaqBqQGHQdUB1kHwQexBxoI0wcCCB0INghCCJcIwwjvCOoItQjdCMgIcQjwB84HeQdfBywHCQcKB34GsgbeBkcGjwYhBpUFyQUcBfAEsARABOwDMQMBA08C9AF7AVQBdQF4ABMAe/9e/1L/yf67/lb+Dv7w/Wn9L/10/AP8Yvx6+zv7Fft++kL6mPkZ+br4LPgZ+NP3ufeg90X3yPfx9v/2x/ZQ9r32lfYr93P2gvZo9tX19vWm9XT1hPWQ9Wr1lvWX9XP1hfWz9X71v/UP9r71fPWS9Y71kvVA9Wb1uPXD9e/11vXP9dT19PU59h32Xvbx9hL3gPdu96P3GPh4+Lj4BPnO+Db5kPkT+jT6LPqJ+nz6pvpB+jP7X/vd+zb8XPxw/ML8Cv0s/W79tf1e/h7+0v4j/3z/k//D/+r/8v9tAI4AegCpACoBigF/AcgB7AHBAS8CtQLRAooCtALPAsQCLQMRAycD1wPXAyEEUgSIBAQEiQSdBKYEBwWfBHAFAwX8BN0EqARbBFEEtASiBHsEPwRFBAMERgQPBEgESwSyBNkEZwRnBN8DUQSxA5UDnANXAwkDLQN2A9QCOAMTA3kDIQMuA/sCnwKoAjIC/QKyAu4COAPWAi4DVAMGA3wCfwI2Ag8CXQJ1AmgCiQLVArMC5gIIA0sDNQMdAwID9AIEA8EC/AL3AvsCpQPIA9UD3AOlA4QDxwPeBHQEFQXzBL0ESAVdBYAFxgRLBV0F3QV3BlcGIQZDBr8GYQfEBn0GngZ0BkEGzQVrBrYGugYVBwEH6wYuBzgHegfcBiMH8wYFB+kGsAa6BrAGQwfLBhkHBQfOBm4GUAb9BZAFSgUtBbUEVwSFBGUESAQpBAAEpwNUA60CMwLbAf0BPQEYAQkBFAHfALoARgGrABcB7wBLAP//KP+W/nT+kP2q/ZD93v0H/nP92/0G/ab8B/zg+/n7sfsO/Fj8VPwr/Ez85/z7+z77nvvN+vb6pPpZ+o76Vvr/+lv7oPtL/FP8ivws/Pr74vsG+2n7yfo/+7f7YfvC/G79Lv0Y/XP9n/z7+yH8kfv3+mL7iPsO/Cv8qvyY/GL7MPyb+2/6f/qB+V35Yfo0+of6jPvo+yT8yvxy/Ir7OvsP+636Pvuq+xL8gvu5/J38cfpt+6v5A/kr+df4+vg++Zz5zfj7+Xv6FPpw+VX56/gs+Bj4GfdZ+HX49vjR+A/6jfpf+d/5YPkk+UL34/j89434ovk9+Yn62/r7+0X84vyY/Mn86vtv/AX9OfuU+1z8Pv1v/nT+9/9lACcAQwCvAG3/Cv+U/2f/ewDR/+gAlAGmAQwBogFyAbAA4gGeAbgBJAKVAikC+wJOA9oC5gMqA6cD6gMsA8cBAgKTAucAoQFwAfUBYgHoAskC4wCmAgwCfgGDAjoDegHjAZsCgwHGAgQBt/+j/9b96P3z+2v7hfvX+vf7j/rn+Zn6S/m1+Dr5gfic9373gfcT+Bf3gfbq91v4HPfn9yr4bPYE+AP4g/eG+B354fhc+e36A/rA+VD4gPeT9/D2RvdL+P/4m/l6/Dj8mfx6/Yz9gf7+/ir/U/7A/Qn91f07/cL9Bv6n/mIAgP4KAL8BFQGoAVUDnwONAwIF8AfKBqkF/QfyBJ8FdwOYAXcAj/3Z/x7+Tv8eAWgB1gCiAiID8wFCAcT+cv+z/oT8hftI/BH7wfkB+Qj5j/iL95349vgb+P74Rfmm+wr+pfx5/Lv9qfzB/Ov8UfhQ+v/5v/aW+bT5bPij+S38LP2S/Of9g/8C/XL/wgBe/jL/7f2a/77/DQHC/ib/ov8F/kAA6/2TAG8A3QIXBZsFpwgDB0MJigniCHgJQAl4CdkIiAkmBxsJAAi7BSUIqQfyBgoHAwjBB2QIYQgACmQKgQn+CKcJ9gawBYQGfQMPBVkEVgI2A/YECgVfAr8B8QUxA98AhQSAA0UFewStBb4GMwZqBEQBZgJeAXb+lADf/m78BQAz/uABq/9D/4wA3wCsAd0D0gLH/zYFgAI6A8ECMQaAA3wCrQSpBJ8D9gIWBWQBvAaMBCMJWwrrCYgNVwtdDzUL9wzZC8oKWAvtCMILoAkPCrAKVwpoCZwJ4QvrCdIHzQoLC4MJsgrhCtQJfQpBCo0IDwjACdcFCQZyCBYF9ARdBeIFTQTNBZAF4Qj9BhUGIwUgBBwFtwHz/zP/OQN/AH3/xQGa/yD+m//UAGr+U/tk/Zf9Cv1r/yP9VftV/1X9rv7u/XT9t/+s++4BNgHk/pT/2v4zAlcB3QF2/fQARQHv/wgACQBC/sf3lf9M/nv7tvjd+5r6Nvuz/gf/bQA1BTIIRgI6BI8AKQF3A8UAbf0g/jn8Uv2UA0gBZv5I/rD7bvsM/GD97PzK+kb8Mvyd/yMB5v/A/h/9fPr894v6vvSp9lT17/Ei9TryPvO68/b3lfZ+9Zn0aPlq+Gj43/nt9u/4SPaA9yj45/Xw9J73Zfcb+LH3lPen9x/5rver9mD32Pb094H5hfhm9h37mflf/nr7pvaB9ST2ffl29mf2UvK09XD24fvB/r7/IvrQ+VsAK/5o/pn3G/iR9ef5tPsD/T/9gABJBe8FqgWxAg0G3ACSA/f5VPaQ9Q/2xvhg+Gz9B/bX+5/98ftx/eD5UPpG+mD3Pfpi+Mj6RfoH9aL9i/uj+Un8iPlW/CUAn/46ASv/LAT8DSMN1QIu7yPdp9C81KnZoN0T5U3uW/k6Ck8nxS/7JegcVQuL/tH8CPLp6gTpHOeh7N71OAnRGPQf3xtsEsMM2w2wFa4YABKaAVL9Yvub92fv8d2W0tvPltlT6ar7e/9U/doCmQBs/jUBO/ez7mfsdO9Z9pDzd/WV55jg7+Za567rm+zH71r2Bv5hCVUXFhVID24PPAw+CFMHWAFC/Tj8pP5OB/QBrAOEAF/8FgGPAlsHBQ0kDNsP3RlJFyEcyxZaC64OXgubDNcJ7APMDkcMXg/hEs4BvPdy7Rrpk/Ie+dQB7QOG/50BNgFZAPT4bPOq7Iv0xfWO89X7Hfa3AMoH/QiyDXURrwzPCjYFcPl69TruvfHn6ejmPfAb9dT7/P8T96DwAvLb8c39VwCh/GABRQaeC0sQFgsAB6UBtP3T/Ur5EfhR9JH57glsF1QjgSl+MJ03pDcyNQswHCsjGJMP5w6hB2AJ8QVtBzUUgRkFIMIsiSyGKo4mdh5dHFkaCxtJECcLJRIDD2gNeBKyCmQAGg34Dm0RGxVhDHIE4gk+EH0VKxvLGEoeeyKwJCYv8zZrMZ8pLiCHH00UUBnsHXoT/RbFHtQqyT48TLFQ+1D3SFdKq0FsRCgzlxbDEOgQ0RjRHNod3R1AFj4SMRLkDcgGhf6X93brEO1j7BroyONi4yvoRuts7wTvJeO32w/e89cA0RjNLsmWyKzQS9l/6szznfmM+un24vsr9QX/afvG8ln7VfkJBUgNgwlUBWEHPwbnDLETQhBWE5UVuBl7GJQaNiAMFN4BAwXWA84AlwjgA1MIBBC9CAIMrw0bCQAJOwriBJUBCgGK+lX1C+/27wjmHOen7v/nw+fF5ofo3+/N/Jb+B/v29fbz5P2B+pT6Mvh/8WDyNuyq6nrpludK71jrKO3K+N30YPRFAoYD+/pE9Rvv3uuS3tPggdva19HZpeCE7ezzkfUP8pf2nezf6i3qmOLp0hfTKNK50S/Yutgd2JXUg9fw2kDokO326eHsC+iH4ariV91L2O/M68+DxSDDoMisyGTLocSzvMHAN8e5u+PGqsEgvE+ze67hsW2tjqoxqLyuYK2RtJ+5HrdusX2wm7LJtGi2D7eJu9q3Y7YDvoHEPcfByunR69ML2hbdtuBe7ZTrC+nj7djvJPXu/iP6m/Sf7w31cgTLBMYQGQNt/1z9T+02+EPzlew770T1wPcQAncFuQkDBPP9iwHc9xj9ov5u/Tv+Mfbg/Z3+Ufv2//j4kPPq6uLx1euv71X12eyX9+H34fu/Aw8IHgyfC2AK1g5hB98FVA6aBgYGEgM+BqULIARCCxoJpQXqCq4OABmtITAgnxuGG58XYxGJFuEN+wD7BEAHxA3ICIIGMQZW+X4F/wfbBJ4INfiX9Rr0TPWc78zsBe4K7LfzivrcAvwAx/5L+WX4gPSD8TTy2eqk6sbmGOxq9Un6MflD+9QAlPq/CDcUVAlzA6cDn/pO/Oj6EvyB/cL/pA7WCssTpBQPC98K1wi7A3YDOgiiB2oGMwu3CBwH+g9gDzwP5BZDGUce0iWmIRcfKhpjILQZ8BypIRQY9Bn3EdATKhKzE5QRWA8PFlUaFR7qIW4kRSmVJ7AgRSvPJ7wgPiIIJAgkdyC5JXwiCCO8JcMmqS5hMpM1UkKSSVZLE0t7SetMDE5DUlRWFFoWWThbO2GUZY9lJWXvWwtiCWM5XJxos2jfYnNdXGLdYtheKVsNXcdZ2VoyYEtby1n/ToZHqkIHOVg7qTk6NLorLBy3I+QZkBWoEoIFFgKJ+bz9cfp588XpiuK74efZ5sybze3D6LctruCjtqXom46YOJeSkhqbQ5ocoa6oPZ7En1SjOJ7VnD6h2J+gozCau5iQlY6YYpzflXqefp2goQyoCa+ju2HBt8RYzz/RDNJN1zHdpttv25bZctxT5TXq7OuD6/nuIPnIABcHdg45Es8gUB2OJlwrIi0FMdwtwjg4MFE2HD+QORQ+vkMsR1FQZVdCX+BeS2E8Ywdd3F6pXARbOVzlWJVZpWQGaPlqS2sOc6dtp3JJdrNoQ3DyarxiLlzdVCFNvUu3SwlFLzyIQBFCxTyAPas6WDTLM0AtUynMIw0WdxN+DNsM/QCz+OX2Iu/B5QDgd9t42S3fJtz42wzaKtVg07rMEcumynvH3cYFxhrGNL9swXLDm8QIw/O8CcRUxd3AtsKcvdvBV8MVycLOQNC43TjY1d4R36LfOeT86a7qYupX9/f3n/hm9vwE//7eAUAGzghQDgkEqQmSC3QL9QmvDnAQABkBF+kd8iClH0wWXQ+tE3EQVBRxEcASXA6tGFAZoBbcFt8TASKvGhoTsxv8Ff0X+hUOEyYQegtjBVb/a/7a+/v6qPvn/cz/TgGd/z8NYRJVDT8LGw72/Nf0lvJC5rPZJ9Ay1gLS/9Ug3nnlku3J7D3vh/dy7jDr9+Ie5pDnFOcN7y7yp/0u/WkH4/oKAvoGG/8g8S7ha+bw2ITX59wp4knoPfWb9aLxyfMC73vswO0M84v1kfZDD18Lp/uQ9/Lr9+ti41jXatcG5tzkUeEp8Nr+ZftDCYkZ9xjZEsEU/hTwFIIRaA0lGvYe2C2kOAhFZ0kpTbxMxkctRkY7Dy6qLTItCyj2LB4vGTcdMio5LzPsJNwiIBXDFYMShwM9BxIKYxKoGX8ORQ6HBecLrQgYBC8Kifn297D9kfew9QvzSvA48Hf2ZfvG+GID0wnTFrQpYiQaKOU1gTI7ONo+SDUyMfU+l0nqRJRA70vzSzBg71aDO6dCBzbgLM8joCV9H90gbhzJIjwk4iL+KawetyYvInAd+hS1HJIm/Bu8HI4yByvTIycwnBvhDkATGyDgEhcK3hWYElkT9Q9XDe8YlQoE/SH0AvjC80LlV/dBAIQCv/WB8zDp7tmRyMvE/Lp0trPAHcPGxvyzL7cwq/2iepp2jzqOZISfgAGAJYrqi0+ILo3SkzGUYpAvlHOWH5y8mUCTN5YKj4eUuZOZjYOPiZKSkyyU2aNkrVmxybbFuY61KLkJv4vB9MWgwWTJldQ53GDXHtWS0kvLUdsZ2YzfYPKI/AX+6fyYBBDxlulf6E7oVei97Grxpuue6Tvwgeg53tTk6+gB8MvnPeoJ4Erb2Nld3tba7+DL7mrw5vqa+m8ITQPP+RT8YwBU/iXx4Oss51DZYdgY1eXJacozxJXKr9GvzgXWIc2U3Qze5NF+zKy7VLUerPGtuqMNpdak8a1QsV6qx7I6saatt6kVrfu4CbvtqwKkvp0MlU+Vvp9Bp8aq0LdavJaw+6iWrna1jrhGuVC6Abi0wxLJ1r1tyarTzNM11Hvb897I3pjhYfbC9wP00Qs/DG8O+AgpDl0QUQdc/hwAmwtiCuQHZBGSJmgjdSgqLIooZSMvMPw/VzUnPJJC+EWjSrxMslLxRwNEdEmOSyNFd0fiSKI/yD9WQ/lPxE+WSpRNnkXqL0El1yXQKgQlQyoxLN0y9DlmOB03rDZYTF9FLj0yOn0pciaeKGEgLSVUJRMhnhsRI8gmmx8lLgsrzyMiI9IrKyaxGG0pWTVpM6ot0yndN7E5bSczJg8rayegHZcaWxcrD08RvxG6HA0YAA2xFPcetRoJHmswWi6SLI4zGDwqMNI31kPINbY5SUAzQHs7jDe+N6MxAjSNPAIsciinQedL0UfcPXxONE8NOKgz1DHQOBAxYTloPdo0UD32PWs9JD8GPw42LyxXMGovmiwmLCUoYypaL3Y1oSmPMMA72TwDPEY2/imcJQcsHi7GMXUovCt7Ml81uyq7ICodhiB7IikT9Qk5B5MDv/dC9MD9pv2U+R/znvPG9PrztfC97LvrVeSp5vHpluL717XkPuaG4d7hsN3P27vettkT2z/hadfZz53Jkcwww2zJfcO4tnbJhtTp1g3n7uvG62z4k/tyAXn4ivJc8HfvWeec4S7uae3t8Nn0zPaW/UwFa/ai8tgAQPu78JDs6/cU/1T6j/8TADr9ZwOM+E764wKE/xz8+AEUBST/hgEjBZIGZw38D+kMWBqFG0oTIxblGAcQYRG6EnUXihctDyEWShSBFxQYph+uHY4cKiBYGPsUnxiPHd0cBxO6DaISpA9ZDQMSfRUgDLkRRgstCeECKQZuDjEIKgc7CnIOOQHIAQIBgAGp/u/5lfUx+fb/qfxcACYA4/mABuIFpQodC/wEiA9jCFMLhQSJA0kGEADs//PwTO329F73evXs+Pv0FvIM+u35/fdP89/3zvMc+Kf3ZfYn9hH24/Og7ezuTfcPAgr54QGBBdEHFgCq+oT5tvm690r8sP+V/xsMTw4mGf4deCFCI9cqlikTLfIpWTPKNVwydytcG3griCMBILogaRlxHbIdlhapHKEcRBxYGEEgvyc9HO8Z+hh9GFMQ6hIZDvYJvgnzC3MJiAg2DKQPsgkm/woGTQaJAxsFGQSVAlQHMQbaCcUI/QLUBDgFowLXAgEGawIAAG8A1AGRAekC1AYHBSoGlv+wBU36J+0b+b3vUuhK50/kkOZV7DLntOZG3mnbWt8N3sbQhsRDv/u8ZLoWt33EmsEzxtHJB8hZylC/UMFUxDa/NLiDseO5V68bsei7yrS9toe6AsIYw0TGkMrWxBXB98GCwFWxOqtEryWsga8IuA6+VL19vRS878L9v6e3k8Vz0IrSkcuqymPQFtGEyz7Cc8R1vlO4qLgcvhDHb8blz2zWVtTM1kPXEdiF0iTNyNUE1X7VWNkz0vrVaNhe2uHg6eKQ5pHmLOq459vmYOeh4ILbpdea2aTTgdFh2J7eTeTH6PrtFfJ89Nb0UvYb8HPmHujK4mne7+LY31fmA+t85i7rA+0u7HPyxvSJ8P7uzOzY813ytOhr7lXzA+8q7j7zW/Qr9ZzzAvim+AP1gfo99vPrxfBP9NPy2Orz7F35Of+x/+kAGwpECZkPMA5zBpYDf/pM9c34mPfE+CX8LwB4CI4QdxbUEl4TABH5DpwJLQoYDWMKBwuwEHEZ0RgHGJsjfCnAINUfYyILIdsaohGIFsoYuRhDIVsk1i61M3Q02DX1MJ0pGyhoJyElZCL1HLkgTCmEMDAsZjM4OMA1YTYMNHsziC9OLqguNC+hK88ujDZsNcY0pztsOrM3czRBMgE2/zAOM9k2xTcbNVo2tDpFOOM7EDeaN5E7EzauNlw4WDjyOCczCjOuOKA0ezalM74tZTJFNHs0sDieOQY0ezMLNlw4jzfdMHIwVzJQMeguOCzzLcMuzCYzKicuYCjxJwQolyM1H7IjlyJ+I6QlMCbWJaouNzBzJ6wphSpbIsEWzRMoE+QSqQlYCvoSzQ9cCgMSVRaBELoONhBeDhoL/AotCIEH/gF5/AYBdv4A+YEAHQAy/8H5Z/j9+lX1FfWl87vxp+9a7kP2sPgG+Hz4PPVy+qX05viP/TT56vkf/HgBiAC2/jkAyABYAJMAP//b/8f+Xv6W/2UEJARdA/kE2wqYDcgJeQuhDGQIYQbjC90JUwoYDUgMggqlCdoPARBxEcUUvg+gGNUZchQlGV0WKxSAEG8RqhYdFzYXRxtyIaQiUCB7IcAdchnMG3QaGhs7GqEXHR51Ifwd1B3nHkcevxsOGE4V7RTNE9ETahRpF7MV6RIMF+4UZxQBFNAVMxT8D4MT7RQ+FTsP5ArhC7MG8wOIBPkEkwZABccGxAuTEWcNFA1ZD20GIAJVAJH/2Pi59iv5j/fY+aH8+wBGAMD6wft4+YPyz+hN4iXn2eZk5BDjbed86gTq4e2Y7Cztyu2i6tXr4uxW56jp+unk5kzqau147+3rSuv87d3tRe/C797tke8X8j310fUt+vX7vPyDABz/r/79+RL6Jf/D/l7/ZwLV/3oF5ARgAr4FJgRIBRsAdf/IAXMAnAFvArD+Wv6dADgDUwM1ABkAKQJf/mMBngMR/Xf/zv+jArQA/vtH/P37WvuF+gv5ovyW/Or5Jfp79xL3QvKf8p7vx+5P8evvHu6L55bovuiE6KTsZuuO6wDsbull5cbgwt3C2/na8tW91lbc/N6W3z7cQd9w4zreEtya18XQwdCN0i3XEtEezr7SLdEY0ePLSsr+zLzJG9Cj0ljPHtTX1DnVvs/BzRHPHsnbyQ/PxtR102bT69T50sjTutFA0cvNVs8t0RjN3M5kzv3QD871y4jN8slLzRDNt8yyzn3Qh9Iz0V7TzNH8zq3RitI90pXRM9QG1izU+9S+15vVGtHQ0EbQqtK9zTjKFc60zqjQNtLk0ibSadHI0E3Sk87MzETL98m3zM7K/8tOzfLPBtFl0MrQfs5/ytLG8cXHxAXGC8p4yEfJCMx7zVrO28u8zCTOBc/r0DvU39jf2U7Yb9vg297Z89V90nvTCtO61kzb+9yT4Kbj0+IO5P/hbOIS4OfdQ94E3C3h2d3s4fflKOPF5hjrpPDD8PryHPXu9lz63fpJ/C7/dAJoBDEIoQvUDFMPABENEqcQnxVsGMEUFxeJGAgbhR9UINAgJiNdJAEj2R6eH6QhkCHFHnAelR74Gt0ZMRq7Hhgc5RkpHP0amhqSGU4YCBdXE8UTrxT5E2MTGhBOFFwT/BALFr0VKxEJD5IQuBFBDJoL5QxsC7oMUQxtDuoLrgx2ECwRSBPgEPULMA0pC2QJcgf3A28DbwOJBVoDYAOCArEDCwOC//T7HPx//Jr83PuD+bn+oAC5AnUABAB4AKf+L/+x/qT99/5kAHb+Yf+kAYUCMP/mAzoEMQJpBp4Hhwn1BjsIEQoWB2IJnwi9CF4LMQi1CIkK2wqlCqMLSw+mD5gPcRJaE1AXEheyFMQWnhRQE6cUbxVTFUgWzxrXHogdXh3CHhciyiKMIH0gWSAcJIwm/CewKGYoAyq4LcMtoSpfKxMsriysK44s2y1LKwYqoyvAKsEnoCeKJmQmMCYgJfwkNCPAIYogASFXICQe4R4CHkMbaBmxGaAZ2RUPFCkSVxKDErsSChJXETMT/xKoFcQTZhKtEr4RMhKiEJwRyhOuEf4SLBOcEjQU3xJvFZgVRBbnF+YY6xiMGNkZyBkIF9cW8ReBFWEWohUYF2wXrBffGYMYWhgfGHAWIxacFskVTBTKFW0XlxRfExETqhMTE08TrxIrEtgR1BIvFvYUfxVbF60XRBZTFqoVvBMiFKcVKRWuFCMXVxZgFtAYWhqwGdcZzxnPGX0aNxkKGskY9BdWGJcZgBrcGI4ZmBoTG/waGR34HvUbfRzkHu8eMh4+HUodextEGioaIBrfGAQYixnyGeIY4RhzGV0Ynhc8F30XwhYQFVEUqBP7E54SPRAuD1AQwRALDmQOEw8xDiIPwA7kD7kPZg5+DgsM2QwFDfQLMg2IDLwLZAyUDToOXQxBDaAP7g8+EFgPuxASEZYQbhAeEPcO9w0HEEYQTg+ZDvsO2w3uDMMMvQy/DFwMcw0SDcEN7AwhDasMNgkPCUoJ4AYYBvIFNgWQBUkFmgbOBX0ExwM3BDME3QHdAU0CpQH//5v/yf7N/W38WfsQ/Fb7TPr2+Vf6+vlF+kr6s/ia98b25/WE9FH0mfMM8QfxC/FL8Tbx4u4n7wLwO+/O7nrure777JTrO+yI62TqwelY68TpMuij6GfoBulg6CvoT+mx6Rbpu+kw6krqu+t+7ersyOu17U3tb+yD7QHtde2W7VLuH+9V7rXuie/g75jw+vAW8tHyu/IA80rzSfOM8jHyA/PR8wH05/M89ED0UPRn9TH1RfU99kP2wPY/9//1dvTW82v18vOd85j0kvSE9XH1X/Zl9oD2Hfbm9sb20fWt9LLzk/Ol8nbyDPP/8gDyAfL48Z/y9PIb8sPxJ/L78VfxjfBE75fume2o7YjtwuwY7ePsRuzE61jsiuu06iTrzuqA6Urp8+lN6Q7ogefx5/vma+ZD5t7mwOYY5lrmIObL5iDmiub15h/mIuZq5rbn3uZB5srms+dO6A7oHudp51Do3OfF6ArqiOoW6kPrtevF7E7sxus27Wrs+usD7Wvti+0C7gLtx+7f76zv0O9r8F/x9vEY853zIPRP80jz1PTj9OD0GvWb9XT2R/Zb9mP2wvZE9xf4mfjR+C751/iV+I/40/jh+Rv6Jvmw+Mb4/fhV+Uj5d/mN+sL5zPlJ+rn4KPlw+Wr5fvml+Ij5AfpP+g/6W/pW+4j6EvvF+vT6hfvi+UH6nvlY+YX5RPnm+Sn5Zvkn+pb65PnZ+SP6kfr3+on7n/uR+nT6VPr2+gL7M/oX+mL6CPvm+lX6WfrZ+Yn6QPoH+8r7Dfuz+xf7Nvt3+x77b/uR+xT8avxA/Pn8Mf0q/Qf+JP5m/hj+Iv3A/an9Lv7e/dj+JgCd/mr/sAA2Aa8A3gAAAlYCfAIPA5MDFgQyBLcDRQSFBLAETwQMBbQFkgQcBfsEJgV1BfgEVAYPBywGIAaPBoQGxwWfBUAG7AbnBtwFqwbiBsAGnAYgBjwG1QUoBY8FngWaBfkFkQXIBpoGmQVxBVsFdwVDBCUELAWQBScGoQWgBloH1QaGBokG7AbfBcMFWwaJBoUF/gROBYIFZQXXBCAFDwZNBqIGqgblBgcH/Qb7Bh4H9AZzBn0H+QbEBy8IyAeCCEYJ4AnuCQ8LWwvPC/0LAQyvDPEMfw2zDdsNiw5IDnUO9Q5DD18Pjw89EK8Pwg9mD10P4g4RDiMOUQ3nDY4NTAxFDGIMeAt7C88L1goCC5QLuAv7CigLNwr3CI8JNwmECaoIEAhyCDMITAjoB64HswiMCAYIeglhCQgJdAglCOYITwkKCuoJPwpRCi0KaQuHCy0LDgsmDO4MpQyHDCkMXww3DJYMPQyXDAANNA3EDIwMWw0RDfMMtAytDI4MqAwkDPsLvwupC3QLLQyUDJkMcAxVDDkNqgwyDJwL6gtOC4UL0guIC5MLpwu1C5ML9wu1C5ELVQogChwKuQlqCeYI1QjPCHQIjwijCC4IqQiUCHUIwghlCGIH4AcACAoHNgfXB60HpweQB2kH3gekB3oHPQgqCDEHKwf/Bi8GyQbPBrgGaAc5BmsGrgUaBgAGSwUsBQcF3gQqBLcEfwP5Aq4BfAGLAX4BQAGyAMAAMAD0/17/F/+Z/gz+xf1P/Tf8vPsS++D6b/om+Z757/np+Az5dfik99L3qfb29kz23/ae9zr3F/cO92T31PWN9iX3XPYg91n3Bvfg9xj4Lfg7+J34UPni+bv4YPm9+Tv5u/ki+sH6nvps+6L6tvuq+yT7wPvF+rj7Bvzp+pL6dvll+Un5JfkZ+eH4Uvn9+Lz5bPjx+Nz4Wfjf+F/4Zvna9xf5jvjm+MT4U/hf+Qv4gPle+LH4Bvnk+Pv4b/hW+dr4sfgG+Dr4Xfii9+P47fe19433PPi79vX2V/iE9nP3fPYg98z20vbK9tj1mPZU9gf3f/b09WX25fWR9kv2s/aN9rL1jfbn9Yf1SvVd9QT1G/XG9Wz1yfQ99G/1EvRf82/zFvQ19KD0IPXd81f1uPR48zj0+fMg8/ny/fKH89bxF/LV8dbyafFA8enyQPCf8LzwPfDH76XvB++V7t7ucO+77n3tce727Tjti+2H7bjt+exn7v7tS+127aDunu+O7hTvyu+779PuI+8C71XvAu8u75XwAPCy8LPwgvGz8Vfy6fIU87XzmvN59C/1UfR19Hj1NvQy9gX0qPXK9n/02vUe9Zn2+/Sm9Y/0+vOh9fDzJfXu9OL2HPav9Yj2svZO9h72xvet9un3P/gi+Xb4LvjA+M33t/ii9hz4Qfj79nv34/a8+BL31vdm9xT3evfO9s32z/Wn9gT33vYA9h33r/dO9/b2e/fA9xH4fvh/+M74dPmh98T3L/rH9vn3CfgC9sD2Kfcj+PP26fWI9Vz2nPdT9oz1gfb09Uv0BfWj9eX0bvWT88v0U/QY85Pz/PS288TyrvOa8vDyifA58gjysfHw8PjwAfL/7j7vSPA48IbwW/Aj8kDzRvJM8W3y5PHP7zjyAvGV8TPx//HS86rxafKD8lPwN+9I8fzv5+8U8Mjv6fFq8qfyI/P68mn06vRX9dz1A/Xh9X32hPfa9ZD3Ffdi+KD6z/lm+1T8Gv2U/NT99ftv/d77Svzs/Z75ff2L/Er8uf70/Br9DP6U/9r76f91/4L91f6C/Hf/M/3J/jn+FAA9/+P/egMtAGMCMgMZA1oEfgPlAlUFWQLhA7wE8wOkBSkFvgZ7BmYGpAe/CF0IxggbCUQKvQeqCMoHEAcDCekFTQZMBsAGrQexCLgIwAa0CMcGCwhFCBoGXQgmBcEHpwVRBkoHlAaqCKsFJQV1BVkHKwaWBlsHtwZVCKEI6gnyCG8KkgvCCfUMuglXCloM7gt3Df0NnwtSDqkPzwv/Ed4OyQ4TEH4P2hFMED0R/A4/D00RBxAaD+4RIhFHEfoQXRAsEt8P/Q65D2UP5w0pDikMJQzmCukJsQuqB1cJfgrQCrYKHQp/DI8MywrjCowPmAnwC5gO8AxSDOAMLg9+C+oPmQ2hDbgOuw0kD7kPGw7eDcMP1AvEDswNyQ3wDGsLGw9DDYMRFQ4yDc8MFwt7C/0KHQsTCG8KQwrzCY0JCQpzCycNdQkWC+oL3AogDrENAAzdDLkOww+rEEsRkQ6FD5MRTQ+REb4Q7w7XDvAPJA5wD1EOIxJiEK0PoBHeD98PSw59EE8OZw0yDAYOjQyPDmINrQs8DPMKeQxlDWkMNgo2DPUNRwvhC1wMIwpaCtcKqQo+CWMMPQehCs0L6ghPCgkJiAoGCeUKswYmCfwJhQdPCPoGsAYUCHQHggSAB38FMQXUBO4CDgO2AjcCIf+s/2cAaf6L/dv9n/68/FT+Ov3V+wX+BvxW/KD84Ptc+5X9pPmg+QD7Xftd+ob7a/tK9z/9qveW+Sb8cvfK+af6mfpk+p77ZPmn+eb7Qvwy+1j8H/7W/JD/Kv49/mj/Uv42/YgBxv/m+97/b/8WAmb+vQAyAnUBuQErA3kDUQLkAswCMQU+ARQFKQRXAocFoARHBJ0EMQUMBKcEXgU5BEAEhQSrAgQDBAbKAZECawUrAjECwQO8AXMBCgTJ/xsB9ACl/3H/Ff9GAIf/ZP4f/m7+Tf8B/Y398P45+5D+jPvV+5P8UPy3+3v7vvtF+7T8Xfmu+r/66foE+9T5ovqm+z/5//sD+1P4SPz3+tT6Jf6O/Fn8oP3t/NH6nPvI/aH6Nv2s+775rPzg+4P8v/tm+Rn9L/y5+vf7L/0H/Q37ivtd/Br9Ifvr+n38avuk+cn6Q/pk+U/4TPqv99b49/ek9oz5PfnU+Df3T/hM9074c/Z3+JD1k/bI+Gn2hPfO91L4OPbq9lT31/Y997X45Pa39xD5Hflc+Pn3p/l8+an5jPrT+NL6Y/sS+r/68Pp1+lP4vPtT+x77vfkV+4786vuk/KX7D/7r+j38pf2S/I/9ov0g/nn9QP18/Gn/tv1c/Of8gvxX/iP9iv0l/IT9VP2y+5X9avsu/Xz8yfku/BX7c/tf+6f64/qY+zP6KfkJ+xr6pPmn+AH5rvic+SP67fkx+bn4wvmP+Uv6PPjT+GL5xfhI+f/3xfje94P3Evgb+Hj2rvaZ+PX3dPYf9h33mvax91z2s/Wv9zL3wfXW+EH4Gvee9gj4efgw9v33//fD+Ob32Pgx+fT5Svnf+e/5i/qz+8r6xftp+2n7evvl/ML7uPt//Jn8/PuG/AX99/yz/HX8dv3N/FP9rvzE/a/9Qfzu/az9Ovwp/dL9uv37/R3+Fv+t/78AawDQAYcBRwIHAk4CSAPYAlUDhQLvBPcCnAR4BcIE2APwAogFUgRjA+oEEQOWA4gEvQIdBIEEowP2ApYFTgRuBYMFtATiBccEPAWwBfsGFwVpBjgH1wUGBvEG9QYNBrYGtgXyBoMIZQewBysIWAekCNsHlAdiCMgGaAaNCEUHHwNaBh4HAwUqBWIFxAX4BXgFMgYKBiQFWAXTBEcFgQX2BHcElAVHBZgEBgRVBNEDnwIXA+wCzALJAhoCMgIVA20DUgPnAhwDBgQBBAQDYANDA5YClgKNA5MDlALiA4IEEgUiBSgFVwXPAx0F7gR7A0kEKgW8A2sDpAQDBC8DFARmBFkDvwPKAokDbwIpAooCdgEoAbkBrgKJAXUCxAFWArsCQgIAAr8CvQL0AlcDDwKeA/cDIwTdAysDGwMJA00DwgNdAm4CMAIrAvMBOgCaAHQAJQDr/13/EP9x//v//v/Y/yIBhgBeAUsCyAHLAgkDlwIWBCwFAgTaBfUFBQaABw4HmAfDCbQJHgngCuEJhgkRCmIKFAmmB+8HhwfUBt8FCQX7BAEEeQOKBPcC1QIjA6ED+AIxAxAD1wLwApgC1QISA+sDxAJJBCQEWAQeBssFPAb7Be0FKQaJBfYFfAVQBFAEkAQGBKcE+QPiArQDoAOUAyIDiwIQAl0B7wCNAK7/ev9eAMr/7P6s/4X+zP2r/pX+Uf6p/hH/Hv9a/63/2P/7/9L/ef9MAGkAAAAwAAgBAAIkAQQCuQLxAWUCiAJ9AgEDTgIhAxQE+gIaA0MDPwNtAmgCNAJaArgBUQGHAaAAHgDB/1cA7P4b/wz/9v0n/nj+FP/7/c3+xP6F/h//9v42/4D+A//I/p3+TP4//l3/nP8o/wT/WP/h/ysAUP7g/ub+v/27/jb+7f0r/l7+Af7Z/eD9j/1m/Zz9c/3+/FX9gfxf/Vv9xfxJ/e78d/3V/X3+4v5G/mv+v/0G/TX9D/xp/MT7rPqA+4f6HfrN+i/6EPp6+kP6rvrv+nj6lPqN+jz7Zft9+6n7GPz4/Hn85fy4/PT8NP0T/Xz8APz/+/P6I/oa+hn6FfkR+Yr4gfih+MX3aPi1+Gb47/fC+Ar5hfhj+YL4JvlJ+TP49vjO+A355/jd+FP5Qfnx+GL6Mvqy+TL7QfpG+sr5kvna+XL49/hk+BD4WvhP92X3xval9vv2P/bc9e72Ivb79fL1aPXT9Uj1evW29Ff1X/XZ9Hz1pvWD9Yr1PfYI9uz1mvZW9xz4xPdF+IP4zvjh+Jj5efpO+tP6Hvuu+7L7zvsI+zD7DvvS+mr7//pw+nD7L/qK+eD50fk3+2r76fu+++T6N/q0+MD2JvXl8trxnfAJ74Xu1e2Z7dTtVu3X7YXuxfAT8pnzxfXh90v7R/2+/kABfAPOAysGQgd2B2kHAwjxB6oGigZtBW0ELgPPAccA5v5+/kj+7f0F/Xb8sfxi/KT88fuS+3j7Uvwt/Mj7Gfxu+xP7OPxW/GL8c/w+/Iv8UvzN+6T7tPu0++j8Gf1t/Z7+k/+WADoBlwHyAhsEqQSuBecF8wVgBoAGQQbGBRcGmgX+BF0EdwNpAgMAS/8g/l780frv+Iv4xfdm9kP1X/QD9LDzW/KY8Ubxt/Aq8VbxtfFv8pPzgfWW9nr3O/lU+iD8y/5i/+YAfgKYA9EENQVYBlIGEAgkCeIIEgncCBsJVwgSCIcHrQYfBuwFzgR9A3AC7f9o//b+Kf1Z/EL7+Pqa+uT5T/nK+Ab5wflv+pH6BvtQ/DL9d/76/sn+dQBBAe0B/gHhAd8CAQOWA7EDnQOsBHsF+gV9BqkGNQdhCE0JAgpDCsIK9QrRClwLsArjCfoJgAkfCeEHgQZwBVsEHANuAYkAq/8p//b+0f55/on+jf5+/1sALwBeAbICdQM5BK0EPAX4BcEGYgclB3sHigetB6kH7QZPBqMFQAUfBBEDhQJlAZwAlf/T/nf+p/0x/j7+oP7e/vv+FQB7AMABngJpAyYEjgTYBCIF7gS2BIwFhQWBBXoF+gQXBWIFxARdBHsEsgSdBEAEHgR2BDEEKQRtBOcDewTXBA0F9wRzBRwGbAYCB00HhgfEB3kIXAg8CHgIewhQCNMIowirCFEJ5wiJCNsIlQg0CG0IJAjbB1sHcAfxBigGFwbXBewEcQT9A48DuAIKAmsB3QBBAZoArwB9AL4AnQBrAAwB4ABmAccBEgLVAuUDlgQUBfcFpwbcBvgGhAe0B4sH1QdNB0IH6QYBBp0FvwRSBN0DhwNcAz8D5gL/AkoDNgMFAzoD5AL9Ak8DswI1A+oCJwM2A6ECFQPbAoQCaQJ1Ag0CsAG1AdEAvwBSAOL/zv+1/+D/rf8VAPT/gADLAKEATQGqATACAAOGAygEmQQYBf4FAwYtBqcGoQbBBooGNgYrBuQFYAUKBaQEVgQ4BOIDpgOIA8sD6AMmBGoEFQRRBGsEjwScBGgEPwSGBFAE0QPwA8cD1QNuA0cD+gJ4AjAC3gFTAbUAKAARAIT/DP+J/tr9mP1D/X/9X/10/Rv9sP30/Sv+7P7K/hz/W/9m/2v/kf+p/5b/WP9X/6r/nf8L/wD/vf5c/rD95PxF/GT7yvr5+bz5Dfmv+I/4b/h++Gr4DPmn+Uf62vqF+0r8Q/0V/oL+xv4y/1n/bv8j/8T+g/5F/q39Iv25/D388fus+1b7pfpf+u35o/lf+Xv5OPkM+SD5KPlY+dj5Q/pa+s/60Ppt+5/70vtq/KP81/x7/GH8qvyC/JD8nvw5/HT8gfyc/NL82fws/YL9mP2x/cP9gf3E/c79mf1X/ZL9wv02/fH8m/w1/OX7Zvvv+mP6evkj+Qj5RPio90v3ZPca98T24/bu9nL2afac9i/2kvZG9l/2uPaZ9nD2PfY39ur1mfUy9YP0U/Rf9AT0M/Rh9Gb0lfQw9Zj10PXm9UL2Zfbd9kv3rPeR+Nb4xPmd+k77aPvu+0T8QPy6/L782vyx/Gb8Bfzn+0n7o/qm+ir6tPlc+QT5+/jb+Pj4A/kG+QP5BPlC+TX5Kvkx+U35Ovks+WL5OvkL+Tj57/gg+Y75p/m9+Qb6NPrw+VL6dPqQ+lf6RPqD+hr7RPvJ+hb7EftA+3T7e/s2+yD7k/t++2H7G/vS+rT6ofpA+sL5j/kj+VX5Ovmx+Lz47/g9+YL5evmt+b35APpD+gz6C/oW+jv6fvpo+lr6Xvp4+qn6sfr5+i/63fn/+Yv59vhr+AD4xPcB+Pz3Kfgw+Fr4tPjr+Pz4//iR+dP5P/oi+677Ufwq/X7+Vv8WALgA+wBTAW4BtAGYAZgBygG7AWMB6wCqALAAiwCGAKEAPwASABEAFQADAAEALwBvAC0BkgECAmMCyQIiA6AD1QPMAyYE/AMsBPsDBATyA4EDYgMdA88CdgL2AY4BRgHWAKgAhABNAJkARQBBAJkAqwDaAOMATgH5AHkBGwLkARECPgImAkMCDQIMAuUBYAGPAW8BagFAASwBgQFPAVcBoAG6AfUB+AE+AkICWgKKApsC6gIGAyADMwMWAwADNgNRA0oD7AKyAtICpwKuAooCngLFAs8CMQNXA3sDjAMSBDUEXwTVBOYEHgWvBTYGZgbaBigHoQcyCEsInwjkCEgJhglJCXQJOwkPCe8ItghSCEgINwjrB8cHHwetBpEGiQZfBnkGbQZtBqMGuwamBr8G6wYlB20HoQe+B5cH0gfIB7MHmQd3B3gHUgcJB8MGlgYPBsMFJAWwBIAEAASYA3IDhQMtA1wDLAMGA+ICsgLaAooCkQI+AiYCZQI4AnICtgKKArwCewJhAigC5QEKAggCEgI+AmICEwIgAlYC4wLhAvoCIwMLA2MDPwNmA00DJwNCA1cDxgIdArwBEAHQACoACwDm/77/9P/r/+j/8/9LAIsAmwDHABkBBgFFAWUBtwFMAnwCrQL1Ag4D/gIxAxADBAPoAq8CugKtArwC0AL5AiIDQQNGA5sDzQPOAwIE8gMkBDQENQReBJwEsAS3BOYE/gTfBLIEaQQLBJQD5wI2AtQBUQHSAJUALgBHABcAHwBmAHkAtgDlADEBSgEpAXgBtgHlARQCYwKSAnUCnAJyAk8CHgLaAXsBIQGZAGMAigBrAFkAbQCIAHEAHADr//7/4P/J/7P/ev9W/2L/i/+t/9f/AAAeAIYAzQDwABIBNwFpAXMBYwF6AWcBSAFyATgBIgELAeoAzwCnAIEAVAB4AIYAowC+AOMA1QAUAW4BjwGnAaYBvgHKAakBdQGtAZ0B0QHLAd0B/AHVAbABLgHzAHsAJQDt/4v/gv9S/y3/J//B/sT+g/4w/jL+8P2w/Zr9wP0N/uv9Dv5X/nH+a/4q/jn+SP4+/mz+gf5d/qD+gf56/lj+P/5A/in+w/23/cX9iP2h/Wr9pf2A/XL9j/17/Yr9fP2h/e/9uf3N/dr9u/3B/d/96f25/fP9tf25/e39A/48/mL+uP63/sH+5/7M/iL/Iv9O/6j/fv90/4f/pP+Y/8P/8f/e/+L/sv+T/+3/3P/X/wYAFwA2ADMASABqAH0A1QAAAdAA/wAfAfIAzAC8AL0A0AC2AKYAoQB0AEwAMgAVAP7/l/9O/0r/+v7A/rP+qP6a/qf+zv7z/uv+BP/v/sf+zP67/o/+Pv4K/qL9fv2X/Yf9h/1l/Vz9Rf1b/Wv9Zv11/WD9h/2n/bz9A/4X/i7+n/6D/qP+v/69/s7+3P4V/xz/E/+r/j/+8v0P/s793f0E/vT9Av4R/jT+GP4Y/j7+Sf4s/of+jP6x/vT+A/9D/4P/yP+2/63/4f/x/83/4v/M/7z/wf9s/3T/p/9d/1L/fP9m/5L/bv+K/7D/yv8CADAAXwBGAFEAQQAzAGAAiQBXAB8AAgAiAN3/zP/Q/6//7P8iAAoAOgBaAFUAiQBjAGcAJwAYAPH/pP+V/7L/sP+q/47/bf9o/4T/kP++/+T/r//u/w0AOAAyADoAWgBGAEQAFgAAAPr/4f8lAPn/qv/H/wsASACQAOAA1ACvAL0A/QDzABIBAQHkAMUArQDBANQA3QDpAAwBKQFOATIBJAEjATYBGgERASABDwEKAeUA0ACdAJUArQCgAK4AzgDMALQA2AD6ABYBRwGBAXEBfQG3AasBEgI/AiQCNQIsAhgCZQKHAlcCZwI5AlcCQwI7AkQCXAJNAiwCRwIqAjkCDgL1AawBfAFwAR0BIgErAQYBBwHWAMMA9AAcAQwBLwFhAUsBXgFPAWcBhwFdAUEBDwEnASgBFAFgAXgBjAHGAeMB9gH6ARkCZgKCAq8CYAIuAv4B0AGyAXMBlAFkAVgBWQFkAVkBKgFYAZQBigFiAVcBdAFEARIBIAHlAMkA1QDHAJsAewBtAFoAVgBtAF4AiADhABUBbwGQAaUB+wEcAmYCqwKJArECDgMsA0sDjQOwA84D2gPqA+gDxwPHA8EDZgNMAyYD6gLvAvgCxwKhAqMCbQKMAn8CtALOAnQCVwJMAjQCIwLoAZ8B4QG9AZkB6QEDAv4BKAIiAksCiQJzAqwCwwLaAvoCKQNnA3QDXwOJA6gDmAPAA8QDxwOAA4oDiANlA6sDdgOtA6gDdgMlAxwDFwOkAssCqwKgAjkC6gHCAaMBiAE1AQsBvwCRAJ0AogCoAIYAgwC7AMoAvADwAFYBXgG3AegB+QEhAg4CKQInAisC+AGsAYoBXgFqAVwBpAHfAdoBFQIfAhwC+QG8AbgBkgGnAaUBfgGVAWQBwQHeAQoCCQKdAZIBGAGvAEMAqv9L/zD/M/9a/3T/kf9y/4P/HAA1AI8A/wAqATQBRgGFAVUBZgFdAVcBTwF7AYkBhgHDAb4B/gEdAjECgQKKAlAC7AGpATsBtABsAPD/q/9V/yP/3P61/uX+0/7t/hX/Mv8y/y7/QP88/1v/Wv8f/wf/1v6o/sH+mf56/jD+6/2+/XP9ff16/a795/1V/rX+Df9//+f/NABvAJgAsgC3AJcAdwA1AEMALgBEAD0A6/+y/2z/OP8H/x3/jP/0/+f/9f+h/17/O//9/uz+tP6m/mf+Qv41/iX+Qv6k/hD/iP/z/2YAiwDXAOYAswCbAP3/oP8V/43+GP68/cj9F/5l/tX+Xv/9/1IA2wBoAXIBoQFmAWIBVgEcATUBZwErAesAvgAxAN3/Xf/b/jT+tP1X/b380fyb/HP8tPzr/F/9vv0l/nj+xf4K/37/s//Z//X/0//u/yAAQwADALX/Mf+I/h3+xP24/WT9Pv1L/Y39+v3T/fH9A/7j/ZT9Z/1N/SD9Gf2a/df9/P1s/mz+hv6L/qz+zf7X/pH+Jv4C/gr+1v0f/qP+E/9U/7b/MAAtAEAAWACeAFAA2/+q/0z/6v6X/nT+hP5P/hv+9v3q/av9Kf3g/I38IvzC+0b7q/pl+nD6lPrs+lH7jvsx/Nz8ev3y/an+Yv+j//P/BgDk/7L/nP+L/1P/L/8k/wH/E//z/sX+G/9m/3r/b/9L/wf/x/5y/ij+1/2U/cv99f3//er9Lf5s/lf+Pf45/tr9ev1S/f/8/PwE/XL9wv3T/dT92f3+/Rn+LP4n/ib+MP4e/r39RP22/K/8Bv1C/Uz9i/3u/RX+mP73/jD/PP/1/rT+Of7N/aD9h/1j/fr8efzf+1T7IPv8+oP7PPye/OP8Uf29/cz9Pf6f/i//of/I/9r/qf+6/wUAagD3AOIAJAGqAYQBxwG/AYwBWAErAcsAxQCqAH8AnwCxAO0A8wDYANQAGgElAeoApQBhACAA8v9s/wz/m/5S/g/+3f3H/fb9W/7j/pj/nP8pAEkAZQCWALcAFwFcAecBMAJVAu0CkQOkA7EDwgN3AzAD3gJWAiMCzwGaAXIBfgFIAeAARQDM/6H/af9b/xX/BP/2/g//G/9n/+T/WQDEACYBSwFbAUwBNwH3AFgAt//8/oL+8/2e/Xf9nf0L/ob+YP/2/4YASQHiAUgCmwIVAy8DagOgA5ADuAPsAwIELgQhBMgDvwOeA60DQQPYAnwC0QFaAeQAdAAMAIT/Dv+6/pD+0P7D/vD+HP82/0v/Zv+Y/73/PACcAOEAgQH5AVYCtwIhA1UDiAPdA9oD/AMaBFEEUQRjBJIEowTNBO4EEQUQBdQEggT9Az8DlQL5AWoBvQD//xP/ZP4O/oD9fv2V/ar9EP74/ZL+9P4W/4//4f9lAKQACAFOAYIBvwEWAjACTAKLAtMC+wL3AvQC3QKhAmUCnQKhApwClQLMAukCkQJPAmoCGwK2AXABBgHqAHoAVQBWADgAVABaAAIA5f+y/0H/+v68/qn+1f4a/07/hf+z/14A6AAFASYBhAGiAbsBDwL5ATQCDAImAmcCMQJwAnACvALZAjsDnQPWA/ED9QN+BGUEWQQHBN8DgQPeAmoCuQFHAfAAcwACAKL/Pf8X/8P+av4s/vb97f0F/hT+Uv5c/nb+pv7t/gr/af8LACwAggDWAFIBZwHIARIChAIpA0gDegNLA3IDjwN5A2gDcQNbAz0DKAPDAoQCFgLPAaoBPwHHAGIADgDA/5T/Gf/6/u7+3P79/gH/F/8q/8f+TP4v/gX+Hf4u/kD+Nv66/jL/c//r/14AwQDnADkBWwF2AZYBwAEOAo4CgwKyAn0CWAKDAjcCAgK2AZkBKAHnAKQAWgDz/63/av/+/qv+bf6N/oj+Zv5N/gX+0P20/Z/9pv25/bv9w/0M/vj9DP5W/pr+1/7t/kX/T/+O/7//xf/X/7r/KQD+/woABADD/+D/x//c/8n/5f/w/y8AJgAWAPb/0f+S/0j/Jf8R/wP/7P4e/+b+6v7x/iP/Wf9M/yf/Bv/Z/qb+Sv4D/vD96/3O/cb9qP27/f79+v0p/iL+U/41/lr+of7e/kH/if+0/w4ALgDu/zcATwA8AI8AyACYAKsAvwC7AJYAdgAnAN3/h/9X/zf/OP9A/03/Z/9y/1v/CP9L/1P/kf+V/6r/q/+4/9z/xP+g/07/Tv81//7+B//2/s3+5v7P/vz+1f7Y/gr/Sv9+/2z/nP+y/8z//P9FAFoAXQBnAIQAewBaAEMACgDD/2f/LP/7/tv+qv6M/lP+J/4z/kT+SP5S/lf+fv63/nP+h/5Y/h/+Fv76/fv9y/0j/hz+CP4W/hb+Z/57/tj+7f7q/gX//P7w/gP/Gv8R/0H/mf+1/+f/RwBNAGsAMQDp/yoAYQA8AOX/n/96/2T/mf+T/13/g/+o/5//pv+u/7b/uv/e//f/vf+X/zT/Ev8f/xH/Ov9j/2X/av8o/wv/Gf9U/6X/vv/3/+//+v8BAOP/2P/Y/73/w//N/8j/JQCFALcABwEZAUgBOwEcAUwBMAEoAQMB9QDUANUA1QCuAJ0AeQBvAGYAJgDf/6j/Sv8r/wj/8P74/gH/n/6k/s7+hf7l/iT/R/9k/4b/zP/f/+n//P8cAEsAXwB2AFgAeACkAM4AGwFXAXcBGwE7AVgBEQHjALAAmQCvAJAAhwCNAKwAqACbALMAlACxAJgAtgDIALMAuwDjAA4BAAEIAeQA8wATASMBNAHLAKAApwCGAL4A5ADPAN8AswBqAK8ApwB6ALoA9ADTAMsABwEwAR8BDQE/AW0BdQFrAWYBcgGhAcEB7QEDAiUCEALxAb4BYwFZATkBRwE3AdEAlgB9AD4AFQDn/7f/yP/B//T/8/8aADUAAgBQAHoAagBmAHYAXwBGADgAZwCIAJkA8gBBAXoBigFyAagBqgGNAcQB0QHbAbcBowGKAV4BdAGNAckB0QHKAfsB9QHAAXoBJQEEAQoBQQF6AY8B2QEJAlsCagKIAssC8wIHA8oCmAI4AuYBuQFhAU8BlAGOAaABygGzAZkBFgKBArcC4gLTAnoCDgLbAWkBPwEyASsBLAEQARABPwFmAYYBEAKGAs4CAgPVAnYCIwLhAVsB7wC1AG8AggCcAKEAyADPAB4BGQHtAC4BDAGNAFkAYwAuANj/i/9H//r+wP6G/nb+zP4v/1P/ov+1/4//gf+d/8T/2P8QAE0ARgBbAHMAXACvAKUAzgD4ANQAtwDHAMsAAAETAbAASgBi/9/+Uv6G/iz/X/+0/9v/o/9e/1X/BP+v/m/+cf5M/mf+yv4N/2P/jv+l/8//4f/7/ygALQCGALIAtgCOACMAsv+B/13/Df/g/tj+SP9X/6v/DwAsAGwAPQAZAPj/4v+0/9j/NQAoAGYAlgBpADgAAQDE/4//X/8l/+7+s/6u/or+oP6U/sT+C/8y/3T/j/+u/53/kv89/0L/N/8p/x3/Sv+z/8r/+P8NAJz/Mv96/7L/8/8lALEATAGzAQMCVgJxAmoCFwJTAaQAp/8t/w7/Rv9f/5f/+f8RACgARABlAE4ARADP/3r/I//j/vz++P4q/63/WADJABUBRwFmAa0BagHBAF0A/f+C/w3/8P7x/if/i//P/4n/fv92/4T/uf9N/9H+O/7D/Y/9W/0+/WT9z/1I/l3+rf7Z/gL/E/9o/7r/w/+v/yP/7P6x/ln+EP6a/WT9oP2j/eH9C/4h/oL+If9B/1P/Tv/O/nP+6v08/Y/8TvyS/CP9yf1r/ur+K/9b/3b/CP+2/k7+9P2o/ez9hf6y/mb/9v8pAFIASQAtABkAEgDY/5r/pv9I/zH///4F/0D/bv/b/woAbQDZANMA3AALAcUAhQAUANv/6v/v//P/AgDz//T/vv+c/3r/l//X/+L/JABNAKMAwwDyAN0AngDRAM0AwwD6AO0A/wDfAJoAMwDc/9X/1f8GAO//1v/X/8D/qP9s/xr/vv7O/sf+1P7m/tT+HP9Z/5v/tf/X/3T/Tf8a/9/+uv5Y/vn99/0U/gT+cv6h/jD/1/9RAGsAdgBQAOr/g//+/pz+sf7P/uL+VP+g/+//OwBUAH0AtgCFAEIA5v+W/1H/eP/F/10AnQC2AM4AvgCqALAAuwCkALMAjgC8AJwAyQAsAXoBjQEHAhYCJAIqAicC+wE+AckAhv8r/9P+Y/5V/kv+zf4v//j/jQC8ABUBFAFQASkB+QDuAJEArwCmAHEAUQB9ALYA/gBHAZAB0wHjAboBYgHkAJIAZgBnAIQAkADRAOYADwEYAQMBtgCpAJcAMgADALH/dv+B//3/qwABAU8B0wEDAhUC2wGKAU0BLgGLAbYB9wEbAkgCkwLAAucC+gIHA4kCFAK5ATkB8QCjAJgArwCvAK4AxQDMAHkAeABYAFsAYQBmAKUAoAC2ANIADgEuATUBcgFjAYIBmwGoAa4BkAFzATgBRwETAS4BQQFNAUQBIAEuAUQBdAGyAcwB/AEnAiICHQLqAQQCoQFCAR0BzACOAHQAlwAFAVIBlQG0AbABwAF0ATIBGAH8ABABDAHyACoBZAHYAQcCWAKSAlYCVQIeAssBqQFaAdMAcACFAJgAwwAbATwB2QEzAmYCuQK9ArECewIjAtsBbgEvAUEBYAF6AWsBYgE/AQMB5wDMAHUAUwBPAEIABQDO/yAAdQDCAAIBagGPAVkBiQEwAdYAcgAhAOf/jf9v/0r/af+Z/xQAUgCHAKYAuADPANwAsQCRALAAcABUAGEAIQAXACcABgDu/6j/tf92/0j/Cf/P/tj+1v7m/h7/TP97/5T/Xf95/wf/xv6x/p7+pP6A/oj+gf7K/jX/pP/q//7/NQD6/5T/gv+L/7D/CgBCAF0AngCFAJwArACGAKcAhQA4APH/of9n/2n/Zf9Y/4X/lf+U/6r/o/+S/5P/QP8z/wT/u/7A/q3+t/7Y/gn/S/90/8L/8v+4/6H/av88/w7/+/7U/sb+Cf82/4P/yP+6/4z/Y/81/+v+tf6Y/nD+jP5h/nP+mv5H/k/+a/5r/kD+Jf5a/nr+kP6a/rP+uv6K/rb+1P7S/ur+x/6//oH+Ov4a/vr9+P3P/az9wP3G/ff9a/6w/g//cP9z/zD///74/h//Of9R/3v/b/9T/2j/Y/9j/23/d/+7/7L/wv+B/4L/gv+q/8T/pP/C/8D/2f/y//f/0P/p/6j/jP+i/4L/fv92/3H/uv9T/zD/Qv8h/zz/Iv8I/9X+p/6N/of+W/5V/j7+L/5X/nr+cv6b/oT+i/6R/p/+if5x/mv+Sf5g/mj+gP6V/uT+//4K/8b+s/6D/mj+aP6B/rr+h/7m/hz/av+q/6X/6f/r/9z/0P+3/2H/LP87/yr/Rf9m/6D/vP/E/7j/mv+a/4T/e/9W/0z/Nf8k/1j/l/+0//D/EwBYAIcArwDXAJMAfAA8ADwABgAVAD8AMQByAHcAhwB/AFoASwBgAFgAaQBiADUANgAiABIAGQAKAOT/sv+W/2n/Yv95/37/TP8u/x7/Gv8Z/xj/VP9P/0//H//6/vz+4P7q/vb+2P7a/sL+z/4V/0f/rv/L/9b/2v+7/6v/YP9P/1//fv/B/7z/uv+8/+P/GgAMAPz/uv+t/4f/XP+k/7z/sv+N/7v/xv+k/+z/LwBUAHUAhAB0AFoANwBZAJYAuQCeAHMAlwCfAKEA5QAwARMBOgFrAXABbQFCAXYBgwGQAZIBVgFkAVIBKwFNAVQBNQFNAWwBYAF5AaQBvQG4AdQBpwG1AY4BYAFoATkBMAHJAKUAawA+AHgAfQCHAMAAwACsAJ4A1ADjANcA0ACnAJ8AkQCaALYACwEgAQoBOwFOAU4BSQH/ABQBBAEaAT8BSgFiATwBagFxAVQBTQFaASYBHgEdAQYB2gC3AOUACgEEAfkA/AAFAS4BFQHzAAoBDAEXASEBMQFNAUEBbAF+AYMBcwFoAV4BmQG6AcQB+QEHAhMCEgIOAv8BBwLbAdMB8gHqAeAB3gHGAeEB7gH0AfkBJgInAt8BwgGbAY0BkgGzAd0B5QGxAa4BjgGcAboBrAGeAXEBVwErAV0BSQEHAfoAzQDhALEAsQC3ANQA+gD7ABYB1QDnAKoAjABuAFMAWQBZAIMAjgDHAL8AsgDHAMMAjQBhADUA//8AAAQADABAAEsASgAHAOr/7v/B/63/1f/m/+n/CgDV/8z/qP+2/8b/zv/P/5j/m/9l/2b/df97/7z/2//0/xAASQBFACgAFAD4/9r/5//8/9X/yf/Y/yAA6P/a/wMA+/8WABgA4f+Y/5//qP+0/7P/t/+k/5D/if9f/2b/kv+W/4L/g/+f/3L/df97/1z/Xf9a/3//ff+Y/6j/uf++/87/9v/J/9n/z//J/8r/h/9j/2H/e/9b/zn/cf9z/0L/gf95/13/UP8S/+L+nf6v/sH+mv61/rT+gv6h/rn+sv7G/un+Ff/7/gn/Gf8B/wz/8f7l/vj+7f7g/q7+af6L/nH+Xf6H/pX+uP6j/pL+qf6Y/s7+7f7x/uD+rv6x/rv+vP6O/qj+of6i/rD+y/70/gr/GP8g/0D/D/8b/yj/Ef8Y/wf//v7t/u3+9/7Z/g3/NP8f/yT/Lv8f/0n/Rv9E/0z/Lf9w/2v/UP+C/5r/Yf9k/2r/ff9f/yz/Qf9d/2z/cP+N/4r/h/+a/8b/ov9+/5P/kP9//3T/ZP95/1f/VP9w/03/Uv9P/zL/9/7Y/vz+BP/W/uD+v/6x/t3+2v7R/rv+7/7v/vT+4f7M/tj+yv7g/pH+vf7W/tX+6f75/hT//P7w/u/+D//+/g3/Ef8B/+D+wP7R/tj++f5i/4X/hv+h/2v/iP95/1T/hv94/2v/UP8+/zj/KP9c/7f/y//Z/7T/ov+e/6P/rf+I/3r/cv9b/0X/Zf9f/3b/fv/P//b/9f/j/9T/1v/J/9n/wf/i/9H/yf+4/8n/1v8DABoA3v8AAO//yP/A/7b/zP///wAA5P/d/9//uP+Y/7T/tP+S/43/i/+X/6r/uv/G/8H/yf/E/7n/wf/i/9L/4f8RAAMAGQBqAGoAWwBTAGAAPAAPAEsATABZAF8AXQBTAFIARABCAG4AQgBGAEAADwANADgAeQCMAHsAXABgAGEATgBKAG8AmACRAJAAmQB5AHQAmACaAL0AtgCNAJgAbQCGAKwAjQCNAKwAmQCnAK4AagCLAJUAZgBlAGwATQA9ABsAHQAYACwASQBCADMAOwBdAE8AYwBsAGsASQBYAEoAVABkACkATwCGAHkAbACLAGgAYwCKAGcAVwBiACsARwBsAEMAUQBkAHYAjwCZAHYAUABlAGwAfwCHAGwAggCAAH8AggCVAJ8AyQC6AKIAvQCWAJ0AwQDkALMAzAC2AIsAkwCDAHwAiQCbAH0AmwB+AFwASgCJAMkAvwCgAJIAlQB7AMIA9ADVABQBIwH3ABgB9QDcAO4A7QDVAPoADgHkAOYA+wAjASgBOAEsARkBCgEYATsBMwFHAUABNQFdAVIBUQEyAQIBFwEaAS0BDgEpAUkBMQFVAVUBMgEpAU0BWgFgAXMBOQE4ATEBEAE4AU4BWwFeAUwBPAEwATQBPwFTAVcBLwE8AQMB9gADAfwAIwEJARwB4ADlAPkAxwD4ABsBDgEGASMBAQEAASgBIgEwATMBPAEyAR0BFQH+ADIBLQERATcBGwH9AAsB9wD+AOwAuwDXAN0A3QD3AAgB8AD9ANgAxwDaAMwA6AAAAfUA2gDTAKcArwDBAMwAswCmAJcAnACkAIEAjQB5AIcAcABdAHAAaABSAG0AhgBuAHAAYQBxAGMAXAB3AF0AhAB7AHMAngB0AIUArwDCAHwAeABiAE4AZQBPAGMAagCNAGwAewB2AGoAhwB9AHIAwQDMAIYAxgDHALcAkwCKAKkArgC+AMYAwwCzAM0A0ADVAPYA8QD5AOsAvwCVAJMAvQCLAGsAVAA1AFAAWgBTAFIAWwApADAAOAD7//D/2f/l//L/y//F/9j/6f/i/8z/2P/L/5//1f/K/5v/kP+H/5H/iv9t/0D/af9d/2L/SP8M/w7/Cf/f/uf+Ev/j/vD+5f74/iX/BP8a/0H/Kf8l/yz/L/8j/yP/Mf8w/zj/Ov9I/0f/f/+D/5n/j/9a/3L/S/+K/7z/pP+v/7P/rP+l/6f/nv+m/3n/av+Z/5b/jv+n/6b/mv+9/6P/s//A/53/t/+T/4r/lv+//7f/qf+X/3v/m/+N/6f/sf+z/5X/iv+l/6r/tP+P/4n/if9+/37/X/+O/4v/mP+Q/1T/Uv8r/yz/GP88/zr/QP9E/y7/Rf9F/2b/aP9v/2//Pf89/yv/Nv8q/yH/Zv8z/y//V/9A/xX/Ov82/yL/PP89/1H/OP8p/zr/SP8I/yD/NP88/07/Qf9R/1T/Wv9v/5r/f/97/2n/Xf9w/3z/d/+i/13/ZP9o/y7/Vf87/1n/Nv8//y3/OP80/zH/Vv9Y/3L/ef9a/yj/Qf8k/zv/a/9r/3j/eP9j/0z/RP91/6L/oP+p/6v/iv+C/7P/o/+c/5f/ov+i/5j/fP9f/3f/ff+F/4f/jP+L/6z/kP+S/3H/Y/91/zv/Uf9p/2D/Tv9R/3n/Wf9w/5L/a/9z/0j/Xv9l/3f/eP9o/1j/fP9s/yj/cP9a/07/SP+J/1j/Lf80/w7/Lv8T/0X/Pv8a/yP///47/y3/JP9L/0v/df8p/z3/S/9g/4X/iP+i/4P/k/+H/6X/zf+8/7L/3//F/6b/qf/C/8f/xf/f/8z/wP+8/7f/vv/X/+H/FgAJAPn/6v/y/9v/+f8TAAkAHwABAAkACQAoABEANAD7/yEAJgD1/ysAGwBSAEcAQwAtABwABAD//yIAMQAJAAwAHgAqADkAJgAzABwALABEAEYAQgBKADcAKABPAGwASQB4AHIAUACEAJ0AvwCvALQAtQDCAMMAtwDlAOkAywDHAKEAtwCiAKoA9wDmAPIAGgH1APYA6QAMATEBDQE+AQoBEgEuAR0BIAEpATQBKwFIAScBBAELAf8AEQEvAQwBMwEdAe4AHgEaASMBFgEQARIBBAHqAOQA3wDQAOMAFAG4AO4A8wDcAOMAjwDMAK0AyQDFAKQAiACqAJgAsQCdAIMAkACJAKQAsADSAKkAsACdAKoAswCwAKEA0ACbAIQAwQDIAMgAzgAHAfIAAAH4AMUA4gD3AOwADgEYARoB8QD5ABQBBAEMAQoBHQExATsBFQEtAUEBSAF0AVkBSgEyARwBPwEqAT8BIwFNAUkBIgE3ARUBTAFSAW0BWAGAAXwBcgGgAaYBlAGLAXABWAF+AV8BWwFPAWIBdgF6AX8BeAFdAVcBMAEpAUABGwFMAV8BIAHxAAcBEAEHARMBKwExAQ4BFAHwAOIA0ADfABoBAQEEARoBFgHVANoA2gDBANcA2gDTANkA4QC+AJUAoQCxALsAuwCXAIAAUwBOADgAegCQAJIAjwCBAJcAaQB7AG0AWwBYAGUAegBfAFsAdgBfAE4AIQAvADkAQQB2AGgAQgBkACUAAQACANz/CwD5/wgA9v8hAB8ADQAeABcAMAAlAEYAOQAnADcAIgAZAD8AOgAxACoAZgCRAHcAcgBcAH4AbACDAJQAWQBsAFIAMAA5AEAARQBTAGgATQA6AFAANgA/AEgAWwBiAFQASwA4AEIAVABDABAAJQAPAAAA6P/3/+//zP/u/9D/1f/g//r/DQDo/+//7v/U/9H/u//G/8z/nf+b/3D/bP91/0z/fP9i/4L/mf+F/53/j/9w/3X/aP9D/0T/SP9n/0//ev95/23/d/9X/3b/dP9b/3T/ZP9c/2v/Ov9e/0j/P/+O/3D/V/9o/4X/cv97/4X/Yv9K/2H/c/9h/3D/c/+R/2f/SP9O/1P/Xf81/wr/+/7t/tr+4P7j/vD+0f66/rT+iP6e/qb+g/6S/oD+WP5o/mn+TP4y/jD+N/4S/kj+Qf4y/jT+M/5A/ib+NP4y/h3+Hv4Y/g3+K/4g/kf+KP4a/hL+Fv4P/hf+Pv70/RD+Lv4z/kn+Uf5k/lD+RP4y/ir+U/5k/mL+Tf5+/n3+oP6I/nr+nP6E/sL+v/7D/rb+q/7I/r/+yf7q/rz+4/74/ub+8P7u/t/+3f71/t/+3f6n/q3+vP7T/tn+qv6d/qv+2v7i/r7+lf6a/pz+jf6D/nr+lv6I/pf+sP6O/pP+kf6E/oD+tP58/oD+p/62/sf+v/7E/qb+wP6+/tP+xv7M/tf+zP6y/rf+zv7U/tj+6f7z/vv+F/8c//n++f4a/yH/Pv8A/+v+7/7t/hb/Ev8P/wf/9v7t/vb+Af/u/iL/Df8Z/yT/A/8j/xj/Ev8G/x//9/4V/z7/Gf8a/xX/TP9e/1n/bv9Y/1D/a/+C/3j/f/+D/37/ZP9u/4P/j/+B/4z/pf+R/6j/mf+j/7L/sP+t/8n/7P/l/9b/3P/G/7D/0f/G/8P/8f/n/8X/HwApAPz/LABXAFUAPgBDAEgANwBFAEMANwBWAFAAagBpAHEAZgBvAJ4AlwCVAIQAkgCBAJUApgCbALoAyACbAKwAqgB4AIoAlgCfAMkA7wDvAPUAGAEdAQYBDgHzABkBCgH0AAQB9wABAfkAEwEQAR0BAAFCATcBHQFUAUcBYAFhAV0BbAF/AVsBXQFwAW0BfgF7AXoBmgGjAaQBlwG+AcYBnwGrAcABrAGtAcIBtAG3AaMBpQGhAZ8BtwGeAYQBlgF8AWoBQQFfAW0BewGhAXIBUgFMAUwBTwEWASoBXwE2AV0BbAGAAWcBhwF3AU4BTAFeAX8BVwFiAVgBQgFLAWIBVwFxAVEBfQGCAW4BkwFzAZQBfwF4AXwBcwGQAaYBrAGkAbMByQHGAdcB1wHVAdMB6QH/AfgB0AHSAdwB0gH+AQMCDgIGAgYCEgIKAuYB9gEzAioCLwI4AicCOwIhAjECXwJDAjgCIwI1Ak4CKQJEAlYCQAJIAkoCVAIvAjQCMQI9AjwCMQI0AiYCFQLiAe8BxgG7AdcB4QEIAusB8QHvAd4B3AHCAc8B0AHgAdIB3AHKAbwBtwHnAfsB2gH4AcEBzQHRAd8B4gHyAckBpQHNAZoBqQGfAbQBzgGhAXIBZwFyAWcBQAEyAWkBOgEaAUoBGQEjATkBLAEUAQkBAgH1AAoB0wDKANwA3gDYAN4A1gDPANwA2gC/AMoAxQCoAKEAlQCHAG4AhwBkAH4AVgAqADIALQAvABoAIgAsABYABwAYABIAFwAFAB0ACQAOAOr/FwAkAAIA+f/U/wkA8P///wgA7P/z/xsA7v8NAPz/1//y/+f/EQDm/+D/3//a/+H/vf+d/7v/7P/a/6b/vf/S/8H/3f/A/63/z/+v/5//1v/g/9j/0v/Y/+v/2//D/+X/7P+V/4j/lP+K/4j/nP+3/6b/l/+A/4n/iP9u/4H/f/9c/13/V/9l/1H/N/9G/yn/Of9I/z3/Iv8u/y7//v4p//b+yv7X/tr+7/7o/gD/6P4E/8/+y/7l/tf+y/69/sv+qv7A/rH+vv6D/o3+jv6V/rf+p/6q/pf+s/6l/tX+4f6o/tb+zf6V/rT+tv6j/qL+lP5k/lz+U/5m/kL+Sf5//lP+Z/6D/nT+XP5d/lL+Zf5G/i/+QP4//hr+KP47/hv+Nv5M/lX+Q/5E/j7+S/5M/jH+Tv45/hr+K/74/fP9Gf4T/jD+MP4s/k/+I/4x/jL+Mf5V/jf+U/5V/mn+Qv5P/nP+S/6C/nr+ff51/oH+iv6D/qj+gv62/sX+v/7L/s/+yv7P/uH+uv7h/sb+t/7z/t7+z/7o/sr++v4M//P+AP/u/gH/G/8K/+/+JP8F/wH/Cv8A/yf/Af8X/z//Kv8C/wH/Bf/m/tr++v4G/xP/E/8M/xX/1/7c/tv+/v4Y//z+Av8J/yX/GP8h/y//Rv8t/yb/Ef8E/0f/Rv9g/2L/bv+Z/4b/n/+O/5P/l/+n/6v/nP/B/8H/yP+1/+z/vP++/97/0v/g/9r/1//U/93/5f8RAOb//v/0/+z/FgAdAOL/IgBcADwAUgBKAGMAOwBNAGgATwAyAEoAPwA+AF8AWwBVAFIAWgBTADIATABdAFEAUAA4AHkAZgA8AFAAbABeAE4AcgB5AHYAiQBtAFsAnACaAKcAtACTAMAArwC8AO4AugDEAOsA+QDoAOcA8ADbANkA+QAEAfgAAAEWAfoA/AAHAQUBOgFLAToBBwH+APwA9AAcASoBLwEgAS0BQgFBAVMBXgFmAXIBegFOAT0BWgFMASYBTwE/ASwBPQE9AS4BSAFtAVoBawFfAX8BOgFdAXgBYgGeAYoBmAFeAXMBjgF1AY0BggGXAaQBugG3AagB2wHUAdUB0gHYAekB1AHeAcoB2QHOAeIB7gHKAfUBDQLYAdUB3wG/AegB8wHEAbYB0QHiAeIBAQIaAgECEAL0AeQB7gHRAe4B1AHbAfYB3QHbAcYBpwGyAbwBiwF/AYEBgQGIAVcBigGVAY0BjgFmAWEBVQGDAW4BVAFaAVsBYAFRAS8BOgEbARMBPQEZAU8BVgFIAWcBUgEsASIBPwEqARcBFgE8ATYBFAEiAf0AJwE3ATYBRgElATUBLwEvAR4BLQFYAWsBNwExAVkBOAFrAVIBZgFkAV8BaQEcARcBBgHwAKgAqgD8ABcBMQH3AMUAzQDbAAUB2AD8ANIAoACxAKkAvADEAKYAdQBbACoAPgBcAH4AZABTAIkAWQAbADMAMABVAEoAQwACAAsAKQDx/yMAIgBXADQABQD1/9z/w/9x/9n/OAA7AEAA/P+9/8X/1v+q/+f/PgAQAK3/vP8GACAAQQAmACoA/v+f/33/nf/s//7/BgDZ/6f/o//b/+7/DgBJAPX/sf+W/5X/RP9U/8X/5P/n/6//pP9u/0f/Z/9+/+z/IQD9//P/q/9X/2b/nP+Q/5f/Z/9K/zD//P4y/2z/tv/w/+L/lv+f/7j/wP+5/4P/Nf8J//j+0v7o/iH/Jf8Q//P+7v4N/xX/af/G/8z/uP+L/zL/M//r/rb+4P79/i//Of9K/yT/PP9Q/xH/Cf8X/wP/vf6y/q3+pv7U/u/+CP8T/xj/C/8j/0H/QP9F/yH/A//4/s7+9v4w/z//Q/81/yX/Fv8q/0X/RP9k/3j/Yv9j/3H/Z/88/17/cf9Z/xv/Gf8Z/xf/Kf8g/yX/Nf9B/07/Zv9N/2n/XP9P/2//bP9M/1j/Sv8z/yb/F/8k/wz/9/4O//7+Iv81/xb/Kv/v/rv+pv69/rH+vf7Q/qj+mf6y/o3+bP57/ln+RP48/kP+JP7r/cn9qf2Q/X/9kf1+/WX9i/2U/ab9p/17/YL9e/1g/XP9df1N/Sr9Uv03/dj8/fwu/Wz9l/14/Zb9iv2V/Wr9nf3K/YX9pf2Z/YX9mv2k/dn9Hv4B/ib+b/5n/nf+gP5k/oP+pf6T/nH+mv62/uv+Af/7/hz/Nv88/zL/a/9U/1b/Wf9Q/23/gv+C/6j/xf+m/8H/rP/Y/xoAHgBAACIAPABGAEYAaQBAAFgAZgA/ADwAUgBfAF8AXQBdAEsALABfAHgAiwCDAH0AbwBCAFoANAA2AE0ARgBHAEMAUwBQAGgAdQA2AD8AOwA1AEkAPQAxACkANwBIADwAQwBqAGgAdQBxAG4ASgBnAHUAUwBsAFkAbgB4AHQAmgCcAL4A5gDcAOQA5ADjANkA6wDaAOYACwHkAP8A9wABAQgBCAEVAfoAAQEhAU8BRAFlAWIBJgE7ASkBIAEhASoBHwHvABIBAgEgAR0B9gAKASgBJAEPARgB9ADmAOcA+gDXAKkA1ADwAPEA5wDWAMMAgwCTAJcAegBfAH8AqgCsAJwAdgC3AKcAfwCJAIUAewB5AGkAQgBlAIAAkQCmAKQAqQC6ANoA6QD9ABoBGwE4AT8BOAFeAWYBdwGRAYYBkQGtAZMBvAHjAe0BBwIFAiQCQAJXAocCjQJ1ArEC3wLHAtoC0wL4AikDJwNOA0gDXAOIA7oDxQPVA80DzgPeA/UD+wP7A/UD6gMeBO8D9gPgA98DwwPLAwEE7gPbA7UDtQOuA7EDjANpA14DQwNKA0EDPAMsAxkDIQMVAwoD1gLTAp0CZAJMAk4CKgIlAgUCxgHCAaYBkAEzASQB5wDHAMYAxwCfAGcAbAA+ACQALAAAAMz/uP+D/3T/Rf8o/xL/D/8U//b+6P7V/tD+uv7W/sb+nP68/rT+pf7C/sf+qv6t/q3+uv6l/qz++P7f/tL+vf6l/vH+LP8p/w7/+P69/v3+U/9g/1T/Rf9V/4//l/+U//H/6/8SABkALQBPAHIAmwCGAIYAgwBcAEUAYAB/ALQA4gAAAfcA1wDAAOMAxQANASIB8AAVAR8BMAEwARoBMQEoAfEAHQENAQMBAwECARQBEQEhARgBHAH9APYALwEfATQBPAEkAQ4BJAEdARQBNQEcASIB5QDsAOUA5gDXANIABQHYAOoA+wDfAMsAyACwAM8A2ADJAOgAxACjALQA0QDIALoAtgChAI4AkwCNAJkAbgBJAH8ARQAwADMADAAgABkA8f/7/+r/2//d/6j/sP+x/5r/lf+Z/3z/YP9b/1X/Y/9R/17/Q/89/2L/Qf87/zn/JP8s/0P/OP8d/yv/Of85/0//Mv89/0H/Pf9S/0v/WP9Z/3P/d/+l/5v/h/+T/53/wP+s/8D/yP/w//P/0P/f//X/8//q////9v8kABcAFQA3ADIAXABaAIMAfwB8AJgAiACUAG8AeQBpAGoAeQBsAIEAcgB5AGYAVwBtAFYAQQA8ACcAHAAcABIA/P/d/8L/9f+o/5P/gP89/zX/5P7r/pj+iP6E/mn+Nf4K/gP+vP2+/Yz9ZP02/S39/vzv/OT8p/yR/Gr8V/w9/Bj87vvl+8j7mPt/+377MPsV+xL7CPve+qX6k/qU+oz6Sfo8+g36+vnu+fb5v/mf+Xj5Tvlf+S/5OPn8+OH44PjT+Mz4n/iR+JD4avhN+En4L/gR+OD3v/fI96T3kPeL90f3TfcZ9+/29Pbc9tL2u/ar9of2VPZR9lH2OvZS9lD2TvZk9lH2QPZj9kT2O/ZW9lH2Y/Zy9q72zfbR9u726fYL9yr3NPd39433pffX9/73Nfhb+J348fgY+TP5X/mz+fP5Lvp8+q36+Po0+3r7uPvW+wv8TPyi/AT9Hf1g/an94v1G/m7+l/7f/jX/dP/G/9v/JgBtAHwA7AAlAVgBjAGtAfIBHQI9AmQCfQK6Au4CBQMiA0cDZwOfA8YD1wPuAwUEMgQoBA8EMgQYBCgESQQRBDEEJQQYBA8E9wPsA6gDqAPTA7ADigNsA1IDUAMdAxkD7wLfAsIClgJ2Ak4CUAJBAjQCHQIDAtQBtQGUAYABdQF7AV4BXQFPAS0BJwEbATEBEQEqARUBIQEWAeEAGQEhAT0BMQFOAV4BUQFlAYMB2AECAhsCQQKAAowCtQIIAxYDOgNpA68D6QMgBFsEngTnBAYFSQV2Ba8F4gUSBlcGfAbSBugGFAdAB3EHvwfsBxEIJghzCKUI2wgSCUYJRwmECdYJ9QknCk8KawqlCsgK6AocCzALVAtVC3QLeQuBC6QLmAuwC7ALjQvJC8gLrQutC7kLvgvgCwEM3Qu6C8gLtQuSC5oLlwuPC2sLigtYCz8LWwsvC/8K7wqqCr0KwQpvCoEKWAoxCjEKEgr2Cb4JsAmNCV0JcAkYCQEJzwiuCIUITghLCAYI8wfbB8wHlwdfB1AHGgcVB/MGtwZ+Bn4GdQZgBnQGQgYtBhQGMQbzBcQF+QXABY0FmAV3BUcFeAVVBT4FLwXzBAwF4wSwBLQEqgSXBHsEbARqBCMELQQ8BAkEDwThA+AD0QO2A6IDigOQA2YDSgNSAzEDBwMYA/MC7AL2AqoCjAJ3Ao8CfAJSAj4CKwJFAi8CQAI+AiUCGwL8AfAB3gG0AccB4QGuAcEBxAG+AdoBnAG9AaoBZgGLAVwBMQFXAUYBKwE+AWUBVAEdATUBAAEGAQoB3QABAeQA6QDkAPUA6ADyABsB4QDLALkA0QCzALYAjwBaAHUARwAvACAA/P/j/+n/rP+b/3j/Xf9Y/yX/GP/P/rr+oP5r/mP+Of72/db9sv1a/WL9BP24/Mr8e/w7/A380/uI+3P7O/s4+yP72vqh+nj6afor+vD5zvmI+Vj5Vvn5+Nv4svhY+Fr4GvjW9633k/d69xX3Affd9rL2u/aD9k32NPY49i326fXK9bn1qvWn9YP1gvV39XD1ZPVE9Tr1TvVE9Tb1TfVA9R/1C/UO9Qj1G/Ue9fH06PQS9ST1KfVA9UX1YfVq9aD1sPWp9cv18vUP9hf2YfZf9qL24fYG9x33Jvdo94v3xffs9wz4Cvgu+Ej4hPij+OH4Dvkc+WP5hPm3+aj53vn9+RL6Qfpb+lL6bPqp+qb6xfr8+ir7Uft++4X7t/ux+7H70vvj+wP8KPw9/ET8cvxp/G78Zfxz/I78lfzM/Jj8mvzA/JL8y/zC/KH8vvzA/Lz8pPyi/J/8kfyo/I38ivyV/Ib8nvyi/KP8qPyx/Kn8rvyn/LH8mvyn/MH8vPzd/MX8wfzA/N78xPyw/Mr8s/zK/Mb8yPzI/PP88Pzy/An9Df0Y/SD9R/1I/V79RP1b/W/9pv2u/b/90f24/ev90/3y/fr99v0C/hH+Nv4r/kP+Y/5s/mT+hf6L/or+rP6T/p/+kP6l/qj+qf7e/sL+qf7I/tf+7/7X/tv+4v6+/v7+3P72/un+5v7f/q3+8P7R/un+Cf8S//v+BP8M/xD/Jf8b/z//F/8F/zH/Iv8s/2L/Z/99/6L/1P/6/x8ASABIAGoAwADbAOkACQE9AYMBpQHbARECQwJcApoCzQLFAvoCMANCA3cDrgPgA+UDAgRGBFsEdgSaBL8E0ATmBAcF9gQHBTcFRwVnBXUFcQWNBaoFyQXNBboF3QXaBacFqAWrBcQFqQWeBakFpwW7BaoFpgWABZAFhQVtBVYFMAUgBQgFAQXvBMEEtASpBIkEhgRbBE8EHQQDBAgEAwT0A7cDpAOjA4EDcQNkA1EDRAMmAyoDFAMNA/0C1wLgAscCugLHArkCpgKxAssC1ALlAvECzwLBAtcC1gLxAvIC8gIVA/QC+AIHAw0DPAM3A0UDOwNLA28DXQN2A3cDiwOuA44DuAPdA84D6wPuAwMEBQT7AzUEOgRiBI0EXASiBKwEtgTnBNoEAAULBSAFRAU9BUUFegV0BZIFmwWPBcQFzwXDBe8F+wXpBScGNwZSBlUGVQZgBjwGWwZbBmUGfgZ8BogGgQZ+BnYGhgaABlgGUgZKBkYGQwY9BjkGFwYlBjQGGwYaBgkG6wXgBdIFxgWtBXEFiAV0BVMFRwUaBQEF8QT3BMcEqwSvBI4EaAROBEQEMgT5A+UDygPAA70DlwOCA00DMwNMAzUDCQP6AgoD7ALKAskCmwJ7AlwCVAIzAkECQwIYAhsCHAIYAvoB1wGxAc8BwQGrAagBhAGHAYsBjwFpAYYBlgFeAXIBbAFbAVgBXAFsAWQBXAFDAUEBCwH9AP4A7AACAdQA2gDNAMQAzgC7ALEAqwCrAJ4AmABoAHMAaQBUAFIAGgAjACIAHgAfAAwAAgALAPz/+v/q/8r/yv/T/8X/sv/b/8L/wP+h/6f/ov+L/4b/Yf9i/1L/Tf9F/y7/Gv8d/+3+4v7a/sn+wP6z/pT+nf6Q/oP+hP5P/lP+Nv4k/hf+9f3l/dX92P23/aL9nv2B/X/9cf1w/VT9Pf00/Qz93/zA/Lv8rPyQ/F/8Q/xK/B/8B/wA/NX7tvuT+4/7kftz+2D7ZftD+0f7Lvv2+vT63vrC+pf6e/pl+jf6KPoY+gb6D/rl+cP5yvmr+Zr5kPl6+Xr5aflq+U35Kfkk+SL5KPkk+Q75EfkV+Qv5Ffka+Rb5Gfkm+SL5K/km+Sf5JPkk+TH5H/kN+Rr5NPkV+fr4G/kx+Tv5Ofkz+TL5TflE+Vr5c/lQ+Xr5dvmP+ar5rvmp+an5zvnI+ef54fnx+f/5B/ox+ij6XfpT+m/6lfqQ+q76uPrY+sv63/rc+uL60/rd+vH68fr2+vr6EPv3+hX7GPsx+zD7MftR+037avt2+5b7l/uk+637v/vE+9X76PvR++/7+/sW/AX8IPwk/Df8UPxR/G38Zvxo/Gr8jfyR/Jr8ofyG/JX8tfzB/Lr81Pzk/NP80PzO/Ob8zvzV/Nf82fzR/OL89fzV/AL9CP0W/Sb9Gf0d/Rj9Gf0W/R79Pv05/VT9af1f/Wf9Zf17/Yn9mv22/br9p/2y/c/91P3n/QP+GP4v/kD+Sv5w/ob+m/6c/qP+x/6n/sj+vv68/tv+2P4O/wL/I/8m/yr/P/9S/17/Xv96/4L/of+Y/8b/4v/3/xQAMQBFADEAXQBmAIEAmQCGAJYAkACUAKMAvgC9AKQArgC8AK0ArwC8ALwAwwC5ANYAzADVANcAyADVAOsACgH5APkABwHvAPUAGgH6ABgBGAERASEBFwEqARoBOAE7AT0BVgFYAUQBeAGJAXkBjQGVAbcBngG2Ab8BygHfAcYBzAGyAcIBzgG4AdMBqwG3AfIBzwHeAdQBzAHsAdMB6AHlAfABGgIMAhECKgIoAjYCRQIvAk8CYQJiAmYCTgJsAnQCdQKSAoYCgAJ0AnUCbAJyAm0CcAKZAoMCbgJWAk0CdgJwAkoCZgJfAngCdQKIAqACZAKXAp4ChwKeAnwChgKuAsMCwQLDAs4CqALLAqwCvQK2ArUCvQKHArMCfwJ4AqQC1wLGAsgC2gLFAgADGgMUAyYDTANvA3sDkQOBA3IDqgO6A7cDkwNpA1MDWgNYAz4DVAMlAywDEgMPA0QDGQNkA2oDYwN9A4ADZgN4A4kDbgOHA5IDngN5A2YDZQNDAzoDWgMbAxQDGgMJA+EC1gIIAyADDgMaAy0DDwM3AxUDOQM+AxoDJwMfAwMD+ALnAtgC7wLpAugC8gIMAwsDJgMVAxMDUgNGA00DVwNHAxoDBQMuAwkDFwPwAu0C2QLZAgADtQK0ApYChQJ7ApsCkgJwApcCnQKUAqACpgKpAosClAKjAoUCgwJuAn8CTAIfAlgCDgL8ARYC1wHzAQICGgIdAuwBDgL5AfMB7AHyASMC3wEGAhACvwHaAcgBqgGnAVsBGAH2ABsBGwHvAP0AIAEvAQgBQQFiAScBTQEiARkBMgEoAT4BRgFAATIBMwEoASMB1gAJAcMAvAC9AJgAiQBBAEgATwAzAAAAAAC1/8j/zv/G/83/4v+//wsA7//L/+//lP+///H/2/+x/8r/3v/0/6f/iv+x/5//tf+b/5r/fv8t/3P/cv8r/z3/W/9t/0H/BP8D/wH/6/7X/rn+wf7S/p3+mv6d/qD+of6q/hv/6P7f/tv+1/7t/u7+Ef/v/tH+3P6z/oj+Bv/M/rH+mf5w/ln+TP5k/s39v/3e/aX9h/2B/UP9iv1x/Tv9L/0x/Wr9c/2O/aL90/25/ef99f3Q/b39n/2B/XH9LP02/Rb90fzO/HT8k/x2/Jj8zvym/Ir8iPx//Lv8w/y6/O/88/w8/ez8p/yB/Jf8Yfw+/Db8qvu2+8T7j/tz+7f7yvux++n7vPsO/HT8Uvye/Ib8v/zM/IT8ePyG/Hj8pvzW/IH8zvwE/db8q/zi/Az92fzf/O38Bv3M/Bz9c/0o/Xn9W/1L/Xf9Xv1R/ff8Mf3W/E78i/y3/Bn9lvxh/G/8kfyZ/KP82/wg/S790vwW/V39cv0p/Y/9VP0+/YD9Z/0i/SP9Hv1O/V394/wb/dH8wPyJ/MT80Pwu/XL9KP1y/Yr9e/1F/fv8Bf09/Q797/zu/MH8I/yP/Mf8gPwr/DT8tfyU/JL8oPy+/LD8Nf0c/Tr9hf1o/bD98f0B/p79w/3l/Xn9Yf3r/av9Yf1C/Q397Pyo/Kf8b/yW/Br9//z6/PH8Lf0X/b78Pv0y/Wr9PP1Z/bX9jv23/SH++P2q/TX+c/5s/lX+a/6X/tf+xf4c/y7/J/8E/wf/Xv+J/37/Ef85/9f+Ev9q/zD/u/5a/rf+nf5I/nr+ZP6R/mf+mP6o/jH+Ef/9/iz/Vv+I//f/zf+7/73/YQCDACgADQAwAEkANQD7/wIA4P+t/xwASAD5/6v/6v8zAPT/5f/y//L/1v/d/wQAUAANAJf/u/+W/+D/0v+8/7v/wv/s/8n/0/+M/73/OAB8ALMAWQCVAEgBFAHpAOYAggFpAY0BIgKRAaAB7QH9AQMCEgIKAmICrQJoAmwCAgP2Ar8CdwLyAi4D2gIRAzUDbwN8Ao4CYQI/AlECPwJ7AtQBPgKmAmgCOwJGAjoCNwKsAv4CAwMQA+IC8QICAw8DeQOKAwYDfwPlAywD6gIFAzQDEgNjA3kDmQNBAxMDKwPWAkIDFQPNAk4DVANxAh8DQAOTAiECDAIlAs0BQwIaAvEBKAL8AQ0C+gHwAUMCAgJQAmkC2AL2AiQDDwMGA3EDlgOXA1YDjAN8A/ADdAORAx8DFQNFA0oDIQP3AiQDlgKnAoUCowKsAtQCFgPlAlYCbgJ5AgUDDQNeAxYDwgIRAyUDKQMpAyAD1QIzA+8CZQNAA6ICewKSAsACFQPkAsACngLPAkwDAwPaAu8CCgPRApoCxgLwAlsCcAKUAmYCSgJZAtgCrwJ/AnACTAJ7AkkCmQLuAvwClwLRAtwCRQJBAlkCDwNTA/EC3wLRApQChgKGAnECjgHzAREC9QH/Ab8BzgF2ASMBagHDAc4BBwK2AWECKgJWAaIBSQIJAgkCSwI1AvQBFAK3AlEC8gGqAZgBgAFdAQ4BYwGmAYYBfwEsATsBdgGvAaUBuQH8ASQByADZAbcBVAFcAVcBXwFQAWwBmgEsAd4AWQF0AfgArQC3AMQApACVAK8AcQC9AC8BuAFFAXkAQgBTAMMArQANAQwBqQB3ALYA6ACfAH8AfADDAG0ALQAfAPb/HwBMAGsA8f/k/9f/2P/F/3z/uP+V/xoAQwCh/0L/4f4L/3T/xf+Y/9D+Ff99/x3/AP9u/jH+P/6+/mz/LP/s/s7+1v7Z/p7+mP5J/m7+df8o/5v+jP7V/r7+Mf8h/z3++P1e/if/OP8H/wD+mf2L/fT9xP3d/WP9Yv1Q/tP9fv0K/U/9hf2o/b79Jv1w/eD92P1F/hH+tP37/X7+Ev/z/sv9ov0L/oT+Xf6S/bD9of1m/VX+Qv6i/Wb9jv3m/fT80/xm/EP8zfw9/U79j/wn/K78G/0v/Rj9If1S/eP80fxv/Vb9Df19/aD9hP3b/J/8ov09/r/9P/2D/Mf8Vv1d/aH9T/2a/VD9t/zW/J38uvwb/Sj9LP2m/KX8Av3f/C/9AP0C/Sb90fze/EL9Mf2+/KX8lfzC/Jj8gPyX/EX8afyI/LX8hPz6+8P76/s+/Dn8Mfyf/MH8pfyC/Av8p/vB+2v8Jfzm+/z7S/wG/Mf7Lvzi+/n7iPx//Gb8Yfyh/Kn8iPyB/DX8R/xC/P78TP3w/DL89PvI+977h/xE/Cj8Ovyu/Lr8fPw1/Ff8KP1e/Rr9V/03/ZT80vyR/Vf+x/3i/DT9Tf3E/Qn+pf32/Ur+ef7k/fj8wfwj/QX+bf5U/h7+y/3Q/XL+ZP4U/gf+8f1h/lL+V/5O/i/+ZP6Y/iD/H/7b/Y7+6f7e/oj+Wf4V/kv+2f1S/tb+g/6T/sr+0v7N/pb+FP68/UD+C/+W/hj+Mf42/m7+KP5e/sz+nf53/lj+7v15/ev97f1s/h3+AP72/kj/3P+m/wr/4v4S/z//F/9Q/+r/3f86AGIA2/9DAJ8AfwBVAEcA0v/R/3oAWABsAFEABAAvAEYA9f93AKcAIgBLAEsAgABpAJ4ANQHtAJUAywDkAOwAngBHAUYBcwC8AOQAvgALATIBvQAeAfIAHgFnARwBOwG1AXwBKwEQAV4BiAHvAAQBTQG8AV4BqAGAAvIB4wDzAFcBxgFzASoBmQFTAXsBBQIfAucBIQJQAl0CVgJ8AtMBzgGSAjQC6AHPAUoCSwMVA08CoAKcAjoCbQLqAkMDTwNXA2gDcgNOAzoDYwN3A7UDdANxA5UDhQN9A3kDWANkA5UDRQMJBNYDywMCA1gCkwMjAzQDGAP0Ah0DGgOLA5kDlwNSAzwDFQNsAyED5wK8AwsEigMdA1ADYwOUA/MC/wJXA/oCXANvAycDoAPZA0IDFANKA4QD8QPyAy4E1AOfAz0DiwJHA+MCJANAAwQDXwN8A2cDpgJfAukC7QLgArUCtgKIAwUDuQKXArIC3gJEAhoDUQOjArEChAISAyoD4gJ+An8CxQKHAq8CmAJAAnACfQIKAkUCWAJdAoICEwLjAVsCVgKaAcMBlwL+AfIBVgI3AkYCTgKpAiwC7AEZAvEByAHUAVUCqQIPAjMBYAFdAbYBpgGHAeABXgFrAVUBggFrARYBNQHJATYCSwIwAg4C0AFRAdcBrQHvAZkBfAEgAo0BSwGPARMCrAFqAaEBvwFQASUB/wA9AVIBagDnAEcB8AASAU0BigFHAf4A+wDjAMIA3wCqAPoAjAHyACsBGAGiAVcBYgBZAHIA/QCIAPoABgFoAKAARQC2APsABQDR/04A6QD/AIYA7/+A/9X/Y/8U/+7/iwCYAOv/xv/T/8f/cf+F/4n/hf9x/1n/PP9a/yP/Ev9o/3b/KADc/+P/Nv9U/xj/Wf+9/+P+J//B/gj/If/8/h7/GP9S/3H/Av9K/z//KP94/6r+tv6z/kT+L/59/vT+Y/6j/ib/Xv86/yD+8f04/mf+Tv6Q/nf+av7v/h//kf/f/nj+aP58/h3/vf6M/qv+D//S/jP+N/4u/pf+/v5f/qT+FP9e/pL+w/5l/ln+eP6Q/sr+rf5H/l7+3v6S/rj+p/51/oT+X/63/oz+tP4X/v/9Tf48/hL+8P1o/sP+qv79/cP9Af5y/ln+Vf7B/u3+9/7F/nb+Xf78/dP9Wv5x/m/+L/7q/vf+9f1c/k7+MP7f/Q3+Fv7R/cP9yf0+/hn+zv2f/ev9Tf2n/Wj+Uv6b/kP+dP5e/hn+IP5x/or+Af5+/i//Lv/d/oX+OP5u/pn+p/7n/v/+w/5w/rf+sP5E/j3+9v1i/uj+X/7d/gT/of6k/i7+Pv5r/jL+p/5s/uP98v4d/6/+KP6r/Sj+RP5b/l3+RP5m/qz+Af+F/sX9Of6g/nP+aP5c/rT++P7+/RD+Kf4//rf+M/6k/lf+j/7Y/lP+If5i/mD+if7Q/q/+U/8D/w7/If+U/qL+pP4m/wH/j/6Q/qL+2P72/jH/Jf/B/tH+Kf/k/tb+wf7U/oj/zf9//3//Nv/7/sv+KP+Y/9P/9/+F/7f/sv8aADEAwv+z/2P/b/+w/5//sP+z//X/WwBgAM7/0//r/63/6//8/1YAKwDg/5f/0P+7/6D/CQDt/z0Arv8AAB8Au/9DAD0ApP9e/+L/u/8dAE4AdACoAHUAOADu/3AATwBfAAIBnQA7ANEAnAA3ADcAu/8xALsA5gDsAHYAOgAJAPv/8/8cAKUAZwDq/ysAtwB5APn/8P/+/0AAlwA6AC8AvgBgALkAdgAxALwAlABrAHMAYAB9AAEBxgCGAHcAYQCTAKYAlwDUAKwAQQCPAK0A8gAEAVAANwC/AK4AyAApAe0AywAjACEA5QBgAd0A+QAXAdwAGwGkAJwAuAD7AMkACgFlAScBMgEIAcoA2QDvADABbAFSATsBawFWAWoBmgFhAWEBPgGxAf4B1AHPAcEBlAF9AfMBzAHSAcsBnAGoAboBCAIAAgECsQFyARYBVgH2AbwBbQGKAZQB6gHAAZgBjAFaAaYBfQHAAfYBmQGAAbgBVQFjAVkBWAGmAZ8BrwFDAWcBewEEASQBOQEwAYwBhQGFAZwBFwEhAWIBQQEfAe8A1AAWAR0BNQFZAT4BSgGnAL0ANAH0ALAA+wAgAScBVQE6ASkBPgEbASoBXAEhAWEBwQGMAc4BmwFTAf4BbAFOAVUBgQHqAZoBSAGeAaYBhgGwAXIBnwFYAXEB1QHCAXUBLwFGAV4BXQFpAWcBjAGFAZwBfwFtAQcBNgFyARcBNQFIAXABIAFXATQB+ADsAO0ANwF7AYEBQgEUASIBQgHLAAwBDAH2ACYBxQDRACYBogCXAOoAPwBfAIsAkQCMAEcAQQCTAEsA2P/1/w0AcADZ/8f/EwD9/83/zv/K/2z/qP99/z3/SP8r/2b/sv9V/2X/Hf/Z/lv/Df/G/iL/Cf/L/sP+8P4A/9f+pf58/qX+mP6J/lj+fv6Y/p3+QP5A/lP+N/6Z/kv+Y/5+/mX+Uv5Z/mb+O/4f/jz+bP5f/m7+VP49/kv+Sv6C/lv+Kf5B/sf+df47/pr+Uf6F/pL+cP6c/qH+a/6q/nL+p/6I/mz+xv75/uP+qf77/qb+FP/+/sj+yv7M/pX+kv7R/rf+CP/w/vH+6v6n/q7+6v6H/nj+vf7x/sb+VP5+/rL+z/60/oD+mP5x/lD+jf5j/mX+a/58/rL+nv64/gT/C//N/r7+9P71/qz+1/7p/gv/BP/g/u3+7f7s/vH+6f4B/yn/Cv+M/tL+b/8V/zn/BP8H/x7/OP/g/jz/Pv8D/6X/C/8k/zD/Kv8a/+/+s/7p/uP+6v5N/wj/Bv+H/nz+zP65/rr+p/62/vP+9f6q/mz+av6R/mP+if5L/lL+kf5Y/pn+iP5M/kv+Yf42/nr+d/7z/QP+Pf40/jL+Kv4H/hH++/0s/hT+7/01/ij+J/4d/uf9Hv5g/vP9T/6G/k/+h/5H/vz9Of4p/mP+bv4b/n3+ev4c/kL+ov6X/tn+mf6l/sD+3P7C/uT+K//Q/gX/4v41/zn/FP8g/0f/YP8i/1f/GP/0/kv/NP9E/2T/XP+b/2n/Wv+i/7n/l/+r/6n/qf/O/9n/9f/d//T/EwAsAOX/EwA1ANv/7P8VAAsAEwAGAEwAUQAyAEUAGABRAG8AhQB5AFYATAB3AIwAUAA9AJgAdwB4AG0AfABsAKsApgAYADwAGQBSADsAJADv/+D/zv+x/5//ef+//8n/r/+X/57/i/+N/3f/T/8s/0T/j/+R/5L/wP/C/2L/gv88/4D/pP87/3v/TP9j/0f/dP8f/yH/Mf/9/if/Av8A/73+DP/p/gT/4f6S/tz+8P4X/8v+0/7U/uD+/P7Y/s7+8v77/t7+9P7t/iL/Hv9G/zH/JP9+/zv/Uf98/3P/hf+g/3L/vP/c/4//3v/X/9b/1/8FAAAASgCIAGUAWgBMAKEAcgB1AHcAmQC1AKwAvADgAO0AzgDkAAYBHwEeAVkBLwFTAX4BjwGfAW8BawF1AfQBwgGCAYsBgwGLAagBcwGSAfABrwHoAeMB/AERAvIB2gHdAfkBQgJAAvwBAAI6AlgCVAIwAlkCZwIfAkkCKwJqAmICGQILAjQCBQL4Af8BsgHRAdAB0wHCAXwBiQGoAZ8BbgFXATYBHwEuASMBRQENAeUA4gDrAO4A6wCsALgAyQC+ALIAfABzAIAAiACCAFkANwBUAAAAEQAMAA0ANwD3/5X/zf/R/43/rf+S/7D/oP9x/4T/uf92/3f/kv90/47/i/+y/4z/ef+C/6L/qv+c/4z/tP+//3b/2P+2/7j/0v/e/+P/6v/V/8b/NgDi/7L/6P8AAA0A9f+u/8L/+f8wACMAFQBGAEsATQBJAGQApgBpADMAaACbAKoAogB7AE4AlQB5ALMAiwCrAIMAWQCdAKUAwwCHANAApgCcAKsABAHlAJ4AqgDIANwABgEDAd8A4wC7APQA2gAbAdgA/gAOAc0AJgEBAfIACAHaAMAA/gCrAMAAxwCzAOQAjQCAAKkApACQAKEAeQCdAFYAWwCUAEwAXABaAFMAPABpAEcAbQBVAE0ARwAwAJIAXwAjAEIARgA5ABUACQBfAAoABQAgAAcAEwAEACMA8f8pADUA3v/E/9v/EAD0/w8A2P/S////uP8MABAA9v8YAPn/8v8LADcACQAhADgAKwBBAC0ANQArAGkAYwBpAGgAQQBWAFUAcwB1AHcAQwBeAHwAjQBvAGQAmwBwAHQArADRAJEAiQCmAOAAqwB+AKcAuwC8AMsAyQCaAOsA0QDXAKgAugAGAcsAxQCuAMYA1QDlAPEAywC8AMIAtwCGAMAA3gCkAJUAmADDAKIA9wDeAMIArAB5AM0ApgCjAMEAwQBxAHgAfgBrAIwAdABoAFEADwB4AGMAOQBfADcAWwBIAEQAGADm//X/QwA7ACcAOQAsABwAMwAwAC0ABAADADcAIwAfAEYAHgDb/ysAKQD7/woA3P+3/xcA+P/u/+L/q//R/xMAAADO/87/lf+Y/7//m/9z/7f/zP+x/6n/u/+e/7r/cf9T/5r/Yv+b/2r/dv90/4X/iv8g/0b/Iv8W/w7/Wv8d/wT/Fv/R/iv/1P76/iP/4P70/hH/F/80/zX/5v7s/gb/Jv8i//b+Kv/5/uf+Wv8s/0b/GP/5/lv/O/88/2H/NP9P/0f/Gv8o/zf/W/84/yL/Xv8q/1P/iP8M/2X/Yf8//5T/Iv9H/7T/M/+Q/3j/d/+L/2r/qP+R/6n/qf/F/5L/uf+L/5T/a/9k/43/TP9u/43/VP8s/0T/Mv9L/0X/Q/8z/wX/BP8H/+/+Ff8Q/yz/9P4C/w7/3/7+/sT+CP83/+j+Ef8O/wX/Lv/Z/v3+DP/k/tT+6/7T/g//Gf/X/gj/8/68/rf+xv63/sz+9P7L/oj+xP6e/pr+q/6s/sj+tf6x/tr+wv6z/sT+qP7G/sL+uf6P/pH+rP7W/sT+yf7J/pb+2v7W/qL+zv6b/nX+j/6u/sT+uv7d/qj+vP69/o7+0/7q/sj+1f7i/u7+C//8/hf/VP8Y/yn/MP9J/1n/Tf9w/07/ZP+E/2L/Rv91/4D/kv+I/4n/sP+1/47/nv+h/4f/sP+9/7P/1P+i/5D/tP/e/+z/3P/1/+H/y//t//H/4f/i/9z/CADv//v//P/h/6D/0v///8D/4//D/7L/pf+Y/6H/i/+S/3v/cf+T/4r/dP99/5T/g/9h/yn/QP98/23/Rf8t/2D/Vf8+/0v/Qv9O/2//Zf9F/1r/Nv9Q/2b/Qv96/2L/fv+N/13/gv+B/47/Z/9p/1v/aP91/3X/pf95/2n/h/90/4b/xf/a/5v/kv+z/5f/2v/4/+T/5P/s/7//8P/5/wEAEQDO/9L/x/8MADMABQANAA0A5v/z/x8A3/8BAAwABABCABsAQgASAPv/IAA7ACkAMwAAAAoALgArAF8AKgAuADwAVgA8AF4AXwBfAFAAUQBaACoAdgBiAHoAmgCNALAAigCUAJ8AugCxAK0A1ADZAPMAxwDKAOIA/gAOARABGwEvATsBDgELATcBMwFMAUYBPwFaAVMBYAFJAVcBNgFTAW8BkAF8AT8BgAFkAY0BcAFvAU8BMAF3AUIBcQFaAV8BSQFRAYsBZAFsATwBXAFKAUsBKAEkAUIBNgEjASMBQwEUAUABFAEuASEBAwHqAOcAHAEYARsB+gDtAO8AIQH8APgAGQEJAdIA2ADmAPYAGwEGAesA/AARAeYA9gDoAM8A4QDXAMkAswDJANYA2gDSAMcAzgDlAOIApgCaAKUApACfAL0ApAC1AM8AuADGANsA8ADwALsApADUAMIAuQDiAMAAzADVAKQAxQCRAJ0AmQCXAMMApACdAJ8AlwCOALIAyQC8AKIAwQC3AL8AyQDBAMcAvwDiAPAAxAC/AOQA1QDjAMUAugDlAPEA+gD5APcA5gACAdgA1QDGAKYAvgCaALwAvwDMAMYAzQDIAMAAuwCdAKkAmgCOAKMAqACLAJIAfwB9AJMAhQBwAGAASgBfAJAAgwBxAFoAUABrAFEALQAtAFwAQwAbAPr/1/8VAAoA8P/R/+P/6P+c/4D/rP+y/6f/pP+I/5T/sv/P/6T/ov+n/5r/s/+A/3v/dP9c/3v/Yv9m/2T/f/+G/2L/dv9f/1D/Rf9E/z//L/8x/wD/A/83/z7/Ff8b/3H/Sv8s/0b/Lv81/1v/Vf9K/2r/bv9v/03/b/+0/7H/pP9w/03/Rv9q/33/Xv9D/1r/Yf9f/4v/f/+V/6X/jv+d/5b/o/+A/3r/wP/O/7T/sv+W/4L/5//k/97/tv/A//T/1P/7/w8AJADi/7v/y/8CAAYAEADq/7X/FQDh/+z/+//3/x4A7v/e/57/pP/s/8f/vf+9/8X/6P/C/9z/4//S/9n/vP/n/8z/1//7/+X/6P/f/+b/DAAeAO3/yf+t/8f/6//w/8D/r/+q/7b/0P+9/6X/gP+R/6P/kP9u/5v/kv+F/3n/Vf9m/3n/h/9z/4L/Yv9//7f/nP+g/63/tP+p/3r/h/9s/4L/uf98/1n/UP+R/6L/ev9M/zj/D/9J/6//av9R/zz/Xf+L/33/YP9L/2f/a/+a/4r/df9e/1z/lf+k/6r/e/9t/2j/mv+c/6f/lP9w/4r/aP+F/5H/n/9y/1//g/+b/6b/lf+l/3j/gv+M/3f/of+P/4H/hv+K/2n/dP+5/5r/nv+G/3//mv99/6P/qP+Y/3//ff+w/6j/sP+r/63/ov+K/7H/q/+//5z/sP+n/6X/u/+l/97/v/++/6b/hf+q/8H/sP+q/6z/r/+i/8j/7P/c//j/BQDx/9z/3//Z//7/CADg/+T/2f/m/+P/zf/U/8P/6//u/wgABgD8/9T/wf8FAO7/5P/d/+r/9v/Y/8z/6/8FAA4AGgAEAO7/+P8UAEwAJQAKAPf/5v/7/9n//v/1/wIAHADz/wsAHQAjABUAFwAyABsANQAxAD8AQwA1AFkAXABcAD0AhgBlAA4ANgBUAFAAJQA8AD0ALgAnABcAXQB2AEIAIQAKADYAYgBTAGEAbABZAHkAhQBsAIEAogCNAH8AcABiAGEAYQBcAGAApACKAGEAegCSAIoAaQB/AHYAVQBSAGgAkgB3AGsAWABKAG0AZABgAEsAXgBnAFIAkQCpAJwAngCqAJYAewCLAJUAuwCWAIwAxQDXANgAxwDVAPcA3QCxALMA6AARAdcAywDLANQAxACuANcA3ADCAKwAzgDoANYAzQC+AMUA2ADeAMEAqQCxAKIAxACrAJgAyQDFAKUAsACvAKQAmQCWAI4AeQBtAGYAdwBfAF0AYABQAEgARgA3ACMAHwAqACsAMQAFAP7/GAAmACYA/P8PACQAHQAHABEAMAAeAAUA+f/5/w4AFgAAAO7/6P/U/+b/+v/5/+H/1//Q/6H/rP+x/7z/2f+2/57/y//a/+j/4P+v/8z/0/+z/8H/3v/S/7X/uP/k/9r/qf/L/97/1v+4/6T/q/+d/5n/pf+z/7b/mf+P/4//cf93/2n/a/9v/0v/W/+J/4z/h/+Z/4//dP9h/1j/Z/9j/3T/cv9k/2n/Zf9l/13/Zv9w/4D/Zf9g/0n/Vf90/0D/S/9A/zf/YP9Y/zr/MP84/zf/Sf9J/17/O/8Y/zn/NP9L/0X/Lv8j/z3/Nv8T/wz/R/9W/0L/fP9f/0r/Tv8x/z7/NP9B/0D/K/86/xf/Gf8s/xT/C/84/yr/Gf8I/xv/N//9/tn+6f79/gP/B/8R/zj/Iv/5/gf/O/88/zf/HP80/zr/Kv80/zz/Uv8x/zX/Gf80/0n/Sf9X/zn/Pf88/yH/MP89/yj/I/9M/1D/OP8//0r/Q/9E/zv/SP9n/1X/bf9w/5v/iv+U/6L/kP+m/6L/qP+c/8z/yf/Y/9b/vP/P/7f/w//Y/+b/5v/n/wgADADx/+//DwANABQABAD6/xQADwAaABcAHQAdABsAOAA/AFAANAAyAEYAOQA/AFAAZgBHAFEATQBHAF8ATwBiAEIANwBbAGQAYwBIAHMAbQBeAGMAXgBpAG8AcQBJAGUAcgCAAIYAigCdAJMAeACMAK0AmgCiAJAAoQCuAJgAoQC1AL8AtQCeAJgAlgCJAJMAlQCBAIEAgQCFAHUAagCCAHgAiQCSAIkAgQBxAHoAiwCMAIcAigCHAJcAqACwAK0AqQCkAJMAggCRAJ8AkACoAKgAiACLAI0AhQCCAI0AhACAAJIAggCaAJcAdgBwAHgAeAB/AHMAdgB6AGYAcgBvAG4AewBtAGMAcABmAGUAXgBkAF4ASABPAF8AQwAnACoARABFADMAKwAsACcAGgAwACsAMQAgABoAPQAwACMALwAlADoANgAmAEMAKwAtACsAJQAlAPv/CAAjAC0ACQAHACsAGwAUAA8AFQAYAAAABgAQAAMAAwANAA4A5f/l//T/9P/f/+z/CgD6//D/6f/w//H/6//r/+z/8//u/+v/+f/y//j/6f/o/+r/z//K/8D/tP/R/9b/vP+z/7D/1//L/7T/wP+n/6H/sv+h/63/ov9+/5j/jP+W/5z/eP95/3b/av9j/2f/af9n/13/bv9V/1D/SP9B/0P/JP87/z3/Qf8Z/yj/P/8U/yj/Iv8d/zr/Gf8S/xz/GP88/zL/Pf85/zj/Qv80/0r/Sv9E/z//Pf9E/03/T/9U/zX/L/9E/z3/U/9Z/2D/V/86/0b/Uf9E/2H/YP9N/0n/Tf9d/1//ff+J/4P/aP+D/5j/lv+N/4//mP+A/5r/nv+i/5D/if+A/4v/mP+I/4j/gv+b/5H/av9r/3v/bv97/4z/dv9e/2v/Z/9t/27/Uv9W/0n/Uf9j/1T/a/9R/1j/Yf9b/2v/W/9s/2f/Yf9V/17/Wv9Z/0j/Wv9I/y//Xv9F/0j/Vv9T/1//X/86/zH/HP8m/yT/LP9S/zj/Tv9P/0//Lf8t/yr/Jf86/yT/MP8j/zH/Sf8s/xz/MP8c/xz/L/8g/yT/I/8X/yL/KP8Y/wj/Gv8o/xD/Ff8a/xD/EP8W//P++P7s/u3+Hv8M/xr/KP8q/yH/J/8Z/xb/N/8a/wf/F/8Z/xX/H/8p/yL/G/8O//v++v7//g3/Cv8a/yH/Iv8n/xr/Nv85/zf/Qv9B/0X/N/9F/zj/QP9c/z//Uv9b/1r/Vf9V/1//av9f/1T/Xv9b/1D/Wf9R/1r/bv9P/2H/Uf9s/2r/V/9n/13/av9h/3b/ff99/3X/d/9x/3X/mP+a/5z/mf+c/6H/s/+d/4v/nf+I/5z/lf9+/5j/q/+t/6n/r/+6/7T/qP+//6z/rf+w/7T/yf+6/8r/zf/Y/9j/2P/j/+v/7//n//H/BwAKAAcACwAKABMAFQAgABkANgA9AD4ARQA9AEUAQgBUADYAUgBaAFMAZgBbAHIAYwBrAIkAiQCdAIYAiACfAIcAmgCdALIAngCtAK0AsgDVANIA8QDTAOcA7wD0APMA9ADsAO0A8ADmAA8BAAEPAQ8BFgEJAQQBHgEhASkBHQExATEBHQEdAUEBVwFOAU4BWAFiAVUBWwFdAWQBYAFRAX0BdwFzAYEBfgGMAWsBVwF0AWgBYwFqAXABbQFnAXEBaAFxAV0BWAFzAXcBdgFtAV8BaAFZAWkBjQGEAYIBcwGEAZMBbAFqAWgBXQFqAWYBYQFpAXABagFlAX8BcAFqAYsBawFvAXABcAFsAVkBagFaAXIBbgFjAXUBdAF1AVwBZAFaAWEBcwF4AXMBhAGSAXsBdgF/AY8BdAGGAY8BcwFZAWkBagFRAUgBRQFHAUgBRgE8AUkBOgFGAVEBOgE6AVIBPAFCATgBHgE6ASIBHwErARgBJAEbAQ4BCgH5AAcBCgHuAN0A8ADzANcA3wDUALEAuwDGAL8ApwCtAKUAkQCLAIoAjQB/AGwAfACJAF8AewCDAF4AYQBoAGcAXQBZAGcAcgBpAFsAXQBmAFwAXABhAGoAZwBsAGkAXwBUAD4APAA3ADYAQQAzACgAMgAmADEAKAAmADEAKAAvADMAJwAwADwALwAwACwANwBHAEsAOwA6ADEANAA7AB0ALQAlAC0AIwAPAPf/DQAGAOL/7P/V/+7/2v/y/8j/x//t/8b/7P/h/9H/5P/k/+H/2//d/+H/4f/U/+L/2P++/9P/uf+3/8H/v/+7/7//vP+9/7v/tf+0/6b/vf/B/7D/q/+s/8P/qv+o/7n/pP+i/6D/tv+9/7r/qv+w/7b/vP+5/8T/uv+d/6P/n/+l/53/nv+N/4v/k/+R/4j/mv+U/3X/g/+Q/4f/gv99/2z/bf9s/2j/bf9q/3T/if98/3v/ev+H/3j/gf95/33/mP+D/6H/h/+d/6j/j/+L/5X/fv9e/2H/Qv9h/1P/Xf9W/0z/UP9C/07/MP9F/zj/Lf8u/yv/Nf86/zL/Lv85/zL/Qf8r/y7/LP8s/zD/HP8e/yn/HP8N//v+6f4C/+r+4P7e/vb+A/8B/wT/5f4J///+8/7//ur+6v7s/uf+1v7Z/tT+1f7W/tD+1v7S/tn+2/7e/t/+zf7Q/tD+uv62/sP+u/67/qz+sf68/sD+3f6+/r/+y/7S/sz+zf7Q/sv+4f7O/tr+3f7V/tz+2/7Y/tH+4v7o/sj+2/7l/tP+0/7Y/tj+zf7S/tf+7v7n/t7+1v7Q/tj+y/7L/sv+zf7S/s3+z/7Q/tf+zv7Y/uT+0/7f/tT+4/7p/uX+9v4D/wj/CP8R/wv/C/8G/xn/E/8V/wv/9f4V/xD/Gf/6/vD+Dv8V/xv/D/8c/xf/GP8e/zD/MP8h/yj/Lv8+/0P/O/9A/17/Xf9X/2T/bP9s/3T/hP+A/3X/cv+I/4L/fP+D/33/gf+D/5X/gf+E/3n/ff+d/5f/of+W/5r/mf+h/5z/mf+T/5j/sP+0/6n/pv+1/7b/rf+e/7D/rf+y/7b/tP+5/6f/oP+p/6P/n/+h/63/tP+2/7v/sv+7/7H/of+e/6r/uf+6/7X/t/+1/7v/vf+1/7f/wP/X/9j/3P/d/9z/9v8AAPT/9v/9//n/+//+/wUACwANAAoAEAArACsAKAAmACkALQAlACwAJgAiADMANgA5ACgANwBVAEsAUQBQAE0ATQBbAF4AYABeAGAAdgBvAGAAZQBxAHAAbACRAIMAdACQAJAAkwCNAJcAlACLAH8AiwCPAJUAlQCSAJAAlACcAJEAqwCeALEAqQCiALkAtwDRANgA0wDgAOgA2wDUANUA6gDuAOoA8QDqAPEA7wDwAOwA7wADAeYA7QDiAOIAAgH+APwAAgEUARoBIgEjASMBIQEkARwBHwEbARgBPwE1ATIBNwE3ATkBMgE9ATcBMQEXARgBKgEWASoBMAEyASkBEwEpAQ8BGgEpASQBLAEnAQsBCwEjAQQBIwEeAQsBIAEmAR8BEwH8AAQBGwH7AAIB+gD5AP4A9gD5APoAAAH2APAA9wD6APoA/gD8AOgA4gDoAOYA7gDhAOIA4wDjAOMA2QDiAOAA5wDTAMwA3ADgAO8A4ADaAOQA2QDgANEA3ADeANIA3gDAAMYA1QDSAMcAyQDQANwAwQDEAMUApAC5AKUAowCqAKIApgC6AMMAwQDGAMAAwgDDAMcAxADDAMoAxQCuAKwAoACnAKcAoQDCAK4AxwDDALEAzQCzAK8AqgChAKgApwCeAKoArAClALEAqQCpAKsAnwChALEApAClAKYApACuAK0AqACTAJMAkgCVAJIAkwCEAHYAaQBkAHcAYwBmAGAAYQBkAGEAaABmAF8ATwBgAEwAUQBFADAAUAAxADAAKgAlAC8AJAAyACkAGwASABAAEAABAAMA+P8EAP7//P8BAOj/6f/m/+P/0v/Q/83/zP/K/9D/tv+z/9D/0f/M/7P/wP+z/7n/wP+w/7f/vP+4/6f/vP+2/7z/vf+n/6n/qf+e/5n/pv+S/4j/jP+f/5b/cv95/2//ZP9s/2T/Yv9d/17/S/9L/03/Q/9L/0r/Sv9L/0r/S/9l/0//Tf9M/zT/Mv83/z7/M/9D/yz/JP8j/yT/KP8M/xz/Cv8H/wf/B/8R/wj/EP8D/xH/Ev8H/y3/Mv8l/zb/Lv8l/zX/MP8s/y3/LP82/zX/Of8w/zj/Q/9F/0j/Nv8u/zT/Rf8y/zT/OP8x/zv/Mv89/zH/Of9F/zL/OP8d/xH/IP8w/zf/NP80/zT/QP8y/z//O/85/0H/Iv8U/w3/CP8Q/xH/Bv8P/wz/Cv8M//r++f7//vT+8v7c/tX+2/7b/tr+1/7T/rv+0P7T/sr+1P7Q/s7+1f7O/s7+0v7H/s/+6f7v/ur+7/7s/vP+7v7u/vX+9P7w/vn+7/4O/xX/+v4P/xH/Ef8V/xf/Ev8s/xX/GP8l/zH/O/8t/0L/Q/9N/1X/Q/9V/2L/TP9h/0r/Rv9S/0n/Q/9R/0v/TP9V/0z/Vv9T/1H/U/9Z/1P/Uv87/2L/Uv84/1P/U/9r/2v/cP9t/2//dP9w/27/a/9s/27/g/+G/3r/pf+d/4j/gv+E/6D/ov+l/6P/qf+o/6f/qv+j/6b/u/+5/8L/vP+s/7v/uP+6/7v/uf+8/7L/u//X/9T/1P/Z/9b/2v/m/+z/6f/y/9f/2v/n/9j/6f/S/+z/7v/c/+H/0f/Y/9f/2//P/9L/2P/W/9L/1f/h/+L/5f/n/+X/7P/+//z/+v/3//7/+v8BABwAHgAhABkAIwAQAB8ANQAdADUAKQApADUAMAAqACcAMQBLAEUAQwBMAEcASQBEAEoAVgBbAFsAZQBVAFsAbQB4AHEAdQCMAJIAhwCAAHYAfQB8AIIAkwCGAHcAfwCdAJUAkQB+AJIAmQCVAJsAegCAAJQAcgBwAI4AkQCTAIkAiQCTAJUAlACeAI8AlACOAI4AnQCaAJ4AnQChAKYApQCdAJwAkQCZAJAAgwCVAJgAlgCWAJIAlACeAJIAngClAKUApwClAJ8ApwC9ALwAuADBANkA0QDOAMwA1QDwAOgA7ADqANcA7ADtAOcA8ADlAPQA8wDrAP4A+QD+AP8A/gD+AOMA6QDyAPQA8wD6AAoBBgEEAQoBIQEZASUBIgEJASEBHwEkASgBOgE4ASUBNQEmAR8BIAEiAR8BHwEmAR0BGwEiAR8BJAEfARcBHwE0ASsBIQEiARsBIwEiAR0BFwEcAR8BFgEaASgBLwE9ATcBLgEuAS4BOAEyASgBMwE2ATcBNQEhASMBIgEeARwBIAEXARsBGgEDAf0A+QAdARoBFgEdARcBHgEYARkBFAEiARkBHwEdAR8BHAEBARgBHwESAf4A8QD5APYA/wD2AO0A6gDhAO0A3gDpAOMA3wDaAOIA4QDCAMsAxAC7AL4AuADAAMUAsQC2ALgAwQDKAM0AwgDOAM0AvgDQALoAtgCvAL4AwgC3AMkAuwDQAMIAvQC7AL8AuACqAL8AngChAKIAnACiAJoAogCcAJEAkACYAIUAdwCEAHcAcwB2AG8AZABWAFYAXwBXAEYAOgAxACUAHAAdABkAHQAOAA0AEQDu//b/6v/v//D/3P/k/+//5P/F/97/0P/I/87/y//K/83/0f/O/8//1f/Q/8X/v//A/8P/sv+8/67/tv+7/7H/rf+n/8P/u/+y/6z/kP+S/4z/kf+U/4b/gv+U/6f/if+N/6f/qP+l/5D/o/+t/4r/pP+o/5P/lf+O/33/d/95/2n/eP9y/2b/XP9b/1n/QP9E/zL/Jv8u/y3/Jf8N/w//CP/8/gb/9P7y/vj+2f7Y/u/+1P7Y/uH+5/7f/tH+0v7O/tD+tv66/rL+s/60/rP+pv6k/qf+kP6J/on+f/6D/pn+g/6B/of+ff6M/qf+p/6o/qv+rv6Z/pX+lP6Z/qH+l/6g/p/+pP6i/p3+qP6l/pr+qP6W/pv+n/6l/qD+jv6J/pb+of6P/pb+jv6R/pL+l/6Q/pX+k/6V/pj+mP6W/pP+qP6j/qz+pf6q/rD+qf60/qb+mP6X/pL+jv6V/qH+nv6k/qT+lv6j/p3+j/6K/oL+m/6a/pn+iP6F/pn+lf6a/pz+tP62/rX+tP6z/rv+sf65/rT+uf7Z/tj+2/7d/sP+vf7Y/t/+5P7j/uD+3v7j/uP+6/7r/uf+6v7P/u3+zf7N/s3+zf7r/tf+7v7w/vX+9v73/vn+9f74/vn+9/4C//z++/7z/vv++v4B/xn/CP8O/wL///4A/wH/C/8O/wH/Bv8O/xP/Fv8C/wD/Ff8T/wb/Mf8q/yn/Of84/zn/Ov9S/0P/Rv9k/1//Xv9z/3j/b/9v/3f/hP+M/4T/if9y/4X/l/+G/6H/nv+K/57/of+h/6r/n/+z/8P/t//C/7r/xv/e/8f/5v/o/+n/4//p//n/9v8GAPT/BQAIAAAAEQAIAAYAEwAHAAQAEQAeAB4AHAAdACcAHQAgAD4AOwBGAEAAWABWAFMAdwBtAG4AdwCEAIcAgwCgAJsAnwC1ALIAywDPAMQAzgDOAMsA2QDbAOIA0wDbAOsA0ADvAPEA8AD6APYABAH/AOsA6QDmAOoA+QD0APUA5QDuAAIBBQEMAQ8BCwEHARcBEwEYARgBBgEWARIBAwEQAf4A/gAUAfwA9wAKAQsBBwEBAQQBBQH7AAoBBgH/AAoB/AALARQBDQEzAUYBQwFHAT4BRwE/AU0BQgFOAVkBSgFYAVQBcgFzAYMBhQGAAYwBgQGCAYMBdAF6AX4BdQGRAZQBmwGVAYkBkwGkAaYBqQGnAaMBqwGaAaUBlAGOAaMBoQGoAaUBrAGrAawBrQGuAacBoQGmAacBpQGZAZIBlQGXAYwBlQGSAZcBmwF4AX0BngGcAZgBnQGeAaABpAGxAa8BqwGtAbYBqgGsAcEBxwGxAboBxwG4AdABrgGsAbYBrAGrAbIBsQGpAa4BqAGuAaoBpAGMAY0BiAGZAY0BigF/AYoBgwFfAYABeQGDAXwBfQFhAV0BcQFdAUkBQQFGAUEBQwFCATcBRAE/ASQBGwESARMBAQH9AP8A/AADAfwA5gDmAOcA6QDlAOMA7gDqAO8A6wDpAOUA5wDtAOkA8QDoAM4AzwDUAM0A0ADPAMgAwgC/ALoAuwC+AKoApQCgAKIApACiAKwArQCdAKUAogCOAIIAhgCbAJ8AnQCAAJsAmwB7AHsAcgCCAGwAYwBqAFcAWwBdAFoAXgBSADcAMQA5ADYAKAAlACEAJQALAO3/AADx//D/7v/v/+7/2//f/9j/yP/C/8P/zf/N/8j/z//F/9L/0f+0/6//rP+k/6z/qf+p/6n/k/+V/43/lf+R/5v/m/+V/5D/i/+Q/4P/lf9//4T/iP+f/5//kv+o/5r/mf+b/6T/n/+h/6f/o/+n/43/kf+o/4//jv+P/5f/m/+T/4j/l/+i/4b/bv9p/2z/b/9p/2D/Vv9a/3H/a/9o/1T/Vf9c/1j/SP9C/0n/PP88/0j/P/8i/x//If8f/yL/If8Q/wz/A//6/vT+8f7t/u7+7f7u/u3+5/7n/uz+5P7Q/sj+yP7l/uD+5v7g/uf+9/7x/vz++/79/gH/Dv/+/gT/B//9/gH/BP8K/wL/BP8E/+3+/P7z/tX+8P4F/xD/9v75/vn+8f7z/tn+0v7S/tX+1P75/vf+2/7e/tv+3v7c/tr+2P7S/s3+yf7Q/tD+0v7P/rn+qv6s/qz+qf6x/q/+oP6p/qP+lv6m/ov+jP6c/oX+hv54/nv+iv6F/of+gP59/nr+ff6T/qT+pP6m/qr+r/6r/qv+r/61/tX+0/7X/uD+5/7y/u/+/v75/gD/Cf8B/wr/B/8W/xb/E/8U/xX/I/8p/zT/Kv82/yX/Gv8b/x7/Lv8h/y3/Kv8s/zL/Lf8z/yT/Hf8v/xf/Fv8e/xT/GP8S/w3/D/8R/wv/Dv8L/wz/Bv8J/wP/Av8U/xf/Ff8T/xj/Ef8d/yb/Iv8k/yD/Nv8//1j/Vf9Y/1n/Vv9q/3D/kP+K/5P/kP+K/5b/jv+O/5n/o/+l/6T/o/+m/6f/rP/H/8L/xf/W/8v/4//P/9L/2//e/+z/5f/o/+v//P/9/wAA//8AABIAAQD7/wMAAwD/////AwAZABgA/f8XAP3/+v8YABwAGwAQABoADwAUACwAIgAmADwAQQA/ADsATgBMAE0AXgBoAFsAYgBdAF4AdAB3AIoAhgCRAIsAjACIAIgAmACCAIoAngCdAJsAnQCaAJgAtwC2AK4AywDLAM0AyADEAM8AxQDOAOEA6gD3AAQB/gDpAP4ABQEEAQIBBAEFAQ8BBQECAR4BDAEcARUBHQEZARoBGgEDARMBFAEPAR0BFgEdASwBEwEtATABLgEvAS8BMQEoASABHgEpASYBKgErAScBNwFAATIBNgEvASoBRQFCAT8BMwErAUMBOQFAAT0BRAFZAV8BXgFYAWEBbAFjAXUBgwGMAY4BgQGcAY0BjwGnAZ8BngGmAY4BiQGOAYcBhAGKAYwBjAGNAY0BiQFuAYcBgwFxAXABZgFoAWQBYAFkAWgBYQFjAVwBYAFeAVsBXAFdAVgBWgFaAUIBPwFBAUABPAE6ATUBPAEyATUBNAE4ASsBNQErARYBMgEwASkBDAEqATUBLAEnAS4BIwEwAUABJwFHAUQBOAFHAUcBQwFhAUsBRAFNAUwBSgFHAVABTAFMAUgBSgE/AToBOgE3ARwBHgEWARMBDgELARAB+QD/AAkBDAH1AAMB/QD8AAAB6QDmAOQA6QDqAOAA0wDYAMgAwgDHAMAAywDLAK8ArQCqAKsArwCsALAAmQCaAKQAlgCbAJ4AnQCfAJUAlgChAJ8AhgB2AJQAlwChAKYAkQCZAKgAswCaAKEAmACbAKMAggB5AHoAdQBmAGAAYgBiAFsAXgBfAFkATgBEACQAKAAoACIACwANAB8ADQAOAAgAFAAOABAAEAD6/93/3f/k/9//z/+u/67/r/+s/6v/of+N/4j/hv+O/4//cv9q/2f/cf9i/1z/Yv9a/2P/ZP9k/13/XP9O/0L/Q/9K/0H/Rf9L/z//Sv9C/0v/Qv8v/zj/L/81/zD/Lf8s/yz/I/8d/x3/If8j/yD/If8b/x3/J/8d/wD/Af8A/wT/CP/8/gP/Af/s/u/+4P7k/uP+1v7f/s7+y/7K/s3+y/7F/rL+rP6o/pf+jv6U/pP+ev51/mr+Xv5v/lj+Wf5f/kr+WP5L/mH+XP5W/kv+T/5q/lz+ZP5n/nD+af5x/mv+df53/oD+d/50/oT+cf6C/nL+cf55/ob+iv6L/pj+lP6X/pf+mP6e/pz+mf6b/qz+rf6p/qz+sf7L/s7+1P7N/tr+1/7P/t3+2v7b/tr+2P7e/uP+5v7b/ub+5P7W/uf+0/7M/tX+1f7K/tD+zf7L/s3+y/7K/tD+0f7j/uv+yv7p/vL+5v7o/uP+6f7i/uT+3f7h/vP+/P7y/uz+7/7w/gn/7v7m/gf/BP8D/wL/Bf/9/gT/E/8X/xb/FP8d/yL/Mv8t/zX/R/9O/0n/T/9k/2j/Xf9m/3P/fP+X/37/dv98/3j/fP+V/5v/mP+b/6H/oP+E/37/gv99/3n/gf99/3n/fP95/3v/dP93/3z/l/+O/37/lP96/5f/lP+R/5j/m/+q/7D/r/+a/6D/nP+u/7D/sP+u/6//y//O/9L/0v/Q/9L/zv/e/97/3v/e/9//6//v/+z/AAAFAAMAHQA0ADkAPABKAFAASgBNAFcATgBKAFIAWABeAHcAYwB+AHsAZAB/AIEAiACDAIYAgACGAH8AhACAAIcAgwCEAI0AgwCVAJoAlgCUAJUAnQCkAKcAqgCbAKoAsQCrAK8ArQCvALQAtwCvALMAqQCwAK8ArwCrAKcAywCtALIAxQDIAMAAyADaAMMA1QDMANgA6ADvAPIA/gADAREBGwETARcBFwEtATIBMAEsAS0BKgElAUEBPgFIAT8BJQE9AToBPgE5ATkBNgE3ATcBOAExATEBRAE1ATEBNQEyAS8BLwEyAS4BJwEwATIBLgE0AUIBQwFKAUIBRgFMAUUBPAE1ATQBKwEzATYBJAEkASMBJQEyASIBPQE7ATEBOQE3AS8BNgFKAToBTwFNAUkBSAFHAWYBZgFpAWABRgFIAVwBXAFaAVgBVwFhAW0BYAFYAWEBUAFUAVUBUAFQAUgBSgFHAU4BSQFMAVwBRQFUAVcBUwFRAUkBWQE7AT8BOQE5AUEBOAE6ATkBPwE3AT8BOgEkASABJgEbAR4BIAELARIBCQEKAQ4BEQESAQEB+wAAAfgA+wAAAfYAAAH+APwA/AABAfoA/gD7AP8A+wAGAf0A5QACAf8AAgHmAOUA7QDfAOEA4wDrAOIA3wDfANcA1ADIAMkAzgDNAMQAxQDOAM0AyQDIAMAArgDFALEAqgCxALAApQCpAKUAhQCJAIQAiQCBAHYAZgB0AGoAVwBOAEAAPQBBAD0AKAApACYAIQAJAAAA9/8AAP3/8P/5//b/7f/s/+z/3//k/+n/7v/o/+T/5P/e/8z/yv/J/8f/yv+n/7H/xf+y/6b/of+k/6j/pf+i/6r/rv+b/5j/m/+h/5L/nP+n/5j/rv+h/6H/p/+l/6r/rf+l/6f/q/+o/6P/rP+x/5b/k/+O/5H/kP9//3//ef+C/4T/df95/3//cP9W/1T/VP9x/13/Wf9b/1X/Xv9V/2T/R/9I/0b/SP9E/0r/Sf9P/0z/Pf9F/zX/Jf8u/0D/L/8r/yn/K/8r/yn/F/8f/yD/G/8V/wT/Bf8B///+Af8W/xj/Hv8e/yT/JP8Z/x//E/8c/xn/H/8p/xj/If8g/yL/H/8k/yf/If8W/xz/Gf8X/x7/Hv8i//3+Bf8C/wb/Bf/6/vv++/72/uD+5/7h/vn+/v78/gP/+/4B//n+CP///u/+8v7s/u7+6f7p/u3+9f7s/vD+/f73/vj+8v7w/u/+6/71/vH+8P7t/u3+7f7v/vv+B/8S/wf/Av8B/xP/Ff8Y/xX/Ff8W/xT/GP8T/xL/Fv8e/xP/Ff8W/xX/Ff8V/xT/EP8V/xL/E/8Q/xD/Ev8K/xT///4D/wL//f4A/wH/D//3/gv/+f74/hT/Cf8T/xb/Fv8S/xn/Hf8W/xX/Gv8f/x3/IP8R/x//H/8P/yP/Hv8V/xP/Ff8M/yL/Lf8m/yz/Kf8u/0H/Sv9A/0j/RP9V/1n/XP9o/2v/cP9w/2n/cP+N/4v/i/+R/4//lv+d/4v/of+h/43/n/+c/5v/mf+b/6X/m/+W/5T/mv+z/7P/uf+2/7f/wv/D/83/yf/T/93/zP/Y/+D/x//H/97/4f/Z/9z/3P/c/93/3v/h/+P/5P/n/9//5P/k/+H/4v/c/+P/2f/d//T/+v/5/wkACgAAAAgABgAOAAwADAApACUALQA6AD0APgA6AEwAUgBRAEkAVQBMAE0ASgBOAEUATwBbAEgAZgBqAGQAaABiAGUAdwBoAHcAfQB5AHcAfgB5AHAAiwB/AJAAqACoAKgAqACjAKoAoQCqALQApAClAKgApQCkAKMAowCkAKIAoAClAKYApAClAJ4AsAC1AMIAuAC8ALgAwQDZAMMA1wDXAN4A3ADZAN4A2wDfAOEA5ADuAO0A6wDyAPAA7wDqAPEAAgEBAf8ABgEDAQYBAQH7AP8ABwEAAQMBEAEXARYBGgEXARUBJwElASUBJgEpASoBJwEqAScBIwEkASIBKgEzATQBJwEgAR4BIgEaAR0BIwERAQ4BEAENAQoBBAEEARcBHQEZAQUBGwEWAf4ACwELARIBEAENAQ4BEwEHAQkBDAENARIBEAEKAQcBCgEJAQgBBgECARoBGQEXAR0BHgEmAQgBIQEJAQsBJQEEAQkBCAEFAQYBFQEZARQBHQEhARcBHAEeAR0BCwEGAQkBAQEHAQgBBwHyAPgA8wD2APkA3ADcANsA0wDKAMQAwwDBAMIAwQC8AL4AyQDFALsAvgC8AMEAwwDHAL8AvwC9AKsAuQCpALYAvgCqAKkAqwCjAKgAqgCLAJAAkACMAIQAhgCNAIcAhQCIAIkAiwCIAIQAiACFAIoAhACJAIkAigCJAIcAgQCIAIkAcgBzAG8AdQBtAGwAcQBUAFkAUgA8ADsAPgBBADkAPgAnACkAMQAvADAAFQAWABQAFAAOAAAA/P8AAPv/AAD8//v/AQAAAAAA8v/s//P/8v/1//X/1//O/9L/1f/Z/9X/wv/B/8H/wf/J/8L/wP/A/8P/xP+q/6T/ov+n/8L/vP/I/8H/wv/E/8T/xf/K/8L/yv/G/7D/xf+t/63/r/+n/6n/pf+o/67/mv+X/5L/j/+U/4b/gf+F/4H/hf+E/2f/bv9m/2L/Zf9m/2L/T/9R/2X/T/9Q/03/Mf9R/03/T/9Q/1X/VP9W/1H/Nf87/yT/I/8m/yH/I/8S/x//EP8W/xP/F/8V//n+Fv8Y/xn/Gv8f/xz/IP8e/x7/Gf8k/x3/Cf8Z/wn/Gv8b/xn/Hf8Y/yD/Hf8i/xb/Af8A/wD//P7//vv+7v7s/ur+5v7q/u3+7P7t/u3+7v7t/u/+7f7y/vL+9P7x/uX+9P7l/uP+5f7i/uH+5/7k/un+6P7M/sv+0v7G/sr+yP63/sr+tf62/rr+nf6e/p7+mP6V/pz+lv6c/pz+l/63/rv+uf69/rj+y/7R/tX+0v7Z/tX+2P7V/tb+0/7Q/u/+7/7v/vT+9v7x/u7+8f7v/vP++f7x/vD+8/7t/vX+8/7v/ur+6v7u/vL+8v7u/u/+8P4E/wf/A/8E/wb/Av8L/wv/Dv8c/wj/Cf8S//n+/v4K/w//D//5/gv/C/8J/wv/DP8J/wj/Bv8I/xX/Gf8W/xn/Ff8e/y//NP9I/zv/Uf9I/0//Wf9X/1f/Uv9i/2T/gP96/2n/bf+B/37/e/+H/3r/e/+O/4T/jv+g/5D/oP+q/7X/vv+0/6v/sf+z/6//vf+4/7b/uP+2/7f/rv+v/6//pv+j/6T/q/+s/67/rv+1/7r/vP/G/83/2P/d/+b/7P/1//L/+v8AAP7//P/9//7/AAD+//b/+//q/+j/4v/m/9z/2//W/9P/yv/L/73/wP/M/7z/u//A/7z/r//E/8L/8P+//8L/3f/3/wAAHAAWACEAMwAFACkADQCAADIAKAAeANn/gQCyAJIA7wBFAQQBHAH2ABkBYAH4ADwBcAEcAVMBPAGqAQYCzAG6AUgC6QH4AGgBvABjAT4BJAECAcEAlwG1AGUBqgFQAaMBzgEMAb8AqQEXAowB7ACpAYECRgL2AWMC/QGrAZYCpAJZAooCXQJmAogBowFRApgCigKLAY0AoQHZA6QDUwJ7AEsC6wN+BCEE3AR1BGUFVASQBWcG8gYpB10FlAQcA+ECvwX7CAPt0vKq6HrpFxrO/tPRtOBK+UsLhxnwEnQV5A6bD5wNvQOiAlEBafMY/c4FhwEpB3v/SP1P8ID1g/gD6FjpLPVk+qf+/QmhEo4M1A4aDa0FUgc+CgQOFxDhFDMOtgbIADf/QwNkBH8E6QIiAFr/MgHPBLkAd/Vt+Lb+Dv+BBGQFv/99/QkBIgG4/BX88fiE+b8CZAVUBVMG/wF/AEoB/QGvAcgCKQPsAbsBjgMgBzoD6QLwAyEEMQZIAY/8jvv3+0/8xP4hAJQBbAGXAA4FFQSYAGwANP1E/l8AV/5T/679hv3R/Q77fPvx++P9FAA1/tn8L/wr/J7+hv77+677f/3UALUCrAJ1AlYCBwNgA/4BagB4Ag0DZgMJBXYDiATfBMIDIASbApEALAHJ/xj/XgFs/079z/32AWIAHf/5/ywANwW7BfwCOACbApMFlQRIBE8ExwLHAyUGagW4A7EAqP9PAGADZgSfAVf+B/94AasB3ABf/fX9CAEtAp3+r/yr/Nn++QIrAij/svx8/mwANgNZBf4Bxvxo/LP+z/0z/Jb6uPju+C77KfoE9+H3lflM9234YPmU9kX3lfql/Bv9iP/q/vP7hP6xAL774vzoAPH+KgLSBUoDmAGEA0sF0QM2BMUDYf4x/4ECWQFNAGQB6f90/zMEywNgAL8AywJRA9EDjwS0AlYDTQVUBe4DkwLLAisAAwAXAmT/3v27/qP9Efs0+037M/q2+p/6n/mQ+i38mvxW/IT6ffiv94z4D/kA+mn5tflH+R/4cvhd99D2Kva697b1WvXv9ZfzffQv9c71yvMd8RDyAfTb9Bn27vUP9S71TvYW+B75lvjw+P74hPij+pn65flD+cj57Plx+239yP2d/Gj7t/zI+8P8gfzU+9r7kv0j/7r+BAF5AXIBfAFoAagBggJVBMUFLwUEBsoG8AbEB0EIqAleCIAHbAf1B90I8AksCmUIQAfaBqsGfwf6BhQFbAULBLgD5QPHAhICVwKPAhMBigD0/4v/2f/FAJz/GP0U/ZH9cvy5/cX+TvxT+l760vqt+XP6jPhY9dD0ifTX9DjzbPJS8qzz0fQR9J30MvQt8/Dy4vMU9JHzbvM78/bznvRo9IHyYvNy9dr0kfUi9qf2gfd/+NP45PgA+q77mP0o/g8ADAF6AOkARwJTA+8CtAPyA/0DgQRbBGEDGQQ+B4IGhAQ2BfIGWQcSB+oHNwhiCLII0QnkCTsJDgnqCbsLFgt2CWoJjQr5CaEIFQiLB3EHZgZYBVYFggSGArEBAQFQ/xj/Tv/5/Sj9QP6x/V38Nvzl/Pz9m/0K/Ur8Evxe/IH9Iv7m/LX7X/ph/FX+pfwF/F77JPu6+3n7UfpN+c74j/hk+CX4xfn1+bH57fo6+zj6Vvub/eX93/7E/0kA6gBjAd8B4wJXAsYB6gHvAk8EjgNHBJEELwOLAp8DegW8BWQGMgckBlMHfQlECYcJgArmCnwLigunDNANiQ2EDt4OnQ5YDcoLAQw2DGMMrgvPCacIqQeNB9IH9QYeBl0GSgZDBWsEMgSZA58C4wKXAvoBfwHRACsAOQBg/7/9uvxA/Pj7ofrv+cj58fmZ+RL5d/hJ9872MPbA9UH21fZX95b2+fXt9b/1z/V09k73hPf09633Qfhw+JD44fkl+oL6iPtA+y38ov2h/Mj8JP74/tj/9AAsARIBYAGpATkC2AMBBTMFOwUfBaoFmwe/CFYIJAjFCAIKKgqaCsAKxAqiCs4LQA0rDUwMlAsIDGgMUg4LDwIOBg1YDRcO/w6vDhwNVQ06DegMnQxMDMcLjwvuCjoK3wnlCdMJXAj8B3wHgga4BZ8FhAZJBZ8DjgM/A9cCsALtAjYCEgDX/pT+8/6m/3f/if6r/dj8r/xj/bD9SP0k/D77gvr++dX6ffqn+WH5ePjk92z3r/cl+PH3nfhd+Fz3ifei96D4BPlZ+AL5m/mD+R/6VvpB+s76Hfs5+lf5OfpQ+g370PwB/Uj8b/wW/Tj9yP0f/pT+wP/+/2gABwKJAkACeAIcA1YDDQStBL0FNQb2BV4GawaNB6kHAQftBtwG7QZPB5cH2we1BxAHqgadBiQHAwdkBqoGGQcWB1YHlAcmB90FpgU3BoAGOAaUBXoFfgUlBXAE0QNpAwQDtwJXAgECvAELAcIAOwBu/wb/r/5T/mf+Lv6P/ST9/fzm/Ff8U/z2+0D7lvuB+8r6jPoL+ij6+vre+ib6fvkE+ZT4i/hk+YP51Pi9+NL4yPjF+Bj5s/l7+V35+Pkc+jT6nPr2+vj6WPup+8f7v/su/Kr8Lf3L/X39jv38/U3+Z/7S/nD/gv94/+T/6//l/z8ALACrALYAWwBPAAYAaQCRAJYApgCbAJ8AywCdAEAAaQDUABwBmwBGAP3/ev/K/wMAef+i/5T/C/9G/y7/sf59/lH+B/6+/Sz+Xv1r/Lj8Jf0V/Xf8bvww/Nr7vfs5/C78B/zO+1n7X/s2+y37LPt/+6f7AvtD+/z7yfvM+7T7Uvtn+xP8fPxc/Lv8C/2+/Aj9e/0h/ST9nP22/dz9NP4j/uL9DP5Z/mn+QP5P/in+FP5g/jz+Av4g/qz+Iv/2/oP+MP5X/hb/kf9T/0j/S//r/g//bv9w/xz/wv7P/vj+Ef/9/rf+Hf7h/VH+Sv68/bn9sv1p/ZP9wP3d/Zz9kv27/dn9D/74/en92P28/cD91f3W/eT9pv0l/R/9Q/1M/Wn9Zv1+/U39Qv3n/Kb8NP0r/TP9C/0E/Wz9W/2m/cb9Ov1O/WP9mv1A/kb+Pv77/Rz+WP4r/jT+Jf4r/vv9Xf69/qH+s/7//jX/3f7l/gH/CP86/2H/O/8y/37/b//V/0wAaQA6AP7/RACVAPkAQQEfARMBDQHNAFoBsAGbAaYBawHcAQwCHwIrAt4B9gEPAvoB+gElAisCXgJqAlcChgKfAqsCawL6Ae4BTAJtAlsCFgKyAbcBvwGyAegB4wF/AXIBkwFyAR0BCQEwAcQAIQARAEkAagBaADgAFADe/+b/9v/x/wAA5/+y/9L/8f+f/7z/6P+k/3r/if/D/8j/y/+6/8v/xv9f/2b/xf/W/6//xf/d/yMACQDy/3kAkgBNAGcAqQCpAO8ACQEVAWQBegFhAasB9wHVAeoBFAIWAhgCNQIAAvYBLAJAAj8CFgIiAkACSQJoAmoCiwLPAr0CegJ2ArYC/gI4A0wD+gLKAi0D+wK1AugCsgJ1ArUCyQLmAs8CRAIeAhsCLwIpAiQC4wHeAQwC/QEJAvMB6QEcAhgCwgG/AcUBvAHOAcQBaAFLAYQBlwG3Ac8BkwGBAZEBfAFvAW8BQQEoAWwBYwF2AVsBVAFgAVIBSQELASkBLAFMAZEBkAFUAUwBbgFhAYwBmAGIAZUBmgHPAcEBrgHXAccBqAGRAZkB9QHjAbgBzQGtAfIB/AG4AaMBvAGwAb8BJALvAegB9QHkAf4B9QH6AdYBAwIRAuEB0QHEAcABpgHBAaoBvgGsAUABSgFdARQBrgC9AOcAqQCQALsArACYAJUAdAB9AJAAZABLAEcADwDm//T/1v+H/4P/hP97/23/Lf8w/0r/SP9g/3f/gP+f/4b/cf+u/9n/lf+J/6//mv/D/7X/tf/Q//L/BgAOAEAAKQATAB8AQwAmAAgAEQAbAHAAnADFAJsAfgDYAL0AwgDYAIwAgQC3AN8A3gAKAfMA6wAkAfEA2AD+ABEB7wD2ANwA2gDoAMwA5gD7AOcA5gA2ARMBGgEOAaoAqgDWAOEArADfAMUA2wDuALgAyQCNAJwAgABUAFcAQQA0ABsAEQAJANH/sv+0/7v/kf+L/4f/Zv8k/xD/Hv/S/rv+ff6r/qL+Yf5S/h/+FP4l/uv9s/2p/aX90v2K/X79jv2S/bb9rP2K/WX9aP14/YT9Xf1g/Zr9rf2w/YT9e/2U/aT9kv1Q/Xv9s/2B/WL9dP23/c/9o/25/ez9Gf4f/jT+Rv55/rD+qf7C/tr+3/7j/vP+5P78/hf///4d/z3/M/9K/2n/QP8e/0L/TP8w/x//F/8v/0X/Xf9Q/2b/cP9i/2P/NP9e/1v/Sv9H/0j/Sf8F//f+I/80/xr//f7n/ur+5v69/rv+sv6S/nH+Tv5P/lj+Xv5e/mb+VP47/hT+//0a/h7+8/0a/iv+JP4Q/vn9Cv4a/jb+IP45/jr+UP5S/lf+U/4+/lH+TP5p/nH+ef6O/mz+XP5d/mT+b/5X/mP+NP4d/iX+Ef4j/jr+JP4g/h3+Ff5C/kP+TP4u/hv+R/5V/i3+Dv78/fv9+v30/dv90/3l/b39uv20/Zn9Z/2O/XX9ef2f/bT9r/16/bH9sP3A/cH9xP2o/cv93/3l/e79zP3J/f39Dv4e/hv+B/4r/gr+M/4+/kj+Kf5L/lD+ZP6U/oT+o/6l/r7+tv7E/t/+8P4G/wn/DP9B/2H/cf92/3P/jP+s/7X/y//q/wkAFAA1ACQAGwA/AG0AigCFALUAnwCwALQAxwDNANgA4QDMANMA4ADtAOoA2ACnAJwApgC1AMYA0gChAJUAmQChAI0AgQCdAJUAmQCKAIsAlACfAJUAoACrAKUAsgCOAIYAggB/AHQAbACCAHUAVwBOAGcARgBIAFIAQgAgAAUA5P/z/wEA7P8HAPb/JwArACEAHgBCAD8AKgBEAFAAcwBxAI8AowClAKkAtwChAIEAkgCbAIIAgQBkAG0AXQBXAHYAagB9AIEAoACdAK8ArwDBANsA1ADxAAsBJQEiASUBKgFLAWcBbwF1AW8BaQFlAXoBbQFuAWcBUgF0AYYBfQFbAXsBlQGSAbQBngGjAaABlgGoAawBzwHNAdgB5gHtAQAC6wHuAfEB5wHrAe0B5gHsAe4BzwHOAd0B7AHrAe0B3wHRAf4B+wH4Af4B+AHUAd0BEgIQAugB3wHMAbABygG8AcEBtQGRAaABlgGcAYcBUQFLAWYBhQFrAXoBcgFrAYUBpAGjAY4BigGLAboBuwG3AYkBmgG6Aa4BtgGPAa4BvAGiAbABrQG4AaABqQHJAcYBtwHZAf4BAQL5Ae8B/QEeAioCDAIgAiICMwJHAkECNAIuAhUCLwIiAgMCBwL8ASEC8QHxAesB4AHsAeUB7wHrAfAB1QHkAewB0AHNAdYBzwHMAcoBxwHdAdQB3wHPAboBswGjAasBewF1AXYBXgFeAWkBWwEnAToBNAEOASkBIwEjARgBDAEGAecACQEMAQgBAwHqAOgA/wAjASUBHAEAASsBOAElASwBGQEeAUUBTgEtAU0BSwFEAWEBZQFdAWABXAFeAVUBNgFaAVEBZQF0AUgBWgFfAVoBcAF6AWYBfgF9AW4BbQFeAVEBUwFuAW0BdAFTAVABRQExAWUBQAETAQkBDwEsARgBGwH2ANYA2gDbAOIAwADDAMEApwCSAIAAVABYAGQAXQBRAD4AMwAmAD8AJAAdABgAHAAjACcALwAmACkAEQAAAPb/9//V/8//0v+0/6T/o/+D/4//ov+F/3z/Xf9h/2X/Zv9P/0H/PP9K/0j/Y/9k/0b/SP9L/2P/YP9k/0n/T/9H/1D/Sv9K/0//Tf9M/0j/UP8y/zD/Cv/9/v3++v7x/vH+8/7o/uT+6f4R/xT/Ff8T/xv/I/8i/yH/Hf8c/xr/Lf8f/xv/I/8W/xf/Ff8P/wv/C/8H/wf/Cf/8/gb/Av8K/wz/DP8F/w//CP/w/hH/8v7z/vT+4f7d/ub+3/7h/ub+5f7q/uP+7/7w/vP+/v72/uD+3P7F/r3+uP6//rv+uP6+/rX+qP6f/ov+hP6M/ov+bf5s/nr+Zv53/k3+S/5P/lP+dP5z/nH+Xv5y/nb+df50/n3+gP58/oD+ev5+/nb+fv55/mj+Z/5+/mT+Yf57/mj+Xf5l/nj+jP6f/oT+pv6j/pn+xv7H/rz+t/7J/tv+3P7Z/tj+0f7X/vn+9P7y/gf/9v4S/xf/GP8K//7+Kf82/03/cv9S/0z/df9K/0r/bv9s/23/cf91/1z/Qv8//0j/Sv9N/0r/SP9G/0P/OP8z/0j/TP9G/z//Rv88/z7/Vf9W/13/YP9i/1f/XP9V/0D/Nf81/y//Lv9S/1v/Xf9k/1r/W/9Y/1X/Yv9a/1P/V/9t/4f/kP+W/5P/nv+v/7z/r/+1/7T/nf+9/8T/wP/M/8n/zv/Q/9//yv+4/7j/uf+7/6f/x//D/6v/yf/M/87/xf/A/9v/4f/k/+3/4P/l/wcABAAIABEACQAEAP3/CgAHANz/3v/j/8j/4//t/83/x//E/8L/w/+3/77/v/+4/73/uv+z/5v/lP+T/3H/c/9z/1D/HP8a/wD/0f7R/sb+0f6r/sn+5v74/lj/Zv+S//X/ZwD5AKIBQAJqArsCHwOEAyAEXARKBAQE2gO8A3MDNgPtAokCSQI6AnACswISA34DqAP0A3IEsgSRBH8EWATwA5gDeAMrA9AChgI+AiQC+QGvAVoB0AAtAFr/QP5R/Uf8bPvY+m/6WPpW+on65fpE+5/7Evxx/Pv8h/2u/Q3+Y/7M/g7/tP8GAGAAAQHEAO8AgABdAC8ACQBgACoAiwDKAC8BuQHaAeQB4AHyAbwBuwGjAYsBoQGPAaUBxwERAj8CUQJGAlMCjwKRAn0CXQJKAlgCfwK/AtcC4ALAAtICwQKQAmQCQQIrAi4CSQJdAq4C4wIkA2MDrwPcAxcEBAQOBLMDaANaA+QCygJkAiMC5AGvAX0BTAEgAfgAxwCVAIQAYwBXAI0AlgCrAOoA4wAQAQUB7wDKAJ0ATgANAMX/aP8r/7r+ev4q/vP9wP11/Sf95/ym/Ij8e/xd/GP8Vvxa/Iz8pfzC/Lv8qfyf/IX8uvy5/Nz8/vzx/DX9cP3R/R7+Zv6O/pX+3v7u/hP/KP9p/4j/sv8dAHYA+QBgAcwBPgK3AkwDFASDBAUFcAULBpkG/wZsB60HCgg3CGAIWgiBCF4I/AfAB3EHLgexBkMG5QVdBQUFVgTbA18D6QJJAowBEAFgAPv/Sf+1/i7+r/1k/fX8nfw7/Nb7fvsW+7H6VvoG+tb5v/mG+Vf5Tfl1+Yn5i/nH+Qv6S/qJ+rP6Gftk+7f7OPyO/Gr9/P3W/o//SgDvAHoBSgLAAl4DuANDBKcE+gRnBbkFBwZoBq4GPQesBwQIkwjaCEAJnQn/CToKewquCsIK7Ar6ChwLLQs4CyoLFAsTC8gKggoVCo4J8AiMCCAIbgfVBhMGgAXyBFUEtwP0Ak0CpAG/AAcAXf+N/sz9Ef1X/JX7uPr2+Tb5UviF9672zvX49DH0dfO08vrxUPGu8PPvVu/g7m3u++2T7WHtKu0D7d/s2+z87BztTu2R7fPtRO7O7lLv7e/Y8JPxbvJh80D0S/VK9jv3Nvgw+T/6MvtU/Jj9zf4FADgBUQKOA/IEFgZeB3kIuAnjCtMLFw0aDikPORADEeQRzBJ7EyAUxRQuFYUV2hUmFmwWeBaZFmUWJhb4FXkVChV/FAwUXxOhEuERChEgEA4P+Q3lDL4LawpBCesHjwZLBfADhQIOAab/LP6o/C77uPk8+Nz2ivVL9DTzGPIa8SbwM+9S7nTtrOze61Xr3epn6iDq3Omr6Y7pqOmj6bzpBOpe6sXqL+vL627sVe0W7uPu1O/P8PbxE/NK9Hf1vfb39yL5fvrI++38L/5s/6MAtAG3AskDswShBagGaQcuCPsIdQkWCpkKEAuQC90LQAyhDMsMCg0iDTcNRQ0yDUYNMg0RDdwMkgxXDAMMnAstC6sKHQp7Cc0IEwhVB5IG/wUqBXIEtwPYAicCUQHBAOr/Fv9L/o/91vwk/H/7o/rQ+RD5bfiu9+r2MfaN9cf0IvSR8+XyTfLe8Vjx+/CZ8D/wC/DR77rvre+v79bv/e9H8LbwGPGl8Qfyq/JD8/nzrPRG9Q/29PbD92/4Ofny+cP6sfuk/HP9Qv4R//z/0ADAAZ4ClgNrBEcFJgbjBs8HeQgwCe4JtgpSC9MLUQy8DCANfg2iDdwNBA4jDikOGg4HDtINjA09DQANcwwODKgLIQuWCv4JZwnXCA4IcQfMBgcGRAVsBKQDzQL7ARMBPwBR/1f+df2o/KX7sfq++dP47vf+9iD2QfVs9IzzsPLU8TDxc/DH7zLvn+4D7oTtKu2q7FzsJezu68jrwevG67zr9+sk7G3s1+wg7cntUe747rfvc/BL8QLy0PLT8+705PXt9vn3NflP+ln7gPyi/bD+yv8GAR8COQNLBG8FhgaDB5UIkAmWCqULhgxiDTcOGQ/KD5YQTRHhEXQS8RKVExIUbhTKFC4VehW5Fc8V1BXcFdgVohWaFVUV9xS1FFkU7BNVE+ASKBKTEfMQPxCGD7YO4w35DCcMMAtBCkIJWQhmB1YGaAVJBD8DEwL1AAIA3f6z/aj8rvuZ+ov5e/h/94b2qvW49OHzEfNU8qnxBvGD8Ozvje8i7/Xuse6D7mvuSO5P7kLuXu6A7rru7e4d733vze858NDwSPHU8XLyGfPK82P0KvXw9bD2efdL+CP5CPrp+r/7ufyd/YP+X/9VAEsBKQLxAtEDqwSZBUUGBwfxB38ISgnfCYsKKQuuCzgMpwwQDXAN9A00DowO2g7+DjUPQg9iD1APVQ8qDygP+w6mDmUOBA7QDUUN+QxxDO8LewvgCkkKqwkNCWkIxQctB4IG6QVIBY0EBARVA6oCCgJzAdEAFgB+/+n+Sf7L/Sr9rvw1/Lr7Mfu2+lH68fml+T/5//jD+Jj4Zfg5+Ab4+Pfs99b3yvfi9wH4FfhD+Gf4lvjh+A35S/mg+en5PPp7+tT6JfuS++j7T/yt/AT9a/3N/Sv+pP4J/2v/8/80AKsADQFSAbkBAQJVAqsC7AJFA4sD0gMEBEUEVgRoBJgErgSyBKsEtQSSBIwEcQRWBDkEBATsA9kDnQN3AzcD7wKvAl0CHALLAYsBMgHSAIEAPwDs/43/Rf/z/p3+V/71/b/9dP00/eH8gfxZ/Bf8+fuk+4/7bfs9+0b7G/sA+/n67vrZ+t367vr6+iL7Ofti+5b7uvv6+zD8afyw/N/8I/11/bX9C/5M/oL+4f49/27/vP8eAHYAwgAZAXQBzgEjAm8CrgLzAlEDmgPqAxMEaQSuBO8EEwVHBYsFmQXwBQ4GLwZIBloGbgZ0BnYGfQaFBokGegZqBlIGEwYJBuQFrQV4BUkFEgXRBKIEaAQRBN8DjwMnA8wCZwIAAo8BOAGtAFsA5/9Y/xb/iv4T/rb9I/2X/CL8rvtJ++b6cPoQ+q35VPkF+bz4afgk+OT3jPdC9/723faf9lD2NfYg9v317fXl9dP15/Xv9dH17vUF9iX2XfaD9o725PZA93f3zPcc+Hz43vhJ+bH5E/po+ub6YPvQ+1j8yvxD/dL9Q/7D/jP/mf8VAJEA5ABNAdQBJgKGAt8CKAOOA/EDLQR1BL0E/QQ6BXIFiwW9BdcF2AX+BRsGJwZSBkcGSwZIBjwGPgYSBhkG6QXKBZMFYQUaBegEtgRmBDkE/AOjA2QDKQPaApMCUwIWArsBeAEfAdwAlABgAP7/vf+L/z3/+/6s/nP+Qf4K/tj9s/2F/Yf9VP0b/QD94/y2/JD8gfxe/Fz8TPw2/Cv8D/wf/A78AvwZ/Cf8Ffwa/CD8Evw2/Dn8TPx5/Iv8j/y6/NX85fwV/SP9Pv1q/YX9yf3Z/Qn+SP5D/mn+jf7K/vf+MP9R/3r/s//X/wYAKABjAKAAwgDdACUBRAFmAYgBmQHHAeIBAgIaAjQCTwJ6Am0CYQJ9AogClwKMAoECiQKLAnwCZwJpAl8CRgI+AiICBAL1AecBxgGyAZYBegFIASEBFgHUALEAjwB0AFgANgAYAOz/+//j/73/yP/A/63/pv+v/6b/rP+t/6L/oP+w/7z/1v/5/+//FAAbAB8ATwBZAI4AsgC+AP0AGgE9AXUBlwHHAeoBIQJiAqICzALdAhkDVQOEA6cD1wP6AyYESQREBGIElQS0BMIEugTjBOEEzwThBLkEwQS8BL0EnARyBHEEWAQrBBIEAAS0A5EDdQM5AxAD0AKAAkUCBgLXAaMBXgEEAdoAmgA4AO3/of9c/w//5f6e/mr+Qv4c/u79p/2F/Vj9OP0w/QH94fzh/NP8y/zM/M/8xPy+/N78//z3/CL9Lf03/Wb9df2s/c397f0N/kL+ff6P/rn++f4J/0n/Z/+E/8X/1f8VADQASwCDALQAxwDwACEBNAF3AZ8BoQHVAegBGQJNAnkClAKvAucC3gIUAzsDQwNfA3gDjgOpA6ADmwPBA7UDzQPJA64DugOdA5kDgQNwA2wDTwNVAy8DCQP3AssCuQKTAm0CbQJXAiYCGwLvAcwBrwGeAYsBbwFiAT0BPQEUAfUA2wDCALEAmwBwAE0ATAAmAAkA/f/j/+D/uP+4/7D/i/+I/2b/Xf89/zH/Ef/+/gD/7f7n/uP+zP7G/tf+yf7Y/tf+vf7D/sv+yP63/rn+w/7M/tX+3v7b/sX+1v7d/tz+3f7j/u/++P7+/vj+//78/vj+Af8M/xj/Cv8k/yj/MP9O/1L/YP9p/2j/av99/5n/rf+z/9f/1//h//b/AQAoAC0AJwBEADwAYwBkAGoAgQCJAJkAkgCwALMAwgDMANkA2gDSANYA6wDnAOYA6wD8AAAB/wD8AAIBAQEJAQQB8gDoANUA4gDWANQAvACYAIEAewBgADoAKAAaAAUA7P/G/6f/j/9y/1H/Nv8V/xH/+f7C/rr+n/5//lv+P/5H/h3+C/4E/ub94f3Q/cL9l/2i/Z39g/14/X/9Yv14/X79W/17/Vz9Xv1b/Vb9XP1P/V/9bv1V/Xz9dv1h/Xr9dP1z/W39gf2V/Zn9kv2W/a79u/28/bT9xf2+/bX95P3U/eT9+/37/QL+Av4j/h7+JP5E/j/+S/5b/k3+gf6l/qT+o/66/tL+2v77/hX/Ev8x/zf/Mf9K/0v/cf9q/47/qf+a/77/t/+//9v/2P/h/+L/+v/4//X/IAAXABUADQAPACsAKgAnAC8AIwA0ACAAEAAjAAAAAwADAP//AADy////5v/a/8b/uP+w/7T/q/+L/5r/c/+A/2z/Wv9V/1z/X/85/z7/Jf8l/yv/Hv8K/wL/B/8w/xj/EP8a/xP/Gv8T/yH/KP8n/x//M/8w/zL/PP9T/1r/Wv9n/2r/Yv9x/4H/ff+K/6L/qv+j/6f/pv+9/8T/4v/Z/+7/BgD9/ysAJAAnAEMAPQBeAH4AhgCqAKwAxQDnAPMA7AAQARQBCAErAS0BQgExAUwBZgF2AXEBaQGMAYoBfgGGAaQBoAHPAcIBqwHEAboB3gHaAd4B1gHWAdEBygHNAcYB0gHDAc8B2gHaAcsB0wHDAbABpgGeAasBrAGsAYMBigGOAXIBdQFrAVYBWAFVAVcBUAE6AUMBQwFAAUYBRAEoASMBLQEjASgBMQE4ATMBNAE0ARgBGAEiASIBFwEVARcBMwFDAREBFAEyASEBDQEoASQBGQEWASEBQgE8ATwBXAFaAWEBhQFxAXIBeQF0AYEBmQGXAZEBjQGQAagBtAG2AYoBmAGyAbIBwgGtAZIBnAG5AZoBlwGfAZ0BsAGiAZ4BmAGbAaQBmAGFAYQBhgGBAXsBiAFhAV4BgwFpAXkBbgFxAVEBUwFcASwBNQEsASkBFAENAf8A9wDrAOIA3gDbAOkAwwC5AKYAmwCcAJcAmgB+AHoAawBwAGEAUQBOAEwASgA9AEsAUABMACwAJwAdAC0AOAAsACEAEQAWACUAHAAFAPX/9f8YABcADAD9/xYA8f/y//j/5/8OAPL/7//v/+P/8P8CAPj//f/2/wQAGAASABsAGwAeABsAFAAYABgAGgAXABgAGgAiABwABgAXAAQAAgADAAEABwD//wAACAAAAAUACAAEAAMACQARAO3/7//0/9b/zP/U/67/v/+y/7n/uf+a/4v/df97/1b/W/87/z7/JP/3/uT+4P7A/qD+rP6M/nv+a/5z/kX+JP4m/hL+Ev7y/er98P3V/eH93f3k/cP9wv3C/aj9qv2C/Yf9g/2G/YT9i/2H/W39hf2D/Xz9if2H/Y/9k/2H/Y39l/2N/av9sP2y/dL9zP3v/fj99v0S/g/+F/4u/jD+Q/5T/lj+b/5l/mj+kP6Y/o/+n/6P/pX+r/61/rf+qf7C/t/+1P7T/tL+0f7v/u3+6v7w/vH+1/7Z/u7+6f7u/tT+6/7q/s/+y/7S/sz+x/7W/sr+y/6u/rH+sP6z/qr+kP6T/o3+if5p/mb+Yv5Q/kL+Qv5C/if+Jf4n/iD+I/4n/if+D/4J/v/9/v0J/vn99/33/fj94v3i/QL+Af7t/eT99P3q/e399/36/fb90v3a/dX94f3c/dr9Df4K/hr+Cf4V/h3+9v0c/gz+H/4i/hz+Qf44/ln+Zv52/oH+if6i/p3+tf7C/sn+z/7U/vT+//4B/wL/Cv8G/x3/J/8i/yX/Lv86/0T/Zf9a/3P/fP9+/3n/hf+X/5n/uf/C/7r/uf/S/9r/5P/t/wEAAwAiACMAAwABAAsAEwAKABIACQADAP7/AAD4/xEAKAApACIAGQAkABoAGQAbACEAGgAgAB4AFAAcABkAEgA4AC8AFwAuABYAHAAaABUAFgAYABIAHAAVAO///v/s/9H/1f/a/9P/4v/P/73/y//f/9v/xf/f/+n/3f/f/+3/8v/q//H/+P/9//L//f8WABoARgBMAFEAbQB8AHUAeACUAKAAoACSAJkAtgC/ALYAyADTANQAwwDfAAABDgEFAfwAHwEYAREBFQEhASwBKQE5AUwBQQFPAV0BTQFmAWoBaQFuAWIBbwFtAWoBXgFuAWUBZAFmAUgBbAFjAU4BTgFZAU8BRgFBAUQBTQEwAVMBUQE2AUwBQQE6AT0BNQFCAUcBQQE9AT0BPwFCAVABQAFJAU4BRQFIAUcBSwFRAVQBRQFrAWsBaAFzAYABbAGHAbIBhgGKAYQBegGCAZ0BmwGaAZkBlwGkAagBowGtAckBwQG9AbsBogG5AbsBmwG0AbEBnwGwAZwBhAGXAYoBjgGfAY4BggGLAXwBfAF9AW4BfAF9AXkBfQGBAXoBfQFzAXcBdAF0AZQBdwGLAZ4BcAF+AYMBfAF7AXkBggGBAYQBiQGDAXwBggGGAYsBiQGMAYgBjwGOAYsBiwFwAYIBjwF+AXYBfgGAAX0BdAF4AXgBZgFxAXYBbAFUAU8BPAFCAWQBRAFJAUQBFAERAQEB/gD1AP0A8wDeAN8A2QDNALgAsQCrAK8AsACnAIkAigCJAIIAaQBdAF0AZgBRADoAWgBcAFUAMQAuAD4AKgAcABUAFwAYABMAFgASABsAFQAbACEAGAAnACUAHQAiAC0AKAAtAC8AIwAzAEUAUwBSAE8AWACDAH4AYAB/AIkAkACTAH4AlgCSAIIAkABpAG8AcABsAGwAYABVAFEAQABIAEAARwBDAC4APgAuAEQAKwAqACUAFAAUAAkABgAHAAoAAAAGAAMA7v/u/97/0P/H/8z/yf+j/5r/fv9s/3v/dP9a/1n/VP9L/y3/M/8p/w//Fv8E/wj/B//+/gz/C/8I/wX//P4O/wr/J/8L/wz/M/8G/xP/EP8R/x//Gf/w/vb+/P71/vP++f74/tz+9f7l/gL/+/7r/uD+7P4F/+v+DP/4/uz+8P7q/vX+9v74/u/+8v75/vT+EP8K/xD/FP///vz+7v79/vD+8P7c/s/+1P7O/ub+7v7u/tP+0/7O/sr+0P64/rT+pv6s/p/+tP6r/q3+zP6h/sP+xP67/sP+vP7E/sH+tv64/rf+uP7C/r3+vv7F/r/+vv6s/qf+tv61/q/+mP6m/qH+oP6e/pv+r/6t/rT+q/6t/rH+tP6//rL+tv69/t3+1v68/uP+4v7D/sD+w/7P/s/+zv7C/rX+vv6r/rb+tP61/sH+uf65/rz+wv7E/sL+wf65/sj+xf65/sL+vP7Z/tb+0/7N/tj++P7w/u/+4v7p/u/+4v7h/tz+6P7d/tz+5P7j/uL+5v7f/uj+//4L/wX/6f4M/xz/Ef8c/xT/Gf81/zP/Nf9C/0H/Pf85/0T/Wf9E/0L/X/9g/2D/a/9r/1L/RP8//0r/Uf9G/0j/Rv9L/0j/UP9L/yn/L/8v/yz/Jf8i/yz/Kf8d/x7/Kv8h/yT/I/8f/zj/Rf9C/z7/Qf86/0n/Pv88/1j/X/9e/2X/Yf9O/13/WP9n/0//S/9x/2n/cf9p/3D/lf+a/5f/oP+3/7b/vP/J/7//xv/T/9//2P/Y/wcABwD9/wAAHwAlABEABgDy/yQAIAAUAAUABwACAAwALwAhAAMAKAAsACQAIAABAAcACwAnAPv//f/8//j/+P8MAA0ABgAUAAwALwAuAA8AEAApAAwABgAFAPz/GgAqAB4AJwAeABYAGAAUABAACgAQABIAFQAQAAoAAAALAAAAFgAoAB4AJwAmAD4AOAAoAEMAOQBJAGMAWQBtAGcAagBrAHMAZACNAI8AcAB0AHYAhACJAIsAgwCMAIEAlACWAJYAfwCYAJ8ArACmAI8ApQCrAK4ApQDBAL8AvQDQAMYA0ADhANIAzADJAOwA8ADtAPQA+AD4AOkA7ADwAO4A5gDtAP8AAgEBAf0A9wD8AAIBCAETASQBDwEdASMBPQFBAT4BOAE5AVMBTgFaAUYBTwFJAXIBdgFWAXIBbgFuAXkBbgF0AXABbwFkAXQBcwFRAVwBRgFvAVUBQAFIAToBRQFGAUoBPgE/ATQBTQFWAUIBYAFmATwBRAE5AToBOwExAS8BHgErATABMAEXARMBDQECARUBBwEKAQkB+wALAQIBCAEFAfsACAEhASYBCQEbATIBJAEoASgBIgEtASUBVAFPASQBTgFRAUgBTgFTAVMBVwFYAVYBVwFSAUkBSAFQAU4BSwFPAVEBUAFGASgBJgEhARYBKAEZARIBGAEcARwBFAEXARkBFwH/AP4A+gDyANsA3gDaAOQA9ADgANcAyADWAMAAyQC/AKIArgCkAJMAfgCGAIIAfgCEAJAAgQBhAIcAWgBjAIAAWwBkAGUAYwBZAFoAUgBpAGYAWQBBAEMARAA7ADkAPQA9AD0APgA5ADoAPQBPACYAGQAkACYAHQAOACAALQAHABAABwAHABkABgASABQABwAUABIAFQARAPD/8//z/+//9P/5/9n/7f/U/83/0f+s/67/uv+q/5r/lv+P/47/dP+V/5j/kv9//5j/m/+A/33/hf+Q/4H/iv+K/4v/gv+J/4n/kv+P/5f/jf+R/5X/hv+N/4f/ff93/3n/eP92/33/gv+A/3f/Y/9b/2P/a/9a/2L/YP9i/0L/NP89/1b/X/8+/2D/Vf8+/z//O/8d/x7/Ev/9/gf/9/7//v/+4f7k/uD+2v7h/r7+vv7A/p7+mv6c/qT+pP5z/nv+m/5u/m/+b/5p/nT+dP5n/m3+lP50/pr+mf6A/nf+dv58/nb+oP58/nL+e/6N/qP+nP6w/qX+of6o/qj+xP6u/qv+pf6x/r/+zP7G/s/+z/7E/uj+zv7m/vL+/P70/uv+9/78/vv+9/78/vr+Af8D/wn/Bf/7/gn/Bf8B/wz/6f7y/u7+4/7t/un+3v7h/u3+9P7c/tD+4f7f/u3+4/7d/uT+5P7g/tX+3P70/uD+1P7X/tL+1P7Y/tT+zf7a/rP+t/7M/s7+0f7D/sv+x/7Q/sn+yf7S/s3+zf7I/sn+2f7h/vD+5/7r/g3/DP8M/wr/I/8w/yr/MP81/zD/L/86/zb/M/9U/03/VP9b/zz/S/9e/13/Vf9e/1j/YP9R/1D/Yv9X/1z/Vv9V/4f/ef9X/3//d/+C/5f/mf+W/53/qv/F/7v/q//A/63/v/+p/5//xf+j/6//x//A/8z/0P/K/8v/yf/N/+H/5P/s/+7/5P/p/wEA3//r//7/+/8dACsAKAAtAEYASQBJADEALQA+AEwASABMAEkAXABsAEoATwBFAEkAZwBVAEwASgBBAEcASgBCAEAASABHAEUAQAA+AEYAPwBCAFcAXABgAFsAWQBRAFcAXgBjAF0AVQB2AHMAeAB0AHMAewByAHoAcwBzAHMAiAB1AHAAjwCUAJAAlACIAIsAqACwALEApADMANQAzwDiAO4A6wDqAPIA7ADtAOYA7AAJAQYB+AD+AAYBCQEAAf4AAgH2AP8AHwH+AP4AAQH9APgA+QATAQ0BGAETAQwBEwEcARsBFgEUARUBGAEUARIBFwEbAQ4B+ADyAPsA+QD5APgA7wD6AAAB+QABAfAA5wD9APgA+QDnAN8A4wDkAOIA2wDcAN8A1wDeAOMA3AD/APkA/QD7APgA/QD3AP0A9gD+AAkBDwEOARUBDwERARABFQEmARgBJQEVAQgBDQELAQcBBgEgASEBKAEgASQBPgE6AT8BPwE/AUcBOgFAAToBQQFAATwBNwEmATYBHwEWAR4BFwEVARIBAAH3APMA8AD6APYA7gDyAPQA9ADyAPwA9gDTAOAA6gDhAOwA1QDZAO4A3gDXANgA3gDMAMIAsQC+ALUAtADaALUAtAC3AL4AwQCyAL8AuwC8ALIApwC7ALsAqwCmAKgApQCiAKwAqACqALMArAC+ALQAkgCaAJIAjwCVAJcAlgB5AIsAigBeAFsAZgBlAGgAaABKAFIASQBHAEYAMAAoADMAKQAWAC0AEQAQAAwABAAEAAEABAAAAPz/+P8EAPL/+//w//v/8f/W//H/z//L/8r/y//F/8b/xf+j/5//nv+j/5j/ov+V/5X/jv+S/7D/l/+w/67/tf+0/6n/wP+l/7L/tf+r/9D/2f/c/+D/1v/c/+j/3P+8/7r/t//A/7n/nv+b/5//oP+d/5z/ov+d/5f/i/9s/3X/c/9t/3L/bf9w/2n/U/9M/1H/SP9O/3D/YP9L/1L/T/9V/03/Wf9Q/zH/M/9d/1n/N/8+/zz/NP80/zf/Pv81/zX/Pf8y/0D/NP81/zr/Lf80/1r/Tv9g/1n/Mf9Q/yv/Rv9C/1P/bv9N/1r/Vf9S/1P/WP9i/1b/Nf89/zX/Kv8z/yn/M/8j/zL/MP8f/0b/IP8k/xT//P4n/yH/BP8M/wb/CP8D/+n+CP/x/gj/Df/0/vH+7/71/tL+2v7c/tf+0P7e/tj+t/7A/rn+xP68/sP+zP67/pX+qP7U/qn+oP6p/p7+nf7H/sT+zf7L/sn+6v7i/uv+Bv8B/+X+BP8I/wX/Af/9/v7+3v4C//r++f4F//D+//7+/vz+8v4a//P+7v4e/xj/B//6/gn///4P/xT/D/8T/zD/E/8Q/yn/Mv8z/yz/Ov8u/zf/GP8M/yL/Ff8U/wr/Df8W/xf/Dv/7/hP/E/8N/wr/D/8S/xb/GP8N/xn/Ff8L/zD/I/8o/zX/M/9L/zn/Uf9d/07/TP9g/0//Vv9Z/1X/WP9a/2P/W/9k/1v/Xf9j/2H/Z/9o/1n/Xv9e/2f/af9q/2r/Z/9m/3D/Z/9v/4j/jP+G/5b/kf+N/6P/j/+p/5D/jv+O/4D/lf+Q/4n/j/+G/5j/lP+S/5P/bP9w/37/iP9n/2//Zf9p/2r/av9k/2T/lf+K/4f/iv+K/57/mv+W/7X/s/+1/9X/1f/K/8j/0f/1/+n/5f/k/+n/CgAOAAgADwAoACEAJwBLAFIASQBKAE0ATgBPAEsASABlAGUAcACHAIkAkgCIAI8ApQCdALIAywCvAKcAqACrAKoAoACeAJ8AsgCbAH4AmgCYAJ0AngCiAJ0AfwCMAHsAdwB2AHgAggB4AJcAlwCQAJgAmACmAJsAlACUAJoAmgCZALkAxQC4AJsAlAC1AMEAvADDAL8AvADCALgAyADAALoAwwDBAMIAuwDbANwA2wDqAOkA5wDpAOkA4ADlAOcA4wD1AP8ABwEKAfYAFAEKAe0A7wDtAOsA6ADnAPAACwEFAe4A7wDwAPAA7ADvAO0A1gDTANIAyADGANAAxwDJAMsA0gDEAM4AyQDGAOkAxgDGAMwAwwDCAL4AwAC8ALsAwwC6ALoAuAC2ALMAuADUAM4AywDPAMoA0QDIAM8A0wDSAOMA3gDmAOUA5gDkAPAA/QAFAQEB/gASAR0BBQEIARUBCAEJAQEBCQEFAQABBgEAAeUA8QDiAOUA7ADJAM4AxgDGAM4AywDGAMgA1QDEALkAzACuAKgAtAC2ALIArQC1ALkAvQCxALkAtwCyALUAuwC8AJcAigCPAJYAlQCQAIsAjQCOAIcAkQCNAI0AkACSAJIAiQCKAJMAigCUAIsAiACFAIgAsgCsAKcAtACoAK4AqgCsAKsApgCoAI8AoQCmAKoAiQB6AIAAawBkAH4AhABaAGcAYwBZAGMAaABkAFYARABJAEIARAA9ADwARQBLAEQAJgBCAD8ALgArAC0AMQAmAAwADQAPABYAFQD3//f/9v/4//n/9f/S/8j/1f/K/9L/x//P/9D/rP/Q/8v/zP/R/87/0f/S/+z/1P/2//f//f/+//L//f/6/wAA/P/7//P/AgD8////+v/d/9n/3f/Y/9X/1//Y/9f/1f/U/9L/4P/e/9b/2f/B/77/tv+2/8H/s/+4/7X/sP+y/7H/t/+z/43/kv+H/5L/lv9s/2v/cf9q/1j/bf9r/2r/av9w/2j/T/9M/0b/U/9S/0//U/9Q/0r/Tv9V/1j/V/9O/1f/WP9d/2D/Pv83/zn/Pv88/zn/Qf84/yr/IP8k/yj/If80/yj/E/8T/xD/EP8N/xH/D/8S/w7/E/8U/yz/GP8R/xX/F/8w/xz/GP8T/xT/Ef8U/xj/Ef/3/v3++P7w/vH+1f7Y/tr+1/7U/s/+0f7j/tf+0v7S/sH+u/6z/rj+tP63/qz+qv7G/sf+xv7O/uL+5/7r/uz+4v7i/uj+4P7h/uT+2v7Z/uj++f7g/vv+Bv8C/wz/AP8I/w7/Bf8H/w7/Cv8J/wb/Av8I/yj/JP8q/yH/Lv9C/0T/Pf9U/2n/TP9t/3f/e/9U/1//Vf9Q/2H/Pv9E/zb/Qv88/zz/P/82/zn/Rf8+/0T/PP8l/yL/IP8//yL/Ff85/zT/N/9L/0//S/9T/2T/Xf9U/07/Vf9g/1P/Uv9M/1L/S/9O/3T/Tf9J/0z/Sf9z/0X/UP93/3H/Zv97/4r/fP+O/5T/k/+S/5n/mP+d/7H/uf+z/8f/xf+9/+L/3//b/+H/5f/u/8T/6v/l/8P/3P/K/+X/4P/g/+X/4v/e/+L/5//j/9z/1P/j/+T/2v/S/+D/3f/W//v/+f/6//r/+v/4/wAAJAAYACMAAAABAB0AIwAoAB0AJAAkACQAHgAdAC0APgA9AD8ASABHAEMARABEAF8AXwBbAGAAegB/AHkAhACDAHkAhACaAJgAngCqAKIAoQCmAK0ApgChAKIAggCcAKYAtAClAIcAqgCiAJEAigB9AIQAgQCLAIAAewB6AGUAgwB8AHMAeACFAHwAeACMAJMAlgCUAJEAjwCgAJUAjQCOAJQAmQCWAJEAjwCKAHEAcgCCAIoAigCLAH8AfAB3AH8AoACZAI8AmACzALcAtAC5ANkAugC1AN4A2gDbANcA8gD0APsA/AD3APoAAAH/AAYBAQHeAOcA4ADoAPkA5AD6AP4A6ADxAOAA6wDxANoAwgDHANkA5wDjAL8AvgC/AN8A3ADnANwAvwDnANgAyQC/ALoAtwDDALoAugC6AKEApACjAKkAmQCcAKUApwCiAJkAmgCaAJcAogCSAJgAqgCVAKoArwCjAKoA0QDUANgAzQDNAN4A1gDNANEA7ADwAO0A7AD3APQA8gDzAPcA9AD4APQA6gDyAPYA+AD0APQA6gDyAPYA6gD0AO0A+QDvANEA0ADMAOwA+QDqAPUA7ADZAMkA0gDPALAArgCrAKIAhQCIAIsAhwCFAIYAhQBtAG8AagBzAF4ATQBcAGQAaABlAGAAaABkAGUAWgBMAGAAYQBqAGMAWgBkAGIAYQBiAGIAZgBeAGoAYQBDAEEARQBCAEQASgBNAEAAQwBFACUAKAAgACwAIAAWACIAFQAaABoAHQAeABwAGwAXABYAIQAZAAIAAgD2/+f//v/3/+f/4v/p/+T/vf+2/8P/uv+g/6D/mv+X/5j/hv9//3P/gv+O/3//c/94/3z/dv92/3b/cv92/3//dv9x/3X/d/98/5T/lf+T/5z/jf98/3//ff9w/4H/iv+J/4f/hf+I/4f/hv+I/4b/jv+J/4v/hP90/4T/if+O/5D/kv+N/4v/lv+M/47/j/9//3H/dv9u/3j/ff95/3n/Wf9k/2f/Sf9A/0v/SP9O/0z/Jf8h/zL/Kv8O/wz/FP8H/w3/DP8R/w3/H/8n/xz/Kv8c/zn/O/8W/yn/Mf8o/yP/Ff8l/yL/Jf8h/xr/J/8i/xz/JP8o/xb/Hv8q/yD/If8O/yn/Mv8Q/z//QP87/1T/WP9F/1X/XP9O/1//Wv9a/1v/UP9Q/1r/Vf9V/07/O/88/zX/Nf9G/zz/Nf82/zn/C/8U/zf/DP8D/zX/OP8O/xb/C/8S/xT/Cf8I/xP/EP8F/zn/Mf8M/zj/Mf85/z7/Hf9H/yH/HP8Z/xr/Hf8V/xr/I/9I/x7/Iv9M/0r/S/9K/0f/Tf9H/03/Zf9n/2X/a/9l/4X/jP+P/63/j/+O/5n/jP+I/43/jP+D/5T/iP9+/4X/gP+A/3v/fv+J/3r/hP96/2f/av9Y/3r/dP9U/1v/cP92/3f/cv94/3v/bf9x/3P/gP92/3L/eP96/3n/dv95/3f/Zv9g/2H/Xf9p/13/Y/9i/1z/av9m/2P/a/+F/3T/cf+V/47/lP+R/5r/sP+z/6v/rv/L/8//6//r/+3/8//2/+n/7//x//L/AADm//z//v8KAOj/5P8BAPP/CgADAAEAAQAGAAAADAAjABEAAwAFAPz/9f8iACUAIQAuAB4AHgAiADcAPwAxADcAJwAtACgAHwAnABkAIAAgACgAHAAvACEAKAAsAAsALQD//wEAIwAAAP7//f/+//v/BAD9/wAAGQAhABYAEwA3ADcAOgA6AEMAXgBCAD8AVQBgAFcAUABSAFYAdwBuAGgAdgBuAHIAZQBoAI4AkgCLAI0AkACNAIQAlQCjAJsAowCkAKIAqACeAK4ArgCfAKoAswChAKwApACiALQAjQCNAI0AiQCFAHsAhwBnAHYAjgCFAI4AgwCHAJAAiwB3AHIAcQBmAHIAbABwAIIAhwCfAKIApwCnAJ0ApQCdAKAApwCoAKoArADDAMgAzADFAM0AyADBAOoA5gDjAPYA8QDtAPkA+wDxAN4A7QD2APkA9QD1APEA9wAQAQQBEAERARABDwEOAQwBDgESARgBFgELARQB8QDpAO4A7gDoANAA0gDMAMgAyADNALAArQCwAKgApwCvAKIAkwChAKcAowCDAKAApwChAKgAowCjAKMAogCcAKIAnwChAJ8AmQCaAJIAgACRAJQAlgB+AHcAkwByAHgAjACPAJEAjwCSAI0AkgCWAJQAlgCUAJEAkACwALgApwCvALkAuQCUAJQAmACeAJsAmwCaAIUAhgB+AHkAZABnAGUAVgBiAGcAZwBqAGYARwBIAEwAKgArACwAKAApAD4ARQBEAE0ATABJAD4APgAuACMAJgAhACEAJAAdACAAJQAZABkAIgAjABwAHgAjABYAGQAdAB0AGwAgABEAIAA1ABcAHwA7ADoAIQAYACEAFwAcADAAHQAvAD0AMQA9ADcAPAAwABoAHgAdABkAIgAVAP//HAAaAP3/CAD3/wQADQDc/97/4//Z/8n/w/+//8D/u/+8/7//uP+7/77/wP+5/73/uP+7/6X/mf+n/6L/mv+d/5v/if9//4H/g/+E/4P/fv+A/4H/hf98/4D/if93/4L/oP+Y/5v/p/+Z/6D/uf+7/7r/u/++/9T/1P/e/9v/w//C/7z/vv/F/7X/ov+k/6L/m/+U/6f/nP+b/5r/eP9+/3v/d/90/3j/e/97/33/dv94/3n/gf96/3v/gv+A/4X/if+M/3H/bf9s/27/c/9d/1z/W/9W/1f/NP84/y//L/9c/z//Nv84/0D/Pf87/zz/NP88/0v/Wv9K/17/T/9R/1f/U/91/2//c/91/3f/mP+Q/3r/jv+e/53/lP+Y/53/l/+X/5b/kf+X/5z/lP+Y/5r/l/+Y/4r/kf+L/5n/s/+T/5f/kv+Z/7D/q/+1/7D/s/+z/7n/t/+i/6T/nP+r/6T/of+m/4r/kv+G/47/jv+M/4z/jP+H/2r/h/9x/3D/bv9z/4z/cP9o/2j/h/+Q/43/h/+N/6X/p/+o/6T/uP/C/7H/y//J/6//zf/G/63/r/+t/6r/q//D/8r/xv/I/8T/vf/B/8P/w/++/8H/uv/M/97/wf/W/9n/4P/b/9f/3v/W/97/2//h/+T/4v/A/8X/vP/H/9r/v//C/8D/xf+8/77/w//H/73/yf+9/8H/xf+m/77/tP++/8T/xf/c/97/4//f/+P/4f/h//3/AQAAAAIA/P8CAAcACwD7//z/IgAlACsAHQAdACkAJAAuAB8AHgA0ADEAKgAxACgAMgAwACYAKgBEAEgARwBCAEEAZABeAEwATwBKADoATABJAEIAQQBDAEMATQBMAEMARQAsAC0AJQApAC0AJQAUABcAIgAlABwAHwATABgAKQASABUADAAWAB8AKwAoAAAAGQApACEAKAAjAB8AKQAnACgAHwAvADUAEwAoABQAFQAJABMAJwARACMAIQAgACkAKQArACAAKgA3ACwAPwA9AEMAPwBNAF0AVwBkAF4AYQBiAF4ARwBEAGEAYwBjAGwAZgBHAE0ATwBHAEYARwBJAC8ARAA0ACUALAAiADEAJwAsAEgAMAAjACsAJQBIAEIAKwBGAD4ASQBCAEgAQgAwAE0AIgBOAEIAKwBEAC0AQABMADoAHABGAEIARABEACcAOgA2AD0ARQA8AEUAPAA7ADsAOwA7AD8AMQA/AFYAQQBYAFQAVgBgAFgAPQA+AGAAWQBGAEQAPABBAEIASAA+ACcAOgApACYAHgAmACEACQASAA8AEAAEABUADAD1//H/+/8AAPf/CwAIABUADgADABMAFAAOABUAFQD5//7/AQDq//3/+P/4//b/5P/0/93/3P/1//j/BQD4/9z/9P/1//r/8//w//H/9P/z//n/DwARAA8ADwAjAB4AIwASAAgAEQAkABwAFQAPAA4AFQALAA8ABwAJABQAEgATABEA8v8OAP3/7v/9//P/7f/9/wMA9//y/+7/8//t//z/7//3//X/8P/s//T/8f/g//z/8f/U/+L/1v/X//H/2//Y/9r/0v/a/+7/2P/f/9z/xv/h/9X/1//O/9n/5//h/+3/0//v/+//8/8MAPX/+v/w//v/9P/3//f//f8VAP////////j/9v8BAP7//P8BAAEA/v/7//////8FAP7/+v/7//v/+v///wIA/f/7/wQABADf/+X////t/+H/2//a/+T/8P/h/+H/4f/R/8D/wf/B/8j/xf+u/6f/m/+p/6X/oP+e/6H/of+c/6P/sv/L/7v/nP+5/77/tf/i/9j/2f/f/8P/yP+7/73/wv/C/8H/v//g/8f/wf/J/7r/x//B/8P/uv/B/8H/v//D/8D/vf+9/9v/1//g/8r/t//b/+T/3P/e/9r/3f/e/+j/2//p/+P/vv/h/8n/yP/B/8f/yf/D/6z/rP/G/5//r/+p/6j/o/+m/6j/qf+m/47/m/+j/53/pf+Y/6L/u/+a/77/uf+q/7X/qv+p/7D/vv+7/83/sv+//8b/pv+z/63/qf/F/8L/q/+l/6//qv+v/7b/rP+l/7j/sv+3/9n/wv+//8H/v//C/9f/xP+8/9z/1//a/+D/x/+7/8P/vf/A/77/yP++/7L/uv+y/7D/sf+3/7D/qf+2/7T/rv+3/5v/nv+6/6D/nP+X/5b/nP+b/4//oP+u/57/uP+1/6D/mP+f/5P/mv+a/5D/uP+d/53/lf+c/7X/mf+d/5r/nP+i/5z/oP+4/5X/mv+6/7f/vv/I/83/zf/N/9D/yv/H/9P/0P/n/+//6v/K/+//5//N/+j/2v/o/9f/0v/M/9H/0v/T/9X/yv+6/8P/1P/A/77/wP++/7r/vv+4/7n/u/+4/7j/wf++/7X/tf+4/6n/tf+y/5T/l/+c/6j/s/+z/5b/jv+V/5L/iv+V/5L/kf+X/43/jf+p/5H/jv+w/4n/mP+n/7L/q/+0/67/sv/L/7f/0v/V/9H/2P/R/9v/5v/d/+r/6//d/9z/3f/g/9b/3v/r/9f/4//s/9f/4v/b/9n/2v/Z/97/2//b/9v/2v/f/9f/3f/w/9X/4f/t//H/6P/h/+v/3P/v/+v/7v/x/9z/3f/d/9r/0//b/9D/2v/j/9b/4//R/+L/4v/f/+z/5v/l/+P/3v/e//j/+//1/wAAFwAYACAAIwAeACMAIQAkACMAKAAnACQAJgAkADsAPQAxAC8AMQAuADAAMAAxAEIAMQA2ADgAEgASAC4ALgAxAEcARwBPAEsAOgBNADIAPQAxABsALwAYABEAGwAoABMAJgAvAC0ALAAtAC4ADQAQACgAFAALAA8ABgAOAAIAEAAkACkAIQArACoAKwAmACcAOgApADoAPAA8AF4AXQA/AD8APQA4ADkAPABWAFkAVQBZAFQAWwBbAFIAWABcAFcAVQBYAFkAVwBYAFQAPABWAFIAVQBqAFMAUQBrAGgAVABWAFgAVgA7ADkAOgAtADUALwAxAFAANAAyADYAHwAlAB8AIAAeACYAIQAJAAAAAAABAAAAAQAAAAEAAAAAAAEAAAABAAAA//8AAAEA//8AAAAAAAAAAP7/AAAAAAAAAQAAAAAAAAD//wEAAAAAAAEAAAABAAAAAAD///////8AAAAAAAAAAP//AAD//wAA/////wAA//8AAAAAAQABAAAAAAAAAAAAAAD//wAAAAAAAAEAAAAAAAEAAAAAAAEAAQAAAAAAAQAAAAAAAAD//wAAAAAAAAAA//8AAAAAAAAAAAAAAQAAAAAAAAAAAAAAAAAAAAAAAAAAAAAAAAD/////AAAAAAAAAQABAAAAAAAAAAAAAAAAAP//AAAAAAAAAAAAAAAAAAAAAAAAAAD//wAAAAAAAAAAAAD//wAAAAAAAAAAAAAAAAAAAAAAAAAAAAAAAAAAAAAAAAAAAAAAAAAAAAAAAAAAAAAAAAAAAAAAAAAAAAAAAAAAAAA=\" type=\"audio/wav\" />\n",
              "                    Your browser does not support the audio element.\n",
              "                </audio>\n",
              "              "
            ],
            "text/plain": [
              "<IPython.lib.display.Audio object>"
            ]
          },
          "execution_count": 36,
          "metadata": {},
          "output_type": "execute_result"
        }
      ],
      "source": [
        "import IPython.display as ipd\n",
        "import numpy as np\n",
        "import random\n",
        "\n",
        "rand_int = random.randint(0, len(train_dataset)-1)\n",
        "\n",
        "print(train_dataset[rand_int][\"sentence\"])\n",
        "ipd.Audio(data=train_dataset[rand_int][\"audio\"][\"array\"], autoplay=True, rate=16000)"
      ]
    },
    {
      "cell_type": "markdown",
      "metadata": {
        "id": "gY8m3vARHYTa"
      },
      "source": [
        "It seems like the data is now correctly loaded and resampled."
      ]
    },
    {
      "cell_type": "markdown",
      "metadata": {
        "id": "1MaL9J2dNVtG"
      },
      "source": [
        "It can be heard, that the speakers change along with their speaking rate, accent, and background environment, etc. Overall, the recordings sound acceptably clear though, which is to be expected from a crowd-sourced read speech corpus.\n",
        "\n",
        "Let's do a final check that the data is correctly prepared, by printing the shape of the speech input, its transcription, and the corresponding sampling rate.\n",
        "\n",
        "**Note**: *You can click the following cell a couple of times to verify multiple samples.*"
      ]
    },
    {
      "cell_type": "code",
      "execution_count": 37,
      "metadata": {
        "colab": {
          "base_uri": "https://localhost:8080/"
        },
        "id": "1Po2g7YPuRTx",
        "outputId": "63478ae9-2927-4ec1-c13c-41fb3754e18e"
      },
      "outputs": [
        {
          "name": "stdout",
          "output_type": "stream",
          "text": [
            "Target text: the village faces the estuary of the river kent\n",
            "Input array shape: (88704,)\n",
            "Sampling rate: 16000\n"
          ]
        }
      ],
      "source": [
        "rand_int = random.randint(0, len(train_dataset)-1)\n",
        "\n",
        "print(\"Target text:\", train_dataset[rand_int][\"sentence\"])\n",
        "print(\"Input array shape:\", train_dataset[rand_int][\"audio\"][\"array\"].shape)\n",
        "print(\"Sampling rate:\", train_dataset[rand_int][\"audio\"][\"sampling_rate\"])"
      ]
    },
    {
      "cell_type": "markdown",
      "metadata": {
        "id": "M9teZcSwOBJ4"
      },
      "source": [
        "Good! Everything looks fine - the data is a 1-dimensional array, the sampling rate always corresponds to 16kHz, and the target text is normalized."
      ]
    },
    {
      "cell_type": "markdown",
      "metadata": {
        "id": "k3Pbn5WvOYZF"
      },
      "source": [
        "Finally, we can leverage `Wav2Vec2Processor` to process the data to the format expected by `Wav2Vec2ForCTC` for training. To do so let's make use of Dataset's [`map(...)`](https://huggingface.co/docs/datasets/package_reference/main_classes.html?highlight=map#datasets.DatasetDict.map) function.\n",
        "\n",
        "First, we load and resample the audio data, simply by calling `batch[\"audio\"]`.\n",
        "Second, we extract the `input_values` from the loaded audio file. In our case, the `Wav2Vec2Processor` only normalizes the data. For other speech models, however, this step can include more complex feature extraction, such as [Log-Mel feature extraction](https://en.wikipedia.org/wiki/Mel-frequency_cepstrum).\n",
        "Third, we encode the transcriptions to label ids.\n",
        "\n",
        "**Note**: This mapping function is a good example of how the `Wav2Vec2Processor` class should be used. In \"normal\" context, calling `processor(...)` is redirected to `Wav2Vec2FeatureExtractor`'s call method. When wrapping the processor into the `as_target_processor` context, however, the same method is redirected to `Wav2Vec2CTCTokenizer`'s call method.\n",
        "For more information please check the [docs](https://huggingface.co/transformers/master/model_doc/wav2vec2.html#transformers.Wav2Vec2Processor.__call__)."
      ]
    },
    {
      "cell_type": "code",
      "execution_count": 38,
      "metadata": {
        "id": "eJY7I0XAwe9p"
      },
      "outputs": [],
      "source": [
        "def prepare_dataset(batch):\n",
        "    audio = batch[\"audio\"]\n",
        "\n",
        "    # batched output is \"un-batched\"\n",
        "    batch[\"input_values\"] = processor(audio[\"array\"], sampling_rate=audio[\"sampling_rate\"]).input_values[0]\n",
        "    batch[\"input_length\"] = len(batch[\"input_values\"])\n",
        "\n",
        "    # with processor.as_target_processor():\n",
        "    #     batch[\"labels\"] = processor(batch[\"sentence\"]).input_ids\n",
        "    batch[\"labels\"] = processor.tokenizer(batch[\"sentence\"]).input_ids\n",
        "    return batch"
      ]
    },
    {
      "cell_type": "markdown",
      "metadata": {
        "id": "q6Pg_WR3OGAP"
      },
      "source": [
        "Let's apply the data preparation function to all examples."
      ]
    },
    {
      "cell_type": "code",
      "execution_count": 39,
      "metadata": {
        "colab": {
          "base_uri": "https://localhost:8080/",
          "height": 81,
          "referenced_widgets": [
            "012b09b271a842d0a7f1cd1260654c82",
            "6a40faf77bf445308534e7acada6bf0d",
            "a62ff1ee03dc47c9834b43720df991ea",
            "03d00b443bfd445d9286f64fd8556031",
            "557063bf861648f7aefacf71aa53ea9b",
            "21af0f39c0ce40a5846b980f98481940",
            "f6e0ea791e5a44abb5d5891bb3e254ad",
            "6323e35581be4b338a904266a5e85005",
            "6da7072e7f634a3aa2927fca1bcf38c0",
            "716dc4ab4fe74abab49f3c0f009357f5",
            "8a669878b8354867944e577860910001",
            "3aa317d2b42e4674b38dafa87b5599c5",
            "0a7c2124936345febe50288a476a12a6",
            "bdcf9380af5d4601b9b2de84b06ecb40",
            "b9c5532ffabb44078de8a6f76a4b8be6",
            "7732bb1317f940faa455f992f4fd2b26",
            "f28c64f34f9540b6b6bdc765c84e2307",
            "02016dcc44994c15b69e7f2c4dd0d9c4",
            "bbfc45e0cf5644f6bc24118fa9c6c098",
            "eca458b185ae4570b1ec1e77389c871e",
            "fe156fa95ee9410daff8f7c9a8b0d3a3",
            "a5e2e1fe3ab94cc6ae1a73cc1ab6f9a8"
          ]
        },
        "id": "-np9xYK-wl8q",
        "outputId": "00d6940a-a7bf-4128-896b-76bc289e5b7f"
      },
      "outputs": [],
      "source": [
        "train_dataset = train_dataset.map(prepare_dataset, remove_columns=train_dataset.column_names)\n",
        "test_dataset =test_dataset.map(prepare_dataset, remove_columns=test_dataset.column_names)"
      ]
    },
    {
      "cell_type": "markdown",
      "metadata": {
        "id": "nKcEWHvKI1by"
      },
      "source": [
        "**Note**: Currently `datasets` make use of [`torchaudio`](https://pytorch.org/audio/stable/index.html) and [`librosa`](https://librosa.org/doc/latest/index.html) for audio loading and resampling. If you wish to implement your own costumized data loading/sampling, feel free to just make use of the `\"path\"` column instead and disregard the `\"audio\"` column."
      ]
    },
    {
      "cell_type": "markdown",
      "metadata": {
        "id": "24CxHd5ewI4T"
      },
      "source": [
        "Long input sequences require a lot of memory. XLS-R is based on `self-attention` the memory requirement scales quadratically with the input length for long input sequences (*cf.* with [this](https://www.reddit.com/r/MachineLearning/comments/genjvb/d_why_is_the_maximum_input_sequence_length_of/) reddit post). In case this demo crashes with an \"Out-of-memory\" error for you, you might want to uncomment the following lines to filter all sequences that are longer than 5 seconds for training."
      ]
    },
    {
      "cell_type": "code",
      "execution_count": null,
      "metadata": {
        "id": "tdHfbUJ_09iA"
      },
      "outputs": [],
      "source": [
        "#max_input_length_in_sec = 5.0\n",
        "#common_voice_train = common_voice_train.filter(lambda x: x < max_input_length_in_sec * processor.feature_extractor.sampling_rate, input_columns=[\"input_length\"])"
      ]
    },
    {
      "cell_type": "markdown",
      "metadata": {
        "id": "1ZWDCCKqwcfS"
      },
      "source": [
        "Awesome, now we are ready to start training!"
      ]
    },
    {
      "cell_type": "markdown",
      "metadata": {
        "id": "gYlQkKVoRUos"
      },
      "source": [
        "## Training\n",
        "\n",
        "The data is processed so that we are ready to start setting up the training pipeline. We will make use of 🤗's [Trainer](https://huggingface.co/transformers/master/main_classes/trainer.html?highlight=trainer) for which we essentially need to do the following:\n",
        "\n",
        "- Define a data collator. In contrast to most NLP models, XLS-R has a much larger input length than output length. *E.g.*, a sample of input length 50000 has an output length of no more than 100. Given the large input sizes, it is much more efficient to pad the training batches dynamically meaning that all training samples should only be padded to the longest sample in their batch and not the overall longest sample. Therefore, fine-tuning XLS-R requires a special padding data collator, which we will define below\n",
        "\n",
        "- Evaluation metric. During training, the model should be evaluated on the word error rate. We should define a `compute_metrics` function accordingly\n",
        "\n",
        "- Load a pretrained checkpoint. We need to load a pretrained checkpoint and configure it correctly for training.\n",
        "\n",
        "- Define the training configuration.\n",
        "\n",
        "After having fine-tuned the model, we will correctly evaluate it on the test data and verify that it has indeed learned to correctly transcribe speech."
      ]
    },
    {
      "cell_type": "markdown",
      "metadata": {
        "id": "Slk403unUS91"
      },
      "source": [
        "### Set-up Trainer\n",
        "\n",
        "Let's start by defining the data collator. The code for the data collator was copied from [this example](https://github.com/huggingface/transformers/blob/7e61d56a45c19284cfda0cee8995fb552f6b1f4e/examples/pytorch/speech-recognition/run_speech_recognition_ctc.py#L219).\n",
        "\n",
        "Without going into too many details, in contrast to the common data collators, this data collator treats the `input_values` and `labels` differently and thus applies to separate padding functions on them (again making use of XLS-R processor's context manager). This is necessary because in speech input and output are of different modalities meaning that they should not be treated by the same padding function.\n",
        "Analogous to the common data collators, the padding tokens in the labels with `-100` so that those tokens are **not** taken into account when computing the loss."
      ]
    },
    {
      "cell_type": "code",
      "execution_count": 40,
      "metadata": {
        "id": "tborvC9hx88e"
      },
      "outputs": [],
      "source": [
        "import torch\n",
        "\n",
        "from dataclasses import dataclass, field\n",
        "from typing import Any, Dict, List, Optional, Union\n",
        "\n",
        "@dataclass\n",
        "class DataCollatorCTCWithPadding:\n",
        "    \"\"\"\n",
        "    Data collator that will dynamically pad the inputs received.\n",
        "    Args:\n",
        "        processor (:class:`~transformers.Wav2Vec2Processor`)\n",
        "            The processor used for proccessing the data.\n",
        "        padding (:obj:`bool`, :obj:`str` or :class:`~transformers.tokenization_utils_base.PaddingStrategy`, `optional`, defaults to :obj:`True`):\n",
        "            Select a strategy to pad the returned sequences (according to the model's padding side and padding index)\n",
        "            among:\n",
        "            * :obj:`True` or :obj:`'longest'`: Pad to the longest sequence in the batch (or no padding if only a single\n",
        "              sequence if provided).\n",
        "            * :obj:`'max_length'`: Pad to a maximum length specified with the argument :obj:`max_length` or to the\n",
        "              maximum acceptable input length for the model if that argument is not provided.\n",
        "            * :obj:`False` or :obj:`'do_not_pad'` (default): No padding (i.e., can output a batch with sequences of\n",
        "              different lengths).\n",
        "    \"\"\"\n",
        "\n",
        "    processor: Wav2Vec2Processor\n",
        "    padding: Union[bool, str] = True\n",
        "\n",
        "    def __call__(self, features: List[Dict[str, Union[List[int], torch.Tensor]]]) -> Dict[str, torch.Tensor]:\n",
        "        # split inputs and labels since they have to be of different lenghts and need\n",
        "        # different padding methods\n",
        "        input_features = [{\"input_values\": feature[\"input_values\"]} for feature in features]\n",
        "        label_features = [{\"input_ids\": feature[\"labels\"]} for feature in features]\n",
        "\n",
        "        batch = self.processor.pad(\n",
        "            input_features,\n",
        "            padding=self.padding,\n",
        "            return_tensors=\"pt\",\n",
        "        )\n",
        "        with self.processor.as_target_processor():\n",
        "            labels_batch = self.processor.pad(\n",
        "                label_features,\n",
        "                padding=self.padding,\n",
        "                return_tensors=\"pt\",\n",
        "            )\n",
        "\n",
        "        # replace padding with -100 to ignore loss correctly\n",
        "        labels = labels_batch[\"input_ids\"].masked_fill(labels_batch.attention_mask.ne(1), -100)\n",
        "\n",
        "        batch[\"labels\"] = labels\n",
        "\n",
        "        return batch"
      ]
    },
    {
      "cell_type": "code",
      "execution_count": 41,
      "metadata": {
        "id": "lbQf5GuZyQ4_"
      },
      "outputs": [],
      "source": [
        "data_collator = DataCollatorCTCWithPadding(processor=processor, padding=True)"
      ]
    },
    {
      "cell_type": "markdown",
      "metadata": {
        "id": "xO-Zdj-5cxXp"
      },
      "source": [
        "Next, the evaluation metric is defined. As mentioned earlier, the\n",
        "predominant metric in ASR is the word error rate (WER), hence we will use it in this notebook as well."
      ]
    },
    {
      "cell_type": "code",
      "execution_count": 43,
      "metadata": {
        "colab": {
          "base_uri": "https://localhost:8080/",
          "height": 49,
          "referenced_widgets": [
            "7c81059d35534b799623afe872095cac",
            "379128a308ab43ee9e785e234bb94049",
            "ff8e746cf8ef4f988617b8d4c0dd3c9c",
            "0204a7bc668746a68f6e5e5632753c1c",
            "84361b363998428a87b9e50b6625cca9",
            "c0919f3c8d594911815ce63273f7fe51",
            "69f2a9e473534148b96b2e9bd639a087",
            "5cd8c74ba2e845d498afdc1c25009767",
            "3f0c587f7b764d96837c8e16254aab12",
            "d3b5f5a0d35642e0b606ac63c38f88fa",
            "7ce84a97d72848c0967f732734afdd68"
          ]
        },
        "id": "9Xsux2gmyXso",
        "outputId": "18ceeb9e-1a0d-4ee8-f511-a12ad3608bf1"
      },
      "outputs": [
        {
          "name": "stderr",
          "output_type": "stream",
          "text": [
            "/home/lkk/miniconda3/envs/mycondapy310/lib/python3.10/site-packages/datasets/load.py:752: FutureWarning: The repository for wer contains custom code which must be executed to correctly load the metric. You can inspect the repository content at https://raw.githubusercontent.com/huggingface/datasets/2.16.1/metrics/wer/wer.py\n",
            "You can avoid this message in future by passing the argument `trust_remote_code=True`.\n",
            "Passing `trust_remote_code=True` will be mandatory to load this metric from the next major release of `datasets`.\n",
            "  warnings.warn(\n"
          ]
        }
      ],
      "source": [
        "wer_metric = load_metric(\"wer\")"
      ]
    },
    {
      "cell_type": "markdown",
      "metadata": {
        "id": "E1qZU5p-deqB"
      },
      "source": [
        "The model will return a sequence of logit vectors:\n",
        "$\\mathbf{y}_1, \\ldots, \\mathbf{y}_m$ with $\\mathbf{y}_1 = f_{\\theta}(x_1, \\ldots, x_n)[0]$ and $n >> m$.\n",
        "\n",
        "A logit vector $\\mathbf{y}_1$ contains the log-odds for each word in the vocabulary we defined earlier, thus $\\text{len}(\\mathbf{y}_i) =$ `config.vocab_size`. We are interested in the most likely prediction of the model and thus take the `argmax(...)` of the logits. Also, we transform the encoded labels back to the original string by replacing `-100` with the `pad_token_id` and decoding the ids while making sure that consecutive tokens are **not** grouped to the same token in CTC style ${}^1$."
      ]
    },
    {
      "cell_type": "code",
      "execution_count": 44,
      "metadata": {
        "id": "1XZ-kjweyTy_"
      },
      "outputs": [],
      "source": [
        "def compute_metrics(pred):\n",
        "    pred_logits = pred.predictions\n",
        "    pred_ids = np.argmax(pred_logits, axis=-1)\n",
        "\n",
        "    pred.label_ids[pred.label_ids == -100] = processor.tokenizer.pad_token_id\n",
        "\n",
        "    pred_str = processor.batch_decode(pred_ids)\n",
        "    # we do not want to group tokens when computing the metrics\n",
        "    label_str = processor.batch_decode(pred.label_ids, group_tokens=False)\n",
        "\n",
        "    wer = wer_metric.compute(predictions=pred_str, references=label_str)\n",
        "\n",
        "    return {\"wer\": wer}"
      ]
    },
    {
      "cell_type": "markdown",
      "metadata": {
        "id": "Xmgrx4bRwLIH"
      },
      "source": [
        "Now, we can load the pretrained checkpoint of [Wav2Vec2-XLS-R-300M](https://huggingface.co/facebook/wav2vec2-xls-r-300m). The tokenizer's `pad_token_id` must be to define the model's `pad_token_id` or in the case of `Wav2Vec2ForCTC` also CTC's *blank token* ${}^2$. To save GPU memory, we enable PyTorch's [gradient checkpointing](https://pytorch.org/docs/stable/checkpoint.html) and also set the loss reduction to \"*mean*\".\n",
        "\n",
        "Because the dataset is quite small (~6h of training data) and because Common Voice is quite noisy, fine-tuning Facebook's [wav2vec2-xls-r-300m checkpoint](https://huggingface.co/facebook/wav2vec2-xls-r-300m) seems to require some hyper-parameter tuning. Therefore, I had to play around a bit with different values for dropout, [SpecAugment](https://arxiv.org/abs/1904.08779)'s masking dropout rate, layer dropout, and the learning rate until training seemed to be stable enough.\n",
        "\n",
        "**Note**: When using this notebook to train XLS-R on another language of Common Voice those hyper-parameter settings might not work very well. Feel free to adapt those depending on your use case."
      ]
    },
    {
      "cell_type": "code",
      "execution_count": 45,
      "metadata": {
        "colab": {
          "base_uri": "https://localhost:8080/",
          "height": 191,
          "referenced_widgets": [
            "1ca82f9af3ae423096661a1ffd8a165f",
            "ce429683f48349c083e5fc3253a897d7",
            "acc35dfdfca542828d1bb02cbde15dfe",
            "aa92ff120d9c4dd68ae941d7a1f33a81",
            "731a283141f642b9ab5bf9f7053381d2",
            "4246da00789f44e2abce952906bde6f1",
            "059588e34a88476eb6bbc1860ddc27ef",
            "6ae3b3139e6641fc9e62ae5744349add",
            "92c30a7c6102443cad2f6f03211c32e0",
            "ad95ae421231492e814238bde2ecb551",
            "136f973d9623421eb38e09c73c6b6810",
            "367c85905a024248bce6c620b822b2ee",
            "7ea310732a56432da1a095a8d30edc1c",
            "2d2b8b8d5774494aa73d872e9a4c10d9",
            "f4af6a0756e241e49e5d325f1bdb18b4",
            "2b7e52a9be904663ae74226691de6ebd",
            "771530ea22364f1ea8963e2d542fcf49",
            "1cdac9cda666466ca1e09f32661d40ed",
            "3ec9917890f4452883bcaeac444d056c",
            "e9531fcd48b74929bfdb45cd3f3315e7",
            "349c9e8b2a8846c1bff5a03d2a28066a",
            "de1e5c31eacf4fa59cfa51926354acca"
          ]
        },
        "id": "e7cqAWIayn6w",
        "outputId": "3e6cebea-78ef-45df-87b0-f63b78ba9644"
      },
      "outputs": [
        {
          "name": "stderr",
          "output_type": "stream",
          "text": [
            "Some weights of Wav2Vec2ForCTC were not initialized from the model checkpoint at facebook/wav2vec2-xls-r-300m and are newly initialized: ['wav2vec2.encoder.pos_conv_embed.conv.parametrizations.weight.original0', 'lm_head.bias', 'wav2vec2.encoder.pos_conv_embed.conv.parametrizations.weight.original1', 'lm_head.weight']\n",
            "You should probably TRAIN this model on a down-stream task to be able to use it for predictions and inference.\n"
          ]
        }
      ],
      "source": [
        "from transformers import Wav2Vec2ForCTC\n",
        "\n",
        "model = Wav2Vec2ForCTC.from_pretrained(\n",
        "    \"facebook/wav2vec2-xls-r-300m\",\n",
        "    cache_dir = mycache_dir,\n",
        "    # attention_dropout=0.0,\n",
        "    # hidden_dropout=0.0,\n",
        "    # feat_proj_dropout=0.0,\n",
        "    # mask_time_prob=0.05,\n",
        "    # layerdrop=0.0,\n",
        "    ctc_loss_reduction=\"mean\",\n",
        "    pad_token_id=processor.tokenizer.pad_token_id,\n",
        "    vocab_size=len(processor.tokenizer),\n",
        ")"
      ]
    },
    {
      "cell_type": "markdown",
      "metadata": {
        "id": "1DwR3XLSzGDD"
      },
      "source": [
        "The first component of XLS-R consists of a stack of CNN layers that are used to extract acoustically meaningful - but contextually independent - features from the raw speech signal. This part of the model has already been sufficiently trained during pretraining and as stated in the [paper](https://arxiv.org/pdf/2006.13979.pdf) does not need to be fine-tuned anymore.\n",
        "Thus, we can set the `requires_grad` to `False` for all parameters of the *feature extraction* part."
      ]
    },
    {
      "cell_type": "code",
      "execution_count": 46,
      "metadata": {},
      "outputs": [
        {
          "name": "stderr",
          "output_type": "stream",
          "text": [
            "/home/lkk/miniconda3/envs/mycondapy310/lib/python3.10/site-packages/transformers/models/wav2vec2/modeling_wav2vec2.py:1925: FutureWarning: The method `freeze_feature_extractor` is deprecated and will be removed in Transformers v5.Please use the equivalent `freeze_feature_encoder` method instead.\n",
            "  warnings.warn(\n"
          ]
        }
      ],
      "source": [
        "model.freeze_feature_extractor()"
      ]
    },
    {
      "cell_type": "code",
      "execution_count": 51,
      "metadata": {
        "id": "oGI8zObtZ3V0"
      },
      "outputs": [],
      "source": [
        "model.freeze_feature_encoder()#model.freeze_feature_extractor()"
      ]
    },
    {
      "cell_type": "code",
      "execution_count": 52,
      "metadata": {},
      "outputs": [],
      "source": [
        "model.freeze_base_model()"
      ]
    },
    {
      "cell_type": "markdown",
      "metadata": {
        "id": "lD4aGhQM0K-D"
      },
      "source": [
        "In a final step, we define all parameters related to training.\n",
        "To give more explanation on some of the parameters:\n",
        "- `group_by_length` makes training more efficient by grouping training samples of similar input length into one batch. This can significantly speed up training time by heavily reducing the overall number of useless padding tokens that are passed through the model\n",
        "- `learning_rate` and `weight_decay` were heuristically tuned until fine-tuning has become stable. Note that those parameters strongly depend on the Common Voice dataset and might be suboptimal for other speech datasets.\n",
        "\n",
        "For more explanations on other parameters, one can take a look at the [docs](https://huggingface.co/transformers/master/main_classes/trainer.html?highlight=trainer#trainingarguments).\n",
        "\n",
        "During training, a checkpoint will be uploaded asynchronously to the hub every 400 training steps. It allows you to also play around with the demo widget even while your model is still training.\n",
        "\n",
        "**Note**: If one does not want to upload the model checkpoints to the hub, simply set `push_to_hub=False`."
      ]
    },
    {
      "cell_type": "code",
      "execution_count": 47,
      "metadata": {
        "id": "KbeKSV7uzGPP"
      },
      "outputs": [],
      "source": [
        "from transformers import TrainingArguments\n",
        "\n",
        "training_args = TrainingArguments(\n",
        "  output_dir=\"/DATA10T/output/wave2vec2xls2\",\n",
        "  group_by_length=True,\n",
        "  per_device_train_batch_size=16,\n",
        "  gradient_accumulation_steps=2,\n",
        "  evaluation_strategy=\"steps\",\n",
        "  num_train_epochs=30,\n",
        "  gradient_checkpointing=True,\n",
        "  fp16=True,\n",
        "  save_steps=400,\n",
        "  eval_steps=400,\n",
        "  logging_steps=400,\n",
        "  learning_rate=3e-4,\n",
        "  warmup_steps=500,\n",
        "  save_total_limit=2,\n",
        "  push_to_hub=False,\n",
        ")"
      ]
    },
    {
      "cell_type": "code",
      "execution_count": 43,
      "metadata": {},
      "outputs": [],
      "source": [
        "from transformers import TrainingArguments\n",
        "training_args = TrainingArguments(\n",
        "    output_dir=\"/DATA10T/output/wave2vec2xls2\",\n",
        "    group_by_length=True,#makes training more efficient by grouping training samples of similar input length into one batch.\n",
        "    evaluation_strategy=\"epoch\",\n",
        "    save_strategy=\"epoch\",\n",
        "    learning_rate=3e-4,\n",
        "    per_device_train_batch_size=16,\n",
        "    gradient_accumulation_steps=2,\n",
        "    per_device_eval_batch_size=16,\n",
        "    num_train_epochs=10,\n",
        "    warmup_ratio=0.1,\n",
        "    #warmup_steps=500,\n",
        "    logging_steps=100,\n",
        "    save_total_limit=2,\n",
        "    load_best_model_at_end=True,\n",
        "    #metric_for_best_model=myEvaluator.#\"accuracy\",\n",
        "    fp16=True,\n",
        "    push_to_hub=False,\n",
        "    #gradient_checkpointing=True,#reduce GPU memory, or use model.gradient_checkpointing_enable()\n",
        ")"
      ]
    },
    {
      "cell_type": "code",
      "execution_count": 44,
      "metadata": {},
      "outputs": [],
      "source": [
        "model.gradient_checkpointing_enable()"
      ]
    },
    {
      "cell_type": "markdown",
      "metadata": {
        "id": "OsW-WZcL1ZtN"
      },
      "source": [
        "Now, all instances can be passed to Trainer and we are ready to start training!"
      ]
    },
    {
      "cell_type": "code",
      "execution_count": 48,
      "metadata": {
        "colab": {
          "base_uri": "https://localhost:8080/"
        },
        "id": "rY7vBmFCPFgC",
        "outputId": "c47ecc78-5259-44db-c121-5bd7945defb8"
      },
      "outputs": [],
      "source": [
        "from transformers import Trainer\n",
        "\n",
        "trainer = Trainer(\n",
        "    model=model,\n",
        "    data_collator=data_collator,\n",
        "    args=training_args,\n",
        "    compute_metrics=compute_metrics,\n",
        "    train_dataset=train_dataset,\n",
        "    eval_dataset=test_dataset,\n",
        "    tokenizer=processor.feature_extractor,\n",
        ")"
      ]
    },
    {
      "cell_type": "markdown",
      "metadata": {
        "id": "UoXBx1JAA0DX"
      },
      "source": [
        "\n",
        "\n",
        "---\n",
        "\n",
        "${}^1$ To allow models to become independent of the speaker rate, in CTC, consecutive tokens that are identical are simply grouped as a single token. However, the encoded labels should not be grouped when decoding since they don't correspond to the predicted tokens of the model, which is why the `group_tokens=False` parameter has to be passed. If we wouldn't pass this parameter a word like `\"hello\"` would incorrectly be encoded, and decoded as `\"helo\"`.\n",
        "\n",
        "${}^2$ The blank token allows the model to predict a word, such as `\"hello\"` by forcing it to insert the blank token between the two l's. A CTC-conform prediction of `\"hello\"` of our model would be `[PAD] [PAD] \"h\" \"e\" \"e\" \"l\" \"l\" [PAD] \"l\" \"o\" \"o\" [PAD]`."
      ]
    },
    {
      "cell_type": "markdown",
      "metadata": {
        "id": "rpvZHM1xReIW"
      },
      "source": [
        "### Training"
      ]
    },
    {
      "cell_type": "markdown",
      "metadata": {
        "id": "j-3oKSzZ1hGq"
      },
      "source": [
        "Training will take multiple hours depending on the GPU allocated to this notebook. While the trained model yields somewhat satisfying results on *Common Voice*'s test data of Turkish, it is by no means an optimally fine-tuned model. The purpose of this notebook is just to demonstrate how to fine-tune XLS-R on an ASR dataset.\n",
        "\n",
        "In case you want to use this google colab to fine-tune your model, you should make sure that your training doesn't stop due to inactivity. A simple hack to prevent this is to paste the following code into the console of this tab (*right mouse click -> inspect -> Console tab and insert code*)."
      ]
    },
    {
      "cell_type": "markdown",
      "metadata": {
        "id": "VYYAvgkW4P0m"
      },
      "source": [
        "```javascript\n",
        "function ConnectButton(){\n",
        "    console.log(\"Connect pushed\");\n",
        "    document.querySelector(\"#top-toolbar > colab-connect-button\").shadowRoot.querySelector(\"#connect\").click()\n",
        "}\n",
        "setInterval(ConnectButton,60000);\n",
        "```"
      ]
    },
    {
      "cell_type": "markdown",
      "metadata": {
        "id": "7bGgLV2r0yvZ"
      },
      "source": [
        "Depending on what GPU was allocated to your google colab it might be possible that you are seeing an `\"out-of-memory\"` error here. In this case, it's probably best to reduce `per_device_train_batch_size` to 8 or even less and increase [`gradient_accumulation`](https://huggingface.co/transformers/master/main_classes/trainer.html#trainingarguments)."
      ]
    },
    {
      "cell_type": "code",
      "execution_count": 98,
      "metadata": {},
      "outputs": [
        {
          "name": "stderr",
          "output_type": "stream",
          "text": [
            "/home/lkk/miniconda3/envs/mycondapy310/lib/python3.10/site-packages/transformers/models/wav2vec2/processing_wav2vec2.py:155: UserWarning: `as_target_processor` is deprecated and will be removed in v5 of Transformers. You can process your labels by using the argument `text` of the regular `__call__` method (either in the same call as your audio inputs, or in a separate call.\n",
            "  warnings.warn(\n",
            "/home/lkk/miniconda3/envs/mycondapy310/lib/python3.10/site-packages/torch/utils/checkpoint.py:429: UserWarning: torch.utils.checkpoint: please pass in use_reentrant=True or use_reentrant=False explicitly. The default value of use_reentrant will be updated to be False in the future. To maintain current behavior, pass use_reentrant=True. It is recommended that you use use_reentrant=False. Refer to docs for more details on the differences between the two variants.\n",
            "  warnings.warn(\n"
          ]
        },
        {
          "data": {
            "text/html": [
              "\n",
              "    <div>\n",
              "      \n",
              "      <progress value='930' max='930' style='width:300px; height:20px; vertical-align: middle;'></progress>\n",
              "      [930/930 14:48, Epoch 29/30]\n",
              "    </div>\n",
              "    <table border=\"1\" class=\"dataframe\">\n",
              "  <thead>\n",
              " <tr style=\"text-align: left;\">\n",
              "      <th>Step</th>\n",
              "      <th>Training Loss</th>\n",
              "      <th>Validation Loss</th>\n",
              "      <th>Wer</th>\n",
              "    </tr>\n",
              "  </thead>\n",
              "  <tbody>\n",
              "    <tr>\n",
              "      <td>400</td>\n",
              "      <td>4.730600</td>\n",
              "      <td>3.071480</td>\n",
              "      <td>1.000000</td>\n",
              "    </tr>\n",
              "    <tr>\n",
              "      <td>800</td>\n",
              "      <td>1.443700</td>\n",
              "      <td>1.352002</td>\n",
              "      <td>0.607292</td>\n",
              "    </tr>\n",
              "  </tbody>\n",
              "</table><p>"
            ],
            "text/plain": [
              "<IPython.core.display.HTML object>"
            ]
          },
          "metadata": {},
          "output_type": "display_data"
        },
        {
          "name": "stderr",
          "output_type": "stream",
          "text": [
            "/home/lkk/miniconda3/envs/mycondapy310/lib/python3.10/site-packages/transformers/models/wav2vec2/processing_wav2vec2.py:155: UserWarning: `as_target_processor` is deprecated and will be removed in v5 of Transformers. You can process your labels by using the argument `text` of the regular `__call__` method (either in the same call as your audio inputs, or in a separate call.\n",
            "  warnings.warn(\n",
            "/home/lkk/miniconda3/envs/mycondapy310/lib/python3.10/site-packages/torch/utils/checkpoint.py:429: UserWarning: torch.utils.checkpoint: please pass in use_reentrant=True or use_reentrant=False explicitly. The default value of use_reentrant will be updated to be False in the future. To maintain current behavior, pass use_reentrant=True. It is recommended that you use use_reentrant=False. Refer to docs for more details on the differences between the two variants.\n",
            "  warnings.warn(\n",
            "/home/lkk/miniconda3/envs/mycondapy310/lib/python3.10/site-packages/transformers/models/wav2vec2/processing_wav2vec2.py:155: UserWarning: `as_target_processor` is deprecated and will be removed in v5 of Transformers. You can process your labels by using the argument `text` of the regular `__call__` method (either in the same call as your audio inputs, or in a separate call.\n",
            "  warnings.warn(\n",
            "/home/lkk/miniconda3/envs/mycondapy310/lib/python3.10/site-packages/torch/utils/checkpoint.py:429: UserWarning: torch.utils.checkpoint: please pass in use_reentrant=True or use_reentrant=False explicitly. The default value of use_reentrant will be updated to be False in the future. To maintain current behavior, pass use_reentrant=True. It is recommended that you use use_reentrant=False. Refer to docs for more details on the differences between the two variants.\n",
            "  warnings.warn(\n"
          ]
        },
        {
          "data": {
            "text/plain": [
              "TrainOutput(global_step=930, training_loss=2.702474581810736, metrics={'train_runtime': 890.2617, 'train_samples_per_second': 33.698, 'train_steps_per_second': 1.045, 'total_flos': 5.859490420327576e+18, 'train_loss': 2.702474581810736, 'epoch': 29.52})"
            ]
          },
          "execution_count": 98,
          "metadata": {},
          "output_type": "execute_result"
        }
      ],
      "source": [
        "trainer.train()"
      ]
    },
    {
      "cell_type": "code",
      "execution_count": 49,
      "metadata": {},
      "outputs": [
        {
          "name": "stderr",
          "output_type": "stream",
          "text": [
            "/home/lkk/miniconda3/envs/mycondapy310/lib/python3.10/site-packages/transformers/models/wav2vec2/processing_wav2vec2.py:155: UserWarning: `as_target_processor` is deprecated and will be removed in v5 of Transformers. You can process your labels by using the argument `text` of the regular `__call__` method (either in the same call as your audio inputs, or in a separate call.\n",
            "  warnings.warn(\n",
            "/home/lkk/miniconda3/envs/mycondapy310/lib/python3.10/site-packages/torch/utils/checkpoint.py:429: UserWarning: torch.utils.checkpoint: please pass in use_reentrant=True or use_reentrant=False explicitly. The default value of use_reentrant will be updated to be False in the future. To maintain current behavior, pass use_reentrant=True. It is recommended that you use use_reentrant=False. Refer to docs for more details on the differences between the two variants.\n",
            "  warnings.warn(\n"
          ]
        },
        {
          "data": {
            "text/html": [
              "\n",
              "    <div>\n",
              "      \n",
              "      <progress value='4220' max='9360' style='width:300px; height:20px; vertical-align: middle;'></progress>\n",
              "      [4220/9360 1:06:14 < 1:20:42, 1.06 it/s, Epoch 13.50/30]\n",
              "    </div>\n",
              "    <table border=\"1\" class=\"dataframe\">\n",
              "  <thead>\n",
              " <tr style=\"text-align: left;\">\n",
              "      <th>Step</th>\n",
              "      <th>Training Loss</th>\n",
              "      <th>Validation Loss</th>\n",
              "      <th>Wer</th>\n",
              "    </tr>\n",
              "  </thead>\n",
              "  <tbody>\n",
              "    <tr>\n",
              "      <td>400</td>\n",
              "      <td>5.032400</td>\n",
              "      <td>3.010644</td>\n",
              "      <td>1.000000</td>\n",
              "    </tr>\n",
              "    <tr>\n",
              "      <td>800</td>\n",
              "      <td>1.965400</td>\n",
              "      <td>1.089912</td>\n",
              "      <td>0.675359</td>\n",
              "    </tr>\n",
              "    <tr>\n",
              "      <td>1200</td>\n",
              "      <td>0.869600</td>\n",
              "      <td>0.906917</td>\n",
              "      <td>0.565194</td>\n",
              "    </tr>\n",
              "    <tr>\n",
              "      <td>1600</td>\n",
              "      <td>0.640900</td>\n",
              "      <td>0.851737</td>\n",
              "      <td>0.496541</td>\n",
              "    </tr>\n",
              "    <tr>\n",
              "      <td>2000</td>\n",
              "      <td>0.517900</td>\n",
              "      <td>0.840233</td>\n",
              "      <td>0.459819</td>\n",
              "    </tr>\n",
              "    <tr>\n",
              "      <td>2400</td>\n",
              "      <td>0.447900</td>\n",
              "      <td>0.789620</td>\n",
              "      <td>0.464077</td>\n",
              "    </tr>\n",
              "    <tr>\n",
              "      <td>2800</td>\n",
              "      <td>0.390200</td>\n",
              "      <td>0.845395</td>\n",
              "      <td>0.462480</td>\n",
              "    </tr>\n",
              "    <tr>\n",
              "      <td>3200</td>\n",
              "      <td>0.347700</td>\n",
              "      <td>0.843843</td>\n",
              "      <td>0.431080</td>\n",
              "    </tr>\n",
              "    <tr>\n",
              "      <td>3600</td>\n",
              "      <td>0.303800</td>\n",
              "      <td>0.843381</td>\n",
              "      <td>0.428419</td>\n",
              "    </tr>\n",
              "    <tr>\n",
              "      <td>4000</td>\n",
              "      <td>0.282100</td>\n",
              "      <td>0.890193</td>\n",
              "      <td>0.437467</td>\n",
              "    </tr>\n",
              "  </tbody>\n",
              "</table><p>"
            ],
            "text/plain": [
              "<IPython.core.display.HTML object>"
            ]
          },
          "metadata": {},
          "output_type": "display_data"
        },
        {
          "name": "stderr",
          "output_type": "stream",
          "text": [
            "/home/lkk/miniconda3/envs/mycondapy310/lib/python3.10/site-packages/transformers/models/wav2vec2/processing_wav2vec2.py:155: UserWarning: `as_target_processor` is deprecated and will be removed in v5 of Transformers. You can process your labels by using the argument `text` of the regular `__call__` method (either in the same call as your audio inputs, or in a separate call.\n",
            "  warnings.warn(\n",
            "/home/lkk/miniconda3/envs/mycondapy310/lib/python3.10/site-packages/torch/utils/checkpoint.py:429: UserWarning: torch.utils.checkpoint: please pass in use_reentrant=True or use_reentrant=False explicitly. The default value of use_reentrant will be updated to be False in the future. To maintain current behavior, pass use_reentrant=True. It is recommended that you use use_reentrant=False. Refer to docs for more details on the differences between the two variants.\n",
            "  warnings.warn(\n",
            "/home/lkk/miniconda3/envs/mycondapy310/lib/python3.10/site-packages/transformers/models/wav2vec2/processing_wav2vec2.py:155: UserWarning: `as_target_processor` is deprecated and will be removed in v5 of Transformers. You can process your labels by using the argument `text` of the regular `__call__` method (either in the same call as your audio inputs, or in a separate call.\n",
            "  warnings.warn(\n",
            "/home/lkk/miniconda3/envs/mycondapy310/lib/python3.10/site-packages/torch/utils/checkpoint.py:429: UserWarning: torch.utils.checkpoint: please pass in use_reentrant=True or use_reentrant=False explicitly. The default value of use_reentrant will be updated to be False in the future. To maintain current behavior, pass use_reentrant=True. It is recommended that you use use_reentrant=False. Refer to docs for more details on the differences between the two variants.\n",
            "  warnings.warn(\n",
            "/home/lkk/miniconda3/envs/mycondapy310/lib/python3.10/site-packages/transformers/models/wav2vec2/processing_wav2vec2.py:155: UserWarning: `as_target_processor` is deprecated and will be removed in v5 of Transformers. You can process your labels by using the argument `text` of the regular `__call__` method (either in the same call as your audio inputs, or in a separate call.\n",
            "  warnings.warn(\n",
            "/home/lkk/miniconda3/envs/mycondapy310/lib/python3.10/site-packages/torch/utils/checkpoint.py:429: UserWarning: torch.utils.checkpoint: please pass in use_reentrant=True or use_reentrant=False explicitly. The default value of use_reentrant will be updated to be False in the future. To maintain current behavior, pass use_reentrant=True. It is recommended that you use use_reentrant=False. Refer to docs for more details on the differences between the two variants.\n",
            "  warnings.warn(\n",
            "/home/lkk/miniconda3/envs/mycondapy310/lib/python3.10/site-packages/transformers/models/wav2vec2/processing_wav2vec2.py:155: UserWarning: `as_target_processor` is deprecated and will be removed in v5 of Transformers. You can process your labels by using the argument `text` of the regular `__call__` method (either in the same call as your audio inputs, or in a separate call.\n",
            "  warnings.warn(\n",
            "/home/lkk/miniconda3/envs/mycondapy310/lib/python3.10/site-packages/torch/utils/checkpoint.py:429: UserWarning: torch.utils.checkpoint: please pass in use_reentrant=True or use_reentrant=False explicitly. The default value of use_reentrant will be updated to be False in the future. To maintain current behavior, pass use_reentrant=True. It is recommended that you use use_reentrant=False. Refer to docs for more details on the differences between the two variants.\n",
            "  warnings.warn(\n",
            "/home/lkk/miniconda3/envs/mycondapy310/lib/python3.10/site-packages/transformers/models/wav2vec2/processing_wav2vec2.py:155: UserWarning: `as_target_processor` is deprecated and will be removed in v5 of Transformers. You can process your labels by using the argument `text` of the regular `__call__` method (either in the same call as your audio inputs, or in a separate call.\n",
            "  warnings.warn(\n",
            "/home/lkk/miniconda3/envs/mycondapy310/lib/python3.10/site-packages/torch/utils/checkpoint.py:429: UserWarning: torch.utils.checkpoint: please pass in use_reentrant=True or use_reentrant=False explicitly. The default value of use_reentrant will be updated to be False in the future. To maintain current behavior, pass use_reentrant=True. It is recommended that you use use_reentrant=False. Refer to docs for more details on the differences between the two variants.\n",
            "  warnings.warn(\n",
            "/home/lkk/miniconda3/envs/mycondapy310/lib/python3.10/site-packages/transformers/models/wav2vec2/processing_wav2vec2.py:155: UserWarning: `as_target_processor` is deprecated and will be removed in v5 of Transformers. You can process your labels by using the argument `text` of the regular `__call__` method (either in the same call as your audio inputs, or in a separate call.\n",
            "  warnings.warn(\n",
            "/home/lkk/miniconda3/envs/mycondapy310/lib/python3.10/site-packages/torch/utils/checkpoint.py:429: UserWarning: torch.utils.checkpoint: please pass in use_reentrant=True or use_reentrant=False explicitly. The default value of use_reentrant will be updated to be False in the future. To maintain current behavior, pass use_reentrant=True. It is recommended that you use use_reentrant=False. Refer to docs for more details on the differences between the two variants.\n",
            "  warnings.warn(\n",
            "/home/lkk/miniconda3/envs/mycondapy310/lib/python3.10/site-packages/transformers/models/wav2vec2/processing_wav2vec2.py:155: UserWarning: `as_target_processor` is deprecated and will be removed in v5 of Transformers. You can process your labels by using the argument `text` of the regular `__call__` method (either in the same call as your audio inputs, or in a separate call.\n",
            "  warnings.warn(\n",
            "/home/lkk/miniconda3/envs/mycondapy310/lib/python3.10/site-packages/torch/utils/checkpoint.py:429: UserWarning: torch.utils.checkpoint: please pass in use_reentrant=True or use_reentrant=False explicitly. The default value of use_reentrant will be updated to be False in the future. To maintain current behavior, pass use_reentrant=True. It is recommended that you use use_reentrant=False. Refer to docs for more details on the differences between the two variants.\n",
            "  warnings.warn(\n",
            "/home/lkk/miniconda3/envs/mycondapy310/lib/python3.10/site-packages/transformers/models/wav2vec2/processing_wav2vec2.py:155: UserWarning: `as_target_processor` is deprecated and will be removed in v5 of Transformers. You can process your labels by using the argument `text` of the regular `__call__` method (either in the same call as your audio inputs, or in a separate call.\n",
            "  warnings.warn(\n",
            "/home/lkk/miniconda3/envs/mycondapy310/lib/python3.10/site-packages/torch/utils/checkpoint.py:429: UserWarning: torch.utils.checkpoint: please pass in use_reentrant=True or use_reentrant=False explicitly. The default value of use_reentrant will be updated to be False in the future. To maintain current behavior, pass use_reentrant=True. It is recommended that you use use_reentrant=False. Refer to docs for more details on the differences between the two variants.\n",
            "  warnings.warn(\n",
            "/home/lkk/miniconda3/envs/mycondapy310/lib/python3.10/site-packages/transformers/models/wav2vec2/processing_wav2vec2.py:155: UserWarning: `as_target_processor` is deprecated and will be removed in v5 of Transformers. You can process your labels by using the argument `text` of the regular `__call__` method (either in the same call as your audio inputs, or in a separate call.\n",
            "  warnings.warn(\n",
            "/home/lkk/miniconda3/envs/mycondapy310/lib/python3.10/site-packages/torch/utils/checkpoint.py:429: UserWarning: torch.utils.checkpoint: please pass in use_reentrant=True or use_reentrant=False explicitly. The default value of use_reentrant will be updated to be False in the future. To maintain current behavior, pass use_reentrant=True. It is recommended that you use use_reentrant=False. Refer to docs for more details on the differences between the two variants.\n",
            "  warnings.warn(\n",
            "/home/lkk/miniconda3/envs/mycondapy310/lib/python3.10/site-packages/transformers/models/wav2vec2/processing_wav2vec2.py:155: UserWarning: `as_target_processor` is deprecated and will be removed in v5 of Transformers. You can process your labels by using the argument `text` of the regular `__call__` method (either in the same call as your audio inputs, or in a separate call.\n",
            "  warnings.warn(\n",
            "/home/lkk/miniconda3/envs/mycondapy310/lib/python3.10/site-packages/torch/utils/checkpoint.py:429: UserWarning: torch.utils.checkpoint: please pass in use_reentrant=True or use_reentrant=False explicitly. The default value of use_reentrant will be updated to be False in the future. To maintain current behavior, pass use_reentrant=True. It is recommended that you use use_reentrant=False. Refer to docs for more details on the differences between the two variants.\n",
            "  warnings.warn(\n"
          ]
        },
        {
          "ename": "",
          "evalue": "",
          "output_type": "error",
          "traceback": [
            "\u001b[1;31mThe Kernel crashed while executing code in the the current cell or a previous cell. Please review the code in the cell(s) to identify a possible cause of the failure. Click <a href='https://aka.ms/vscodeJupyterKernelCrash'>here</a> for more info. View Jupyter <a href='command:jupyter.viewOutput'>log</a> for further details."
          ]
        }
      ],
      "source": [
        "trainer.train()#new"
      ]
    },
    {
      "cell_type": "code",
      "execution_count": 127,
      "metadata": {},
      "outputs": [
        {
          "name": "stderr",
          "output_type": "stream",
          "text": [
            "/home/lkk/miniconda3/envs/mycondapy310/lib/python3.10/site-packages/transformers/models/wav2vec2/processing_wav2vec2.py:155: UserWarning: `as_target_processor` is deprecated and will be removed in v5 of Transformers. You can process your labels by using the argument `text` of the regular `__call__` method (either in the same call as your audio inputs, or in a separate call.\n",
            "  warnings.warn(\n"
          ]
        },
        {
          "data": {
            "text/html": [
              "\n",
              "    <div>\n",
              "      \n",
              "      <progress value='13' max='13' style='width:300px; height:20px; vertical-align: middle;'></progress>\n",
              "      [13/13 00:01]\n",
              "    </div>\n",
              "    "
            ],
            "text/plain": [
              "<IPython.core.display.HTML object>"
            ]
          },
          "metadata": {},
          "output_type": "display_data"
        },
        {
          "data": {
            "text/plain": [
              "{'eval_loss': 1.3340829610824585,\n",
              " 'eval_wer': 0.5916666666666667,\n",
              " 'eval_runtime': 2.2799,\n",
              " 'eval_samples_per_second': 43.861,\n",
              " 'eval_steps_per_second': 5.702,\n",
              " 'epoch': 29.52}"
            ]
          },
          "execution_count": 127,
          "metadata": {},
          "output_type": "execute_result"
        }
      ],
      "source": [
        "trainer.evaluate()"
      ]
    },
    {
      "cell_type": "code",
      "execution_count": null,
      "metadata": {
        "colab": {
          "background_save": true,
          "base_uri": "https://localhost:8080/",
          "height": 311
        },
        "id": "9fRr9TG5pGBl",
        "outputId": "122ea040-7b24-452a-c7d4-7e72e1c46973"
      },
      "outputs": [
        {
          "name": "stderr",
          "output_type": "stream",
          "text": [
            "The following columns in the training set  don't have a corresponding argument in `Wav2Vec2ForCTC.forward` and have been ignored: input_length.\n",
            "***** Running training *****\n",
            "  Num examples = 3478\n",
            "  Num Epochs = 30\n",
            "  Instantaneous batch size per device = 16\n",
            "  Total train batch size (w. parallel, distributed & accumulation) = 32\n",
            "  Gradient Accumulation steps = 2\n",
            "  Total optimization steps = 3270\n",
            "/usr/local/lib/python3.7/dist-packages/transformers/feature_extraction_utils.py:158: UserWarning: Creating a tensor from a list of numpy.ndarrays is extremely slow. Please consider converting the list to a single numpy.ndarray with numpy.array() before converting to a tensor. (Triggered internally at  ../torch/csrc/utils/tensor_new.cpp:201.)\n",
            "  tensor = as_tensor(value)\n",
            "/usr/local/lib/python3.7/dist-packages/transformers/models/wav2vec2/modeling_wav2vec2.py:882: UserWarning: __floordiv__ is deprecated, and its behavior will change in a future version of pytorch. It currently rounds toward 0 (like the 'trunc' function NOT 'floor'). This results in incorrect rounding for negative values. To keep the current behavior, use torch.div(a, b, rounding_mode='trunc'), or for actual floor division, use torch.div(a, b, rounding_mode='floor').\n",
            "  return (input_length - kernel_size) // stride + 1\n"
          ]
        },
        {
          "data": {
            "text/html": [
              "\n",
              "    <div>\n",
              "      \n",
              "      <progress value='3270' max='3270' style='width:300px; height:20px; vertical-align: middle;'></progress>\n",
              "      [3270/3270 4:41:48, Epoch 30/30]\n",
              "    </div>\n",
              "    <table border=\"1\" class=\"dataframe\">\n",
              "  <thead>\n",
              "    <tr style=\"text-align: left;\">\n",
              "      <th>Step</th>\n",
              "      <th>Training Loss</th>\n",
              "      <th>Validation Loss</th>\n",
              "      <th>Wer</th>\n",
              "    </tr>\n",
              "  </thead>\n",
              "  <tbody>\n",
              "    <tr>\n",
              "      <td>400</td>\n",
              "      <td>3.765200</td>\n",
              "      <td>0.625533</td>\n",
              "      <td>0.693290</td>\n",
              "    </tr>\n",
              "    <tr>\n",
              "      <td>800</td>\n",
              "      <td>0.371600</td>\n",
              "      <td>0.405785</td>\n",
              "      <td>0.456337</td>\n",
              "    </tr>\n",
              "    <tr>\n",
              "      <td>1200</td>\n",
              "      <td>0.177900</td>\n",
              "      <td>0.412796</td>\n",
              "      <td>0.408028</td>\n",
              "    </tr>\n",
              "    <tr>\n",
              "      <td>1600</td>\n",
              "      <td>0.122600</td>\n",
              "      <td>0.399832</td>\n",
              "      <td>0.394137</td>\n",
              "    </tr>\n",
              "    <tr>\n",
              "      <td>2000</td>\n",
              "      <td>0.092700</td>\n",
              "      <td>0.408412</td>\n",
              "      <td>0.371259</td>\n",
              "    </tr>\n",
              "    <tr>\n",
              "      <td>2400</td>\n",
              "      <td>0.073700</td>\n",
              "      <td>0.394867</td>\n",
              "      <td>0.351956</td>\n",
              "    </tr>\n",
              "    <tr>\n",
              "      <td>2800</td>\n",
              "      <td>0.058100</td>\n",
              "      <td>0.369830</td>\n",
              "      <td>0.331120</td>\n",
              "    </tr>\n",
              "    <tr>\n",
              "      <td>3200</td>\n",
              "      <td>0.045300</td>\n",
              "      <td>0.359626</td>\n",
              "      <td>0.324175</td>\n",
              "    </tr>\n",
              "  </tbody>\n",
              "</table><p>"
            ],
            "text/plain": [
              "<IPython.core.display.HTML object>"
            ]
          },
          "metadata": {},
          "output_type": "display_data"
        },
        {
          "name": "stderr",
          "output_type": "stream",
          "text": [
            "The following columns in the evaluation set  don't have a corresponding argument in `Wav2Vec2ForCTC.forward` and have been ignored: input_length.\n",
            "***** Running Evaluation *****\n",
            "  Num examples = 1647\n",
            "  Batch size = 8\n",
            "Saving model checkpoint to wav2vec2-large-xls-r-300m-turkish-colab/checkpoint-400\n",
            "Configuration saved in wav2vec2-large-xls-r-300m-turkish-colab/checkpoint-400/config.json\n",
            "Model weights saved in wav2vec2-large-xls-r-300m-turkish-colab/checkpoint-400/pytorch_model.bin\n",
            "Configuration saved in wav2vec2-large-xls-r-300m-turkish-colab/checkpoint-400/preprocessor_config.json\n",
            "Configuration saved in wav2vec2-large-xls-r-300m-turkish-colab/preprocessor_config.json\n",
            "/usr/local/lib/python3.7/dist-packages/transformers/models/wav2vec2/modeling_wav2vec2.py:882: UserWarning: __floordiv__ is deprecated, and its behavior will change in a future version of pytorch. It currently rounds toward 0 (like the 'trunc' function NOT 'floor'). This results in incorrect rounding for negative values. To keep the current behavior, use torch.div(a, b, rounding_mode='trunc'), or for actual floor division, use torch.div(a, b, rounding_mode='floor').\n",
            "  return (input_length - kernel_size) // stride + 1\n",
            "The following columns in the evaluation set  don't have a corresponding argument in `Wav2Vec2ForCTC.forward` and have been ignored: input_length.\n",
            "***** Running Evaluation *****\n",
            "  Num examples = 1647\n",
            "  Batch size = 8\n",
            "Saving model checkpoint to wav2vec2-large-xls-r-300m-turkish-colab/checkpoint-800\n",
            "Configuration saved in wav2vec2-large-xls-r-300m-turkish-colab/checkpoint-800/config.json\n",
            "Model weights saved in wav2vec2-large-xls-r-300m-turkish-colab/checkpoint-800/pytorch_model.bin\n",
            "Configuration saved in wav2vec2-large-xls-r-300m-turkish-colab/checkpoint-800/preprocessor_config.json\n",
            "/usr/local/lib/python3.7/dist-packages/transformers/models/wav2vec2/modeling_wav2vec2.py:882: UserWarning: __floordiv__ is deprecated, and its behavior will change in a future version of pytorch. It currently rounds toward 0 (like the 'trunc' function NOT 'floor'). This results in incorrect rounding for negative values. To keep the current behavior, use torch.div(a, b, rounding_mode='trunc'), or for actual floor division, use torch.div(a, b, rounding_mode='floor').\n",
            "  return (input_length - kernel_size) // stride + 1\n",
            "The following columns in the evaluation set  don't have a corresponding argument in `Wav2Vec2ForCTC.forward` and have been ignored: input_length.\n",
            "***** Running Evaluation *****\n",
            "  Num examples = 1647\n",
            "  Batch size = 8\n",
            "Saving model checkpoint to wav2vec2-large-xls-r-300m-turkish-colab/checkpoint-1200\n",
            "Configuration saved in wav2vec2-large-xls-r-300m-turkish-colab/checkpoint-1200/config.json\n",
            "Model weights saved in wav2vec2-large-xls-r-300m-turkish-colab/checkpoint-1200/pytorch_model.bin\n",
            "Configuration saved in wav2vec2-large-xls-r-300m-turkish-colab/checkpoint-1200/preprocessor_config.json\n",
            "Deleting older checkpoint [wav2vec2-large-xls-r-300m-turkish-colab/checkpoint-400] due to args.save_total_limit\n",
            "/usr/local/lib/python3.7/dist-packages/transformers/models/wav2vec2/modeling_wav2vec2.py:882: UserWarning: __floordiv__ is deprecated, and its behavior will change in a future version of pytorch. It currently rounds toward 0 (like the 'trunc' function NOT 'floor'). This results in incorrect rounding for negative values. To keep the current behavior, use torch.div(a, b, rounding_mode='trunc'), or for actual floor division, use torch.div(a, b, rounding_mode='floor').\n",
            "  return (input_length - kernel_size) // stride + 1\n",
            "The following columns in the evaluation set  don't have a corresponding argument in `Wav2Vec2ForCTC.forward` and have been ignored: input_length.\n",
            "***** Running Evaluation *****\n",
            "  Num examples = 1647\n",
            "  Batch size = 8\n",
            "Saving model checkpoint to wav2vec2-large-xls-r-300m-turkish-colab/checkpoint-1600\n",
            "Configuration saved in wav2vec2-large-xls-r-300m-turkish-colab/checkpoint-1600/config.json\n",
            "Model weights saved in wav2vec2-large-xls-r-300m-turkish-colab/checkpoint-1600/pytorch_model.bin\n",
            "Configuration saved in wav2vec2-large-xls-r-300m-turkish-colab/checkpoint-1600/preprocessor_config.json\n",
            "Deleting older checkpoint [wav2vec2-large-xls-r-300m-turkish-colab/checkpoint-800] due to args.save_total_limit\n",
            "/usr/local/lib/python3.7/dist-packages/transformers/models/wav2vec2/modeling_wav2vec2.py:882: UserWarning: __floordiv__ is deprecated, and its behavior will change in a future version of pytorch. It currently rounds toward 0 (like the 'trunc' function NOT 'floor'). This results in incorrect rounding for negative values. To keep the current behavior, use torch.div(a, b, rounding_mode='trunc'), or for actual floor division, use torch.div(a, b, rounding_mode='floor').\n",
            "  return (input_length - kernel_size) // stride + 1\n",
            "The following columns in the evaluation set  don't have a corresponding argument in `Wav2Vec2ForCTC.forward` and have been ignored: input_length.\n",
            "***** Running Evaluation *****\n",
            "  Num examples = 1647\n",
            "  Batch size = 8\n",
            "Saving model checkpoint to wav2vec2-large-xls-r-300m-turkish-colab/checkpoint-2000\n",
            "Configuration saved in wav2vec2-large-xls-r-300m-turkish-colab/checkpoint-2000/config.json\n",
            "Model weights saved in wav2vec2-large-xls-r-300m-turkish-colab/checkpoint-2000/pytorch_model.bin\n",
            "Configuration saved in wav2vec2-large-xls-r-300m-turkish-colab/checkpoint-2000/preprocessor_config.json\n",
            "Deleting older checkpoint [wav2vec2-large-xls-r-300m-turkish-colab/checkpoint-1200] due to args.save_total_limit\n",
            "/usr/local/lib/python3.7/dist-packages/transformers/models/wav2vec2/modeling_wav2vec2.py:882: UserWarning: __floordiv__ is deprecated, and its behavior will change in a future version of pytorch. It currently rounds toward 0 (like the 'trunc' function NOT 'floor'). This results in incorrect rounding for negative values. To keep the current behavior, use torch.div(a, b, rounding_mode='trunc'), or for actual floor division, use torch.div(a, b, rounding_mode='floor').\n",
            "  return (input_length - kernel_size) // stride + 1\n",
            "The following columns in the evaluation set  don't have a corresponding argument in `Wav2Vec2ForCTC.forward` and have been ignored: input_length.\n",
            "***** Running Evaluation *****\n",
            "  Num examples = 1647\n",
            "  Batch size = 8\n",
            "Saving model checkpoint to wav2vec2-large-xls-r-300m-turkish-colab/checkpoint-2400\n",
            "Configuration saved in wav2vec2-large-xls-r-300m-turkish-colab/checkpoint-2400/config.json\n",
            "Model weights saved in wav2vec2-large-xls-r-300m-turkish-colab/checkpoint-2400/pytorch_model.bin\n",
            "Configuration saved in wav2vec2-large-xls-r-300m-turkish-colab/checkpoint-2400/preprocessor_config.json\n",
            "Deleting older checkpoint [wav2vec2-large-xls-r-300m-turkish-colab/checkpoint-1600] due to args.save_total_limit\n",
            "/usr/local/lib/python3.7/dist-packages/transformers/models/wav2vec2/modeling_wav2vec2.py:882: UserWarning: __floordiv__ is deprecated, and its behavior will change in a future version of pytorch. It currently rounds toward 0 (like the 'trunc' function NOT 'floor'). This results in incorrect rounding for negative values. To keep the current behavior, use torch.div(a, b, rounding_mode='trunc'), or for actual floor division, use torch.div(a, b, rounding_mode='floor').\n",
            "  return (input_length - kernel_size) // stride + 1\n",
            "The following columns in the evaluation set  don't have a corresponding argument in `Wav2Vec2ForCTC.forward` and have been ignored: input_length.\n",
            "***** Running Evaluation *****\n",
            "  Num examples = 1647\n",
            "  Batch size = 8\n",
            "Saving model checkpoint to wav2vec2-large-xls-r-300m-turkish-colab/checkpoint-2800\n",
            "Configuration saved in wav2vec2-large-xls-r-300m-turkish-colab/checkpoint-2800/config.json\n",
            "Model weights saved in wav2vec2-large-xls-r-300m-turkish-colab/checkpoint-2800/pytorch_model.bin\n",
            "Configuration saved in wav2vec2-large-xls-r-300m-turkish-colab/checkpoint-2800/preprocessor_config.json\n",
            "Deleting older checkpoint [wav2vec2-large-xls-r-300m-turkish-colab/checkpoint-2000] due to args.save_total_limit\n",
            "/usr/local/lib/python3.7/dist-packages/transformers/models/wav2vec2/modeling_wav2vec2.py:882: UserWarning: __floordiv__ is deprecated, and its behavior will change in a future version of pytorch. It currently rounds toward 0 (like the 'trunc' function NOT 'floor'). This results in incorrect rounding for negative values. To keep the current behavior, use torch.div(a, b, rounding_mode='trunc'), or for actual floor division, use torch.div(a, b, rounding_mode='floor').\n",
            "  return (input_length - kernel_size) // stride + 1\n",
            "The following columns in the evaluation set  don't have a corresponding argument in `Wav2Vec2ForCTC.forward` and have been ignored: input_length.\n",
            "***** Running Evaluation *****\n",
            "  Num examples = 1647\n",
            "  Batch size = 8\n",
            "Saving model checkpoint to wav2vec2-large-xls-r-300m-turkish-colab/checkpoint-3200\n",
            "Configuration saved in wav2vec2-large-xls-r-300m-turkish-colab/checkpoint-3200/config.json\n",
            "Model weights saved in wav2vec2-large-xls-r-300m-turkish-colab/checkpoint-3200/pytorch_model.bin\n",
            "Configuration saved in wav2vec2-large-xls-r-300m-turkish-colab/checkpoint-3200/preprocessor_config.json\n",
            "Deleting older checkpoint [wav2vec2-large-xls-r-300m-turkish-colab/checkpoint-2400] due to args.save_total_limit\n",
            "/usr/local/lib/python3.7/dist-packages/transformers/models/wav2vec2/modeling_wav2vec2.py:882: UserWarning: __floordiv__ is deprecated, and its behavior will change in a future version of pytorch. It currently rounds toward 0 (like the 'trunc' function NOT 'floor'). This results in incorrect rounding for negative values. To keep the current behavior, use torch.div(a, b, rounding_mode='trunc'), or for actual floor division, use torch.div(a, b, rounding_mode='floor').\n",
            "  return (input_length - kernel_size) // stride + 1\n",
            "\n",
            "\n",
            "Training completed. Do not forget to share your model on huggingface.co/models =)\n",
            "\n",
            "\n"
          ]
        },
        {
          "data": {
            "text/plain": [
              "TrainOutput(global_step=3270, training_loss=0.5767540113641582, metrics={'train_runtime': 16918.4457, 'train_samples_per_second': 6.167, 'train_steps_per_second': 0.193, 'total_flos': 1.2873093995838829e+19, 'train_loss': 0.5767540113641582, 'epoch': 30.0})"
            ]
          },
          "execution_count": null,
          "metadata": {},
          "output_type": "execute_result"
        }
      ],
      "source": [
        "trainer.train()"
      ]
    },
    {
      "cell_type": "markdown",
      "metadata": {
        "id": "a9q4mgMZplr_"
      },
      "source": [
        "The training loss and validation WER go down nicely."
      ]
    },
    {
      "cell_type": "markdown",
      "metadata": {
        "id": "4Ya7WEy0pd13"
      },
      "source": [
        "You can now upload the result of the training to the 🤗 Hub, just execute this instruction:"
      ]
    },
    {
      "cell_type": "code",
      "execution_count": null,
      "metadata": {
        "colab": {
          "background_save": true,
          "referenced_widgets": [
            "2d2f71d2c70d466cb9a0d3317fb3095e",
            "2e894a5b95cb489db8b27c6617fd9533"
          ]
        },
        "id": "ArG1Thf6NBWm",
        "outputId": "62ef1c3d-786c-4e25-f9c5-4020e71aa298"
      },
      "outputs": [
        {
          "name": "stderr",
          "output_type": "stream",
          "text": [
            "Saving model checkpoint to wav2vec2-large-xls-r-300m-turkish-colab\n",
            "Configuration saved in wav2vec2-large-xls-r-300m-turkish-colab/config.json\n",
            "Model weights saved in wav2vec2-large-xls-r-300m-turkish-colab/pytorch_model.bin\n",
            "Configuration saved in wav2vec2-large-xls-r-300m-turkish-colab/preprocessor_config.json\n",
            "Several commits (2) will be pushed upstream.\n",
            "The progress bars may be unreliable.\n"
          ]
        },
        {
          "data": {
            "application/vnd.jupyter.widget-view+json": {
              "model_id": "2d2f71d2c70d466cb9a0d3317fb3095e",
              "version_major": 2,
              "version_minor": 0
            },
            "text/plain": [
              "Upload file pytorch_model.bin:   0%|          | 3.35k/1.18G [00:00<?, ?B/s]"
            ]
          },
          "metadata": {},
          "output_type": "display_data"
        },
        {
          "data": {
            "application/vnd.jupyter.widget-view+json": {
              "model_id": "2e894a5b95cb489db8b27c6617fd9533",
              "version_major": 2,
              "version_minor": 0
            },
            "text/plain": [
              "Upload file runs/Nov12_14-33-48_c2d4142f9305/events.out.tfevents.1636727730.c2d4142f9305.1468.0:  41%|####1   …"
            ]
          },
          "metadata": {},
          "output_type": "display_data"
        },
        {
          "name": "stderr",
          "output_type": "stream",
          "text": [
            "To https://huggingface.co/patrickvonplaten/wav2vec2-large-xls-r-300m-turkish-colab\n",
            "   56ebe74..fe76946  main -> main\n",
            "\n",
            "Dropping the following result as it does not have all the necessary field:\n",
            "{'dataset': {'name': 'common_voice', 'type': 'common_voice', 'args': 'tr'}}\n",
            "To https://huggingface.co/patrickvonplaten/wav2vec2-large-xls-r-300m-turkish-colab\n",
            "   fe76946..5f0d67b  main -> main\n",
            "\n"
          ]
        },
        {
          "data": {
            "application/vnd.google.colaboratory.intrinsic+json": {
              "type": "string"
            },
            "text/plain": [
              "'https://huggingface.co/patrickvonplaten/wav2vec2-large-xls-r-300m-turkish-colab/commit/fe769461e4e2fb9534740e6c278a0cfabf268474'"
            ]
          },
          "execution_count": null,
          "metadata": {},
          "output_type": "execute_result"
        }
      ],
      "source": [
        "trainer.push_to_hub()"
      ]
    },
    {
      "cell_type": "markdown",
      "metadata": {
        "id": "RHIVc44_fY2N"
      },
      "source": [
        "You can now share this model with all your friends, family, favorite pets: they can all load it with the identifier \"your-username/the-name-you-picked\" so for instance:"
      ]
    },
    {
      "cell_type": "markdown",
      "metadata": {
        "id": "5lWWIKyBpx1h"
      },
      "source": [
        "```python\n",
        "from transformers import AutoModelForCTC, Wav2Vec2Processor\n",
        "\n",
        "model = AutoModelForCTC.from_pretrained(\"patrickvonplaten/wav2vec2-large-xls-r-300m-tr-colab\")\n",
        "processor = Wav2Vec2Processor.from_pretrained(\"patrickvonplaten/wav2vec2-large-xls-r-300m-tr-colab\")\n",
        "```"
      ]
    },
    {
      "cell_type": "markdown",
      "metadata": {
        "id": "pmi1cX0fRBit"
      },
      "source": [
        "For more examples of how XLS-R can be fine-tuned, please take a look at the [official speech recognition examples](https://github.com/huggingface/transformers/tree/master/examples/pytorch/speech-recognition#examples)."
      ]
    },
    {
      "cell_type": "markdown",
      "metadata": {
        "id": "L8b8Qkoy3KyS"
      },
      "source": [
        "### Evaluation\n",
        "\n",
        "As a final check, let's load the model and verify that it indeed has learned to transcribe Turkish speech.\n",
        "\n",
        "Let's first load the pretrained checkpoint."
      ]
    },
    {
      "cell_type": "code",
      "execution_count": null,
      "metadata": {
        "colab": {
          "background_save": true
        },
        "id": "R351I9IQp_9D",
        "outputId": "f2a2ee99-7db6-4962-e140-0107054102d3"
      },
      "outputs": [
        {
          "name": "stderr",
          "output_type": "stream",
          "text": [
            "loading configuration file wav2vec2-large-xls-r-300m-turkish-colab/config.json\n",
            "Model config Wav2Vec2Config {\n",
            "  \"_name_or_path\": \"facebook/wav2vec2-xls-r-300m\",\n",
            "  \"activation_dropout\": 0.0,\n",
            "  \"apply_spec_augment\": true,\n",
            "  \"architectures\": [\n",
            "    \"Wav2Vec2ForCTC\"\n",
            "  ],\n",
            "  \"attention_dropout\": 0.0,\n",
            "  \"bos_token_id\": 1,\n",
            "  \"classifier_proj_size\": 256,\n",
            "  \"codevector_dim\": 768,\n",
            "  \"contrastive_logits_temperature\": 0.1,\n",
            "  \"conv_bias\": true,\n",
            "  \"conv_dim\": [\n",
            "    512,\n",
            "    512,\n",
            "    512,\n",
            "    512,\n",
            "    512,\n",
            "    512,\n",
            "    512\n",
            "  ],\n",
            "  \"conv_kernel\": [\n",
            "    10,\n",
            "    3,\n",
            "    3,\n",
            "    3,\n",
            "    3,\n",
            "    2,\n",
            "    2\n",
            "  ],\n",
            "  \"conv_stride\": [\n",
            "    5,\n",
            "    2,\n",
            "    2,\n",
            "    2,\n",
            "    2,\n",
            "    2,\n",
            "    2\n",
            "  ],\n",
            "  \"ctc_loss_reduction\": \"mean\",\n",
            "  \"ctc_zero_infinity\": false,\n",
            "  \"diversity_loss_weight\": 0.1,\n",
            "  \"do_stable_layer_norm\": true,\n",
            "  \"eos_token_id\": 2,\n",
            "  \"feat_extract_activation\": \"gelu\",\n",
            "  \"feat_extract_dropout\": 0.0,\n",
            "  \"feat_extract_norm\": \"layer\",\n",
            "  \"feat_proj_dropout\": 0.0,\n",
            "  \"feat_quantizer_dropout\": 0.0,\n",
            "  \"final_dropout\": 0.0,\n",
            "  \"gradient_checkpointing\": false,\n",
            "  \"hidden_act\": \"gelu\",\n",
            "  \"hidden_dropout\": 0.0,\n",
            "  \"hidden_size\": 1024,\n",
            "  \"initializer_range\": 0.02,\n",
            "  \"intermediate_size\": 4096,\n",
            "  \"layer_norm_eps\": 1e-05,\n",
            "  \"layerdrop\": 0.0,\n",
            "  \"mask_feature_length\": 10,\n",
            "  \"mask_feature_prob\": 0.0,\n",
            "  \"mask_time_length\": 10,\n",
            "  \"mask_time_prob\": 0.05,\n",
            "  \"model_type\": \"wav2vec2\",\n",
            "  \"num_attention_heads\": 16,\n",
            "  \"num_codevector_groups\": 2,\n",
            "  \"num_codevectors_per_group\": 320,\n",
            "  \"num_conv_pos_embedding_groups\": 16,\n",
            "  \"num_conv_pos_embeddings\": 128,\n",
            "  \"num_feat_extract_layers\": 7,\n",
            "  \"num_hidden_layers\": 24,\n",
            "  \"num_negatives\": 100,\n",
            "  \"pad_token_id\": 36,\n",
            "  \"proj_codevector_dim\": 768,\n",
            "  \"torch_dtype\": \"float32\",\n",
            "  \"transformers_version\": \"4.11.3\",\n",
            "  \"use_weighted_layer_sum\": false,\n",
            "  \"vocab_size\": 39\n",
            "}\n",
            "\n",
            "loading weights file wav2vec2-large-xls-r-300m-turkish-colab/pytorch_model.bin\n",
            "All model checkpoint weights were used when initializing Wav2Vec2ForCTC.\n",
            "\n",
            "All the weights of Wav2Vec2ForCTC were initialized from the model checkpoint at wav2vec2-large-xls-r-300m-turkish-colab.\n",
            "If your task is similar to the task the model of the checkpoint was trained on, you can already use Wav2Vec2ForCTC for predictions without further training.\n",
            "loading feature extractor configuration file wav2vec2-large-xls-r-300m-turkish-colab/preprocessor_config.json\n",
            "Feature extractor Wav2Vec2FeatureExtractor {\n",
            "  \"do_normalize\": true,\n",
            "  \"feature_extractor_type\": \"Wav2Vec2FeatureExtractor\",\n",
            "  \"feature_size\": 1,\n",
            "  \"padding_side\": \"right\",\n",
            "  \"padding_value\": 0.0,\n",
            "  \"return_attention_mask\": true,\n",
            "  \"sampling_rate\": 16000\n",
            "}\n",
            "\n",
            "Didn't find file wav2vec2-large-xls-r-300m-turkish-colab/tokenizer.json. We won't load it.\n",
            "loading file wav2vec2-large-xls-r-300m-turkish-colab/vocab.json\n",
            "loading file wav2vec2-large-xls-r-300m-turkish-colab/tokenizer_config.json\n",
            "loading file wav2vec2-large-xls-r-300m-turkish-colab/added_tokens.json\n",
            "loading file wav2vec2-large-xls-r-300m-turkish-colab/special_tokens_map.json\n",
            "loading file None\n",
            "Adding <s> to the vocabulary\n",
            "Adding </s> to the vocabulary\n"
          ]
        }
      ],
      "source": [
        "model = Wav2Vec2ForCTC.from_pretrained(repo_name).to(\"cuda\")\n",
        "processor = Wav2Vec2Processor.from_pretrained(repo_name)"
      ]
    },
    {
      "cell_type": "code",
      "execution_count": 99,
      "metadata": {},
      "outputs": [
        {
          "data": {
            "text/plain": [
              "Wav2Vec2ForCTC(\n",
              "  (wav2vec2): Wav2Vec2Model(\n",
              "    (feature_extractor): Wav2Vec2FeatureEncoder(\n",
              "      (conv_layers): ModuleList(\n",
              "        (0): Wav2Vec2LayerNormConvLayer(\n",
              "          (conv): Conv1d(1, 512, kernel_size=(10,), stride=(5,))\n",
              "          (layer_norm): LayerNorm((512,), eps=1e-05, elementwise_affine=True)\n",
              "          (activation): GELUActivation()\n",
              "        )\n",
              "        (1-4): 4 x Wav2Vec2LayerNormConvLayer(\n",
              "          (conv): Conv1d(512, 512, kernel_size=(3,), stride=(2,))\n",
              "          (layer_norm): LayerNorm((512,), eps=1e-05, elementwise_affine=True)\n",
              "          (activation): GELUActivation()\n",
              "        )\n",
              "        (5-6): 2 x Wav2Vec2LayerNormConvLayer(\n",
              "          (conv): Conv1d(512, 512, kernel_size=(2,), stride=(2,))\n",
              "          (layer_norm): LayerNorm((512,), eps=1e-05, elementwise_affine=True)\n",
              "          (activation): GELUActivation()\n",
              "        )\n",
              "      )\n",
              "    )\n",
              "    (feature_projection): Wav2Vec2FeatureProjection(\n",
              "      (layer_norm): LayerNorm((512,), eps=1e-05, elementwise_affine=True)\n",
              "      (projection): Linear(in_features=512, out_features=1024, bias=True)\n",
              "      (dropout): Dropout(p=0.1, inplace=False)\n",
              "    )\n",
              "    (encoder): Wav2Vec2EncoderStableLayerNorm(\n",
              "      (pos_conv_embed): Wav2Vec2PositionalConvEmbedding(\n",
              "        (conv): ParametrizedConv1d(\n",
              "          1024, 1024, kernel_size=(128,), stride=(1,), padding=(64,), groups=16\n",
              "          (parametrizations): ModuleDict(\n",
              "            (weight): ParametrizationList(\n",
              "              (0): _WeightNorm()\n",
              "            )\n",
              "          )\n",
              "        )\n",
              "        (padding): Wav2Vec2SamePadLayer()\n",
              "        (activation): GELUActivation()\n",
              "      )\n",
              "      (layer_norm): LayerNorm((1024,), eps=1e-05, elementwise_affine=True)\n",
              "      (dropout): Dropout(p=0.1, inplace=False)\n",
              "      (layers): ModuleList(\n",
              "        (0-23): 24 x Wav2Vec2EncoderLayerStableLayerNorm(\n",
              "          (attention): Wav2Vec2Attention(\n",
              "            (k_proj): Linear(in_features=1024, out_features=1024, bias=True)\n",
              "            (v_proj): Linear(in_features=1024, out_features=1024, bias=True)\n",
              "            (q_proj): Linear(in_features=1024, out_features=1024, bias=True)\n",
              "            (out_proj): Linear(in_features=1024, out_features=1024, bias=True)\n",
              "          )\n",
              "          (dropout): Dropout(p=0.1, inplace=False)\n",
              "          (layer_norm): LayerNorm((1024,), eps=1e-05, elementwise_affine=True)\n",
              "          (feed_forward): Wav2Vec2FeedForward(\n",
              "            (intermediate_dropout): Dropout(p=0.0, inplace=False)\n",
              "            (intermediate_dense): Linear(in_features=1024, out_features=4096, bias=True)\n",
              "            (intermediate_act_fn): GELUActivation()\n",
              "            (output_dense): Linear(in_features=4096, out_features=1024, bias=True)\n",
              "            (output_dropout): Dropout(p=0.1, inplace=False)\n",
              "          )\n",
              "          (final_layer_norm): LayerNorm((1024,), eps=1e-05, elementwise_affine=True)\n",
              "        )\n",
              "      )\n",
              "    )\n",
              "  )\n",
              "  (dropout): Dropout(p=0.0, inplace=False)\n",
              "  (lm_head): Linear(in_features=1024, out_features=33, bias=True)\n",
              ")"
            ]
          },
          "execution_count": 99,
          "metadata": {},
          "output_type": "execute_result"
        }
      ],
      "source": [
        "model"
      ]
    },
    {
      "cell_type": "code",
      "execution_count": 100,
      "metadata": {},
      "outputs": [
        {
          "data": {
            "text/plain": [
              "Wav2Vec2Processor:\n",
              "- feature_extractor: Wav2Vec2FeatureExtractor {\n",
              "  \"do_normalize\": true,\n",
              "  \"feature_extractor_type\": \"Wav2Vec2FeatureExtractor\",\n",
              "  \"feature_size\": 1,\n",
              "  \"padding_side\": \"right\",\n",
              "  \"padding_value\": 0.0,\n",
              "  \"return_attention_mask\": true,\n",
              "  \"sampling_rate\": 16000\n",
              "}\n",
              "\n",
              "- tokenizer: Wav2Vec2CTCTokenizer(name_or_path='./', vocab_size=31, model_max_length=1000000000000000019884624838656, is_fast=False, padding_side='right', truncation_side='right', special_tokens={'bos_token': '<s>', 'eos_token': '</s>', 'unk_token': '[UNK]', 'pad_token': '[PAD]', 'additional_special_tokens': [AddedToken(\"<s>\", rstrip=False, lstrip=False, single_word=False, normalized=True), AddedToken(\"</s>\", rstrip=False, lstrip=False, single_word=False, normalized=True)]}, clean_up_tokenization_spaces=True)"
            ]
          },
          "execution_count": 100,
          "metadata": {},
          "output_type": "execute_result"
        }
      ],
      "source": [
        "processor"
      ]
    },
    {
      "cell_type": "code",
      "execution_count": 101,
      "metadata": {},
      "outputs": [
        {
          "data": {
            "text/plain": [
              "{'input_values': [1.9871007680194452e-05,\n",
              "  1.9876821170328185e-05,\n",
              "  1.987294490390923e-05,\n",
              "  1.9871007680194452e-05,\n",
              "  1.98671332327649e-05,\n",
              "  1.9851631805067882e-05,\n",
              "  1.9876821170328185e-05,\n",
              "  1.987488394661341e-05,\n",
              "  1.9865196009050123e-05,\n",
              "  1.984678783628624e-05,\n",
              "  1.9871007680194452e-05,\n",
              "  1.9868100935127586e-05,\n",
              "  1.987294490390923e-05,\n",
              "  1.987294490390923e-05,\n",
              "  1.9863256966345944e-05,\n",
              "  1.9876821170328185e-05,\n",
              "  1.98923207790358e-05,\n",
              "  1.985938251891639e-05,\n",
              "  1.987294490390923e-05,\n",
              "  1.9876821170328185e-05,\n",
              "  1.9900071492884308e-05,\n",
              "  1.9869070456479676e-05,\n",
              "  1.9888446331606247e-05,\n",
              "  1.9898134269169532e-05,\n",
              "  1.9894258002750576e-05,\n",
              "  1.9882632841472514e-05,\n",
              "  1.988650910789147e-05,\n",
              "  1.989329030038789e-05,\n",
              "  1.9906852685380727e-05,\n",
              "  1.9891836927854456e-05,\n",
              "  1.9888446331606247e-05,\n",
              "  1.9891353076673113e-05,\n",
              "  1.9891353076673113e-05,\n",
              "  1.9897164747817442e-05,\n",
              "  1.9908789909095503e-05,\n",
              "  1.9907822206732817e-05,\n",
              "  1.9899101971532218e-05,\n",
              "  1.9884571884176694e-05,\n",
              "  1.9891353076673113e-05,\n",
              "  1.988117946893908e-05,\n",
              "  1.9897164747817442e-05,\n",
              "  1.9876821170328185e-05,\n",
              "  1.9880695617757738e-05,\n",
              "  1.9901041014236398e-05,\n",
              "  1.9904431610484608e-05,\n",
              "  1.9884571884176694e-05,\n",
              "  1.9882632841472514e-05,\n",
              "  1.991169665416237e-05,\n",
              "  1.9903462089132518e-05,\n",
              "  1.9838553271256387e-05,\n",
              "  1.9856475773849525e-05,\n",
              "  1.9942697690567002e-05,\n",
              "  1.9945362510043196e-05,\n",
              "  1.9861805412801914e-05,\n",
              "  1.990455166378524e-05,\n",
              "  1.996425271499902e-05,\n",
              "  2.0007606508443132e-05,\n",
              "  1.996885475818999e-05,\n",
              "  1.9871007680194452e-05,\n",
              "  1.9914603399229236e-05,\n",
              "  2.005895112233702e-05,\n",
              "  2.0026012862217613e-05,\n",
              "  1.982160029001534e-05,\n",
              "  1.9761535440920852e-05,\n",
              "  1.9971277652075514e-05,\n",
              "  2.0034247427247465e-05,\n",
              "  1.9838553271256387e-05,\n",
              "  1.990491546166595e-05,\n",
              "  1.992332181544043e-05,\n",
              "  1.984872687899042e-05,\n",
              "  1.9709221305674873e-05,\n",
              "  1.971212805074174e-05,\n",
              "  1.9805131159955636e-05,\n",
              "  1.965981391549576e-05,\n",
              "  1.9630750102805905e-05,\n",
              "  1.9772192899836227e-05,\n",
              "  1.9915572920581326e-05,\n",
              "  1.9845820133923553e-05,\n",
              "  1.9644312487798743e-05,\n",
              "  2.0097702872590162e-05,\n",
              "  2.0097702872590162e-05,\n",
              "  1.947380769706797e-05,\n",
              "  1.958618486241903e-05,\n",
              "  2.0427089111763053e-05,\n",
              "  2.053171738225501e-05,\n",
              "  1.978381806111429e-05,\n",
              "  1.993107252928894e-05,\n",
              "  2.0399964341777377e-05,\n",
              "  2.0446464986889623e-05,\n",
              "  2.0310835679993033e-05,\n",
              "  1.9721815988305025e-05,\n",
              "  1.9690814951900393e-05,\n",
              "  2.0833978851442225e-05,\n",
              "  2.0783601939911023e-05,\n",
              "  1.9249049728387035e-05,\n",
              "  1.8962289686896838e-05,\n",
              "  2.0795227101189084e-05,\n",
              "  2.0303084966144525e-05,\n",
              "  1.850114858825691e-05,\n",
              "  1.913667074404657e-05,\n",
              "  1.9996949049527757e-05,\n",
              "  1.9857445295201614e-05,\n",
              "  1.8342268958804198e-05,\n",
              "  1.8361643014941365e-05,\n",
              "  1.9686938685481437e-05,\n",
              "  1.847402199928183e-05,\n",
              "  1.8388769603916444e-05,\n",
              "  1.9380804587854072e-05,\n",
              "  2.0946357835782692e-05,\n",
              "  2.0795227101189084e-05,\n",
              "  1.9314926248625852e-05,\n",
              "  2.2469284886028618e-05,\n",
              "  2.1996518626110628e-05,\n",
              "  1.7817186744650826e-05,\n",
              "  1.9289738702354953e-05,\n",
              "  2.4409757315879688e-05,\n",
              "  2.5827086574281566e-05,\n",
              "  2.0360728740342893e-05,\n",
              "  1.7913096598931588e-05,\n",
              "  2.296191087225452e-05,\n",
              "  2.451632281008642e-05,\n",
              "  2.3583384972880594e-05,\n",
              "  2.0107390810153447e-05,\n",
              "  1.6908468751353212e-05,\n",
              "  2.3798455003998242e-05,\n",
              "  2.5848399673122913e-05,\n",
              "  1.5517296560574323e-05,\n",
              "  1.3986618796479888e-05,\n",
              "  2.4840866899467073e-05,\n",
              "  2.367057641095016e-05,\n",
              "  1.415324913978111e-05,\n",
              "  2.0097702872590162e-05,\n",
              "  2.2484784494736232e-05,\n",
              "  1.595131107023917e-05,\n",
              "  1.086713655240601e-05,\n",
              "  1.1324402294121683e-05,\n",
              "  1.9097918993793428e-05,\n",
              "  9.549591595714446e-06,\n",
              "  8.425802661804482e-06,\n",
              "  2.3352815333055332e-05,\n",
              "  2.0756475350935943e-05,\n",
              "  8.185545084415935e-06,\n",
              "  -8.125139743242471e-07,\n",
              "  2.2329779312713072e-05,\n",
              "  3.761330299312249e-05,\n",
              "  8.47230421641143e-06,\n",
              "  7.4415193012100644e-06,\n",
              "  3.100232788710855e-05,\n",
              "  2.2942051145946607e-05,\n",
              "  7.798031219863333e-06,\n",
              "  1.8121385437552817e-05,\n",
              "  1.7144851881312206e-05,\n",
              "  1.3982743439555634e-05,\n",
              "  2.5484137950115837e-05,\n",
              "  1.7158414266305044e-05,\n",
              "  2.891750591516029e-05,\n",
              "  5.074225555290468e-05,\n",
              "  4.6611363359261304e-05,\n",
              "  2.985528772114776e-05,\n",
              "  2.355432116019074e-05,\n",
              "  5.1604471082100645e-05,\n",
              "  3.712503894348629e-05,\n",
              "  1.2227308616274968e-05,\n",
              "  3.568542524590157e-05,\n",
              "  4.744839316117577e-05,\n",
              "  4.5956465328345075e-05,\n",
              "  1.4688017472508363e-05,\n",
              "  1.7456799469073303e-05,\n",
              "  4.966012420482002e-05,\n",
              "  1.980319393624086e-05,\n",
              "  1.0340118933527265e-05,\n",
              "  3.203892629244365e-05,\n",
              "  4.700953286373988e-05,\n",
              "  4.2205338104395196e-05,\n",
              "  1.2747545042657293e-05,\n",
              "  2.7909971322515048e-05,\n",
              "  6.181060598464683e-05,\n",
              "  6.123998900875449e-05,\n",
              "  5.936539309914224e-05,\n",
              "  5.2315557695692405e-05,\n",
              "  9.021604455483612e-06,\n",
              "  4.786568752024323e-06,\n",
              "  4.4417796743800864e-05,\n",
              "  7.418317545671016e-05,\n",
              "  9.649885760154575e-05,\n",
              "  1.1324887054797728e-05,\n",
              "  -6.430802022805437e-05,\n",
              "  -1.277408046007622e-05,\n",
              "  2.7985051929135807e-05,\n",
              "  6.851894431747496e-05,\n",
              "  6.860709981992841e-05,\n",
              "  5.1538110710680485e-05,\n",
              "  0.00010720833233790472,\n",
              "  0.00013327774649951607,\n",
              "  9.344815771328285e-05,\n",
              "  3.0714600143255666e-05,\n",
              "  4.68138387077488e-05,\n",
              "  9.026376937981695e-05,\n",
              "  7.373632251983508e-05,\n",
              "  8.332727884408087e-05,\n",
              "  6.261081580305472e-05,\n",
              "  1.3757016859017313e-05,\n",
              "  1.3110354302625638e-05,\n",
              "  2.8501171982497908e-05,\n",
              "  5.090186095912941e-05,\n",
              "  8.768340921960771e-05,\n",
              "  9.199268242809922e-05,\n",
              "  4.024306690553203e-05,\n",
              "  6.727525942551438e-06,\n",
              "  -3.2076117349788547e-05,\n",
              "  -2.2275906303548254e-05,\n",
              "  4.821470065508038e-05,\n",
              "  2.2980802896199748e-05,\n",
              "  -3.904870027326979e-06,\n",
              "  -7.944696335471235e-06,\n",
              "  -2.5438983357162215e-05,\n",
              "  -2.011842661886476e-05,\n",
              "  4.3762888708442915e-06,\n",
              "  6.603740621358156e-05,\n",
              "  5.1895105571020395e-05,\n",
              "  6.939908053027466e-05,\n",
              "  0.00010175644274568185,\n",
              "  6.367857849909342e-07,\n",
              "  3.413730883039534e-05,\n",
              "  0.00010764082981040701,\n",
              "  2.8390488296281546e-05,\n",
              "  9.479838809056673e-06,\n",
              "  5.0040856876876205e-05,\n",
              "  2.0664600697273272e-07,\n",
              "  -4.448526306077838e-05,\n",
              "  -1.8516058844397776e-05,\n",
              "  -7.705381722189486e-05,\n",
              "  -9.171344572678208e-05,\n",
              "  -3.200345963705331e-05,\n",
              "  -7.915026071714237e-05,\n",
              "  -3.549689063220285e-05,\n",
              "  8.535106462659314e-05,\n",
              "  6.526819197461009e-05,\n",
              "  1.6288197457470233e-06,\n",
              "  4.7497800551354885e-05,\n",
              "  7.948411803226918e-05,\n",
              "  1.5076499948918354e-05,\n",
              "  1.340244216407882e-05,\n",
              "  -3.144931542919949e-05,\n",
              "  -9.690708975540474e-05,\n",
              "  -4.627060843631625e-05,\n",
              "  7.347062819462735e-06,\n",
              "  4.980641097063199e-05,\n",
              "  1.193473599414574e-05,\n",
              "  1.2238683666510042e-06,\n",
              "  6.0076479712734e-05,\n",
              "  3.249134897487238e-05,\n",
              "  6.907841452630237e-05,\n",
              "  0.0001405058428645134,\n",
              "  9.761974069988355e-05,\n",
              "  2.6075096684508026e-05,\n",
              "  4.626260124496184e-05,\n",
              "  4.071728471899405e-05,\n",
              "  -3.990485492977314e-05,\n",
              "  3.1300711270887405e-05,\n",
              "  5.956205859547481e-05,\n",
              "  -4.925167377223261e-05,\n",
              "  -4.762024400406517e-05,\n",
              "  7.108257705112919e-06,\n",
              "  3.924085831386037e-05,\n",
              "  5.567530024563894e-05,\n",
              "  3.9025788282742724e-05,\n",
              "  -4.816276486963034e-05,\n",
              "  -4.18036688643042e-05,\n",
              "  5.279607648844831e-05,\n",
              "  -2.66790266323369e-05,\n",
              "  -5.9788162616314366e-05,\n",
              "  -2.951587248389842e-06,\n",
              "  -4.700603676610626e-05,\n",
              "  -5.6378044973826036e-05,\n",
              "  4.136055940762162e-05,\n",
              "  0.00011073318455601111,\n",
              "  6.432459485949948e-05,\n",
              "  8.957883983384818e-05,\n",
              "  9.793168283067644e-05,\n",
              "  2.6412231818540022e-05,\n",
              "  8.415171032538638e-05,\n",
              "  0.00012365869770292193,\n",
              "  0.00011273372365394607,\n",
              "  2.7899313863599673e-05,\n",
              "  -7.730860670562834e-05,\n",
              "  -4.4060936488676816e-05,\n",
              "  -5.367223275243305e-05,\n",
              "  -2.4927465346991085e-05,\n",
              "  5.2860013965982944e-05,\n",
              "  4.886837814410683e-06,\n",
              "  -1.5558363884338178e-05,\n",
              "  0.00011304276995360851,\n",
              "  0.00017065728025045246,\n",
              "  3.5502325772540644e-05,\n",
              "  2.9845599783584476e-05,\n",
              "  3.617272523115389e-05,\n",
              "  -9.552463598083705e-05,\n",
              "  -7.25596328265965e-05,\n",
              "  -6.51368172839284e-05,\n",
              "  -0.0001349289232166484,\n",
              "  -8.54512327350676e-05,\n",
              "  -6.279526860453188e-05,\n",
              "  -0.00014533752982970327,\n",
              "  -7.128955621737987e-05,\n",
              "  4.306561459088698e-05,\n",
              "  -9.463916649110615e-05,\n",
              "  -8.222711767302826e-05,\n",
              "  4.128693035454489e-05,\n",
              "  1.468414302507881e-05,\n",
              "  8.613771933596581e-05,\n",
              "  0.00010686193127185106,\n",
              "  4.0035261918092147e-05,\n",
              "  -6.4295190895791166e-06,\n",
              "  -3.327450394863263e-05,\n",
              "  -3.563252175808884e-05,\n",
              "  -7.081679359544069e-05,\n",
              "  3.5964185371994972e-06,\n",
              "  1.6259384210570715e-05,\n",
              "  -9.647016850067303e-05,\n",
              "  -0.00014712590200360864,\n",
              "  -0.0002009979943977669,\n",
              "  -0.0001522023230791092,\n",
              "  -3.272616959293373e-05,\n",
              "  3.016117261722684e-06,\n",
              "  -1.8285489204572514e-05,\n",
              "  -5.8145105867879465e-05,\n",
              "  -0.00013564775872509927,\n",
              "  -0.00017560424748808146,\n",
              "  -9.55207651713863e-05,\n",
              "  -6.903810572111979e-05,\n",
              "  -6.749217391188722e-06,\n",
              "  4.1015671740751714e-05,\n",
              "  -0.00010957974154734984,\n",
              "  -0.00016098725609481335,\n",
              "  -2.865146961994469e-05,\n",
              "  0.0001190686016343534,\n",
              "  9.519777813693509e-05,\n",
              "  5.276507363305427e-05,\n",
              "  0.0001434896985301748,\n",
              "  0.00015988925588317215,\n",
              "  0.0001849381224019453,\n",
              "  4.930433078698115e-06,\n",
              "  -0.00024109399237204343,\n",
              "  -0.00010016317537520081,\n",
              "  4.701437501353212e-05,\n",
              "  0.00011809981515398249,\n",
              "  0.0001119306034524925,\n",
              "  -4.3601732613751665e-05,\n",
              "  -7.019289478193969e-05,\n",
              "  -1.5638772310921922e-05,\n",
              "  3.049080987693742e-05,\n",
              "  0.00010139024379896,\n",
              "  9.295795462094247e-05,\n",
              "  -2.1451471184263937e-05,\n",
              "  -3.8223046431085095e-05,\n",
              "  3.557498348527588e-05,\n",
              "  5.622169192065485e-05,\n",
              "  2.2167023416841403e-05,\n",
              "  -6.503897020593286e-05,\n",
              "  -7.2684852057136595e-06,\n",
              "  4.707637708634138e-05,\n",
              "  -7.171194738475606e-05,\n",
              "  -5.528138353838585e-05,\n",
              "  4.395664745970862e-06,\n",
              "  5.8329766034148633e-05,\n",
              "  4.767677637573797e-06,\n",
              "  -6.744929851265624e-05,\n",
              "  5.7422985264565796e-05,\n",
              "  5.7694243878358975e-05,\n",
              "  8.755188900977373e-06,\n",
              "  1.78617519850377e-05,\n",
              "  8.387076377402991e-05,\n",
              "  0.0001874821464298293,\n",
              "  0.0001235424424521625,\n",
              "  0.0001137170402216725,\n",
              "  0.0001268963678739965,\n",
              "  1.9369177607586607e-05,\n",
              "  9.270994632970542e-05,\n",
              "  7.904622179921716e-05,\n",
              "  -5.764934030594304e-06,\n",
              "  8.314611477544531e-05,\n",
              "  0.00010683092841645703,\n",
              "  -6.956512515898794e-05,\n",
              "  -1.704932037682738e-05,\n",
              "  0.00011284513311693445,\n",
              "  -1.1856643141072709e-05,\n",
              "  -0.00012138339661760256,\n",
              "  -0.00017924688290804625,\n",
              "  -7.340925367316231e-05,\n",
              "  -2.8194202968734317e-05,\n",
              "  -7.615284994244576e-05,\n",
              "  -2.586912341939751e-05,\n",
              "  -3.755652505788021e-05,\n",
              "  -0.00014179758727550507,\n",
              "  -0.00022477193851955235,\n",
              "  -0.0002596326230559498,\n",
              "  -7.052615546854213e-05,\n",
              "  -0.00011843829997815192,\n",
              "  -0.00014244861085899174,\n",
              "  -2.7837690140586346e-05,\n",
              "  -1.3577201571024489e-05,\n",
              "  -3.2317344448529184e-05,\n",
              "  -6.81855744915083e-05,\n",
              "  -4.167966471868567e-05,\n",
              "  -0.00013809296069666743,\n",
              "  -0.00015170243568718433,\n",
              "  -7.925295358290896e-05,\n",
              "  4.188370076008141e-05,\n",
              "  3.4311691706534475e-05,\n",
              "  -8.72124801389873e-05,\n",
              "  -0.0002852782781701535,\n",
              "  -0.0001331172970822081,\n",
              "  7.410155376419425e-05,\n",
              "  0.00013679734547622502,\n",
              "  -0.00010249987826682627,\n",
              "  -0.00037109016557224095,\n",
              "  -0.0005060426774434745,\n",
              "  -0.00032305208151228726,\n",
              "  -0.00025571195874363184,\n",
              "  -0.000530548975802958,\n",
              "  -0.0006494516273960471,\n",
              "  -0.0004935220931656659,\n",
              "  1.2662291737797204e-05,\n",
              "  0.0002377920172875747,\n",
              "  4.1623581637395546e-05,\n",
              "  -0.0005333666922524571,\n",
              "  -0.0007647155434824526,\n",
              "  -0.0008579647983424366,\n",
              "  -0.000859540537931025,\n",
              "  -0.0011355028254911304,\n",
              "  -0.0010794674744829535,\n",
              "  -0.001421639695763588,\n",
              "  -0.0010149362497031689,\n",
              "  -0.000640995625872165,\n",
              "  -0.0009241985389962792,\n",
              "  -0.0014270119136199355,\n",
              "  -0.0018761858809739351,\n",
              "  -0.001569391810335219,\n",
              "  -0.0013415779685601592,\n",
              "  -0.0009429492056369781,\n",
              "  -0.0014026026474311948,\n",
              "  -0.0019787552300840616,\n",
              "  -0.002568438183516264,\n",
              "  -0.0020341852214187384,\n",
              "  -0.0016919947229325771,\n",
              "  -0.0011853971518576145,\n",
              "  -0.001883127260953188,\n",
              "  -0.002265258226543665,\n",
              "  -0.0016701812855899334,\n",
              "  -0.001817859709262848,\n",
              "  -0.001780733815394342,\n",
              "  -0.0016650308389216661,\n",
              "  -0.001557396026328206,\n",
              "  -0.0017491161124780774,\n",
              "  -0.0013459024485200644,\n",
              "  -0.0016566884005442262,\n",
              "  -0.0020749324467033148,\n",
              "  -0.0023612547665834427,\n",
              "  -0.0019125588005408645,\n",
              "  -0.0023198137059807777,\n",
              "  -0.002976920921355486,\n",
              "  -0.002838698448613286,\n",
              "  -0.002629272174090147,\n",
              "  -0.0023003765381872654,\n",
              "  -0.0021915587130934,\n",
              "  -0.0023685824126005173,\n",
              "  -0.0026155973318964243,\n",
              "  -0.0020135436207056046,\n",
              "  -0.0016220887191593647,\n",
              "  -0.0020318066235631704,\n",
              "  -0.00242966553196311,\n",
              "  -0.0025687478482723236,\n",
              "  -0.0014498236123472452,\n",
              "  0.00010327355994377285,\n",
              "  -0.00013569038128480315,\n",
              "  -0.0007234404911287129,\n",
              "  0.00016718516417313367,\n",
              "  0.0011331831337884068,\n",
              "  0.0009163326467387378,\n",
              "  0.0002360908401897177,\n",
              "  -0.0004573467595037073,\n",
              "  0.0007566568092443049,\n",
              "  0.00183133187238127,\n",
              "  0.0013188484590500593,\n",
              "  0.0007863616337999701,\n",
              "  0.000977607211098075,\n",
              "  0.002217134227976203,\n",
              "  0.0031997861806303263,\n",
              "  0.0021757627837359905,\n",
              "  0.0009523200569674373,\n",
              "  0.000214557207073085,\n",
              "  -0.0004042545333504677,\n",
              "  0.0009369071922264993,\n",
              "  0.0003543201892171055,\n",
              "  3.3852487831609324e-05,\n",
              "  0.00036931451177224517,\n",
              "  0.00013335428957361728,\n",
              "  0.001024458440952003,\n",
              "  0.0007265833555720747,\n",
              "  0.00012769731984008104,\n",
              "  0.0002628921065479517,\n",
              "  4.930554860038683e-05,\n",
              "  -0.0010613480117172003,\n",
              "  -0.001610302715562284,\n",
              "  -0.002058834070339799,\n",
              "  -0.0011474222410470247,\n",
              "  -0.0005396197084337473,\n",
              "  7.26813159417361e-05,\n",
              "  0.0007621996919624507,\n",
              "  0.0010743323946371675,\n",
              "  0.0005273749120533466,\n",
              "  -0.0006265011616051197,\n",
              "  -0.00043032062239944935,\n",
              "  -5.795935066998936e-06,\n",
              "  0.000934045878238976,\n",
              "  0.00028446121723391116,\n",
              "  0.0005313691799528897,\n",
              "  0.00027885971940122545,\n",
              "  0.0002024556597461924,\n",
              "  -0.00012407274334691465,\n",
              "  -0.0008220180752687156,\n",
              "  -0.0009329466847702861,\n",
              "  -0.0012756198411807418,\n",
              "  -0.0017088394379243255,\n",
              "  -0.0017569375922903419,\n",
              "  -0.0021378109231591225,\n",
              "  -0.002185306278988719,\n",
              "  -0.0016076015308499336,\n",
              "  -0.0013943781377747655,\n",
              "  -0.0009310071473009884,\n",
              "  -0.0017922748811542988,\n",
              "  -0.0010149929439648986,\n",
              "  -0.0015249139396473765,\n",
              "  -0.0012199680786579847,\n",
              "  -0.0012130452087149024,\n",
              "  -0.0030649984255433083,\n",
              "  -0.0038320771418511868,\n",
              "  -0.0032576157245785,\n",
              "  -0.0021286741830408573,\n",
              "  -0.0001513507595518604,\n",
              "  4.2441235564183444e-05,\n",
              "  5.859715020051226e-05,\n",
              "  -0.0006652786396443844,\n",
              "  -0.0008017123909667134,\n",
              "  0.0004953527241013944,\n",
              "  -0.0005213988479226828,\n",
              "  0.0005572938243858516,\n",
              "  0.0017065041465684772,\n",
              "  0.002970439847558737,\n",
              "  0.002618402475491166,\n",
              "  0.0019597504287958145,\n",
              "  0.0016920131165534258,\n",
              "  0.001791417016647756,\n",
              "  0.0019933658186346292,\n",
              "  0.0033903541043400764,\n",
              "  0.004144742619246244,\n",
              "  0.004381443839520216,\n",
              "  0.002976231276988983,\n",
              "  0.0030218239407986403,\n",
              "  0.0035157392267137766,\n",
              "  0.0020215045660734177,\n",
              "  0.002832410391420126,\n",
              "  0.0031354371458292007,\n",
              "  0.004671002272516489,\n",
              "  0.004642305430024862,\n",
              "  0.0033337620552629232,\n",
              "  0.0014514339854940772,\n",
              "  -0.00037329705082811415,\n",
              "  -9.55798604991287e-05,\n",
              "  0.0017438826616853476,\n",
              "  0.0012935292907059193,\n",
              "  0.0020215418189764023,\n",
              "  0.001457382459193468,\n",
              "  0.0012055599363520741,\n",
              "  0.001743170665577054,\n",
              "  0.0014979168772697449,\n",
              "  0.0013734069652855396,\n",
              "  0.0004073043819516897,\n",
              "  0.0004725010658148676,\n",
              "  -0.00033762550447136164,\n",
              "  -0.00106404151301831,\n",
              "  -0.0013959718635305762,\n",
              "  -0.001228448818437755,\n",
              "  -0.0018254363676533103,\n",
              "  -0.0012479504803195596,\n",
              "  -0.001164784305728972,\n",
              "  -0.0001366204087389633,\n",
              "  -0.00041689714998938143,\n",
              "  0.000496425200253725,\n",
              "  0.001192925963550806,\n",
              "  0.000457057700259611,\n",
              "  -0.0005156394327059388,\n",
              "  -0.001034314394928515,\n",
              "  0.0008084392757155001,\n",
              "  0.0021986626088619232,\n",
              "  0.003381457645446062,\n",
              "  0.0028660765383392572,\n",
              "  0.002836276777088642,\n",
              "  0.0009304207051172853,\n",
              "  -0.0005427033174782991,\n",
              "  -0.0011634106049314141,\n",
              "  -0.0011224271729588509,\n",
              "  -0.0001816843287087977,\n",
              "  -0.00029878696659579873,\n",
              "  -0.00038093593320809305,\n",
              "  0.0007165017304942012,\n",
              "  0.0005911566549912095,\n",
              "  0.00041543878614902496,\n",
              "  0.0013150237500667572,\n",
              "  -7.333949906751513e-05,\n",
              "  0.0019471392733976245,\n",
              "  0.001350020058453083,\n",
              "  -0.0014823301462456584,\n",
              "  -0.0017097888048738241,\n",
              "  -0.0019178562797605991,\n",
              "  0.0010532778687775135,\n",
              "  0.0039703575894236565,\n",
              "  0.004350175149738789,\n",
              "  0.0035029160790145397,\n",
              "  0.0036972693633288145,\n",
              "  0.0058209546841681,\n",
              "  0.008054868318140507,\n",
              "  0.006377858109772205,\n",
              "  0.004465239588171244,\n",
              "  0.004812662955373526,\n",
              "  0.007553269155323505,\n",
              "  0.01021585613489151,\n",
              "  0.008586256764829159,\n",
              "  0.008014516904950142,\n",
              "  0.01119944266974926,\n",
              "  0.012953795492649078,\n",
              "  0.010577093809843063,\n",
              "  0.00870303250849247,\n",
              "  0.00691511994227767,\n",
              "  0.00662561459466815,\n",
              "  0.00840402115136385,\n",
              "  0.007585953921079636,\n",
              "  0.005653479602187872,\n",
              "  0.005278904922306538,\n",
              "  0.006139831617474556,\n",
              "  0.006389800924807787,\n",
              "  0.005395178683102131,\n",
              "  0.0036852448247373104,\n",
              "  0.0013273039367049932,\n",
              "  0.0031118104234337807,\n",
              "  0.00346857076510787,\n",
              "  0.0023197876289486885,\n",
              "  0.0016285181045532227,\n",
              "  0.0032190275378525257,\n",
              "  0.00435094628483057,\n",
              "  0.0032892217859625816,\n",
              "  0.004686540924012661,\n",
              "  0.005453336518257856,\n",
              "  0.004799020476639271,\n",
              "  0.005976068787276745,\n",
              "  0.0020757936872541904,\n",
              "  -0.01058118138462305,\n",
              "  -0.012147161178290844,\n",
              "  -0.013316924683749676,\n",
              "  -0.018923962488770485,\n",
              "  -0.027314677834510803,\n",
              "  -0.033275704830884933,\n",
              "  -0.034854527562856674,\n",
              "  -0.032999858260154724,\n",
              "  -0.03187312185764313,\n",
              "  -0.03602590784430504,\n",
              "  -0.03703337535262108,\n",
              "  -0.037441153079271317,\n",
              "  -0.03839798644185066,\n",
              "  -0.03968384489417076,\n",
              "  -0.03740042820572853,\n",
              "  -0.041238971054553986,\n",
              "  -0.04370196536183357,\n",
              "  -0.045314110815525055,\n",
              "  -0.046963170170784,\n",
              "  -0.04527974873781204,\n",
              "  -0.042566727846860886,\n",
              "  -0.042103953659534454,\n",
              "  -0.038511134684085846,\n",
              "  -0.02908238209784031,\n",
              "  -0.023428497835993767,\n",
              "  -0.02138346992433071,\n",
              "  -0.024334587156772614,\n",
              "  -0.024731077253818512,\n",
              "  -0.025829048827290535,\n",
              "  -0.031302984803915024,\n",
              "  -0.03418033942580223,\n",
              "  -0.030829481780529022,\n",
              "  -0.023701241239905357,\n",
              "  -0.021982301026582718,\n",
              "  -0.022198934108018875,\n",
              "  -0.013876492157578468,\n",
              "  -0.004465356469154358,\n",
              "  0.0033132031094282866,\n",
              "  0.008051433600485325,\n",
              "  0.009054478257894516,\n",
              "  0.011796682141721249,\n",
              "  0.01422924641519785,\n",
              "  0.00914737954735756,\n",
              "  -0.00036356903729029,\n",
              "  -0.010824615135788918,\n",
              "  -0.011189728043973446,\n",
              "  -0.0071350689977407455,\n",
              "  0.0003838735865429044,\n",
              "  0.012557988055050373,\n",
              "  0.017634358257055283,\n",
              "  0.02124851755797863,\n",
              "  0.020017648115754128,\n",
              "  0.02079172618687153,\n",
              "  0.020934373140335083,\n",
              "  0.01907932758331299,\n",
              "  0.017490161582827568,\n",
              "  0.015097066760063171,\n",
              "  0.009120085276663303,\n",
              "  0.0049889725632965565,\n",
              "  0.0042099179700016975,\n",
              "  0.004559704102575779,\n",
              "  -0.0010965310502797365,\n",
              "  -0.013747693970799446,\n",
              "  -0.017075415700674057,\n",
              "  -0.01795993745326996,\n",
              "  -0.019757844507694244,\n",
              "  -0.030982108786702156,\n",
              "  -0.0458768755197525,\n",
              "  -0.05589177832007408,\n",
              "  -0.06430280953645706,\n",
              "  -0.06816612929105759,\n",
              "  -0.07125309109687805,\n",
              "  -0.07369806617498398,\n",
              "  -0.06758313626050949,\n",
              "  -0.05841110274195671,\n",
              "  -0.06038571521639824,\n",
              "  -0.06127842143177986,\n",
              "  -0.06560666859149933,\n",
              "  -0.07031464576721191,\n",
              "  -0.0704546570777893,\n",
              "  -0.07353772968053818,\n",
              "  -0.07437759637832642,\n",
              "  -0.07299786061048508,\n",
              "  -0.06854543089866638,\n",
              "  -0.06697617471218109,\n",
              "  -0.06461306661367416,\n",
              "  -0.058474570512771606,\n",
              "  -0.049491483718156815,\n",
              "  -0.04689464718103409,\n",
              "  -0.04159319028258324,\n",
              "  -0.03801529482007027,\n",
              "  -0.035663310438394547,\n",
              "  -0.03324980288743973,\n",
              "  -0.037415266036987305,\n",
              "  -0.03191213682293892,\n",
              "  -0.02660440467298031,\n",
              "  -0.027360916137695312,\n",
              "  -0.02878464013338089,\n",
              "  -0.02249874919652939,\n",
              "  -0.012554996646940708,\n",
              "  -0.0018093548715114594,\n",
              "  0.010437553748488426,\n",
              "  0.018786314874887466,\n",
              "  0.02224903739988804,\n",
              "  0.02563665807247162,\n",
              "  0.024541370570659637,\n",
              "  0.02700164169073105,\n",
              "  0.031464919447898865,\n",
              "  0.03409609943628311,\n",
              "  0.047516241669654846,\n",
              "  0.06171002611517906,\n",
              "  0.06688766926527023,\n",
              "  0.06937476992607117,\n",
              "  0.06465902179479599,\n",
              "  0.0711081475019455,\n",
              "  0.0900808647274971,\n",
              "  0.0909106582403183,\n",
              "  0.08178086578845978,\n",
              "  0.07339536398649216,\n",
              "  0.06646156311035156,\n",
              "  0.06388996541500092,\n",
              "  0.0567227303981781,\n",
              "  0.05378006771206856,\n",
              "  0.07289507985115051,\n",
              "  0.08003794401884079,\n",
              "  0.08321113139390945,\n",
              "  0.07704472541809082,\n",
              "  0.06638189405202866,\n",
              "  0.06331939995288849,\n",
              "  0.056571800261735916,\n",
              "  0.044740427285432816,\n",
              "  0.03125930204987526,\n",
              "  0.022857919335365295,\n",
              "  0.013522679917514324,\n",
              "  0.005878506228327751,\n",
              "  0.005173177924007177,\n",
              "  0.007782049011439085,\n",
              "  -0.004193154163658619,\n",
              "  -0.007620868738740683,\n",
              "  -0.023243695497512817,\n",
              "  -0.029867736622691154,\n",
              "  -0.02095196768641472,\n",
              "  -0.017838405445218086,\n",
              "  -0.011533405631780624,\n",
              "  -0.010044761933386326,\n",
              "  -0.014378593303263187,\n",
              "  -0.02392943575978279,\n",
              "  -0.03404669836163521,\n",
              "  -0.026799211278557777,\n",
              "  -0.012010738253593445,\n",
              "  -0.0074979038909077644,\n",
              "  0.004800613969564438,\n",
              "  0.013342002406716347,\n",
              "  0.020234713330864906,\n",
              "  0.026917582377791405,\n",
              "  0.02887616492807865,\n",
              "  0.02361356094479561,\n",
              "  0.03378995507955551,\n",
              "  0.04854991286993027,\n",
              "  0.05203251168131828,\n",
              "  0.054780229926109314,\n",
              "  0.06064782291650772,\n",
              "  0.0647478699684143,\n",
              "  0.07034710794687271,\n",
              "  0.0755932554602623,\n",
              "  0.07486110180616379,\n",
              "  0.06837763637304306,\n",
              "  0.061148278415203094,\n",
              "  0.054481394588947296,\n",
              "  0.05126521363854408,\n",
              "  0.04228920117020607,\n",
              "  0.018386922776699066,\n",
              "  0.0046739825047552586,\n",
              "  -0.009252522140741348,\n",
              "  -0.011500781401991844,\n",
              "  -0.016830135136842728,\n",
              "  -0.028826553374528885,\n",
              "  -0.03660555183887482,\n",
              "  -0.03827647119760513,\n",
              "  -0.04129371792078018,\n",
              "  -0.0501016229391098,\n",
              "  -0.08724792301654816,\n",
              "  -0.12636469304561615,\n",
              "  -0.14424258470535278,\n",
              "  -0.15803909301757812,\n",
              "  -0.1573271006345749,\n",
              "  -0.1729474514722824,\n",
              "  -0.19894073903560638,\n",
              "  -0.21244430541992188,\n",
              "  -0.21035295724868774,\n",
              "  -0.21747297048568726,\n",
              "  -0.22567543387413025,\n",
              "  -0.23722587525844574,\n",
              "  -0.2527931332588196,\n",
              "  -0.25984981656074524,\n",
              "  -0.2558051645755768,\n",
              "  -0.2586679756641388,\n",
              "  -0.2650839686393738,\n",
              "  -0.27472442388534546,\n",
              "  -0.287720263004303,\n",
              "  -0.28793850541114807,\n",
              "  -0.2854868173599243,\n",
              "  -0.2758657932281494,\n",
              "  -0.2611391544342041,\n",
              "  -0.25575724244117737,\n",
              "  -0.27103492617607117,\n",
              "  -0.2794129550457001,\n",
              "  -0.2812364995479584,\n",
              "  -0.2763140797615051,\n",
              "  -0.2689463794231415,\n",
              "  -0.2762732207775116,\n",
              "  -0.27969399094581604,\n",
              "  -0.26874053478240967,\n",
              "  -0.272430419921875,\n",
              "  -0.27951526641845703,\n",
              "  -0.27495086193084717,\n",
              "  -0.26433640718460083,\n",
              "  -0.24889037013053894,\n",
              "  -0.23581819236278534,\n",
              "  -0.23303015530109406,\n",
              "  -0.22488486766815186,\n",
              "  -0.20635321736335754,\n",
              "  -0.18541312217712402,\n",
              "  -0.15488232672214508,\n",
              "  -0.1341177523136139,\n",
              "  -0.11328217387199402,\n",
              "  -0.08671363443136215,\n",
              "  -0.05064931884407997,\n",
              "  -0.015934810042381287,\n",
              "  0.020801793783903122,\n",
              "  0.05991346016526222,\n",
              "  0.10268711298704147,\n",
              "  0.15339593589305878,\n",
              "  0.19685856997966766,\n",
              "  0.2307186722755432,\n",
              "  0.2632990777492523,\n",
              "  0.2892645299434662,\n",
              "  0.3121275007724762,\n",
              "  0.3435281813144684,\n",
              "  0.36826997995376587,\n",
              "  0.39330819249153137,\n",
              "  0.41941702365875244,\n",
              "  0.4504171907901764,\n",
              "  0.48188936710357666,\n",
              "  0.506225049495697,\n",
              "  0.5147456526756287,\n",
              "  0.518253743648529,\n",
              "  0.5224383473396301,\n",
              "  0.5203130841255188,\n",
              "  0.5187642574310303,\n",
              "  0.5145847797393799,\n",
              "  0.49914059042930603,\n",
              "  0.48035892844200134,\n",
              "  0.45923560857772827,\n",
              "  0.43046435713768005,\n",
              "  0.4112527668476105,\n",
              "  0.3895089626312256,\n",
              "  0.36989328265190125,\n",
              "  0.35326501727104187,\n",
              "  0.3255783021450043,\n",
              "  0.3006666600704193,\n",
              "  0.2701358199119568,\n",
              "  0.23559832572937012,\n",
              "  0.21310120820999146,\n",
              "  0.18939408659934998,\n",
              "  0.15939776599407196,\n",
              "  0.12744645774364471,\n",
              "  0.09795139729976654,\n",
              "  0.06740397214889526,\n",
              "  0.036973852664232254,\n",
              "  0.002749539678916335,\n",
              "  -0.033107683062553406,\n",
              "  -0.06574074178934097,\n",
              "  -0.10775449872016907,\n",
              "  -0.15131650865077972,\n",
              "  -0.19456997513771057,\n",
              "  -0.2335900515317917,\n",
              "  -0.26706916093826294,\n",
              "  -0.30209189653396606,\n",
              "  -0.3356330096721649,\n",
              "  -0.3650587499141693,\n",
              "  -0.38836395740509033,\n",
              "  -0.4162081778049469,\n",
              "  -0.4505482017993927,\n",
              "  -0.4822111129760742,\n",
              "  -0.5155393481254578,\n",
              "  -0.539977490901947,\n",
              "  -0.5644629597663879,\n",
              "  -0.5926416516304016,\n",
              "  -0.6103677153587341,\n",
              "  -0.6284804940223694,\n",
              "  -0.6308848261833191,\n",
              "  -0.6180633902549744,\n",
              "  -0.6068230867385864,\n",
              "  -0.5845407843589783,\n",
              "  -0.5560322999954224,\n",
              "  -0.5278276205062866,\n",
              "  -0.4975632131099701,\n",
              "  -0.47116872668266296,\n",
              "  -0.43668437004089355,\n",
              "  -0.3986886143684387,\n",
              "  -0.3654344081878662,\n",
              "  -0.3228556215763092,\n",
              "  -0.2737347483634949,\n",
              "  -0.21762537956237793,\n",
              "  -0.16623333096504211,\n",
              "  -0.12414850294589996,\n",
              "  -0.07817498594522476,\n",
              "  -0.027979539707303047,\n",
              "  0.02674180641770363,\n",
              "  0.07307422161102295,\n",
              "  0.11012085527181625,\n",
              "  0.14180104434490204,\n",
              "  0.16982223093509674,\n",
              "  0.195820614695549,\n",
              "  0.20416395366191864,\n",
              "  0.2023787945508957,\n",
              "  0.20668211579322815,\n",
              "  0.21722359955310822,\n",
              "  0.22213564813137054,\n",
              "  0.2121734619140625,\n",
              "  0.1923941820859909,\n",
              "  0.17215877771377563,\n",
              "  0.15883812308311462,\n",
              "  0.13694354891777039,\n",
              "  0.10968059301376343,\n",
              "  0.0876728966832161,\n",
              "  0.06372183561325073,\n",
              "  0.04564451798796654,\n",
              "  0.02900005504488945,\n",
              "  0.016686223447322845,\n",
              "  0.01334486622363329,\n",
              "  0.013333224691450596,\n",
              "  0.017280567437410355,\n",
              "  0.0276077501475811,\n",
              "  0.05251658335328102,\n",
              "  0.0809875875711441,\n",
              "  0.10667366534471512,\n",
              "  0.1320205181837082,\n",
              "  0.15394224226474762,\n",
              "  0.18610072135925293,\n",
              "  0.2239566296339035,\n",
              "  0.25935378670692444,\n",
              "  ...],\n",
              " 'input_length': 100800,\n",
              " 'labels': [10,\n",
              "  15,\n",
              "  5,\n",
              "  0,\n",
              "  11,\n",
              "  5,\n",
              "  1,\n",
              "  20,\n",
              "  15,\n",
              "  14,\n",
              "  0,\n",
              "  4,\n",
              "  9,\n",
              "  19,\n",
              "  1,\n",
              "  16,\n",
              "  16,\n",
              "  18,\n",
              "  15,\n",
              "  22,\n",
              "  5,\n",
              "  4,\n",
              "  0,\n",
              "  15,\n",
              "  6,\n",
              "  0,\n",
              "  6,\n",
              "  9,\n",
              "  12,\n",
              "  13,\n",
              "  19,\n",
              "  0,\n",
              "  1,\n",
              "  14,\n",
              "  4,\n",
              "  0,\n",
              "  2,\n",
              "  21,\n",
              "  19,\n",
              "  20,\n",
              "  5,\n",
              "  18,\n",
              "  0,\n",
              "  1,\n",
              "  12,\n",
              "  19,\n",
              "  15,\n",
              "  0,\n",
              "  8,\n",
              "  1,\n",
              "  4,\n",
              "  0,\n",
              "  18,\n",
              "  5,\n",
              "  19,\n",
              "  5,\n",
              "  18,\n",
              "  22,\n",
              "  1,\n",
              "  20,\n",
              "  9,\n",
              "  15,\n",
              "  14,\n",
              "  19,\n",
              "  0,\n",
              "  1,\n",
              "  2,\n",
              "  15,\n",
              "  21,\n",
              "  20,\n",
              "  0,\n",
              "  20,\n",
              "  8,\n",
              "  5,\n",
              "  0,\n",
              "  13,\n",
              "  5,\n",
              "  4,\n",
              "  9,\n",
              "  21,\n",
              "  13]}"
            ]
          },
          "execution_count": 101,
          "metadata": {},
          "output_type": "execute_result"
        }
      ],
      "source": [
        "onesample=test_dataset[0]\n",
        "onesample"
      ]
    },
    {
      "cell_type": "code",
      "execution_count": 117,
      "metadata": {},
      "outputs": [
        {
          "data": {
            "text/plain": [
              "[10,\n",
              " 15,\n",
              " 5,\n",
              " 0,\n",
              " 11,\n",
              " 5,\n",
              " 1,\n",
              " 20,\n",
              " 15,\n",
              " 14,\n",
              " 0,\n",
              " 4,\n",
              " 9,\n",
              " 19,\n",
              " 1,\n",
              " 16,\n",
              " 16,\n",
              " 18,\n",
              " 15,\n",
              " 22,\n",
              " 5,\n",
              " 4,\n",
              " 0,\n",
              " 15,\n",
              " 6,\n",
              " 0,\n",
              " 6,\n",
              " 9,\n",
              " 12,\n",
              " 13,\n",
              " 19,\n",
              " 0,\n",
              " 1,\n",
              " 14,\n",
              " 4,\n",
              " 0,\n",
              " 2,\n",
              " 21,\n",
              " 19,\n",
              " 20,\n",
              " 5,\n",
              " 18,\n",
              " 0,\n",
              " 1,\n",
              " 12,\n",
              " 19,\n",
              " 15,\n",
              " 0,\n",
              " 8,\n",
              " 1,\n",
              " 4,\n",
              " 0,\n",
              " 18,\n",
              " 5,\n",
              " 19,\n",
              " 5,\n",
              " 18,\n",
              " 22,\n",
              " 1,\n",
              " 20,\n",
              " 9,\n",
              " 15,\n",
              " 14,\n",
              " 19,\n",
              " 0,\n",
              " 1,\n",
              " 2,\n",
              " 15,\n",
              " 21,\n",
              " 20,\n",
              " 0,\n",
              " 20,\n",
              " 8,\n",
              " 5,\n",
              " 0,\n",
              " 13,\n",
              " 5,\n",
              " 4,\n",
              " 9,\n",
              " 21,\n",
              " 13]"
            ]
          },
          "execution_count": 117,
          "metadata": {},
          "output_type": "execute_result"
        }
      ],
      "source": [
        "onesample['labels']"
      ]
    },
    {
      "cell_type": "code",
      "execution_count": 103,
      "metadata": {},
      "outputs": [
        {
          "data": {
            "text/plain": [
              "100800"
            ]
          },
          "execution_count": 103,
          "metadata": {},
          "output_type": "execute_result"
        }
      ],
      "source": [
        "len(onesample[\"input_values\"]) #list"
      ]
    },
    {
      "cell_type": "code",
      "execution_count": 104,
      "metadata": {},
      "outputs": [
        {
          "name": "stderr",
          "output_type": "stream",
          "text": [
            "It is strongly recommended to pass the ``sampling_rate`` argument to this function. Failing to do so can result in silent errors that might be hard to debug.\n"
          ]
        }
      ],
      "source": [
        "input_dict = processor(onesample[\"input_values\"], return_tensors=\"pt\", padding=True)"
      ]
    },
    {
      "cell_type": "code",
      "execution_count": 106,
      "metadata": {},
      "outputs": [
        {
          "data": {
            "text/plain": [
              "torch.Size([1, 100800])"
            ]
          },
          "execution_count": 106,
          "metadata": {},
          "output_type": "execute_result"
        }
      ],
      "source": [
        "input_dict.input_values.shape"
      ]
    },
    {
      "cell_type": "code",
      "execution_count": 107,
      "metadata": {},
      "outputs": [],
      "source": [
        "model=model.cuda()"
      ]
    },
    {
      "cell_type": "markdown",
      "metadata": {
        "id": "jD7TZ1YS3S_K"
      },
      "source": [
        "\n",
        "Now, we will just take the first example of the test set, run it through the model and take the `argmax(...)` of the logits to retrieve the predicted token ids."
      ]
    },
    {
      "cell_type": "code",
      "execution_count": 108,
      "metadata": {
        "colab": {
          "background_save": true
        },
        "id": "pax07TnL3WZn",
        "outputId": "867787ff-0cb7-41e9-f926-96f7b53e7134"
      },
      "outputs": [
        {
          "name": "stderr",
          "output_type": "stream",
          "text": [
            "/home/lkk/miniconda3/envs/mycondapy310/lib/python3.10/site-packages/torch/utils/checkpoint.py:429: UserWarning: torch.utils.checkpoint: please pass in use_reentrant=True or use_reentrant=False explicitly. The default value of use_reentrant will be updated to be False in the future. To maintain current behavior, pass use_reentrant=True. It is recommended that you use use_reentrant=False. Refer to docs for more details on the differences between the two variants.\n",
            "  warnings.warn(\n"
          ]
        }
      ],
      "source": [
        "logits = model(input_dict.input_values.to(\"cuda\")).logits"
      ]
    },
    {
      "cell_type": "code",
      "execution_count": 109,
      "metadata": {},
      "outputs": [
        {
          "data": {
            "text/plain": [
              "torch.Size([1, 314, 33])"
            ]
          },
          "execution_count": 109,
          "metadata": {},
          "output_type": "execute_result"
        }
      ],
      "source": [
        "logits.shape"
      ]
    },
    {
      "cell_type": "code",
      "execution_count": 110,
      "metadata": {},
      "outputs": [
        {
          "data": {
            "text/plain": [
              "torch.Size([1, 314])"
            ]
          },
          "execution_count": 110,
          "metadata": {},
          "output_type": "execute_result"
        }
      ],
      "source": [
        "pred_ids = torch.argmax(logits, dim=-1)\n",
        "pred_ids.shape"
      ]
    },
    {
      "cell_type": "code",
      "execution_count": 111,
      "metadata": {},
      "outputs": [],
      "source": [
        "pred_id=pred_ids[0]"
      ]
    },
    {
      "cell_type": "code",
      "execution_count": 112,
      "metadata": {},
      "outputs": [
        {
          "data": {
            "text/plain": [
              "torch.Size([314])"
            ]
          },
          "execution_count": 112,
          "metadata": {},
          "output_type": "execute_result"
        }
      ],
      "source": [
        "pred_id.shape"
      ]
    },
    {
      "cell_type": "code",
      "execution_count": 116,
      "metadata": {},
      "outputs": [
        {
          "data": {
            "text/plain": [
              "['[PAD]',\n",
              " '[PAD]',\n",
              " '[PAD]',\n",
              " '[PAD]',\n",
              " '[PAD]',\n",
              " '[PAD]',\n",
              " '[PAD]',\n",
              " '[PAD]',\n",
              " '[PAD]',\n",
              " '[PAD]',\n",
              " '[PAD]',\n",
              " '[PAD]',\n",
              " '[PAD]',\n",
              " '[PAD]',\n",
              " '[PAD]',\n",
              " '[PAD]',\n",
              " '[PAD]',\n",
              " '[PAD]',\n",
              " '[PAD]',\n",
              " '[PAD]',\n",
              " '[PAD]',\n",
              " '[PAD]',\n",
              " '[PAD]',\n",
              " '[PAD]',\n",
              " '[PAD]',\n",
              " '[PAD]',\n",
              " '[PAD]',\n",
              " '[PAD]',\n",
              " '[PAD]',\n",
              " '[PAD]',\n",
              " '[PAD]',\n",
              " '[PAD]',\n",
              " '[PAD]',\n",
              " '[PAD]',\n",
              " '[PAD]',\n",
              " '[PAD]',\n",
              " '[PAD]',\n",
              " '[PAD]',\n",
              " 'j',\n",
              " '[PAD]',\n",
              " '[PAD]',\n",
              " '[PAD]',\n",
              " '[PAD]',\n",
              " 'o',\n",
              " 'o',\n",
              " 'o',\n",
              " 'l',\n",
              " 'l',\n",
              " 'l',\n",
              " '[PAD]',\n",
              " '[PAD]',\n",
              " '[PAD]',\n",
              " '[PAD]',\n",
              " 'c',\n",
              " '[PAD]',\n",
              " '[PAD]',\n",
              " '[PAD]',\n",
              " '[PAD]',\n",
              " 'a',\n",
              " 'a',\n",
              " '[PAD]',\n",
              " '[PAD]',\n",
              " 't',\n",
              " 'e',\n",
              " 's',\n",
              " 's',\n",
              " '',\n",
              " '[PAD]',\n",
              " '[PAD]',\n",
              " 'o',\n",
              " 'o',\n",
              " 'n',\n",
              " '[PAD]',\n",
              " '',\n",
              " '[PAD]',\n",
              " 'd',\n",
              " '[PAD]',\n",
              " 'i',\n",
              " 's',\n",
              " 's',\n",
              " '[PAD]',\n",
              " '[PAD]',\n",
              " '[PAD]',\n",
              " '[PAD]',\n",
              " 'a',\n",
              " 'p',\n",
              " '[PAD]',\n",
              " '[PAD]',\n",
              " 'p',\n",
              " 'p',\n",
              " '[PAD]',\n",
              " 'r',\n",
              " 'r',\n",
              " '[PAD]',\n",
              " '[PAD]',\n",
              " '[PAD]',\n",
              " 'o',\n",
              " 'o',\n",
              " 'o',\n",
              " '[PAD]',\n",
              " '[PAD]',\n",
              " 'v',\n",
              " 'e',\n",
              " 'e',\n",
              " 'd',\n",
              " '',\n",
              " '',\n",
              " '[PAD]',\n",
              " '[PAD]',\n",
              " 'o',\n",
              " 'o',\n",
              " 'f',\n",
              " '',\n",
              " '',\n",
              " '[PAD]',\n",
              " '[PAD]',\n",
              " '[PAD]',\n",
              " 'f',\n",
              " 'f',\n",
              " '[PAD]',\n",
              " '[PAD]',\n",
              " 'i',\n",
              " 'i',\n",
              " 'i',\n",
              " 'l',\n",
              " 'r',\n",
              " '[PAD]',\n",
              " '[PAD]',\n",
              " '[PAD]',\n",
              " 'm',\n",
              " 'm',\n",
              " '[PAD]',\n",
              " '[PAD]',\n",
              " 's',\n",
              " 's',\n",
              " '',\n",
              " '',\n",
              " '[PAD]',\n",
              " '[PAD]',\n",
              " '[PAD]',\n",
              " '[PAD]',\n",
              " 'a',\n",
              " 'a',\n",
              " 'n',\n",
              " 'n',\n",
              " 'd',\n",
              " 'd',\n",
              " '',\n",
              " '[PAD]',\n",
              " 'b',\n",
              " '[PAD]',\n",
              " '[PAD]',\n",
              " '[PAD]',\n",
              " 'u',\n",
              " '[PAD]',\n",
              " '[PAD]',\n",
              " 's',\n",
              " '[PAD]',\n",
              " '[PAD]',\n",
              " '[PAD]',\n",
              " 't',\n",
              " '[PAD]',\n",
              " '[PAD]',\n",
              " 'e',\n",
              " 'e',\n",
              " 'r',\n",
              " 'r',\n",
              " '',\n",
              " '',\n",
              " '[PAD]',\n",
              " 'a',\n",
              " 'a',\n",
              " 'l',\n",
              " 'l',\n",
              " '[PAD]',\n",
              " '[PAD]',\n",
              " 's',\n",
              " '[PAD]',\n",
              " '[PAD]',\n",
              " 'o',\n",
              " 'o',\n",
              " '',\n",
              " '',\n",
              " '',\n",
              " 'h',\n",
              " 'h',\n",
              " '[PAD]',\n",
              " '[PAD]',\n",
              " '[PAD]',\n",
              " 'a',\n",
              " 'a',\n",
              " '[PAD]',\n",
              " 'd',\n",
              " 'd',\n",
              " '',\n",
              " 'r',\n",
              " 'r',\n",
              " '[PAD]',\n",
              " 'e',\n",
              " '[PAD]',\n",
              " '[PAD]',\n",
              " '[PAD]',\n",
              " '[PAD]',\n",
              " '[PAD]',\n",
              " '[PAD]',\n",
              " 'e',\n",
              " 'r',\n",
              " 'r',\n",
              " '[PAD]',\n",
              " '[PAD]',\n",
              " '[PAD]',\n",
              " 'v',\n",
              " '[PAD]',\n",
              " '[PAD]',\n",
              " '[PAD]',\n",
              " 'a',\n",
              " 'a',\n",
              " '[PAD]',\n",
              " '[PAD]',\n",
              " 't',\n",
              " 't',\n",
              " 'i',\n",
              " 'i',\n",
              " '[PAD]',\n",
              " 'o',\n",
              " 'o',\n",
              " 'n',\n",
              " '[PAD]',\n",
              " '[PAD]',\n",
              " '[PAD]',\n",
              " '',\n",
              " '',\n",
              " '[PAD]',\n",
              " '[PAD]',\n",
              " '[PAD]',\n",
              " '[PAD]',\n",
              " '[PAD]',\n",
              " '[PAD]',\n",
              " '[PAD]',\n",
              " '[PAD]',\n",
              " '[PAD]',\n",
              " 'o',\n",
              " 'u',\n",
              " 'f',\n",
              " 'f',\n",
              " '',\n",
              " '',\n",
              " 't',\n",
              " 'h',\n",
              " 'e',\n",
              " 'e',\n",
              " '',\n",
              " '[PAD]',\n",
              " 'm',\n",
              " '[PAD]',\n",
              " '[PAD]',\n",
              " 'e',\n",
              " 'e',\n",
              " 'e',\n",
              " 'e',\n",
              " '[PAD]',\n",
              " '[PAD]',\n",
              " '[PAD]',\n",
              " 'd',\n",
              " 'i',\n",
              " 'i',\n",
              " '[PAD]',\n",
              " '[PAD]',\n",
              " 'n',\n",
              " 'n',\n",
              " '[PAD]',\n",
              " '[PAD]',\n",
              " '[PAD]',\n",
              " '[PAD]',\n",
              " '[PAD]',\n",
              " '[PAD]',\n",
              " '[PAD]',\n",
              " '[PAD]',\n",
              " '[PAD]',\n",
              " '[PAD]',\n",
              " '[PAD]',\n",
              " '[PAD]',\n",
              " '[PAD]',\n",
              " '[PAD]',\n",
              " '[PAD]',\n",
              " '[PAD]',\n",
              " '[PAD]',\n",
              " '[PAD]',\n",
              " '[PAD]',\n",
              " '[PAD]',\n",
              " '[PAD]',\n",
              " '[PAD]',\n",
              " '[PAD]',\n",
              " '[PAD]',\n",
              " '[PAD]',\n",
              " '[PAD]',\n",
              " '[PAD]',\n",
              " '[PAD]',\n",
              " '[PAD]',\n",
              " '[PAD]',\n",
              " '[PAD]',\n",
              " '[PAD]',\n",
              " '[PAD]',\n",
              " '[PAD]',\n",
              " '[PAD]',\n",
              " '[PAD]',\n",
              " '[PAD]',\n",
              " '[PAD]',\n",
              " '[PAD]',\n",
              " '[PAD]',\n",
              " '[PAD]',\n",
              " '[PAD]',\n",
              " '[PAD]',\n",
              " '[PAD]']"
            ]
          },
          "execution_count": 116,
          "metadata": {},
          "output_type": "execute_result"
        }
      ],
      "source": [
        "predicted_sentence = processor.batch_decode(pred_id)\n",
        "predicted_sentence"
      ]
    },
    {
      "cell_type": "code",
      "execution_count": 115,
      "metadata": {},
      "outputs": [
        {
          "data": {
            "text/plain": [
              "['jolcates on disapproved of filrms and buster also had reervation ouf the medin']"
            ]
          },
          "execution_count": 115,
          "metadata": {},
          "output_type": "execute_result"
        }
      ],
      "source": [
        "predicted_sentence = processor.batch_decode(pred_ids)\n",
        "predicted_sentence"
      ]
    },
    {
      "cell_type": "code",
      "execution_count": 121,
      "metadata": {},
      "outputs": [
        {
          "data": {
            "text/plain": [
              "81"
            ]
          },
          "execution_count": 121,
          "metadata": {},
          "output_type": "execute_result"
        }
      ],
      "source": [
        "len(onesample['labels'])"
      ]
    },
    {
      "cell_type": "code",
      "execution_count": 126,
      "metadata": {},
      "outputs": [
        {
          "data": {
            "text/plain": [
              "['joe keaton disapproved of films and buster also had reservations about the medium']"
            ]
          },
          "execution_count": 126,
          "metadata": {},
          "output_type": "execute_result"
        }
      ],
      "source": [
        "label_str=processor.batch_decode([onesample['labels']],group_tokens=False)\n",
        "label_str"
      ]
    },
    {
      "cell_type": "code",
      "execution_count": 123,
      "metadata": {},
      "outputs": [
        {
          "data": {
            "text/plain": [
              "['j',\n",
              " 'o',\n",
              " 'e',\n",
              " '',\n",
              " 'k',\n",
              " 'e',\n",
              " 'a',\n",
              " 't',\n",
              " 'o',\n",
              " 'n',\n",
              " '',\n",
              " 'd',\n",
              " 'i',\n",
              " 's',\n",
              " 'a',\n",
              " 'p',\n",
              " 'p',\n",
              " 'r',\n",
              " 'o',\n",
              " 'v',\n",
              " 'e',\n",
              " 'd',\n",
              " '',\n",
              " 'o',\n",
              " 'f',\n",
              " '',\n",
              " 'f',\n",
              " 'i',\n",
              " 'l',\n",
              " 'm',\n",
              " 's',\n",
              " '',\n",
              " 'a',\n",
              " 'n',\n",
              " 'd',\n",
              " '',\n",
              " 'b',\n",
              " 'u',\n",
              " 's',\n",
              " 't',\n",
              " 'e',\n",
              " 'r',\n",
              " '',\n",
              " 'a',\n",
              " 'l',\n",
              " 's',\n",
              " 'o',\n",
              " '',\n",
              " 'h',\n",
              " 'a',\n",
              " 'd',\n",
              " '',\n",
              " 'r',\n",
              " 'e',\n",
              " 's',\n",
              " 'e',\n",
              " 'r',\n",
              " 'v',\n",
              " 'a',\n",
              " 't',\n",
              " 'i',\n",
              " 'o',\n",
              " 'n',\n",
              " 's',\n",
              " '',\n",
              " 'a',\n",
              " 'b',\n",
              " 'o',\n",
              " 'u',\n",
              " 't',\n",
              " '',\n",
              " 't',\n",
              " 'h',\n",
              " 'e',\n",
              " '',\n",
              " 'm',\n",
              " 'e',\n",
              " 'd',\n",
              " 'i',\n",
              " 'u',\n",
              " 'm']"
            ]
          },
          "execution_count": 123,
          "metadata": {},
          "output_type": "execute_result"
        }
      ],
      "source": [
        "label_str=processor.batch_decode(onesample['labels'],group_tokens=False)\n",
        "label_str"
      ]
    },
    {
      "cell_type": "code",
      "execution_count": 124,
      "metadata": {},
      "outputs": [
        {
          "data": {
            "text/plain": [
              "'joe keaton disapproved of films and buster also had reservations about the medium'"
            ]
          },
          "execution_count": 124,
          "metadata": {},
          "output_type": "execute_result"
        }
      ],
      "source": [
        "label_str=processor.decode(onesample['labels'],group_tokens=False)\n",
        "label_str"
      ]
    },
    {
      "cell_type": "code",
      "execution_count": 125,
      "metadata": {},
      "outputs": [
        {
          "data": {
            "text/plain": [
              "'joe keaton disapproved of films and buster also had reservations about the medium'"
            ]
          },
          "execution_count": 125,
          "metadata": {},
          "output_type": "execute_result"
        }
      ],
      "source": [
        "label_str=processor.tokenizer.decode(onesample['labels'],group_tokens=False)\n",
        "label_str"
      ]
    },
    {
      "cell_type": "markdown",
      "metadata": {
        "id": "7nkzSQu53Zs2"
      },
      "source": [
        "We adapted `common_voice_test` quite a bit so that the dataset instance does not contain the original sentence label anymore. Thus, we re-use the original dataset to get the label of the first example."
      ]
    },
    {
      "cell_type": "code",
      "execution_count": null,
      "metadata": {
        "colab": {
          "background_save": true,
          "referenced_widgets": [
            "54097a6c744849128d7cc3da8aad6609",
            "b8827ecbec9e44f09216f62c1ee12840",
            "8728bb32478240b7abe576375b01e640",
            "19b8a530352a423794395979e6415bea",
            "5fc8ec04870e4bb7b63b20844c355ab6"
          ]
        },
        "id": "fe2AE-2xqKHx",
        "outputId": "1d8321b3-4f41-4d71-e74e-f33f32a7b261"
      },
      "outputs": [
        {
          "name": "stderr",
          "output_type": "stream",
          "text": [
            "Using custom data configuration tr-ad9f7b76efa9f3a0\n"
          ]
        },
        {
          "name": "stdout",
          "output_type": "stream",
          "text": [
            "Downloading and preparing dataset common_voice/tr (download: 592.09 MiB, generated: 2.89 MiB, post-processed: Unknown size, total: 594.98 MiB) to /root/.cache/huggingface/datasets/common_voice/tr-ad9f7b76efa9f3a0/6.1.0/f7a9d973839b7706e9e281c19b7e512f31badf3c0fdbd21c671f3c4bf9acf3b9...\n"
          ]
        },
        {
          "data": {
            "application/vnd.jupyter.widget-view+json": {
              "model_id": "54097a6c744849128d7cc3da8aad6609",
              "version_major": 2,
              "version_minor": 0
            },
            "text/plain": [
              "0 examples [00:00, ? examples/s]"
            ]
          },
          "metadata": {},
          "output_type": "display_data"
        },
        {
          "data": {
            "application/vnd.jupyter.widget-view+json": {
              "model_id": "b8827ecbec9e44f09216f62c1ee12840",
              "version_major": 2,
              "version_minor": 0
            },
            "text/plain": [
              "0 examples [00:00, ? examples/s]"
            ]
          },
          "metadata": {},
          "output_type": "display_data"
        },
        {
          "data": {
            "application/vnd.jupyter.widget-view+json": {
              "model_id": "8728bb32478240b7abe576375b01e640",
              "version_major": 2,
              "version_minor": 0
            },
            "text/plain": [
              "0 examples [00:00, ? examples/s]"
            ]
          },
          "metadata": {},
          "output_type": "display_data"
        },
        {
          "data": {
            "application/vnd.jupyter.widget-view+json": {
              "model_id": "19b8a530352a423794395979e6415bea",
              "version_major": 2,
              "version_minor": 0
            },
            "text/plain": [
              "0 examples [00:00, ? examples/s]"
            ]
          },
          "metadata": {},
          "output_type": "display_data"
        },
        {
          "data": {
            "application/vnd.jupyter.widget-view+json": {
              "model_id": "5fc8ec04870e4bb7b63b20844c355ab6",
              "version_major": 2,
              "version_minor": 0
            },
            "text/plain": [
              "0 examples [00:00, ? examples/s]"
            ]
          },
          "metadata": {},
          "output_type": "display_data"
        },
        {
          "name": "stdout",
          "output_type": "stream",
          "text": [
            "Dataset common_voice downloaded and prepared to /root/.cache/huggingface/datasets/common_voice/tr-ad9f7b76efa9f3a0/6.1.0/f7a9d973839b7706e9e281c19b7e512f31badf3c0fdbd21c671f3c4bf9acf3b9. Subsequent calls will reuse this data.\n"
          ]
        }
      ],
      "source": [
        "common_voice_test_transcription = load_dataset(\"common_voice\", \"tr\", data_dir=\"./cv-corpus-6.1-2020-12-11\", split=\"test\")"
      ]
    },
    {
      "cell_type": "markdown",
      "metadata": {
        "id": "epu8kCQZ3h70"
      },
      "source": [
        "\n",
        "Finally, we can decode the example."
      ]
    },
    {
      "cell_type": "code",
      "execution_count": null,
      "metadata": {
        "colab": {
          "background_save": true
        },
        "id": "K4xWqmk_qMn0",
        "outputId": "d9e40b3c-f02a-48a1-d081-6d7e8b37dcaf"
      },
      "outputs": [
        {
          "name": "stdout",
          "output_type": "stream",
          "text": [
            "Prediction:\n",
            "ha ta küçük şeyleri için bir büyük biş şeylir koğoluyor ve yeneküçük şeyler için bir birmizi incilkiyoruz\n",
            "\n",
            "Reference:\n",
            "hayatta küçük şeyleri kovalıyor ve yine küçük şeyler için birbirimizi incitiyoruz.\n"
          ]
        }
      ],
      "source": [
        "print(\"Prediction:\")\n",
        "print(processor.decode(pred_ids))\n",
        "\n",
        "print(\"\\nReference:\")\n",
        "print(common_voice_test_transcription[0][\"sentence\"].lower())"
      ]
    },
    {
      "cell_type": "markdown",
      "metadata": {
        "id": "HwhyoMml3oOT"
      },
      "source": [
        "Alright! The transcription can definitely be recognized from our prediction, but it is not perfect yet. Training the model a bit longer, spending more time on the data preprocessing, and especially using a language model for decoding would certainly improve the model's overall performance.\n",
        "\n",
        "For a demonstration model on a low-resource language, the results are quite acceptable however 🤗."
      ]
    }
  ],
  "metadata": {
    "accelerator": "GPU",
    "colab": {
      "machine_shape": "hm",
      "name": "Copy of Fine-Tune XLS-R on Common Voice.ipynb",
      "provenance": [],
      "toc_visible": true
    },
    "kernelspec": {
      "display_name": "mycondapy310",
      "language": "python",
      "name": "mycondapy310"
    },
    "language_info": {
      "codemirror_mode": {
        "name": "ipython",
        "version": 3
      },
      "file_extension": ".py",
      "mimetype": "text/x-python",
      "name": "python",
      "nbconvert_exporter": "python",
      "pygments_lexer": "ipython3",
      "version": "3.10.13"
    },
    "widgets": {
      "application/vnd.jupyter.widget-state+json": {
        "012b09b271a842d0a7f1cd1260654c82": {
          "model_module": "@jupyter-widgets/controls",
          "model_module_version": "1.5.0",
          "model_name": "HBoxModel",
          "state": {
            "_dom_classes": [],
            "_model_module": "@jupyter-widgets/controls",
            "_model_module_version": "1.5.0",
            "_model_name": "HBoxModel",
            "_view_count": null,
            "_view_module": "@jupyter-widgets/controls",
            "_view_module_version": "1.5.0",
            "_view_name": "HBoxView",
            "box_style": "",
            "children": [
              "IPY_MODEL_6a40faf77bf445308534e7acada6bf0d",
              "IPY_MODEL_a62ff1ee03dc47c9834b43720df991ea",
              "IPY_MODEL_03d00b443bfd445d9286f64fd8556031"
            ],
            "layout": "IPY_MODEL_557063bf861648f7aefacf71aa53ea9b"
          }
        },
        "02016dcc44994c15b69e7f2c4dd0d9c4": {
          "model_module": "@jupyter-widgets/controls",
          "model_module_version": "1.5.0",
          "model_name": "DescriptionStyleModel",
          "state": {
            "_model_module": "@jupyter-widgets/controls",
            "_model_module_version": "1.5.0",
            "_model_name": "DescriptionStyleModel",
            "_view_count": null,
            "_view_module": "@jupyter-widgets/base",
            "_view_module_version": "1.2.0",
            "_view_name": "StyleView",
            "description_width": ""
          }
        },
        "0204a7bc668746a68f6e5e5632753c1c": {
          "model_module": "@jupyter-widgets/controls",
          "model_module_version": "1.5.0",
          "model_name": "HTMLModel",
          "state": {
            "_dom_classes": [],
            "_model_module": "@jupyter-widgets/controls",
            "_model_module_version": "1.5.0",
            "_model_name": "HTMLModel",
            "_view_count": null,
            "_view_module": "@jupyter-widgets/controls",
            "_view_module_version": "1.5.0",
            "_view_name": "HTMLView",
            "description": "",
            "description_tooltip": null,
            "layout": "IPY_MODEL_d3b5f5a0d35642e0b606ac63c38f88fa",
            "placeholder": "​",
            "style": "IPY_MODEL_7ce84a97d72848c0967f732734afdd68",
            "value": " 4.55k/? [00:00&lt;00:00, 87.8kB/s]"
          }
        },
        "02519344818c40d0b961c5ea210a5c62": {
          "model_module": "@jupyter-widgets/base",
          "model_module_version": "1.2.0",
          "model_name": "LayoutModel",
          "state": {
            "_model_module": "@jupyter-widgets/base",
            "_model_module_version": "1.2.0",
            "_model_name": "LayoutModel",
            "_view_count": null,
            "_view_module": "@jupyter-widgets/base",
            "_view_module_version": "1.2.0",
            "_view_name": "LayoutView",
            "align_content": null,
            "align_items": null,
            "align_self": null,
            "border": null,
            "bottom": null,
            "display": null,
            "flex": null,
            "flex_flow": null,
            "grid_area": null,
            "grid_auto_columns": null,
            "grid_auto_flow": null,
            "grid_auto_rows": null,
            "grid_column": null,
            "grid_gap": null,
            "grid_row": null,
            "grid_template_areas": null,
            "grid_template_columns": null,
            "grid_template_rows": null,
            "height": null,
            "justify_content": null,
            "justify_items": null,
            "left": null,
            "margin": null,
            "max_height": null,
            "max_width": null,
            "min_height": null,
            "min_width": null,
            "object_fit": null,
            "object_position": null,
            "order": null,
            "overflow": null,
            "overflow_x": null,
            "overflow_y": null,
            "padding": null,
            "right": null,
            "top": null,
            "visibility": null,
            "width": null
          }
        },
        "03d00b443bfd445d9286f64fd8556031": {
          "model_module": "@jupyter-widgets/controls",
          "model_module_version": "1.5.0",
          "model_name": "HTMLModel",
          "state": {
            "_dom_classes": [],
            "_model_module": "@jupyter-widgets/controls",
            "_model_module_version": "1.5.0",
            "_model_name": "HTMLModel",
            "_view_count": null,
            "_view_module": "@jupyter-widgets/controls",
            "_view_module_version": "1.5.0",
            "_view_name": "HTMLView",
            "description": "",
            "description_tooltip": null,
            "layout": "IPY_MODEL_716dc4ab4fe74abab49f3c0f009357f5",
            "placeholder": "​",
            "style": "IPY_MODEL_8a669878b8354867944e577860910001",
            "value": " 3478/3478 [00:39&lt;00:00, 86.00ex/s]"
          }
        },
        "059588e34a88476eb6bbc1860ddc27ef": {
          "model_module": "@jupyter-widgets/controls",
          "model_module_version": "1.5.0",
          "model_name": "DescriptionStyleModel",
          "state": {
            "_model_module": "@jupyter-widgets/controls",
            "_model_module_version": "1.5.0",
            "_model_name": "DescriptionStyleModel",
            "_view_count": null,
            "_view_module": "@jupyter-widgets/base",
            "_view_module_version": "1.2.0",
            "_view_name": "StyleView",
            "description_width": ""
          }
        },
        "093927de0d86406290365759e88fd4e7": {
          "model_module": "@jupyter-widgets/controls",
          "model_module_version": "1.5.0",
          "model_name": "HBoxModel",
          "state": {
            "_dom_classes": [],
            "_model_module": "@jupyter-widgets/controls",
            "_model_module_version": "1.5.0",
            "_model_name": "HBoxModel",
            "_view_count": null,
            "_view_module": "@jupyter-widgets/controls",
            "_view_module_version": "1.5.0",
            "_view_name": "HBoxView",
            "box_style": "",
            "children": [
              "IPY_MODEL_f6e777f3a1684a7da3efc63281553b5e",
              "IPY_MODEL_609781a3f55d4d3dbf0b3640972755fa",
              "IPY_MODEL_8783792878a64402981a416989924348"
            ],
            "layout": "IPY_MODEL_92e295e353624110880cff6835b9e119"
          }
        },
        "0a7c2124936345febe50288a476a12a6": {
          "model_module": "@jupyter-widgets/controls",
          "model_module_version": "1.5.0",
          "model_name": "HTMLModel",
          "state": {
            "_dom_classes": [],
            "_model_module": "@jupyter-widgets/controls",
            "_model_module_version": "1.5.0",
            "_model_name": "HTMLModel",
            "_view_count": null,
            "_view_module": "@jupyter-widgets/controls",
            "_view_module_version": "1.5.0",
            "_view_name": "HTMLView",
            "description": "",
            "description_tooltip": null,
            "layout": "IPY_MODEL_f28c64f34f9540b6b6bdc765c84e2307",
            "placeholder": "​",
            "style": "IPY_MODEL_02016dcc44994c15b69e7f2c4dd0d9c4",
            "value": "100%"
          }
        },
        "0c01a04a8a924740af301c5c53a51315": {
          "model_module": "@jupyter-widgets/base",
          "model_module_version": "1.2.0",
          "model_name": "LayoutModel",
          "state": {
            "_model_module": "@jupyter-widgets/base",
            "_model_module_version": "1.2.0",
            "_model_name": "LayoutModel",
            "_view_count": null,
            "_view_module": "@jupyter-widgets/base",
            "_view_module_version": "1.2.0",
            "_view_name": "LayoutView",
            "align_content": null,
            "align_items": null,
            "align_self": null,
            "border": null,
            "bottom": null,
            "display": null,
            "flex": null,
            "flex_flow": null,
            "grid_area": null,
            "grid_auto_columns": null,
            "grid_auto_flow": null,
            "grid_auto_rows": null,
            "grid_column": null,
            "grid_gap": null,
            "grid_row": null,
            "grid_template_areas": null,
            "grid_template_columns": null,
            "grid_template_rows": null,
            "height": null,
            "justify_content": null,
            "justify_items": null,
            "left": null,
            "margin": null,
            "max_height": null,
            "max_width": null,
            "min_height": null,
            "min_width": null,
            "object_fit": null,
            "object_position": null,
            "order": null,
            "overflow": null,
            "overflow_x": null,
            "overflow_y": null,
            "padding": null,
            "right": null,
            "top": null,
            "visibility": null,
            "width": null
          }
        },
        "136f973d9623421eb38e09c73c6b6810": {
          "model_module": "@jupyter-widgets/controls",
          "model_module_version": "1.5.0",
          "model_name": "DescriptionStyleModel",
          "state": {
            "_model_module": "@jupyter-widgets/controls",
            "_model_module_version": "1.5.0",
            "_model_name": "DescriptionStyleModel",
            "_view_count": null,
            "_view_module": "@jupyter-widgets/base",
            "_view_module_version": "1.2.0",
            "_view_name": "StyleView",
            "description_width": ""
          }
        },
        "15f8964842df434ca0dee00d7dc1bd9a": {
          "model_module": "@jupyter-widgets/controls",
          "model_module_version": "1.5.0",
          "model_name": "DescriptionStyleModel",
          "state": {
            "_model_module": "@jupyter-widgets/controls",
            "_model_module_version": "1.5.0",
            "_model_name": "DescriptionStyleModel",
            "_view_count": null,
            "_view_module": "@jupyter-widgets/base",
            "_view_module_version": "1.2.0",
            "_view_name": "StyleView",
            "description_width": ""
          }
        },
        "1ca82f9af3ae423096661a1ffd8a165f": {
          "model_module": "@jupyter-widgets/controls",
          "model_module_version": "1.5.0",
          "model_name": "HBoxModel",
          "state": {
            "_dom_classes": [],
            "_model_module": "@jupyter-widgets/controls",
            "_model_module_version": "1.5.0",
            "_model_name": "HBoxModel",
            "_view_count": null,
            "_view_module": "@jupyter-widgets/controls",
            "_view_module_version": "1.5.0",
            "_view_name": "HBoxView",
            "box_style": "",
            "children": [
              "IPY_MODEL_ce429683f48349c083e5fc3253a897d7",
              "IPY_MODEL_acc35dfdfca542828d1bb02cbde15dfe",
              "IPY_MODEL_aa92ff120d9c4dd68ae941d7a1f33a81"
            ],
            "layout": "IPY_MODEL_731a283141f642b9ab5bf9f7053381d2"
          }
        },
        "1cdac9cda666466ca1e09f32661d40ed": {
          "model_module": "@jupyter-widgets/controls",
          "model_module_version": "1.5.0",
          "model_name": "DescriptionStyleModel",
          "state": {
            "_model_module": "@jupyter-widgets/controls",
            "_model_module_version": "1.5.0",
            "_model_name": "DescriptionStyleModel",
            "_view_count": null,
            "_view_module": "@jupyter-widgets/base",
            "_view_module_version": "1.2.0",
            "_view_name": "StyleView",
            "description_width": ""
          }
        },
        "21af0f39c0ce40a5846b980f98481940": {
          "model_module": "@jupyter-widgets/base",
          "model_module_version": "1.2.0",
          "model_name": "LayoutModel",
          "state": {
            "_model_module": "@jupyter-widgets/base",
            "_model_module_version": "1.2.0",
            "_model_name": "LayoutModel",
            "_view_count": null,
            "_view_module": "@jupyter-widgets/base",
            "_view_module_version": "1.2.0",
            "_view_name": "LayoutView",
            "align_content": null,
            "align_items": null,
            "align_self": null,
            "border": null,
            "bottom": null,
            "display": null,
            "flex": null,
            "flex_flow": null,
            "grid_area": null,
            "grid_auto_columns": null,
            "grid_auto_flow": null,
            "grid_auto_rows": null,
            "grid_column": null,
            "grid_gap": null,
            "grid_row": null,
            "grid_template_areas": null,
            "grid_template_columns": null,
            "grid_template_rows": null,
            "height": null,
            "justify_content": null,
            "justify_items": null,
            "left": null,
            "margin": null,
            "max_height": null,
            "max_width": null,
            "min_height": null,
            "min_width": null,
            "object_fit": null,
            "object_position": null,
            "order": null,
            "overflow": null,
            "overflow_x": null,
            "overflow_y": null,
            "padding": null,
            "right": null,
            "top": null,
            "visibility": null,
            "width": null
          }
        },
        "26bf8a70fe5449a99ca1b06430b2fc8f": {
          "model_module": "@jupyter-widgets/controls",
          "model_module_version": "1.5.0",
          "model_name": "HTMLModel",
          "state": {
            "_dom_classes": [],
            "_model_module": "@jupyter-widgets/controls",
            "_model_module_version": "1.5.0",
            "_model_name": "HTMLModel",
            "_view_count": null,
            "_view_module": "@jupyter-widgets/controls",
            "_view_module_version": "1.5.0",
            "_view_name": "HTMLView",
            "description": "",
            "description_tooltip": null,
            "layout": "IPY_MODEL_0c01a04a8a924740af301c5c53a51315",
            "placeholder": "​",
            "style": "IPY_MODEL_15f8964842df434ca0dee00d7dc1bd9a",
            "value": "<center>\n<img src=https://huggingface.co/front/assets/huggingface_logo-noborder.svg alt='Hugging Face'>\n<br>\n<b>The AI community building the future</b>\n<br>\nImmediately click login after typing your password or it might be stored in plain text in this notebook file.\n</center>"
          }
        },
        "2b7e52a9be904663ae74226691de6ebd": {
          "model_module": "@jupyter-widgets/base",
          "model_module_version": "1.2.0",
          "model_name": "LayoutModel",
          "state": {
            "_model_module": "@jupyter-widgets/base",
            "_model_module_version": "1.2.0",
            "_model_name": "LayoutModel",
            "_view_count": null,
            "_view_module": "@jupyter-widgets/base",
            "_view_module_version": "1.2.0",
            "_view_name": "LayoutView",
            "align_content": null,
            "align_items": null,
            "align_self": null,
            "border": null,
            "bottom": null,
            "display": null,
            "flex": null,
            "flex_flow": null,
            "grid_area": null,
            "grid_auto_columns": null,
            "grid_auto_flow": null,
            "grid_auto_rows": null,
            "grid_column": null,
            "grid_gap": null,
            "grid_row": null,
            "grid_template_areas": null,
            "grid_template_columns": null,
            "grid_template_rows": null,
            "height": null,
            "justify_content": null,
            "justify_items": null,
            "left": null,
            "margin": null,
            "max_height": null,
            "max_width": null,
            "min_height": null,
            "min_width": null,
            "object_fit": null,
            "object_position": null,
            "order": null,
            "overflow": null,
            "overflow_x": null,
            "overflow_y": null,
            "padding": null,
            "right": null,
            "top": null,
            "visibility": null,
            "width": null
          }
        },
        "2d2b8b8d5774494aa73d872e9a4c10d9": {
          "model_module": "@jupyter-widgets/controls",
          "model_module_version": "1.5.0",
          "model_name": "FloatProgressModel",
          "state": {
            "_dom_classes": [],
            "_model_module": "@jupyter-widgets/controls",
            "_model_module_version": "1.5.0",
            "_model_name": "FloatProgressModel",
            "_view_count": null,
            "_view_module": "@jupyter-widgets/controls",
            "_view_module_version": "1.5.0",
            "_view_name": "ProgressView",
            "bar_style": "success",
            "description": "",
            "description_tooltip": null,
            "layout": "IPY_MODEL_3ec9917890f4452883bcaeac444d056c",
            "max": 1269737156,
            "min": 0,
            "orientation": "horizontal",
            "style": "IPY_MODEL_e9531fcd48b74929bfdb45cd3f3315e7",
            "value": 1269737156
          }
        },
        "2d4eb3e5acc348948299c506db83ca90": {
          "model_module": "@jupyter-widgets/controls",
          "model_module_version": "1.5.0",
          "model_name": "ButtonModel",
          "state": {
            "_dom_classes": [],
            "_model_module": "@jupyter-widgets/controls",
            "_model_module_version": "1.5.0",
            "_model_name": "ButtonModel",
            "_view_count": null,
            "_view_module": "@jupyter-widgets/controls",
            "_view_module_version": "1.5.0",
            "_view_name": "ButtonView",
            "button_style": "",
            "description": "Login",
            "disabled": false,
            "icon": "",
            "layout": "IPY_MODEL_d11d94912b26401a860c80eba767907a",
            "style": "IPY_MODEL_6dd7aa6b17b34d18ba46d834ffd559bc",
            "tooltip": ""
          }
        },
        "349c9e8b2a8846c1bff5a03d2a28066a": {
          "model_module": "@jupyter-widgets/base",
          "model_module_version": "1.2.0",
          "model_name": "LayoutModel",
          "state": {
            "_model_module": "@jupyter-widgets/base",
            "_model_module_version": "1.2.0",
            "_model_name": "LayoutModel",
            "_view_count": null,
            "_view_module": "@jupyter-widgets/base",
            "_view_module_version": "1.2.0",
            "_view_name": "LayoutView",
            "align_content": null,
            "align_items": null,
            "align_self": null,
            "border": null,
            "bottom": null,
            "display": null,
            "flex": null,
            "flex_flow": null,
            "grid_area": null,
            "grid_auto_columns": null,
            "grid_auto_flow": null,
            "grid_auto_rows": null,
            "grid_column": null,
            "grid_gap": null,
            "grid_row": null,
            "grid_template_areas": null,
            "grid_template_columns": null,
            "grid_template_rows": null,
            "height": null,
            "justify_content": null,
            "justify_items": null,
            "left": null,
            "margin": null,
            "max_height": null,
            "max_width": null,
            "min_height": null,
            "min_width": null,
            "object_fit": null,
            "object_position": null,
            "order": null,
            "overflow": null,
            "overflow_x": null,
            "overflow_y": null,
            "padding": null,
            "right": null,
            "top": null,
            "visibility": null,
            "width": null
          }
        },
        "367c85905a024248bce6c620b822b2ee": {
          "model_module": "@jupyter-widgets/controls",
          "model_module_version": "1.5.0",
          "model_name": "HBoxModel",
          "state": {
            "_dom_classes": [],
            "_model_module": "@jupyter-widgets/controls",
            "_model_module_version": "1.5.0",
            "_model_name": "HBoxModel",
            "_view_count": null,
            "_view_module": "@jupyter-widgets/controls",
            "_view_module_version": "1.5.0",
            "_view_name": "HBoxView",
            "box_style": "",
            "children": [
              "IPY_MODEL_7ea310732a56432da1a095a8d30edc1c",
              "IPY_MODEL_2d2b8b8d5774494aa73d872e9a4c10d9",
              "IPY_MODEL_f4af6a0756e241e49e5d325f1bdb18b4"
            ],
            "layout": "IPY_MODEL_2b7e52a9be904663ae74226691de6ebd"
          }
        },
        "379128a308ab43ee9e785e234bb94049": {
          "model_module": "@jupyter-widgets/controls",
          "model_module_version": "1.5.0",
          "model_name": "HTMLModel",
          "state": {
            "_dom_classes": [],
            "_model_module": "@jupyter-widgets/controls",
            "_model_module_version": "1.5.0",
            "_model_name": "HTMLModel",
            "_view_count": null,
            "_view_module": "@jupyter-widgets/controls",
            "_view_module_version": "1.5.0",
            "_view_name": "HTMLView",
            "description": "",
            "description_tooltip": null,
            "layout": "IPY_MODEL_c0919f3c8d594911815ce63273f7fe51",
            "placeholder": "​",
            "style": "IPY_MODEL_69f2a9e473534148b96b2e9bd639a087",
            "value": "Downloading: "
          }
        },
        "384228b409cb4bb0bbd77ef259b9a568": {
          "model_module": "@jupyter-widgets/base",
          "model_module_version": "1.2.0",
          "model_name": "LayoutModel",
          "state": {
            "_model_module": "@jupyter-widgets/base",
            "_model_module_version": "1.2.0",
            "_model_name": "LayoutModel",
            "_view_count": null,
            "_view_module": "@jupyter-widgets/base",
            "_view_module_version": "1.2.0",
            "_view_name": "LayoutView",
            "align_content": null,
            "align_items": "center",
            "align_self": null,
            "border": null,
            "bottom": null,
            "display": "flex",
            "flex": null,
            "flex_flow": "column",
            "grid_area": null,
            "grid_auto_columns": null,
            "grid_auto_flow": null,
            "grid_auto_rows": null,
            "grid_column": null,
            "grid_gap": null,
            "grid_row": null,
            "grid_template_areas": null,
            "grid_template_columns": null,
            "grid_template_rows": null,
            "height": null,
            "justify_content": null,
            "justify_items": null,
            "left": null,
            "margin": null,
            "max_height": null,
            "max_width": null,
            "min_height": null,
            "min_width": null,
            "object_fit": null,
            "object_position": null,
            "order": null,
            "overflow": null,
            "overflow_x": null,
            "overflow_y": null,
            "padding": null,
            "right": null,
            "top": null,
            "visibility": null,
            "width": "50%"
          }
        },
        "3aa317d2b42e4674b38dafa87b5599c5": {
          "model_module": "@jupyter-widgets/controls",
          "model_module_version": "1.5.0",
          "model_name": "HBoxModel",
          "state": {
            "_dom_classes": [],
            "_model_module": "@jupyter-widgets/controls",
            "_model_module_version": "1.5.0",
            "_model_name": "HBoxModel",
            "_view_count": null,
            "_view_module": "@jupyter-widgets/controls",
            "_view_module_version": "1.5.0",
            "_view_name": "HBoxView",
            "box_style": "",
            "children": [
              "IPY_MODEL_0a7c2124936345febe50288a476a12a6",
              "IPY_MODEL_bdcf9380af5d4601b9b2de84b06ecb40",
              "IPY_MODEL_b9c5532ffabb44078de8a6f76a4b8be6"
            ],
            "layout": "IPY_MODEL_7732bb1317f940faa455f992f4fd2b26"
          }
        },
        "3ec9917890f4452883bcaeac444d056c": {
          "model_module": "@jupyter-widgets/base",
          "model_module_version": "1.2.0",
          "model_name": "LayoutModel",
          "state": {
            "_model_module": "@jupyter-widgets/base",
            "_model_module_version": "1.2.0",
            "_model_name": "LayoutModel",
            "_view_count": null,
            "_view_module": "@jupyter-widgets/base",
            "_view_module_version": "1.2.0",
            "_view_name": "LayoutView",
            "align_content": null,
            "align_items": null,
            "align_self": null,
            "border": null,
            "bottom": null,
            "display": null,
            "flex": null,
            "flex_flow": null,
            "grid_area": null,
            "grid_auto_columns": null,
            "grid_auto_flow": null,
            "grid_auto_rows": null,
            "grid_column": null,
            "grid_gap": null,
            "grid_row": null,
            "grid_template_areas": null,
            "grid_template_columns": null,
            "grid_template_rows": null,
            "height": null,
            "justify_content": null,
            "justify_items": null,
            "left": null,
            "margin": null,
            "max_height": null,
            "max_width": null,
            "min_height": null,
            "min_width": null,
            "object_fit": null,
            "object_position": null,
            "order": null,
            "overflow": null,
            "overflow_x": null,
            "overflow_y": null,
            "padding": null,
            "right": null,
            "top": null,
            "visibility": null,
            "width": null
          }
        },
        "3f0c587f7b764d96837c8e16254aab12": {
          "model_module": "@jupyter-widgets/controls",
          "model_module_version": "1.5.0",
          "model_name": "ProgressStyleModel",
          "state": {
            "_model_module": "@jupyter-widgets/controls",
            "_model_module_version": "1.5.0",
            "_model_name": "ProgressStyleModel",
            "_view_count": null,
            "_view_module": "@jupyter-widgets/base",
            "_view_module_version": "1.2.0",
            "_view_name": "StyleView",
            "bar_color": null,
            "description_width": ""
          }
        },
        "4246da00789f44e2abce952906bde6f1": {
          "model_module": "@jupyter-widgets/base",
          "model_module_version": "1.2.0",
          "model_name": "LayoutModel",
          "state": {
            "_model_module": "@jupyter-widgets/base",
            "_model_module_version": "1.2.0",
            "_model_name": "LayoutModel",
            "_view_count": null,
            "_view_module": "@jupyter-widgets/base",
            "_view_module_version": "1.2.0",
            "_view_name": "LayoutView",
            "align_content": null,
            "align_items": null,
            "align_self": null,
            "border": null,
            "bottom": null,
            "display": null,
            "flex": null,
            "flex_flow": null,
            "grid_area": null,
            "grid_auto_columns": null,
            "grid_auto_flow": null,
            "grid_auto_rows": null,
            "grid_column": null,
            "grid_gap": null,
            "grid_row": null,
            "grid_template_areas": null,
            "grid_template_columns": null,
            "grid_template_rows": null,
            "height": null,
            "justify_content": null,
            "justify_items": null,
            "left": null,
            "margin": null,
            "max_height": null,
            "max_width": null,
            "min_height": null,
            "min_width": null,
            "object_fit": null,
            "object_position": null,
            "order": null,
            "overflow": null,
            "overflow_x": null,
            "overflow_y": null,
            "padding": null,
            "right": null,
            "top": null,
            "visibility": null,
            "width": null
          }
        },
        "46c8681bd36f419495d33b06c96311ed": {
          "model_module": "@jupyter-widgets/controls",
          "model_module_version": "1.5.0",
          "model_name": "DescriptionStyleModel",
          "state": {
            "_model_module": "@jupyter-widgets/controls",
            "_model_module_version": "1.5.0",
            "_model_name": "DescriptionStyleModel",
            "_view_count": null,
            "_view_module": "@jupyter-widgets/base",
            "_view_module_version": "1.2.0",
            "_view_name": "StyleView",
            "description_width": ""
          }
        },
        "49f98244a8634be9b2305bb87731e765": {
          "model_module": "@jupyter-widgets/controls",
          "model_module_version": "1.5.0",
          "model_name": "TextModel",
          "state": {
            "_dom_classes": [],
            "_model_module": "@jupyter-widgets/controls",
            "_model_module_version": "1.5.0",
            "_model_name": "TextModel",
            "_view_count": null,
            "_view_module": "@jupyter-widgets/controls",
            "_view_module_version": "1.5.0",
            "_view_name": "TextView",
            "continuous_update": true,
            "description": "Username:",
            "description_tooltip": null,
            "disabled": false,
            "layout": "IPY_MODEL_4bf1f9d3031e4877aa6ef704e9a227d7",
            "placeholder": "​",
            "style": "IPY_MODEL_bfb6a1e47f6e4f74af4db7e71227ef3e",
            "value": ""
          }
        },
        "4bf1f9d3031e4877aa6ef704e9a227d7": {
          "model_module": "@jupyter-widgets/base",
          "model_module_version": "1.2.0",
          "model_name": "LayoutModel",
          "state": {
            "_model_module": "@jupyter-widgets/base",
            "_model_module_version": "1.2.0",
            "_model_name": "LayoutModel",
            "_view_count": null,
            "_view_module": "@jupyter-widgets/base",
            "_view_module_version": "1.2.0",
            "_view_name": "LayoutView",
            "align_content": null,
            "align_items": null,
            "align_self": null,
            "border": null,
            "bottom": null,
            "display": null,
            "flex": null,
            "flex_flow": null,
            "grid_area": null,
            "grid_auto_columns": null,
            "grid_auto_flow": null,
            "grid_auto_rows": null,
            "grid_column": null,
            "grid_gap": null,
            "grid_row": null,
            "grid_template_areas": null,
            "grid_template_columns": null,
            "grid_template_rows": null,
            "height": null,
            "justify_content": null,
            "justify_items": null,
            "left": null,
            "margin": null,
            "max_height": null,
            "max_width": null,
            "min_height": null,
            "min_width": null,
            "object_fit": null,
            "object_position": null,
            "order": null,
            "overflow": null,
            "overflow_x": null,
            "overflow_y": null,
            "padding": null,
            "right": null,
            "top": null,
            "visibility": null,
            "width": null
          }
        },
        "4c3e043e600641538a479df6ad389784": {
          "model_module": "@jupyter-widgets/base",
          "model_module_version": "1.2.0",
          "model_name": "LayoutModel",
          "state": {
            "_model_module": "@jupyter-widgets/base",
            "_model_module_version": "1.2.0",
            "_model_name": "LayoutModel",
            "_view_count": null,
            "_view_module": "@jupyter-widgets/base",
            "_view_module_version": "1.2.0",
            "_view_name": "LayoutView",
            "align_content": null,
            "align_items": null,
            "align_self": null,
            "border": null,
            "bottom": null,
            "display": null,
            "flex": null,
            "flex_flow": null,
            "grid_area": null,
            "grid_auto_columns": null,
            "grid_auto_flow": null,
            "grid_auto_rows": null,
            "grid_column": null,
            "grid_gap": null,
            "grid_row": null,
            "grid_template_areas": null,
            "grid_template_columns": null,
            "grid_template_rows": null,
            "height": null,
            "justify_content": null,
            "justify_items": null,
            "left": null,
            "margin": null,
            "max_height": null,
            "max_width": null,
            "min_height": null,
            "min_width": null,
            "object_fit": null,
            "object_position": null,
            "order": null,
            "overflow": null,
            "overflow_x": null,
            "overflow_y": null,
            "padding": null,
            "right": null,
            "top": null,
            "visibility": null,
            "width": null
          }
        },
        "4f81e460906a428f9f74a0aa469ba63f": {
          "model_module": "@jupyter-widgets/controls",
          "model_module_version": "1.5.0",
          "model_name": "DescriptionStyleModel",
          "state": {
            "_model_module": "@jupyter-widgets/controls",
            "_model_module_version": "1.5.0",
            "_model_name": "DescriptionStyleModel",
            "_view_count": null,
            "_view_module": "@jupyter-widgets/base",
            "_view_module_version": "1.2.0",
            "_view_name": "StyleView",
            "description_width": ""
          }
        },
        "557063bf861648f7aefacf71aa53ea9b": {
          "model_module": "@jupyter-widgets/base",
          "model_module_version": "1.2.0",
          "model_name": "LayoutModel",
          "state": {
            "_model_module": "@jupyter-widgets/base",
            "_model_module_version": "1.2.0",
            "_model_name": "LayoutModel",
            "_view_count": null,
            "_view_module": "@jupyter-widgets/base",
            "_view_module_version": "1.2.0",
            "_view_name": "LayoutView",
            "align_content": null,
            "align_items": null,
            "align_self": null,
            "border": null,
            "bottom": null,
            "display": null,
            "flex": null,
            "flex_flow": null,
            "grid_area": null,
            "grid_auto_columns": null,
            "grid_auto_flow": null,
            "grid_auto_rows": null,
            "grid_column": null,
            "grid_gap": null,
            "grid_row": null,
            "grid_template_areas": null,
            "grid_template_columns": null,
            "grid_template_rows": null,
            "height": null,
            "justify_content": null,
            "justify_items": null,
            "left": null,
            "margin": null,
            "max_height": null,
            "max_width": null,
            "min_height": null,
            "min_width": null,
            "object_fit": null,
            "object_position": null,
            "order": null,
            "overflow": null,
            "overflow_x": null,
            "overflow_y": null,
            "padding": null,
            "right": null,
            "top": null,
            "visibility": null,
            "width": null
          }
        },
        "5ba2a38c71e64253a4fd39cf7d3b3326": {
          "model_module": "@jupyter-widgets/controls",
          "model_module_version": "1.5.0",
          "model_name": "ProgressStyleModel",
          "state": {
            "_model_module": "@jupyter-widgets/controls",
            "_model_module_version": "1.5.0",
            "_model_name": "ProgressStyleModel",
            "_view_count": null,
            "_view_module": "@jupyter-widgets/base",
            "_view_module_version": "1.2.0",
            "_view_name": "StyleView",
            "bar_color": null,
            "description_width": ""
          }
        },
        "5cd8c74ba2e845d498afdc1c25009767": {
          "model_module": "@jupyter-widgets/base",
          "model_module_version": "1.2.0",
          "model_name": "LayoutModel",
          "state": {
            "_model_module": "@jupyter-widgets/base",
            "_model_module_version": "1.2.0",
            "_model_name": "LayoutModel",
            "_view_count": null,
            "_view_module": "@jupyter-widgets/base",
            "_view_module_version": "1.2.0",
            "_view_name": "LayoutView",
            "align_content": null,
            "align_items": null,
            "align_self": null,
            "border": null,
            "bottom": null,
            "display": null,
            "flex": null,
            "flex_flow": null,
            "grid_area": null,
            "grid_auto_columns": null,
            "grid_auto_flow": null,
            "grid_auto_rows": null,
            "grid_column": null,
            "grid_gap": null,
            "grid_row": null,
            "grid_template_areas": null,
            "grid_template_columns": null,
            "grid_template_rows": null,
            "height": null,
            "justify_content": null,
            "justify_items": null,
            "left": null,
            "margin": null,
            "max_height": null,
            "max_width": null,
            "min_height": null,
            "min_width": null,
            "object_fit": null,
            "object_position": null,
            "order": null,
            "overflow": null,
            "overflow_x": null,
            "overflow_y": null,
            "padding": null,
            "right": null,
            "top": null,
            "visibility": null,
            "width": null
          }
        },
        "5cff6b2dd6944c59b8c2f205db5f49bf": {
          "model_module": "@jupyter-widgets/base",
          "model_module_version": "1.2.0",
          "model_name": "LayoutModel",
          "state": {
            "_model_module": "@jupyter-widgets/base",
            "_model_module_version": "1.2.0",
            "_model_name": "LayoutModel",
            "_view_count": null,
            "_view_module": "@jupyter-widgets/base",
            "_view_module_version": "1.2.0",
            "_view_name": "LayoutView",
            "align_content": null,
            "align_items": null,
            "align_self": null,
            "border": null,
            "bottom": null,
            "display": null,
            "flex": null,
            "flex_flow": null,
            "grid_area": null,
            "grid_auto_columns": null,
            "grid_auto_flow": null,
            "grid_auto_rows": null,
            "grid_column": null,
            "grid_gap": null,
            "grid_row": null,
            "grid_template_areas": null,
            "grid_template_columns": null,
            "grid_template_rows": null,
            "height": null,
            "justify_content": null,
            "justify_items": null,
            "left": null,
            "margin": null,
            "max_height": null,
            "max_width": null,
            "min_height": null,
            "min_width": null,
            "object_fit": null,
            "object_position": null,
            "order": null,
            "overflow": null,
            "overflow_x": null,
            "overflow_y": null,
            "padding": null,
            "right": null,
            "top": null,
            "visibility": null,
            "width": null
          }
        },
        "609781a3f55d4d3dbf0b3640972755fa": {
          "model_module": "@jupyter-widgets/controls",
          "model_module_version": "1.5.0",
          "model_name": "FloatProgressModel",
          "state": {
            "_dom_classes": [],
            "_model_module": "@jupyter-widgets/controls",
            "_model_module_version": "1.5.0",
            "_model_name": "FloatProgressModel",
            "_view_count": null,
            "_view_module": "@jupyter-widgets/controls",
            "_view_module_version": "1.5.0",
            "_view_name": "ProgressView",
            "bar_style": "success",
            "description": "",
            "description_tooltip": null,
            "layout": "IPY_MODEL_a5777207c788498fb4ac4900af91d7cf",
            "max": 1,
            "min": 0,
            "orientation": "horizontal",
            "style": "IPY_MODEL_890ff54dc35e460b9108e2690966fafe",
            "value": 1
          }
        },
        "6323e35581be4b338a904266a5e85005": {
          "model_module": "@jupyter-widgets/base",
          "model_module_version": "1.2.0",
          "model_name": "LayoutModel",
          "state": {
            "_model_module": "@jupyter-widgets/base",
            "_model_module_version": "1.2.0",
            "_model_name": "LayoutModel",
            "_view_count": null,
            "_view_module": "@jupyter-widgets/base",
            "_view_module_version": "1.2.0",
            "_view_name": "LayoutView",
            "align_content": null,
            "align_items": null,
            "align_self": null,
            "border": null,
            "bottom": null,
            "display": null,
            "flex": null,
            "flex_flow": null,
            "grid_area": null,
            "grid_auto_columns": null,
            "grid_auto_flow": null,
            "grid_auto_rows": null,
            "grid_column": null,
            "grid_gap": null,
            "grid_row": null,
            "grid_template_areas": null,
            "grid_template_columns": null,
            "grid_template_rows": null,
            "height": null,
            "justify_content": null,
            "justify_items": null,
            "left": null,
            "margin": null,
            "max_height": null,
            "max_width": null,
            "min_height": null,
            "min_width": null,
            "object_fit": null,
            "object_position": null,
            "order": null,
            "overflow": null,
            "overflow_x": null,
            "overflow_y": null,
            "padding": null,
            "right": null,
            "top": null,
            "visibility": null,
            "width": null
          }
        },
        "69f2a9e473534148b96b2e9bd639a087": {
          "model_module": "@jupyter-widgets/controls",
          "model_module_version": "1.5.0",
          "model_name": "DescriptionStyleModel",
          "state": {
            "_model_module": "@jupyter-widgets/controls",
            "_model_module_version": "1.5.0",
            "_model_name": "DescriptionStyleModel",
            "_view_count": null,
            "_view_module": "@jupyter-widgets/base",
            "_view_module_version": "1.2.0",
            "_view_name": "StyleView",
            "description_width": ""
          }
        },
        "6a40faf77bf445308534e7acada6bf0d": {
          "model_module": "@jupyter-widgets/controls",
          "model_module_version": "1.5.0",
          "model_name": "HTMLModel",
          "state": {
            "_dom_classes": [],
            "_model_module": "@jupyter-widgets/controls",
            "_model_module_version": "1.5.0",
            "_model_name": "HTMLModel",
            "_view_count": null,
            "_view_module": "@jupyter-widgets/controls",
            "_view_module_version": "1.5.0",
            "_view_name": "HTMLView",
            "description": "",
            "description_tooltip": null,
            "layout": "IPY_MODEL_21af0f39c0ce40a5846b980f98481940",
            "placeholder": "​",
            "style": "IPY_MODEL_f6e0ea791e5a44abb5d5891bb3e254ad",
            "value": "100%"
          }
        },
        "6ae3b3139e6641fc9e62ae5744349add": {
          "model_module": "@jupyter-widgets/base",
          "model_module_version": "1.2.0",
          "model_name": "LayoutModel",
          "state": {
            "_model_module": "@jupyter-widgets/base",
            "_model_module_version": "1.2.0",
            "_model_name": "LayoutModel",
            "_view_count": null,
            "_view_module": "@jupyter-widgets/base",
            "_view_module_version": "1.2.0",
            "_view_name": "LayoutView",
            "align_content": null,
            "align_items": null,
            "align_self": null,
            "border": null,
            "bottom": null,
            "display": null,
            "flex": null,
            "flex_flow": null,
            "grid_area": null,
            "grid_auto_columns": null,
            "grid_auto_flow": null,
            "grid_auto_rows": null,
            "grid_column": null,
            "grid_gap": null,
            "grid_row": null,
            "grid_template_areas": null,
            "grid_template_columns": null,
            "grid_template_rows": null,
            "height": null,
            "justify_content": null,
            "justify_items": null,
            "left": null,
            "margin": null,
            "max_height": null,
            "max_width": null,
            "min_height": null,
            "min_width": null,
            "object_fit": null,
            "object_position": null,
            "order": null,
            "overflow": null,
            "overflow_x": null,
            "overflow_y": null,
            "padding": null,
            "right": null,
            "top": null,
            "visibility": null,
            "width": null
          }
        },
        "6da7072e7f634a3aa2927fca1bcf38c0": {
          "model_module": "@jupyter-widgets/controls",
          "model_module_version": "1.5.0",
          "model_name": "ProgressStyleModel",
          "state": {
            "_model_module": "@jupyter-widgets/controls",
            "_model_module_version": "1.5.0",
            "_model_name": "ProgressStyleModel",
            "_view_count": null,
            "_view_module": "@jupyter-widgets/base",
            "_view_module_version": "1.2.0",
            "_view_name": "StyleView",
            "bar_color": null,
            "description_width": ""
          }
        },
        "6dd7aa6b17b34d18ba46d834ffd559bc": {
          "model_module": "@jupyter-widgets/controls",
          "model_module_version": "1.5.0",
          "model_name": "ButtonStyleModel",
          "state": {
            "_model_module": "@jupyter-widgets/controls",
            "_model_module_version": "1.5.0",
            "_model_name": "ButtonStyleModel",
            "_view_count": null,
            "_view_module": "@jupyter-widgets/base",
            "_view_module_version": "1.2.0",
            "_view_name": "StyleView",
            "button_color": null,
            "font_weight": ""
          }
        },
        "6ec3c80319fb45f3b6f7715049c9bce0": {
          "model_module": "@jupyter-widgets/base",
          "model_module_version": "1.2.0",
          "model_name": "LayoutModel",
          "state": {
            "_model_module": "@jupyter-widgets/base",
            "_model_module_version": "1.2.0",
            "_model_name": "LayoutModel",
            "_view_count": null,
            "_view_module": "@jupyter-widgets/base",
            "_view_module_version": "1.2.0",
            "_view_name": "LayoutView",
            "align_content": null,
            "align_items": null,
            "align_self": null,
            "border": null,
            "bottom": null,
            "display": null,
            "flex": null,
            "flex_flow": null,
            "grid_area": null,
            "grid_auto_columns": null,
            "grid_auto_flow": null,
            "grid_auto_rows": null,
            "grid_column": null,
            "grid_gap": null,
            "grid_row": null,
            "grid_template_areas": null,
            "grid_template_columns": null,
            "grid_template_rows": null,
            "height": null,
            "justify_content": null,
            "justify_items": null,
            "left": null,
            "margin": null,
            "max_height": null,
            "max_width": null,
            "min_height": null,
            "min_width": null,
            "object_fit": null,
            "object_position": null,
            "order": null,
            "overflow": null,
            "overflow_x": null,
            "overflow_y": null,
            "padding": null,
            "right": null,
            "top": null,
            "visibility": null,
            "width": null
          }
        },
        "716dc4ab4fe74abab49f3c0f009357f5": {
          "model_module": "@jupyter-widgets/base",
          "model_module_version": "1.2.0",
          "model_name": "LayoutModel",
          "state": {
            "_model_module": "@jupyter-widgets/base",
            "_model_module_version": "1.2.0",
            "_model_name": "LayoutModel",
            "_view_count": null,
            "_view_module": "@jupyter-widgets/base",
            "_view_module_version": "1.2.0",
            "_view_name": "LayoutView",
            "align_content": null,
            "align_items": null,
            "align_self": null,
            "border": null,
            "bottom": null,
            "display": null,
            "flex": null,
            "flex_flow": null,
            "grid_area": null,
            "grid_auto_columns": null,
            "grid_auto_flow": null,
            "grid_auto_rows": null,
            "grid_column": null,
            "grid_gap": null,
            "grid_row": null,
            "grid_template_areas": null,
            "grid_template_columns": null,
            "grid_template_rows": null,
            "height": null,
            "justify_content": null,
            "justify_items": null,
            "left": null,
            "margin": null,
            "max_height": null,
            "max_width": null,
            "min_height": null,
            "min_width": null,
            "object_fit": null,
            "object_position": null,
            "order": null,
            "overflow": null,
            "overflow_x": null,
            "overflow_y": null,
            "padding": null,
            "right": null,
            "top": null,
            "visibility": null,
            "width": null
          }
        },
        "731a283141f642b9ab5bf9f7053381d2": {
          "model_module": "@jupyter-widgets/base",
          "model_module_version": "1.2.0",
          "model_name": "LayoutModel",
          "state": {
            "_model_module": "@jupyter-widgets/base",
            "_model_module_version": "1.2.0",
            "_model_name": "LayoutModel",
            "_view_count": null,
            "_view_module": "@jupyter-widgets/base",
            "_view_module_version": "1.2.0",
            "_view_name": "LayoutView",
            "align_content": null,
            "align_items": null,
            "align_self": null,
            "border": null,
            "bottom": null,
            "display": null,
            "flex": null,
            "flex_flow": null,
            "grid_area": null,
            "grid_auto_columns": null,
            "grid_auto_flow": null,
            "grid_auto_rows": null,
            "grid_column": null,
            "grid_gap": null,
            "grid_row": null,
            "grid_template_areas": null,
            "grid_template_columns": null,
            "grid_template_rows": null,
            "height": null,
            "justify_content": null,
            "justify_items": null,
            "left": null,
            "margin": null,
            "max_height": null,
            "max_width": null,
            "min_height": null,
            "min_width": null,
            "object_fit": null,
            "object_position": null,
            "order": null,
            "overflow": null,
            "overflow_x": null,
            "overflow_y": null,
            "padding": null,
            "right": null,
            "top": null,
            "visibility": null,
            "width": null
          }
        },
        "75b26f4a95d24e9d8939d1f7b376eb51": {
          "model_module": "@jupyter-widgets/controls",
          "model_module_version": "1.5.0",
          "model_name": "HTMLModel",
          "state": {
            "_dom_classes": [],
            "_model_module": "@jupyter-widgets/controls",
            "_model_module_version": "1.5.0",
            "_model_name": "HTMLModel",
            "_view_count": null,
            "_view_module": "@jupyter-widgets/controls",
            "_view_module_version": "1.5.0",
            "_view_name": "HTMLView",
            "description": "",
            "description_tooltip": null,
            "layout": "IPY_MODEL_02519344818c40d0b961c5ea210a5c62",
            "placeholder": "​",
            "style": "IPY_MODEL_e575e46791b24f449b8afcb773e46dcc",
            "value": "100%"
          }
        },
        "771530ea22364f1ea8963e2d542fcf49": {
          "model_module": "@jupyter-widgets/base",
          "model_module_version": "1.2.0",
          "model_name": "LayoutModel",
          "state": {
            "_model_module": "@jupyter-widgets/base",
            "_model_module_version": "1.2.0",
            "_model_name": "LayoutModel",
            "_view_count": null,
            "_view_module": "@jupyter-widgets/base",
            "_view_module_version": "1.2.0",
            "_view_name": "LayoutView",
            "align_content": null,
            "align_items": null,
            "align_self": null,
            "border": null,
            "bottom": null,
            "display": null,
            "flex": null,
            "flex_flow": null,
            "grid_area": null,
            "grid_auto_columns": null,
            "grid_auto_flow": null,
            "grid_auto_rows": null,
            "grid_column": null,
            "grid_gap": null,
            "grid_row": null,
            "grid_template_areas": null,
            "grid_template_columns": null,
            "grid_template_rows": null,
            "height": null,
            "justify_content": null,
            "justify_items": null,
            "left": null,
            "margin": null,
            "max_height": null,
            "max_width": null,
            "min_height": null,
            "min_width": null,
            "object_fit": null,
            "object_position": null,
            "order": null,
            "overflow": null,
            "overflow_x": null,
            "overflow_y": null,
            "padding": null,
            "right": null,
            "top": null,
            "visibility": null,
            "width": null
          }
        },
        "7732bb1317f940faa455f992f4fd2b26": {
          "model_module": "@jupyter-widgets/base",
          "model_module_version": "1.2.0",
          "model_name": "LayoutModel",
          "state": {
            "_model_module": "@jupyter-widgets/base",
            "_model_module_version": "1.2.0",
            "_model_name": "LayoutModel",
            "_view_count": null,
            "_view_module": "@jupyter-widgets/base",
            "_view_module_version": "1.2.0",
            "_view_name": "LayoutView",
            "align_content": null,
            "align_items": null,
            "align_self": null,
            "border": null,
            "bottom": null,
            "display": null,
            "flex": null,
            "flex_flow": null,
            "grid_area": null,
            "grid_auto_columns": null,
            "grid_auto_flow": null,
            "grid_auto_rows": null,
            "grid_column": null,
            "grid_gap": null,
            "grid_row": null,
            "grid_template_areas": null,
            "grid_template_columns": null,
            "grid_template_rows": null,
            "height": null,
            "justify_content": null,
            "justify_items": null,
            "left": null,
            "margin": null,
            "max_height": null,
            "max_width": null,
            "min_height": null,
            "min_width": null,
            "object_fit": null,
            "object_position": null,
            "order": null,
            "overflow": null,
            "overflow_x": null,
            "overflow_y": null,
            "padding": null,
            "right": null,
            "top": null,
            "visibility": null,
            "width": null
          }
        },
        "7c81059d35534b799623afe872095cac": {
          "model_module": "@jupyter-widgets/controls",
          "model_module_version": "1.5.0",
          "model_name": "HBoxModel",
          "state": {
            "_dom_classes": [],
            "_model_module": "@jupyter-widgets/controls",
            "_model_module_version": "1.5.0",
            "_model_name": "HBoxModel",
            "_view_count": null,
            "_view_module": "@jupyter-widgets/controls",
            "_view_module_version": "1.5.0",
            "_view_name": "HBoxView",
            "box_style": "",
            "children": [
              "IPY_MODEL_379128a308ab43ee9e785e234bb94049",
              "IPY_MODEL_ff8e746cf8ef4f988617b8d4c0dd3c9c",
              "IPY_MODEL_0204a7bc668746a68f6e5e5632753c1c"
            ],
            "layout": "IPY_MODEL_84361b363998428a87b9e50b6625cca9"
          }
        },
        "7ce84a97d72848c0967f732734afdd68": {
          "model_module": "@jupyter-widgets/controls",
          "model_module_version": "1.5.0",
          "model_name": "DescriptionStyleModel",
          "state": {
            "_model_module": "@jupyter-widgets/controls",
            "_model_module_version": "1.5.0",
            "_model_name": "DescriptionStyleModel",
            "_view_count": null,
            "_view_module": "@jupyter-widgets/base",
            "_view_module_version": "1.2.0",
            "_view_name": "StyleView",
            "description_width": ""
          }
        },
        "7ea310732a56432da1a095a8d30edc1c": {
          "model_module": "@jupyter-widgets/controls",
          "model_module_version": "1.5.0",
          "model_name": "HTMLModel",
          "state": {
            "_dom_classes": [],
            "_model_module": "@jupyter-widgets/controls",
            "_model_module_version": "1.5.0",
            "_model_name": "HTMLModel",
            "_view_count": null,
            "_view_module": "@jupyter-widgets/controls",
            "_view_module_version": "1.5.0",
            "_view_name": "HTMLView",
            "description": "",
            "description_tooltip": null,
            "layout": "IPY_MODEL_771530ea22364f1ea8963e2d542fcf49",
            "placeholder": "​",
            "style": "IPY_MODEL_1cdac9cda666466ca1e09f32661d40ed",
            "value": "Downloading: 100%"
          }
        },
        "84361b363998428a87b9e50b6625cca9": {
          "model_module": "@jupyter-widgets/base",
          "model_module_version": "1.2.0",
          "model_name": "LayoutModel",
          "state": {
            "_model_module": "@jupyter-widgets/base",
            "_model_module_version": "1.2.0",
            "_model_name": "LayoutModel",
            "_view_count": null,
            "_view_module": "@jupyter-widgets/base",
            "_view_module_version": "1.2.0",
            "_view_name": "LayoutView",
            "align_content": null,
            "align_items": null,
            "align_self": null,
            "border": null,
            "bottom": null,
            "display": null,
            "flex": null,
            "flex_flow": null,
            "grid_area": null,
            "grid_auto_columns": null,
            "grid_auto_flow": null,
            "grid_auto_rows": null,
            "grid_column": null,
            "grid_gap": null,
            "grid_row": null,
            "grid_template_areas": null,
            "grid_template_columns": null,
            "grid_template_rows": null,
            "height": null,
            "justify_content": null,
            "justify_items": null,
            "left": null,
            "margin": null,
            "max_height": null,
            "max_width": null,
            "min_height": null,
            "min_width": null,
            "object_fit": null,
            "object_position": null,
            "order": null,
            "overflow": null,
            "overflow_x": null,
            "overflow_y": null,
            "padding": null,
            "right": null,
            "top": null,
            "visibility": null,
            "width": null
          }
        },
        "8541f8f949ea49b7a1335aaf31ca4f81": {
          "model_module": "@jupyter-widgets/base",
          "model_module_version": "1.2.0",
          "model_name": "LayoutModel",
          "state": {
            "_model_module": "@jupyter-widgets/base",
            "_model_module_version": "1.2.0",
            "_model_name": "LayoutModel",
            "_view_count": null,
            "_view_module": "@jupyter-widgets/base",
            "_view_module_version": "1.2.0",
            "_view_name": "LayoutView",
            "align_content": null,
            "align_items": null,
            "align_self": null,
            "border": null,
            "bottom": null,
            "display": null,
            "flex": null,
            "flex_flow": null,
            "grid_area": null,
            "grid_auto_columns": null,
            "grid_auto_flow": null,
            "grid_auto_rows": null,
            "grid_column": null,
            "grid_gap": null,
            "grid_row": null,
            "grid_template_areas": null,
            "grid_template_columns": null,
            "grid_template_rows": null,
            "height": null,
            "justify_content": null,
            "justify_items": null,
            "left": null,
            "margin": null,
            "max_height": null,
            "max_width": null,
            "min_height": null,
            "min_width": null,
            "object_fit": null,
            "object_position": null,
            "order": null,
            "overflow": null,
            "overflow_x": null,
            "overflow_y": null,
            "padding": null,
            "right": null,
            "top": null,
            "visibility": null,
            "width": null
          }
        },
        "8783792878a64402981a416989924348": {
          "model_module": "@jupyter-widgets/controls",
          "model_module_version": "1.5.0",
          "model_name": "HTMLModel",
          "state": {
            "_dom_classes": [],
            "_model_module": "@jupyter-widgets/controls",
            "_model_module_version": "1.5.0",
            "_model_name": "HTMLModel",
            "_view_count": null,
            "_view_module": "@jupyter-widgets/controls",
            "_view_module_version": "1.5.0",
            "_view_name": "HTMLView",
            "description": "",
            "description_tooltip": null,
            "layout": "IPY_MODEL_cc70741031664fa89bfe8e8e672c5b2b",
            "placeholder": "​",
            "style": "IPY_MODEL_46c8681bd36f419495d33b06c96311ed",
            "value": " 1/1 [00:00&lt;00:00, 18.54ba/s]"
          }
        },
        "890ff54dc35e460b9108e2690966fafe": {
          "model_module": "@jupyter-widgets/controls",
          "model_module_version": "1.5.0",
          "model_name": "ProgressStyleModel",
          "state": {
            "_model_module": "@jupyter-widgets/controls",
            "_model_module_version": "1.5.0",
            "_model_name": "ProgressStyleModel",
            "_view_count": null,
            "_view_module": "@jupyter-widgets/base",
            "_view_module_version": "1.2.0",
            "_view_name": "StyleView",
            "bar_color": null,
            "description_width": ""
          }
        },
        "8a669878b8354867944e577860910001": {
          "model_module": "@jupyter-widgets/controls",
          "model_module_version": "1.5.0",
          "model_name": "DescriptionStyleModel",
          "state": {
            "_model_module": "@jupyter-widgets/controls",
            "_model_module_version": "1.5.0",
            "_model_name": "DescriptionStyleModel",
            "_view_count": null,
            "_view_module": "@jupyter-widgets/base",
            "_view_module_version": "1.2.0",
            "_view_name": "StyleView",
            "description_width": ""
          }
        },
        "92c30a7c6102443cad2f6f03211c32e0": {
          "model_module": "@jupyter-widgets/controls",
          "model_module_version": "1.5.0",
          "model_name": "ProgressStyleModel",
          "state": {
            "_model_module": "@jupyter-widgets/controls",
            "_model_module_version": "1.5.0",
            "_model_name": "ProgressStyleModel",
            "_view_count": null,
            "_view_module": "@jupyter-widgets/base",
            "_view_module_version": "1.2.0",
            "_view_name": "StyleView",
            "bar_color": null,
            "description_width": ""
          }
        },
        "92e295e353624110880cff6835b9e119": {
          "model_module": "@jupyter-widgets/base",
          "model_module_version": "1.2.0",
          "model_name": "LayoutModel",
          "state": {
            "_model_module": "@jupyter-widgets/base",
            "_model_module_version": "1.2.0",
            "_model_name": "LayoutModel",
            "_view_count": null,
            "_view_module": "@jupyter-widgets/base",
            "_view_module_version": "1.2.0",
            "_view_name": "LayoutView",
            "align_content": null,
            "align_items": null,
            "align_self": null,
            "border": null,
            "bottom": null,
            "display": null,
            "flex": null,
            "flex_flow": null,
            "grid_area": null,
            "grid_auto_columns": null,
            "grid_auto_flow": null,
            "grid_auto_rows": null,
            "grid_column": null,
            "grid_gap": null,
            "grid_row": null,
            "grid_template_areas": null,
            "grid_template_columns": null,
            "grid_template_rows": null,
            "height": null,
            "justify_content": null,
            "justify_items": null,
            "left": null,
            "margin": null,
            "max_height": null,
            "max_width": null,
            "min_height": null,
            "min_width": null,
            "object_fit": null,
            "object_position": null,
            "order": null,
            "overflow": null,
            "overflow_x": null,
            "overflow_y": null,
            "padding": null,
            "right": null,
            "top": null,
            "visibility": null,
            "width": null
          }
        },
        "a1419cc920324f62be58d6e48a82e275": {
          "model_module": "@jupyter-widgets/controls",
          "model_module_version": "1.5.0",
          "model_name": "HTMLModel",
          "state": {
            "_dom_classes": [],
            "_model_module": "@jupyter-widgets/controls",
            "_model_module_version": "1.5.0",
            "_model_name": "HTMLModel",
            "_view_count": null,
            "_view_module": "@jupyter-widgets/controls",
            "_view_module_version": "1.5.0",
            "_view_name": "HTMLView",
            "description": "",
            "description_tooltip": null,
            "layout": "IPY_MODEL_bc11f833cc9c441b9a58d69ea792fa9c",
            "placeholder": "​",
            "style": "IPY_MODEL_4f81e460906a428f9f74a0aa469ba63f",
            "value": " 1/1 [00:00&lt;00:00, 12.65ba/s]"
          }
        },
        "a28d3e82e04646b79c89f93cf40ee596": {
          "model_module": "@jupyter-widgets/controls",
          "model_module_version": "1.5.0",
          "model_name": "PasswordModel",
          "state": {
            "_dom_classes": [],
            "_model_module": "@jupyter-widgets/controls",
            "_model_module_version": "1.5.0",
            "_model_name": "PasswordModel",
            "_view_count": null,
            "_view_module": "@jupyter-widgets/controls",
            "_view_module_version": "1.5.0",
            "_view_name": "PasswordView",
            "continuous_update": true,
            "description": "Password:",
            "description_tooltip": null,
            "disabled": false,
            "layout": "IPY_MODEL_8541f8f949ea49b7a1335aaf31ca4f81",
            "placeholder": "​",
            "style": "IPY_MODEL_c237b5686d3e48aeb226c87aa703f63d",
            "value": ""
          }
        },
        "a5777207c788498fb4ac4900af91d7cf": {
          "model_module": "@jupyter-widgets/base",
          "model_module_version": "1.2.0",
          "model_name": "LayoutModel",
          "state": {
            "_model_module": "@jupyter-widgets/base",
            "_model_module_version": "1.2.0",
            "_model_name": "LayoutModel",
            "_view_count": null,
            "_view_module": "@jupyter-widgets/base",
            "_view_module_version": "1.2.0",
            "_view_name": "LayoutView",
            "align_content": null,
            "align_items": null,
            "align_self": null,
            "border": null,
            "bottom": null,
            "display": null,
            "flex": null,
            "flex_flow": null,
            "grid_area": null,
            "grid_auto_columns": null,
            "grid_auto_flow": null,
            "grid_auto_rows": null,
            "grid_column": null,
            "grid_gap": null,
            "grid_row": null,
            "grid_template_areas": null,
            "grid_template_columns": null,
            "grid_template_rows": null,
            "height": null,
            "justify_content": null,
            "justify_items": null,
            "left": null,
            "margin": null,
            "max_height": null,
            "max_width": null,
            "min_height": null,
            "min_width": null,
            "object_fit": null,
            "object_position": null,
            "order": null,
            "overflow": null,
            "overflow_x": null,
            "overflow_y": null,
            "padding": null,
            "right": null,
            "top": null,
            "visibility": null,
            "width": null
          }
        },
        "a5e2e1fe3ab94cc6ae1a73cc1ab6f9a8": {
          "model_module": "@jupyter-widgets/controls",
          "model_module_version": "1.5.0",
          "model_name": "DescriptionStyleModel",
          "state": {
            "_model_module": "@jupyter-widgets/controls",
            "_model_module_version": "1.5.0",
            "_model_name": "DescriptionStyleModel",
            "_view_count": null,
            "_view_module": "@jupyter-widgets/base",
            "_view_module_version": "1.2.0",
            "_view_name": "StyleView",
            "description_width": ""
          }
        },
        "a62ff1ee03dc47c9834b43720df991ea": {
          "model_module": "@jupyter-widgets/controls",
          "model_module_version": "1.5.0",
          "model_name": "FloatProgressModel",
          "state": {
            "_dom_classes": [],
            "_model_module": "@jupyter-widgets/controls",
            "_model_module_version": "1.5.0",
            "_model_name": "FloatProgressModel",
            "_view_count": null,
            "_view_module": "@jupyter-widgets/controls",
            "_view_module_version": "1.5.0",
            "_view_name": "ProgressView",
            "bar_style": "success",
            "description": "",
            "description_tooltip": null,
            "layout": "IPY_MODEL_6323e35581be4b338a904266a5e85005",
            "max": 3478,
            "min": 0,
            "orientation": "horizontal",
            "style": "IPY_MODEL_6da7072e7f634a3aa2927fca1bcf38c0",
            "value": 3478
          }
        },
        "aa92ff120d9c4dd68ae941d7a1f33a81": {
          "model_module": "@jupyter-widgets/controls",
          "model_module_version": "1.5.0",
          "model_name": "HTMLModel",
          "state": {
            "_dom_classes": [],
            "_model_module": "@jupyter-widgets/controls",
            "_model_module_version": "1.5.0",
            "_model_name": "HTMLModel",
            "_view_count": null,
            "_view_module": "@jupyter-widgets/controls",
            "_view_module_version": "1.5.0",
            "_view_name": "HTMLView",
            "description": "",
            "description_tooltip": null,
            "layout": "IPY_MODEL_ad95ae421231492e814238bde2ecb551",
            "placeholder": "​",
            "style": "IPY_MODEL_136f973d9623421eb38e09c73c6b6810",
            "value": " 1.53k/1.53k [00:00&lt;00:00, 36.6kB/s]"
          }
        },
        "acc35dfdfca542828d1bb02cbde15dfe": {
          "model_module": "@jupyter-widgets/controls",
          "model_module_version": "1.5.0",
          "model_name": "FloatProgressModel",
          "state": {
            "_dom_classes": [],
            "_model_module": "@jupyter-widgets/controls",
            "_model_module_version": "1.5.0",
            "_model_name": "FloatProgressModel",
            "_view_count": null,
            "_view_module": "@jupyter-widgets/controls",
            "_view_module_version": "1.5.0",
            "_view_name": "ProgressView",
            "bar_style": "success",
            "description": "",
            "description_tooltip": null,
            "layout": "IPY_MODEL_6ae3b3139e6641fc9e62ae5744349add",
            "max": 1568,
            "min": 0,
            "orientation": "horizontal",
            "style": "IPY_MODEL_92c30a7c6102443cad2f6f03211c32e0",
            "value": 1568
          }
        },
        "ad95ae421231492e814238bde2ecb551": {
          "model_module": "@jupyter-widgets/base",
          "model_module_version": "1.2.0",
          "model_name": "LayoutModel",
          "state": {
            "_model_module": "@jupyter-widgets/base",
            "_model_module_version": "1.2.0",
            "_model_name": "LayoutModel",
            "_view_count": null,
            "_view_module": "@jupyter-widgets/base",
            "_view_module_version": "1.2.0",
            "_view_name": "LayoutView",
            "align_content": null,
            "align_items": null,
            "align_self": null,
            "border": null,
            "bottom": null,
            "display": null,
            "flex": null,
            "flex_flow": null,
            "grid_area": null,
            "grid_auto_columns": null,
            "grid_auto_flow": null,
            "grid_auto_rows": null,
            "grid_column": null,
            "grid_gap": null,
            "grid_row": null,
            "grid_template_areas": null,
            "grid_template_columns": null,
            "grid_template_rows": null,
            "height": null,
            "justify_content": null,
            "justify_items": null,
            "left": null,
            "margin": null,
            "max_height": null,
            "max_width": null,
            "min_height": null,
            "min_width": null,
            "object_fit": null,
            "object_position": null,
            "order": null,
            "overflow": null,
            "overflow_x": null,
            "overflow_y": null,
            "padding": null,
            "right": null,
            "top": null,
            "visibility": null,
            "width": null
          }
        },
        "b896566369e3403091e357af18648740": {
          "model_module": "@jupyter-widgets/controls",
          "model_module_version": "1.5.0",
          "model_name": "VBoxModel",
          "state": {
            "_dom_classes": [],
            "_model_module": "@jupyter-widgets/controls",
            "_model_module_version": "1.5.0",
            "_model_name": "VBoxModel",
            "_view_count": null,
            "_view_module": "@jupyter-widgets/controls",
            "_view_module_version": "1.5.0",
            "_view_name": "VBoxView",
            "box_style": "",
            "children": [
              "IPY_MODEL_26bf8a70fe5449a99ca1b06430b2fc8f",
              "IPY_MODEL_dd5d9b3f70ee4a0dabe18e87ab38145c",
              "IPY_MODEL_2d4eb3e5acc348948299c506db83ca90"
            ],
            "layout": "IPY_MODEL_384228b409cb4bb0bbd77ef259b9a568"
          }
        },
        "b9c5532ffabb44078de8a6f76a4b8be6": {
          "model_module": "@jupyter-widgets/controls",
          "model_module_version": "1.5.0",
          "model_name": "HTMLModel",
          "state": {
            "_dom_classes": [],
            "_model_module": "@jupyter-widgets/controls",
            "_model_module_version": "1.5.0",
            "_model_name": "HTMLModel",
            "_view_count": null,
            "_view_module": "@jupyter-widgets/controls",
            "_view_module_version": "1.5.0",
            "_view_name": "HTMLView",
            "description": "",
            "description_tooltip": null,
            "layout": "IPY_MODEL_fe156fa95ee9410daff8f7c9a8b0d3a3",
            "placeholder": "​",
            "style": "IPY_MODEL_a5e2e1fe3ab94cc6ae1a73cc1ab6f9a8",
            "value": " 1647/1647 [00:20&lt;00:00, 89.86ex/s]"
          }
        },
        "bbfc45e0cf5644f6bc24118fa9c6c098": {
          "model_module": "@jupyter-widgets/base",
          "model_module_version": "1.2.0",
          "model_name": "LayoutModel",
          "state": {
            "_model_module": "@jupyter-widgets/base",
            "_model_module_version": "1.2.0",
            "_model_name": "LayoutModel",
            "_view_count": null,
            "_view_module": "@jupyter-widgets/base",
            "_view_module_version": "1.2.0",
            "_view_name": "LayoutView",
            "align_content": null,
            "align_items": null,
            "align_self": null,
            "border": null,
            "bottom": null,
            "display": null,
            "flex": null,
            "flex_flow": null,
            "grid_area": null,
            "grid_auto_columns": null,
            "grid_auto_flow": null,
            "grid_auto_rows": null,
            "grid_column": null,
            "grid_gap": null,
            "grid_row": null,
            "grid_template_areas": null,
            "grid_template_columns": null,
            "grid_template_rows": null,
            "height": null,
            "justify_content": null,
            "justify_items": null,
            "left": null,
            "margin": null,
            "max_height": null,
            "max_width": null,
            "min_height": null,
            "min_width": null,
            "object_fit": null,
            "object_position": null,
            "order": null,
            "overflow": null,
            "overflow_x": null,
            "overflow_y": null,
            "padding": null,
            "right": null,
            "top": null,
            "visibility": null,
            "width": null
          }
        },
        "bc11f833cc9c441b9a58d69ea792fa9c": {
          "model_module": "@jupyter-widgets/base",
          "model_module_version": "1.2.0",
          "model_name": "LayoutModel",
          "state": {
            "_model_module": "@jupyter-widgets/base",
            "_model_module_version": "1.2.0",
            "_model_name": "LayoutModel",
            "_view_count": null,
            "_view_module": "@jupyter-widgets/base",
            "_view_module_version": "1.2.0",
            "_view_name": "LayoutView",
            "align_content": null,
            "align_items": null,
            "align_self": null,
            "border": null,
            "bottom": null,
            "display": null,
            "flex": null,
            "flex_flow": null,
            "grid_area": null,
            "grid_auto_columns": null,
            "grid_auto_flow": null,
            "grid_auto_rows": null,
            "grid_column": null,
            "grid_gap": null,
            "grid_row": null,
            "grid_template_areas": null,
            "grid_template_columns": null,
            "grid_template_rows": null,
            "height": null,
            "justify_content": null,
            "justify_items": null,
            "left": null,
            "margin": null,
            "max_height": null,
            "max_width": null,
            "min_height": null,
            "min_width": null,
            "object_fit": null,
            "object_position": null,
            "order": null,
            "overflow": null,
            "overflow_x": null,
            "overflow_y": null,
            "padding": null,
            "right": null,
            "top": null,
            "visibility": null,
            "width": null
          }
        },
        "bdcf9380af5d4601b9b2de84b06ecb40": {
          "model_module": "@jupyter-widgets/controls",
          "model_module_version": "1.5.0",
          "model_name": "FloatProgressModel",
          "state": {
            "_dom_classes": [],
            "_model_module": "@jupyter-widgets/controls",
            "_model_module_version": "1.5.0",
            "_model_name": "FloatProgressModel",
            "_view_count": null,
            "_view_module": "@jupyter-widgets/controls",
            "_view_module_version": "1.5.0",
            "_view_name": "ProgressView",
            "bar_style": "success",
            "description": "",
            "description_tooltip": null,
            "layout": "IPY_MODEL_bbfc45e0cf5644f6bc24118fa9c6c098",
            "max": 1647,
            "min": 0,
            "orientation": "horizontal",
            "style": "IPY_MODEL_eca458b185ae4570b1ec1e77389c871e",
            "value": 1647
          }
        },
        "bfb6a1e47f6e4f74af4db7e71227ef3e": {
          "model_module": "@jupyter-widgets/controls",
          "model_module_version": "1.5.0",
          "model_name": "DescriptionStyleModel",
          "state": {
            "_model_module": "@jupyter-widgets/controls",
            "_model_module_version": "1.5.0",
            "_model_name": "DescriptionStyleModel",
            "_view_count": null,
            "_view_module": "@jupyter-widgets/base",
            "_view_module_version": "1.2.0",
            "_view_name": "StyleView",
            "description_width": ""
          }
        },
        "c0919f3c8d594911815ce63273f7fe51": {
          "model_module": "@jupyter-widgets/base",
          "model_module_version": "1.2.0",
          "model_name": "LayoutModel",
          "state": {
            "_model_module": "@jupyter-widgets/base",
            "_model_module_version": "1.2.0",
            "_model_name": "LayoutModel",
            "_view_count": null,
            "_view_module": "@jupyter-widgets/base",
            "_view_module_version": "1.2.0",
            "_view_name": "LayoutView",
            "align_content": null,
            "align_items": null,
            "align_self": null,
            "border": null,
            "bottom": null,
            "display": null,
            "flex": null,
            "flex_flow": null,
            "grid_area": null,
            "grid_auto_columns": null,
            "grid_auto_flow": null,
            "grid_auto_rows": null,
            "grid_column": null,
            "grid_gap": null,
            "grid_row": null,
            "grid_template_areas": null,
            "grid_template_columns": null,
            "grid_template_rows": null,
            "height": null,
            "justify_content": null,
            "justify_items": null,
            "left": null,
            "margin": null,
            "max_height": null,
            "max_width": null,
            "min_height": null,
            "min_width": null,
            "object_fit": null,
            "object_position": null,
            "order": null,
            "overflow": null,
            "overflow_x": null,
            "overflow_y": null,
            "padding": null,
            "right": null,
            "top": null,
            "visibility": null,
            "width": null
          }
        },
        "c237b5686d3e48aeb226c87aa703f63d": {
          "model_module": "@jupyter-widgets/controls",
          "model_module_version": "1.5.0",
          "model_name": "DescriptionStyleModel",
          "state": {
            "_model_module": "@jupyter-widgets/controls",
            "_model_module_version": "1.5.0",
            "_model_name": "DescriptionStyleModel",
            "_view_count": null,
            "_view_module": "@jupyter-widgets/base",
            "_view_module_version": "1.2.0",
            "_view_name": "StyleView",
            "description_width": ""
          }
        },
        "cc70741031664fa89bfe8e8e672c5b2b": {
          "model_module": "@jupyter-widgets/base",
          "model_module_version": "1.2.0",
          "model_name": "LayoutModel",
          "state": {
            "_model_module": "@jupyter-widgets/base",
            "_model_module_version": "1.2.0",
            "_model_name": "LayoutModel",
            "_view_count": null,
            "_view_module": "@jupyter-widgets/base",
            "_view_module_version": "1.2.0",
            "_view_name": "LayoutView",
            "align_content": null,
            "align_items": null,
            "align_self": null,
            "border": null,
            "bottom": null,
            "display": null,
            "flex": null,
            "flex_flow": null,
            "grid_area": null,
            "grid_auto_columns": null,
            "grid_auto_flow": null,
            "grid_auto_rows": null,
            "grid_column": null,
            "grid_gap": null,
            "grid_row": null,
            "grid_template_areas": null,
            "grid_template_columns": null,
            "grid_template_rows": null,
            "height": null,
            "justify_content": null,
            "justify_items": null,
            "left": null,
            "margin": null,
            "max_height": null,
            "max_width": null,
            "min_height": null,
            "min_width": null,
            "object_fit": null,
            "object_position": null,
            "order": null,
            "overflow": null,
            "overflow_x": null,
            "overflow_y": null,
            "padding": null,
            "right": null,
            "top": null,
            "visibility": null,
            "width": null
          }
        },
        "ce429683f48349c083e5fc3253a897d7": {
          "model_module": "@jupyter-widgets/controls",
          "model_module_version": "1.5.0",
          "model_name": "HTMLModel",
          "state": {
            "_dom_classes": [],
            "_model_module": "@jupyter-widgets/controls",
            "_model_module_version": "1.5.0",
            "_model_name": "HTMLModel",
            "_view_count": null,
            "_view_module": "@jupyter-widgets/controls",
            "_view_module_version": "1.5.0",
            "_view_name": "HTMLView",
            "description": "",
            "description_tooltip": null,
            "layout": "IPY_MODEL_4246da00789f44e2abce952906bde6f1",
            "placeholder": "​",
            "style": "IPY_MODEL_059588e34a88476eb6bbc1860ddc27ef",
            "value": "Downloading: 100%"
          }
        },
        "d11d94912b26401a860c80eba767907a": {
          "model_module": "@jupyter-widgets/base",
          "model_module_version": "1.2.0",
          "model_name": "LayoutModel",
          "state": {
            "_model_module": "@jupyter-widgets/base",
            "_model_module_version": "1.2.0",
            "_model_name": "LayoutModel",
            "_view_count": null,
            "_view_module": "@jupyter-widgets/base",
            "_view_module_version": "1.2.0",
            "_view_name": "LayoutView",
            "align_content": null,
            "align_items": null,
            "align_self": null,
            "border": null,
            "bottom": null,
            "display": null,
            "flex": null,
            "flex_flow": null,
            "grid_area": null,
            "grid_auto_columns": null,
            "grid_auto_flow": null,
            "grid_auto_rows": null,
            "grid_column": null,
            "grid_gap": null,
            "grid_row": null,
            "grid_template_areas": null,
            "grid_template_columns": null,
            "grid_template_rows": null,
            "height": null,
            "justify_content": null,
            "justify_items": null,
            "left": null,
            "margin": null,
            "max_height": null,
            "max_width": null,
            "min_height": null,
            "min_width": null,
            "object_fit": null,
            "object_position": null,
            "order": null,
            "overflow": null,
            "overflow_x": null,
            "overflow_y": null,
            "padding": null,
            "right": null,
            "top": null,
            "visibility": null,
            "width": null
          }
        },
        "d3b5f5a0d35642e0b606ac63c38f88fa": {
          "model_module": "@jupyter-widgets/base",
          "model_module_version": "1.2.0",
          "model_name": "LayoutModel",
          "state": {
            "_model_module": "@jupyter-widgets/base",
            "_model_module_version": "1.2.0",
            "_model_name": "LayoutModel",
            "_view_count": null,
            "_view_module": "@jupyter-widgets/base",
            "_view_module_version": "1.2.0",
            "_view_name": "LayoutView",
            "align_content": null,
            "align_items": null,
            "align_self": null,
            "border": null,
            "bottom": null,
            "display": null,
            "flex": null,
            "flex_flow": null,
            "grid_area": null,
            "grid_auto_columns": null,
            "grid_auto_flow": null,
            "grid_auto_rows": null,
            "grid_column": null,
            "grid_gap": null,
            "grid_row": null,
            "grid_template_areas": null,
            "grid_template_columns": null,
            "grid_template_rows": null,
            "height": null,
            "justify_content": null,
            "justify_items": null,
            "left": null,
            "margin": null,
            "max_height": null,
            "max_width": null,
            "min_height": null,
            "min_width": null,
            "object_fit": null,
            "object_position": null,
            "order": null,
            "overflow": null,
            "overflow_x": null,
            "overflow_y": null,
            "padding": null,
            "right": null,
            "top": null,
            "visibility": null,
            "width": null
          }
        },
        "db7a9c27eabb4ba391bfb9d819d7a36e": {
          "model_module": "@jupyter-widgets/base",
          "model_module_version": "1.2.0",
          "model_name": "LayoutModel",
          "state": {
            "_model_module": "@jupyter-widgets/base",
            "_model_module_version": "1.2.0",
            "_model_name": "LayoutModel",
            "_view_count": null,
            "_view_module": "@jupyter-widgets/base",
            "_view_module_version": "1.2.0",
            "_view_name": "LayoutView",
            "align_content": null,
            "align_items": null,
            "align_self": null,
            "border": null,
            "bottom": null,
            "display": null,
            "flex": null,
            "flex_flow": null,
            "grid_area": null,
            "grid_auto_columns": null,
            "grid_auto_flow": null,
            "grid_auto_rows": null,
            "grid_column": null,
            "grid_gap": null,
            "grid_row": null,
            "grid_template_areas": null,
            "grid_template_columns": null,
            "grid_template_rows": null,
            "height": null,
            "justify_content": null,
            "justify_items": null,
            "left": null,
            "margin": null,
            "max_height": null,
            "max_width": null,
            "min_height": null,
            "min_width": null,
            "object_fit": null,
            "object_position": null,
            "order": null,
            "overflow": null,
            "overflow_x": null,
            "overflow_y": null,
            "padding": null,
            "right": null,
            "top": null,
            "visibility": null,
            "width": null
          }
        },
        "dd5d9b3f70ee4a0dabe18e87ab38145c": {
          "model_module": "@jupyter-widgets/controls",
          "model_module_version": "1.5.0",
          "model_name": "HBoxModel",
          "state": {
            "_dom_classes": [],
            "_model_module": "@jupyter-widgets/controls",
            "_model_module_version": "1.5.0",
            "_model_name": "HBoxModel",
            "_view_count": null,
            "_view_module": "@jupyter-widgets/controls",
            "_view_module_version": "1.5.0",
            "_view_name": "HBoxView",
            "box_style": "",
            "children": [
              "IPY_MODEL_49f98244a8634be9b2305bb87731e765",
              "IPY_MODEL_a28d3e82e04646b79c89f93cf40ee596"
            ],
            "layout": "IPY_MODEL_4c3e043e600641538a479df6ad389784"
          }
        },
        "de1e5c31eacf4fa59cfa51926354acca": {
          "model_module": "@jupyter-widgets/controls",
          "model_module_version": "1.5.0",
          "model_name": "DescriptionStyleModel",
          "state": {
            "_model_module": "@jupyter-widgets/controls",
            "_model_module_version": "1.5.0",
            "_model_name": "DescriptionStyleModel",
            "_view_count": null,
            "_view_module": "@jupyter-widgets/base",
            "_view_module_version": "1.2.0",
            "_view_name": "StyleView",
            "description_width": ""
          }
        },
        "e575e46791b24f449b8afcb773e46dcc": {
          "model_module": "@jupyter-widgets/controls",
          "model_module_version": "1.5.0",
          "model_name": "DescriptionStyleModel",
          "state": {
            "_model_module": "@jupyter-widgets/controls",
            "_model_module_version": "1.5.0",
            "_model_name": "DescriptionStyleModel",
            "_view_count": null,
            "_view_module": "@jupyter-widgets/base",
            "_view_module_version": "1.2.0",
            "_view_name": "StyleView",
            "description_width": ""
          }
        },
        "e78238c96d6a4152bf40f5d7a81e5495": {
          "model_module": "@jupyter-widgets/controls",
          "model_module_version": "1.5.0",
          "model_name": "HBoxModel",
          "state": {
            "_dom_classes": [],
            "_model_module": "@jupyter-widgets/controls",
            "_model_module_version": "1.5.0",
            "_model_name": "HBoxModel",
            "_view_count": null,
            "_view_module": "@jupyter-widgets/controls",
            "_view_module_version": "1.5.0",
            "_view_name": "HBoxView",
            "box_style": "",
            "children": [
              "IPY_MODEL_75b26f4a95d24e9d8939d1f7b376eb51",
              "IPY_MODEL_f58af0561fc242238cfd0163f0ad5e5f",
              "IPY_MODEL_a1419cc920324f62be58d6e48a82e275"
            ],
            "layout": "IPY_MODEL_6ec3c80319fb45f3b6f7715049c9bce0"
          }
        },
        "e9531fcd48b74929bfdb45cd3f3315e7": {
          "model_module": "@jupyter-widgets/controls",
          "model_module_version": "1.5.0",
          "model_name": "ProgressStyleModel",
          "state": {
            "_model_module": "@jupyter-widgets/controls",
            "_model_module_version": "1.5.0",
            "_model_name": "ProgressStyleModel",
            "_view_count": null,
            "_view_module": "@jupyter-widgets/base",
            "_view_module_version": "1.2.0",
            "_view_name": "StyleView",
            "bar_color": null,
            "description_width": ""
          }
        },
        "eca458b185ae4570b1ec1e77389c871e": {
          "model_module": "@jupyter-widgets/controls",
          "model_module_version": "1.5.0",
          "model_name": "ProgressStyleModel",
          "state": {
            "_model_module": "@jupyter-widgets/controls",
            "_model_module_version": "1.5.0",
            "_model_name": "ProgressStyleModel",
            "_view_count": null,
            "_view_module": "@jupyter-widgets/base",
            "_view_module_version": "1.2.0",
            "_view_name": "StyleView",
            "bar_color": null,
            "description_width": ""
          }
        },
        "f28c64f34f9540b6b6bdc765c84e2307": {
          "model_module": "@jupyter-widgets/base",
          "model_module_version": "1.2.0",
          "model_name": "LayoutModel",
          "state": {
            "_model_module": "@jupyter-widgets/base",
            "_model_module_version": "1.2.0",
            "_model_name": "LayoutModel",
            "_view_count": null,
            "_view_module": "@jupyter-widgets/base",
            "_view_module_version": "1.2.0",
            "_view_name": "LayoutView",
            "align_content": null,
            "align_items": null,
            "align_self": null,
            "border": null,
            "bottom": null,
            "display": null,
            "flex": null,
            "flex_flow": null,
            "grid_area": null,
            "grid_auto_columns": null,
            "grid_auto_flow": null,
            "grid_auto_rows": null,
            "grid_column": null,
            "grid_gap": null,
            "grid_row": null,
            "grid_template_areas": null,
            "grid_template_columns": null,
            "grid_template_rows": null,
            "height": null,
            "justify_content": null,
            "justify_items": null,
            "left": null,
            "margin": null,
            "max_height": null,
            "max_width": null,
            "min_height": null,
            "min_width": null,
            "object_fit": null,
            "object_position": null,
            "order": null,
            "overflow": null,
            "overflow_x": null,
            "overflow_y": null,
            "padding": null,
            "right": null,
            "top": null,
            "visibility": null,
            "width": null
          }
        },
        "f4af6a0756e241e49e5d325f1bdb18b4": {
          "model_module": "@jupyter-widgets/controls",
          "model_module_version": "1.5.0",
          "model_name": "HTMLModel",
          "state": {
            "_dom_classes": [],
            "_model_module": "@jupyter-widgets/controls",
            "_model_module_version": "1.5.0",
            "_model_name": "HTMLModel",
            "_view_count": null,
            "_view_module": "@jupyter-widgets/controls",
            "_view_module_version": "1.5.0",
            "_view_name": "HTMLView",
            "description": "",
            "description_tooltip": null,
            "layout": "IPY_MODEL_349c9e8b2a8846c1bff5a03d2a28066a",
            "placeholder": "​",
            "style": "IPY_MODEL_de1e5c31eacf4fa59cfa51926354acca",
            "value": " 1.18G/1.18G [00:39&lt;00:00, 35.4MB/s]"
          }
        },
        "f58af0561fc242238cfd0163f0ad5e5f": {
          "model_module": "@jupyter-widgets/controls",
          "model_module_version": "1.5.0",
          "model_name": "FloatProgressModel",
          "state": {
            "_dom_classes": [],
            "_model_module": "@jupyter-widgets/controls",
            "_model_module_version": "1.5.0",
            "_model_name": "FloatProgressModel",
            "_view_count": null,
            "_view_module": "@jupyter-widgets/controls",
            "_view_module_version": "1.5.0",
            "_view_name": "ProgressView",
            "bar_style": "success",
            "description": "",
            "description_tooltip": null,
            "layout": "IPY_MODEL_5cff6b2dd6944c59b8c2f205db5f49bf",
            "max": 1,
            "min": 0,
            "orientation": "horizontal",
            "style": "IPY_MODEL_5ba2a38c71e64253a4fd39cf7d3b3326",
            "value": 1
          }
        },
        "f6e0ea791e5a44abb5d5891bb3e254ad": {
          "model_module": "@jupyter-widgets/controls",
          "model_module_version": "1.5.0",
          "model_name": "DescriptionStyleModel",
          "state": {
            "_model_module": "@jupyter-widgets/controls",
            "_model_module_version": "1.5.0",
            "_model_name": "DescriptionStyleModel",
            "_view_count": null,
            "_view_module": "@jupyter-widgets/base",
            "_view_module_version": "1.2.0",
            "_view_name": "StyleView",
            "description_width": ""
          }
        },
        "f6e777f3a1684a7da3efc63281553b5e": {
          "model_module": "@jupyter-widgets/controls",
          "model_module_version": "1.5.0",
          "model_name": "HTMLModel",
          "state": {
            "_dom_classes": [],
            "_model_module": "@jupyter-widgets/controls",
            "_model_module_version": "1.5.0",
            "_model_name": "HTMLModel",
            "_view_count": null,
            "_view_module": "@jupyter-widgets/controls",
            "_view_module_version": "1.5.0",
            "_view_name": "HTMLView",
            "description": "",
            "description_tooltip": null,
            "layout": "IPY_MODEL_db7a9c27eabb4ba391bfb9d819d7a36e",
            "placeholder": "​",
            "style": "IPY_MODEL_fd2ba2bf4b2946078a0761b773626b64",
            "value": "100%"
          }
        },
        "fd2ba2bf4b2946078a0761b773626b64": {
          "model_module": "@jupyter-widgets/controls",
          "model_module_version": "1.5.0",
          "model_name": "DescriptionStyleModel",
          "state": {
            "_model_module": "@jupyter-widgets/controls",
            "_model_module_version": "1.5.0",
            "_model_name": "DescriptionStyleModel",
            "_view_count": null,
            "_view_module": "@jupyter-widgets/base",
            "_view_module_version": "1.2.0",
            "_view_name": "StyleView",
            "description_width": ""
          }
        },
        "fe156fa95ee9410daff8f7c9a8b0d3a3": {
          "model_module": "@jupyter-widgets/base",
          "model_module_version": "1.2.0",
          "model_name": "LayoutModel",
          "state": {
            "_model_module": "@jupyter-widgets/base",
            "_model_module_version": "1.2.0",
            "_model_name": "LayoutModel",
            "_view_count": null,
            "_view_module": "@jupyter-widgets/base",
            "_view_module_version": "1.2.0",
            "_view_name": "LayoutView",
            "align_content": null,
            "align_items": null,
            "align_self": null,
            "border": null,
            "bottom": null,
            "display": null,
            "flex": null,
            "flex_flow": null,
            "grid_area": null,
            "grid_auto_columns": null,
            "grid_auto_flow": null,
            "grid_auto_rows": null,
            "grid_column": null,
            "grid_gap": null,
            "grid_row": null,
            "grid_template_areas": null,
            "grid_template_columns": null,
            "grid_template_rows": null,
            "height": null,
            "justify_content": null,
            "justify_items": null,
            "left": null,
            "margin": null,
            "max_height": null,
            "max_width": null,
            "min_height": null,
            "min_width": null,
            "object_fit": null,
            "object_position": null,
            "order": null,
            "overflow": null,
            "overflow_x": null,
            "overflow_y": null,
            "padding": null,
            "right": null,
            "top": null,
            "visibility": null,
            "width": null
          }
        },
        "ff8e746cf8ef4f988617b8d4c0dd3c9c": {
          "model_module": "@jupyter-widgets/controls",
          "model_module_version": "1.5.0",
          "model_name": "FloatProgressModel",
          "state": {
            "_dom_classes": [],
            "_model_module": "@jupyter-widgets/controls",
            "_model_module_version": "1.5.0",
            "_model_name": "FloatProgressModel",
            "_view_count": null,
            "_view_module": "@jupyter-widgets/controls",
            "_view_module_version": "1.5.0",
            "_view_name": "ProgressView",
            "bar_style": "success",
            "description": "",
            "description_tooltip": null,
            "layout": "IPY_MODEL_5cd8c74ba2e845d498afdc1c25009767",
            "max": 1947,
            "min": 0,
            "orientation": "horizontal",
            "style": "IPY_MODEL_3f0c587f7b764d96837c8e16254aab12",
            "value": 1947
          }
        }
      }
    }
  },
  "nbformat": 4,
  "nbformat_minor": 0
}
