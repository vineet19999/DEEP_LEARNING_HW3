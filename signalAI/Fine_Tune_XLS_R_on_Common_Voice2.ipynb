{
  "cells": [
    {
      "cell_type": "markdown",
      "metadata": {
        "id": "LBSYoWbi-45k"
      },
      "source": [
        "# **Fine-tuning XLS-R for Multi-Lingual ASR with 🤗 Transformers**\n",
        "\n",
        "ref: https://huggingface.co/blog/fine-tune-xlsr-wav2vec2\n",
        "Original colab link: https://colab.research.google.com/github/patrickvonplaten/notebooks/blob/master/Fine_Tune_XLS_R_on_Common_Voice.ipynb\n"
      ]
    },
    {
      "cell_type": "markdown",
      "metadata": {
        "id": "V7YOT2mnUiea"
      },
      "source": [
        "**Wav2Vec2** is a pretrained model for Automatic Speech Recognition (ASR) and was released in [September 2020](https://ai.facebook.com/blog/wav2vec-20-learning-the-structure-of-speech-from-raw-audio/) by *Alexei Baevski, Michael Auli, and Alex Conneau*.  Soon after the superior performance of Wav2Vec2 was demonstrated on one of the most popular English datasets for ASR, called [LibriSpeech](https://huggingface.co/datasets/librispeech_asr), *Facebook AI* presented a multi-lingual version of Wav2Vec2, called [XLSR](https://arxiv.org/abs/2006.13979). XLSR stands for *cross-lingual speech representations* and refers to model's ability to learn speech representations that are useful across multiple languages.\n",
        "\n",
        "XLSR's successor, simply called **XLS-R** (refering to the [*''XLM-R*](https://ai.facebook.com/blog/-xlm-r-state-of-the-art-cross-lingual-understanding-through-self-supervision/) *for Speech''*), was released in [November 2021](https://ai.facebook.com/blog/xls-r-self-supervised-speech-processing-for-128-languages) by *Arun Babu, Changhan Wang, Andros Tjandra, et al.* XLS-R used almost **half a million** hours of audio data in 128 languages for self-supervised pre-training and comes in sizes ranging from 300 milion up to **two billion** parameters. You can find the pretrained checkpoints on the 🤗 Hub:\n",
        "\n",
        "- [**Wav2Vec2-XLS-R-300M**](https://huggingface.co/facebook/wav2vec2-xls-r-300m)\n",
        "- [**Wav2Vec2-XLS-R-1B**](https://huggingface.co/facebook/wav2vec2-xls-r-1b)\n",
        "- [**Wav2Vec2-XLS-R-2B**](https://huggingface.co/facebook/wav2vec2-xls-r-2b)\n",
        "\n",
        "Similar to [BERT's masked language modeling objective](http://jalammar.github.io/illustrated-bert/), XLS-R learns contextualized speech representations by randomly masking feature vectors before passing them to a transformer network during self-supervised pre-training (*i.e.* diagram on the left below).\n",
        "\n",
        "For fine-tuning, a single linear layer is added on top of the pre-trained network to train the model on labeled data of audio downstream tasks such as speech recognition, speech translation and audio classification (*i.e.* diagram on the right below).\n",
        "\n",
        "![wav2vec2_structure](https://raw.githubusercontent.com/patrickvonplaten/scientific_images/master/xls_r.png)\n",
        "\n",
        "XLS-R shows impressive improvements over previous state-of-the-art results on both speech recognition, speech translation and speaker/language identification, *cf.* with Table 3-6, Table 7-10, and Table 11-12 respectively of the official [paper](https://ai.facebook.com/blog/xls-r-self-supervised-speech-processing-for-128-languages)."
      ]
    },
    {
      "cell_type": "markdown",
      "metadata": {
        "id": "nT_QrfWtsxIz"
      },
      "source": [
        "## Notebook Setup"
      ]
    },
    {
      "cell_type": "markdown",
      "metadata": {
        "id": "kruqixOYHaIo"
      },
      "source": [
        "\n",
        "In this notebook, we will give an in-detail explanation of how XLS-R - more specifically the pre-trained checkpoint [**Wav2Vec2-XLS-R-300M**](https://huggingface.co/facebook/wav2vec2-xls-r-300m) - can be fine-tuned for ASR.  \n",
        "\n",
        "For demonstration purposes, we fine-tune the model on the low resource ASR dataset of [Common Voice](https://huggingface.co/datasets/common_voice) that contains only *ca.* 4h of validated training data."
      ]
    },
    {
      "cell_type": "markdown",
      "metadata": {
        "id": "Gx9OdDYrCtQ1"
      },
      "source": [
        "XLS-R is fine-tuned using Connectionist Temporal Classification (CTC), which is an algorithm that is used to train neural networks for sequence-to-sequence problems, such as ASR and handwriting recognition.\n",
        "\n",
        "I highly recommend reading the well-written blog post [*Sequence Modeling with CTC (2017)*](https://distill.pub/2017/ctc/) by Awni Hannun."
      ]
    },
    {
      "cell_type": "markdown",
      "metadata": {
        "id": "wcHuXIaWyHZU"
      },
      "source": [
        "First, let's try to get a good GPU in our colab! With Google Colab's free version it's sadly becoming much harder to get access to a good GPU. With Google Colab Pro, however, one should easily get either a V100 or P100 GPU."
      ]
    },
    {
      "cell_type": "code",
      "execution_count": 1,
      "metadata": {
        "colab": {
          "base_uri": "https://localhost:8080/"
        },
        "id": "YELVqGxMxnbG",
        "outputId": "1ab7eb67-409d-4371-b99e-7eb1171cb5fb"
      },
      "outputs": [
        {
          "name": "stdout",
          "output_type": "stream",
          "text": [
            "Thu Jan 18 18:00:24 2024       \n",
            "+---------------------------------------------------------------------------------------+\n",
            "| NVIDIA-SMI 545.23.08              Driver Version: 545.23.08    CUDA Version: 12.3     |\n",
            "|-----------------------------------------+----------------------+----------------------+\n",
            "| GPU  Name                 Persistence-M | Bus-Id        Disp.A | Volatile Uncorr. ECC |\n",
            "| Fan  Temp   Perf          Pwr:Usage/Cap |         Memory-Usage | GPU-Util  Compute M. |\n",
            "|                                         |                      |               MIG M. |\n",
            "|=========================================+======================+======================|\n",
            "|   0  NVIDIA GeForce RTX 4090        On  | 00000000:01:00.0 Off |                  Off |\n",
            "|  0%   28C    P8              38W / 480W |     14MiB / 24564MiB |      0%      Default |\n",
            "|                                         |                      |                  N/A |\n",
            "+-----------------------------------------+----------------------+----------------------+\n",
            "                                                                                         \n",
            "+---------------------------------------------------------------------------------------+\n",
            "| Processes:                                                                            |\n",
            "|  GPU   GI   CI        PID   Type   Process name                            GPU Memory |\n",
            "|        ID   ID                                                             Usage      |\n",
            "|=======================================================================================|\n",
            "|    0   N/A  N/A      1842      G   /usr/lib/xorg/Xorg                            4MiB |\n",
            "+---------------------------------------------------------------------------------------+\n"
          ]
        }
      ],
      "source": [
        "gpu_info = !nvidia-smi\n",
        "gpu_info = '\\n'.join(gpu_info)\n",
        "if gpu_info.find('failed') >= 0:\n",
        "  print('Not connected to a GPU')\n",
        "else:\n",
        "  print(gpu_info)"
      ]
    },
    {
      "cell_type": "markdown",
      "metadata": {
        "id": "e335hPmdtASZ"
      },
      "source": [
        "Before we start, let's install `datasets` and `transformers`. Also, we need the `torchaudio` to load audio files and `jiwer` to evaluate our fine-tuned model using the [word error rate (WER)](https://huggingface.co/metrics/wer) metric ${}^1$."
      ]
    },
    {
      "cell_type": "code",
      "execution_count": null,
      "metadata": {
        "id": "c8eh87Hoee5d"
      },
      "outputs": [],
      "source": [
        "%%capture\n",
        "!pip install datasets==1.18.3\n",
        "!pip install transformers==4.11.3\n",
        "!pip install torchaudio==0.10.0+cu113 -f https://download.pytorch.org/whl/cu113/torch_stable.html\n",
        "!pip install jiwer"
      ]
    },
    {
      "cell_type": "markdown",
      "metadata": {
        "id": "0xxt_LwxDQlO"
      },
      "source": [
        "We strongly suggest to upload your training checkpoints directly to the [🤗 Hub](https://huggingface.co/) while training. The [🤗 Hub](https://huggingface.co/) has integrated version control so you can be sure that no model checkpoint is getting lost during training.\n",
        "\n",
        "To do so you have to store your authentication token from the Hugging Face website (sign up [here](https://huggingface.co/join) if you haven't already!)"
      ]
    },
    {
      "cell_type": "code",
      "execution_count": null,
      "metadata": {
        "colab": {
          "base_uri": "https://localhost:8080/",
          "height": 239,
          "referenced_widgets": [
            "b896566369e3403091e357af18648740",
            "26bf8a70fe5449a99ca1b06430b2fc8f",
            "dd5d9b3f70ee4a0dabe18e87ab38145c",
            "2d4eb3e5acc348948299c506db83ca90",
            "384228b409cb4bb0bbd77ef259b9a568",
            "0c01a04a8a924740af301c5c53a51315",
            "15f8964842df434ca0dee00d7dc1bd9a",
            "49f98244a8634be9b2305bb87731e765",
            "a28d3e82e04646b79c89f93cf40ee596",
            "4c3e043e600641538a479df6ad389784",
            "d11d94912b26401a860c80eba767907a",
            "6dd7aa6b17b34d18ba46d834ffd559bc",
            "4bf1f9d3031e4877aa6ef704e9a227d7",
            "bfb6a1e47f6e4f74af4db7e71227ef3e",
            "8541f8f949ea49b7a1335aaf31ca4f81",
            "c237b5686d3e48aeb226c87aa703f63d"
          ]
        },
        "id": "mlMSH3T3EazV",
        "outputId": "cecdacd4-9e12-4878-d5ae-fd2eeeb7d355"
      },
      "outputs": [
        {
          "data": {
            "application/vnd.jupyter.widget-view+json": {
              "model_id": "b896566369e3403091e357af18648740",
              "version_major": 2,
              "version_minor": 0
            },
            "text/plain": [
              "VBox(children=(HTML(value=\"<center>\\n<img src=https://huggingface.co/front/assets/huggingface_logo-noborder.sv…"
            ]
          },
          "metadata": {},
          "output_type": "display_data"
        }
      ],
      "source": [
        "from huggingface_hub import notebook_login\n",
        "\n",
        "notebook_login()"
      ]
    },
    {
      "cell_type": "markdown",
      "metadata": {
        "id": "ujdZ2TxhElk6"
      },
      "source": [
        "\n",
        "Then you need to install Git-LFS to upload your model checkpoints:"
      ]
    },
    {
      "cell_type": "code",
      "execution_count": null,
      "metadata": {
        "id": "WcR-d83OEkqb"
      },
      "outputs": [],
      "source": [
        "%%capture\n",
        "!apt install git-lfs"
      ]
    },
    {
      "cell_type": "markdown",
      "metadata": {
        "id": "Mn9swf6EQ9Vd"
      },
      "source": [
        "\n",
        "\n",
        "\n",
        "---\n",
        "\n",
        "${}^1$ In the [paper](https://arxiv.org/pdf/2006.13979.pdf), the model was evaluated using the phoneme error rate (PER), but by far the most common metric in ASR is the word error rate (WER). To keep this notebook as general as possible we decided to evaluate the model using WER."
      ]
    },
    {
      "cell_type": "markdown",
      "metadata": {
        "id": "0mW-C1Nt-j7k"
      },
      "source": [
        "## Prepare Data, Tokenizer, Feature Extractor"
      ]
    },
    {
      "cell_type": "markdown",
      "metadata": {
        "id": "BeBosnY9BH3e"
      },
      "source": [
        "ASR models transcribe speech to text, which means that we both need a feature extractor that processes the speech signal to the model's input format, *e.g.* a feature vector, and a tokenizer that processes the model's output format to text.\n",
        "\n",
        "In 🤗 Transformers, the XLS-R model is thus accompanied by both a tokenizer, called [Wav2Vec2CTCTokenizer](https://huggingface.co/transformers/master/model_doc/wav2vec2.html#wav2vec2ctctokenizer), and a feature extractor, called [Wav2Vec2FeatureExtractor](https://huggingface.co/transformers/master/model_doc/wav2vec2.html#wav2vec2featureextractor).\n",
        "\n",
        "Let's start by creating the tokenizer to decode the predicted output classes to the output transcription."
      ]
    },
    {
      "cell_type": "markdown",
      "metadata": {
        "id": "sEXEWEJGQPqD"
      },
      "source": [
        "### Create `Wav2Vec2CTCTokenizer`"
      ]
    },
    {
      "cell_type": "markdown",
      "metadata": {
        "id": "tWmMikuNEKl_"
      },
      "source": [
        "A pre-trained XLS-R model maps the speech signal to a sequence of context representations as illustrated in the figure above. However, for speech recognition the model has to to map this sequence of context representations to its corresponding transcription which means that a linear layer has to be added on top of the transformer block (shown in yellow in the diagram above). This linear layer is used to classifies each context representation to a token class analogous how, *e.g.*, after pretraining a linear layer is added on top of BERT's embeddings for further classification - *cf.* with *'BERT'* section of this [blog post](https://huggingface.co/blog/warm-starting-encoder-decoder)."
      ]
    },
    {
      "cell_type": "markdown",
      "metadata": {
        "id": "v5oRE8XjIUH3"
      },
      "source": [
        "The output size of this layer corresponds to the number of tokens in the vocabulary, which does **not** depend onXLS-R's pretraining task, but only on the labeled dataset used for fine-tuning. So in the first step, we will take a look at the chosen dataset of Common Voice and define a vocabulary based on the transcriptions."
      ]
    },
    {
      "cell_type": "markdown",
      "metadata": {
        "id": "idBczw8mWzgt"
      },
      "source": [
        "First, let's go to Common Voice [official website](https://commonvoice.mozilla.org/en/datasets) and pick a language to fine-tune XLS-R on. For this notebook, we will use Turkish.\n",
        "\n",
        "For each language-specific dataset, you can find a language code corresponding to your chosen language. On [Common Voice](https://commonvoice.mozilla.org/en/datasets), look for the field \"Version\". The language code then corresponds to the prefix before the underscore. For Turkish, *e.g.* the language code is `\"tr\"`.\n",
        "\n",
        "Great, now we can use 🤗 Datasets' simple API to download the data. The dataset name is `\"common_voice\"`, the configuration name corresponds to the language code, which is `\"tr\"` in our case."
      ]
    },
    {
      "cell_type": "markdown",
      "metadata": {
        "id": "bee4g9rpLxll"
      },
      "source": [
        "Common Voice has many different splits including `invalidated`, which refers to data that was not rated as \"clean enough\" to be considered useful. In this notebook, we will only make use of the splits `\"train\"`, `\"validation\"` and `\"test\"`.\n",
        "\n",
        "Because the Turkish dataset is so small, we will merge both the validation and training data into a training dataset and only use the test data for validation."
      ]
    },
    {
      "cell_type": "code",
      "execution_count": 2,
      "metadata": {},
      "outputs": [],
      "source": [
        "import os\n",
        "hfhome_dir=os.path.join(os.sep, 'DATA10T', 'Cache')\n",
        "#os.environ['TRANSFORMERS_CACHE'] = hfhome_dir\n",
        "os.environ['HF_HOME'] = hfhome_dir\n",
        "#os.environ['HF_HUB_CACHE'] = os.path.join(hfhome_dir, 'hub')\n",
        "os.environ['HF_DATASETS_CACHE'] = hfhome_dir\n",
        "#HF_HUB_OFFLINE=1\n",
        "mycache_dir = hfhome_dir"
      ]
    },
    {
      "cell_type": "code",
      "execution_count": 3,
      "metadata": {},
      "outputs": [
        {
          "name": "stderr",
          "output_type": "stream",
          "text": [
            "<frozen importlib._bootstrap>:241: RuntimeWarning: pyarrow._fs.FileInfo size changed, may indicate binary incompatibility. Expected 64 from C header, got 88 from PyObject\n",
            "<frozen importlib._bootstrap>:241: RuntimeWarning: pyarrow._fs.FileSelector size changed, may indicate binary incompatibility. Expected 48 from C header, got 72 from PyObject\n",
            "/home/lkk/miniconda3/envs/mycondapy310/lib/python3.10/site-packages/datasets/load.py:1429: FutureWarning: The repository for mozilla-foundation/common_voice_11_0 contains custom code which must be executed to correctly load the dataset. You can inspect the repository content at https://hf.co/datasets/mozilla-foundation/common_voice_11_0\n",
            "You can avoid this message in future by passing the argument `trust_remote_code=True`.\n",
            "Passing `trust_remote_code=True` will be mandatory to load this dataset from the next major release of `datasets`.\n",
            "  warnings.warn(\n",
            "/home/lkk/miniconda3/envs/mycondapy310/lib/python3.10/site-packages/datasets/load.py:1429: FutureWarning: The repository for mozilla-foundation/common_voice_11_0 contains custom code which must be executed to correctly load the dataset. You can inspect the repository content at https://hf.co/datasets/mozilla-foundation/common_voice_11_0\n",
            "You can avoid this message in future by passing the argument `trust_remote_code=True`.\n",
            "Passing `trust_remote_code=True` will be mandatory to load this dataset from the next major release of `datasets`.\n",
            "  warnings.warn(\n"
          ]
        }
      ],
      "source": [
        "from datasets import load_dataset, load_metric, Audio\n",
        "dataset_name = \"mozilla-foundation/common_voice_11_0\"\n",
        "Test_SAMPLES = 200\n",
        "Train_SAMPLES=10000\n",
        "train_dataset = load_dataset(dataset_name, \"en\", split=f\"train[:{Train_SAMPLES}]\", cache_dir=mycache_dir)\n",
        "test_dataset = load_dataset(dataset_name, \"en\", split=f\"test[:{Test_SAMPLES}]\", cache_dir=mycache_dir)"
      ]
    },
    {
      "cell_type": "code",
      "execution_count": 4,
      "metadata": {},
      "outputs": [
        {
          "name": "stderr",
          "output_type": "stream",
          "text": [
            "Some weights of the model checkpoint at jonatasgrosman/wav2vec2-large-xlsr-53-english were not used when initializing Wav2Vec2ForCTC: ['wav2vec2.encoder.pos_conv_embed.conv.weight_v', 'wav2vec2.encoder.pos_conv_embed.conv.weight_g']\n",
            "- This IS expected if you are initializing Wav2Vec2ForCTC from the checkpoint of a model trained on another task or with another architecture (e.g. initializing a BertForSequenceClassification model from a BertForPreTraining model).\n",
            "- This IS NOT expected if you are initializing Wav2Vec2ForCTC from the checkpoint of a model that you expect to be exactly identical (initializing a BertForSequenceClassification model from a BertForSequenceClassification model).\n",
            "Some weights of Wav2Vec2ForCTC were not initialized from the model checkpoint at jonatasgrosman/wav2vec2-large-xlsr-53-english and are newly initialized: ['wav2vec2.encoder.pos_conv_embed.conv.parametrizations.weight.original1', 'wav2vec2.encoder.pos_conv_embed.conv.parametrizations.weight.original0']\n",
            "You should probably TRAIN this model on a down-stream task to be able to use it for predictions and inference.\n"
          ]
        }
      ],
      "source": [
        "import torch\n",
        "import librosa\n",
        "from datasets import load_dataset\n",
        "from transformers import Wav2Vec2ForCTC, Wav2Vec2Processor\n",
        "\n",
        "LANG_ID = \"en\"\n",
        "MODEL_ID = \"jonatasgrosman/wav2vec2-large-xlsr-53-english\" #https://huggingface.co/jonatasgrosman/wav2vec2-large-xlsr-53-english\n",
        "processor = Wav2Vec2Processor.from_pretrained(MODEL_ID, cache_dir=mycache_dir)\n",
        "model = Wav2Vec2ForCTC.from_pretrained(MODEL_ID, cache_dir=mycache_dir)"
      ]
    },
    {
      "cell_type": "code",
      "execution_count": 5,
      "metadata": {},
      "outputs": [
        {
          "data": {
            "text/plain": [
              "Dataset({\n",
              "    features: ['client_id', 'path', 'audio', 'sentence', 'up_votes', 'down_votes', 'age', 'gender', 'accent', 'locale', 'segment'],\n",
              "    num_rows: 200\n",
              "})"
            ]
          },
          "execution_count": 5,
          "metadata": {},
          "output_type": "execute_result"
        }
      ],
      "source": [
        "test_dataset"
      ]
    },
    {
      "cell_type": "code",
      "execution_count": 6,
      "metadata": {},
      "outputs": [
        {
          "data": {
            "text/plain": [
              "[{'path': '/DATA10T/Cache/downloads/extracted/ba5c265b423696aeece652c80df565d72d9f7c1cc9b807e127f44f989150f409/en_test_0/common_voice_en_27710027.mp3',\n",
              "  'array': array([-7.95807864e-13, -1.59161573e-12, -6.25277607e-12, ...,\n",
              "          1.52416442e-06,  1.94649760e-06,  1.25737506e-06]),\n",
              "  'sampling_rate': 48000},\n",
              " {'path': '/DATA10T/Cache/downloads/extracted/ba5c265b423696aeece652c80df565d72d9f7c1cc9b807e127f44f989150f409/en_test_0/common_voice_en_699711.mp3',\n",
              "  'array': array([ 0.00000000e+00, -7.05920511e-14, -5.47149741e-14, ...,\n",
              "         -8.53668247e-09,  2.06165751e-09,  1.62003939e-08]),\n",
              "  'sampling_rate': 48000},\n",
              " {'path': '/DATA10T/Cache/downloads/extracted/ba5c265b423696aeece652c80df565d72d9f7c1cc9b807e127f44f989150f409/en_test_0/common_voice_en_21953345.mp3',\n",
              "  'array': array([ 0.00000000e+00,  0.00000000e+00,  0.00000000e+00, ...,\n",
              "          4.44706211e-06,  1.88029878e-06, -5.69346810e-08]),\n",
              "  'sampling_rate': 48000},\n",
              " {'path': '/DATA10T/Cache/downloads/extracted/ba5c265b423696aeece652c80df565d72d9f7c1cc9b807e127f44f989150f409/en_test_0/common_voice_en_18132047.mp3',\n",
              "  'array': array([ 0.00000000e+00, -8.81545068e-14,  8.29455726e-14, ...,\n",
              "         -1.69993072e-07, -1.69268290e-07, -1.58188001e-07]),\n",
              "  'sampling_rate': 48000},\n",
              " {'path': '/DATA10T/Cache/downloads/extracted/ba5c265b423696aeece652c80df565d72d9f7c1cc9b807e127f44f989150f409/en_test_0/common_voice_en_27340672.mp3',\n",
              "  'array': array([ 1.70530257e-13,  2.89901436e-12,  2.61479727e-12, ...,\n",
              "         -4.97878500e-05, -6.20688006e-05, -3.78657860e-05]),\n",
              "  'sampling_rate': 48000},\n",
              " {'path': '/DATA10T/Cache/downloads/extracted/ba5c265b423696aeece652c80df565d72d9f7c1cc9b807e127f44f989150f409/en_test_0/common_voice_en_30533383.mp3',\n",
              "  'array': array([0., 0., 0., ..., 0., 0., 0.]),\n",
              "  'sampling_rate': 48000},\n",
              " {'path': '/DATA10T/Cache/downloads/extracted/ba5c265b423696aeece652c80df565d72d9f7c1cc9b807e127f44f989150f409/en_test_0/common_voice_en_17263741.mp3',\n",
              "  'array': array([ 0.00000000e+00,  0.00000000e+00,  0.00000000e+00, ...,\n",
              "          1.54652230e-06,  3.36470293e-07, -5.12976158e-07]),\n",
              "  'sampling_rate': 48000},\n",
              " {'path': '/DATA10T/Cache/downloads/extracted/ba5c265b423696aeece652c80df565d72d9f7c1cc9b807e127f44f989150f409/en_test_0/common_voice_en_17893917.mp3',\n",
              "  'array': array([ 0.00000000e+00, -1.98919271e-15,  4.96847080e-16, ...,\n",
              "          2.95693894e-06, -5.95047868e-06, -1.47020546e-05]),\n",
              "  'sampling_rate': 48000},\n",
              " {'path': '/DATA10T/Cache/downloads/extracted/ba5c265b423696aeece652c80df565d72d9f7c1cc9b807e127f44f989150f409/en_test_0/common_voice_en_17561821.mp3',\n",
              "  'array': array([0.00000000e+00, 0.00000000e+00, 0.00000000e+00, ...,\n",
              "         1.66726761e-06, 1.84703367e-06, 1.70227156e-06]),\n",
              "  'sampling_rate': 48000},\n",
              " {'path': '/DATA10T/Cache/downloads/extracted/ba5c265b423696aeece652c80df565d72d9f7c1cc9b807e127f44f989150f409/en_test_0/common_voice_en_59751.mp3',\n",
              "  'array': array([ 0.00000000e+00,  1.23710644e-16,  2.71943739e-16, ...,\n",
              "         -2.47510434e-06, -2.09052519e-06,  1.34417334e-07]),\n",
              "  'sampling_rate': 48000},\n",
              " {'path': '/DATA10T/Cache/downloads/extracted/ba5c265b423696aeece652c80df565d72d9f7c1cc9b807e127f44f989150f409/en_test_0/common_voice_en_17914141.mp3',\n",
              "  'array': array([ 0.00000000e+00, -2.67909609e-14,  7.52535919e-14, ...,\n",
              "         -6.20182755e-06, -9.22448817e-06, -2.40181225e-06]),\n",
              "  'sampling_rate': 48000},\n",
              " {'path': '/DATA10T/Cache/downloads/extracted/ba5c265b423696aeece652c80df565d72d9f7c1cc9b807e127f44f989150f409/en_test_0/common_voice_en_18064497.mp3',\n",
              "  'array': array([ 0.00000000e+00, -1.23756670e-15, -1.13704930e-15, ...,\n",
              "         -1.78553271e-13,  3.73532992e-14,  1.50724146e-13]),\n",
              "  'sampling_rate': 48000},\n",
              " {'path': '/DATA10T/Cache/downloads/extracted/ba5c265b423696aeece652c80df565d72d9f7c1cc9b807e127f44f989150f409/en_test_0/common_voice_en_18902772.mp3',\n",
              "  'array': array([ 0.00000000e+00, -2.34016528e-13, -3.75949055e-13, ...,\n",
              "          0.00000000e+00,  0.00000000e+00,  0.00000000e+00]),\n",
              "  'sampling_rate': 48000},\n",
              " {'path': '/DATA10T/Cache/downloads/extracted/ba5c265b423696aeece652c80df565d72d9f7c1cc9b807e127f44f989150f409/en_test_0/common_voice_en_30735068.mp3',\n",
              "  'array': array([ 0.00000000e+00,  1.63424829e-13,  1.70530257e-13, ...,\n",
              "         -1.69450359e-05, -1.12969428e-05, -4.24672908e-06]),\n",
              "  'sampling_rate': 48000},\n",
              " {'path': '/DATA10T/Cache/downloads/extracted/ba5c265b423696aeece652c80df565d72d9f7c1cc9b807e127f44f989150f409/en_test_0/common_voice_en_33532190.mp3',\n",
              "  'array': array([ 0.00000000e+00, -5.45696821e-12, -6.59383659e-12, ...,\n",
              "          1.90984974e-05,  1.03788825e-05,  9.44822023e-06]),\n",
              "  'sampling_rate': 48000},\n",
              " {'path': '/DATA10T/Cache/downloads/extracted/ba5c265b423696aeece652c80df565d72d9f7c1cc9b807e127f44f989150f409/en_test_0/common_voice_en_18295850.mp3',\n",
              "  'array': array([ 0.00000000e+00, -1.60925858e-14, -1.35344938e-15, ...,\n",
              "         -1.32064888e-04,  8.37206680e-05,  1.45013255e-05]),\n",
              "  'sampling_rate': 48000},\n",
              " {'path': '/DATA10T/Cache/downloads/extracted/ba5c265b423696aeece652c80df565d72d9f7c1cc9b807e127f44f989150f409/en_test_0/common_voice_en_665631.mp3',\n",
              "  'array': array([ 0.00000000e+00, -9.38605849e-15, -1.95430847e-14, ...,\n",
              "         -9.33998194e-08, -4.74903317e-08, -4.69614179e-08]),\n",
              "  'sampling_rate': 48000},\n",
              " {'path': '/DATA10T/Cache/downloads/extracted/ba5c265b423696aeece652c80df565d72d9f7c1cc9b807e127f44f989150f409/en_test_0/common_voice_en_32958651.mp3',\n",
              "  'array': array([-1.13686838e-12,  1.93267624e-12,  5.45696821e-12, ...,\n",
              "         -1.98522466e-05, -2.73250207e-05, -1.78225200e-05]),\n",
              "  'sampling_rate': 48000},\n",
              " {'path': '/DATA10T/Cache/downloads/extracted/ba5c265b423696aeece652c80df565d72d9f7c1cc9b807e127f44f989150f409/en_test_0/common_voice_en_32371106.mp3',\n",
              "  'array': array([-3.55271368e-15, -3.55271368e-15, -3.64153152e-14, ...,\n",
              "          1.11301142e-06,  8.88800969e-07,  4.89729246e-07]),\n",
              "  'sampling_rate': 48000},\n",
              " {'path': '/DATA10T/Cache/downloads/extracted/ba5c265b423696aeece652c80df565d72d9f7c1cc9b807e127f44f989150f409/en_test_0/common_voice_en_18297811.mp3',\n",
              "  'array': array([ 0.00000000e+00, -4.42889345e-15, -3.93709554e-15, ...,\n",
              "          0.00000000e+00,  0.00000000e+00,  0.00000000e+00]),\n",
              "  'sampling_rate': 48000},\n",
              " {'path': '/DATA10T/Cache/downloads/extracted/ba5c265b423696aeece652c80df565d72d9f7c1cc9b807e127f44f989150f409/en_test_0/common_voice_en_32643242.mp3',\n",
              "  'array': array([-1.73707929e-23,  2.56425990e-23, -1.69572026e-23, ...,\n",
              "          7.71652253e-08,  1.01633475e-06,  8.47302999e-07]),\n",
              "  'sampling_rate': 48000},\n",
              " {'path': '/DATA10T/Cache/downloads/extracted/ba5c265b423696aeece652c80df565d72d9f7c1cc9b807e127f44f989150f409/en_test_0/common_voice_en_456493.mp3',\n",
              "  'array': array([ 0.00000000e+00,  1.45164337e-14, -1.42604417e-14, ...,\n",
              "         -5.51653238e-06,  5.29890394e-06,  1.12383323e-05]),\n",
              "  'sampling_rate': 48000},\n",
              " {'path': '/DATA10T/Cache/downloads/extracted/ba5c265b423696aeece652c80df565d72d9f7c1cc9b807e127f44f989150f409/en_test_0/common_voice_en_18179121.mp3',\n",
              "  'array': array([ 0.00000000e+00,  2.97441352e-13,  2.83595304e-13, ...,\n",
              "          1.89433604e-06,  9.52209916e-07, -3.88014485e-07]),\n",
              "  'sampling_rate': 48000},\n",
              " {'path': '/DATA10T/Cache/downloads/extracted/ba5c265b423696aeece652c80df565d72d9f7c1cc9b807e127f44f989150f409/en_test_0/common_voice_en_496376.mp3',\n",
              "  'array': array([0., 0., 0., ..., 0., 0., 0.]),\n",
              "  'sampling_rate': 48000},\n",
              " {'path': '/DATA10T/Cache/downloads/extracted/ba5c265b423696aeece652c80df565d72d9f7c1cc9b807e127f44f989150f409/en_test_0/common_voice_en_32542964.mp3',\n",
              "  'array': array([-8.52651283e-14,  4.83169060e-13,  7.67386155e-13, ...,\n",
              "         -3.47910913e-07, -1.56945148e-07,  2.79248695e-08]),\n",
              "  'sampling_rate': 48000},\n",
              " {'path': '/DATA10T/Cache/downloads/extracted/ba5c265b423696aeece652c80df565d72d9f7c1cc9b807e127f44f989150f409/en_test_0/common_voice_en_23730890.mp3',\n",
              "  'array': array([ 0.00000000e+00, -5.19233745e-13, -3.00217587e-13, ...,\n",
              "         -4.92616709e-05, -9.45587308e-05, -1.00619909e-04]),\n",
              "  'sampling_rate': 48000},\n",
              " {'path': '/DATA10T/Cache/downloads/extracted/ba5c265b423696aeece652c80df565d72d9f7c1cc9b807e127f44f989150f409/en_test_0/common_voice_en_18274681.mp3',\n",
              "  'array': array([0.00000000e+00, 0.00000000e+00, 0.00000000e+00, ...,\n",
              "         2.51492178e-11, 1.75540884e-11, 8.67312559e-12]),\n",
              "  'sampling_rate': 48000},\n",
              " {'path': '/DATA10T/Cache/downloads/extracted/ba5c265b423696aeece652c80df565d72d9f7c1cc9b807e127f44f989150f409/en_test_0/common_voice_en_32548361.mp3',\n",
              "  'array': array([ 2.55795385e-13,  1.81898940e-12, -1.08002496e-12, ...,\n",
              "          1.22447509e-05,  1.06392545e-05,  7.47304102e-06]),\n",
              "  'sampling_rate': 48000},\n",
              " {'path': '/DATA10T/Cache/downloads/extracted/ba5c265b423696aeece652c80df565d72d9f7c1cc9b807e127f44f989150f409/en_test_0/common_voice_en_20141506.mp3',\n",
              "  'array': array([0.00000000e+00, 0.00000000e+00, 0.00000000e+00, ...,\n",
              "         6.08553069e-11, 6.68407760e-11, 5.88966931e-11]),\n",
              "  'sampling_rate': 48000},\n",
              " {'path': '/DATA10T/Cache/downloads/extracted/ba5c265b423696aeece652c80df565d72d9f7c1cc9b807e127f44f989150f409/en_test_0/common_voice_en_32830092.mp3',\n",
              "  'array': array([-6.21724894e-15, -6.83897383e-14, -9.05941988e-14, ...,\n",
              "          2.08166817e-17, -2.77555756e-17, -6.93889390e-18]),\n",
              "  'sampling_rate': 48000},\n",
              " {'path': '/DATA10T/Cache/downloads/extracted/ba5c265b423696aeece652c80df565d72d9f7c1cc9b807e127f44f989150f409/en_test_0/common_voice_en_572372.mp3',\n",
              "  'array': array([ 0.00000000e+00, -8.31876072e-14, -1.87723724e-13, ...,\n",
              "          0.00000000e+00,  0.00000000e+00,  0.00000000e+00]),\n",
              "  'sampling_rate': 48000},\n",
              " {'path': '/DATA10T/Cache/downloads/extracted/ba5c265b423696aeece652c80df565d72d9f7c1cc9b807e127f44f989150f409/en_test_0/common_voice_en_32642818.mp3',\n",
              "  'array': array([ 7.10542736e-15, -5.68434189e-14, -1.24344979e-13, ...,\n",
              "          5.44049271e-06,  6.44475313e-06,  1.74257730e-06]),\n",
              "  'sampling_rate': 48000},\n",
              " {'path': '/DATA10T/Cache/downloads/extracted/ba5c265b423696aeece652c80df565d72d9f7c1cc9b807e127f44f989150f409/en_test_0/common_voice_en_19595713.mp3',\n",
              "  'array': array([ 0.00000000e+00, -2.76441738e-13, -1.12082815e-13, ...,\n",
              "          1.68826503e-07,  1.98465585e-07,  2.47636081e-07]),\n",
              "  'sampling_rate': 48000},\n",
              " {'path': '/DATA10T/Cache/downloads/extracted/ba5c265b423696aeece652c80df565d72d9f7c1cc9b807e127f44f989150f409/en_test_0/common_voice_en_20888935.mp3',\n",
              "  'array': array([ 0.00000000e+00, -3.47563707e-14, -2.01189027e-14, ...,\n",
              "         -7.25068844e-07,  3.48187911e-07,  1.13206772e-06]),\n",
              "  'sampling_rate': 48000},\n",
              " {'path': '/DATA10T/Cache/downloads/extracted/ba5c265b423696aeece652c80df565d72d9f7c1cc9b807e127f44f989150f409/en_test_0/common_voice_en_18125649.mp3',\n",
              "  'array': array([ 0.00000000e+00,  1.13785655e-16,  3.12017821e-18, ...,\n",
              "         -1.19355009e-05, -3.66172048e-06, -3.44357295e-06]),\n",
              "  'sampling_rate': 48000},\n",
              " {'path': '/DATA10T/Cache/downloads/extracted/ba5c265b423696aeece652c80df565d72d9f7c1cc9b807e127f44f989150f409/en_test_0/common_voice_en_346569.mp3',\n",
              "  'array': array([ 0.00000000e+00, -1.10477193e-13, -4.10893751e-14, ...,\n",
              "          1.11196941e-05,  9.95956543e-06, -1.25815595e-05]),\n",
              "  'sampling_rate': 48000},\n",
              " {'path': '/DATA10T/Cache/downloads/extracted/ba5c265b423696aeece652c80df565d72d9f7c1cc9b807e127f44f989150f409/en_test_0/common_voice_en_15016096.mp3',\n",
              "  'array': array([ 0.00000000e+00,  7.73363578e-14,  1.25461883e-13, ...,\n",
              "         -7.84561053e-07, -9.18328283e-07,  2.69061672e-07]),\n",
              "  'sampling_rate': 48000},\n",
              " {'path': '/DATA10T/Cache/downloads/extracted/ba5c265b423696aeece652c80df565d72d9f7c1cc9b807e127f44f989150f409/en_test_0/common_voice_en_30136178.mp3',\n",
              "  'array': array([-1.56319402e-13, -4.12114787e-13, -1.56319402e-13, ...,\n",
              "          1.91966524e-06,  8.49775347e-07,  6.39494431e-08]),\n",
              "  'sampling_rate': 48000},\n",
              " {'path': '/DATA10T/Cache/downloads/extracted/ba5c265b423696aeece652c80df565d72d9f7c1cc9b807e127f44f989150f409/en_test_0/common_voice_en_19706560.mp3',\n",
              "  'array': array([ 0.00000000e+00, -1.00559968e-13,  6.35480113e-13, ...,\n",
              "         -4.80845338e-05, -2.48175093e-05,  3.00512493e-05]),\n",
              "  'sampling_rate': 48000},\n",
              " {'path': '/DATA10T/Cache/downloads/extracted/ba5c265b423696aeece652c80df565d72d9f7c1cc9b807e127f44f989150f409/en_test_0/common_voice_en_1885769.mp3',\n",
              "  'array': array([ 0.00000000e+00,  0.00000000e+00,  0.00000000e+00, ...,\n",
              "         -1.21885975e-07, -1.10426797e-07, -1.01997628e-07]),\n",
              "  'sampling_rate': 48000},\n",
              " {'path': '/DATA10T/Cache/downloads/extracted/ba5c265b423696aeece652c80df565d72d9f7c1cc9b807e127f44f989150f409/en_test_0/common_voice_en_32029891.mp3',\n",
              "  'array': array([-8.27180613e-25,  7.44462551e-24, -5.95570041e-23, ...,\n",
              "         -1.69348095e-06,  1.40851753e-05,  1.16830906e-05]),\n",
              "  'sampling_rate': 48000},\n",
              " {'path': '/DATA10T/Cache/downloads/extracted/ba5c265b423696aeece652c80df565d72d9f7c1cc9b807e127f44f989150f409/en_test_0/common_voice_en_20308606.mp3',\n",
              "  'array': array([ 0.00000000e+00, -6.28985389e-14, -5.24277650e-14, ...,\n",
              "         -1.32833790e-07, -9.81121175e-08, -8.21490005e-08]),\n",
              "  'sampling_rate': 48000},\n",
              " {'path': '/DATA10T/Cache/downloads/extracted/ba5c265b423696aeece652c80df565d72d9f7c1cc9b807e127f44f989150f409/en_test_0/common_voice_en_18891931.mp3',\n",
              "  'array': array([0., 0., 0., ..., 0., 0., 0.]),\n",
              "  'sampling_rate': 48000},\n",
              " {'path': '/DATA10T/Cache/downloads/extracted/ba5c265b423696aeece652c80df565d72d9f7c1cc9b807e127f44f989150f409/en_test_0/common_voice_en_32703291.mp3',\n",
              "  'array': array([ 0.00000000e+00,  2.48689958e-14,  0.00000000e+00, ...,\n",
              "         -1.36442395e-08, -2.15495675e-08, -1.40844350e-08]),\n",
              "  'sampling_rate': 48000},\n",
              " {'path': '/DATA10T/Cache/downloads/extracted/ba5c265b423696aeece652c80df565d72d9f7c1cc9b807e127f44f989150f409/en_test_0/common_voice_en_15735183.mp3',\n",
              "  'array': array([ 0.00000000e+00, -2.74631324e-14, -9.81692212e-14, ...,\n",
              "         -3.03378329e-07,  9.27499059e-06,  3.05300418e-05]),\n",
              "  'sampling_rate': 48000},\n",
              " {'path': '/DATA10T/Cache/downloads/extracted/ba5c265b423696aeece652c80df565d72d9f7c1cc9b807e127f44f989150f409/en_test_0/common_voice_en_12677.mp3',\n",
              "  'array': array([ 0.00000000e+00,  0.00000000e+00,  0.00000000e+00, ...,\n",
              "          1.96452602e-05, -1.20180688e-04,  3.02074477e-06]),\n",
              "  'sampling_rate': 48000},\n",
              " {'path': '/DATA10T/Cache/downloads/extracted/ba5c265b423696aeece652c80df565d72d9f7c1cc9b807e127f44f989150f409/en_test_0/common_voice_en_19909115.mp3',\n",
              "  'array': array([ 0.00000000e+00, -2.81239629e-15, -7.17510090e-15, ...,\n",
              "         -1.54903660e-07, -1.99639018e-07, -4.42587229e-08]),\n",
              "  'sampling_rate': 48000},\n",
              " {'path': '/DATA10T/Cache/downloads/extracted/ba5c265b423696aeece652c80df565d72d9f7c1cc9b807e127f44f989150f409/en_test_0/common_voice_en_21687614.mp3',\n",
              "  'array': array([0.00000000e+00, 4.37328193e-16, 5.41758419e-15, ...,\n",
              "         1.28444447e-06, 4.94945471e-06, 5.90786885e-06]),\n",
              "  'sampling_rate': 48000},\n",
              " {'path': '/DATA10T/Cache/downloads/extracted/ba5c265b423696aeece652c80df565d72d9f7c1cc9b807e127f44f989150f409/en_test_0/common_voice_en_24988400.mp3',\n",
              "  'array': array([-5.68434189e-13,  3.29691829e-12,  4.14956958e-12, ...,\n",
              "          1.45544254e-05, -4.36112496e-05, -3.01422187e-05]),\n",
              "  'sampling_rate': 48000},\n",
              " {'path': '/DATA10T/Cache/downloads/extracted/ba5c265b423696aeece652c80df565d72d9f7c1cc9b807e127f44f989150f409/en_test_0/common_voice_en_22005778.mp3',\n",
              "  'array': array([ 0.00000000e+00,  0.00000000e+00,  0.00000000e+00, ...,\n",
              "         -2.01668695e-06, -1.47798005e-06, -1.08543770e-06]),\n",
              "  'sampling_rate': 48000},\n",
              " {'path': '/DATA10T/Cache/downloads/extracted/ba5c265b423696aeece652c80df565d72d9f7c1cc9b807e127f44f989150f409/en_test_0/common_voice_en_26452532.mp3',\n",
              "  'array': array([ 2.84217094e-14,  6.60804744e-13,  1.03739239e-12, ...,\n",
              "          1.23440986e-06, -5.67961251e-07, -1.05059007e-06]),\n",
              "  'sampling_rate': 48000},\n",
              " {'path': '/DATA10T/Cache/downloads/extracted/ba5c265b423696aeece652c80df565d72d9f7c1cc9b807e127f44f989150f409/en_test_0/common_voice_en_601141.mp3',\n",
              "  'array': array([ 0.00000000e+00, -2.22343978e-16, -3.78719760e-16, ...,\n",
              "          1.34148377e-05,  1.40726706e-05,  3.31024012e-06]),\n",
              "  'sampling_rate': 48000},\n",
              " {'path': '/DATA10T/Cache/downloads/extracted/ba5c265b423696aeece652c80df565d72d9f7c1cc9b807e127f44f989150f409/en_test_0/common_voice_en_19688238.mp3',\n",
              "  'array': array([ 0.00000000e+00, -1.79350675e-13, -1.34086020e-13, ...,\n",
              "          3.10810174e-06,  1.78007076e-06,  6.23121923e-06]),\n",
              "  'sampling_rate': 48000},\n",
              " {'path': '/DATA10T/Cache/downloads/extracted/ba5c265b423696aeece652c80df565d72d9f7c1cc9b807e127f44f989150f409/en_test_0/common_voice_en_17260286.mp3',\n",
              "  'array': array([0.00000000e+00, 9.70849920e-14, 5.53054374e-14, ...,\n",
              "         1.94089468e-15, 2.19009516e-15, 2.43970116e-15]),\n",
              "  'sampling_rate': 48000},\n",
              " {'path': '/DATA10T/Cache/downloads/extracted/ba5c265b423696aeece652c80df565d72d9f7c1cc9b807e127f44f989150f409/en_test_0/common_voice_en_17941982.mp3',\n",
              "  'array': array([ 0.00000000e+00,  0.00000000e+00,  0.00000000e+00, ...,\n",
              "         -1.00912839e-05, -8.37233165e-06, -4.08446067e-06]),\n",
              "  'sampling_rate': 48000},\n",
              " {'path': '/DATA10T/Cache/downloads/extracted/ba5c265b423696aeece652c80df565d72d9f7c1cc9b807e127f44f989150f409/en_test_0/common_voice_en_30601019.mp3',\n",
              "  'array': array([ 0.00000000e+00,  6.82121026e-13,  6.53699317e-13, ...,\n",
              "         -1.71793290e-05, -4.04392340e-05, -3.02312037e-05]),\n",
              "  'sampling_rate': 48000},\n",
              " {'path': '/DATA10T/Cache/downloads/extracted/ba5c265b423696aeece652c80df565d72d9f7c1cc9b807e127f44f989150f409/en_test_0/common_voice_en_24993666.mp3',\n",
              "  'array': array([ 3.55271368e-15, -4.61852778e-14, -7.46069873e-14, ...,\n",
              "          1.91344793e-06,  4.58430577e-07,  6.04691195e-08]),\n",
              "  'sampling_rate': 48000},\n",
              " {'path': '/DATA10T/Cache/downloads/extracted/ba5c265b423696aeece652c80df565d72d9f7c1cc9b807e127f44f989150f409/en_test_0/common_voice_en_32689356.mp3',\n",
              "  'array': array([-1.42108547e-14, -7.95807864e-13, -1.36424205e-12, ...,\n",
              "         -7.54681423e-07, -2.41707969e-08,  3.13946259e-07]),\n",
              "  'sampling_rate': 48000},\n",
              " {'path': '/DATA10T/Cache/downloads/extracted/ba5c265b423696aeece652c80df565d72d9f7c1cc9b807e127f44f989150f409/en_test_0/common_voice_en_20274470.mp3',\n",
              "  'array': array([ 0.00000000e+00, -2.62204300e-15,  5.30996569e-15, ...,\n",
              "         -1.77427501e-06, -3.85840503e-05, -1.36723020e-05]),\n",
              "  'sampling_rate': 48000},\n",
              " {'path': '/DATA10T/Cache/downloads/extracted/ba5c265b423696aeece652c80df565d72d9f7c1cc9b807e127f44f989150f409/en_test_0/common_voice_en_18929193.mp3',\n",
              "  'array': array([ 0.00000000e+00, -6.14929233e-15,  1.07671914e-14, ...,\n",
              "         -1.75896457e-06, -7.84307190e-07,  6.91008722e-07]),\n",
              "  'sampling_rate': 48000},\n",
              " {'path': '/DATA10T/Cache/downloads/extracted/ba5c265b423696aeece652c80df565d72d9f7c1cc9b807e127f44f989150f409/en_test_0/common_voice_en_18001366.mp3',\n",
              "  'array': array([ 0.00000000e+00,  8.39769606e-14,  4.03935105e-14, ...,\n",
              "          2.43712429e-06, -1.98643488e-06, -8.38059634e-07]),\n",
              "  'sampling_rate': 48000},\n",
              " {'path': '/DATA10T/Cache/downloads/extracted/ba5c265b423696aeece652c80df565d72d9f7c1cc9b807e127f44f989150f409/en_test_0/common_voice_en_26555335.mp3',\n",
              "  'array': array([ 3.49483809e-23, -1.57164316e-23, -4.13590306e-24, ...,\n",
              "          0.00000000e+00,  0.00000000e+00,  0.00000000e+00]),\n",
              "  'sampling_rate': 48000},\n",
              " {'path': '/DATA10T/Cache/downloads/extracted/ba5c265b423696aeece652c80df565d72d9f7c1cc9b807e127f44f989150f409/en_test_0/common_voice_en_20789189.mp3',\n",
              "  'array': array([ 0.00000000e+00,  0.00000000e+00,  0.00000000e+00, ...,\n",
              "          1.95669185e-04,  1.99177361e-04, -4.67499485e-05]),\n",
              "  'sampling_rate': 48000},\n",
              " {'path': '/DATA10T/Cache/downloads/extracted/ba5c265b423696aeece652c80df565d72d9f7c1cc9b807e127f44f989150f409/en_test_0/common_voice_en_28715410.mp3',\n",
              "  'array': array([ 1.13686838e-13,  3.97903932e-13,  5.82645043e-13, ...,\n",
              "         -3.50124901e-06, -2.96358485e-06, -1.54715963e-06]),\n",
              "  'sampling_rate': 48000},\n",
              " {'path': '/DATA10T/Cache/downloads/extracted/ba5c265b423696aeece652c80df565d72d9f7c1cc9b807e127f44f989150f409/en_test_0/common_voice_en_22338655.mp3',\n",
              "  'array': array([ 0.00000000e+00,  0.00000000e+00,  0.00000000e+00, ...,\n",
              "         -1.64136060e-09, -2.37069742e-09, -3.53460372e-10]),\n",
              "  'sampling_rate': 48000},\n",
              " {'path': '/DATA10T/Cache/downloads/extracted/ba5c265b423696aeece652c80df565d72d9f7c1cc9b807e127f44f989150f409/en_test_0/common_voice_en_193576.mp3',\n",
              "  'array': array([ 0.00000000e+00,  8.97783313e-13,  6.75328500e-13, ...,\n",
              "         -6.27693908e-07, -5.11975315e-07,  1.30801823e-08]),\n",
              "  'sampling_rate': 48000},\n",
              " {'path': '/DATA10T/Cache/downloads/extracted/ba5c265b423696aeece652c80df565d72d9f7c1cc9b807e127f44f989150f409/en_test_0/common_voice_en_635431.mp3',\n",
              "  'array': array([ 0.00000000e+00, -8.02130931e-13,  1.66786900e-13, ...,\n",
              "          0.00000000e+00,  0.00000000e+00,  0.00000000e+00]),\n",
              "  'sampling_rate': 48000},\n",
              " {'path': '/DATA10T/Cache/downloads/extracted/ba5c265b423696aeece652c80df565d72d9f7c1cc9b807e127f44f989150f409/en_test_0/common_voice_en_17961589.mp3',\n",
              "  'array': array([ 0.00000000e+00,  3.07458811e-13, -6.50940890e-14, ...,\n",
              "         -1.14866339e-07,  4.12989777e-07,  1.40171983e-06]),\n",
              "  'sampling_rate': 48000},\n",
              " {'path': '/DATA10T/Cache/downloads/extracted/ba5c265b423696aeece652c80df565d72d9f7c1cc9b807e127f44f989150f409/en_test_0/common_voice_en_26949722.mp3',\n",
              "  'array': array([ 3.97903932e-13,  1.87583282e-12,  2.61479727e-12, ...,\n",
              "         -1.03620187e-05, -1.02573995e-05, -5.14435123e-06]),\n",
              "  'sampling_rate': 48000},\n",
              " {'path': '/DATA10T/Cache/downloads/extracted/ba5c265b423696aeece652c80df565d72d9f7c1cc9b807e127f44f989150f409/en_test_0/common_voice_en_155041.mp3',\n",
              "  'array': array([ 0.00000000e+00,  3.53890365e-16, -2.12911472e-15, ...,\n",
              "         -1.88210816e-08,  4.44874915e-10,  2.56797383e-09]),\n",
              "  'sampling_rate': 48000},\n",
              " {'path': '/DATA10T/Cache/downloads/extracted/ba5c265b423696aeece652c80df565d72d9f7c1cc9b807e127f44f989150f409/en_test_0/common_voice_en_25902308.mp3',\n",
              "  'array': array([ 1.77635684e-15, -2.33146835e-14, -3.59712260e-14, ...,\n",
              "         -2.77555756e-15, -9.99200722e-16,  6.66133815e-16]),\n",
              "  'sampling_rate': 48000},\n",
              " {'path': '/DATA10T/Cache/downloads/extracted/ba5c265b423696aeece652c80df565d72d9f7c1cc9b807e127f44f989150f409/en_test_0/common_voice_en_111075.mp3',\n",
              "  'array': array([0.00000000e+00, 4.73428805e-13, 3.72377883e-13, ...,\n",
              "         1.20562952e-04, 1.04920444e-04, 1.25131090e-04]),\n",
              "  'sampling_rate': 48000},\n",
              " {'path': '/DATA10T/Cache/downloads/extracted/ba5c265b423696aeece652c80df565d72d9f7c1cc9b807e127f44f989150f409/en_test_0/common_voice_en_25512283.mp3',\n",
              "  'array': array([-3.41060513e-13,  7.10542736e-13,  8.66862138e-13, ...,\n",
              "         -6.85924533e-06, -5.67019379e-06, -2.71746103e-06]),\n",
              "  'sampling_rate': 48000},\n",
              " {'path': '/DATA10T/Cache/downloads/extracted/ba5c265b423696aeece652c80df565d72d9f7c1cc9b807e127f44f989150f409/en_test_0/common_voice_en_31615499.mp3',\n",
              "  'array': array([-1.42108547e-14, -1.77635684e-14, -4.79616347e-14, ...,\n",
              "          1.93715987e-05,  1.44773840e-05,  5.63518097e-06]),\n",
              "  'sampling_rate': 48000},\n",
              " {'path': '/DATA10T/Cache/downloads/extracted/ba5c265b423696aeece652c80df565d72d9f7c1cc9b807e127f44f989150f409/en_test_0/common_voice_en_86584.mp3',\n",
              "  'array': array([ 0.00000000e+00, -1.58602176e-14, -1.51988763e-14, ...,\n",
              "          5.35374556e-06,  2.88515002e-06,  3.01583839e-07]),\n",
              "  'sampling_rate': 48000},\n",
              " {'path': '/DATA10T/Cache/downloads/extracted/ba5c265b423696aeece652c80df565d72d9f7c1cc9b807e127f44f989150f409/en_test_0/common_voice_en_19479960.mp3',\n",
              "  'array': array([0.00000000e+00, 8.93768913e-12, 8.28472360e-12, ...,\n",
              "         0.00000000e+00, 0.00000000e+00, 0.00000000e+00]),\n",
              "  'sampling_rate': 48000},\n",
              " {'path': '/DATA10T/Cache/downloads/extracted/ba5c265b423696aeece652c80df565d72d9f7c1cc9b807e127f44f989150f409/en_test_0/common_voice_en_193520.mp3',\n",
              "  'array': array([ 0.00000000e+00,  0.00000000e+00,  0.00000000e+00, ...,\n",
              "          3.49564016e-06,  3.97673375e-06, -1.14770683e-06]),\n",
              "  'sampling_rate': 48000},\n",
              " {'path': '/DATA10T/Cache/downloads/extracted/ba5c265b423696aeece652c80df565d72d9f7c1cc9b807e127f44f989150f409/en_test_0/common_voice_en_32766628.mp3',\n",
              "  'array': array([ 2.95585778e-12, -9.09494702e-13, -7.16227078e-12, ...,\n",
              "          1.62726246e-05,  2.39054261e-05,  1.56986116e-05]),\n",
              "  'sampling_rate': 48000},\n",
              " {'path': '/DATA10T/Cache/downloads/extracted/ba5c265b423696aeece652c80df565d72d9f7c1cc9b807e127f44f989150f409/en_test_0/common_voice_en_18987361.mp3',\n",
              "  'array': array([0.00000000e+00, 0.00000000e+00, 0.00000000e+00, ...,\n",
              "         7.49318406e-06, 7.97489292e-07, 7.18184765e-07]),\n",
              "  'sampling_rate': 48000},\n",
              " {'path': '/DATA10T/Cache/downloads/extracted/ba5c265b423696aeece652c80df565d72d9f7c1cc9b807e127f44f989150f409/en_test_0/common_voice_en_27366699.mp3',\n",
              "  'array': array([ 0.00000000e+00,  0.00000000e+00,  0.00000000e+00, ...,\n",
              "         -1.77369480e-10, -2.61299992e-11,  3.79153757e-11]),\n",
              "  'sampling_rate': 48000},\n",
              " {'path': '/DATA10T/Cache/downloads/extracted/ba5c265b423696aeece652c80df565d72d9f7c1cc9b807e127f44f989150f409/en_test_0/common_voice_en_30699821.mp3',\n",
              "  'array': array([-1.42108547e-14, -7.10542736e-15, -1.98951966e-13, ...,\n",
              "         -6.42731829e-05, -1.22506026e-05,  1.11410700e-05]),\n",
              "  'sampling_rate': 48000},\n",
              " {'path': '/DATA10T/Cache/downloads/extracted/ba5c265b423696aeece652c80df565d72d9f7c1cc9b807e127f44f989150f409/en_test_0/common_voice_en_28819598.mp3',\n",
              "  'array': array([-4.44089210e-16,  5.77315973e-15, -5.77315973e-15, ...,\n",
              "          1.51646527e-05,  2.00652503e-05,  9.92047717e-06]),\n",
              "  'sampling_rate': 48000},\n",
              " {'path': '/DATA10T/Cache/downloads/extracted/ba5c265b423696aeece652c80df565d72d9f7c1cc9b807e127f44f989150f409/en_test_0/common_voice_en_20233685.mp3',\n",
              "  'array': array([ 0.00000000e+00,  7.85638373e-14,  4.21043544e-14, ...,\n",
              "          3.74718252e-06, -1.19090294e-06, -2.24865198e-06]),\n",
              "  'sampling_rate': 48000},\n",
              " {'path': '/DATA10T/Cache/downloads/extracted/ba5c265b423696aeece652c80df565d72d9f7c1cc9b807e127f44f989150f409/en_test_0/common_voice_en_26957325.mp3',\n",
              "  'array': array([-5.68434189e-14, -1.98951966e-13, -1.13686838e-13, ...,\n",
              "          1.24086341e-06,  1.61431603e-06,  1.00610214e-06]),\n",
              "  'sampling_rate': 48000},\n",
              " {'path': '/DATA10T/Cache/downloads/extracted/ba5c265b423696aeece652c80df565d72d9f7c1cc9b807e127f44f989150f409/en_test_0/common_voice_en_33612242.mp3',\n",
              "  'array': array([ 0.00000000e+00,  0.00000000e+00,  0.00000000e+00, ...,\n",
              "          3.13791361e-06,  9.40625853e-07, -1.15996102e-08]),\n",
              "  'sampling_rate': 48000},\n",
              " {'path': '/DATA10T/Cache/downloads/extracted/ba5c265b423696aeece652c80df565d72d9f7c1cc9b807e127f44f989150f409/en_test_0/common_voice_en_18277778.mp3',\n",
              "  'array': array([ 0.00000000e+00, -3.50864303e-13, -3.27746782e-13, ...,\n",
              "          1.05359845e-06,  1.76052481e-06,  1.62645222e-06]),\n",
              "  'sampling_rate': 48000},\n",
              " {'path': '/DATA10T/Cache/downloads/extracted/ba5c265b423696aeece652c80df565d72d9f7c1cc9b807e127f44f989150f409/en_test_0/common_voice_en_24023123.mp3',\n",
              "  'array': array([ 5.08219768e-21,  5.08219768e-21,  6.77626358e-21, ...,\n",
              "         -3.88768967e-06, -5.88256080e-05, -5.37416490e-05]),\n",
              "  'sampling_rate': 48000},\n",
              " {'path': '/DATA10T/Cache/downloads/extracted/ba5c265b423696aeece652c80df565d72d9f7c1cc9b807e127f44f989150f409/en_test_0/common_voice_en_18319767.mp3',\n",
              "  'array': array([0., 0., 0., ..., 0., 0., 0.]),\n",
              "  'sampling_rate': 48000},\n",
              " {'path': '/DATA10T/Cache/downloads/extracted/ba5c265b423696aeece652c80df565d72d9f7c1cc9b807e127f44f989150f409/en_test_0/common_voice_en_17913515.mp3',\n",
              "  'array': array([ 0.00000000e+00,  6.15463338e-17,  2.45008912e-17, ...,\n",
              "         -1.32043169e-06, -1.84183511e-06, -7.45981538e-07]),\n",
              "  'sampling_rate': 48000},\n",
              " {'path': '/DATA10T/Cache/downloads/extracted/ba5c265b423696aeece652c80df565d72d9f7c1cc9b807e127f44f989150f409/en_test_0/common_voice_en_18208645.mp3',\n",
              "  'array': array([ 0.00000000e+00,  1.28558080e-13,  1.94363622e-13, ...,\n",
              "         -1.21228495e-05, -6.06805907e-06, -8.43268663e-06]),\n",
              "  'sampling_rate': 48000},\n",
              " {'path': '/DATA10T/Cache/downloads/extracted/ba5c265b423696aeece652c80df565d72d9f7c1cc9b807e127f44f989150f409/en_test_0/common_voice_en_21943181.mp3',\n",
              "  'array': array([0.00000000e+00, 1.57206767e-13, 2.38753787e-13, ...,\n",
              "         0.00000000e+00, 0.00000000e+00, 0.00000000e+00]),\n",
              "  'sampling_rate': 48000},\n",
              " {'path': '/DATA10T/Cache/downloads/extracted/ba5c265b423696aeece652c80df565d72d9f7c1cc9b807e127f44f989150f409/en_test_0/common_voice_en_34021941.mp3',\n",
              "  'array': array([ 2.84217094e-14, -8.38440428e-13, -1.09423581e-12, ...,\n",
              "          6.76346133e-07, -3.73471721e-07, -5.80468054e-07]),\n",
              "  'sampling_rate': 48000},\n",
              " {'path': '/DATA10T/Cache/downloads/extracted/ba5c265b423696aeece652c80df565d72d9f7c1cc9b807e127f44f989150f409/en_test_0/common_voice_en_159192.mp3',\n",
              "  'array': array([ 0.00000000e+00,  1.67083808e-13,  4.23313999e-14, ...,\n",
              "          5.02045168e-07, -9.92461537e-07, -5.28920873e-06]),\n",
              "  'sampling_rate': 48000},\n",
              " {'path': '/DATA10T/Cache/downloads/extracted/ba5c265b423696aeece652c80df565d72d9f7c1cc9b807e127f44f989150f409/en_test_0/common_voice_en_20586574.mp3',\n",
              "  'array': array([ 0.00000000e+00, -1.73446445e-14, -1.62721331e-14, ...,\n",
              "         -3.02037142e-06, -1.84534838e-06, -4.79816777e-07]),\n",
              "  'sampling_rate': 48000},\n",
              " {'path': '/DATA10T/Cache/downloads/extracted/ba5c265b423696aeece652c80df565d72d9f7c1cc9b807e127f44f989150f409/en_test_0/common_voice_en_31963137.mp3',\n",
              "  'array': array([ 0.00000000e+00, -1.70530257e-13, -1.53477231e-12, ...,\n",
              "         -5.21400398e-06, -1.52245048e-05, -1.44418591e-05]),\n",
              "  'sampling_rate': 48000},\n",
              " {'path': '/DATA10T/Cache/downloads/extracted/ba5c265b423696aeece652c80df565d72d9f7c1cc9b807e127f44f989150f409/en_test_0/common_voice_en_32850241.mp3',\n",
              "  'array': array([-1.42108547e-13, -8.81072992e-13, -1.64845915e-12, ...,\n",
              "         -7.23094581e-06,  1.48817371e-05,  1.60251639e-05]),\n",
              "  'sampling_rate': 48000},\n",
              " {'path': '/DATA10T/Cache/downloads/extracted/ba5c265b423696aeece652c80df565d72d9f7c1cc9b807e127f44f989150f409/en_test_0/common_voice_en_18339580.mp3',\n",
              "  'array': array([ 0.00000000e+00,  1.48890960e-14,  5.43193759e-15, ...,\n",
              "         -1.29733201e-06, -1.97156032e-06, -2.95973973e-06]),\n",
              "  'sampling_rate': 48000},\n",
              " {'path': '/DATA10T/Cache/downloads/extracted/ba5c265b423696aeece652c80df565d72d9f7c1cc9b807e127f44f989150f409/en_test_0/common_voice_en_638672.mp3',\n",
              "  'array': array([ 0.00000000e+00,  8.58599758e-14, -5.78099580e-14, ...,\n",
              "         -3.93214421e-08,  8.09091372e-09,  8.52376871e-08]),\n",
              "  'sampling_rate': 48000},\n",
              " {'path': '/DATA10T/Cache/downloads/extracted/ba5c265b423696aeece652c80df565d72d9f7c1cc9b807e127f44f989150f409/en_test_0/common_voice_en_217612.mp3',\n",
              "  'array': array([ 0.00000000e+00,  0.00000000e+00,  0.00000000e+00, ...,\n",
              "         -2.61633226e-09, -1.61462683e-08,  1.27662050e-08]),\n",
              "  'sampling_rate': 48000},\n",
              " {'path': '/DATA10T/Cache/downloads/extracted/ba5c265b423696aeece652c80df565d72d9f7c1cc9b807e127f44f989150f409/en_test_0/common_voice_en_25540199.mp3',\n",
              "  'array': array([ 1.42108547e-14,  6.25277607e-13,  1.13686838e-12, ...,\n",
              "         -8.30040790e-07,  3.53471478e-07,  7.08691005e-07]),\n",
              "  'sampling_rate': 48000},\n",
              " {'path': '/DATA10T/Cache/downloads/extracted/ba5c265b423696aeece652c80df565d72d9f7c1cc9b807e127f44f989150f409/en_test_0/common_voice_en_32941558.mp3',\n",
              "  'array': array([ 4.26325641e-14,  7.38964445e-13,  1.10844667e-12, ...,\n",
              "          4.51535016e-06, -3.12257725e-06, -4.85104192e-06]),\n",
              "  'sampling_rate': 48000},\n",
              " {'path': '/DATA10T/Cache/downloads/extracted/ba5c265b423696aeece652c80df565d72d9f7c1cc9b807e127f44f989150f409/en_test_0/common_voice_en_16327.mp3',\n",
              "  'array': array([ 0.00000000e+00, -4.38831570e-16, -1.92048561e-16, ...,\n",
              "         -7.76358684e-06, -1.20114337e-05, -8.55491089e-06]),\n",
              "  'sampling_rate': 48000},\n",
              " {'path': '/DATA10T/Cache/downloads/extracted/ba5c265b423696aeece652c80df565d72d9f7c1cc9b807e127f44f989150f409/en_test_0/common_voice_en_19992991.mp3',\n",
              "  'array': array([0., 0., 0., ..., 0., 0., 0.]),\n",
              "  'sampling_rate': 48000},\n",
              " {'path': '/DATA10T/Cache/downloads/extracted/ba5c265b423696aeece652c80df565d72d9f7c1cc9b807e127f44f989150f409/en_test_0/common_voice_en_21568053.mp3',\n",
              "  'array': array([0.00000000e+00, 8.85370987e-13, 6.47027570e-13, ...,\n",
              "         4.99818416e-05, 2.85314454e-05, 2.39113433e-07]),\n",
              "  'sampling_rate': 48000},\n",
              " {'path': '/DATA10T/Cache/downloads/extracted/ba5c265b423696aeece652c80df565d72d9f7c1cc9b807e127f44f989150f409/en_test_0/common_voice_en_17278289.mp3',\n",
              "  'array': array([ 0.00000000e+00, -7.85593280e-17, -1.48995306e-16, ...,\n",
              "         -4.54013360e-07,  1.14206784e-07, -1.30175329e-06]),\n",
              "  'sampling_rate': 48000},\n",
              " {'path': '/DATA10T/Cache/downloads/extracted/ba5c265b423696aeece652c80df565d72d9f7c1cc9b807e127f44f989150f409/en_test_0/common_voice_en_21853647.mp3',\n",
              "  'array': array([ 0.00000000e+00,  1.91645853e-13, -3.58638520e-13, ...,\n",
              "         -4.99503767e-06, -6.18796594e-06, -5.88532066e-06]),\n",
              "  'sampling_rate': 48000},\n",
              " {'path': '/DATA10T/Cache/downloads/extracted/ba5c265b423696aeece652c80df565d72d9f7c1cc9b807e127f44f989150f409/en_test_0/common_voice_en_32690166.mp3',\n",
              "  'array': array([0., 0., 0., ..., 0., 0., 0.]),\n",
              "  'sampling_rate': 48000},\n",
              " {'path': '/DATA10T/Cache/downloads/extracted/ba5c265b423696aeece652c80df565d72d9f7c1cc9b807e127f44f989150f409/en_test_0/common_voice_en_25899004.mp3',\n",
              "  'array': array([ 1.42108547e-14,  7.95807864e-13,  1.10844667e-12, ...,\n",
              "         -1.36691165e-06, -2.34672734e-06, -1.49773234e-06]),\n",
              "  'sampling_rate': 48000},\n",
              " {'path': '/DATA10T/Cache/downloads/extracted/ba5c265b423696aeece652c80df565d72d9f7c1cc9b807e127f44f989150f409/en_test_0/common_voice_en_32803056.mp3',\n",
              "  'array': array([ 2.84217094e-14, -4.83169060e-12, -6.93489710e-12, ...,\n",
              "          5.86854298e-07,  1.47486799e-06,  1.09544771e-06]),\n",
              "  'sampling_rate': 48000},\n",
              " {'path': '/DATA10T/Cache/downloads/extracted/ba5c265b423696aeece652c80df565d72d9f7c1cc9b807e127f44f989150f409/en_test_0/common_voice_en_21728876.mp3',\n",
              "  'array': array([0.00000000e+00, 0.00000000e+00, 0.00000000e+00, ...,\n",
              "         1.39323180e-04, 1.57098388e-04, 7.55259534e-05]),\n",
              "  'sampling_rate': 48000},\n",
              " {'path': '/DATA10T/Cache/downloads/extracted/ba5c265b423696aeece652c80df565d72d9f7c1cc9b807e127f44f989150f409/en_test_0/common_voice_en_16047883.mp3',\n",
              "  'array': array([ 0.00000000e+00,  6.71276660e-15,  5.90690369e-15, ...,\n",
              "          3.53474416e-10, -7.08745562e-13,  2.98489428e-10]),\n",
              "  'sampling_rate': 48000},\n",
              " {'path': '/DATA10T/Cache/downloads/extracted/ba5c265b423696aeece652c80df565d72d9f7c1cc9b807e127f44f989150f409/en_test_0/common_voice_en_19658862.mp3',\n",
              "  'array': array([0.00000000e+00, 1.38370218e-14, 2.21291518e-13, ...,\n",
              "         7.37101800e-06, 9.74013528e-06, 1.01551777e-05]),\n",
              "  'sampling_rate': 48000},\n",
              " {'path': '/DATA10T/Cache/downloads/extracted/ba5c265b423696aeece652c80df565d72d9f7c1cc9b807e127f44f989150f409/en_test_0/common_voice_en_28693767.mp3',\n",
              "  'array': array([ 7.10542736e-14, -2.62900812e-13, -4.97379915e-13, ...,\n",
              "         -3.91723006e-07, -8.30676800e-06, -5.85647649e-06]),\n",
              "  'sampling_rate': 48000},\n",
              " {'path': '/DATA10T/Cache/downloads/extracted/ba5c265b423696aeece652c80df565d72d9f7c1cc9b807e127f44f989150f409/en_test_0/common_voice_en_125399.mp3',\n",
              "  'array': array([ 0.00000000e+00, -4.31753869e-17, -1.66642382e-15, ...,\n",
              "         -1.27878491e-04, -1.38975738e-04, -1.49449945e-04]),\n",
              "  'sampling_rate': 48000},\n",
              " {'path': '/DATA10T/Cache/downloads/extracted/ba5c265b423696aeece652c80df565d72d9f7c1cc9b807e127f44f989150f409/en_test_0/common_voice_en_571988.mp3',\n",
              "  'array': array([ 0.00000000e+00, -1.21949705e-13,  7.95706654e-13, ...,\n",
              "         -4.08832308e-11, -9.39012756e-10, -4.16119250e-10]),\n",
              "  'sampling_rate': 48000},\n",
              " {'path': '/DATA10T/Cache/downloads/extracted/ba5c265b423696aeece652c80df565d72d9f7c1cc9b807e127f44f989150f409/en_test_0/common_voice_en_26948291.mp3',\n",
              "  'array': array([-3.72231276e-24, -4.96308368e-23, -4.88036561e-23, ...,\n",
              "          5.89805982e-16,  7.21644966e-16,  4.16333634e-16]),\n",
              "  'sampling_rate': 48000},\n",
              " {'path': '/DATA10T/Cache/downloads/extracted/ba5c265b423696aeece652c80df565d72d9f7c1cc9b807e127f44f989150f409/en_test_0/common_voice_en_32136086.mp3',\n",
              "  'array': array([-8.88178420e-15, -7.10542736e-15, -1.06581410e-14, ...,\n",
              "          0.00000000e+00,  0.00000000e+00,  0.00000000e+00]),\n",
              "  'sampling_rate': 48000},\n",
              " {'path': '/DATA10T/Cache/downloads/extracted/ba5c265b423696aeece652c80df565d72d9f7c1cc9b807e127f44f989150f409/en_test_0/common_voice_en_32962317.mp3',\n",
              "  'array': array([-1.73472348e-18,  1.04083409e-17,  1.21430643e-17, ...,\n",
              "          0.00000000e+00,  0.00000000e+00,  0.00000000e+00]),\n",
              "  'sampling_rate': 48000},\n",
              " {'path': '/DATA10T/Cache/downloads/extracted/ba5c265b423696aeece652c80df565d72d9f7c1cc9b807e127f44f989150f409/en_test_0/common_voice_en_18225037.mp3',\n",
              "  'array': array([ 0.00000000e+00, -7.66298442e-14, -8.01230420e-14, ...,\n",
              "          6.13525663e-06,  6.99750017e-05,  1.11293208e-04]),\n",
              "  'sampling_rate': 48000},\n",
              " {'path': '/DATA10T/Cache/downloads/extracted/ba5c265b423696aeece652c80df565d72d9f7c1cc9b807e127f44f989150f409/en_test_0/common_voice_en_31095836.mp3',\n",
              "  'array': array([1.19371180e-12, 4.54747351e-12, 6.13908924e-12, ...,\n",
              "         2.19514495e-05, 5.88672192e-05, 3.84596497e-05]),\n",
              "  'sampling_rate': 48000},\n",
              " {'path': '/DATA10T/Cache/downloads/extracted/ba5c265b423696aeece652c80df565d72d9f7c1cc9b807e127f44f989150f409/en_test_0/common_voice_en_587953.mp3',\n",
              "  'array': array([ 0.00000000e+00,  0.00000000e+00,  0.00000000e+00, ...,\n",
              "         -3.48366882e-08, -4.18111767e-09, -4.70888040e-09]),\n",
              "  'sampling_rate': 48000},\n",
              " {'path': '/DATA10T/Cache/downloads/extracted/ba5c265b423696aeece652c80df565d72d9f7c1cc9b807e127f44f989150f409/en_test_0/common_voice_en_1738082.mp3',\n",
              "  'array': array([ 0.00000000e+00,  3.29072164e-14, -1.94294925e-13, ...,\n",
              "          3.24724851e-07, -2.82321025e-07,  2.19635922e-07]),\n",
              "  'sampling_rate': 48000},\n",
              " {'path': '/DATA10T/Cache/downloads/extracted/ba5c265b423696aeece652c80df565d72d9f7c1cc9b807e127f44f989150f409/en_test_0/common_voice_en_55485.mp3',\n",
              "  'array': array([0.00000000e+00, 1.41216270e-12, 1.12550073e-12, ...,\n",
              "         5.00765191e-06, 9.10588096e-06, 9.94785387e-06]),\n",
              "  'sampling_rate': 48000},\n",
              " {'path': '/DATA10T/Cache/downloads/extracted/ba5c265b423696aeece652c80df565d72d9f7c1cc9b807e127f44f989150f409/en_test_0/common_voice_en_17857149.mp3',\n",
              "  'array': array([ 0.00000000e+00,  3.59880786e-14, -1.08715798e-14, ...,\n",
              "          7.85294924e-06, -3.28878741e-06, -9.05693832e-06]),\n",
              "  'sampling_rate': 48000},\n",
              " {'path': '/DATA10T/Cache/downloads/extracted/ba5c265b423696aeece652c80df565d72d9f7c1cc9b807e127f44f989150f409/en_test_0/common_voice_en_29205769.mp3',\n",
              "  'array': array([-3.55271368e-15, -2.13162821e-14,  3.19744231e-14, ...,\n",
              "         -4.78547518e-05, -6.15108074e-05, -4.01278703e-05]),\n",
              "  'sampling_rate': 48000},\n",
              " {'path': '/DATA10T/Cache/downloads/extracted/ba5c265b423696aeece652c80df565d72d9f7c1cc9b807e127f44f989150f409/en_test_0/common_voice_en_211811.mp3',\n",
              "  'array': array([ 0.00000000e+00,  5.93593100e-13,  7.44815396e-13, ...,\n",
              "          1.51355903e-06, -2.64697383e-06, -3.13169039e-06]),\n",
              "  'sampling_rate': 48000},\n",
              " {'path': '/DATA10T/Cache/downloads/extracted/ba5c265b423696aeece652c80df565d72d9f7c1cc9b807e127f44f989150f409/en_test_0/common_voice_en_18945888.mp3',\n",
              "  'array': array([ 0.00000000e+00, -4.13468969e-14, -3.27141675e-14, ...,\n",
              "         -1.45402100e-05, -1.64671401e-05, -4.51432788e-06]),\n",
              "  'sampling_rate': 48000},\n",
              " {'path': '/DATA10T/Cache/downloads/extracted/ba5c265b423696aeece652c80df565d72d9f7c1cc9b807e127f44f989150f409/en_test_0/common_voice_en_17390325.mp3',\n",
              "  'array': array([ 0.00000000e+00, -2.51152181e-14,  6.13065778e-14, ...,\n",
              "         -3.40500883e-05, -1.72472246e-05, -4.45119349e-06]),\n",
              "  'sampling_rate': 48000},\n",
              " {'path': '/DATA10T/Cache/downloads/extracted/ba5c265b423696aeece652c80df565d72d9f7c1cc9b807e127f44f989150f409/en_test_0/common_voice_en_20248097.mp3',\n",
              "  'array': array([ 0.00000000e+00,  4.45314426e-14, -1.77597229e-15, ...,\n",
              "         -1.06386851e-05, -1.72688506e-05, -2.12329032e-05]),\n",
              "  'sampling_rate': 48000},\n",
              " {'path': '/DATA10T/Cache/downloads/extracted/ba5c265b423696aeece652c80df565d72d9f7c1cc9b807e127f44f989150f409/en_test_0/common_voice_en_346163.mp3',\n",
              "  'array': array([ 0.00000000e+00,  9.35128355e-15,  1.03009396e-14, ...,\n",
              "         -1.22355311e-06, -1.49259597e-06, -1.67456915e-06]),\n",
              "  'sampling_rate': 48000},\n",
              " {'path': '/DATA10T/Cache/downloads/extracted/ba5c265b423696aeece652c80df565d72d9f7c1cc9b807e127f44f989150f409/en_test_0/common_voice_en_118385.mp3',\n",
              "  'array': array([0.00000000e+00, 0.00000000e+00, 0.00000000e+00, ...,\n",
              "         1.16739707e-09, 2.27284502e-08, 3.84702155e-08]),\n",
              "  'sampling_rate': 48000},\n",
              " {'path': '/DATA10T/Cache/downloads/extracted/ba5c265b423696aeece652c80df565d72d9f7c1cc9b807e127f44f989150f409/en_test_0/common_voice_en_216602.mp3',\n",
              "  'array': array([0.00000000e+00, 0.00000000e+00, 0.00000000e+00, ...,\n",
              "         5.48193668e-09, 4.21173354e-08, 4.57936302e-08]),\n",
              "  'sampling_rate': 48000},\n",
              " {'path': '/DATA10T/Cache/downloads/extracted/ba5c265b423696aeece652c80df565d72d9f7c1cc9b807e127f44f989150f409/en_test_0/common_voice_en_20783554.mp3',\n",
              "  'array': array([ 0.00000000e+00,  1.63676147e-13, -9.84573967e-13, ...,\n",
              "         -2.92607947e-05, -1.25201361e-04,  1.09427696e-04]),\n",
              "  'sampling_rate': 48000},\n",
              " {'path': '/DATA10T/Cache/downloads/extracted/ba5c265b423696aeece652c80df565d72d9f7c1cc9b807e127f44f989150f409/en_test_0/common_voice_en_18599794.mp3',\n",
              "  'array': array([ 0.00000000e+00,  1.64347960e-15, -2.57728070e-15, ...,\n",
              "          3.46885997e-07, -5.82310804e-08,  3.84865700e-07]),\n",
              "  'sampling_rate': 48000},\n",
              " {'path': '/DATA10T/Cache/downloads/extracted/ba5c265b423696aeece652c80df565d72d9f7c1cc9b807e127f44f989150f409/en_test_0/common_voice_en_173227.mp3',\n",
              "  'array': array([ 0.00000000e+00, -2.43432471e-13, -1.54144004e-14, ...,\n",
              "         -5.65781647e-06,  1.24920243e-05,  1.88049125e-05]),\n",
              "  'sampling_rate': 48000},\n",
              " {'path': '/DATA10T/Cache/downloads/extracted/ba5c265b423696aeece652c80df565d72d9f7c1cc9b807e127f44f989150f409/en_test_0/common_voice_en_31702396.mp3',\n",
              "  'array': array([ 2.55795385e-13, -1.42108547e-13, -9.94759830e-13, ...,\n",
              "          6.93827246e-07,  1.52220082e-06,  9.81373205e-07]),\n",
              "  'sampling_rate': 48000},\n",
              " {'path': '/DATA10T/Cache/downloads/extracted/ba5c265b423696aeece652c80df565d72d9f7c1cc9b807e127f44f989150f409/en_test_0/common_voice_en_30513358.mp3',\n",
              "  'array': array([ 0.00000000e+00,  0.00000000e+00,  0.00000000e+00, ...,\n",
              "         -1.07422977e-08, -2.20330705e-07, -2.06690615e-07]),\n",
              "  'sampling_rate': 48000},\n",
              " {'path': '/DATA10T/Cache/downloads/extracted/ba5c265b423696aeece652c80df565d72d9f7c1cc9b807e127f44f989150f409/en_test_0/common_voice_en_19684552.mp3',\n",
              "  'array': array([ 0.00000000e+00,  0.00000000e+00,  0.00000000e+00, ...,\n",
              "          2.95812853e-13,  3.09619344e-12, -1.08042681e-11]),\n",
              "  'sampling_rate': 48000},\n",
              " {'path': '/DATA10T/Cache/downloads/extracted/ba5c265b423696aeece652c80df565d72d9f7c1cc9b807e127f44f989150f409/en_test_0/common_voice_en_33980433.mp3',\n",
              "  'array': array([ 2.27373675e-13,  9.09494702e-13,  2.27373675e-12, ...,\n",
              "         -3.15272700e-05, -1.91053114e-05, -3.52034203e-06]),\n",
              "  'sampling_rate': 48000},\n",
              " {'path': '/DATA10T/Cache/downloads/extracted/ba5c265b423696aeece652c80df565d72d9f7c1cc9b807e127f44f989150f409/en_test_0/common_voice_en_178086.mp3',\n",
              "  'array': array([ 0.00000000e+00, -1.79798616e-14, -7.90840951e-15, ...,\n",
              "          3.20374005e-04,  3.32920346e-04,  2.96703423e-04]),\n",
              "  'sampling_rate': 48000},\n",
              " {'path': '/DATA10T/Cache/downloads/extracted/ba5c265b423696aeece652c80df565d72d9f7c1cc9b807e127f44f989150f409/en_test_0/common_voice_en_17303873.mp3',\n",
              "  'array': array([0., 0., 0., ..., 0., 0., 0.]),\n",
              "  'sampling_rate': 48000},\n",
              " {'path': '/DATA10T/Cache/downloads/extracted/ba5c265b423696aeece652c80df565d72d9f7c1cc9b807e127f44f989150f409/en_test_0/common_voice_en_590018.mp3',\n",
              "  'array': array([ 0.00000000e+00,  1.67491672e-12,  1.17245927e-12, ...,\n",
              "          1.06177604e-05,  8.49829848e-06, -4.70722625e-06]),\n",
              "  'sampling_rate': 48000},\n",
              " {'path': '/DATA10T/Cache/downloads/extracted/ba5c265b423696aeece652c80df565d72d9f7c1cc9b807e127f44f989150f409/en_test_0/common_voice_en_17147389.mp3',\n",
              "  'array': array([ 0.00000000e+00, -8.15289964e-16,  1.54427511e-15, ...,\n",
              "          7.69280541e-06,  4.57556462e-06,  1.55855605e-06]),\n",
              "  'sampling_rate': 48000},\n",
              " {'path': '/DATA10T/Cache/downloads/extracted/ba5c265b423696aeece652c80df565d72d9f7c1cc9b807e127f44f989150f409/en_test_0/common_voice_en_605985.mp3',\n",
              "  'array': array([ 0.00000000e+00,  6.59514002e-13, -9.40299704e-13, ...,\n",
              "          2.19515130e-07,  3.85388830e-07,  5.19566470e-08]),\n",
              "  'sampling_rate': 48000},\n",
              " {'path': '/DATA10T/Cache/downloads/extracted/ba5c265b423696aeece652c80df565d72d9f7c1cc9b807e127f44f989150f409/en_test_0/common_voice_en_1384.mp3',\n",
              "  'array': array([ 0.00000000e+00,  3.92376236e-13,  3.00852415e-13, ...,\n",
              "          9.27562837e-07, -2.27531564e-06, -3.86696092e-06]),\n",
              "  'sampling_rate': 48000},\n",
              " {'path': '/DATA10T/Cache/downloads/extracted/ba5c265b423696aeece652c80df565d72d9f7c1cc9b807e127f44f989150f409/en_test_0/common_voice_en_25385044.mp3',\n",
              "  'array': array([-4.54747351e-13,  1.39266376e-12,  3.06954462e-12, ...,\n",
              "          3.10338919e-08,  4.70491273e-08,  1.85261797e-08]),\n",
              "  'sampling_rate': 48000},\n",
              " {'path': '/DATA10T/Cache/downloads/extracted/ba5c265b423696aeece652c80df565d72d9f7c1cc9b807e127f44f989150f409/en_test_0/common_voice_en_25659642.mp3',\n",
              "  'array': array([-2.27373675e-12, -5.91171556e-12, -1.18234311e-11, ...,\n",
              "         -1.78438677e-05,  2.93322537e-05,  6.54572796e-05]),\n",
              "  'sampling_rate': 48000},\n",
              " {'path': '/DATA10T/Cache/downloads/extracted/ba5c265b423696aeece652c80df565d72d9f7c1cc9b807e127f44f989150f409/en_test_0/common_voice_en_20952616.mp3',\n",
              "  'array': array([ 0.00000000e+00, -4.35899757e-15, -1.66289296e-15, ...,\n",
              "          3.06294460e-05,  2.17832276e-05, -8.68162260e-06]),\n",
              "  'sampling_rate': 48000},\n",
              " {'path': '/DATA10T/Cache/downloads/extracted/ba5c265b423696aeece652c80df565d72d9f7c1cc9b807e127f44f989150f409/en_test_0/common_voice_en_17249708.mp3',\n",
              "  'array': array([ 0.00000000e+00,  2.49679631e-14, -2.84742289e-14, ...,\n",
              "          7.10027592e-10,  2.79847145e-10, -9.07859760e-11]),\n",
              "  'sampling_rate': 48000},\n",
              " {'path': '/DATA10T/Cache/downloads/extracted/ba5c265b423696aeece652c80df565d72d9f7c1cc9b807e127f44f989150f409/en_test_0/common_voice_en_34872001.mp3',\n",
              "  'array': array([1.42108547e-13, 1.95399252e-13, 6.03961325e-14, ...,\n",
              "         4.42987221e-06, 2.58960063e-06, 1.15074363e-06]),\n",
              "  'sampling_rate': 48000},\n",
              " {'path': '/DATA10T/Cache/downloads/extracted/ba5c265b423696aeece652c80df565d72d9f7c1cc9b807e127f44f989150f409/en_test_0/common_voice_en_31902697.mp3',\n",
              "  'array': array([ 1.13686838e-13, -2.38742359e-12, -5.34328137e-12, ...,\n",
              "          1.54593035e-05,  1.57773975e-05,  7.56309146e-06]),\n",
              "  'sampling_rate': 48000},\n",
              " {'path': '/DATA10T/Cache/downloads/extracted/ba5c265b423696aeece652c80df565d72d9f7c1cc9b807e127f44f989150f409/en_test_0/common_voice_en_19970459.mp3',\n",
              "  'array': array([ 0.00000000e+00, -3.59066075e-13, -1.63172210e-13, ...,\n",
              "         -2.46070158e-07, -1.05260540e-07, -1.64835896e-07]),\n",
              "  'sampling_rate': 48000},\n",
              " {'path': '/DATA10T/Cache/downloads/extracted/ba5c265b423696aeece652c80df565d72d9f7c1cc9b807e127f44f989150f409/en_test_0/common_voice_en_30653091.mp3',\n",
              "  'array': array([ 8.88178420e-16, -9.10382880e-15, -8.88178420e-15, ...,\n",
              "          5.69054464e-07, -2.75821230e-06, -3.50653568e-06]),\n",
              "  'sampling_rate': 48000},\n",
              " {'path': '/DATA10T/Cache/downloads/extracted/ba5c265b423696aeece652c80df565d72d9f7c1cc9b807e127f44f989150f409/en_test_0/common_voice_en_23432310.mp3',\n",
              "  'array': array([ 0.00000000e+00, -5.81139412e-14, -6.93676277e-14, ...,\n",
              "         -4.64489176e-07, -1.08558834e-06, -5.89415731e-06]),\n",
              "  'sampling_rate': 48000},\n",
              " {'path': '/DATA10T/Cache/downloads/extracted/ba5c265b423696aeece652c80df565d72d9f7c1cc9b807e127f44f989150f409/en_test_0/common_voice_en_20971256.mp3',\n",
              "  'array': array([ 0.00000000e+00, -2.79917528e-13, -2.17787092e-13, ...,\n",
              "          1.74813307e-04,  1.75681751e-04,  1.69797320e-04]),\n",
              "  'sampling_rate': 48000},\n",
              " {'path': '/DATA10T/Cache/downloads/extracted/ba5c265b423696aeece652c80df565d72d9f7c1cc9b807e127f44f989150f409/en_test_0/common_voice_en_23622461.mp3',\n",
              "  'array': array([ 0.00000000e+00, -1.32784856e-13, -5.69766673e-14, ...,\n",
              "         -1.55045488e-09, -1.37579448e-09, -1.18696042e-09]),\n",
              "  'sampling_rate': 48000},\n",
              " {'path': '/DATA10T/Cache/downloads/extracted/ba5c265b423696aeece652c80df565d72d9f7c1cc9b807e127f44f989150f409/en_test_0/common_voice_en_31960662.mp3',\n",
              "  'array': array([ 2.84217094e-13, -2.50111043e-12, -4.43378667e-12, ...,\n",
              "         -1.86050056e-05, -6.39602058e-06,  1.48907168e-06]),\n",
              "  'sampling_rate': 48000},\n",
              " {'path': '/DATA10T/Cache/downloads/extracted/ba5c265b423696aeece652c80df565d72d9f7c1cc9b807e127f44f989150f409/en_test_0/common_voice_en_19670349.mp3',\n",
              "  'array': array([ 0.00000000e+00, -6.80044372e-17,  7.52010356e-16, ...,\n",
              "         -6.95834024e-05, -1.52695284e-05, -1.36533936e-05]),\n",
              "  'sampling_rate': 48000},\n",
              " {'path': '/DATA10T/Cache/downloads/extracted/ba5c265b423696aeece652c80df565d72d9f7c1cc9b807e127f44f989150f409/en_test_0/common_voice_en_32693885.mp3',\n",
              "  'array': array([ 0.00000000e+00,  2.84217094e-14,  2.84217094e-14, ...,\n",
              "         -5.33213385e-09, -2.26186359e-09, -8.54360360e-10]),\n",
              "  'sampling_rate': 48000},\n",
              " {'path': '/DATA10T/Cache/downloads/extracted/ba5c265b423696aeece652c80df565d72d9f7c1cc9b807e127f44f989150f409/en_test_0/common_voice_en_148006.mp3',\n",
              "  'array': array([0.00000000e+00, 3.95214731e-14, 2.66658135e-14, ...,\n",
              "         1.55917587e-05, 2.53192138e-05, 4.51547021e-05]),\n",
              "  'sampling_rate': 48000},\n",
              " {'path': '/DATA10T/Cache/downloads/extracted/ba5c265b423696aeece652c80df565d72d9f7c1cc9b807e127f44f989150f409/en_test_0/common_voice_en_26972624.mp3',\n",
              "  'array': array([0., 0., 0., ..., 0., 0., 0.]),\n",
              "  'sampling_rate': 48000},\n",
              " {'path': '/DATA10T/Cache/downloads/extracted/ba5c265b423696aeece652c80df565d72d9f7c1cc9b807e127f44f989150f409/en_test_0/common_voice_en_18954059.mp3',\n",
              "  'array': array([ 0.00000000e+00,  6.01473515e-13,  5.87211594e-13, ...,\n",
              "         -6.09214680e-07, -1.50201004e-07,  3.95713073e-07]),\n",
              "  'sampling_rate': 48000},\n",
              " {'path': '/DATA10T/Cache/downloads/extracted/ba5c265b423696aeece652c80df565d72d9f7c1cc9b807e127f44f989150f409/en_test_0/common_voice_en_496804.mp3',\n",
              "  'array': array([0.00000000e+00, 0.00000000e+00, 0.00000000e+00, ...,\n",
              "         1.11749296e-06, 7.44461613e-06, 1.35475457e-05]),\n",
              "  'sampling_rate': 48000},\n",
              " {'path': '/DATA10T/Cache/downloads/extracted/ba5c265b423696aeece652c80df565d72d9f7c1cc9b807e127f44f989150f409/en_test_0/common_voice_en_32669886.mp3',\n",
              "  'array': array([-2.48689958e-14,  8.52651283e-14,  1.62536651e-13, ...,\n",
              "         -8.31395027e-07, -1.75600871e-06, -1.24679070e-06]),\n",
              "  'sampling_rate': 48000},\n",
              " {'path': '/DATA10T/Cache/downloads/extracted/ba5c265b423696aeece652c80df565d72d9f7c1cc9b807e127f44f989150f409/en_test_0/common_voice_en_32850675.mp3',\n",
              "  'array': array([-2.27373675e-13,  1.30739863e-12,  1.62003744e-12, ...,\n",
              "         -1.79845956e-05, -9.35781281e-06, -5.83560904e-07]),\n",
              "  'sampling_rate': 48000},\n",
              " {'path': '/DATA10T/Cache/downloads/extracted/ba5c265b423696aeece652c80df565d72d9f7c1cc9b807e127f44f989150f409/en_test_0/common_voice_en_188461.mp3',\n",
              "  'array': array([ 0.00000000e+00, -7.84978636e-14, -2.95460271e-14, ...,\n",
              "          0.00000000e+00,  0.00000000e+00,  0.00000000e+00]),\n",
              "  'sampling_rate': 48000},\n",
              " {'path': '/DATA10T/Cache/downloads/extracted/ba5c265b423696aeece652c80df565d72d9f7c1cc9b807e127f44f989150f409/en_test_0/common_voice_en_25899258.mp3',\n",
              "  'array': array([-1.13686838e-13,  2.38742359e-12,  4.71800377e-12, ...,\n",
              "          2.35471816e-05,  2.10322723e-05,  4.81057214e-06]),\n",
              "  'sampling_rate': 48000},\n",
              " {'path': '/DATA10T/Cache/downloads/extracted/ba5c265b423696aeece652c80df565d72d9f7c1cc9b807e127f44f989150f409/en_test_0/common_voice_en_18330830.mp3',\n",
              "  'array': array([0.00000000e+00, 0.00000000e+00, 0.00000000e+00, ...,\n",
              "         4.99351813e-08, 1.40236097e-07, 1.85849075e-07]),\n",
              "  'sampling_rate': 48000},\n",
              " {'path': '/DATA10T/Cache/downloads/extracted/ba5c265b423696aeece652c80df565d72d9f7c1cc9b807e127f44f989150f409/en_test_0/common_voice_en_27673036.mp3',\n",
              "  'array': array([-1.77635684e-15, -6.35047570e-14, -7.63833441e-14, ...,\n",
              "         -4.17340780e-05, -1.95417670e-05, -1.22142956e-06]),\n",
              "  'sampling_rate': 48000},\n",
              " {'path': '/DATA10T/Cache/downloads/extracted/ba5c265b423696aeece652c80df565d72d9f7c1cc9b807e127f44f989150f409/en_test_0/common_voice_en_23817648.mp3',\n",
              "  'array': array([ 0.00000000e+00, -1.30354139e-19, -2.49189633e-19, ...,\n",
              "          4.39449941e-05,  4.35912043e-05,  2.61485784e-05]),\n",
              "  'sampling_rate': 48000},\n",
              " {'path': '/DATA10T/Cache/downloads/extracted/ba5c265b423696aeece652c80df565d72d9f7c1cc9b807e127f44f989150f409/en_test_0/common_voice_en_31031171.mp3',\n",
              "  'array': array([ 2.70901651e-23, -1.32348898e-23, -3.22600439e-23, ...,\n",
              "         -1.39126470e-08, -8.82300988e-09,  1.10184306e-09]),\n",
              "  'sampling_rate': 48000},\n",
              " {'path': '/DATA10T/Cache/downloads/extracted/ba5c265b423696aeece652c80df565d72d9f7c1cc9b807e127f44f989150f409/en_test_0/common_voice_en_18580493.mp3',\n",
              "  'array': array([0.00000000e+00, 0.00000000e+00, 0.00000000e+00, ...,\n",
              "         5.51218250e-07, 4.86781391e-06, 1.25709412e-05]),\n",
              "  'sampling_rate': 48000},\n",
              " {'path': '/DATA10T/Cache/downloads/extracted/ba5c265b423696aeece652c80df565d72d9f7c1cc9b807e127f44f989150f409/en_test_0/common_voice_en_28841471.mp3',\n",
              "  'array': array([0.00000000e+00, 0.00000000e+00, 0.00000000e+00, ...,\n",
              "         2.10248581e-05, 3.02695262e-05, 2.02341362e-05]),\n",
              "  'sampling_rate': 48000},\n",
              " {'path': '/DATA10T/Cache/downloads/extracted/ba5c265b423696aeece652c80df565d72d9f7c1cc9b807e127f44f989150f409/en_test_0/common_voice_en_78672.mp3',\n",
              "  'array': array([ 0.00000000e+00,  5.24198198e-16,  1.68829760e-14, ...,\n",
              "          3.79857212e-08,  3.44941808e-09, -1.75835968e-09]),\n",
              "  'sampling_rate': 48000},\n",
              " {'path': '/DATA10T/Cache/downloads/extracted/ba5c265b423696aeece652c80df565d72d9f7c1cc9b807e127f44f989150f409/en_test_0/common_voice_en_32289174.mp3',\n",
              "  'array': array([-5.68434189e-13, -4.54747351e-13, -1.81898940e-12, ...,\n",
              "          4.53570181e-07,  1.01207047e-06,  1.06815992e-06]),\n",
              "  'sampling_rate': 48000},\n",
              " {'path': '/DATA10T/Cache/downloads/extracted/ba5c265b423696aeece652c80df565d72d9f7c1cc9b807e127f44f989150f409/en_test_0/common_voice_en_32133713.mp3',\n",
              "  'array': array([ 1.42108547e-13,  7.67386155e-13,  1.05160325e-12, ...,\n",
              "         -7.79995025e-06, -8.95734775e-06, -2.14289321e-06]),\n",
              "  'sampling_rate': 48000},\n",
              " {'path': '/DATA10T/Cache/downloads/extracted/ba5c265b423696aeece652c80df565d72d9f7c1cc9b807e127f44f989150f409/en_test_0/common_voice_en_27167009.mp3',\n",
              "  'array': array([ 5.68434189e-14, -2.27373675e-13,  0.00000000e+00, ...,\n",
              "          3.15912757e-06,  3.49386210e-06,  1.79363724e-06]),\n",
              "  'sampling_rate': 48000},\n",
              " {'path': '/DATA10T/Cache/downloads/extracted/ba5c265b423696aeece652c80df565d72d9f7c1cc9b807e127f44f989150f409/en_test_0/common_voice_en_534327.mp3',\n",
              "  'array': array([ 0.00000000e+00,  2.22463039e-16, -4.01709017e-15, ...,\n",
              "          1.18151502e-06,  8.82472023e-07, -1.18516681e-07]),\n",
              "  'sampling_rate': 48000},\n",
              " {'path': '/DATA10T/Cache/downloads/extracted/ba5c265b423696aeece652c80df565d72d9f7c1cc9b807e127f44f989150f409/en_test_0/common_voice_en_18257271.mp3',\n",
              "  'array': array([ 0.00000000e+00,  4.24771573e-14, -4.59117811e-14, ...,\n",
              "          7.36378524e-06,  8.11684004e-06,  5.33844650e-06]),\n",
              "  'sampling_rate': 48000},\n",
              " {'path': '/DATA10T/Cache/downloads/extracted/ba5c265b423696aeece652c80df565d72d9f7c1cc9b807e127f44f989150f409/en_test_0/common_voice_en_17881653.mp3',\n",
              "  'array': array([0.00000000e+00, 3.75656402e-15, 3.76414242e-15, ...,\n",
              "         1.90540019e-15, 2.18905628e-15, 2.47317146e-15]),\n",
              "  'sampling_rate': 48000},\n",
              " {'path': '/DATA10T/Cache/downloads/extracted/ba5c265b423696aeece652c80df565d72d9f7c1cc9b807e127f44f989150f409/en_test_0/common_voice_en_22933180.mp3',\n",
              "  'array': array([ 0.00000000e+00,  0.00000000e+00,  0.00000000e+00, ...,\n",
              "         -3.95960524e-06, -3.82544522e-06, -6.60652768e-06]),\n",
              "  'sampling_rate': 48000},\n",
              " {'path': '/DATA10T/Cache/downloads/extracted/ba5c265b423696aeece652c80df565d72d9f7c1cc9b807e127f44f989150f409/en_test_0/common_voice_en_22815192.mp3',\n",
              "  'array': array([ 0.00000000e+00, -5.19233745e-13, -3.00217587e-13, ...,\n",
              "         -1.06595344e-05, -2.55499890e-05, -7.70661245e-06]),\n",
              "  'sampling_rate': 48000},\n",
              " {'path': '/DATA10T/Cache/downloads/extracted/ba5c265b423696aeece652c80df565d72d9f7c1cc9b807e127f44f989150f409/en_test_0/common_voice_en_19087733.mp3',\n",
              "  'array': array([ 0.00000000e+00,  2.85218948e-15,  1.26160179e-15, ...,\n",
              "         -2.80577951e-04, -2.55068473e-04, -1.35493698e-04]),\n",
              "  'sampling_rate': 48000},\n",
              " {'path': '/DATA10T/Cache/downloads/extracted/ba5c265b423696aeece652c80df565d72d9f7c1cc9b807e127f44f989150f409/en_test_0/common_voice_en_25167293.mp3',\n",
              "  'array': array([ 1.66533454e-16, -9.43689571e-16, -1.38777878e-15, ...,\n",
              "         -7.57777457e-07, -4.92372874e-06, -4.17627598e-06]),\n",
              "  'sampling_rate': 48000},\n",
              " {'path': '/DATA10T/Cache/downloads/extracted/ba5c265b423696aeece652c80df565d72d9f7c1cc9b807e127f44f989150f409/en_test_0/common_voice_en_34335470.mp3',\n",
              "  'array': array([-4.54747351e-13, -5.45696821e-12, -8.41282599e-12, ...,\n",
              "          3.92269339e-06,  9.36307879e-06,  6.75481715e-06]),\n",
              "  'sampling_rate': 48000},\n",
              " {'path': '/DATA10T/Cache/downloads/extracted/ba5c265b423696aeece652c80df565d72d9f7c1cc9b807e127f44f989150f409/en_test_0/common_voice_en_590694.mp3',\n",
              "  'array': array([0.00000000e+00, 8.69209329e-16, 4.02573028e-16, ...,\n",
              "         5.41064139e-07, 7.80654091e-07, 2.05557399e-06]),\n",
              "  'sampling_rate': 48000},\n",
              " {'path': '/DATA10T/Cache/downloads/extracted/ba5c265b423696aeece652c80df565d72d9f7c1cc9b807e127f44f989150f409/en_test_0/common_voice_en_592975.mp3',\n",
              "  'array': array([ 0.        ,  0.        ,  0.        , ..., -0.00358833,\n",
              "         -0.00307038, -0.00066173]),\n",
              "  'sampling_rate': 48000},\n",
              " {'path': '/DATA10T/Cache/downloads/extracted/ba5c265b423696aeece652c80df565d72d9f7c1cc9b807e127f44f989150f409/en_test_0/common_voice_en_21327535.mp3',\n",
              "  'array': array([ 0.00000000e+00, -3.72659430e-14, -6.11977510e-14, ...,\n",
              "          3.78335244e-07,  1.00834513e-05,  1.18000935e-05]),\n",
              "  'sampling_rate': 48000},\n",
              " {'path': '/DATA10T/Cache/downloads/extracted/ba5c265b423696aeece652c80df565d72d9f7c1cc9b807e127f44f989150f409/en_test_0/common_voice_en_33085852.mp3',\n",
              "  'array': array([ 2.84217094e-14,  3.19744231e-14, -2.13162821e-13, ...,\n",
              "          0.00000000e+00,  0.00000000e+00,  0.00000000e+00]),\n",
              "  'sampling_rate': 48000},\n",
              " {'path': '/DATA10T/Cache/downloads/extracted/ba5c265b423696aeece652c80df565d72d9f7c1cc9b807e127f44f989150f409/en_test_0/common_voice_en_18165213.mp3',\n",
              "  'array': array([ 0.00000000e+00, -1.20206670e-15, -7.26764857e-16, ...,\n",
              "         -6.55461037e-08,  1.34503196e-07,  3.07430241e-07]),\n",
              "  'sampling_rate': 48000},\n",
              " {'path': '/DATA10T/Cache/downloads/extracted/ba5c265b423696aeece652c80df565d72d9f7c1cc9b807e127f44f989150f409/en_test_0/common_voice_en_18127728.mp3',\n",
              "  'array': array([ 0.00000000e+00, -7.54657431e-14, -2.00663376e-14, ...,\n",
              "          3.74058072e-06,  4.64753612e-06,  6.55077656e-06]),\n",
              "  'sampling_rate': 48000},\n",
              " {'path': '/DATA10T/Cache/downloads/extracted/ba5c265b423696aeece652c80df565d72d9f7c1cc9b807e127f44f989150f409/en_test_0/common_voice_en_28954183.mp3',\n",
              "  'array': array([0., 0., 0., ..., 0., 0., 0.]),\n",
              "  'sampling_rate': 48000},\n",
              " {'path': '/DATA10T/Cache/downloads/extracted/ba5c265b423696aeece652c80df565d72d9f7c1cc9b807e127f44f989150f409/en_test_0/common_voice_en_29319614.mp3',\n",
              "  'array': array([6.21724894e-15, 1.68753900e-14, 1.33226763e-15, ...,\n",
              "         3.58084051e-08, 8.76363586e-08, 7.81152067e-08]),\n",
              "  'sampling_rate': 48000},\n",
              " {'path': '/DATA10T/Cache/downloads/extracted/ba5c265b423696aeece652c80df565d72d9f7c1cc9b807e127f44f989150f409/en_test_0/common_voice_en_19704043.mp3',\n",
              "  'array': array([ 0.00000000e+00,  2.85362054e-15,  1.18141572e-15, ...,\n",
              "         -8.82341556e-06,  1.85975077e-05,  6.66271008e-05]),\n",
              "  'sampling_rate': 48000},\n",
              " {'path': '/DATA10T/Cache/downloads/extracted/ba5c265b423696aeece652c80df565d72d9f7c1cc9b807e127f44f989150f409/en_test_0/common_voice_en_696829.mp3',\n",
              "  'array': array([ 0.00000000e+00,  1.16072830e-14,  1.55794533e-14, ...,\n",
              "         -1.50156367e-07, -6.30526586e-07,  2.98462282e-07]),\n",
              "  'sampling_rate': 48000},\n",
              " {'path': '/DATA10T/Cache/downloads/extracted/ba5c265b423696aeece652c80df565d72d9f7c1cc9b807e127f44f989150f409/en_test_0/common_voice_en_20003201.mp3',\n",
              "  'array': array([ 0.00000000e+00, -2.35544657e-13,  2.49510536e-13, ...,\n",
              "          3.09938587e-05, -1.75303976e-05, -2.67702999e-05]),\n",
              "  'sampling_rate': 48000},\n",
              " {'path': '/DATA10T/Cache/downloads/extracted/ba5c265b423696aeece652c80df565d72d9f7c1cc9b807e127f44f989150f409/en_test_0/common_voice_en_20115558.mp3',\n",
              "  'array': array([ 0.00000000e+00,  4.93657917e-15, -2.74180584e-15, ...,\n",
              "         -6.73261184e-07, -2.15097111e-06, -2.36678147e-06]),\n",
              "  'sampling_rate': 48000},\n",
              " {'path': '/DATA10T/Cache/downloads/extracted/ba5c265b423696aeece652c80df565d72d9f7c1cc9b807e127f44f989150f409/en_test_0/common_voice_en_17850951.mp3',\n",
              "  'array': array([ 0.00000000e+00,  4.66061583e-15, -9.05571055e-15, ...,\n",
              "         -4.43599356e-06, -8.96909000e-07,  1.24931671e-06]),\n",
              "  'sampling_rate': 48000},\n",
              " {'path': '/DATA10T/Cache/downloads/extracted/ba5c265b423696aeece652c80df565d72d9f7c1cc9b807e127f44f989150f409/en_test_0/common_voice_en_19261373.mp3',\n",
              "  'array': array([0.00000000e+00, 0.00000000e+00, 0.00000000e+00, ...,\n",
              "         4.57830083e-07, 8.60118234e-07, 1.17468016e-06]),\n",
              "  'sampling_rate': 48000},\n",
              " {'path': '/DATA10T/Cache/downloads/extracted/ba5c265b423696aeece652c80df565d72d9f7c1cc9b807e127f44f989150f409/en_test_0/common_voice_en_17853794.mp3',\n",
              "  'array': array([ 0.00000000e+00,  2.10882129e-15, -1.81735916e-15, ...,\n",
              "         -8.84488545e-05, -1.42999979e-05,  1.00196004e-04]),\n",
              "  'sampling_rate': 48000}]"
            ]
          },
          "execution_count": 6,
          "metadata": {},
          "output_type": "execute_result"
        }
      ],
      "source": [
        "test_dataset['audio']"
      ]
    },
    {
      "cell_type": "code",
      "execution_count": 7,
      "metadata": {},
      "outputs": [
        {
          "data": {
            "text/plain": [
              "['Joe Keaton disapproved of films, and Buster also had reservations about the medium.',\n",
              " \"She'll be all right.\",\n",
              " 'six',\n",
              " \"All's well that ends well.\",\n",
              " 'It is a busy market town that serves a large surrounding area.',\n",
              " 'The team had Olympic Champion Carolina Marin in their squad for the season.',\n",
              " 'Do you mean it?',\n",
              " 'The new patch is less invasive than the old one, but still causes regressions.',\n",
              " 'How is Mozilla going to handle ambiguities like queue and cue?',\n",
              " \"I guess you must think I'm kinda batty.\",\n",
              " 'No one near the remote machine you could ring?',\n",
              " 'Sauce for the goose is sauce for the gander.',\n",
              " 'Groves started writing songs when she was four years old.',\n",
              " 'His uncle Mike Shula was the former head coach at Alabama.',\n",
              " 'The response was that the Board did not appoint individual officers.',\n",
              " 'The long-lived bridge still stands today.',\n",
              " 'There was nothing to hold him back except himself.',\n",
              " 'The meat processing and construction industries would be allowed to operate with reduced personnel.',\n",
              " 'Coles Branch is underlaid by the Deep River Basin.',\n",
              " 'We spoke often.',\n",
              " 'He was Protestant.',\n",
              " 'The electrician looked puzzled.',\n",
              " 'The ladder on the fire truck was not long enough.',\n",
              " 'I will tell her what we decided.',\n",
              " 'These and the other youth leaders are advised and supported by the adult leaders.',\n",
              " 'Enoxaparin belongs to the class of drugs known as low molecular weight heparins.',\n",
              " 'Good things come in small packages.',\n",
              " 'Boles is studying chemical engineering at the University College Dublin.',\n",
              " 'It is a member theater of the Union of the Theatres of Europe.',\n",
              " 'All three battalions were equipped with captured French tanks.',\n",
              " 'YOU WANNA TAKE THIS OUTSIDE?',\n",
              " 'She joined the \"K\" patrol line and patrolled off Unalaska Island.',\n",
              " 'The immersion in hot water also kills the silkworm pupa.',\n",
              " 'She married her business partner, Steve Lane.',\n",
              " 'The attack on our root server overstrained our senior administrator.',\n",
              " 'Do you want me?',\n",
              " 'That would be funny if he did.',\n",
              " 'Eight National Paralympic Committee quotas and three individual athlete quotas were secured.',\n",
              " 'Although she had flowers and applause, Mavis said she was not content.',\n",
              " 'Add the column and put the sum here.',\n",
              " 'They perfectly illuminate the flowerbeds of gardens.',\n",
              " 'A mansion was usually set on a one square.',\n",
              " 'Alston commented that he felt the cartoonist \"might have had some racial intent\".',\n",
              " 'He was the chief clerk of the Chicago and Northwestern Railroad.',\n",
              " 'Doing a handstand needs a lot of practice to learn.',\n",
              " 'Man in red tshirt and baseball cap viewed from above he is has a pile of posters',\n",
              " 'The two films were then released within one day of each other.',\n",
              " '‘What did he say his name was?’ asked the captain.',\n",
              " 'He has German ancestry from his paternal side.',\n",
              " 'yes',\n",
              " \"Since their inception, Harris has been the band's principal composer and lyricist.\",\n",
              " 'After experiencing a mind-blowing sensual orgy, Mike was sure he had taken an overdose.',\n",
              " 'Religious festivals include the Muslim Eids and the Christian Christmas and Easter.',\n",
              " 'What do you advise, sir?',\n",
              " 'Charles looked on, angry that there was nothing he could do.',\n",
              " 'She had made personal exhibitions and participated in group exhibitions as well.',\n",
              " 'The manifesto made apparent the philosophical changes that Abbas had undergone.',\n",
              " 'She was also appointed the Eleanor Easley Distinguished Professor of Medicine.',\n",
              " 'Karina Smirnoff of \"Dancing With The Stars\" hosted the following month.',\n",
              " 'It is inhibited by the pneumotaxic centre.',\n",
              " 'His wide grin earned many friends.',\n",
              " 'An important person in the life of Emile Claus was the painter Jenny Montigny.',\n",
              " \"In the United States, Federal Vehicle fleets refers to the federal government's vehicles.\",\n",
              " 'It was won by a woman from Vara, Sweden.',\n",
              " 'The prints are then delivered to the customer.',\n",
              " 'In spite of this, I still believed that there were men in Mars.',\n",
              " 'The land was ruined, and I had to find some other way to earn a living.',\n",
              " 'Footprints of mud and clay were on the floor.',\n",
              " \"Other well-known relatives in Handsome Lake's family included Governor Blacksnake, Red Jacket and Half-Town.\",\n",
              " 'I pointed out Mars, a bright dot of light.',\n",
              " 'He ended up running to the bars which fortified the windows of the first floor.',\n",
              " 'I know why I want to get back to my flock, he thought.',\n",
              " 'Many notable problem and study composers are also International Judges, including Genrikh Kasparyan.',\n",
              " 'Many of the supporting characters present an unflattering portrayal of colonial life in Virginia.',\n",
              " 'You should see the other guy, specifically, how good at fighting he is.',\n",
              " 'He is of African-American and Italian descent.',\n",
              " \"That's not Carson Sphinx.\",\n",
              " 'Some rules of thumb are also accepted in the codes.',\n",
              " 'Lorenz is listed as a Swiss heritage site of national significance.',\n",
              " 'I have never in life hit a tennis ball.',\n",
              " 'The warehouses of Megapolis Ukraine in six cities were blocked by activists.',\n",
              " 'He is the first known and undisputed member of the Gediminids.',\n",
              " 'Lion Rock is located north west of Wong Tai Sin.',\n",
              " 'At dusk the Greek western flank was broken.',\n",
              " 'Her father is sure to inherit.',\n",
              " 'We should not take for granted how fortunate we have been.',\n",
              " 'Topical and up-to-the-minute, E!',\n",
              " 'The farmer works the soil and produces grain.',\n",
              " \"Since I've gotten a dog, the regular visits of the fox have stopped.\",\n",
              " 'His speech ended with a standing ovation.',\n",
              " 'eight',\n",
              " 'The reserve is in pristine condition with almost no human habitation.',\n",
              " '\"The wind told me that you know about love\" the boy said to the sun.',\n",
              " 'Geils began playing jazz trumpet but eventually switched to blues guitar.',\n",
              " 'This is the context in which the film begins.',\n",
              " 'These qualities make her beloved by her hometown.',\n",
              " 'The little pink ones are so cute.',\n",
              " 'The students colored with their crayons.',\n",
              " 'It seemed to him that it fell to earth about one hundred miles east of here.',\n",
              " 'As such it is face uniform but with irregular face polygons.',\n",
              " 'George Hare and Rev.',\n",
              " 'He took the fourth part and handed it to the monk.',\n",
              " 'He is a right-handed batsman and a left-arm slow bowler.',\n",
              " 'Cador is also said to be of Roman stock.',\n",
              " 'Where will you go?',\n",
              " 'Only John Wayne himself surpassed McGrath in scenes in this movie.',\n",
              " 'It was opened in July of that year.',\n",
              " 'Vera Schlink is a talented fund manager. She works in Vienna.',\n",
              " 'They were eliminated in the fourth episode.',\n",
              " \"'Munising' means near the island.\",\n",
              " 'The owner of the dwelling was not amused.',\n",
              " 'All of this activity in Milwaukee was in no way unique.',\n",
              " 'William Barnes the poet also lived in Sturminster Newton.',\n",
              " 'Thai dancers happily going through their steps in unison.',\n",
              " \"I'm so glad to see you.\",\n",
              " 'Corncockle is an attractive plant, and its seeds are still commercially available to gardeners.',\n",
              " 'Davao de Oro is headed by its governor as the chief executive.',\n",
              " 'The Swedish actress Anna Norrie instructed her in drama.',\n",
              " 'Then she looked up.',\n",
              " 'Agni agrees to let Togata film his revenge on Doma in exchange for training.',\n",
              " 'What was he like?',\n",
              " \"Luckily, the dagger couldn't penetrate the bullet proof vest.\",\n",
              " '\"Like everybody learns,\" he said.',\n",
              " 'This has become a bit of a cult in Romania.',\n",
              " 'His other film roles include Who Done It?',\n",
              " 'How often has the train been late?',\n",
              " \"He is currently a member of investment bank Jefferies' Global Senior Advisory Board.\",\n",
              " 'To increase his popularity in public-opinion polls, the politician started a campaign.',\n",
              " 'She was the first woman Senator to die in office.',\n",
              " 'Where is it, then?',\n",
              " 'Always ask an objective question.',\n",
              " 'rate the current book two stars',\n",
              " 'People from all over have come to taste its bear stew.',\n",
              " 'More discussion is needed on how it will be financed.',\n",
              " 'A soldier wearing a pink scarf peers out of the top of a vehicle.',\n",
              " 'Passive surveillance is often incomplete because of the limited reporting incentives.',\n",
              " 'Princess Vilas herself also contributed personally to the construction of the temple.',\n",
              " '\"Bambalio\" refers to a tendency to stammer.',\n",
              " 'He became chief of the army personnel department.',\n",
              " '\"I can work for the rest of today,\" the boy answered.',\n",
              " \"I'd like to order some cinnamon pretzels, please.\",\n",
              " 'The boy was also saddened; his friend was in pursuit of his destiny.',\n",
              " 'Women form less than half of the group.',\n",
              " 'Men play football as a crowd watches.',\n",
              " 'How about once more around the park?',\n",
              " 'It is possible that there were other visits.',\n",
              " 'Radio will go on and on forever.',\n",
              " 'The genus name was given in honour of Queen Victoria of the United Kingdom.',\n",
              " 'A song, a Girl, a maid.',\n",
              " 'Nick Flynn was raised by his mother in Scituate, Massachusetts, a suburb of Boston.',\n",
              " 'These plants are hermaphroditic.',\n",
              " 'Local branches throughout Slovakia were primarily engaged in public education and cultural activities.',\n",
              " 'The current representative for the district is Democrat Karin Power of Milwaukie.',\n",
              " 'Its major industry has been slate mining.',\n",
              " 'Today, Signature Flight Support services private aircraft in this area.',\n",
              " 'This process is intense and often lengthy.',\n",
              " 'He also was the elected senator of Khuzestan.',\n",
              " 'The line appears today on the Tube Map as an orange stripe.',\n",
              " 'Armand immigrated to the United States from France and sold hats as an occupation.',\n",
              " 'What kind of a proof is that?',\n",
              " 'The crew also activated one group of the payload bay Getaway Special experiments.',\n",
              " 'That application was rejected.',\n",
              " 'They had a lot to divulge.',\n",
              " 'The printer also supports landscape orientation and multiple typefaces.',\n",
              " 'They displaced at normal load and at deep load.',\n",
              " \"Every day was there to be lived or to mark one's departure from this world.\",\n",
              " \"Let's go to Orba.\",\n",
              " 'Potato crisps are thinly sliced fried potatoes, eaten as a snack',\n",
              " 'The movie \"White Christmas\" also starred Bing Crosby and Danny Kaye.',\n",
              " 'The staircase survives in The Swan Hotel in Bedford.',\n",
              " 'Only six of the planned ten episodes were produced.',\n",
              " 'We are giving them no rest.',\n",
              " 'Double seaming uses rollers to shape the can, lid and the final double seam.',\n",
              " 'Throughout the entire day we will be on the lookout for our enemies.',\n",
              " 'The palace was rebuilt with the same stones.',\n",
              " 'He was employed in the coal industry before assuming office.',\n",
              " \"The village's topography is mostly flat.\",\n",
              " 'Plastic surgery has become more popular.',\n",
              " 'The tracking reference did not work.',\n",
              " 'But you are joking.',\n",
              " 'These original parts of the hospital are now administrative and social accommodation.',\n",
              " 'She wanted to do penance.',\n",
              " 'With no weapons, the only attack option open to him was aerial ramming.',\n",
              " 'It was in Sixpenny Hundred and the lord and tenant-in-chief was Shaftesbury Abbey.',\n",
              " 'After being coach he held other functions within Dutch speed skating.',\n",
              " 'Touchscreens do not provide haptic feedback.',\n",
              " 'It was a tent like many at the oasis.',\n",
              " 'The episode \"Father\\'s Day\" depicts two younger versions of Jackie also played by Coduri.',\n",
              " 'Rosemary was born in Uganda and she attended local primary and secondary schools.',\n",
              " \"This blurry tomography doesn't help me a lot with the diagnosis.\",\n",
              " 'Sunburn can be avoided by applying sunscreen or by staying in the shadows.',\n",
              " 'Fouls, on the other hand, can occur only while the ball is in play.',\n",
              " 'In pure vacuum, some weak scattering of light by light exists as well.',\n",
              " 'Since leaving office, he has also attended a number of other events of significance.',\n",
              " '\"Fatima,\" the girl said, averting her eyes.',\n",
              " 'Indeed the scene was very beautiful.',\n",
              " 'She also taught journalism at the University of California at Berkeley.',\n",
              " 'Still waters run deep.',\n",
              " 'The University is a member of several organizations of colleges and universities.',\n",
              " 'These chimes have a mellow sound.']"
            ]
          },
          "execution_count": 7,
          "metadata": {},
          "output_type": "execute_result"
        }
      ],
      "source": [
        "test_dataset['sentence']"
      ]
    },
    {
      "cell_type": "code",
      "execution_count": 8,
      "metadata": {},
      "outputs": [
        {
          "data": {
            "text/plain": [
              "{'client_id': '0013037a1d45cc33460806cc3f8ecee9d536c45639ba4cbbf1564f1c051f53ff3c9f89ef2f1bf04badf55b3a2e7654c086f903681a7b6299616cff6f67598eff',\n",
              " 'path': '/DATA10T/Cache/downloads/extracted/ba5c265b423696aeece652c80df565d72d9f7c1cc9b807e127f44f989150f409/en_test_0/common_voice_en_699711.mp3',\n",
              " 'audio': {'path': '/DATA10T/Cache/downloads/extracted/ba5c265b423696aeece652c80df565d72d9f7c1cc9b807e127f44f989150f409/en_test_0/common_voice_en_699711.mp3',\n",
              "  'array': array([ 0.00000000e+00, -7.05920511e-14, -5.47149741e-14, ...,\n",
              "         -8.53668247e-09,  2.06165751e-09,  1.62003939e-08]),\n",
              "  'sampling_rate': 48000},\n",
              " 'sentence': \"She'll be all right.\",\n",
              " 'up_votes': 2,\n",
              " 'down_votes': 1,\n",
              " 'age': '',\n",
              " 'gender': '',\n",
              " 'accent': '',\n",
              " 'locale': 'en',\n",
              " 'segment': ''}"
            ]
          },
          "execution_count": 8,
          "metadata": {},
          "output_type": "execute_result"
        }
      ],
      "source": [
        "sample=test_dataset[1]\n",
        "sample"
      ]
    },
    {
      "cell_type": "code",
      "execution_count": 9,
      "metadata": {},
      "outputs": [
        {
          "data": {
            "text/plain": [
              "48000"
            ]
          },
          "execution_count": 9,
          "metadata": {},
          "output_type": "execute_result"
        }
      ],
      "source": [
        "sample[\"audio\"][\"sampling_rate\"]"
      ]
    },
    {
      "cell_type": "code",
      "execution_count": 10,
      "metadata": {},
      "outputs": [
        {
          "data": {
            "text/plain": [
              "\"She'll be all right.\""
            ]
          },
          "execution_count": 10,
          "metadata": {},
          "output_type": "execute_result"
        }
      ],
      "source": [
        "sample['sentence']"
      ]
    },
    {
      "cell_type": "code",
      "execution_count": 11,
      "metadata": {},
      "outputs": [],
      "source": [
        "inputids=processor.tokenizer(sample['sentence'])"
      ]
    },
    {
      "cell_type": "code",
      "execution_count": 35,
      "metadata": {},
      "outputs": [
        {
          "data": {
            "text/plain": [
              "{'input_ids': [3, 14, 11, 5, 18, 18, 4, 8, 11, 4, 7, 18, 18, 4, 24, 15, 13, 14, 26, 3], 'attention_mask': [1, 1, 1, 1, 1, 1, 1, 1, 1, 1, 1, 1, 1, 1, 1, 1, 1, 1, 1, 1]}"
            ]
          },
          "execution_count": 35,
          "metadata": {},
          "output_type": "execute_result"
        }
      ],
      "source": [
        "inputids"
      ]
    },
    {
      "cell_type": "code",
      "execution_count": 12,
      "metadata": {},
      "outputs": [
        {
          "name": "stderr",
          "output_type": "stream",
          "text": [
            "2024-01-18 16:27:18.238713: I tensorflow/core/platform/cpu_feature_guard.cc:193] This TensorFlow binary is optimized with oneAPI Deep Neural Network Library (oneDNN) to use the following CPU instructions in performance-critical operations:  AVX2 AVX_VNNI FMA\n",
            "To enable them in other operations, rebuild TensorFlow with the appropriate compiler flags.\n",
            "2024-01-18 16:27:18.325525: I tensorflow/core/util/port.cc:104] oneDNN custom operations are on. You may see slightly different numerical results due to floating-point round-off errors from different computation orders. To turn them off, set the environment variable `TF_ENABLE_ONEDNN_OPTS=0`.\n",
            "2024-01-18 16:27:18.607383: W tensorflow/compiler/xla/stream_executor/platform/default/dso_loader.cc:64] Could not load dynamic library 'libnvinfer.so.7'; dlerror: libnvinfer.so.7: cannot open shared object file: No such file or directory\n",
            "2024-01-18 16:27:18.607425: W tensorflow/compiler/xla/stream_executor/platform/default/dso_loader.cc:64] Could not load dynamic library 'libnvinfer_plugin.so.7'; dlerror: libnvinfer_plugin.so.7: cannot open shared object file: No such file or directory\n",
            "2024-01-18 16:27:18.607428: W tensorflow/compiler/tf2tensorrt/utils/py_utils.cc:38] TF-TRT Warning: Cannot dlopen some TensorRT libraries. If you would like to use Nvidia GPU with TensorRT, please make sure the missing libraries mentioned above are installed properly.\n"
          ]
        },
        {
          "data": {
            "text/plain": [
              "\"<unk>he'l be al right<unk>\""
            ]
          },
          "execution_count": 12,
          "metadata": {},
          "output_type": "execute_result"
        }
      ],
      "source": [
        "decoded_str = processor.decode(inputids.input_ids)\n",
        "decoded_str"
      ]
    },
    {
      "cell_type": "markdown",
      "metadata": {},
      "source": [
        "S and . is replaced as \"<unk>\""
      ]
    },
    {
      "cell_type": "code",
      "execution_count": 13,
      "metadata": {},
      "outputs": [
        {
          "data": {
            "text/plain": [
              "\"she'l be al right<unk>\""
            ]
          },
          "execution_count": 13,
          "metadata": {},
          "output_type": "execute_result"
        }
      ],
      "source": [
        "inputids=processor.tokenizer(sample['sentence'].lower())\n",
        "decoded_str = processor.decode(inputids.input_ids)\n",
        "decoded_str"
      ]
    },
    {
      "cell_type": "code",
      "execution_count": 14,
      "metadata": {},
      "outputs": [
        {
          "data": {
            "text/plain": [
              "\"she'll be all right<unk>\""
            ]
          },
          "execution_count": 14,
          "metadata": {},
          "output_type": "execute_result"
        }
      ],
      "source": [
        "decoded_str = processor.tokenizer.decode(inputids.input_ids, group_tokens=False)\n",
        "decoded_str"
      ]
    },
    {
      "cell_type": "code",
      "execution_count": 16,
      "metadata": {},
      "outputs": [
        {
          "data": {
            "text/plain": [
              "[\"she'll be all right<unk>\"]"
            ]
          },
          "execution_count": 16,
          "metadata": {},
          "output_type": "execute_result"
        }
      ],
      "source": [
        "decoded_str = processor.tokenizer.batch_decode([inputids.input_ids], group_tokens=False)\n",
        "decoded_str"
      ]
    },
    {
      "cell_type": "code",
      "execution_count": 15,
      "metadata": {},
      "outputs": [
        {
          "data": {
            "text/plain": [
              "{'<pad>': 0,\n",
              " '<s>': 1,\n",
              " '</s>': 2,\n",
              " '<unk>': 3,\n",
              " '|': 4,\n",
              " \"'\": 5,\n",
              " '-': 6,\n",
              " 'a': 7,\n",
              " 'b': 8,\n",
              " 'c': 9,\n",
              " 'd': 10,\n",
              " 'e': 11,\n",
              " 'f': 12,\n",
              " 'g': 13,\n",
              " 'h': 14,\n",
              " 'i': 15,\n",
              " 'j': 16,\n",
              " 'k': 17,\n",
              " 'l': 18,\n",
              " 'm': 19,\n",
              " 'n': 20,\n",
              " 'o': 21,\n",
              " 'p': 22,\n",
              " 'q': 23,\n",
              " 'r': 24,\n",
              " 's': 25,\n",
              " 't': 26,\n",
              " 'u': 27,\n",
              " 'v': 28,\n",
              " 'w': 29,\n",
              " 'x': 30,\n",
              " 'y': 31,\n",
              " 'z': 32}"
            ]
          },
          "execution_count": 15,
          "metadata": {},
          "output_type": "execute_result"
        }
      ],
      "source": [
        "processor.tokenizer.encoder"
      ]
    },
    {
      "cell_type": "code",
      "execution_count": 17,
      "metadata": {},
      "outputs": [],
      "source": [
        "speech_array, sampling_rate = librosa.load(sample[\"path\"], sr=16_000)\n",
        "#sample[\"audio\"][\"array\"] is 48000\n",
        "inputs_sample = processor(speech_array, sampling_rate=sampling_rate, return_tensors=\"pt\")"
      ]
    },
    {
      "cell_type": "code",
      "execution_count": 18,
      "metadata": {},
      "outputs": [
        {
          "data": {
            "text/plain": [
              "{'input_values': tensor([[4.2237e-05, 4.2201e-05, 4.2325e-05,  ..., 4.2364e-05, 4.2385e-05,\n",
              "         4.2037e-05]]), 'attention_mask': tensor([[1, 1, 1,  ..., 1, 1, 1]], dtype=torch.int32)}"
            ]
          },
          "execution_count": 18,
          "metadata": {},
          "output_type": "execute_result"
        }
      ],
      "source": [
        "inputs_sample"
      ]
    },
    {
      "cell_type": "code",
      "execution_count": 19,
      "metadata": {},
      "outputs": [],
      "source": [
        "with torch.no_grad():\n",
        "    logits = model(inputs_sample.input_values, attention_mask=inputs_sample.attention_mask).logits"
      ]
    },
    {
      "cell_type": "code",
      "execution_count": 20,
      "metadata": {},
      "outputs": [
        {
          "data": {
            "text/plain": [
              "torch.Size([1, 108, 33])"
            ]
          },
          "execution_count": 20,
          "metadata": {},
          "output_type": "execute_result"
        }
      ],
      "source": [
        "logits.shape"
      ]
    },
    {
      "cell_type": "code",
      "execution_count": 21,
      "metadata": {},
      "outputs": [
        {
          "data": {
            "text/plain": [
              "torch.Size([1, 108])"
            ]
          },
          "execution_count": 21,
          "metadata": {},
          "output_type": "execute_result"
        }
      ],
      "source": [
        "predicted_ids = torch.argmax(logits, dim=-1)\n",
        "predicted_ids.shape"
      ]
    },
    {
      "cell_type": "code",
      "execution_count": 22,
      "metadata": {},
      "outputs": [
        {
          "data": {
            "text/plain": [
              "[\"she'll be all right\"]"
            ]
          },
          "execution_count": 22,
          "metadata": {},
          "output_type": "execute_result"
        }
      ],
      "source": [
        "predicted_sentences = processor.batch_decode(predicted_ids)\n",
        "predicted_sentences"
      ]
    },
    {
      "cell_type": "code",
      "execution_count": 23,
      "metadata": {},
      "outputs": [
        {
          "data": {
            "application/vnd.jupyter.widget-view+json": {
              "model_id": "004c7a5162bc46cca8a3f8b1d1e5a492",
              "version_major": 2,
              "version_minor": 0
            },
            "text/plain": [
              "Map:   0%|          | 0/200 [00:00<?, ? examples/s]"
            ]
          },
          "metadata": {},
          "output_type": "display_data"
        }
      ],
      "source": [
        "# Preprocessing the datasets.\n",
        "# We need to read the audio files as arrays\n",
        "def speech_file_to_array_fn(batch):\n",
        "    speech_array, sampling_rate = librosa.load(batch[\"path\"], sr=16_000)\n",
        "    batch[\"speech\"] = speech_array\n",
        "    batch[\"sentence\"] = batch[\"sentence\"]#.upper()\n",
        "    return batch\n",
        "\n",
        "test_dataset_new = test_dataset.map(speech_file_to_array_fn)\n",
        "inputs = processor(test_dataset_new[\"speech\"], sampling_rate=16_000, return_tensors=\"pt\", padding=True)\n",
        "\n",
        "with torch.no_grad():\n",
        "    logits = model(inputs.input_values, attention_mask=inputs.attention_mask).logits\n",
        "\n",
        "predicted_ids = torch.argmax(logits, dim=-1)\n",
        "predicted_sentences = processor.batch_decode(predicted_ids)\n"
      ]
    },
    {
      "cell_type": "code",
      "execution_count": 25,
      "metadata": {},
      "outputs": [
        {
          "data": {
            "text/plain": [
              "['joe keatson disapproved of films and buster also had reservations about the medium',\n",
              " \"she'll be all right\",\n",
              " 'six',\n",
              " 'all as well that ends well',\n",
              " 'it is a busy market town that serves a large surrounded area',\n",
              " 'the team at olympic chapion carolina marine in is quiet forty season',\n",
              " 'do you mean it',\n",
              " 'the new patch is less invasive than the old one but still causes regression',\n",
              " 'how is moslillar going to handle andbewooth his like q and q',\n",
              " 'christian ws sitin pam on te batty',\n",
              " 'no one near the remote machine you could ring',\n",
              " 'sauce for the guice is sauce for the gonder',\n",
              " 'grafs started writing songs when she was four years old',\n",
              " 'his uncle mike schula was the former edge coach at alabama',\n",
              " 'the response was that the ball did not appoint individual officers',\n",
              " 'the long-lived bleached still stands today',\n",
              " 'there was nothing to hold him back except himself',\n",
              " 'the mead processing and construction industries would be allowed to operate with readios personel',\n",
              " \"cole's branch is underlayd by the deep river basin\",\n",
              " 'we spoke off on',\n",
              " 'he was protestant',\n",
              " 'they decretion youp pozzls',\n",
              " 'a leader on the fighter truck was not long enough',\n",
              " 'i will tell her what we decided',\n",
              " 'these and the other leaders are advised and supported by the adult leaders',\n",
              " 'loimoni a oxparian belongs to a class of truks monars bonalgiagat apariska',\n",
              " 'good things come in small paggages',\n",
              " 'bowles is studying chemical engineering at the university college dublin',\n",
              " 'it is a member theatre of the union of the theatres of europe',\n",
              " 'all three battalions were equipped with captured frenge tanks',\n",
              " 'you want to take this outside',\n",
              " 'she joined the k patrol line and patrolled off inalaska island',\n",
              " 'the imergion in hotwater also kills the sick one upah',\n",
              " 'she married her benness partner stephen lee',\n",
              " 'the attak on your road serve war strained our senior administrator',\n",
              " 'do you want me',\n",
              " 'that would be funny if he did',\n",
              " 'eight national paralympic committee kotas and three individual athlete kotas were secured',\n",
              " 'although she had flowers and applause maybe said she was not content',\n",
              " 'add the column and put the sum here',\n",
              " 'they perfectly illuminate the flower beds of t gardens',\n",
              " 'a mantion was usually hit on a one square',\n",
              " 'arlstone commented that he felt the cartoonist might have had some racial intent',\n",
              " 'he is the chief clerk of the chipalo and northwestern railroad',\n",
              " 'doing a handstan needs a lot of practice to learn',\n",
              " 'man in red t-shirt and baseball cap views from above he is as a pile of postures',\n",
              " 'the two films were then released within one day each other',\n",
              " 'what did he say his name wos asked the captain',\n",
              " 'he has german ancestry from his paternal sight',\n",
              " 'yes',\n",
              " 'many mean the kapalloturman is a gereqyo bashanzachabilirsens',\n",
              " 'after experiencing a mind-blowing sensual orgy mikes was sure he had taken ot over those',\n",
              " 'religious festivals include the muslim eids and the christian christmas and easter',\n",
              " 'what are you advise sir',\n",
              " 'charles looked on angry that there was nothing he could do',\n",
              " 'she had more personal exhibitions and participated in group exhibitions as well',\n",
              " 'the mony feasts to made apparent the philosophical changes that allus has undergone',\n",
              " 'she was also appointed the elenor easiley distinguished professor of medicine',\n",
              " 'carinas wurenoug of dancing with the stars hosted the following month',\n",
              " 'it is inhibited by the neumotoxic center',\n",
              " 'his white green and many friends',\n",
              " 'an important verson in the life of gemir cross was the painter jenn montegni',\n",
              " \"in the united states federal vehicle fleets refer to the federal government's vehicles\",\n",
              " 'it was on by a woman frombara swated bupy',\n",
              " 'te pring are then delivered to the constals',\n",
              " 'in spite of this i still believe that there were men ion marce',\n",
              " 'teland swilled bu had to fend sima the later in ravi',\n",
              " 'footprints of mud and clay were on the floor',\n",
              " 'other wearming weluses ainhungsan los comedy in filbo basma blat milk wom prakes and harxhantan',\n",
              " 'i pointed out mars a bright dot of light',\n",
              " 'he ended up running to the bars which fortified the windows of the first floor',\n",
              " 'i know why i want to get back to my flock he thought',\n",
              " 'many notable problems and study composers  are also international judges including gendrik kasparian  ss',\n",
              " 'many of the supporting characters present an unflattering portrayal of colonial life in virginia',\n",
              " 'you should see the other guin specifili how go that fighting his',\n",
              " 'he is of african-american egitary descent',\n",
              " \"that's not carson spinks\",\n",
              " 'some rules of thumb are also accepted in the codes',\n",
              " 'lorrange is listed as a swiss heritage site of national significance',\n",
              " 'i have never in life head at tennis ball',\n",
              " 'the warehouses of megapolis ucraine in six cities were blocked by activists',\n",
              " 'he is the first known and undisputed member of the geminids',\n",
              " 'lion rock is located northwest of wong taising',\n",
              " 'at dusk the greek western flank was broker',\n",
              " 'her father is sure to inherit',\n",
              " 'we should not take for granted how fortunate we have been',\n",
              " 'topical and up to the minute e',\n",
              " 'the farmer works the soil and produces grain',\n",
              " \"since i've gotten a dog the regular visits of the fox have stopped\",\n",
              " 'his speech ended with a standing ovation',\n",
              " 'ahd',\n",
              " 'the reserve is in prestine condition with almost no human habitation',\n",
              " 'the wind told me that you know about love the boy said to the sun',\n",
              " 'jales began playing gaz trompetes but avan charlish richard to blues guitar',\n",
              " 'this is the context in which the film begins',\n",
              " 'these qualities make her beloved by her home ton',\n",
              " 'the little pink ones are so cute',\n",
              " 'the students colored with their craons',\n",
              " 'it seemed to him that it fell to earth about one hundred miles east here',\n",
              " 'as such it is base uniform but with irregular base polygons',\n",
              " 'yours hare and raf',\n",
              " 'he took the fourth af and handed to the monk',\n",
              " 'he is a right-handed batsman and a left armslow bowler',\n",
              " 'cador is also said to be of roman stock',\n",
              " 'where will you go',\n",
              " 'only john ven himself surepassed mcgrurt in sins in his movie',\n",
              " 'it was opened in july of that year',\n",
              " 'verashling is a talented farm manager she works in vienna',\n",
              " 'they were eliminated in the fourth episode',\n",
              " 'islandmunisen means near the island',\n",
              " 'the owner of the dwelling was not amused',\n",
              " 'all of this activity in milwackee was in noway unique',\n",
              " 'william barnes the poet also lived in starmr newton',\n",
              " 'by dancer pappi going through their steps in unison',\n",
              " 'so glad to see you',\n",
              " 'corncockle is an attractive plant and its seeds are still commercially available to gardeners',\n",
              " 'tavio de oro is headed by its governor as the chief executive',\n",
              " 'the swedish actress ana nori instructed her in drama',\n",
              " 'then she looked up',\n",
              " 'agny agrees to let togetta film his revenge on doma in exchange for training',\n",
              " 'what was he like',\n",
              " 'luckinly the dagger couldnt penetrate the bulletproof vest',\n",
              " 'like everybody learns he said',\n",
              " 'this has become a bit of occult in romania',\n",
              " 'his other film roles includes who done it',\n",
              " 'how often has tha train been late',\n",
              " 'he is currently a member of investment bank effreys global senior accessory bord',\n",
              " 'to increase his popularity in public opinion halds the politician started a campaign',\n",
              " 'she was the first woman senator to die in office',\n",
              " 'where is it then',\n",
              " 'always ask an objective question',\n",
              " 'pit the current pose tis ginary ortucis',\n",
              " 'people from ol overhave come to test its beer stew',\n",
              " 'more discussion is needed on how it will be financed',\n",
              " 'a soldier wearing a pink scalf peers out of the top of a vaker',\n",
              " 'passive surveilance is often incomplete because of the limited reporting incentives',\n",
              " 'princess phylas herself also contributed personally to the construction of the temple',\n",
              " 'wenpalio refers to a clvency to stama',\n",
              " 'he became chief of the army personnal department',\n",
              " \"i can't work for the wrestle today the boy answered\",\n",
              " \"i'd like to order some cinnamon prepsels please\",\n",
              " 'the boy was also saddened his friend was in pursue of his desdain',\n",
              " 'women form less than half of the group',\n",
              " 'man play football as the crowd watches',\n",
              " 'how about one smore arounde park',\n",
              " 'it is posboned that there were other bases',\n",
              " 'radio will go on and on for river',\n",
              " 'the genus name was given in honor of queen victoria of the united kingdom',\n",
              " 'a song a gull amade',\n",
              " 'nake flan was raised by his mother in setrid massachusetts as suverb of bouston',\n",
              " 'these plants are hemaphroditic',\n",
              " 'local branches throughout slovakia were primarily angaged in public education and cultural activities',\n",
              " 'the current representative for the district is democrat karin power of milwaukee',\n",
              " 'the major industry has been slate mining',\n",
              " 'tudor signature flight support services private air catain the sira',\n",
              " 'at these processis intens an offen-lingphy',\n",
              " 'he also was the elected senator of kuzestan',\n",
              " 'deron appears wite on the toop map as an orange srine',\n",
              " 'almoun imigrated to the united states from france and sold hats as an occupation',\n",
              " 'what kind opprove is that',\n",
              " 'the crew also activated one group of the payloard be gataway special experiments',\n",
              " 'the application was rejected',\n",
              " 'they had a lot to dirules',\n",
              " 'the printer also supports landscape orientation and multiple type faces',\n",
              " 'they displaced at normal load and at deep load',\n",
              " \"every day was there to be live artu marks won's departure from this globe\",\n",
              " \"let's go to arba\",\n",
              " 'potato gripts are thinly sliced fried potatoes eaten as a snack',\n",
              " 'the movie white christmas also starred bing crosby and daniel k',\n",
              " 'the staircase survives in the swan hotel and bedford',\n",
              " 'only six of the planne ten episodes were produced',\n",
              " \"we're giving him no ruest\",\n",
              " 'doublese may use rulers who shape the can leat and the final doublesea',\n",
              " 'throughout the entire day we will be on the lookout for our enemies',\n",
              " 'the palace was rebuilt with the same stones',\n",
              " 'he was employed in the coal industry before assuming office',\n",
              " \"the village's topography is mostly flat\",\n",
              " 'plastic surgery has become more popular',\n",
              " 'the trackin reference did not wate',\n",
              " 'but you are joking',\n",
              " 'thesa rigional parts of the hospital are now anadministrative and e social accommendation',\n",
              " 'shee wanted to do penance',\n",
              " 'with no weapons the only attack option open to him was erial rimming',\n",
              " 'it was in six-penny hundred and the lord tenant-in-chief was shactersbury abbey',\n",
              " 'after being coached he helled other functions within dutch speat skating',\n",
              " 'tus creanes do not provide head-pig feed birde',\n",
              " 'it was a tent like many of the oasis',\n",
              " 'this served foutherday teres to ndivelpions of the casioo ibi culari',\n",
              " 'rosemary was born in uganda and she attended local primary and secondary schools',\n",
              " \"this blurried tomography doesn't help me a lot with the diagnosis\",\n",
              " 'sunburns can be avoided by applying screen or by staying in the shadows',\n",
              " 'falls on the other hand can occur only while the ball is in a play',\n",
              " 'in pure vacuums some weak scattering offlight by light exists as well',\n",
              " 'since leaving office he has attended a number of other events of h significants',\n",
              " 'fatima the girl sat averting her eyes',\n",
              " 'eeeeeee',\n",
              " 'she also taught journalism at the university of california at bergley',\n",
              " 'still waters run deep',\n",
              " 'the university is a member of several organizations of colleges and universities',\n",
              " 'these charms have a mallo sound']"
            ]
          },
          "execution_count": 25,
          "metadata": {},
          "output_type": "execute_result"
        }
      ],
      "source": [
        "predicted_sentences"
      ]
    },
    {
      "cell_type": "code",
      "execution_count": 26,
      "metadata": {},
      "outputs": [
        {
          "name": "stdout",
          "output_type": "stream",
          "text": [
            "----------------------------------------------------------------------------------------------------\n",
            "Reference: Joe Keaton disapproved of films, and Buster also had reservations about the medium.\n",
            "Prediction: joe keatson disapproved of films and buster also had reservations about the medium\n",
            "----------------------------------------------------------------------------------------------------\n",
            "Reference: She'll be all right.\n",
            "Prediction: she'll be all right\n",
            "----------------------------------------------------------------------------------------------------\n",
            "Reference: six\n",
            "Prediction: six\n",
            "----------------------------------------------------------------------------------------------------\n",
            "Reference: All's well that ends well.\n",
            "Prediction: all as well that ends well\n",
            "----------------------------------------------------------------------------------------------------\n",
            "Reference: It is a busy market town that serves a large surrounding area.\n",
            "Prediction: it is a busy market town that serves a large surrounded area\n",
            "----------------------------------------------------------------------------------------------------\n",
            "Reference: The team had Olympic Champion Carolina Marin in their squad for the season.\n",
            "Prediction: the team at olympic chapion carolina marine in is quiet forty season\n",
            "----------------------------------------------------------------------------------------------------\n",
            "Reference: Do you mean it?\n",
            "Prediction: do you mean it\n",
            "----------------------------------------------------------------------------------------------------\n",
            "Reference: The new patch is less invasive than the old one, but still causes regressions.\n",
            "Prediction: the new patch is less invasive than the old one but still causes regression\n",
            "----------------------------------------------------------------------------------------------------\n",
            "Reference: How is Mozilla going to handle ambiguities like queue and cue?\n",
            "Prediction: how is moslillar going to handle andbewooth his like q and q\n",
            "----------------------------------------------------------------------------------------------------\n",
            "Reference: I guess you must think I'm kinda batty.\n",
            "Prediction: christian ws sitin pam on te batty\n",
            "----------------------------------------------------------------------------------------------------\n",
            "Reference: No one near the remote machine you could ring?\n",
            "Prediction: no one near the remote machine you could ring\n",
            "----------------------------------------------------------------------------------------------------\n",
            "Reference: Sauce for the goose is sauce for the gander.\n",
            "Prediction: sauce for the guice is sauce for the gonder\n",
            "----------------------------------------------------------------------------------------------------\n",
            "Reference: Groves started writing songs when she was four years old.\n",
            "Prediction: grafs started writing songs when she was four years old\n",
            "----------------------------------------------------------------------------------------------------\n",
            "Reference: His uncle Mike Shula was the former head coach at Alabama.\n",
            "Prediction: his uncle mike schula was the former edge coach at alabama\n",
            "----------------------------------------------------------------------------------------------------\n",
            "Reference: The response was that the Board did not appoint individual officers.\n",
            "Prediction: the response was that the ball did not appoint individual officers\n",
            "----------------------------------------------------------------------------------------------------\n",
            "Reference: The long-lived bridge still stands today.\n",
            "Prediction: the long-lived bleached still stands today\n",
            "----------------------------------------------------------------------------------------------------\n",
            "Reference: There was nothing to hold him back except himself.\n",
            "Prediction: there was nothing to hold him back except himself\n",
            "----------------------------------------------------------------------------------------------------\n",
            "Reference: The meat processing and construction industries would be allowed to operate with reduced personnel.\n",
            "Prediction: the mead processing and construction industries would be allowed to operate with readios personel\n",
            "----------------------------------------------------------------------------------------------------\n",
            "Reference: Coles Branch is underlaid by the Deep River Basin.\n",
            "Prediction: cole's branch is underlayd by the deep river basin\n",
            "----------------------------------------------------------------------------------------------------\n",
            "Reference: We spoke often.\n",
            "Prediction: we spoke off on\n",
            "----------------------------------------------------------------------------------------------------\n",
            "Reference: He was Protestant.\n",
            "Prediction: he was protestant\n",
            "----------------------------------------------------------------------------------------------------\n",
            "Reference: The electrician looked puzzled.\n",
            "Prediction: they decretion youp pozzls\n",
            "----------------------------------------------------------------------------------------------------\n",
            "Reference: The ladder on the fire truck was not long enough.\n",
            "Prediction: a leader on the fighter truck was not long enough\n",
            "----------------------------------------------------------------------------------------------------\n",
            "Reference: I will tell her what we decided.\n",
            "Prediction: i will tell her what we decided\n",
            "----------------------------------------------------------------------------------------------------\n",
            "Reference: These and the other youth leaders are advised and supported by the adult leaders.\n",
            "Prediction: these and the other leaders are advised and supported by the adult leaders\n",
            "----------------------------------------------------------------------------------------------------\n",
            "Reference: Enoxaparin belongs to the class of drugs known as low molecular weight heparins.\n",
            "Prediction: loimoni a oxparian belongs to a class of truks monars bonalgiagat apariska\n",
            "----------------------------------------------------------------------------------------------------\n",
            "Reference: Good things come in small packages.\n",
            "Prediction: good things come in small paggages\n",
            "----------------------------------------------------------------------------------------------------\n",
            "Reference: Boles is studying chemical engineering at the University College Dublin.\n",
            "Prediction: bowles is studying chemical engineering at the university college dublin\n",
            "----------------------------------------------------------------------------------------------------\n",
            "Reference: It is a member theater of the Union of the Theatres of Europe.\n",
            "Prediction: it is a member theatre of the union of the theatres of europe\n",
            "----------------------------------------------------------------------------------------------------\n",
            "Reference: All three battalions were equipped with captured French tanks.\n",
            "Prediction: all three battalions were equipped with captured frenge tanks\n",
            "----------------------------------------------------------------------------------------------------\n",
            "Reference: YOU WANNA TAKE THIS OUTSIDE?\n",
            "Prediction: you want to take this outside\n",
            "----------------------------------------------------------------------------------------------------\n",
            "Reference: She joined the \"K\" patrol line and patrolled off Unalaska Island.\n",
            "Prediction: she joined the k patrol line and patrolled off inalaska island\n",
            "----------------------------------------------------------------------------------------------------\n",
            "Reference: The immersion in hot water also kills the silkworm pupa.\n",
            "Prediction: the imergion in hotwater also kills the sick one upah\n",
            "----------------------------------------------------------------------------------------------------\n",
            "Reference: She married her business partner, Steve Lane.\n",
            "Prediction: she married her benness partner stephen lee\n",
            "----------------------------------------------------------------------------------------------------\n",
            "Reference: The attack on our root server overstrained our senior administrator.\n",
            "Prediction: the attak on your road serve war strained our senior administrator\n",
            "----------------------------------------------------------------------------------------------------\n",
            "Reference: Do you want me?\n",
            "Prediction: do you want me\n",
            "----------------------------------------------------------------------------------------------------\n",
            "Reference: That would be funny if he did.\n",
            "Prediction: that would be funny if he did\n",
            "----------------------------------------------------------------------------------------------------\n",
            "Reference: Eight National Paralympic Committee quotas and three individual athlete quotas were secured.\n",
            "Prediction: eight national paralympic committee kotas and three individual athlete kotas were secured\n",
            "----------------------------------------------------------------------------------------------------\n",
            "Reference: Although she had flowers and applause, Mavis said she was not content.\n",
            "Prediction: although she had flowers and applause maybe said she was not content\n",
            "----------------------------------------------------------------------------------------------------\n",
            "Reference: Add the column and put the sum here.\n",
            "Prediction: add the column and put the sum here\n",
            "----------------------------------------------------------------------------------------------------\n",
            "Reference: They perfectly illuminate the flowerbeds of gardens.\n",
            "Prediction: they perfectly illuminate the flower beds of t gardens\n",
            "----------------------------------------------------------------------------------------------------\n",
            "Reference: A mansion was usually set on a one square.\n",
            "Prediction: a mantion was usually hit on a one square\n",
            "----------------------------------------------------------------------------------------------------\n",
            "Reference: Alston commented that he felt the cartoonist \"might have had some racial intent\".\n",
            "Prediction: arlstone commented that he felt the cartoonist might have had some racial intent\n",
            "----------------------------------------------------------------------------------------------------\n",
            "Reference: He was the chief clerk of the Chicago and Northwestern Railroad.\n",
            "Prediction: he is the chief clerk of the chipalo and northwestern railroad\n",
            "----------------------------------------------------------------------------------------------------\n",
            "Reference: Doing a handstand needs a lot of practice to learn.\n",
            "Prediction: doing a handstan needs a lot of practice to learn\n",
            "----------------------------------------------------------------------------------------------------\n",
            "Reference: Man in red tshirt and baseball cap viewed from above he is has a pile of posters\n",
            "Prediction: man in red t-shirt and baseball cap views from above he is as a pile of postures\n",
            "----------------------------------------------------------------------------------------------------\n",
            "Reference: The two films were then released within one day of each other.\n",
            "Prediction: the two films were then released within one day each other\n",
            "----------------------------------------------------------------------------------------------------\n",
            "Reference: ‘What did he say his name was?’ asked the captain.\n",
            "Prediction: what did he say his name wos asked the captain\n",
            "----------------------------------------------------------------------------------------------------\n",
            "Reference: He has German ancestry from his paternal side.\n",
            "Prediction: he has german ancestry from his paternal sight\n",
            "----------------------------------------------------------------------------------------------------\n",
            "Reference: yes\n",
            "Prediction: yes\n",
            "----------------------------------------------------------------------------------------------------\n",
            "Reference: Since their inception, Harris has been the band's principal composer and lyricist.\n",
            "Prediction: many mean the kapalloturman is a gereqyo bashanzachabilirsens\n",
            "----------------------------------------------------------------------------------------------------\n",
            "Reference: After experiencing a mind-blowing sensual orgy, Mike was sure he had taken an overdose.\n",
            "Prediction: after experiencing a mind-blowing sensual orgy mikes was sure he had taken ot over those\n",
            "----------------------------------------------------------------------------------------------------\n",
            "Reference: Religious festivals include the Muslim Eids and the Christian Christmas and Easter.\n",
            "Prediction: religious festivals include the muslim eids and the christian christmas and easter\n",
            "----------------------------------------------------------------------------------------------------\n",
            "Reference: What do you advise, sir?\n",
            "Prediction: what are you advise sir\n",
            "----------------------------------------------------------------------------------------------------\n",
            "Reference: Charles looked on, angry that there was nothing he could do.\n",
            "Prediction: charles looked on angry that there was nothing he could do\n",
            "----------------------------------------------------------------------------------------------------\n",
            "Reference: She had made personal exhibitions and participated in group exhibitions as well.\n",
            "Prediction: she had more personal exhibitions and participated in group exhibitions as well\n",
            "----------------------------------------------------------------------------------------------------\n",
            "Reference: The manifesto made apparent the philosophical changes that Abbas had undergone.\n",
            "Prediction: the mony feasts to made apparent the philosophical changes that allus has undergone\n",
            "----------------------------------------------------------------------------------------------------\n",
            "Reference: She was also appointed the Eleanor Easley Distinguished Professor of Medicine.\n",
            "Prediction: she was also appointed the elenor easiley distinguished professor of medicine\n",
            "----------------------------------------------------------------------------------------------------\n",
            "Reference: Karina Smirnoff of \"Dancing With The Stars\" hosted the following month.\n",
            "Prediction: carinas wurenoug of dancing with the stars hosted the following month\n",
            "----------------------------------------------------------------------------------------------------\n",
            "Reference: It is inhibited by the pneumotaxic centre.\n",
            "Prediction: it is inhibited by the neumotoxic center\n",
            "----------------------------------------------------------------------------------------------------\n",
            "Reference: His wide grin earned many friends.\n",
            "Prediction: his white green and many friends\n",
            "----------------------------------------------------------------------------------------------------\n",
            "Reference: An important person in the life of Emile Claus was the painter Jenny Montigny.\n",
            "Prediction: an important verson in the life of gemir cross was the painter jenn montegni\n",
            "----------------------------------------------------------------------------------------------------\n",
            "Reference: In the United States, Federal Vehicle fleets refers to the federal government's vehicles.\n",
            "Prediction: in the united states federal vehicle fleets refer to the federal government's vehicles\n",
            "----------------------------------------------------------------------------------------------------\n",
            "Reference: It was won by a woman from Vara, Sweden.\n",
            "Prediction: it was on by a woman frombara swated bupy\n",
            "----------------------------------------------------------------------------------------------------\n",
            "Reference: The prints are then delivered to the customer.\n",
            "Prediction: te pring are then delivered to the constals\n",
            "----------------------------------------------------------------------------------------------------\n",
            "Reference: In spite of this, I still believed that there were men in Mars.\n",
            "Prediction: in spite of this i still believe that there were men ion marce\n",
            "----------------------------------------------------------------------------------------------------\n",
            "Reference: The land was ruined, and I had to find some other way to earn a living.\n",
            "Prediction: teland swilled bu had to fend sima the later in ravi\n",
            "----------------------------------------------------------------------------------------------------\n",
            "Reference: Footprints of mud and clay were on the floor.\n",
            "Prediction: footprints of mud and clay were on the floor\n",
            "----------------------------------------------------------------------------------------------------\n",
            "Reference: Other well-known relatives in Handsome Lake's family included Governor Blacksnake, Red Jacket and Half-Town.\n",
            "Prediction: other wearming weluses ainhungsan los comedy in filbo basma blat milk wom prakes and harxhantan\n",
            "----------------------------------------------------------------------------------------------------\n",
            "Reference: I pointed out Mars, a bright dot of light.\n",
            "Prediction: i pointed out mars a bright dot of light\n",
            "----------------------------------------------------------------------------------------------------\n",
            "Reference: He ended up running to the bars which fortified the windows of the first floor.\n",
            "Prediction: he ended up running to the bars which fortified the windows of the first floor\n",
            "----------------------------------------------------------------------------------------------------\n",
            "Reference: I know why I want to get back to my flock, he thought.\n",
            "Prediction: i know why i want to get back to my flock he thought\n",
            "----------------------------------------------------------------------------------------------------\n",
            "Reference: Many notable problem and study composers are also International Judges, including Genrikh Kasparyan.\n",
            "Prediction: many notable problems and study composers  are also international judges including gendrik kasparian  ss\n",
            "----------------------------------------------------------------------------------------------------\n",
            "Reference: Many of the supporting characters present an unflattering portrayal of colonial life in Virginia.\n",
            "Prediction: many of the supporting characters present an unflattering portrayal of colonial life in virginia\n",
            "----------------------------------------------------------------------------------------------------\n",
            "Reference: You should see the other guy, specifically, how good at fighting he is.\n",
            "Prediction: you should see the other guin specifili how go that fighting his\n",
            "----------------------------------------------------------------------------------------------------\n",
            "Reference: He is of African-American and Italian descent.\n",
            "Prediction: he is of african-american egitary descent\n",
            "----------------------------------------------------------------------------------------------------\n",
            "Reference: That's not Carson Sphinx.\n",
            "Prediction: that's not carson spinks\n",
            "----------------------------------------------------------------------------------------------------\n",
            "Reference: Some rules of thumb are also accepted in the codes.\n",
            "Prediction: some rules of thumb are also accepted in the codes\n",
            "----------------------------------------------------------------------------------------------------\n",
            "Reference: Lorenz is listed as a Swiss heritage site of national significance.\n",
            "Prediction: lorrange is listed as a swiss heritage site of national significance\n",
            "----------------------------------------------------------------------------------------------------\n",
            "Reference: I have never in life hit a tennis ball.\n",
            "Prediction: i have never in life head at tennis ball\n",
            "----------------------------------------------------------------------------------------------------\n",
            "Reference: The warehouses of Megapolis Ukraine in six cities were blocked by activists.\n",
            "Prediction: the warehouses of megapolis ucraine in six cities were blocked by activists\n",
            "----------------------------------------------------------------------------------------------------\n",
            "Reference: He is the first known and undisputed member of the Gediminids.\n",
            "Prediction: he is the first known and undisputed member of the geminids\n",
            "----------------------------------------------------------------------------------------------------\n",
            "Reference: Lion Rock is located north west of Wong Tai Sin.\n",
            "Prediction: lion rock is located northwest of wong taising\n",
            "----------------------------------------------------------------------------------------------------\n",
            "Reference: At dusk the Greek western flank was broken.\n",
            "Prediction: at dusk the greek western flank was broker\n",
            "----------------------------------------------------------------------------------------------------\n",
            "Reference: Her father is sure to inherit.\n",
            "Prediction: her father is sure to inherit\n",
            "----------------------------------------------------------------------------------------------------\n",
            "Reference: We should not take for granted how fortunate we have been.\n",
            "Prediction: we should not take for granted how fortunate we have been\n",
            "----------------------------------------------------------------------------------------------------\n",
            "Reference: Topical and up-to-the-minute, E!\n",
            "Prediction: topical and up to the minute e\n",
            "----------------------------------------------------------------------------------------------------\n",
            "Reference: The farmer works the soil and produces grain.\n",
            "Prediction: the farmer works the soil and produces grain\n",
            "----------------------------------------------------------------------------------------------------\n",
            "Reference: Since I've gotten a dog, the regular visits of the fox have stopped.\n",
            "Prediction: since i've gotten a dog the regular visits of the fox have stopped\n",
            "----------------------------------------------------------------------------------------------------\n",
            "Reference: His speech ended with a standing ovation.\n",
            "Prediction: his speech ended with a standing ovation\n",
            "----------------------------------------------------------------------------------------------------\n",
            "Reference: eight\n",
            "Prediction: ahd\n",
            "----------------------------------------------------------------------------------------------------\n",
            "Reference: The reserve is in pristine condition with almost no human habitation.\n",
            "Prediction: the reserve is in prestine condition with almost no human habitation\n",
            "----------------------------------------------------------------------------------------------------\n",
            "Reference: \"The wind told me that you know about love\" the boy said to the sun.\n",
            "Prediction: the wind told me that you know about love the boy said to the sun\n",
            "----------------------------------------------------------------------------------------------------\n",
            "Reference: Geils began playing jazz trumpet but eventually switched to blues guitar.\n",
            "Prediction: jales began playing gaz trompetes but avan charlish richard to blues guitar\n",
            "----------------------------------------------------------------------------------------------------\n",
            "Reference: This is the context in which the film begins.\n",
            "Prediction: this is the context in which the film begins\n",
            "----------------------------------------------------------------------------------------------------\n",
            "Reference: These qualities make her beloved by her hometown.\n",
            "Prediction: these qualities make her beloved by her home ton\n",
            "----------------------------------------------------------------------------------------------------\n",
            "Reference: The little pink ones are so cute.\n",
            "Prediction: the little pink ones are so cute\n",
            "----------------------------------------------------------------------------------------------------\n",
            "Reference: The students colored with their crayons.\n",
            "Prediction: the students colored with their craons\n",
            "----------------------------------------------------------------------------------------------------\n",
            "Reference: It seemed to him that it fell to earth about one hundred miles east of here.\n",
            "Prediction: it seemed to him that it fell to earth about one hundred miles east here\n",
            "----------------------------------------------------------------------------------------------------\n",
            "Reference: As such it is face uniform but with irregular face polygons.\n",
            "Prediction: as such it is base uniform but with irregular base polygons\n",
            "----------------------------------------------------------------------------------------------------\n",
            "Reference: George Hare and Rev.\n",
            "Prediction: yours hare and raf\n",
            "----------------------------------------------------------------------------------------------------\n",
            "Reference: He took the fourth part and handed it to the monk.\n",
            "Prediction: he took the fourth af and handed to the monk\n",
            "----------------------------------------------------------------------------------------------------\n",
            "Reference: He is a right-handed batsman and a left-arm slow bowler.\n",
            "Prediction: he is a right-handed batsman and a left armslow bowler\n",
            "----------------------------------------------------------------------------------------------------\n",
            "Reference: Cador is also said to be of Roman stock.\n",
            "Prediction: cador is also said to be of roman stock\n",
            "----------------------------------------------------------------------------------------------------\n",
            "Reference: Where will you go?\n",
            "Prediction: where will you go\n",
            "----------------------------------------------------------------------------------------------------\n",
            "Reference: Only John Wayne himself surpassed McGrath in scenes in this movie.\n",
            "Prediction: only john ven himself surepassed mcgrurt in sins in his movie\n",
            "----------------------------------------------------------------------------------------------------\n",
            "Reference: It was opened in July of that year.\n",
            "Prediction: it was opened in july of that year\n",
            "----------------------------------------------------------------------------------------------------\n",
            "Reference: Vera Schlink is a talented fund manager. She works in Vienna.\n",
            "Prediction: verashling is a talented farm manager she works in vienna\n",
            "----------------------------------------------------------------------------------------------------\n",
            "Reference: They were eliminated in the fourth episode.\n",
            "Prediction: they were eliminated in the fourth episode\n",
            "----------------------------------------------------------------------------------------------------\n",
            "Reference: 'Munising' means near the island.\n",
            "Prediction: islandmunisen means near the island\n",
            "----------------------------------------------------------------------------------------------------\n",
            "Reference: The owner of the dwelling was not amused.\n",
            "Prediction: the owner of the dwelling was not amused\n",
            "----------------------------------------------------------------------------------------------------\n",
            "Reference: All of this activity in Milwaukee was in no way unique.\n",
            "Prediction: all of this activity in milwackee was in noway unique\n",
            "----------------------------------------------------------------------------------------------------\n",
            "Reference: William Barnes the poet also lived in Sturminster Newton.\n",
            "Prediction: william barnes the poet also lived in starmr newton\n",
            "----------------------------------------------------------------------------------------------------\n",
            "Reference: Thai dancers happily going through their steps in unison.\n",
            "Prediction: by dancer pappi going through their steps in unison\n",
            "----------------------------------------------------------------------------------------------------\n",
            "Reference: I'm so glad to see you.\n",
            "Prediction: so glad to see you\n",
            "----------------------------------------------------------------------------------------------------\n",
            "Reference: Corncockle is an attractive plant, and its seeds are still commercially available to gardeners.\n",
            "Prediction: corncockle is an attractive plant and its seeds are still commercially available to gardeners\n",
            "----------------------------------------------------------------------------------------------------\n",
            "Reference: Davao de Oro is headed by its governor as the chief executive.\n",
            "Prediction: tavio de oro is headed by its governor as the chief executive\n",
            "----------------------------------------------------------------------------------------------------\n",
            "Reference: The Swedish actress Anna Norrie instructed her in drama.\n",
            "Prediction: the swedish actress ana nori instructed her in drama\n",
            "----------------------------------------------------------------------------------------------------\n",
            "Reference: Then she looked up.\n",
            "Prediction: then she looked up\n",
            "----------------------------------------------------------------------------------------------------\n",
            "Reference: Agni agrees to let Togata film his revenge on Doma in exchange for training.\n",
            "Prediction: agny agrees to let togetta film his revenge on doma in exchange for training\n",
            "----------------------------------------------------------------------------------------------------\n",
            "Reference: What was he like?\n",
            "Prediction: what was he like\n",
            "----------------------------------------------------------------------------------------------------\n",
            "Reference: Luckily, the dagger couldn't penetrate the bullet proof vest.\n",
            "Prediction: luckinly the dagger couldnt penetrate the bulletproof vest\n",
            "----------------------------------------------------------------------------------------------------\n",
            "Reference: \"Like everybody learns,\" he said.\n",
            "Prediction: like everybody learns he said\n",
            "----------------------------------------------------------------------------------------------------\n",
            "Reference: This has become a bit of a cult in Romania.\n",
            "Prediction: this has become a bit of occult in romania\n",
            "----------------------------------------------------------------------------------------------------\n",
            "Reference: His other film roles include Who Done It?\n",
            "Prediction: his other film roles includes who done it\n",
            "----------------------------------------------------------------------------------------------------\n",
            "Reference: How often has the train been late?\n",
            "Prediction: how often has tha train been late\n",
            "----------------------------------------------------------------------------------------------------\n",
            "Reference: He is currently a member of investment bank Jefferies' Global Senior Advisory Board.\n",
            "Prediction: he is currently a member of investment bank effreys global senior accessory bord\n",
            "----------------------------------------------------------------------------------------------------\n",
            "Reference: To increase his popularity in public-opinion polls, the politician started a campaign.\n",
            "Prediction: to increase his popularity in public opinion halds the politician started a campaign\n",
            "----------------------------------------------------------------------------------------------------\n",
            "Reference: She was the first woman Senator to die in office.\n",
            "Prediction: she was the first woman senator to die in office\n",
            "----------------------------------------------------------------------------------------------------\n",
            "Reference: Where is it, then?\n",
            "Prediction: where is it then\n",
            "----------------------------------------------------------------------------------------------------\n",
            "Reference: Always ask an objective question.\n",
            "Prediction: always ask an objective question\n",
            "----------------------------------------------------------------------------------------------------\n",
            "Reference: rate the current book two stars\n",
            "Prediction: pit the current pose tis ginary ortucis\n",
            "----------------------------------------------------------------------------------------------------\n",
            "Reference: People from all over have come to taste its bear stew.\n",
            "Prediction: people from ol overhave come to test its beer stew\n",
            "----------------------------------------------------------------------------------------------------\n",
            "Reference: More discussion is needed on how it will be financed.\n",
            "Prediction: more discussion is needed on how it will be financed\n",
            "----------------------------------------------------------------------------------------------------\n",
            "Reference: A soldier wearing a pink scarf peers out of the top of a vehicle.\n",
            "Prediction: a soldier wearing a pink scalf peers out of the top of a vaker\n",
            "----------------------------------------------------------------------------------------------------\n",
            "Reference: Passive surveillance is often incomplete because of the limited reporting incentives.\n",
            "Prediction: passive surveilance is often incomplete because of the limited reporting incentives\n",
            "----------------------------------------------------------------------------------------------------\n",
            "Reference: Princess Vilas herself also contributed personally to the construction of the temple.\n",
            "Prediction: princess phylas herself also contributed personally to the construction of the temple\n",
            "----------------------------------------------------------------------------------------------------\n",
            "Reference: \"Bambalio\" refers to a tendency to stammer.\n",
            "Prediction: wenpalio refers to a clvency to stama\n",
            "----------------------------------------------------------------------------------------------------\n",
            "Reference: He became chief of the army personnel department.\n",
            "Prediction: he became chief of the army personnal department\n",
            "----------------------------------------------------------------------------------------------------\n",
            "Reference: \"I can work for the rest of today,\" the boy answered.\n",
            "Prediction: i can't work for the wrestle today the boy answered\n",
            "----------------------------------------------------------------------------------------------------\n",
            "Reference: I'd like to order some cinnamon pretzels, please.\n",
            "Prediction: i'd like to order some cinnamon prepsels please\n",
            "----------------------------------------------------------------------------------------------------\n",
            "Reference: The boy was also saddened; his friend was in pursuit of his destiny.\n",
            "Prediction: the boy was also saddened his friend was in pursue of his desdain\n",
            "----------------------------------------------------------------------------------------------------\n",
            "Reference: Women form less than half of the group.\n",
            "Prediction: women form less than half of the group\n",
            "----------------------------------------------------------------------------------------------------\n",
            "Reference: Men play football as a crowd watches.\n",
            "Prediction: man play football as the crowd watches\n",
            "----------------------------------------------------------------------------------------------------\n",
            "Reference: How about once more around the park?\n",
            "Prediction: how about one smore arounde park\n",
            "----------------------------------------------------------------------------------------------------\n",
            "Reference: It is possible that there were other visits.\n",
            "Prediction: it is posboned that there were other bases\n",
            "----------------------------------------------------------------------------------------------------\n",
            "Reference: Radio will go on and on forever.\n",
            "Prediction: radio will go on and on for river\n",
            "----------------------------------------------------------------------------------------------------\n",
            "Reference: The genus name was given in honour of Queen Victoria of the United Kingdom.\n",
            "Prediction: the genus name was given in honor of queen victoria of the united kingdom\n",
            "----------------------------------------------------------------------------------------------------\n",
            "Reference: A song, a Girl, a maid.\n",
            "Prediction: a song a gull amade\n",
            "----------------------------------------------------------------------------------------------------\n",
            "Reference: Nick Flynn was raised by his mother in Scituate, Massachusetts, a suburb of Boston.\n",
            "Prediction: nake flan was raised by his mother in setrid massachusetts as suverb of bouston\n",
            "----------------------------------------------------------------------------------------------------\n",
            "Reference: These plants are hermaphroditic.\n",
            "Prediction: these plants are hemaphroditic\n",
            "----------------------------------------------------------------------------------------------------\n",
            "Reference: Local branches throughout Slovakia were primarily engaged in public education and cultural activities.\n",
            "Prediction: local branches throughout slovakia were primarily angaged in public education and cultural activities\n",
            "----------------------------------------------------------------------------------------------------\n",
            "Reference: The current representative for the district is Democrat Karin Power of Milwaukie.\n",
            "Prediction: the current representative for the district is democrat karin power of milwaukee\n",
            "----------------------------------------------------------------------------------------------------\n",
            "Reference: Its major industry has been slate mining.\n",
            "Prediction: the major industry has been slate mining\n",
            "----------------------------------------------------------------------------------------------------\n",
            "Reference: Today, Signature Flight Support services private aircraft in this area.\n",
            "Prediction: tudor signature flight support services private air catain the sira\n",
            "----------------------------------------------------------------------------------------------------\n",
            "Reference: This process is intense and often lengthy.\n",
            "Prediction: at these processis intens an offen-lingphy\n",
            "----------------------------------------------------------------------------------------------------\n",
            "Reference: He also was the elected senator of Khuzestan.\n",
            "Prediction: he also was the elected senator of kuzestan\n",
            "----------------------------------------------------------------------------------------------------\n",
            "Reference: The line appears today on the Tube Map as an orange stripe.\n",
            "Prediction: deron appears wite on the toop map as an orange srine\n",
            "----------------------------------------------------------------------------------------------------\n",
            "Reference: Armand immigrated to the United States from France and sold hats as an occupation.\n",
            "Prediction: almoun imigrated to the united states from france and sold hats as an occupation\n",
            "----------------------------------------------------------------------------------------------------\n",
            "Reference: What kind of a proof is that?\n",
            "Prediction: what kind opprove is that\n",
            "----------------------------------------------------------------------------------------------------\n",
            "Reference: The crew also activated one group of the payload bay Getaway Special experiments.\n",
            "Prediction: the crew also activated one group of the payloard be gataway special experiments\n",
            "----------------------------------------------------------------------------------------------------\n",
            "Reference: That application was rejected.\n",
            "Prediction: the application was rejected\n",
            "----------------------------------------------------------------------------------------------------\n",
            "Reference: They had a lot to divulge.\n",
            "Prediction: they had a lot to dirules\n",
            "----------------------------------------------------------------------------------------------------\n",
            "Reference: The printer also supports landscape orientation and multiple typefaces.\n",
            "Prediction: the printer also supports landscape orientation and multiple type faces\n",
            "----------------------------------------------------------------------------------------------------\n",
            "Reference: They displaced at normal load and at deep load.\n",
            "Prediction: they displaced at normal load and at deep load\n",
            "----------------------------------------------------------------------------------------------------\n",
            "Reference: Every day was there to be lived or to mark one's departure from this world.\n",
            "Prediction: every day was there to be live artu marks won's departure from this globe\n",
            "----------------------------------------------------------------------------------------------------\n",
            "Reference: Let's go to Orba.\n",
            "Prediction: let's go to arba\n",
            "----------------------------------------------------------------------------------------------------\n",
            "Reference: Potato crisps are thinly sliced fried potatoes, eaten as a snack\n",
            "Prediction: potato gripts are thinly sliced fried potatoes eaten as a snack\n",
            "----------------------------------------------------------------------------------------------------\n",
            "Reference: The movie \"White Christmas\" also starred Bing Crosby and Danny Kaye.\n",
            "Prediction: the movie white christmas also starred bing crosby and daniel k\n",
            "----------------------------------------------------------------------------------------------------\n",
            "Reference: The staircase survives in The Swan Hotel in Bedford.\n",
            "Prediction: the staircase survives in the swan hotel and bedford\n",
            "----------------------------------------------------------------------------------------------------\n",
            "Reference: Only six of the planned ten episodes were produced.\n",
            "Prediction: only six of the planne ten episodes were produced\n",
            "----------------------------------------------------------------------------------------------------\n",
            "Reference: We are giving them no rest.\n",
            "Prediction: we're giving him no ruest\n",
            "----------------------------------------------------------------------------------------------------\n",
            "Reference: Double seaming uses rollers to shape the can, lid and the final double seam.\n",
            "Prediction: doublese may use rulers who shape the can leat and the final doublesea\n",
            "----------------------------------------------------------------------------------------------------\n",
            "Reference: Throughout the entire day we will be on the lookout for our enemies.\n",
            "Prediction: throughout the entire day we will be on the lookout for our enemies\n",
            "----------------------------------------------------------------------------------------------------\n",
            "Reference: The palace was rebuilt with the same stones.\n",
            "Prediction: the palace was rebuilt with the same stones\n",
            "----------------------------------------------------------------------------------------------------\n",
            "Reference: He was employed in the coal industry before assuming office.\n",
            "Prediction: he was employed in the coal industry before assuming office\n",
            "----------------------------------------------------------------------------------------------------\n",
            "Reference: The village's topography is mostly flat.\n",
            "Prediction: the village's topography is mostly flat\n",
            "----------------------------------------------------------------------------------------------------\n",
            "Reference: Plastic surgery has become more popular.\n",
            "Prediction: plastic surgery has become more popular\n",
            "----------------------------------------------------------------------------------------------------\n",
            "Reference: The tracking reference did not work.\n",
            "Prediction: the trackin reference did not wate\n",
            "----------------------------------------------------------------------------------------------------\n",
            "Reference: But you are joking.\n",
            "Prediction: but you are joking\n",
            "----------------------------------------------------------------------------------------------------\n",
            "Reference: These original parts of the hospital are now administrative and social accommodation.\n",
            "Prediction: thesa rigional parts of the hospital are now anadministrative and e social accommendation\n",
            "----------------------------------------------------------------------------------------------------\n",
            "Reference: She wanted to do penance.\n",
            "Prediction: shee wanted to do penance\n",
            "----------------------------------------------------------------------------------------------------\n",
            "Reference: With no weapons, the only attack option open to him was aerial ramming.\n",
            "Prediction: with no weapons the only attack option open to him was erial rimming\n",
            "----------------------------------------------------------------------------------------------------\n",
            "Reference: It was in Sixpenny Hundred and the lord and tenant-in-chief was Shaftesbury Abbey.\n",
            "Prediction: it was in six-penny hundred and the lord tenant-in-chief was shactersbury abbey\n",
            "----------------------------------------------------------------------------------------------------\n",
            "Reference: After being coach he held other functions within Dutch speed skating.\n",
            "Prediction: after being coached he helled other functions within dutch speat skating\n",
            "----------------------------------------------------------------------------------------------------\n",
            "Reference: Touchscreens do not provide haptic feedback.\n",
            "Prediction: tus creanes do not provide head-pig feed birde\n",
            "----------------------------------------------------------------------------------------------------\n",
            "Reference: It was a tent like many at the oasis.\n",
            "Prediction: it was a tent like many of the oasis\n",
            "----------------------------------------------------------------------------------------------------\n",
            "Reference: The episode \"Father's Day\" depicts two younger versions of Jackie also played by Coduri.\n",
            "Prediction: this served foutherday teres to ndivelpions of the casioo ibi culari\n",
            "----------------------------------------------------------------------------------------------------\n",
            "Reference: Rosemary was born in Uganda and she attended local primary and secondary schools.\n",
            "Prediction: rosemary was born in uganda and she attended local primary and secondary schools\n",
            "----------------------------------------------------------------------------------------------------\n",
            "Reference: This blurry tomography doesn't help me a lot with the diagnosis.\n",
            "Prediction: this blurried tomography doesn't help me a lot with the diagnosis\n",
            "----------------------------------------------------------------------------------------------------\n",
            "Reference: Sunburn can be avoided by applying sunscreen or by staying in the shadows.\n",
            "Prediction: sunburns can be avoided by applying screen or by staying in the shadows\n",
            "----------------------------------------------------------------------------------------------------\n",
            "Reference: Fouls, on the other hand, can occur only while the ball is in play.\n",
            "Prediction: falls on the other hand can occur only while the ball is in a play\n",
            "----------------------------------------------------------------------------------------------------\n",
            "Reference: In pure vacuum, some weak scattering of light by light exists as well.\n",
            "Prediction: in pure vacuums some weak scattering offlight by light exists as well\n",
            "----------------------------------------------------------------------------------------------------\n",
            "Reference: Since leaving office, he has also attended a number of other events of significance.\n",
            "Prediction: since leaving office he has attended a number of other events of h significants\n",
            "----------------------------------------------------------------------------------------------------\n",
            "Reference: \"Fatima,\" the girl said, averting her eyes.\n",
            "Prediction: fatima the girl sat averting her eyes\n",
            "----------------------------------------------------------------------------------------------------\n",
            "Reference: Indeed the scene was very beautiful.\n",
            "Prediction: eeeeeee\n",
            "----------------------------------------------------------------------------------------------------\n",
            "Reference: She also taught journalism at the University of California at Berkeley.\n",
            "Prediction: she also taught journalism at the university of california at bergley\n",
            "----------------------------------------------------------------------------------------------------\n",
            "Reference: Still waters run deep.\n",
            "Prediction: still waters run deep\n",
            "----------------------------------------------------------------------------------------------------\n",
            "Reference: The University is a member of several organizations of colleges and universities.\n",
            "Prediction: the university is a member of several organizations of colleges and universities\n",
            "----------------------------------------------------------------------------------------------------\n",
            "Reference: These chimes have a mellow sound.\n",
            "Prediction: these charms have a mallo sound\n"
          ]
        }
      ],
      "source": [
        "for i, predicted_sentence in enumerate(predicted_sentences):\n",
        "    print(\"-\" * 100)\n",
        "    print(\"Reference:\", test_dataset[i][\"sentence\"])\n",
        "    print(\"Prediction:\", predicted_sentence)"
      ]
    },
    {
      "cell_type": "markdown",
      "metadata": {
        "id": "ri5y5N_HMANq"
      },
      "source": [
        "Many ASR datasets only provide the target text, `'sentence'` for each audio array `'audio'` and file `'path'`. Common Voice actually provides much more information about each audio file, such as the `'accent'`, etc. Keeping the notebook as general as possible, we only consider the transcribed text for fine-tuning.\n",
        "\n"
      ]
    },
    {
      "cell_type": "code",
      "execution_count": 4,
      "metadata": {
        "id": "kbyq6lDgQc2a"
      },
      "outputs": [],
      "source": [
        "train_dataset = train_dataset.remove_columns([\"accent\", \"age\", \"client_id\", \"down_votes\", \"gender\", \"locale\", \"segment\", \"up_votes\"])\n",
        "test_dataset = test_dataset.remove_columns([\"accent\", \"age\", \"client_id\", \"down_votes\", \"gender\", \"locale\", \"segment\", \"up_votes\"])"
      ]
    },
    {
      "cell_type": "markdown",
      "metadata": {
        "id": "Go9Hq4e4NDT9"
      },
      "source": [
        "Let's write a short function to display some random samples of the dataset and run it a couple of times to get a feeling for the transcriptions."
      ]
    },
    {
      "cell_type": "code",
      "execution_count": 5,
      "metadata": {
        "id": "72737oog2F6U"
      },
      "outputs": [],
      "source": [
        "from datasets import ClassLabel\n",
        "import random\n",
        "import pandas as pd\n",
        "from IPython.display import display, HTML\n",
        "\n",
        "def show_random_elements(dataset, num_examples=10):\n",
        "    assert num_examples <= len(dataset), \"Can't pick more elements than there are in the dataset.\"\n",
        "    picks = []\n",
        "    for _ in range(num_examples):\n",
        "        pick = random.randint(0, len(dataset)-1)\n",
        "        while pick in picks:\n",
        "            pick = random.randint(0, len(dataset)-1)\n",
        "        picks.append(pick)\n",
        "\n",
        "    df = pd.DataFrame(dataset[picks])\n",
        "    display(HTML(df.to_html()))"
      ]
    },
    {
      "cell_type": "code",
      "execution_count": 6,
      "metadata": {
        "colab": {
          "base_uri": "https://localhost:8080/",
          "height": 359
        },
        "id": "K_JUmf3G3b9S",
        "outputId": "e3a0d9c8-4b68-4255-fd29-8dba65632a24"
      },
      "outputs": [
        {
          "data": {
            "text/html": [
              "<table border=\"1\" class=\"dataframe\">\n",
              "  <thead>\n",
              "    <tr style=\"text-align: right;\">\n",
              "      <th></th>\n",
              "      <th>sentence</th>\n",
              "    </tr>\n",
              "  </thead>\n",
              "  <tbody>\n",
              "    <tr>\n",
              "      <th>0</th>\n",
              "      <td>By this time they were found on many large buildings, including private houses.</td>\n",
              "    </tr>\n",
              "    <tr>\n",
              "      <th>1</th>\n",
              "      <td>Witteles appeared on the front page of The Washington Post about the same matter.</td>\n",
              "    </tr>\n",
              "    <tr>\n",
              "      <th>2</th>\n",
              "      <td>Europe has always fascinated and attracted.</td>\n",
              "    </tr>\n",
              "    <tr>\n",
              "      <th>3</th>\n",
              "      <td>The capital is Salima.</td>\n",
              "    </tr>\n",
              "    <tr>\n",
              "      <th>4</th>\n",
              "      <td>\"Iron Duke\" was also open to the public.</td>\n",
              "    </tr>\n",
              "    <tr>\n",
              "      <th>5</th>\n",
              "      <td>The player won a prize for correctly identifying at least three of the games.</td>\n",
              "    </tr>\n",
              "    <tr>\n",
              "      <th>6</th>\n",
              "      <td>It was named after the ancient village of Bethany.</td>\n",
              "    </tr>\n",
              "    <tr>\n",
              "      <th>7</th>\n",
              "      <td>I’m sure I shan’t be able!</td>\n",
              "    </tr>\n",
              "    <tr>\n",
              "      <th>8</th>\n",
              "      <td>Fetal viability depends largely on the fetal organ maturity, and environmental conditions.</td>\n",
              "    </tr>\n",
              "    <tr>\n",
              "      <th>9</th>\n",
              "      <td>General Orlando B. Willcox's brigade when the latter was wounded in battle.</td>\n",
              "    </tr>\n",
              "  </tbody>\n",
              "</table>"
            ],
            "text/plain": [
              "<IPython.core.display.HTML object>"
            ]
          },
          "metadata": {},
          "output_type": "display_data"
        }
      ],
      "source": [
        "show_random_elements(train_dataset.remove_columns([\"path\", \"audio\"]), num_examples=10)"
      ]
    },
    {
      "cell_type": "markdown",
      "metadata": {
        "id": "fowcOllGNNju"
      },
      "source": [
        "Alright! The transcriptions look fairly clean. Having translated the transcribed sentences, it seems that the language corresponds more to written-out text than noisy dialogue. This makes sense considering that [Common Voice](https://huggingface.co/datasets/common_voice) is a crowd-sourced read speech corpus."
      ]
    },
    {
      "cell_type": "markdown",
      "metadata": {
        "id": "vq7OR50LN49m"
      },
      "source": [
        "We can see that the transcriptions contain some special characters, such as `,.?!;:`. Without a language model, it is much harder to classify speech chunks to such special characters because they don't really correspond to a characteristic sound unit. *E.g.*, the letter `\"s\"` has a more or less clear sound, whereas the special character `\".\"` does not.\n",
        "Also in order to understand the meaning of a speech signal, it is usually not necessary to include special characters in the transcription.\n",
        "\n",
        "Let's simply remove all characters that don't contribute to the meaning of a word and cannot really be represented by an acoustic sound and normalize the text."
      ]
    },
    {
      "cell_type": "code",
      "execution_count": 7,
      "metadata": {
        "id": "svKzVJ_hQGK6"
      },
      "outputs": [],
      "source": [
        "import re\n",
        "#chars_to_remove_regex = '[\\,\\?\\.\\!\\-\\;\\:\\\"\\“\\%\\‘\\”\\�\\']'\n",
        "chars_to_remove_regex = '[\\,\\?\\.\\!\\-\\;\\:\\\"\\“\\%\\”\\�\\']'\n",
        "\n",
        "\n",
        "def remove_special_characters(batch):\n",
        "    batch[\"sentence\"] = re.sub(chars_to_remove_regex, '', batch[\"sentence\"]).lower()\n",
        "    return batch"
      ]
    },
    {
      "cell_type": "code",
      "execution_count": 8,
      "metadata": {
        "colab": {
          "base_uri": "https://localhost:8080/"
        },
        "id": "XIHocAuTQbBR",
        "outputId": "32b09453-6f60-42c4-e417-4e87edad58dd"
      },
      "outputs": [],
      "source": [
        "train_dataset = train_dataset.map(remove_special_characters)\n",
        "test_dataset = test_dataset.map(remove_special_characters)"
      ]
    },
    {
      "cell_type": "markdown",
      "metadata": {
        "id": "TxnVS9gIhIma"
      },
      "source": [
        "Let's look at the processed text labels again."
      ]
    },
    {
      "cell_type": "code",
      "execution_count": 9,
      "metadata": {
        "colab": {
          "base_uri": "https://localhost:8080/",
          "height": 359
        },
        "id": "RBDRAAYxRE6n",
        "outputId": "5bbca4d5-57b3-48ca-e591-b5feeab0db3d"
      },
      "outputs": [
        {
          "data": {
            "text/html": [
              "<table border=\"1\" class=\"dataframe\">\n",
              "  <thead>\n",
              "    <tr style=\"text-align: right;\">\n",
              "      <th></th>\n",
              "      <th>sentence</th>\n",
              "    </tr>\n",
              "  </thead>\n",
              "  <tbody>\n",
              "    <tr>\n",
              "      <th>0</th>\n",
              "      <td>in the finals they were eliminated by the red wings four games to none</td>\n",
              "    </tr>\n",
              "    <tr>\n",
              "      <th>1</th>\n",
              "      <td>henleys grandfather sir robert henley was master of the court of the kings bench</td>\n",
              "    </tr>\n",
              "    <tr>\n",
              "      <th>2</th>\n",
              "      <td>witteles appeared on the front page of the washington post about the same matter</td>\n",
              "    </tr>\n",
              "    <tr>\n",
              "      <th>3</th>\n",
              "      <td>the piano nobile is accessed by an imposing stairwell</td>\n",
              "    </tr>\n",
              "    <tr>\n",
              "      <th>4</th>\n",
              "      <td>in high school he played baseball volleyball track and football</td>\n",
              "    </tr>\n",
              "    <tr>\n",
              "      <th>5</th>\n",
              "      <td>our best bet is that this animal is only active at night</td>\n",
              "    </tr>\n",
              "    <tr>\n",
              "      <th>6</th>\n",
              "      <td>the latter observational method is more suitable for global mapping</td>\n",
              "    </tr>\n",
              "    <tr>\n",
              "      <th>7</th>\n",
              "      <td>it is also a popular recreation destination for watercraft fishing hiking and climbing</td>\n",
              "    </tr>\n",
              "    <tr>\n",
              "      <th>8</th>\n",
              "      <td>twelve fighters and two torpedo bombers could be carried</td>\n",
              "    </tr>\n",
              "    <tr>\n",
              "      <th>9</th>\n",
              "      <td>bering died on the island along with much of the crew</td>\n",
              "    </tr>\n",
              "  </tbody>\n",
              "</table>"
            ],
            "text/plain": [
              "<IPython.core.display.HTML object>"
            ]
          },
          "metadata": {},
          "output_type": "display_data"
        }
      ],
      "source": [
        "show_random_elements(train_dataset.remove_columns([\"path\",\"audio\"]))"
      ]
    },
    {
      "cell_type": "markdown",
      "metadata": {
        "id": "jwfaptH5RJwA"
      },
      "source": [
        "Good! This looks better. We have removed most special characters from transcriptions and normalized them to lower-case only.\n",
        "\n",
        "Before finalizing the pre-processing, it is always advantageous to consult a native speaker of the target language to see whether the text can be further simplified.\n",
        "For this blog post, [Merve](https://twitter.com/mervenoyann) was kind enough to take a quick look and noted that \"hatted\" characters - like `â` - aren't really used anymore in Turkish and can be replaced by their \"un-hatted\" equivalent, *e.g.* `a`.\n",
        "\n",
        "This means that we should replace a sentence like `\"yargı sistemi hâlâ sağlıksız\"` to `\"yargı sistemi hala sağlıksız\"`.\n",
        "\n",
        "Let's write another short mapping function to further simplify the text labels. Remember - the simler the text labels, the easier it is for the model to learn to predict those labels.\n",
        "\n"
      ]
    },
    {
      "cell_type": "code",
      "execution_count": 10,
      "metadata": {
        "id": "aZcrz6z7lgGm"
      },
      "outputs": [],
      "source": [
        "def replace_hatted_characters(batch):\n",
        "    batch[\"sentence\"] = re.sub('[â]', 'a', batch[\"sentence\"])\n",
        "    batch[\"sentence\"] = re.sub('[î]', 'i', batch[\"sentence\"])\n",
        "    batch[\"sentence\"] = re.sub('[ô]', 'o', batch[\"sentence\"])\n",
        "    batch[\"sentence\"] = re.sub('[û]', 'u', batch[\"sentence\"])\n",
        "    return batch"
      ]
    },
    {
      "cell_type": "code",
      "execution_count": 11,
      "metadata": {
        "colab": {
          "base_uri": "https://localhost:8080/"
        },
        "id": "ieGhhND5mSwI",
        "outputId": "2f5cee33-a98a-45ae-a8b4-0f10d97f4d15"
      },
      "outputs": [],
      "source": [
        "train_dataset = train_dataset.map(replace_hatted_characters)\n",
        "test_dataset = test_dataset.map(replace_hatted_characters)"
      ]
    },
    {
      "cell_type": "code",
      "execution_count": 12,
      "metadata": {},
      "outputs": [
        {
          "data": {
            "text/plain": [
              "{'path': '/DATA10T/Cache/downloads/extracted/b346aab12d7b8d3067d379267bbecbd285cb56b9272116d4588c4bf6e461e436/en_train_0/common_voice_en_19121553.mp3',\n",
              " 'audio': {'path': '/DATA10T/Cache/downloads/extracted/b346aab12d7b8d3067d379267bbecbd285cb56b9272116d4588c4bf6e461e436/en_train_0/common_voice_en_19121553.mp3',\n",
              "  'array': array([ 0.00000000e+00,  1.96611932e-15, -7.55335397e-14, ...,\n",
              "          1.68718216e-05,  1.41903001e-07,  1.16676725e-04]),\n",
              "  'sampling_rate': 48000},\n",
              " 'sentence': 'the track appears on the compilation album kraftworks'}"
            ]
          },
          "execution_count": 12,
          "metadata": {},
          "output_type": "execute_result"
        }
      ],
      "source": [
        "train_dataset[0]"
      ]
    },
    {
      "cell_type": "markdown",
      "metadata": {
        "id": "3ORHDb2Th2TW"
      },
      "source": [
        "In CTC, it is common to classify speech chunks into letters, so we will do the same here.\n",
        "Let's extract all distinct letters of the training and test data and build our vocabulary from this set of letters.\n",
        "\n",
        "We write a mapping function that concatenates all transcriptions into one long transcription and then transforms the string into a set of chars.\n",
        "It is important to pass the argument `batched=True` to the `map(...)` function so that the mapping function has access to all transcriptions at once."
      ]
    },
    {
      "cell_type": "code",
      "execution_count": 13,
      "metadata": {
        "id": "LwCshNbbeRZR"
      },
      "outputs": [],
      "source": [
        "def extract_all_chars(batch):\n",
        "  all_text = \" \".join(batch[\"sentence\"])\n",
        "  vocab = list(set(all_text))\n",
        "  return {\"vocab\": [vocab], \"all_text\": [all_text]}"
      ]
    },
    {
      "cell_type": "code",
      "execution_count": 14,
      "metadata": {
        "colab": {
          "base_uri": "https://localhost:8080/",
          "height": 81,
          "referenced_widgets": [
            "e78238c96d6a4152bf40f5d7a81e5495",
            "75b26f4a95d24e9d8939d1f7b376eb51",
            "f58af0561fc242238cfd0163f0ad5e5f",
            "a1419cc920324f62be58d6e48a82e275",
            "6ec3c80319fb45f3b6f7715049c9bce0",
            "02519344818c40d0b961c5ea210a5c62",
            "e575e46791b24f449b8afcb773e46dcc",
            "5cff6b2dd6944c59b8c2f205db5f49bf",
            "5ba2a38c71e64253a4fd39cf7d3b3326",
            "bc11f833cc9c441b9a58d69ea792fa9c",
            "4f81e460906a428f9f74a0aa469ba63f",
            "093927de0d86406290365759e88fd4e7",
            "f6e777f3a1684a7da3efc63281553b5e",
            "609781a3f55d4d3dbf0b3640972755fa",
            "8783792878a64402981a416989924348",
            "92e295e353624110880cff6835b9e119",
            "db7a9c27eabb4ba391bfb9d819d7a36e",
            "fd2ba2bf4b2946078a0761b773626b64",
            "a5777207c788498fb4ac4900af91d7cf",
            "890ff54dc35e460b9108e2690966fafe",
            "cc70741031664fa89bfe8e8e672c5b2b",
            "46c8681bd36f419495d33b06c96311ed"
          ]
        },
        "id": "_m6uUjjcfbjH",
        "outputId": "67fa96dd-2df9-4393-f551-4d599c42efff"
      },
      "outputs": [
        {
          "data": {
            "application/vnd.jupyter.widget-view+json": {
              "model_id": "7beb91b654dc4924a23777b33f1961f9",
              "version_major": 2,
              "version_minor": 0
            },
            "text/plain": [
              "Map:   0%|          | 0/10000 [00:00<?, ? examples/s]"
            ]
          },
          "metadata": {},
          "output_type": "display_data"
        },
        {
          "data": {
            "application/vnd.jupyter.widget-view+json": {
              "model_id": "7ea04c1d51704a9f9b99a83f3b00540c",
              "version_major": 2,
              "version_minor": 0
            },
            "text/plain": [
              "Map:   0%|          | 0/200 [00:00<?, ? examples/s]"
            ]
          },
          "metadata": {},
          "output_type": "display_data"
        }
      ],
      "source": [
        "vocab_train = train_dataset.map(extract_all_chars, batched=True, batch_size=-1, keep_in_memory=True, remove_columns=train_dataset.column_names)\n",
        "vocab_test = test_dataset.map(extract_all_chars, batched=True, batch_size=-1, keep_in_memory=True, remove_columns=test_dataset.column_names)"
      ]
    },
    {
      "cell_type": "markdown",
      "metadata": {
        "id": "7oVgE8RZSJNP"
      },
      "source": [
        "Now, we create the union of all distinct letters in the training dataset and test dataset and convert the resulting list into an enumerated dictionary."
      ]
    },
    {
      "cell_type": "code",
      "execution_count": 15,
      "metadata": {
        "id": "aQfneNsmlJI0"
      },
      "outputs": [],
      "source": [
        "vocab_list = list(set(vocab_train[\"vocab\"][0]) | set(vocab_test[\"vocab\"][0]))"
      ]
    },
    {
      "cell_type": "code",
      "execution_count": 16,
      "metadata": {
        "colab": {
          "base_uri": "https://localhost:8080/"
        },
        "id": "_0kRndSvqaKk",
        "outputId": "63440dfc-3f58-42c1-db78-3369f96f103f"
      },
      "outputs": [
        {
          "data": {
            "text/plain": [
              "{' ': 0,\n",
              " '(': 1,\n",
              " ')': 2,\n",
              " 'a': 3,\n",
              " 'b': 4,\n",
              " 'c': 5,\n",
              " 'd': 6,\n",
              " 'e': 7,\n",
              " 'f': 8,\n",
              " 'g': 9,\n",
              " 'h': 10,\n",
              " 'i': 11,\n",
              " 'j': 12,\n",
              " 'k': 13,\n",
              " 'l': 14,\n",
              " 'm': 15,\n",
              " 'n': 16,\n",
              " 'o': 17,\n",
              " 'p': 18,\n",
              " 'q': 19,\n",
              " 'r': 20,\n",
              " 's': 21,\n",
              " 't': 22,\n",
              " 'u': 23,\n",
              " 'v': 24,\n",
              " 'w': 25,\n",
              " 'x': 26,\n",
              " 'y': 27,\n",
              " 'z': 28,\n",
              " 'á': 29,\n",
              " 'è': 30,\n",
              " 'é': 31,\n",
              " 'í': 32,\n",
              " 'ï': 33,\n",
              " 'ó': 34,\n",
              " 'ō': 35,\n",
              " 'ř': 36,\n",
              " 'ž': 37,\n",
              " '–': 38,\n",
              " '—': 39,\n",
              " '‘': 40,\n",
              " '’': 41}"
            ]
          },
          "execution_count": 16,
          "metadata": {},
          "output_type": "execute_result"
        }
      ],
      "source": [
        "vocab_dict = {v: k for k, v in enumerate(sorted(vocab_list))}\n",
        "vocab_dict"
      ]
    },
    {
      "cell_type": "markdown",
      "metadata": {
        "id": "JOSzbvs9SXT1"
      },
      "source": [
        "Cool, we see that all letters of the alphabet occur in the dataset (which is not really surprising) and we also extracted the special characters `\"\"` and `'`. Note that we did not exclude those special characters because:\n",
        "\n",
        "The model has to learn to predict when a word is finished or else the model prediction would always be a sequence of chars which would make it impossible to separate words from each other.\n",
        "\n",
        "One should always keep in mind that pre-processing is a very important step before training your model. E.g., we don't want our model to differentiate between `a` and `A` just because we forgot to normalize the data. The difference between `a` and `A` does not depend on the \"sound\" of the letter at all, but more on grammatical rules - *e.g.* use a capitalized letter at the beginning of the sentence. So it is sensible to remove the difference between capitalized and non-capitalized letters so that the model has an easier time learning to transcribe speech."
      ]
    },
    {
      "cell_type": "markdown",
      "metadata": {
        "id": "b1fBRCn-TRaO"
      },
      "source": [
        "To make it clearer that `\" \"` has its own token class, we give it a more visible character `|`. In addition, we also add an \"unknown\" token so that the model can later deal with characters not encountered in Common Voice's training set."
      ]
    },
    {
      "cell_type": "code",
      "execution_count": 17,
      "metadata": {
        "id": "npbIbBoLgaFX"
      },
      "outputs": [],
      "source": [
        "vocab_dict[\"|\"] = vocab_dict[\" \"]\n",
        "del vocab_dict[\" \"]"
      ]
    },
    {
      "cell_type": "markdown",
      "metadata": {
        "id": "_9yCWg4Sd0cb"
      },
      "source": [
        "Finally, we also add a padding token that corresponds to CTC's \"*blank token*\". The \"blank token\" is a core component of the CTC algorithm. For more information, please take a look at the \"Alignment\" section [here](https://distill.pub/2017/ctc/)."
      ]
    },
    {
      "cell_type": "code",
      "execution_count": 18,
      "metadata": {
        "colab": {
          "base_uri": "https://localhost:8080/"
        },
        "id": "znF0bNunsjbl",
        "outputId": "314ca989-0587-485e-d7d2-3e6efe2158ee"
      },
      "outputs": [
        {
          "data": {
            "text/plain": [
              "44"
            ]
          },
          "execution_count": 18,
          "metadata": {},
          "output_type": "execute_result"
        }
      ],
      "source": [
        "vocab_dict[\"[UNK]\"] = len(vocab_dict)\n",
        "vocab_dict[\"[PAD]\"] = len(vocab_dict)\n",
        "len(vocab_dict)"
      ]
    },
    {
      "cell_type": "markdown",
      "metadata": {
        "id": "SFPGfet8U5sL"
      },
      "source": [
        "Cool, now our vocabulary is complete and consists of 39 tokens, which means that the linear layer that we will add on top of the pretrained XLS-R checkpoint will have an output dimension of 39."
      ]
    },
    {
      "cell_type": "markdown",
      "metadata": {
        "id": "1CujRgBNVRaD"
      },
      "source": [
        "Let's now save the vocabulary as a json file."
      ]
    },
    {
      "cell_type": "code",
      "execution_count": 19,
      "metadata": {
        "id": "ehyUoh9vk191"
      },
      "outputs": [],
      "source": [
        "import json\n",
        "with open('vocab.json', 'w') as vocab_file:\n",
        "    json.dump(vocab_dict, vocab_file)"
      ]
    },
    {
      "cell_type": "markdown",
      "metadata": {
        "id": "SHJDaKlIVVim"
      },
      "source": [
        "In a final step, we use the json file to load the vocabulary into an instance of the `Wav2Vec2CTCTokenizer` class."
      ]
    },
    {
      "cell_type": "code",
      "execution_count": 20,
      "metadata": {
        "colab": {
          "base_uri": "https://localhost:8080/"
        },
        "id": "xriFGEWQkO4M",
        "outputId": "95e57a04-c48e-4748-8d77-bac71dd2750e"
      },
      "outputs": [
        {
          "name": "stderr",
          "output_type": "stream",
          "text": [
            "Special tokens have been added in the vocabulary, make sure the associated word embeddings are fine-tuned or trained.\n"
          ]
        }
      ],
      "source": [
        "from transformers import Wav2Vec2CTCTokenizer, AutoTokenizer, AutoConfig\n",
        "\n",
        "tokenizer = Wav2Vec2CTCTokenizer.from_pretrained(\"./\", unk_token=\"[UNK]\", pad_token=\"[PAD]\", word_delimiter_token=\"|\")\n",
        "model_checkpoint=\"facebook/wav2vec2-xls-r-300m\"\n",
        "# config = AutoConfig.from_pretrained(model_checkpoint)\n",
        "# tokenizer = AutoTokenizer.from_pretrained(\n",
        "#                 \"./\", #vocab_filepath,\n",
        "#                 #**tokenizer_kwargs,\n",
        "#                 cache_dir = mycache_dir,\n",
        "#                 config=config,#None\n",
        "#                 # tokenizer_type=tokenizer_type, #'wav2vec2'\n",
        "#                 #do_lower_case=True,\n",
        "#                 unk_token=\"[UNK]\",\n",
        "#                 pad_token=\"[PAD]\",\n",
        "#                 word_delimiter_token=\"|\",\n",
        "#                 )"
      ]
    },
    {
      "cell_type": "code",
      "execution_count": 21,
      "metadata": {},
      "outputs": [
        {
          "data": {
            "text/plain": [
              "Wav2Vec2CTCTokenizer(name_or_path='./', vocab_size=44, model_max_length=1000000000000000019884624838656, is_fast=False, padding_side='right', truncation_side='right', special_tokens={'bos_token': '<s>', 'eos_token': '</s>', 'unk_token': '[UNK]', 'pad_token': '[PAD]', 'additional_special_tokens': [AddedToken(\"<s>\", rstrip=False, lstrip=False, single_word=False, normalized=True), AddedToken(\"</s>\", rstrip=False, lstrip=False, single_word=False, normalized=True)]}, clean_up_tokenization_spaces=True)"
            ]
          },
          "execution_count": 21,
          "metadata": {},
          "output_type": "execute_result"
        }
      ],
      "source": [
        "tokenizer"
      ]
    },
    {
      "cell_type": "code",
      "execution_count": 22,
      "metadata": {},
      "outputs": [
        {
          "data": {
            "text/plain": [
              "{'(': 1,\n",
              " ')': 2,\n",
              " 'a': 3,\n",
              " 'b': 4,\n",
              " 'c': 5,\n",
              " 'd': 6,\n",
              " 'e': 7,\n",
              " 'f': 8,\n",
              " 'g': 9,\n",
              " 'h': 10,\n",
              " 'i': 11,\n",
              " 'j': 12,\n",
              " 'k': 13,\n",
              " 'l': 14,\n",
              " 'm': 15,\n",
              " 'n': 16,\n",
              " 'o': 17,\n",
              " 'p': 18,\n",
              " 'q': 19,\n",
              " 'r': 20,\n",
              " 's': 21,\n",
              " 't': 22,\n",
              " 'u': 23,\n",
              " 'v': 24,\n",
              " 'w': 25,\n",
              " 'x': 26,\n",
              " 'y': 27,\n",
              " 'z': 28,\n",
              " 'á': 29,\n",
              " 'è': 30,\n",
              " 'é': 31,\n",
              " 'í': 32,\n",
              " 'ï': 33,\n",
              " 'ó': 34,\n",
              " 'ō': 35,\n",
              " 'ř': 36,\n",
              " 'ž': 37,\n",
              " '–': 38,\n",
              " '—': 39,\n",
              " '‘': 40,\n",
              " '’': 41,\n",
              " '|': 0,\n",
              " '[UNK]': 42,\n",
              " '[PAD]': 43}"
            ]
          },
          "execution_count": 22,
          "metadata": {},
          "output_type": "execute_result"
        }
      ],
      "source": [
        "tokenizer.encoder"
      ]
    },
    {
      "cell_type": "code",
      "execution_count": 23,
      "metadata": {},
      "outputs": [
        {
          "data": {
            "text/plain": [
              "44"
            ]
          },
          "execution_count": 23,
          "metadata": {},
          "output_type": "execute_result"
        }
      ],
      "source": [
        "len(tokenizer.encoder)"
      ]
    },
    {
      "cell_type": "code",
      "execution_count": 24,
      "metadata": {},
      "outputs": [],
      "source": [
        "sample = train_dataset[0]"
      ]
    },
    {
      "cell_type": "code",
      "execution_count": 25,
      "metadata": {},
      "outputs": [
        {
          "name": "stderr",
          "output_type": "stream",
          "text": [
            "2024-01-18 18:02:14.957700: I tensorflow/core/platform/cpu_feature_guard.cc:193] This TensorFlow binary is optimized with oneAPI Deep Neural Network Library (oneDNN) to use the following CPU instructions in performance-critical operations:  AVX2 AVX_VNNI FMA\n",
            "To enable them in other operations, rebuild TensorFlow with the appropriate compiler flags.\n",
            "2024-01-18 18:02:15.032232: I tensorflow/core/util/port.cc:104] oneDNN custom operations are on. You may see slightly different numerical results due to floating-point round-off errors from different computation orders. To turn them off, set the environment variable `TF_ENABLE_ONEDNN_OPTS=0`.\n"
          ]
        },
        {
          "name": "stderr",
          "output_type": "stream",
          "text": [
            "2024-01-18 18:02:15.476228: W tensorflow/compiler/xla/stream_executor/platform/default/dso_loader.cc:64] Could not load dynamic library 'libnvinfer.so.7'; dlerror: libnvinfer.so.7: cannot open shared object file: No such file or directory\n",
            "2024-01-18 18:02:15.476357: W tensorflow/compiler/xla/stream_executor/platform/default/dso_loader.cc:64] Could not load dynamic library 'libnvinfer_plugin.so.7'; dlerror: libnvinfer_plugin.so.7: cannot open shared object file: No such file or directory\n",
            "2024-01-18 18:02:15.476359: W tensorflow/compiler/tf2tensorrt/utils/py_utils.cc:38] TF-TRT Warning: Cannot dlopen some TensorRT libraries. If you would like to use Nvidia GPU with TensorRT, please make sure the missing libraries mentioned above are installed properly.\n"
          ]
        },
        {
          "data": {
            "text/plain": [
              "'the track apears on the compilation album kraftworks'"
            ]
          },
          "execution_count": 25,
          "metadata": {},
          "output_type": "execute_result"
        }
      ],
      "source": [
        "inputids=tokenizer(sample['sentence'].lower())\n",
        "decoded_str = tokenizer.decode(inputids.input_ids)\n",
        "decoded_str"
      ]
    },
    {
      "cell_type": "code",
      "execution_count": 26,
      "metadata": {},
      "outputs": [
        {
          "data": {
            "text/plain": [
              "'the track appears on the compilation album kraftworks'"
            ]
          },
          "execution_count": 26,
          "metadata": {},
          "output_type": "execute_result"
        }
      ],
      "source": [
        "decoded_str = tokenizer.decode(inputids.input_ids, group_tokens=False)\n",
        "decoded_str"
      ]
    },
    {
      "cell_type": "code",
      "execution_count": 27,
      "metadata": {},
      "outputs": [
        {
          "data": {
            "text/plain": [
              "('./output/tokenizer_config.json',\n",
              " './output/special_tokens_map.json',\n",
              " './output/vocab.json',\n",
              " './output/added_tokens.json')"
            ]
          },
          "execution_count": 27,
          "metadata": {},
          "output_type": "execute_result"
        }
      ],
      "source": [
        "tokenizer.save_pretrained(\"./output\")"
      ]
    },
    {
      "cell_type": "markdown",
      "metadata": {
        "id": "KvL12DrNV4cx"
      },
      "source": [
        "If one wants to re-use the just created tokenizer with the fine-tuned model of this notebook, it is strongly advised to upload the `tokenizer` to the [🤗 Hub](https://huggingface.co/). Let's call the repo to which we will upload the files\n",
        "`\"wav2vec2-large-xlsr-turkish-demo-colab\"`:"
      ]
    },
    {
      "cell_type": "code",
      "execution_count": null,
      "metadata": {
        "id": "A1XApZBAF2zr"
      },
      "outputs": [],
      "source": [
        "repo_name = \"wav2vec2-large-xls-r-300m-turkish-colab\""
      ]
    },
    {
      "cell_type": "markdown",
      "metadata": {
        "id": "B1BiezWZF16d"
      },
      "source": [
        "and upload the tokenizer to the [🤗 Hub](https://huggingface.co/)."
      ]
    },
    {
      "cell_type": "code",
      "execution_count": null,
      "metadata": {
        "colab": {
          "base_uri": "https://localhost:8080/",
          "height": 199
        },
        "id": "zytE1175GAKM",
        "outputId": "bbe63dbe-0639-4468-9a3a-687bb8b3bb6e"
      },
      "outputs": [
        {
          "name": "stderr",
          "output_type": "stream",
          "text": [
            "/usr/local/lib/python3.7/dist-packages/huggingface_hub/hf_api.py:718: FutureWarning: `create_repo` now takes `token` as an optional positional argument. Be sure to adapt your code!\n",
            "  FutureWarning,\n",
            "/usr/local/lib/python3.7/dist-packages/huggingface_hub/hf_api.py:718: FutureWarning: `create_repo` now takes `token` as an optional positional argument. Be sure to adapt your code!\n",
            "  FutureWarning,\n",
            "Cloning https://huggingface.co/patrickvonplaten/wav2vec2-large-xls-r-300m-turkish-colab into local empty directory.\n",
            "To https://huggingface.co/patrickvonplaten/wav2vec2-large-xls-r-300m-turkish-colab\n",
            "   54dbd42..56ebe74  main -> main\n",
            "\n"
          ]
        },
        {
          "data": {
            "application/vnd.google.colaboratory.intrinsic+json": {
              "type": "string"
            },
            "text/plain": [
              "'https://huggingface.co/patrickvonplaten/wav2vec2-large-xls-r-300m-turkish-colab/commit/56ebe744b5acf5853233e4425bd914b938c4f013'"
            ]
          },
          "execution_count": 53,
          "metadata": {},
          "output_type": "execute_result"
        }
      ],
      "source": [
        "tokenizer.push_to_hub(repo_name)"
      ]
    },
    {
      "cell_type": "markdown",
      "metadata": {
        "id": "SwQM8lH_GGuP"
      },
      "source": [
        "Great, you can see the just created repository under `https://huggingface.co/<your-username>/wav2vec2-large-xls-r-300m-tr-colab`"
      ]
    },
    {
      "cell_type": "markdown",
      "metadata": {
        "id": "mYcIiR2FQ96i"
      },
      "source": [
        "### Create `Wav2Vec2FeatureExtractor`"
      ]
    },
    {
      "cell_type": "markdown",
      "metadata": {
        "id": "Y6mDEyW719rx"
      },
      "source": [
        "Speech is a continuous signal and to be treated by computers, it first has to be discretized, which is usually called **sampling**. The sampling rate hereby plays an important role in that it defines how many data points of the speech signal are measured per second. Therefore, sampling with a higher sampling rate results in a better approximation of the *real* speech signal but also necessitates more values per second.\n",
        "\n",
        "A pretrained checkpoint expects its input data to have been sampled more or less from the same distribution as the data it was trained on. The same speech signals sampled at two different rates have a very different distribution, *e.g.*, doubling the sampling rate results in data points being twice as long. Thus,\n",
        "before fine-tuning a pretrained checkpoint of an ASR model, it is crucial to verify that the sampling rate of the data that was used to pretrain the model matches the sampling rate of the dataset used to fine-tune the model.\n",
        "\n",
        "XLS-R was pretrained on audio data of [Babel](http://www.reading.ac.uk/AcaDepts/ll/speechlab/babel/r),\n",
        "[Multilingual LibriSpeech (MLS)](https://huggingface.co/datasets/multilingual_librispeech), [Common Voice](https://huggingface.co/datasets/common_voice), [VoxPopuli](https://arxiv.org/abs/2101.00390), and [VoxLingua107](https://arxiv.org/abs/2011.12998) at a sampling rate of 16kHz. Common Voice, in its original form, has a sampling rate of 48kHz, thus we will have to downsample the fine-tuning data to 16kHz in the following.\n",
        "\n"
      ]
    },
    {
      "cell_type": "markdown",
      "metadata": {
        "id": "KuUbPW7oV-B5"
      },
      "source": [
        "A `Wav2Vec2FeatureExtractor` object requires the following parameters to be instantiated:\n",
        "\n",
        "- `feature_size`: Speech models take a sequence of feature vectors as an input. While the length of this sequence obviously varies, the feature size should not. In the case of Wav2Vec2, the feature size is 1 because the model was trained on the raw speech signal ${}^2$.\n",
        "- `sampling_rate`: The sampling rate at which the model is trained on.\n",
        "- `padding_value`: For batched inference, shorter inputs need to be padded with a specific value\n",
        "- `do_normalize`: Whether the input should be *zero-mean-unit-variance* normalized or not. Usually, speech models perform better when normalizing the input\n",
        "- `return_attention_mask`: Whether the model should make use of an `attention_mask` for batched inference. In general, XLS-R models checkpoints should **always** use the `attention_mask`."
      ]
    },
    {
      "cell_type": "code",
      "execution_count": 28,
      "metadata": {
        "id": "kAR0-2KLkopp"
      },
      "outputs": [],
      "source": [
        "from transformers import Wav2Vec2FeatureExtractor, AutoFeatureExtractor\n",
        "\n",
        "# feature_extractor = Wav2Vec2FeatureExtractor(feature_size=1, sampling_rate=16000, padding_value=0.0, do_normalize=True, return_attention_mask=True)\n",
        "\n",
        "model_checkpoint=\"facebook/wav2vec2-xls-r-300m\"\n",
        "feature_extractor = AutoFeatureExtractor.from_pretrained(model_checkpoint, cache_dir=mycache_dir, do_normalize=True,return_attention_mask=True)"
      ]
    },
    {
      "cell_type": "code",
      "execution_count": 29,
      "metadata": {},
      "outputs": [
        {
          "data": {
            "text/plain": [
              "Wav2Vec2FeatureExtractor {\n",
              "  \"do_normalize\": true,\n",
              "  \"feature_extractor_type\": \"Wav2Vec2FeatureExtractor\",\n",
              "  \"feature_size\": 1,\n",
              "  \"padding_side\": \"right\",\n",
              "  \"padding_value\": 0,\n",
              "  \"return_attention_mask\": true,\n",
              "  \"sampling_rate\": 16000\n",
              "}"
            ]
          },
          "execution_count": 29,
          "metadata": {},
          "output_type": "execute_result"
        }
      ],
      "source": [
        "feature_extractor"
      ]
    },
    {
      "cell_type": "markdown",
      "metadata": {
        "id": "qUETetgqYC3W"
      },
      "source": [
        "Great, XLS-R's feature extraction pipeline is thereby fully defined!\n",
        "\n",
        "For improved user-friendliness, the feature extractor and tokenizer are *wrapped* into a single `Wav2Vec2Processor` class so that one only needs a `model` and `processor` object."
      ]
    },
    {
      "cell_type": "code",
      "execution_count": 30,
      "metadata": {
        "id": "KYZtoW-tlZgl"
      },
      "outputs": [],
      "source": [
        "from transformers import Wav2Vec2Processor\n",
        "\n",
        "processor = Wav2Vec2Processor(feature_extractor=feature_extractor, tokenizer=tokenizer)"
      ]
    },
    {
      "cell_type": "markdown",
      "metadata": {
        "id": "DrKnYuvDIoOO"
      },
      "source": [
        "Next, we can prepare the dataset."
      ]
    },
    {
      "cell_type": "markdown",
      "metadata": {
        "id": "YFmShnl7RE35"
      },
      "source": [
        "### Preprocess Data\n",
        "\n",
        "So far, we have not looked at the actual values of the speech signal but just the transcription. In addition to `sentence`, our datasets include two more column names `path` and `audio`. `path` states the absolute path of the audio file. Let's take a look.\n"
      ]
    },
    {
      "cell_type": "code",
      "execution_count": 31,
      "metadata": {
        "colab": {
          "base_uri": "https://localhost:8080/",
          "height": 53
        },
        "id": "TTCS7W6XJ9BG",
        "outputId": "d4b375f8-a536-4be9-b995-578fd321acfe"
      },
      "outputs": [
        {
          "data": {
            "text/plain": [
              "'/DATA10T/Cache/downloads/extracted/b346aab12d7b8d3067d379267bbecbd285cb56b9272116d4588c4bf6e461e436/en_train_0/common_voice_en_19121553.mp3'"
            ]
          },
          "execution_count": 31,
          "metadata": {},
          "output_type": "execute_result"
        }
      ],
      "source": [
        "train_dataset[0][\"path\"]"
      ]
    },
    {
      "cell_type": "markdown",
      "metadata": {
        "id": "T6ndIjHGFp0W"
      },
      "source": [
        "XLS-R expects the input in the format of a 1-dimensional array of 16 kHz. This means that the audio file has to be loaded and resampled.\n",
        "\n",
        " Thankfully, `datasets` does this automatically by calling the other column `audio`. Let try it out."
      ]
    },
    {
      "cell_type": "code",
      "execution_count": 32,
      "metadata": {
        "colab": {
          "base_uri": "https://localhost:8080/"
        },
        "id": "qj_z5Zc3GAs9",
        "outputId": "6b0dca9c-aadc-493f-f754-b01d0f35fe28"
      },
      "outputs": [
        {
          "data": {
            "text/plain": [
              "{'path': '/DATA10T/Cache/downloads/extracted/b346aab12d7b8d3067d379267bbecbd285cb56b9272116d4588c4bf6e461e436/en_train_0/common_voice_en_19121553.mp3',\n",
              " 'array': array([ 0.00000000e+00,  1.96611932e-15, -7.55335397e-14, ...,\n",
              "         1.68718216e-05,  1.41903001e-07,  1.16676725e-04]),\n",
              " 'sampling_rate': 48000}"
            ]
          },
          "execution_count": 32,
          "metadata": {},
          "output_type": "execute_result"
        }
      ],
      "source": [
        "train_dataset[0][\"audio\"]"
      ]
    },
    {
      "cell_type": "code",
      "execution_count": 58,
      "metadata": {},
      "outputs": [
        {
          "data": {
            "text/plain": [
              "Dataset({\n",
              "    features: ['path', 'audio', 'sentence'],\n",
              "    num_rows: 10000\n",
              "})"
            ]
          },
          "execution_count": 58,
          "metadata": {},
          "output_type": "execute_result"
        }
      ],
      "source": [
        "train_dataset"
      ]
    },
    {
      "cell_type": "markdown",
      "metadata": {
        "id": "WUUTgI1bGHW-"
      },
      "source": [
        "Great, we can see that the audio file has automatically been loaded. This is thanks to the new [`\"Audio\"` feature](https://huggingface.co/docs/datasets/package_reference/main_classes.html?highlight=audio#datasets.Audio) introduced in `datasets == 4.13.3`, which loads and resamples audio files on-the-fly upon calling.\n",
        "\n",
        "In the example above we can see that the audio data is loaded with a sampling rate of 48kHz whereas 16kHz are expected by the model. We can set the audio feature to the correct sampling rate by making use of [`cast_column`](https://huggingface.co/docs/datasets/package_reference/main_classes.html?highlight=cast_column#datasets.DatasetDict.cast_column):"
      ]
    },
    {
      "cell_type": "code",
      "execution_count": 33,
      "metadata": {
        "id": "rrv65aj7G95i"
      },
      "outputs": [],
      "source": [
        "train_dataset = train_dataset.cast_column(\"audio\", Audio(sampling_rate=16_000))\n",
        "test_dataset = test_dataset.cast_column(\"audio\", Audio(sampling_rate=16_000))"
      ]
    },
    {
      "cell_type": "markdown",
      "metadata": {
        "id": "PcnO4x-NGBEi"
      },
      "source": [
        "Let's take a look at `\"audio\"` again."
      ]
    },
    {
      "cell_type": "code",
      "execution_count": 34,
      "metadata": {
        "colab": {
          "base_uri": "https://localhost:8080/"
        },
        "id": "aKtkc1o_HWHC",
        "outputId": "c2c1375e-4812-4112-d843-9e3da6dd327d"
      },
      "outputs": [
        {
          "data": {
            "text/plain": [
              "{'path': '/DATA10T/Cache/downloads/extracted/b346aab12d7b8d3067d379267bbecbd285cb56b9272116d4588c4bf6e461e436/en_train_0/common_voice_en_19121553.mp3',\n",
              " 'array': array([ 7.27595761e-11, -2.32830644e-10, -4.65661287e-10, ...,\n",
              "        -5.81125205e-05, -2.75571801e-05,  2.96054786e-05]),\n",
              " 'sampling_rate': 16000}"
            ]
          },
          "execution_count": 34,
          "metadata": {},
          "output_type": "execute_result"
        }
      ],
      "source": [
        "train_dataset[0][\"audio\"]"
      ]
    },
    {
      "cell_type": "markdown",
      "metadata": {
        "id": "SOckzFd4Mbzq"
      },
      "source": [
        "This seemed to have worked! Let's listen to a couple of audio files to better understand the dataset and verify that the audio was correctly loaded.\n",
        "\n",
        "**Note**: *You can click the following cell a couple of times to listen to different speech samples.*"
      ]
    },
    {
      "cell_type": "code",
      "execution_count": 35,
      "metadata": {
        "colab": {
          "base_uri": "https://localhost:8080/",
          "height": 92
        },
        "id": "dueM6U7Ev0OA",
        "outputId": "1a771d0a-085d-441b-cc1b-f05438425ce4"
      },
      "outputs": [
        {
          "name": "stdout",
          "output_type": "stream",
          "text": [
            "motilal later joined the swaraj party which sought to enter the britishsponsored councils\n"
          ]
        },
        {
          "data": {
            "text/html": [
              "\n",
              "                <audio  controls=\"controls\" autoplay=\"autoplay\">\n",
              "                    <source src=\"data:audio/wav;base64,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\" type=\"audio/wav\" />\n",
              "                    Your browser does not support the audio element.\n",
              "                </audio>\n",
              "              "
            ],
            "text/plain": [
              "<IPython.lib.display.Audio object>"
            ]
          },
          "execution_count": 35,
          "metadata": {},
          "output_type": "execute_result"
        }
      ],
      "source": [
        "import IPython.display as ipd\n",
        "import numpy as np\n",
        "import random\n",
        "\n",
        "rand_int = random.randint(0, len(train_dataset)-1)\n",
        "\n",
        "print(train_dataset[rand_int][\"sentence\"])\n",
        "ipd.Audio(data=train_dataset[rand_int][\"audio\"][\"array\"], autoplay=True, rate=16000)"
      ]
    },
    {
      "cell_type": "markdown",
      "metadata": {
        "id": "gY8m3vARHYTa"
      },
      "source": [
        "It seems like the data is now correctly loaded and resampled."
      ]
    },
    {
      "cell_type": "markdown",
      "metadata": {
        "id": "1MaL9J2dNVtG"
      },
      "source": [
        "It can be heard, that the speakers change along with their speaking rate, accent, and background environment, etc. Overall, the recordings sound acceptably clear though, which is to be expected from a crowd-sourced read speech corpus.\n",
        "\n",
        "Let's do a final check that the data is correctly prepared, by printing the shape of the speech input, its transcription, and the corresponding sampling rate.\n",
        "\n",
        "**Note**: *You can click the following cell a couple of times to verify multiple samples.*"
      ]
    },
    {
      "cell_type": "code",
      "execution_count": 36,
      "metadata": {
        "colab": {
          "base_uri": "https://localhost:8080/"
        },
        "id": "1Po2g7YPuRTx",
        "outputId": "63478ae9-2927-4ec1-c13c-41fb3754e18e"
      },
      "outputs": [
        {
          "name": "stdout",
          "output_type": "stream",
          "text": [
            "Target text: the companies supplying this meat were known as the big four of meatpacking\n",
            "Input array shape: (100224,)\n",
            "Sampling rate: 16000\n"
          ]
        }
      ],
      "source": [
        "rand_int = random.randint(0, len(train_dataset)-1)\n",
        "\n",
        "print(\"Target text:\", train_dataset[rand_int][\"sentence\"])\n",
        "print(\"Input array shape:\", train_dataset[rand_int][\"audio\"][\"array\"].shape)\n",
        "print(\"Sampling rate:\", train_dataset[rand_int][\"audio\"][\"sampling_rate\"])"
      ]
    },
    {
      "cell_type": "markdown",
      "metadata": {
        "id": "M9teZcSwOBJ4"
      },
      "source": [
        "Good! Everything looks fine - the data is a 1-dimensional array, the sampling rate always corresponds to 16kHz, and the target text is normalized."
      ]
    },
    {
      "cell_type": "markdown",
      "metadata": {
        "id": "k3Pbn5WvOYZF"
      },
      "source": [
        "Finally, we can leverage `Wav2Vec2Processor` to process the data to the format expected by `Wav2Vec2ForCTC` for training. To do so let's make use of Dataset's [`map(...)`](https://huggingface.co/docs/datasets/package_reference/main_classes.html?highlight=map#datasets.DatasetDict.map) function.\n",
        "\n",
        "First, we load and resample the audio data, simply by calling `batch[\"audio\"]`.\n",
        "Second, we extract the `input_values` from the loaded audio file. In our case, the `Wav2Vec2Processor` only normalizes the data. For other speech models, however, this step can include more complex feature extraction, such as [Log-Mel feature extraction](https://en.wikipedia.org/wiki/Mel-frequency_cepstrum).\n",
        "Third, we encode the transcriptions to label ids.\n",
        "\n",
        "**Note**: This mapping function is a good example of how the `Wav2Vec2Processor` class should be used. In \"normal\" context, calling `processor(...)` is redirected to `Wav2Vec2FeatureExtractor`'s call method. When wrapping the processor into the `as_target_processor` context, however, the same method is redirected to `Wav2Vec2CTCTokenizer`'s call method.\n",
        "For more information please check the [docs](https://huggingface.co/transformers/master/model_doc/wav2vec2.html#transformers.Wav2Vec2Processor.__call__)."
      ]
    },
    {
      "cell_type": "code",
      "execution_count": 37,
      "metadata": {
        "id": "eJY7I0XAwe9p"
      },
      "outputs": [],
      "source": [
        "def prepare_dataset(batch):\n",
        "    audio = batch[\"audio\"]\n",
        "\n",
        "    # batched output is \"un-batched\"\n",
        "    batch[\"input_values\"] = processor(audio[\"array\"], sampling_rate=audio[\"sampling_rate\"]).input_values[0]\n",
        "    batch[\"input_length\"] = len(batch[\"input_values\"])\n",
        "\n",
        "    # with processor.as_target_processor():\n",
        "    #     batch[\"labels\"] = processor(batch[\"sentence\"]).input_ids\n",
        "    batch[\"labels\"] = processor.tokenizer(batch[\"sentence\"]).input_ids\n",
        "    return batch"
      ]
    },
    {
      "cell_type": "markdown",
      "metadata": {
        "id": "q6Pg_WR3OGAP"
      },
      "source": [
        "Let's apply the data preparation function to all examples."
      ]
    },
    {
      "cell_type": "code",
      "execution_count": 38,
      "metadata": {
        "colab": {
          "base_uri": "https://localhost:8080/",
          "height": 81,
          "referenced_widgets": [
            "012b09b271a842d0a7f1cd1260654c82",
            "6a40faf77bf445308534e7acada6bf0d",
            "a62ff1ee03dc47c9834b43720df991ea",
            "03d00b443bfd445d9286f64fd8556031",
            "557063bf861648f7aefacf71aa53ea9b",
            "21af0f39c0ce40a5846b980f98481940",
            "f6e0ea791e5a44abb5d5891bb3e254ad",
            "6323e35581be4b338a904266a5e85005",
            "6da7072e7f634a3aa2927fca1bcf38c0",
            "716dc4ab4fe74abab49f3c0f009357f5",
            "8a669878b8354867944e577860910001",
            "3aa317d2b42e4674b38dafa87b5599c5",
            "0a7c2124936345febe50288a476a12a6",
            "bdcf9380af5d4601b9b2de84b06ecb40",
            "b9c5532ffabb44078de8a6f76a4b8be6",
            "7732bb1317f940faa455f992f4fd2b26",
            "f28c64f34f9540b6b6bdc765c84e2307",
            "02016dcc44994c15b69e7f2c4dd0d9c4",
            "bbfc45e0cf5644f6bc24118fa9c6c098",
            "eca458b185ae4570b1ec1e77389c871e",
            "fe156fa95ee9410daff8f7c9a8b0d3a3",
            "a5e2e1fe3ab94cc6ae1a73cc1ab6f9a8"
          ]
        },
        "id": "-np9xYK-wl8q",
        "outputId": "00d6940a-a7bf-4128-896b-76bc289e5b7f"
      },
      "outputs": [],
      "source": [
        "train_dataset = train_dataset.map(prepare_dataset, remove_columns=train_dataset.column_names)\n",
        "test_dataset =test_dataset.map(prepare_dataset, remove_columns=test_dataset.column_names)"
      ]
    },
    {
      "cell_type": "markdown",
      "metadata": {
        "id": "nKcEWHvKI1by"
      },
      "source": [
        "**Note**: Currently `datasets` make use of [`torchaudio`](https://pytorch.org/audio/stable/index.html) and [`librosa`](https://librosa.org/doc/latest/index.html) for audio loading and resampling. If you wish to implement your own costumized data loading/sampling, feel free to just make use of the `\"path\"` column instead and disregard the `\"audio\"` column."
      ]
    },
    {
      "cell_type": "markdown",
      "metadata": {
        "id": "24CxHd5ewI4T"
      },
      "source": [
        "Long input sequences require a lot of memory. XLS-R is based on `self-attention` the memory requirement scales quadratically with the input length for long input sequences (*cf.* with [this](https://www.reddit.com/r/MachineLearning/comments/genjvb/d_why_is_the_maximum_input_sequence_length_of/) reddit post). In case this demo crashes with an \"Out-of-memory\" error for you, you might want to uncomment the following lines to filter all sequences that are longer than 5 seconds for training."
      ]
    },
    {
      "cell_type": "code",
      "execution_count": null,
      "metadata": {
        "id": "tdHfbUJ_09iA"
      },
      "outputs": [],
      "source": [
        "#max_input_length_in_sec = 5.0\n",
        "#common_voice_train = common_voice_train.filter(lambda x: x < max_input_length_in_sec * processor.feature_extractor.sampling_rate, input_columns=[\"input_length\"])"
      ]
    },
    {
      "cell_type": "markdown",
      "metadata": {
        "id": "1ZWDCCKqwcfS"
      },
      "source": [
        "Awesome, now we are ready to start training!"
      ]
    },
    {
      "cell_type": "markdown",
      "metadata": {
        "id": "gYlQkKVoRUos"
      },
      "source": [
        "## Training\n",
        "\n",
        "The data is processed so that we are ready to start setting up the training pipeline. We will make use of 🤗's [Trainer](https://huggingface.co/transformers/master/main_classes/trainer.html?highlight=trainer) for which we essentially need to do the following:\n",
        "\n",
        "- Define a data collator. In contrast to most NLP models, XLS-R has a much larger input length than output length. *E.g.*, a sample of input length 50000 has an output length of no more than 100. Given the large input sizes, it is much more efficient to pad the training batches dynamically meaning that all training samples should only be padded to the longest sample in their batch and not the overall longest sample. Therefore, fine-tuning XLS-R requires a special padding data collator, which we will define below\n",
        "\n",
        "- Evaluation metric. During training, the model should be evaluated on the word error rate. We should define a `compute_metrics` function accordingly\n",
        "\n",
        "- Load a pretrained checkpoint. We need to load a pretrained checkpoint and configure it correctly for training.\n",
        "\n",
        "- Define the training configuration.\n",
        "\n",
        "After having fine-tuned the model, we will correctly evaluate it on the test data and verify that it has indeed learned to correctly transcribe speech."
      ]
    },
    {
      "cell_type": "markdown",
      "metadata": {
        "id": "Slk403unUS91"
      },
      "source": [
        "### Set-up Trainer\n",
        "\n",
        "Let's start by defining the data collator. The code for the data collator was copied from [this example](https://github.com/huggingface/transformers/blob/7e61d56a45c19284cfda0cee8995fb552f6b1f4e/examples/pytorch/speech-recognition/run_speech_recognition_ctc.py#L219).\n",
        "\n",
        "Without going into too many details, in contrast to the common data collators, this data collator treats the `input_values` and `labels` differently and thus applies to separate padding functions on them (again making use of XLS-R processor's context manager). This is necessary because in speech input and output are of different modalities meaning that they should not be treated by the same padding function.\n",
        "Analogous to the common data collators, the padding tokens in the labels with `-100` so that those tokens are **not** taken into account when computing the loss."
      ]
    },
    {
      "cell_type": "code",
      "execution_count": 39,
      "metadata": {
        "id": "tborvC9hx88e"
      },
      "outputs": [],
      "source": [
        "import torch\n",
        "\n",
        "from dataclasses import dataclass, field\n",
        "from typing import Any, Dict, List, Optional, Union\n",
        "\n",
        "@dataclass\n",
        "class DataCollatorCTCWithPadding:\n",
        "    \"\"\"\n",
        "    Data collator that will dynamically pad the inputs received.\n",
        "    Args:\n",
        "        processor (:class:`~transformers.Wav2Vec2Processor`)\n",
        "            The processor used for proccessing the data.\n",
        "        padding (:obj:`bool`, :obj:`str` or :class:`~transformers.tokenization_utils_base.PaddingStrategy`, `optional`, defaults to :obj:`True`):\n",
        "            Select a strategy to pad the returned sequences (according to the model's padding side and padding index)\n",
        "            among:\n",
        "            * :obj:`True` or :obj:`'longest'`: Pad to the longest sequence in the batch (or no padding if only a single\n",
        "              sequence if provided).\n",
        "            * :obj:`'max_length'`: Pad to a maximum length specified with the argument :obj:`max_length` or to the\n",
        "              maximum acceptable input length for the model if that argument is not provided.\n",
        "            * :obj:`False` or :obj:`'do_not_pad'` (default): No padding (i.e., can output a batch with sequences of\n",
        "              different lengths).\n",
        "    \"\"\"\n",
        "\n",
        "    processor: Wav2Vec2Processor\n",
        "    padding: Union[bool, str] = True\n",
        "\n",
        "    def __call__(self, features: List[Dict[str, Union[List[int], torch.Tensor]]]) -> Dict[str, torch.Tensor]:\n",
        "        # split inputs and labels since they have to be of different lenghts and need\n",
        "        # different padding methods\n",
        "        input_features = [{\"input_values\": feature[\"input_values\"]} for feature in features]\n",
        "        label_features = [{\"input_ids\": feature[\"labels\"]} for feature in features]\n",
        "\n",
        "        batch = self.processor.pad(\n",
        "            input_features,\n",
        "            padding=self.padding,\n",
        "            return_tensors=\"pt\",\n",
        "        )\n",
        "        with self.processor.as_target_processor():\n",
        "            labels_batch = self.processor.pad(\n",
        "                label_features,\n",
        "                padding=self.padding,\n",
        "                return_tensors=\"pt\",\n",
        "            )\n",
        "\n",
        "        # replace padding with -100 to ignore loss correctly\n",
        "        labels = labels_batch[\"input_ids\"].masked_fill(labels_batch.attention_mask.ne(1), -100)\n",
        "\n",
        "        batch[\"labels\"] = labels\n",
        "\n",
        "        return batch"
      ]
    },
    {
      "cell_type": "code",
      "execution_count": 40,
      "metadata": {
        "id": "lbQf5GuZyQ4_"
      },
      "outputs": [],
      "source": [
        "data_collator = DataCollatorCTCWithPadding(processor=processor, padding=True)"
      ]
    },
    {
      "cell_type": "markdown",
      "metadata": {
        "id": "xO-Zdj-5cxXp"
      },
      "source": [
        "Next, the evaluation metric is defined. As mentioned earlier, the\n",
        "predominant metric in ASR is the word error rate (WER), hence we will use it in this notebook as well."
      ]
    },
    {
      "cell_type": "code",
      "execution_count": 41,
      "metadata": {
        "colab": {
          "base_uri": "https://localhost:8080/",
          "height": 49,
          "referenced_widgets": [
            "7c81059d35534b799623afe872095cac",
            "379128a308ab43ee9e785e234bb94049",
            "ff8e746cf8ef4f988617b8d4c0dd3c9c",
            "0204a7bc668746a68f6e5e5632753c1c",
            "84361b363998428a87b9e50b6625cca9",
            "c0919f3c8d594911815ce63273f7fe51",
            "69f2a9e473534148b96b2e9bd639a087",
            "5cd8c74ba2e845d498afdc1c25009767",
            "3f0c587f7b764d96837c8e16254aab12",
            "d3b5f5a0d35642e0b606ac63c38f88fa",
            "7ce84a97d72848c0967f732734afdd68"
          ]
        },
        "id": "9Xsux2gmyXso",
        "outputId": "18ceeb9e-1a0d-4ee8-f511-a12ad3608bf1"
      },
      "outputs": [
        {
          "name": "stderr",
          "output_type": "stream",
          "text": [
            "/tmp/ipykernel_2893126/24688115.py:1: FutureWarning: load_metric is deprecated and will be removed in the next major version of datasets. Use 'evaluate.load' instead, from the new library 🤗 Evaluate: https://huggingface.co/docs/evaluate\n",
            "  wer_metric = load_metric(\"wer\")\n",
            "/home/lkk/miniconda3/envs/mycondapy310/lib/python3.10/site-packages/datasets/load.py:752: FutureWarning: The repository for wer contains custom code which must be executed to correctly load the metric. You can inspect the repository content at https://raw.githubusercontent.com/huggingface/datasets/2.16.1/metrics/wer/wer.py\n",
            "You can avoid this message in future by passing the argument `trust_remote_code=True`.\n",
            "Passing `trust_remote_code=True` will be mandatory to load this metric from the next major release of `datasets`.\n",
            "  warnings.warn(\n"
          ]
        }
      ],
      "source": [
        "wer_metric = load_metric(\"wer\")"
      ]
    },
    {
      "cell_type": "markdown",
      "metadata": {
        "id": "E1qZU5p-deqB"
      },
      "source": [
        "The model will return a sequence of logit vectors:\n",
        "$\\mathbf{y}_1, \\ldots, \\mathbf{y}_m$ with $\\mathbf{y}_1 = f_{\\theta}(x_1, \\ldots, x_n)[0]$ and $n >> m$.\n",
        "\n",
        "A logit vector $\\mathbf{y}_1$ contains the log-odds for each word in the vocabulary we defined earlier, thus $\\text{len}(\\mathbf{y}_i) =$ `config.vocab_size`. We are interested in the most likely prediction of the model and thus take the `argmax(...)` of the logits. Also, we transform the encoded labels back to the original string by replacing `-100` with the `pad_token_id` and decoding the ids while making sure that consecutive tokens are **not** grouped to the same token in CTC style ${}^1$."
      ]
    },
    {
      "cell_type": "code",
      "execution_count": 42,
      "metadata": {
        "id": "1XZ-kjweyTy_"
      },
      "outputs": [],
      "source": [
        "def compute_metrics(pred):\n",
        "    pred_logits = pred.predictions\n",
        "    pred_ids = np.argmax(pred_logits, axis=-1)\n",
        "\n",
        "    pred.label_ids[pred.label_ids == -100] = processor.tokenizer.pad_token_id\n",
        "\n",
        "    pred_str = processor.batch_decode(pred_ids)\n",
        "    # we do not want to group tokens when computing the metrics\n",
        "    label_str = processor.batch_decode(pred.label_ids, group_tokens=False)\n",
        "\n",
        "    wer = wer_metric.compute(predictions=pred_str, references=label_str)\n",
        "\n",
        "    return {\"wer\": wer}"
      ]
    },
    {
      "cell_type": "markdown",
      "metadata": {
        "id": "Xmgrx4bRwLIH"
      },
      "source": [
        "Now, we can load the pretrained checkpoint of [Wav2Vec2-XLS-R-300M](https://huggingface.co/facebook/wav2vec2-xls-r-300m). The tokenizer's `pad_token_id` must be to define the model's `pad_token_id` or in the case of `Wav2Vec2ForCTC` also CTC's *blank token* ${}^2$. To save GPU memory, we enable PyTorch's [gradient checkpointing](https://pytorch.org/docs/stable/checkpoint.html) and also set the loss reduction to \"*mean*\".\n",
        "\n",
        "Because the dataset is quite small (~6h of training data) and because Common Voice is quite noisy, fine-tuning Facebook's [wav2vec2-xls-r-300m checkpoint](https://huggingface.co/facebook/wav2vec2-xls-r-300m) seems to require some hyper-parameter tuning. Therefore, I had to play around a bit with different values for dropout, [SpecAugment](https://arxiv.org/abs/1904.08779)'s masking dropout rate, layer dropout, and the learning rate until training seemed to be stable enough.\n",
        "\n",
        "**Note**: When using this notebook to train XLS-R on another language of Common Voice those hyper-parameter settings might not work very well. Feel free to adapt those depending on your use case."
      ]
    },
    {
      "cell_type": "code",
      "execution_count": 81,
      "metadata": {},
      "outputs": [],
      "source": [
        "del model"
      ]
    },
    {
      "cell_type": "code",
      "execution_count": 43,
      "metadata": {
        "colab": {
          "base_uri": "https://localhost:8080/",
          "height": 191,
          "referenced_widgets": [
            "1ca82f9af3ae423096661a1ffd8a165f",
            "ce429683f48349c083e5fc3253a897d7",
            "acc35dfdfca542828d1bb02cbde15dfe",
            "aa92ff120d9c4dd68ae941d7a1f33a81",
            "731a283141f642b9ab5bf9f7053381d2",
            "4246da00789f44e2abce952906bde6f1",
            "059588e34a88476eb6bbc1860ddc27ef",
            "6ae3b3139e6641fc9e62ae5744349add",
            "92c30a7c6102443cad2f6f03211c32e0",
            "ad95ae421231492e814238bde2ecb551",
            "136f973d9623421eb38e09c73c6b6810",
            "367c85905a024248bce6c620b822b2ee",
            "7ea310732a56432da1a095a8d30edc1c",
            "2d2b8b8d5774494aa73d872e9a4c10d9",
            "f4af6a0756e241e49e5d325f1bdb18b4",
            "2b7e52a9be904663ae74226691de6ebd",
            "771530ea22364f1ea8963e2d542fcf49",
            "1cdac9cda666466ca1e09f32661d40ed",
            "3ec9917890f4452883bcaeac444d056c",
            "e9531fcd48b74929bfdb45cd3f3315e7",
            "349c9e8b2a8846c1bff5a03d2a28066a",
            "de1e5c31eacf4fa59cfa51926354acca"
          ]
        },
        "id": "e7cqAWIayn6w",
        "outputId": "3e6cebea-78ef-45df-87b0-f63b78ba9644"
      },
      "outputs": [
        {
          "name": "stderr",
          "output_type": "stream",
          "text": [
            "Some weights of Wav2Vec2ForCTC were not initialized from the model checkpoint at facebook/wav2vec2-xls-r-300m and are newly initialized: ['lm_head.weight', 'lm_head.bias', 'wav2vec2.encoder.pos_conv_embed.conv.parametrizations.weight.original1', 'wav2vec2.encoder.pos_conv_embed.conv.parametrizations.weight.original0']\n",
            "You should probably TRAIN this model on a down-stream task to be able to use it for predictions and inference.\n"
          ]
        }
      ],
      "source": [
        "from transformers import Wav2Vec2ForCTC\n",
        "\n",
        "model = Wav2Vec2ForCTC.from_pretrained(\n",
        "    \"facebook/wav2vec2-xls-r-300m\",\n",
        "    cache_dir = mycache_dir,\n",
        "    # attention_dropout=0.0,\n",
        "    # hidden_dropout=0.0,\n",
        "    # feat_proj_dropout=0.0,\n",
        "    # mask_time_prob=0.05,\n",
        "    # layerdrop=0.0,\n",
        "    ctc_loss_reduction=\"mean\",\n",
        "    pad_token_id=processor.tokenizer.pad_token_id,\n",
        "    vocab_size=len(processor.tokenizer),\n",
        ")"
      ]
    },
    {
      "cell_type": "markdown",
      "metadata": {
        "id": "1DwR3XLSzGDD"
      },
      "source": [
        "The first component of XLS-R consists of a stack of CNN layers that are used to extract acoustically meaningful - but contextually independent - features from the raw speech signal. This part of the model has already been sufficiently trained during pretraining and as stated in the [paper](https://arxiv.org/pdf/2006.13979.pdf) does not need to be fine-tuned anymore.\n",
        "Thus, we can set the `requires_grad` to `False` for all parameters of the *feature extraction* part."
      ]
    },
    {
      "cell_type": "code",
      "execution_count": 44,
      "metadata": {},
      "outputs": [
        {
          "name": "stderr",
          "output_type": "stream",
          "text": [
            "/home/lkk/miniconda3/envs/mycondapy310/lib/python3.10/site-packages/transformers/models/wav2vec2/modeling_wav2vec2.py:1925: FutureWarning: The method `freeze_feature_extractor` is deprecated and will be removed in Transformers v5.Please use the equivalent `freeze_feature_encoder` method instead.\n",
            "  warnings.warn(\n"
          ]
        }
      ],
      "source": [
        "model.freeze_feature_extractor()"
      ]
    },
    {
      "cell_type": "code",
      "execution_count": 51,
      "metadata": {
        "id": "oGI8zObtZ3V0"
      },
      "outputs": [],
      "source": [
        "#model.freeze_feature_encoder()#model.freeze_feature_extractor()"
      ]
    },
    {
      "cell_type": "code",
      "execution_count": 52,
      "metadata": {},
      "outputs": [],
      "source": [
        "#model.freeze_base_model()"
      ]
    },
    {
      "cell_type": "markdown",
      "metadata": {
        "id": "lD4aGhQM0K-D"
      },
      "source": [
        "In a final step, we define all parameters related to training.\n",
        "To give more explanation on some of the parameters:\n",
        "- `group_by_length` makes training more efficient by grouping training samples of similar input length into one batch. This can significantly speed up training time by heavily reducing the overall number of useless padding tokens that are passed through the model\n",
        "- `learning_rate` and `weight_decay` were heuristically tuned until fine-tuning has become stable. Note that those parameters strongly depend on the Common Voice dataset and might be suboptimal for other speech datasets.\n",
        "\n",
        "For more explanations on other parameters, one can take a look at the [docs](https://huggingface.co/transformers/master/main_classes/trainer.html?highlight=trainer#trainingarguments).\n",
        "\n",
        "During training, a checkpoint will be uploaded asynchronously to the hub every 400 training steps. It allows you to also play around with the demo widget even while your model is still training.\n",
        "\n",
        "**Note**: If one does not want to upload the model checkpoints to the hub, simply set `push_to_hub=False`."
      ]
    },
    {
      "cell_type": "code",
      "execution_count": 47,
      "metadata": {
        "id": "KbeKSV7uzGPP"
      },
      "outputs": [],
      "source": [
        "from transformers import TrainingArguments\n",
        "\n",
        "training_args = TrainingArguments(\n",
        "  output_dir=\"/DATA10T/output/wave2vec2xls2\",\n",
        "  group_by_length=True,\n",
        "  per_device_train_batch_size=16,\n",
        "  gradient_accumulation_steps=2,\n",
        "  evaluation_strategy=\"steps\",\n",
        "  num_train_epochs=30,\n",
        "  gradient_checkpointing=True,\n",
        "  fp16=True,\n",
        "  save_steps=400,\n",
        "  eval_steps=400,\n",
        "  logging_steps=400,\n",
        "  learning_rate=3e-4,\n",
        "  warmup_steps=500,\n",
        "  save_total_limit=2,\n",
        "  push_to_hub=False,\n",
        ")"
      ]
    },
    {
      "cell_type": "code",
      "execution_count": 45,
      "metadata": {},
      "outputs": [],
      "source": [
        "from transformers import TrainingArguments\n",
        "training_args = TrainingArguments(\n",
        "    output_dir=\"/DATA10T/output/wave2vec2xls3\",\n",
        "    group_by_length=True,#makes training more efficient by grouping training samples of similar input length into one batch.\n",
        "    evaluation_strategy=\"epoch\",\n",
        "    save_strategy=\"epoch\",\n",
        "    learning_rate=3e-4,\n",
        "    per_device_train_batch_size=8,\n",
        "    gradient_accumulation_steps=2,\n",
        "    per_device_eval_batch_size=8,\n",
        "    num_train_epochs=10,\n",
        "    warmup_ratio=0.1,\n",
        "    #warmup_steps=500,\n",
        "    logging_steps=100,\n",
        "    save_total_limit=2,\n",
        "    load_best_model_at_end=True,\n",
        "    #metric_for_best_model=myEvaluator.#\"accuracy\",\n",
        "    fp16=True,\n",
        "    push_to_hub=False,\n",
        "    #gradient_checkpointing=True,#reduce GPU memory, or use model.gradient_checkpointing_enable()\n",
        ")"
      ]
    },
    {
      "cell_type": "code",
      "execution_count": 44,
      "metadata": {},
      "outputs": [],
      "source": [
        "#model.gradient_checkpointing_enable()"
      ]
    },
    {
      "cell_type": "markdown",
      "metadata": {
        "id": "OsW-WZcL1ZtN"
      },
      "source": [
        "Now, all instances can be passed to Trainer and we are ready to start training!"
      ]
    },
    {
      "cell_type": "code",
      "execution_count": 46,
      "metadata": {
        "colab": {
          "base_uri": "https://localhost:8080/"
        },
        "id": "rY7vBmFCPFgC",
        "outputId": "c47ecc78-5259-44db-c121-5bd7945defb8"
      },
      "outputs": [],
      "source": [
        "from transformers import Trainer\n",
        "\n",
        "trainer = Trainer(\n",
        "    model=model,\n",
        "    data_collator=data_collator,\n",
        "    args=training_args,\n",
        "    compute_metrics=compute_metrics,\n",
        "    train_dataset=train_dataset,\n",
        "    eval_dataset=test_dataset,\n",
        "    tokenizer=processor.feature_extractor,\n",
        ")"
      ]
    },
    {
      "cell_type": "markdown",
      "metadata": {
        "id": "UoXBx1JAA0DX"
      },
      "source": [
        "\n",
        "\n",
        "---\n",
        "\n",
        "${}^1$ To allow models to become independent of the speaker rate, in CTC, consecutive tokens that are identical are simply grouped as a single token. However, the encoded labels should not be grouped when decoding since they don't correspond to the predicted tokens of the model, which is why the `group_tokens=False` parameter has to be passed. If we wouldn't pass this parameter a word like `\"hello\"` would incorrectly be encoded, and decoded as `\"helo\"`.\n",
        "\n",
        "${}^2$ The blank token allows the model to predict a word, such as `\"hello\"` by forcing it to insert the blank token between the two l's. A CTC-conform prediction of `\"hello\"` of our model would be `[PAD] [PAD] \"h\" \"e\" \"e\" \"l\" \"l\" [PAD] \"l\" \"o\" \"o\" [PAD]`."
      ]
    },
    {
      "cell_type": "markdown",
      "metadata": {
        "id": "rpvZHM1xReIW"
      },
      "source": [
        "### Training"
      ]
    },
    {
      "cell_type": "markdown",
      "metadata": {
        "id": "j-3oKSzZ1hGq"
      },
      "source": [
        "Training will take multiple hours depending on the GPU allocated to this notebook. While the trained model yields somewhat satisfying results on *Common Voice*'s test data of Turkish, it is by no means an optimally fine-tuned model. The purpose of this notebook is just to demonstrate how to fine-tune XLS-R on an ASR dataset.\n",
        "\n",
        "In case you want to use this google colab to fine-tune your model, you should make sure that your training doesn't stop due to inactivity. A simple hack to prevent this is to paste the following code into the console of this tab (*right mouse click -> inspect -> Console tab and insert code*)."
      ]
    },
    {
      "cell_type": "markdown",
      "metadata": {
        "id": "VYYAvgkW4P0m"
      },
      "source": [
        "```javascript\n",
        "function ConnectButton(){\n",
        "    console.log(\"Connect pushed\");\n",
        "    document.querySelector(\"#top-toolbar > colab-connect-button\").shadowRoot.querySelector(\"#connect\").click()\n",
        "}\n",
        "setInterval(ConnectButton,60000);\n",
        "```"
      ]
    },
    {
      "cell_type": "markdown",
      "metadata": {
        "id": "7bGgLV2r0yvZ"
      },
      "source": [
        "Depending on what GPU was allocated to your google colab it might be possible that you are seeing an `\"out-of-memory\"` error here. In this case, it's probably best to reduce `per_device_train_batch_size` to 8 or even less and increase [`gradient_accumulation`](https://huggingface.co/transformers/master/main_classes/trainer.html#trainingarguments)."
      ]
    },
    {
      "cell_type": "code",
      "execution_count": 47,
      "metadata": {},
      "outputs": [
        {
          "name": "stderr",
          "output_type": "stream",
          "text": [
            "/home/lkk/miniconda3/envs/mycondapy310/lib/python3.10/site-packages/transformers/models/wav2vec2/processing_wav2vec2.py:155: UserWarning: `as_target_processor` is deprecated and will be removed in v5 of Transformers. You can process your labels by using the argument `text` of the regular `__call__` method (either in the same call as your audio inputs, or in a separate call.\n",
            "  warnings.warn(\n"
          ]
        },
        {
          "data": {
            "text/html": [
              "\n",
              "    <div>\n",
              "      \n",
              "      <progress value='6250' max='6250' style='width:300px; height:20px; vertical-align: middle;'></progress>\n",
              "      [6250/6250 47:09, Epoch 10/10]\n",
              "    </div>\n",
              "    <table border=\"1\" class=\"dataframe\">\n",
              "  <thead>\n",
              " <tr style=\"text-align: left;\">\n",
              "      <th>Epoch</th>\n",
              "      <th>Training Loss</th>\n",
              "      <th>Validation Loss</th>\n",
              "      <th>Wer</th>\n",
              "    </tr>\n",
              "  </thead>\n",
              "  <tbody>\n",
              "    <tr>\n",
              "      <td>1</td>\n",
              "      <td>2.911300</td>\n",
              "      <td>2.549300</td>\n",
              "      <td>1.000000</td>\n",
              "    </tr>\n",
              "    <tr>\n",
              "      <td>2</td>\n",
              "      <td>1.085700</td>\n",
              "      <td>1.121199</td>\n",
              "      <td>0.703566</td>\n",
              "    </tr>\n",
              "    <tr>\n",
              "      <td>3</td>\n",
              "      <td>0.803900</td>\n",
              "      <td>0.912603</td>\n",
              "      <td>0.584353</td>\n",
              "    </tr>\n",
              "    <tr>\n",
              "      <td>4</td>\n",
              "      <td>0.641600</td>\n",
              "      <td>0.900724</td>\n",
              "      <td>0.529005</td>\n",
              "    </tr>\n",
              "    <tr>\n",
              "      <td>5</td>\n",
              "      <td>0.533900</td>\n",
              "      <td>0.813429</td>\n",
              "      <td>0.483768</td>\n",
              "    </tr>\n",
              "    <tr>\n",
              "      <td>6</td>\n",
              "      <td>0.459200</td>\n",
              "      <td>0.818006</td>\n",
              "      <td>0.477382</td>\n",
              "    </tr>\n",
              "    <tr>\n",
              "      <td>7</td>\n",
              "      <td>0.385800</td>\n",
              "      <td>0.759845</td>\n",
              "      <td>0.439063</td>\n",
              "    </tr>\n",
              "    <tr>\n",
              "      <td>8</td>\n",
              "      <td>0.340000</td>\n",
              "      <td>0.778941</td>\n",
              "      <td>0.443853</td>\n",
              "    </tr>\n",
              "    <tr>\n",
              "      <td>9</td>\n",
              "      <td>0.301200</td>\n",
              "      <td>0.796572</td>\n",
              "      <td>0.428952</td>\n",
              "    </tr>\n",
              "    <tr>\n",
              "      <td>10</td>\n",
              "      <td>0.255400</td>\n",
              "      <td>0.776158</td>\n",
              "      <td>0.414050</td>\n",
              "    </tr>\n",
              "  </tbody>\n",
              "</table><p>"
            ],
            "text/plain": [
              "<IPython.core.display.HTML object>"
            ]
          },
          "metadata": {},
          "output_type": "display_data"
        },
        {
          "name": "stderr",
          "output_type": "stream",
          "text": [
            "/home/lkk/miniconda3/envs/mycondapy310/lib/python3.10/site-packages/transformers/models/wav2vec2/processing_wav2vec2.py:155: UserWarning: `as_target_processor` is deprecated and will be removed in v5 of Transformers. You can process your labels by using the argument `text` of the regular `__call__` method (either in the same call as your audio inputs, or in a separate call.\n",
            "  warnings.warn(\n",
            "/home/lkk/miniconda3/envs/mycondapy310/lib/python3.10/site-packages/transformers/models/wav2vec2/processing_wav2vec2.py:155: UserWarning: `as_target_processor` is deprecated and will be removed in v5 of Transformers. You can process your labels by using the argument `text` of the regular `__call__` method (either in the same call as your audio inputs, or in a separate call.\n",
            "  warnings.warn(\n",
            "/home/lkk/miniconda3/envs/mycondapy310/lib/python3.10/site-packages/transformers/models/wav2vec2/processing_wav2vec2.py:155: UserWarning: `as_target_processor` is deprecated and will be removed in v5 of Transformers. You can process your labels by using the argument `text` of the regular `__call__` method (either in the same call as your audio inputs, or in a separate call.\n",
            "  warnings.warn(\n",
            "/home/lkk/miniconda3/envs/mycondapy310/lib/python3.10/site-packages/transformers/models/wav2vec2/processing_wav2vec2.py:155: UserWarning: `as_target_processor` is deprecated and will be removed in v5 of Transformers. You can process your labels by using the argument `text` of the regular `__call__` method (either in the same call as your audio inputs, or in a separate call.\n",
            "  warnings.warn(\n",
            "/home/lkk/miniconda3/envs/mycondapy310/lib/python3.10/site-packages/transformers/models/wav2vec2/processing_wav2vec2.py:155: UserWarning: `as_target_processor` is deprecated and will be removed in v5 of Transformers. You can process your labels by using the argument `text` of the regular `__call__` method (either in the same call as your audio inputs, or in a separate call.\n",
            "  warnings.warn(\n",
            "/home/lkk/miniconda3/envs/mycondapy310/lib/python3.10/site-packages/transformers/models/wav2vec2/processing_wav2vec2.py:155: UserWarning: `as_target_processor` is deprecated and will be removed in v5 of Transformers. You can process your labels by using the argument `text` of the regular `__call__` method (either in the same call as your audio inputs, or in a separate call.\n",
            "  warnings.warn(\n",
            "/home/lkk/miniconda3/envs/mycondapy310/lib/python3.10/site-packages/transformers/models/wav2vec2/processing_wav2vec2.py:155: UserWarning: `as_target_processor` is deprecated and will be removed in v5 of Transformers. You can process your labels by using the argument `text` of the regular `__call__` method (either in the same call as your audio inputs, or in a separate call.\n",
            "  warnings.warn(\n",
            "/home/lkk/miniconda3/envs/mycondapy310/lib/python3.10/site-packages/transformers/models/wav2vec2/processing_wav2vec2.py:155: UserWarning: `as_target_processor` is deprecated and will be removed in v5 of Transformers. You can process your labels by using the argument `text` of the regular `__call__` method (either in the same call as your audio inputs, or in a separate call.\n",
            "  warnings.warn(\n",
            "/home/lkk/miniconda3/envs/mycondapy310/lib/python3.10/site-packages/transformers/models/wav2vec2/processing_wav2vec2.py:155: UserWarning: `as_target_processor` is deprecated and will be removed in v5 of Transformers. You can process your labels by using the argument `text` of the regular `__call__` method (either in the same call as your audio inputs, or in a separate call.\n",
            "  warnings.warn(\n"
          ]
        },
        {
          "data": {
            "text/plain": [
              "TrainOutput(global_step=6250, training_loss=0.9754180757141113, metrics={'train_runtime': 2831.0604, 'train_samples_per_second': 35.322, 'train_steps_per_second': 2.208, 'total_flos': 1.905400461749447e+19, 'train_loss': 0.9754180757141113, 'epoch': 10.0})"
            ]
          },
          "execution_count": 47,
          "metadata": {},
          "output_type": "execute_result"
        }
      ],
      "source": [
        "trainer.train()"
      ]
    },
    {
      "cell_type": "code",
      "execution_count": 49,
      "metadata": {},
      "outputs": [
        {
          "name": "stderr",
          "output_type": "stream",
          "text": [
            "/home/lkk/miniconda3/envs/mycondapy310/lib/python3.10/site-packages/transformers/models/wav2vec2/processing_wav2vec2.py:155: UserWarning: `as_target_processor` is deprecated and will be removed in v5 of Transformers. You can process your labels by using the argument `text` of the regular `__call__` method (either in the same call as your audio inputs, or in a separate call.\n",
            "  warnings.warn(\n",
            "/home/lkk/miniconda3/envs/mycondapy310/lib/python3.10/site-packages/torch/utils/checkpoint.py:429: UserWarning: torch.utils.checkpoint: please pass in use_reentrant=True or use_reentrant=False explicitly. The default value of use_reentrant will be updated to be False in the future. To maintain current behavior, pass use_reentrant=True. It is recommended that you use use_reentrant=False. Refer to docs for more details on the differences between the two variants.\n",
            "  warnings.warn(\n"
          ]
        },
        {
          "data": {
            "text/html": [
              "\n",
              "    <div>\n",
              "      \n",
              "      <progress value='4220' max='9360' style='width:300px; height:20px; vertical-align: middle;'></progress>\n",
              "      [4220/9360 1:06:14 < 1:20:42, 1.06 it/s, Epoch 13.50/30]\n",
              "    </div>\n",
              "    <table border=\"1\" class=\"dataframe\">\n",
              "  <thead>\n",
              " <tr style=\"text-align: left;\">\n",
              "      <th>Step</th>\n",
              "      <th>Training Loss</th>\n",
              "      <th>Validation Loss</th>\n",
              "      <th>Wer</th>\n",
              "    </tr>\n",
              "  </thead>\n",
              "  <tbody>\n",
              "    <tr>\n",
              "      <td>400</td>\n",
              "      <td>5.032400</td>\n",
              "      <td>3.010644</td>\n",
              "      <td>1.000000</td>\n",
              "    </tr>\n",
              "    <tr>\n",
              "      <td>800</td>\n",
              "      <td>1.965400</td>\n",
              "      <td>1.089912</td>\n",
              "      <td>0.675359</td>\n",
              "    </tr>\n",
              "    <tr>\n",
              "      <td>1200</td>\n",
              "      <td>0.869600</td>\n",
              "      <td>0.906917</td>\n",
              "      <td>0.565194</td>\n",
              "    </tr>\n",
              "    <tr>\n",
              "      <td>1600</td>\n",
              "      <td>0.640900</td>\n",
              "      <td>0.851737</td>\n",
              "      <td>0.496541</td>\n",
              "    </tr>\n",
              "    <tr>\n",
              "      <td>2000</td>\n",
              "      <td>0.517900</td>\n",
              "      <td>0.840233</td>\n",
              "      <td>0.459819</td>\n",
              "    </tr>\n",
              "    <tr>\n",
              "      <td>2400</td>\n",
              "      <td>0.447900</td>\n",
              "      <td>0.789620</td>\n",
              "      <td>0.464077</td>\n",
              "    </tr>\n",
              "    <tr>\n",
              "      <td>2800</td>\n",
              "      <td>0.390200</td>\n",
              "      <td>0.845395</td>\n",
              "      <td>0.462480</td>\n",
              "    </tr>\n",
              "    <tr>\n",
              "      <td>3200</td>\n",
              "      <td>0.347700</td>\n",
              "      <td>0.843843</td>\n",
              "      <td>0.431080</td>\n",
              "    </tr>\n",
              "    <tr>\n",
              "      <td>3600</td>\n",
              "      <td>0.303800</td>\n",
              "      <td>0.843381</td>\n",
              "      <td>0.428419</td>\n",
              "    </tr>\n",
              "    <tr>\n",
              "      <td>4000</td>\n",
              "      <td>0.282100</td>\n",
              "      <td>0.890193</td>\n",
              "      <td>0.437467</td>\n",
              "    </tr>\n",
              "  </tbody>\n",
              "</table><p>"
            ],
            "text/plain": [
              "<IPython.core.display.HTML object>"
            ]
          },
          "metadata": {},
          "output_type": "display_data"
        },
        {
          "name": "stderr",
          "output_type": "stream",
          "text": [
            "/home/lkk/miniconda3/envs/mycondapy310/lib/python3.10/site-packages/transformers/models/wav2vec2/processing_wav2vec2.py:155: UserWarning: `as_target_processor` is deprecated and will be removed in v5 of Transformers. You can process your labels by using the argument `text` of the regular `__call__` method (either in the same call as your audio inputs, or in a separate call.\n",
            "  warnings.warn(\n",
            "/home/lkk/miniconda3/envs/mycondapy310/lib/python3.10/site-packages/torch/utils/checkpoint.py:429: UserWarning: torch.utils.checkpoint: please pass in use_reentrant=True or use_reentrant=False explicitly. The default value of use_reentrant will be updated to be False in the future. To maintain current behavior, pass use_reentrant=True. It is recommended that you use use_reentrant=False. Refer to docs for more details on the differences between the two variants.\n",
            "  warnings.warn(\n",
            "/home/lkk/miniconda3/envs/mycondapy310/lib/python3.10/site-packages/transformers/models/wav2vec2/processing_wav2vec2.py:155: UserWarning: `as_target_processor` is deprecated and will be removed in v5 of Transformers. You can process your labels by using the argument `text` of the regular `__call__` method (either in the same call as your audio inputs, or in a separate call.\n",
            "  warnings.warn(\n",
            "/home/lkk/miniconda3/envs/mycondapy310/lib/python3.10/site-packages/torch/utils/checkpoint.py:429: UserWarning: torch.utils.checkpoint: please pass in use_reentrant=True or use_reentrant=False explicitly. The default value of use_reentrant will be updated to be False in the future. To maintain current behavior, pass use_reentrant=True. It is recommended that you use use_reentrant=False. Refer to docs for more details on the differences between the two variants.\n",
            "  warnings.warn(\n",
            "/home/lkk/miniconda3/envs/mycondapy310/lib/python3.10/site-packages/transformers/models/wav2vec2/processing_wav2vec2.py:155: UserWarning: `as_target_processor` is deprecated and will be removed in v5 of Transformers. You can process your labels by using the argument `text` of the regular `__call__` method (either in the same call as your audio inputs, or in a separate call.\n",
            "  warnings.warn(\n",
            "/home/lkk/miniconda3/envs/mycondapy310/lib/python3.10/site-packages/torch/utils/checkpoint.py:429: UserWarning: torch.utils.checkpoint: please pass in use_reentrant=True or use_reentrant=False explicitly. The default value of use_reentrant will be updated to be False in the future. To maintain current behavior, pass use_reentrant=True. It is recommended that you use use_reentrant=False. Refer to docs for more details on the differences between the two variants.\n",
            "  warnings.warn(\n",
            "/home/lkk/miniconda3/envs/mycondapy310/lib/python3.10/site-packages/transformers/models/wav2vec2/processing_wav2vec2.py:155: UserWarning: `as_target_processor` is deprecated and will be removed in v5 of Transformers. You can process your labels by using the argument `text` of the regular `__call__` method (either in the same call as your audio inputs, or in a separate call.\n",
            "  warnings.warn(\n",
            "/home/lkk/miniconda3/envs/mycondapy310/lib/python3.10/site-packages/torch/utils/checkpoint.py:429: UserWarning: torch.utils.checkpoint: please pass in use_reentrant=True or use_reentrant=False explicitly. The default value of use_reentrant will be updated to be False in the future. To maintain current behavior, pass use_reentrant=True. It is recommended that you use use_reentrant=False. Refer to docs for more details on the differences between the two variants.\n",
            "  warnings.warn(\n",
            "/home/lkk/miniconda3/envs/mycondapy310/lib/python3.10/site-packages/transformers/models/wav2vec2/processing_wav2vec2.py:155: UserWarning: `as_target_processor` is deprecated and will be removed in v5 of Transformers. You can process your labels by using the argument `text` of the regular `__call__` method (either in the same call as your audio inputs, or in a separate call.\n",
            "  warnings.warn(\n",
            "/home/lkk/miniconda3/envs/mycondapy310/lib/python3.10/site-packages/torch/utils/checkpoint.py:429: UserWarning: torch.utils.checkpoint: please pass in use_reentrant=True or use_reentrant=False explicitly. The default value of use_reentrant will be updated to be False in the future. To maintain current behavior, pass use_reentrant=True. It is recommended that you use use_reentrant=False. Refer to docs for more details on the differences between the two variants.\n",
            "  warnings.warn(\n",
            "/home/lkk/miniconda3/envs/mycondapy310/lib/python3.10/site-packages/transformers/models/wav2vec2/processing_wav2vec2.py:155: UserWarning: `as_target_processor` is deprecated and will be removed in v5 of Transformers. You can process your labels by using the argument `text` of the regular `__call__` method (either in the same call as your audio inputs, or in a separate call.\n",
            "  warnings.warn(\n",
            "/home/lkk/miniconda3/envs/mycondapy310/lib/python3.10/site-packages/torch/utils/checkpoint.py:429: UserWarning: torch.utils.checkpoint: please pass in use_reentrant=True or use_reentrant=False explicitly. The default value of use_reentrant will be updated to be False in the future. To maintain current behavior, pass use_reentrant=True. It is recommended that you use use_reentrant=False. Refer to docs for more details on the differences between the two variants.\n",
            "  warnings.warn(\n",
            "/home/lkk/miniconda3/envs/mycondapy310/lib/python3.10/site-packages/transformers/models/wav2vec2/processing_wav2vec2.py:155: UserWarning: `as_target_processor` is deprecated and will be removed in v5 of Transformers. You can process your labels by using the argument `text` of the regular `__call__` method (either in the same call as your audio inputs, or in a separate call.\n",
            "  warnings.warn(\n",
            "/home/lkk/miniconda3/envs/mycondapy310/lib/python3.10/site-packages/torch/utils/checkpoint.py:429: UserWarning: torch.utils.checkpoint: please pass in use_reentrant=True or use_reentrant=False explicitly. The default value of use_reentrant will be updated to be False in the future. To maintain current behavior, pass use_reentrant=True. It is recommended that you use use_reentrant=False. Refer to docs for more details on the differences between the two variants.\n",
            "  warnings.warn(\n",
            "/home/lkk/miniconda3/envs/mycondapy310/lib/python3.10/site-packages/transformers/models/wav2vec2/processing_wav2vec2.py:155: UserWarning: `as_target_processor` is deprecated and will be removed in v5 of Transformers. You can process your labels by using the argument `text` of the regular `__call__` method (either in the same call as your audio inputs, or in a separate call.\n",
            "  warnings.warn(\n",
            "/home/lkk/miniconda3/envs/mycondapy310/lib/python3.10/site-packages/torch/utils/checkpoint.py:429: UserWarning: torch.utils.checkpoint: please pass in use_reentrant=True or use_reentrant=False explicitly. The default value of use_reentrant will be updated to be False in the future. To maintain current behavior, pass use_reentrant=True. It is recommended that you use use_reentrant=False. Refer to docs for more details on the differences between the two variants.\n",
            "  warnings.warn(\n",
            "/home/lkk/miniconda3/envs/mycondapy310/lib/python3.10/site-packages/transformers/models/wav2vec2/processing_wav2vec2.py:155: UserWarning: `as_target_processor` is deprecated and will be removed in v5 of Transformers. You can process your labels by using the argument `text` of the regular `__call__` method (either in the same call as your audio inputs, or in a separate call.\n",
            "  warnings.warn(\n",
            "/home/lkk/miniconda3/envs/mycondapy310/lib/python3.10/site-packages/torch/utils/checkpoint.py:429: UserWarning: torch.utils.checkpoint: please pass in use_reentrant=True or use_reentrant=False explicitly. The default value of use_reentrant will be updated to be False in the future. To maintain current behavior, pass use_reentrant=True. It is recommended that you use use_reentrant=False. Refer to docs for more details on the differences between the two variants.\n",
            "  warnings.warn(\n",
            "/home/lkk/miniconda3/envs/mycondapy310/lib/python3.10/site-packages/transformers/models/wav2vec2/processing_wav2vec2.py:155: UserWarning: `as_target_processor` is deprecated and will be removed in v5 of Transformers. You can process your labels by using the argument `text` of the regular `__call__` method (either in the same call as your audio inputs, or in a separate call.\n",
            "  warnings.warn(\n",
            "/home/lkk/miniconda3/envs/mycondapy310/lib/python3.10/site-packages/torch/utils/checkpoint.py:429: UserWarning: torch.utils.checkpoint: please pass in use_reentrant=True or use_reentrant=False explicitly. The default value of use_reentrant will be updated to be False in the future. To maintain current behavior, pass use_reentrant=True. It is recommended that you use use_reentrant=False. Refer to docs for more details on the differences between the two variants.\n",
            "  warnings.warn(\n"
          ]
        },
        {
          "ename": "",
          "evalue": "",
          "output_type": "error",
          "traceback": [
            "\u001b[1;31mThe Kernel crashed while executing code in the the current cell or a previous cell. Please review the code in the cell(s) to identify a possible cause of the failure. Click <a href='https://aka.ms/vscodeJupyterKernelCrash'>here</a> for more info. View Jupyter <a href='command:jupyter.viewOutput'>log</a> for further details."
          ]
        }
      ],
      "source": [
        "trainer.train()#new"
      ]
    },
    {
      "cell_type": "code",
      "execution_count": 48,
      "metadata": {},
      "outputs": [
        {
          "name": "stderr",
          "output_type": "stream",
          "text": [
            "/home/lkk/miniconda3/envs/mycondapy310/lib/python3.10/site-packages/transformers/models/wav2vec2/processing_wav2vec2.py:155: UserWarning: `as_target_processor` is deprecated and will be removed in v5 of Transformers. You can process your labels by using the argument `text` of the regular `__call__` method (either in the same call as your audio inputs, or in a separate call.\n",
            "  warnings.warn(\n"
          ]
        },
        {
          "data": {
            "text/html": [
              "\n",
              "    <div>\n",
              "      \n",
              "      <progress value='25' max='25' style='width:300px; height:20px; vertical-align: middle;'></progress>\n",
              "      [25/25 00:04]\n",
              "    </div>\n",
              "    "
            ],
            "text/plain": [
              "<IPython.core.display.HTML object>"
            ]
          },
          "metadata": {},
          "output_type": "display_data"
        },
        {
          "data": {
            "text/plain": [
              "{'eval_loss': 0.7598454356193542,\n",
              " 'eval_wer': 0.4390633315593401,\n",
              " 'eval_runtime': 4.544,\n",
              " 'eval_samples_per_second': 44.014,\n",
              " 'eval_steps_per_second': 5.502,\n",
              " 'epoch': 10.0}"
            ]
          },
          "execution_count": 48,
          "metadata": {},
          "output_type": "execute_result"
        }
      ],
      "source": [
        "trainer.evaluate()"
      ]
    },
    {
      "cell_type": "markdown",
      "metadata": {
        "id": "a9q4mgMZplr_"
      },
      "source": [
        "The training loss and validation WER go down nicely."
      ]
    },
    {
      "cell_type": "markdown",
      "metadata": {
        "id": "4Ya7WEy0pd13"
      },
      "source": [
        "You can now upload the result of the training to the 🤗 Hub, just execute this instruction:"
      ]
    },
    {
      "cell_type": "code",
      "execution_count": null,
      "metadata": {
        "colab": {
          "background_save": true,
          "referenced_widgets": [
            "2d2f71d2c70d466cb9a0d3317fb3095e",
            "2e894a5b95cb489db8b27c6617fd9533"
          ]
        },
        "id": "ArG1Thf6NBWm",
        "outputId": "62ef1c3d-786c-4e25-f9c5-4020e71aa298"
      },
      "outputs": [
        {
          "name": "stderr",
          "output_type": "stream",
          "text": [
            "Saving model checkpoint to wav2vec2-large-xls-r-300m-turkish-colab\n",
            "Configuration saved in wav2vec2-large-xls-r-300m-turkish-colab/config.json\n",
            "Model weights saved in wav2vec2-large-xls-r-300m-turkish-colab/pytorch_model.bin\n",
            "Configuration saved in wav2vec2-large-xls-r-300m-turkish-colab/preprocessor_config.json\n",
            "Several commits (2) will be pushed upstream.\n",
            "The progress bars may be unreliable.\n"
          ]
        },
        {
          "data": {
            "application/vnd.jupyter.widget-view+json": {
              "model_id": "2d2f71d2c70d466cb9a0d3317fb3095e",
              "version_major": 2,
              "version_minor": 0
            },
            "text/plain": [
              "Upload file pytorch_model.bin:   0%|          | 3.35k/1.18G [00:00<?, ?B/s]"
            ]
          },
          "metadata": {},
          "output_type": "display_data"
        },
        {
          "data": {
            "application/vnd.jupyter.widget-view+json": {
              "model_id": "2e894a5b95cb489db8b27c6617fd9533",
              "version_major": 2,
              "version_minor": 0
            },
            "text/plain": [
              "Upload file runs/Nov12_14-33-48_c2d4142f9305/events.out.tfevents.1636727730.c2d4142f9305.1468.0:  41%|####1   …"
            ]
          },
          "metadata": {},
          "output_type": "display_data"
        },
        {
          "name": "stderr",
          "output_type": "stream",
          "text": [
            "To https://huggingface.co/patrickvonplaten/wav2vec2-large-xls-r-300m-turkish-colab\n",
            "   56ebe74..fe76946  main -> main\n",
            "\n",
            "Dropping the following result as it does not have all the necessary field:\n",
            "{'dataset': {'name': 'common_voice', 'type': 'common_voice', 'args': 'tr'}}\n",
            "To https://huggingface.co/patrickvonplaten/wav2vec2-large-xls-r-300m-turkish-colab\n",
            "   fe76946..5f0d67b  main -> main\n",
            "\n"
          ]
        },
        {
          "data": {
            "application/vnd.google.colaboratory.intrinsic+json": {
              "type": "string"
            },
            "text/plain": [
              "'https://huggingface.co/patrickvonplaten/wav2vec2-large-xls-r-300m-turkish-colab/commit/fe769461e4e2fb9534740e6c278a0cfabf268474'"
            ]
          },
          "execution_count": null,
          "metadata": {},
          "output_type": "execute_result"
        }
      ],
      "source": [
        "trainer.push_to_hub()"
      ]
    },
    {
      "cell_type": "markdown",
      "metadata": {
        "id": "RHIVc44_fY2N"
      },
      "source": [
        "You can now share this model with all your friends, family, favorite pets: they can all load it with the identifier \"your-username/the-name-you-picked\" so for instance:"
      ]
    },
    {
      "cell_type": "markdown",
      "metadata": {
        "id": "5lWWIKyBpx1h"
      },
      "source": [
        "```python\n",
        "from transformers import AutoModelForCTC, Wav2Vec2Processor\n",
        "\n",
        "model = AutoModelForCTC.from_pretrained(\"patrickvonplaten/wav2vec2-large-xls-r-300m-tr-colab\")\n",
        "processor = Wav2Vec2Processor.from_pretrained(\"patrickvonplaten/wav2vec2-large-xls-r-300m-tr-colab\")\n",
        "```"
      ]
    },
    {
      "cell_type": "markdown",
      "metadata": {
        "id": "pmi1cX0fRBit"
      },
      "source": [
        "For more examples of how XLS-R can be fine-tuned, please take a look at the [official speech recognition examples](https://github.com/huggingface/transformers/tree/master/examples/pytorch/speech-recognition#examples)."
      ]
    },
    {
      "cell_type": "markdown",
      "metadata": {
        "id": "L8b8Qkoy3KyS"
      },
      "source": [
        "### Evaluation\n",
        "\n",
        "As a final check, let's load the model and verify that it indeed has learned to transcribe Turkish speech.\n",
        "\n",
        "Let's first load the pretrained checkpoint."
      ]
    },
    {
      "cell_type": "code",
      "execution_count": null,
      "metadata": {
        "colab": {
          "background_save": true
        },
        "id": "R351I9IQp_9D",
        "outputId": "f2a2ee99-7db6-4962-e140-0107054102d3"
      },
      "outputs": [
        {
          "name": "stderr",
          "output_type": "stream",
          "text": [
            "loading configuration file wav2vec2-large-xls-r-300m-turkish-colab/config.json\n",
            "Model config Wav2Vec2Config {\n",
            "  \"_name_or_path\": \"facebook/wav2vec2-xls-r-300m\",\n",
            "  \"activation_dropout\": 0.0,\n",
            "  \"apply_spec_augment\": true,\n",
            "  \"architectures\": [\n",
            "    \"Wav2Vec2ForCTC\"\n",
            "  ],\n",
            "  \"attention_dropout\": 0.0,\n",
            "  \"bos_token_id\": 1,\n",
            "  \"classifier_proj_size\": 256,\n",
            "  \"codevector_dim\": 768,\n",
            "  \"contrastive_logits_temperature\": 0.1,\n",
            "  \"conv_bias\": true,\n",
            "  \"conv_dim\": [\n",
            "    512,\n",
            "    512,\n",
            "    512,\n",
            "    512,\n",
            "    512,\n",
            "    512,\n",
            "    512\n",
            "  ],\n",
            "  \"conv_kernel\": [\n",
            "    10,\n",
            "    3,\n",
            "    3,\n",
            "    3,\n",
            "    3,\n",
            "    2,\n",
            "    2\n",
            "  ],\n",
            "  \"conv_stride\": [\n",
            "    5,\n",
            "    2,\n",
            "    2,\n",
            "    2,\n",
            "    2,\n",
            "    2,\n",
            "    2\n",
            "  ],\n",
            "  \"ctc_loss_reduction\": \"mean\",\n",
            "  \"ctc_zero_infinity\": false,\n",
            "  \"diversity_loss_weight\": 0.1,\n",
            "  \"do_stable_layer_norm\": true,\n",
            "  \"eos_token_id\": 2,\n",
            "  \"feat_extract_activation\": \"gelu\",\n",
            "  \"feat_extract_dropout\": 0.0,\n",
            "  \"feat_extract_norm\": \"layer\",\n",
            "  \"feat_proj_dropout\": 0.0,\n",
            "  \"feat_quantizer_dropout\": 0.0,\n",
            "  \"final_dropout\": 0.0,\n",
            "  \"gradient_checkpointing\": false,\n",
            "  \"hidden_act\": \"gelu\",\n",
            "  \"hidden_dropout\": 0.0,\n",
            "  \"hidden_size\": 1024,\n",
            "  \"initializer_range\": 0.02,\n",
            "  \"intermediate_size\": 4096,\n",
            "  \"layer_norm_eps\": 1e-05,\n",
            "  \"layerdrop\": 0.0,\n",
            "  \"mask_feature_length\": 10,\n",
            "  \"mask_feature_prob\": 0.0,\n",
            "  \"mask_time_length\": 10,\n",
            "  \"mask_time_prob\": 0.05,\n",
            "  \"model_type\": \"wav2vec2\",\n",
            "  \"num_attention_heads\": 16,\n",
            "  \"num_codevector_groups\": 2,\n",
            "  \"num_codevectors_per_group\": 320,\n",
            "  \"num_conv_pos_embedding_groups\": 16,\n",
            "  \"num_conv_pos_embeddings\": 128,\n",
            "  \"num_feat_extract_layers\": 7,\n",
            "  \"num_hidden_layers\": 24,\n",
            "  \"num_negatives\": 100,\n",
            "  \"pad_token_id\": 36,\n",
            "  \"proj_codevector_dim\": 768,\n",
            "  \"torch_dtype\": \"float32\",\n",
            "  \"transformers_version\": \"4.11.3\",\n",
            "  \"use_weighted_layer_sum\": false,\n",
            "  \"vocab_size\": 39\n",
            "}\n",
            "\n",
            "loading weights file wav2vec2-large-xls-r-300m-turkish-colab/pytorch_model.bin\n",
            "All model checkpoint weights were used when initializing Wav2Vec2ForCTC.\n",
            "\n",
            "All the weights of Wav2Vec2ForCTC were initialized from the model checkpoint at wav2vec2-large-xls-r-300m-turkish-colab.\n",
            "If your task is similar to the task the model of the checkpoint was trained on, you can already use Wav2Vec2ForCTC for predictions without further training.\n",
            "loading feature extractor configuration file wav2vec2-large-xls-r-300m-turkish-colab/preprocessor_config.json\n",
            "Feature extractor Wav2Vec2FeatureExtractor {\n",
            "  \"do_normalize\": true,\n",
            "  \"feature_extractor_type\": \"Wav2Vec2FeatureExtractor\",\n",
            "  \"feature_size\": 1,\n",
            "  \"padding_side\": \"right\",\n",
            "  \"padding_value\": 0.0,\n",
            "  \"return_attention_mask\": true,\n",
            "  \"sampling_rate\": 16000\n",
            "}\n",
            "\n",
            "Didn't find file wav2vec2-large-xls-r-300m-turkish-colab/tokenizer.json. We won't load it.\n",
            "loading file wav2vec2-large-xls-r-300m-turkish-colab/vocab.json\n",
            "loading file wav2vec2-large-xls-r-300m-turkish-colab/tokenizer_config.json\n",
            "loading file wav2vec2-large-xls-r-300m-turkish-colab/added_tokens.json\n",
            "loading file wav2vec2-large-xls-r-300m-turkish-colab/special_tokens_map.json\n",
            "loading file None\n",
            "Adding <s> to the vocabulary\n",
            "Adding </s> to the vocabulary\n"
          ]
        }
      ],
      "source": [
        "model = Wav2Vec2ForCTC.from_pretrained(repo_name).to(\"cuda\")\n",
        "processor = Wav2Vec2Processor.from_pretrained(repo_name)"
      ]
    },
    {
      "cell_type": "code",
      "execution_count": 99,
      "metadata": {},
      "outputs": [
        {
          "data": {
            "text/plain": [
              "Wav2Vec2ForCTC(\n",
              "  (wav2vec2): Wav2Vec2Model(\n",
              "    (feature_extractor): Wav2Vec2FeatureEncoder(\n",
              "      (conv_layers): ModuleList(\n",
              "        (0): Wav2Vec2LayerNormConvLayer(\n",
              "          (conv): Conv1d(1, 512, kernel_size=(10,), stride=(5,))\n",
              "          (layer_norm): LayerNorm((512,), eps=1e-05, elementwise_affine=True)\n",
              "          (activation): GELUActivation()\n",
              "        )\n",
              "        (1-4): 4 x Wav2Vec2LayerNormConvLayer(\n",
              "          (conv): Conv1d(512, 512, kernel_size=(3,), stride=(2,))\n",
              "          (layer_norm): LayerNorm((512,), eps=1e-05, elementwise_affine=True)\n",
              "          (activation): GELUActivation()\n",
              "        )\n",
              "        (5-6): 2 x Wav2Vec2LayerNormConvLayer(\n",
              "          (conv): Conv1d(512, 512, kernel_size=(2,), stride=(2,))\n",
              "          (layer_norm): LayerNorm((512,), eps=1e-05, elementwise_affine=True)\n",
              "          (activation): GELUActivation()\n",
              "        )\n",
              "      )\n",
              "    )\n",
              "    (feature_projection): Wav2Vec2FeatureProjection(\n",
              "      (layer_norm): LayerNorm((512,), eps=1e-05, elementwise_affine=True)\n",
              "      (projection): Linear(in_features=512, out_features=1024, bias=True)\n",
              "      (dropout): Dropout(p=0.1, inplace=False)\n",
              "    )\n",
              "    (encoder): Wav2Vec2EncoderStableLayerNorm(\n",
              "      (pos_conv_embed): Wav2Vec2PositionalConvEmbedding(\n",
              "        (conv): ParametrizedConv1d(\n",
              "          1024, 1024, kernel_size=(128,), stride=(1,), padding=(64,), groups=16\n",
              "          (parametrizations): ModuleDict(\n",
              "            (weight): ParametrizationList(\n",
              "              (0): _WeightNorm()\n",
              "            )\n",
              "          )\n",
              "        )\n",
              "        (padding): Wav2Vec2SamePadLayer()\n",
              "        (activation): GELUActivation()\n",
              "      )\n",
              "      (layer_norm): LayerNorm((1024,), eps=1e-05, elementwise_affine=True)\n",
              "      (dropout): Dropout(p=0.1, inplace=False)\n",
              "      (layers): ModuleList(\n",
              "        (0-23): 24 x Wav2Vec2EncoderLayerStableLayerNorm(\n",
              "          (attention): Wav2Vec2Attention(\n",
              "            (k_proj): Linear(in_features=1024, out_features=1024, bias=True)\n",
              "            (v_proj): Linear(in_features=1024, out_features=1024, bias=True)\n",
              "            (q_proj): Linear(in_features=1024, out_features=1024, bias=True)\n",
              "            (out_proj): Linear(in_features=1024, out_features=1024, bias=True)\n",
              "          )\n",
              "          (dropout): Dropout(p=0.1, inplace=False)\n",
              "          (layer_norm): LayerNorm((1024,), eps=1e-05, elementwise_affine=True)\n",
              "          (feed_forward): Wav2Vec2FeedForward(\n",
              "            (intermediate_dropout): Dropout(p=0.0, inplace=False)\n",
              "            (intermediate_dense): Linear(in_features=1024, out_features=4096, bias=True)\n",
              "            (intermediate_act_fn): GELUActivation()\n",
              "            (output_dense): Linear(in_features=4096, out_features=1024, bias=True)\n",
              "            (output_dropout): Dropout(p=0.1, inplace=False)\n",
              "          )\n",
              "          (final_layer_norm): LayerNorm((1024,), eps=1e-05, elementwise_affine=True)\n",
              "        )\n",
              "      )\n",
              "    )\n",
              "  )\n",
              "  (dropout): Dropout(p=0.0, inplace=False)\n",
              "  (lm_head): Linear(in_features=1024, out_features=33, bias=True)\n",
              ")"
            ]
          },
          "execution_count": 99,
          "metadata": {},
          "output_type": "execute_result"
        }
      ],
      "source": [
        "model"
      ]
    },
    {
      "cell_type": "code",
      "execution_count": 100,
      "metadata": {},
      "outputs": [
        {
          "data": {
            "text/plain": [
              "Wav2Vec2Processor:\n",
              "- feature_extractor: Wav2Vec2FeatureExtractor {\n",
              "  \"do_normalize\": true,\n",
              "  \"feature_extractor_type\": \"Wav2Vec2FeatureExtractor\",\n",
              "  \"feature_size\": 1,\n",
              "  \"padding_side\": \"right\",\n",
              "  \"padding_value\": 0.0,\n",
              "  \"return_attention_mask\": true,\n",
              "  \"sampling_rate\": 16000\n",
              "}\n",
              "\n",
              "- tokenizer: Wav2Vec2CTCTokenizer(name_or_path='./', vocab_size=31, model_max_length=1000000000000000019884624838656, is_fast=False, padding_side='right', truncation_side='right', special_tokens={'bos_token': '<s>', 'eos_token': '</s>', 'unk_token': '[UNK]', 'pad_token': '[PAD]', 'additional_special_tokens': [AddedToken(\"<s>\", rstrip=False, lstrip=False, single_word=False, normalized=True), AddedToken(\"</s>\", rstrip=False, lstrip=False, single_word=False, normalized=True)]}, clean_up_tokenization_spaces=True)"
            ]
          },
          "execution_count": 100,
          "metadata": {},
          "output_type": "execute_result"
        }
      ],
      "source": [
        "processor"
      ]
    },
    {
      "cell_type": "code",
      "execution_count": 101,
      "metadata": {},
      "outputs": [
        {
          "data": {
            "text/plain": [
              "{'input_values': [1.9871007680194452e-05,\n",
              "  1.9876821170328185e-05,\n",
              "  1.987294490390923e-05,\n",
              "  1.9871007680194452e-05,\n",
              "  1.98671332327649e-05,\n",
              "  1.9851631805067882e-05,\n",
              "  1.9876821170328185e-05,\n",
              "  1.987488394661341e-05,\n",
              "  1.9865196009050123e-05,\n",
              "  1.984678783628624e-05,\n",
              "  1.9871007680194452e-05,\n",
              "  1.9868100935127586e-05,\n",
              "  1.987294490390923e-05,\n",
              "  1.987294490390923e-05,\n",
              "  1.9863256966345944e-05,\n",
              "  1.9876821170328185e-05,\n",
              "  1.98923207790358e-05,\n",
              "  1.985938251891639e-05,\n",
              "  1.987294490390923e-05,\n",
              "  1.9876821170328185e-05,\n",
              "  1.9900071492884308e-05,\n",
              "  1.9869070456479676e-05,\n",
              "  1.9888446331606247e-05,\n",
              "  1.9898134269169532e-05,\n",
              "  1.9894258002750576e-05,\n",
              "  1.9882632841472514e-05,\n",
              "  1.988650910789147e-05,\n",
              "  1.989329030038789e-05,\n",
              "  1.9906852685380727e-05,\n",
              "  1.9891836927854456e-05,\n",
              "  1.9888446331606247e-05,\n",
              "  1.9891353076673113e-05,\n",
              "  1.9891353076673113e-05,\n",
              "  1.9897164747817442e-05,\n",
              "  1.9908789909095503e-05,\n",
              "  1.9907822206732817e-05,\n",
              "  1.9899101971532218e-05,\n",
              "  1.9884571884176694e-05,\n",
              "  1.9891353076673113e-05,\n",
              "  1.988117946893908e-05,\n",
              "  1.9897164747817442e-05,\n",
              "  1.9876821170328185e-05,\n",
              "  1.9880695617757738e-05,\n",
              "  1.9901041014236398e-05,\n",
              "  1.9904431610484608e-05,\n",
              "  1.9884571884176694e-05,\n",
              "  1.9882632841472514e-05,\n",
              "  1.991169665416237e-05,\n",
              "  1.9903462089132518e-05,\n",
              "  1.9838553271256387e-05,\n",
              "  1.9856475773849525e-05,\n",
              "  1.9942697690567002e-05,\n",
              "  1.9945362510043196e-05,\n",
              "  1.9861805412801914e-05,\n",
              "  1.990455166378524e-05,\n",
              "  1.996425271499902e-05,\n",
              "  2.0007606508443132e-05,\n",
              "  1.996885475818999e-05,\n",
              "  1.9871007680194452e-05,\n",
              "  1.9914603399229236e-05,\n",
              "  2.005895112233702e-05,\n",
              "  2.0026012862217613e-05,\n",
              "  1.982160029001534e-05,\n",
              "  1.9761535440920852e-05,\n",
              "  1.9971277652075514e-05,\n",
              "  2.0034247427247465e-05,\n",
              "  1.9838553271256387e-05,\n",
              "  1.990491546166595e-05,\n",
              "  1.992332181544043e-05,\n",
              "  1.984872687899042e-05,\n",
              "  1.9709221305674873e-05,\n",
              "  1.971212805074174e-05,\n",
              "  1.9805131159955636e-05,\n",
              "  1.965981391549576e-05,\n",
              "  1.9630750102805905e-05,\n",
              "  1.9772192899836227e-05,\n",
              "  1.9915572920581326e-05,\n",
              "  1.9845820133923553e-05,\n",
              "  1.9644312487798743e-05,\n",
              "  2.0097702872590162e-05,\n",
              "  2.0097702872590162e-05,\n",
              "  1.947380769706797e-05,\n",
              "  1.958618486241903e-05,\n",
              "  2.0427089111763053e-05,\n",
              "  2.053171738225501e-05,\n",
              "  1.978381806111429e-05,\n",
              "  1.993107252928894e-05,\n",
              "  2.0399964341777377e-05,\n",
              "  2.0446464986889623e-05,\n",
              "  2.0310835679993033e-05,\n",
              "  1.9721815988305025e-05,\n",
              "  1.9690814951900393e-05,\n",
              "  2.0833978851442225e-05,\n",
              "  2.0783601939911023e-05,\n",
              "  1.9249049728387035e-05,\n",
              "  1.8962289686896838e-05,\n",
              "  2.0795227101189084e-05,\n",
              "  2.0303084966144525e-05,\n",
              "  1.850114858825691e-05,\n",
              "  1.913667074404657e-05,\n",
              "  1.9996949049527757e-05,\n",
              "  1.9857445295201614e-05,\n",
              "  1.8342268958804198e-05,\n",
              "  1.8361643014941365e-05,\n",
              "  1.9686938685481437e-05,\n",
              "  1.847402199928183e-05,\n",
              "  1.8388769603916444e-05,\n",
              "  1.9380804587854072e-05,\n",
              "  2.0946357835782692e-05,\n",
              "  2.0795227101189084e-05,\n",
              "  1.9314926248625852e-05,\n",
              "  2.2469284886028618e-05,\n",
              "  2.1996518626110628e-05,\n",
              "  1.7817186744650826e-05,\n",
              "  1.9289738702354953e-05,\n",
              "  2.4409757315879688e-05,\n",
              "  2.5827086574281566e-05,\n",
              "  2.0360728740342893e-05,\n",
              "  1.7913096598931588e-05,\n",
              "  2.296191087225452e-05,\n",
              "  2.451632281008642e-05,\n",
              "  2.3583384972880594e-05,\n",
              "  2.0107390810153447e-05,\n",
              "  1.6908468751353212e-05,\n",
              "  2.3798455003998242e-05,\n",
              "  2.5848399673122913e-05,\n",
              "  1.5517296560574323e-05,\n",
              "  1.3986618796479888e-05,\n",
              "  2.4840866899467073e-05,\n",
              "  2.367057641095016e-05,\n",
              "  1.415324913978111e-05,\n",
              "  2.0097702872590162e-05,\n",
              "  2.2484784494736232e-05,\n",
              "  1.595131107023917e-05,\n",
              "  1.086713655240601e-05,\n",
              "  1.1324402294121683e-05,\n",
              "  1.9097918993793428e-05,\n",
              "  9.549591595714446e-06,\n",
              "  8.425802661804482e-06,\n",
              "  2.3352815333055332e-05,\n",
              "  2.0756475350935943e-05,\n",
              "  8.185545084415935e-06,\n",
              "  -8.125139743242471e-07,\n",
              "  2.2329779312713072e-05,\n",
              "  3.761330299312249e-05,\n",
              "  8.47230421641143e-06,\n",
              "  7.4415193012100644e-06,\n",
              "  3.100232788710855e-05,\n",
              "  2.2942051145946607e-05,\n",
              "  7.798031219863333e-06,\n",
              "  1.8121385437552817e-05,\n",
              "  1.7144851881312206e-05,\n",
              "  1.3982743439555634e-05,\n",
              "  2.5484137950115837e-05,\n",
              "  1.7158414266305044e-05,\n",
              "  2.891750591516029e-05,\n",
              "  5.074225555290468e-05,\n",
              "  4.6611363359261304e-05,\n",
              "  2.985528772114776e-05,\n",
              "  2.355432116019074e-05,\n",
              "  5.1604471082100645e-05,\n",
              "  3.712503894348629e-05,\n",
              "  1.2227308616274968e-05,\n",
              "  3.568542524590157e-05,\n",
              "  4.744839316117577e-05,\n",
              "  4.5956465328345075e-05,\n",
              "  1.4688017472508363e-05,\n",
              "  1.7456799469073303e-05,\n",
              "  4.966012420482002e-05,\n",
              "  1.980319393624086e-05,\n",
              "  1.0340118933527265e-05,\n",
              "  3.203892629244365e-05,\n",
              "  4.700953286373988e-05,\n",
              "  4.2205338104395196e-05,\n",
              "  1.2747545042657293e-05,\n",
              "  2.7909971322515048e-05,\n",
              "  6.181060598464683e-05,\n",
              "  6.123998900875449e-05,\n",
              "  5.936539309914224e-05,\n",
              "  5.2315557695692405e-05,\n",
              "  9.021604455483612e-06,\n",
              "  4.786568752024323e-06,\n",
              "  4.4417796743800864e-05,\n",
              "  7.418317545671016e-05,\n",
              "  9.649885760154575e-05,\n",
              "  1.1324887054797728e-05,\n",
              "  -6.430802022805437e-05,\n",
              "  -1.277408046007622e-05,\n",
              "  2.7985051929135807e-05,\n",
              "  6.851894431747496e-05,\n",
              "  6.860709981992841e-05,\n",
              "  5.1538110710680485e-05,\n",
              "  0.00010720833233790472,\n",
              "  0.00013327774649951607,\n",
              "  9.344815771328285e-05,\n",
              "  3.0714600143255666e-05,\n",
              "  4.68138387077488e-05,\n",
              "  9.026376937981695e-05,\n",
              "  7.373632251983508e-05,\n",
              "  8.332727884408087e-05,\n",
              "  6.261081580305472e-05,\n",
              "  1.3757016859017313e-05,\n",
              "  1.3110354302625638e-05,\n",
              "  2.8501171982497908e-05,\n",
              "  5.090186095912941e-05,\n",
              "  8.768340921960771e-05,\n",
              "  9.199268242809922e-05,\n",
              "  4.024306690553203e-05,\n",
              "  6.727525942551438e-06,\n",
              "  -3.2076117349788547e-05,\n",
              "  -2.2275906303548254e-05,\n",
              "  4.821470065508038e-05,\n",
              "  2.2980802896199748e-05,\n",
              "  -3.904870027326979e-06,\n",
              "  -7.944696335471235e-06,\n",
              "  -2.5438983357162215e-05,\n",
              "  -2.011842661886476e-05,\n",
              "  4.3762888708442915e-06,\n",
              "  6.603740621358156e-05,\n",
              "  5.1895105571020395e-05,\n",
              "  6.939908053027466e-05,\n",
              "  0.00010175644274568185,\n",
              "  6.367857849909342e-07,\n",
              "  3.413730883039534e-05,\n",
              "  0.00010764082981040701,\n",
              "  2.8390488296281546e-05,\n",
              "  9.479838809056673e-06,\n",
              "  5.0040856876876205e-05,\n",
              "  2.0664600697273272e-07,\n",
              "  -4.448526306077838e-05,\n",
              "  -1.8516058844397776e-05,\n",
              "  -7.705381722189486e-05,\n",
              "  -9.171344572678208e-05,\n",
              "  -3.200345963705331e-05,\n",
              "  -7.915026071714237e-05,\n",
              "  -3.549689063220285e-05,\n",
              "  8.535106462659314e-05,\n",
              "  6.526819197461009e-05,\n",
              "  1.6288197457470233e-06,\n",
              "  4.7497800551354885e-05,\n",
              "  7.948411803226918e-05,\n",
              "  1.5076499948918354e-05,\n",
              "  1.340244216407882e-05,\n",
              "  -3.144931542919949e-05,\n",
              "  -9.690708975540474e-05,\n",
              "  -4.627060843631625e-05,\n",
              "  7.347062819462735e-06,\n",
              "  4.980641097063199e-05,\n",
              "  1.193473599414574e-05,\n",
              "  1.2238683666510042e-06,\n",
              "  6.0076479712734e-05,\n",
              "  3.249134897487238e-05,\n",
              "  6.907841452630237e-05,\n",
              "  0.0001405058428645134,\n",
              "  9.761974069988355e-05,\n",
              "  2.6075096684508026e-05,\n",
              "  4.626260124496184e-05,\n",
              "  4.071728471899405e-05,\n",
              "  -3.990485492977314e-05,\n",
              "  3.1300711270887405e-05,\n",
              "  5.956205859547481e-05,\n",
              "  -4.925167377223261e-05,\n",
              "  -4.762024400406517e-05,\n",
              "  7.108257705112919e-06,\n",
              "  3.924085831386037e-05,\n",
              "  5.567530024563894e-05,\n",
              "  3.9025788282742724e-05,\n",
              "  -4.816276486963034e-05,\n",
              "  -4.18036688643042e-05,\n",
              "  5.279607648844831e-05,\n",
              "  -2.66790266323369e-05,\n",
              "  -5.9788162616314366e-05,\n",
              "  -2.951587248389842e-06,\n",
              "  -4.700603676610626e-05,\n",
              "  -5.6378044973826036e-05,\n",
              "  4.136055940762162e-05,\n",
              "  0.00011073318455601111,\n",
              "  6.432459485949948e-05,\n",
              "  8.957883983384818e-05,\n",
              "  9.793168283067644e-05,\n",
              "  2.6412231818540022e-05,\n",
              "  8.415171032538638e-05,\n",
              "  0.00012365869770292193,\n",
              "  0.00011273372365394607,\n",
              "  2.7899313863599673e-05,\n",
              "  -7.730860670562834e-05,\n",
              "  -4.4060936488676816e-05,\n",
              "  -5.367223275243305e-05,\n",
              "  -2.4927465346991085e-05,\n",
              "  5.2860013965982944e-05,\n",
              "  4.886837814410683e-06,\n",
              "  -1.5558363884338178e-05,\n",
              "  0.00011304276995360851,\n",
              "  0.00017065728025045246,\n",
              "  3.5502325772540644e-05,\n",
              "  2.9845599783584476e-05,\n",
              "  3.617272523115389e-05,\n",
              "  -9.552463598083705e-05,\n",
              "  -7.25596328265965e-05,\n",
              "  -6.51368172839284e-05,\n",
              "  -0.0001349289232166484,\n",
              "  -8.54512327350676e-05,\n",
              "  -6.279526860453188e-05,\n",
              "  -0.00014533752982970327,\n",
              "  -7.128955621737987e-05,\n",
              "  4.306561459088698e-05,\n",
              "  -9.463916649110615e-05,\n",
              "  -8.222711767302826e-05,\n",
              "  4.128693035454489e-05,\n",
              "  1.468414302507881e-05,\n",
              "  8.613771933596581e-05,\n",
              "  0.00010686193127185106,\n",
              "  4.0035261918092147e-05,\n",
              "  -6.4295190895791166e-06,\n",
              "  -3.327450394863263e-05,\n",
              "  -3.563252175808884e-05,\n",
              "  -7.081679359544069e-05,\n",
              "  3.5964185371994972e-06,\n",
              "  1.6259384210570715e-05,\n",
              "  -9.647016850067303e-05,\n",
              "  -0.00014712590200360864,\n",
              "  -0.0002009979943977669,\n",
              "  -0.0001522023230791092,\n",
              "  -3.272616959293373e-05,\n",
              "  3.016117261722684e-06,\n",
              "  -1.8285489204572514e-05,\n",
              "  -5.8145105867879465e-05,\n",
              "  -0.00013564775872509927,\n",
              "  -0.00017560424748808146,\n",
              "  -9.55207651713863e-05,\n",
              "  -6.903810572111979e-05,\n",
              "  -6.749217391188722e-06,\n",
              "  4.1015671740751714e-05,\n",
              "  -0.00010957974154734984,\n",
              "  -0.00016098725609481335,\n",
              "  -2.865146961994469e-05,\n",
              "  0.0001190686016343534,\n",
              "  9.519777813693509e-05,\n",
              "  5.276507363305427e-05,\n",
              "  0.0001434896985301748,\n",
              "  0.00015988925588317215,\n",
              "  0.0001849381224019453,\n",
              "  4.930433078698115e-06,\n",
              "  -0.00024109399237204343,\n",
              "  -0.00010016317537520081,\n",
              "  4.701437501353212e-05,\n",
              "  0.00011809981515398249,\n",
              "  0.0001119306034524925,\n",
              "  -4.3601732613751665e-05,\n",
              "  -7.019289478193969e-05,\n",
              "  -1.5638772310921922e-05,\n",
              "  3.049080987693742e-05,\n",
              "  0.00010139024379896,\n",
              "  9.295795462094247e-05,\n",
              "  -2.1451471184263937e-05,\n",
              "  -3.8223046431085095e-05,\n",
              "  3.557498348527588e-05,\n",
              "  5.622169192065485e-05,\n",
              "  2.2167023416841403e-05,\n",
              "  -6.503897020593286e-05,\n",
              "  -7.2684852057136595e-06,\n",
              "  4.707637708634138e-05,\n",
              "  -7.171194738475606e-05,\n",
              "  -5.528138353838585e-05,\n",
              "  4.395664745970862e-06,\n",
              "  5.8329766034148633e-05,\n",
              "  4.767677637573797e-06,\n",
              "  -6.744929851265624e-05,\n",
              "  5.7422985264565796e-05,\n",
              "  5.7694243878358975e-05,\n",
              "  8.755188900977373e-06,\n",
              "  1.78617519850377e-05,\n",
              "  8.387076377402991e-05,\n",
              "  0.0001874821464298293,\n",
              "  0.0001235424424521625,\n",
              "  0.0001137170402216725,\n",
              "  0.0001268963678739965,\n",
              "  1.9369177607586607e-05,\n",
              "  9.270994632970542e-05,\n",
              "  7.904622179921716e-05,\n",
              "  -5.764934030594304e-06,\n",
              "  8.314611477544531e-05,\n",
              "  0.00010683092841645703,\n",
              "  -6.956512515898794e-05,\n",
              "  -1.704932037682738e-05,\n",
              "  0.00011284513311693445,\n",
              "  -1.1856643141072709e-05,\n",
              "  -0.00012138339661760256,\n",
              "  -0.00017924688290804625,\n",
              "  -7.340925367316231e-05,\n",
              "  -2.8194202968734317e-05,\n",
              "  -7.615284994244576e-05,\n",
              "  -2.586912341939751e-05,\n",
              "  -3.755652505788021e-05,\n",
              "  -0.00014179758727550507,\n",
              "  -0.00022477193851955235,\n",
              "  -0.0002596326230559498,\n",
              "  -7.052615546854213e-05,\n",
              "  -0.00011843829997815192,\n",
              "  -0.00014244861085899174,\n",
              "  -2.7837690140586346e-05,\n",
              "  -1.3577201571024489e-05,\n",
              "  -3.2317344448529184e-05,\n",
              "  -6.81855744915083e-05,\n",
              "  -4.167966471868567e-05,\n",
              "  -0.00013809296069666743,\n",
              "  -0.00015170243568718433,\n",
              "  -7.925295358290896e-05,\n",
              "  4.188370076008141e-05,\n",
              "  3.4311691706534475e-05,\n",
              "  -8.72124801389873e-05,\n",
              "  -0.0002852782781701535,\n",
              "  -0.0001331172970822081,\n",
              "  7.410155376419425e-05,\n",
              "  0.00013679734547622502,\n",
              "  -0.00010249987826682627,\n",
              "  -0.00037109016557224095,\n",
              "  -0.0005060426774434745,\n",
              "  -0.00032305208151228726,\n",
              "  -0.00025571195874363184,\n",
              "  -0.000530548975802958,\n",
              "  -0.0006494516273960471,\n",
              "  -0.0004935220931656659,\n",
              "  1.2662291737797204e-05,\n",
              "  0.0002377920172875747,\n",
              "  4.1623581637395546e-05,\n",
              "  -0.0005333666922524571,\n",
              "  -0.0007647155434824526,\n",
              "  -0.0008579647983424366,\n",
              "  -0.000859540537931025,\n",
              "  -0.0011355028254911304,\n",
              "  -0.0010794674744829535,\n",
              "  -0.001421639695763588,\n",
              "  -0.0010149362497031689,\n",
              "  -0.000640995625872165,\n",
              "  -0.0009241985389962792,\n",
              "  -0.0014270119136199355,\n",
              "  -0.0018761858809739351,\n",
              "  -0.001569391810335219,\n",
              "  -0.0013415779685601592,\n",
              "  -0.0009429492056369781,\n",
              "  -0.0014026026474311948,\n",
              "  -0.0019787552300840616,\n",
              "  -0.002568438183516264,\n",
              "  -0.0020341852214187384,\n",
              "  -0.0016919947229325771,\n",
              "  -0.0011853971518576145,\n",
              "  -0.001883127260953188,\n",
              "  -0.002265258226543665,\n",
              "  -0.0016701812855899334,\n",
              "  -0.001817859709262848,\n",
              "  -0.001780733815394342,\n",
              "  -0.0016650308389216661,\n",
              "  -0.001557396026328206,\n",
              "  -0.0017491161124780774,\n",
              "  -0.0013459024485200644,\n",
              "  -0.0016566884005442262,\n",
              "  -0.0020749324467033148,\n",
              "  -0.0023612547665834427,\n",
              "  -0.0019125588005408645,\n",
              "  -0.0023198137059807777,\n",
              "  -0.002976920921355486,\n",
              "  -0.002838698448613286,\n",
              "  -0.002629272174090147,\n",
              "  -0.0023003765381872654,\n",
              "  -0.0021915587130934,\n",
              "  -0.0023685824126005173,\n",
              "  -0.0026155973318964243,\n",
              "  -0.0020135436207056046,\n",
              "  -0.0016220887191593647,\n",
              "  -0.0020318066235631704,\n",
              "  -0.00242966553196311,\n",
              "  -0.0025687478482723236,\n",
              "  -0.0014498236123472452,\n",
              "  0.00010327355994377285,\n",
              "  -0.00013569038128480315,\n",
              "  -0.0007234404911287129,\n",
              "  0.00016718516417313367,\n",
              "  0.0011331831337884068,\n",
              "  0.0009163326467387378,\n",
              "  0.0002360908401897177,\n",
              "  -0.0004573467595037073,\n",
              "  0.0007566568092443049,\n",
              "  0.00183133187238127,\n",
              "  0.0013188484590500593,\n",
              "  0.0007863616337999701,\n",
              "  0.000977607211098075,\n",
              "  0.002217134227976203,\n",
              "  0.0031997861806303263,\n",
              "  0.0021757627837359905,\n",
              "  0.0009523200569674373,\n",
              "  0.000214557207073085,\n",
              "  -0.0004042545333504677,\n",
              "  0.0009369071922264993,\n",
              "  0.0003543201892171055,\n",
              "  3.3852487831609324e-05,\n",
              "  0.00036931451177224517,\n",
              "  0.00013335428957361728,\n",
              "  0.001024458440952003,\n",
              "  0.0007265833555720747,\n",
              "  0.00012769731984008104,\n",
              "  0.0002628921065479517,\n",
              "  4.930554860038683e-05,\n",
              "  -0.0010613480117172003,\n",
              "  -0.001610302715562284,\n",
              "  -0.002058834070339799,\n",
              "  -0.0011474222410470247,\n",
              "  -0.0005396197084337473,\n",
              "  7.26813159417361e-05,\n",
              "  0.0007621996919624507,\n",
              "  0.0010743323946371675,\n",
              "  0.0005273749120533466,\n",
              "  -0.0006265011616051197,\n",
              "  -0.00043032062239944935,\n",
              "  -5.795935066998936e-06,\n",
              "  0.000934045878238976,\n",
              "  0.00028446121723391116,\n",
              "  0.0005313691799528897,\n",
              "  0.00027885971940122545,\n",
              "  0.0002024556597461924,\n",
              "  -0.00012407274334691465,\n",
              "  -0.0008220180752687156,\n",
              "  -0.0009329466847702861,\n",
              "  -0.0012756198411807418,\n",
              "  -0.0017088394379243255,\n",
              "  -0.0017569375922903419,\n",
              "  -0.0021378109231591225,\n",
              "  -0.002185306278988719,\n",
              "  -0.0016076015308499336,\n",
              "  -0.0013943781377747655,\n",
              "  -0.0009310071473009884,\n",
              "  -0.0017922748811542988,\n",
              "  -0.0010149929439648986,\n",
              "  -0.0015249139396473765,\n",
              "  -0.0012199680786579847,\n",
              "  -0.0012130452087149024,\n",
              "  -0.0030649984255433083,\n",
              "  -0.0038320771418511868,\n",
              "  -0.0032576157245785,\n",
              "  -0.0021286741830408573,\n",
              "  -0.0001513507595518604,\n",
              "  4.2441235564183444e-05,\n",
              "  5.859715020051226e-05,\n",
              "  -0.0006652786396443844,\n",
              "  -0.0008017123909667134,\n",
              "  0.0004953527241013944,\n",
              "  -0.0005213988479226828,\n",
              "  0.0005572938243858516,\n",
              "  0.0017065041465684772,\n",
              "  0.002970439847558737,\n",
              "  0.002618402475491166,\n",
              "  0.0019597504287958145,\n",
              "  0.0016920131165534258,\n",
              "  0.001791417016647756,\n",
              "  0.0019933658186346292,\n",
              "  0.0033903541043400764,\n",
              "  0.004144742619246244,\n",
              "  0.004381443839520216,\n",
              "  0.002976231276988983,\n",
              "  0.0030218239407986403,\n",
              "  0.0035157392267137766,\n",
              "  0.0020215045660734177,\n",
              "  0.002832410391420126,\n",
              "  0.0031354371458292007,\n",
              "  0.004671002272516489,\n",
              "  0.004642305430024862,\n",
              "  0.0033337620552629232,\n",
              "  0.0014514339854940772,\n",
              "  -0.00037329705082811415,\n",
              "  -9.55798604991287e-05,\n",
              "  0.0017438826616853476,\n",
              "  0.0012935292907059193,\n",
              "  0.0020215418189764023,\n",
              "  0.001457382459193468,\n",
              "  0.0012055599363520741,\n",
              "  0.001743170665577054,\n",
              "  0.0014979168772697449,\n",
              "  0.0013734069652855396,\n",
              "  0.0004073043819516897,\n",
              "  0.0004725010658148676,\n",
              "  -0.00033762550447136164,\n",
              "  -0.00106404151301831,\n",
              "  -0.0013959718635305762,\n",
              "  -0.001228448818437755,\n",
              "  -0.0018254363676533103,\n",
              "  -0.0012479504803195596,\n",
              "  -0.001164784305728972,\n",
              "  -0.0001366204087389633,\n",
              "  -0.00041689714998938143,\n",
              "  0.000496425200253725,\n",
              "  0.001192925963550806,\n",
              "  0.000457057700259611,\n",
              "  -0.0005156394327059388,\n",
              "  -0.001034314394928515,\n",
              "  0.0008084392757155001,\n",
              "  0.0021986626088619232,\n",
              "  0.003381457645446062,\n",
              "  0.0028660765383392572,\n",
              "  0.002836276777088642,\n",
              "  0.0009304207051172853,\n",
              "  -0.0005427033174782991,\n",
              "  -0.0011634106049314141,\n",
              "  -0.0011224271729588509,\n",
              "  -0.0001816843287087977,\n",
              "  -0.00029878696659579873,\n",
              "  -0.00038093593320809305,\n",
              "  0.0007165017304942012,\n",
              "  0.0005911566549912095,\n",
              "  0.00041543878614902496,\n",
              "  0.0013150237500667572,\n",
              "  -7.333949906751513e-05,\n",
              "  0.0019471392733976245,\n",
              "  0.001350020058453083,\n",
              "  -0.0014823301462456584,\n",
              "  -0.0017097888048738241,\n",
              "  -0.0019178562797605991,\n",
              "  0.0010532778687775135,\n",
              "  0.0039703575894236565,\n",
              "  0.004350175149738789,\n",
              "  0.0035029160790145397,\n",
              "  0.0036972693633288145,\n",
              "  0.0058209546841681,\n",
              "  0.008054868318140507,\n",
              "  0.006377858109772205,\n",
              "  0.004465239588171244,\n",
              "  0.004812662955373526,\n",
              "  0.007553269155323505,\n",
              "  0.01021585613489151,\n",
              "  0.008586256764829159,\n",
              "  0.008014516904950142,\n",
              "  0.01119944266974926,\n",
              "  0.012953795492649078,\n",
              "  0.010577093809843063,\n",
              "  0.00870303250849247,\n",
              "  0.00691511994227767,\n",
              "  0.00662561459466815,\n",
              "  0.00840402115136385,\n",
              "  0.007585953921079636,\n",
              "  0.005653479602187872,\n",
              "  0.005278904922306538,\n",
              "  0.006139831617474556,\n",
              "  0.006389800924807787,\n",
              "  0.005395178683102131,\n",
              "  0.0036852448247373104,\n",
              "  0.0013273039367049932,\n",
              "  0.0031118104234337807,\n",
              "  0.00346857076510787,\n",
              "  0.0023197876289486885,\n",
              "  0.0016285181045532227,\n",
              "  0.0032190275378525257,\n",
              "  0.00435094628483057,\n",
              "  0.0032892217859625816,\n",
              "  0.004686540924012661,\n",
              "  0.005453336518257856,\n",
              "  0.004799020476639271,\n",
              "  0.005976068787276745,\n",
              "  0.0020757936872541904,\n",
              "  -0.01058118138462305,\n",
              "  -0.012147161178290844,\n",
              "  -0.013316924683749676,\n",
              "  -0.018923962488770485,\n",
              "  -0.027314677834510803,\n",
              "  -0.033275704830884933,\n",
              "  -0.034854527562856674,\n",
              "  -0.032999858260154724,\n",
              "  -0.03187312185764313,\n",
              "  -0.03602590784430504,\n",
              "  -0.03703337535262108,\n",
              "  -0.037441153079271317,\n",
              "  -0.03839798644185066,\n",
              "  -0.03968384489417076,\n",
              "  -0.03740042820572853,\n",
              "  -0.041238971054553986,\n",
              "  -0.04370196536183357,\n",
              "  -0.045314110815525055,\n",
              "  -0.046963170170784,\n",
              "  -0.04527974873781204,\n",
              "  -0.042566727846860886,\n",
              "  -0.042103953659534454,\n",
              "  -0.038511134684085846,\n",
              "  -0.02908238209784031,\n",
              "  -0.023428497835993767,\n",
              "  -0.02138346992433071,\n",
              "  -0.024334587156772614,\n",
              "  -0.024731077253818512,\n",
              "  -0.025829048827290535,\n",
              "  -0.031302984803915024,\n",
              "  -0.03418033942580223,\n",
              "  -0.030829481780529022,\n",
              "  -0.023701241239905357,\n",
              "  -0.021982301026582718,\n",
              "  -0.022198934108018875,\n",
              "  -0.013876492157578468,\n",
              "  -0.004465356469154358,\n",
              "  0.0033132031094282866,\n",
              "  0.008051433600485325,\n",
              "  0.009054478257894516,\n",
              "  0.011796682141721249,\n",
              "  0.01422924641519785,\n",
              "  0.00914737954735756,\n",
              "  -0.00036356903729029,\n",
              "  -0.010824615135788918,\n",
              "  -0.011189728043973446,\n",
              "  -0.0071350689977407455,\n",
              "  0.0003838735865429044,\n",
              "  0.012557988055050373,\n",
              "  0.017634358257055283,\n",
              "  0.02124851755797863,\n",
              "  0.020017648115754128,\n",
              "  0.02079172618687153,\n",
              "  0.020934373140335083,\n",
              "  0.01907932758331299,\n",
              "  0.017490161582827568,\n",
              "  0.015097066760063171,\n",
              "  0.009120085276663303,\n",
              "  0.0049889725632965565,\n",
              "  0.0042099179700016975,\n",
              "  0.004559704102575779,\n",
              "  -0.0010965310502797365,\n",
              "  -0.013747693970799446,\n",
              "  -0.017075415700674057,\n",
              "  -0.01795993745326996,\n",
              "  -0.019757844507694244,\n",
              "  -0.030982108786702156,\n",
              "  -0.0458768755197525,\n",
              "  -0.05589177832007408,\n",
              "  -0.06430280953645706,\n",
              "  -0.06816612929105759,\n",
              "  -0.07125309109687805,\n",
              "  -0.07369806617498398,\n",
              "  -0.06758313626050949,\n",
              "  -0.05841110274195671,\n",
              "  -0.06038571521639824,\n",
              "  -0.06127842143177986,\n",
              "  -0.06560666859149933,\n",
              "  -0.07031464576721191,\n",
              "  -0.0704546570777893,\n",
              "  -0.07353772968053818,\n",
              "  -0.07437759637832642,\n",
              "  -0.07299786061048508,\n",
              "  -0.06854543089866638,\n",
              "  -0.06697617471218109,\n",
              "  -0.06461306661367416,\n",
              "  -0.058474570512771606,\n",
              "  -0.049491483718156815,\n",
              "  -0.04689464718103409,\n",
              "  -0.04159319028258324,\n",
              "  -0.03801529482007027,\n",
              "  -0.035663310438394547,\n",
              "  -0.03324980288743973,\n",
              "  -0.037415266036987305,\n",
              "  -0.03191213682293892,\n",
              "  -0.02660440467298031,\n",
              "  -0.027360916137695312,\n",
              "  -0.02878464013338089,\n",
              "  -0.02249874919652939,\n",
              "  -0.012554996646940708,\n",
              "  -0.0018093548715114594,\n",
              "  0.010437553748488426,\n",
              "  0.018786314874887466,\n",
              "  0.02224903739988804,\n",
              "  0.02563665807247162,\n",
              "  0.024541370570659637,\n",
              "  0.02700164169073105,\n",
              "  0.031464919447898865,\n",
              "  0.03409609943628311,\n",
              "  0.047516241669654846,\n",
              "  0.06171002611517906,\n",
              "  0.06688766926527023,\n",
              "  0.06937476992607117,\n",
              "  0.06465902179479599,\n",
              "  0.0711081475019455,\n",
              "  0.0900808647274971,\n",
              "  0.0909106582403183,\n",
              "  0.08178086578845978,\n",
              "  0.07339536398649216,\n",
              "  0.06646156311035156,\n",
              "  0.06388996541500092,\n",
              "  0.0567227303981781,\n",
              "  0.05378006771206856,\n",
              "  0.07289507985115051,\n",
              "  0.08003794401884079,\n",
              "  0.08321113139390945,\n",
              "  0.07704472541809082,\n",
              "  0.06638189405202866,\n",
              "  0.06331939995288849,\n",
              "  0.056571800261735916,\n",
              "  0.044740427285432816,\n",
              "  0.03125930204987526,\n",
              "  0.022857919335365295,\n",
              "  0.013522679917514324,\n",
              "  0.005878506228327751,\n",
              "  0.005173177924007177,\n",
              "  0.007782049011439085,\n",
              "  -0.004193154163658619,\n",
              "  -0.007620868738740683,\n",
              "  -0.023243695497512817,\n",
              "  -0.029867736622691154,\n",
              "  -0.02095196768641472,\n",
              "  -0.017838405445218086,\n",
              "  -0.011533405631780624,\n",
              "  -0.010044761933386326,\n",
              "  -0.014378593303263187,\n",
              "  -0.02392943575978279,\n",
              "  -0.03404669836163521,\n",
              "  -0.026799211278557777,\n",
              "  -0.012010738253593445,\n",
              "  -0.0074979038909077644,\n",
              "  0.004800613969564438,\n",
              "  0.013342002406716347,\n",
              "  0.020234713330864906,\n",
              "  0.026917582377791405,\n",
              "  0.02887616492807865,\n",
              "  0.02361356094479561,\n",
              "  0.03378995507955551,\n",
              "  0.04854991286993027,\n",
              "  0.05203251168131828,\n",
              "  0.054780229926109314,\n",
              "  0.06064782291650772,\n",
              "  0.0647478699684143,\n",
              "  0.07034710794687271,\n",
              "  0.0755932554602623,\n",
              "  0.07486110180616379,\n",
              "  0.06837763637304306,\n",
              "  0.061148278415203094,\n",
              "  0.054481394588947296,\n",
              "  0.05126521363854408,\n",
              "  0.04228920117020607,\n",
              "  0.018386922776699066,\n",
              "  0.0046739825047552586,\n",
              "  -0.009252522140741348,\n",
              "  -0.011500781401991844,\n",
              "  -0.016830135136842728,\n",
              "  -0.028826553374528885,\n",
              "  -0.03660555183887482,\n",
              "  -0.03827647119760513,\n",
              "  -0.04129371792078018,\n",
              "  -0.0501016229391098,\n",
              "  -0.08724792301654816,\n",
              "  -0.12636469304561615,\n",
              "  -0.14424258470535278,\n",
              "  -0.15803909301757812,\n",
              "  -0.1573271006345749,\n",
              "  -0.1729474514722824,\n",
              "  -0.19894073903560638,\n",
              "  -0.21244430541992188,\n",
              "  -0.21035295724868774,\n",
              "  -0.21747297048568726,\n",
              "  -0.22567543387413025,\n",
              "  -0.23722587525844574,\n",
              "  -0.2527931332588196,\n",
              "  -0.25984981656074524,\n",
              "  -0.2558051645755768,\n",
              "  -0.2586679756641388,\n",
              "  -0.2650839686393738,\n",
              "  -0.27472442388534546,\n",
              "  -0.287720263004303,\n",
              "  -0.28793850541114807,\n",
              "  -0.2854868173599243,\n",
              "  -0.2758657932281494,\n",
              "  -0.2611391544342041,\n",
              "  -0.25575724244117737,\n",
              "  -0.27103492617607117,\n",
              "  -0.2794129550457001,\n",
              "  -0.2812364995479584,\n",
              "  -0.2763140797615051,\n",
              "  -0.2689463794231415,\n",
              "  -0.2762732207775116,\n",
              "  -0.27969399094581604,\n",
              "  -0.26874053478240967,\n",
              "  -0.272430419921875,\n",
              "  -0.27951526641845703,\n",
              "  -0.27495086193084717,\n",
              "  -0.26433640718460083,\n",
              "  -0.24889037013053894,\n",
              "  -0.23581819236278534,\n",
              "  -0.23303015530109406,\n",
              "  -0.22488486766815186,\n",
              "  -0.20635321736335754,\n",
              "  -0.18541312217712402,\n",
              "  -0.15488232672214508,\n",
              "  -0.1341177523136139,\n",
              "  -0.11328217387199402,\n",
              "  -0.08671363443136215,\n",
              "  -0.05064931884407997,\n",
              "  -0.015934810042381287,\n",
              "  0.020801793783903122,\n",
              "  0.05991346016526222,\n",
              "  0.10268711298704147,\n",
              "  0.15339593589305878,\n",
              "  0.19685856997966766,\n",
              "  0.2307186722755432,\n",
              "  0.2632990777492523,\n",
              "  0.2892645299434662,\n",
              "  0.3121275007724762,\n",
              "  0.3435281813144684,\n",
              "  0.36826997995376587,\n",
              "  0.39330819249153137,\n",
              "  0.41941702365875244,\n",
              "  0.4504171907901764,\n",
              "  0.48188936710357666,\n",
              "  0.506225049495697,\n",
              "  0.5147456526756287,\n",
              "  0.518253743648529,\n",
              "  0.5224383473396301,\n",
              "  0.5203130841255188,\n",
              "  0.5187642574310303,\n",
              "  0.5145847797393799,\n",
              "  0.49914059042930603,\n",
              "  0.48035892844200134,\n",
              "  0.45923560857772827,\n",
              "  0.43046435713768005,\n",
              "  0.4112527668476105,\n",
              "  0.3895089626312256,\n",
              "  0.36989328265190125,\n",
              "  0.35326501727104187,\n",
              "  0.3255783021450043,\n",
              "  0.3006666600704193,\n",
              "  0.2701358199119568,\n",
              "  0.23559832572937012,\n",
              "  0.21310120820999146,\n",
              "  0.18939408659934998,\n",
              "  0.15939776599407196,\n",
              "  0.12744645774364471,\n",
              "  0.09795139729976654,\n",
              "  0.06740397214889526,\n",
              "  0.036973852664232254,\n",
              "  0.002749539678916335,\n",
              "  -0.033107683062553406,\n",
              "  -0.06574074178934097,\n",
              "  -0.10775449872016907,\n",
              "  -0.15131650865077972,\n",
              "  -0.19456997513771057,\n",
              "  -0.2335900515317917,\n",
              "  -0.26706916093826294,\n",
              "  -0.30209189653396606,\n",
              "  -0.3356330096721649,\n",
              "  -0.3650587499141693,\n",
              "  -0.38836395740509033,\n",
              "  -0.4162081778049469,\n",
              "  -0.4505482017993927,\n",
              "  -0.4822111129760742,\n",
              "  -0.5155393481254578,\n",
              "  -0.539977490901947,\n",
              "  -0.5644629597663879,\n",
              "  -0.5926416516304016,\n",
              "  -0.6103677153587341,\n",
              "  -0.6284804940223694,\n",
              "  -0.6308848261833191,\n",
              "  -0.6180633902549744,\n",
              "  -0.6068230867385864,\n",
              "  -0.5845407843589783,\n",
              "  -0.5560322999954224,\n",
              "  -0.5278276205062866,\n",
              "  -0.4975632131099701,\n",
              "  -0.47116872668266296,\n",
              "  -0.43668437004089355,\n",
              "  -0.3986886143684387,\n",
              "  -0.3654344081878662,\n",
              "  -0.3228556215763092,\n",
              "  -0.2737347483634949,\n",
              "  -0.21762537956237793,\n",
              "  -0.16623333096504211,\n",
              "  -0.12414850294589996,\n",
              "  -0.07817498594522476,\n",
              "  -0.027979539707303047,\n",
              "  0.02674180641770363,\n",
              "  0.07307422161102295,\n",
              "  0.11012085527181625,\n",
              "  0.14180104434490204,\n",
              "  0.16982223093509674,\n",
              "  0.195820614695549,\n",
              "  0.20416395366191864,\n",
              "  0.2023787945508957,\n",
              "  0.20668211579322815,\n",
              "  0.21722359955310822,\n",
              "  0.22213564813137054,\n",
              "  0.2121734619140625,\n",
              "  0.1923941820859909,\n",
              "  0.17215877771377563,\n",
              "  0.15883812308311462,\n",
              "  0.13694354891777039,\n",
              "  0.10968059301376343,\n",
              "  0.0876728966832161,\n",
              "  0.06372183561325073,\n",
              "  0.04564451798796654,\n",
              "  0.02900005504488945,\n",
              "  0.016686223447322845,\n",
              "  0.01334486622363329,\n",
              "  0.013333224691450596,\n",
              "  0.017280567437410355,\n",
              "  0.0276077501475811,\n",
              "  0.05251658335328102,\n",
              "  0.0809875875711441,\n",
              "  0.10667366534471512,\n",
              "  0.1320205181837082,\n",
              "  0.15394224226474762,\n",
              "  0.18610072135925293,\n",
              "  0.2239566296339035,\n",
              "  0.25935378670692444,\n",
              "  ...],\n",
              " 'input_length': 100800,\n",
              " 'labels': [10,\n",
              "  15,\n",
              "  5,\n",
              "  0,\n",
              "  11,\n",
              "  5,\n",
              "  1,\n",
              "  20,\n",
              "  15,\n",
              "  14,\n",
              "  0,\n",
              "  4,\n",
              "  9,\n",
              "  19,\n",
              "  1,\n",
              "  16,\n",
              "  16,\n",
              "  18,\n",
              "  15,\n",
              "  22,\n",
              "  5,\n",
              "  4,\n",
              "  0,\n",
              "  15,\n",
              "  6,\n",
              "  0,\n",
              "  6,\n",
              "  9,\n",
              "  12,\n",
              "  13,\n",
              "  19,\n",
              "  0,\n",
              "  1,\n",
              "  14,\n",
              "  4,\n",
              "  0,\n",
              "  2,\n",
              "  21,\n",
              "  19,\n",
              "  20,\n",
              "  5,\n",
              "  18,\n",
              "  0,\n",
              "  1,\n",
              "  12,\n",
              "  19,\n",
              "  15,\n",
              "  0,\n",
              "  8,\n",
              "  1,\n",
              "  4,\n",
              "  0,\n",
              "  18,\n",
              "  5,\n",
              "  19,\n",
              "  5,\n",
              "  18,\n",
              "  22,\n",
              "  1,\n",
              "  20,\n",
              "  9,\n",
              "  15,\n",
              "  14,\n",
              "  19,\n",
              "  0,\n",
              "  1,\n",
              "  2,\n",
              "  15,\n",
              "  21,\n",
              "  20,\n",
              "  0,\n",
              "  20,\n",
              "  8,\n",
              "  5,\n",
              "  0,\n",
              "  13,\n",
              "  5,\n",
              "  4,\n",
              "  9,\n",
              "  21,\n",
              "  13]}"
            ]
          },
          "execution_count": 101,
          "metadata": {},
          "output_type": "execute_result"
        }
      ],
      "source": [
        "onesample=test_dataset[0]\n",
        "onesample"
      ]
    },
    {
      "cell_type": "code",
      "execution_count": 117,
      "metadata": {},
      "outputs": [
        {
          "data": {
            "text/plain": [
              "[10,\n",
              " 15,\n",
              " 5,\n",
              " 0,\n",
              " 11,\n",
              " 5,\n",
              " 1,\n",
              " 20,\n",
              " 15,\n",
              " 14,\n",
              " 0,\n",
              " 4,\n",
              " 9,\n",
              " 19,\n",
              " 1,\n",
              " 16,\n",
              " 16,\n",
              " 18,\n",
              " 15,\n",
              " 22,\n",
              " 5,\n",
              " 4,\n",
              " 0,\n",
              " 15,\n",
              " 6,\n",
              " 0,\n",
              " 6,\n",
              " 9,\n",
              " 12,\n",
              " 13,\n",
              " 19,\n",
              " 0,\n",
              " 1,\n",
              " 14,\n",
              " 4,\n",
              " 0,\n",
              " 2,\n",
              " 21,\n",
              " 19,\n",
              " 20,\n",
              " 5,\n",
              " 18,\n",
              " 0,\n",
              " 1,\n",
              " 12,\n",
              " 19,\n",
              " 15,\n",
              " 0,\n",
              " 8,\n",
              " 1,\n",
              " 4,\n",
              " 0,\n",
              " 18,\n",
              " 5,\n",
              " 19,\n",
              " 5,\n",
              " 18,\n",
              " 22,\n",
              " 1,\n",
              " 20,\n",
              " 9,\n",
              " 15,\n",
              " 14,\n",
              " 19,\n",
              " 0,\n",
              " 1,\n",
              " 2,\n",
              " 15,\n",
              " 21,\n",
              " 20,\n",
              " 0,\n",
              " 20,\n",
              " 8,\n",
              " 5,\n",
              " 0,\n",
              " 13,\n",
              " 5,\n",
              " 4,\n",
              " 9,\n",
              " 21,\n",
              " 13]"
            ]
          },
          "execution_count": 117,
          "metadata": {},
          "output_type": "execute_result"
        }
      ],
      "source": [
        "onesample['labels']"
      ]
    },
    {
      "cell_type": "code",
      "execution_count": 103,
      "metadata": {},
      "outputs": [
        {
          "data": {
            "text/plain": [
              "100800"
            ]
          },
          "execution_count": 103,
          "metadata": {},
          "output_type": "execute_result"
        }
      ],
      "source": [
        "len(onesample[\"input_values\"]) #list"
      ]
    },
    {
      "cell_type": "code",
      "execution_count": 104,
      "metadata": {},
      "outputs": [
        {
          "name": "stderr",
          "output_type": "stream",
          "text": [
            "It is strongly recommended to pass the ``sampling_rate`` argument to this function. Failing to do so can result in silent errors that might be hard to debug.\n"
          ]
        }
      ],
      "source": [
        "input_dict = processor(onesample[\"input_values\"], return_tensors=\"pt\", padding=True)"
      ]
    },
    {
      "cell_type": "code",
      "execution_count": 106,
      "metadata": {},
      "outputs": [
        {
          "data": {
            "text/plain": [
              "torch.Size([1, 100800])"
            ]
          },
          "execution_count": 106,
          "metadata": {},
          "output_type": "execute_result"
        }
      ],
      "source": [
        "input_dict.input_values.shape"
      ]
    },
    {
      "cell_type": "code",
      "execution_count": 107,
      "metadata": {},
      "outputs": [],
      "source": [
        "model=model.cuda()"
      ]
    },
    {
      "cell_type": "markdown",
      "metadata": {
        "id": "jD7TZ1YS3S_K"
      },
      "source": [
        "\n",
        "Now, we will just take the first example of the test set, run it through the model and take the `argmax(...)` of the logits to retrieve the predicted token ids."
      ]
    },
    {
      "cell_type": "code",
      "execution_count": 108,
      "metadata": {
        "colab": {
          "background_save": true
        },
        "id": "pax07TnL3WZn",
        "outputId": "867787ff-0cb7-41e9-f926-96f7b53e7134"
      },
      "outputs": [
        {
          "name": "stderr",
          "output_type": "stream",
          "text": [
            "/home/lkk/miniconda3/envs/mycondapy310/lib/python3.10/site-packages/torch/utils/checkpoint.py:429: UserWarning: torch.utils.checkpoint: please pass in use_reentrant=True or use_reentrant=False explicitly. The default value of use_reentrant will be updated to be False in the future. To maintain current behavior, pass use_reentrant=True. It is recommended that you use use_reentrant=False. Refer to docs for more details on the differences between the two variants.\n",
            "  warnings.warn(\n"
          ]
        }
      ],
      "source": [
        "logits = model(input_dict.input_values.to(\"cuda\")).logits"
      ]
    },
    {
      "cell_type": "code",
      "execution_count": 109,
      "metadata": {},
      "outputs": [
        {
          "data": {
            "text/plain": [
              "torch.Size([1, 314, 33])"
            ]
          },
          "execution_count": 109,
          "metadata": {},
          "output_type": "execute_result"
        }
      ],
      "source": [
        "logits.shape"
      ]
    },
    {
      "cell_type": "code",
      "execution_count": 110,
      "metadata": {},
      "outputs": [
        {
          "data": {
            "text/plain": [
              "torch.Size([1, 314])"
            ]
          },
          "execution_count": 110,
          "metadata": {},
          "output_type": "execute_result"
        }
      ],
      "source": [
        "pred_ids = torch.argmax(logits, dim=-1)\n",
        "pred_ids.shape"
      ]
    },
    {
      "cell_type": "code",
      "execution_count": 111,
      "metadata": {},
      "outputs": [],
      "source": [
        "pred_id=pred_ids[0]"
      ]
    },
    {
      "cell_type": "code",
      "execution_count": 112,
      "metadata": {},
      "outputs": [
        {
          "data": {
            "text/plain": [
              "torch.Size([314])"
            ]
          },
          "execution_count": 112,
          "metadata": {},
          "output_type": "execute_result"
        }
      ],
      "source": [
        "pred_id.shape"
      ]
    },
    {
      "cell_type": "code",
      "execution_count": 116,
      "metadata": {},
      "outputs": [
        {
          "data": {
            "text/plain": [
              "['[PAD]',\n",
              " '[PAD]',\n",
              " '[PAD]',\n",
              " '[PAD]',\n",
              " '[PAD]',\n",
              " '[PAD]',\n",
              " '[PAD]',\n",
              " '[PAD]',\n",
              " '[PAD]',\n",
              " '[PAD]',\n",
              " '[PAD]',\n",
              " '[PAD]',\n",
              " '[PAD]',\n",
              " '[PAD]',\n",
              " '[PAD]',\n",
              " '[PAD]',\n",
              " '[PAD]',\n",
              " '[PAD]',\n",
              " '[PAD]',\n",
              " '[PAD]',\n",
              " '[PAD]',\n",
              " '[PAD]',\n",
              " '[PAD]',\n",
              " '[PAD]',\n",
              " '[PAD]',\n",
              " '[PAD]',\n",
              " '[PAD]',\n",
              " '[PAD]',\n",
              " '[PAD]',\n",
              " '[PAD]',\n",
              " '[PAD]',\n",
              " '[PAD]',\n",
              " '[PAD]',\n",
              " '[PAD]',\n",
              " '[PAD]',\n",
              " '[PAD]',\n",
              " '[PAD]',\n",
              " '[PAD]',\n",
              " 'j',\n",
              " '[PAD]',\n",
              " '[PAD]',\n",
              " '[PAD]',\n",
              " '[PAD]',\n",
              " 'o',\n",
              " 'o',\n",
              " 'o',\n",
              " 'l',\n",
              " 'l',\n",
              " 'l',\n",
              " '[PAD]',\n",
              " '[PAD]',\n",
              " '[PAD]',\n",
              " '[PAD]',\n",
              " 'c',\n",
              " '[PAD]',\n",
              " '[PAD]',\n",
              " '[PAD]',\n",
              " '[PAD]',\n",
              " 'a',\n",
              " 'a',\n",
              " '[PAD]',\n",
              " '[PAD]',\n",
              " 't',\n",
              " 'e',\n",
              " 's',\n",
              " 's',\n",
              " '',\n",
              " '[PAD]',\n",
              " '[PAD]',\n",
              " 'o',\n",
              " 'o',\n",
              " 'n',\n",
              " '[PAD]',\n",
              " '',\n",
              " '[PAD]',\n",
              " 'd',\n",
              " '[PAD]',\n",
              " 'i',\n",
              " 's',\n",
              " 's',\n",
              " '[PAD]',\n",
              " '[PAD]',\n",
              " '[PAD]',\n",
              " '[PAD]',\n",
              " 'a',\n",
              " 'p',\n",
              " '[PAD]',\n",
              " '[PAD]',\n",
              " 'p',\n",
              " 'p',\n",
              " '[PAD]',\n",
              " 'r',\n",
              " 'r',\n",
              " '[PAD]',\n",
              " '[PAD]',\n",
              " '[PAD]',\n",
              " 'o',\n",
              " 'o',\n",
              " 'o',\n",
              " '[PAD]',\n",
              " '[PAD]',\n",
              " 'v',\n",
              " 'e',\n",
              " 'e',\n",
              " 'd',\n",
              " '',\n",
              " '',\n",
              " '[PAD]',\n",
              " '[PAD]',\n",
              " 'o',\n",
              " 'o',\n",
              " 'f',\n",
              " '',\n",
              " '',\n",
              " '[PAD]',\n",
              " '[PAD]',\n",
              " '[PAD]',\n",
              " 'f',\n",
              " 'f',\n",
              " '[PAD]',\n",
              " '[PAD]',\n",
              " 'i',\n",
              " 'i',\n",
              " 'i',\n",
              " 'l',\n",
              " 'r',\n",
              " '[PAD]',\n",
              " '[PAD]',\n",
              " '[PAD]',\n",
              " 'm',\n",
              " 'm',\n",
              " '[PAD]',\n",
              " '[PAD]',\n",
              " 's',\n",
              " 's',\n",
              " '',\n",
              " '',\n",
              " '[PAD]',\n",
              " '[PAD]',\n",
              " '[PAD]',\n",
              " '[PAD]',\n",
              " 'a',\n",
              " 'a',\n",
              " 'n',\n",
              " 'n',\n",
              " 'd',\n",
              " 'd',\n",
              " '',\n",
              " '[PAD]',\n",
              " 'b',\n",
              " '[PAD]',\n",
              " '[PAD]',\n",
              " '[PAD]',\n",
              " 'u',\n",
              " '[PAD]',\n",
              " '[PAD]',\n",
              " 's',\n",
              " '[PAD]',\n",
              " '[PAD]',\n",
              " '[PAD]',\n",
              " 't',\n",
              " '[PAD]',\n",
              " '[PAD]',\n",
              " 'e',\n",
              " 'e',\n",
              " 'r',\n",
              " 'r',\n",
              " '',\n",
              " '',\n",
              " '[PAD]',\n",
              " 'a',\n",
              " 'a',\n",
              " 'l',\n",
              " 'l',\n",
              " '[PAD]',\n",
              " '[PAD]',\n",
              " 's',\n",
              " '[PAD]',\n",
              " '[PAD]',\n",
              " 'o',\n",
              " 'o',\n",
              " '',\n",
              " '',\n",
              " '',\n",
              " 'h',\n",
              " 'h',\n",
              " '[PAD]',\n",
              " '[PAD]',\n",
              " '[PAD]',\n",
              " 'a',\n",
              " 'a',\n",
              " '[PAD]',\n",
              " 'd',\n",
              " 'd',\n",
              " '',\n",
              " 'r',\n",
              " 'r',\n",
              " '[PAD]',\n",
              " 'e',\n",
              " '[PAD]',\n",
              " '[PAD]',\n",
              " '[PAD]',\n",
              " '[PAD]',\n",
              " '[PAD]',\n",
              " '[PAD]',\n",
              " 'e',\n",
              " 'r',\n",
              " 'r',\n",
              " '[PAD]',\n",
              " '[PAD]',\n",
              " '[PAD]',\n",
              " 'v',\n",
              " '[PAD]',\n",
              " '[PAD]',\n",
              " '[PAD]',\n",
              " 'a',\n",
              " 'a',\n",
              " '[PAD]',\n",
              " '[PAD]',\n",
              " 't',\n",
              " 't',\n",
              " 'i',\n",
              " 'i',\n",
              " '[PAD]',\n",
              " 'o',\n",
              " 'o',\n",
              " 'n',\n",
              " '[PAD]',\n",
              " '[PAD]',\n",
              " '[PAD]',\n",
              " '',\n",
              " '',\n",
              " '[PAD]',\n",
              " '[PAD]',\n",
              " '[PAD]',\n",
              " '[PAD]',\n",
              " '[PAD]',\n",
              " '[PAD]',\n",
              " '[PAD]',\n",
              " '[PAD]',\n",
              " '[PAD]',\n",
              " 'o',\n",
              " 'u',\n",
              " 'f',\n",
              " 'f',\n",
              " '',\n",
              " '',\n",
              " 't',\n",
              " 'h',\n",
              " 'e',\n",
              " 'e',\n",
              " '',\n",
              " '[PAD]',\n",
              " 'm',\n",
              " '[PAD]',\n",
              " '[PAD]',\n",
              " 'e',\n",
              " 'e',\n",
              " 'e',\n",
              " 'e',\n",
              " '[PAD]',\n",
              " '[PAD]',\n",
              " '[PAD]',\n",
              " 'd',\n",
              " 'i',\n",
              " 'i',\n",
              " '[PAD]',\n",
              " '[PAD]',\n",
              " 'n',\n",
              " 'n',\n",
              " '[PAD]',\n",
              " '[PAD]',\n",
              " '[PAD]',\n",
              " '[PAD]',\n",
              " '[PAD]',\n",
              " '[PAD]',\n",
              " '[PAD]',\n",
              " '[PAD]',\n",
              " '[PAD]',\n",
              " '[PAD]',\n",
              " '[PAD]',\n",
              " '[PAD]',\n",
              " '[PAD]',\n",
              " '[PAD]',\n",
              " '[PAD]',\n",
              " '[PAD]',\n",
              " '[PAD]',\n",
              " '[PAD]',\n",
              " '[PAD]',\n",
              " '[PAD]',\n",
              " '[PAD]',\n",
              " '[PAD]',\n",
              " '[PAD]',\n",
              " '[PAD]',\n",
              " '[PAD]',\n",
              " '[PAD]',\n",
              " '[PAD]',\n",
              " '[PAD]',\n",
              " '[PAD]',\n",
              " '[PAD]',\n",
              " '[PAD]',\n",
              " '[PAD]',\n",
              " '[PAD]',\n",
              " '[PAD]',\n",
              " '[PAD]',\n",
              " '[PAD]',\n",
              " '[PAD]',\n",
              " '[PAD]',\n",
              " '[PAD]',\n",
              " '[PAD]',\n",
              " '[PAD]',\n",
              " '[PAD]',\n",
              " '[PAD]',\n",
              " '[PAD]']"
            ]
          },
          "execution_count": 116,
          "metadata": {},
          "output_type": "execute_result"
        }
      ],
      "source": [
        "predicted_sentence = processor.batch_decode(pred_id)\n",
        "predicted_sentence"
      ]
    },
    {
      "cell_type": "code",
      "execution_count": 115,
      "metadata": {},
      "outputs": [
        {
          "data": {
            "text/plain": [
              "['jolcates on disapproved of filrms and buster also had reervation ouf the medin']"
            ]
          },
          "execution_count": 115,
          "metadata": {},
          "output_type": "execute_result"
        }
      ],
      "source": [
        "predicted_sentence = processor.batch_decode(pred_ids)\n",
        "predicted_sentence"
      ]
    },
    {
      "cell_type": "code",
      "execution_count": 121,
      "metadata": {},
      "outputs": [
        {
          "data": {
            "text/plain": [
              "81"
            ]
          },
          "execution_count": 121,
          "metadata": {},
          "output_type": "execute_result"
        }
      ],
      "source": [
        "len(onesample['labels'])"
      ]
    },
    {
      "cell_type": "code",
      "execution_count": 126,
      "metadata": {},
      "outputs": [
        {
          "data": {
            "text/plain": [
              "['joe keaton disapproved of films and buster also had reservations about the medium']"
            ]
          },
          "execution_count": 126,
          "metadata": {},
          "output_type": "execute_result"
        }
      ],
      "source": [
        "label_str=processor.batch_decode([onesample['labels']],group_tokens=False)\n",
        "label_str"
      ]
    },
    {
      "cell_type": "code",
      "execution_count": 123,
      "metadata": {},
      "outputs": [
        {
          "data": {
            "text/plain": [
              "['j',\n",
              " 'o',\n",
              " 'e',\n",
              " '',\n",
              " 'k',\n",
              " 'e',\n",
              " 'a',\n",
              " 't',\n",
              " 'o',\n",
              " 'n',\n",
              " '',\n",
              " 'd',\n",
              " 'i',\n",
              " 's',\n",
              " 'a',\n",
              " 'p',\n",
              " 'p',\n",
              " 'r',\n",
              " 'o',\n",
              " 'v',\n",
              " 'e',\n",
              " 'd',\n",
              " '',\n",
              " 'o',\n",
              " 'f',\n",
              " '',\n",
              " 'f',\n",
              " 'i',\n",
              " 'l',\n",
              " 'm',\n",
              " 's',\n",
              " '',\n",
              " 'a',\n",
              " 'n',\n",
              " 'd',\n",
              " '',\n",
              " 'b',\n",
              " 'u',\n",
              " 's',\n",
              " 't',\n",
              " 'e',\n",
              " 'r',\n",
              " '',\n",
              " 'a',\n",
              " 'l',\n",
              " 's',\n",
              " 'o',\n",
              " '',\n",
              " 'h',\n",
              " 'a',\n",
              " 'd',\n",
              " '',\n",
              " 'r',\n",
              " 'e',\n",
              " 's',\n",
              " 'e',\n",
              " 'r',\n",
              " 'v',\n",
              " 'a',\n",
              " 't',\n",
              " 'i',\n",
              " 'o',\n",
              " 'n',\n",
              " 's',\n",
              " '',\n",
              " 'a',\n",
              " 'b',\n",
              " 'o',\n",
              " 'u',\n",
              " 't',\n",
              " '',\n",
              " 't',\n",
              " 'h',\n",
              " 'e',\n",
              " '',\n",
              " 'm',\n",
              " 'e',\n",
              " 'd',\n",
              " 'i',\n",
              " 'u',\n",
              " 'm']"
            ]
          },
          "execution_count": 123,
          "metadata": {},
          "output_type": "execute_result"
        }
      ],
      "source": [
        "label_str=processor.batch_decode(onesample['labels'],group_tokens=False)\n",
        "label_str"
      ]
    },
    {
      "cell_type": "code",
      "execution_count": 124,
      "metadata": {},
      "outputs": [
        {
          "data": {
            "text/plain": [
              "'joe keaton disapproved of films and buster also had reservations about the medium'"
            ]
          },
          "execution_count": 124,
          "metadata": {},
          "output_type": "execute_result"
        }
      ],
      "source": [
        "label_str=processor.decode(onesample['labels'],group_tokens=False)\n",
        "label_str"
      ]
    },
    {
      "cell_type": "code",
      "execution_count": 125,
      "metadata": {},
      "outputs": [
        {
          "data": {
            "text/plain": [
              "'joe keaton disapproved of films and buster also had reservations about the medium'"
            ]
          },
          "execution_count": 125,
          "metadata": {},
          "output_type": "execute_result"
        }
      ],
      "source": [
        "label_str=processor.tokenizer.decode(onesample['labels'],group_tokens=False)\n",
        "label_str"
      ]
    },
    {
      "cell_type": "markdown",
      "metadata": {
        "id": "7nkzSQu53Zs2"
      },
      "source": [
        "We adapted `common_voice_test` quite a bit so that the dataset instance does not contain the original sentence label anymore. Thus, we re-use the original dataset to get the label of the first example."
      ]
    }
  ],
  "metadata": {
    "accelerator": "GPU",
    "colab": {
      "machine_shape": "hm",
      "name": "Copy of Fine-Tune XLS-R on Common Voice.ipynb",
      "provenance": [],
      "toc_visible": true
    },
    "kernelspec": {
      "display_name": "mycondapy310",
      "language": "python",
      "name": "mycondapy310"
    },
    "language_info": {
      "codemirror_mode": {
        "name": "ipython",
        "version": 3
      },
      "file_extension": ".py",
      "mimetype": "text/x-python",
      "name": "python",
      "nbconvert_exporter": "python",
      "pygments_lexer": "ipython3",
      "version": "3.10.13"
    },
    "widgets": {
      "application/vnd.jupyter.widget-state+json": {
        "012b09b271a842d0a7f1cd1260654c82": {
          "model_module": "@jupyter-widgets/controls",
          "model_module_version": "1.5.0",
          "model_name": "HBoxModel",
          "state": {
            "_dom_classes": [],
            "_model_module": "@jupyter-widgets/controls",
            "_model_module_version": "1.5.0",
            "_model_name": "HBoxModel",
            "_view_count": null,
            "_view_module": "@jupyter-widgets/controls",
            "_view_module_version": "1.5.0",
            "_view_name": "HBoxView",
            "box_style": "",
            "children": [
              "IPY_MODEL_6a40faf77bf445308534e7acada6bf0d",
              "IPY_MODEL_a62ff1ee03dc47c9834b43720df991ea",
              "IPY_MODEL_03d00b443bfd445d9286f64fd8556031"
            ],
            "layout": "IPY_MODEL_557063bf861648f7aefacf71aa53ea9b"
          }
        },
        "02016dcc44994c15b69e7f2c4dd0d9c4": {
          "model_module": "@jupyter-widgets/controls",
          "model_module_version": "1.5.0",
          "model_name": "DescriptionStyleModel",
          "state": {
            "_model_module": "@jupyter-widgets/controls",
            "_model_module_version": "1.5.0",
            "_model_name": "DescriptionStyleModel",
            "_view_count": null,
            "_view_module": "@jupyter-widgets/base",
            "_view_module_version": "1.2.0",
            "_view_name": "StyleView",
            "description_width": ""
          }
        },
        "0204a7bc668746a68f6e5e5632753c1c": {
          "model_module": "@jupyter-widgets/controls",
          "model_module_version": "1.5.0",
          "model_name": "HTMLModel",
          "state": {
            "_dom_classes": [],
            "_model_module": "@jupyter-widgets/controls",
            "_model_module_version": "1.5.0",
            "_model_name": "HTMLModel",
            "_view_count": null,
            "_view_module": "@jupyter-widgets/controls",
            "_view_module_version": "1.5.0",
            "_view_name": "HTMLView",
            "description": "",
            "description_tooltip": null,
            "layout": "IPY_MODEL_d3b5f5a0d35642e0b606ac63c38f88fa",
            "placeholder": "​",
            "style": "IPY_MODEL_7ce84a97d72848c0967f732734afdd68",
            "value": " 4.55k/? [00:00&lt;00:00, 87.8kB/s]"
          }
        },
        "02519344818c40d0b961c5ea210a5c62": {
          "model_module": "@jupyter-widgets/base",
          "model_module_version": "1.2.0",
          "model_name": "LayoutModel",
          "state": {
            "_model_module": "@jupyter-widgets/base",
            "_model_module_version": "1.2.0",
            "_model_name": "LayoutModel",
            "_view_count": null,
            "_view_module": "@jupyter-widgets/base",
            "_view_module_version": "1.2.0",
            "_view_name": "LayoutView",
            "align_content": null,
            "align_items": null,
            "align_self": null,
            "border": null,
            "bottom": null,
            "display": null,
            "flex": null,
            "flex_flow": null,
            "grid_area": null,
            "grid_auto_columns": null,
            "grid_auto_flow": null,
            "grid_auto_rows": null,
            "grid_column": null,
            "grid_gap": null,
            "grid_row": null,
            "grid_template_areas": null,
            "grid_template_columns": null,
            "grid_template_rows": null,
            "height": null,
            "justify_content": null,
            "justify_items": null,
            "left": null,
            "margin": null,
            "max_height": null,
            "max_width": null,
            "min_height": null,
            "min_width": null,
            "object_fit": null,
            "object_position": null,
            "order": null,
            "overflow": null,
            "overflow_x": null,
            "overflow_y": null,
            "padding": null,
            "right": null,
            "top": null,
            "visibility": null,
            "width": null
          }
        },
        "03d00b443bfd445d9286f64fd8556031": {
          "model_module": "@jupyter-widgets/controls",
          "model_module_version": "1.5.0",
          "model_name": "HTMLModel",
          "state": {
            "_dom_classes": [],
            "_model_module": "@jupyter-widgets/controls",
            "_model_module_version": "1.5.0",
            "_model_name": "HTMLModel",
            "_view_count": null,
            "_view_module": "@jupyter-widgets/controls",
            "_view_module_version": "1.5.0",
            "_view_name": "HTMLView",
            "description": "",
            "description_tooltip": null,
            "layout": "IPY_MODEL_716dc4ab4fe74abab49f3c0f009357f5",
            "placeholder": "​",
            "style": "IPY_MODEL_8a669878b8354867944e577860910001",
            "value": " 3478/3478 [00:39&lt;00:00, 86.00ex/s]"
          }
        },
        "059588e34a88476eb6bbc1860ddc27ef": {
          "model_module": "@jupyter-widgets/controls",
          "model_module_version": "1.5.0",
          "model_name": "DescriptionStyleModel",
          "state": {
            "_model_module": "@jupyter-widgets/controls",
            "_model_module_version": "1.5.0",
            "_model_name": "DescriptionStyleModel",
            "_view_count": null,
            "_view_module": "@jupyter-widgets/base",
            "_view_module_version": "1.2.0",
            "_view_name": "StyleView",
            "description_width": ""
          }
        },
        "093927de0d86406290365759e88fd4e7": {
          "model_module": "@jupyter-widgets/controls",
          "model_module_version": "1.5.0",
          "model_name": "HBoxModel",
          "state": {
            "_dom_classes": [],
            "_model_module": "@jupyter-widgets/controls",
            "_model_module_version": "1.5.0",
            "_model_name": "HBoxModel",
            "_view_count": null,
            "_view_module": "@jupyter-widgets/controls",
            "_view_module_version": "1.5.0",
            "_view_name": "HBoxView",
            "box_style": "",
            "children": [
              "IPY_MODEL_f6e777f3a1684a7da3efc63281553b5e",
              "IPY_MODEL_609781a3f55d4d3dbf0b3640972755fa",
              "IPY_MODEL_8783792878a64402981a416989924348"
            ],
            "layout": "IPY_MODEL_92e295e353624110880cff6835b9e119"
          }
        },
        "0a7c2124936345febe50288a476a12a6": {
          "model_module": "@jupyter-widgets/controls",
          "model_module_version": "1.5.0",
          "model_name": "HTMLModel",
          "state": {
            "_dom_classes": [],
            "_model_module": "@jupyter-widgets/controls",
            "_model_module_version": "1.5.0",
            "_model_name": "HTMLModel",
            "_view_count": null,
            "_view_module": "@jupyter-widgets/controls",
            "_view_module_version": "1.5.0",
            "_view_name": "HTMLView",
            "description": "",
            "description_tooltip": null,
            "layout": "IPY_MODEL_f28c64f34f9540b6b6bdc765c84e2307",
            "placeholder": "​",
            "style": "IPY_MODEL_02016dcc44994c15b69e7f2c4dd0d9c4",
            "value": "100%"
          }
        },
        "0c01a04a8a924740af301c5c53a51315": {
          "model_module": "@jupyter-widgets/base",
          "model_module_version": "1.2.0",
          "model_name": "LayoutModel",
          "state": {
            "_model_module": "@jupyter-widgets/base",
            "_model_module_version": "1.2.0",
            "_model_name": "LayoutModel",
            "_view_count": null,
            "_view_module": "@jupyter-widgets/base",
            "_view_module_version": "1.2.0",
            "_view_name": "LayoutView",
            "align_content": null,
            "align_items": null,
            "align_self": null,
            "border": null,
            "bottom": null,
            "display": null,
            "flex": null,
            "flex_flow": null,
            "grid_area": null,
            "grid_auto_columns": null,
            "grid_auto_flow": null,
            "grid_auto_rows": null,
            "grid_column": null,
            "grid_gap": null,
            "grid_row": null,
            "grid_template_areas": null,
            "grid_template_columns": null,
            "grid_template_rows": null,
            "height": null,
            "justify_content": null,
            "justify_items": null,
            "left": null,
            "margin": null,
            "max_height": null,
            "max_width": null,
            "min_height": null,
            "min_width": null,
            "object_fit": null,
            "object_position": null,
            "order": null,
            "overflow": null,
            "overflow_x": null,
            "overflow_y": null,
            "padding": null,
            "right": null,
            "top": null,
            "visibility": null,
            "width": null
          }
        },
        "136f973d9623421eb38e09c73c6b6810": {
          "model_module": "@jupyter-widgets/controls",
          "model_module_version": "1.5.0",
          "model_name": "DescriptionStyleModel",
          "state": {
            "_model_module": "@jupyter-widgets/controls",
            "_model_module_version": "1.5.0",
            "_model_name": "DescriptionStyleModel",
            "_view_count": null,
            "_view_module": "@jupyter-widgets/base",
            "_view_module_version": "1.2.0",
            "_view_name": "StyleView",
            "description_width": ""
          }
        },
        "15f8964842df434ca0dee00d7dc1bd9a": {
          "model_module": "@jupyter-widgets/controls",
          "model_module_version": "1.5.0",
          "model_name": "DescriptionStyleModel",
          "state": {
            "_model_module": "@jupyter-widgets/controls",
            "_model_module_version": "1.5.0",
            "_model_name": "DescriptionStyleModel",
            "_view_count": null,
            "_view_module": "@jupyter-widgets/base",
            "_view_module_version": "1.2.0",
            "_view_name": "StyleView",
            "description_width": ""
          }
        },
        "1ca82f9af3ae423096661a1ffd8a165f": {
          "model_module": "@jupyter-widgets/controls",
          "model_module_version": "1.5.0",
          "model_name": "HBoxModel",
          "state": {
            "_dom_classes": [],
            "_model_module": "@jupyter-widgets/controls",
            "_model_module_version": "1.5.0",
            "_model_name": "HBoxModel",
            "_view_count": null,
            "_view_module": "@jupyter-widgets/controls",
            "_view_module_version": "1.5.0",
            "_view_name": "HBoxView",
            "box_style": "",
            "children": [
              "IPY_MODEL_ce429683f48349c083e5fc3253a897d7",
              "IPY_MODEL_acc35dfdfca542828d1bb02cbde15dfe",
              "IPY_MODEL_aa92ff120d9c4dd68ae941d7a1f33a81"
            ],
            "layout": "IPY_MODEL_731a283141f642b9ab5bf9f7053381d2"
          }
        },
        "1cdac9cda666466ca1e09f32661d40ed": {
          "model_module": "@jupyter-widgets/controls",
          "model_module_version": "1.5.0",
          "model_name": "DescriptionStyleModel",
          "state": {
            "_model_module": "@jupyter-widgets/controls",
            "_model_module_version": "1.5.0",
            "_model_name": "DescriptionStyleModel",
            "_view_count": null,
            "_view_module": "@jupyter-widgets/base",
            "_view_module_version": "1.2.0",
            "_view_name": "StyleView",
            "description_width": ""
          }
        },
        "21af0f39c0ce40a5846b980f98481940": {
          "model_module": "@jupyter-widgets/base",
          "model_module_version": "1.2.0",
          "model_name": "LayoutModel",
          "state": {
            "_model_module": "@jupyter-widgets/base",
            "_model_module_version": "1.2.0",
            "_model_name": "LayoutModel",
            "_view_count": null,
            "_view_module": "@jupyter-widgets/base",
            "_view_module_version": "1.2.0",
            "_view_name": "LayoutView",
            "align_content": null,
            "align_items": null,
            "align_self": null,
            "border": null,
            "bottom": null,
            "display": null,
            "flex": null,
            "flex_flow": null,
            "grid_area": null,
            "grid_auto_columns": null,
            "grid_auto_flow": null,
            "grid_auto_rows": null,
            "grid_column": null,
            "grid_gap": null,
            "grid_row": null,
            "grid_template_areas": null,
            "grid_template_columns": null,
            "grid_template_rows": null,
            "height": null,
            "justify_content": null,
            "justify_items": null,
            "left": null,
            "margin": null,
            "max_height": null,
            "max_width": null,
            "min_height": null,
            "min_width": null,
            "object_fit": null,
            "object_position": null,
            "order": null,
            "overflow": null,
            "overflow_x": null,
            "overflow_y": null,
            "padding": null,
            "right": null,
            "top": null,
            "visibility": null,
            "width": null
          }
        },
        "26bf8a70fe5449a99ca1b06430b2fc8f": {
          "model_module": "@jupyter-widgets/controls",
          "model_module_version": "1.5.0",
          "model_name": "HTMLModel",
          "state": {
            "_dom_classes": [],
            "_model_module": "@jupyter-widgets/controls",
            "_model_module_version": "1.5.0",
            "_model_name": "HTMLModel",
            "_view_count": null,
            "_view_module": "@jupyter-widgets/controls",
            "_view_module_version": "1.5.0",
            "_view_name": "HTMLView",
            "description": "",
            "description_tooltip": null,
            "layout": "IPY_MODEL_0c01a04a8a924740af301c5c53a51315",
            "placeholder": "​",
            "style": "IPY_MODEL_15f8964842df434ca0dee00d7dc1bd9a",
            "value": "<center>\n<img src=https://huggingface.co/front/assets/huggingface_logo-noborder.svg alt='Hugging Face'>\n<br>\n<b>The AI community building the future</b>\n<br>\nImmediately click login after typing your password or it might be stored in plain text in this notebook file.\n</center>"
          }
        },
        "2b7e52a9be904663ae74226691de6ebd": {
          "model_module": "@jupyter-widgets/base",
          "model_module_version": "1.2.0",
          "model_name": "LayoutModel",
          "state": {
            "_model_module": "@jupyter-widgets/base",
            "_model_module_version": "1.2.0",
            "_model_name": "LayoutModel",
            "_view_count": null,
            "_view_module": "@jupyter-widgets/base",
            "_view_module_version": "1.2.0",
            "_view_name": "LayoutView",
            "align_content": null,
            "align_items": null,
            "align_self": null,
            "border": null,
            "bottom": null,
            "display": null,
            "flex": null,
            "flex_flow": null,
            "grid_area": null,
            "grid_auto_columns": null,
            "grid_auto_flow": null,
            "grid_auto_rows": null,
            "grid_column": null,
            "grid_gap": null,
            "grid_row": null,
            "grid_template_areas": null,
            "grid_template_columns": null,
            "grid_template_rows": null,
            "height": null,
            "justify_content": null,
            "justify_items": null,
            "left": null,
            "margin": null,
            "max_height": null,
            "max_width": null,
            "min_height": null,
            "min_width": null,
            "object_fit": null,
            "object_position": null,
            "order": null,
            "overflow": null,
            "overflow_x": null,
            "overflow_y": null,
            "padding": null,
            "right": null,
            "top": null,
            "visibility": null,
            "width": null
          }
        },
        "2d2b8b8d5774494aa73d872e9a4c10d9": {
          "model_module": "@jupyter-widgets/controls",
          "model_module_version": "1.5.0",
          "model_name": "FloatProgressModel",
          "state": {
            "_dom_classes": [],
            "_model_module": "@jupyter-widgets/controls",
            "_model_module_version": "1.5.0",
            "_model_name": "FloatProgressModel",
            "_view_count": null,
            "_view_module": "@jupyter-widgets/controls",
            "_view_module_version": "1.5.0",
            "_view_name": "ProgressView",
            "bar_style": "success",
            "description": "",
            "description_tooltip": null,
            "layout": "IPY_MODEL_3ec9917890f4452883bcaeac444d056c",
            "max": 1269737156,
            "min": 0,
            "orientation": "horizontal",
            "style": "IPY_MODEL_e9531fcd48b74929bfdb45cd3f3315e7",
            "value": 1269737156
          }
        },
        "2d4eb3e5acc348948299c506db83ca90": {
          "model_module": "@jupyter-widgets/controls",
          "model_module_version": "1.5.0",
          "model_name": "ButtonModel",
          "state": {
            "_dom_classes": [],
            "_model_module": "@jupyter-widgets/controls",
            "_model_module_version": "1.5.0",
            "_model_name": "ButtonModel",
            "_view_count": null,
            "_view_module": "@jupyter-widgets/controls",
            "_view_module_version": "1.5.0",
            "_view_name": "ButtonView",
            "button_style": "",
            "description": "Login",
            "disabled": false,
            "icon": "",
            "layout": "IPY_MODEL_d11d94912b26401a860c80eba767907a",
            "style": "IPY_MODEL_6dd7aa6b17b34d18ba46d834ffd559bc",
            "tooltip": ""
          }
        },
        "349c9e8b2a8846c1bff5a03d2a28066a": {
          "model_module": "@jupyter-widgets/base",
          "model_module_version": "1.2.0",
          "model_name": "LayoutModel",
          "state": {
            "_model_module": "@jupyter-widgets/base",
            "_model_module_version": "1.2.0",
            "_model_name": "LayoutModel",
            "_view_count": null,
            "_view_module": "@jupyter-widgets/base",
            "_view_module_version": "1.2.0",
            "_view_name": "LayoutView",
            "align_content": null,
            "align_items": null,
            "align_self": null,
            "border": null,
            "bottom": null,
            "display": null,
            "flex": null,
            "flex_flow": null,
            "grid_area": null,
            "grid_auto_columns": null,
            "grid_auto_flow": null,
            "grid_auto_rows": null,
            "grid_column": null,
            "grid_gap": null,
            "grid_row": null,
            "grid_template_areas": null,
            "grid_template_columns": null,
            "grid_template_rows": null,
            "height": null,
            "justify_content": null,
            "justify_items": null,
            "left": null,
            "margin": null,
            "max_height": null,
            "max_width": null,
            "min_height": null,
            "min_width": null,
            "object_fit": null,
            "object_position": null,
            "order": null,
            "overflow": null,
            "overflow_x": null,
            "overflow_y": null,
            "padding": null,
            "right": null,
            "top": null,
            "visibility": null,
            "width": null
          }
        },
        "367c85905a024248bce6c620b822b2ee": {
          "model_module": "@jupyter-widgets/controls",
          "model_module_version": "1.5.0",
          "model_name": "HBoxModel",
          "state": {
            "_dom_classes": [],
            "_model_module": "@jupyter-widgets/controls",
            "_model_module_version": "1.5.0",
            "_model_name": "HBoxModel",
            "_view_count": null,
            "_view_module": "@jupyter-widgets/controls",
            "_view_module_version": "1.5.0",
            "_view_name": "HBoxView",
            "box_style": "",
            "children": [
              "IPY_MODEL_7ea310732a56432da1a095a8d30edc1c",
              "IPY_MODEL_2d2b8b8d5774494aa73d872e9a4c10d9",
              "IPY_MODEL_f4af6a0756e241e49e5d325f1bdb18b4"
            ],
            "layout": "IPY_MODEL_2b7e52a9be904663ae74226691de6ebd"
          }
        },
        "379128a308ab43ee9e785e234bb94049": {
          "model_module": "@jupyter-widgets/controls",
          "model_module_version": "1.5.0",
          "model_name": "HTMLModel",
          "state": {
            "_dom_classes": [],
            "_model_module": "@jupyter-widgets/controls",
            "_model_module_version": "1.5.0",
            "_model_name": "HTMLModel",
            "_view_count": null,
            "_view_module": "@jupyter-widgets/controls",
            "_view_module_version": "1.5.0",
            "_view_name": "HTMLView",
            "description": "",
            "description_tooltip": null,
            "layout": "IPY_MODEL_c0919f3c8d594911815ce63273f7fe51",
            "placeholder": "​",
            "style": "IPY_MODEL_69f2a9e473534148b96b2e9bd639a087",
            "value": "Downloading: "
          }
        },
        "384228b409cb4bb0bbd77ef259b9a568": {
          "model_module": "@jupyter-widgets/base",
          "model_module_version": "1.2.0",
          "model_name": "LayoutModel",
          "state": {
            "_model_module": "@jupyter-widgets/base",
            "_model_module_version": "1.2.0",
            "_model_name": "LayoutModel",
            "_view_count": null,
            "_view_module": "@jupyter-widgets/base",
            "_view_module_version": "1.2.0",
            "_view_name": "LayoutView",
            "align_content": null,
            "align_items": "center",
            "align_self": null,
            "border": null,
            "bottom": null,
            "display": "flex",
            "flex": null,
            "flex_flow": "column",
            "grid_area": null,
            "grid_auto_columns": null,
            "grid_auto_flow": null,
            "grid_auto_rows": null,
            "grid_column": null,
            "grid_gap": null,
            "grid_row": null,
            "grid_template_areas": null,
            "grid_template_columns": null,
            "grid_template_rows": null,
            "height": null,
            "justify_content": null,
            "justify_items": null,
            "left": null,
            "margin": null,
            "max_height": null,
            "max_width": null,
            "min_height": null,
            "min_width": null,
            "object_fit": null,
            "object_position": null,
            "order": null,
            "overflow": null,
            "overflow_x": null,
            "overflow_y": null,
            "padding": null,
            "right": null,
            "top": null,
            "visibility": null,
            "width": "50%"
          }
        },
        "3aa317d2b42e4674b38dafa87b5599c5": {
          "model_module": "@jupyter-widgets/controls",
          "model_module_version": "1.5.0",
          "model_name": "HBoxModel",
          "state": {
            "_dom_classes": [],
            "_model_module": "@jupyter-widgets/controls",
            "_model_module_version": "1.5.0",
            "_model_name": "HBoxModel",
            "_view_count": null,
            "_view_module": "@jupyter-widgets/controls",
            "_view_module_version": "1.5.0",
            "_view_name": "HBoxView",
            "box_style": "",
            "children": [
              "IPY_MODEL_0a7c2124936345febe50288a476a12a6",
              "IPY_MODEL_bdcf9380af5d4601b9b2de84b06ecb40",
              "IPY_MODEL_b9c5532ffabb44078de8a6f76a4b8be6"
            ],
            "layout": "IPY_MODEL_7732bb1317f940faa455f992f4fd2b26"
          }
        },
        "3ec9917890f4452883bcaeac444d056c": {
          "model_module": "@jupyter-widgets/base",
          "model_module_version": "1.2.0",
          "model_name": "LayoutModel",
          "state": {
            "_model_module": "@jupyter-widgets/base",
            "_model_module_version": "1.2.0",
            "_model_name": "LayoutModel",
            "_view_count": null,
            "_view_module": "@jupyter-widgets/base",
            "_view_module_version": "1.2.0",
            "_view_name": "LayoutView",
            "align_content": null,
            "align_items": null,
            "align_self": null,
            "border": null,
            "bottom": null,
            "display": null,
            "flex": null,
            "flex_flow": null,
            "grid_area": null,
            "grid_auto_columns": null,
            "grid_auto_flow": null,
            "grid_auto_rows": null,
            "grid_column": null,
            "grid_gap": null,
            "grid_row": null,
            "grid_template_areas": null,
            "grid_template_columns": null,
            "grid_template_rows": null,
            "height": null,
            "justify_content": null,
            "justify_items": null,
            "left": null,
            "margin": null,
            "max_height": null,
            "max_width": null,
            "min_height": null,
            "min_width": null,
            "object_fit": null,
            "object_position": null,
            "order": null,
            "overflow": null,
            "overflow_x": null,
            "overflow_y": null,
            "padding": null,
            "right": null,
            "top": null,
            "visibility": null,
            "width": null
          }
        },
        "3f0c587f7b764d96837c8e16254aab12": {
          "model_module": "@jupyter-widgets/controls",
          "model_module_version": "1.5.0",
          "model_name": "ProgressStyleModel",
          "state": {
            "_model_module": "@jupyter-widgets/controls",
            "_model_module_version": "1.5.0",
            "_model_name": "ProgressStyleModel",
            "_view_count": null,
            "_view_module": "@jupyter-widgets/base",
            "_view_module_version": "1.2.0",
            "_view_name": "StyleView",
            "bar_color": null,
            "description_width": ""
          }
        },
        "4246da00789f44e2abce952906bde6f1": {
          "model_module": "@jupyter-widgets/base",
          "model_module_version": "1.2.0",
          "model_name": "LayoutModel",
          "state": {
            "_model_module": "@jupyter-widgets/base",
            "_model_module_version": "1.2.0",
            "_model_name": "LayoutModel",
            "_view_count": null,
            "_view_module": "@jupyter-widgets/base",
            "_view_module_version": "1.2.0",
            "_view_name": "LayoutView",
            "align_content": null,
            "align_items": null,
            "align_self": null,
            "border": null,
            "bottom": null,
            "display": null,
            "flex": null,
            "flex_flow": null,
            "grid_area": null,
            "grid_auto_columns": null,
            "grid_auto_flow": null,
            "grid_auto_rows": null,
            "grid_column": null,
            "grid_gap": null,
            "grid_row": null,
            "grid_template_areas": null,
            "grid_template_columns": null,
            "grid_template_rows": null,
            "height": null,
            "justify_content": null,
            "justify_items": null,
            "left": null,
            "margin": null,
            "max_height": null,
            "max_width": null,
            "min_height": null,
            "min_width": null,
            "object_fit": null,
            "object_position": null,
            "order": null,
            "overflow": null,
            "overflow_x": null,
            "overflow_y": null,
            "padding": null,
            "right": null,
            "top": null,
            "visibility": null,
            "width": null
          }
        },
        "46c8681bd36f419495d33b06c96311ed": {
          "model_module": "@jupyter-widgets/controls",
          "model_module_version": "1.5.0",
          "model_name": "DescriptionStyleModel",
          "state": {
            "_model_module": "@jupyter-widgets/controls",
            "_model_module_version": "1.5.0",
            "_model_name": "DescriptionStyleModel",
            "_view_count": null,
            "_view_module": "@jupyter-widgets/base",
            "_view_module_version": "1.2.0",
            "_view_name": "StyleView",
            "description_width": ""
          }
        },
        "49f98244a8634be9b2305bb87731e765": {
          "model_module": "@jupyter-widgets/controls",
          "model_module_version": "1.5.0",
          "model_name": "TextModel",
          "state": {
            "_dom_classes": [],
            "_model_module": "@jupyter-widgets/controls",
            "_model_module_version": "1.5.0",
            "_model_name": "TextModel",
            "_view_count": null,
            "_view_module": "@jupyter-widgets/controls",
            "_view_module_version": "1.5.0",
            "_view_name": "TextView",
            "continuous_update": true,
            "description": "Username:",
            "description_tooltip": null,
            "disabled": false,
            "layout": "IPY_MODEL_4bf1f9d3031e4877aa6ef704e9a227d7",
            "placeholder": "​",
            "style": "IPY_MODEL_bfb6a1e47f6e4f74af4db7e71227ef3e",
            "value": ""
          }
        },
        "4bf1f9d3031e4877aa6ef704e9a227d7": {
          "model_module": "@jupyter-widgets/base",
          "model_module_version": "1.2.0",
          "model_name": "LayoutModel",
          "state": {
            "_model_module": "@jupyter-widgets/base",
            "_model_module_version": "1.2.0",
            "_model_name": "LayoutModel",
            "_view_count": null,
            "_view_module": "@jupyter-widgets/base",
            "_view_module_version": "1.2.0",
            "_view_name": "LayoutView",
            "align_content": null,
            "align_items": null,
            "align_self": null,
            "border": null,
            "bottom": null,
            "display": null,
            "flex": null,
            "flex_flow": null,
            "grid_area": null,
            "grid_auto_columns": null,
            "grid_auto_flow": null,
            "grid_auto_rows": null,
            "grid_column": null,
            "grid_gap": null,
            "grid_row": null,
            "grid_template_areas": null,
            "grid_template_columns": null,
            "grid_template_rows": null,
            "height": null,
            "justify_content": null,
            "justify_items": null,
            "left": null,
            "margin": null,
            "max_height": null,
            "max_width": null,
            "min_height": null,
            "min_width": null,
            "object_fit": null,
            "object_position": null,
            "order": null,
            "overflow": null,
            "overflow_x": null,
            "overflow_y": null,
            "padding": null,
            "right": null,
            "top": null,
            "visibility": null,
            "width": null
          }
        },
        "4c3e043e600641538a479df6ad389784": {
          "model_module": "@jupyter-widgets/base",
          "model_module_version": "1.2.0",
          "model_name": "LayoutModel",
          "state": {
            "_model_module": "@jupyter-widgets/base",
            "_model_module_version": "1.2.0",
            "_model_name": "LayoutModel",
            "_view_count": null,
            "_view_module": "@jupyter-widgets/base",
            "_view_module_version": "1.2.0",
            "_view_name": "LayoutView",
            "align_content": null,
            "align_items": null,
            "align_self": null,
            "border": null,
            "bottom": null,
            "display": null,
            "flex": null,
            "flex_flow": null,
            "grid_area": null,
            "grid_auto_columns": null,
            "grid_auto_flow": null,
            "grid_auto_rows": null,
            "grid_column": null,
            "grid_gap": null,
            "grid_row": null,
            "grid_template_areas": null,
            "grid_template_columns": null,
            "grid_template_rows": null,
            "height": null,
            "justify_content": null,
            "justify_items": null,
            "left": null,
            "margin": null,
            "max_height": null,
            "max_width": null,
            "min_height": null,
            "min_width": null,
            "object_fit": null,
            "object_position": null,
            "order": null,
            "overflow": null,
            "overflow_x": null,
            "overflow_y": null,
            "padding": null,
            "right": null,
            "top": null,
            "visibility": null,
            "width": null
          }
        },
        "4f81e460906a428f9f74a0aa469ba63f": {
          "model_module": "@jupyter-widgets/controls",
          "model_module_version": "1.5.0",
          "model_name": "DescriptionStyleModel",
          "state": {
            "_model_module": "@jupyter-widgets/controls",
            "_model_module_version": "1.5.0",
            "_model_name": "DescriptionStyleModel",
            "_view_count": null,
            "_view_module": "@jupyter-widgets/base",
            "_view_module_version": "1.2.0",
            "_view_name": "StyleView",
            "description_width": ""
          }
        },
        "557063bf861648f7aefacf71aa53ea9b": {
          "model_module": "@jupyter-widgets/base",
          "model_module_version": "1.2.0",
          "model_name": "LayoutModel",
          "state": {
            "_model_module": "@jupyter-widgets/base",
            "_model_module_version": "1.2.0",
            "_model_name": "LayoutModel",
            "_view_count": null,
            "_view_module": "@jupyter-widgets/base",
            "_view_module_version": "1.2.0",
            "_view_name": "LayoutView",
            "align_content": null,
            "align_items": null,
            "align_self": null,
            "border": null,
            "bottom": null,
            "display": null,
            "flex": null,
            "flex_flow": null,
            "grid_area": null,
            "grid_auto_columns": null,
            "grid_auto_flow": null,
            "grid_auto_rows": null,
            "grid_column": null,
            "grid_gap": null,
            "grid_row": null,
            "grid_template_areas": null,
            "grid_template_columns": null,
            "grid_template_rows": null,
            "height": null,
            "justify_content": null,
            "justify_items": null,
            "left": null,
            "margin": null,
            "max_height": null,
            "max_width": null,
            "min_height": null,
            "min_width": null,
            "object_fit": null,
            "object_position": null,
            "order": null,
            "overflow": null,
            "overflow_x": null,
            "overflow_y": null,
            "padding": null,
            "right": null,
            "top": null,
            "visibility": null,
            "width": null
          }
        },
        "5ba2a38c71e64253a4fd39cf7d3b3326": {
          "model_module": "@jupyter-widgets/controls",
          "model_module_version": "1.5.0",
          "model_name": "ProgressStyleModel",
          "state": {
            "_model_module": "@jupyter-widgets/controls",
            "_model_module_version": "1.5.0",
            "_model_name": "ProgressStyleModel",
            "_view_count": null,
            "_view_module": "@jupyter-widgets/base",
            "_view_module_version": "1.2.0",
            "_view_name": "StyleView",
            "bar_color": null,
            "description_width": ""
          }
        },
        "5cd8c74ba2e845d498afdc1c25009767": {
          "model_module": "@jupyter-widgets/base",
          "model_module_version": "1.2.0",
          "model_name": "LayoutModel",
          "state": {
            "_model_module": "@jupyter-widgets/base",
            "_model_module_version": "1.2.0",
            "_model_name": "LayoutModel",
            "_view_count": null,
            "_view_module": "@jupyter-widgets/base",
            "_view_module_version": "1.2.0",
            "_view_name": "LayoutView",
            "align_content": null,
            "align_items": null,
            "align_self": null,
            "border": null,
            "bottom": null,
            "display": null,
            "flex": null,
            "flex_flow": null,
            "grid_area": null,
            "grid_auto_columns": null,
            "grid_auto_flow": null,
            "grid_auto_rows": null,
            "grid_column": null,
            "grid_gap": null,
            "grid_row": null,
            "grid_template_areas": null,
            "grid_template_columns": null,
            "grid_template_rows": null,
            "height": null,
            "justify_content": null,
            "justify_items": null,
            "left": null,
            "margin": null,
            "max_height": null,
            "max_width": null,
            "min_height": null,
            "min_width": null,
            "object_fit": null,
            "object_position": null,
            "order": null,
            "overflow": null,
            "overflow_x": null,
            "overflow_y": null,
            "padding": null,
            "right": null,
            "top": null,
            "visibility": null,
            "width": null
          }
        },
        "5cff6b2dd6944c59b8c2f205db5f49bf": {
          "model_module": "@jupyter-widgets/base",
          "model_module_version": "1.2.0",
          "model_name": "LayoutModel",
          "state": {
            "_model_module": "@jupyter-widgets/base",
            "_model_module_version": "1.2.0",
            "_model_name": "LayoutModel",
            "_view_count": null,
            "_view_module": "@jupyter-widgets/base",
            "_view_module_version": "1.2.0",
            "_view_name": "LayoutView",
            "align_content": null,
            "align_items": null,
            "align_self": null,
            "border": null,
            "bottom": null,
            "display": null,
            "flex": null,
            "flex_flow": null,
            "grid_area": null,
            "grid_auto_columns": null,
            "grid_auto_flow": null,
            "grid_auto_rows": null,
            "grid_column": null,
            "grid_gap": null,
            "grid_row": null,
            "grid_template_areas": null,
            "grid_template_columns": null,
            "grid_template_rows": null,
            "height": null,
            "justify_content": null,
            "justify_items": null,
            "left": null,
            "margin": null,
            "max_height": null,
            "max_width": null,
            "min_height": null,
            "min_width": null,
            "object_fit": null,
            "object_position": null,
            "order": null,
            "overflow": null,
            "overflow_x": null,
            "overflow_y": null,
            "padding": null,
            "right": null,
            "top": null,
            "visibility": null,
            "width": null
          }
        },
        "609781a3f55d4d3dbf0b3640972755fa": {
          "model_module": "@jupyter-widgets/controls",
          "model_module_version": "1.5.0",
          "model_name": "FloatProgressModel",
          "state": {
            "_dom_classes": [],
            "_model_module": "@jupyter-widgets/controls",
            "_model_module_version": "1.5.0",
            "_model_name": "FloatProgressModel",
            "_view_count": null,
            "_view_module": "@jupyter-widgets/controls",
            "_view_module_version": "1.5.0",
            "_view_name": "ProgressView",
            "bar_style": "success",
            "description": "",
            "description_tooltip": null,
            "layout": "IPY_MODEL_a5777207c788498fb4ac4900af91d7cf",
            "max": 1,
            "min": 0,
            "orientation": "horizontal",
            "style": "IPY_MODEL_890ff54dc35e460b9108e2690966fafe",
            "value": 1
          }
        },
        "6323e35581be4b338a904266a5e85005": {
          "model_module": "@jupyter-widgets/base",
          "model_module_version": "1.2.0",
          "model_name": "LayoutModel",
          "state": {
            "_model_module": "@jupyter-widgets/base",
            "_model_module_version": "1.2.0",
            "_model_name": "LayoutModel",
            "_view_count": null,
            "_view_module": "@jupyter-widgets/base",
            "_view_module_version": "1.2.0",
            "_view_name": "LayoutView",
            "align_content": null,
            "align_items": null,
            "align_self": null,
            "border": null,
            "bottom": null,
            "display": null,
            "flex": null,
            "flex_flow": null,
            "grid_area": null,
            "grid_auto_columns": null,
            "grid_auto_flow": null,
            "grid_auto_rows": null,
            "grid_column": null,
            "grid_gap": null,
            "grid_row": null,
            "grid_template_areas": null,
            "grid_template_columns": null,
            "grid_template_rows": null,
            "height": null,
            "justify_content": null,
            "justify_items": null,
            "left": null,
            "margin": null,
            "max_height": null,
            "max_width": null,
            "min_height": null,
            "min_width": null,
            "object_fit": null,
            "object_position": null,
            "order": null,
            "overflow": null,
            "overflow_x": null,
            "overflow_y": null,
            "padding": null,
            "right": null,
            "top": null,
            "visibility": null,
            "width": null
          }
        },
        "69f2a9e473534148b96b2e9bd639a087": {
          "model_module": "@jupyter-widgets/controls",
          "model_module_version": "1.5.0",
          "model_name": "DescriptionStyleModel",
          "state": {
            "_model_module": "@jupyter-widgets/controls",
            "_model_module_version": "1.5.0",
            "_model_name": "DescriptionStyleModel",
            "_view_count": null,
            "_view_module": "@jupyter-widgets/base",
            "_view_module_version": "1.2.0",
            "_view_name": "StyleView",
            "description_width": ""
          }
        },
        "6a40faf77bf445308534e7acada6bf0d": {
          "model_module": "@jupyter-widgets/controls",
          "model_module_version": "1.5.0",
          "model_name": "HTMLModel",
          "state": {
            "_dom_classes": [],
            "_model_module": "@jupyter-widgets/controls",
            "_model_module_version": "1.5.0",
            "_model_name": "HTMLModel",
            "_view_count": null,
            "_view_module": "@jupyter-widgets/controls",
            "_view_module_version": "1.5.0",
            "_view_name": "HTMLView",
            "description": "",
            "description_tooltip": null,
            "layout": "IPY_MODEL_21af0f39c0ce40a5846b980f98481940",
            "placeholder": "​",
            "style": "IPY_MODEL_f6e0ea791e5a44abb5d5891bb3e254ad",
            "value": "100%"
          }
        },
        "6ae3b3139e6641fc9e62ae5744349add": {
          "model_module": "@jupyter-widgets/base",
          "model_module_version": "1.2.0",
          "model_name": "LayoutModel",
          "state": {
            "_model_module": "@jupyter-widgets/base",
            "_model_module_version": "1.2.0",
            "_model_name": "LayoutModel",
            "_view_count": null,
            "_view_module": "@jupyter-widgets/base",
            "_view_module_version": "1.2.0",
            "_view_name": "LayoutView",
            "align_content": null,
            "align_items": null,
            "align_self": null,
            "border": null,
            "bottom": null,
            "display": null,
            "flex": null,
            "flex_flow": null,
            "grid_area": null,
            "grid_auto_columns": null,
            "grid_auto_flow": null,
            "grid_auto_rows": null,
            "grid_column": null,
            "grid_gap": null,
            "grid_row": null,
            "grid_template_areas": null,
            "grid_template_columns": null,
            "grid_template_rows": null,
            "height": null,
            "justify_content": null,
            "justify_items": null,
            "left": null,
            "margin": null,
            "max_height": null,
            "max_width": null,
            "min_height": null,
            "min_width": null,
            "object_fit": null,
            "object_position": null,
            "order": null,
            "overflow": null,
            "overflow_x": null,
            "overflow_y": null,
            "padding": null,
            "right": null,
            "top": null,
            "visibility": null,
            "width": null
          }
        },
        "6da7072e7f634a3aa2927fca1bcf38c0": {
          "model_module": "@jupyter-widgets/controls",
          "model_module_version": "1.5.0",
          "model_name": "ProgressStyleModel",
          "state": {
            "_model_module": "@jupyter-widgets/controls",
            "_model_module_version": "1.5.0",
            "_model_name": "ProgressStyleModel",
            "_view_count": null,
            "_view_module": "@jupyter-widgets/base",
            "_view_module_version": "1.2.0",
            "_view_name": "StyleView",
            "bar_color": null,
            "description_width": ""
          }
        },
        "6dd7aa6b17b34d18ba46d834ffd559bc": {
          "model_module": "@jupyter-widgets/controls",
          "model_module_version": "1.5.0",
          "model_name": "ButtonStyleModel",
          "state": {
            "_model_module": "@jupyter-widgets/controls",
            "_model_module_version": "1.5.0",
            "_model_name": "ButtonStyleModel",
            "_view_count": null,
            "_view_module": "@jupyter-widgets/base",
            "_view_module_version": "1.2.0",
            "_view_name": "StyleView",
            "button_color": null,
            "font_weight": ""
          }
        },
        "6ec3c80319fb45f3b6f7715049c9bce0": {
          "model_module": "@jupyter-widgets/base",
          "model_module_version": "1.2.0",
          "model_name": "LayoutModel",
          "state": {
            "_model_module": "@jupyter-widgets/base",
            "_model_module_version": "1.2.0",
            "_model_name": "LayoutModel",
            "_view_count": null,
            "_view_module": "@jupyter-widgets/base",
            "_view_module_version": "1.2.0",
            "_view_name": "LayoutView",
            "align_content": null,
            "align_items": null,
            "align_self": null,
            "border": null,
            "bottom": null,
            "display": null,
            "flex": null,
            "flex_flow": null,
            "grid_area": null,
            "grid_auto_columns": null,
            "grid_auto_flow": null,
            "grid_auto_rows": null,
            "grid_column": null,
            "grid_gap": null,
            "grid_row": null,
            "grid_template_areas": null,
            "grid_template_columns": null,
            "grid_template_rows": null,
            "height": null,
            "justify_content": null,
            "justify_items": null,
            "left": null,
            "margin": null,
            "max_height": null,
            "max_width": null,
            "min_height": null,
            "min_width": null,
            "object_fit": null,
            "object_position": null,
            "order": null,
            "overflow": null,
            "overflow_x": null,
            "overflow_y": null,
            "padding": null,
            "right": null,
            "top": null,
            "visibility": null,
            "width": null
          }
        },
        "716dc4ab4fe74abab49f3c0f009357f5": {
          "model_module": "@jupyter-widgets/base",
          "model_module_version": "1.2.0",
          "model_name": "LayoutModel",
          "state": {
            "_model_module": "@jupyter-widgets/base",
            "_model_module_version": "1.2.0",
            "_model_name": "LayoutModel",
            "_view_count": null,
            "_view_module": "@jupyter-widgets/base",
            "_view_module_version": "1.2.0",
            "_view_name": "LayoutView",
            "align_content": null,
            "align_items": null,
            "align_self": null,
            "border": null,
            "bottom": null,
            "display": null,
            "flex": null,
            "flex_flow": null,
            "grid_area": null,
            "grid_auto_columns": null,
            "grid_auto_flow": null,
            "grid_auto_rows": null,
            "grid_column": null,
            "grid_gap": null,
            "grid_row": null,
            "grid_template_areas": null,
            "grid_template_columns": null,
            "grid_template_rows": null,
            "height": null,
            "justify_content": null,
            "justify_items": null,
            "left": null,
            "margin": null,
            "max_height": null,
            "max_width": null,
            "min_height": null,
            "min_width": null,
            "object_fit": null,
            "object_position": null,
            "order": null,
            "overflow": null,
            "overflow_x": null,
            "overflow_y": null,
            "padding": null,
            "right": null,
            "top": null,
            "visibility": null,
            "width": null
          }
        },
        "731a283141f642b9ab5bf9f7053381d2": {
          "model_module": "@jupyter-widgets/base",
          "model_module_version": "1.2.0",
          "model_name": "LayoutModel",
          "state": {
            "_model_module": "@jupyter-widgets/base",
            "_model_module_version": "1.2.0",
            "_model_name": "LayoutModel",
            "_view_count": null,
            "_view_module": "@jupyter-widgets/base",
            "_view_module_version": "1.2.0",
            "_view_name": "LayoutView",
            "align_content": null,
            "align_items": null,
            "align_self": null,
            "border": null,
            "bottom": null,
            "display": null,
            "flex": null,
            "flex_flow": null,
            "grid_area": null,
            "grid_auto_columns": null,
            "grid_auto_flow": null,
            "grid_auto_rows": null,
            "grid_column": null,
            "grid_gap": null,
            "grid_row": null,
            "grid_template_areas": null,
            "grid_template_columns": null,
            "grid_template_rows": null,
            "height": null,
            "justify_content": null,
            "justify_items": null,
            "left": null,
            "margin": null,
            "max_height": null,
            "max_width": null,
            "min_height": null,
            "min_width": null,
            "object_fit": null,
            "object_position": null,
            "order": null,
            "overflow": null,
            "overflow_x": null,
            "overflow_y": null,
            "padding": null,
            "right": null,
            "top": null,
            "visibility": null,
            "width": null
          }
        },
        "75b26f4a95d24e9d8939d1f7b376eb51": {
          "model_module": "@jupyter-widgets/controls",
          "model_module_version": "1.5.0",
          "model_name": "HTMLModel",
          "state": {
            "_dom_classes": [],
            "_model_module": "@jupyter-widgets/controls",
            "_model_module_version": "1.5.0",
            "_model_name": "HTMLModel",
            "_view_count": null,
            "_view_module": "@jupyter-widgets/controls",
            "_view_module_version": "1.5.0",
            "_view_name": "HTMLView",
            "description": "",
            "description_tooltip": null,
            "layout": "IPY_MODEL_02519344818c40d0b961c5ea210a5c62",
            "placeholder": "​",
            "style": "IPY_MODEL_e575e46791b24f449b8afcb773e46dcc",
            "value": "100%"
          }
        },
        "771530ea22364f1ea8963e2d542fcf49": {
          "model_module": "@jupyter-widgets/base",
          "model_module_version": "1.2.0",
          "model_name": "LayoutModel",
          "state": {
            "_model_module": "@jupyter-widgets/base",
            "_model_module_version": "1.2.0",
            "_model_name": "LayoutModel",
            "_view_count": null,
            "_view_module": "@jupyter-widgets/base",
            "_view_module_version": "1.2.0",
            "_view_name": "LayoutView",
            "align_content": null,
            "align_items": null,
            "align_self": null,
            "border": null,
            "bottom": null,
            "display": null,
            "flex": null,
            "flex_flow": null,
            "grid_area": null,
            "grid_auto_columns": null,
            "grid_auto_flow": null,
            "grid_auto_rows": null,
            "grid_column": null,
            "grid_gap": null,
            "grid_row": null,
            "grid_template_areas": null,
            "grid_template_columns": null,
            "grid_template_rows": null,
            "height": null,
            "justify_content": null,
            "justify_items": null,
            "left": null,
            "margin": null,
            "max_height": null,
            "max_width": null,
            "min_height": null,
            "min_width": null,
            "object_fit": null,
            "object_position": null,
            "order": null,
            "overflow": null,
            "overflow_x": null,
            "overflow_y": null,
            "padding": null,
            "right": null,
            "top": null,
            "visibility": null,
            "width": null
          }
        },
        "7732bb1317f940faa455f992f4fd2b26": {
          "model_module": "@jupyter-widgets/base",
          "model_module_version": "1.2.0",
          "model_name": "LayoutModel",
          "state": {
            "_model_module": "@jupyter-widgets/base",
            "_model_module_version": "1.2.0",
            "_model_name": "LayoutModel",
            "_view_count": null,
            "_view_module": "@jupyter-widgets/base",
            "_view_module_version": "1.2.0",
            "_view_name": "LayoutView",
            "align_content": null,
            "align_items": null,
            "align_self": null,
            "border": null,
            "bottom": null,
            "display": null,
            "flex": null,
            "flex_flow": null,
            "grid_area": null,
            "grid_auto_columns": null,
            "grid_auto_flow": null,
            "grid_auto_rows": null,
            "grid_column": null,
            "grid_gap": null,
            "grid_row": null,
            "grid_template_areas": null,
            "grid_template_columns": null,
            "grid_template_rows": null,
            "height": null,
            "justify_content": null,
            "justify_items": null,
            "left": null,
            "margin": null,
            "max_height": null,
            "max_width": null,
            "min_height": null,
            "min_width": null,
            "object_fit": null,
            "object_position": null,
            "order": null,
            "overflow": null,
            "overflow_x": null,
            "overflow_y": null,
            "padding": null,
            "right": null,
            "top": null,
            "visibility": null,
            "width": null
          }
        },
        "7c81059d35534b799623afe872095cac": {
          "model_module": "@jupyter-widgets/controls",
          "model_module_version": "1.5.0",
          "model_name": "HBoxModel",
          "state": {
            "_dom_classes": [],
            "_model_module": "@jupyter-widgets/controls",
            "_model_module_version": "1.5.0",
            "_model_name": "HBoxModel",
            "_view_count": null,
            "_view_module": "@jupyter-widgets/controls",
            "_view_module_version": "1.5.0",
            "_view_name": "HBoxView",
            "box_style": "",
            "children": [
              "IPY_MODEL_379128a308ab43ee9e785e234bb94049",
              "IPY_MODEL_ff8e746cf8ef4f988617b8d4c0dd3c9c",
              "IPY_MODEL_0204a7bc668746a68f6e5e5632753c1c"
            ],
            "layout": "IPY_MODEL_84361b363998428a87b9e50b6625cca9"
          }
        },
        "7ce84a97d72848c0967f732734afdd68": {
          "model_module": "@jupyter-widgets/controls",
          "model_module_version": "1.5.0",
          "model_name": "DescriptionStyleModel",
          "state": {
            "_model_module": "@jupyter-widgets/controls",
            "_model_module_version": "1.5.0",
            "_model_name": "DescriptionStyleModel",
            "_view_count": null,
            "_view_module": "@jupyter-widgets/base",
            "_view_module_version": "1.2.0",
            "_view_name": "StyleView",
            "description_width": ""
          }
        },
        "7ea310732a56432da1a095a8d30edc1c": {
          "model_module": "@jupyter-widgets/controls",
          "model_module_version": "1.5.0",
          "model_name": "HTMLModel",
          "state": {
            "_dom_classes": [],
            "_model_module": "@jupyter-widgets/controls",
            "_model_module_version": "1.5.0",
            "_model_name": "HTMLModel",
            "_view_count": null,
            "_view_module": "@jupyter-widgets/controls",
            "_view_module_version": "1.5.0",
            "_view_name": "HTMLView",
            "description": "",
            "description_tooltip": null,
            "layout": "IPY_MODEL_771530ea22364f1ea8963e2d542fcf49",
            "placeholder": "​",
            "style": "IPY_MODEL_1cdac9cda666466ca1e09f32661d40ed",
            "value": "Downloading: 100%"
          }
        },
        "84361b363998428a87b9e50b6625cca9": {
          "model_module": "@jupyter-widgets/base",
          "model_module_version": "1.2.0",
          "model_name": "LayoutModel",
          "state": {
            "_model_module": "@jupyter-widgets/base",
            "_model_module_version": "1.2.0",
            "_model_name": "LayoutModel",
            "_view_count": null,
            "_view_module": "@jupyter-widgets/base",
            "_view_module_version": "1.2.0",
            "_view_name": "LayoutView",
            "align_content": null,
            "align_items": null,
            "align_self": null,
            "border": null,
            "bottom": null,
            "display": null,
            "flex": null,
            "flex_flow": null,
            "grid_area": null,
            "grid_auto_columns": null,
            "grid_auto_flow": null,
            "grid_auto_rows": null,
            "grid_column": null,
            "grid_gap": null,
            "grid_row": null,
            "grid_template_areas": null,
            "grid_template_columns": null,
            "grid_template_rows": null,
            "height": null,
            "justify_content": null,
            "justify_items": null,
            "left": null,
            "margin": null,
            "max_height": null,
            "max_width": null,
            "min_height": null,
            "min_width": null,
            "object_fit": null,
            "object_position": null,
            "order": null,
            "overflow": null,
            "overflow_x": null,
            "overflow_y": null,
            "padding": null,
            "right": null,
            "top": null,
            "visibility": null,
            "width": null
          }
        },
        "8541f8f949ea49b7a1335aaf31ca4f81": {
          "model_module": "@jupyter-widgets/base",
          "model_module_version": "1.2.0",
          "model_name": "LayoutModel",
          "state": {
            "_model_module": "@jupyter-widgets/base",
            "_model_module_version": "1.2.0",
            "_model_name": "LayoutModel",
            "_view_count": null,
            "_view_module": "@jupyter-widgets/base",
            "_view_module_version": "1.2.0",
            "_view_name": "LayoutView",
            "align_content": null,
            "align_items": null,
            "align_self": null,
            "border": null,
            "bottom": null,
            "display": null,
            "flex": null,
            "flex_flow": null,
            "grid_area": null,
            "grid_auto_columns": null,
            "grid_auto_flow": null,
            "grid_auto_rows": null,
            "grid_column": null,
            "grid_gap": null,
            "grid_row": null,
            "grid_template_areas": null,
            "grid_template_columns": null,
            "grid_template_rows": null,
            "height": null,
            "justify_content": null,
            "justify_items": null,
            "left": null,
            "margin": null,
            "max_height": null,
            "max_width": null,
            "min_height": null,
            "min_width": null,
            "object_fit": null,
            "object_position": null,
            "order": null,
            "overflow": null,
            "overflow_x": null,
            "overflow_y": null,
            "padding": null,
            "right": null,
            "top": null,
            "visibility": null,
            "width": null
          }
        },
        "8783792878a64402981a416989924348": {
          "model_module": "@jupyter-widgets/controls",
          "model_module_version": "1.5.0",
          "model_name": "HTMLModel",
          "state": {
            "_dom_classes": [],
            "_model_module": "@jupyter-widgets/controls",
            "_model_module_version": "1.5.0",
            "_model_name": "HTMLModel",
            "_view_count": null,
            "_view_module": "@jupyter-widgets/controls",
            "_view_module_version": "1.5.0",
            "_view_name": "HTMLView",
            "description": "",
            "description_tooltip": null,
            "layout": "IPY_MODEL_cc70741031664fa89bfe8e8e672c5b2b",
            "placeholder": "​",
            "style": "IPY_MODEL_46c8681bd36f419495d33b06c96311ed",
            "value": " 1/1 [00:00&lt;00:00, 18.54ba/s]"
          }
        },
        "890ff54dc35e460b9108e2690966fafe": {
          "model_module": "@jupyter-widgets/controls",
          "model_module_version": "1.5.0",
          "model_name": "ProgressStyleModel",
          "state": {
            "_model_module": "@jupyter-widgets/controls",
            "_model_module_version": "1.5.0",
            "_model_name": "ProgressStyleModel",
            "_view_count": null,
            "_view_module": "@jupyter-widgets/base",
            "_view_module_version": "1.2.0",
            "_view_name": "StyleView",
            "bar_color": null,
            "description_width": ""
          }
        },
        "8a669878b8354867944e577860910001": {
          "model_module": "@jupyter-widgets/controls",
          "model_module_version": "1.5.0",
          "model_name": "DescriptionStyleModel",
          "state": {
            "_model_module": "@jupyter-widgets/controls",
            "_model_module_version": "1.5.0",
            "_model_name": "DescriptionStyleModel",
            "_view_count": null,
            "_view_module": "@jupyter-widgets/base",
            "_view_module_version": "1.2.0",
            "_view_name": "StyleView",
            "description_width": ""
          }
        },
        "92c30a7c6102443cad2f6f03211c32e0": {
          "model_module": "@jupyter-widgets/controls",
          "model_module_version": "1.5.0",
          "model_name": "ProgressStyleModel",
          "state": {
            "_model_module": "@jupyter-widgets/controls",
            "_model_module_version": "1.5.0",
            "_model_name": "ProgressStyleModel",
            "_view_count": null,
            "_view_module": "@jupyter-widgets/base",
            "_view_module_version": "1.2.0",
            "_view_name": "StyleView",
            "bar_color": null,
            "description_width": ""
          }
        },
        "92e295e353624110880cff6835b9e119": {
          "model_module": "@jupyter-widgets/base",
          "model_module_version": "1.2.0",
          "model_name": "LayoutModel",
          "state": {
            "_model_module": "@jupyter-widgets/base",
            "_model_module_version": "1.2.0",
            "_model_name": "LayoutModel",
            "_view_count": null,
            "_view_module": "@jupyter-widgets/base",
            "_view_module_version": "1.2.0",
            "_view_name": "LayoutView",
            "align_content": null,
            "align_items": null,
            "align_self": null,
            "border": null,
            "bottom": null,
            "display": null,
            "flex": null,
            "flex_flow": null,
            "grid_area": null,
            "grid_auto_columns": null,
            "grid_auto_flow": null,
            "grid_auto_rows": null,
            "grid_column": null,
            "grid_gap": null,
            "grid_row": null,
            "grid_template_areas": null,
            "grid_template_columns": null,
            "grid_template_rows": null,
            "height": null,
            "justify_content": null,
            "justify_items": null,
            "left": null,
            "margin": null,
            "max_height": null,
            "max_width": null,
            "min_height": null,
            "min_width": null,
            "object_fit": null,
            "object_position": null,
            "order": null,
            "overflow": null,
            "overflow_x": null,
            "overflow_y": null,
            "padding": null,
            "right": null,
            "top": null,
            "visibility": null,
            "width": null
          }
        },
        "a1419cc920324f62be58d6e48a82e275": {
          "model_module": "@jupyter-widgets/controls",
          "model_module_version": "1.5.0",
          "model_name": "HTMLModel",
          "state": {
            "_dom_classes": [],
            "_model_module": "@jupyter-widgets/controls",
            "_model_module_version": "1.5.0",
            "_model_name": "HTMLModel",
            "_view_count": null,
            "_view_module": "@jupyter-widgets/controls",
            "_view_module_version": "1.5.0",
            "_view_name": "HTMLView",
            "description": "",
            "description_tooltip": null,
            "layout": "IPY_MODEL_bc11f833cc9c441b9a58d69ea792fa9c",
            "placeholder": "​",
            "style": "IPY_MODEL_4f81e460906a428f9f74a0aa469ba63f",
            "value": " 1/1 [00:00&lt;00:00, 12.65ba/s]"
          }
        },
        "a28d3e82e04646b79c89f93cf40ee596": {
          "model_module": "@jupyter-widgets/controls",
          "model_module_version": "1.5.0",
          "model_name": "PasswordModel",
          "state": {
            "_dom_classes": [],
            "_model_module": "@jupyter-widgets/controls",
            "_model_module_version": "1.5.0",
            "_model_name": "PasswordModel",
            "_view_count": null,
            "_view_module": "@jupyter-widgets/controls",
            "_view_module_version": "1.5.0",
            "_view_name": "PasswordView",
            "continuous_update": true,
            "description": "Password:",
            "description_tooltip": null,
            "disabled": false,
            "layout": "IPY_MODEL_8541f8f949ea49b7a1335aaf31ca4f81",
            "placeholder": "​",
            "style": "IPY_MODEL_c237b5686d3e48aeb226c87aa703f63d",
            "value": ""
          }
        },
        "a5777207c788498fb4ac4900af91d7cf": {
          "model_module": "@jupyter-widgets/base",
          "model_module_version": "1.2.0",
          "model_name": "LayoutModel",
          "state": {
            "_model_module": "@jupyter-widgets/base",
            "_model_module_version": "1.2.0",
            "_model_name": "LayoutModel",
            "_view_count": null,
            "_view_module": "@jupyter-widgets/base",
            "_view_module_version": "1.2.0",
            "_view_name": "LayoutView",
            "align_content": null,
            "align_items": null,
            "align_self": null,
            "border": null,
            "bottom": null,
            "display": null,
            "flex": null,
            "flex_flow": null,
            "grid_area": null,
            "grid_auto_columns": null,
            "grid_auto_flow": null,
            "grid_auto_rows": null,
            "grid_column": null,
            "grid_gap": null,
            "grid_row": null,
            "grid_template_areas": null,
            "grid_template_columns": null,
            "grid_template_rows": null,
            "height": null,
            "justify_content": null,
            "justify_items": null,
            "left": null,
            "margin": null,
            "max_height": null,
            "max_width": null,
            "min_height": null,
            "min_width": null,
            "object_fit": null,
            "object_position": null,
            "order": null,
            "overflow": null,
            "overflow_x": null,
            "overflow_y": null,
            "padding": null,
            "right": null,
            "top": null,
            "visibility": null,
            "width": null
          }
        },
        "a5e2e1fe3ab94cc6ae1a73cc1ab6f9a8": {
          "model_module": "@jupyter-widgets/controls",
          "model_module_version": "1.5.0",
          "model_name": "DescriptionStyleModel",
          "state": {
            "_model_module": "@jupyter-widgets/controls",
            "_model_module_version": "1.5.0",
            "_model_name": "DescriptionStyleModel",
            "_view_count": null,
            "_view_module": "@jupyter-widgets/base",
            "_view_module_version": "1.2.0",
            "_view_name": "StyleView",
            "description_width": ""
          }
        },
        "a62ff1ee03dc47c9834b43720df991ea": {
          "model_module": "@jupyter-widgets/controls",
          "model_module_version": "1.5.0",
          "model_name": "FloatProgressModel",
          "state": {
            "_dom_classes": [],
            "_model_module": "@jupyter-widgets/controls",
            "_model_module_version": "1.5.0",
            "_model_name": "FloatProgressModel",
            "_view_count": null,
            "_view_module": "@jupyter-widgets/controls",
            "_view_module_version": "1.5.0",
            "_view_name": "ProgressView",
            "bar_style": "success",
            "description": "",
            "description_tooltip": null,
            "layout": "IPY_MODEL_6323e35581be4b338a904266a5e85005",
            "max": 3478,
            "min": 0,
            "orientation": "horizontal",
            "style": "IPY_MODEL_6da7072e7f634a3aa2927fca1bcf38c0",
            "value": 3478
          }
        },
        "aa92ff120d9c4dd68ae941d7a1f33a81": {
          "model_module": "@jupyter-widgets/controls",
          "model_module_version": "1.5.0",
          "model_name": "HTMLModel",
          "state": {
            "_dom_classes": [],
            "_model_module": "@jupyter-widgets/controls",
            "_model_module_version": "1.5.0",
            "_model_name": "HTMLModel",
            "_view_count": null,
            "_view_module": "@jupyter-widgets/controls",
            "_view_module_version": "1.5.0",
            "_view_name": "HTMLView",
            "description": "",
            "description_tooltip": null,
            "layout": "IPY_MODEL_ad95ae421231492e814238bde2ecb551",
            "placeholder": "​",
            "style": "IPY_MODEL_136f973d9623421eb38e09c73c6b6810",
            "value": " 1.53k/1.53k [00:00&lt;00:00, 36.6kB/s]"
          }
        },
        "acc35dfdfca542828d1bb02cbde15dfe": {
          "model_module": "@jupyter-widgets/controls",
          "model_module_version": "1.5.0",
          "model_name": "FloatProgressModel",
          "state": {
            "_dom_classes": [],
            "_model_module": "@jupyter-widgets/controls",
            "_model_module_version": "1.5.0",
            "_model_name": "FloatProgressModel",
            "_view_count": null,
            "_view_module": "@jupyter-widgets/controls",
            "_view_module_version": "1.5.0",
            "_view_name": "ProgressView",
            "bar_style": "success",
            "description": "",
            "description_tooltip": null,
            "layout": "IPY_MODEL_6ae3b3139e6641fc9e62ae5744349add",
            "max": 1568,
            "min": 0,
            "orientation": "horizontal",
            "style": "IPY_MODEL_92c30a7c6102443cad2f6f03211c32e0",
            "value": 1568
          }
        },
        "ad95ae421231492e814238bde2ecb551": {
          "model_module": "@jupyter-widgets/base",
          "model_module_version": "1.2.0",
          "model_name": "LayoutModel",
          "state": {
            "_model_module": "@jupyter-widgets/base",
            "_model_module_version": "1.2.0",
            "_model_name": "LayoutModel",
            "_view_count": null,
            "_view_module": "@jupyter-widgets/base",
            "_view_module_version": "1.2.0",
            "_view_name": "LayoutView",
            "align_content": null,
            "align_items": null,
            "align_self": null,
            "border": null,
            "bottom": null,
            "display": null,
            "flex": null,
            "flex_flow": null,
            "grid_area": null,
            "grid_auto_columns": null,
            "grid_auto_flow": null,
            "grid_auto_rows": null,
            "grid_column": null,
            "grid_gap": null,
            "grid_row": null,
            "grid_template_areas": null,
            "grid_template_columns": null,
            "grid_template_rows": null,
            "height": null,
            "justify_content": null,
            "justify_items": null,
            "left": null,
            "margin": null,
            "max_height": null,
            "max_width": null,
            "min_height": null,
            "min_width": null,
            "object_fit": null,
            "object_position": null,
            "order": null,
            "overflow": null,
            "overflow_x": null,
            "overflow_y": null,
            "padding": null,
            "right": null,
            "top": null,
            "visibility": null,
            "width": null
          }
        },
        "b896566369e3403091e357af18648740": {
          "model_module": "@jupyter-widgets/controls",
          "model_module_version": "1.5.0",
          "model_name": "VBoxModel",
          "state": {
            "_dom_classes": [],
            "_model_module": "@jupyter-widgets/controls",
            "_model_module_version": "1.5.0",
            "_model_name": "VBoxModel",
            "_view_count": null,
            "_view_module": "@jupyter-widgets/controls",
            "_view_module_version": "1.5.0",
            "_view_name": "VBoxView",
            "box_style": "",
            "children": [
              "IPY_MODEL_26bf8a70fe5449a99ca1b06430b2fc8f",
              "IPY_MODEL_dd5d9b3f70ee4a0dabe18e87ab38145c",
              "IPY_MODEL_2d4eb3e5acc348948299c506db83ca90"
            ],
            "layout": "IPY_MODEL_384228b409cb4bb0bbd77ef259b9a568"
          }
        },
        "b9c5532ffabb44078de8a6f76a4b8be6": {
          "model_module": "@jupyter-widgets/controls",
          "model_module_version": "1.5.0",
          "model_name": "HTMLModel",
          "state": {
            "_dom_classes": [],
            "_model_module": "@jupyter-widgets/controls",
            "_model_module_version": "1.5.0",
            "_model_name": "HTMLModel",
            "_view_count": null,
            "_view_module": "@jupyter-widgets/controls",
            "_view_module_version": "1.5.0",
            "_view_name": "HTMLView",
            "description": "",
            "description_tooltip": null,
            "layout": "IPY_MODEL_fe156fa95ee9410daff8f7c9a8b0d3a3",
            "placeholder": "​",
            "style": "IPY_MODEL_a5e2e1fe3ab94cc6ae1a73cc1ab6f9a8",
            "value": " 1647/1647 [00:20&lt;00:00, 89.86ex/s]"
          }
        },
        "bbfc45e0cf5644f6bc24118fa9c6c098": {
          "model_module": "@jupyter-widgets/base",
          "model_module_version": "1.2.0",
          "model_name": "LayoutModel",
          "state": {
            "_model_module": "@jupyter-widgets/base",
            "_model_module_version": "1.2.0",
            "_model_name": "LayoutModel",
            "_view_count": null,
            "_view_module": "@jupyter-widgets/base",
            "_view_module_version": "1.2.0",
            "_view_name": "LayoutView",
            "align_content": null,
            "align_items": null,
            "align_self": null,
            "border": null,
            "bottom": null,
            "display": null,
            "flex": null,
            "flex_flow": null,
            "grid_area": null,
            "grid_auto_columns": null,
            "grid_auto_flow": null,
            "grid_auto_rows": null,
            "grid_column": null,
            "grid_gap": null,
            "grid_row": null,
            "grid_template_areas": null,
            "grid_template_columns": null,
            "grid_template_rows": null,
            "height": null,
            "justify_content": null,
            "justify_items": null,
            "left": null,
            "margin": null,
            "max_height": null,
            "max_width": null,
            "min_height": null,
            "min_width": null,
            "object_fit": null,
            "object_position": null,
            "order": null,
            "overflow": null,
            "overflow_x": null,
            "overflow_y": null,
            "padding": null,
            "right": null,
            "top": null,
            "visibility": null,
            "width": null
          }
        },
        "bc11f833cc9c441b9a58d69ea792fa9c": {
          "model_module": "@jupyter-widgets/base",
          "model_module_version": "1.2.0",
          "model_name": "LayoutModel",
          "state": {
            "_model_module": "@jupyter-widgets/base",
            "_model_module_version": "1.2.0",
            "_model_name": "LayoutModel",
            "_view_count": null,
            "_view_module": "@jupyter-widgets/base",
            "_view_module_version": "1.2.0",
            "_view_name": "LayoutView",
            "align_content": null,
            "align_items": null,
            "align_self": null,
            "border": null,
            "bottom": null,
            "display": null,
            "flex": null,
            "flex_flow": null,
            "grid_area": null,
            "grid_auto_columns": null,
            "grid_auto_flow": null,
            "grid_auto_rows": null,
            "grid_column": null,
            "grid_gap": null,
            "grid_row": null,
            "grid_template_areas": null,
            "grid_template_columns": null,
            "grid_template_rows": null,
            "height": null,
            "justify_content": null,
            "justify_items": null,
            "left": null,
            "margin": null,
            "max_height": null,
            "max_width": null,
            "min_height": null,
            "min_width": null,
            "object_fit": null,
            "object_position": null,
            "order": null,
            "overflow": null,
            "overflow_x": null,
            "overflow_y": null,
            "padding": null,
            "right": null,
            "top": null,
            "visibility": null,
            "width": null
          }
        },
        "bdcf9380af5d4601b9b2de84b06ecb40": {
          "model_module": "@jupyter-widgets/controls",
          "model_module_version": "1.5.0",
          "model_name": "FloatProgressModel",
          "state": {
            "_dom_classes": [],
            "_model_module": "@jupyter-widgets/controls",
            "_model_module_version": "1.5.0",
            "_model_name": "FloatProgressModel",
            "_view_count": null,
            "_view_module": "@jupyter-widgets/controls",
            "_view_module_version": "1.5.0",
            "_view_name": "ProgressView",
            "bar_style": "success",
            "description": "",
            "description_tooltip": null,
            "layout": "IPY_MODEL_bbfc45e0cf5644f6bc24118fa9c6c098",
            "max": 1647,
            "min": 0,
            "orientation": "horizontal",
            "style": "IPY_MODEL_eca458b185ae4570b1ec1e77389c871e",
            "value": 1647
          }
        },
        "bfb6a1e47f6e4f74af4db7e71227ef3e": {
          "model_module": "@jupyter-widgets/controls",
          "model_module_version": "1.5.0",
          "model_name": "DescriptionStyleModel",
          "state": {
            "_model_module": "@jupyter-widgets/controls",
            "_model_module_version": "1.5.0",
            "_model_name": "DescriptionStyleModel",
            "_view_count": null,
            "_view_module": "@jupyter-widgets/base",
            "_view_module_version": "1.2.0",
            "_view_name": "StyleView",
            "description_width": ""
          }
        },
        "c0919f3c8d594911815ce63273f7fe51": {
          "model_module": "@jupyter-widgets/base",
          "model_module_version": "1.2.0",
          "model_name": "LayoutModel",
          "state": {
            "_model_module": "@jupyter-widgets/base",
            "_model_module_version": "1.2.0",
            "_model_name": "LayoutModel",
            "_view_count": null,
            "_view_module": "@jupyter-widgets/base",
            "_view_module_version": "1.2.0",
            "_view_name": "LayoutView",
            "align_content": null,
            "align_items": null,
            "align_self": null,
            "border": null,
            "bottom": null,
            "display": null,
            "flex": null,
            "flex_flow": null,
            "grid_area": null,
            "grid_auto_columns": null,
            "grid_auto_flow": null,
            "grid_auto_rows": null,
            "grid_column": null,
            "grid_gap": null,
            "grid_row": null,
            "grid_template_areas": null,
            "grid_template_columns": null,
            "grid_template_rows": null,
            "height": null,
            "justify_content": null,
            "justify_items": null,
            "left": null,
            "margin": null,
            "max_height": null,
            "max_width": null,
            "min_height": null,
            "min_width": null,
            "object_fit": null,
            "object_position": null,
            "order": null,
            "overflow": null,
            "overflow_x": null,
            "overflow_y": null,
            "padding": null,
            "right": null,
            "top": null,
            "visibility": null,
            "width": null
          }
        },
        "c237b5686d3e48aeb226c87aa703f63d": {
          "model_module": "@jupyter-widgets/controls",
          "model_module_version": "1.5.0",
          "model_name": "DescriptionStyleModel",
          "state": {
            "_model_module": "@jupyter-widgets/controls",
            "_model_module_version": "1.5.0",
            "_model_name": "DescriptionStyleModel",
            "_view_count": null,
            "_view_module": "@jupyter-widgets/base",
            "_view_module_version": "1.2.0",
            "_view_name": "StyleView",
            "description_width": ""
          }
        },
        "cc70741031664fa89bfe8e8e672c5b2b": {
          "model_module": "@jupyter-widgets/base",
          "model_module_version": "1.2.0",
          "model_name": "LayoutModel",
          "state": {
            "_model_module": "@jupyter-widgets/base",
            "_model_module_version": "1.2.0",
            "_model_name": "LayoutModel",
            "_view_count": null,
            "_view_module": "@jupyter-widgets/base",
            "_view_module_version": "1.2.0",
            "_view_name": "LayoutView",
            "align_content": null,
            "align_items": null,
            "align_self": null,
            "border": null,
            "bottom": null,
            "display": null,
            "flex": null,
            "flex_flow": null,
            "grid_area": null,
            "grid_auto_columns": null,
            "grid_auto_flow": null,
            "grid_auto_rows": null,
            "grid_column": null,
            "grid_gap": null,
            "grid_row": null,
            "grid_template_areas": null,
            "grid_template_columns": null,
            "grid_template_rows": null,
            "height": null,
            "justify_content": null,
            "justify_items": null,
            "left": null,
            "margin": null,
            "max_height": null,
            "max_width": null,
            "min_height": null,
            "min_width": null,
            "object_fit": null,
            "object_position": null,
            "order": null,
            "overflow": null,
            "overflow_x": null,
            "overflow_y": null,
            "padding": null,
            "right": null,
            "top": null,
            "visibility": null,
            "width": null
          }
        },
        "ce429683f48349c083e5fc3253a897d7": {
          "model_module": "@jupyter-widgets/controls",
          "model_module_version": "1.5.0",
          "model_name": "HTMLModel",
          "state": {
            "_dom_classes": [],
            "_model_module": "@jupyter-widgets/controls",
            "_model_module_version": "1.5.0",
            "_model_name": "HTMLModel",
            "_view_count": null,
            "_view_module": "@jupyter-widgets/controls",
            "_view_module_version": "1.5.0",
            "_view_name": "HTMLView",
            "description": "",
            "description_tooltip": null,
            "layout": "IPY_MODEL_4246da00789f44e2abce952906bde6f1",
            "placeholder": "​",
            "style": "IPY_MODEL_059588e34a88476eb6bbc1860ddc27ef",
            "value": "Downloading: 100%"
          }
        },
        "d11d94912b26401a860c80eba767907a": {
          "model_module": "@jupyter-widgets/base",
          "model_module_version": "1.2.0",
          "model_name": "LayoutModel",
          "state": {
            "_model_module": "@jupyter-widgets/base",
            "_model_module_version": "1.2.0",
            "_model_name": "LayoutModel",
            "_view_count": null,
            "_view_module": "@jupyter-widgets/base",
            "_view_module_version": "1.2.0",
            "_view_name": "LayoutView",
            "align_content": null,
            "align_items": null,
            "align_self": null,
            "border": null,
            "bottom": null,
            "display": null,
            "flex": null,
            "flex_flow": null,
            "grid_area": null,
            "grid_auto_columns": null,
            "grid_auto_flow": null,
            "grid_auto_rows": null,
            "grid_column": null,
            "grid_gap": null,
            "grid_row": null,
            "grid_template_areas": null,
            "grid_template_columns": null,
            "grid_template_rows": null,
            "height": null,
            "justify_content": null,
            "justify_items": null,
            "left": null,
            "margin": null,
            "max_height": null,
            "max_width": null,
            "min_height": null,
            "min_width": null,
            "object_fit": null,
            "object_position": null,
            "order": null,
            "overflow": null,
            "overflow_x": null,
            "overflow_y": null,
            "padding": null,
            "right": null,
            "top": null,
            "visibility": null,
            "width": null
          }
        },
        "d3b5f5a0d35642e0b606ac63c38f88fa": {
          "model_module": "@jupyter-widgets/base",
          "model_module_version": "1.2.0",
          "model_name": "LayoutModel",
          "state": {
            "_model_module": "@jupyter-widgets/base",
            "_model_module_version": "1.2.0",
            "_model_name": "LayoutModel",
            "_view_count": null,
            "_view_module": "@jupyter-widgets/base",
            "_view_module_version": "1.2.0",
            "_view_name": "LayoutView",
            "align_content": null,
            "align_items": null,
            "align_self": null,
            "border": null,
            "bottom": null,
            "display": null,
            "flex": null,
            "flex_flow": null,
            "grid_area": null,
            "grid_auto_columns": null,
            "grid_auto_flow": null,
            "grid_auto_rows": null,
            "grid_column": null,
            "grid_gap": null,
            "grid_row": null,
            "grid_template_areas": null,
            "grid_template_columns": null,
            "grid_template_rows": null,
            "height": null,
            "justify_content": null,
            "justify_items": null,
            "left": null,
            "margin": null,
            "max_height": null,
            "max_width": null,
            "min_height": null,
            "min_width": null,
            "object_fit": null,
            "object_position": null,
            "order": null,
            "overflow": null,
            "overflow_x": null,
            "overflow_y": null,
            "padding": null,
            "right": null,
            "top": null,
            "visibility": null,
            "width": null
          }
        },
        "db7a9c27eabb4ba391bfb9d819d7a36e": {
          "model_module": "@jupyter-widgets/base",
          "model_module_version": "1.2.0",
          "model_name": "LayoutModel",
          "state": {
            "_model_module": "@jupyter-widgets/base",
            "_model_module_version": "1.2.0",
            "_model_name": "LayoutModel",
            "_view_count": null,
            "_view_module": "@jupyter-widgets/base",
            "_view_module_version": "1.2.0",
            "_view_name": "LayoutView",
            "align_content": null,
            "align_items": null,
            "align_self": null,
            "border": null,
            "bottom": null,
            "display": null,
            "flex": null,
            "flex_flow": null,
            "grid_area": null,
            "grid_auto_columns": null,
            "grid_auto_flow": null,
            "grid_auto_rows": null,
            "grid_column": null,
            "grid_gap": null,
            "grid_row": null,
            "grid_template_areas": null,
            "grid_template_columns": null,
            "grid_template_rows": null,
            "height": null,
            "justify_content": null,
            "justify_items": null,
            "left": null,
            "margin": null,
            "max_height": null,
            "max_width": null,
            "min_height": null,
            "min_width": null,
            "object_fit": null,
            "object_position": null,
            "order": null,
            "overflow": null,
            "overflow_x": null,
            "overflow_y": null,
            "padding": null,
            "right": null,
            "top": null,
            "visibility": null,
            "width": null
          }
        },
        "dd5d9b3f70ee4a0dabe18e87ab38145c": {
          "model_module": "@jupyter-widgets/controls",
          "model_module_version": "1.5.0",
          "model_name": "HBoxModel",
          "state": {
            "_dom_classes": [],
            "_model_module": "@jupyter-widgets/controls",
            "_model_module_version": "1.5.0",
            "_model_name": "HBoxModel",
            "_view_count": null,
            "_view_module": "@jupyter-widgets/controls",
            "_view_module_version": "1.5.0",
            "_view_name": "HBoxView",
            "box_style": "",
            "children": [
              "IPY_MODEL_49f98244a8634be9b2305bb87731e765",
              "IPY_MODEL_a28d3e82e04646b79c89f93cf40ee596"
            ],
            "layout": "IPY_MODEL_4c3e043e600641538a479df6ad389784"
          }
        },
        "de1e5c31eacf4fa59cfa51926354acca": {
          "model_module": "@jupyter-widgets/controls",
          "model_module_version": "1.5.0",
          "model_name": "DescriptionStyleModel",
          "state": {
            "_model_module": "@jupyter-widgets/controls",
            "_model_module_version": "1.5.0",
            "_model_name": "DescriptionStyleModel",
            "_view_count": null,
            "_view_module": "@jupyter-widgets/base",
            "_view_module_version": "1.2.0",
            "_view_name": "StyleView",
            "description_width": ""
          }
        },
        "e575e46791b24f449b8afcb773e46dcc": {
          "model_module": "@jupyter-widgets/controls",
          "model_module_version": "1.5.0",
          "model_name": "DescriptionStyleModel",
          "state": {
            "_model_module": "@jupyter-widgets/controls",
            "_model_module_version": "1.5.0",
            "_model_name": "DescriptionStyleModel",
            "_view_count": null,
            "_view_module": "@jupyter-widgets/base",
            "_view_module_version": "1.2.0",
            "_view_name": "StyleView",
            "description_width": ""
          }
        },
        "e78238c96d6a4152bf40f5d7a81e5495": {
          "model_module": "@jupyter-widgets/controls",
          "model_module_version": "1.5.0",
          "model_name": "HBoxModel",
          "state": {
            "_dom_classes": [],
            "_model_module": "@jupyter-widgets/controls",
            "_model_module_version": "1.5.0",
            "_model_name": "HBoxModel",
            "_view_count": null,
            "_view_module": "@jupyter-widgets/controls",
            "_view_module_version": "1.5.0",
            "_view_name": "HBoxView",
            "box_style": "",
            "children": [
              "IPY_MODEL_75b26f4a95d24e9d8939d1f7b376eb51",
              "IPY_MODEL_f58af0561fc242238cfd0163f0ad5e5f",
              "IPY_MODEL_a1419cc920324f62be58d6e48a82e275"
            ],
            "layout": "IPY_MODEL_6ec3c80319fb45f3b6f7715049c9bce0"
          }
        },
        "e9531fcd48b74929bfdb45cd3f3315e7": {
          "model_module": "@jupyter-widgets/controls",
          "model_module_version": "1.5.0",
          "model_name": "ProgressStyleModel",
          "state": {
            "_model_module": "@jupyter-widgets/controls",
            "_model_module_version": "1.5.0",
            "_model_name": "ProgressStyleModel",
            "_view_count": null,
            "_view_module": "@jupyter-widgets/base",
            "_view_module_version": "1.2.0",
            "_view_name": "StyleView",
            "bar_color": null,
            "description_width": ""
          }
        },
        "eca458b185ae4570b1ec1e77389c871e": {
          "model_module": "@jupyter-widgets/controls",
          "model_module_version": "1.5.0",
          "model_name": "ProgressStyleModel",
          "state": {
            "_model_module": "@jupyter-widgets/controls",
            "_model_module_version": "1.5.0",
            "_model_name": "ProgressStyleModel",
            "_view_count": null,
            "_view_module": "@jupyter-widgets/base",
            "_view_module_version": "1.2.0",
            "_view_name": "StyleView",
            "bar_color": null,
            "description_width": ""
          }
        },
        "f28c64f34f9540b6b6bdc765c84e2307": {
          "model_module": "@jupyter-widgets/base",
          "model_module_version": "1.2.0",
          "model_name": "LayoutModel",
          "state": {
            "_model_module": "@jupyter-widgets/base",
            "_model_module_version": "1.2.0",
            "_model_name": "LayoutModel",
            "_view_count": null,
            "_view_module": "@jupyter-widgets/base",
            "_view_module_version": "1.2.0",
            "_view_name": "LayoutView",
            "align_content": null,
            "align_items": null,
            "align_self": null,
            "border": null,
            "bottom": null,
            "display": null,
            "flex": null,
            "flex_flow": null,
            "grid_area": null,
            "grid_auto_columns": null,
            "grid_auto_flow": null,
            "grid_auto_rows": null,
            "grid_column": null,
            "grid_gap": null,
            "grid_row": null,
            "grid_template_areas": null,
            "grid_template_columns": null,
            "grid_template_rows": null,
            "height": null,
            "justify_content": null,
            "justify_items": null,
            "left": null,
            "margin": null,
            "max_height": null,
            "max_width": null,
            "min_height": null,
            "min_width": null,
            "object_fit": null,
            "object_position": null,
            "order": null,
            "overflow": null,
            "overflow_x": null,
            "overflow_y": null,
            "padding": null,
            "right": null,
            "top": null,
            "visibility": null,
            "width": null
          }
        },
        "f4af6a0756e241e49e5d325f1bdb18b4": {
          "model_module": "@jupyter-widgets/controls",
          "model_module_version": "1.5.0",
          "model_name": "HTMLModel",
          "state": {
            "_dom_classes": [],
            "_model_module": "@jupyter-widgets/controls",
            "_model_module_version": "1.5.0",
            "_model_name": "HTMLModel",
            "_view_count": null,
            "_view_module": "@jupyter-widgets/controls",
            "_view_module_version": "1.5.0",
            "_view_name": "HTMLView",
            "description": "",
            "description_tooltip": null,
            "layout": "IPY_MODEL_349c9e8b2a8846c1bff5a03d2a28066a",
            "placeholder": "​",
            "style": "IPY_MODEL_de1e5c31eacf4fa59cfa51926354acca",
            "value": " 1.18G/1.18G [00:39&lt;00:00, 35.4MB/s]"
          }
        },
        "f58af0561fc242238cfd0163f0ad5e5f": {
          "model_module": "@jupyter-widgets/controls",
          "model_module_version": "1.5.0",
          "model_name": "FloatProgressModel",
          "state": {
            "_dom_classes": [],
            "_model_module": "@jupyter-widgets/controls",
            "_model_module_version": "1.5.0",
            "_model_name": "FloatProgressModel",
            "_view_count": null,
            "_view_module": "@jupyter-widgets/controls",
            "_view_module_version": "1.5.0",
            "_view_name": "ProgressView",
            "bar_style": "success",
            "description": "",
            "description_tooltip": null,
            "layout": "IPY_MODEL_5cff6b2dd6944c59b8c2f205db5f49bf",
            "max": 1,
            "min": 0,
            "orientation": "horizontal",
            "style": "IPY_MODEL_5ba2a38c71e64253a4fd39cf7d3b3326",
            "value": 1
          }
        },
        "f6e0ea791e5a44abb5d5891bb3e254ad": {
          "model_module": "@jupyter-widgets/controls",
          "model_module_version": "1.5.0",
          "model_name": "DescriptionStyleModel",
          "state": {
            "_model_module": "@jupyter-widgets/controls",
            "_model_module_version": "1.5.0",
            "_model_name": "DescriptionStyleModel",
            "_view_count": null,
            "_view_module": "@jupyter-widgets/base",
            "_view_module_version": "1.2.0",
            "_view_name": "StyleView",
            "description_width": ""
          }
        },
        "f6e777f3a1684a7da3efc63281553b5e": {
          "model_module": "@jupyter-widgets/controls",
          "model_module_version": "1.5.0",
          "model_name": "HTMLModel",
          "state": {
            "_dom_classes": [],
            "_model_module": "@jupyter-widgets/controls",
            "_model_module_version": "1.5.0",
            "_model_name": "HTMLModel",
            "_view_count": null,
            "_view_module": "@jupyter-widgets/controls",
            "_view_module_version": "1.5.0",
            "_view_name": "HTMLView",
            "description": "",
            "description_tooltip": null,
            "layout": "IPY_MODEL_db7a9c27eabb4ba391bfb9d819d7a36e",
            "placeholder": "​",
            "style": "IPY_MODEL_fd2ba2bf4b2946078a0761b773626b64",
            "value": "100%"
          }
        },
        "fd2ba2bf4b2946078a0761b773626b64": {
          "model_module": "@jupyter-widgets/controls",
          "model_module_version": "1.5.0",
          "model_name": "DescriptionStyleModel",
          "state": {
            "_model_module": "@jupyter-widgets/controls",
            "_model_module_version": "1.5.0",
            "_model_name": "DescriptionStyleModel",
            "_view_count": null,
            "_view_module": "@jupyter-widgets/base",
            "_view_module_version": "1.2.0",
            "_view_name": "StyleView",
            "description_width": ""
          }
        },
        "fe156fa95ee9410daff8f7c9a8b0d3a3": {
          "model_module": "@jupyter-widgets/base",
          "model_module_version": "1.2.0",
          "model_name": "LayoutModel",
          "state": {
            "_model_module": "@jupyter-widgets/base",
            "_model_module_version": "1.2.0",
            "_model_name": "LayoutModel",
            "_view_count": null,
            "_view_module": "@jupyter-widgets/base",
            "_view_module_version": "1.2.0",
            "_view_name": "LayoutView",
            "align_content": null,
            "align_items": null,
            "align_self": null,
            "border": null,
            "bottom": null,
            "display": null,
            "flex": null,
            "flex_flow": null,
            "grid_area": null,
            "grid_auto_columns": null,
            "grid_auto_flow": null,
            "grid_auto_rows": null,
            "grid_column": null,
            "grid_gap": null,
            "grid_row": null,
            "grid_template_areas": null,
            "grid_template_columns": null,
            "grid_template_rows": null,
            "height": null,
            "justify_content": null,
            "justify_items": null,
            "left": null,
            "margin": null,
            "max_height": null,
            "max_width": null,
            "min_height": null,
            "min_width": null,
            "object_fit": null,
            "object_position": null,
            "order": null,
            "overflow": null,
            "overflow_x": null,
            "overflow_y": null,
            "padding": null,
            "right": null,
            "top": null,
            "visibility": null,
            "width": null
          }
        },
        "ff8e746cf8ef4f988617b8d4c0dd3c9c": {
          "model_module": "@jupyter-widgets/controls",
          "model_module_version": "1.5.0",
          "model_name": "FloatProgressModel",
          "state": {
            "_dom_classes": [],
            "_model_module": "@jupyter-widgets/controls",
            "_model_module_version": "1.5.0",
            "_model_name": "FloatProgressModel",
            "_view_count": null,
            "_view_module": "@jupyter-widgets/controls",
            "_view_module_version": "1.5.0",
            "_view_name": "ProgressView",
            "bar_style": "success",
            "description": "",
            "description_tooltip": null,
            "layout": "IPY_MODEL_5cd8c74ba2e845d498afdc1c25009767",
            "max": 1947,
            "min": 0,
            "orientation": "horizontal",
            "style": "IPY_MODEL_3f0c587f7b764d96837c8e16254aab12",
            "value": 1947
          }
        }
      }
    }
  },
  "nbformat": 4,
  "nbformat_minor": 0
}
