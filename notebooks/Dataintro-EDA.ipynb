{
 "cells": [
  {
   "cell_type": "markdown",
   "metadata": {
    "id": "expected-update"
   },
   "source": [
    "# Load Data - babynames"
   ]
  },
  {
   "cell_type": "code",
   "execution_count": 1,
   "metadata": {
    "colab": {
     "base_uri": "https://localhost:8080/",
     "height": 17,
     "output_embedded_package_id": "1GJoCaGBl-jzwL_4rUPyNfaC-2046fThU"
    },
    "executionInfo": {
     "elapsed": 4340,
     "status": "ok",
     "timestamp": 1629910577028,
     "user": {
      "displayName": "Kaikai Liu",
      "photoUrl": "",
      "userId": "13976416703683897255"
     },
     "user_tz": 420
    },
    "id": "intimate-poland",
    "outputId": "7d922c23-e1d6-4f66-e75a-aad2d4f6be6b"
   },
   "outputs": [
    {
     "data": {
      "text/plain": [
       "Output hidden; open in https://colab.research.google.com to view."
      ]
     },
     "metadata": {},
     "output_type": "display_data"
    }
   ],
   "source": [
    "import pandas as pd\n",
    "import numpy as np\n",
    "np.random.seed(24)\n"
   ]
  },
  {
   "cell_type": "code",
   "execution_count": 2,
   "metadata": {
    "executionInfo": {
     "elapsed": 2842,
     "status": "ok",
     "timestamp": 1629910582677,
     "user": {
      "displayName": "Kaikai Liu",
      "photoUrl": "",
      "userId": "13976416703683897255"
     },
     "user_tz": 420
    },
    "id": "reduced-wilderness"
   },
   "outputs": [],
   "source": [
    "import urllib.request\n",
    "import os.path\n",
    "\n",
    "# Download data from the web directly\n",
    "data_url = \"https://www.ssa.gov/oact/babynames/names.zip\"\n",
    "local_filename = \"babynames.zip\"\n",
    "if not os.path.exists(local_filename): # if the data exists don't download again\n",
    "    with urllib.request.urlopen(data_url) as resp, open(local_filename, 'wb') as f:\n",
    "        f.write(resp.read())"
   ]
  },
  {
   "cell_type": "markdown",
   "metadata": {
    "id": "flexible-walnut"
   },
   "source": [
    "babynames.zip is downloaded in the current folder. Inside the babynames.zip, there are txt files, named from yob1880~yob2020, each txt file contains data like:\n",
    "Olivia,F,17535\n",
    "Emma,F,15581\n",
    "...."
   ]
  },
  {
   "cell_type": "code",
   "execution_count": 72,
   "metadata": {
    "executionInfo": {
     "elapsed": 2199,
     "status": "ok",
     "timestamp": 1629912396351,
     "user": {
      "displayName": "Kaikai Liu",
      "photoUrl": "",
      "userId": "13976416703683897255"
     },
     "user_tz": 420
    },
    "id": "handmade-findings"
   },
   "outputs": [],
   "source": [
    "# Load data without unzipping the file\n",
    "import zipfile\n",
    "babynames = [] \n",
    "local_filename = \"babynames.zip\"\n",
    "with zipfile.ZipFile(local_filename, \"r\") as zf:\n",
    "    data_files = [f for f in zf.filelist if f.filename[-3:] == \"txt\"]\n",
    "    def extract_year_from_filename(fn):\n",
    "        return int(fn[3:7])\n",
    "    for f in data_files:\n",
    "        year = extract_year_from_filename(f.filename)\n",
    "        with zf.open(f) as fp:\n",
    "            df = pd.read_csv(fp, names=[\"Name\", \"Sex\", \"Count\"])\n",
    "            df[\"Year\"] = year\n",
    "            babynames.append(df)\n",
    "babynames = pd.concat(babynames)"
   ]
  },
  {
   "cell_type": "code",
   "execution_count": 73,
   "metadata": {
    "colab": {
     "base_uri": "https://localhost:8080/",
     "height": 203
    },
    "executionInfo": {
     "elapsed": 223,
     "status": "ok",
     "timestamp": 1629912399391,
     "user": {
      "displayName": "Kaikai Liu",
      "photoUrl": "",
      "userId": "13976416703683897255"
     },
     "user_tz": 420
    },
    "id": "elder-mozambique",
    "outputId": "8797b5b6-2f35-49b3-e858-3e1e13e00f1e"
   },
   "outputs": [
    {
     "data": {
      "text/html": [
       "<div>\n",
       "<style scoped>\n",
       "    .dataframe tbody tr th:only-of-type {\n",
       "        vertical-align: middle;\n",
       "    }\n",
       "\n",
       "    .dataframe tbody tr th {\n",
       "        vertical-align: top;\n",
       "    }\n",
       "\n",
       "    .dataframe thead th {\n",
       "        text-align: right;\n",
       "    }\n",
       "</style>\n",
       "<table border=\"1\" class=\"dataframe\">\n",
       "  <thead>\n",
       "    <tr style=\"text-align: right;\">\n",
       "      <th></th>\n",
       "      <th>Name</th>\n",
       "      <th>Sex</th>\n",
       "      <th>Count</th>\n",
       "      <th>Year</th>\n",
       "    </tr>\n",
       "  </thead>\n",
       "  <tbody>\n",
       "    <tr>\n",
       "      <th>0</th>\n",
       "      <td>Mary</td>\n",
       "      <td>F</td>\n",
       "      <td>7065</td>\n",
       "      <td>1880</td>\n",
       "    </tr>\n",
       "    <tr>\n",
       "      <th>1</th>\n",
       "      <td>Anna</td>\n",
       "      <td>F</td>\n",
       "      <td>2604</td>\n",
       "      <td>1880</td>\n",
       "    </tr>\n",
       "    <tr>\n",
       "      <th>2</th>\n",
       "      <td>Emma</td>\n",
       "      <td>F</td>\n",
       "      <td>2003</td>\n",
       "      <td>1880</td>\n",
       "    </tr>\n",
       "    <tr>\n",
       "      <th>3</th>\n",
       "      <td>Elizabeth</td>\n",
       "      <td>F</td>\n",
       "      <td>1939</td>\n",
       "      <td>1880</td>\n",
       "    </tr>\n",
       "    <tr>\n",
       "      <th>4</th>\n",
       "      <td>Minnie</td>\n",
       "      <td>F</td>\n",
       "      <td>1746</td>\n",
       "      <td>1880</td>\n",
       "    </tr>\n",
       "  </tbody>\n",
       "</table>\n",
       "</div>"
      ],
      "text/plain": [
       "        Name Sex  Count  Year\n",
       "0       Mary   F   7065  1880\n",
       "1       Anna   F   2604  1880\n",
       "2       Emma   F   2003  1880\n",
       "3  Elizabeth   F   1939  1880\n",
       "4     Minnie   F   1746  1880"
      ]
     },
     "execution_count": 73,
     "metadata": {},
     "output_type": "execute_result"
    }
   ],
   "source": [
    "babynames.head()"
   ]
  },
  {
   "cell_type": "code",
   "execution_count": 74,
   "metadata": {
    "colab": {
     "base_uri": "https://localhost:8080/",
     "height": 203
    },
    "executionInfo": {
     "elapsed": 127,
     "status": "ok",
     "timestamp": 1629912402843,
     "user": {
      "displayName": "Kaikai Liu",
      "photoUrl": "",
      "userId": "13976416703683897255"
     },
     "user_tz": 420
    },
    "id": "historical-intention",
    "outputId": "82a3465d-d8b8-4855-c05b-c06e3018fa38"
   },
   "outputs": [
    {
     "data": {
      "text/html": [
       "<div>\n",
       "<style scoped>\n",
       "    .dataframe tbody tr th:only-of-type {\n",
       "        vertical-align: middle;\n",
       "    }\n",
       "\n",
       "    .dataframe tbody tr th {\n",
       "        vertical-align: top;\n",
       "    }\n",
       "\n",
       "    .dataframe thead th {\n",
       "        text-align: right;\n",
       "    }\n",
       "</style>\n",
       "<table border=\"1\" class=\"dataframe\">\n",
       "  <thead>\n",
       "    <tr style=\"text-align: right;\">\n",
       "      <th></th>\n",
       "      <th>Name</th>\n",
       "      <th>Sex</th>\n",
       "      <th>Count</th>\n",
       "      <th>Year</th>\n",
       "    </tr>\n",
       "  </thead>\n",
       "  <tbody>\n",
       "    <tr>\n",
       "      <th>31266</th>\n",
       "      <td>Zykell</td>\n",
       "      <td>M</td>\n",
       "      <td>5</td>\n",
       "      <td>2020</td>\n",
       "    </tr>\n",
       "    <tr>\n",
       "      <th>31267</th>\n",
       "      <td>Zylus</td>\n",
       "      <td>M</td>\n",
       "      <td>5</td>\n",
       "      <td>2020</td>\n",
       "    </tr>\n",
       "    <tr>\n",
       "      <th>31268</th>\n",
       "      <td>Zymari</td>\n",
       "      <td>M</td>\n",
       "      <td>5</td>\n",
       "      <td>2020</td>\n",
       "    </tr>\n",
       "    <tr>\n",
       "      <th>31269</th>\n",
       "      <td>Zyn</td>\n",
       "      <td>M</td>\n",
       "      <td>5</td>\n",
       "      <td>2020</td>\n",
       "    </tr>\n",
       "    <tr>\n",
       "      <th>31270</th>\n",
       "      <td>Zyran</td>\n",
       "      <td>M</td>\n",
       "      <td>5</td>\n",
       "      <td>2020</td>\n",
       "    </tr>\n",
       "  </tbody>\n",
       "</table>\n",
       "</div>"
      ],
      "text/plain": [
       "         Name Sex  Count  Year\n",
       "31266  Zykell   M      5  2020\n",
       "31267   Zylus   M      5  2020\n",
       "31268  Zymari   M      5  2020\n",
       "31269     Zyn   M      5  2020\n",
       "31270   Zyran   M      5  2020"
      ]
     },
     "execution_count": 74,
     "metadata": {},
     "output_type": "execute_result"
    }
   ],
   "source": [
    "babynames.tail()"
   ]
  },
  {
   "cell_type": "code",
   "execution_count": 75,
   "metadata": {
    "colab": {
     "base_uri": "https://localhost:8080/",
     "height": 203
    },
    "executionInfo": {
     "elapsed": 1034,
     "status": "ok",
     "timestamp": 1629912407511,
     "user": {
      "displayName": "Kaikai Liu",
      "photoUrl": "",
      "userId": "13976416703683897255"
     },
     "user_tz": 420
    },
    "id": "endless-instrumentation",
    "outputId": "5a9cefb4-69bd-4181-9a1c-15d45393880e"
   },
   "outputs": [
    {
     "data": {
      "text/html": [
       "<div>\n",
       "<style scoped>\n",
       "    .dataframe tbody tr th:only-of-type {\n",
       "        vertical-align: middle;\n",
       "    }\n",
       "\n",
       "    .dataframe tbody tr th {\n",
       "        vertical-align: top;\n",
       "    }\n",
       "\n",
       "    .dataframe thead th {\n",
       "        text-align: right;\n",
       "    }\n",
       "</style>\n",
       "<table border=\"1\" class=\"dataframe\">\n",
       "  <thead>\n",
       "    <tr style=\"text-align: right;\">\n",
       "      <th></th>\n",
       "      <th>Name</th>\n",
       "      <th>Sex</th>\n",
       "      <th>Count</th>\n",
       "      <th>Year</th>\n",
       "    </tr>\n",
       "  </thead>\n",
       "  <tbody>\n",
       "    <tr>\n",
       "      <th>0</th>\n",
       "      <td>mary</td>\n",
       "      <td>F</td>\n",
       "      <td>7065</td>\n",
       "      <td>1880</td>\n",
       "    </tr>\n",
       "    <tr>\n",
       "      <th>1</th>\n",
       "      <td>anna</td>\n",
       "      <td>F</td>\n",
       "      <td>2604</td>\n",
       "      <td>1880</td>\n",
       "    </tr>\n",
       "    <tr>\n",
       "      <th>2</th>\n",
       "      <td>emma</td>\n",
       "      <td>F</td>\n",
       "      <td>2003</td>\n",
       "      <td>1880</td>\n",
       "    </tr>\n",
       "    <tr>\n",
       "      <th>3</th>\n",
       "      <td>elizabeth</td>\n",
       "      <td>F</td>\n",
       "      <td>1939</td>\n",
       "      <td>1880</td>\n",
       "    </tr>\n",
       "    <tr>\n",
       "      <th>4</th>\n",
       "      <td>minnie</td>\n",
       "      <td>F</td>\n",
       "      <td>1746</td>\n",
       "      <td>1880</td>\n",
       "    </tr>\n",
       "  </tbody>\n",
       "</table>\n",
       "</div>"
      ],
      "text/plain": [
       "        Name Sex  Count  Year\n",
       "0       mary   F   7065  1880\n",
       "1       anna   F   2604  1880\n",
       "2       emma   F   2003  1880\n",
       "3  elizabeth   F   1939  1880\n",
       "4     minnie   F   1746  1880"
      ]
     },
     "execution_count": 75,
     "metadata": {},
     "output_type": "execute_result"
    }
   ],
   "source": [
    "babynames['Name'] = babynames['Name'].str.lower()#change name to lower case\n",
    "babynames.head()"
   ]
  },
  {
   "cell_type": "code",
   "execution_count": 76,
   "metadata": {
    "colab": {
     "base_uri": "https://localhost:8080/"
    },
    "executionInfo": {
     "elapsed": 127,
     "status": "ok",
     "timestamp": 1629912412488,
     "user": {
      "displayName": "Kaikai Liu",
      "photoUrl": "",
      "userId": "13976416703683897255"
     },
     "user_tz": 420
    },
    "id": "J1_nXdrBWaSJ",
    "outputId": "12910b03-eb54-49c4-dff8-c2f4f9403336"
   },
   "outputs": [
    {
     "data": {
      "text/plain": [
       "8083452"
      ]
     },
     "execution_count": 76,
     "metadata": {},
     "output_type": "execute_result"
    }
   ],
   "source": [
    "babynames.size"
   ]
  },
  {
   "cell_type": "markdown",
   "metadata": {
    "id": "broad-spyware"
   },
   "source": [
    "# Exploratory Data Analysis (EDA)"
   ]
  },
  {
   "cell_type": "code",
   "execution_count": 77,
   "metadata": {
    "colab": {
     "base_uri": "https://localhost:8080/"
    },
    "executionInfo": {
     "elapsed": 175,
     "status": "ok",
     "timestamp": 1629912416938,
     "user": {
      "displayName": "Kaikai Liu",
      "photoUrl": "",
      "userId": "13976416703683897255"
     },
     "user_tz": 420
    },
    "id": "utility-nomination",
    "outputId": "ce599e82-2c53-4288-a23f-335947aa27ab"
   },
   "outputs": [
    {
     "data": {
      "text/plain": [
       "358480709"
      ]
     },
     "execution_count": 77,
     "metadata": {},
     "output_type": "execute_result"
    }
   ],
   "source": [
    "babynames['Count'].sum()"
   ]
  },
  {
   "cell_type": "code",
   "execution_count": 78,
   "metadata": {
    "colab": {
     "base_uri": "https://localhost:8080/",
     "height": 35
    },
    "executionInfo": {
     "elapsed": 208,
     "status": "ok",
     "timestamp": 1629912419116,
     "user": {
      "displayName": "Kaikai Liu",
      "photoUrl": "",
      "userId": "13976416703683897255"
     },
     "user_tz": 420
    },
    "id": "deluxe-activation",
    "outputId": "34b047ed-8e40-4ad6-8823-8db05dd62578"
   },
   "outputs": [
    {
     "data": {
      "application/vnd.google.colaboratory.intrinsic+json": {
       "type": "string"
      },
      "text/plain": [
       "'358,480,709'"
      ]
     },
     "execution_count": 78,
     "metadata": {},
     "output_type": "execute_result"
    }
   ],
   "source": [
    "format(babynames['Count'].sum(), ',d')    # total number of babies represented"
   ]
  },
  {
   "cell_type": "code",
   "execution_count": 79,
   "metadata": {
    "colab": {
     "base_uri": "https://localhost:8080/",
     "height": 35
    },
    "executionInfo": {
     "elapsed": 172,
     "status": "ok",
     "timestamp": 1629912421018,
     "user": {
      "displayName": "Kaikai Liu",
      "photoUrl": "",
      "userId": "13976416703683897255"
     },
     "user_tz": 420
    },
    "id": "searching-median",
    "outputId": "01b6de18-39f8-425b-9680-41181e0e1eee"
   },
   "outputs": [
    {
     "data": {
      "application/vnd.google.colaboratory.intrinsic+json": {
       "type": "string"
      },
      "text/plain": [
       "'2,020,863'"
      ]
     },
     "execution_count": 79,
     "metadata": {},
     "output_type": "execute_result"
    }
   ],
   "source": [
    "format(babynames.shape[0], ',d')    # total number of names represented"
   ]
  },
  {
   "cell_type": "markdown",
   "metadata": {
    "id": "thorough-march"
   },
   "source": [
    "Trying a simple query:"
   ]
  },
  {
   "cell_type": "code",
   "execution_count": 80,
   "metadata": {
    "colab": {
     "base_uri": "https://localhost:8080/",
     "height": 110
    },
    "executionInfo": {
     "elapsed": 130,
     "status": "ok",
     "timestamp": 1629912424001,
     "user": {
      "displayName": "Kaikai Liu",
      "photoUrl": "",
      "userId": "13976416703683897255"
     },
     "user_tz": 420
    },
    "id": "higher-suspect",
    "outputId": "fe9c9c49-d96d-4f90-d1b8-9b8c0d034ff3"
   },
   "outputs": [
    {
     "data": {
      "text/html": [
       "<div>\n",
       "<style scoped>\n",
       "    .dataframe tbody tr th:only-of-type {\n",
       "        vertical-align: middle;\n",
       "    }\n",
       "\n",
       "    .dataframe tbody tr th {\n",
       "        vertical-align: top;\n",
       "    }\n",
       "\n",
       "    .dataframe thead th {\n",
       "        text-align: right;\n",
       "    }\n",
       "</style>\n",
       "<table border=\"1\" class=\"dataframe\">\n",
       "  <thead>\n",
       "    <tr style=\"text-align: right;\">\n",
       "      <th></th>\n",
       "      <th>Name</th>\n",
       "      <th>Sex</th>\n",
       "      <th>Count</th>\n",
       "      <th>Year</th>\n",
       "    </tr>\n",
       "  </thead>\n",
       "  <tbody>\n",
       "    <tr>\n",
       "      <th>8119</th>\n",
       "      <td>ethan</td>\n",
       "      <td>F</td>\n",
       "      <td>14</td>\n",
       "      <td>2016</td>\n",
       "    </tr>\n",
       "    <tr>\n",
       "      <th>18856</th>\n",
       "      <td>ethan</td>\n",
       "      <td>M</td>\n",
       "      <td>13834</td>\n",
       "      <td>2016</td>\n",
       "    </tr>\n",
       "  </tbody>\n",
       "</table>\n",
       "</div>"
      ],
      "text/plain": [
       "        Name Sex  Count  Year\n",
       "8119   ethan   F     14  2016\n",
       "18856  ethan   M  13834  2016"
      ]
     },
     "execution_count": 80,
     "metadata": {},
     "output_type": "execute_result"
    }
   ],
   "source": [
    "babynames[(babynames['Name'] == 'ethan') & (babynames['Year'] == 2016)]"
   ]
  },
  {
   "cell_type": "markdown",
   "metadata": {
    "id": "bzmL10kXRYCE"
   },
   "source": [
    "## Pivot Table"
   ]
  },
  {
   "cell_type": "markdown",
   "metadata": {
    "id": "Mpr0DYiLQp_o"
   },
   "source": [
    "How to group data using index in a pivot table?\n",
    "pivot_table requires a data and an index parameter\n",
    "data is the Pandas dataframe you pass to the function\n",
    "index is the feature that allows you to group your data. The index feature will appear as an index in the resultant table\n",
    "ref: https://pandas.pydata.org/docs/reference/api/pandas.pivot_table.html\n"
   ]
  },
  {
   "cell_type": "code",
   "execution_count": 81,
   "metadata": {
    "executionInfo": {
     "elapsed": 136,
     "status": "ok",
     "timestamp": 1629912431253,
     "user": {
      "displayName": "Kaikai Liu",
      "photoUrl": "",
      "userId": "13976416703683897255"
     },
     "user_tz": 420
    },
    "id": "h5eOriZUQ80p"
   },
   "outputs": [],
   "source": [
    "pdsex = pd.pivot_table(babynames, \n",
    "        index=['Sex', 'Year'], # the row index\n",
    "        aggfunc='sum'\n",
    "    )"
   ]
  },
  {
   "cell_type": "code",
   "execution_count": 82,
   "metadata": {
    "colab": {
     "base_uri": "https://localhost:8080/",
     "height": 447
    },
    "executionInfo": {
     "elapsed": 131,
     "status": "ok",
     "timestamp": 1629912432807,
     "user": {
      "displayName": "Kaikai Liu",
      "photoUrl": "",
      "userId": "13976416703683897255"
     },
     "user_tz": 420
    },
    "id": "461-qJgYRH3y",
    "outputId": "99c4284e-658b-4f43-a615-9f30146d923f"
   },
   "outputs": [
    {
     "data": {
      "text/html": [
       "<div>\n",
       "<style scoped>\n",
       "    .dataframe tbody tr th:only-of-type {\n",
       "        vertical-align: middle;\n",
       "    }\n",
       "\n",
       "    .dataframe tbody tr th {\n",
       "        vertical-align: top;\n",
       "    }\n",
       "\n",
       "    .dataframe thead th {\n",
       "        text-align: right;\n",
       "    }\n",
       "</style>\n",
       "<table border=\"1\" class=\"dataframe\">\n",
       "  <thead>\n",
       "    <tr style=\"text-align: right;\">\n",
       "      <th></th>\n",
       "      <th></th>\n",
       "      <th>Count</th>\n",
       "    </tr>\n",
       "    <tr>\n",
       "      <th>Sex</th>\n",
       "      <th>Year</th>\n",
       "      <th></th>\n",
       "    </tr>\n",
       "  </thead>\n",
       "  <tbody>\n",
       "    <tr>\n",
       "      <th rowspan=\"5\" valign=\"top\">F</th>\n",
       "      <th>1880</th>\n",
       "      <td>90994</td>\n",
       "    </tr>\n",
       "    <tr>\n",
       "      <th>1881</th>\n",
       "      <td>91953</td>\n",
       "    </tr>\n",
       "    <tr>\n",
       "      <th>1882</th>\n",
       "      <td>107847</td>\n",
       "    </tr>\n",
       "    <tr>\n",
       "      <th>1883</th>\n",
       "      <td>112319</td>\n",
       "    </tr>\n",
       "    <tr>\n",
       "      <th>1884</th>\n",
       "      <td>129019</td>\n",
       "    </tr>\n",
       "    <tr>\n",
       "      <th>...</th>\n",
       "      <th>...</th>\n",
       "      <td>...</td>\n",
       "    </tr>\n",
       "    <tr>\n",
       "      <th rowspan=\"5\" valign=\"top\">M</th>\n",
       "      <th>2016</th>\n",
       "      <td>1893917</td>\n",
       "    </tr>\n",
       "    <tr>\n",
       "      <th>2017</th>\n",
       "      <td>1846154</td>\n",
       "    </tr>\n",
       "    <tr>\n",
       "      <th>2018</th>\n",
       "      <td>1810309</td>\n",
       "    </tr>\n",
       "    <tr>\n",
       "      <th>2019</th>\n",
       "      <td>1785527</td>\n",
       "    </tr>\n",
       "    <tr>\n",
       "      <th>2020</th>\n",
       "      <td>1706423</td>\n",
       "    </tr>\n",
       "  </tbody>\n",
       "</table>\n",
       "<p>282 rows × 1 columns</p>\n",
       "</div>"
      ],
      "text/plain": [
       "            Count\n",
       "Sex Year         \n",
       "F   1880    90994\n",
       "    1881    91953\n",
       "    1882   107847\n",
       "    1883   112319\n",
       "    1884   129019\n",
       "...           ...\n",
       "M   2016  1893917\n",
       "    2017  1846154\n",
       "    2018  1810309\n",
       "    2019  1785527\n",
       "    2020  1706423\n",
       "\n",
       "[282 rows x 1 columns]"
      ]
     },
     "execution_count": 82,
     "metadata": {},
     "output_type": "execute_result"
    }
   ],
   "source": [
    "pdsex"
   ]
  },
  {
   "cell_type": "code",
   "execution_count": 83,
   "metadata": {
    "executionInfo": {
     "elapsed": 167,
     "status": "ok",
     "timestamp": 1629912470990,
     "user": {
      "displayName": "Kaikai Liu",
      "photoUrl": "",
      "userId": "13976416703683897255"
     },
     "user_tz": 420
    },
    "id": "6oJXAdYLU7__"
   },
   "outputs": [],
   "source": [
    "subset=babynames[(babynames['Year'] > 2000)].copy()"
   ]
  },
  {
   "cell_type": "code",
   "execution_count": 84,
   "metadata": {
    "colab": {
     "base_uri": "https://localhost:8080/",
     "height": 417
    },
    "executionInfo": {
     "elapsed": 134,
     "status": "ok",
     "timestamp": 1629912472843,
     "user": {
      "displayName": "Kaikai Liu",
      "photoUrl": "",
      "userId": "13976416703683897255"
     },
     "user_tz": 420
    },
    "id": "QWJK5kuRVNYV",
    "outputId": "406d6e41-050e-49c2-e302-d28ec549d306"
   },
   "outputs": [
    {
     "data": {
      "text/html": [
       "<div>\n",
       "<style scoped>\n",
       "    .dataframe tbody tr th:only-of-type {\n",
       "        vertical-align: middle;\n",
       "    }\n",
       "\n",
       "    .dataframe tbody tr th {\n",
       "        vertical-align: top;\n",
       "    }\n",
       "\n",
       "    .dataframe thead th {\n",
       "        text-align: right;\n",
       "    }\n",
       "</style>\n",
       "<table border=\"1\" class=\"dataframe\">\n",
       "  <thead>\n",
       "    <tr style=\"text-align: right;\">\n",
       "      <th></th>\n",
       "      <th>Name</th>\n",
       "      <th>Sex</th>\n",
       "      <th>Count</th>\n",
       "      <th>Year</th>\n",
       "    </tr>\n",
       "  </thead>\n",
       "  <tbody>\n",
       "    <tr>\n",
       "      <th>0</th>\n",
       "      <td>emily</td>\n",
       "      <td>F</td>\n",
       "      <td>25057</td>\n",
       "      <td>2001</td>\n",
       "    </tr>\n",
       "    <tr>\n",
       "      <th>1</th>\n",
       "      <td>madison</td>\n",
       "      <td>F</td>\n",
       "      <td>22166</td>\n",
       "      <td>2001</td>\n",
       "    </tr>\n",
       "    <tr>\n",
       "      <th>2</th>\n",
       "      <td>hannah</td>\n",
       "      <td>F</td>\n",
       "      <td>20720</td>\n",
       "      <td>2001</td>\n",
       "    </tr>\n",
       "    <tr>\n",
       "      <th>3</th>\n",
       "      <td>ashley</td>\n",
       "      <td>F</td>\n",
       "      <td>16528</td>\n",
       "      <td>2001</td>\n",
       "    </tr>\n",
       "    <tr>\n",
       "      <th>4</th>\n",
       "      <td>alexis</td>\n",
       "      <td>F</td>\n",
       "      <td>16402</td>\n",
       "      <td>2001</td>\n",
       "    </tr>\n",
       "    <tr>\n",
       "      <th>...</th>\n",
       "      <td>...</td>\n",
       "      <td>...</td>\n",
       "      <td>...</td>\n",
       "      <td>...</td>\n",
       "    </tr>\n",
       "    <tr>\n",
       "      <th>31266</th>\n",
       "      <td>zykell</td>\n",
       "      <td>M</td>\n",
       "      <td>5</td>\n",
       "      <td>2020</td>\n",
       "    </tr>\n",
       "    <tr>\n",
       "      <th>31267</th>\n",
       "      <td>zylus</td>\n",
       "      <td>M</td>\n",
       "      <td>5</td>\n",
       "      <td>2020</td>\n",
       "    </tr>\n",
       "    <tr>\n",
       "      <th>31268</th>\n",
       "      <td>zymari</td>\n",
       "      <td>M</td>\n",
       "      <td>5</td>\n",
       "      <td>2020</td>\n",
       "    </tr>\n",
       "    <tr>\n",
       "      <th>31269</th>\n",
       "      <td>zyn</td>\n",
       "      <td>M</td>\n",
       "      <td>5</td>\n",
       "      <td>2020</td>\n",
       "    </tr>\n",
       "    <tr>\n",
       "      <th>31270</th>\n",
       "      <td>zyran</td>\n",
       "      <td>M</td>\n",
       "      <td>5</td>\n",
       "      <td>2020</td>\n",
       "    </tr>\n",
       "  </tbody>\n",
       "</table>\n",
       "<p>658127 rows × 4 columns</p>\n",
       "</div>"
      ],
      "text/plain": [
       "          Name Sex  Count  Year\n",
       "0        emily   F  25057  2001\n",
       "1      madison   F  22166  2001\n",
       "2       hannah   F  20720  2001\n",
       "3       ashley   F  16528  2001\n",
       "4       alexis   F  16402  2001\n",
       "...        ...  ..    ...   ...\n",
       "31266   zykell   M      5  2020\n",
       "31267    zylus   M      5  2020\n",
       "31268   zymari   M      5  2020\n",
       "31269      zyn   M      5  2020\n",
       "31270    zyran   M      5  2020\n",
       "\n",
       "[658127 rows x 4 columns]"
      ]
     },
     "execution_count": 84,
     "metadata": {},
     "output_type": "execute_result"
    }
   ],
   "source": [
    "subset"
   ]
  },
  {
   "cell_type": "code",
   "execution_count": 86,
   "metadata": {
    "executionInfo": {
     "elapsed": 215,
     "status": "ok",
     "timestamp": 1629912492486,
     "user": {
      "displayName": "Kaikai Liu",
      "photoUrl": "",
      "userId": "13976416703683897255"
     },
     "user_tz": 420
    },
    "id": "_gGmeQIiVEXa"
   },
   "outputs": [],
   "source": [
    "pdonesex = pd.pivot_table(subset, \n",
    "        index=['Year'], # the row index\n",
    "        aggfunc='sum'\n",
    "    )"
   ]
  },
  {
   "cell_type": "code",
   "execution_count": 87,
   "metadata": {
    "colab": {
     "base_uri": "https://localhost:8080/",
     "height": 696
    },
    "executionInfo": {
     "elapsed": 134,
     "status": "ok",
     "timestamp": 1629912495126,
     "user": {
      "displayName": "Kaikai Liu",
      "photoUrl": "",
      "userId": "13976416703683897255"
     },
     "user_tz": 420
    },
    "id": "-r_HidXKVHUD",
    "outputId": "56072740-0851-438a-c243-6ecd72296855"
   },
   "outputs": [
    {
     "data": {
      "text/html": [
       "<div>\n",
       "<style scoped>\n",
       "    .dataframe tbody tr th:only-of-type {\n",
       "        vertical-align: middle;\n",
       "    }\n",
       "\n",
       "    .dataframe tbody tr th {\n",
       "        vertical-align: top;\n",
       "    }\n",
       "\n",
       "    .dataframe thead th {\n",
       "        text-align: right;\n",
       "    }\n",
       "</style>\n",
       "<table border=\"1\" class=\"dataframe\">\n",
       "  <thead>\n",
       "    <tr style=\"text-align: right;\">\n",
       "      <th></th>\n",
       "      <th>Count</th>\n",
       "    </tr>\n",
       "    <tr>\n",
       "      <th>Year</th>\n",
       "      <th></th>\n",
       "    </tr>\n",
       "  </thead>\n",
       "  <tbody>\n",
       "    <tr>\n",
       "      <th>2001</th>\n",
       "      <td>3742401</td>\n",
       "    </tr>\n",
       "    <tr>\n",
       "      <th>2002</th>\n",
       "      <td>3737195</td>\n",
       "    </tr>\n",
       "    <tr>\n",
       "      <th>2003</th>\n",
       "      <td>3801147</td>\n",
       "    </tr>\n",
       "    <tr>\n",
       "      <th>2004</th>\n",
       "      <td>3819591</td>\n",
       "    </tr>\n",
       "    <tr>\n",
       "      <th>2005</th>\n",
       "      <td>3843322</td>\n",
       "    </tr>\n",
       "    <tr>\n",
       "      <th>2006</th>\n",
       "      <td>3954356</td>\n",
       "    </tr>\n",
       "    <tr>\n",
       "      <th>2007</th>\n",
       "      <td>3995740</td>\n",
       "    </tr>\n",
       "    <tr>\n",
       "      <th>2008</th>\n",
       "      <td>3928389</td>\n",
       "    </tr>\n",
       "    <tr>\n",
       "      <th>2009</th>\n",
       "      <td>3817731</td>\n",
       "    </tr>\n",
       "    <tr>\n",
       "      <th>2010</th>\n",
       "      <td>3693163</td>\n",
       "    </tr>\n",
       "    <tr>\n",
       "      <th>2011</th>\n",
       "      <td>3654691</td>\n",
       "    </tr>\n",
       "    <tr>\n",
       "      <th>2012</th>\n",
       "      <td>3653979</td>\n",
       "    </tr>\n",
       "    <tr>\n",
       "      <th>2013</th>\n",
       "      <td>3641604</td>\n",
       "    </tr>\n",
       "    <tr>\n",
       "      <th>2014</th>\n",
       "      <td>3701784</td>\n",
       "    </tr>\n",
       "    <tr>\n",
       "      <th>2015</th>\n",
       "      <td>3695531</td>\n",
       "    </tr>\n",
       "    <tr>\n",
       "      <th>2016</th>\n",
       "      <td>3662277</td>\n",
       "    </tr>\n",
       "    <tr>\n",
       "      <th>2017</th>\n",
       "      <td>3568294</td>\n",
       "    </tr>\n",
       "    <tr>\n",
       "      <th>2018</th>\n",
       "      <td>3505963</td>\n",
       "    </tr>\n",
       "    <tr>\n",
       "      <th>2019</th>\n",
       "      <td>3455946</td>\n",
       "    </tr>\n",
       "    <tr>\n",
       "      <th>2020</th>\n",
       "      <td>3305259</td>\n",
       "    </tr>\n",
       "  </tbody>\n",
       "</table>\n",
       "</div>"
      ],
      "text/plain": [
       "        Count\n",
       "Year         \n",
       "2001  3742401\n",
       "2002  3737195\n",
       "2003  3801147\n",
       "2004  3819591\n",
       "2005  3843322\n",
       "2006  3954356\n",
       "2007  3995740\n",
       "2008  3928389\n",
       "2009  3817731\n",
       "2010  3693163\n",
       "2011  3654691\n",
       "2012  3653979\n",
       "2013  3641604\n",
       "2014  3701784\n",
       "2015  3695531\n",
       "2016  3662277\n",
       "2017  3568294\n",
       "2018  3505963\n",
       "2019  3455946\n",
       "2020  3305259"
      ]
     },
     "execution_count": 87,
     "metadata": {},
     "output_type": "execute_result"
    }
   ],
   "source": [
    "pdonesex"
   ]
  },
  {
   "cell_type": "code",
   "execution_count": 88,
   "metadata": {
    "colab": {
     "base_uri": "https://localhost:8080/",
     "height": 306
    },
    "executionInfo": {
     "elapsed": 492,
     "status": "ok",
     "timestamp": 1629912499270,
     "user": {
      "displayName": "Kaikai Liu",
      "photoUrl": "",
      "userId": "13976416703683897255"
     },
     "user_tz": 420
    },
    "id": "9Tj7LZT7UnYv",
    "outputId": "10505c81-2693-4fac-cba4-cfde4b8b3707"
   },
   "outputs": [
    {
     "data": {
      "image/png": "[encoded data removed]",
      "text/plain": [
       "<Figure size 432x288 with 1 Axes>"
      ]
     },
     "metadata": {
      "needs_background": "light"
     },
     "output_type": "display_data"
    }
   ],
   "source": [
    "pdonesex.plot(kind='bar');"
   ]
  },
  {
   "cell_type": "markdown",
   "metadata": {
    "id": "piano-placement"
   },
   "source": [
    "Proportion of Male and Female Individuals Over Time"
   ]
  },
  {
   "cell_type": "markdown",
   "metadata": {
    "id": "protecting-figure"
   },
   "source": [
    "In this example we construct a **pivot table** which aggregates the number of babies registered for each year by `Sex`."
   ]
  },
  {
   "cell_type": "code",
   "execution_count": 89,
   "metadata": {
    "colab": {
     "base_uri": "https://localhost:8080/",
     "height": 234
    },
    "executionInfo": {
     "elapsed": 129,
     "status": "ok",
     "timestamp": 1629912502295,
     "user": {
      "displayName": "Kaikai Liu",
      "photoUrl": "",
      "userId": "13976416703683897255"
     },
     "user_tz": 420
    },
    "id": "appointed-journalism",
    "outputId": "54c5da1e-4b55-4e12-c763-f92da939af62"
   },
   "outputs": [
    {
     "data": {
      "text/html": [
       "<div>\n",
       "<style scoped>\n",
       "    .dataframe tbody tr th:only-of-type {\n",
       "        vertical-align: middle;\n",
       "    }\n",
       "\n",
       "    .dataframe tbody tr th {\n",
       "        vertical-align: top;\n",
       "    }\n",
       "\n",
       "    .dataframe thead th {\n",
       "        text-align: right;\n",
       "    }\n",
       "</style>\n",
       "<table border=\"1\" class=\"dataframe\">\n",
       "  <thead>\n",
       "    <tr style=\"text-align: right;\">\n",
       "      <th>Sex</th>\n",
       "      <th>F</th>\n",
       "      <th>M</th>\n",
       "    </tr>\n",
       "    <tr>\n",
       "      <th>Year</th>\n",
       "      <th></th>\n",
       "      <th></th>\n",
       "    </tr>\n",
       "  </thead>\n",
       "  <tbody>\n",
       "    <tr>\n",
       "      <th>2001</th>\n",
       "      <td>1800081</td>\n",
       "      <td>1942320</td>\n",
       "    </tr>\n",
       "    <tr>\n",
       "      <th>2002</th>\n",
       "      <td>1796311</td>\n",
       "      <td>1940884</td>\n",
       "    </tr>\n",
       "    <tr>\n",
       "      <th>2003</th>\n",
       "      <td>1826525</td>\n",
       "      <td>1974622</td>\n",
       "    </tr>\n",
       "    <tr>\n",
       "      <th>2004</th>\n",
       "      <td>1835493</td>\n",
       "      <td>1984098</td>\n",
       "    </tr>\n",
       "    <tr>\n",
       "      <th>2005</th>\n",
       "      <td>1846945</td>\n",
       "      <td>1996377</td>\n",
       "    </tr>\n",
       "  </tbody>\n",
       "</table>\n",
       "</div>"
      ],
      "text/plain": [
       "Sex         F        M\n",
       "Year                  \n",
       "2001  1800081  1942320\n",
       "2002  1796311  1940884\n",
       "2003  1826525  1974622\n",
       "2004  1835493  1984098\n",
       "2005  1846945  1996377"
      ]
     },
     "execution_count": 89,
     "metadata": {},
     "output_type": "execute_result"
    }
   ],
   "source": [
    "year_sex = pd.pivot_table(subset, \n",
    "        index=['Year'], # the row index\n",
    "        columns=['Sex'], # the column values\n",
    "        values='Count', # the field(s) to processed in each group\n",
    "        aggfunc=np.sum,\n",
    "    )\n",
    "\n",
    "year_sex.head()"
   ]
  },
  {
   "cell_type": "code",
   "execution_count": 90,
   "metadata": {
    "colab": {
     "base_uri": "https://localhost:8080/",
     "height": 306
    },
    "executionInfo": {
     "elapsed": 457,
     "status": "ok",
     "timestamp": 1629912505625,
     "user": {
      "displayName": "Kaikai Liu",
      "photoUrl": "",
      "userId": "13976416703683897255"
     },
     "user_tz": 420
    },
    "id": "ZASxARAaUuRm",
    "outputId": "38d877e7-2b48-4b27-ec7e-133153b1ce80"
   },
   "outputs": [
    {
     "data": {
      "image/png": "[encoded data removed]",
      "text/plain": [
       "<Figure size 432x288 with 1 Axes>"
      ]
     },
     "metadata": {
      "needs_background": "light"
     },
     "output_type": "display_data"
    }
   ],
   "source": [
    "year_sex.plot(kind='bar');"
   ]
  },
  {
   "cell_type": "markdown",
   "metadata": {
    "id": "-wOhyikyS_-H"
   },
   "source": [
    "margins: bool, default False\n",
    "Add all row / columns (e.g. for subtotal / grand totals)."
   ]
  },
  {
   "cell_type": "code",
   "execution_count": 91,
   "metadata": {
    "colab": {
     "base_uri": "https://localhost:8080/",
     "height": 417
    },
    "executionInfo": {
     "elapsed": 140,
     "status": "ok",
     "timestamp": 1629912509165,
     "user": {
      "displayName": "Kaikai Liu",
      "photoUrl": "",
      "userId": "13976416703683897255"
     },
     "user_tz": 420
    },
    "id": "Le_fQxGoWCtB",
    "outputId": "5a6e213c-fdcf-4161-faec-590088dc810d"
   },
   "outputs": [
    {
     "data": {
      "text/html": [
       "<div>\n",
       "<style scoped>\n",
       "    .dataframe tbody tr th:only-of-type {\n",
       "        vertical-align: middle;\n",
       "    }\n",
       "\n",
       "    .dataframe tbody tr th {\n",
       "        vertical-align: top;\n",
       "    }\n",
       "\n",
       "    .dataframe thead th {\n",
       "        text-align: right;\n",
       "    }\n",
       "</style>\n",
       "<table border=\"1\" class=\"dataframe\">\n",
       "  <thead>\n",
       "    <tr style=\"text-align: right;\">\n",
       "      <th></th>\n",
       "      <th>Name</th>\n",
       "      <th>Sex</th>\n",
       "      <th>Count</th>\n",
       "      <th>Year</th>\n",
       "    </tr>\n",
       "  </thead>\n",
       "  <tbody>\n",
       "    <tr>\n",
       "      <th>0</th>\n",
       "      <td>mary</td>\n",
       "      <td>F</td>\n",
       "      <td>7065</td>\n",
       "      <td>1880</td>\n",
       "    </tr>\n",
       "    <tr>\n",
       "      <th>1</th>\n",
       "      <td>anna</td>\n",
       "      <td>F</td>\n",
       "      <td>2604</td>\n",
       "      <td>1880</td>\n",
       "    </tr>\n",
       "    <tr>\n",
       "      <th>2</th>\n",
       "      <td>emma</td>\n",
       "      <td>F</td>\n",
       "      <td>2003</td>\n",
       "      <td>1880</td>\n",
       "    </tr>\n",
       "    <tr>\n",
       "      <th>3</th>\n",
       "      <td>elizabeth</td>\n",
       "      <td>F</td>\n",
       "      <td>1939</td>\n",
       "      <td>1880</td>\n",
       "    </tr>\n",
       "    <tr>\n",
       "      <th>4</th>\n",
       "      <td>minnie</td>\n",
       "      <td>F</td>\n",
       "      <td>1746</td>\n",
       "      <td>1880</td>\n",
       "    </tr>\n",
       "    <tr>\n",
       "      <th>...</th>\n",
       "      <td>...</td>\n",
       "      <td>...</td>\n",
       "      <td>...</td>\n",
       "      <td>...</td>\n",
       "    </tr>\n",
       "    <tr>\n",
       "      <th>31266</th>\n",
       "      <td>zykell</td>\n",
       "      <td>M</td>\n",
       "      <td>5</td>\n",
       "      <td>2020</td>\n",
       "    </tr>\n",
       "    <tr>\n",
       "      <th>31267</th>\n",
       "      <td>zylus</td>\n",
       "      <td>M</td>\n",
       "      <td>5</td>\n",
       "      <td>2020</td>\n",
       "    </tr>\n",
       "    <tr>\n",
       "      <th>31268</th>\n",
       "      <td>zymari</td>\n",
       "      <td>M</td>\n",
       "      <td>5</td>\n",
       "      <td>2020</td>\n",
       "    </tr>\n",
       "    <tr>\n",
       "      <th>31269</th>\n",
       "      <td>zyn</td>\n",
       "      <td>M</td>\n",
       "      <td>5</td>\n",
       "      <td>2020</td>\n",
       "    </tr>\n",
       "    <tr>\n",
       "      <th>31270</th>\n",
       "      <td>zyran</td>\n",
       "      <td>M</td>\n",
       "      <td>5</td>\n",
       "      <td>2020</td>\n",
       "    </tr>\n",
       "  </tbody>\n",
       "</table>\n",
       "<p>2020863 rows × 4 columns</p>\n",
       "</div>"
      ],
      "text/plain": [
       "            Name Sex  Count  Year\n",
       "0           mary   F   7065  1880\n",
       "1           anna   F   2604  1880\n",
       "2           emma   F   2003  1880\n",
       "3      elizabeth   F   1939  1880\n",
       "4         minnie   F   1746  1880\n",
       "...          ...  ..    ...   ...\n",
       "31266     zykell   M      5  2020\n",
       "31267      zylus   M      5  2020\n",
       "31268     zymari   M      5  2020\n",
       "31269        zyn   M      5  2020\n",
       "31270      zyran   M      5  2020\n",
       "\n",
       "[2020863 rows x 4 columns]"
      ]
     },
     "execution_count": 91,
     "metadata": {},
     "output_type": "execute_result"
    }
   ],
   "source": [
    "babynames"
   ]
  },
  {
   "cell_type": "code",
   "execution_count": 97,
   "metadata": {
    "colab": {
     "base_uri": "https://localhost:8080/",
     "height": 234
    },
    "executionInfo": {
     "elapsed": 2214,
     "status": "ok",
     "timestamp": 1629912562913,
     "user": {
      "displayName": "Kaikai Liu",
      "photoUrl": "",
      "userId": "13976416703683897255"
     },
     "user_tz": 420
    },
    "id": "romantic-injection",
    "outputId": "fed38108-30ae-4a58-bcfa-765e358069b8"
   },
   "outputs": [
    {
     "data": {
      "text/html": [
       "<div>\n",
       "<style scoped>\n",
       "    .dataframe tbody tr th:only-of-type {\n",
       "        vertical-align: middle;\n",
       "    }\n",
       "\n",
       "    .dataframe tbody tr th {\n",
       "        vertical-align: top;\n",
       "    }\n",
       "\n",
       "    .dataframe thead th {\n",
       "        text-align: right;\n",
       "    }\n",
       "</style>\n",
       "<table border=\"1\" class=\"dataframe\">\n",
       "  <thead>\n",
       "    <tr style=\"text-align: right;\">\n",
       "      <th>Sex</th>\n",
       "      <th>F</th>\n",
       "      <th>M</th>\n",
       "      <th>All</th>\n",
       "    </tr>\n",
       "    <tr>\n",
       "      <th>Name</th>\n",
       "      <th></th>\n",
       "      <th></th>\n",
       "      <th></th>\n",
       "    </tr>\n",
       "  </thead>\n",
       "  <tbody>\n",
       "    <tr>\n",
       "      <th>aaban</th>\n",
       "      <td>0</td>\n",
       "      <td>120</td>\n",
       "      <td>120</td>\n",
       "    </tr>\n",
       "    <tr>\n",
       "      <th>aabha</th>\n",
       "      <td>46</td>\n",
       "      <td>0</td>\n",
       "      <td>46</td>\n",
       "    </tr>\n",
       "    <tr>\n",
       "      <th>aabid</th>\n",
       "      <td>0</td>\n",
       "      <td>16</td>\n",
       "      <td>16</td>\n",
       "    </tr>\n",
       "    <tr>\n",
       "      <th>aabidah</th>\n",
       "      <td>5</td>\n",
       "      <td>0</td>\n",
       "      <td>5</td>\n",
       "    </tr>\n",
       "    <tr>\n",
       "      <th>aabir</th>\n",
       "      <td>0</td>\n",
       "      <td>10</td>\n",
       "      <td>10</td>\n",
       "    </tr>\n",
       "  </tbody>\n",
       "</table>\n",
       "</div>"
      ],
      "text/plain": [
       "Sex       F    M  All\n",
       "Name                 \n",
       "aaban     0  120  120\n",
       "aabha    46    0   46\n",
       "aabid     0   16   16\n",
       "aabidah   5    0    5\n",
       "aabir     0   10   10"
      ]
     },
     "execution_count": 97,
     "metadata": {},
     "output_type": "execute_result"
    }
   ],
   "source": [
    "pdname_sex = pd.pivot_table(babynames, index='Name', columns='Sex', values='Count',\n",
    "                            aggfunc='sum', fill_value=0., margins=True)\n",
    "pdname_sex.head()"
   ]
  },
  {
   "cell_type": "code",
   "execution_count": 98,
   "metadata": {
    "executionInfo": {
     "elapsed": 167,
     "status": "ok",
     "timestamp": 1629912574577,
     "user": {
      "displayName": "Kaikai Liu",
      "photoUrl": "",
      "userId": "13976416703683897255"
     },
     "user_tz": 420
    },
    "id": "ZROlb7Q6Tbc-"
   },
   "outputs": [],
   "source": [
    "#Compute proportion of female babies given each name.\n",
    "prop_female = (pdname_sex['F'] / pdname_sex['All'])"
   ]
  },
  {
   "cell_type": "code",
   "execution_count": 99,
   "metadata": {
    "colab": {
     "base_uri": "https://localhost:8080/"
    },
    "executionInfo": {
     "elapsed": 2,
     "status": "ok",
     "timestamp": 1629912576441,
     "user": {
      "displayName": "Kaikai Liu",
      "photoUrl": "",
      "userId": "13976416703683897255"
     },
     "user_tz": 420
    },
    "id": "LB6kbSTwTchq",
    "outputId": "55c1fea6-76c6-44e1-ef36-205274e51e20"
   },
   "outputs": [
    {
     "data": {
      "text/plain": [
       "Name\n",
       "aaban      0.000000\n",
       "aabha      1.000000\n",
       "aabid      0.000000\n",
       "aabidah    1.000000\n",
       "aabir      0.000000\n",
       "             ...   \n",
       "zyvon      0.000000\n",
       "zyyanna    1.000000\n",
       "zyyon      0.000000\n",
       "zzyzx      0.000000\n",
       "All        0.494806\n",
       "Length: 100365, dtype: float64"
      ]
     },
     "execution_count": 99,
     "metadata": {},
     "output_type": "execute_result"
    }
   ],
   "source": [
    "prop_female"
   ]
  },
  {
   "cell_type": "markdown",
   "metadata": {
    "id": "2JF_Du8zT16t"
   },
   "source": [
    "Testing a few names"
   ]
  },
  {
   "cell_type": "code",
   "execution_count": 100,
   "metadata": {
    "colab": {
     "base_uri": "https://localhost:8080/"
    },
    "executionInfo": {
     "elapsed": 152,
     "status": "ok",
     "timestamp": 1629912595132,
     "user": {
      "displayName": "Kaikai Liu",
      "photoUrl": "",
      "userId": "13976416703683897255"
     },
     "user_tz": 420
    },
    "id": "ggZbyKi0TtYQ",
    "outputId": "4698639d-7df8-47aa-ae1d-d586810b638c"
   },
   "outputs": [
    {
     "data": {
      "text/plain": [
       "0.0"
      ]
     },
     "execution_count": 100,
     "metadata": {},
     "output_type": "execute_result"
    }
   ],
   "source": [
    "prop_female['aadan']"
   ]
  },
  {
   "cell_type": "code",
   "execution_count": 101,
   "metadata": {
    "colab": {
     "base_uri": "https://localhost:8080/"
    },
    "executionInfo": {
     "elapsed": 148,
     "status": "ok",
     "timestamp": 1629912601761,
     "user": {
      "displayName": "Kaikai Liu",
      "photoUrl": "",
      "userId": "13976416703683897255"
     },
     "user_tz": 420
    },
    "id": "x7LR6Z-3Tv9G",
    "outputId": "da3df0d0-fe27-4c50-8e2d-708faa224ede"
   },
   "outputs": [
    {
     "data": {
      "text/plain": [
       "1.0"
      ]
     },
     "execution_count": 101,
     "metadata": {},
     "output_type": "execute_result"
    }
   ],
   "source": [
    "prop_female['zyra']"
   ]
  },
  {
   "cell_type": "code",
   "execution_count": 103,
   "metadata": {
    "colab": {
     "base_uri": "https://localhost:8080/"
    },
    "executionInfo": {
     "elapsed": 132,
     "status": "ok",
     "timestamp": 1629912617756,
     "user": {
      "displayName": "Kaikai Liu",
      "photoUrl": "",
      "userId": "13976416703683897255"
     },
     "user_tz": 420
    },
    "id": "LcIX27crXMzi",
    "outputId": "4843d71e-e8e5-451b-9182-939d80843c51"
   },
   "outputs": [
    {
     "data": {
      "text/plain": [
       "0.1151411838174484"
      ]
     },
     "execution_count": 103,
     "metadata": {},
     "output_type": "execute_result"
    }
   ],
   "source": [
    "prop_female['joey']"
   ]
  },
  {
   "cell_type": "code",
   "execution_count": 104,
   "metadata": {
    "colab": {
     "base_uri": "https://localhost:8080/"
    },
    "executionInfo": {
     "elapsed": 449,
     "status": "ok",
     "timestamp": 1629912626329,
     "user": {
      "displayName": "Kaikai Liu",
      "photoUrl": "",
      "userId": "13976416703683897255"
     },
     "user_tz": 420
    },
    "id": "6nDW0R7bXOxY",
    "outputId": "54a16329-4c0f-4e2e-8e35-72cc9feb3e40"
   },
   "outputs": [
    {
     "data": {
      "text/plain": [
       "0.002527827840211856"
      ]
     },
     "execution_count": 104,
     "metadata": {},
     "output_type": "execute_result"
    }
   ],
   "source": [
    "prop_female['isaac']"
   ]
  },
  {
   "cell_type": "code",
   "execution_count": 102,
   "metadata": {
    "colab": {
     "base_uri": "https://localhost:8080/"
    },
    "executionInfo": {
     "elapsed": 138,
     "status": "ok",
     "timestamp": 1629912604872,
     "user": {
      "displayName": "Kaikai Liu",
      "photoUrl": "",
      "userId": "13976416703683897255"
     },
     "user_tz": 420
    },
    "id": "-nZJdCLnTxCJ",
    "outputId": "af19c765-4ea4-4efb-903e-fc554cd8cd4b"
   },
   "outputs": [
    {
     "data": {
      "text/plain": [
       "0.7021478300997172"
      ]
     },
     "execution_count": 102,
     "metadata": {},
     "output_type": "execute_result"
    }
   ],
   "source": [
    "prop_female['avery']"
   ]
  },
  {
   "cell_type": "markdown",
   "metadata": {
    "id": "pressing-making"
   },
   "source": [
    "## Build Simple Classifier (Model)\n",
    "\n",
    "We can define a function to return the most likely `Sex` for a name. If there is an exact tie or the name does not appear in the social security dataset the function returns `Unknown`."
   ]
  },
  {
   "cell_type": "code",
   "execution_count": 105,
   "metadata": {
    "executionInfo": {
     "elapsed": 146,
     "status": "ok",
     "timestamp": 1629912633162,
     "user": {
      "displayName": "Kaikai Liu",
      "photoUrl": "",
      "userId": "13976416703683897255"
     },
     "user_tz": 420
    },
    "id": "charged-aircraft"
   },
   "outputs": [],
   "source": [
    "def sex_from_name(name):\n",
    "    lower_name = name.lower()\n",
    "    if lower_name not in prop_female.index or prop_female[lower_name] == 0.5:\n",
    "        return \"Unknown\"\n",
    "    elif prop_female[lower_name] > 0.5:\n",
    "        return \"F\"\n",
    "    else:\n",
    "        return \"M\""
   ]
  },
  {
   "cell_type": "code",
   "execution_count": 106,
   "metadata": {
    "colab": {
     "base_uri": "https://localhost:8080/",
     "height": 35
    },
    "executionInfo": {
     "elapsed": 129,
     "status": "ok",
     "timestamp": 1629912634852,
     "user": {
      "displayName": "Kaikai Liu",
      "photoUrl": "",
      "userId": "13976416703683897255"
     },
     "user_tz": 420
    },
    "id": "attended-crystal",
    "outputId": "85a74659-528a-4208-87a6-b614074a9645"
   },
   "outputs": [
    {
     "data": {
      "application/vnd.google.colaboratory.intrinsic+json": {
       "type": "string"
      },
      "text/plain": [
       "'M'"
      ]
     },
     "execution_count": 106,
     "metadata": {},
     "output_type": "execute_result"
    }
   ],
   "source": [
    "sex_from_name(\"isaac\")"
   ]
  },
  {
   "cell_type": "code",
   "execution_count": 107,
   "metadata": {
    "colab": {
     "base_uri": "https://localhost:8080/",
     "height": 35
    },
    "executionInfo": {
     "elapsed": 5,
     "status": "ok",
     "timestamp": 1629912636675,
     "user": {
      "displayName": "Kaikai Liu",
      "photoUrl": "",
      "userId": "13976416703683897255"
     },
     "user_tz": 420
    },
    "id": "extraordinary-standard",
    "outputId": "a26a84b2-78e1-4f8e-e740-58768e7866d2"
   },
   "outputs": [
    {
     "data": {
      "application/vnd.google.colaboratory.intrinsic+json": {
       "type": "string"
      },
      "text/plain": [
       "'F'"
      ]
     },
     "execution_count": 107,
     "metadata": {},
     "output_type": "execute_result"
    }
   ],
   "source": [
    "sex_from_name(\"avery\")"
   ]
  },
  {
   "cell_type": "markdown",
   "metadata": {
    "id": "superb-multimedia"
   },
   "source": [
    "# Baby name by state"
   ]
  },
  {
   "cell_type": "code",
   "execution_count": 108,
   "metadata": {
    "colab": {
     "base_uri": "https://localhost:8080/",
     "height": 203
    },
    "executionInfo": {
     "elapsed": 484,
     "status": "ok",
     "timestamp": 1629912644794,
     "user": {
      "displayName": "Kaikai Liu",
      "photoUrl": "",
      "userId": "13976416703683897255"
     },
     "user_tz": 420
    },
    "id": "bearing-bradford",
    "outputId": "a39a79d1-c27b-4036-c801-dd3b987bcc0c"
   },
   "outputs": [
    {
     "data": {
      "text/html": [
       "<div>\n",
       "<style scoped>\n",
       "    .dataframe tbody tr th:only-of-type {\n",
       "        vertical-align: middle;\n",
       "    }\n",
       "\n",
       "    .dataframe tbody tr th {\n",
       "        vertical-align: top;\n",
       "    }\n",
       "\n",
       "    .dataframe thead th {\n",
       "        text-align: right;\n",
       "    }\n",
       "</style>\n",
       "<table border=\"1\" class=\"dataframe\">\n",
       "  <thead>\n",
       "    <tr style=\"text-align: right;\">\n",
       "      <th></th>\n",
       "      <th>State</th>\n",
       "      <th>Sex</th>\n",
       "      <th>Year</th>\n",
       "      <th>Name</th>\n",
       "      <th>Count</th>\n",
       "    </tr>\n",
       "  </thead>\n",
       "  <tbody>\n",
       "    <tr>\n",
       "      <th>278689</th>\n",
       "      <td>CA</td>\n",
       "      <td>M</td>\n",
       "      <td>1972</td>\n",
       "      <td>Marlon</td>\n",
       "      <td>87</td>\n",
       "    </tr>\n",
       "    <tr>\n",
       "      <th>326964</th>\n",
       "      <td>CA</td>\n",
       "      <td>M</td>\n",
       "      <td>1996</td>\n",
       "      <td>Nicolaus</td>\n",
       "      <td>7</td>\n",
       "    </tr>\n",
       "    <tr>\n",
       "      <th>104271</th>\n",
       "      <td>CA</td>\n",
       "      <td>F</td>\n",
       "      <td>1987</td>\n",
       "      <td>Chelsi</td>\n",
       "      <td>11</td>\n",
       "    </tr>\n",
       "    <tr>\n",
       "      <th>223908</th>\n",
       "      <td>CA</td>\n",
       "      <td>F</td>\n",
       "      <td>2018</td>\n",
       "      <td>Kailynn</td>\n",
       "      <td>7</td>\n",
       "    </tr>\n",
       "    <tr>\n",
       "      <th>274476</th>\n",
       "      <td>CA</td>\n",
       "      <td>M</td>\n",
       "      <td>1969</td>\n",
       "      <td>Victor</td>\n",
       "      <td>518</td>\n",
       "    </tr>\n",
       "  </tbody>\n",
       "</table>\n",
       "</div>"
      ],
      "text/plain": [
       "       State Sex  Year      Name  Count\n",
       "278689    CA   M  1972    Marlon     87\n",
       "326964    CA   M  1996  Nicolaus      7\n",
       "104271    CA   F  1987    Chelsi     11\n",
       "223908    CA   F  2018   Kailynn      7\n",
       "274476    CA   M  1969    Victor    518"
      ]
     },
     "execution_count": 108,
     "metadata": {},
     "output_type": "execute_result"
    }
   ],
   "source": [
    "import urllib.request\n",
    "import os.path\n",
    "import zipfile\n",
    "\n",
    "data_url = \"https://www.ssa.gov/oact/babynames/state/namesbystate.zip\"\n",
    "local_filename = \"babynamesbystate.zip\"\n",
    "if not os.path.exists(local_filename): # if the data exists don't download again\n",
    "    with urllib.request.urlopen(data_url) as resp, open(local_filename, 'wb') as f:\n",
    "        f.write(resp.read())\n",
    "\n",
    "zf = zipfile.ZipFile(local_filename, 'r')\n",
    "\n",
    "ca_name = 'CA.TXT'\n",
    "field_names = ['State', 'Sex', 'Year', 'Name', 'Count']\n",
    "with zf.open(ca_name) as fh:\n",
    "    babynames = pd.read_csv(fh, header=None, names=field_names)\n",
    "\n",
    "babynames.sample(5)"
   ]
  },
  {
   "cell_type": "code",
   "execution_count": 109,
   "metadata": {
    "colab": {
     "base_uri": "https://localhost:8080/",
     "height": 203
    },
    "executionInfo": {
     "elapsed": 134,
     "status": "ok",
     "timestamp": 1629912649505,
     "user": {
      "displayName": "Kaikai Liu",
      "photoUrl": "",
      "userId": "13976416703683897255"
     },
     "user_tz": 420
    },
    "id": "dress-miller",
    "outputId": "c372ae8b-00b3-42d3-c904-babe0e282750"
   },
   "outputs": [
    {
     "data": {
      "text/html": [
       "<div>\n",
       "<style scoped>\n",
       "    .dataframe tbody tr th:only-of-type {\n",
       "        vertical-align: middle;\n",
       "    }\n",
       "\n",
       "    .dataframe tbody tr th {\n",
       "        vertical-align: top;\n",
       "    }\n",
       "\n",
       "    .dataframe thead th {\n",
       "        text-align: right;\n",
       "    }\n",
       "</style>\n",
       "<table border=\"1\" class=\"dataframe\">\n",
       "  <thead>\n",
       "    <tr style=\"text-align: right;\">\n",
       "      <th></th>\n",
       "      <th>State</th>\n",
       "      <th>Sex</th>\n",
       "      <th>Year</th>\n",
       "      <th>Name</th>\n",
       "      <th>Count</th>\n",
       "    </tr>\n",
       "  </thead>\n",
       "  <tbody>\n",
       "    <tr>\n",
       "      <th>221160</th>\n",
       "      <td>CA</td>\n",
       "      <td>F</td>\n",
       "      <td>2018</td>\n",
       "      <td>Emma</td>\n",
       "      <td>2743</td>\n",
       "    </tr>\n",
       "    <tr>\n",
       "      <th>385701</th>\n",
       "      <td>CA</td>\n",
       "      <td>M</td>\n",
       "      <td>2018</td>\n",
       "      <td>Noah</td>\n",
       "      <td>2569</td>\n",
       "    </tr>\n",
       "    <tr>\n",
       "      <th>221161</th>\n",
       "      <td>CA</td>\n",
       "      <td>F</td>\n",
       "      <td>2018</td>\n",
       "      <td>Mia</td>\n",
       "      <td>2499</td>\n",
       "    </tr>\n",
       "    <tr>\n",
       "      <th>221162</th>\n",
       "      <td>CA</td>\n",
       "      <td>F</td>\n",
       "      <td>2018</td>\n",
       "      <td>Olivia</td>\n",
       "      <td>2465</td>\n",
       "    </tr>\n",
       "    <tr>\n",
       "      <th>385702</th>\n",
       "      <td>CA</td>\n",
       "      <td>M</td>\n",
       "      <td>2018</td>\n",
       "      <td>Liam</td>\n",
       "      <td>2413</td>\n",
       "    </tr>\n",
       "  </tbody>\n",
       "</table>\n",
       "</div>"
      ],
      "text/plain": [
       "       State Sex  Year    Name  Count\n",
       "221160    CA   F  2018    Emma   2743\n",
       "385701    CA   M  2018    Noah   2569\n",
       "221161    CA   F  2018     Mia   2499\n",
       "221162    CA   F  2018  Olivia   2465\n",
       "385702    CA   M  2018    Liam   2413"
      ]
     },
     "execution_count": 109,
     "metadata": {},
     "output_type": "execute_result"
    }
   ],
   "source": [
    "babynames[babynames[\"Year\"] == 2018].sort_values(by = \"Count\", ascending = False).head(5)"
   ]
  },
  {
   "cell_type": "code",
   "execution_count": 110,
   "metadata": {
    "colab": {
     "base_uri": "https://localhost:8080/"
    },
    "executionInfo": {
     "elapsed": 504,
     "status": "ok",
     "timestamp": 1629912654330,
     "user": {
      "displayName": "Kaikai Liu",
      "photoUrl": "",
      "userId": "13976416703683897255"
     },
     "user_tz": 420
    },
    "id": "basic-investing",
    "outputId": "f62faf85-697b-4bb0-9533-82ee0d0a795f"
   },
   "outputs": [
    {
     "data": {
      "text/plain": [
       "2743"
      ]
     },
     "execution_count": 110,
     "metadata": {},
     "output_type": "execute_result"
    }
   ],
   "source": [
    "most_common_count = babynames[babynames[\"Year\"] == 2018].sort_values(by = \"Count\", ascending = False).iloc[0][\"Count\"]\n",
    "most_common_count"
   ]
  },
  {
   "cell_type": "code",
   "execution_count": 111,
   "metadata": {
    "executionInfo": {
     "elapsed": 126,
     "status": "ok",
     "timestamp": 1629912658441,
     "user": {
      "displayName": "Kaikai Liu",
      "photoUrl": "",
      "userId": "13976416703683897255"
     },
     "user_tz": 420
    },
    "id": "nearby-thailand"
   },
   "outputs": [],
   "source": [
    "%matplotlib inline\n",
    "import matplotlib.pyplot as plt\n",
    "import seaborn as sns\n",
    "import numpy as np\n",
    "import pandas as pd\n",
    "\n",
    "plt.style.use('fivethirtyeight')\n",
    "sns.set_context(\"notebook\")"
   ]
  },
  {
   "cell_type": "markdown",
   "metadata": {
    "id": "unlimited-lincoln"
   },
   "source": [
    "Find baby names that start with j."
   ]
  },
  {
   "cell_type": "code",
   "execution_count": 112,
   "metadata": {
    "colab": {
     "base_uri": "https://localhost:8080/"
    },
    "executionInfo": {
     "elapsed": 130,
     "status": "ok",
     "timestamp": 1629912661063,
     "user": {
      "displayName": "Kaikai Liu",
      "photoUrl": "",
      "userId": "13976416703683897255"
     },
     "user_tz": 420
    },
    "id": "great-alaska",
    "outputId": "b1d21b49-5d69-4d73-83de-0b7b1bb1a73a"
   },
   "outputs": [
    {
     "data": {
      "text/plain": [
       "0         Mary\n",
       "1        Helen\n",
       "2      Dorothy\n",
       "3     Margaret\n",
       "4      Frances\n",
       "5         Ruth\n",
       "6       Evelyn\n",
       "7        Alice\n",
       "8     Virginia\n",
       "9    Elizabeth\n",
       "Name: Name, dtype: object"
      ]
     },
     "execution_count": 112,
     "metadata": {},
     "output_type": "execute_result"
    }
   ],
   "source": [
    "babynames[\"Name\"].head(10)"
   ]
  },
  {
   "cell_type": "code",
   "execution_count": 113,
   "metadata": {
    "colab": {
     "base_uri": "https://localhost:8080/",
     "height": 203
    },
    "executionInfo": {
     "elapsed": 335,
     "status": "ok",
     "timestamp": 1629912663769,
     "user": {
      "displayName": "Kaikai Liu",
      "photoUrl": "",
      "userId": "13976416703683897255"
     },
     "user_tz": 420
    },
    "id": "upper-soldier",
    "outputId": "dafe85aa-d5a6-4379-927c-7310d6ac7ee5"
   },
   "outputs": [
    {
     "data": {
      "text/html": [
       "<div>\n",
       "<style scoped>\n",
       "    .dataframe tbody tr th:only-of-type {\n",
       "        vertical-align: middle;\n",
       "    }\n",
       "\n",
       "    .dataframe tbody tr th {\n",
       "        vertical-align: top;\n",
       "    }\n",
       "\n",
       "    .dataframe thead th {\n",
       "        text-align: right;\n",
       "    }\n",
       "</style>\n",
       "<table border=\"1\" class=\"dataframe\">\n",
       "  <thead>\n",
       "    <tr style=\"text-align: right;\">\n",
       "      <th></th>\n",
       "      <th>State</th>\n",
       "      <th>Sex</th>\n",
       "      <th>Year</th>\n",
       "      <th>Name</th>\n",
       "      <th>Count</th>\n",
       "    </tr>\n",
       "  </thead>\n",
       "  <tbody>\n",
       "    <tr>\n",
       "      <th>309287</th>\n",
       "      <td>CA</td>\n",
       "      <td>M</td>\n",
       "      <td>1989</td>\n",
       "      <td>Jaun</td>\n",
       "      <td>7</td>\n",
       "    </tr>\n",
       "    <tr>\n",
       "      <th>103046</th>\n",
       "      <td>CA</td>\n",
       "      <td>F</td>\n",
       "      <td>1987</td>\n",
       "      <td>Jade</td>\n",
       "      <td>100</td>\n",
       "    </tr>\n",
       "    <tr>\n",
       "      <th>285348</th>\n",
       "      <td>CA</td>\n",
       "      <td>M</td>\n",
       "      <td>1976</td>\n",
       "      <td>Jebediah</td>\n",
       "      <td>5</td>\n",
       "    </tr>\n",
       "    <tr>\n",
       "      <th>281588</th>\n",
       "      <td>CA</td>\n",
       "      <td>M</td>\n",
       "      <td>1974</td>\n",
       "      <td>Josue</td>\n",
       "      <td>31</td>\n",
       "    </tr>\n",
       "    <tr>\n",
       "      <th>47429</th>\n",
       "      <td>CA</td>\n",
       "      <td>F</td>\n",
       "      <td>1962</td>\n",
       "      <td>Jeannett</td>\n",
       "      <td>5</td>\n",
       "    </tr>\n",
       "  </tbody>\n",
       "</table>\n",
       "</div>"
      ],
      "text/plain": [
       "       State Sex  Year      Name  Count\n",
       "309287    CA   M  1989      Jaun      7\n",
       "103046    CA   F  1987      Jade    100\n",
       "285348    CA   M  1976  Jebediah      5\n",
       "281588    CA   M  1974     Josue     31\n",
       "47429     CA   F  1962  Jeannett      5"
      ]
     },
     "execution_count": 113,
     "metadata": {},
     "output_type": "execute_result"
    }
   ],
   "source": [
    "starts_with_j = [x[0] == 'J' for x in babynames[\"Name\"]]\n",
    "babynames[starts_with_j].sample(5)"
   ]
  },
  {
   "cell_type": "code",
   "execution_count": 114,
   "metadata": {
    "executionInfo": {
     "elapsed": 129,
     "status": "ok",
     "timestamp": 1629912673119,
     "user": {
      "displayName": "Kaikai Liu",
      "photoUrl": "",
      "userId": "13976416703683897255"
     },
     "user_tz": 420
    },
    "id": "imposed-ozone"
   },
   "outputs": [],
   "source": [
    "j_names = babynames[[x[0] == 'J' for x in babynames[\"Name\"]]]"
   ]
  },
  {
   "cell_type": "code",
   "execution_count": 115,
   "metadata": {
    "colab": {
     "base_uri": "https://localhost:8080/",
     "height": 417
    },
    "executionInfo": {
     "elapsed": 127,
     "status": "ok",
     "timestamp": 1629912675100,
     "user": {
      "displayName": "Kaikai Liu",
      "photoUrl": "",
      "userId": "13976416703683897255"
     },
     "user_tz": 420
    },
    "id": "covered-timer",
    "outputId": "6d151dfb-d3c4-4f04-f981-15f758dd02b3"
   },
   "outputs": [
    {
     "data": {
      "text/html": [
       "<div>\n",
       "<style scoped>\n",
       "    .dataframe tbody tr th:only-of-type {\n",
       "        vertical-align: middle;\n",
       "    }\n",
       "\n",
       "    .dataframe tbody tr th {\n",
       "        vertical-align: top;\n",
       "    }\n",
       "\n",
       "    .dataframe thead th {\n",
       "        text-align: right;\n",
       "    }\n",
       "</style>\n",
       "<table border=\"1\" class=\"dataframe\">\n",
       "  <thead>\n",
       "    <tr style=\"text-align: right;\">\n",
       "      <th></th>\n",
       "      <th>State</th>\n",
       "      <th>Sex</th>\n",
       "      <th>Year</th>\n",
       "      <th>Name</th>\n",
       "      <th>Count</th>\n",
       "    </tr>\n",
       "  </thead>\n",
       "  <tbody>\n",
       "    <tr>\n",
       "      <th>16</th>\n",
       "      <td>CA</td>\n",
       "      <td>F</td>\n",
       "      <td>1910</td>\n",
       "      <td>Josephine</td>\n",
       "      <td>66</td>\n",
       "    </tr>\n",
       "    <tr>\n",
       "      <th>44</th>\n",
       "      <td>CA</td>\n",
       "      <td>F</td>\n",
       "      <td>1910</td>\n",
       "      <td>Jean</td>\n",
       "      <td>35</td>\n",
       "    </tr>\n",
       "    <tr>\n",
       "      <th>46</th>\n",
       "      <td>CA</td>\n",
       "      <td>F</td>\n",
       "      <td>1910</td>\n",
       "      <td>Jessie</td>\n",
       "      <td>32</td>\n",
       "    </tr>\n",
       "    <tr>\n",
       "      <th>59</th>\n",
       "      <td>CA</td>\n",
       "      <td>F</td>\n",
       "      <td>1910</td>\n",
       "      <td>Julia</td>\n",
       "      <td>28</td>\n",
       "    </tr>\n",
       "    <tr>\n",
       "      <th>66</th>\n",
       "      <td>CA</td>\n",
       "      <td>F</td>\n",
       "      <td>1910</td>\n",
       "      <td>Juanita</td>\n",
       "      <td>25</td>\n",
       "    </tr>\n",
       "    <tr>\n",
       "      <th>...</th>\n",
       "      <td>...</td>\n",
       "      <td>...</td>\n",
       "      <td>...</td>\n",
       "      <td>...</td>\n",
       "      <td>...</td>\n",
       "    </tr>\n",
       "    <tr>\n",
       "      <th>393987</th>\n",
       "      <td>CA</td>\n",
       "      <td>M</td>\n",
       "      <td>2020</td>\n",
       "      <td>Jr</td>\n",
       "      <td>5</td>\n",
       "    </tr>\n",
       "    <tr>\n",
       "      <th>393988</th>\n",
       "      <td>CA</td>\n",
       "      <td>M</td>\n",
       "      <td>2020</td>\n",
       "      <td>Juaquin</td>\n",
       "      <td>5</td>\n",
       "    </tr>\n",
       "    <tr>\n",
       "      <th>393989</th>\n",
       "      <td>CA</td>\n",
       "      <td>M</td>\n",
       "      <td>2020</td>\n",
       "      <td>June</td>\n",
       "      <td>5</td>\n",
       "    </tr>\n",
       "    <tr>\n",
       "      <th>393990</th>\n",
       "      <td>CA</td>\n",
       "      <td>M</td>\n",
       "      <td>2020</td>\n",
       "      <td>Juniper</td>\n",
       "      <td>5</td>\n",
       "    </tr>\n",
       "    <tr>\n",
       "      <th>393991</th>\n",
       "      <td>CA</td>\n",
       "      <td>M</td>\n",
       "      <td>2020</td>\n",
       "      <td>Juventino</td>\n",
       "      <td>5</td>\n",
       "    </tr>\n",
       "  </tbody>\n",
       "</table>\n",
       "<p>33844 rows × 5 columns</p>\n",
       "</div>"
      ],
      "text/plain": [
       "       State Sex  Year       Name  Count\n",
       "16        CA   F  1910  Josephine     66\n",
       "44        CA   F  1910       Jean     35\n",
       "46        CA   F  1910     Jessie     32\n",
       "59        CA   F  1910      Julia     28\n",
       "66        CA   F  1910    Juanita     25\n",
       "...      ...  ..   ...        ...    ...\n",
       "393987    CA   M  2020         Jr      5\n",
       "393988    CA   M  2020    Juaquin      5\n",
       "393989    CA   M  2020       June      5\n",
       "393990    CA   M  2020    Juniper      5\n",
       "393991    CA   M  2020  Juventino      5\n",
       "\n",
       "[33844 rows x 5 columns]"
      ]
     },
     "execution_count": 115,
     "metadata": {},
     "output_type": "execute_result"
    }
   ],
   "source": [
    "j_names"
   ]
  },
  {
   "cell_type": "code",
   "execution_count": 116,
   "metadata": {
    "colab": {
     "base_uri": "https://localhost:8080/"
    },
    "executionInfo": {
     "elapsed": 251,
     "status": "ok",
     "timestamp": 1629912679153,
     "user": {
      "displayName": "Kaikai Liu",
      "photoUrl": "",
      "userId": "13976416703683897255"
     },
     "user_tz": 420
    },
    "id": "stock-seeking",
    "outputId": "1b0da016-ee20-4ac8-e1e6-ec7fcb72546d"
   },
   "outputs": [
    {
     "data": {
      "text/plain": [
       "0    False\n",
       "1    False\n",
       "2    False\n",
       "3    False\n",
       "4    False\n",
       "5    False\n",
       "6    False\n",
       "7    False\n",
       "8    False\n",
       "9    False\n",
       "Name: Name, dtype: bool"
      ]
     },
     "execution_count": 116,
     "metadata": {},
     "output_type": "execute_result"
    }
   ],
   "source": [
    "#option2\n",
    "babynames[\"Name\"].str.startswith('J').head(10)"
   ]
  },
  {
   "cell_type": "code",
   "execution_count": 117,
   "metadata": {
    "colab": {
     "base_uri": "https://localhost:8080/"
    },
    "executionInfo": {
     "elapsed": 436,
     "status": "ok",
     "timestamp": 1629912685853,
     "user": {
      "displayName": "Kaikai Liu",
      "photoUrl": "",
      "userId": "13976416703683897255"
     },
     "user_tz": 420
    },
    "id": "extended-organ",
    "outputId": "10bf53d9-94f0-4c9a-e0f3-81c2cb1eb05a"
   },
   "outputs": [
    {
     "data": {
      "text/plain": [
       "0    False\n",
       "1    False\n",
       "2    False\n",
       "3    False\n",
       "4    False\n",
       "5    False\n",
       "6    False\n",
       "7    False\n",
       "8    False\n",
       "9    False\n",
       "Name: Name, dtype: bool"
      ]
     },
     "execution_count": 117,
     "metadata": {},
     "output_type": "execute_result"
    }
   ],
   "source": [
    "starts_with_j = babynames[\"Name\"].str.startswith('J')\n",
    "starts_with_j.head(10)"
   ]
  },
  {
   "cell_type": "code",
   "execution_count": 118,
   "metadata": {
    "colab": {
     "base_uri": "https://localhost:8080/",
     "height": 203
    },
    "executionInfo": {
     "elapsed": 315,
     "status": "ok",
     "timestamp": 1629912695324,
     "user": {
      "displayName": "Kaikai Liu",
      "photoUrl": "",
      "userId": "13976416703683897255"
     },
     "user_tz": 420
    },
    "id": "white-joseph",
    "outputId": "fd88d10f-07f2-40ae-a770-983c53c49a68"
   },
   "outputs": [
    {
     "data": {
      "text/html": [
       "<div>\n",
       "<style scoped>\n",
       "    .dataframe tbody tr th:only-of-type {\n",
       "        vertical-align: middle;\n",
       "    }\n",
       "\n",
       "    .dataframe tbody tr th {\n",
       "        vertical-align: top;\n",
       "    }\n",
       "\n",
       "    .dataframe thead th {\n",
       "        text-align: right;\n",
       "    }\n",
       "</style>\n",
       "<table border=\"1\" class=\"dataframe\">\n",
       "  <thead>\n",
       "    <tr style=\"text-align: right;\">\n",
       "      <th></th>\n",
       "      <th>State</th>\n",
       "      <th>Sex</th>\n",
       "      <th>Year</th>\n",
       "      <th>Name</th>\n",
       "      <th>Count</th>\n",
       "    </tr>\n",
       "  </thead>\n",
       "  <tbody>\n",
       "    <tr>\n",
       "      <th>19277</th>\n",
       "      <td>CA</td>\n",
       "      <td>F</td>\n",
       "      <td>1942</td>\n",
       "      <td>Jeanine</td>\n",
       "      <td>10</td>\n",
       "    </tr>\n",
       "    <tr>\n",
       "      <th>307122</th>\n",
       "      <td>CA</td>\n",
       "      <td>M</td>\n",
       "      <td>1988</td>\n",
       "      <td>Juanantonio</td>\n",
       "      <td>6</td>\n",
       "    </tr>\n",
       "    <tr>\n",
       "      <th>282032</th>\n",
       "      <td>CA</td>\n",
       "      <td>M</td>\n",
       "      <td>1974</td>\n",
       "      <td>Jaysen</td>\n",
       "      <td>9</td>\n",
       "    </tr>\n",
       "    <tr>\n",
       "      <th>387513</th>\n",
       "      <td>CA</td>\n",
       "      <td>M</td>\n",
       "      <td>2018</td>\n",
       "      <td>Jullian</td>\n",
       "      <td>9</td>\n",
       "    </tr>\n",
       "    <tr>\n",
       "      <th>145189</th>\n",
       "      <td>CA</td>\n",
       "      <td>F</td>\n",
       "      <td>1998</td>\n",
       "      <td>Jesika</td>\n",
       "      <td>5</td>\n",
       "    </tr>\n",
       "  </tbody>\n",
       "</table>\n",
       "</div>"
      ],
      "text/plain": [
       "       State Sex  Year         Name  Count\n",
       "19277     CA   F  1942      Jeanine     10\n",
       "307122    CA   M  1988  Juanantonio      6\n",
       "282032    CA   M  1974       Jaysen      9\n",
       "387513    CA   M  2018      Jullian      9\n",
       "145189    CA   F  1998       Jesika      5"
      ]
     },
     "execution_count": 118,
     "metadata": {},
     "output_type": "execute_result"
    }
   ],
   "source": [
    "babynames[babynames[\"Name\"].str.startswith('J')].sample(5)"
   ]
  },
  {
   "cell_type": "code",
   "execution_count": 119,
   "metadata": {
    "colab": {
     "base_uri": "https://localhost:8080/",
     "height": 203
    },
    "executionInfo": {
     "elapsed": 313,
     "status": "ok",
     "timestamp": 1629912698158,
     "user": {
      "displayName": "Kaikai Liu",
      "photoUrl": "",
      "userId": "13976416703683897255"
     },
     "user_tz": 420
    },
    "id": "identified-following",
    "outputId": "9ec4c683-8ed7-4c4f-82fa-92942b808f01"
   },
   "outputs": [
    {
     "data": {
      "text/html": [
       "<div>\n",
       "<style scoped>\n",
       "    .dataframe tbody tr th:only-of-type {\n",
       "        vertical-align: middle;\n",
       "    }\n",
       "\n",
       "    .dataframe tbody tr th {\n",
       "        vertical-align: top;\n",
       "    }\n",
       "\n",
       "    .dataframe thead th {\n",
       "        text-align: right;\n",
       "    }\n",
       "</style>\n",
       "<table border=\"1\" class=\"dataframe\">\n",
       "  <thead>\n",
       "    <tr style=\"text-align: right;\">\n",
       "      <th></th>\n",
       "      <th>State</th>\n",
       "      <th>Sex</th>\n",
       "      <th>Year</th>\n",
       "      <th>Name</th>\n",
       "      <th>Count</th>\n",
       "    </tr>\n",
       "  </thead>\n",
       "  <tbody>\n",
       "    <tr>\n",
       "      <th>201727</th>\n",
       "      <td>CA</td>\n",
       "      <td>F</td>\n",
       "      <td>2013</td>\n",
       "      <td>Madelyn</td>\n",
       "      <td>349</td>\n",
       "    </tr>\n",
       "    <tr>\n",
       "      <th>319214</th>\n",
       "      <td>CA</td>\n",
       "      <td>M</td>\n",
       "      <td>1993</td>\n",
       "      <td>Kaden</td>\n",
       "      <td>8</td>\n",
       "    </tr>\n",
       "    <tr>\n",
       "      <th>317311</th>\n",
       "      <td>CA</td>\n",
       "      <td>M</td>\n",
       "      <td>1992</td>\n",
       "      <td>Gerad</td>\n",
       "      <td>5</td>\n",
       "    </tr>\n",
       "    <tr>\n",
       "      <th>20851</th>\n",
       "      <td>CA</td>\n",
       "      <td>F</td>\n",
       "      <td>1944</td>\n",
       "      <td>Nadine</td>\n",
       "      <td>59</td>\n",
       "    </tr>\n",
       "    <tr>\n",
       "      <th>179814</th>\n",
       "      <td>CA</td>\n",
       "      <td>F</td>\n",
       "      <td>2007</td>\n",
       "      <td>Madelaine</td>\n",
       "      <td>7</td>\n",
       "    </tr>\n",
       "  </tbody>\n",
       "</table>\n",
       "</div>"
      ],
      "text/plain": [
       "       State Sex  Year       Name  Count\n",
       "201727    CA   F  2013    Madelyn    349\n",
       "319214    CA   M  1993      Kaden      8\n",
       "317311    CA   M  1992      Gerad      5\n",
       "20851     CA   F  1944     Nadine     59\n",
       "179814    CA   F  2007  Madelaine      7"
      ]
     },
     "execution_count": 119,
     "metadata": {},
     "output_type": "execute_result"
    }
   ],
   "source": [
    "babynames[babynames[\"Name\"].str.contains('ad')].sample(5)"
   ]
  },
  {
   "cell_type": "code",
   "execution_count": 120,
   "metadata": {
    "colab": {
     "base_uri": "https://localhost:8080/",
     "height": 203
    },
    "executionInfo": {
     "elapsed": 1277,
     "status": "ok",
     "timestamp": 1629912702409,
     "user": {
      "displayName": "Kaikai Liu",
      "photoUrl": "",
      "userId": "13976416703683897255"
     },
     "user_tz": 420
    },
    "id": "victorian-dancing",
    "outputId": "79c3ff0d-6171-4fce-ffbc-b5d2041778bb"
   },
   "outputs": [
    {
     "data": {
      "text/html": [
       "<div>\n",
       "<style scoped>\n",
       "    .dataframe tbody tr th:only-of-type {\n",
       "        vertical-align: middle;\n",
       "    }\n",
       "\n",
       "    .dataframe tbody tr th {\n",
       "        vertical-align: top;\n",
       "    }\n",
       "\n",
       "    .dataframe thead th {\n",
       "        text-align: right;\n",
       "    }\n",
       "</style>\n",
       "<table border=\"1\" class=\"dataframe\">\n",
       "  <thead>\n",
       "    <tr style=\"text-align: right;\">\n",
       "      <th></th>\n",
       "      <th>Name</th>\n",
       "    </tr>\n",
       "  </thead>\n",
       "  <tbody>\n",
       "    <tr>\n",
       "      <th>0</th>\n",
       "      <td>[M, ry]</td>\n",
       "    </tr>\n",
       "    <tr>\n",
       "      <th>1</th>\n",
       "      <td>[Helen]</td>\n",
       "    </tr>\n",
       "    <tr>\n",
       "      <th>2</th>\n",
       "      <td>[Dorothy]</td>\n",
       "    </tr>\n",
       "    <tr>\n",
       "      <th>3</th>\n",
       "      <td>[M, rg, ret]</td>\n",
       "    </tr>\n",
       "    <tr>\n",
       "      <th>4</th>\n",
       "      <td>[Fr, nces]</td>\n",
       "    </tr>\n",
       "  </tbody>\n",
       "</table>\n",
       "</div>"
      ],
      "text/plain": [
       "           Name\n",
       "0       [M, ry]\n",
       "1       [Helen]\n",
       "2     [Dorothy]\n",
       "3  [M, rg, ret]\n",
       "4    [Fr, nces]"
      ]
     },
     "execution_count": 120,
     "metadata": {},
     "output_type": "execute_result"
    }
   ],
   "source": [
    "babynames[\"Name\"].str.split('a').to_frame().head(5)"
   ]
  },
  {
   "cell_type": "markdown",
   "metadata": {
    "id": "unlimited-defendant"
   },
   "source": [
    "Sort names by their length."
   ]
  },
  {
   "cell_type": "code",
   "execution_count": 121,
   "metadata": {
    "colab": {
     "base_uri": "https://localhost:8080/",
     "height": 203
    },
    "executionInfo": {
     "elapsed": 555,
     "status": "ok",
     "timestamp": 1629912710038,
     "user": {
      "displayName": "Kaikai Liu",
      "photoUrl": "",
      "userId": "13976416703683897255"
     },
     "user_tz": 420
    },
    "id": "representative-benchmark",
    "outputId": "363968a8-1b6f-4d46-f693-941a1e800d4f"
   },
   "outputs": [
    {
     "data": {
      "text/html": [
       "<div>\n",
       "<style scoped>\n",
       "    .dataframe tbody tr th:only-of-type {\n",
       "        vertical-align: middle;\n",
       "    }\n",
       "\n",
       "    .dataframe tbody tr th {\n",
       "        vertical-align: top;\n",
       "    }\n",
       "\n",
       "    .dataframe thead th {\n",
       "        text-align: right;\n",
       "    }\n",
       "</style>\n",
       "<table border=\"1\" class=\"dataframe\">\n",
       "  <thead>\n",
       "    <tr style=\"text-align: right;\">\n",
       "      <th></th>\n",
       "      <th>State</th>\n",
       "      <th>Sex</th>\n",
       "      <th>Year</th>\n",
       "      <th>Name</th>\n",
       "      <th>Count</th>\n",
       "    </tr>\n",
       "  </thead>\n",
       "  <tbody>\n",
       "    <tr>\n",
       "      <th>102490</th>\n",
       "      <td>CA</td>\n",
       "      <td>F</td>\n",
       "      <td>1986</td>\n",
       "      <td>Mariadelosangel</td>\n",
       "      <td>5</td>\n",
       "    </tr>\n",
       "    <tr>\n",
       "      <th>305111</th>\n",
       "      <td>CA</td>\n",
       "      <td>M</td>\n",
       "      <td>1987</td>\n",
       "      <td>Franciscojavier</td>\n",
       "      <td>5</td>\n",
       "    </tr>\n",
       "    <tr>\n",
       "      <th>306544</th>\n",
       "      <td>CA</td>\n",
       "      <td>M</td>\n",
       "      <td>1988</td>\n",
       "      <td>Franciscojavier</td>\n",
       "      <td>10</td>\n",
       "    </tr>\n",
       "    <tr>\n",
       "      <th>309451</th>\n",
       "      <td>CA</td>\n",
       "      <td>M</td>\n",
       "      <td>1989</td>\n",
       "      <td>Franciscojavier</td>\n",
       "      <td>6</td>\n",
       "    </tr>\n",
       "    <tr>\n",
       "      <th>314358</th>\n",
       "      <td>CA</td>\n",
       "      <td>M</td>\n",
       "      <td>1991</td>\n",
       "      <td>Ryanchristopher</td>\n",
       "      <td>7</td>\n",
       "    </tr>\n",
       "  </tbody>\n",
       "</table>\n",
       "</div>"
      ],
      "text/plain": [
       "       State Sex  Year             Name  Count\n",
       "102490    CA   F  1986  Mariadelosangel      5\n",
       "305111    CA   M  1987  Franciscojavier      5\n",
       "306544    CA   M  1988  Franciscojavier     10\n",
       "309451    CA   M  1989  Franciscojavier      6\n",
       "314358    CA   M  1991  Ryanchristopher      7"
      ]
     },
     "execution_count": 121,
     "metadata": {},
     "output_type": "execute_result"
    }
   ],
   "source": [
    "babynames.iloc[[i for i, m in sorted(enumerate(babynames['Name']), key=lambda x: -len(x[1]))]].head(5)"
   ]
  },
  {
   "cell_type": "code",
   "execution_count": 122,
   "metadata": {
    "colab": {
     "base_uri": "https://localhost:8080/",
     "height": 203
    },
    "executionInfo": {
     "elapsed": 304,
     "status": "ok",
     "timestamp": 1629912714048,
     "user": {
      "displayName": "Kaikai Liu",
      "photoUrl": "",
      "userId": "13976416703683897255"
     },
     "user_tz": 420
    },
    "id": "adequate-rebate",
    "outputId": "1868f007-bdd9-45da-fb9d-8610017caecd"
   },
   "outputs": [
    {
     "data": {
      "text/html": [
       "<div>\n",
       "<style scoped>\n",
       "    .dataframe tbody tr th:only-of-type {\n",
       "        vertical-align: middle;\n",
       "    }\n",
       "\n",
       "    .dataframe tbody tr th {\n",
       "        vertical-align: top;\n",
       "    }\n",
       "\n",
       "    .dataframe thead th {\n",
       "        text-align: right;\n",
       "    }\n",
       "</style>\n",
       "<table border=\"1\" class=\"dataframe\">\n",
       "  <thead>\n",
       "    <tr style=\"text-align: right;\">\n",
       "      <th></th>\n",
       "      <th>State</th>\n",
       "      <th>Sex</th>\n",
       "      <th>Year</th>\n",
       "      <th>Name</th>\n",
       "      <th>Count</th>\n",
       "      <th>name_lengths</th>\n",
       "    </tr>\n",
       "  </thead>\n",
       "  <tbody>\n",
       "    <tr>\n",
       "      <th>0</th>\n",
       "      <td>CA</td>\n",
       "      <td>F</td>\n",
       "      <td>1910</td>\n",
       "      <td>Mary</td>\n",
       "      <td>295</td>\n",
       "      <td>4</td>\n",
       "    </tr>\n",
       "    <tr>\n",
       "      <th>1</th>\n",
       "      <td>CA</td>\n",
       "      <td>F</td>\n",
       "      <td>1910</td>\n",
       "      <td>Helen</td>\n",
       "      <td>239</td>\n",
       "      <td>5</td>\n",
       "    </tr>\n",
       "    <tr>\n",
       "      <th>2</th>\n",
       "      <td>CA</td>\n",
       "      <td>F</td>\n",
       "      <td>1910</td>\n",
       "      <td>Dorothy</td>\n",
       "      <td>220</td>\n",
       "      <td>7</td>\n",
       "    </tr>\n",
       "    <tr>\n",
       "      <th>3</th>\n",
       "      <td>CA</td>\n",
       "      <td>F</td>\n",
       "      <td>1910</td>\n",
       "      <td>Margaret</td>\n",
       "      <td>163</td>\n",
       "      <td>8</td>\n",
       "    </tr>\n",
       "    <tr>\n",
       "      <th>4</th>\n",
       "      <td>CA</td>\n",
       "      <td>F</td>\n",
       "      <td>1910</td>\n",
       "      <td>Frances</td>\n",
       "      <td>134</td>\n",
       "      <td>7</td>\n",
       "    </tr>\n",
       "  </tbody>\n",
       "</table>\n",
       "</div>"
      ],
      "text/plain": [
       "  State Sex  Year      Name  Count  name_lengths\n",
       "0    CA   F  1910      Mary    295             4\n",
       "1    CA   F  1910     Helen    239             5\n",
       "2    CA   F  1910   Dorothy    220             7\n",
       "3    CA   F  1910  Margaret    163             8\n",
       "4    CA   F  1910   Frances    134             7"
      ]
     },
     "execution_count": 122,
     "metadata": {},
     "output_type": "execute_result"
    }
   ],
   "source": [
    "#create a new series of only the lengths\n",
    "babyname_lengths = babynames[\"Name\"].str.len()\n",
    "\n",
    "#add that series to the dataframe as a column\n",
    "babynames[\"name_lengths\"] = babyname_lengths\n",
    "babynames.head(5)"
   ]
  },
  {
   "cell_type": "code",
   "execution_count": 123,
   "metadata": {
    "colab": {
     "base_uri": "https://localhost:8080/",
     "height": 203
    },
    "executionInfo": {
     "elapsed": 124,
     "status": "ok",
     "timestamp": 1629912720097,
     "user": {
      "displayName": "Kaikai Liu",
      "photoUrl": "",
      "userId": "13976416703683897255"
     },
     "user_tz": 420
    },
    "id": "complicated-zealand",
    "outputId": "61aefa95-be81-4f07-daa6-ec1623f908b6"
   },
   "outputs": [
    {
     "data": {
      "text/html": [
       "<div>\n",
       "<style scoped>\n",
       "    .dataframe tbody tr th:only-of-type {\n",
       "        vertical-align: middle;\n",
       "    }\n",
       "\n",
       "    .dataframe tbody tr th {\n",
       "        vertical-align: top;\n",
       "    }\n",
       "\n",
       "    .dataframe thead th {\n",
       "        text-align: right;\n",
       "    }\n",
       "</style>\n",
       "<table border=\"1\" class=\"dataframe\">\n",
       "  <thead>\n",
       "    <tr style=\"text-align: right;\">\n",
       "      <th></th>\n",
       "      <th>State</th>\n",
       "      <th>Sex</th>\n",
       "      <th>Year</th>\n",
       "      <th>Name</th>\n",
       "      <th>Count</th>\n",
       "      <th>name_lengths</th>\n",
       "    </tr>\n",
       "  </thead>\n",
       "  <tbody>\n",
       "    <tr>\n",
       "      <th>332035</th>\n",
       "      <td>CA</td>\n",
       "      <td>M</td>\n",
       "      <td>1998</td>\n",
       "      <td>Franciscojavier</td>\n",
       "      <td>6</td>\n",
       "      <td>15</td>\n",
       "    </tr>\n",
       "    <tr>\n",
       "      <th>329864</th>\n",
       "      <td>CA</td>\n",
       "      <td>M</td>\n",
       "      <td>1997</td>\n",
       "      <td>Franciscojavier</td>\n",
       "      <td>5</td>\n",
       "      <td>15</td>\n",
       "    </tr>\n",
       "    <tr>\n",
       "      <th>320036</th>\n",
       "      <td>CA</td>\n",
       "      <td>M</td>\n",
       "      <td>1993</td>\n",
       "      <td>Ryanchristopher</td>\n",
       "      <td>5</td>\n",
       "      <td>15</td>\n",
       "    </tr>\n",
       "    <tr>\n",
       "      <th>314358</th>\n",
       "      <td>CA</td>\n",
       "      <td>M</td>\n",
       "      <td>1991</td>\n",
       "      <td>Ryanchristopher</td>\n",
       "      <td>7</td>\n",
       "      <td>15</td>\n",
       "    </tr>\n",
       "    <tr>\n",
       "      <th>319923</th>\n",
       "      <td>CA</td>\n",
       "      <td>M</td>\n",
       "      <td>1993</td>\n",
       "      <td>Johnchristopher</td>\n",
       "      <td>5</td>\n",
       "      <td>15</td>\n",
       "    </tr>\n",
       "  </tbody>\n",
       "</table>\n",
       "</div>"
      ],
      "text/plain": [
       "       State Sex  Year             Name  Count  name_lengths\n",
       "332035    CA   M  1998  Franciscojavier      6            15\n",
       "329864    CA   M  1997  Franciscojavier      5            15\n",
       "320036    CA   M  1993  Ryanchristopher      5            15\n",
       "314358    CA   M  1991  Ryanchristopher      7            15\n",
       "319923    CA   M  1993  Johnchristopher      5            15"
      ]
     },
     "execution_count": 123,
     "metadata": {},
     "output_type": "execute_result"
    }
   ],
   "source": [
    "#sort by the temporary column\n",
    "babynames = babynames.sort_values(by = \"name_lengths\", ascending=False)\n",
    "babynames.head(5)"
   ]
  },
  {
   "cell_type": "code",
   "execution_count": 124,
   "metadata": {
    "colab": {
     "base_uri": "https://localhost:8080/",
     "height": 203
    },
    "executionInfo": {
     "elapsed": 126,
     "status": "ok",
     "timestamp": 1629912723076,
     "user": {
      "displayName": "Kaikai Liu",
      "photoUrl": "",
      "userId": "13976416703683897255"
     },
     "user_tz": 420
    },
    "id": "previous-equivalent",
    "outputId": "7ae27021-824b-4762-bb6f-e69f3de40caa"
   },
   "outputs": [
    {
     "data": {
      "text/html": [
       "<div>\n",
       "<style scoped>\n",
       "    .dataframe tbody tr th:only-of-type {\n",
       "        vertical-align: middle;\n",
       "    }\n",
       "\n",
       "    .dataframe tbody tr th {\n",
       "        vertical-align: top;\n",
       "    }\n",
       "\n",
       "    .dataframe thead th {\n",
       "        text-align: right;\n",
       "    }\n",
       "</style>\n",
       "<table border=\"1\" class=\"dataframe\">\n",
       "  <thead>\n",
       "    <tr style=\"text-align: right;\">\n",
       "      <th></th>\n",
       "      <th>State</th>\n",
       "      <th>Sex</th>\n",
       "      <th>Year</th>\n",
       "      <th>Name</th>\n",
       "      <th>Count</th>\n",
       "    </tr>\n",
       "  </thead>\n",
       "  <tbody>\n",
       "    <tr>\n",
       "      <th>332035</th>\n",
       "      <td>CA</td>\n",
       "      <td>M</td>\n",
       "      <td>1998</td>\n",
       "      <td>Franciscojavier</td>\n",
       "      <td>6</td>\n",
       "    </tr>\n",
       "    <tr>\n",
       "      <th>329864</th>\n",
       "      <td>CA</td>\n",
       "      <td>M</td>\n",
       "      <td>1997</td>\n",
       "      <td>Franciscojavier</td>\n",
       "      <td>5</td>\n",
       "    </tr>\n",
       "    <tr>\n",
       "      <th>320036</th>\n",
       "      <td>CA</td>\n",
       "      <td>M</td>\n",
       "      <td>1993</td>\n",
       "      <td>Ryanchristopher</td>\n",
       "      <td>5</td>\n",
       "    </tr>\n",
       "    <tr>\n",
       "      <th>314358</th>\n",
       "      <td>CA</td>\n",
       "      <td>M</td>\n",
       "      <td>1991</td>\n",
       "      <td>Ryanchristopher</td>\n",
       "      <td>7</td>\n",
       "    </tr>\n",
       "    <tr>\n",
       "      <th>319923</th>\n",
       "      <td>CA</td>\n",
       "      <td>M</td>\n",
       "      <td>1993</td>\n",
       "      <td>Johnchristopher</td>\n",
       "      <td>5</td>\n",
       "    </tr>\n",
       "  </tbody>\n",
       "</table>\n",
       "</div>"
      ],
      "text/plain": [
       "       State Sex  Year             Name  Count\n",
       "332035    CA   M  1998  Franciscojavier      6\n",
       "329864    CA   M  1997  Franciscojavier      5\n",
       "320036    CA   M  1993  Ryanchristopher      5\n",
       "314358    CA   M  1991  Ryanchristopher      7\n",
       "319923    CA   M  1993  Johnchristopher      5"
      ]
     },
     "execution_count": 124,
     "metadata": {},
     "output_type": "execute_result"
    }
   ],
   "source": [
    "#drop the temporary column\n",
    "babynames = babynames.drop(\"name_lengths\", axis = 1)\n",
    "babynames.head(5)"
   ]
  },
  {
   "cell_type": "markdown",
   "metadata": {
    "id": "electric-identity"
   },
   "source": [
    "We can also use the Python map function if we want to use an arbitrarily defined function. Suppose we want to sort by the number of occurrences of \"dr\" plus the number of occurences of \"ea\"."
   ]
  },
  {
   "cell_type": "code",
   "execution_count": 125,
   "metadata": {
    "colab": {
     "base_uri": "https://localhost:8080/",
     "height": 203
    },
    "executionInfo": {
     "elapsed": 475,
     "status": "ok",
     "timestamp": 1629912731876,
     "user": {
      "displayName": "Kaikai Liu",
      "photoUrl": "",
      "userId": "13976416703683897255"
     },
     "user_tz": 420
    },
    "id": "viral-waters",
    "outputId": "d06d5b4a-e747-4d4f-e568-0eb2fd2cdda4"
   },
   "outputs": [
    {
     "data": {
      "text/html": [
       "<div>\n",
       "<style scoped>\n",
       "    .dataframe tbody tr th:only-of-type {\n",
       "        vertical-align: middle;\n",
       "    }\n",
       "\n",
       "    .dataframe tbody tr th {\n",
       "        vertical-align: top;\n",
       "    }\n",
       "\n",
       "    .dataframe thead th {\n",
       "        text-align: right;\n",
       "    }\n",
       "</style>\n",
       "<table border=\"1\" class=\"dataframe\">\n",
       "  <thead>\n",
       "    <tr style=\"text-align: right;\">\n",
       "      <th></th>\n",
       "      <th>State</th>\n",
       "      <th>Sex</th>\n",
       "      <th>Year</th>\n",
       "      <th>Name</th>\n",
       "      <th>Count</th>\n",
       "    </tr>\n",
       "  </thead>\n",
       "  <tbody>\n",
       "    <tr>\n",
       "      <th>131013</th>\n",
       "      <td>CA</td>\n",
       "      <td>F</td>\n",
       "      <td>1994</td>\n",
       "      <td>Leandrea</td>\n",
       "      <td>5</td>\n",
       "    </tr>\n",
       "    <tr>\n",
       "      <th>101962</th>\n",
       "      <td>CA</td>\n",
       "      <td>F</td>\n",
       "      <td>1986</td>\n",
       "      <td>Deandrea</td>\n",
       "      <td>6</td>\n",
       "    </tr>\n",
       "    <tr>\n",
       "      <th>115942</th>\n",
       "      <td>CA</td>\n",
       "      <td>F</td>\n",
       "      <td>1990</td>\n",
       "      <td>Deandrea</td>\n",
       "      <td>5</td>\n",
       "    </tr>\n",
       "    <tr>\n",
       "      <th>300700</th>\n",
       "      <td>CA</td>\n",
       "      <td>M</td>\n",
       "      <td>1985</td>\n",
       "      <td>Deandrea</td>\n",
       "      <td>6</td>\n",
       "    </tr>\n",
       "    <tr>\n",
       "      <th>108715</th>\n",
       "      <td>CA</td>\n",
       "      <td>F</td>\n",
       "      <td>1988</td>\n",
       "      <td>Deandrea</td>\n",
       "      <td>5</td>\n",
       "    </tr>\n",
       "  </tbody>\n",
       "</table>\n",
       "</div>"
      ],
      "text/plain": [
       "       State Sex  Year      Name  Count\n",
       "131013    CA   F  1994  Leandrea      5\n",
       "101962    CA   F  1986  Deandrea      6\n",
       "115942    CA   F  1990  Deandrea      5\n",
       "300700    CA   M  1985  Deandrea      6\n",
       "108715    CA   F  1988  Deandrea      5"
      ]
     },
     "execution_count": 125,
     "metadata": {},
     "output_type": "execute_result"
    }
   ],
   "source": [
    "def dr_ea_count(string):\n",
    "    return string.count('dr') + string.count('ea')\n",
    "\n",
    "#create the temporary column\n",
    "babynames[\"dr_ea_count\"] = babynames[\"Name\"].map(dr_ea_count)\n",
    "\n",
    "#sort by the temporary column\n",
    "babynames = babynames.sort_values(by = \"dr_ea_count\", ascending=False)\n",
    "\n",
    "#drop that column\n",
    "babynames = babynames.drop(\"dr_ea_count\", 1)\n",
    "babynames.head(5)"
   ]
  },
  {
   "cell_type": "markdown",
   "metadata": {
    "id": "sunset-transportation"
   },
   "source": [
    "option2 Generate an index sorted in the desired order."
   ]
  },
  {
   "cell_type": "code",
   "execution_count": 126,
   "metadata": {
    "colab": {
     "base_uri": "https://localhost:8080/",
     "height": 203
    },
    "executionInfo": {
     "elapsed": 195,
     "status": "ok",
     "timestamp": 1629912739668,
     "user": {
      "displayName": "Kaikai Liu",
      "photoUrl": "",
      "userId": "13976416703683897255"
     },
     "user_tz": 420
    },
    "id": "impressed-sponsorship",
    "outputId": "91830d7c-895d-4758-9d0a-1174bcd3e2b8"
   },
   "outputs": [
    {
     "data": {
      "text/html": [
       "<div>\n",
       "<style scoped>\n",
       "    .dataframe tbody tr th:only-of-type {\n",
       "        vertical-align: middle;\n",
       "    }\n",
       "\n",
       "    .dataframe tbody tr th {\n",
       "        vertical-align: top;\n",
       "    }\n",
       "\n",
       "    .dataframe thead th {\n",
       "        text-align: right;\n",
       "    }\n",
       "</style>\n",
       "<table border=\"1\" class=\"dataframe\">\n",
       "  <thead>\n",
       "    <tr style=\"text-align: right;\">\n",
       "      <th></th>\n",
       "      <th>State</th>\n",
       "      <th>Sex</th>\n",
       "      <th>Year</th>\n",
       "      <th>Name</th>\n",
       "      <th>Count</th>\n",
       "    </tr>\n",
       "  </thead>\n",
       "  <tbody>\n",
       "    <tr>\n",
       "      <th>53330</th>\n",
       "      <td>CA</td>\n",
       "      <td>F</td>\n",
       "      <td>1966</td>\n",
       "      <td>Esther</td>\n",
       "      <td>143</td>\n",
       "    </tr>\n",
       "    <tr>\n",
       "      <th>73706</th>\n",
       "      <td>CA</td>\n",
       "      <td>F</td>\n",
       "      <td>1976</td>\n",
       "      <td>Natalie</td>\n",
       "      <td>408</td>\n",
       "    </tr>\n",
       "    <tr>\n",
       "      <th>204747</th>\n",
       "      <td>CA</td>\n",
       "      <td>F</td>\n",
       "      <td>2013</td>\n",
       "      <td>Evoleth</td>\n",
       "      <td>6</td>\n",
       "    </tr>\n",
       "    <tr>\n",
       "      <th>213551</th>\n",
       "      <td>CA</td>\n",
       "      <td>F</td>\n",
       "      <td>2016</td>\n",
       "      <td>Madison</td>\n",
       "      <td>923</td>\n",
       "    </tr>\n",
       "    <tr>\n",
       "      <th>25378</th>\n",
       "      <td>CA</td>\n",
       "      <td>F</td>\n",
       "      <td>1948</td>\n",
       "      <td>Esperanza</td>\n",
       "      <td>41</td>\n",
       "    </tr>\n",
       "  </tbody>\n",
       "</table>\n",
       "</div>"
      ],
      "text/plain": [
       "       State Sex  Year       Name  Count\n",
       "53330     CA   F  1966     Esther    143\n",
       "73706     CA   F  1976    Natalie    408\n",
       "204747    CA   F  2013    Evoleth      6\n",
       "213551    CA   F  2016    Madison    923\n",
       "25378     CA   F  1948  Esperanza     41"
      ]
     },
     "execution_count": 126,
     "metadata": {},
     "output_type": "execute_result"
    }
   ],
   "source": [
    "#let's start over by first scrambling the order of babynames\n",
    "babynames = babynames.sample(frac=1)\n",
    "babynames.head(5)"
   ]
  },
  {
   "cell_type": "markdown",
   "metadata": {
    "id": "criminal-deputy"
   },
   "source": [
    "Another approach is to take advantage of the fact that .loc can accept an index. That is:\n",
    " + df.loc[idx] returns df with its rows in the same order as the given index.\n",
    " + Only works if the index exactly matches the DataFrame."
   ]
  },
  {
   "cell_type": "markdown",
   "metadata": {
    "id": "human-server"
   },
   "source": [
    "The first step was to create a sequence of the lengths of the names."
   ]
  },
  {
   "cell_type": "code",
   "execution_count": 127,
   "metadata": {
    "colab": {
     "base_uri": "https://localhost:8080/"
    },
    "executionInfo": {
     "elapsed": 304,
     "status": "ok",
     "timestamp": 1629912754545,
     "user": {
      "displayName": "Kaikai Liu",
      "photoUrl": "",
      "userId": "13976416703683897255"
     },
     "user_tz": 420
    },
    "id": "civil-exhibit",
    "outputId": "9a004340-319a-467c-90ba-0846440a7619"
   },
   "outputs": [
    {
     "data": {
      "text/plain": [
       "53330     6\n",
       "73706     7\n",
       "204747    7\n",
       "213551    7\n",
       "25378     9\n",
       "Name: Name, dtype: int64"
      ]
     },
     "execution_count": 127,
     "metadata": {},
     "output_type": "execute_result"
    }
   ],
   "source": [
    "name_lengths = babynames[\"Name\"].str.len()\n",
    "name_lengths.head(5)"
   ]
  },
  {
   "cell_type": "markdown",
   "metadata": {
    "id": "spatial-freeware"
   },
   "source": [
    "The next step is to sort the new series we just created."
   ]
  },
  {
   "cell_type": "code",
   "execution_count": 128,
   "metadata": {
    "colab": {
     "base_uri": "https://localhost:8080/"
    },
    "executionInfo": {
     "elapsed": 136,
     "status": "ok",
     "timestamp": 1629912762319,
     "user": {
      "displayName": "Kaikai Liu",
      "photoUrl": "",
      "userId": "13976416703683897255"
     },
     "user_tz": 420
    },
    "id": "fossil-payday",
    "outputId": "0de79bf6-b080-42dd-c0a5-06708dddcdb1"
   },
   "outputs": [
    {
     "data": {
      "text/plain": [
       "304810    2\n",
       "111624    2\n",
       "110190    2\n",
       "119755    2\n",
       "346558    2\n",
       "Name: Name, dtype: int64"
      ]
     },
     "execution_count": 128,
     "metadata": {},
     "output_type": "execute_result"
    }
   ],
   "source": [
    "name_lengths_sorted_by_length = name_lengths.sort_values()\n",
    "name_lengths_sorted_by_length.head(5)"
   ]
  },
  {
   "cell_type": "markdown",
   "metadata": {
    "id": "billion-seminar"
   },
   "source": [
    "Next, we pass the index of the sorted series to the loc method of the original dataframe."
   ]
  },
  {
   "cell_type": "code",
   "execution_count": 129,
   "metadata": {
    "colab": {
     "base_uri": "https://localhost:8080/"
    },
    "executionInfo": {
     "elapsed": 126,
     "status": "ok",
     "timestamp": 1629912765956,
     "user": {
      "displayName": "Kaikai Liu",
      "photoUrl": "",
      "userId": "13976416703683897255"
     },
     "user_tz": 420
    },
    "id": "adaptive-vegetation",
    "outputId": "d91bc99e-c298-4e0a-efd1-61a5a553f171"
   },
   "outputs": [
    {
     "data": {
      "text/plain": [
       "Int64Index([304810, 111624, 110190, 119755, 346558,  87778, 315715, 254371,\n",
       "            236729, 349719,\n",
       "            ...\n",
       "            326729, 314358, 314479, 309451, 306544, 330040, 337003, 329864,\n",
       "            319923, 102490],\n",
       "           dtype='int64', length=394179)"
      ]
     },
     "execution_count": 129,
     "metadata": {},
     "output_type": "execute_result"
    }
   ],
   "source": [
    "index_sorted_by_length = name_lengths_sorted_by_length.index\n",
    "index_sorted_by_length"
   ]
  },
  {
   "cell_type": "code",
   "execution_count": 130,
   "metadata": {
    "colab": {
     "base_uri": "https://localhost:8080/",
     "height": 203
    },
    "executionInfo": {
     "elapsed": 292,
     "status": "ok",
     "timestamp": 1629912773914,
     "user": {
      "displayName": "Kaikai Liu",
      "photoUrl": "",
      "userId": "13976416703683897255"
     },
     "user_tz": 420
    },
    "id": "supported-worth",
    "outputId": "3ef31736-650f-4889-864f-f13c68dc6720"
   },
   "outputs": [
    {
     "data": {
      "text/html": [
       "<div>\n",
       "<style scoped>\n",
       "    .dataframe tbody tr th:only-of-type {\n",
       "        vertical-align: middle;\n",
       "    }\n",
       "\n",
       "    .dataframe tbody tr th {\n",
       "        vertical-align: top;\n",
       "    }\n",
       "\n",
       "    .dataframe thead th {\n",
       "        text-align: right;\n",
       "    }\n",
       "</style>\n",
       "<table border=\"1\" class=\"dataframe\">\n",
       "  <thead>\n",
       "    <tr style=\"text-align: right;\">\n",
       "      <th></th>\n",
       "      <th>State</th>\n",
       "      <th>Sex</th>\n",
       "      <th>Year</th>\n",
       "      <th>Name</th>\n",
       "      <th>Count</th>\n",
       "    </tr>\n",
       "  </thead>\n",
       "  <tbody>\n",
       "    <tr>\n",
       "      <th>304810</th>\n",
       "      <td>CA</td>\n",
       "      <td>M</td>\n",
       "      <td>1987</td>\n",
       "      <td>An</td>\n",
       "      <td>6</td>\n",
       "    </tr>\n",
       "    <tr>\n",
       "      <th>111624</th>\n",
       "      <td>CA</td>\n",
       "      <td>F</td>\n",
       "      <td>1989</td>\n",
       "      <td>Ma</td>\n",
       "      <td>7</td>\n",
       "    </tr>\n",
       "    <tr>\n",
       "      <th>110190</th>\n",
       "      <td>CA</td>\n",
       "      <td>F</td>\n",
       "      <td>1989</td>\n",
       "      <td>Ka</td>\n",
       "      <td>23</td>\n",
       "    </tr>\n",
       "    <tr>\n",
       "      <th>119755</th>\n",
       "      <td>CA</td>\n",
       "      <td>F</td>\n",
       "      <td>1991</td>\n",
       "      <td>Ia</td>\n",
       "      <td>5</td>\n",
       "    </tr>\n",
       "    <tr>\n",
       "      <th>346558</th>\n",
       "      <td>CA</td>\n",
       "      <td>M</td>\n",
       "      <td>2004</td>\n",
       "      <td>Bo</td>\n",
       "      <td>12</td>\n",
       "    </tr>\n",
       "  </tbody>\n",
       "</table>\n",
       "</div>"
      ],
      "text/plain": [
       "       State Sex  Year Name  Count\n",
       "304810    CA   M  1987   An      6\n",
       "111624    CA   F  1989   Ma      7\n",
       "110190    CA   F  1989   Ka     23\n",
       "119755    CA   F  1991   Ia      5\n",
       "346558    CA   M  2004   Bo     12"
      ]
     },
     "execution_count": 130,
     "metadata": {},
     "output_type": "execute_result"
    }
   ],
   "source": [
    "babynames.loc[index_sorted_by_length].head(5)"
   ]
  },
  {
   "cell_type": "markdown",
   "metadata": {
    "id": "varied-colombia"
   },
   "source": [
    "Note we can also do this all in one line:"
   ]
  },
  {
   "cell_type": "code",
   "execution_count": 131,
   "metadata": {
    "colab": {
     "base_uri": "https://localhost:8080/",
     "height": 203
    },
    "executionInfo": {
     "elapsed": 329,
     "status": "ok",
     "timestamp": 1629912777978,
     "user": {
      "displayName": "Kaikai Liu",
      "photoUrl": "",
      "userId": "13976416703683897255"
     },
     "user_tz": 420
    },
    "id": "molecular-orientation",
    "outputId": "638d7e25-e9ef-434b-cb26-59bb9fae38aa"
   },
   "outputs": [
    {
     "data": {
      "text/html": [
       "<div>\n",
       "<style scoped>\n",
       "    .dataframe tbody tr th:only-of-type {\n",
       "        vertical-align: middle;\n",
       "    }\n",
       "\n",
       "    .dataframe tbody tr th {\n",
       "        vertical-align: top;\n",
       "    }\n",
       "\n",
       "    .dataframe thead th {\n",
       "        text-align: right;\n",
       "    }\n",
       "</style>\n",
       "<table border=\"1\" class=\"dataframe\">\n",
       "  <thead>\n",
       "    <tr style=\"text-align: right;\">\n",
       "      <th></th>\n",
       "      <th>State</th>\n",
       "      <th>Sex</th>\n",
       "      <th>Year</th>\n",
       "      <th>Name</th>\n",
       "      <th>Count</th>\n",
       "    </tr>\n",
       "  </thead>\n",
       "  <tbody>\n",
       "    <tr>\n",
       "      <th>304810</th>\n",
       "      <td>CA</td>\n",
       "      <td>M</td>\n",
       "      <td>1987</td>\n",
       "      <td>An</td>\n",
       "      <td>6</td>\n",
       "    </tr>\n",
       "    <tr>\n",
       "      <th>111624</th>\n",
       "      <td>CA</td>\n",
       "      <td>F</td>\n",
       "      <td>1989</td>\n",
       "      <td>Ma</td>\n",
       "      <td>7</td>\n",
       "    </tr>\n",
       "    <tr>\n",
       "      <th>110190</th>\n",
       "      <td>CA</td>\n",
       "      <td>F</td>\n",
       "      <td>1989</td>\n",
       "      <td>Ka</td>\n",
       "      <td>23</td>\n",
       "    </tr>\n",
       "    <tr>\n",
       "      <th>119755</th>\n",
       "      <td>CA</td>\n",
       "      <td>F</td>\n",
       "      <td>1991</td>\n",
       "      <td>Ia</td>\n",
       "      <td>5</td>\n",
       "    </tr>\n",
       "    <tr>\n",
       "      <th>346558</th>\n",
       "      <td>CA</td>\n",
       "      <td>M</td>\n",
       "      <td>2004</td>\n",
       "      <td>Bo</td>\n",
       "      <td>12</td>\n",
       "    </tr>\n",
       "  </tbody>\n",
       "</table>\n",
       "</div>"
      ],
      "text/plain": [
       "       State Sex  Year Name  Count\n",
       "304810    CA   M  1987   An      6\n",
       "111624    CA   F  1989   Ma      7\n",
       "110190    CA   F  1989   Ka     23\n",
       "119755    CA   F  1991   Ia      5\n",
       "346558    CA   M  2004   Bo     12"
      ]
     },
     "execution_count": 131,
     "metadata": {},
     "output_type": "execute_result"
    }
   ],
   "source": [
    "babynames.loc[babynames[\"Name\"].str.len().sort_values().index].head(5)"
   ]
  },
  {
   "cell_type": "markdown",
   "metadata": {
    "id": "confident-coordinate"
   },
   "source": [
    "## Name whose popularity has changed the most."
   ]
  },
  {
   "cell_type": "code",
   "execution_count": 132,
   "metadata": {
    "colab": {
     "base_uri": "https://localhost:8080/"
    },
    "executionInfo": {
     "elapsed": 137,
     "status": "ok",
     "timestamp": 1629912781682,
     "user": {
      "displayName": "Kaikai Liu",
      "photoUrl": "",
      "userId": "13976416703683897255"
     },
     "user_tz": 420
    },
    "id": "established-judgment",
    "outputId": "08bca74b-f157-4965-9b50-005503d0f738",
    "scrolled": true
   },
   "outputs": [
    {
     "data": {
      "text/plain": [
       "69302     5675\n",
       "54974     1902\n",
       "303888      23\n",
       "287534      24\n",
       "16324        5\n",
       "Name: Count, dtype: int64"
      ]
     },
     "execution_count": 132,
     "metadata": {},
     "output_type": "execute_result"
    }
   ],
   "source": [
    "jennifer_counts = babynames.query(\"Name == 'Jennifer'\")[\"Count\"]\n",
    "jennifer_counts.head(5)"
   ]
  },
  {
   "cell_type": "markdown",
   "metadata": {
    "id": "spanish-bundle"
   },
   "source": [
    "The AMMD for Jennifer is 6,061, as seen below:"
   ]
  },
  {
   "cell_type": "code",
   "execution_count": 133,
   "metadata": {
    "colab": {
     "base_uri": "https://localhost:8080/"
    },
    "executionInfo": {
     "elapsed": 129,
     "status": "ok",
     "timestamp": 1629912791034,
     "user": {
      "displayName": "Kaikai Liu",
      "photoUrl": "",
      "userId": "13976416703683897255"
     },
     "user_tz": 420
    },
    "id": "young-family",
    "outputId": "ebccca21-634d-4c67-a93f-5139c87962e2"
   },
   "outputs": [
    {
     "data": {
      "text/plain": [
       "6059"
      ]
     },
     "execution_count": 133,
     "metadata": {},
     "output_type": "execute_result"
    }
   ],
   "source": [
    "max(jennifer_counts) - min(jennifer_counts)"
   ]
  },
  {
   "cell_type": "code",
   "execution_count": 134,
   "metadata": {
    "executionInfo": {
     "elapsed": 128,
     "status": "ok",
     "timestamp": 1629912794961,
     "user": {
      "displayName": "Kaikai Liu",
      "photoUrl": "",
      "userId": "13976416703683897255"
     },
     "user_tz": 420
    },
    "id": "parliamentary-piece"
   },
   "outputs": [],
   "source": [
    "def ammd(series): #AMMD (absolute max/min difference): max(count) - min(count).\n",
    "    return max(series) - min(series)"
   ]
  },
  {
   "cell_type": "code",
   "execution_count": 135,
   "metadata": {
    "colab": {
     "base_uri": "https://localhost:8080/"
    },
    "executionInfo": {
     "elapsed": 157,
     "status": "ok",
     "timestamp": 1629912798314,
     "user": {
      "displayName": "Kaikai Liu",
      "photoUrl": "",
      "userId": "13976416703683897255"
     },
     "user_tz": 420
    },
    "id": "diagnostic-trade",
    "outputId": "7ec8c94a-4b24-4a0e-ce4e-41a776203a8d"
   },
   "outputs": [
    {
     "data": {
      "text/plain": [
       "6059"
      ]
     },
     "execution_count": 135,
     "metadata": {},
     "output_type": "execute_result"
    }
   ],
   "source": [
    "ammd(jennifer_counts)"
   ]
  },
  {
   "cell_type": "code",
   "execution_count": 136,
   "metadata": {
    "colab": {
     "base_uri": "https://localhost:8080/"
    },
    "executionInfo": {
     "elapsed": 3051,
     "status": "ok",
     "timestamp": 1629912803656,
     "user": {
      "displayName": "Kaikai Liu",
      "photoUrl": "",
      "userId": "13976416703683897255"
     },
     "user_tz": 420
    },
    "id": "smaller-uncle",
    "outputId": "9a4f922d-5337-4052-8c38-01a0e6d00e99"
   },
   "outputs": [
    {
     "data": {
      "text/plain": [
       "Aadan        2\n",
       "Aadarsh      0\n",
       "Aaden      148\n",
       "Aadhav       2\n",
       "Aadhira      4\n",
       "dtype: int64"
      ]
     },
     "execution_count": 136,
     "metadata": {},
     "output_type": "execute_result"
    }
   ],
   "source": [
    "#option1\n",
    "#build dictionary where entry i is the ammd for the given name\n",
    "#e.g. ammd[\"jennifer\"] should be 6061\n",
    "ammd_of_babyname_counts = {}\n",
    "for name in sorted(babynames[\"Name\"].unique())[0:100]:\n",
    "    counts_of_current_name = babynames[babynames[\"Name\"] == name][\"Count\"]\n",
    "    ammd_of_babyname_counts[name] = ammd(counts_of_current_name)\n",
    "    \n",
    "#convert to series\n",
    "ammd_of_babyname_counts = pd.Series(ammd_of_babyname_counts) \n",
    "ammd_of_babyname_counts.head(5)"
   ]
  },
  {
   "cell_type": "markdown",
   "metadata": {
    "id": "shared-trader"
   },
   "source": [
    "Option2: use the very powerful groupby.agg operation, which allows us to simply and efficiently compute what we want."
   ]
  },
  {
   "cell_type": "code",
   "execution_count": 137,
   "metadata": {
    "colab": {
     "base_uri": "https://localhost:8080/",
     "height": 417
    },
    "executionInfo": {
     "elapsed": 128,
     "status": "ok",
     "timestamp": 1629912806327,
     "user": {
      "displayName": "Kaikai Liu",
      "photoUrl": "",
      "userId": "13976416703683897255"
     },
     "user_tz": 420
    },
    "id": "french-modeling",
    "outputId": "0aeb245b-d9bd-43ae-8899-69707c3c2909"
   },
   "outputs": [
    {
     "data": {
      "text/html": [
       "<div>\n",
       "<style scoped>\n",
       "    .dataframe tbody tr th:only-of-type {\n",
       "        vertical-align: middle;\n",
       "    }\n",
       "\n",
       "    .dataframe tbody tr th {\n",
       "        vertical-align: top;\n",
       "    }\n",
       "\n",
       "    .dataframe thead th {\n",
       "        text-align: right;\n",
       "    }\n",
       "</style>\n",
       "<table border=\"1\" class=\"dataframe\">\n",
       "  <thead>\n",
       "    <tr style=\"text-align: right;\">\n",
       "      <th></th>\n",
       "      <th>State</th>\n",
       "      <th>Sex</th>\n",
       "      <th>Year</th>\n",
       "      <th>Name</th>\n",
       "      <th>Count</th>\n",
       "    </tr>\n",
       "  </thead>\n",
       "  <tbody>\n",
       "    <tr>\n",
       "      <th>53330</th>\n",
       "      <td>CA</td>\n",
       "      <td>F</td>\n",
       "      <td>1966</td>\n",
       "      <td>Esther</td>\n",
       "      <td>143</td>\n",
       "    </tr>\n",
       "    <tr>\n",
       "      <th>73706</th>\n",
       "      <td>CA</td>\n",
       "      <td>F</td>\n",
       "      <td>1976</td>\n",
       "      <td>Natalie</td>\n",
       "      <td>408</td>\n",
       "    </tr>\n",
       "    <tr>\n",
       "      <th>204747</th>\n",
       "      <td>CA</td>\n",
       "      <td>F</td>\n",
       "      <td>2013</td>\n",
       "      <td>Evoleth</td>\n",
       "      <td>6</td>\n",
       "    </tr>\n",
       "    <tr>\n",
       "      <th>213551</th>\n",
       "      <td>CA</td>\n",
       "      <td>F</td>\n",
       "      <td>2016</td>\n",
       "      <td>Madison</td>\n",
       "      <td>923</td>\n",
       "    </tr>\n",
       "    <tr>\n",
       "      <th>25378</th>\n",
       "      <td>CA</td>\n",
       "      <td>F</td>\n",
       "      <td>1948</td>\n",
       "      <td>Esperanza</td>\n",
       "      <td>41</td>\n",
       "    </tr>\n",
       "    <tr>\n",
       "      <th>...</th>\n",
       "      <td>...</td>\n",
       "      <td>...</td>\n",
       "      <td>...</td>\n",
       "      <td>...</td>\n",
       "      <td>...</td>\n",
       "    </tr>\n",
       "    <tr>\n",
       "      <th>47086</th>\n",
       "      <td>CA</td>\n",
       "      <td>F</td>\n",
       "      <td>1962</td>\n",
       "      <td>Deeanna</td>\n",
       "      <td>7</td>\n",
       "    </tr>\n",
       "    <tr>\n",
       "      <th>391499</th>\n",
       "      <td>CA</td>\n",
       "      <td>M</td>\n",
       "      <td>2020</td>\n",
       "      <td>Giovanni</td>\n",
       "      <td>481</td>\n",
       "    </tr>\n",
       "    <tr>\n",
       "      <th>277898</th>\n",
       "      <td>CA</td>\n",
       "      <td>M</td>\n",
       "      <td>1971</td>\n",
       "      <td>Burton</td>\n",
       "      <td>10</td>\n",
       "    </tr>\n",
       "    <tr>\n",
       "      <th>33094</th>\n",
       "      <td>CA</td>\n",
       "      <td>F</td>\n",
       "      <td>1954</td>\n",
       "      <td>Della</td>\n",
       "      <td>49</td>\n",
       "    </tr>\n",
       "    <tr>\n",
       "      <th>382947</th>\n",
       "      <td>CA</td>\n",
       "      <td>M</td>\n",
       "      <td>2017</td>\n",
       "      <td>Weston</td>\n",
       "      <td>277</td>\n",
       "    </tr>\n",
       "  </tbody>\n",
       "</table>\n",
       "<p>394179 rows × 5 columns</p>\n",
       "</div>"
      ],
      "text/plain": [
       "       State Sex  Year       Name  Count\n",
       "53330     CA   F  1966     Esther    143\n",
       "73706     CA   F  1976    Natalie    408\n",
       "204747    CA   F  2013    Evoleth      6\n",
       "213551    CA   F  2016    Madison    923\n",
       "25378     CA   F  1948  Esperanza     41\n",
       "...      ...  ..   ...        ...    ...\n",
       "47086     CA   F  1962    Deeanna      7\n",
       "391499    CA   M  2020   Giovanni    481\n",
       "277898    CA   M  1971     Burton     10\n",
       "33094     CA   F  1954      Della     49\n",
       "382947    CA   M  2017     Weston    277\n",
       "\n",
       "[394179 rows x 5 columns]"
      ]
     },
     "execution_count": 137,
     "metadata": {},
     "output_type": "execute_result"
    }
   ],
   "source": [
    "babynames"
   ]
  },
  {
   "cell_type": "code",
   "execution_count": 138,
   "metadata": {
    "colab": {
     "base_uri": "https://localhost:8080/",
     "height": 142
    },
    "executionInfo": {
     "elapsed": 133,
     "status": "ok",
     "timestamp": 1629912810436,
     "user": {
      "displayName": "Kaikai Liu",
      "photoUrl": "",
      "userId": "13976416703683897255"
     },
     "user_tz": 420
    },
    "id": "simple-campbell",
    "outputId": "6b101e56-a829-4276-8a96-d2d5dd0ed6e6"
   },
   "outputs": [
    {
     "data": {
      "text/html": [
       "<div>\n",
       "<style scoped>\n",
       "    .dataframe tbody tr th:only-of-type {\n",
       "        vertical-align: middle;\n",
       "    }\n",
       "\n",
       "    .dataframe tbody tr th {\n",
       "        vertical-align: top;\n",
       "    }\n",
       "\n",
       "    .dataframe thead th {\n",
       "        text-align: right;\n",
       "    }\n",
       "</style>\n",
       "<table border=\"1\" class=\"dataframe\">\n",
       "  <thead>\n",
       "    <tr style=\"text-align: right;\">\n",
       "      <th></th>\n",
       "      <th>State</th>\n",
       "      <th>Sex</th>\n",
       "      <th>Year</th>\n",
       "      <th>Name</th>\n",
       "      <th>Count</th>\n",
       "    </tr>\n",
       "  </thead>\n",
       "  <tbody>\n",
       "    <tr>\n",
       "      <th>361678</th>\n",
       "      <td>CA</td>\n",
       "      <td>M</td>\n",
       "      <td>2009</td>\n",
       "      <td>Aadan</td>\n",
       "      <td>6</td>\n",
       "    </tr>\n",
       "    <tr>\n",
       "      <th>376558</th>\n",
       "      <td>CA</td>\n",
       "      <td>M</td>\n",
       "      <td>2014</td>\n",
       "      <td>Aadan</td>\n",
       "      <td>5</td>\n",
       "    </tr>\n",
       "    <tr>\n",
       "      <th>358560</th>\n",
       "      <td>CA</td>\n",
       "      <td>M</td>\n",
       "      <td>2008</td>\n",
       "      <td>Aadan</td>\n",
       "      <td>7</td>\n",
       "    </tr>\n",
       "  </tbody>\n",
       "</table>\n",
       "</div>"
      ],
      "text/plain": [
       "       State Sex  Year   Name  Count\n",
       "361678    CA   M  2009  Aadan      6\n",
       "376558    CA   M  2014  Aadan      5\n",
       "358560    CA   M  2008  Aadan      7"
      ]
     },
     "execution_count": 138,
     "metadata": {},
     "output_type": "execute_result"
    }
   ],
   "source": [
    "babynames[(babynames['Name'] == 'Aadan')]"
   ]
  },
  {
   "cell_type": "code",
   "execution_count": 139,
   "metadata": {
    "colab": {
     "base_uri": "https://localhost:8080/",
     "height": 234
    },
    "executionInfo": {
     "elapsed": 990,
     "status": "ok",
     "timestamp": 1629912813825,
     "user": {
      "displayName": "Kaikai Liu",
      "photoUrl": "",
      "userId": "13976416703683897255"
     },
     "user_tz": 420
    },
    "id": "outdoor-elements",
    "outputId": "f50b2941-d7d3-4fe6-a7b8-4e5a32cc8e52"
   },
   "outputs": [
    {
     "data": {
      "text/html": [
       "<div>\n",
       "<style scoped>\n",
       "    .dataframe tbody tr th:only-of-type {\n",
       "        vertical-align: middle;\n",
       "    }\n",
       "\n",
       "    .dataframe tbody tr th {\n",
       "        vertical-align: top;\n",
       "    }\n",
       "\n",
       "    .dataframe thead th {\n",
       "        text-align: right;\n",
       "    }\n",
       "</style>\n",
       "<table border=\"1\" class=\"dataframe\">\n",
       "  <thead>\n",
       "    <tr style=\"text-align: right;\">\n",
       "      <th></th>\n",
       "      <th>Year</th>\n",
       "      <th>Count</th>\n",
       "    </tr>\n",
       "    <tr>\n",
       "      <th>Name</th>\n",
       "      <th></th>\n",
       "      <th></th>\n",
       "    </tr>\n",
       "  </thead>\n",
       "  <tbody>\n",
       "    <tr>\n",
       "      <th>Aadan</th>\n",
       "      <td>6</td>\n",
       "      <td>2</td>\n",
       "    </tr>\n",
       "    <tr>\n",
       "      <th>Aadarsh</th>\n",
       "      <td>0</td>\n",
       "      <td>0</td>\n",
       "    </tr>\n",
       "    <tr>\n",
       "      <th>Aaden</th>\n",
       "      <td>13</td>\n",
       "      <td>148</td>\n",
       "    </tr>\n",
       "    <tr>\n",
       "      <th>Aadhav</th>\n",
       "      <td>5</td>\n",
       "      <td>2</td>\n",
       "    </tr>\n",
       "    <tr>\n",
       "      <th>Aadhira</th>\n",
       "      <td>3</td>\n",
       "      <td>4</td>\n",
       "    </tr>\n",
       "  </tbody>\n",
       "</table>\n",
       "</div>"
      ],
      "text/plain": [
       "         Year  Count\n",
       "Name                \n",
       "Aadan       6      2\n",
       "Aadarsh     0      0\n",
       "Aaden      13    148\n",
       "Aadhav      5      2\n",
       "Aadhira     3      4"
      ]
     },
     "execution_count": 139,
     "metadata": {},
     "output_type": "execute_result"
    }
   ],
   "source": [
    "babynames.groupby(\"Name\").agg(ammd).head(5)"
   ]
  },
  {
   "cell_type": "code",
   "execution_count": 140,
   "metadata": {
    "colab": {
     "base_uri": "https://localhost:8080/",
     "height": 318
    },
    "executionInfo": {
     "elapsed": 777,
     "status": "ok",
     "timestamp": 1629912858013,
     "user": {
      "displayName": "Kaikai Liu",
      "photoUrl": "",
      "userId": "13976416703683897255"
     },
     "user_tz": 420
    },
    "id": "caring-detail",
    "outputId": "b3816289-105b-4ec2-8b8d-8f2858abfcae"
   },
   "outputs": [
    {
     "data": {
      "text/plain": [
       "<matplotlib.axes._subplots.AxesSubplot at 0x7ff224332790>"
      ]
     },
     "execution_count": 140,
     "metadata": {},
     "output_type": "execute_result"
    },
    {
     "data": {
      "image/png": "[encoded data removed]",
      "text/plain": [
       "<Figure size 432x288 with 1 Axes>"
      ]
     },
     "metadata": {},
     "output_type": "display_data"
    }
   ],
   "source": [
    "babynames.groupby(\"Year\").agg(ammd).plot()"
   ]
  },
  {
   "cell_type": "code",
   "execution_count": 141,
   "metadata": {
    "executionInfo": {
     "elapsed": 131,
     "status": "ok",
     "timestamp": 1629912863443,
     "user": {
      "displayName": "Kaikai Liu",
      "photoUrl": "",
      "userId": "13976416703683897255"
     },
     "user_tz": 420
    },
    "id": "irish-hometown"
   },
   "outputs": [],
   "source": [
    "#https://pandas.pydata.org/pandas-docs/version/0.23/generated/pandas.core.groupby.DataFrameGroupBy.agg.html\n",
    "df = pd.DataFrame({'A': [1, 1, 2, 2],\n",
    "                    'B': [1, 2, 3, 4],\n",
    "                  'C': np.random.randn(4)})"
   ]
  },
  {
   "cell_type": "code",
   "execution_count": 142,
   "metadata": {
    "colab": {
     "base_uri": "https://localhost:8080/",
     "height": 172
    },
    "executionInfo": {
     "elapsed": 134,
     "status": "ok",
     "timestamp": 1629912866015,
     "user": {
      "displayName": "Kaikai Liu",
      "photoUrl": "",
      "userId": "13976416703683897255"
     },
     "user_tz": 420
    },
    "id": "opening-virtue",
    "outputId": "d121caf6-ff37-41c3-bd96-4dfcc3c53111"
   },
   "outputs": [
    {
     "data": {
      "text/html": [
       "<div>\n",
       "<style scoped>\n",
       "    .dataframe tbody tr th:only-of-type {\n",
       "        vertical-align: middle;\n",
       "    }\n",
       "\n",
       "    .dataframe tbody tr th {\n",
       "        vertical-align: top;\n",
       "    }\n",
       "\n",
       "    .dataframe thead th {\n",
       "        text-align: right;\n",
       "    }\n",
       "</style>\n",
       "<table border=\"1\" class=\"dataframe\">\n",
       "  <thead>\n",
       "    <tr style=\"text-align: right;\">\n",
       "      <th></th>\n",
       "      <th>A</th>\n",
       "      <th>B</th>\n",
       "      <th>C</th>\n",
       "    </tr>\n",
       "  </thead>\n",
       "  <tbody>\n",
       "    <tr>\n",
       "      <th>0</th>\n",
       "      <td>1</td>\n",
       "      <td>1</td>\n",
       "      <td>0.065446</td>\n",
       "    </tr>\n",
       "    <tr>\n",
       "      <th>1</th>\n",
       "      <td>1</td>\n",
       "      <td>2</td>\n",
       "      <td>0.233834</td>\n",
       "    </tr>\n",
       "    <tr>\n",
       "      <th>2</th>\n",
       "      <td>2</td>\n",
       "      <td>3</td>\n",
       "      <td>0.304405</td>\n",
       "    </tr>\n",
       "    <tr>\n",
       "      <th>3</th>\n",
       "      <td>2</td>\n",
       "      <td>4</td>\n",
       "      <td>-1.296380</td>\n",
       "    </tr>\n",
       "  </tbody>\n",
       "</table>\n",
       "</div>"
      ],
      "text/plain": [
       "   A  B         C\n",
       "0  1  1  0.065446\n",
       "1  1  2  0.233834\n",
       "2  2  3  0.304405\n",
       "3  2  4 -1.296380"
      ]
     },
     "execution_count": 142,
     "metadata": {},
     "output_type": "execute_result"
    }
   ],
   "source": [
    "df"
   ]
  },
  {
   "cell_type": "code",
   "execution_count": 143,
   "metadata": {
    "colab": {
     "base_uri": "https://localhost:8080/",
     "height": 142
    },
    "executionInfo": {
     "elapsed": 134,
     "status": "ok",
     "timestamp": 1629912868069,
     "user": {
      "displayName": "Kaikai Liu",
      "photoUrl": "",
      "userId": "13976416703683897255"
     },
     "user_tz": 420
    },
    "id": "optical-motion",
    "outputId": "a376497b-f5b6-4cc2-ef5e-0d1c571971dc"
   },
   "outputs": [
    {
     "data": {
      "text/html": [
       "<div>\n",
       "<style scoped>\n",
       "    .dataframe tbody tr th:only-of-type {\n",
       "        vertical-align: middle;\n",
       "    }\n",
       "\n",
       "    .dataframe tbody tr th {\n",
       "        vertical-align: top;\n",
       "    }\n",
       "\n",
       "    .dataframe thead th {\n",
       "        text-align: right;\n",
       "    }\n",
       "</style>\n",
       "<table border=\"1\" class=\"dataframe\">\n",
       "  <thead>\n",
       "    <tr style=\"text-align: right;\">\n",
       "      <th></th>\n",
       "      <th>B</th>\n",
       "      <th>C</th>\n",
       "    </tr>\n",
       "    <tr>\n",
       "      <th>A</th>\n",
       "      <th></th>\n",
       "      <th></th>\n",
       "    </tr>\n",
       "  </thead>\n",
       "  <tbody>\n",
       "    <tr>\n",
       "      <th>1</th>\n",
       "      <td>1</td>\n",
       "      <td>0.065446</td>\n",
       "    </tr>\n",
       "    <tr>\n",
       "      <th>2</th>\n",
       "      <td>3</td>\n",
       "      <td>-1.296380</td>\n",
       "    </tr>\n",
       "  </tbody>\n",
       "</table>\n",
       "</div>"
      ],
      "text/plain": [
       "   B         C\n",
       "A             \n",
       "1  1  0.065446\n",
       "2  3 -1.296380"
      ]
     },
     "execution_count": 143,
     "metadata": {},
     "output_type": "execute_result"
    }
   ],
   "source": [
    "df.groupby('A').agg('min')"
   ]
  },
  {
   "cell_type": "code",
   "execution_count": 144,
   "metadata": {
    "colab": {
     "base_uri": "https://localhost:8080/",
     "height": 172
    },
    "executionInfo": {
     "elapsed": 173,
     "status": "ok",
     "timestamp": 1629912870379,
     "user": {
      "displayName": "Kaikai Liu",
      "photoUrl": "",
      "userId": "13976416703683897255"
     },
     "user_tz": 420
    },
    "id": "placed-asbestos",
    "outputId": "476996e5-5b82-4d0f-8d2c-a57be38695ea"
   },
   "outputs": [
    {
     "data": {
      "text/html": [
       "<div>\n",
       "<style scoped>\n",
       "    .dataframe tbody tr th:only-of-type {\n",
       "        vertical-align: middle;\n",
       "    }\n",
       "\n",
       "    .dataframe tbody tr th {\n",
       "        vertical-align: top;\n",
       "    }\n",
       "\n",
       "    .dataframe thead tr th {\n",
       "        text-align: left;\n",
       "    }\n",
       "\n",
       "    .dataframe thead tr:last-of-type th {\n",
       "        text-align: right;\n",
       "    }\n",
       "</style>\n",
       "<table border=\"1\" class=\"dataframe\">\n",
       "  <thead>\n",
       "    <tr>\n",
       "      <th></th>\n",
       "      <th colspan=\"2\" halign=\"left\">B</th>\n",
       "      <th colspan=\"2\" halign=\"left\">C</th>\n",
       "    </tr>\n",
       "    <tr>\n",
       "      <th></th>\n",
       "      <th>min</th>\n",
       "      <th>max</th>\n",
       "      <th>min</th>\n",
       "      <th>max</th>\n",
       "    </tr>\n",
       "    <tr>\n",
       "      <th>A</th>\n",
       "      <th></th>\n",
       "      <th></th>\n",
       "      <th></th>\n",
       "      <th></th>\n",
       "    </tr>\n",
       "  </thead>\n",
       "  <tbody>\n",
       "    <tr>\n",
       "      <th>1</th>\n",
       "      <td>1</td>\n",
       "      <td>2</td>\n",
       "      <td>0.065446</td>\n",
       "      <td>0.233834</td>\n",
       "    </tr>\n",
       "    <tr>\n",
       "      <th>2</th>\n",
       "      <td>3</td>\n",
       "      <td>4</td>\n",
       "      <td>-1.296380</td>\n",
       "      <td>0.304405</td>\n",
       "    </tr>\n",
       "  </tbody>\n",
       "</table>\n",
       "</div>"
      ],
      "text/plain": [
       "    B             C          \n",
       "  min max       min       max\n",
       "A                            \n",
       "1   1   2  0.065446  0.233834\n",
       "2   3   4 -1.296380  0.304405"
      ]
     },
     "execution_count": 144,
     "metadata": {},
     "output_type": "execute_result"
    }
   ],
   "source": [
    "df.groupby('A').agg(['min', 'max'])"
   ]
  },
  {
   "cell_type": "markdown",
   "metadata": {
    "id": "smart-lawsuit"
   },
   "source": [
    "## Other groupby Features"
   ]
  },
  {
   "cell_type": "markdown",
   "metadata": {
    "id": "exotic-somerset"
   },
   "source": [
    "It is possible to group a DataFrame by multiple features. For example, if we group by Year and Sex we get back a DataFrame with the total number of babies of each sex born in each year."
   ]
  },
  {
   "cell_type": "code",
   "execution_count": 145,
   "metadata": {
    "colab": {
     "base_uri": "https://localhost:8080/",
     "height": 265
    },
    "executionInfo": {
     "elapsed": 148,
     "status": "ok",
     "timestamp": 1629912873624,
     "user": {
      "displayName": "Kaikai Liu",
      "photoUrl": "",
      "userId": "13976416703683897255"
     },
     "user_tz": 420
    },
    "id": "reflected-scale",
    "outputId": "4fd8bdda-b82e-4b55-97f6-bdd6190e17a3"
   },
   "outputs": [
    {
     "data": {
      "text/html": [
       "<div>\n",
       "<style scoped>\n",
       "    .dataframe tbody tr th:only-of-type {\n",
       "        vertical-align: middle;\n",
       "    }\n",
       "\n",
       "    .dataframe tbody tr th {\n",
       "        vertical-align: top;\n",
       "    }\n",
       "\n",
       "    .dataframe thead th {\n",
       "        text-align: right;\n",
       "    }\n",
       "</style>\n",
       "<table border=\"1\" class=\"dataframe\">\n",
       "  <thead>\n",
       "    <tr style=\"text-align: right;\">\n",
       "      <th></th>\n",
       "      <th></th>\n",
       "      <th>Count</th>\n",
       "    </tr>\n",
       "    <tr>\n",
       "      <th>Year</th>\n",
       "      <th>Sex</th>\n",
       "      <th></th>\n",
       "    </tr>\n",
       "  </thead>\n",
       "  <tbody>\n",
       "    <tr>\n",
       "      <th rowspan=\"2\" valign=\"top\">1910</th>\n",
       "      <th>F</th>\n",
       "      <td>5950</td>\n",
       "    </tr>\n",
       "    <tr>\n",
       "      <th>M</th>\n",
       "      <td>3213</td>\n",
       "    </tr>\n",
       "    <tr>\n",
       "      <th rowspan=\"2\" valign=\"top\">1911</th>\n",
       "      <th>F</th>\n",
       "      <td>6602</td>\n",
       "    </tr>\n",
       "    <tr>\n",
       "      <th>M</th>\n",
       "      <td>3381</td>\n",
       "    </tr>\n",
       "    <tr>\n",
       "      <th rowspan=\"2\" valign=\"top\">1912</th>\n",
       "      <th>F</th>\n",
       "      <td>9804</td>\n",
       "    </tr>\n",
       "    <tr>\n",
       "      <th>M</th>\n",
       "      <td>8142</td>\n",
       "    </tr>\n",
       "  </tbody>\n",
       "</table>\n",
       "</div>"
      ],
      "text/plain": [
       "          Count\n",
       "Year Sex       \n",
       "1910 F     5950\n",
       "     M     3213\n",
       "1911 F     6602\n",
       "     M     3381\n",
       "1912 F     9804\n",
       "     M     8142"
      ]
     },
     "execution_count": 145,
     "metadata": {},
     "output_type": "execute_result"
    }
   ],
   "source": [
    "babynames.groupby([\"Year\", \"Sex\"]).agg(sum).head(6)"
   ]
  },
  {
   "cell_type": "markdown",
   "metadata": {
    "id": "trying-marathon"
   },
   "source": [
    "The DataFrame resulting from the aggregation operation is now multi-indexed. That is, it has more than one dimension to its index. We will explore this in next week's exercises."
   ]
  },
  {
   "cell_type": "markdown",
   "metadata": {
    "id": "handmade-activation"
   },
   "source": [
    "### groupby.size()"
   ]
  },
  {
   "cell_type": "code",
   "execution_count": 146,
   "metadata": {
    "colab": {
     "base_uri": "https://localhost:8080/"
    },
    "executionInfo": {
     "elapsed": 125,
     "status": "ok",
     "timestamp": 1629912877055,
     "user": {
      "displayName": "Kaikai Liu",
      "photoUrl": "",
      "userId": "13976416703683897255"
     },
     "user_tz": 420
    },
    "id": "dramatic-strength",
    "outputId": "ffcc0d25-78b9-4372-8ac3-add0b3201745",
    "scrolled": true
   },
   "outputs": [
    {
     "data": {
      "text/plain": [
       "Year\n",
       "2006    7076\n",
       "2007    7250\n",
       "2008    7158\n",
       "2009    7121\n",
       "2010    7010\n",
       "2011    6883\n",
       "2012    7011\n",
       "2013    6864\n",
       "2014    6954\n",
       "2015    6874\n",
       "2016    6777\n",
       "2017    6692\n",
       "2018    6547\n",
       "2019    6510\n",
       "2020    6363\n",
       "dtype: int64"
      ]
     },
     "execution_count": 146,
     "metadata": {},
     "output_type": "execute_result"
    }
   ],
   "source": [
    "#size returns a Series giving the size of each group\n",
    "babynames.groupby(\"Year\").size().tail(15)"
   ]
  },
  {
   "cell_type": "markdown",
   "metadata": {
    "id": "dangerous-necklace"
   },
   "source": [
    "## Finding the number of babies born in each year of each sex."
   ]
  },
  {
   "cell_type": "markdown",
   "metadata": {
    "id": "confidential-nitrogen"
   },
   "source": [
    "Suppose we want to build a table showing the total number of babies born of each sex in each year. One way is to groupby using both columns of interest."
   ]
  },
  {
   "cell_type": "code",
   "execution_count": 147,
   "metadata": {
    "colab": {
     "base_uri": "https://localhost:8080/",
     "height": 265
    },
    "executionInfo": {
     "elapsed": 148,
     "status": "ok",
     "timestamp": 1629912882714,
     "user": {
      "displayName": "Kaikai Liu",
      "photoUrl": "",
      "userId": "13976416703683897255"
     },
     "user_tz": 420
    },
    "id": "limiting-gates",
    "outputId": "ca2250e5-eb0a-4ec9-c475-47601ebe2264",
    "scrolled": true
   },
   "outputs": [
    {
     "data": {
      "text/html": [
       "<div>\n",
       "<style scoped>\n",
       "    .dataframe tbody tr th:only-of-type {\n",
       "        vertical-align: middle;\n",
       "    }\n",
       "\n",
       "    .dataframe tbody tr th {\n",
       "        vertical-align: top;\n",
       "    }\n",
       "\n",
       "    .dataframe thead th {\n",
       "        text-align: right;\n",
       "    }\n",
       "</style>\n",
       "<table border=\"1\" class=\"dataframe\">\n",
       "  <thead>\n",
       "    <tr style=\"text-align: right;\">\n",
       "      <th></th>\n",
       "      <th></th>\n",
       "      <th>Count</th>\n",
       "    </tr>\n",
       "    <tr>\n",
       "      <th>Year</th>\n",
       "      <th>Sex</th>\n",
       "      <th></th>\n",
       "    </tr>\n",
       "  </thead>\n",
       "  <tbody>\n",
       "    <tr>\n",
       "      <th rowspan=\"2\" valign=\"top\">1910</th>\n",
       "      <th>F</th>\n",
       "      <td>5950</td>\n",
       "    </tr>\n",
       "    <tr>\n",
       "      <th>M</th>\n",
       "      <td>3213</td>\n",
       "    </tr>\n",
       "    <tr>\n",
       "      <th rowspan=\"2\" valign=\"top\">1911</th>\n",
       "      <th>F</th>\n",
       "      <td>6602</td>\n",
       "    </tr>\n",
       "    <tr>\n",
       "      <th>M</th>\n",
       "      <td>3381</td>\n",
       "    </tr>\n",
       "    <tr>\n",
       "      <th rowspan=\"2\" valign=\"top\">1912</th>\n",
       "      <th>F</th>\n",
       "      <td>9804</td>\n",
       "    </tr>\n",
       "    <tr>\n",
       "      <th>M</th>\n",
       "      <td>8142</td>\n",
       "    </tr>\n",
       "  </tbody>\n",
       "</table>\n",
       "</div>"
      ],
      "text/plain": [
       "          Count\n",
       "Year Sex       \n",
       "1910 F     5950\n",
       "     M     3213\n",
       "1911 F     6602\n",
       "     M     3381\n",
       "1912 F     9804\n",
       "     M     8142"
      ]
     },
     "execution_count": 147,
     "metadata": {},
     "output_type": "execute_result"
    }
   ],
   "source": [
    "babynames.groupby([\"Year\", \"Sex\"]).agg(sum).head(6)"
   ]
  },
  {
   "cell_type": "markdown",
   "metadata": {
    "id": "lonely-silver"
   },
   "source": [
    "A more natural approach is to use a pivot table. https://pandas.pydata.org/docs/reference/api/pandas.pivot_table.html"
   ]
  },
  {
   "cell_type": "code",
   "execution_count": 148,
   "metadata": {
    "colab": {
     "base_uri": "https://localhost:8080/",
     "height": 265
    },
    "executionInfo": {
     "elapsed": 127,
     "status": "ok",
     "timestamp": 1629912891070,
     "user": {
      "displayName": "Kaikai Liu",
      "photoUrl": "",
      "userId": "13976416703683897255"
     },
     "user_tz": 420
    },
    "id": "official-richmond",
    "outputId": "361ad91b-b881-485f-9ff5-9f09065a1152"
   },
   "outputs": [
    {
     "data": {
      "text/html": [
       "<div>\n",
       "<style scoped>\n",
       "    .dataframe tbody tr th:only-of-type {\n",
       "        vertical-align: middle;\n",
       "    }\n",
       "\n",
       "    .dataframe tbody tr th {\n",
       "        vertical-align: top;\n",
       "    }\n",
       "\n",
       "    .dataframe thead th {\n",
       "        text-align: right;\n",
       "    }\n",
       "</style>\n",
       "<table border=\"1\" class=\"dataframe\">\n",
       "  <thead>\n",
       "    <tr style=\"text-align: right;\">\n",
       "      <th>Sex</th>\n",
       "      <th>F</th>\n",
       "      <th>M</th>\n",
       "    </tr>\n",
       "    <tr>\n",
       "      <th>Year</th>\n",
       "      <th></th>\n",
       "      <th></th>\n",
       "    </tr>\n",
       "  </thead>\n",
       "  <tbody>\n",
       "    <tr>\n",
       "      <th>1910</th>\n",
       "      <td>295</td>\n",
       "      <td>237</td>\n",
       "    </tr>\n",
       "    <tr>\n",
       "      <th>1911</th>\n",
       "      <td>390</td>\n",
       "      <td>214</td>\n",
       "    </tr>\n",
       "    <tr>\n",
       "      <th>1912</th>\n",
       "      <td>534</td>\n",
       "      <td>501</td>\n",
       "    </tr>\n",
       "    <tr>\n",
       "      <th>1913</th>\n",
       "      <td>584</td>\n",
       "      <td>614</td>\n",
       "    </tr>\n",
       "    <tr>\n",
       "      <th>1914</th>\n",
       "      <td>773</td>\n",
       "      <td>769</td>\n",
       "    </tr>\n",
       "    <tr>\n",
       "      <th>1915</th>\n",
       "      <td>998</td>\n",
       "      <td>1033</td>\n",
       "    </tr>\n",
       "  </tbody>\n",
       "</table>\n",
       "</div>"
      ],
      "text/plain": [
       "Sex     F     M\n",
       "Year           \n",
       "1910  295   237\n",
       "1911  390   214\n",
       "1912  534   501\n",
       "1913  584   614\n",
       "1914  773   769\n",
       "1915  998  1033"
      ]
     },
     "execution_count": 148,
     "metadata": {},
     "output_type": "execute_result"
    }
   ],
   "source": [
    "babynames_pivot = babynames.pivot_table(\n",
    "    index='Year', # the rows (turned into index)\n",
    "    columns='Sex', # the column values\n",
    "    values='Count', # the field(s) to processed in each group\n",
    "    aggfunc=np.max, # group operation\n",
    ")\n",
    "babynames_pivot.head(6)"
   ]
  },
  {
   "cell_type": "markdown",
   "metadata": {
    "id": "laden-excess"
   },
   "source": [
    "Since our queries are getting pretty long, I've stuck them inside parentheses which allows us to spread them over many lines."
   ]
  },
  {
   "cell_type": "code",
   "execution_count": 149,
   "metadata": {
    "colab": {
     "base_uri": "https://localhost:8080/",
     "height": 203
    },
    "executionInfo": {
     "elapsed": 140,
     "status": "ok",
     "timestamp": 1629912917657,
     "user": {
      "displayName": "Kaikai Liu",
      "photoUrl": "",
      "userId": "13976416703683897255"
     },
     "user_tz": 420
    },
    "id": "alpine-westminster",
    "outputId": "cc4098ae-5b1c-4453-d827-9be693f1ab8f",
    "scrolled": true
   },
   "outputs": [
    {
     "data": {
      "text/html": [
       "<div>\n",
       "<style scoped>\n",
       "    .dataframe tbody tr th:only-of-type {\n",
       "        vertical-align: middle;\n",
       "    }\n",
       "\n",
       "    .dataframe tbody tr th {\n",
       "        vertical-align: top;\n",
       "    }\n",
       "\n",
       "    .dataframe thead th {\n",
       "        text-align: right;\n",
       "    }\n",
       "</style>\n",
       "<table border=\"1\" class=\"dataframe\">\n",
       "  <thead>\n",
       "    <tr style=\"text-align: right;\">\n",
       "      <th></th>\n",
       "      <th>State</th>\n",
       "      <th>Sex</th>\n",
       "      <th>Year</th>\n",
       "      <th>Name</th>\n",
       "      <th>Count</th>\n",
       "    </tr>\n",
       "  </thead>\n",
       "  <tbody>\n",
       "    <tr>\n",
       "      <th>221160</th>\n",
       "      <td>CA</td>\n",
       "      <td>F</td>\n",
       "      <td>2018</td>\n",
       "      <td>Emma</td>\n",
       "      <td>2743</td>\n",
       "    </tr>\n",
       "    <tr>\n",
       "      <th>385701</th>\n",
       "      <td>CA</td>\n",
       "      <td>M</td>\n",
       "      <td>2018</td>\n",
       "      <td>Noah</td>\n",
       "      <td>2569</td>\n",
       "    </tr>\n",
       "    <tr>\n",
       "      <th>221161</th>\n",
       "      <td>CA</td>\n",
       "      <td>F</td>\n",
       "      <td>2018</td>\n",
       "      <td>Mia</td>\n",
       "      <td>2499</td>\n",
       "    </tr>\n",
       "    <tr>\n",
       "      <th>221162</th>\n",
       "      <td>CA</td>\n",
       "      <td>F</td>\n",
       "      <td>2018</td>\n",
       "      <td>Olivia</td>\n",
       "      <td>2465</td>\n",
       "    </tr>\n",
       "    <tr>\n",
       "      <th>385702</th>\n",
       "      <td>CA</td>\n",
       "      <td>M</td>\n",
       "      <td>2018</td>\n",
       "      <td>Liam</td>\n",
       "      <td>2413</td>\n",
       "    </tr>\n",
       "  </tbody>\n",
       "</table>\n",
       "</div>"
      ],
      "text/plain": [
       "       State Sex  Year    Name  Count\n",
       "221160    CA   F  2018    Emma   2743\n",
       "385701    CA   M  2018    Noah   2569\n",
       "221161    CA   F  2018     Mia   2499\n",
       "221162    CA   F  2018  Olivia   2465\n",
       "385702    CA   M  2018    Liam   2413"
      ]
     },
     "execution_count": 149,
     "metadata": {},
     "output_type": "execute_result"
    }
   ],
   "source": [
    "(\n",
    "babynames[babynames[\"Year\"] == 2018]\n",
    "    .sort_values(by = \"Count\", ascending = False)\n",
    "    .head(5)\n",
    ")"
   ]
  }
 ],
 "metadata": {
  "colab": {
   "authorship_tag": "ABX9TyPWSEd5a6mcG029Vv6qLpqG",
   "collapsed_sections": [],
   "name": "Dataintro.ipynb",
   "provenance": [],
   "toc_visible": true
  },
  "kernelspec": {
   "display_name": "Python 3",
   "language": "python",
   "name": "python3"
  },
  "language_info": {
   "codemirror_mode": {
    "name": "ipython",
    "version": 3
   },
   "file_extension": ".py",
   "mimetype": "text/x-python",
   "name": "python",
   "nbconvert_exporter": "python",
   "pygments_lexer": "ipython3",
   "version": "3.8.3"
  }
 },
 "nbformat": 4,
 "nbformat_minor": 4
}
