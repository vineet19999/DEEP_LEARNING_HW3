{
  "cells": [
    {
      "cell_type": "markdown",
      "metadata": {
        "id": "dzNng6vCL9eP"
      },
      "source": [
        "#Python Tutorial"
      ]
    },
    {
      "cell_type": "code",
      "execution_count": null,
      "metadata": {
        "colab": {
          "base_uri": "https://localhost:8080/"
        },
        "id": "1L4Am0QATgOc",
        "outputId": "af8c5ff0-1355-4a1e-91b0-2a4abdc6d2aa"
      },
      "outputs": [
        {
          "output_type": "stream",
          "name": "stdout",
          "text": [
            "Python 3.7.12\n"
          ]
        }
      ],
      "source": [
        "!python --version"
      ]
    },
    {
      "cell_type": "markdown",
      "metadata": {
        "id": "JAFKYgrpL9eY"
      },
      "source": [
        "##Basics of Python"
      ]
    },
    {
      "cell_type": "markdown",
      "metadata": {
        "id": "RbFS6tdgL9ea"
      },
      "source": [
        "Python is a high-level, dynamically typed multiparadigm programming language. Python code is often said to be almost like pseudocode, since it allows you to express very powerful ideas in very few lines of code while being very readable. "
      ]
    },
    {
      "cell_type": "markdown",
      "metadata": {
        "id": "NwS_hu4xL9eo"
      },
      "source": [
        "###Basic data types"
      ]
    },
    {
      "cell_type": "markdown",
      "metadata": {
        "id": "MGS0XEWoL9er"
      },
      "source": [
        "Integers and floats work as you would expect from other languages:"
      ]
    },
    {
      "cell_type": "code",
      "execution_count": null,
      "metadata": {
        "colab": {
          "base_uri": "https://localhost:8080/"
        },
        "id": "KheDr_zDL9es",
        "outputId": "6327cd14-438a-45e3-ff40-0ad468eefb82"
      },
      "outputs": [
        {
          "output_type": "stream",
          "name": "stdout",
          "text": [
            "3 <class 'int'>\n"
          ]
        }
      ],
      "source": [
        "x = 3\n",
        "print(x, type(x))"
      ]
    },
    {
      "cell_type": "code",
      "execution_count": null,
      "metadata": {
        "colab": {
          "base_uri": "https://localhost:8080/"
        },
        "id": "sk_8DFcuL9ey",
        "outputId": "c510f701-cdaf-4a3a-90bd-c2a627e354c0"
      },
      "outputs": [
        {
          "output_type": "stream",
          "name": "stdout",
          "text": [
            "4\n",
            "2\n",
            "6\n",
            "9\n"
          ]
        }
      ],
      "source": [
        "print(x + 1)   # Addition\n",
        "print(x - 1)   # Subtraction\n",
        "print(x * 2)   # Multiplication\n",
        "print(x ** 2)  # Exponentiation"
      ]
    },
    {
      "cell_type": "code",
      "execution_count": null,
      "metadata": {
        "colab": {
          "base_uri": "https://localhost:8080/"
        },
        "id": "U4Jl8K0tL9e4",
        "outputId": "0e258e5c-6729-4dc5-d8a9-a3ad06da913a"
      },
      "outputs": [
        {
          "output_type": "stream",
          "name": "stdout",
          "text": [
            "4\n",
            "8\n"
          ]
        }
      ],
      "source": [
        "x += 1\n",
        "print(x)\n",
        "x *= 2\n",
        "print(x)"
      ]
    },
    {
      "cell_type": "code",
      "execution_count": null,
      "metadata": {
        "colab": {
          "base_uri": "https://localhost:8080/"
        },
        "id": "w-nZ0Sg_L9e9",
        "outputId": "7dc73dd2-ae7d-4e42-ffaa-72cd860f4ce7"
      },
      "outputs": [
        {
          "output_type": "stream",
          "name": "stdout",
          "text": [
            "<class 'float'>\n",
            "2.5 3.5 5.0 6.25\n"
          ]
        }
      ],
      "source": [
        "y = 2.5\n",
        "print(type(y))\n",
        "print(y, y + 1, y * 2, y ** 2)"
      ]
    },
    {
      "cell_type": "code",
      "source": [
        "#%\tModulus/Remainder\n",
        "22 % 8"
      ],
      "metadata": {
        "colab": {
          "base_uri": "https://localhost:8080/"
        },
        "id": "b4H_xOaUSX2T",
        "outputId": "de14fbb1-4e5b-467a-9924-bf48a9a9cabd"
      },
      "execution_count": null,
      "outputs": [
        {
          "output_type": "execute_result",
          "data": {
            "text/plain": [
              "6"
            ]
          },
          "metadata": {},
          "execution_count": 147
        }
      ]
    },
    {
      "cell_type": "code",
      "source": [
        "#//\tInteger division\n",
        "22 // 8"
      ],
      "metadata": {
        "colab": {
          "base_uri": "https://localhost:8080/"
        },
        "id": "2nxeNANWSfBr",
        "outputId": "004e2187-26fc-4265-894f-1868b2c96a6d"
      },
      "execution_count": null,
      "outputs": [
        {
          "output_type": "execute_result",
          "data": {
            "text/plain": [
              "2"
            ]
          },
          "metadata": {},
          "execution_count": 148
        }
      ]
    },
    {
      "cell_type": "code",
      "source": [
        "#/\tDivision\n",
        "22 / 8"
      ],
      "metadata": {
        "colab": {
          "base_uri": "https://localhost:8080/"
        },
        "id": "vGLZ-GxZSiyv",
        "outputId": "77abf182-9434-479c-c626-32deaa3a35a8"
      },
      "execution_count": null,
      "outputs": [
        {
          "output_type": "execute_result",
          "data": {
            "text/plain": [
              "2.75"
            ]
          },
          "metadata": {},
          "execution_count": 149
        }
      ]
    },
    {
      "cell_type": "markdown",
      "metadata": {
        "id": "r2A9ApyaL9fB"
      },
      "source": [
        "Note that unlike many languages, Python does not have unary increment (x++) or decrement (x--) operators.\n",
        "\n",
        "Python also has built-in types for long integers and complex numbers; you can find all of the details in the [documentation](https://docs.python.org/3.7/library/stdtypes.html#numeric-types-int-float-long-complex)."
      ]
    },
    {
      "cell_type": "markdown",
      "metadata": {
        "id": "Nv_LIVOJL9fD"
      },
      "source": [
        "Python implements all of the usual operators for Boolean logic, but uses English words rather than symbols (`&&`, `||`, etc.):"
      ]
    },
    {
      "cell_type": "code",
      "execution_count": null,
      "metadata": {
        "colab": {
          "base_uri": "https://localhost:8080/"
        },
        "id": "RvoImwgGL9fE",
        "outputId": "5d77291e-a081-4e6e-8285-6bd7d74fe742"
      },
      "outputs": [
        {
          "output_type": "stream",
          "name": "stdout",
          "text": [
            "<class 'bool'>\n"
          ]
        }
      ],
      "source": [
        "t, f = True, False\n",
        "print(type(t))"
      ]
    },
    {
      "cell_type": "markdown",
      "metadata": {
        "id": "YQgmQfOgL9fI"
      },
      "source": [
        "Now we let's look at the operations:"
      ]
    },
    {
      "cell_type": "code",
      "execution_count": null,
      "metadata": {
        "colab": {
          "base_uri": "https://localhost:8080/"
        },
        "id": "6zYm7WzCL9fK",
        "outputId": "56c26288-795b-4884-f653-343f9b1c8f3d"
      },
      "outputs": [
        {
          "output_type": "stream",
          "name": "stdout",
          "text": [
            "False\n",
            "True\n",
            "False\n",
            "True\n"
          ]
        }
      ],
      "source": [
        "print(t and f) # Logical AND;\n",
        "print(t or f)  # Logical OR;\n",
        "print(not t)   # Logical NOT;\n",
        "print(t != f)  # Logical XOR;"
      ]
    },
    {
      "cell_type": "markdown",
      "source": [
        "####String"
      ],
      "metadata": {
        "id": "2eGzUZnBjZJQ"
      }
    },
    {
      "cell_type": "code",
      "execution_count": null,
      "metadata": {
        "colab": {
          "base_uri": "https://localhost:8080/"
        },
        "id": "AijEDtPFL9fP",
        "outputId": "34bd4000-8977-413e-eef0-5e97ba73d0e8"
      },
      "outputs": [
        {
          "output_type": "stream",
          "name": "stdout",
          "text": [
            "hello 5\n"
          ]
        }
      ],
      "source": [
        "hello = 'hello'   # String literals can use single quotes\n",
        "world = \"world\"   # or double quotes; it does not matter\n",
        "print(hello, len(hello))"
      ]
    },
    {
      "cell_type": "code",
      "execution_count": null,
      "metadata": {
        "colab": {
          "base_uri": "https://localhost:8080/"
        },
        "id": "saDeaA7hL9fT",
        "outputId": "206b167e-990e-4308-a431-ee12fc4ecd62"
      },
      "outputs": [
        {
          "output_type": "stream",
          "name": "stdout",
          "text": [
            "hello world\n"
          ]
        }
      ],
      "source": [
        "hw = hello + ' ' + world  # String concatenation\n",
        "print(hw)"
      ]
    },
    {
      "cell_type": "code",
      "execution_count": null,
      "metadata": {
        "colab": {
          "base_uri": "https://localhost:8080/"
        },
        "id": "Nji1_UjYL9fY",
        "outputId": "0c906362-3fe6-4ac9-a583-dfd861d46432"
      },
      "outputs": [
        {
          "output_type": "stream",
          "name": "stdout",
          "text": [
            "hello world 12\n"
          ]
        }
      ],
      "source": [
        "hw12 = '{} {} {}'.format(hello, world, 12)  # string formatting\n",
        "print(hw12)"
      ]
    },
    {
      "cell_type": "markdown",
      "metadata": {
        "id": "bUpl35bIL9fc"
      },
      "source": [
        "String objects have a bunch of useful methods; for example:"
      ]
    },
    {
      "cell_type": "code",
      "execution_count": null,
      "metadata": {
        "colab": {
          "base_uri": "https://localhost:8080/"
        },
        "id": "VOxGatlsL9fd",
        "outputId": "ac6ed141-d2c1-471f-c340-1f5e7ddd42a6"
      },
      "outputs": [
        {
          "output_type": "stream",
          "name": "stdout",
          "text": [
            "Hello\n",
            "HELLO\n",
            "  hello\n",
            " hello \n",
            "he(ell)(ell)o\n",
            "world\n"
          ]
        }
      ],
      "source": [
        "s = \"hello\"\n",
        "print(s.capitalize())  # Capitalize a string\n",
        "print(s.upper())       # Convert a string to uppercase; prints \"HELLO\"\n",
        "print(s.rjust(7))      # Right-justify a string, padding with spaces\n",
        "print(s.center(7))     # Center a string, padding with spaces\n",
        "print(s.replace('l', '(ell)'))  # Replace all instances of one substring with another\n",
        "print('  world '.strip())  # Strip leading and trailing whitespace"
      ]
    },
    {
      "cell_type": "code",
      "source": [
        "print('  world '.lstrip())\n",
        "print('  world '.rstrip())"
      ],
      "metadata": {
        "colab": {
          "base_uri": "https://localhost:8080/"
        },
        "id": "uIVIDHdekj4L",
        "outputId": "3df1721e-ee7d-4040-b462-a70bb001bffc"
      },
      "execution_count": 46,
      "outputs": [
        {
          "output_type": "stream",
          "name": "stdout",
          "text": [
            "world \n",
            "  world\n"
          ]
        }
      ]
    },
    {
      "cell_type": "markdown",
      "metadata": {
        "id": "06cayXLtL9fi"
      },
      "source": [
        "You can find a list of all string methods in the [documentation](https://docs.python.org/3.7/library/stdtypes.html#string-methods)."
      ]
    },
    {
      "cell_type": "code",
      "source": [
        "spam = print('Hello!')\n",
        "spam is None"
      ],
      "metadata": {
        "colab": {
          "base_uri": "https://localhost:8080/"
        },
        "id": "yxg_ESqgS7Oz",
        "outputId": "3106b1a2-d470-444f-ec6c-017c7b747c61"
      },
      "execution_count": null,
      "outputs": [
        {
          "output_type": "stream",
          "name": "stdout",
          "text": [
            "Hello!\n"
          ]
        },
        {
          "output_type": "execute_result",
          "data": {
            "text/plain": [
              "True"
            ]
          },
          "metadata": {},
          "execution_count": 151
        }
      ]
    },
    {
      "cell_type": "markdown",
      "source": [
        "never compare to None with the == operator. Always use is"
      ],
      "metadata": {
        "id": "dn2vH8i5TBaq"
      }
    },
    {
      "cell_type": "markdown",
      "source": [
        "A raw string completely ignores all escape characters and prints any backslash that appears in the string."
      ],
      "metadata": {
        "id": "tky72JngjtBr"
      }
    },
    {
      "cell_type": "code",
      "source": [
        "print(r'That is Carol\\'s cat.')"
      ],
      "metadata": {
        "colab": {
          "base_uri": "https://localhost:8080/"
        },
        "id": "rd9Iez-cjojR",
        "outputId": "315f3b2d-d906-4e60-85fd-7e655e4fa572"
      },
      "execution_count": 35,
      "outputs": [
        {
          "output_type": "stream",
          "name": "stdout",
          "text": [
            "That is Carol\\'s cat.\n"
          ]
        }
      ]
    },
    {
      "cell_type": "markdown",
      "source": [
        "Indexing and Slicing Strings"
      ],
      "metadata": {
        "id": "ovnNVOJgj0jN"
      }
    },
    {
      "cell_type": "code",
      "source": [
        "spam = 'Hello world!'\n",
        "spam[0]"
      ],
      "metadata": {
        "colab": {
          "base_uri": "https://localhost:8080/",
          "height": 35
        },
        "id": "SRf2SPYej08h",
        "outputId": "852a2286-5654-4e7d-aec8-66f3305eb4ea"
      },
      "execution_count": 36,
      "outputs": [
        {
          "output_type": "execute_result",
          "data": {
            "application/vnd.google.colaboratory.intrinsic+json": {
              "type": "string"
            },
            "text/plain": [
              "'H'"
            ]
          },
          "metadata": {},
          "execution_count": 36
        }
      ]
    },
    {
      "cell_type": "code",
      "source": [
        "spam[0:5]"
      ],
      "metadata": {
        "colab": {
          "base_uri": "https://localhost:8080/",
          "height": 35
        },
        "id": "ekPUYCFgj5qZ",
        "outputId": "7d2fc219-0d42-4d97-b0da-2325f45d8a5f"
      },
      "execution_count": 37,
      "outputs": [
        {
          "output_type": "execute_result",
          "data": {
            "application/vnd.google.colaboratory.intrinsic+json": {
              "type": "string"
            },
            "text/plain": [
              "'Hello'"
            ]
          },
          "metadata": {},
          "execution_count": 37
        }
      ]
    },
    {
      "cell_type": "code",
      "source": [
        "spam[6:-1]"
      ],
      "metadata": {
        "colab": {
          "base_uri": "https://localhost:8080/",
          "height": 35
        },
        "id": "4ne7aCi7j726",
        "outputId": "2f046ab0-ab38-478d-87c0-f2de6991e6b9"
      },
      "execution_count": 38,
      "outputs": [
        {
          "output_type": "execute_result",
          "data": {
            "application/vnd.google.colaboratory.intrinsic+json": {
              "type": "string"
            },
            "text/plain": [
              "'world'"
            ]
          },
          "metadata": {},
          "execution_count": 38
        }
      ]
    },
    {
      "cell_type": "code",
      "source": [
        "spam[:-1]"
      ],
      "metadata": {
        "colab": {
          "base_uri": "https://localhost:8080/",
          "height": 35
        },
        "id": "JD8bex2Yj-Jg",
        "outputId": "474111d1-3c7b-4cfc-d37b-f30d46550c19"
      },
      "execution_count": 39,
      "outputs": [
        {
          "output_type": "execute_result",
          "data": {
            "application/vnd.google.colaboratory.intrinsic+json": {
              "type": "string"
            },
            "text/plain": [
              "'Hello world'"
            ]
          },
          "metadata": {},
          "execution_count": 39
        }
      ]
    },
    {
      "cell_type": "markdown",
      "source": [
        "The in and not in Operators with Strings"
      ],
      "metadata": {
        "id": "nTNXT868kCqQ"
      }
    },
    {
      "cell_type": "code",
      "source": [
        "'Hello' in 'Hello World'"
      ],
      "metadata": {
        "colab": {
          "base_uri": "https://localhost:8080/"
        },
        "id": "24hcjoHKkBMq",
        "outputId": "b350cfb6-325c-41ce-bdf9-b6dc5a12a3e5"
      },
      "execution_count": 40,
      "outputs": [
        {
          "output_type": "execute_result",
          "data": {
            "text/plain": [
              "True"
            ]
          },
          "metadata": {},
          "execution_count": 40
        }
      ]
    },
    {
      "cell_type": "code",
      "source": [
        "'Hello world!'.startswith('Hello')"
      ],
      "metadata": {
        "colab": {
          "base_uri": "https://localhost:8080/"
        },
        "id": "NiBPvqHgkKA4",
        "outputId": "bbe29199-b0d9-47a1-851b-d6aaa5bcee2a"
      },
      "execution_count": 41,
      "outputs": [
        {
          "output_type": "execute_result",
          "data": {
            "text/plain": [
              "True"
            ]
          },
          "metadata": {},
          "execution_count": 41
        }
      ]
    },
    {
      "cell_type": "code",
      "source": [
        "'Hello world!'.endswith('world!')"
      ],
      "metadata": {
        "colab": {
          "base_uri": "https://localhost:8080/"
        },
        "id": "0pzog1CMkLxJ",
        "outputId": "49abf3a5-a60e-4c4b-fba5-863ab108b885"
      },
      "execution_count": 42,
      "outputs": [
        {
          "output_type": "execute_result",
          "data": {
            "text/plain": [
              "True"
            ]
          },
          "metadata": {},
          "execution_count": 42
        }
      ]
    },
    {
      "cell_type": "markdown",
      "source": [
        "The join() and split() String Methods"
      ],
      "metadata": {
        "id": "vkKiEGdikOiz"
      }
    },
    {
      "cell_type": "code",
      "source": [
        "', '.join(['cats', 'rats', 'bats'])"
      ],
      "metadata": {
        "colab": {
          "base_uri": "https://localhost:8080/",
          "height": 35
        },
        "id": "ZOMhigeRkPQZ",
        "outputId": "6086be70-eca1-449a-f546-1e0bdd78fd5b"
      },
      "execution_count": 43,
      "outputs": [
        {
          "output_type": "execute_result",
          "data": {
            "application/vnd.google.colaboratory.intrinsic+json": {
              "type": "string"
            },
            "text/plain": [
              "'cats, rats, bats'"
            ]
          },
          "metadata": {},
          "execution_count": 43
        }
      ]
    },
    {
      "cell_type": "code",
      "source": [
        "'My name is Simon'.split()"
      ],
      "metadata": {
        "colab": {
          "base_uri": "https://localhost:8080/"
        },
        "id": "AS3wD-rnkYxj",
        "outputId": "c60ad872-f974-45fc-9d0e-3cf37003e122"
      },
      "execution_count": 44,
      "outputs": [
        {
          "output_type": "execute_result",
          "data": {
            "text/plain": [
              "['My', 'name', 'is', 'Simon']"
            ]
          },
          "metadata": {},
          "execution_count": 44
        }
      ]
    },
    {
      "cell_type": "code",
      "source": [
        "'MyABCnameABCisABCSimon'.split('ABC')"
      ],
      "metadata": {
        "colab": {
          "base_uri": "https://localhost:8080/"
        },
        "id": "wyo9cbVpkbAw",
        "outputId": "97432e4c-2139-4f3f-cc6c-8016101f7012"
      },
      "execution_count": 45,
      "outputs": [
        {
          "output_type": "execute_result",
          "data": {
            "text/plain": [
              "['My', 'name', 'is', 'Simon']"
            ]
          },
          "metadata": {},
          "execution_count": 45
        }
      ]
    },
    {
      "cell_type": "markdown",
      "source": [
        "% operator"
      ],
      "metadata": {
        "id": "YcUo4uTWks6D"
      }
    },
    {
      "cell_type": "code",
      "source": [
        "name = 'Pete'\n",
        "'Hello %s' % name"
      ],
      "metadata": {
        "colab": {
          "base_uri": "https://localhost:8080/",
          "height": 35
        },
        "id": "ZTIi4n3fktUq",
        "outputId": "b36929d9-a1ce-468c-f97f-15807a3a6547"
      },
      "execution_count": 47,
      "outputs": [
        {
          "output_type": "execute_result",
          "data": {
            "application/vnd.google.colaboratory.intrinsic+json": {
              "type": "string"
            },
            "text/plain": [
              "'Hello Pete'"
            ]
          },
          "metadata": {},
          "execution_count": 47
        }
      ]
    },
    {
      "cell_type": "code",
      "source": [
        "num = 5\n",
        "'I have %x apples' % num"
      ],
      "metadata": {
        "colab": {
          "base_uri": "https://localhost:8080/",
          "height": 35
        },
        "id": "JPNiZ4qfkx5p",
        "outputId": "d3f49846-2c73-409f-81ee-28ed43b434b7"
      },
      "execution_count": 48,
      "outputs": [
        {
          "output_type": "execute_result",
          "data": {
            "application/vnd.google.colaboratory.intrinsic+json": {
              "type": "string"
            },
            "text/plain": [
              "'I have 5 apples'"
            ]
          },
          "metadata": {},
          "execution_count": 48
        }
      ]
    },
    {
      "cell_type": "markdown",
      "source": [
        "For new code, using str.format or f-strings (Python 3.6+) is strongly recommended over the % operator."
      ],
      "metadata": {
        "id": "lpRWy830lA6z"
      }
    },
    {
      "cell_type": "code",
      "source": [
        "\"Hello I'm {}, my age is {}\".format(name, num)"
      ],
      "metadata": {
        "colab": {
          "base_uri": "https://localhost:8080/",
          "height": 35
        },
        "id": "8LIecnnJlF3y",
        "outputId": "25101fca-1f2b-441e-b1d1-45e72b04e961"
      },
      "execution_count": 49,
      "outputs": [
        {
          "output_type": "execute_result",
          "data": {
            "application/vnd.google.colaboratory.intrinsic+json": {
              "type": "string"
            },
            "text/plain": [
              "\"Hello I'm Pete, my age is 5\""
            ]
          },
          "metadata": {},
          "execution_count": 49
        }
      ]
    },
    {
      "cell_type": "markdown",
      "source": [
        "Formatted String Literals or f-strings (Python 3.6+)"
      ],
      "metadata": {
        "id": "yXSMPj85lO_9"
      }
    },
    {
      "cell_type": "code",
      "source": [
        "f\"Hello, {name}. You are {num}.\""
      ],
      "metadata": {
        "colab": {
          "base_uri": "https://localhost:8080/",
          "height": 35
        },
        "id": "WvHiFssGnNqx",
        "outputId": "ffccd49f-ddb8-4af4-9442-a50bd3caabe6"
      },
      "execution_count": 51,
      "outputs": [
        {
          "output_type": "execute_result",
          "data": {
            "application/vnd.google.colaboratory.intrinsic+json": {
              "type": "string"
            },
            "text/plain": [
              "'Hello, Pete. You are 5.'"
            ]
          },
          "metadata": {},
          "execution_count": 51
        }
      ]
    },
    {
      "cell_type": "code",
      "source": [
        "a = 5\n",
        "b = 10\n",
        "f'Five plus ten is {a + b} and not {2 * (a + b)}.'"
      ],
      "metadata": {
        "colab": {
          "base_uri": "https://localhost:8080/",
          "height": 35
        },
        "id": "IqNdvLPxlRst",
        "outputId": "5a60d161-2835-43b1-e115-238bce8a9c82"
      },
      "execution_count": 50,
      "outputs": [
        {
          "output_type": "execute_result",
          "data": {
            "application/vnd.google.colaboratory.intrinsic+json": {
              "type": "string"
            },
            "text/plain": [
              "'Five plus ten is 15 and not 30.'"
            ]
          },
          "metadata": {},
          "execution_count": 50
        }
      ]
    },
    {
      "cell_type": "markdown",
      "source": [
        "####Ternary Conditional Operator"
      ],
      "metadata": {
        "id": "iAyujSHOs_WF"
      }
    },
    {
      "cell_type": "markdown",
      "source": [
        "<<expression1>> if <<condition>> else <<expression2>>"
      ],
      "metadata": {
        "id": "mV9_5j7ctEba"
      }
    },
    {
      "cell_type": "code",
      "source": [
        "age = 15\n",
        "print('kid' if age < 18 else 'adult')"
      ],
      "metadata": {
        "colab": {
          "base_uri": "https://localhost:8080/"
        },
        "id": "WtCRkS7TtAb0",
        "outputId": "76eda516-f399-4b04-d3ab-6e8ec8edfa05"
      },
      "execution_count": 21,
      "outputs": [
        {
          "output_type": "stream",
          "name": "stdout",
          "text": [
            "kid\n"
          ]
        }
      ]
    },
    {
      "cell_type": "markdown",
      "source": [
        "#### Local and Global Scope"
      ],
      "metadata": {
        "id": "E6_kUmJPTMt9"
      }
    },
    {
      "cell_type": "markdown",
      "source": [
        "Code in the global scope cannot use any local variables.\n",
        "\n",
        "However, a local scope can access global variables.\n",
        "\n",
        "Code in a function’s local scope cannot use variables in any other local scope.\n",
        "\n",
        "You can use the same name for different variables if they are in different scopes. That is, there can be a local variable named spam and a global variable also named spam."
      ],
      "metadata": {
        "id": "zwUp9rNoTPL0"
      }
    },
    {
      "cell_type": "code",
      "source": [
        "#If you need to modify a global variable from within a function, use the global statement\n",
        "def spam():\n",
        "  global eggs\n",
        "  eggs = 'spam'\n",
        "\n",
        "eggs = 'global'\n",
        "spam()\n",
        "print(eggs)"
      ],
      "metadata": {
        "colab": {
          "base_uri": "https://localhost:8080/"
        },
        "id": "4lwcKnTOTNzP",
        "outputId": "2af0da6e-42ca-4784-abea-d6e549e2b8ed"
      },
      "execution_count": null,
      "outputs": [
        {
          "output_type": "stream",
          "name": "stdout",
          "text": [
            "spam\n"
          ]
        }
      ]
    },
    {
      "cell_type": "markdown",
      "source": [
        "#### __main__ Top-level script environment"
      ],
      "metadata": {
        "id": "mfEtoEulFsOK"
      }
    },
    {
      "cell_type": "markdown",
      "source": [
        "__main__ is the name of the scope in which top-level code executes. A module’s name is set equal to __main__ when read from standard input, a script, or from an interactive prompt.\n",
        "\n",
        "A module can discover whether or not it is running in the main scope by checking its own __name__, which allows a common idiom for conditionally executing code in a module when it is run as a script or with python -m but not when it is imported:\n",
        "\n"
      ],
      "metadata": {
        "id": "qIGIvHwFHw04"
      }
    },
    {
      "cell_type": "code",
      "source": [
        "# if __name__ == \"__main__\":\n",
        "#     # execute only if run as a script\n",
        "#     main()"
      ],
      "metadata": {
        "id": "azpiS-aKFtkD"
      },
      "execution_count": null,
      "outputs": []
    },
    {
      "cell_type": "markdown",
      "metadata": {
        "id": "p-6hClFjL9fk"
      },
      "source": [
        "###Containers"
      ]
    },
    {
      "cell_type": "markdown",
      "metadata": {
        "id": "FD9H18eQL9fk"
      },
      "source": [
        "Python includes several built-in container types: lists, dictionaries, sets, and tuples."
      ]
    },
    {
      "cell_type": "markdown",
      "metadata": {
        "id": "UsIWOe0LL9fn"
      },
      "source": [
        "####Lists"
      ]
    },
    {
      "cell_type": "markdown",
      "metadata": {
        "id": "wzxX7rgWL9fn"
      },
      "source": [
        "A list is the Python equivalent of an array, but is resizeable and can contain elements of different types:"
      ]
    },
    {
      "cell_type": "code",
      "execution_count": null,
      "metadata": {
        "colab": {
          "base_uri": "https://localhost:8080/"
        },
        "id": "hk3A8pPcL9fp",
        "outputId": "a570c046-629f-46a3-b4e6-f49e8c59cf76"
      },
      "outputs": [
        {
          "output_type": "stream",
          "name": "stdout",
          "text": [
            "[3, 1, 2] 2\n",
            "2\n"
          ]
        }
      ],
      "source": [
        "xs = [3, 1, 2]   # Create a list\n",
        "print(xs, xs[2])\n",
        "print(xs[-1])     # Negative indices count from the end of the list; prints \"2\""
      ]
    },
    {
      "cell_type": "code",
      "execution_count": null,
      "metadata": {
        "colab": {
          "base_uri": "https://localhost:8080/"
        },
        "id": "YCjCy_0_L9ft",
        "outputId": "e65d5303-d6be-40ab-9bdc-01b45920e4c3"
      },
      "outputs": [
        {
          "output_type": "stream",
          "name": "stdout",
          "text": [
            "[3, 1, 'foo']\n"
          ]
        }
      ],
      "source": [
        "xs[2] = 'foo'    # Lists can contain elements of different types\n",
        "print(xs)"
      ]
    },
    {
      "cell_type": "code",
      "execution_count": null,
      "metadata": {
        "colab": {
          "base_uri": "https://localhost:8080/"
        },
        "id": "vJ0x5cF-L9fx",
        "outputId": "d2ce097c-95ae-4370-ab21-470c632efc15"
      },
      "outputs": [
        {
          "output_type": "stream",
          "name": "stdout",
          "text": [
            "[3, 1, 'foo', 'bar']\n"
          ]
        }
      ],
      "source": [
        "xs.append('bar') # Add a new element to the end of the list\n",
        "print(xs)  "
      ]
    },
    {
      "cell_type": "code",
      "execution_count": null,
      "metadata": {
        "colab": {
          "base_uri": "https://localhost:8080/"
        },
        "id": "cxVCNRTNL9f1",
        "outputId": "d67680f1-5cdb-4854-dd78-24a3a331b75b"
      },
      "outputs": [
        {
          "output_type": "stream",
          "name": "stdout",
          "text": [
            "bar [3, 1, 'foo']\n"
          ]
        }
      ],
      "source": [
        "x = xs.pop()     # Remove and return the last element of the list\n",
        "print(x, xs)"
      ]
    },
    {
      "cell_type": "code",
      "source": [
        "# Make a list\n",
        "bikes = ['trek', 'redline', 'giant']\n",
        "\n",
        "# Get the first item in a list\n",
        "first_bike = bikes[0]\n",
        "\n",
        "# Get the last item in a list\n",
        "last_bike = bikes[-1]\n",
        "\n",
        "# Looping through a list\n",
        "for bike in bikes:\n",
        "    print(bike)\n",
        "    \n",
        "# Adding items to a list\n",
        "bikes = []\n",
        "bikes.append('trek')\n",
        "bikes.append('redline')\n",
        "bikes.append('giant')\n",
        "\n",
        "# Making numerical lists\n",
        "squares = []\n",
        "for x in range(1,11):\n",
        "    squares.append(x**2)\n",
        "squares\n",
        "\n",
        "# List cont.\n",
        "#  List comprehensions\n",
        "squares = [x**2 for x in range(1,11)]\n",
        "\n",
        "#slicing a list\n",
        "finishers = ['sam', 'bob', 'ada', 'bea']\n",
        "first_two = finishers[0:2] #or first_two = finishers[:2] \n",
        "\n",
        "#  Copying a list\n",
        "copy_of_bikes = bikes.copy() #or copy_of_bikes = bikes[:]\n",
        "\n",
        "# Wanna learn more about *args and **kwargs see this below:\n",
        "# https://www.geeksforgeeks.org/args-kwargs-python/"
      ],
      "metadata": {
        "colab": {
          "base_uri": "https://localhost:8080/"
        },
        "id": "N26_SOwS9ODG",
        "outputId": "ce9ebc9c-1452-433e-d8cf-5fa0bddbe52e"
      },
      "execution_count": null,
      "outputs": [
        {
          "output_type": "stream",
          "name": "stdout",
          "text": [
            "trek\n",
            "redline\n",
            "giant\n"
          ]
        }
      ]
    },
    {
      "cell_type": "code",
      "source": [
        "# Find the length of a list\n",
        "num_bikes = len(bikes)\n",
        "print(\"We have \" + str(num_bikes) + \" bikes.\" )"
      ],
      "metadata": {
        "colab": {
          "base_uri": "https://localhost:8080/"
        },
        "id": "t703E_YfIJW9",
        "outputId": "d06d5a2c-afd4-4084-822f-8be366936819"
      },
      "execution_count": null,
      "outputs": [
        {
          "output_type": "stream",
          "name": "stdout",
          "text": [
            "We have 3 bikes.\n"
          ]
        }
      ]
    },
    {
      "cell_type": "markdown",
      "source": [
        "The sort() method changes the order of a list permanently. The sorted() function returns a copy of the list, leaving the original list unchanged. You can sort the items in a list in alphabetical order, or reverse alphabetical order. You can also reverse the original order of the list. Keep in mind that lowercase and uppercase letters may affect the sort order."
      ],
      "metadata": {
        "id": "PGCKrj5XIVD7"
      }
    },
    {
      "cell_type": "code",
      "source": [
        "#making a list\n",
        "users = ['val','bob','mia','ron','ned']\n",
        "#  Sorting a list permanetly\n",
        "users.sort()\n",
        "users.append('AHA')\n",
        "\n",
        "# Sorting a list permanetly in reverse alphabetical order\n",
        "users.sort(reverse=True)\n",
        "\n",
        "# Sorting a list tempporarily\n",
        "\n",
        "print(sorted(users))\n",
        "print(sorted(users, reverse=True))\n",
        "\n",
        "# Reversing the order of a list\n",
        "users.reverse()"
      ],
      "metadata": {
        "colab": {
          "base_uri": "https://localhost:8080/"
        },
        "id": "tW_M6BaIITtT",
        "outputId": "339dada1-1d5b-428d-f38a-a948afaa38fe"
      },
      "execution_count": null,
      "outputs": [
        {
          "output_type": "stream",
          "name": "stdout",
          "text": [
            "['AHA', 'bob', 'mia', 'ned', 'ron', 'val']\n",
            "['val', 'ron', 'ned', 'mia', 'bob', 'AHA']\n"
          ]
        }
      ]
    },
    {
      "cell_type": "markdown",
      "metadata": {
        "id": "ilyoyO34L9f4"
      },
      "source": [
        "Details about lists in the [documentation](https://docs.python.org/3.7/tutorial/datastructures.html#more-on-lists)."
      ]
    },
    {
      "cell_type": "code",
      "execution_count": null,
      "metadata": {
        "id": "cYb0pjh1L9eb"
      },
      "outputs": [],
      "source": [
        "def quicksort(arr):\n",
        "    if len(arr) <= 1:\n",
        "        return arr\n",
        "    pivot = arr[len(arr) // 2]\n",
        "    left = [x for x in arr if x < pivot]\n",
        "    middle = [x for x in arr if x == pivot]\n",
        "    right = [x for x in arr if x > pivot]\n",
        "    return quicksort(left) + middle + quicksort(right)"
      ]
    },
    {
      "cell_type": "code",
      "source": [
        "print(quicksort([3,6,8,10,1,2,1]))"
      ],
      "metadata": {
        "colab": {
          "base_uri": "https://localhost:8080/"
        },
        "id": "4dui_eoTx1vV",
        "outputId": "d7161571-86d8-4f68-bed0-9e7e1fb25f74"
      },
      "execution_count": null,
      "outputs": [
        {
          "output_type": "stream",
          "name": "stdout",
          "text": [
            "[1, 1, 2, 3, 6, 8, 10]\n"
          ]
        }
      ]
    },
    {
      "cell_type": "code",
      "source": [
        "print(quicksort([7,6,8,10,3,2,1,5,9,11,13,12]))"
      ],
      "metadata": {
        "colab": {
          "base_uri": "https://localhost:8080/"
        },
        "id": "Ppywch5Tx4YL",
        "outputId": "20871099-c87e-4b5c-8552-7751b7572506"
      },
      "execution_count": null,
      "outputs": [
        {
          "output_type": "stream",
          "name": "stdout",
          "text": [
            "[1, 2, 3, 5, 6, 7, 8, 9, 10, 11, 12, 13]\n"
          ]
        }
      ]
    },
    {
      "cell_type": "markdown",
      "source": [
        "#### range() function"
      ],
      "metadata": {
        "id": "GGktxlGUI_Az"
      }
    },
    {
      "cell_type": "markdown",
      "source": [
        "You can use the range() function to work with a set of numbers efficiently. The range() function starts at 0 by default, and stops one number below the number passed to it. You can use the list() function to efficiently generate a large list of numbers"
      ],
      "metadata": {
        "id": "o5Cyr-UdJDEe"
      }
    },
    {
      "cell_type": "code",
      "source": [
        "#  Printing the numbers 0 to 100\n",
        "for number in range(101):\n",
        "    print(number)\n",
        "    \n",
        "# Printing the number 1 to 100\n",
        "for number in range(1,101):\n",
        "    print(number)\n",
        "    \n",
        "# Making a list of numebrs from 1 to a millon\n",
        "numbers = list(range(1,10000001))\n",
        "len(numbers)"
      ],
      "metadata": {
        "colab": {
          "base_uri": "https://localhost:8080/"
        },
        "id": "O9DxySK8JBK9",
        "outputId": "334b5f7d-319e-4923-ab52-924603ce65f0"
      },
      "execution_count": null,
      "outputs": [
        {
          "output_type": "stream",
          "name": "stdout",
          "text": [
            "0\n",
            "1\n",
            "2\n",
            "3\n",
            "4\n",
            "5\n",
            "6\n",
            "7\n",
            "8\n",
            "9\n",
            "10\n",
            "11\n",
            "12\n",
            "13\n",
            "14\n",
            "15\n",
            "16\n",
            "17\n",
            "18\n",
            "19\n",
            "20\n",
            "21\n",
            "22\n",
            "23\n",
            "24\n",
            "25\n",
            "26\n",
            "27\n",
            "28\n",
            "29\n",
            "30\n",
            "31\n",
            "32\n",
            "33\n",
            "34\n",
            "35\n",
            "36\n",
            "37\n",
            "38\n",
            "39\n",
            "40\n",
            "41\n",
            "42\n",
            "43\n",
            "44\n",
            "45\n",
            "46\n",
            "47\n",
            "48\n",
            "49\n",
            "50\n",
            "51\n",
            "52\n",
            "53\n",
            "54\n",
            "55\n",
            "56\n",
            "57\n",
            "58\n",
            "59\n",
            "60\n",
            "61\n",
            "62\n",
            "63\n",
            "64\n",
            "65\n",
            "66\n",
            "67\n",
            "68\n",
            "69\n",
            "70\n",
            "71\n",
            "72\n",
            "73\n",
            "74\n",
            "75\n",
            "76\n",
            "77\n",
            "78\n",
            "79\n",
            "80\n",
            "81\n",
            "82\n",
            "83\n",
            "84\n",
            "85\n",
            "86\n",
            "87\n",
            "88\n",
            "89\n",
            "90\n",
            "91\n",
            "92\n",
            "93\n",
            "94\n",
            "95\n",
            "96\n",
            "97\n",
            "98\n",
            "99\n",
            "100\n",
            "1\n",
            "2\n",
            "3\n",
            "4\n",
            "5\n",
            "6\n",
            "7\n",
            "8\n",
            "9\n",
            "10\n",
            "11\n",
            "12\n",
            "13\n",
            "14\n",
            "15\n",
            "16\n",
            "17\n",
            "18\n",
            "19\n",
            "20\n",
            "21\n",
            "22\n",
            "23\n",
            "24\n",
            "25\n",
            "26\n",
            "27\n",
            "28\n",
            "29\n",
            "30\n",
            "31\n",
            "32\n",
            "33\n",
            "34\n",
            "35\n",
            "36\n",
            "37\n",
            "38\n",
            "39\n",
            "40\n",
            "41\n",
            "42\n",
            "43\n",
            "44\n",
            "45\n",
            "46\n",
            "47\n",
            "48\n",
            "49\n",
            "50\n",
            "51\n",
            "52\n",
            "53\n",
            "54\n",
            "55\n",
            "56\n",
            "57\n",
            "58\n",
            "59\n",
            "60\n",
            "61\n",
            "62\n",
            "63\n",
            "64\n",
            "65\n",
            "66\n",
            "67\n",
            "68\n",
            "69\n",
            "70\n",
            "71\n",
            "72\n",
            "73\n",
            "74\n",
            "75\n",
            "76\n",
            "77\n",
            "78\n",
            "79\n",
            "80\n",
            "81\n",
            "82\n",
            "83\n",
            "84\n",
            "85\n",
            "86\n",
            "87\n",
            "88\n",
            "89\n",
            "90\n",
            "91\n",
            "92\n",
            "93\n",
            "94\n",
            "95\n",
            "96\n",
            "97\n",
            "98\n",
            "99\n",
            "100\n"
          ]
        },
        {
          "output_type": "execute_result",
          "data": {
            "text/plain": [
              "10000000"
            ]
          },
          "metadata": {},
          "execution_count": 119
        }
      ]
    },
    {
      "cell_type": "markdown",
      "source": [
        "There are a number of simple statistics you can run on a list containing numerical data."
      ],
      "metadata": {
        "id": "VFTF8iFfJRIo"
      }
    },
    {
      "cell_type": "code",
      "source": [
        "#  finding the minimum value in a list\n",
        "\n",
        "ages = [93, 99, 66, 17, 85, 1, 35, 82, 2, 77] \n",
        "youngetst  = min(ages)\n",
        "\n",
        "# Finding the maximum value\n",
        "oldest = max(ages)\n",
        "\n",
        "# Finding the sum of all value\n",
        "total_years = sum(ages)"
      ],
      "metadata": {
        "id": "3VBs98p1JSBr"
      },
      "execution_count": null,
      "outputs": []
    },
    {
      "cell_type": "markdown",
      "metadata": {
        "id": "ovahhxd_L9f5"
      },
      "source": [
        "####Slicing"
      ]
    },
    {
      "cell_type": "markdown",
      "metadata": {
        "id": "YeSYKhv9L9f6"
      },
      "source": [
        "In addition to accessing list elements one at a time, Python provides concise syntax to access sublists; this is known as slicing:"
      ]
    },
    {
      "cell_type": "code",
      "execution_count": null,
      "metadata": {
        "colab": {
          "base_uri": "https://localhost:8080/"
        },
        "id": "ninq666bL9f6",
        "outputId": "0b8b94db-dc5d-404a-e60c-fa43ddd05f09"
      },
      "outputs": [
        {
          "output_type": "stream",
          "name": "stdout",
          "text": [
            "[0, 1, 2, 3, 4]\n",
            "[2, 3]\n",
            "[2, 3, 4]\n",
            "[0, 1]\n",
            "[0, 1, 2, 3, 4]\n",
            "[0, 1, 2, 3]\n",
            "[0, 1, 8, 9, 4]\n"
          ]
        }
      ],
      "source": [
        "nums = list(range(5))    # range is a built-in function that creates a list of integers\n",
        "print(nums)         # Prints \"[0, 1, 2, 3, 4]\"\n",
        "print(nums[2:4])    # Get a slice from index 2 to 4 (exclusive); prints \"[2, 3]\"\n",
        "print(nums[2:])     # Get a slice from index 2 to the end; prints \"[2, 3, 4]\"\n",
        "print(nums[:2])     # Get a slice from the start to index 2 (exclusive); prints \"[0, 1]\"\n",
        "print(nums[:])      # Get a slice of the whole list; prints [\"0, 1, 2, 3, 4]\"\n",
        "print(nums[:-1])    # Slice indices can be negative; prints [\"0, 1, 2, 3]\"\n",
        "nums[2:4] = [8, 9] # Assign a new sublist to a slice\n",
        "print(nums)         # Prints \"[0, 1, 8, 9, 4]\""
      ]
    },
    {
      "cell_type": "markdown",
      "source": [
        "You can work with any set of elements from a list. A portion of a list is called a slice. To slice a list start with the index of the first item you want, then add a colon and the index after the last item you want. Leave off the first index to start at the beginning of the list, and leave off the last index to slice through the end of the list."
      ],
      "metadata": {
        "id": "Wj4Al_JVJaKk"
      }
    },
    {
      "cell_type": "code",
      "source": [
        "#  Getting the first three items\n",
        "finishers = ['kai','abe','ada','gus','zoe']\n",
        "first_three = finishers[:3]\n",
        "\n",
        "#  Getting the middle three items\n",
        "middle_three = finishers[1:4]\n",
        "\n",
        "# Getting the last three items\n",
        "last_three = finishers[-3:]"
      ],
      "metadata": {
        "id": "qQAwTvLLJah0"
      },
      "execution_count": null,
      "outputs": []
    },
    {
      "cell_type": "markdown",
      "metadata": {
        "id": "UONpMhF4L9f_"
      },
      "source": [
        "####Loops"
      ]
    },
    {
      "cell_type": "markdown",
      "metadata": {
        "id": "_DYz1j6QL9f_"
      },
      "source": [
        "You can loop over the elements of a list like this:"
      ]
    },
    {
      "cell_type": "code",
      "execution_count": null,
      "metadata": {
        "colab": {
          "base_uri": "https://localhost:8080/"
        },
        "id": "4cCOysfWL9gA",
        "outputId": "2e1e8a52-81eb-45e4-ae6b-9fc1693deb2a"
      },
      "outputs": [
        {
          "output_type": "stream",
          "name": "stdout",
          "text": [
            "cat\n",
            "dog\n",
            "monkey\n"
          ]
        }
      ],
      "source": [
        "animals = ['cat', 'dog', 'monkey']\n",
        "for animal in animals:\n",
        "    print(animal)"
      ]
    },
    {
      "cell_type": "markdown",
      "metadata": {
        "id": "KxIaQs7pL9gE"
      },
      "source": [
        "If you want access to the index of each element within the body of a loop, use the built-in `enumerate` function:"
      ]
    },
    {
      "cell_type": "code",
      "execution_count": null,
      "metadata": {
        "colab": {
          "base_uri": "https://localhost:8080/"
        },
        "id": "JjGnDluWL9gF",
        "outputId": "1dbf018d-964d-4835-8faa-1d8e32ef7a46"
      },
      "outputs": [
        {
          "output_type": "stream",
          "name": "stdout",
          "text": [
            "#1: cat\n",
            "#2: dog\n",
            "#3: monkey\n"
          ]
        }
      ],
      "source": [
        "animals = ['cat', 'dog', 'monkey']\n",
        "for idx, animal in enumerate(animals):\n",
        "    print('#{}: {}'.format(idx + 1, animal))"
      ]
    },
    {
      "cell_type": "code",
      "source": [
        "# A simple while loop\n",
        "current_value = 1\n",
        "while current_value <= 5:\n",
        "    print(current_value)\n",
        "    current_value +=1\n",
        "\n",
        "  # Letting the user choose when to quit\n",
        "msg = ''\n",
        "while msg !='quit':\n",
        "    msg = input('what is your message?')\n",
        "    print(msg)\n",
        "    "
      ],
      "metadata": {
        "colab": {
          "base_uri": "https://localhost:8080/"
        },
        "id": "aiKCTQ2x997O",
        "outputId": "ef6c1368-17cc-4f2f-d03a-579255f3617b"
      },
      "execution_count": null,
      "outputs": [
        {
          "output_type": "stream",
          "name": "stdout",
          "text": [
            "1\n",
            "2\n",
            "3\n",
            "4\n",
            "5\n",
            "what is your message?q\n",
            "q\n",
            "what is your message?quit\n",
            "quit\n"
          ]
        }
      ]
    },
    {
      "cell_type": "markdown",
      "metadata": {
        "id": "H8xsUEFpL9gZ"
      },
      "source": [
        "####Dictionaries"
      ]
    },
    {
      "cell_type": "markdown",
      "metadata": {
        "id": "kkjAGMAJL9ga"
      },
      "source": [
        "A dictionary stores (key, value) pairs, similar to a `Map` in Java or an object in Javascript. You can use it like this:"
      ]
    },
    {
      "cell_type": "code",
      "execution_count": null,
      "metadata": {
        "colab": {
          "base_uri": "https://localhost:8080/"
        },
        "id": "XBYI1MrYL9gb",
        "outputId": "f77d0938-aa8d-438d-e52f-8fe917fd1f29"
      },
      "outputs": [
        {
          "output_type": "stream",
          "name": "stdout",
          "text": [
            "cute\n",
            "True\n"
          ]
        }
      ],
      "source": [
        "d = {'cat': 'cute', 'dog': 'furry'}  # Create a new dictionary with some data\n",
        "print(d['cat'])       # Get an entry from a dictionary; prints \"cute\"\n",
        "print('cat' in d)     # Check if a dictionary has a given key; prints \"True\""
      ]
    },
    {
      "cell_type": "code",
      "execution_count": null,
      "metadata": {
        "colab": {
          "base_uri": "https://localhost:8080/"
        },
        "id": "pS7e-G-HL9gf",
        "outputId": "e860ceff-cdc8-4110-f369-4d7f73c42e99"
      },
      "outputs": [
        {
          "output_type": "stream",
          "name": "stdout",
          "text": [
            "wet\n"
          ]
        }
      ],
      "source": [
        "d['fish'] = 'wet'    # Set an entry in a dictionary\n",
        "print(d['fish'])      # Prints \"wet\""
      ]
    },
    {
      "cell_type": "code",
      "source": [
        "d"
      ],
      "metadata": {
        "colab": {
          "base_uri": "https://localhost:8080/"
        },
        "id": "SqK9nyDCzZ-x",
        "outputId": "f655c468-1382-403a-9412-e87c813e9771"
      },
      "execution_count": null,
      "outputs": [
        {
          "output_type": "execute_result",
          "data": {
            "text/plain": [
              "{'cat': 'cute', 'dog': 'furry', 'fish': 'wet'}"
            ]
          },
          "metadata": {},
          "execution_count": 35
        }
      ]
    },
    {
      "cell_type": "code",
      "execution_count": null,
      "metadata": {
        "colab": {
          "base_uri": "https://localhost:8080/"
        },
        "id": "8TjbEWqML9gl",
        "outputId": "0b2b4666-0c4f-4e77-8861-798aa40e8412"
      },
      "outputs": [
        {
          "output_type": "stream",
          "name": "stdout",
          "text": [
            "N/A\n",
            "wet\n"
          ]
        }
      ],
      "source": [
        "print(d.get('monkey', 'N/A'))  # Get an element with a default; prints \"N/A\", KeyError: 'monkey' not a key of d\n",
        "print(d.get('fish', 'N/A'))    # Get an element with a default; prints \"wet\""
      ]
    },
    {
      "cell_type": "code",
      "execution_count": null,
      "metadata": {
        "colab": {
          "base_uri": "https://localhost:8080/"
        },
        "id": "0EItdNBJL9go",
        "outputId": "fbf91fff-d64d-49e2-e3ae-c43d80edec55"
      },
      "outputs": [
        {
          "output_type": "stream",
          "name": "stdout",
          "text": [
            "N/A\n"
          ]
        }
      ],
      "source": [
        "del d['fish']        # Remove an element from a dictionary\n",
        "print(d.get('fish', 'N/A')) # \"fish\" is no longer a key; prints \"N/A\""
      ]
    },
    {
      "cell_type": "code",
      "source": [
        "d"
      ],
      "metadata": {
        "colab": {
          "base_uri": "https://localhost:8080/"
        },
        "id": "FCqk8sG0zOZd",
        "outputId": "2c966ce5-323a-4301-ad7e-0e67f45e922c"
      },
      "execution_count": null,
      "outputs": [
        {
          "output_type": "execute_result",
          "data": {
            "text/plain": [
              "{'cat': 'cute', 'dog': 'furry'}"
            ]
          },
          "metadata": {},
          "execution_count": 38
        }
      ]
    },
    {
      "cell_type": "markdown",
      "metadata": {
        "id": "wqm4dRZNL9gr"
      },
      "source": [
        "You can find all you need to know about dictionaries in the [documentation](https://docs.python.org/2/library/stdtypes.html#dict)."
      ]
    },
    {
      "cell_type": "markdown",
      "metadata": {
        "id": "IxwEqHlGL9gr"
      },
      "source": [
        "It is easy to iterate over the keys in a dictionary:"
      ]
    },
    {
      "cell_type": "code",
      "execution_count": null,
      "metadata": {
        "colab": {
          "base_uri": "https://localhost:8080/"
        },
        "id": "rYfz7ZKNL9gs",
        "outputId": "0f3761bb-e480-41ed-b7bc-58e5a9d746e9"
      },
      "outputs": [
        {
          "output_type": "stream",
          "name": "stdout",
          "text": [
            "A person has 2 legs\n",
            "A cat has 4 legs\n",
            "A spider has 8 legs\n"
          ]
        }
      ],
      "source": [
        "d = {'person': 2, 'cat': 4, 'spider': 8}\n",
        "for animal, legs in d.items():\n",
        "    print('A {} has {} legs'.format(animal, legs))"
      ]
    },
    {
      "cell_type": "code",
      "source": [
        "# A Simple dictionary (key, value paires) or items={key: value, ...}\n",
        "alien = {'color': 'green', 'points': 5}\n",
        "\n",
        "# Access a value\n",
        "print(\"The alien's color is\" + alien['color'])\n",
        "\n",
        "# Addeing a new key-vale pair\n",
        "\n",
        "alien['x_positon'] = 0\n",
        "alien\n",
        "# Loopoing through all key-value pairs\n",
        "\n",
        "for key in alien:\n",
        "    print(key)\n",
        "  \n",
        "fav_numbers = {'eric': 17, 'ever': 4}\n",
        "for name, number in fav_numbers.items():\n",
        "    print(name + ' loves ' + str(number))\n",
        "    \n",
        "#   Looping through all keys\n",
        "for name in fav_numbers.keys():\n",
        "    print(name + ' loves a number')\n",
        "    \n",
        "#   Looping through all values\n",
        "for number in fav_numbers.values():\n",
        "    print(str(number) + ' is a favorite')"
      ],
      "metadata": {
        "colab": {
          "base_uri": "https://localhost:8080/"
        },
        "id": "npFUXEEr9fDh",
        "outputId": "6d18d89f-2bd9-49ed-b78a-c34680d1cde3"
      },
      "execution_count": null,
      "outputs": [
        {
          "output_type": "stream",
          "name": "stdout",
          "text": [
            "The alien's color isgreen\n",
            "color\n",
            "points\n",
            "x_positon\n",
            "eric loves 17\n",
            "ever loves 4\n",
            "eric loves a number\n",
            "ever loves a number\n",
            "17 is a favorite\n",
            "4 is a favorite\n"
          ]
        }
      ]
    },
    {
      "cell_type": "markdown",
      "metadata": {
        "id": "17sxiOpzL9gz"
      },
      "source": [
        "Dictionary comprehensions: These are similar to list comprehensions, but allow you to easily construct dictionaries. For example:"
      ]
    },
    {
      "cell_type": "code",
      "execution_count": null,
      "metadata": {
        "colab": {
          "base_uri": "https://localhost:8080/"
        },
        "id": "8PB07imLL9gz",
        "outputId": "b0f85165-dbfa-4bbc-8dca-f8fadfedd018"
      },
      "outputs": [
        {
          "output_type": "stream",
          "name": "stdout",
          "text": [
            "{0: 0, 2: 4, 4: 16}\n"
          ]
        }
      ],
      "source": [
        "nums = [0, 1, 2, 3, 4]\n",
        "even_num_to_square = {x: x ** 2 for x in nums if x % 2 == 0}\n",
        "print(even_num_to_square)"
      ]
    },
    {
      "cell_type": "markdown",
      "source": [
        "The keys(), values(), and items() Methods"
      ],
      "metadata": {
        "id": "Md7x4XqmTu7g"
      }
    },
    {
      "cell_type": "code",
      "source": [
        "spam = {'color': 'red', 'age': 42}\n",
        "for v in spam.values():\n",
        "  print(v)"
      ],
      "metadata": {
        "colab": {
          "base_uri": "https://localhost:8080/"
        },
        "id": "VL8mMqOdTtPw",
        "outputId": "a4ea9929-b15c-42e4-904c-cb5c89ee6da5"
      },
      "execution_count": 1,
      "outputs": [
        {
          "output_type": "stream",
          "name": "stdout",
          "text": [
            "red\n",
            "42\n"
          ]
        }
      ]
    },
    {
      "cell_type": "code",
      "source": [
        "for k in spam.keys():\n",
        "  print(k)"
      ],
      "metadata": {
        "colab": {
          "base_uri": "https://localhost:8080/"
        },
        "id": "5cG749J0T1GT",
        "outputId": "a264f6c7-e242-4e54-d27b-97e83391c930"
      },
      "execution_count": 2,
      "outputs": [
        {
          "output_type": "stream",
          "name": "stdout",
          "text": [
            "color\n",
            "age\n"
          ]
        }
      ]
    },
    {
      "cell_type": "code",
      "source": [
        "for i in spam.items():\n",
        "  print(i)"
      ],
      "metadata": {
        "colab": {
          "base_uri": "https://localhost:8080/"
        },
        "id": "GDGr3zLMT4oy",
        "outputId": "c0817e11-e126-4687-8710-6fde2c5544aa"
      },
      "execution_count": 3,
      "outputs": [
        {
          "output_type": "stream",
          "name": "stdout",
          "text": [
            "('color', 'red')\n",
            "('age', 42)\n"
          ]
        }
      ]
    },
    {
      "cell_type": "code",
      "source": [
        "for k, v in spam.items():\n",
        "  print('Key: {} Value: {}'.format(k, str(v)))"
      ],
      "metadata": {
        "colab": {
          "base_uri": "https://localhost:8080/"
        },
        "id": "Y62pmKLFT_O2",
        "outputId": "8e9226cc-1a6a-46f6-a82c-84fa3ba0fdd4"
      },
      "execution_count": 4,
      "outputs": [
        {
          "output_type": "stream",
          "name": "stdout",
          "text": [
            "Key: color Value: red\n",
            "Key: age Value: 42\n"
          ]
        }
      ]
    },
    {
      "cell_type": "markdown",
      "source": [
        "Merge two dictionaries"
      ],
      "metadata": {
        "id": "10UdcM1hWzxs"
      }
    },
    {
      "cell_type": "code",
      "source": [
        "# Python code to merge dict using update() method\n",
        "def Merge(dict1, dict2):\n",
        "    return(dict2.update(dict1))\n",
        "\n",
        "#Merge two dictionaries\n",
        "x = {'a': 1, 'b': 2}\n",
        "y = {'b': 3, 'c': 4}\n",
        "\n",
        "print(Merge(x,y))\n",
        "print(y)"
      ],
      "metadata": {
        "colab": {
          "base_uri": "https://localhost:8080/"
        },
        "id": "Pb0VOsyvWX9W",
        "outputId": "185c3b64-f7f3-4500-b663-3821de01347a"
      },
      "execution_count": 10,
      "outputs": [
        {
          "output_type": "stream",
          "name": "stdout",
          "text": [
            "None\n",
            "{'b': 2, 'c': 4, 'a': 1}\n"
          ]
        }
      ]
    },
    {
      "cell_type": "markdown",
      "source": [
        "** in Python, This does not affect the other two dictionaries. ** implies that an argument is a dictionary. Using ** [double star] is a shortcut that allows you to pass multiple arguments to a function directly using a dictionary.\n",
        "\n",
        "Using this we first pass all the elements of the first dictionary into the third one and then pass the second dictionary into the third. This will replace the duplicate keys of the first dictionary."
      ],
      "metadata": {
        "id": "ZZZZCY60XUgM"
      }
    },
    {
      "cell_type": "code",
      "source": [
        "#Merge two dictionaries\n",
        "x = {'a': 1, 'b': 2}\n",
        "y = {'b': 3, 'c': 4}\n",
        "z = {**x, **y}\n",
        "z"
      ],
      "metadata": {
        "colab": {
          "base_uri": "https://localhost:8080/"
        },
        "id": "mF4uOGOVXkBK",
        "outputId": "e04150eb-d41c-4daa-9864-12da9c9b0a1e"
      },
      "execution_count": 15,
      "outputs": [
        {
          "output_type": "execute_result",
          "data": {
            "text/plain": [
              "{'a': 1, 'b': 3, 'c': 4}"
            ]
          },
          "metadata": {},
          "execution_count": 15
        }
      ]
    },
    {
      "cell_type": "code",
      "source": [
        "x"
      ],
      "metadata": {
        "colab": {
          "base_uri": "https://localhost:8080/"
        },
        "id": "swnFdwt-XlYz",
        "outputId": "c3ac2ade-15f2-4676-e7ea-278449a05435"
      },
      "execution_count": 16,
      "outputs": [
        {
          "output_type": "execute_result",
          "data": {
            "text/plain": [
              "{'a': 1, 'b': 2}"
            ]
          },
          "metadata": {},
          "execution_count": 16
        }
      ]
    },
    {
      "cell_type": "code",
      "source": [
        "y"
      ],
      "metadata": {
        "colab": {
          "base_uri": "https://localhost:8080/"
        },
        "id": "3ddFYL_bXm2s",
        "outputId": "356e3179-6eea-4792-9e6c-2dbbf4a07f7e"
      },
      "execution_count": 17,
      "outputs": [
        {
          "output_type": "execute_result",
          "data": {
            "text/plain": [
              "{'b': 3, 'c': 4}"
            ]
          },
          "metadata": {},
          "execution_count": 17
        }
      ]
    },
    {
      "cell_type": "markdown",
      "metadata": {
        "id": "V9MHfUdvL9g2"
      },
      "source": [
        "####Sets"
      ]
    },
    {
      "cell_type": "markdown",
      "source": [
        "There are two ways to create sets: using curly braces {} and the built-in function set()"
      ],
      "metadata": {
        "id": "igzC-e76X-vZ"
      }
    },
    {
      "cell_type": "code",
      "source": [
        "s = {1, 2, 3}\n",
        "s = set([1, 2, 3])\n",
        "type(s)"
      ],
      "metadata": {
        "colab": {
          "base_uri": "https://localhost:8080/"
        },
        "id": "bARrUFR8X-Pa",
        "outputId": "0151e435-2e67-4ace-8916-822ff618f5a5"
      },
      "execution_count": 18,
      "outputs": [
        {
          "output_type": "execute_result",
          "data": {
            "text/plain": [
              "set"
            ]
          },
          "metadata": {},
          "execution_count": 18
        }
      ]
    },
    {
      "cell_type": "markdown",
      "metadata": {
        "id": "Rpm4UtNpL9g2"
      },
      "source": [
        "A set is an unordered collection of distinct elements. As a simple example, consider the following:"
      ]
    },
    {
      "cell_type": "code",
      "source": [
        "#A set automatically remove all the duplicate values.\n",
        "s = {1, 2, 3, 2, 3, 4}\n",
        "s"
      ],
      "metadata": {
        "colab": {
          "base_uri": "https://localhost:8080/"
        },
        "id": "BkItkjVYYNS1",
        "outputId": "c3e1c2cf-f285-460c-8210-77759c1b74d3"
      },
      "execution_count": 20,
      "outputs": [
        {
          "output_type": "execute_result",
          "data": {
            "text/plain": [
              "{1, 2, 3, 4}"
            ]
          },
          "metadata": {},
          "execution_count": 20
        }
      ]
    },
    {
      "cell_type": "code",
      "source": [
        "s = {1, 2, 3}\n",
        "s.update([2, 3, 4, 5, 6])\n",
        "s"
      ],
      "metadata": {
        "colab": {
          "base_uri": "https://localhost:8080/"
        },
        "id": "ZhXpdfbuY0w1",
        "outputId": "15f90ab7-12c7-4b69-a022-c7d0126f34d7"
      },
      "execution_count": 24,
      "outputs": [
        {
          "output_type": "execute_result",
          "data": {
            "text/plain": [
              "{1, 2, 3, 4, 5, 6}"
            ]
          },
          "metadata": {},
          "execution_count": 24
        }
      ]
    },
    {
      "cell_type": "code",
      "execution_count": 21,
      "metadata": {
        "colab": {
          "base_uri": "https://localhost:8080/"
        },
        "id": "MmyaniLsL9g2",
        "outputId": "5f5d3446-bf1b-4c0c-d20d-85fab42d0656"
      },
      "outputs": [
        {
          "output_type": "stream",
          "name": "stdout",
          "text": [
            "True\n",
            "False\n"
          ]
        }
      ],
      "source": [
        "animals = {'cat', 'dog'}\n",
        "print('cat' in animals)   # Check if an element is in a set; prints \"True\"\n",
        "print('fish' in animals)  # prints \"False\"\n"
      ]
    },
    {
      "cell_type": "code",
      "execution_count": 22,
      "metadata": {
        "colab": {
          "base_uri": "https://localhost:8080/"
        },
        "id": "ElJEyK86L9g6",
        "outputId": "3d7423ff-9af4-434f-98e7-ff4309271382"
      },
      "outputs": [
        {
          "output_type": "stream",
          "name": "stdout",
          "text": [
            "True\n",
            "3\n"
          ]
        }
      ],
      "source": [
        "#Using the add() method we can add a single element to the set.\n",
        "animals.add('fish')      # Add an element to a set\n",
        "print('fish' in animals)\n",
        "print(len(animals))       # Number of elements in a set;"
      ]
    },
    {
      "cell_type": "code",
      "execution_count": null,
      "metadata": {
        "colab": {
          "base_uri": "https://localhost:8080/"
        },
        "id": "5uGmrxdPL9g9",
        "outputId": "3bf4b220-f975-47f2-eb4b-2cc103341c78"
      },
      "outputs": [
        {
          "output_type": "stream",
          "name": "stdout",
          "text": [
            "3\n",
            "2\n"
          ]
        }
      ],
      "source": [
        "animals.add('cat')       # Adding an element that is already in the set does nothing\n",
        "print(len(animals))       \n",
        "animals.remove('cat')    # Remove an element from a set\n",
        "print(len(animals))       "
      ]
    },
    {
      "cell_type": "markdown",
      "source": [
        "remove() will raise a key error if the value doesn't exist, discard() won't raise any errors."
      ],
      "metadata": {
        "id": "gwW8tckrYnKv"
      }
    },
    {
      "cell_type": "code",
      "source": [
        "animals.discard('tiger')"
      ],
      "metadata": {
        "id": "TxJ7W1r7YlRJ"
      },
      "execution_count": 23,
      "outputs": []
    },
    {
      "cell_type": "markdown",
      "source": [
        "union() or | will create a new set that contains all the elements from the sets provided."
      ],
      "metadata": {
        "id": "JDbX0VPVYv-4"
      }
    },
    {
      "cell_type": "code",
      "source": [
        "s1 = {1, 2, 3}\n",
        "s2 = {3, 4, 5}\n",
        "s1.union(s2)  # or 's1 | s2'"
      ],
      "metadata": {
        "colab": {
          "base_uri": "https://localhost:8080/"
        },
        "id": "-k_gAsW6Y8On",
        "outputId": "fddee45f-c42e-4b94-ceeb-fd3f6d00aa26"
      },
      "execution_count": 25,
      "outputs": [
        {
          "output_type": "execute_result",
          "data": {
            "text/plain": [
              "{1, 2, 3, 4, 5}"
            ]
          },
          "metadata": {},
          "execution_count": 25
        }
      ]
    },
    {
      "cell_type": "markdown",
      "source": [
        "intersection or & will return a set containing only the elements that are common to all of them."
      ],
      "metadata": {
        "id": "9aUQXi2qZB_p"
      }
    },
    {
      "cell_type": "code",
      "source": [
        "s1 = {1, 2, 3}\n",
        "s2 = {2, 3, 4}\n",
        "s3 = {3, 4, 5}\n",
        "s1.intersection(s2)"
      ],
      "metadata": {
        "colab": {
          "base_uri": "https://localhost:8080/"
        },
        "id": "j7OfuizCZCh3",
        "outputId": "bc5dfd6a-f8d3-4164-cf69-52ad8fc46d9b"
      },
      "execution_count": 27,
      "outputs": [
        {
          "output_type": "execute_result",
          "data": {
            "text/plain": [
              "{2, 3}"
            ]
          },
          "metadata": {},
          "execution_count": 27
        }
      ]
    },
    {
      "cell_type": "code",
      "source": [
        "s1.intersection(s2, s3)  # or 's1 & s2 & s3'"
      ],
      "metadata": {
        "colab": {
          "base_uri": "https://localhost:8080/"
        },
        "id": "VIwi0NDNZNCh",
        "outputId": "f213b677-f16c-4a83-a366-facaaecf049c"
      },
      "execution_count": 28,
      "outputs": [
        {
          "output_type": "execute_result",
          "data": {
            "text/plain": [
              "{3}"
            ]
          },
          "metadata": {},
          "execution_count": 28
        }
      ]
    },
    {
      "cell_type": "markdown",
      "source": [
        "difference or - will return only the elements that are unique to the first set (invoked set)."
      ],
      "metadata": {
        "id": "j1XaccZPZP8R"
      }
    },
    {
      "cell_type": "code",
      "source": [
        "s1 = {1, 2, 3}\n",
        "s2 = {2, 3, 4}\n",
        "s1.difference(s2)  # or 's1 - s2'"
      ],
      "metadata": {
        "colab": {
          "base_uri": "https://localhost:8080/"
        },
        "id": "OtHtFwpGZQag",
        "outputId": "e0313ef1-83f6-4264-bad6-54d201a219a3"
      },
      "execution_count": 29,
      "outputs": [
        {
          "output_type": "execute_result",
          "data": {
            "text/plain": [
              "{1}"
            ]
          },
          "metadata": {},
          "execution_count": 29
        }
      ]
    },
    {
      "cell_type": "code",
      "source": [
        "s2.difference(s1) # or 's2 - s1'"
      ],
      "metadata": {
        "colab": {
          "base_uri": "https://localhost:8080/"
        },
        "id": "uIdE-zV6ZUtU",
        "outputId": "bad87928-57be-4330-a40d-6867c25d7f05"
      },
      "execution_count": 30,
      "outputs": [
        {
          "output_type": "execute_result",
          "data": {
            "text/plain": [
              "{4}"
            ]
          },
          "metadata": {},
          "execution_count": 30
        }
      ]
    },
    {
      "cell_type": "markdown",
      "source": [
        "symetric_difference or ^ will return all the elements that are not common between them."
      ],
      "metadata": {
        "id": "ARGABCEmZdXu"
      }
    },
    {
      "cell_type": "code",
      "source": [
        "s1.symmetric_difference(s2)  # or 's1 ^ s2'"
      ],
      "metadata": {
        "colab": {
          "base_uri": "https://localhost:8080/"
        },
        "id": "OaVnq5fFZd1o",
        "outputId": "97bbb467-b98d-408d-a3c4-6e0014b8429b"
      },
      "execution_count": 31,
      "outputs": [
        {
          "output_type": "execute_result",
          "data": {
            "text/plain": [
              "{1, 4}"
            ]
          },
          "metadata": {},
          "execution_count": 31
        }
      ]
    },
    {
      "cell_type": "markdown",
      "metadata": {
        "id": "zk2DbvLKL9g_"
      },
      "source": [
        "_Loops_: Iterating over a set has the same syntax as iterating over a list; however since sets are unordered, you cannot make assumptions about the order in which you visit the elements of the set:"
      ]
    },
    {
      "cell_type": "code",
      "execution_count": null,
      "metadata": {
        "colab": {
          "base_uri": "https://localhost:8080/"
        },
        "id": "K47KYNGyL9hA",
        "outputId": "c5370717-ae82-4d5b-b12f-96b404e01be1"
      },
      "outputs": [
        {
          "output_type": "stream",
          "name": "stdout",
          "text": [
            "#1: cat\n",
            "#2: dog\n",
            "#3: fish\n"
          ]
        }
      ],
      "source": [
        "animals = {'cat', 'dog', 'fish'}\n",
        "for idx, animal in enumerate(animals):\n",
        "    print('#{}: {}'.format(idx + 1, animal))"
      ]
    },
    {
      "cell_type": "markdown",
      "metadata": {
        "id": "puq4S8buL9hC"
      },
      "source": [
        "Set comprehensions: Like lists and dictionaries, we can easily construct sets using set comprehensions:"
      ]
    },
    {
      "cell_type": "code",
      "execution_count": null,
      "metadata": {
        "colab": {
          "base_uri": "https://localhost:8080/"
        },
        "id": "iw7k90k3L9hC",
        "outputId": "94b71f5f-52d9-4985-8cd6-2899ef6a0eb3"
      },
      "outputs": [
        {
          "output_type": "stream",
          "name": "stdout",
          "text": [
            "{0, 1, 2, 3, 4, 5}\n"
          ]
        }
      ],
      "source": [
        "from math import sqrt\n",
        "print({int(sqrt(x)) for x in range(30)})"
      ]
    },
    {
      "cell_type": "markdown",
      "metadata": {
        "id": "qPsHSKB1L9hF"
      },
      "source": [
        "####Tuples"
      ]
    },
    {
      "cell_type": "markdown",
      "metadata": {
        "id": "kucc0LKVL9hG"
      },
      "source": [
        "A tuple is an (immutable) ordered list of values. A tuple is in many ways similar to a list; one of the most important differences is that tuples can be used as keys in dictionaries and as elements of sets, while lists cannot. Here is a trivial example:"
      ]
    },
    {
      "cell_type": "code",
      "execution_count": null,
      "metadata": {
        "colab": {
          "base_uri": "https://localhost:8080/"
        },
        "id": "9wHUyTKxL9hH",
        "outputId": "ac38a684-4442-4b4e-ec6b-a64cb0760c91"
      },
      "outputs": [
        {
          "output_type": "stream",
          "name": "stdout",
          "text": [
            "<class 'tuple'>\n",
            "5\n",
            "1\n"
          ]
        }
      ],
      "source": [
        "d = {(x, x + 1): x for x in range(10)}  # Create a dictionary with tuple keys\n",
        "t = (5, 6)       # Create a tuple\n",
        "print(type(t))\n",
        "print(d[t])       \n",
        "print(d[(1, 2)])"
      ]
    },
    {
      "cell_type": "code",
      "execution_count": null,
      "metadata": {
        "colab": {
          "base_uri": "https://localhost:8080/",
          "height": 166
        },
        "id": "HoO8zYKzL9hJ",
        "outputId": "85e21538-c7cf-407d-c05e-9ce81273b499"
      },
      "outputs": [
        {
          "output_type": "error",
          "ename": "TypeError",
          "evalue": "ignored",
          "traceback": [
            "\u001b[0;31m---------------------------------------------------------------------------\u001b[0m",
            "\u001b[0;31mTypeError\u001b[0m                                 Traceback (most recent call last)",
            "\u001b[0;32m<ipython-input-50-6e3e3a3cf7de>\u001b[0m in \u001b[0;36m<module>\u001b[0;34m()\u001b[0m\n\u001b[0;32m----> 1\u001b[0;31m \u001b[0mt\u001b[0m\u001b[0;34m[\u001b[0m\u001b[0;36m0\u001b[0m\u001b[0;34m]\u001b[0m \u001b[0;34m=\u001b[0m \u001b[0;36m1\u001b[0m \u001b[0;31m#'tuple' object does not support item assignment\u001b[0m\u001b[0;34m\u001b[0m\u001b[0;34m\u001b[0m\u001b[0m\n\u001b[0m",
            "\u001b[0;31mTypeError\u001b[0m: 'tuple' object does not support item assignment"
          ]
        }
      ],
      "source": [
        "t[0] = 1 #'tuple' object does not support item assignment"
      ]
    },
    {
      "cell_type": "markdown",
      "metadata": {
        "id": "arrLCcMyL9gK"
      },
      "source": [
        "####List/Set/Dict comprehensions:"
      ]
    },
    {
      "cell_type": "markdown",
      "source": [
        "You can use a loop to generate a list based on a range of numbers or on another list. This is a common operation, so Python offers a more efficient way to do it. To write a comprehension, define an expression for the values you want to store in the list. Then write a for loop to generate input values needed to make the list."
      ],
      "metadata": {
        "id": "6oSyP8-IJ23B"
      }
    },
    {
      "cell_type": "markdown",
      "metadata": {
        "id": "5Qn2jU_pL9gL"
      },
      "source": [
        "When programming, frequently we want to transform one type of data into another. As a simple example, consider the following code that computes square numbers:"
      ]
    },
    {
      "cell_type": "code",
      "execution_count": null,
      "metadata": {
        "colab": {
          "base_uri": "https://localhost:8080/"
        },
        "id": "IVNEwoMXL9gL",
        "outputId": "ac0f7508-7f28-48ad-be2f-9939ad64b09c"
      },
      "outputs": [
        {
          "output_type": "stream",
          "name": "stdout",
          "text": [
            "[0, 1, 4, 9, 16]\n"
          ]
        }
      ],
      "source": [
        "nums = [0, 1, 2, 3, 4]\n",
        "squares = []\n",
        "for x in nums:\n",
        "    squares.append(x ** 2)\n",
        "print(squares)"
      ]
    },
    {
      "cell_type": "markdown",
      "metadata": {
        "id": "7DmKVUFaL9gQ"
      },
      "source": [
        "You can make this code simpler using a list comprehension:"
      ]
    },
    {
      "cell_type": "code",
      "execution_count": null,
      "metadata": {
        "colab": {
          "base_uri": "https://localhost:8080/"
        },
        "id": "kZxsUfV6L9gR",
        "outputId": "2ff68c12-8c9f-45e8-ecbe-9cf316802b51"
      },
      "outputs": [
        {
          "output_type": "stream",
          "name": "stdout",
          "text": [
            "[0, 1, 4, 9, 16]\n"
          ]
        }
      ],
      "source": [
        "nums = [0, 1, 2, 3, 4]\n",
        "squares = [x ** 2 for x in nums]\n",
        "print(squares)"
      ]
    },
    {
      "cell_type": "markdown",
      "metadata": {
        "id": "-D8ARK7tL9gV"
      },
      "source": [
        "List comprehensions can also contain conditions:"
      ]
    },
    {
      "cell_type": "code",
      "execution_count": null,
      "metadata": {
        "colab": {
          "base_uri": "https://localhost:8080/"
        },
        "id": "yUtgOyyYL9gV",
        "outputId": "b33f7fab-c043-47f6-ebe8-c2b31a319fad"
      },
      "outputs": [
        {
          "output_type": "stream",
          "name": "stdout",
          "text": [
            "[0, 4, 16]\n"
          ]
        }
      ],
      "source": [
        "nums = [0, 1, 2, 3, 4]\n",
        "even_squares = [x ** 2 for x in nums if x % 2 == 0]\n",
        "print(even_squares)"
      ]
    },
    {
      "cell_type": "markdown",
      "source": [
        "Set comprehension\n"
      ],
      "metadata": {
        "id": "1i_2byGuibs_"
      }
    },
    {
      "cell_type": "code",
      "source": [
        "b = {\"abc\", \"def\"}\n",
        "{s.upper() for s in b}"
      ],
      "metadata": {
        "colab": {
          "base_uri": "https://localhost:8080/"
        },
        "id": "SDvg5KbPieWL",
        "outputId": "853791a9-9c0e-4916-dfb1-cccfd70fc919"
      },
      "execution_count": 32,
      "outputs": [
        {
          "output_type": "execute_result",
          "data": {
            "text/plain": [
              "{'ABC', 'DEF'}"
            ]
          },
          "metadata": {},
          "execution_count": 32
        }
      ]
    },
    {
      "cell_type": "markdown",
      "source": [
        "Dict comprehension"
      ],
      "metadata": {
        "id": "ZFIRCogvijbR"
      }
    },
    {
      "cell_type": "code",
      "source": [
        "c = {'name': 'Pooka', 'age': 5}\n",
        "{v: k for k, v in c.items()}"
      ],
      "metadata": {
        "colab": {
          "base_uri": "https://localhost:8080/"
        },
        "id": "-F_Vfn4Iinwx",
        "outputId": "e257a1d8-1cc6-4529-df45-24f666f441cc"
      },
      "execution_count": 33,
      "outputs": [
        {
          "output_type": "execute_result",
          "data": {
            "text/plain": [
              "{5: 'age', 'Pooka': 'name'}"
            ]
          },
          "metadata": {},
          "execution_count": 33
        }
      ]
    },
    {
      "cell_type": "code",
      "source": [
        "c = {'name': 'Pooka', 'first_name': 'Oooka'}\n",
        "[\"{}:{}\".format(k.upper(), v.upper()) for k, v in c.items()]"
      ],
      "metadata": {
        "colab": {
          "base_uri": "https://localhost:8080/"
        },
        "id": "Nn8prsf-i243",
        "outputId": "29103ab3-b48b-4368-d5e2-5993cb8c9664"
      },
      "execution_count": 34,
      "outputs": [
        {
          "output_type": "execute_result",
          "data": {
            "text/plain": [
              "['NAME:POOKA', 'FIRST_NAME:OOOKA']"
            ]
          },
          "metadata": {},
          "execution_count": 34
        }
      ]
    },
    {
      "cell_type": "markdown",
      "metadata": {
        "id": "AXA4jrEOL9hM"
      },
      "source": [
        "###Functions"
      ]
    },
    {
      "cell_type": "markdown",
      "metadata": {
        "id": "WaRms-QfL9hN"
      },
      "source": [
        "Python functions are defined using the `def` keyword. For example:"
      ]
    },
    {
      "cell_type": "code",
      "execution_count": null,
      "metadata": {
        "colab": {
          "base_uri": "https://localhost:8080/"
        },
        "id": "kiMDUr58L9hN",
        "outputId": "adcb3d0c-30d0-4fe5-b076-22eae4978f52"
      },
      "outputs": [
        {
          "output_type": "stream",
          "name": "stdout",
          "text": [
            "negative\n",
            "zero\n",
            "positive\n"
          ]
        }
      ],
      "source": [
        "def sign(x):\n",
        "    if x > 0:\n",
        "        return 'positive'\n",
        "    elif x < 0:\n",
        "        return 'negative'\n",
        "    else:\n",
        "        return 'zero'\n",
        "\n",
        "for x in [-1, 0, 1]:\n",
        "    print(sign(x))"
      ]
    },
    {
      "cell_type": "markdown",
      "metadata": {
        "id": "U-QJFt8TL9hR"
      },
      "source": [
        "We will often define functions to take optional keyword arguments, like this:"
      ]
    },
    {
      "cell_type": "code",
      "execution_count": null,
      "metadata": {
        "colab": {
          "base_uri": "https://localhost:8080/"
        },
        "id": "PfsZ3DazL9hR",
        "outputId": "fa3a7de2-febd-4249-be87-84faffb5b216"
      },
      "outputs": [
        {
          "output_type": "stream",
          "name": "stdout",
          "text": [
            "Hello, Bob!\n",
            "HELLO, FRED\n"
          ]
        }
      ],
      "source": [
        "def hello(name, loud=False):\n",
        "    if loud:\n",
        "        print('HELLO, {}'.format(name.upper()))\n",
        "    else:\n",
        "        print('Hello, {}!'.format(name))\n",
        "\n",
        "hello('Bob')\n",
        "hello('Fred', loud=True)"
      ]
    },
    {
      "cell_type": "markdown",
      "source": [
        "#### Arguments"
      ],
      "metadata": {
        "id": "0L-eL4CjKZ5B"
      }
    },
    {
      "cell_type": "markdown",
      "source": [
        "The two main kinds of arguments are positional and keyword arguments. When you use positional arguments Python matches the first argument in the function call with the first parameter in the function definition, and so forth. With keyword arguments, you specify which parameter each argument should be assigned to in the function call. When you use keyword arguments, the order of the arguments doesn't matter."
      ],
      "metadata": {
        "id": "FXjA4QQsKdOa"
      }
    },
    {
      "cell_type": "code",
      "source": [
        "# Using positional arguments\n",
        "def describe_pet(animal, name):\n",
        " \"\"\"Display information about a pet.\"\"\"\n",
        " print(\"\\nI have a \" + animal + \".\")\n",
        " print(\"Its name is \" + name + \".\")\n",
        "describe_pet('hamster', 'harry')\n",
        "describe_pet('dog', 'willie')\n"
      ],
      "metadata": {
        "colab": {
          "base_uri": "https://localhost:8080/"
        },
        "id": "tvW4k2jQKb1W",
        "outputId": "c99603f5-cc9b-4b91-ffb3-5e43086e5d62"
      },
      "execution_count": null,
      "outputs": [
        {
          "output_type": "stream",
          "name": "stdout",
          "text": [
            "\n",
            "I have a hamster.\n",
            "Its name is harry.\n",
            "\n",
            "I have a dog.\n",
            "Its name is willie.\n"
          ]
        }
      ]
    },
    {
      "cell_type": "code",
      "source": [
        "# Using keyword arguments\n",
        "def describe_pet(animal, name):\n",
        " \"\"\"Display information about a pet.\"\"\"\n",
        " print(\"\\nI have a \" + animal + \".\")\n",
        " print(\"Its name is \" + name + \".\")\n",
        "describe_pet(animal='hamster', name='harry')\n",
        "describe_pet(name='willie', animal='dog')"
      ],
      "metadata": {
        "colab": {
          "base_uri": "https://localhost:8080/"
        },
        "id": "Sg1cgbD7KgOA",
        "outputId": "3a2c7abd-38f5-43df-f1d0-1a97dee5c3ca"
      },
      "execution_count": null,
      "outputs": [
        {
          "output_type": "stream",
          "name": "stdout",
          "text": [
            "\n",
            "I have a hamster.\n",
            "Its name is harry.\n",
            "\n",
            "I have a dog.\n",
            "Its name is willie.\n"
          ]
        }
      ]
    },
    {
      "cell_type": "markdown",
      "source": [
        "You can provide a default value for a parameter. When function calls omit this argument the default value will be used. Parameters with default values must be listed after parameters without default values in the function's definition so positional arguments can still work correctly"
      ],
      "metadata": {
        "id": "GqcuoAmEKoR2"
      }
    },
    {
      "cell_type": "code",
      "source": [
        "# Using a default value\n",
        "def describe_pet(name, animal='dog'):\n",
        " \"\"\"Display information about a pet.\"\"\"\n",
        " print(\"\\nI have a \" + animal + \".\")\n",
        " print(\"Its name is \" + name + \".\")\n",
        "describe_pet('harry', 'hamster')\n",
        "describe_pet('willie')\n",
        "\n",
        "# Using None to make an argument optional\n",
        "def describe_pet(animal, name=None):\n",
        "  \"\"\"Display information about a pet.\"\"\"\n",
        "  print(\"\\nI have a \" + animal + \".\")\n",
        "  if name:\n",
        "    print(\"Its name is \" + name + \".\")\n",
        "\n",
        "describe_pet('hamster', 'harry')\n",
        "describe_pet('snake')"
      ],
      "metadata": {
        "colab": {
          "base_uri": "https://localhost:8080/"
        },
        "id": "UQgx3NuOKmKS",
        "outputId": "58269118-dbfd-4243-e88a-77652e6b48bc"
      },
      "execution_count": null,
      "outputs": [
        {
          "output_type": "stream",
          "name": "stdout",
          "text": [
            "\n",
            "I have a hamster.\n",
            "Its name is harry.\n",
            "\n",
            "I have a dog.\n",
            "Its name is willie.\n",
            "\n",
            "I have a hamster.\n",
            "Its name is harry.\n",
            "\n",
            "I have a snake.\n"
          ]
        }
      ]
    },
    {
      "cell_type": "markdown",
      "source": [
        "You can pass a list as an argument to a function, and the function can work with the values in the list. Any changes the function makes to the list will affect the original list. You can prevent a function from modifying a list by passing a copy of the list as an argument."
      ],
      "metadata": {
        "id": "qz6skKpaLNkD"
      }
    },
    {
      "cell_type": "code",
      "source": [
        "# Passing a list as an argument\n",
        "def greet_users(names):\n",
        "  \"\"\"Print a simple greeting to everyone.\"\"\"\n",
        "  for name in names:\n",
        "    msg = \"Hello, \" + name + \"!\"\n",
        "    print(msg)\n",
        "  \n",
        "usernames = ['hannah', 'ty', 'margot']\n",
        "greet_users(usernames)\n",
        "\n",
        "def greet_users(names):\n",
        "  \"\"\"pring a simpel greeting to all\"\"\"\n",
        "  for name in names:\n",
        "    print('Hello ' + name + \"!\")\n",
        "    \n",
        "usernames = ['hannah', 'ty', 'margot']\n",
        "greet_users(usernames)\n"
      ],
      "metadata": {
        "colab": {
          "base_uri": "https://localhost:8080/"
        },
        "id": "lN52vGYXLPzR",
        "outputId": "27e24e49-204b-499c-fdce-2be24c178bfe"
      },
      "execution_count": null,
      "outputs": [
        {
          "output_type": "stream",
          "name": "stdout",
          "text": [
            "Hello, hannah!\n",
            "Hello, ty!\n",
            "Hello, margot!\n",
            "Hello hannah!\n",
            "Hello ty!\n",
            "Hello margot!\n"
          ]
        }
      ]
    },
    {
      "cell_type": "markdown",
      "source": [
        "The following example sends a list of models to a function for printing. The original list is emptied, and the second list is filled."
      ],
      "metadata": {
        "id": "O4opm-EWLeNs"
      }
    },
    {
      "cell_type": "code",
      "source": [
        "def print_models(unprinted, printed):\n",
        "  \"\"\"3d print a set of models.\"\"\"\n",
        "  while unprinted:\n",
        "    current_model = unprinted.pop()\n",
        "    print(\"Printing \" + current_model)\n",
        "    printed.append(current_model)\n",
        "    \n",
        "# Store some unprinted designs,\n",
        "# and print each of them.\n",
        "unprinted = ['phone case', 'pendant', 'ring']\n",
        "printed = []\n",
        "print_models(unprinted, printed)\n",
        "print(\"\\nUnprinted:\", unprinted)\n",
        "print(\"Printed:\", printed)"
      ],
      "metadata": {
        "colab": {
          "base_uri": "https://localhost:8080/"
        },
        "id": "GS0II5xxLerW",
        "outputId": "cc9cb411-8d28-4f14-f075-16d6a90f938a"
      },
      "execution_count": null,
      "outputs": [
        {
          "output_type": "stream",
          "name": "stdout",
          "text": [
            "Printing ring\n",
            "Printing pendant\n",
            "Printing phone case\n",
            "\n",
            "Unprinted: []\n",
            "Printed: ['ring', 'pendant', 'phone case']\n"
          ]
        }
      ]
    },
    {
      "cell_type": "markdown",
      "source": [
        "The following example is the same as the previous one, except the original list is unchanged after calling print_models()."
      ],
      "metadata": {
        "id": "HAYAZN1uLiyG"
      }
    },
    {
      "cell_type": "code",
      "source": [
        "def print_models(unprinted, printed):\n",
        "  \"\"\"3d print a set of models.\"\"\"\n",
        "  while unprinted:\n",
        "    current_model = unprinted.pop()\n",
        "    print(\"Printing \" + current_model)\n",
        "    printed.append(current_model)\n",
        "      \n",
        "# Store some unprinted designs,\n",
        "# and print each of them.\n",
        "original = ['phone case', 'pendant', 'ring']\n",
        "printed = []\n",
        "print_models(original[:], printed)\n",
        "print(\"\\nOriginal:\", original)\n",
        "print(\"Printed:\", printed)\n"
      ],
      "metadata": {
        "colab": {
          "base_uri": "https://localhost:8080/"
        },
        "id": "7N_QyHwnLiSN",
        "outputId": "01083239-647f-44fa-b88e-104fd7b63c7d"
      },
      "execution_count": null,
      "outputs": [
        {
          "output_type": "stream",
          "name": "stdout",
          "text": [
            "Printing ring\n",
            "Printing pendant\n",
            "Printing phone case\n",
            "\n",
            "Original: ['phone case', 'pendant', 'ring']\n",
            "Printed: ['ring', 'pendant', 'phone case']\n"
          ]
        }
      ]
    },
    {
      "cell_type": "markdown",
      "source": [
        "A way to copy a list by value: new_list = old_list[:]"
      ],
      "metadata": {
        "id": "h4v2Qt61MEcD"
      }
    },
    {
      "cell_type": "code",
      "source": [
        "new_list = original[:]"
      ],
      "metadata": {
        "id": "JCDUZM93MNlc"
      },
      "execution_count": null,
      "outputs": []
    },
    {
      "cell_type": "markdown",
      "source": [
        "If the list contains objects and you want to copy them as well, use generic copy.deepcopy():"
      ],
      "metadata": {
        "id": "Z4vrl26TMYTg"
      }
    },
    {
      "cell_type": "code",
      "source": [
        "import copy\n",
        "new_list = copy.deepcopy(original)"
      ],
      "metadata": {
        "id": "HCvFAzWSMU1v"
      },
      "execution_count": null,
      "outputs": []
    },
    {
      "cell_type": "markdown",
      "source": [
        "Sometimes you won't know how many arguments a\n",
        "function will need to accept. Python allows you to collect an\n",
        "arbitrary number of arguments into one parameter using\n",
        "\n",
        "The ''*'' operator. A parameter that accepts an arbitrary number of\n",
        "arguments must come last in the function definition.\n",
        "\n",
        " The ** operator allows a parameter to collect an arbitrary\n",
        "number of keyword arguments"
      ],
      "metadata": {
        "id": "y5U2ke3ONG95"
      }
    },
    {
      "cell_type": "code",
      "source": [
        "# Collecting an arbitrary number of arguments\n",
        "def make_pizza(size, *toppings):\n",
        "  \"\"\"Make a pizza.\"\"\"\n",
        "  print(\"\\nMaking a \" + size + \" pizza.\")\n",
        "  print(\"Toppings:\")\n",
        "  for topping in toppings:\n",
        "    print(\"- \" + topping)\n",
        "    \n",
        "# Make three pizzas with different toppings.\n",
        "make_pizza('small', 'pepperoni')\n",
        "make_pizza('large', 'bacon bits', 'pineapple')\n",
        "make_pizza('medium', 'mushrooms', 'peppers',\n",
        " 'onions', 'extra cheese')"
      ],
      "metadata": {
        "colab": {
          "base_uri": "https://localhost:8080/"
        },
        "id": "2G_LT98oNJvt",
        "outputId": "1032662d-69f8-4009-ed8d-4a87e7c3d530"
      },
      "execution_count": null,
      "outputs": [
        {
          "output_type": "stream",
          "name": "stdout",
          "text": [
            "\n",
            "Making a small pizza.\n",
            "Toppings:\n",
            "- pepperoni\n",
            "\n",
            "Making a large pizza.\n",
            "Toppings:\n",
            "- bacon bits\n",
            "- pineapple\n",
            "\n",
            "Making a medium pizza.\n",
            "Toppings:\n",
            "- mushrooms\n",
            "- peppers\n",
            "- onions\n",
            "- extra cheese\n"
          ]
        }
      ]
    },
    {
      "cell_type": "code",
      "source": [
        "# Collecting an arbitrary number of keyword arguments\n",
        "def build_profile(first, last, **user_info):\n",
        "  \"\"\"Build a user's profile dictionary.\"\"\"\n",
        "  # Build a dict with the required keys.\n",
        "  profile = {'first': first, 'last': last}\n",
        "  # Add any other keys and values.\n",
        "  for key, value in user_info.items():\n",
        "    profile[key] = value\n",
        "  return profile\n",
        "  \n",
        "# Create two users with different kinds\n",
        "# of information.\n",
        "user_0 = build_profile('albert', 'einstein',\n",
        " location='princeton')\n",
        "user_1 = build_profile('marie', 'curie',\n",
        " location='paris', field='chemistry')\n",
        "print(user_0)\n",
        "print(user_1)"
      ],
      "metadata": {
        "colab": {
          "base_uri": "https://localhost:8080/"
        },
        "id": "zCZRKuUUNWa_",
        "outputId": "f58ee04e-6088-4d5e-a6dd-c11a71e10297"
      },
      "execution_count": null,
      "outputs": [
        {
          "output_type": "stream",
          "name": "stdout",
          "text": [
            "{'first': 'albert', 'last': 'einstein', 'location': 'princeton'}\n",
            "{'first': 'marie', 'last': 'curie', 'location': 'paris', 'field': 'chemistry'}\n"
          ]
        }
      ]
    },
    {
      "cell_type": "markdown",
      "source": [
        "####Return Values"
      ],
      "metadata": {
        "id": "8SxJtAC0Ku1K"
      }
    },
    {
      "cell_type": "code",
      "source": [
        "# Returning a single value\n",
        "def get_full_name(first, last):\n",
        " \"\"\"Return a neatly formatted full name.\"\"\"\n",
        " full_name = first + ' ' + last\n",
        " return full_name.title(), full_name # str.title() make the first letter Capital\n",
        "\n",
        "musician = get_full_name('jimi', 'hendrix')\n",
        "print(musician)\n",
        "\n",
        "# Returning a dictionary\n",
        "def build_person(first, last):\n",
        " \"\"\"Return a dictionary of information\n",
        " about a person.\n",
        " \"\"\"\n",
        " person = {'first': first.title(), 'last': last}\n",
        " return person\n",
        "\n",
        "# usage Example\n",
        "musician = build_person('jimi', 'hendrix')\n",
        "print(musician)\n",
        "\n",
        "\n",
        "# Returning a dictionary with optional values\n",
        "def build_person(first, last, age=None):\n",
        "  \"\"\"Return a dictionary of information about a person.\"\"\"\n",
        "  person = {'first': first, 'last': last}\n",
        "  if age:\n",
        "    person['age'] = age\n",
        "   \n",
        "  return person\n",
        "  \n",
        "musician = build_person('jimi', 'hendrix', 27)\n",
        "print(musician)\n",
        "musician = build_person('janis', 'joplin')\n",
        "print(musician)\n",
        "# musician[]\n"
      ],
      "metadata": {
        "colab": {
          "base_uri": "https://localhost:8080/"
        },
        "id": "EtsP1799KvuH",
        "outputId": "956d4d68-9abf-4beb-cac1-683aa358454c"
      },
      "execution_count": null,
      "outputs": [
        {
          "output_type": "stream",
          "name": "stdout",
          "text": [
            "('Jimi Hendrix', 'jimi hendrix')\n",
            "{'first': 'Jimi', 'last': 'hendrix'}\n",
            "{'first': 'jimi', 'last': 'hendrix', 'age': 27}\n",
            "{'first': 'janis', 'last': 'joplin'}\n"
          ]
        }
      ]
    },
    {
      "cell_type": "markdown",
      "source": [
        "Visualization functions on PythonTutor: https://pythontutor.com/"
      ],
      "metadata": {
        "id": "2W9zvnPoLAsF"
      }
    },
    {
      "cell_type": "markdown",
      "source": [
        "#### Module"
      ],
      "metadata": {
        "id": "rsxrh3kWNwyz"
      }
    },
    {
      "cell_type": "markdown",
      "source": [
        "You can store your functions in a separate file called a module, and then import the functions you need into the file containing your main program. This allows for cleaner program files. (Make sure your module is stored in the same directory as your main program.)"
      ],
      "metadata": {
        "id": "vI-SBQP7N5if"
      }
    },
    {
      "cell_type": "code",
      "source": [
        "# Storing a function in a module\n",
        "#  File: pizza.py, one needs to create pizza.py from the following otherwise this piece would not work.\n",
        "#  Simply create a new file in google colab. \n",
        "# Also, the pizza.py needs to be in the same directory this code is being run.\n",
        "\n",
        "# Storing a function in a module\n",
        "# File: pizza.py\n",
        "def make_pizza(size, *toppings):\n",
        "  \"\"\"Make a pizza.\"\"\"\n",
        "  print(\"\\nMaking a \" + size + \" pizza.\")\n",
        "  print(\"Toppings:\")\n",
        "  for topping in toppings:\n",
        "    print(\"- \" + topping)\n",
        "    \n",
        "# Importing an entire module\n",
        "# File: making_pizzas.py\n",
        "# Every function in the module is available in the program file.\n",
        "import pizza # this maynot work if we dont have this file pizza.py\n",
        "pizza.make_pizza('medium', 'pepperoni')\n",
        "pizza.make_pizza('small', 'bacon', 'pineapple')\n",
        "\n",
        "# Importing a specific function\n",
        "# Only the imported functions are available in the program file.\n",
        "from pizza import make_pizza\n",
        "make_pizza('medium', 'pepperoni')\n",
        "make_pizza('small', 'bacon', 'pineapple')\n",
        "\n",
        "# Giving a module an alias\n",
        "import pizza as p\n",
        "p.make_pizza('medium', 'pepperoni')\n",
        "p.make_pizza('small', 'bacon', 'pineapple')\n",
        "\n",
        "# Giving a function an alias\n",
        "from pizza import make_pizza as mp\n",
        "mp('medium', 'pepperoni')\n",
        "mp('small', 'bacon', 'pineapple')\n",
        "\n",
        "\n",
        "# Importing all functions from a module\n",
        "\n",
        "# Don't do this, but recognize it when you see it in others' code. It\n",
        "# can result in naming conflicts, which can cause errors.\n",
        "from pizza import *\n",
        "make_pizza('medium', 'pepperoni')\n",
        "make_pizza('small', 'bacon', 'pineapple')\n"
      ],
      "metadata": {
        "colab": {
          "base_uri": "https://localhost:8080/"
        },
        "id": "eaRAjodlNykl",
        "outputId": "99e7c633-6967-42de-bc8d-d2869e6920a9"
      },
      "execution_count": null,
      "outputs": [
        {
          "output_type": "stream",
          "name": "stdout",
          "text": [
            "\n",
            "Making a medium pizza.\n",
            "Toppings:\n",
            "- pepperoni\n",
            "\n",
            "Making a small pizza.\n",
            "Toppings:\n",
            "- bacon\n",
            "- pineapple\n",
            "\n",
            "Making a medium pizza.\n",
            "Toppings:\n",
            "- pepperoni\n",
            "\n",
            "Making a small pizza.\n",
            "Toppings:\n",
            "- bacon\n",
            "- pineapple\n",
            "\n",
            "Making a medium pizza.\n",
            "Toppings:\n",
            "- pepperoni\n",
            "\n",
            "Making a small pizza.\n",
            "Toppings:\n",
            "- bacon\n",
            "- pineapple\n",
            "\n",
            "Making a medium pizza.\n",
            "Toppings:\n",
            "- pepperoni\n",
            "\n",
            "Making a small pizza.\n",
            "Toppings:\n",
            "- bacon\n",
            "- pineapple\n",
            "\n",
            "Making a medium pizza.\n",
            "Toppings:\n",
            "- pepperoni\n",
            "\n",
            "Making a small pizza.\n",
            "Toppings:\n",
            "- bacon\n",
            "- pineapple\n"
          ]
        }
      ]
    },
    {
      "cell_type": "markdown",
      "source": [
        "####Lambda Functions"
      ],
      "metadata": {
        "id": "W2L_21casPJ0"
      }
    },
    {
      "cell_type": "code",
      "source": [
        "add = lambda x, y: x + y\n",
        "add(5, 3)"
      ],
      "metadata": {
        "colab": {
          "base_uri": "https://localhost:8080/"
        },
        "id": "n1pB2ZqRsQkE",
        "outputId": "c40b6329-3a1a-4bb0-b333-828497fc0cbf"
      },
      "execution_count": 15,
      "outputs": [
        {
          "output_type": "execute_result",
          "data": {
            "text/plain": [
              "8"
            ]
          },
          "metadata": {},
          "execution_count": 15
        }
      ]
    },
    {
      "cell_type": "code",
      "source": [
        "(lambda x, y: x + y)(5, 3)"
      ],
      "metadata": {
        "colab": {
          "base_uri": "https://localhost:8080/"
        },
        "id": "XOEdUwSksY4F",
        "outputId": "4c676f26-3a60-4ec0-bd60-1879ae7b2815"
      },
      "execution_count": 16,
      "outputs": [
        {
          "output_type": "execute_result",
          "data": {
            "text/plain": [
              "8"
            ]
          },
          "metadata": {},
          "execution_count": 16
        }
      ]
    },
    {
      "cell_type": "code",
      "source": [
        "def make_adder(n):\n",
        "  return lambda x: x + n"
      ],
      "metadata": {
        "id": "2-aVI_92sdgk"
      },
      "execution_count": 17,
      "outputs": []
    },
    {
      "cell_type": "markdown",
      "source": [
        "Like regular nested functions, lambdas also work as lexical closures:"
      ],
      "metadata": {
        "id": "gJv0XgXfstxz"
      }
    },
    {
      "cell_type": "code",
      "source": [
        "plus_3 = make_adder(3)\n",
        "plus_3"
      ],
      "metadata": {
        "colab": {
          "base_uri": "https://localhost:8080/"
        },
        "id": "sSqSax0ssgX_",
        "outputId": "2855728d-ea4f-40fb-b526-d48791776517"
      },
      "execution_count": 19,
      "outputs": [
        {
          "output_type": "execute_result",
          "data": {
            "text/plain": [
              "<function __main__.make_adder.<locals>.<lambda>>"
            ]
          },
          "metadata": {},
          "execution_count": 19
        }
      ]
    },
    {
      "cell_type": "code",
      "source": [
        "plus_3(4)"
      ],
      "metadata": {
        "colab": {
          "base_uri": "https://localhost:8080/"
        },
        "id": "V81ZFlVdsmAs",
        "outputId": "b9dcc658-282f-44b0-e826-c690da39e3a8"
      },
      "execution_count": 20,
      "outputs": [
        {
          "output_type": "execute_result",
          "data": {
            "text/plain": [
              "7"
            ]
          },
          "metadata": {},
          "execution_count": 20
        }
      ]
    },
    {
      "cell_type": "markdown",
      "source": [
        "Note: lambda can only evaluate an expression, like a single line of code."
      ],
      "metadata": {
        "id": "mQ8nlSdhs1nu"
      }
    },
    {
      "cell_type": "markdown",
      "metadata": {
        "id": "ObA9PRtQL9hT"
      },
      "source": [
        "###Classes"
      ]
    },
    {
      "cell_type": "markdown",
      "metadata": {
        "id": "hAzL_lTkL9hU"
      },
      "source": [
        "The syntax for defining classes in Python is straightforward:"
      ]
    },
    {
      "cell_type": "code",
      "execution_count": null,
      "metadata": {
        "colab": {
          "base_uri": "https://localhost:8080/"
        },
        "id": "RWdbaGigL9hU",
        "outputId": "3930342f-5a48-43c4-d157-0a64b94a6e40"
      },
      "outputs": [
        {
          "output_type": "stream",
          "name": "stdout",
          "text": [
            "Hello, Fred!\n",
            "HELLO, FRED\n"
          ]
        }
      ],
      "source": [
        "class Greeter:\n",
        "\n",
        "    # Constructor\n",
        "    def __init__(self, name):\n",
        "        self.name = name  # Create an instance variable\n",
        "\n",
        "    # Instance method\n",
        "    def greet(self, loud=False):\n",
        "        if loud:\n",
        "          print('HELLO, {}'.format(self.name.upper()))\n",
        "        else:\n",
        "          print('Hello, {}!'.format(self.name))\n",
        "\n",
        "g = Greeter('Fred')  # Construct an instance of the Greeter class\n",
        "g.greet()            # Call an instance method; prints \"Hello, Fred\"\n",
        "g.greet(loud=True)   # Call an instance method; prints \"HELLO, FRED!\""
      ]
    },
    {
      "cell_type": "code",
      "source": [
        "# Creating a dog class\n",
        "class Dog():\n",
        "  \"\"\"Represent a dog\"\"\"\n",
        "  \n",
        "  def __init__(self, name):\n",
        "      \"\"\"Initialize dog object\"\"\"\n",
        "      self.name = name\n",
        "      \n",
        "  def sit(self):\n",
        "      \"\"\"Simulate sitting\"\"\"\n",
        "      print(self.name + \" is sitting.\")\n",
        "      \n",
        "#how to use Dog(name) e.g. Dog('Peso')\n",
        "my_dog = Dog('Peso')    \n",
        "\n",
        "print(my_dog.name + \" is a great dog!\")\n",
        "my_dog.sit()\n",
        "\n",
        "# Inheritance\n",
        "\n",
        "class SARDog(Dog):\n",
        "    \"\"\"represent a search dog.\"\"\"\n",
        "  \n",
        "    def __init__(self, name):\n",
        "        \"\"\"Initialize the sardog\"\"\"\n",
        "        super().__init__(name)\n",
        "        \n",
        "    def search(self):\n",
        "        \"\"\"Simulate searching.\"\"\"\n",
        "        print(self.name + \" is searching\")\n",
        "        \n",
        "my_dog = SARDog('Willie')\n",
        "\n",
        "print(my_dog.name + \"is a search dog.\")\n",
        "my_dog.sit()\n",
        "my_dog.search()"
      ],
      "metadata": {
        "colab": {
          "base_uri": "https://localhost:8080/"
        },
        "id": "c5z37UH0-L5u",
        "outputId": "c40ffb7b-4c29-452a-bba4-934849c4ca51"
      },
      "execution_count": null,
      "outputs": [
        {
          "output_type": "stream",
          "name": "stdout",
          "text": [
            "Peso is a great dog!\n",
            "Peso is sitting.\n",
            "Willieis a search dog.\n",
            "Willie is sitting.\n",
            "Willie is searching\n"
          ]
        }
      ]
    },
    {
      "cell_type": "markdown",
      "source": [
        "###Dataclasses"
      ],
      "metadata": {
        "id": "s_N7HwS0ESXE"
      }
    },
    {
      "cell_type": "markdown",
      "source": [
        "Dataclasses are python classes but are suited for storing data objects. This module provides a decorator and functions for automatically adding generated special methods such as __init__() and __repr__() to user-defined classes.\n",
        "\n",
        "They store data and represent a certain data type.\n",
        "They can be compared to other objects of the same type.\n"
      ],
      "metadata": {
        "id": "v_2-vgoDEZYJ"
      }
    },
    {
      "cell_type": "markdown",
      "source": [
        "Python 3.7 provides a decorator dataclass that is used to convert a class into a dataclass. https://docs.python.org/3/library/dataclasses.html"
      ],
      "metadata": {
        "id": "BwPEKr1xEmCQ"
      }
    },
    {
      "cell_type": "code",
      "source": [
        "from dataclasses import dataclass"
      ],
      "metadata": {
        "id": "-Cm0GTZpEu9l"
      },
      "execution_count": 3,
      "outputs": []
    },
    {
      "cell_type": "code",
      "source": [
        "@dataclass\n",
        "class Number:\n",
        "  val: int"
      ],
      "metadata": {
        "id": "FVkdbWO_EUtL"
      },
      "execution_count": 4,
      "outputs": []
    },
    {
      "cell_type": "code",
      "source": [
        "obj = Number(2)\n",
        "obj.val"
      ],
      "metadata": {
        "colab": {
          "base_uri": "https://localhost:8080/"
        },
        "id": "Z66GvweEFB2g",
        "outputId": "01609d9c-e9e5-4b2a-ac2d-70a6338c323f"
      },
      "execution_count": 5,
      "outputs": [
        {
          "output_type": "execute_result",
          "data": {
            "text/plain": [
              "2"
            ]
          },
          "metadata": {},
          "execution_count": 5
        }
      ]
    },
    {
      "cell_type": "markdown",
      "source": [
        "It is easy to add default values to the fields of your data class."
      ],
      "metadata": {
        "id": "itXYZv-NFIVQ"
      }
    },
    {
      "cell_type": "code",
      "source": [
        "@dataclass\n",
        "class Product:\n",
        "  name: str\n",
        "  count: int = 0\n",
        "  price: float = 0.0"
      ],
      "metadata": {
        "id": "h_QQpp9QFIzd"
      },
      "execution_count": 6,
      "outputs": []
    },
    {
      "cell_type": "code",
      "source": [
        "obj = Product(\"Python\")\n",
        "obj.name"
      ],
      "metadata": {
        "colab": {
          "base_uri": "https://localhost:8080/",
          "height": 35
        },
        "id": "_eo5y7V5FPnT",
        "outputId": "a6385441-1071-494c-b791-5f70eb69c7f9"
      },
      "execution_count": 8,
      "outputs": [
        {
          "output_type": "execute_result",
          "data": {
            "application/vnd.google.colaboratory.intrinsic+json": {
              "type": "string"
            },
            "text/plain": [
              "'Python'"
            ]
          },
          "metadata": {},
          "execution_count": 8
        }
      ]
    },
    {
      "cell_type": "code",
      "source": [
        "obj.count"
      ],
      "metadata": {
        "colab": {
          "base_uri": "https://localhost:8080/"
        },
        "id": "_r8X7fKwFWVn",
        "outputId": "f50dfa6d-f916-41e7-df1a-45443900ec70"
      },
      "execution_count": 9,
      "outputs": [
        {
          "output_type": "execute_result",
          "data": {
            "text/plain": [
              "0"
            ]
          },
          "metadata": {},
          "execution_count": 9
        }
      ]
    },
    {
      "cell_type": "code",
      "source": [
        "obj.price"
      ],
      "metadata": {
        "colab": {
          "base_uri": "https://localhost:8080/"
        },
        "id": "KhDfBHIdFXsj",
        "outputId": "fe8ec8a1-47e5-40d2-d50b-ace76f812ef6"
      },
      "execution_count": 10,
      "outputs": [
        {
          "output_type": "execute_result",
          "data": {
            "text/plain": [
              "0.0"
            ]
          },
          "metadata": {},
          "execution_count": 10
        }
      ]
    },
    {
      "cell_type": "markdown",
      "source": [
        "It is mandatory to define the data type in dataclass. However, If you don't want specify the datatype then, use typing.Any."
      ],
      "metadata": {
        "id": "IshyqBvTFctj"
      }
    },
    {
      "cell_type": "code",
      "source": [
        "from dataclasses import dataclass\n",
        "from typing import Any\n",
        "\n",
        "@dataclass\n",
        "class WithoutExplicitTypes:\n",
        "  name: Any\n",
        "  value: Any = 42"
      ],
      "metadata": {
        "id": "nkD10jCIFdQY"
      },
      "execution_count": 11,
      "outputs": []
    },
    {
      "cell_type": "markdown",
      "source": [
        "### User Input"
      ],
      "metadata": {
        "id": "UGnFz3u7905m"
      }
    },
    {
      "cell_type": "markdown",
      "source": [
        "Your programs can prompt the user for input. All input is stored as a string"
      ],
      "metadata": {
        "id": "xTlel4Xh95mq"
      }
    },
    {
      "cell_type": "code",
      "source": [
        "# Prompting for value\n",
        "name = input('what is your name?')\n",
        "print('Hello, ' + name + '!')\n",
        "\n",
        "# Prompting for for numerical input\n",
        "age = input('How old are you?')\n",
        "age = int(age)\n",
        "\n",
        "pi = input('what is  the value of pi?')\n",
        "pi = float(pi)\n",
        "print(pi)"
      ],
      "metadata": {
        "colab": {
          "base_uri": "https://localhost:8080/"
        },
        "id": "TzIcakYl9rpj",
        "outputId": "70abee3c-6f17-4dca-9e88-a0297c335d4c"
      },
      "execution_count": null,
      "outputs": [
        {
          "output_type": "stream",
          "name": "stdout",
          "text": [
            "what is your name?LKK\n",
            "Hello, LKK!\n",
            "How old are you?1\n",
            "what is  the value of pi?3.14\n",
            "3.14\n"
          ]
        }
      ]
    },
    {
      "cell_type": "markdown",
      "source": [
        "### Files"
      ],
      "metadata": {
        "id": "OpqwkP9PROPp"
      }
    },
    {
      "cell_type": "markdown",
      "source": [
        "Your programs can read from files and write to files. Files are opened in read mode ('r') by default, but can also be opened in write mode ('w') and append mode ('a')."
      ],
      "metadata": {
        "id": "eFZF5IWh-Rul"
      }
    },
    {
      "cell_type": "code",
      "source": [
        "# Create a file txt file\n",
        "fh = open('demo.txt','w')\n",
        "for i in range(10):\n",
        "    fh.write(\"this is the line no %d\\n\" % i)\n",
        "\n",
        "fh.close()\n",
        "\n",
        "# Reading a file and storing its lines\n",
        "\n",
        "filename = 'demo.txt' #'sidedhartha.txt'\n",
        "\n",
        "with open(filename) as file_object:\n",
        "    lines = file_object.readlines()\n",
        "    \n",
        "for line in lines:\n",
        "   print(line)\n",
        "    \n",
        "    \n",
        "# Writing to a file\n",
        "filename = 'journal.txt'\n",
        "with open(filename, 'w') as file_object:\n",
        "    file_object.write(\"I love programing.\")\n",
        "    \n",
        "#Appending to a file\n",
        "filename = 'journal.txt'\n",
        "with open(filename, 'a') as file_object:\n",
        "    file_object.write(\"\\nI love making games\")\n",
        "      "
      ],
      "metadata": {
        "colab": {
          "base_uri": "https://localhost:8080/"
        },
        "id": "FZaWCyWb-SPp",
        "outputId": "8ab3d725-34fa-471f-c56c-0c8061c51fc5"
      },
      "execution_count": 1,
      "outputs": [
        {
          "output_type": "stream",
          "name": "stdout",
          "text": [
            "this is the line no 0\n",
            "\n",
            "this is the line no 1\n",
            "\n",
            "this is the line no 2\n",
            "\n",
            "this is the line no 3\n",
            "\n",
            "this is the line no 4\n",
            "\n",
            "this is the line no 5\n",
            "\n",
            "this is the line no 6\n",
            "\n",
            "this is the line no 7\n",
            "\n",
            "this is the line no 8\n",
            "\n",
            "this is the line no 9\n",
            "\n"
          ]
        }
      ]
    },
    {
      "cell_type": "code",
      "source": [
        "# e.g. get this file form github or anywhere from internet using !wget\n",
        "# standarded format of files in github\n",
        "!wget https://raw.githubusercontent.com/lkk688/DeepDataMiningLearning/main/sampledata/sample.txt\n",
        "  \n",
        "# or \n",
        "\n",
        "import urllib.request\n",
        "print('Beginning file download with urllib2...')\n",
        "url = 'https://raw.githubusercontent.com/lkk688/DeepDataMiningLearning/main/sampledata/sample.txt'  \n",
        "urllib.request.urlretrieve(url, './sample2.txt') \n",
        "\n",
        "filename = 'sample2.txt'\n",
        "\n",
        "with open(filename) as f_obj:\n",
        "    contents = f_obj.read()\n",
        "    \n",
        "print(contents)"
      ],
      "metadata": {
        "colab": {
          "base_uri": "https://localhost:8080/"
        },
        "id": "6j1ETfKkPGZn",
        "outputId": "043a977e-8b37-47cb-8d04-b19299f44605"
      },
      "execution_count": null,
      "outputs": [
        {
          "output_type": "stream",
          "name": "stdout",
          "text": [
            "--2022-01-29 00:36:11--  https://raw.githubusercontent.com/lkk688/DeepDataMiningLearning/main/sampledata/sample.txt\n",
            "Resolving raw.githubusercontent.com (raw.githubusercontent.com)... 185.199.108.133, 185.199.111.133, 185.199.110.133, ...\n",
            "Connecting to raw.githubusercontent.com (raw.githubusercontent.com)|185.199.108.133|:443... connected.\n",
            "HTTP request sent, awaiting response... 200 OK\n",
            "Length: 288 [text/plain]\n",
            "Saving to: ‘sample.txt’\n",
            "\n",
            "sample.txt          100%[===================>]     288  --.-KB/s    in 0s      \n",
            "\n",
            "2022-01-29 00:36:12 (14.4 MB/s) - ‘sample.txt’ saved [288/288]\n",
            "\n",
            "Beginning file download with urllib2...\n",
            "To read from a file your program needs to open the file and then read the contents of the file. You can read the entire contents of the file at once, or read the file line by line. The with statement makes sure the file is closed properly when the program has finished accessing the file.\n"
          ]
        }
      ]
    },
    {
      "cell_type": "markdown",
      "source": [
        "Each line that's read from the file has a newline character at the end of the line, and the print function adds its own newline character. The rstrip() method gets rid of the the extra blank lines this would result in when printing to the terminal."
      ],
      "metadata": {
        "id": "nx7PLj3ZQ8QW"
      }
    },
    {
      "cell_type": "code",
      "source": [
        "filename = 'sample2.txt'\n",
        "\n",
        "with open(filename) as f_obj:\n",
        "  for line in f_obj:\n",
        "    print(line.rstrip())\n",
        "    \n",
        "    \n",
        "# Storing the lines in a list \n",
        "filename = 'sample2.txt' \n",
        " \n",
        "with open(filename) as f_obj:\n",
        "  lines = f_obj.readlines() \n",
        "  for line in lines:    \n",
        "    print(line.rstrip()) "
      ],
      "metadata": {
        "colab": {
          "base_uri": "https://localhost:8080/"
        },
        "id": "9HxWzwU_Q8ql",
        "outputId": "c0baa8b2-052b-4ffb-b544-ae91f97ea6bf"
      },
      "execution_count": null,
      "outputs": [
        {
          "output_type": "stream",
          "name": "stdout",
          "text": [
            "To read from a file your program needs to open the file and then read the contents of the file. You can read the entire contents of the file at once, or read the file line by line. The with statement makes sure the file is closed properly when the program has finished accessing the file.\n",
            "To read from a file your program needs to open the file and then read the contents of the file. You can read the entire contents of the file at once, or read the file line by line. The with statement makes sure the file is closed properly when the program has finished accessing the file.\n"
          ]
        }
      ]
    },
    {
      "cell_type": "markdown",
      "source": [
        "Passing the 'w' argument to open() tells Python you want to write to the file. Be careful; this will erase the contents of the file if it already exists. Passing the 'a' argument tells Python you want to append to the end of an existing file."
      ],
      "metadata": {
        "id": "6ZuWDWsSRZQo"
      }
    },
    {
      "cell_type": "code",
      "source": [
        "# Writing to an empty file \n",
        "filename = 'programming.txt' \n",
        " \n",
        "with open(filename, 'w') as f: \n",
        "  f.write(\"I love programming!\") \n",
        "  \n",
        "#   Writing multiple lines to an empty file \n",
        "filename = 'programming.txt' \n",
        " \n",
        "with open(filename, 'w') as f:   \n",
        "  f.write(\"I love programming!\\n\")\n",
        "  f.write(\"I love data mining.\\n\")\n",
        "  \n",
        "#   Appending to a file \n",
        "filename = 'programming.txt' \n",
        " \n",
        "with open(filename, 'a') as f: \n",
        "  f.write(\"I also love working with data.\\n\")   \n",
        "  f.write(\"I love making apps as well.\\n\")"
      ],
      "metadata": {
        "id": "TCGE7QwhRZr2"
      },
      "execution_count": null,
      "outputs": []
    },
    {
      "cell_type": "markdown",
      "source": [
        "####Handling File and Directory Paths"
      ],
      "metadata": {
        "id": "WwEJJZvanY8Y"
      }
    },
    {
      "cell_type": "markdown",
      "source": [
        "There are two main modules in Python that deals with path manipulation. One is the os.path module and the other is the pathlib module. The pathlib module was added in Python 3.4, offering an object-oriented way to handle file system paths."
      ],
      "metadata": {
        "id": "22OZ7b_WnhiB"
      }
    },
    {
      "cell_type": "markdown",
      "source": [
        "On Windows, paths are written using backslashes (\\) as the separator between folder names. On Unix based operating system such as macOS, Linux, and BSDs, the forward slash (/) is used as the path separator. Joining paths can be a headache if your code needs to work on different platforms.\n",
        "\n",
        "Fortunately, Python provides easy ways to handle this. We will showcase how to deal with this with both os.path.join and pathlib.Path.joinpath"
      ],
      "metadata": {
        "id": "ITgAciu1noXX"
      }
    },
    {
      "cell_type": "code",
      "source": [
        "import os\n",
        "os.path.join('usr', 'bin', 'spam')"
      ],
      "metadata": {
        "colab": {
          "base_uri": "https://localhost:8080/",
          "height": 35
        },
        "id": "q2QWmrugnqCd",
        "outputId": "27b1ca30-b62f-40ed-8adf-06640dcd4dc7"
      },
      "execution_count": 52,
      "outputs": [
        {
          "output_type": "execute_result",
          "data": {
            "application/vnd.google.colaboratory.intrinsic+json": {
              "type": "string"
            },
            "text/plain": [
              "'usr/bin/spam'"
            ]
          },
          "metadata": {},
          "execution_count": 52
        }
      ]
    },
    {
      "cell_type": "code",
      "source": [
        "from pathlib import Path\n",
        "print(Path('usr').joinpath('bin').joinpath('spam'))"
      ],
      "metadata": {
        "colab": {
          "base_uri": "https://localhost:8080/"
        },
        "id": "eZFlH0zunc1p",
        "outputId": "81d02919-a82b-4834-c226-65d16a0c8901"
      },
      "execution_count": 53,
      "outputs": [
        {
          "output_type": "stream",
          "name": "stdout",
          "text": [
            "usr/bin/spam\n"
          ]
        }
      ]
    },
    {
      "cell_type": "code",
      "source": [
        "print(Path('usr') / 'bin' / 'spam')"
      ],
      "metadata": {
        "colab": {
          "base_uri": "https://localhost:8080/"
        },
        "id": "mjUO5TdjqPel",
        "outputId": "6d4f99c5-2e80-414a-ca00-e2ee27fc2c24"
      },
      "execution_count": 54,
      "outputs": [
        {
          "output_type": "stream",
          "name": "stdout",
          "text": [
            "usr/bin/spam\n"
          ]
        }
      ]
    },
    {
      "cell_type": "markdown",
      "source": [
        "The Current Working Directory"
      ],
      "metadata": {
        "id": "YYqoADWJqXHI"
      }
    },
    {
      "cell_type": "code",
      "source": [
        "os.getcwd()"
      ],
      "metadata": {
        "colab": {
          "base_uri": "https://localhost:8080/",
          "height": 35
        },
        "id": "LC_aKKwsqYYV",
        "outputId": "5966300b-d1d7-47fc-e581-f92939bd2401"
      },
      "execution_count": 55,
      "outputs": [
        {
          "output_type": "execute_result",
          "data": {
            "application/vnd.google.colaboratory.intrinsic+json": {
              "type": "string"
            },
            "text/plain": [
              "'/content'"
            ]
          },
          "metadata": {},
          "execution_count": 55
        }
      ]
    },
    {
      "cell_type": "markdown",
      "source": [
        "Change current working directory: os.chdir('')"
      ],
      "metadata": {
        "id": "v4DaVGzxqibX"
      }
    },
    {
      "cell_type": "code",
      "source": [
        "from pathlib import Path\n",
        "print(Path.cwd())"
      ],
      "metadata": {
        "colab": {
          "base_uri": "https://localhost:8080/"
        },
        "id": "-lw6fAmAq7wU",
        "outputId": "909d59fb-31c4-4141-d493-14044948a13f"
      },
      "execution_count": 56,
      "outputs": [
        {
          "output_type": "stream",
          "name": "stdout",
          "text": [
            "/content\n"
          ]
        }
      ]
    },
    {
      "cell_type": "markdown",
      "source": [
        "Creating New Folders"
      ],
      "metadata": {
        "id": "rQrEayuDrGyu"
      }
    },
    {
      "cell_type": "code",
      "source": [
        "os.makedirs('NewFolder')"
      ],
      "metadata": {
        "id": "AjZckKiUrHPi"
      },
      "execution_count": 57,
      "outputs": []
    },
    {
      "cell_type": "markdown",
      "source": [
        "Handling Absolute and Relative Paths"
      ],
      "metadata": {
        "id": "8u7MGTVlr_3y"
      }
    },
    {
      "cell_type": "code",
      "source": [
        "os.path.isabs('/')"
      ],
      "metadata": {
        "colab": {
          "base_uri": "https://localhost:8080/"
        },
        "id": "5zj8Zmr9sAZB",
        "outputId": "9ab4d7d6-6a24-4b7d-e0cb-aab46eba3a02"
      },
      "execution_count": 58,
      "outputs": [
        {
          "output_type": "execute_result",
          "data": {
            "text/plain": [
              "True"
            ]
          },
          "metadata": {},
          "execution_count": 58
        }
      ]
    },
    {
      "cell_type": "code",
      "source": [
        "os.path.isabs('..')"
      ],
      "metadata": {
        "colab": {
          "base_uri": "https://localhost:8080/"
        },
        "id": "GNyz1qUWsEB-",
        "outputId": "e9610843-81cf-47e4-cf4e-2c221846c9ca"
      },
      "execution_count": 59,
      "outputs": [
        {
          "output_type": "execute_result",
          "data": {
            "text/plain": [
              "False"
            ]
          },
          "metadata": {},
          "execution_count": 59
        }
      ]
    },
    {
      "cell_type": "code",
      "source": [
        "Path('/').is_absolute()"
      ],
      "metadata": {
        "colab": {
          "base_uri": "https://localhost:8080/"
        },
        "id": "H2JO_UxpsFUu",
        "outputId": "24cfc476-908f-458a-cc46-49d80b07c10f"
      },
      "execution_count": 60,
      "outputs": [
        {
          "output_type": "execute_result",
          "data": {
            "text/plain": [
              "True"
            ]
          },
          "metadata": {},
          "execution_count": 60
        }
      ]
    },
    {
      "cell_type": "code",
      "source": [
        "Path('..').is_absolute()"
      ],
      "metadata": {
        "colab": {
          "base_uri": "https://localhost:8080/"
        },
        "id": "A4SDcbUksGt5",
        "outputId": "fd15f036-59cc-48df-dcc5-ffe6c2b4e8b0"
      },
      "execution_count": 61,
      "outputs": [
        {
          "output_type": "execute_result",
          "data": {
            "text/plain": [
              "False"
            ]
          },
          "metadata": {},
          "execution_count": 61
        }
      ]
    },
    {
      "cell_type": "code",
      "source": [
        "print(Path('/content/NewFolder').relative_to('/'))"
      ],
      "metadata": {
        "colab": {
          "base_uri": "https://localhost:8080/"
        },
        "id": "cJSo8FTAsMuC",
        "outputId": "845b4fb7-8521-454b-96ed-648e1a634222"
      },
      "execution_count": 62,
      "outputs": [
        {
          "output_type": "stream",
          "name": "stdout",
          "text": [
            "content/NewFolder\n"
          ]
        }
      ]
    },
    {
      "cell_type": "markdown",
      "source": [
        "Checking Path Validity"
      ],
      "metadata": {
        "id": "u00xa4qnsSGO"
      }
    },
    {
      "cell_type": "code",
      "source": [
        "os.path.exists('/content/NewFolder')"
      ],
      "metadata": {
        "colab": {
          "base_uri": "https://localhost:8080/"
        },
        "id": "B_QyvePisUuZ",
        "outputId": "aa73704a-b7be-447c-b086-dcb72ccee281"
      },
      "execution_count": 63,
      "outputs": [
        {
          "output_type": "execute_result",
          "data": {
            "text/plain": [
              "True"
            ]
          },
          "metadata": {},
          "execution_count": 63
        }
      ]
    },
    {
      "cell_type": "code",
      "source": [
        "Path('/content/NewFolder').exists()"
      ],
      "metadata": {
        "colab": {
          "base_uri": "https://localhost:8080/"
        },
        "id": "_BYAw336sZCY",
        "outputId": "51f445b8-4591-47cf-9e87-202a4aa43dd6"
      },
      "execution_count": 64,
      "outputs": [
        {
          "output_type": "execute_result",
          "data": {
            "text/plain": [
              "True"
            ]
          },
          "metadata": {},
          "execution_count": 64
        }
      ]
    },
    {
      "cell_type": "markdown",
      "source": [
        "Checking if a path is a file:"
      ],
      "metadata": {
        "id": "H9IS2sQ3seVw"
      }
    },
    {
      "cell_type": "code",
      "source": [
        "os.path.isfile('/content/NewFolder')"
      ],
      "metadata": {
        "colab": {
          "base_uri": "https://localhost:8080/"
        },
        "id": "Ax0Yn7qosc_u",
        "outputId": "53d72700-908e-4007-d786-85d524556704"
      },
      "execution_count": 65,
      "outputs": [
        {
          "output_type": "execute_result",
          "data": {
            "text/plain": [
              "False"
            ]
          },
          "metadata": {},
          "execution_count": 65
        }
      ]
    },
    {
      "cell_type": "code",
      "source": [
        "Path('/content/NewFolder').is_file()"
      ],
      "metadata": {
        "colab": {
          "base_uri": "https://localhost:8080/"
        },
        "id": "etiSP84nsjQw",
        "outputId": "5f84eadd-d515-44e4-a834-f88ef76c3fbf"
      },
      "execution_count": 66,
      "outputs": [
        {
          "output_type": "execute_result",
          "data": {
            "text/plain": [
              "False"
            ]
          },
          "metadata": {},
          "execution_count": 66
        }
      ]
    },
    {
      "cell_type": "code",
      "source": [
        "os.path.isdir('/')"
      ],
      "metadata": {
        "colab": {
          "base_uri": "https://localhost:8080/"
        },
        "id": "bLGCdMl7sndW",
        "outputId": "c330c344-f0be-4f39-81d2-624968b603c6"
      },
      "execution_count": 67,
      "outputs": [
        {
          "output_type": "execute_result",
          "data": {
            "text/plain": [
              "True"
            ]
          },
          "metadata": {},
          "execution_count": 67
        }
      ]
    },
    {
      "cell_type": "code",
      "source": [
        "Path('/').is_dir()"
      ],
      "metadata": {
        "colab": {
          "base_uri": "https://localhost:8080/"
        },
        "id": "FrQUMklmspQi",
        "outputId": "8b7bcb74-f831-4636-de4d-8b05b076957d"
      },
      "execution_count": 68,
      "outputs": [
        {
          "output_type": "execute_result",
          "data": {
            "text/plain": [
              "True"
            ]
          },
          "metadata": {},
          "execution_count": 68
        }
      ]
    },
    {
      "cell_type": "markdown",
      "source": [
        "Listing directory contents using os.listdir"
      ],
      "metadata": {
        "id": "Oj2eK73Dsxxu"
      }
    },
    {
      "cell_type": "code",
      "source": [
        "os.listdir('/')"
      ],
      "metadata": {
        "colab": {
          "base_uri": "https://localhost:8080/"
        },
        "id": "7Q6p_Sw9szmj",
        "outputId": "61ae1aad-0678-412f-f79a-7174da720b64"
      },
      "execution_count": 69,
      "outputs": [
        {
          "output_type": "execute_result",
          "data": {
            "text/plain": [
              "['usr',\n",
              " 'media',\n",
              " 'bin',\n",
              " 'mnt',\n",
              " 'sbin',\n",
              " 'lib',\n",
              " 'lib64',\n",
              " 'root',\n",
              " 'srv',\n",
              " 'tmp',\n",
              " 'etc',\n",
              " 'dev',\n",
              " 'boot',\n",
              " 'sys',\n",
              " 'home',\n",
              " 'proc',\n",
              " 'var',\n",
              " 'opt',\n",
              " 'run',\n",
              " 'content',\n",
              " '.dockerenv',\n",
              " 'datalab',\n",
              " 'tools',\n",
              " 'tensorflow-1.15.2',\n",
              " 'lib32',\n",
              " 'python-apt']"
            ]
          },
          "metadata": {},
          "execution_count": 69
        }
      ]
    },
    {
      "cell_type": "code",
      "source": [
        "for f in Path('/').iterdir():\n",
        "  print(f)"
      ],
      "metadata": {
        "colab": {
          "base_uri": "https://localhost:8080/"
        },
        "id": "3J1AtLD6s4h5",
        "outputId": "3a235383-b15a-4989-a67b-2c216d630641"
      },
      "execution_count": 70,
      "outputs": [
        {
          "output_type": "stream",
          "name": "stdout",
          "text": [
            "/usr\n",
            "/media\n",
            "/bin\n",
            "/mnt\n",
            "/sbin\n",
            "/lib\n",
            "/lib64\n",
            "/root\n",
            "/srv\n",
            "/tmp\n",
            "/etc\n",
            "/dev\n",
            "/boot\n",
            "/sys\n",
            "/home\n",
            "/proc\n",
            "/var\n",
            "/opt\n",
            "/run\n",
            "/content\n",
            "/.dockerenv\n",
            "/datalab\n",
            "/tools\n",
            "/tensorflow-1.15.2\n",
            "/lib32\n",
            "/python-apt\n"
          ]
        }
      ]
    },
    {
      "cell_type": "markdown",
      "source": [
        "####Copying Files and Folders"
      ],
      "metadata": {
        "id": "ZBXAKSMIZma5"
      }
    },
    {
      "cell_type": "markdown",
      "source": [
        "The shutil module provides functions for copying files, as well as entire folders."
      ],
      "metadata": {
        "id": "OOx7Xf_ZZrZb"
      }
    },
    {
      "cell_type": "code",
      "source": [
        "import os\n",
        "os.listdir('.')"
      ],
      "metadata": {
        "colab": {
          "base_uri": "https://localhost:8080/"
        },
        "id": "Gll9vDLzZ3dG",
        "outputId": "c5ea3b91-4b3e-441b-8e20-99d0eb497b7f"
      },
      "execution_count": 2,
      "outputs": [
        {
          "output_type": "execute_result",
          "data": {
            "text/plain": [
              "['.config', 'demo.txt', 'journal.txt', 'sample_data']"
            ]
          },
          "metadata": {},
          "execution_count": 2
        }
      ]
    },
    {
      "cell_type": "code",
      "source": [
        "import shutil\n",
        "shutil.copy('./demo.txt', './sample_data/')\n",
        "#shutil.move('./demo.txt', './sample_data/')"
      ],
      "metadata": {
        "colab": {
          "base_uri": "https://localhost:8080/",
          "height": 35
        },
        "id": "j3EiU-keZo1W",
        "outputId": "372c2b8d-2faf-4fbc-cb08-7f2d6ae3f3fe"
      },
      "execution_count": 3,
      "outputs": [
        {
          "output_type": "execute_result",
          "data": {
            "application/vnd.google.colaboratory.intrinsic+json": {
              "type": "string"
            },
            "text/plain": [
              "'./sample_data/demo.txt'"
            ]
          },
          "metadata": {},
          "execution_count": 3
        }
      ]
    },
    {
      "cell_type": "code",
      "source": [
        "#The destination path can also specify a filename. In the following example, the source file is moved and renamed:\n",
        "shutil.move('./demo.txt', './sample_data/demo2.txt')"
      ],
      "metadata": {
        "colab": {
          "base_uri": "https://localhost:8080/",
          "height": 35
        },
        "id": "k8sxrGLqaYkj",
        "outputId": "c5531e48-e66c-499a-c3aa-41c48ad87360"
      },
      "execution_count": 5,
      "outputs": [
        {
          "output_type": "execute_result",
          "data": {
            "application/vnd.google.colaboratory.intrinsic+json": {
              "type": "string"
            },
            "text/plain": [
              "'./sample_data/demo2.txt'"
            ]
          },
          "metadata": {},
          "execution_count": 5
        }
      ]
    },
    {
      "cell_type": "code",
      "source": [
        "os.listdir('./sample_data')"
      ],
      "metadata": {
        "colab": {
          "base_uri": "https://localhost:8080/"
        },
        "id": "v-dTM4MJaM8M",
        "outputId": "8c6f9570-6687-4972-a823-395f21854918"
      },
      "execution_count": 6,
      "outputs": [
        {
          "output_type": "execute_result",
          "data": {
            "text/plain": [
              "['README.md',\n",
              " 'anscombe.json',\n",
              " 'demo.txt',\n",
              " 'demo2.txt',\n",
              " 'california_housing_train.csv',\n",
              " 'mnist_test.csv',\n",
              " 'mnist_train_small.csv',\n",
              " 'california_housing_test.csv']"
            ]
          },
          "metadata": {},
          "execution_count": 6
        }
      ]
    },
    {
      "cell_type": "markdown",
      "source": [
        "Permanently Deleting Files and Folders\n",
        "Calling os.unlink(path) or Path.unlink() will delete the file at path.\n",
        "\n",
        "Calling os.rmdir(path) or Path.rmdir() will delete the folder at path. This folder must be empty of any files or folders.\n",
        "\n",
        "Calling shutil.rmtree(path) will remove the folder at path, and all files and folders it contains will also be deleted."
      ],
      "metadata": {
        "id": "qLFKDo_JanZV"
      }
    },
    {
      "cell_type": "markdown",
      "source": [
        "zip entire directory"
      ],
      "metadata": {
        "id": "_ceaszptb7-7"
      }
    },
    {
      "cell_type": "code",
      "source": [
        "output_filename='sampledata'#no need to add .zip\n",
        "dir_name='./sample_data'\n",
        "shutil.make_archive(output_filename, 'zip', dir_name)"
      ],
      "metadata": {
        "colab": {
          "base_uri": "https://localhost:8080/",
          "height": 35
        },
        "id": "QPNmg-cEbptD",
        "outputId": "ef52a34d-a7ca-4c15-976e-9dc6edbb0944"
      },
      "execution_count": 10,
      "outputs": [
        {
          "output_type": "execute_result",
          "data": {
            "application/vnd.google.colaboratory.intrinsic+json": {
              "type": "string"
            },
            "text/plain": [
              "'/content/sampledata.zip'"
            ]
          },
          "metadata": {},
          "execution_count": 10
        }
      ]
    },
    {
      "cell_type": "markdown",
      "source": [
        "Extracting from ZIP Files"
      ],
      "metadata": {
        "id": "X0YYT0W6cNxy"
      }
    },
    {
      "cell_type": "code",
      "source": [
        "import zipfile\n",
        "with zipfile.ZipFile('sampledata.zip') as new_zip:\n",
        "  new_zip.extractall()"
      ],
      "metadata": {
        "id": "iyB9ANTUa-P8"
      },
      "execution_count": 11,
      "outputs": []
    },
    {
      "cell_type": "code",
      "source": [
        "os.listdir('.')"
      ],
      "metadata": {
        "colab": {
          "base_uri": "https://localhost:8080/"
        },
        "id": "mCdAxxE0cRu_",
        "outputId": "6db2f0f2-f6a0-4dce-9f09-d886711253df"
      },
      "execution_count": 12,
      "outputs": [
        {
          "output_type": "execute_result",
          "data": {
            "text/plain": [
              "['.config',\n",
              " 'california_housing_train.csv',\n",
              " '.ipynb_checkpoints',\n",
              " 'README.md',\n",
              " 'sampledata.zip',\n",
              " 'mnist_test.csv',\n",
              " 'demo.txt',\n",
              " 'demo2.txt',\n",
              " 'sample_data',\n",
              " 'journal.txt',\n",
              " 'anscombe.json',\n",
              " 'mnist_train_small.csv',\n",
              " 'california_housing_test.csv']"
            ]
          },
          "metadata": {},
          "execution_count": 12
        }
      ]
    },
    {
      "cell_type": "markdown",
      "source": [
        "####JSON files"
      ],
      "metadata": {
        "id": "q5F4XZLXcY6-"
      }
    },
    {
      "cell_type": "markdown",
      "source": [
        "Write a JSON file with:"
      ],
      "metadata": {
        "id": "Lk8PSIedccEO"
      }
    },
    {
      "cell_type": "code",
      "source": [
        "import json\n",
        "\n",
        "content = {\"name\": \"Joe\", \"age\": 20}\n",
        "with open(\"filename.json\", \"w\") as f:\n",
        "    f.write(json.dumps(content, indent=2))"
      ],
      "metadata": {
        "id": "jhbGeSxlca61"
      },
      "execution_count": 13,
      "outputs": []
    },
    {
      "cell_type": "markdown",
      "source": [
        "Open a JSON file with:"
      ],
      "metadata": {
        "id": "Xd4pTi-ycfwk"
      }
    },
    {
      "cell_type": "code",
      "source": [
        "with open(\"filename.json\", \"r\") as f:\n",
        "    content = json.loads(f.read())\n",
        "\n",
        "print(content)"
      ],
      "metadata": {
        "colab": {
          "base_uri": "https://localhost:8080/"
        },
        "id": "2RUDfDwVcgIb",
        "outputId": "14dadb3e-7903-45e5-b066-c48a4d10ec2a"
      },
      "execution_count": 14,
      "outputs": [
        {
          "output_type": "stream",
          "name": "stdout",
          "text": [
            "{'name': 'Joe', 'age': 20}\n"
          ]
        }
      ]
    },
    {
      "cell_type": "markdown",
      "source": [
        "### Exceptions"
      ],
      "metadata": {
        "id": "NRLAdfBBRVvD"
      }
    },
    {
      "cell_type": "markdown",
      "source": [
        "Exceptions help you respond appropriately to errors that are likely to occur. You place code that might cause an error in the try block. Code that should run in response to an error goes in the except block. Code that should run only if the try block was successful goes in the else block."
      ],
      "metadata": {
        "id": "FjI-hIF1-XXL"
      }
    },
    {
      "cell_type": "code",
      "source": [
        "#Catching an exception\n",
        "prompt = \"How many tickets do you need? \"\n",
        "num_tickets = input(prompt)\n",
        "\n",
        "try:\n",
        "    num_tickets = int(num_tickets)\n",
        "except ValueError:\n",
        "    print(\"Please try again.\")\n",
        "else: \n",
        "    print(\"Your tickers are printing.\")"
      ],
      "metadata": {
        "colab": {
          "base_uri": "https://localhost:8080/"
        },
        "id": "W2nfBxJc-Wh2",
        "outputId": "efd5c454-1335-4f01-cf98-8088bae2a265"
      },
      "execution_count": null,
      "outputs": [
        {
          "output_type": "stream",
          "name": "stdout",
          "text": [
            "How many tickets do you need? 8\n",
            "Your tickers are printing.\n"
          ]
        }
      ]
    },
    {
      "cell_type": "markdown",
      "source": [
        "When you think an error may occur, you can write a tryexcept block to handle the exception that might be raised. The try block tells Python to try running some code, and the except block tells Python what to do if the code results in a particular kind of error."
      ],
      "metadata": {
        "id": "QTHxvwI9Rtlf"
      }
    },
    {
      "cell_type": "code",
      "source": [
        "# Handling the ZeroDivisionError exception \n",
        "try:     \n",
        "  print(5/0)\n",
        "except ZeroDivisionError:\n",
        "    print(\"You can't divide by zero!\") \n",
        "    \n",
        "# Handling the FileNotFoundError exception \n",
        "f_name = 'filenotfound.txt' \n",
        " \n",
        "try:    \n",
        "  with open(f_name) as f_obj:  \n",
        "    lines = f_obj.readlines() \n",
        "except FileNotFoundError:   \n",
        "  msg = \"Can't find file {0}.\".format(f_name)\n",
        "  print(msg) "
      ],
      "metadata": {
        "colab": {
          "base_uri": "https://localhost:8080/"
        },
        "id": "KTKUBx4PRwAc",
        "outputId": "c93f7dc5-569f-4d09-f941-4ee8439ca8ac"
      },
      "execution_count": null,
      "outputs": [
        {
          "output_type": "stream",
          "name": "stdout",
          "text": [
            "You can't divide by zero!\n"
          ]
        }
      ]
    },
    {
      "cell_type": "markdown",
      "source": [
        "###Setup.py"
      ],
      "metadata": {
        "id": "JwEapR1ksIWP"
      }
    },
    {
      "cell_type": "markdown",
      "source": [
        "The setup script is the centre of all activity in building, distributing, and installing modules using the Distutils. The main purpose of the setup script is to describe your module distribution to the Distutils, so that the various commands that operate on your modules do the right thing."
      ],
      "metadata": {
        "id": "K1dLi-jIIUvc"
      }
    },
    {
      "cell_type": "markdown",
      "source": [
        "The setup.py file is at the heart of a Python project. It describes all of the metadata about your project. There a quite a few fields you can add to a project to give it a rich set of metadata describing the project. However, there are only three required fields: name, version, and packages. The name field must be unique if you wish to publish your package on the Python Package Index (PyPI). The version field keeps track of different releases of the project. The packages field describes where you’ve put the Python source code within your project."
      ],
      "metadata": {
        "id": "5vkCOsX0IW5Q"
      }
    },
    {
      "cell_type": "code",
      "source": [
        "#python setup.py install"
      ],
      "metadata": {
        "id": "sbHtNM2PIRxs"
      },
      "execution_count": null,
      "outputs": []
    },
    {
      "cell_type": "code",
      "source": [
        "#example setup.py\n",
        "\n",
        "# from distutils.core import setup\n",
        "# setup(\n",
        "#     name='pythontutorial',\n",
        "#     version='0.1',\n",
        "#     packages=['pipenv',],\n",
        "#     license='MIT',\n",
        "#     long_description=open('README.txt').read(),\n",
        "#     )"
      ],
      "metadata": {
        "id": "9dqvefQQIdfe"
      },
      "execution_count": null,
      "outputs": []
    },
    {
      "cell_type": "markdown",
      "metadata": {
        "id": "3cfrOV4dL9hW"
      },
      "source": [
        "##Numpy"
      ]
    },
    {
      "cell_type": "markdown",
      "metadata": {
        "id": "fY12nHhyL9hX"
      },
      "source": [
        "Numpy is the core library for scientific computing in Python. It provides a high-performance multidimensional array object, and tools for working with these arrays. If you are already familiar with MATLAB, you might find this [tutorial](http://wiki.scipy.org/NumPy_for_Matlab_Users) useful to get started with Numpy."
      ]
    },
    {
      "cell_type": "markdown",
      "metadata": {
        "id": "lZMyAdqhL9hY"
      },
      "source": [
        "To use Numpy, we first need to import the `numpy` package:"
      ]
    },
    {
      "cell_type": "code",
      "execution_count": 12,
      "metadata": {
        "id": "58QdX8BLL9hZ"
      },
      "outputs": [],
      "source": [
        "import numpy as np"
      ]
    },
    {
      "cell_type": "markdown",
      "metadata": {
        "id": "DDx6v1EdL9hb"
      },
      "source": [
        "###Arrays"
      ]
    },
    {
      "cell_type": "markdown",
      "metadata": {
        "id": "f-Zv3f7LL9hc"
      },
      "source": [
        "A numpy array is a grid of values, all of the same type, and is indexed by a tuple of nonnegative integers. The number of dimensions is the rank of the array; the shape of an array is a tuple of integers giving the size of the array along each dimension."
      ]
    },
    {
      "cell_type": "markdown",
      "metadata": {
        "id": "_eMTRnZRL9hc"
      },
      "source": [
        "We can initialize numpy arrays from nested Python lists, and access elements using square brackets:"
      ]
    },
    {
      "cell_type": "code",
      "execution_count": 13,
      "metadata": {
        "colab": {
          "base_uri": "https://localhost:8080/"
        },
        "id": "-l3JrGxCL9hc",
        "outputId": "71c5388a-eec0-40b6-fa89-46ed8770d1d9"
      },
      "outputs": [
        {
          "output_type": "stream",
          "name": "stdout",
          "text": [
            "<class 'numpy.ndarray'> (3,) 1 2 3\n",
            "[5 2 3]\n"
          ]
        }
      ],
      "source": [
        "a = np.array([1, 2, 3])  # Create a rank 1 array\n",
        "print(type(a), a.shape, a[0], a[1], a[2])\n",
        "a[0] = 5                 # Change an element of the array\n",
        "print(a)                  "
      ]
    },
    {
      "cell_type": "code",
      "execution_count": 14,
      "metadata": {
        "colab": {
          "base_uri": "https://localhost:8080/"
        },
        "id": "ma6mk-kdL9hh",
        "outputId": "bf2e1d78-9ee3-4ac1-ac02-6212277cb392"
      },
      "outputs": [
        {
          "output_type": "stream",
          "name": "stdout",
          "text": [
            "[[1 2 3]\n",
            " [4 5 6]]\n"
          ]
        }
      ],
      "source": [
        "b = np.array([[1,2,3],[4,5,6]])   # Create a rank 2 array\n",
        "print(b)"
      ]
    },
    {
      "cell_type": "code",
      "execution_count": 15,
      "metadata": {
        "colab": {
          "base_uri": "https://localhost:8080/"
        },
        "id": "ymfSHAwtL9hj",
        "outputId": "d4635cd1-e60d-4631-8298-bc93ad099f86"
      },
      "outputs": [
        {
          "output_type": "stream",
          "name": "stdout",
          "text": [
            "(2, 3)\n",
            "1 2 4\n"
          ]
        }
      ],
      "source": [
        "print(b.shape)\n",
        "print(b[0, 0], b[0, 1], b[1, 0])"
      ]
    },
    {
      "cell_type": "markdown",
      "metadata": {
        "id": "F2qwdyvuL9hn"
      },
      "source": [
        "Numpy also provides many functions to create arrays:"
      ]
    },
    {
      "cell_type": "code",
      "execution_count": 16,
      "metadata": {
        "colab": {
          "base_uri": "https://localhost:8080/"
        },
        "id": "mVTN_EBqL9hn",
        "outputId": "698eede4-6b91-4184-978c-eed8f80e7e84"
      },
      "outputs": [
        {
          "output_type": "stream",
          "name": "stdout",
          "text": [
            "[[0. 0.]\n",
            " [0. 0.]]\n"
          ]
        }
      ],
      "source": [
        "a = np.zeros((2,2))  # Create an array of all zeros\n",
        "print(a)"
      ]
    },
    {
      "cell_type": "code",
      "execution_count": 17,
      "metadata": {
        "colab": {
          "base_uri": "https://localhost:8080/"
        },
        "id": "skiKlNmlL9h5",
        "outputId": "5de53cbd-7866-44d7-84c6-903e3a51e165"
      },
      "outputs": [
        {
          "output_type": "stream",
          "name": "stdout",
          "text": [
            "[[1. 1.]]\n"
          ]
        }
      ],
      "source": [
        "b = np.ones((1,2))   # Create an array of all ones\n",
        "print(b)"
      ]
    },
    {
      "cell_type": "code",
      "execution_count": 18,
      "metadata": {
        "colab": {
          "base_uri": "https://localhost:8080/"
        },
        "id": "HtFsr03bL9h7",
        "outputId": "43438580-5c81-4ae6-b7c1-a931efca7249"
      },
      "outputs": [
        {
          "output_type": "stream",
          "name": "stdout",
          "text": [
            "[[7 7]\n",
            " [7 7]]\n"
          ]
        }
      ],
      "source": [
        "c = np.full((2,2), 7) # Create a constant array\n",
        "print(c)"
      ]
    },
    {
      "cell_type": "code",
      "execution_count": 19,
      "metadata": {
        "colab": {
          "base_uri": "https://localhost:8080/"
        },
        "id": "-QcALHvkL9h9",
        "outputId": "45756146-b95b-4d39-f364-5228ceb6e279"
      },
      "outputs": [
        {
          "output_type": "stream",
          "name": "stdout",
          "text": [
            "[[1. 0.]\n",
            " [0. 1.]]\n"
          ]
        }
      ],
      "source": [
        "d = np.eye(2)        # Create a 2x2 identity matrix\n",
        "print(d)"
      ]
    },
    {
      "cell_type": "code",
      "execution_count": 20,
      "metadata": {
        "colab": {
          "base_uri": "https://localhost:8080/"
        },
        "id": "RCpaYg9qL9iA",
        "outputId": "bdfe984f-f63e-404d-d934-9f29bf6268cb"
      },
      "outputs": [
        {
          "output_type": "stream",
          "name": "stdout",
          "text": [
            "[[0.00598173 0.76039385]\n",
            " [0.91609006 0.7803166 ]]\n"
          ]
        }
      ],
      "source": [
        "e = np.random.random((2,2)) # Create an array filled with random values\n",
        "print(e)"
      ]
    },
    {
      "cell_type": "markdown",
      "metadata": {
        "id": "jI5qcSDfL9iC"
      },
      "source": [
        "###Array indexing"
      ]
    },
    {
      "cell_type": "markdown",
      "metadata": {
        "id": "M-E4MUeVL9iC"
      },
      "source": [
        "Numpy offers several ways to index into arrays."
      ]
    },
    {
      "cell_type": "markdown",
      "metadata": {
        "id": "QYv4JyIEL9iD"
      },
      "source": [
        "Slicing: Similar to Python lists, numpy arrays can be sliced. Since arrays may be multidimensional, you must specify a slice for each dimension of the array:"
      ]
    },
    {
      "cell_type": "code",
      "execution_count": 21,
      "metadata": {
        "colab": {
          "base_uri": "https://localhost:8080/"
        },
        "id": "wLWA0udwL9iD",
        "outputId": "2facf287-cf9d-4074-f01c-22cd44d942f1"
      },
      "outputs": [
        {
          "output_type": "stream",
          "name": "stdout",
          "text": [
            "[[2 3]\n",
            " [6 7]]\n"
          ]
        }
      ],
      "source": [
        "import numpy as np\n",
        "\n",
        "# Create the following rank 2 array with shape (3, 4)\n",
        "# [[ 1  2  3  4]\n",
        "#  [ 5  6  7  8]\n",
        "#  [ 9 10 11 12]]\n",
        "a = np.array([[1,2,3,4], [5,6,7,8], [9,10,11,12]])\n",
        "\n",
        "# Use slicing to pull out the subarray consisting of the first 2 rows\n",
        "# and columns 1 and 2; b is the following array of shape (2, 2):\n",
        "# [[2 3]\n",
        "#  [6 7]]\n",
        "b = a[:2, 1:3]\n",
        "print(b)"
      ]
    },
    {
      "cell_type": "markdown",
      "metadata": {
        "id": "KahhtZKYL9iF"
      },
      "source": [
        "A slice of an array is a view into the same data, so modifying it will modify the original array."
      ]
    },
    {
      "cell_type": "code",
      "execution_count": 22,
      "metadata": {
        "colab": {
          "base_uri": "https://localhost:8080/"
        },
        "id": "1kmtaFHuL9iG",
        "outputId": "99d0a2dd-a2bf-478a-bbfd-a78010cc46fc"
      },
      "outputs": [
        {
          "output_type": "stream",
          "name": "stdout",
          "text": [
            "2\n",
            "77\n"
          ]
        }
      ],
      "source": [
        "print(a[0, 1])\n",
        "b[0, 0] = 77    # b[0, 0] is the same piece of data as a[0, 1]\n",
        "print(a[0, 1]) "
      ]
    },
    {
      "cell_type": "markdown",
      "metadata": {
        "id": "_Zcf3zi-L9iI"
      },
      "source": [
        "You can also mix integer indexing with slice indexing. However, doing so will yield an array of lower rank than the original array. Note that this is quite different from the way that MATLAB handles array slicing:"
      ]
    },
    {
      "cell_type": "code",
      "execution_count": 23,
      "metadata": {
        "colab": {
          "base_uri": "https://localhost:8080/"
        },
        "id": "G6lfbPuxL9iJ",
        "outputId": "97f08351-254e-4a19-dd7f-faedf23434cb"
      },
      "outputs": [
        {
          "output_type": "stream",
          "name": "stdout",
          "text": [
            "[[ 1  2  3  4]\n",
            " [ 5  6  7  8]\n",
            " [ 9 10 11 12]]\n"
          ]
        }
      ],
      "source": [
        "# Create the following rank 2 array with shape (3, 4)\n",
        "a = np.array([[1,2,3,4], [5,6,7,8], [9,10,11,12]])\n",
        "print(a)"
      ]
    },
    {
      "cell_type": "markdown",
      "metadata": {
        "id": "NCye3NXhL9iL"
      },
      "source": [
        "Two ways of accessing the data in the middle row of the array.\n",
        "Mixing integer indexing with slices yields an array of lower rank,\n",
        "while using only slices yields an array of the same rank as the\n",
        "original array:"
      ]
    },
    {
      "cell_type": "code",
      "execution_count": 24,
      "metadata": {
        "colab": {
          "base_uri": "https://localhost:8080/"
        },
        "id": "EOiEMsmNL9iL",
        "outputId": "d057b28a-c847-4dfa-f672-2e8c4d83fa84"
      },
      "outputs": [
        {
          "output_type": "stream",
          "name": "stdout",
          "text": [
            "[5 6 7 8] (4,)\n",
            "[[5 6 7 8]] (1, 4)\n",
            "[[5 6 7 8]] (1, 4)\n"
          ]
        }
      ],
      "source": [
        "row_r1 = a[1, :]    # Rank 1 view of the second row of a  \n",
        "row_r2 = a[1:2, :]  # Rank 2 view of the second row of a\n",
        "row_r3 = a[[1], :]  # Rank 2 view of the second row of a\n",
        "print(row_r1, row_r1.shape)\n",
        "print(row_r2, row_r2.shape)\n",
        "print(row_r3, row_r3.shape)"
      ]
    },
    {
      "cell_type": "code",
      "execution_count": 25,
      "metadata": {
        "colab": {
          "base_uri": "https://localhost:8080/"
        },
        "id": "JXu73pfDL9iN",
        "outputId": "002e9745-40a0-4c41-f329-bddb2ca19f86"
      },
      "outputs": [
        {
          "output_type": "stream",
          "name": "stdout",
          "text": [
            "[ 2  6 10] (3,)\n",
            "\n",
            "[[ 2]\n",
            " [ 6]\n",
            " [10]] (3, 1)\n"
          ]
        }
      ],
      "source": [
        "# We can make the same distinction when accessing columns of an array:\n",
        "col_r1 = a[:, 1]\n",
        "col_r2 = a[:, 1:2]\n",
        "print(col_r1, col_r1.shape)\n",
        "print()\n",
        "print(col_r2, col_r2.shape)"
      ]
    },
    {
      "cell_type": "markdown",
      "metadata": {
        "id": "VP3916bOL9iP"
      },
      "source": [
        "Integer array indexing: When you index into numpy arrays using slicing, the resulting array view will always be a subarray of the original array. In contrast, integer array indexing allows you to construct arbitrary arrays using the data from another array. Here is an example:"
      ]
    },
    {
      "cell_type": "code",
      "execution_count": 26,
      "metadata": {
        "colab": {
          "base_uri": "https://localhost:8080/"
        },
        "id": "TBnWonIDL9iP",
        "outputId": "551d344e-cf15-4ee0-b307-3b3e1a226473"
      },
      "outputs": [
        {
          "output_type": "stream",
          "name": "stdout",
          "text": [
            "[1 4 5]\n",
            "[1 4 5]\n"
          ]
        }
      ],
      "source": [
        "a = np.array([[1,2], [3, 4], [5, 6]])\n",
        "\n",
        "# An example of integer array indexing.\n",
        "# The returned array will have shape (3,) and \n",
        "print(a[[0, 1, 2], [0, 1, 0]])\n",
        "\n",
        "# The above example of integer array indexing is equivalent to this:\n",
        "print(np.array([a[0, 0], a[1, 1], a[2, 0]]))"
      ]
    },
    {
      "cell_type": "code",
      "execution_count": 27,
      "metadata": {
        "colab": {
          "base_uri": "https://localhost:8080/"
        },
        "id": "n7vuati-L9iR",
        "outputId": "cac1b9a5-f0d0-42cf-81e0-b630d30aab24"
      },
      "outputs": [
        {
          "output_type": "stream",
          "name": "stdout",
          "text": [
            "[2 2]\n",
            "[2 2]\n"
          ]
        }
      ],
      "source": [
        "# When using integer array indexing, you can reuse the same\n",
        "# element from the source array:\n",
        "print(a[[0, 0], [1, 1]])\n",
        "\n",
        "# Equivalent to the previous integer array indexing example\n",
        "print(np.array([a[0, 1], a[0, 1]]))"
      ]
    },
    {
      "cell_type": "markdown",
      "metadata": {
        "id": "kaipSLafL9iU"
      },
      "source": [
        "One useful trick with integer array indexing is selecting or mutating one element from each row of a matrix:"
      ]
    },
    {
      "cell_type": "code",
      "execution_count": 28,
      "metadata": {
        "colab": {
          "base_uri": "https://localhost:8080/"
        },
        "id": "ehqsV7TXL9iU",
        "outputId": "9ebe695a-3952-411c-8c6d-2136560b42ae"
      },
      "outputs": [
        {
          "output_type": "stream",
          "name": "stdout",
          "text": [
            "[[ 1  2  3]\n",
            " [ 4  5  6]\n",
            " [ 7  8  9]\n",
            " [10 11 12]]\n"
          ]
        }
      ],
      "source": [
        "# Create a new array from which we will select elements\n",
        "a = np.array([[1,2,3], [4,5,6], [7,8,9], [10, 11, 12]])\n",
        "print(a)"
      ]
    },
    {
      "cell_type": "code",
      "execution_count": 29,
      "metadata": {
        "colab": {
          "base_uri": "https://localhost:8080/"
        },
        "id": "pAPOoqy5L9iV",
        "outputId": "ada4c119-c29b-44a1-a9da-d615873392cf"
      },
      "outputs": [
        {
          "output_type": "stream",
          "name": "stdout",
          "text": [
            "[ 1  6  7 11]\n"
          ]
        }
      ],
      "source": [
        "# Create an array of indices\n",
        "b = np.array([0, 2, 0, 1])\n",
        "\n",
        "# Select one element from each row of a using the indices in b\n",
        "print(a[np.arange(4), b])  # Prints \"[ 1  6  7 11]\""
      ]
    },
    {
      "cell_type": "code",
      "execution_count": 30,
      "metadata": {
        "colab": {
          "base_uri": "https://localhost:8080/"
        },
        "id": "6v1PdI1DL9ib",
        "outputId": "8c6ec765-8eb1-4bc0-a13b-56d5a830a19f"
      },
      "outputs": [
        {
          "output_type": "stream",
          "name": "stdout",
          "text": [
            "[[11  2  3]\n",
            " [ 4  5 16]\n",
            " [17  8  9]\n",
            " [10 21 12]]\n"
          ]
        }
      ],
      "source": [
        "# Mutate one element from each row of a using the indices in b\n",
        "a[np.arange(4), b] += 10\n",
        "print(a)"
      ]
    },
    {
      "cell_type": "markdown",
      "metadata": {
        "id": "kaE8dBGgL9id"
      },
      "source": [
        "Boolean array indexing: Boolean array indexing lets you pick out arbitrary elements of an array. Frequently this type of indexing is used to select the elements of an array that satisfy some condition. Here is an example:"
      ]
    },
    {
      "cell_type": "code",
      "execution_count": 31,
      "metadata": {
        "colab": {
          "base_uri": "https://localhost:8080/"
        },
        "id": "32PusjtKL9id",
        "outputId": "b0b7c669-9c0b-4210-e002-9746eeb75d38"
      },
      "outputs": [
        {
          "output_type": "stream",
          "name": "stdout",
          "text": [
            "[[False False]\n",
            " [ True  True]\n",
            " [ True  True]]\n"
          ]
        }
      ],
      "source": [
        "import numpy as np\n",
        "\n",
        "a = np.array([[1,2], [3, 4], [5, 6]])\n",
        "\n",
        "bool_idx = (a > 2)  # Find the elements of a that are bigger than 2;\n",
        "                    # this returns a numpy array of Booleans of the same\n",
        "                    # shape as a, where each slot of bool_idx tells\n",
        "                    # whether that element of a is > 2.\n",
        "\n",
        "print(bool_idx)"
      ]
    },
    {
      "cell_type": "code",
      "execution_count": 32,
      "metadata": {
        "colab": {
          "base_uri": "https://localhost:8080/"
        },
        "id": "cb2IRMXaL9if",
        "outputId": "6f615a54-edf0-4a16-e3f7-761130962cef"
      },
      "outputs": [
        {
          "output_type": "stream",
          "name": "stdout",
          "text": [
            "[3 4 5 6]\n",
            "[3 4 5 6]\n"
          ]
        }
      ],
      "source": [
        "# We use boolean array indexing to construct a rank 1 array\n",
        "# consisting of the elements of a corresponding to the True values\n",
        "# of bool_idx\n",
        "print(a[bool_idx])\n",
        "\n",
        "# We can do all of the above in a single concise statement:\n",
        "print(a[a > 2])"
      ]
    },
    {
      "cell_type": "markdown",
      "metadata": {
        "id": "CdofMonAL9ih"
      },
      "source": [
        "For brevity we have left out a lot of details about numpy array indexing; if you want to know more you should read the documentation."
      ]
    },
    {
      "cell_type": "markdown",
      "metadata": {
        "id": "jTctwqdQL9ih"
      },
      "source": [
        "###Datatypes"
      ]
    },
    {
      "cell_type": "markdown",
      "metadata": {
        "id": "kSZQ1WkIL9ih"
      },
      "source": [
        "Every numpy array is a grid of elements of the same type. Numpy provides a large set of numeric datatypes that you can use to construct arrays. Numpy tries to guess a datatype when you create an array, but functions that construct arrays usually also include an optional argument to explicitly specify the datatype. Here is an example:"
      ]
    },
    {
      "cell_type": "code",
      "execution_count": 33,
      "metadata": {
        "colab": {
          "base_uri": "https://localhost:8080/"
        },
        "id": "4za4O0m5L9ih",
        "outputId": "6d824c15-ff12-43a5-d636-cd4712b5e7a1"
      },
      "outputs": [
        {
          "output_type": "stream",
          "name": "stdout",
          "text": [
            "int64 float64 int64\n"
          ]
        }
      ],
      "source": [
        "x = np.array([1, 2])  # Let numpy choose the datatype\n",
        "y = np.array([1.0, 2.0])  # Let numpy choose the datatype\n",
        "z = np.array([1, 2], dtype=np.int64)  # Force a particular datatype\n",
        "\n",
        "print(x.dtype, y.dtype, z.dtype)"
      ]
    },
    {
      "cell_type": "markdown",
      "metadata": {
        "id": "RLVIsZQpL9ik"
      },
      "source": [
        "You can read all about numpy datatypes in the [documentation](http://docs.scipy.org/doc/numpy/reference/arrays.dtypes.html)."
      ]
    },
    {
      "cell_type": "markdown",
      "metadata": {
        "id": "TuB-fdhIL9ik"
      },
      "source": [
        "###Array math"
      ]
    },
    {
      "cell_type": "markdown",
      "metadata": {
        "id": "18e8V8elL9ik"
      },
      "source": [
        "Basic mathematical functions operate elementwise on arrays, and are available both as operator overloads and as functions in the numpy module:"
      ]
    },
    {
      "cell_type": "code",
      "execution_count": 34,
      "metadata": {
        "colab": {
          "base_uri": "https://localhost:8080/"
        },
        "id": "gHKvBrSKL9il",
        "outputId": "4c6e499c-67e5-4338-b24b-519e57594418"
      },
      "outputs": [
        {
          "output_type": "stream",
          "name": "stdout",
          "text": [
            "[[ 6.  8.]\n",
            " [10. 12.]]\n",
            "[[ 6.  8.]\n",
            " [10. 12.]]\n"
          ]
        }
      ],
      "source": [
        "x = np.array([[1,2],[3,4]], dtype=np.float64)\n",
        "y = np.array([[5,6],[7,8]], dtype=np.float64)\n",
        "\n",
        "# Elementwise sum; both produce the array\n",
        "print(x + y)\n",
        "print(np.add(x, y))"
      ]
    },
    {
      "cell_type": "code",
      "execution_count": 35,
      "metadata": {
        "colab": {
          "base_uri": "https://localhost:8080/"
        },
        "id": "1fZtIAMxL9in",
        "outputId": "15f0821d-3e35-4ba9-ac6b-95419dcbcfe5"
      },
      "outputs": [
        {
          "output_type": "stream",
          "name": "stdout",
          "text": [
            "[[-4. -4.]\n",
            " [-4. -4.]]\n",
            "[[-4. -4.]\n",
            " [-4. -4.]]\n"
          ]
        }
      ],
      "source": [
        "# Elementwise difference; both produce the array\n",
        "print(x - y)\n",
        "print(np.subtract(x, y))"
      ]
    },
    {
      "cell_type": "code",
      "execution_count": 36,
      "metadata": {
        "colab": {
          "base_uri": "https://localhost:8080/"
        },
        "id": "nil4AScML9io",
        "outputId": "ad432e01-22ea-4360-ab4c-cb76dd97e11c"
      },
      "outputs": [
        {
          "output_type": "stream",
          "name": "stdout",
          "text": [
            "[[ 5. 12.]\n",
            " [21. 32.]]\n",
            "[[ 5. 12.]\n",
            " [21. 32.]]\n"
          ]
        }
      ],
      "source": [
        "# Elementwise product; both produce the array\n",
        "print(x * y)\n",
        "print(np.multiply(x, y))"
      ]
    },
    {
      "cell_type": "code",
      "execution_count": 37,
      "metadata": {
        "colab": {
          "base_uri": "https://localhost:8080/"
        },
        "id": "0JoA4lH6L9ip",
        "outputId": "78b32ae9-39a8-47ea-f703-f92cac157287"
      },
      "outputs": [
        {
          "output_type": "stream",
          "name": "stdout",
          "text": [
            "[[0.2        0.33333333]\n",
            " [0.42857143 0.5       ]]\n",
            "[[0.2        0.33333333]\n",
            " [0.42857143 0.5       ]]\n"
          ]
        }
      ],
      "source": [
        "# Elementwise division; both produce the array\n",
        "# [[ 0.2         0.33333333]\n",
        "#  [ 0.42857143  0.5       ]]\n",
        "print(x / y)\n",
        "print(np.divide(x, y))"
      ]
    },
    {
      "cell_type": "code",
      "execution_count": 38,
      "metadata": {
        "colab": {
          "base_uri": "https://localhost:8080/"
        },
        "id": "g0iZuA6bL9ir",
        "outputId": "631e060f-80e6-442d-90f8-64d208fd427e"
      },
      "outputs": [
        {
          "output_type": "stream",
          "name": "stdout",
          "text": [
            "[[1.         1.41421356]\n",
            " [1.73205081 2.        ]]\n"
          ]
        }
      ],
      "source": [
        "# Elementwise square root; produces the array\n",
        "# [[ 1.          1.41421356]\n",
        "#  [ 1.73205081  2.        ]]\n",
        "print(np.sqrt(x))"
      ]
    },
    {
      "cell_type": "markdown",
      "metadata": {
        "id": "a5d_uujuL9it"
      },
      "source": [
        "Note that unlike MATLAB, `*` is elementwise multiplication, not matrix multiplication. We instead use the dot function to compute inner products of vectors, to multiply a vector by a matrix, and to multiply matrices. dot is available both as a function in the numpy module and as an instance method of array objects:"
      ]
    },
    {
      "cell_type": "code",
      "execution_count": 39,
      "metadata": {
        "colab": {
          "base_uri": "https://localhost:8080/"
        },
        "id": "I3FnmoSeL9iu",
        "outputId": "ac15cf6b-3b9d-441a-e07c-7b85c86701b0"
      },
      "outputs": [
        {
          "output_type": "stream",
          "name": "stdout",
          "text": [
            "219\n",
            "219\n"
          ]
        }
      ],
      "source": [
        "x = np.array([[1,2],[3,4]])\n",
        "y = np.array([[5,6],[7,8]])\n",
        "\n",
        "v = np.array([9,10])\n",
        "w = np.array([11, 12])\n",
        "\n",
        "# Inner product of vectors; both produce 219\n",
        "print(v.dot(w))\n",
        "print(np.dot(v, w))"
      ]
    },
    {
      "cell_type": "markdown",
      "metadata": {
        "id": "vmxPbrHASVeA"
      },
      "source": [
        "You can also use the `@` operator which is equivalent to numpy's `dot` operator."
      ]
    },
    {
      "cell_type": "code",
      "execution_count": 40,
      "metadata": {
        "colab": {
          "base_uri": "https://localhost:8080/"
        },
        "id": "vyrWA-mXSdtt",
        "outputId": "faae4331-7db8-47ec-d116-f49aa4bfeb6f"
      },
      "outputs": [
        {
          "output_type": "stream",
          "name": "stdout",
          "text": [
            "219\n"
          ]
        }
      ],
      "source": [
        "print(v @ w)"
      ]
    },
    {
      "cell_type": "code",
      "execution_count": 41,
      "metadata": {
        "colab": {
          "base_uri": "https://localhost:8080/"
        },
        "id": "zvUODeTxL9iw",
        "outputId": "8ce240bb-7281-4a84-8325-788a706dc9eb"
      },
      "outputs": [
        {
          "output_type": "stream",
          "name": "stdout",
          "text": [
            "[29 67]\n",
            "[29 67]\n",
            "[29 67]\n"
          ]
        }
      ],
      "source": [
        "# Matrix / vector product; both produce the rank 1 array [29 67]\n",
        "print(x.dot(v))\n",
        "print(np.dot(x, v))\n",
        "print(x @ v)"
      ]
    },
    {
      "cell_type": "code",
      "execution_count": 42,
      "metadata": {
        "colab": {
          "base_uri": "https://localhost:8080/"
        },
        "id": "3V_3NzNEL9iy",
        "outputId": "d78907ee-509b-47dd-9102-e4f8d2e759f3"
      },
      "outputs": [
        {
          "output_type": "stream",
          "name": "stdout",
          "text": [
            "[[19 22]\n",
            " [43 50]]\n",
            "[[19 22]\n",
            " [43 50]]\n",
            "[[19 22]\n",
            " [43 50]]\n"
          ]
        }
      ],
      "source": [
        "# Matrix / matrix product; both produce the rank 2 array\n",
        "# [[19 22]\n",
        "#  [43 50]]\n",
        "print(x.dot(y))\n",
        "print(np.dot(x, y))\n",
        "print(x @ y)"
      ]
    },
    {
      "cell_type": "markdown",
      "metadata": {
        "id": "FbE-1If_L9i0"
      },
      "source": [
        "Numpy provides many useful functions for performing computations on arrays; one of the most useful is `sum`:"
      ]
    },
    {
      "cell_type": "code",
      "execution_count": 43,
      "metadata": {
        "colab": {
          "base_uri": "https://localhost:8080/"
        },
        "id": "DZUdZvPrL9i0",
        "outputId": "cfbcc90c-321a-40c3-85fe-18bf27434d37"
      },
      "outputs": [
        {
          "output_type": "stream",
          "name": "stdout",
          "text": [
            "10\n",
            "[4 6]\n",
            "[3 7]\n"
          ]
        }
      ],
      "source": [
        "x = np.array([[1,2],[3,4]])\n",
        "\n",
        "print(np.sum(x))  # Compute sum of all elements; prints \"10\"\n",
        "print(np.sum(x, axis=0))  # Compute sum of each column; prints \"[4 6]\"\n",
        "print(np.sum(x, axis=1))  # Compute sum of each row; prints \"[3 7]\""
      ]
    },
    {
      "cell_type": "markdown",
      "metadata": {
        "id": "ahdVW4iUL9i3"
      },
      "source": [
        "You can find the full list of mathematical functions provided by numpy in the [documentation](http://docs.scipy.org/doc/numpy/reference/routines.math.html).\n",
        "\n",
        "Apart from computing mathematical functions using arrays, we frequently need to reshape or otherwise manipulate data in arrays. The simplest example of this type of operation is transposing a matrix; to transpose a matrix, simply use the T attribute of an array object:"
      ]
    },
    {
      "cell_type": "code",
      "execution_count": 44,
      "metadata": {
        "colab": {
          "base_uri": "https://localhost:8080/"
        },
        "id": "63Yl1f3oL9i3",
        "outputId": "d8f4eb43-dc99-4aa4-f863-0a1f91d279f0"
      },
      "outputs": [
        {
          "output_type": "stream",
          "name": "stdout",
          "text": [
            "[[1 2]\n",
            " [3 4]]\n",
            "transpose\n",
            " [[1 3]\n",
            " [2 4]]\n"
          ]
        }
      ],
      "source": [
        "print(x)\n",
        "print(\"transpose\\n\", x.T)"
      ]
    },
    {
      "cell_type": "code",
      "execution_count": 45,
      "metadata": {
        "colab": {
          "base_uri": "https://localhost:8080/"
        },
        "id": "mkk03eNIL9i4",
        "outputId": "7e2e9073-8ba8-4d31-8acb-4c395673b2c5"
      },
      "outputs": [
        {
          "output_type": "stream",
          "name": "stdout",
          "text": [
            "[[1 2 3]]\n",
            "transpose\n",
            " [[1]\n",
            " [2]\n",
            " [3]]\n"
          ]
        }
      ],
      "source": [
        "v = np.array([[1,2,3]])\n",
        "print(v )\n",
        "print(\"transpose\\n\", v.T)"
      ]
    },
    {
      "cell_type": "markdown",
      "metadata": {
        "id": "REfLrUTcL9i7"
      },
      "source": [
        "###Broadcasting"
      ]
    },
    {
      "cell_type": "markdown",
      "metadata": {
        "id": "EygGAMWqL9i7"
      },
      "source": [
        "Broadcasting is a powerful mechanism that allows numpy to work with arrays of different shapes when performing arithmetic operations. Frequently we have a smaller array and a larger array, and we want to use the smaller array multiple times to perform some operation on the larger array.\n",
        "\n",
        "For example, suppose that we want to add a constant vector to each row of a matrix. We could do it like this:"
      ]
    },
    {
      "cell_type": "code",
      "execution_count": 46,
      "metadata": {
        "colab": {
          "base_uri": "https://localhost:8080/"
        },
        "id": "WEEvkV1ZL9i7",
        "outputId": "d9c4979d-be77-47eb-858a-d14dafffa211"
      },
      "outputs": [
        {
          "output_type": "stream",
          "name": "stdout",
          "text": [
            "[[ 2  2  4]\n",
            " [ 5  5  7]\n",
            " [ 8  8 10]\n",
            " [11 11 13]]\n"
          ]
        }
      ],
      "source": [
        "# We will add the vector v to each row of the matrix x,\n",
        "# storing the result in the matrix y\n",
        "x = np.array([[1,2,3], [4,5,6], [7,8,9], [10, 11, 12]])\n",
        "v = np.array([1, 0, 1])\n",
        "y = np.empty_like(x)   # Create an empty matrix with the same shape as x\n",
        "\n",
        "# Add the vector v to each row of the matrix x with an explicit loop\n",
        "for i in range(4):\n",
        "    y[i, :] = x[i, :] + v\n",
        "\n",
        "print(y)"
      ]
    },
    {
      "cell_type": "markdown",
      "metadata": {
        "id": "2OlXXupEL9i-"
      },
      "source": [
        "This works; however when the matrix `x` is very large, computing an explicit loop in Python could be slow. Note that adding the vector v to each row of the matrix `x` is equivalent to forming a matrix `vv` by stacking multiple copies of `v` vertically, then performing elementwise summation of `x` and `vv`. We could implement this approach like this:"
      ]
    },
    {
      "cell_type": "code",
      "execution_count": 47,
      "metadata": {
        "colab": {
          "base_uri": "https://localhost:8080/"
        },
        "id": "vS7UwAQQL9i-",
        "outputId": "d5373582-1dda-4813-d0a2-abd6e655dad4"
      },
      "outputs": [
        {
          "output_type": "stream",
          "name": "stdout",
          "text": [
            "[[1 0 1]\n",
            " [1 0 1]\n",
            " [1 0 1]\n",
            " [1 0 1]]\n"
          ]
        }
      ],
      "source": [
        "vv = np.tile(v, (4, 1))  # Stack 4 copies of v on top of each other\n",
        "print(vv)                # Prints \"[[1 0 1]\n",
        "                         #          [1 0 1]\n",
        "                         #          [1 0 1]\n",
        "                         #          [1 0 1]]\""
      ]
    },
    {
      "cell_type": "code",
      "execution_count": 48,
      "metadata": {
        "colab": {
          "base_uri": "https://localhost:8080/"
        },
        "id": "N0hJphSIL9jA",
        "outputId": "664a5568-798d-4dad-d2ca-842ece17842d"
      },
      "outputs": [
        {
          "output_type": "stream",
          "name": "stdout",
          "text": [
            "[[ 2  2  4]\n",
            " [ 5  5  7]\n",
            " [ 8  8 10]\n",
            " [11 11 13]]\n"
          ]
        }
      ],
      "source": [
        "y = x + vv  # Add x and vv elementwise\n",
        "print(y)"
      ]
    },
    {
      "cell_type": "markdown",
      "metadata": {
        "id": "zHos6RJnL9jB"
      },
      "source": [
        "Numpy broadcasting allows us to perform this computation without actually creating multiple copies of v. Consider this version, using broadcasting:"
      ]
    },
    {
      "cell_type": "code",
      "execution_count": 49,
      "metadata": {
        "colab": {
          "base_uri": "https://localhost:8080/"
        },
        "id": "vnYFb-gYL9jC",
        "outputId": "579228ff-ee3c-4a1b-d016-c9c2e43b63a9"
      },
      "outputs": [
        {
          "output_type": "stream",
          "name": "stdout",
          "text": [
            "[[ 2  2  4]\n",
            " [ 5  5  7]\n",
            " [ 8  8 10]\n",
            " [11 11 13]]\n"
          ]
        }
      ],
      "source": [
        "import numpy as np\n",
        "\n",
        "# We will add the vector v to each row of the matrix x,\n",
        "# storing the result in the matrix y\n",
        "x = np.array([[1,2,3], [4,5,6], [7,8,9], [10, 11, 12]])\n",
        "v = np.array([1, 0, 1])\n",
        "y = x + v  # Add v to each row of x using broadcasting\n",
        "print(y)"
      ]
    },
    {
      "cell_type": "markdown",
      "metadata": {
        "id": "08YyIURKL9jH"
      },
      "source": [
        "The line `y = x + v` works even though `x` has shape `(4, 3)` and `v` has shape `(3,)` due to broadcasting; this line works as if v actually had shape `(4, 3)`, where each row was a copy of `v`, and the sum was performed elementwise.\n",
        "\n",
        "Broadcasting two arrays together follows these rules:\n",
        "\n",
        "1. If the arrays do not have the same rank, prepend the shape of the lower rank array with 1s until both shapes have the same length.\n",
        "2. The two arrays are said to be compatible in a dimension if they have the same size in the dimension, or if one of the arrays has size 1 in that dimension.\n",
        "3. The arrays can be broadcast together if they are compatible in all dimensions.\n",
        "4. After broadcasting, each array behaves as if it had shape equal to the elementwise maximum of shapes of the two input arrays.\n",
        "5. In any dimension where one array had size 1 and the other array had size greater than 1, the first array behaves as if it were copied along that dimension\n",
        "\n",
        "If this explanation does not make sense, try reading the explanation from the [documentation](http://docs.scipy.org/doc/numpy/user/basics.broadcasting.html) or this [explanation](http://wiki.scipy.org/EricsBroadcastingDoc).\n",
        "\n",
        "Functions that support broadcasting are known as universal functions. You can find the list of all universal functions in the [documentation](http://docs.scipy.org/doc/numpy/reference/ufuncs.html#available-ufuncs).\n",
        "\n",
        "Here are some applications of broadcasting:"
      ]
    },
    {
      "cell_type": "code",
      "execution_count": 50,
      "metadata": {
        "colab": {
          "base_uri": "https://localhost:8080/"
        },
        "id": "EmQnwoM9L9jH",
        "outputId": "d2c61322-d7ec-47dc-ae98-c01ab3e99e07"
      },
      "outputs": [
        {
          "output_type": "stream",
          "name": "stdout",
          "text": [
            "[[ 4  5]\n",
            " [ 8 10]\n",
            " [12 15]]\n"
          ]
        }
      ],
      "source": [
        "# Compute outer product of vectors\n",
        "v = np.array([1,2,3])  # v has shape (3,)\n",
        "w = np.array([4,5])    # w has shape (2,)\n",
        "# To compute an outer product, we first reshape v to be a column\n",
        "# vector of shape (3, 1); we can then broadcast it against w to yield\n",
        "# an output of shape (3, 2), which is the outer product of v and w:\n",
        "\n",
        "nn=np.reshape(v, (3, 1))\n",
        "print( nn * w)"
      ]
    },
    {
      "cell_type": "code",
      "source": [
        "nn"
      ],
      "metadata": {
        "colab": {
          "base_uri": "https://localhost:8080/"
        },
        "id": "MpF2eaX74iq4",
        "outputId": "c5414f9a-bd25-473f-b00d-3d157ee5d0e9"
      },
      "execution_count": 51,
      "outputs": [
        {
          "output_type": "execute_result",
          "data": {
            "text/plain": [
              "array([[1],\n",
              "       [2],\n",
              "       [3]])"
            ]
          },
          "metadata": {},
          "execution_count": 51
        }
      ]
    },
    {
      "cell_type": "code",
      "execution_count": 52,
      "metadata": {
        "colab": {
          "base_uri": "https://localhost:8080/"
        },
        "id": "PgotmpcnL9jK",
        "outputId": "638e35bb-0fc8-44d8-cf6a-6480d28b22c1"
      },
      "outputs": [
        {
          "output_type": "stream",
          "name": "stdout",
          "text": [
            "[[2 4 6]\n",
            " [5 7 9]]\n"
          ]
        }
      ],
      "source": [
        "# Add a vector to each row of a matrix\n",
        "x = np.array([[1,2,3], [4,5,6]])\n",
        "# x has shape (2, 3) and v has shape (3,) so they broadcast to (2, 3),\n",
        "# giving the following matrix:\n",
        "\n",
        "print(x + v)"
      ]
    },
    {
      "cell_type": "code",
      "execution_count": 53,
      "metadata": {
        "colab": {
          "base_uri": "https://localhost:8080/"
        },
        "id": "T5hKS1QaL9jK",
        "outputId": "bae75bcd-bfb3-4e0d-a389-f305845ba3e1"
      },
      "outputs": [
        {
          "output_type": "stream",
          "name": "stdout",
          "text": [
            "[[ 5  6  7]\n",
            " [ 9 10 11]]\n"
          ]
        }
      ],
      "source": [
        "# Add a vector to each column of a matrix\n",
        "# x has shape (2, 3) and w has shape (2,).\n",
        "# If we transpose x then it has shape (3, 2) and can be broadcast\n",
        "# against w to yield a result of shape (3, 2); transposing this result\n",
        "# yields the final result of shape (2, 3) which is the matrix x with\n",
        "# the vector w added to each column. Gives the following matrix:\n",
        "\n",
        "print((x.T + w).T)"
      ]
    },
    {
      "cell_type": "code",
      "execution_count": 54,
      "metadata": {
        "colab": {
          "base_uri": "https://localhost:8080/"
        },
        "id": "JDUrZUl6L9jN",
        "outputId": "ac50ed8e-baa2-4414-ef4b-2302e89d41bd"
      },
      "outputs": [
        {
          "output_type": "stream",
          "name": "stdout",
          "text": [
            "[[ 5  6  7]\n",
            " [ 9 10 11]]\n"
          ]
        }
      ],
      "source": [
        "# Another solution is to reshape w to be a row vector of shape (2, 1);\n",
        "# we can then broadcast it directly against x to produce the same\n",
        "# output.\n",
        "print(x + np.reshape(w, (2, 1)))"
      ]
    },
    {
      "cell_type": "code",
      "execution_count": 55,
      "metadata": {
        "colab": {
          "base_uri": "https://localhost:8080/"
        },
        "id": "VzrEo4KGL9jP",
        "outputId": "777e4fb7-7c85-4e0d-e610-e2bd761aec69"
      },
      "outputs": [
        {
          "output_type": "stream",
          "name": "stdout",
          "text": [
            "[[ 2  4  6]\n",
            " [ 8 10 12]]\n"
          ]
        }
      ],
      "source": [
        "# Multiply a matrix by a constant:\n",
        "# x has shape (2, 3). Numpy treats scalars as arrays of shape ();\n",
        "# these can be broadcast together to shape (2, 3), producing the\n",
        "# following array:\n",
        "print(x * 2)"
      ]
    },
    {
      "cell_type": "markdown",
      "metadata": {
        "id": "89e2FXxFL9jQ"
      },
      "source": [
        "Broadcasting typically makes your code more concise and faster, so you should strive to use it where possible."
      ]
    },
    {
      "cell_type": "markdown",
      "metadata": {
        "id": "iF3ZtwVNL9jQ"
      },
      "source": [
        "This brief overview has touched on many of the important things that you need to know about numpy, but is far from complete. Check out the [numpy reference](http://docs.scipy.org/doc/numpy/reference/) to find out much more about numpy."
      ]
    },
    {
      "cell_type": "markdown",
      "metadata": {
        "id": "tEINf4bEL9jR"
      },
      "source": [
        "##Matplotlib"
      ]
    },
    {
      "cell_type": "markdown",
      "metadata": {
        "id": "0hgVWLaXL9jR"
      },
      "source": [
        "Matplotlib is a plotting library. In this section give a brief introduction to the `matplotlib.pyplot` module, which provides a plotting system similar to that of MATLAB."
      ]
    },
    {
      "cell_type": "code",
      "execution_count": 56,
      "metadata": {
        "id": "cmh_7c6KL9jR"
      },
      "outputs": [],
      "source": [
        "import matplotlib.pyplot as plt"
      ]
    },
    {
      "cell_type": "markdown",
      "metadata": {
        "id": "jOsaA5hGL9jS"
      },
      "source": [
        "By running this special iPython command, we will be displaying plots inline:"
      ]
    },
    {
      "cell_type": "code",
      "execution_count": 57,
      "metadata": {
        "id": "ijpsmwGnL9jT"
      },
      "outputs": [],
      "source": [
        "%matplotlib inline"
      ]
    },
    {
      "cell_type": "markdown",
      "metadata": {
        "id": "U5Z_oMoLL9jV"
      },
      "source": [
        "###Plotting"
      ]
    },
    {
      "cell_type": "markdown",
      "metadata": {
        "id": "6QyFJ7dhL9jV"
      },
      "source": [
        "The most important function in `matplotlib` is plot, which allows you to plot 2D data. Here is a simple example:"
      ]
    },
    {
      "cell_type": "code",
      "execution_count": 58,
      "metadata": {
        "colab": {
          "base_uri": "https://localhost:8080/",
          "height": 282
        },
        "id": "pua52BGeL9jW",
        "outputId": "35ac314f-7bf8-42b5-dfcc-46fd84945b38"
      },
      "outputs": [
        {
          "output_type": "execute_result",
          "data": {
            "text/plain": [
              "[<matplotlib.lines.Line2D at 0x7f89b1b95e10>]"
            ]
          },
          "metadata": {},
          "execution_count": 58
        },
        {
          "output_type": "display_data",
          "data": {
            "image/png": "[encoded data removed]",
            "text/plain": [
              "<Figure size 432x288 with 1 Axes>"
            ]
          },
          "metadata": {
            "needs_background": "light"
          }
        }
      ],
      "source": [
        "# Compute the x and y coordinates for points on a sine curve\n",
        "x = np.arange(0, 3 * np.pi, 0.1)\n",
        "y = np.sin(x)\n",
        "\n",
        "# Plot the points using matplotlib\n",
        "plt.plot(x, y)"
      ]
    },
    {
      "cell_type": "markdown",
      "metadata": {
        "id": "9W2VAcLiL9jX"
      },
      "source": [
        "With just a little bit of extra work we can easily plot multiple lines at once, and add a title, legend, and axis labels:"
      ]
    },
    {
      "cell_type": "code",
      "execution_count": 59,
      "metadata": {
        "colab": {
          "base_uri": "https://localhost:8080/",
          "height": 312
        },
        "id": "TfCQHJ5AL9jY",
        "outputId": "5464accd-7eb3-42f6-ce00-527287089951"
      },
      "outputs": [
        {
          "output_type": "execute_result",
          "data": {
            "text/plain": [
              "<matplotlib.legend.Legend at 0x7f89b8bcfa10>"
            ]
          },
          "metadata": {},
          "execution_count": 59
        },
        {
          "output_type": "display_data",
          "data": {
            "image/png": "[encoded data removed]",
            "text/plain": [
              "<Figure size 432x288 with 1 Axes>"
            ]
          },
          "metadata": {
            "needs_background": "light"
          }
        }
      ],
      "source": [
        "y_sin = np.sin(x)\n",
        "y_cos = np.cos(x)\n",
        "\n",
        "# Plot the points using matplotlib\n",
        "plt.plot(x, y_sin)\n",
        "plt.plot(x, y_cos)\n",
        "plt.xlabel('x axis label')\n",
        "plt.ylabel('y axis label')\n",
        "plt.title('Sine and Cosine')\n",
        "plt.legend(['Sine', 'Cosine'])"
      ]
    },
    {
      "cell_type": "code",
      "source": [
        "import matplotlib.pyplot as plt\n",
        "x_values = list(range(1000))\n",
        "squares = [x**2 for x in x_values]\n",
        "plt.scatter(x_values, squares, s=10)\n",
        "plt.title(\"Square Numbers\", fontsize=24)\n",
        "plt.xlabel(\"Value\", fontsize=18)\n",
        "plt.ylabel(\"Square of Value\", fontsize=18)\n",
        "plt.tick_params(axis='both', which='major',\n",
        " labelsize=14)\n",
        "plt.axis([0, 1100, 0, 1100000])\n",
        "plt.show()"
      ],
      "metadata": {
        "colab": {
          "base_uri": "https://localhost:8080/",
          "height": 316
        },
        "id": "erCM3-1UR5mp",
        "outputId": "b343f9fd-f5e2-4660-eb4f-12e93c9e4492"
      },
      "execution_count": 60,
      "outputs": [
        {
          "output_type": "display_data",
          "data": {
            "image/png": "[encoded data removed]",
            "text/plain": [
              "<Figure size 432x288 with 1 Axes>"
            ]
          },
          "metadata": {
            "needs_background": "light"
          }
        }
      ]
    },
    {
      "cell_type": "code",
      "source": [
        "import matplotlib.pyplot as plt\n",
        "x_values = list(range(1000))\n",
        "squares = [x**2 for x in x_values]\n",
        "plt.scatter(x_values, squares, c=squares,\n",
        " cmap=plt.cm.Blues, edgecolor='none',\n",
        " s=10)\n",
        "\n",
        "plt.scatter(x_values[0], squares[0], c='green',\n",
        " edgecolor='none', s=100)\n",
        "plt.scatter(x_values[-1], squares[-1], c='red',\n",
        " edgecolor='none', s=100)\n",
        "plt.title(\"Square Numbers\", fontsize=24)\n",
        "\n",
        "# Removing axes\n",
        "# You can customize or remove axes entirely. Here’s how to access\n",
        "# each axis, and hide it.\n",
        "plt.axes().get_xaxis().set_visible(False)\n",
        "plt.axes().get_yaxis().set_visible(False)\n",
        "# Setting a custom figure size\n",
        "# You can make your plot as big or small as you want. Before\n",
        "# plotting your data, add the following code. The dpi argument is\n",
        "# optional; if you don’t know your system’s resolution you can omit\n",
        "# the argument and adjust the figsize argument accordingly.\n",
        "plt.figure(dpi=128, figsize=(10, 6))\n",
        "# Saving a plot\n",
        "# The matplotlib viewer has an interactive save button, but you can\n",
        "# also save your visualizations programmatically. To do so, replace plt.show()  with plt.savefig(). \n",
        "# The bbox_inches='tight'\n",
        "# argument trims extra whitespace from the plot.\n",
        "plt.savefig('squares.png', bbox_inches='tight')"
      ],
      "metadata": {
        "colab": {
          "base_uri": "https://localhost:8080/",
          "height": 349
        },
        "id": "-DpCOCXaR8co",
        "outputId": "9b1ed522-df17-4c0d-b5eb-c21906534d57"
      },
      "execution_count": 61,
      "outputs": [
        {
          "output_type": "stream",
          "name": "stderr",
          "text": [
            "/usr/local/lib/python3.7/dist-packages/ipykernel_launcher.py:17: MatplotlibDeprecationWarning: Adding an axes using the same arguments as a previous axes currently reuses the earlier instance.  In a future version, a new instance will always be created and returned.  Meanwhile, this warning can be suppressed, and the future behavior ensured, by passing a unique label to each axes instance.\n",
            "/usr/local/lib/python3.7/dist-packages/ipykernel_launcher.py:18: MatplotlibDeprecationWarning: Adding an axes using the same arguments as a previous axes currently reuses the earlier instance.  In a future version, a new instance will always be created and returned.  Meanwhile, this warning can be suppressed, and the future behavior ensured, by passing a unique label to each axes instance.\n"
          ]
        },
        {
          "output_type": "display_data",
          "data": {
            "image/png": "[encoded data removed]",
            "text/plain": [
              "<Figure size 432x288 with 1 Axes>"
            ]
          },
          "metadata": {
            "needs_background": "light"
          }
        },
        {
          "output_type": "display_data",
          "data": {
            "text/plain": [
              "<Figure size 1280x768 with 0 Axes>"
            ]
          },
          "metadata": {}
        }
      ]
    },
    {
      "cell_type": "markdown",
      "metadata": {
        "id": "R5IeAY03L9ja"
      },
      "source": [
        "###Subplots "
      ]
    },
    {
      "cell_type": "markdown",
      "metadata": {
        "id": "CfUzwJg0L9ja"
      },
      "source": [
        "You can plot different things in the same figure using the subplot function. Here is an example:"
      ]
    },
    {
      "cell_type": "code",
      "execution_count": 62,
      "metadata": {
        "colab": {
          "base_uri": "https://localhost:8080/",
          "height": 281
        },
        "id": "dM23yGH9L9ja",
        "outputId": "e668fb18-d925-4518-eee2-ab30122042a0"
      },
      "outputs": [
        {
          "output_type": "display_data",
          "data": {
            "image/png": "[encoded data removed]",
            "text/plain": [
              "<Figure size 432x288 with 2 Axes>"
            ]
          },
          "metadata": {
            "needs_background": "light"
          }
        }
      ],
      "source": [
        "# Compute the x and y coordinates for points on sine and cosine curves\n",
        "x = np.arange(0, 3 * np.pi, 0.1)\n",
        "y_sin = np.sin(x)\n",
        "y_cos = np.cos(x)\n",
        "\n",
        "# Set up a subplot grid that has height 2 and width 1,\n",
        "# and set the first such subplot as active.\n",
        "plt.subplot(2, 1, 1)\n",
        "\n",
        "# Make the first plot\n",
        "plt.plot(x, y_sin)\n",
        "plt.title('Sine')\n",
        "\n",
        "# Set the second subplot as active, and make the second plot.\n",
        "plt.subplot(2, 1, 2)\n",
        "plt.plot(x, y_cos)\n",
        "plt.title('Cosine')\n",
        "\n",
        "# Show the figure.\n",
        "plt.show()"
      ]
    },
    {
      "cell_type": "markdown",
      "metadata": {
        "id": "gLtsST5SL9jc"
      },
      "source": [
        "You can read much more about the `subplot` function in the [documentation](http://matplotlib.org/api/pyplot_api.html#matplotlib.pyplot.subplot)."
      ]
    }
  ],
  "metadata": {
    "colab": {
      "collapsed_sections": [
        "H8xsUEFpL9gZ",
        "V9MHfUdvL9g2",
        "qPsHSKB1L9hF"
      ],
      "name": "Python-tutorial.ipynb",
      "provenance": [],
      "toc_visible": true
    },
    "kernelspec": {
      "display_name": "Python 3",
      "language": "python",
      "name": "python3"
    },
    "language_info": {
      "codemirror_mode": {
        "name": "ipython",
        "version": 3
      },
      "file_extension": ".py",
      "mimetype": "text/x-python",
      "name": "python",
      "nbconvert_exporter": "python",
      "pygments_lexer": "ipython3",
      "version": "3.7.6"
    }
  },
  "nbformat": 4,
  "nbformat_minor": 0
}