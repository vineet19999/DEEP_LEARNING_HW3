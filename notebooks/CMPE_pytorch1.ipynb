{
  "nbformat": 4,
  "nbformat_minor": 0,
  "metadata": {
    "colab": {
      "name": "CMPE-pytorch1.ipynb",
      "provenance": [],
      "collapsed_sections": [],
      "toc_visible": true
    },
    "kernelspec": {
      "name": "python3",
      "display_name": "Python 3"
    },
    "accelerator": "GPU",
    "widgets": {
      "application/vnd.jupyter.widget-state+json": {
        "752fb34d4f5f49949a002c7f2aab9bea": {
          "model_module": "@jupyter-widgets/controls",
          "model_name": "HBoxModel",
          "model_module_version": "1.5.0",
          "state": {
            "_view_name": "HBoxView",
            "_dom_classes": [],
            "_model_name": "HBoxModel",
            "_view_module": "@jupyter-widgets/controls",
            "_model_module_version": "1.5.0",
            "_view_count": null,
            "_view_module_version": "1.5.0",
            "box_style": "",
            "layout": "IPY_MODEL_3488d1d8dde644c2bd05e823c5b97623",
            "_model_module": "@jupyter-widgets/controls",
            "children": [
              "IPY_MODEL_ecf7eb3872314e7789921a07451b242a",
              "IPY_MODEL_3634a03c8bc84c7abbac2115c5507bc2"
            ]
          }
        },
        "3488d1d8dde644c2bd05e823c5b97623": {
          "model_module": "@jupyter-widgets/base",
          "model_name": "LayoutModel",
          "model_module_version": "1.2.0",
          "state": {
            "_view_name": "LayoutView",
            "grid_template_rows": null,
            "right": null,
            "justify_content": null,
            "_view_module": "@jupyter-widgets/base",
            "overflow": null,
            "_model_module_version": "1.2.0",
            "_view_count": null,
            "flex_flow": null,
            "width": null,
            "min_width": null,
            "border": null,
            "align_items": null,
            "bottom": null,
            "_model_module": "@jupyter-widgets/base",
            "top": null,
            "grid_column": null,
            "overflow_y": null,
            "overflow_x": null,
            "grid_auto_flow": null,
            "grid_area": null,
            "grid_template_columns": null,
            "flex": null,
            "_model_name": "LayoutModel",
            "justify_items": null,
            "grid_row": null,
            "max_height": null,
            "align_content": null,
            "visibility": null,
            "align_self": null,
            "height": null,
            "min_height": null,
            "padding": null,
            "grid_auto_rows": null,
            "grid_gap": null,
            "max_width": null,
            "order": null,
            "_view_module_version": "1.2.0",
            "grid_template_areas": null,
            "object_position": null,
            "object_fit": null,
            "grid_auto_columns": null,
            "margin": null,
            "display": null,
            "left": null
          }
        },
        "ecf7eb3872314e7789921a07451b242a": {
          "model_module": "@jupyter-widgets/controls",
          "model_name": "IntProgressModel",
          "model_module_version": "1.5.0",
          "state": {
            "_view_name": "ProgressView",
            "style": "IPY_MODEL_dc24c31c279c4e52a0793b1483262e07",
            "_dom_classes": [],
            "description": "",
            "_model_name": "IntProgressModel",
            "bar_style": "success",
            "max": 1,
            "_view_module": "@jupyter-widgets/controls",
            "_model_module_version": "1.5.0",
            "value": 1,
            "_view_count": null,
            "_view_module_version": "1.5.0",
            "orientation": "horizontal",
            "min": 0,
            "description_tooltip": null,
            "_model_module": "@jupyter-widgets/controls",
            "layout": "IPY_MODEL_362559810add4572a2bb94fe24677992"
          }
        },
        "3634a03c8bc84c7abbac2115c5507bc2": {
          "model_module": "@jupyter-widgets/controls",
          "model_name": "HTMLModel",
          "model_module_version": "1.5.0",
          "state": {
            "_view_name": "HTMLView",
            "style": "IPY_MODEL_1425539fc33e4af9afa361c62a152b18",
            "_dom_classes": [],
            "description": "",
            "_model_name": "HTMLModel",
            "placeholder": "​",
            "_view_module": "@jupyter-widgets/controls",
            "_model_module_version": "1.5.0",
            "value": "9920512it [00:00, 10798900.52it/s]",
            "_view_count": null,
            "_view_module_version": "1.5.0",
            "description_tooltip": null,
            "_model_module": "@jupyter-widgets/controls",
            "layout": "IPY_MODEL_88ce042dac3047bb889ab95addec3c5b"
          }
        },
        "dc24c31c279c4e52a0793b1483262e07": {
          "model_module": "@jupyter-widgets/controls",
          "model_name": "ProgressStyleModel",
          "model_module_version": "1.5.0",
          "state": {
            "_view_name": "StyleView",
            "_model_name": "ProgressStyleModel",
            "description_width": "",
            "_view_module": "@jupyter-widgets/base",
            "_model_module_version": "1.5.0",
            "_view_count": null,
            "_view_module_version": "1.2.0",
            "bar_color": null,
            "_model_module": "@jupyter-widgets/controls"
          }
        },
        "362559810add4572a2bb94fe24677992": {
          "model_module": "@jupyter-widgets/base",
          "model_name": "LayoutModel",
          "model_module_version": "1.2.0",
          "state": {
            "_view_name": "LayoutView",
            "grid_template_rows": null,
            "right": null,
            "justify_content": null,
            "_view_module": "@jupyter-widgets/base",
            "overflow": null,
            "_model_module_version": "1.2.0",
            "_view_count": null,
            "flex_flow": null,
            "width": null,
            "min_width": null,
            "border": null,
            "align_items": null,
            "bottom": null,
            "_model_module": "@jupyter-widgets/base",
            "top": null,
            "grid_column": null,
            "overflow_y": null,
            "overflow_x": null,
            "grid_auto_flow": null,
            "grid_area": null,
            "grid_template_columns": null,
            "flex": null,
            "_model_name": "LayoutModel",
            "justify_items": null,
            "grid_row": null,
            "max_height": null,
            "align_content": null,
            "visibility": null,
            "align_self": null,
            "height": null,
            "min_height": null,
            "padding": null,
            "grid_auto_rows": null,
            "grid_gap": null,
            "max_width": null,
            "order": null,
            "_view_module_version": "1.2.0",
            "grid_template_areas": null,
            "object_position": null,
            "object_fit": null,
            "grid_auto_columns": null,
            "margin": null,
            "display": null,
            "left": null
          }
        },
        "1425539fc33e4af9afa361c62a152b18": {
          "model_module": "@jupyter-widgets/controls",
          "model_name": "DescriptionStyleModel",
          "model_module_version": "1.5.0",
          "state": {
            "_view_name": "StyleView",
            "_model_name": "DescriptionStyleModel",
            "description_width": "",
            "_view_module": "@jupyter-widgets/base",
            "_model_module_version": "1.5.0",
            "_view_count": null,
            "_view_module_version": "1.2.0",
            "_model_module": "@jupyter-widgets/controls"
          }
        },
        "88ce042dac3047bb889ab95addec3c5b": {
          "model_module": "@jupyter-widgets/base",
          "model_name": "LayoutModel",
          "model_module_version": "1.2.0",
          "state": {
            "_view_name": "LayoutView",
            "grid_template_rows": null,
            "right": null,
            "justify_content": null,
            "_view_module": "@jupyter-widgets/base",
            "overflow": null,
            "_model_module_version": "1.2.0",
            "_view_count": null,
            "flex_flow": null,
            "width": null,
            "min_width": null,
            "border": null,
            "align_items": null,
            "bottom": null,
            "_model_module": "@jupyter-widgets/base",
            "top": null,
            "grid_column": null,
            "overflow_y": null,
            "overflow_x": null,
            "grid_auto_flow": null,
            "grid_area": null,
            "grid_template_columns": null,
            "flex": null,
            "_model_name": "LayoutModel",
            "justify_items": null,
            "grid_row": null,
            "max_height": null,
            "align_content": null,
            "visibility": null,
            "align_self": null,
            "height": null,
            "min_height": null,
            "padding": null,
            "grid_auto_rows": null,
            "grid_gap": null,
            "max_width": null,
            "order": null,
            "_view_module_version": "1.2.0",
            "grid_template_areas": null,
            "object_position": null,
            "object_fit": null,
            "grid_auto_columns": null,
            "margin": null,
            "display": null,
            "left": null
          }
        },
        "77108867ccf14191ba84e64917ab2484": {
          "model_module": "@jupyter-widgets/controls",
          "model_name": "HBoxModel",
          "model_module_version": "1.5.0",
          "state": {
            "_view_name": "HBoxView",
            "_dom_classes": [],
            "_model_name": "HBoxModel",
            "_view_module": "@jupyter-widgets/controls",
            "_model_module_version": "1.5.0",
            "_view_count": null,
            "_view_module_version": "1.5.0",
            "box_style": "",
            "layout": "IPY_MODEL_017dd81a504f4074aa5935cbc367533b",
            "_model_module": "@jupyter-widgets/controls",
            "children": [
              "IPY_MODEL_6040affd59724270b3e439746c3b9887",
              "IPY_MODEL_ed029c1b8bd34966b8aa328f09599930"
            ]
          }
        },
        "017dd81a504f4074aa5935cbc367533b": {
          "model_module": "@jupyter-widgets/base",
          "model_name": "LayoutModel",
          "model_module_version": "1.2.0",
          "state": {
            "_view_name": "LayoutView",
            "grid_template_rows": null,
            "right": null,
            "justify_content": null,
            "_view_module": "@jupyter-widgets/base",
            "overflow": null,
            "_model_module_version": "1.2.0",
            "_view_count": null,
            "flex_flow": null,
            "width": null,
            "min_width": null,
            "border": null,
            "align_items": null,
            "bottom": null,
            "_model_module": "@jupyter-widgets/base",
            "top": null,
            "grid_column": null,
            "overflow_y": null,
            "overflow_x": null,
            "grid_auto_flow": null,
            "grid_area": null,
            "grid_template_columns": null,
            "flex": null,
            "_model_name": "LayoutModel",
            "justify_items": null,
            "grid_row": null,
            "max_height": null,
            "align_content": null,
            "visibility": null,
            "align_self": null,
            "height": null,
            "min_height": null,
            "padding": null,
            "grid_auto_rows": null,
            "grid_gap": null,
            "max_width": null,
            "order": null,
            "_view_module_version": "1.2.0",
            "grid_template_areas": null,
            "object_position": null,
            "object_fit": null,
            "grid_auto_columns": null,
            "margin": null,
            "display": null,
            "left": null
          }
        },
        "6040affd59724270b3e439746c3b9887": {
          "model_module": "@jupyter-widgets/controls",
          "model_name": "IntProgressModel",
          "model_module_version": "1.5.0",
          "state": {
            "_view_name": "ProgressView",
            "style": "IPY_MODEL_8c93212633a74906858ec658cca734cc",
            "_dom_classes": [],
            "description": "",
            "_model_name": "IntProgressModel",
            "bar_style": "success",
            "max": 1,
            "_view_module": "@jupyter-widgets/controls",
            "_model_module_version": "1.5.0",
            "value": 1,
            "_view_count": null,
            "_view_module_version": "1.5.0",
            "orientation": "horizontal",
            "min": 0,
            "description_tooltip": null,
            "_model_module": "@jupyter-widgets/controls",
            "layout": "IPY_MODEL_ea8e10d5788d4f00a7f599090c7aec3b"
          }
        },
        "ed029c1b8bd34966b8aa328f09599930": {
          "model_module": "@jupyter-widgets/controls",
          "model_name": "HTMLModel",
          "model_module_version": "1.5.0",
          "state": {
            "_view_name": "HTMLView",
            "style": "IPY_MODEL_346537770db4439d8822b5076d18860f",
            "_dom_classes": [],
            "description": "",
            "_model_name": "HTMLModel",
            "placeholder": "​",
            "_view_module": "@jupyter-widgets/controls",
            "_model_module_version": "1.5.0",
            "value": "32768it [00:00, 112409.61it/s]",
            "_view_count": null,
            "_view_module_version": "1.5.0",
            "description_tooltip": null,
            "_model_module": "@jupyter-widgets/controls",
            "layout": "IPY_MODEL_0082f8c9359f4114a6022e393a6d3fa6"
          }
        },
        "8c93212633a74906858ec658cca734cc": {
          "model_module": "@jupyter-widgets/controls",
          "model_name": "ProgressStyleModel",
          "model_module_version": "1.5.0",
          "state": {
            "_view_name": "StyleView",
            "_model_name": "ProgressStyleModel",
            "description_width": "",
            "_view_module": "@jupyter-widgets/base",
            "_model_module_version": "1.5.0",
            "_view_count": null,
            "_view_module_version": "1.2.0",
            "bar_color": null,
            "_model_module": "@jupyter-widgets/controls"
          }
        },
        "ea8e10d5788d4f00a7f599090c7aec3b": {
          "model_module": "@jupyter-widgets/base",
          "model_name": "LayoutModel",
          "model_module_version": "1.2.0",
          "state": {
            "_view_name": "LayoutView",
            "grid_template_rows": null,
            "right": null,
            "justify_content": null,
            "_view_module": "@jupyter-widgets/base",
            "overflow": null,
            "_model_module_version": "1.2.0",
            "_view_count": null,
            "flex_flow": null,
            "width": null,
            "min_width": null,
            "border": null,
            "align_items": null,
            "bottom": null,
            "_model_module": "@jupyter-widgets/base",
            "top": null,
            "grid_column": null,
            "overflow_y": null,
            "overflow_x": null,
            "grid_auto_flow": null,
            "grid_area": null,
            "grid_template_columns": null,
            "flex": null,
            "_model_name": "LayoutModel",
            "justify_items": null,
            "grid_row": null,
            "max_height": null,
            "align_content": null,
            "visibility": null,
            "align_self": null,
            "height": null,
            "min_height": null,
            "padding": null,
            "grid_auto_rows": null,
            "grid_gap": null,
            "max_width": null,
            "order": null,
            "_view_module_version": "1.2.0",
            "grid_template_areas": null,
            "object_position": null,
            "object_fit": null,
            "grid_auto_columns": null,
            "margin": null,
            "display": null,
            "left": null
          }
        },
        "346537770db4439d8822b5076d18860f": {
          "model_module": "@jupyter-widgets/controls",
          "model_name": "DescriptionStyleModel",
          "model_module_version": "1.5.0",
          "state": {
            "_view_name": "StyleView",
            "_model_name": "DescriptionStyleModel",
            "description_width": "",
            "_view_module": "@jupyter-widgets/base",
            "_model_module_version": "1.5.0",
            "_view_count": null,
            "_view_module_version": "1.2.0",
            "_model_module": "@jupyter-widgets/controls"
          }
        },
        "0082f8c9359f4114a6022e393a6d3fa6": {
          "model_module": "@jupyter-widgets/base",
          "model_name": "LayoutModel",
          "model_module_version": "1.2.0",
          "state": {
            "_view_name": "LayoutView",
            "grid_template_rows": null,
            "right": null,
            "justify_content": null,
            "_view_module": "@jupyter-widgets/base",
            "overflow": null,
            "_model_module_version": "1.2.0",
            "_view_count": null,
            "flex_flow": null,
            "width": null,
            "min_width": null,
            "border": null,
            "align_items": null,
            "bottom": null,
            "_model_module": "@jupyter-widgets/base",
            "top": null,
            "grid_column": null,
            "overflow_y": null,
            "overflow_x": null,
            "grid_auto_flow": null,
            "grid_area": null,
            "grid_template_columns": null,
            "flex": null,
            "_model_name": "LayoutModel",
            "justify_items": null,
            "grid_row": null,
            "max_height": null,
            "align_content": null,
            "visibility": null,
            "align_self": null,
            "height": null,
            "min_height": null,
            "padding": null,
            "grid_auto_rows": null,
            "grid_gap": null,
            "max_width": null,
            "order": null,
            "_view_module_version": "1.2.0",
            "grid_template_areas": null,
            "object_position": null,
            "object_fit": null,
            "grid_auto_columns": null,
            "margin": null,
            "display": null,
            "left": null
          }
        },
        "bce76872a48f4f3bb48eb8bb6d3f6cdc": {
          "model_module": "@jupyter-widgets/controls",
          "model_name": "HBoxModel",
          "model_module_version": "1.5.0",
          "state": {
            "_view_name": "HBoxView",
            "_dom_classes": [],
            "_model_name": "HBoxModel",
            "_view_module": "@jupyter-widgets/controls",
            "_model_module_version": "1.5.0",
            "_view_count": null,
            "_view_module_version": "1.5.0",
            "box_style": "",
            "layout": "IPY_MODEL_555d1da6dbd94ccf98e3f812f7829e99",
            "_model_module": "@jupyter-widgets/controls",
            "children": [
              "IPY_MODEL_d199b2b674bb42b8a7e4d90f0c02587a",
              "IPY_MODEL_975d5256e01e4ec89aeab48542e9e2fc"
            ]
          }
        },
        "555d1da6dbd94ccf98e3f812f7829e99": {
          "model_module": "@jupyter-widgets/base",
          "model_name": "LayoutModel",
          "model_module_version": "1.2.0",
          "state": {
            "_view_name": "LayoutView",
            "grid_template_rows": null,
            "right": null,
            "justify_content": null,
            "_view_module": "@jupyter-widgets/base",
            "overflow": null,
            "_model_module_version": "1.2.0",
            "_view_count": null,
            "flex_flow": null,
            "width": null,
            "min_width": null,
            "border": null,
            "align_items": null,
            "bottom": null,
            "_model_module": "@jupyter-widgets/base",
            "top": null,
            "grid_column": null,
            "overflow_y": null,
            "overflow_x": null,
            "grid_auto_flow": null,
            "grid_area": null,
            "grid_template_columns": null,
            "flex": null,
            "_model_name": "LayoutModel",
            "justify_items": null,
            "grid_row": null,
            "max_height": null,
            "align_content": null,
            "visibility": null,
            "align_self": null,
            "height": null,
            "min_height": null,
            "padding": null,
            "grid_auto_rows": null,
            "grid_gap": null,
            "max_width": null,
            "order": null,
            "_view_module_version": "1.2.0",
            "grid_template_areas": null,
            "object_position": null,
            "object_fit": null,
            "grid_auto_columns": null,
            "margin": null,
            "display": null,
            "left": null
          }
        },
        "d199b2b674bb42b8a7e4d90f0c02587a": {
          "model_module": "@jupyter-widgets/controls",
          "model_name": "IntProgressModel",
          "model_module_version": "1.5.0",
          "state": {
            "_view_name": "ProgressView",
            "style": "IPY_MODEL_174be500fe5e44398f10b98e2576c39e",
            "_dom_classes": [],
            "description": "",
            "_model_name": "IntProgressModel",
            "bar_style": "success",
            "max": 1,
            "_view_module": "@jupyter-widgets/controls",
            "_model_module_version": "1.5.0",
            "value": 1,
            "_view_count": null,
            "_view_module_version": "1.5.0",
            "orientation": "horizontal",
            "min": 0,
            "description_tooltip": null,
            "_model_module": "@jupyter-widgets/controls",
            "layout": "IPY_MODEL_9c701865dfc7454683733166a06db113"
          }
        },
        "975d5256e01e4ec89aeab48542e9e2fc": {
          "model_module": "@jupyter-widgets/controls",
          "model_name": "HTMLModel",
          "model_module_version": "1.5.0",
          "state": {
            "_view_name": "HTMLView",
            "style": "IPY_MODEL_6dd21088ddb74294a0d6f1b834e24e59",
            "_dom_classes": [],
            "description": "",
            "_model_name": "HTMLModel",
            "placeholder": "​",
            "_view_module": "@jupyter-widgets/controls",
            "_model_module_version": "1.5.0",
            "value": "1654784it [00:00, 2638113.10it/s]",
            "_view_count": null,
            "_view_module_version": "1.5.0",
            "description_tooltip": null,
            "_model_module": "@jupyter-widgets/controls",
            "layout": "IPY_MODEL_43bcc1160d9c445fb5523f80e0c7f84a"
          }
        },
        "174be500fe5e44398f10b98e2576c39e": {
          "model_module": "@jupyter-widgets/controls",
          "model_name": "ProgressStyleModel",
          "model_module_version": "1.5.0",
          "state": {
            "_view_name": "StyleView",
            "_model_name": "ProgressStyleModel",
            "description_width": "",
            "_view_module": "@jupyter-widgets/base",
            "_model_module_version": "1.5.0",
            "_view_count": null,
            "_view_module_version": "1.2.0",
            "bar_color": null,
            "_model_module": "@jupyter-widgets/controls"
          }
        },
        "9c701865dfc7454683733166a06db113": {
          "model_module": "@jupyter-widgets/base",
          "model_name": "LayoutModel",
          "model_module_version": "1.2.0",
          "state": {
            "_view_name": "LayoutView",
            "grid_template_rows": null,
            "right": null,
            "justify_content": null,
            "_view_module": "@jupyter-widgets/base",
            "overflow": null,
            "_model_module_version": "1.2.0",
            "_view_count": null,
            "flex_flow": null,
            "width": null,
            "min_width": null,
            "border": null,
            "align_items": null,
            "bottom": null,
            "_model_module": "@jupyter-widgets/base",
            "top": null,
            "grid_column": null,
            "overflow_y": null,
            "overflow_x": null,
            "grid_auto_flow": null,
            "grid_area": null,
            "grid_template_columns": null,
            "flex": null,
            "_model_name": "LayoutModel",
            "justify_items": null,
            "grid_row": null,
            "max_height": null,
            "align_content": null,
            "visibility": null,
            "align_self": null,
            "height": null,
            "min_height": null,
            "padding": null,
            "grid_auto_rows": null,
            "grid_gap": null,
            "max_width": null,
            "order": null,
            "_view_module_version": "1.2.0",
            "grid_template_areas": null,
            "object_position": null,
            "object_fit": null,
            "grid_auto_columns": null,
            "margin": null,
            "display": null,
            "left": null
          }
        },
        "6dd21088ddb74294a0d6f1b834e24e59": {
          "model_module": "@jupyter-widgets/controls",
          "model_name": "DescriptionStyleModel",
          "model_module_version": "1.5.0",
          "state": {
            "_view_name": "StyleView",
            "_model_name": "DescriptionStyleModel",
            "description_width": "",
            "_view_module": "@jupyter-widgets/base",
            "_model_module_version": "1.5.0",
            "_view_count": null,
            "_view_module_version": "1.2.0",
            "_model_module": "@jupyter-widgets/controls"
          }
        },
        "43bcc1160d9c445fb5523f80e0c7f84a": {
          "model_module": "@jupyter-widgets/base",
          "model_name": "LayoutModel",
          "model_module_version": "1.2.0",
          "state": {
            "_view_name": "LayoutView",
            "grid_template_rows": null,
            "right": null,
            "justify_content": null,
            "_view_module": "@jupyter-widgets/base",
            "overflow": null,
            "_model_module_version": "1.2.0",
            "_view_count": null,
            "flex_flow": null,
            "width": null,
            "min_width": null,
            "border": null,
            "align_items": null,
            "bottom": null,
            "_model_module": "@jupyter-widgets/base",
            "top": null,
            "grid_column": null,
            "overflow_y": null,
            "overflow_x": null,
            "grid_auto_flow": null,
            "grid_area": null,
            "grid_template_columns": null,
            "flex": null,
            "_model_name": "LayoutModel",
            "justify_items": null,
            "grid_row": null,
            "max_height": null,
            "align_content": null,
            "visibility": null,
            "align_self": null,
            "height": null,
            "min_height": null,
            "padding": null,
            "grid_auto_rows": null,
            "grid_gap": null,
            "max_width": null,
            "order": null,
            "_view_module_version": "1.2.0",
            "grid_template_areas": null,
            "object_position": null,
            "object_fit": null,
            "grid_auto_columns": null,
            "margin": null,
            "display": null,
            "left": null
          }
        },
        "6bcf60e8b39b4ba88a73ec4ee6303f4a": {
          "model_module": "@jupyter-widgets/controls",
          "model_name": "HBoxModel",
          "model_module_version": "1.5.0",
          "state": {
            "_view_name": "HBoxView",
            "_dom_classes": [],
            "_model_name": "HBoxModel",
            "_view_module": "@jupyter-widgets/controls",
            "_model_module_version": "1.5.0",
            "_view_count": null,
            "_view_module_version": "1.5.0",
            "box_style": "",
            "layout": "IPY_MODEL_2f9a827c6c03459eae758e6a7f96025d",
            "_model_module": "@jupyter-widgets/controls",
            "children": [
              "IPY_MODEL_c038bfeff2224a18b4c85c2c2110d57f",
              "IPY_MODEL_2b4d2ba717f74732abf8c345b9a92de7"
            ]
          }
        },
        "2f9a827c6c03459eae758e6a7f96025d": {
          "model_module": "@jupyter-widgets/base",
          "model_name": "LayoutModel",
          "model_module_version": "1.2.0",
          "state": {
            "_view_name": "LayoutView",
            "grid_template_rows": null,
            "right": null,
            "justify_content": null,
            "_view_module": "@jupyter-widgets/base",
            "overflow": null,
            "_model_module_version": "1.2.0",
            "_view_count": null,
            "flex_flow": null,
            "width": null,
            "min_width": null,
            "border": null,
            "align_items": null,
            "bottom": null,
            "_model_module": "@jupyter-widgets/base",
            "top": null,
            "grid_column": null,
            "overflow_y": null,
            "overflow_x": null,
            "grid_auto_flow": null,
            "grid_area": null,
            "grid_template_columns": null,
            "flex": null,
            "_model_name": "LayoutModel",
            "justify_items": null,
            "grid_row": null,
            "max_height": null,
            "align_content": null,
            "visibility": null,
            "align_self": null,
            "height": null,
            "min_height": null,
            "padding": null,
            "grid_auto_rows": null,
            "grid_gap": null,
            "max_width": null,
            "order": null,
            "_view_module_version": "1.2.0",
            "grid_template_areas": null,
            "object_position": null,
            "object_fit": null,
            "grid_auto_columns": null,
            "margin": null,
            "display": null,
            "left": null
          }
        },
        "c038bfeff2224a18b4c85c2c2110d57f": {
          "model_module": "@jupyter-widgets/controls",
          "model_name": "IntProgressModel",
          "model_module_version": "1.5.0",
          "state": {
            "_view_name": "ProgressView",
            "style": "IPY_MODEL_7a4d33f75885425f80add82badfef386",
            "_dom_classes": [],
            "description": "",
            "_model_name": "IntProgressModel",
            "bar_style": "success",
            "max": 1,
            "_view_module": "@jupyter-widgets/controls",
            "_model_module_version": "1.5.0",
            "value": 1,
            "_view_count": null,
            "_view_module_version": "1.5.0",
            "orientation": "horizontal",
            "min": 0,
            "description_tooltip": null,
            "_model_module": "@jupyter-widgets/controls",
            "layout": "IPY_MODEL_47e6c618e120447cbf4aeef0e51c6e52"
          }
        },
        "2b4d2ba717f74732abf8c345b9a92de7": {
          "model_module": "@jupyter-widgets/controls",
          "model_name": "HTMLModel",
          "model_module_version": "1.5.0",
          "state": {
            "_view_name": "HTMLView",
            "style": "IPY_MODEL_025543aef58047f9bb86a2cdc9d2bbdf",
            "_dom_classes": [],
            "description": "",
            "_model_name": "HTMLModel",
            "placeholder": "​",
            "_view_module": "@jupyter-widgets/controls",
            "_model_module_version": "1.5.0",
            "value": "8192it [00:00, 36249.08it/s]",
            "_view_count": null,
            "_view_module_version": "1.5.0",
            "description_tooltip": null,
            "_model_module": "@jupyter-widgets/controls",
            "layout": "IPY_MODEL_688e1bcdeb67474aaf3242ee1e62afc5"
          }
        },
        "7a4d33f75885425f80add82badfef386": {
          "model_module": "@jupyter-widgets/controls",
          "model_name": "ProgressStyleModel",
          "model_module_version": "1.5.0",
          "state": {
            "_view_name": "StyleView",
            "_model_name": "ProgressStyleModel",
            "description_width": "",
            "_view_module": "@jupyter-widgets/base",
            "_model_module_version": "1.5.0",
            "_view_count": null,
            "_view_module_version": "1.2.0",
            "bar_color": null,
            "_model_module": "@jupyter-widgets/controls"
          }
        },
        "47e6c618e120447cbf4aeef0e51c6e52": {
          "model_module": "@jupyter-widgets/base",
          "model_name": "LayoutModel",
          "model_module_version": "1.2.0",
          "state": {
            "_view_name": "LayoutView",
            "grid_template_rows": null,
            "right": null,
            "justify_content": null,
            "_view_module": "@jupyter-widgets/base",
            "overflow": null,
            "_model_module_version": "1.2.0",
            "_view_count": null,
            "flex_flow": null,
            "width": null,
            "min_width": null,
            "border": null,
            "align_items": null,
            "bottom": null,
            "_model_module": "@jupyter-widgets/base",
            "top": null,
            "grid_column": null,
            "overflow_y": null,
            "overflow_x": null,
            "grid_auto_flow": null,
            "grid_area": null,
            "grid_template_columns": null,
            "flex": null,
            "_model_name": "LayoutModel",
            "justify_items": null,
            "grid_row": null,
            "max_height": null,
            "align_content": null,
            "visibility": null,
            "align_self": null,
            "height": null,
            "min_height": null,
            "padding": null,
            "grid_auto_rows": null,
            "grid_gap": null,
            "max_width": null,
            "order": null,
            "_view_module_version": "1.2.0",
            "grid_template_areas": null,
            "object_position": null,
            "object_fit": null,
            "grid_auto_columns": null,
            "margin": null,
            "display": null,
            "left": null
          }
        },
        "025543aef58047f9bb86a2cdc9d2bbdf": {
          "model_module": "@jupyter-widgets/controls",
          "model_name": "DescriptionStyleModel",
          "model_module_version": "1.5.0",
          "state": {
            "_view_name": "StyleView",
            "_model_name": "DescriptionStyleModel",
            "description_width": "",
            "_view_module": "@jupyter-widgets/base",
            "_model_module_version": "1.5.0",
            "_view_count": null,
            "_view_module_version": "1.2.0",
            "_model_module": "@jupyter-widgets/controls"
          }
        },
        "688e1bcdeb67474aaf3242ee1e62afc5": {
          "model_module": "@jupyter-widgets/base",
          "model_name": "LayoutModel",
          "model_module_version": "1.2.0",
          "state": {
            "_view_name": "LayoutView",
            "grid_template_rows": null,
            "right": null,
            "justify_content": null,
            "_view_module": "@jupyter-widgets/base",
            "overflow": null,
            "_model_module_version": "1.2.0",
            "_view_count": null,
            "flex_flow": null,
            "width": null,
            "min_width": null,
            "border": null,
            "align_items": null,
            "bottom": null,
            "_model_module": "@jupyter-widgets/base",
            "top": null,
            "grid_column": null,
            "overflow_y": null,
            "overflow_x": null,
            "grid_auto_flow": null,
            "grid_area": null,
            "grid_template_columns": null,
            "flex": null,
            "_model_name": "LayoutModel",
            "justify_items": null,
            "grid_row": null,
            "max_height": null,
            "align_content": null,
            "visibility": null,
            "align_self": null,
            "height": null,
            "min_height": null,
            "padding": null,
            "grid_auto_rows": null,
            "grid_gap": null,
            "max_width": null,
            "order": null,
            "_view_module_version": "1.2.0",
            "grid_template_areas": null,
            "object_position": null,
            "object_fit": null,
            "grid_auto_columns": null,
            "margin": null,
            "display": null,
            "left": null
          }
        },
        "f519a017760b46a4ad8b979320f0114d": {
          "model_module": "@jupyter-widgets/controls",
          "model_name": "HBoxModel",
          "model_module_version": "1.5.0",
          "state": {
            "_view_name": "HBoxView",
            "_dom_classes": [],
            "_model_name": "HBoxModel",
            "_view_module": "@jupyter-widgets/controls",
            "_model_module_version": "1.5.0",
            "_view_count": null,
            "_view_module_version": "1.5.0",
            "box_style": "",
            "layout": "IPY_MODEL_b7f7f0d702054c73b531dfaf53eed71f",
            "_model_module": "@jupyter-widgets/controls",
            "children": [
              "IPY_MODEL_75c6d761369b4bad8d9f80b481a102cf",
              "IPY_MODEL_279300723eb649a4b17f5a1fb635266a"
            ]
          }
        },
        "b7f7f0d702054c73b531dfaf53eed71f": {
          "model_module": "@jupyter-widgets/base",
          "model_name": "LayoutModel",
          "model_module_version": "1.2.0",
          "state": {
            "_view_name": "LayoutView",
            "grid_template_rows": null,
            "right": null,
            "justify_content": null,
            "_view_module": "@jupyter-widgets/base",
            "overflow": null,
            "_model_module_version": "1.2.0",
            "_view_count": null,
            "flex_flow": null,
            "width": null,
            "min_width": null,
            "border": null,
            "align_items": null,
            "bottom": null,
            "_model_module": "@jupyter-widgets/base",
            "top": null,
            "grid_column": null,
            "overflow_y": null,
            "overflow_x": null,
            "grid_auto_flow": null,
            "grid_area": null,
            "grid_template_columns": null,
            "flex": null,
            "_model_name": "LayoutModel",
            "justify_items": null,
            "grid_row": null,
            "max_height": null,
            "align_content": null,
            "visibility": null,
            "align_self": null,
            "height": null,
            "min_height": null,
            "padding": null,
            "grid_auto_rows": null,
            "grid_gap": null,
            "max_width": null,
            "order": null,
            "_view_module_version": "1.2.0",
            "grid_template_areas": null,
            "object_position": null,
            "object_fit": null,
            "grid_auto_columns": null,
            "margin": null,
            "display": null,
            "left": null
          }
        },
        "75c6d761369b4bad8d9f80b481a102cf": {
          "model_module": "@jupyter-widgets/controls",
          "model_name": "IntProgressModel",
          "model_module_version": "1.5.0",
          "state": {
            "_view_name": "ProgressView",
            "style": "IPY_MODEL_37181eafcf624c25aa234df64fc24b6d",
            "_dom_classes": [],
            "description": "",
            "_model_name": "IntProgressModel",
            "bar_style": "success",
            "max": 1,
            "_view_module": "@jupyter-widgets/controls",
            "_model_module_version": "1.5.0",
            "value": 1,
            "_view_count": null,
            "_view_module_version": "1.5.0",
            "orientation": "horizontal",
            "min": 0,
            "description_tooltip": null,
            "_model_module": "@jupyter-widgets/controls",
            "layout": "IPY_MODEL_c0b7a30c047947d1a4cf66dc97f4f340"
          }
        },
        "279300723eb649a4b17f5a1fb635266a": {
          "model_module": "@jupyter-widgets/controls",
          "model_name": "HTMLModel",
          "model_module_version": "1.5.0",
          "state": {
            "_view_name": "HTMLView",
            "style": "IPY_MODEL_ea7da111562f441e8dfc494523dc2ffb",
            "_dom_classes": [],
            "description": "",
            "_model_name": "HTMLModel",
            "placeholder": "​",
            "_view_module": "@jupyter-widgets/controls",
            "_model_module_version": "1.5.0",
            "value": "26427392it [00:02, 10635897.51it/s]",
            "_view_count": null,
            "_view_module_version": "1.5.0",
            "description_tooltip": null,
            "_model_module": "@jupyter-widgets/controls",
            "layout": "IPY_MODEL_49e2b74cacc849d48e47262beb5771aa"
          }
        },
        "37181eafcf624c25aa234df64fc24b6d": {
          "model_module": "@jupyter-widgets/controls",
          "model_name": "ProgressStyleModel",
          "model_module_version": "1.5.0",
          "state": {
            "_view_name": "StyleView",
            "_model_name": "ProgressStyleModel",
            "description_width": "",
            "_view_module": "@jupyter-widgets/base",
            "_model_module_version": "1.5.0",
            "_view_count": null,
            "_view_module_version": "1.2.0",
            "bar_color": null,
            "_model_module": "@jupyter-widgets/controls"
          }
        },
        "c0b7a30c047947d1a4cf66dc97f4f340": {
          "model_module": "@jupyter-widgets/base",
          "model_name": "LayoutModel",
          "model_module_version": "1.2.0",
          "state": {
            "_view_name": "LayoutView",
            "grid_template_rows": null,
            "right": null,
            "justify_content": null,
            "_view_module": "@jupyter-widgets/base",
            "overflow": null,
            "_model_module_version": "1.2.0",
            "_view_count": null,
            "flex_flow": null,
            "width": null,
            "min_width": null,
            "border": null,
            "align_items": null,
            "bottom": null,
            "_model_module": "@jupyter-widgets/base",
            "top": null,
            "grid_column": null,
            "overflow_y": null,
            "overflow_x": null,
            "grid_auto_flow": null,
            "grid_area": null,
            "grid_template_columns": null,
            "flex": null,
            "_model_name": "LayoutModel",
            "justify_items": null,
            "grid_row": null,
            "max_height": null,
            "align_content": null,
            "visibility": null,
            "align_self": null,
            "height": null,
            "min_height": null,
            "padding": null,
            "grid_auto_rows": null,
            "grid_gap": null,
            "max_width": null,
            "order": null,
            "_view_module_version": "1.2.0",
            "grid_template_areas": null,
            "object_position": null,
            "object_fit": null,
            "grid_auto_columns": null,
            "margin": null,
            "display": null,
            "left": null
          }
        },
        "ea7da111562f441e8dfc494523dc2ffb": {
          "model_module": "@jupyter-widgets/controls",
          "model_name": "DescriptionStyleModel",
          "model_module_version": "1.5.0",
          "state": {
            "_view_name": "StyleView",
            "_model_name": "DescriptionStyleModel",
            "description_width": "",
            "_view_module": "@jupyter-widgets/base",
            "_model_module_version": "1.5.0",
            "_view_count": null,
            "_view_module_version": "1.2.0",
            "_model_module": "@jupyter-widgets/controls"
          }
        },
        "49e2b74cacc849d48e47262beb5771aa": {
          "model_module": "@jupyter-widgets/base",
          "model_name": "LayoutModel",
          "model_module_version": "1.2.0",
          "state": {
            "_view_name": "LayoutView",
            "grid_template_rows": null,
            "right": null,
            "justify_content": null,
            "_view_module": "@jupyter-widgets/base",
            "overflow": null,
            "_model_module_version": "1.2.0",
            "_view_count": null,
            "flex_flow": null,
            "width": null,
            "min_width": null,
            "border": null,
            "align_items": null,
            "bottom": null,
            "_model_module": "@jupyter-widgets/base",
            "top": null,
            "grid_column": null,
            "overflow_y": null,
            "overflow_x": null,
            "grid_auto_flow": null,
            "grid_area": null,
            "grid_template_columns": null,
            "flex": null,
            "_model_name": "LayoutModel",
            "justify_items": null,
            "grid_row": null,
            "max_height": null,
            "align_content": null,
            "visibility": null,
            "align_self": null,
            "height": null,
            "min_height": null,
            "padding": null,
            "grid_auto_rows": null,
            "grid_gap": null,
            "max_width": null,
            "order": null,
            "_view_module_version": "1.2.0",
            "grid_template_areas": null,
            "object_position": null,
            "object_fit": null,
            "grid_auto_columns": null,
            "margin": null,
            "display": null,
            "left": null
          }
        },
        "378965ae989e4e609b174a221f3bedc8": {
          "model_module": "@jupyter-widgets/controls",
          "model_name": "HBoxModel",
          "model_module_version": "1.5.0",
          "state": {
            "_view_name": "HBoxView",
            "_dom_classes": [],
            "_model_name": "HBoxModel",
            "_view_module": "@jupyter-widgets/controls",
            "_model_module_version": "1.5.0",
            "_view_count": null,
            "_view_module_version": "1.5.0",
            "box_style": "",
            "layout": "IPY_MODEL_0666e66834c6441db676921732751f20",
            "_model_module": "@jupyter-widgets/controls",
            "children": [
              "IPY_MODEL_72722ac2d8a24828b389912d8b865452",
              "IPY_MODEL_eeb3632735a1431a9c6dd2ac68de1b36"
            ]
          }
        },
        "0666e66834c6441db676921732751f20": {
          "model_module": "@jupyter-widgets/base",
          "model_name": "LayoutModel",
          "model_module_version": "1.2.0",
          "state": {
            "_view_name": "LayoutView",
            "grid_template_rows": null,
            "right": null,
            "justify_content": null,
            "_view_module": "@jupyter-widgets/base",
            "overflow": null,
            "_model_module_version": "1.2.0",
            "_view_count": null,
            "flex_flow": null,
            "width": null,
            "min_width": null,
            "border": null,
            "align_items": null,
            "bottom": null,
            "_model_module": "@jupyter-widgets/base",
            "top": null,
            "grid_column": null,
            "overflow_y": null,
            "overflow_x": null,
            "grid_auto_flow": null,
            "grid_area": null,
            "grid_template_columns": null,
            "flex": null,
            "_model_name": "LayoutModel",
            "justify_items": null,
            "grid_row": null,
            "max_height": null,
            "align_content": null,
            "visibility": null,
            "align_self": null,
            "height": null,
            "min_height": null,
            "padding": null,
            "grid_auto_rows": null,
            "grid_gap": null,
            "max_width": null,
            "order": null,
            "_view_module_version": "1.2.0",
            "grid_template_areas": null,
            "object_position": null,
            "object_fit": null,
            "grid_auto_columns": null,
            "margin": null,
            "display": null,
            "left": null
          }
        },
        "72722ac2d8a24828b389912d8b865452": {
          "model_module": "@jupyter-widgets/controls",
          "model_name": "IntProgressModel",
          "model_module_version": "1.5.0",
          "state": {
            "_view_name": "ProgressView",
            "style": "IPY_MODEL_9cfb9cae296141078b01cf411b5e6089",
            "_dom_classes": [],
            "description": "",
            "_model_name": "IntProgressModel",
            "bar_style": "success",
            "max": 1,
            "_view_module": "@jupyter-widgets/controls",
            "_model_module_version": "1.5.0",
            "value": 1,
            "_view_count": null,
            "_view_module_version": "1.5.0",
            "orientation": "horizontal",
            "min": 0,
            "description_tooltip": null,
            "_model_module": "@jupyter-widgets/controls",
            "layout": "IPY_MODEL_f65f855689244a8d8e287f6676f5f672"
          }
        },
        "eeb3632735a1431a9c6dd2ac68de1b36": {
          "model_module": "@jupyter-widgets/controls",
          "model_name": "HTMLModel",
          "model_module_version": "1.5.0",
          "state": {
            "_view_name": "HTMLView",
            "style": "IPY_MODEL_317725c76f154e3c895ed67faaa704cb",
            "_dom_classes": [],
            "description": "",
            "_model_name": "HTMLModel",
            "placeholder": "​",
            "_view_module": "@jupyter-widgets/controls",
            "_model_module_version": "1.5.0",
            "value": "32768it [00:00, 69684.68it/s]",
            "_view_count": null,
            "_view_module_version": "1.5.0",
            "description_tooltip": null,
            "_model_module": "@jupyter-widgets/controls",
            "layout": "IPY_MODEL_97fb27ae70e84b8f9f2b8efe97a6191a"
          }
        },
        "9cfb9cae296141078b01cf411b5e6089": {
          "model_module": "@jupyter-widgets/controls",
          "model_name": "ProgressStyleModel",
          "model_module_version": "1.5.0",
          "state": {
            "_view_name": "StyleView",
            "_model_name": "ProgressStyleModel",
            "description_width": "",
            "_view_module": "@jupyter-widgets/base",
            "_model_module_version": "1.5.0",
            "_view_count": null,
            "_view_module_version": "1.2.0",
            "bar_color": null,
            "_model_module": "@jupyter-widgets/controls"
          }
        },
        "f65f855689244a8d8e287f6676f5f672": {
          "model_module": "@jupyter-widgets/base",
          "model_name": "LayoutModel",
          "model_module_version": "1.2.0",
          "state": {
            "_view_name": "LayoutView",
            "grid_template_rows": null,
            "right": null,
            "justify_content": null,
            "_view_module": "@jupyter-widgets/base",
            "overflow": null,
            "_model_module_version": "1.2.0",
            "_view_count": null,
            "flex_flow": null,
            "width": null,
            "min_width": null,
            "border": null,
            "align_items": null,
            "bottom": null,
            "_model_module": "@jupyter-widgets/base",
            "top": null,
            "grid_column": null,
            "overflow_y": null,
            "overflow_x": null,
            "grid_auto_flow": null,
            "grid_area": null,
            "grid_template_columns": null,
            "flex": null,
            "_model_name": "LayoutModel",
            "justify_items": null,
            "grid_row": null,
            "max_height": null,
            "align_content": null,
            "visibility": null,
            "align_self": null,
            "height": null,
            "min_height": null,
            "padding": null,
            "grid_auto_rows": null,
            "grid_gap": null,
            "max_width": null,
            "order": null,
            "_view_module_version": "1.2.0",
            "grid_template_areas": null,
            "object_position": null,
            "object_fit": null,
            "grid_auto_columns": null,
            "margin": null,
            "display": null,
            "left": null
          }
        },
        "317725c76f154e3c895ed67faaa704cb": {
          "model_module": "@jupyter-widgets/controls",
          "model_name": "DescriptionStyleModel",
          "model_module_version": "1.5.0",
          "state": {
            "_view_name": "StyleView",
            "_model_name": "DescriptionStyleModel",
            "description_width": "",
            "_view_module": "@jupyter-widgets/base",
            "_model_module_version": "1.5.0",
            "_view_count": null,
            "_view_module_version": "1.2.0",
            "_model_module": "@jupyter-widgets/controls"
          }
        },
        "97fb27ae70e84b8f9f2b8efe97a6191a": {
          "model_module": "@jupyter-widgets/base",
          "model_name": "LayoutModel",
          "model_module_version": "1.2.0",
          "state": {
            "_view_name": "LayoutView",
            "grid_template_rows": null,
            "right": null,
            "justify_content": null,
            "_view_module": "@jupyter-widgets/base",
            "overflow": null,
            "_model_module_version": "1.2.0",
            "_view_count": null,
            "flex_flow": null,
            "width": null,
            "min_width": null,
            "border": null,
            "align_items": null,
            "bottom": null,
            "_model_module": "@jupyter-widgets/base",
            "top": null,
            "grid_column": null,
            "overflow_y": null,
            "overflow_x": null,
            "grid_auto_flow": null,
            "grid_area": null,
            "grid_template_columns": null,
            "flex": null,
            "_model_name": "LayoutModel",
            "justify_items": null,
            "grid_row": null,
            "max_height": null,
            "align_content": null,
            "visibility": null,
            "align_self": null,
            "height": null,
            "min_height": null,
            "padding": null,
            "grid_auto_rows": null,
            "grid_gap": null,
            "max_width": null,
            "order": null,
            "_view_module_version": "1.2.0",
            "grid_template_areas": null,
            "object_position": null,
            "object_fit": null,
            "grid_auto_columns": null,
            "margin": null,
            "display": null,
            "left": null
          }
        },
        "72022c74af9f4436a78850001c2a7870": {
          "model_module": "@jupyter-widgets/controls",
          "model_name": "HBoxModel",
          "model_module_version": "1.5.0",
          "state": {
            "_view_name": "HBoxView",
            "_dom_classes": [],
            "_model_name": "HBoxModel",
            "_view_module": "@jupyter-widgets/controls",
            "_model_module_version": "1.5.0",
            "_view_count": null,
            "_view_module_version": "1.5.0",
            "box_style": "",
            "layout": "IPY_MODEL_251e300a1b3d4d7aa84cf33016d5d600",
            "_model_module": "@jupyter-widgets/controls",
            "children": [
              "IPY_MODEL_809a364e0e6e4552b52f9b2664f20fc3",
              "IPY_MODEL_72c3f92b8fce4370a48a4bd4b11f2c4f"
            ]
          }
        },
        "251e300a1b3d4d7aa84cf33016d5d600": {
          "model_module": "@jupyter-widgets/base",
          "model_name": "LayoutModel",
          "model_module_version": "1.2.0",
          "state": {
            "_view_name": "LayoutView",
            "grid_template_rows": null,
            "right": null,
            "justify_content": null,
            "_view_module": "@jupyter-widgets/base",
            "overflow": null,
            "_model_module_version": "1.2.0",
            "_view_count": null,
            "flex_flow": null,
            "width": null,
            "min_width": null,
            "border": null,
            "align_items": null,
            "bottom": null,
            "_model_module": "@jupyter-widgets/base",
            "top": null,
            "grid_column": null,
            "overflow_y": null,
            "overflow_x": null,
            "grid_auto_flow": null,
            "grid_area": null,
            "grid_template_columns": null,
            "flex": null,
            "_model_name": "LayoutModel",
            "justify_items": null,
            "grid_row": null,
            "max_height": null,
            "align_content": null,
            "visibility": null,
            "align_self": null,
            "height": null,
            "min_height": null,
            "padding": null,
            "grid_auto_rows": null,
            "grid_gap": null,
            "max_width": null,
            "order": null,
            "_view_module_version": "1.2.0",
            "grid_template_areas": null,
            "object_position": null,
            "object_fit": null,
            "grid_auto_columns": null,
            "margin": null,
            "display": null,
            "left": null
          }
        },
        "809a364e0e6e4552b52f9b2664f20fc3": {
          "model_module": "@jupyter-widgets/controls",
          "model_name": "IntProgressModel",
          "model_module_version": "1.5.0",
          "state": {
            "_view_name": "ProgressView",
            "style": "IPY_MODEL_8828c89c851d4e478fe44dfc458d2737",
            "_dom_classes": [],
            "description": "",
            "_model_name": "IntProgressModel",
            "bar_style": "success",
            "max": 1,
            "_view_module": "@jupyter-widgets/controls",
            "_model_module_version": "1.5.0",
            "value": 1,
            "_view_count": null,
            "_view_module_version": "1.5.0",
            "orientation": "horizontal",
            "min": 0,
            "description_tooltip": null,
            "_model_module": "@jupyter-widgets/controls",
            "layout": "IPY_MODEL_83a6c58afc1a4077b1a2c9e5a395afba"
          }
        },
        "72c3f92b8fce4370a48a4bd4b11f2c4f": {
          "model_module": "@jupyter-widgets/controls",
          "model_name": "HTMLModel",
          "model_module_version": "1.5.0",
          "state": {
            "_view_name": "HTMLView",
            "style": "IPY_MODEL_ced3e6ce69e345c59d066749ea4fe4f0",
            "_dom_classes": [],
            "description": "",
            "_model_name": "HTMLModel",
            "placeholder": "​",
            "_view_module": "@jupyter-widgets/controls",
            "_model_module_version": "1.5.0",
            "value": "4423680it [00:01, 3050858.34it/s]",
            "_view_count": null,
            "_view_module_version": "1.5.0",
            "description_tooltip": null,
            "_model_module": "@jupyter-widgets/controls",
            "layout": "IPY_MODEL_34aebaff202845df81c3a5fc8f6dc554"
          }
        },
        "8828c89c851d4e478fe44dfc458d2737": {
          "model_module": "@jupyter-widgets/controls",
          "model_name": "ProgressStyleModel",
          "model_module_version": "1.5.0",
          "state": {
            "_view_name": "StyleView",
            "_model_name": "ProgressStyleModel",
            "description_width": "",
            "_view_module": "@jupyter-widgets/base",
            "_model_module_version": "1.5.0",
            "_view_count": null,
            "_view_module_version": "1.2.0",
            "bar_color": null,
            "_model_module": "@jupyter-widgets/controls"
          }
        },
        "83a6c58afc1a4077b1a2c9e5a395afba": {
          "model_module": "@jupyter-widgets/base",
          "model_name": "LayoutModel",
          "model_module_version": "1.2.0",
          "state": {
            "_view_name": "LayoutView",
            "grid_template_rows": null,
            "right": null,
            "justify_content": null,
            "_view_module": "@jupyter-widgets/base",
            "overflow": null,
            "_model_module_version": "1.2.0",
            "_view_count": null,
            "flex_flow": null,
            "width": null,
            "min_width": null,
            "border": null,
            "align_items": null,
            "bottom": null,
            "_model_module": "@jupyter-widgets/base",
            "top": null,
            "grid_column": null,
            "overflow_y": null,
            "overflow_x": null,
            "grid_auto_flow": null,
            "grid_area": null,
            "grid_template_columns": null,
            "flex": null,
            "_model_name": "LayoutModel",
            "justify_items": null,
            "grid_row": null,
            "max_height": null,
            "align_content": null,
            "visibility": null,
            "align_self": null,
            "height": null,
            "min_height": null,
            "padding": null,
            "grid_auto_rows": null,
            "grid_gap": null,
            "max_width": null,
            "order": null,
            "_view_module_version": "1.2.0",
            "grid_template_areas": null,
            "object_position": null,
            "object_fit": null,
            "grid_auto_columns": null,
            "margin": null,
            "display": null,
            "left": null
          }
        },
        "ced3e6ce69e345c59d066749ea4fe4f0": {
          "model_module": "@jupyter-widgets/controls",
          "model_name": "DescriptionStyleModel",
          "model_module_version": "1.5.0",
          "state": {
            "_view_name": "StyleView",
            "_model_name": "DescriptionStyleModel",
            "description_width": "",
            "_view_module": "@jupyter-widgets/base",
            "_model_module_version": "1.5.0",
            "_view_count": null,
            "_view_module_version": "1.2.0",
            "_model_module": "@jupyter-widgets/controls"
          }
        },
        "34aebaff202845df81c3a5fc8f6dc554": {
          "model_module": "@jupyter-widgets/base",
          "model_name": "LayoutModel",
          "model_module_version": "1.2.0",
          "state": {
            "_view_name": "LayoutView",
            "grid_template_rows": null,
            "right": null,
            "justify_content": null,
            "_view_module": "@jupyter-widgets/base",
            "overflow": null,
            "_model_module_version": "1.2.0",
            "_view_count": null,
            "flex_flow": null,
            "width": null,
            "min_width": null,
            "border": null,
            "align_items": null,
            "bottom": null,
            "_model_module": "@jupyter-widgets/base",
            "top": null,
            "grid_column": null,
            "overflow_y": null,
            "overflow_x": null,
            "grid_auto_flow": null,
            "grid_area": null,
            "grid_template_columns": null,
            "flex": null,
            "_model_name": "LayoutModel",
            "justify_items": null,
            "grid_row": null,
            "max_height": null,
            "align_content": null,
            "visibility": null,
            "align_self": null,
            "height": null,
            "min_height": null,
            "padding": null,
            "grid_auto_rows": null,
            "grid_gap": null,
            "max_width": null,
            "order": null,
            "_view_module_version": "1.2.0",
            "grid_template_areas": null,
            "object_position": null,
            "object_fit": null,
            "grid_auto_columns": null,
            "margin": null,
            "display": null,
            "left": null
          }
        },
        "aefac60230b54d0fa1593ac89d3f528e": {
          "model_module": "@jupyter-widgets/controls",
          "model_name": "HBoxModel",
          "model_module_version": "1.5.0",
          "state": {
            "_view_name": "HBoxView",
            "_dom_classes": [],
            "_model_name": "HBoxModel",
            "_view_module": "@jupyter-widgets/controls",
            "_model_module_version": "1.5.0",
            "_view_count": null,
            "_view_module_version": "1.5.0",
            "box_style": "",
            "layout": "IPY_MODEL_0daf6a6b6e1f4ed9a640e5c1b25e749f",
            "_model_module": "@jupyter-widgets/controls",
            "children": [
              "IPY_MODEL_cb3374bf4d304a2daf3738c4adfc0653",
              "IPY_MODEL_dbe66f111b0c475ba3b7d740b6921bad"
            ]
          }
        },
        "0daf6a6b6e1f4ed9a640e5c1b25e749f": {
          "model_module": "@jupyter-widgets/base",
          "model_name": "LayoutModel",
          "model_module_version": "1.2.0",
          "state": {
            "_view_name": "LayoutView",
            "grid_template_rows": null,
            "right": null,
            "justify_content": null,
            "_view_module": "@jupyter-widgets/base",
            "overflow": null,
            "_model_module_version": "1.2.0",
            "_view_count": null,
            "flex_flow": null,
            "width": null,
            "min_width": null,
            "border": null,
            "align_items": null,
            "bottom": null,
            "_model_module": "@jupyter-widgets/base",
            "top": null,
            "grid_column": null,
            "overflow_y": null,
            "overflow_x": null,
            "grid_auto_flow": null,
            "grid_area": null,
            "grid_template_columns": null,
            "flex": null,
            "_model_name": "LayoutModel",
            "justify_items": null,
            "grid_row": null,
            "max_height": null,
            "align_content": null,
            "visibility": null,
            "align_self": null,
            "height": null,
            "min_height": null,
            "padding": null,
            "grid_auto_rows": null,
            "grid_gap": null,
            "max_width": null,
            "order": null,
            "_view_module_version": "1.2.0",
            "grid_template_areas": null,
            "object_position": null,
            "object_fit": null,
            "grid_auto_columns": null,
            "margin": null,
            "display": null,
            "left": null
          }
        },
        "cb3374bf4d304a2daf3738c4adfc0653": {
          "model_module": "@jupyter-widgets/controls",
          "model_name": "IntProgressModel",
          "model_module_version": "1.5.0",
          "state": {
            "_view_name": "ProgressView",
            "style": "IPY_MODEL_8315c75ace2d4f7b920a98ed5bca656c",
            "_dom_classes": [],
            "description": "",
            "_model_name": "IntProgressModel",
            "bar_style": "success",
            "max": 1,
            "_view_module": "@jupyter-widgets/controls",
            "_model_module_version": "1.5.0",
            "value": 1,
            "_view_count": null,
            "_view_module_version": "1.5.0",
            "orientation": "horizontal",
            "min": 0,
            "description_tooltip": null,
            "_model_module": "@jupyter-widgets/controls",
            "layout": "IPY_MODEL_8b28757df7ff40e28496d4a021fcf986"
          }
        },
        "dbe66f111b0c475ba3b7d740b6921bad": {
          "model_module": "@jupyter-widgets/controls",
          "model_name": "HTMLModel",
          "model_module_version": "1.5.0",
          "state": {
            "_view_name": "HTMLView",
            "style": "IPY_MODEL_ab20221caf0147a5a22737d32c00b28f",
            "_dom_classes": [],
            "description": "",
            "_model_name": "HTMLModel",
            "placeholder": "​",
            "_view_module": "@jupyter-widgets/controls",
            "_model_module_version": "1.5.0",
            "value": "8192it [00:00, 24112.30it/s]",
            "_view_count": null,
            "_view_module_version": "1.5.0",
            "description_tooltip": null,
            "_model_module": "@jupyter-widgets/controls",
            "layout": "IPY_MODEL_bdbc8fa056eb41e8a7d38c0bcb7b5cf5"
          }
        },
        "8315c75ace2d4f7b920a98ed5bca656c": {
          "model_module": "@jupyter-widgets/controls",
          "model_name": "ProgressStyleModel",
          "model_module_version": "1.5.0",
          "state": {
            "_view_name": "StyleView",
            "_model_name": "ProgressStyleModel",
            "description_width": "",
            "_view_module": "@jupyter-widgets/base",
            "_model_module_version": "1.5.0",
            "_view_count": null,
            "_view_module_version": "1.2.0",
            "bar_color": null,
            "_model_module": "@jupyter-widgets/controls"
          }
        },
        "8b28757df7ff40e28496d4a021fcf986": {
          "model_module": "@jupyter-widgets/base",
          "model_name": "LayoutModel",
          "model_module_version": "1.2.0",
          "state": {
            "_view_name": "LayoutView",
            "grid_template_rows": null,
            "right": null,
            "justify_content": null,
            "_view_module": "@jupyter-widgets/base",
            "overflow": null,
            "_model_module_version": "1.2.0",
            "_view_count": null,
            "flex_flow": null,
            "width": null,
            "min_width": null,
            "border": null,
            "align_items": null,
            "bottom": null,
            "_model_module": "@jupyter-widgets/base",
            "top": null,
            "grid_column": null,
            "overflow_y": null,
            "overflow_x": null,
            "grid_auto_flow": null,
            "grid_area": null,
            "grid_template_columns": null,
            "flex": null,
            "_model_name": "LayoutModel",
            "justify_items": null,
            "grid_row": null,
            "max_height": null,
            "align_content": null,
            "visibility": null,
            "align_self": null,
            "height": null,
            "min_height": null,
            "padding": null,
            "grid_auto_rows": null,
            "grid_gap": null,
            "max_width": null,
            "order": null,
            "_view_module_version": "1.2.0",
            "grid_template_areas": null,
            "object_position": null,
            "object_fit": null,
            "grid_auto_columns": null,
            "margin": null,
            "display": null,
            "left": null
          }
        },
        "ab20221caf0147a5a22737d32c00b28f": {
          "model_module": "@jupyter-widgets/controls",
          "model_name": "DescriptionStyleModel",
          "model_module_version": "1.5.0",
          "state": {
            "_view_name": "StyleView",
            "_model_name": "DescriptionStyleModel",
            "description_width": "",
            "_view_module": "@jupyter-widgets/base",
            "_model_module_version": "1.5.0",
            "_view_count": null,
            "_view_module_version": "1.2.0",
            "_model_module": "@jupyter-widgets/controls"
          }
        },
        "bdbc8fa056eb41e8a7d38c0bcb7b5cf5": {
          "model_module": "@jupyter-widgets/base",
          "model_name": "LayoutModel",
          "model_module_version": "1.2.0",
          "state": {
            "_view_name": "LayoutView",
            "grid_template_rows": null,
            "right": null,
            "justify_content": null,
            "_view_module": "@jupyter-widgets/base",
            "overflow": null,
            "_model_module_version": "1.2.0",
            "_view_count": null,
            "flex_flow": null,
            "width": null,
            "min_width": null,
            "border": null,
            "align_items": null,
            "bottom": null,
            "_model_module": "@jupyter-widgets/base",
            "top": null,
            "grid_column": null,
            "overflow_y": null,
            "overflow_x": null,
            "grid_auto_flow": null,
            "grid_area": null,
            "grid_template_columns": null,
            "flex": null,
            "_model_name": "LayoutModel",
            "justify_items": null,
            "grid_row": null,
            "max_height": null,
            "align_content": null,
            "visibility": null,
            "align_self": null,
            "height": null,
            "min_height": null,
            "padding": null,
            "grid_auto_rows": null,
            "grid_gap": null,
            "max_width": null,
            "order": null,
            "_view_module_version": "1.2.0",
            "grid_template_areas": null,
            "object_position": null,
            "object_fit": null,
            "grid_auto_columns": null,
            "margin": null,
            "display": null,
            "left": null
          }
        }
      }
    }
  },
  "cells": [
    {
      "cell_type": "markdown",
      "metadata": {
        "id": "AHBD6HDpFPfB"
      },
      "source": [
        "# Install Pytorch from https://pytorch.org/get-started/locally/"
      ]
    },
    {
      "cell_type": "code",
      "metadata": {
        "id": "1vyDuiPkFTd5",
        "colab": {
          "base_uri": "https://localhost:8080/"
        },
        "outputId": "618ab639-5ebb-40ad-d476-b8284626dd48"
      },
      "source": [
        "!pip3 install torch torchvision"
      ],
      "execution_count": null,
      "outputs": [
        {
          "output_type": "stream",
          "text": [
            "Requirement already satisfied: torch in /usr/local/lib/python3.7/dist-packages (1.9.0+cu102)\n",
            "Requirement already satisfied: torchvision in /usr/local/lib/python3.7/dist-packages (0.10.0+cu102)\n",
            "Requirement already satisfied: typing-extensions in /usr/local/lib/python3.7/dist-packages (from torch) (3.7.4.3)\n",
            "Requirement already satisfied: pillow>=5.3.0 in /usr/local/lib/python3.7/dist-packages (from torchvision) (7.1.2)\n",
            "Requirement already satisfied: numpy in /usr/local/lib/python3.7/dist-packages (from torchvision) (1.19.5)\n"
          ],
          "name": "stdout"
        }
      ]
    },
    {
      "cell_type": "code",
      "metadata": {
        "id": "mreZ9wGaFoH9",
        "colab": {
          "base_uri": "https://localhost:8080/"
        },
        "outputId": "d6079bfe-2295-49b8-c455-4bc8a68e4cea"
      },
      "source": [
        "from __future__ import print_function\n",
        "import torch\n",
        "x = torch.rand(5, 3)\n",
        "print(x)"
      ],
      "execution_count": null,
      "outputs": [
        {
          "output_type": "stream",
          "text": [
            "tensor([[0.4360, 0.3423, 0.2762],\n",
            "        [0.7500, 0.5324, 0.7864],\n",
            "        [0.7680, 0.9400, 0.5376],\n",
            "        [0.0781, 0.2755, 0.4892],\n",
            "        [0.9277, 0.5231, 0.3238]])\n"
          ],
          "name": "stdout"
        }
      ]
    },
    {
      "cell_type": "code",
      "metadata": {
        "id": "I52Y6XE0F3eO",
        "colab": {
          "base_uri": "https://localhost:8080/"
        },
        "outputId": "14365c3a-dfee-48e6-8f61-af61aa66b4ab"
      },
      "source": [
        "print(torch.__version__)"
      ],
      "execution_count": null,
      "outputs": [
        {
          "output_type": "stream",
          "text": [
            "1.9.0+cu102\n"
          ],
          "name": "stdout"
        }
      ]
    },
    {
      "cell_type": "code",
      "metadata": {
        "id": "NUduGFOUF6YB",
        "colab": {
          "base_uri": "https://localhost:8080/"
        },
        "outputId": "38c8156a-9435-4f0e-c5ca-4a7b60dd60c4"
      },
      "source": [
        "import torchvision\n",
        "print(torchvision.__version__)"
      ],
      "execution_count": null,
      "outputs": [
        {
          "output_type": "stream",
          "text": [
            "0.10.0+cu102\n"
          ],
          "name": "stdout"
        }
      ]
    },
    {
      "cell_type": "markdown",
      "metadata": {
        "id": "VqRKqrprYOYQ"
      },
      "source": [
        "# Basic PyTorch\n"
      ]
    },
    {
      "cell_type": "code",
      "metadata": {
        "id": "vhhjUbtWYQf0"
      },
      "source": [
        "import torch\n",
        "import numpy as np"
      ],
      "execution_count": null,
      "outputs": []
    },
    {
      "cell_type": "code",
      "metadata": {
        "id": "fLxhHxFLYZ8N"
      },
      "source": [
        "#Initializing a Tensor\n",
        "data = [[1, 2],[3, 4]]\n",
        "x_data = torch.tensor(data)#direct from data"
      ],
      "execution_count": null,
      "outputs": []
    },
    {
      "cell_type": "code",
      "metadata": {
        "id": "YpWIJbwPYly0"
      },
      "source": [
        "#Tensors can be created from NumPy arrays\n",
        "np_array = np.array(data)\n",
        "x_np = torch.from_numpy(np_array)"
      ],
      "execution_count": null,
      "outputs": []
    },
    {
      "cell_type": "code",
      "metadata": {
        "colab": {
          "base_uri": "https://localhost:8080/"
        },
        "id": "lrTpSN0RZzi9",
        "outputId": "3ad8d3d5-5e68-49e5-c3c6-d451f51c851f"
      },
      "source": [
        "x_np"
      ],
      "execution_count": null,
      "outputs": [
        {
          "output_type": "execute_result",
          "data": {
            "text/plain": [
              "tensor([[1, 2],\n",
              "        [3, 4]])"
            ]
          },
          "metadata": {
            "tags": []
          },
          "execution_count": 8
        }
      ]
    },
    {
      "cell_type": "code",
      "metadata": {
        "colab": {
          "base_uri": "https://localhost:8080/"
        },
        "id": "QjbdrnyQZ2ii",
        "outputId": "edc6aacb-7aaf-44b4-c193-8539e28bbad3"
      },
      "source": [
        "#From another tensor:\n",
        "x_ones = torch.ones_like(x_data) # retains the properties of x_data\n",
        "print(f\"Ones Tensor: \\n {x_ones} \\n\")\n",
        "\n",
        "x_rand = torch.rand_like(x_data, dtype=torch.float) # overrides the datatype of x_data\n",
        "print(f\"Random Tensor: \\n {x_rand} \\n\")"
      ],
      "execution_count": null,
      "outputs": [
        {
          "output_type": "stream",
          "text": [
            "Ones Tensor: \n",
            " tensor([[1, 1],\n",
            "        [1, 1]]) \n",
            "\n",
            "Random Tensor: \n",
            " tensor([[0.3162, 0.9285],\n",
            "        [0.5036, 0.1970]]) \n",
            "\n"
          ],
          "name": "stdout"
        }
      ]
    },
    {
      "cell_type": "code",
      "metadata": {
        "colab": {
          "base_uri": "https://localhost:8080/"
        },
        "id": "CEnVNUqnaKrC",
        "outputId": "e882b4db-70d3-4466-ef0b-50cba0c10b7b"
      },
      "source": [
        "tensor = torch.rand(3,4)\n",
        "\n",
        "print(f\"Shape of tensor: {tensor.shape}\")\n",
        "print(f\"Datatype of tensor: {tensor.dtype}\")\n",
        "print(f\"Device tensor is stored on: {tensor.device}\")"
      ],
      "execution_count": null,
      "outputs": [
        {
          "output_type": "stream",
          "text": [
            "Shape of tensor: torch.Size([3, 4])\n",
            "Datatype of tensor: torch.float32\n",
            "Device tensor is stored on: cpu\n"
          ],
          "name": "stdout"
        }
      ]
    },
    {
      "cell_type": "code",
      "metadata": {
        "id": "5JJ99b6xaQD8"
      },
      "source": [
        "# We move our tensor to the GPU if available\n",
        "if torch.cuda.is_available():\n",
        "  tensor = tensor.to('cuda')"
      ],
      "execution_count": null,
      "outputs": []
    },
    {
      "cell_type": "code",
      "metadata": {
        "colab": {
          "base_uri": "https://localhost:8080/"
        },
        "id": "oLO17tOFaRlR",
        "outputId": "b8832316-c0a0-48c2-d569-1fb5a93a3770"
      },
      "source": [
        "tensor"
      ],
      "execution_count": null,
      "outputs": [
        {
          "output_type": "execute_result",
          "data": {
            "text/plain": [
              "tensor([[0.3464, 0.7189, 0.6279, 0.6824],\n",
              "        [0.4492, 0.6863, 0.9361, 0.9277],\n",
              "        [0.5922, 0.5892, 0.4129, 0.2866]], device='cuda:0')"
            ]
          },
          "metadata": {
            "tags": []
          },
          "execution_count": 12
        }
      ]
    },
    {
      "cell_type": "code",
      "metadata": {
        "colab": {
          "base_uri": "https://localhost:8080/"
        },
        "id": "Kg-iRYlkaVcq",
        "outputId": "35bf6353-a1ed-4cfe-c8a4-6a671b05897b"
      },
      "source": [
        "print(f\"Device tensor is stored on: {tensor.device}\")"
      ],
      "execution_count": null,
      "outputs": [
        {
          "output_type": "stream",
          "text": [
            "Device tensor is stored on: cuda:0\n"
          ],
          "name": "stdout"
        }
      ]
    },
    {
      "cell_type": "code",
      "metadata": {
        "colab": {
          "base_uri": "https://localhost:8080/"
        },
        "id": "3arEKxvQaknT",
        "outputId": "4b332752-a3f1-4ce8-8337-af54e0aacd86"
      },
      "source": [
        "# This computes the matrix multiplication between two tensors. y1, y2, y3 will have the same value\n",
        "y1 = tensor @ tensor.T\n",
        "y2 = tensor.matmul(tensor.T)\n",
        "\n",
        "y3 = torch.rand_like(tensor)\n",
        "torch.matmul(tensor, tensor.T, out=y3)\n",
        "\n",
        "\n",
        "# This computes the element-wise product. z1, z2, z3 will have the same value\n",
        "z1 = tensor * tensor\n",
        "z2 = tensor.mul(tensor)\n",
        "\n",
        "z3 = torch.rand_like(tensor)\n",
        "torch.mul(tensor, tensor, out=z3)"
      ],
      "execution_count": null,
      "outputs": [
        {
          "output_type": "execute_result",
          "data": {
            "text/plain": [
              "tensor([[0.1200, 0.5168, 0.3942, 0.4657],\n",
              "        [0.2018, 0.4710, 0.8763, 0.8607],\n",
              "        [0.3507, 0.3472, 0.1705, 0.0821]], device='cuda:0')"
            ]
          },
          "metadata": {
            "tags": []
          },
          "execution_count": 14
        }
      ]
    },
    {
      "cell_type": "code",
      "metadata": {
        "colab": {
          "base_uri": "https://localhost:8080/"
        },
        "id": "6DdUF-NWaxYr",
        "outputId": "13ef2989-3104-4608-e61a-ef625dcd65c7"
      },
      "source": [
        "#If you have a one-element tensor, for example by aggregating all values of a tensor into one value, you can convert it to a Python numerical value using item():\n",
        "agg = tensor.sum()\n",
        "agg_item = agg.item()\n",
        "print(agg_item, type(agg_item))"
      ],
      "execution_count": null,
      "outputs": [
        {
          "output_type": "stream",
          "text": [
            "7.255912780761719 <class 'float'>\n"
          ],
          "name": "stdout"
        }
      ]
    },
    {
      "cell_type": "code",
      "metadata": {
        "colab": {
          "base_uri": "https://localhost:8080/"
        },
        "id": "j3YfOUWhbdWN",
        "outputId": "86a8f980-d089-44b9-9687-7347df3428f5"
      },
      "source": [
        "#In-place operations Operations that store the result into the operand are called in-place. They are denoted by a _ suffix. For example: x.copy_(y), x.t_(), will change x.\n",
        "print(tensor, \"\\n\")\n",
        "tensor.add_(5)\n",
        "print(tensor)"
      ],
      "execution_count": null,
      "outputs": [
        {
          "output_type": "stream",
          "text": [
            "tensor([[0.3464, 0.7189, 0.6279, 0.6824],\n",
            "        [0.4492, 0.6863, 0.9361, 0.9277],\n",
            "        [0.5922, 0.5892, 0.4129, 0.2866]], device='cuda:0') \n",
            "\n",
            "tensor([[5.3464, 5.7189, 5.6279, 5.6824],\n",
            "        [5.4492, 5.6863, 5.9361, 5.9277],\n",
            "        [5.5922, 5.5892, 5.4129, 5.2866]], device='cuda:0')\n"
          ],
          "name": "stdout"
        }
      ]
    },
    {
      "cell_type": "code",
      "metadata": {
        "colab": {
          "base_uri": "https://localhost:8080/"
        },
        "id": "IpEqhItIcX9l",
        "outputId": "50c80202-b697-42c3-d7e5-6242d3d103fa"
      },
      "source": [
        "#Tensors on the CPU and NumPy arrays can share their underlying memory locations\n",
        "t = torch.ones(5)\n",
        "print(f\"t: {t}\")\n",
        "n = t.numpy()\n",
        "print(f\"n: {n}\")"
      ],
      "execution_count": null,
      "outputs": [
        {
          "output_type": "stream",
          "text": [
            "t: tensor([1., 1., 1., 1., 1.])\n",
            "n: [1. 1. 1. 1. 1.]\n"
          ],
          "name": "stdout"
        }
      ]
    },
    {
      "cell_type": "code",
      "metadata": {
        "colab": {
          "base_uri": "https://localhost:8080/"
        },
        "id": "4D96DfK2cu3T",
        "outputId": "0147473a-1cc3-4ecb-cc7b-a5bb986a1ee3"
      },
      "source": [
        "t.add_(1)\n",
        "print(f\"t: {t}\")\n",
        "print(f\"n: {n}\")"
      ],
      "execution_count": null,
      "outputs": [
        {
          "output_type": "stream",
          "text": [
            "t: tensor([2., 2., 2., 2., 2.])\n",
            "n: [2. 2. 2. 2. 2.]\n"
          ],
          "name": "stdout"
        }
      ]
    },
    {
      "cell_type": "markdown",
      "metadata": {
        "id": "18Lh6VFUdmsQ"
      },
      "source": [
        "# Fit a third order polynomial to sine function\n",
        "ref: https://pytorch.org/tutorials/beginner/pytorch_with_examples.html#id17\n"
      ]
    },
    {
      "cell_type": "markdown",
      "metadata": {
        "id": "yfQGgl6fDLUR"
      },
      "source": [
        "## Using Numpy"
      ]
    },
    {
      "cell_type": "code",
      "metadata": {
        "id": "EuFL7bGzd8p2"
      },
      "source": [
        "import numpy as np\n",
        "import math\n",
        "\n",
        "# Create random input and output data\n",
        "x = np.linspace(-math.pi, math.pi, 2000)\n",
        "y = np.sin(x)\n",
        "\n",
        "# Randomly initialize weights\n",
        "a = np.random.randn()\n",
        "b = np.random.randn()\n",
        "c = np.random.randn()\n",
        "d = np.random.randn()"
      ],
      "execution_count": null,
      "outputs": []
    },
    {
      "cell_type": "markdown",
      "metadata": {
        "id": "2VJaLqjlFOk-"
      },
      "source": [
        "Training our model means updating our weights and biases, using the gradient of the loss with respect to these parameters: grad_loss/a, grad_loss/b, grad_loss/c, grad_loss/d\n",
        "\n",
        "1.   grad_loss/a = grad_loss/grad_y * grad_y/grad_a = grad_y_pred\n",
        "*   grad_loss/grad_y = grad_(y_pred-y)^2 = 2 * (y_pred-y) = grad_y_pred\n",
        "*   grad_y/grad_a = 1\n",
        "\n",
        "2.   grad_loss/b = grad_loss/grad_y * grad_y/grad_b = grad_y_pred * x\n",
        "*   grad_y/grad_b = x\n",
        "\n",
        "3.   grad_loss/c = grad_loss/grad_y * grad_y/grad_c = grad_y_pred * x^2\n",
        "*   grad_y/grad_c = x^2\n",
        "\n",
        "4.   grad_loss/d = grad_loss/grad_y * grad_y/grad_d = grad_y_pred * x^3\n",
        "*   grad_y/grad_d = x^3\n",
        "\n",
        "\n",
        "\n",
        "\n",
        "\n",
        "\n",
        "\n",
        "\n",
        "\n",
        "  \n",
        "  \n",
        "\n",
        "\n",
        "  \n",
        "\n",
        "\n",
        "  \n",
        "\n",
        "\n",
        "  \n"
      ]
    },
    {
      "cell_type": "code",
      "metadata": {
        "colab": {
          "base_uri": "https://localhost:8080/"
        },
        "id": "p69EBOOT_7yN",
        "outputId": "0091cdeb-9b6b-48e0-f14e-db8867149d0f"
      },
      "source": [
        "learning_rate = 1e-6\n",
        "for t in range(2000):\n",
        "    # Forward pass: compute predicted y\n",
        "    # y = a + b x + c x^2 + d x^3\n",
        "    y_pred = a + b * x + c * x ** 2 + d * x ** 3\n",
        "\n",
        "    # Compute and print loss\n",
        "    loss = np.square(y_pred - y).sum()\n",
        "    if t % 100 == 99:\n",
        "        print(t, loss)\n",
        "\n",
        "    # Backprop to compute gradients of a, b, c, d with respect to loss\n",
        "    grad_y_pred = 2.0 * (y_pred - y)\n",
        "    grad_a = grad_y_pred.sum()\n",
        "    grad_b = (grad_y_pred * x).sum()\n",
        "    grad_c = (grad_y_pred * x ** 2).sum()\n",
        "    grad_d = (grad_y_pred * x ** 3).sum()\n",
        "\n",
        "    # Update weights\n",
        "    a -= learning_rate * grad_a\n",
        "    b -= learning_rate * grad_b\n",
        "    c -= learning_rate * grad_c\n",
        "    d -= learning_rate * grad_d\n",
        "\n",
        "print(f'Result: y = {a} + {b} x + {c} x^2 + {d} x^3')"
      ],
      "execution_count": null,
      "outputs": [
        {
          "output_type": "stream",
          "text": [
            "99 2704.630990678395\n",
            "199 1791.6172092207717\n",
            "299 1187.8303098362103\n",
            "399 788.5362376877927\n",
            "499 524.4747525535736\n",
            "599 349.8440933998907\n",
            "699 234.35542226828136\n",
            "799 157.9785312588731\n",
            "899 107.46723340201387\n",
            "999 74.0616304069735\n",
            "1099 51.96863329999901\n",
            "1199 37.35713322267098\n",
            "1299 27.693506167677235\n",
            "1399 21.30217874536661\n",
            "1499 17.075026314837288\n",
            "1599 14.279194123154197\n",
            "1699 12.430006038036353\n",
            "1799 11.206916255898003\n",
            "1899 10.39792586770205\n",
            "1999 9.862823714775391\n",
            "Result: y = -0.002546624150328384 + 0.8253939724170136 x + 0.0004393350419404195 x^2 + -0.08887156966062451 x^3\n"
          ],
          "name": "stdout"
        }
      ]
    },
    {
      "cell_type": "markdown",
      "metadata": {
        "id": "Gz6BkLJHVtV1"
      },
      "source": [
        "## Using Pytorch Tensor"
      ]
    },
    {
      "cell_type": "code",
      "metadata": {
        "colab": {
          "base_uri": "https://localhost:8080/"
        },
        "id": "9hjHnKz9DHqJ",
        "outputId": "76cabd8a-490d-4b5f-9ae3-b720dd1217e2"
      },
      "source": [
        "#PyTorch Tensors can utilize GPUs to accelerate their numeric computations\n",
        "import torch\n",
        "import math\n",
        "\n",
        "\n",
        "dtype = torch.float\n",
        "device = torch.device(\"cpu\")\n",
        "# device = torch.device(\"cuda:0\") # Uncomment this to run on GPU\n",
        "\n",
        "# Create random input and output data\n",
        "x = torch.linspace(-math.pi, math.pi, 2000, device=device, dtype=dtype)\n",
        "y = torch.sin(x)\n",
        "\n",
        "# Randomly initialize weights\n",
        "a = torch.randn((), device=device, dtype=dtype)\n",
        "b = torch.randn((), device=device, dtype=dtype)\n",
        "c = torch.randn((), device=device, dtype=dtype)\n",
        "d = torch.randn((), device=device, dtype=dtype)\n",
        "\n",
        "learning_rate = 1e-6\n",
        "for t in range(2000):\n",
        "    # Forward pass: compute predicted y\n",
        "    y_pred = a + b * x + c * x ** 2 + d * x ** 3\n",
        "\n",
        "    # Compute and print loss\n",
        "    loss = (y_pred - y).pow(2).sum().item()\n",
        "    if t % 100 == 99:\n",
        "        print(t, loss)\n",
        "\n",
        "    # Backprop to compute gradients of a, b, c, d with respect to loss\n",
        "    grad_y_pred = 2.0 * (y_pred - y)\n",
        "    grad_a = grad_y_pred.sum()\n",
        "    grad_b = (grad_y_pred * x).sum()\n",
        "    grad_c = (grad_y_pred * x ** 2).sum()\n",
        "    grad_d = (grad_y_pred * x ** 3).sum()\n",
        "\n",
        "    # Update weights using gradient descent\n",
        "    a -= learning_rate * grad_a\n",
        "    b -= learning_rate * grad_b\n",
        "    c -= learning_rate * grad_c\n",
        "    d -= learning_rate * grad_d\n",
        "\n",
        "\n",
        "print(f'Result: y = {a.item()} + {b.item()} x + {c.item()} x^2 + {d.item()} x^3')"
      ],
      "execution_count": null,
      "outputs": [
        {
          "output_type": "stream",
          "text": [
            "99 318.9666748046875\n",
            "199 215.37258911132812\n",
            "299 146.44175720214844\n",
            "399 100.55706024169922\n",
            "499 70.00088500976562\n",
            "599 49.643280029296875\n",
            "699 36.0742301940918\n",
            "799 27.025407791137695\n",
            "899 20.987876892089844\n",
            "999 16.957414627075195\n",
            "1099 14.265287399291992\n",
            "1199 12.466019630432129\n",
            "1299 11.262716293334961\n",
            "1399 10.457472801208496\n",
            "1499 9.918219566345215\n",
            "1599 9.556835174560547\n",
            "1699 9.314489364624023\n",
            "1799 9.151830673217773\n",
            "1899 9.042561531066895\n",
            "1999 8.969117164611816\n",
            "Result: y = 0.007050747983157635 + 0.8466582894325256 x + -0.001216371078044176 x^2 + -0.09189623594284058 x^3\n"
          ],
          "name": "stdout"
        }
      ]
    },
    {
      "cell_type": "markdown",
      "metadata": {
        "id": "GKlumCs7Vo4d"
      },
      "source": [
        "## Autograd"
      ]
    },
    {
      "cell_type": "markdown",
      "metadata": {
        "id": "j3eMangGN_xp"
      },
      "source": [
        "We can use automatic differentiation to automate the computation of backward passes in neural networks. The autograd package in PyTorch provides this functionality. When using autograd, the forward pass of your network will define a computational graph; nodes in the graph will be Tensors, and edges will be functions that produce output Tensors from input Tensors. Backpropagating through this graph then allows you to easily compute gradients。. Each Tensor represents a node in a computational graph. If x is a Tensor that has x.requires_grad=True then x.grad is another Tensor holding the gradient of x with respect to some scalar value.\n",
        "\n",
        "Here we use PyTorch Tensors and autograd to implement our fitting sine wave with third order polynomial example; now we no longer need to manually implement the backward pass through the network:"
      ]
    },
    {
      "cell_type": "code",
      "metadata": {
        "colab": {
          "base_uri": "https://localhost:8080/"
        },
        "id": "8m8BvAAJN8u5",
        "outputId": "eb3190eb-03fa-4a30-d8ae-eeb84e7075bb"
      },
      "source": [
        "# -*- coding: utf-8 -*-\n",
        "import torch\n",
        "import math\n",
        "\n",
        "dtype = torch.float\n",
        "device = torch.device(\"cpu\")\n",
        "# device = torch.device(\"cuda:0\")  # Uncomment this to run on GPU\n",
        "\n",
        "# Create Tensors to hold input and outputs.\n",
        "# By default, requires_grad=False, which indicates that we do not need to\n",
        "# compute gradients with respect to these Tensors during the backward pass.\n",
        "x = torch.linspace(-math.pi, math.pi, 2000, device=device, dtype=dtype)\n",
        "y = torch.sin(x)\n",
        "\n",
        "# Create random Tensors for weights. For a third order polynomial, we need\n",
        "# 4 weights: y = a + b x + c x^2 + d x^3\n",
        "# Setting requires_grad=True indicates that we want to compute gradients with\n",
        "# respect to these Tensors during the backward pass.\n",
        "a = torch.randn((), device=device, dtype=dtype, requires_grad=True)\n",
        "b = torch.randn((), device=device, dtype=dtype, requires_grad=True)\n",
        "c = torch.randn((), device=device, dtype=dtype, requires_grad=True)\n",
        "d = torch.randn((), device=device, dtype=dtype, requires_grad=True)\n",
        "\n",
        "learning_rate = 1e-6\n",
        "for t in range(2000):\n",
        "    # Forward pass: compute predicted y using operations on Tensors.\n",
        "    y_pred = a + b * x + c * x ** 2 + d * x ** 3\n",
        "\n",
        "    # Compute and print loss using operations on Tensors.\n",
        "    # Now loss is a Tensor of shape (1,)\n",
        "    # loss.item() gets the scalar value held in the loss.\n",
        "    loss = (y_pred - y).pow(2).sum()\n",
        "    if t % 100 == 99:\n",
        "        print(t, loss.item())\n",
        "\n",
        "    # Use autograd to compute the backward pass. This call will compute the\n",
        "    # gradient of loss with respect to all Tensors with requires_grad=True.\n",
        "    # After this call a.grad, b.grad. c.grad and d.grad will be Tensors holding\n",
        "    # the gradient of the loss with respect to a, b, c, d respectively.\n",
        "    loss.backward()\n",
        "\n",
        "    # Manually update weights using gradient descent. Wrap in torch.no_grad()\n",
        "    # because weights have requires_grad=True, but we don't need to track this\n",
        "    # in autograd.\n",
        "    with torch.no_grad():\n",
        "        a -= learning_rate * a.grad\n",
        "        b -= learning_rate * b.grad\n",
        "        c -= learning_rate * c.grad\n",
        "        d -= learning_rate * d.grad\n",
        "\n",
        "        # Manually zero the gradients after updating weights\n",
        "        a.grad = None\n",
        "        b.grad = None\n",
        "        c.grad = None\n",
        "        d.grad = None\n",
        "\n",
        "print(f'Result: y = {a.item()} + {b.item()} x + {c.item()} x^2 + {d.item()} x^3')"
      ],
      "execution_count": null,
      "outputs": [
        {
          "output_type": "stream",
          "text": [
            "99 634.0364990234375\n",
            "199 436.99639892578125\n",
            "299 302.3916015625\n",
            "399 210.33184814453125\n",
            "499 147.29736328125\n",
            "599 104.08721923828125\n",
            "699 74.43286895751953\n",
            "799 54.058372497558594\n",
            "899 40.04411697387695\n",
            "999 30.393878936767578\n",
            "1099 23.741336822509766\n",
            "1199 19.15045166015625\n",
            "1299 15.978865623474121\n",
            "1399 13.78552532196045\n",
            "1499 12.267154693603516\n",
            "1599 11.215006828308105\n",
            "1699 10.485196113586426\n",
            "1799 9.978507041931152\n",
            "1899 9.62640380859375\n",
            "1999 9.381498336791992\n",
            "Result: y = -0.022344380617141724 + 0.8461494445800781 x + 0.003854779526591301 x^2 + -0.09182385355234146 x^3\n"
          ],
          "name": "stdout"
        }
      ]
    },
    {
      "cell_type": "markdown",
      "metadata": {
        "id": "K4IAAnLWTVJK"
      },
      "source": [
        "Computational graphs and autograd are a very powerful paradigm for defining complex operators and automatically taking derivatives; however for large neural networks raw autograd can be a bit too low-level. When building neural networks we frequently think of arranging the computation into layers, some of which have learnable parameters which will be optimized during learning.\n",
        "\n",
        "In PyTorch, the nn package serves this same purpose. The nn package defines a set of Modules, which are roughly equivalent to neural network layers. A Module receives input Tensors and computes output Tensors, but may also hold internal state such as Tensors containing learnable parameters. The nn package also defines a set of useful loss functions that are commonly used when training neural networks."
      ]
    },
    {
      "cell_type": "code",
      "metadata": {
        "colab": {
          "base_uri": "https://localhost:8080/"
        },
        "id": "m4RARvb6TViT",
        "outputId": "fdd4f09f-1cdd-4fe6-e0aa-49d830a64242"
      },
      "source": [
        "import torch\n",
        "import math\n",
        "\n",
        "\n",
        "# Create Tensors to hold input and outputs.\n",
        "x = torch.linspace(-math.pi, math.pi, 2000)\n",
        "y = torch.sin(x)\n",
        "\n",
        "# For this example, the output y is a linear function of (x, x^2, x^3), so\n",
        "# we can consider it as a linear layer neural network. Let's prepare the\n",
        "# tensor (x, x^2, x^3).\n",
        "p = torch.tensor([1, 2, 3])\n",
        "xx = x.unsqueeze(-1).pow(p)\n",
        "\n",
        "# In the above code, x.unsqueeze(-1) has shape (2000, 1), and p has shape\n",
        "# (3,), for this case, broadcasting semantics will apply to obtain a tensor\n",
        "# of shape (2000, 3) \n",
        "\n",
        "# Use the nn package to define our model as a sequence of layers. nn.Sequential\n",
        "# is a Module which contains other Modules, and applies them in sequence to\n",
        "# produce its output. The Linear Module computes output from input using a\n",
        "# linear function, and holds internal Tensors for its weight and bias.\n",
        "# The Flatten layer flatens the output of the linear layer to a 1D tensor,\n",
        "# to match the shape of `y`.\n",
        "model = torch.nn.Sequential(\n",
        "    torch.nn.Linear(3, 1), #torch.nn.Linear(in_features, out_features, bias=True, device=None, dtype=None)\n",
        "    torch.nn.Flatten(0, 1) #torch.nn.Flatten(start_dim=1, end_dim=-1)\n",
        ")\n",
        "\n",
        "# The nn package also contains definitions of popular loss functions; in this\n",
        "# case we will use Mean Squared Error (MSE) as our loss function.\n",
        "loss_fn = torch.nn.MSELoss(reduction='sum')\n",
        "\n",
        "learning_rate = 1e-6\n",
        "for t in range(2000):\n",
        "\n",
        "    # Forward pass: compute predicted y by passing x to the model. Module objects\n",
        "    # override the __call__ operator so you can call them like functions. When\n",
        "    # doing so you pass a Tensor of input data to the Module and it produces\n",
        "    # a Tensor of output data.\n",
        "    y_pred = model(xx)\n",
        "\n",
        "    # Compute and print loss. We pass Tensors containing the predicted and true\n",
        "    # values of y, and the loss function returns a Tensor containing the\n",
        "    # loss.\n",
        "    loss = loss_fn(y_pred, y)\n",
        "    if t % 100 == 99:\n",
        "        print(t, loss.item())\n",
        "\n",
        "    # Zero the gradients before running the backward pass.\n",
        "    model.zero_grad()\n",
        "\n",
        "    # Backward pass: compute gradient of the loss with respect to all the learnable\n",
        "    # parameters of the model. Internally, the parameters of each Module are stored\n",
        "    # in Tensors with requires_grad=True, so this call will compute gradients for\n",
        "    # all learnable parameters in the model.\n",
        "    loss.backward()\n",
        "\n",
        "    # Update the weights using gradient descent. Each parameter is a Tensor, so\n",
        "    # we can access its gradients like we did before.\n",
        "    with torch.no_grad():\n",
        "        for param in model.parameters():\n",
        "            param -= learning_rate * param.grad\n",
        "\n",
        "# You can access the first layer of `model` like accessing the first item of a list\n",
        "linear_layer = model[0]\n",
        "\n",
        "# For linear layer, its parameters are stored as `weight` and `bias`.\n",
        "print(f'Result: y = {linear_layer.bias.item()} + {linear_layer.weight[:, 0].item()} x + {linear_layer.weight[:, 1].item()} x^2 + {linear_layer.weight[:, 2].item()} x^3')"
      ],
      "execution_count": null,
      "outputs": [
        {
          "output_type": "stream",
          "text": [
            "99 1196.42236328125\n",
            "199 796.197998046875\n",
            "299 530.9425048828125\n",
            "399 355.11273193359375\n",
            "499 238.54122924804688\n",
            "599 161.24301147460938\n",
            "699 109.97754669189453\n",
            "799 75.97032928466797\n",
            "899 53.406864166259766\n",
            "999 38.432647705078125\n",
            "1099 28.492874145507812\n",
            "1199 21.89316177368164\n",
            "1299 17.509977340698242\n",
            "1399 14.598071098327637\n",
            "1499 12.66296672821045\n",
            "1599 11.376604080200195\n",
            "1699 10.52121639251709\n",
            "1799 9.952178955078125\n",
            "1899 9.573487281799316\n",
            "1999 9.32139778137207\n",
            "Result: y = 0.008382523432374 + 0.8363150954246521 x + -0.0014461253304034472 x^2 + -0.09042500704526901 x^3\n"
          ],
          "name": "stdout"
        }
      ]
    },
    {
      "cell_type": "markdown",
      "metadata": {
        "id": "Ms-DvM09Tfcr"
      },
      "source": [
        "The optim package in PyTorch abstracts the idea of an optimization algorithm and provides implementations of commonly used optimization algorithms.\n",
        "\n"
      ]
    },
    {
      "cell_type": "code",
      "metadata": {
        "colab": {
          "base_uri": "https://localhost:8080/"
        },
        "id": "VhAV9IvSTf4b",
        "outputId": "af478d20-9a23-4da9-f9c8-573a10c198ca"
      },
      "source": [
        "# -*- coding: utf-8 -*-\n",
        "import torch\n",
        "import math\n",
        "\n",
        "\n",
        "# Create Tensors to hold input and outputs.\n",
        "x = torch.linspace(-math.pi, math.pi, 2000)\n",
        "y = torch.sin(x)\n",
        "\n",
        "# Prepare the input tensor (x, x^2, x^3).\n",
        "p = torch.tensor([1, 2, 3])\n",
        "xx = x.unsqueeze(-1).pow(p)\n",
        "\n",
        "# Use the nn package to define our model and loss function.\n",
        "model = torch.nn.Sequential(\n",
        "    torch.nn.Linear(3, 1),\n",
        "    torch.nn.Flatten(0, 1)\n",
        ")\n",
        "loss_fn = torch.nn.MSELoss(reduction='sum')\n",
        "\n",
        "# Use the optim package to define an Optimizer that will update the weights of\n",
        "# the model for us. Here we will use RMSprop; the optim package contains many other\n",
        "# optimization algorithms. The first argument to the RMSprop constructor tells the\n",
        "# optimizer which Tensors it should update.\n",
        "learning_rate = 1e-3\n",
        "optimizer = torch.optim.RMSprop(model.parameters(), lr=learning_rate)\n",
        "for t in range(2000):\n",
        "    # Forward pass: compute predicted y by passing x to the model.\n",
        "    y_pred = model(xx)\n",
        "\n",
        "    # Compute and print loss.\n",
        "    loss = loss_fn(y_pred, y)\n",
        "    if t % 100 == 99:\n",
        "        print(t, loss.item())\n",
        "\n",
        "    # Before the backward pass, use the optimizer object to zero all of the\n",
        "    # gradients for the variables it will update (which are the learnable\n",
        "    # weights of the model). This is because by default, gradients are\n",
        "    # accumulated in buffers( i.e, not overwritten) whenever .backward()\n",
        "    # is called. Checkout docs of torch.autograd.backward for more details.\n",
        "    optimizer.zero_grad()\n",
        "\n",
        "    # Backward pass: compute gradient of the loss with respect to model\n",
        "    # parameters\n",
        "    loss.backward()\n",
        "\n",
        "    # Calling the step function on an Optimizer makes an update to its\n",
        "    # parameters\n",
        "    optimizer.step()\n",
        "\n",
        "\n",
        "linear_layer = model[0]\n",
        "print(f'Result: y = {linear_layer.bias.item()} + {linear_layer.weight[:, 0].item()} x + {linear_layer.weight[:, 1].item()} x^2 + {linear_layer.weight[:, 2].item()} x^3')"
      ],
      "execution_count": null,
      "outputs": [
        {
          "output_type": "stream",
          "text": [
            "99 17306.95703125\n",
            "199 6605.4892578125\n",
            "299 1965.266357421875\n",
            "399 376.6326599121094\n",
            "499 67.86810302734375\n",
            "599 42.26485824584961\n",
            "699 36.94180679321289\n",
            "799 30.957773208618164\n",
            "899 23.898305892944336\n",
            "999 17.004165649414062\n",
            "1099 11.943888664245605\n",
            "1199 9.503978729248047\n",
            "1299 8.88857364654541\n",
            "1399 8.834590911865234\n",
            "1499 8.931175231933594\n",
            "1599 8.831658363342285\n",
            "1699 8.870916366577148\n",
            "1799 8.878030776977539\n",
            "1899 8.982465744018555\n",
            "1999 8.965527534484863\n",
            "Result: y = -0.0004978329525329173 + 0.8561474084854126 x + -0.0004978657816536725 x^2 + -0.09392453730106354 x^3\n"
          ],
          "name": "stdout"
        }
      ]
    },
    {
      "cell_type": "markdown",
      "metadata": {
        "id": "WCuuew5ITqpM"
      },
      "source": [
        "define your own Modules by subclassing nn.Module and defining a forward which receives input Tensors and produces output Tensors using other modules or other autograd operations on Tensors."
      ]
    },
    {
      "cell_type": "code",
      "metadata": {
        "colab": {
          "base_uri": "https://localhost:8080/"
        },
        "id": "7PI7Iqj3TrD5",
        "outputId": "bb5d7f51-dd4e-40ae-9785-058efede45e2"
      },
      "source": [
        "import torch\n",
        "import math\n",
        "\n",
        "\n",
        "class Polynomial3(torch.nn.Module):\n",
        "    def __init__(self):\n",
        "        \"\"\"\n",
        "        In the constructor we instantiate four parameters and assign them as\n",
        "        member parameters.\n",
        "        \"\"\"\n",
        "        super().__init__()\n",
        "        self.a = torch.nn.Parameter(torch.randn(()))\n",
        "        self.b = torch.nn.Parameter(torch.randn(()))\n",
        "        self.c = torch.nn.Parameter(torch.randn(()))\n",
        "        self.d = torch.nn.Parameter(torch.randn(()))\n",
        "\n",
        "    def forward(self, x):\n",
        "        \"\"\"\n",
        "        In the forward function we accept a Tensor of input data and we must return\n",
        "        a Tensor of output data. We can use Modules defined in the constructor as\n",
        "        well as arbitrary operators on Tensors.\n",
        "        \"\"\"\n",
        "        return self.a + self.b * x + self.c * x ** 2 + self.d * x ** 3\n",
        "\n",
        "    def string(self):\n",
        "        \"\"\"\n",
        "        Just like any class in Python, you can also define custom method on PyTorch modules\n",
        "        \"\"\"\n",
        "        return f'y = {self.a.item()} + {self.b.item()} x + {self.c.item()} x^2 + {self.d.item()} x^3'\n",
        "\n",
        "\n",
        "# Create Tensors to hold input and outputs.\n",
        "x = torch.linspace(-math.pi, math.pi, 2000)\n",
        "y = torch.sin(x)\n",
        "\n",
        "# Construct our model by instantiating the class defined above\n",
        "model = Polynomial3()\n",
        "\n",
        "# Construct our loss function and an Optimizer. The call to model.parameters()\n",
        "# in the SGD constructor will contain the learnable parameters (defined \n",
        "# with torch.nn.Parameter) which are members of the model.\n",
        "criterion = torch.nn.MSELoss(reduction='sum')\n",
        "optimizer = torch.optim.SGD(model.parameters(), lr=1e-6)\n",
        "for t in range(2000):\n",
        "    # Forward pass: Compute predicted y by passing x to the model\n",
        "    y_pred = model(x)\n",
        "\n",
        "    # Compute and print loss\n",
        "    loss = criterion(y_pred, y)\n",
        "    if t % 100 == 99:\n",
        "        print(t, loss.item())\n",
        "\n",
        "    # Zero gradients, perform a backward pass, and update the weights.\n",
        "    optimizer.zero_grad()\n",
        "    loss.backward()\n",
        "    optimizer.step()\n",
        "\n",
        "print(f'Result: {model.string()}')"
      ],
      "execution_count": null,
      "outputs": [
        {
          "output_type": "stream",
          "text": [
            "99 2149.70556640625\n",
            "199 1470.2083740234375\n",
            "299 1007.5223388671875\n",
            "399 692.1107788085938\n",
            "499 476.8498229980469\n",
            "599 329.77142333984375\n",
            "699 229.1632537841797\n",
            "799 160.2637176513672\n",
            "899 113.0250015258789\n",
            "999 80.60042572021484\n",
            "1099 58.3189697265625\n",
            "1199 42.990352630615234\n",
            "1299 32.43324661254883\n",
            "1399 25.154510498046875\n",
            "1499 20.130582809448242\n",
            "1599 16.659332275390625\n",
            "1699 14.258384704589844\n",
            "1799 12.59603214263916\n",
            "1899 11.443916320800781\n",
            "1999 10.644678115844727\n",
            "Result: y = -0.039336882531642914 + 0.8362022638320923 x + 0.006786266341805458 x^2 + -0.09040895849466324 x^3\n"
          ],
          "name": "stdout"
        }
      ]
    },
    {
      "cell_type": "markdown",
      "metadata": {
        "id": "nscFqkj7GBqw"
      },
      "source": [
        "# PyTorch Logistic Regression"
      ]
    },
    {
      "cell_type": "markdown",
      "metadata": {
        "id": "Yp0BKShsGLHE"
      },
      "source": [
        "We will continue to use the Wisconsin Breast Cancer Dataset (used in MLIntro2-classification)"
      ]
    },
    {
      "cell_type": "code",
      "metadata": {
        "colab": {
          "base_uri": "https://localhost:8080/",
          "height": 470
        },
        "id": "9eiI7FulGE7W",
        "outputId": "c3ae687e-d942-40cd-a65a-9c23b69962da"
      },
      "source": [
        "import numpy as np\n",
        "import pandas as pd\n",
        "import sklearn.datasets\n",
        "data_dict = sklearn.datasets.load_breast_cancer()\n",
        "data = pd.DataFrame(data_dict['data'], columns=data_dict['feature_names'])\n",
        "# Target data_dict['target'] = 0 is malignant 1 is benign\n",
        "data['malignant'] = (data_dict['target'] == 0)\n",
        "data"
      ],
      "execution_count": 2,
      "outputs": [
        {
          "output_type": "execute_result",
          "data": {
            "text/html": [
              "<div>\n",
              "<style scoped>\n",
              "    .dataframe tbody tr th:only-of-type {\n",
              "        vertical-align: middle;\n",
              "    }\n",
              "\n",
              "    .dataframe tbody tr th {\n",
              "        vertical-align: top;\n",
              "    }\n",
              "\n",
              "    .dataframe thead th {\n",
              "        text-align: right;\n",
              "    }\n",
              "</style>\n",
              "<table border=\"1\" class=\"dataframe\">\n",
              "  <thead>\n",
              "    <tr style=\"text-align: right;\">\n",
              "      <th></th>\n",
              "      <th>mean radius</th>\n",
              "      <th>mean texture</th>\n",
              "      <th>mean perimeter</th>\n",
              "      <th>mean area</th>\n",
              "      <th>mean smoothness</th>\n",
              "      <th>mean compactness</th>\n",
              "      <th>mean concavity</th>\n",
              "      <th>mean concave points</th>\n",
              "      <th>mean symmetry</th>\n",
              "      <th>mean fractal dimension</th>\n",
              "      <th>radius error</th>\n",
              "      <th>texture error</th>\n",
              "      <th>perimeter error</th>\n",
              "      <th>area error</th>\n",
              "      <th>smoothness error</th>\n",
              "      <th>compactness error</th>\n",
              "      <th>concavity error</th>\n",
              "      <th>concave points error</th>\n",
              "      <th>symmetry error</th>\n",
              "      <th>fractal dimension error</th>\n",
              "      <th>worst radius</th>\n",
              "      <th>worst texture</th>\n",
              "      <th>worst perimeter</th>\n",
              "      <th>worst area</th>\n",
              "      <th>worst smoothness</th>\n",
              "      <th>worst compactness</th>\n",
              "      <th>worst concavity</th>\n",
              "      <th>worst concave points</th>\n",
              "      <th>worst symmetry</th>\n",
              "      <th>worst fractal dimension</th>\n",
              "      <th>malignant</th>\n",
              "    </tr>\n",
              "  </thead>\n",
              "  <tbody>\n",
              "    <tr>\n",
              "      <th>0</th>\n",
              "      <td>17.99</td>\n",
              "      <td>10.38</td>\n",
              "      <td>122.80</td>\n",
              "      <td>1001.0</td>\n",
              "      <td>0.11840</td>\n",
              "      <td>0.27760</td>\n",
              "      <td>0.30010</td>\n",
              "      <td>0.14710</td>\n",
              "      <td>0.2419</td>\n",
              "      <td>0.07871</td>\n",
              "      <td>1.0950</td>\n",
              "      <td>0.9053</td>\n",
              "      <td>8.589</td>\n",
              "      <td>153.40</td>\n",
              "      <td>0.006399</td>\n",
              "      <td>0.04904</td>\n",
              "      <td>0.05373</td>\n",
              "      <td>0.01587</td>\n",
              "      <td>0.03003</td>\n",
              "      <td>0.006193</td>\n",
              "      <td>25.380</td>\n",
              "      <td>17.33</td>\n",
              "      <td>184.60</td>\n",
              "      <td>2019.0</td>\n",
              "      <td>0.16220</td>\n",
              "      <td>0.66560</td>\n",
              "      <td>0.7119</td>\n",
              "      <td>0.2654</td>\n",
              "      <td>0.4601</td>\n",
              "      <td>0.11890</td>\n",
              "      <td>True</td>\n",
              "    </tr>\n",
              "    <tr>\n",
              "      <th>1</th>\n",
              "      <td>20.57</td>\n",
              "      <td>17.77</td>\n",
              "      <td>132.90</td>\n",
              "      <td>1326.0</td>\n",
              "      <td>0.08474</td>\n",
              "      <td>0.07864</td>\n",
              "      <td>0.08690</td>\n",
              "      <td>0.07017</td>\n",
              "      <td>0.1812</td>\n",
              "      <td>0.05667</td>\n",
              "      <td>0.5435</td>\n",
              "      <td>0.7339</td>\n",
              "      <td>3.398</td>\n",
              "      <td>74.08</td>\n",
              "      <td>0.005225</td>\n",
              "      <td>0.01308</td>\n",
              "      <td>0.01860</td>\n",
              "      <td>0.01340</td>\n",
              "      <td>0.01389</td>\n",
              "      <td>0.003532</td>\n",
              "      <td>24.990</td>\n",
              "      <td>23.41</td>\n",
              "      <td>158.80</td>\n",
              "      <td>1956.0</td>\n",
              "      <td>0.12380</td>\n",
              "      <td>0.18660</td>\n",
              "      <td>0.2416</td>\n",
              "      <td>0.1860</td>\n",
              "      <td>0.2750</td>\n",
              "      <td>0.08902</td>\n",
              "      <td>True</td>\n",
              "    </tr>\n",
              "    <tr>\n",
              "      <th>2</th>\n",
              "      <td>19.69</td>\n",
              "      <td>21.25</td>\n",
              "      <td>130.00</td>\n",
              "      <td>1203.0</td>\n",
              "      <td>0.10960</td>\n",
              "      <td>0.15990</td>\n",
              "      <td>0.19740</td>\n",
              "      <td>0.12790</td>\n",
              "      <td>0.2069</td>\n",
              "      <td>0.05999</td>\n",
              "      <td>0.7456</td>\n",
              "      <td>0.7869</td>\n",
              "      <td>4.585</td>\n",
              "      <td>94.03</td>\n",
              "      <td>0.006150</td>\n",
              "      <td>0.04006</td>\n",
              "      <td>0.03832</td>\n",
              "      <td>0.02058</td>\n",
              "      <td>0.02250</td>\n",
              "      <td>0.004571</td>\n",
              "      <td>23.570</td>\n",
              "      <td>25.53</td>\n",
              "      <td>152.50</td>\n",
              "      <td>1709.0</td>\n",
              "      <td>0.14440</td>\n",
              "      <td>0.42450</td>\n",
              "      <td>0.4504</td>\n",
              "      <td>0.2430</td>\n",
              "      <td>0.3613</td>\n",
              "      <td>0.08758</td>\n",
              "      <td>True</td>\n",
              "    </tr>\n",
              "    <tr>\n",
              "      <th>3</th>\n",
              "      <td>11.42</td>\n",
              "      <td>20.38</td>\n",
              "      <td>77.58</td>\n",
              "      <td>386.1</td>\n",
              "      <td>0.14250</td>\n",
              "      <td>0.28390</td>\n",
              "      <td>0.24140</td>\n",
              "      <td>0.10520</td>\n",
              "      <td>0.2597</td>\n",
              "      <td>0.09744</td>\n",
              "      <td>0.4956</td>\n",
              "      <td>1.1560</td>\n",
              "      <td>3.445</td>\n",
              "      <td>27.23</td>\n",
              "      <td>0.009110</td>\n",
              "      <td>0.07458</td>\n",
              "      <td>0.05661</td>\n",
              "      <td>0.01867</td>\n",
              "      <td>0.05963</td>\n",
              "      <td>0.009208</td>\n",
              "      <td>14.910</td>\n",
              "      <td>26.50</td>\n",
              "      <td>98.87</td>\n",
              "      <td>567.7</td>\n",
              "      <td>0.20980</td>\n",
              "      <td>0.86630</td>\n",
              "      <td>0.6869</td>\n",
              "      <td>0.2575</td>\n",
              "      <td>0.6638</td>\n",
              "      <td>0.17300</td>\n",
              "      <td>True</td>\n",
              "    </tr>\n",
              "    <tr>\n",
              "      <th>4</th>\n",
              "      <td>20.29</td>\n",
              "      <td>14.34</td>\n",
              "      <td>135.10</td>\n",
              "      <td>1297.0</td>\n",
              "      <td>0.10030</td>\n",
              "      <td>0.13280</td>\n",
              "      <td>0.19800</td>\n",
              "      <td>0.10430</td>\n",
              "      <td>0.1809</td>\n",
              "      <td>0.05883</td>\n",
              "      <td>0.7572</td>\n",
              "      <td>0.7813</td>\n",
              "      <td>5.438</td>\n",
              "      <td>94.44</td>\n",
              "      <td>0.011490</td>\n",
              "      <td>0.02461</td>\n",
              "      <td>0.05688</td>\n",
              "      <td>0.01885</td>\n",
              "      <td>0.01756</td>\n",
              "      <td>0.005115</td>\n",
              "      <td>22.540</td>\n",
              "      <td>16.67</td>\n",
              "      <td>152.20</td>\n",
              "      <td>1575.0</td>\n",
              "      <td>0.13740</td>\n",
              "      <td>0.20500</td>\n",
              "      <td>0.4000</td>\n",
              "      <td>0.1625</td>\n",
              "      <td>0.2364</td>\n",
              "      <td>0.07678</td>\n",
              "      <td>True</td>\n",
              "    </tr>\n",
              "    <tr>\n",
              "      <th>...</th>\n",
              "      <td>...</td>\n",
              "      <td>...</td>\n",
              "      <td>...</td>\n",
              "      <td>...</td>\n",
              "      <td>...</td>\n",
              "      <td>...</td>\n",
              "      <td>...</td>\n",
              "      <td>...</td>\n",
              "      <td>...</td>\n",
              "      <td>...</td>\n",
              "      <td>...</td>\n",
              "      <td>...</td>\n",
              "      <td>...</td>\n",
              "      <td>...</td>\n",
              "      <td>...</td>\n",
              "      <td>...</td>\n",
              "      <td>...</td>\n",
              "      <td>...</td>\n",
              "      <td>...</td>\n",
              "      <td>...</td>\n",
              "      <td>...</td>\n",
              "      <td>...</td>\n",
              "      <td>...</td>\n",
              "      <td>...</td>\n",
              "      <td>...</td>\n",
              "      <td>...</td>\n",
              "      <td>...</td>\n",
              "      <td>...</td>\n",
              "      <td>...</td>\n",
              "      <td>...</td>\n",
              "      <td>...</td>\n",
              "    </tr>\n",
              "    <tr>\n",
              "      <th>564</th>\n",
              "      <td>21.56</td>\n",
              "      <td>22.39</td>\n",
              "      <td>142.00</td>\n",
              "      <td>1479.0</td>\n",
              "      <td>0.11100</td>\n",
              "      <td>0.11590</td>\n",
              "      <td>0.24390</td>\n",
              "      <td>0.13890</td>\n",
              "      <td>0.1726</td>\n",
              "      <td>0.05623</td>\n",
              "      <td>1.1760</td>\n",
              "      <td>1.2560</td>\n",
              "      <td>7.673</td>\n",
              "      <td>158.70</td>\n",
              "      <td>0.010300</td>\n",
              "      <td>0.02891</td>\n",
              "      <td>0.05198</td>\n",
              "      <td>0.02454</td>\n",
              "      <td>0.01114</td>\n",
              "      <td>0.004239</td>\n",
              "      <td>25.450</td>\n",
              "      <td>26.40</td>\n",
              "      <td>166.10</td>\n",
              "      <td>2027.0</td>\n",
              "      <td>0.14100</td>\n",
              "      <td>0.21130</td>\n",
              "      <td>0.4107</td>\n",
              "      <td>0.2216</td>\n",
              "      <td>0.2060</td>\n",
              "      <td>0.07115</td>\n",
              "      <td>True</td>\n",
              "    </tr>\n",
              "    <tr>\n",
              "      <th>565</th>\n",
              "      <td>20.13</td>\n",
              "      <td>28.25</td>\n",
              "      <td>131.20</td>\n",
              "      <td>1261.0</td>\n",
              "      <td>0.09780</td>\n",
              "      <td>0.10340</td>\n",
              "      <td>0.14400</td>\n",
              "      <td>0.09791</td>\n",
              "      <td>0.1752</td>\n",
              "      <td>0.05533</td>\n",
              "      <td>0.7655</td>\n",
              "      <td>2.4630</td>\n",
              "      <td>5.203</td>\n",
              "      <td>99.04</td>\n",
              "      <td>0.005769</td>\n",
              "      <td>0.02423</td>\n",
              "      <td>0.03950</td>\n",
              "      <td>0.01678</td>\n",
              "      <td>0.01898</td>\n",
              "      <td>0.002498</td>\n",
              "      <td>23.690</td>\n",
              "      <td>38.25</td>\n",
              "      <td>155.00</td>\n",
              "      <td>1731.0</td>\n",
              "      <td>0.11660</td>\n",
              "      <td>0.19220</td>\n",
              "      <td>0.3215</td>\n",
              "      <td>0.1628</td>\n",
              "      <td>0.2572</td>\n",
              "      <td>0.06637</td>\n",
              "      <td>True</td>\n",
              "    </tr>\n",
              "    <tr>\n",
              "      <th>566</th>\n",
              "      <td>16.60</td>\n",
              "      <td>28.08</td>\n",
              "      <td>108.30</td>\n",
              "      <td>858.1</td>\n",
              "      <td>0.08455</td>\n",
              "      <td>0.10230</td>\n",
              "      <td>0.09251</td>\n",
              "      <td>0.05302</td>\n",
              "      <td>0.1590</td>\n",
              "      <td>0.05648</td>\n",
              "      <td>0.4564</td>\n",
              "      <td>1.0750</td>\n",
              "      <td>3.425</td>\n",
              "      <td>48.55</td>\n",
              "      <td>0.005903</td>\n",
              "      <td>0.03731</td>\n",
              "      <td>0.04730</td>\n",
              "      <td>0.01557</td>\n",
              "      <td>0.01318</td>\n",
              "      <td>0.003892</td>\n",
              "      <td>18.980</td>\n",
              "      <td>34.12</td>\n",
              "      <td>126.70</td>\n",
              "      <td>1124.0</td>\n",
              "      <td>0.11390</td>\n",
              "      <td>0.30940</td>\n",
              "      <td>0.3403</td>\n",
              "      <td>0.1418</td>\n",
              "      <td>0.2218</td>\n",
              "      <td>0.07820</td>\n",
              "      <td>True</td>\n",
              "    </tr>\n",
              "    <tr>\n",
              "      <th>567</th>\n",
              "      <td>20.60</td>\n",
              "      <td>29.33</td>\n",
              "      <td>140.10</td>\n",
              "      <td>1265.0</td>\n",
              "      <td>0.11780</td>\n",
              "      <td>0.27700</td>\n",
              "      <td>0.35140</td>\n",
              "      <td>0.15200</td>\n",
              "      <td>0.2397</td>\n",
              "      <td>0.07016</td>\n",
              "      <td>0.7260</td>\n",
              "      <td>1.5950</td>\n",
              "      <td>5.772</td>\n",
              "      <td>86.22</td>\n",
              "      <td>0.006522</td>\n",
              "      <td>0.06158</td>\n",
              "      <td>0.07117</td>\n",
              "      <td>0.01664</td>\n",
              "      <td>0.02324</td>\n",
              "      <td>0.006185</td>\n",
              "      <td>25.740</td>\n",
              "      <td>39.42</td>\n",
              "      <td>184.60</td>\n",
              "      <td>1821.0</td>\n",
              "      <td>0.16500</td>\n",
              "      <td>0.86810</td>\n",
              "      <td>0.9387</td>\n",
              "      <td>0.2650</td>\n",
              "      <td>0.4087</td>\n",
              "      <td>0.12400</td>\n",
              "      <td>True</td>\n",
              "    </tr>\n",
              "    <tr>\n",
              "      <th>568</th>\n",
              "      <td>7.76</td>\n",
              "      <td>24.54</td>\n",
              "      <td>47.92</td>\n",
              "      <td>181.0</td>\n",
              "      <td>0.05263</td>\n",
              "      <td>0.04362</td>\n",
              "      <td>0.00000</td>\n",
              "      <td>0.00000</td>\n",
              "      <td>0.1587</td>\n",
              "      <td>0.05884</td>\n",
              "      <td>0.3857</td>\n",
              "      <td>1.4280</td>\n",
              "      <td>2.548</td>\n",
              "      <td>19.15</td>\n",
              "      <td>0.007189</td>\n",
              "      <td>0.00466</td>\n",
              "      <td>0.00000</td>\n",
              "      <td>0.00000</td>\n",
              "      <td>0.02676</td>\n",
              "      <td>0.002783</td>\n",
              "      <td>9.456</td>\n",
              "      <td>30.37</td>\n",
              "      <td>59.16</td>\n",
              "      <td>268.6</td>\n",
              "      <td>0.08996</td>\n",
              "      <td>0.06444</td>\n",
              "      <td>0.0000</td>\n",
              "      <td>0.0000</td>\n",
              "      <td>0.2871</td>\n",
              "      <td>0.07039</td>\n",
              "      <td>False</td>\n",
              "    </tr>\n",
              "  </tbody>\n",
              "</table>\n",
              "<p>569 rows × 31 columns</p>\n",
              "</div>"
            ],
            "text/plain": [
              "     mean radius  mean texture  ...  worst fractal dimension  malignant\n",
              "0          17.99         10.38  ...                  0.11890       True\n",
              "1          20.57         17.77  ...                  0.08902       True\n",
              "2          19.69         21.25  ...                  0.08758       True\n",
              "3          11.42         20.38  ...                  0.17300       True\n",
              "4          20.29         14.34  ...                  0.07678       True\n",
              "..           ...           ...  ...                      ...        ...\n",
              "564        21.56         22.39  ...                  0.07115       True\n",
              "565        20.13         28.25  ...                  0.06637       True\n",
              "566        16.60         28.08  ...                  0.07820       True\n",
              "567        20.60         29.33  ...                  0.12400       True\n",
              "568         7.76         24.54  ...                  0.07039      False\n",
              "\n",
              "[569 rows x 31 columns]"
            ]
          },
          "metadata": {},
          "execution_count": 2
        }
      ]
    },
    {
      "cell_type": "code",
      "metadata": {
        "colab": {
          "base_uri": "https://localhost:8080/"
        },
        "id": "Y_QnZcsiGblw",
        "outputId": "3f36004f-ad18-48b8-906a-5e4be49f7b07"
      },
      "source": [
        "from sklearn.model_selection import train_test_split\n",
        "data_tr, data_te = train_test_split(data, test_size=0.10, random_state=42)\n",
        "print(\"Training Data Size: \", len(data_tr))\n",
        "print(\"Test Data Size: \", len(data_te))"
      ],
      "execution_count": 3,
      "outputs": [
        {
          "output_type": "stream",
          "name": "stdout",
          "text": [
            "Training Data Size:  512\n",
            "Test Data Size:  57\n"
          ]
        }
      ]
    },
    {
      "cell_type": "code",
      "metadata": {
        "id": "pKFvzRJZGfJC"
      },
      "source": [
        "X = data_tr[['mean radius']].to_numpy()\n",
        "Y = data_tr['malignant'].astype(float).to_numpy()"
      ],
      "execution_count": 4,
      "outputs": []
    },
    {
      "cell_type": "code",
      "metadata": {
        "id": "977hYJsVGlEb"
      },
      "source": [
        "import plotly.offline as py\n",
        "import plotly.express as px\n",
        "import plotly.graph_objects as go\n",
        "from plotly.subplots import make_subplots\n",
        "import plotly.figure_factory as ff"
      ],
      "execution_count": 6,
      "outputs": []
    },
    {
      "cell_type": "code",
      "metadata": {
        "colab": {
          "base_uri": "https://localhost:8080/",
          "height": 542
        },
        "id": "CNxxsQgqGhsL",
        "outputId": "01b12a60-f8c2-4799-8c14-200de80d624c"
      },
      "source": [
        "points = go.Scatter(x=X.flatten(), y = Y,\n",
        "                    mode=\"markers\", \n",
        "                    marker=dict(opacity=0.5))\n",
        "layout = dict(xaxis=dict(title=\"Mean Radius\"),yaxis=dict(title=\"Malignant\"))\n",
        "go.Figure(data=[points], layout=layout)"
      ],
      "execution_count": 7,
      "outputs": [
        {
          "output_type": "display_data",
          "data": {
            "text/html": [
              "<html>\n",
              "<head><meta charset=\"utf-8\" /></head>\n",
              "<body>\n",
              "    <div>\n",
              "            <script src=\"https://cdnjs.cloudflare.com/ajax/libs/mathjax/2.7.5/MathJax.js?config=TeX-AMS-MML_SVG\"></script><script type=\"text/javascript\">if (window.MathJax) {MathJax.Hub.Config({SVG: {font: \"STIX-Web\"}});}</script>\n",
              "                <script type=\"text/javascript\">window.PlotlyConfig = {MathJaxConfig: 'local'};</script>\n",
              "        <script src=\"https://cdn.plot.ly/plotly-latest.min.js\"></script>    \n",
              "            <div id=\"166cd90b-4c04-495d-92d2-f3d63b86ba08\" class=\"plotly-graph-div\" style=\"height:525px; width:100%;\"></div>\n",
              "            <script type=\"text/javascript\">\n",
              "                \n",
              "                    window.PLOTLYENV=window.PLOTLYENV || {};\n",
              "                    \n",
              "                if (document.getElementById(\"166cd90b-4c04-495d-92d2-f3d63b86ba08\")) {\n",
              "                    Plotly.newPlot(\n",
              "                        '166cd90b-4c04-495d-92d2-f3d63b86ba08',\n",
              "                        [{\"marker\": {\"opacity\": 0.5}, \"mode\": \"markers\", \"type\": \"scatter\", \"x\": [25.22, 13.48, 11.29, 12.86, 19.69, 21.56, 14.4, 12.3, 12.62, 15.78, 20.18, 11.81, 12.98, 13.77, 15.78, 14.06, 16.46, 7.729, 13.47, 14.03, 13.96, 10.75, 11.27, 16.16, 11.25, 14.48, 20.94, 17.93, 15.32, 12.46, 17.6, 12.05, 12.86, 12.0, 13.46, 15.04, 11.2, 11.22, 9.777, 20.13, 13.81, 11.15, 17.27, 15.7, 9.738, 18.05, 17.99, 10.82, 11.75, 12.34, 23.09, 14.44, 14.64, 16.07, 11.52, 14.22, 20.73, 9.029, 21.09, 9.173, 10.65, 10.17, 14.54, 14.41, 11.43, 12.25, 19.89, 12.36, 21.1, 14.87, 9.667, 13.4, 19.27, 17.99, 15.22, 14.26, 11.7, 15.27, 15.34, 13.51, 10.48, 14.64, 14.45, 11.04, 19.81, 10.26, 12.89, 13.4, 12.96, 17.75, 20.58, 15.28, 13.78, 15.1, 12.34, 8.196, 13.45, 11.32, 22.27, 19.4, 7.76, 14.86, 11.13, 9.72, 9.606, 10.08, 12.56, 15.13, 10.48, 12.78, 14.74, 9.904, 13.82, 12.89, 13.74, 13.37, 14.69, 12.91, 13.62, 17.35, 15.0, 11.8, 14.53, 13.71, 11.36, 8.726, 16.11, 18.49, 13.71, 14.47, 13.54, 15.46, 12.85, 19.21, 12.47, 12.46, 10.86, 11.37, 18.81, 13.49, 9.567, 17.14, 11.06, 14.61, 7.691, 19.07, 13.69, 19.16, 19.8, 11.46, 12.06, 13.15, 13.61, 10.26, 9.333, 11.06, 10.66, 11.84, 10.51, 12.67, 11.08, 11.04, 12.43, 14.71, 14.87, 16.65, 16.13, 12.87, 9.465, 21.75, 13.16, 10.91, 12.25, 12.75, 14.58, 12.27, 12.16, 14.27, 15.06, 27.22, 12.99, 13.27, 21.16, 13.87, 13.87, 20.16, 13.59, 12.45, 8.95, 18.65, 13.65, 15.61, 11.47, 14.42, 14.68, 12.05, 9.683, 10.97, 11.42, 12.54, 17.06, 14.34, 14.58, 11.76, 12.83, 13.03, 16.84, 20.48, 13.21, 8.671, 11.87, 12.76, 14.86, 12.65, 11.31, 11.94, 17.47, 14.96, 11.6, 12.34, 9.731, 11.27, 20.09, 14.02, 10.51, 9.876, 11.57, 12.31, 13.66, 10.32, 17.95, 12.21, 12.21, 12.87, 16.69, 12.18, 16.35, 16.5, 12.04, 10.05, 14.25, 11.28, 17.3, 20.59, 8.618, 12.63, 16.27, 12.54, 17.29, 18.03, 11.76, 13.0, 10.6, 11.62, 14.99, 11.89, 9.0, 19.18, 9.042, 11.8, 13.9, 14.95, 13.46, 25.73, 14.5, 24.63, 12.18, 12.9, 17.46, 19.44, 9.787, 12.2, 20.47, 11.85, 20.18, 24.25, 11.41, 23.29, 20.34, 13.2, 16.17, 20.44, 18.82, 21.71, 12.45, 11.95, 13.85, 15.19, 15.75, 11.06, 18.22, 19.53, 19.79, 15.05, 11.14, 12.94, 13.24, 13.05, 13.85, 13.3, 12.72, 12.0, 19.59, 20.64, 14.26, 12.81, 17.08, 9.405, 10.94, 8.597, 8.219, 10.57, 20.51, 13.2, 12.39, 23.27, 18.22, 11.71, 18.08, 14.04, 15.66, 11.22, 11.93, 11.41, 12.72, 10.57, 13.27, 18.01, 9.397, 14.76, 19.0, 11.51, 12.58, 9.847, 9.676, 12.36, 11.63, 17.91, 15.71, 14.8, 13.17, 14.97, 14.78, 16.24, 18.46, 11.3, 18.31, 14.92, 10.9, 19.17, 16.74, 15.3, 12.32, 11.43, 11.68, 11.16, 14.53, 13.56, 11.34, 20.26, 13.64, 13.64, 14.59, 15.75, 9.668, 13.01, 16.25, 10.95, 8.571, 15.46, 9.876, 15.49, 19.4, 8.878, 12.8, 19.45, 12.22, 20.29, 19.55, 10.96, 14.9, 13.61, 10.44, 12.88, 17.42, 9.436, 13.43, 11.6, 12.95, 13.86, 8.598, 16.14, 13.17, 17.02, 15.5, 13.59, 12.03, 12.23, 18.45, 18.61, 11.49, 17.05, 20.31, 13.66, 11.26, 12.7, 19.59, 8.734, 18.31, 14.95, 14.25, 12.77, 15.1, 12.77, 13.0, 14.11, 11.71, 12.68, 19.53, 13.73, 17.68, 13.44, 11.08, 11.71, 12.46, 11.89, 12.27, 13.85, 11.94, 11.26, 18.77, 23.21, 17.01, 28.11, 13.77, 11.69, 11.5, 14.05, 27.42, 13.38, 16.6, 10.49, 11.66, 10.71, 13.7, 11.99, 17.54, 19.19, 13.28, 10.2, 11.93, 14.22, 14.2, 13.05, 15.53, 13.11, 19.55, 20.57, 12.07, 11.45, 15.12, 16.13, 16.3, 10.8, 12.62, 20.2, 15.37, 23.51, 10.26, 12.42, 15.85, 12.49, 13.88, 9.742, 10.8, 20.92, 15.73, 12.88, 9.268, 13.75, 12.3, 12.83, 11.74, 13.05, 10.88, 19.73, 9.504, 11.54, 9.755, 11.75, 11.33, 12.77, 14.6, 14.99, 17.85, 19.68, 13.5, 12.19, 14.42, 21.37, 19.02, 13.0, 16.03, 14.19, 13.14, 18.66, 13.08, 8.888, 11.64, 14.29, 13.98, 12.18], \"y\": [1.0, 1.0, 0.0, 0.0, 1.0, 1.0, 0.0, 0.0, 0.0, 1.0, 1.0, 0.0, 0.0, 1.0, 1.0, 0.0, 1.0, 0.0, 0.0, 0.0, 1.0, 0.0, 0.0, 1.0, 0.0, 1.0, 1.0, 1.0, 1.0, 1.0, 1.0, 0.0, 0.0, 0.0, 0.0, 0.0, 0.0, 0.0, 0.0, 1.0, 1.0, 0.0, 1.0, 1.0, 0.0, 1.0, 1.0, 0.0, 0.0, 0.0, 1.0, 0.0, 0.0, 1.0, 0.0, 0.0, 1.0, 0.0, 1.0, 0.0, 0.0, 0.0, 1.0, 0.0, 0.0, 0.0, 1.0, 0.0, 1.0, 1.0, 0.0, 0.0, 1.0, 1.0, 1.0, 0.0, 0.0, 0.0, 1.0, 0.0, 0.0, 0.0, 1.0, 0.0, 1.0, 0.0, 0.0, 1.0, 0.0, 1.0, 1.0, 1.0, 0.0, 1.0, 0.0, 0.0, 0.0, 0.0, 1.0, 1.0, 0.0, 0.0, 0.0, 0.0, 0.0, 0.0, 0.0, 1.0, 0.0, 0.0, 0.0, 0.0, 1.0, 0.0, 0.0, 0.0, 0.0, 0.0, 0.0, 1.0, 0.0, 0.0, 0.0, 0.0, 0.0, 0.0, 1.0, 1.0, 1.0, 0.0, 0.0, 1.0, 0.0, 1.0, 0.0, 0.0, 0.0, 0.0, 1.0, 0.0, 0.0, 1.0, 0.0, 0.0, 0.0, 1.0, 0.0, 1.0, 1.0, 0.0, 0.0, 0.0, 1.0, 0.0, 0.0, 0.0, 0.0, 1.0, 0.0, 0.0, 0.0, 0.0, 0.0, 1.0, 0.0, 1.0, 1.0, 0.0, 0.0, 1.0, 0.0, 0.0, 0.0, 0.0, 0.0, 0.0, 0.0, 1.0, 1.0, 1.0, 0.0, 0.0, 1.0, 0.0, 0.0, 1.0, 0.0, 1.0, 0.0, 1.0, 0.0, 1.0, 0.0, 0.0, 1.0, 0.0, 0.0, 0.0, 1.0, 0.0, 1.0, 0.0, 1.0, 0.0, 1.0, 0.0, 0.0, 1.0, 0.0, 0.0, 0.0, 0.0, 1.0, 0.0, 0.0, 0.0, 1.0, 0.0, 0.0, 1.0, 0.0, 0.0, 1.0, 0.0, 0.0, 0.0, 0.0, 0.0, 0.0, 0.0, 1.0, 0.0, 0.0, 0.0, 1.0, 0.0, 1.0, 0.0, 0.0, 0.0, 1.0, 0.0, 1.0, 1.0, 0.0, 0.0, 1.0, 0.0, 1.0, 1.0, 1.0, 0.0, 0.0, 0.0, 1.0, 0.0, 0.0, 1.0, 0.0, 1.0, 0.0, 0.0, 0.0, 1.0, 0.0, 1.0, 0.0, 0.0, 1.0, 1.0, 0.0, 0.0, 1.0, 0.0, 1.0, 1.0, 0.0, 1.0, 1.0, 0.0, 0.0, 1.0, 1.0, 1.0, 0.0, 0.0, 0.0, 0.0, 1.0, 0.0, 1.0, 1.0, 1.0, 1.0, 0.0, 0.0, 0.0, 0.0, 0.0, 0.0, 0.0, 0.0, 1.0, 1.0, 0.0, 0.0, 1.0, 0.0, 0.0, 0.0, 0.0, 0.0, 1.0, 0.0, 0.0, 1.0, 1.0, 0.0, 1.0, 0.0, 1.0, 0.0, 0.0, 0.0, 0.0, 0.0, 0.0, 1.0, 0.0, 0.0, 1.0, 0.0, 0.0, 0.0, 0.0, 0.0, 0.0, 1.0, 0.0, 0.0, 1.0, 0.0, 1.0, 1.0, 1.0, 0.0, 1.0, 0.0, 0.0, 1.0, 1.0, 1.0, 0.0, 0.0, 0.0, 0.0, 0.0, 0.0, 0.0, 1.0, 0.0, 0.0, 0.0, 1.0, 0.0, 0.0, 1.0, 1.0, 0.0, 1.0, 0.0, 1.0, 1.0, 0.0, 0.0, 1.0, 0.0, 1.0, 1.0, 0.0, 1.0, 1.0, 0.0, 0.0, 1.0, 0.0, 1.0, 0.0, 0.0, 1.0, 0.0, 0.0, 1.0, 1.0, 1.0, 0.0, 0.0, 0.0, 1.0, 1.0, 0.0, 1.0, 1.0, 0.0, 0.0, 0.0, 1.0, 0.0, 1.0, 1.0, 1.0, 1.0, 0.0, 0.0, 1.0, 0.0, 0.0, 1.0, 1.0, 1.0, 1.0, 1.0, 1.0, 0.0, 0.0, 0.0, 0.0, 0.0, 0.0, 0.0, 1.0, 1.0, 1.0, 1.0, 0.0, 0.0, 0.0, 0.0, 1.0, 0.0, 1.0, 0.0, 0.0, 0.0, 0.0, 0.0, 1.0, 1.0, 1.0, 0.0, 0.0, 1.0, 0.0, 0.0, 1.0, 1.0, 1.0, 1.0, 0.0, 0.0, 1.0, 1.0, 0.0, 0.0, 0.0, 1.0, 1.0, 1.0, 0.0, 0.0, 1.0, 0.0, 0.0, 0.0, 0.0, 1.0, 0.0, 0.0, 0.0, 0.0, 0.0, 0.0, 0.0, 0.0, 0.0, 1.0, 0.0, 0.0, 0.0, 0.0, 0.0, 0.0, 1.0, 0.0, 0.0, 1.0, 0.0, 0.0, 1.0, 1.0, 1.0, 0.0, 1.0, 1.0, 0.0, 1.0, 0.0, 0.0, 0.0, 0.0, 1.0, 0.0]}],\n",
              "                        {\"template\": {\"data\": {\"bar\": [{\"error_x\": {\"color\": \"#2a3f5f\"}, \"error_y\": {\"color\": \"#2a3f5f\"}, \"marker\": {\"line\": {\"color\": \"#E5ECF6\", \"width\": 0.5}}, \"type\": \"bar\"}], \"barpolar\": [{\"marker\": {\"line\": {\"color\": \"#E5ECF6\", \"width\": 0.5}}, \"type\": \"barpolar\"}], \"carpet\": [{\"aaxis\": {\"endlinecolor\": \"#2a3f5f\", \"gridcolor\": \"white\", \"linecolor\": \"white\", \"minorgridcolor\": \"white\", \"startlinecolor\": \"#2a3f5f\"}, \"baxis\": {\"endlinecolor\": \"#2a3f5f\", \"gridcolor\": \"white\", \"linecolor\": \"white\", \"minorgridcolor\": \"white\", \"startlinecolor\": \"#2a3f5f\"}, \"type\": \"carpet\"}], \"choropleth\": [{\"colorbar\": {\"outlinewidth\": 0, \"ticks\": \"\"}, \"type\": \"choropleth\"}], \"contour\": [{\"colorbar\": {\"outlinewidth\": 0, \"ticks\": \"\"}, \"colorscale\": [[0.0, \"#0d0887\"], [0.1111111111111111, \"#46039f\"], [0.2222222222222222, \"#7201a8\"], [0.3333333333333333, \"#9c179e\"], [0.4444444444444444, \"#bd3786\"], [0.5555555555555556, \"#d8576b\"], [0.6666666666666666, \"#ed7953\"], [0.7777777777777778, \"#fb9f3a\"], [0.8888888888888888, \"#fdca26\"], [1.0, \"#f0f921\"]], \"type\": \"contour\"}], \"contourcarpet\": [{\"colorbar\": {\"outlinewidth\": 0, \"ticks\": \"\"}, \"type\": \"contourcarpet\"}], \"heatmap\": [{\"colorbar\": {\"outlinewidth\": 0, \"ticks\": \"\"}, \"colorscale\": [[0.0, \"#0d0887\"], [0.1111111111111111, \"#46039f\"], [0.2222222222222222, \"#7201a8\"], [0.3333333333333333, \"#9c179e\"], [0.4444444444444444, \"#bd3786\"], [0.5555555555555556, \"#d8576b\"], [0.6666666666666666, \"#ed7953\"], [0.7777777777777778, \"#fb9f3a\"], [0.8888888888888888, \"#fdca26\"], [1.0, \"#f0f921\"]], \"type\": \"heatmap\"}], \"heatmapgl\": [{\"colorbar\": {\"outlinewidth\": 0, \"ticks\": \"\"}, \"colorscale\": [[0.0, \"#0d0887\"], [0.1111111111111111, \"#46039f\"], [0.2222222222222222, \"#7201a8\"], [0.3333333333333333, \"#9c179e\"], [0.4444444444444444, \"#bd3786\"], [0.5555555555555556, \"#d8576b\"], [0.6666666666666666, \"#ed7953\"], [0.7777777777777778, \"#fb9f3a\"], [0.8888888888888888, \"#fdca26\"], [1.0, \"#f0f921\"]], \"type\": \"heatmapgl\"}], \"histogram\": [{\"marker\": {\"colorbar\": {\"outlinewidth\": 0, \"ticks\": \"\"}}, \"type\": \"histogram\"}], \"histogram2d\": [{\"colorbar\": {\"outlinewidth\": 0, \"ticks\": \"\"}, \"colorscale\": [[0.0, \"#0d0887\"], [0.1111111111111111, \"#46039f\"], [0.2222222222222222, \"#7201a8\"], [0.3333333333333333, \"#9c179e\"], [0.4444444444444444, \"#bd3786\"], [0.5555555555555556, \"#d8576b\"], [0.6666666666666666, \"#ed7953\"], [0.7777777777777778, \"#fb9f3a\"], [0.8888888888888888, \"#fdca26\"], [1.0, \"#f0f921\"]], \"type\": \"histogram2d\"}], \"histogram2dcontour\": [{\"colorbar\": {\"outlinewidth\": 0, \"ticks\": \"\"}, \"colorscale\": [[0.0, \"#0d0887\"], [0.1111111111111111, \"#46039f\"], [0.2222222222222222, \"#7201a8\"], [0.3333333333333333, \"#9c179e\"], [0.4444444444444444, \"#bd3786\"], [0.5555555555555556, \"#d8576b\"], [0.6666666666666666, \"#ed7953\"], [0.7777777777777778, \"#fb9f3a\"], [0.8888888888888888, \"#fdca26\"], [1.0, \"#f0f921\"]], \"type\": \"histogram2dcontour\"}], \"mesh3d\": [{\"colorbar\": {\"outlinewidth\": 0, \"ticks\": \"\"}, \"type\": \"mesh3d\"}], \"parcoords\": [{\"line\": {\"colorbar\": {\"outlinewidth\": 0, \"ticks\": \"\"}}, \"type\": \"parcoords\"}], \"pie\": [{\"automargin\": true, \"type\": \"pie\"}], \"scatter\": [{\"marker\": {\"colorbar\": {\"outlinewidth\": 0, \"ticks\": \"\"}}, \"type\": \"scatter\"}], \"scatter3d\": [{\"line\": {\"colorbar\": {\"outlinewidth\": 0, \"ticks\": \"\"}}, \"marker\": {\"colorbar\": {\"outlinewidth\": 0, \"ticks\": \"\"}}, \"type\": \"scatter3d\"}], \"scattercarpet\": [{\"marker\": {\"colorbar\": {\"outlinewidth\": 0, \"ticks\": \"\"}}, \"type\": \"scattercarpet\"}], \"scattergeo\": [{\"marker\": {\"colorbar\": {\"outlinewidth\": 0, \"ticks\": \"\"}}, \"type\": \"scattergeo\"}], \"scattergl\": [{\"marker\": {\"colorbar\": {\"outlinewidth\": 0, \"ticks\": \"\"}}, \"type\": \"scattergl\"}], \"scattermapbox\": [{\"marker\": {\"colorbar\": {\"outlinewidth\": 0, \"ticks\": \"\"}}, \"type\": \"scattermapbox\"}], \"scatterpolar\": [{\"marker\": {\"colorbar\": {\"outlinewidth\": 0, \"ticks\": \"\"}}, \"type\": \"scatterpolar\"}], \"scatterpolargl\": [{\"marker\": {\"colorbar\": {\"outlinewidth\": 0, \"ticks\": \"\"}}, \"type\": \"scatterpolargl\"}], \"scatterternary\": [{\"marker\": {\"colorbar\": {\"outlinewidth\": 0, \"ticks\": \"\"}}, \"type\": \"scatterternary\"}], \"surface\": [{\"colorbar\": {\"outlinewidth\": 0, \"ticks\": \"\"}, \"colorscale\": [[0.0, \"#0d0887\"], [0.1111111111111111, \"#46039f\"], [0.2222222222222222, \"#7201a8\"], [0.3333333333333333, \"#9c179e\"], [0.4444444444444444, \"#bd3786\"], [0.5555555555555556, \"#d8576b\"], [0.6666666666666666, \"#ed7953\"], [0.7777777777777778, \"#fb9f3a\"], [0.8888888888888888, \"#fdca26\"], [1.0, \"#f0f921\"]], \"type\": \"surface\"}], \"table\": [{\"cells\": {\"fill\": {\"color\": \"#EBF0F8\"}, \"line\": {\"color\": \"white\"}}, \"header\": {\"fill\": {\"color\": \"#C8D4E3\"}, \"line\": {\"color\": \"white\"}}, \"type\": \"table\"}]}, \"layout\": {\"annotationdefaults\": {\"arrowcolor\": \"#2a3f5f\", \"arrowhead\": 0, \"arrowwidth\": 1}, \"coloraxis\": {\"colorbar\": {\"outlinewidth\": 0, \"ticks\": \"\"}}, \"colorscale\": {\"diverging\": [[0, \"#8e0152\"], [0.1, \"#c51b7d\"], [0.2, \"#de77ae\"], [0.3, \"#f1b6da\"], [0.4, \"#fde0ef\"], [0.5, \"#f7f7f7\"], [0.6, \"#e6f5d0\"], [0.7, \"#b8e186\"], [0.8, \"#7fbc41\"], [0.9, \"#4d9221\"], [1, \"#276419\"]], \"sequential\": [[0.0, \"#0d0887\"], [0.1111111111111111, \"#46039f\"], [0.2222222222222222, \"#7201a8\"], [0.3333333333333333, \"#9c179e\"], [0.4444444444444444, \"#bd3786\"], [0.5555555555555556, \"#d8576b\"], [0.6666666666666666, \"#ed7953\"], [0.7777777777777778, \"#fb9f3a\"], [0.8888888888888888, \"#fdca26\"], [1.0, \"#f0f921\"]], \"sequentialminus\": [[0.0, \"#0d0887\"], [0.1111111111111111, \"#46039f\"], [0.2222222222222222, \"#7201a8\"], [0.3333333333333333, \"#9c179e\"], [0.4444444444444444, \"#bd3786\"], [0.5555555555555556, \"#d8576b\"], [0.6666666666666666, \"#ed7953\"], [0.7777777777777778, \"#fb9f3a\"], [0.8888888888888888, \"#fdca26\"], [1.0, \"#f0f921\"]]}, \"colorway\": [\"#636efa\", \"#EF553B\", \"#00cc96\", \"#ab63fa\", \"#FFA15A\", \"#19d3f3\", \"#FF6692\", \"#B6E880\", \"#FF97FF\", \"#FECB52\"], \"font\": {\"color\": \"#2a3f5f\"}, \"geo\": {\"bgcolor\": \"white\", \"lakecolor\": \"white\", \"landcolor\": \"#E5ECF6\", \"showlakes\": true, \"showland\": true, \"subunitcolor\": \"white\"}, \"hoverlabel\": {\"align\": \"left\"}, \"hovermode\": \"closest\", \"mapbox\": {\"style\": \"light\"}, \"paper_bgcolor\": \"white\", \"plot_bgcolor\": \"#E5ECF6\", \"polar\": {\"angularaxis\": {\"gridcolor\": \"white\", \"linecolor\": \"white\", \"ticks\": \"\"}, \"bgcolor\": \"#E5ECF6\", \"radialaxis\": {\"gridcolor\": \"white\", \"linecolor\": \"white\", \"ticks\": \"\"}}, \"scene\": {\"xaxis\": {\"backgroundcolor\": \"#E5ECF6\", \"gridcolor\": \"white\", \"gridwidth\": 2, \"linecolor\": \"white\", \"showbackground\": true, \"ticks\": \"\", \"zerolinecolor\": \"white\"}, \"yaxis\": {\"backgroundcolor\": \"#E5ECF6\", \"gridcolor\": \"white\", \"gridwidth\": 2, \"linecolor\": \"white\", \"showbackground\": true, \"ticks\": \"\", \"zerolinecolor\": \"white\"}, \"zaxis\": {\"backgroundcolor\": \"#E5ECF6\", \"gridcolor\": \"white\", \"gridwidth\": 2, \"linecolor\": \"white\", \"showbackground\": true, \"ticks\": \"\", \"zerolinecolor\": \"white\"}}, \"shapedefaults\": {\"line\": {\"color\": \"#2a3f5f\"}}, \"ternary\": {\"aaxis\": {\"gridcolor\": \"white\", \"linecolor\": \"white\", \"ticks\": \"\"}, \"baxis\": {\"gridcolor\": \"white\", \"linecolor\": \"white\", \"ticks\": \"\"}, \"bgcolor\": \"#E5ECF6\", \"caxis\": {\"gridcolor\": \"white\", \"linecolor\": \"white\", \"ticks\": \"\"}}, \"title\": {\"x\": 0.05}, \"xaxis\": {\"automargin\": true, \"gridcolor\": \"white\", \"linecolor\": \"white\", \"ticks\": \"\", \"title\": {\"standoff\": 15}, \"zerolinecolor\": \"white\", \"zerolinewidth\": 2}, \"yaxis\": {\"automargin\": true, \"gridcolor\": \"white\", \"linecolor\": \"white\", \"ticks\": \"\", \"title\": {\"standoff\": 15}, \"zerolinecolor\": \"white\", \"zerolinewidth\": 2}}}, \"xaxis\": {\"title\": {\"text\": \"Mean Radius\"}}, \"yaxis\": {\"title\": {\"text\": \"Malignant\"}}},\n",
              "                        {\"responsive\": true}\n",
              "                    ).then(function(){\n",
              "                            \n",
              "var gd = document.getElementById('166cd90b-4c04-495d-92d2-f3d63b86ba08');\n",
              "var x = new MutationObserver(function (mutations, observer) {{\n",
              "        var display = window.getComputedStyle(gd).display;\n",
              "        if (!display || display === 'none') {{\n",
              "            console.log([gd, 'removed!']);\n",
              "            Plotly.purge(gd);\n",
              "            observer.disconnect();\n",
              "        }}\n",
              "}});\n",
              "\n",
              "// Listen for the removal of the full notebook cells\n",
              "var notebookContainer = gd.closest('#notebook-container');\n",
              "if (notebookContainer) {{\n",
              "    x.observe(notebookContainer, {childList: true});\n",
              "}}\n",
              "\n",
              "// Listen for the clearing of the current output cell\n",
              "var outputEl = gd.closest('.output');\n",
              "if (outputEl) {{\n",
              "    x.observe(outputEl, {childList: true});\n",
              "}}\n",
              "\n",
              "                        })\n",
              "                };\n",
              "                \n",
              "            </script>\n",
              "        </div>\n",
              "</body>\n",
              "</html>"
            ]
          },
          "metadata": {}
        }
      ]
    },
    {
      "cell_type": "markdown",
      "metadata": {
        "id": "-EmqIMBdGzSE"
      },
      "source": [
        "## Defining the Logistic Model"
      ]
    },
    {
      "cell_type": "markdown",
      "metadata": {
        "id": "PvZMosScH5mT"
      },
      "source": [
        "![Screen Shot 2021-08-31 at 11.39.45 PM.png](data:image/png;base64,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)![Screen Shot 2021-08-31 at 11.38.26 PM.png](data:image/png;base64,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)"
      ]
    },
    {
      "cell_type": "code",
      "metadata": {
        "id": "-_LwjCF5Gw2O"
      },
      "source": [
        "import torch\n",
        "from torch import nn\n",
        "\n",
        "class LogisticModel(nn.Module):\n",
        "    def __init__(self, w=None):\n",
        "        super().__init__()\n",
        "        # Creating a nn.Parameter object allows torch to track parameters for us\n",
        "        if w is not None: \n",
        "            self.w = nn.Parameter(torch.from_numpy(w))\n",
        "        else: \n",
        "            self.w = nn.Parameter(torch.zeros(2,1))\n",
        "    \n",
        "    def forward(self, x):\n",
        "        w = self.w\n",
        "        return 1/(1 + torch.exp(-(w[0] + w[1] * x)))"
      ],
      "execution_count": 8,
      "outputs": []
    },
    {
      "cell_type": "code",
      "metadata": {
        "colab": {
          "base_uri": "https://localhost:8080/"
        },
        "id": "5LroNcvQG2er",
        "outputId": "fb5760df-82c0-408d-976a-0c22241df078"
      },
      "source": [
        "torch_lr_model = LogisticModel(np.array([0.,1.]))\n",
        "torch_lr_model.forward(3)"
      ],
      "execution_count": 9,
      "outputs": [
        {
          "output_type": "execute_result",
          "data": {
            "text/plain": [
              "tensor(0.9526, dtype=torch.float64, grad_fn=<MulBackward0>)"
            ]
          },
          "metadata": {},
          "execution_count": 9
        }
      ]
    },
    {
      "cell_type": "code",
      "metadata": {
        "id": "OV81XUzLHDkL"
      },
      "source": [
        "#Defining the Cross Entropy Loss\n",
        "def torch_cross_entropy_loss(P_hat, Y):\n",
        "    return -torch.sum(Y * torch.log(P_hat) + (1-Y) * torch.log(1 - P_hat))"
      ],
      "execution_count": 10,
      "outputs": []
    },
    {
      "cell_type": "code",
      "metadata": {
        "id": "ij1W2yMYHIDK"
      },
      "source": [
        "#Converting Data to PyTorch Tensors\n",
        "from torch.utils.data import TensorDataset, DataLoader\n",
        "tensor_data = TensorDataset(torch.from_numpy(X.flatten()), \n",
        "                            torch.from_numpy(Y))"
      ],
      "execution_count": 11,
      "outputs": []
    },
    {
      "cell_type": "code",
      "metadata": {
        "id": "khev0tsNHM1Y"
      },
      "source": [
        "#Implementing Gradient Descent\n",
        "from torch.optim import Adam, SGD\n",
        "def adam_sgd(model, loss_fn, dataset, lr=.1, nepochs=100, batch_size=10):\n",
        "    loader = DataLoader(dataset, batch_size=batch_size, shuffle=True)\n",
        "    opt = Adam(model.parameters(), lr=lr)\n",
        "    for i in range(nepochs):\n",
        "        for (x, y) in loader:\n",
        "            loss = loss_fn(model(x), y)\n",
        "            loss.backward()\n",
        "            opt.step()\n",
        "            model.zero_grad()"
      ],
      "execution_count": 12,
      "outputs": []
    },
    {
      "cell_type": "code",
      "metadata": {
        "colab": {
          "base_uri": "https://localhost:8080/"
        },
        "id": "9eEgFOzQHQfQ",
        "outputId": "f31a0bad-688a-4f27-eb16-14aa0f5a2c6c"
      },
      "source": [
        "#Run the Optimizer on The Model\n",
        "torch_lr_model = LogisticModel(np.array([0.,1.]))\n",
        "adam_sgd(torch_lr_model, torch_cross_entropy_loss, tensor_data, lr=0.1)\n",
        "torch_lr_model.w"
      ],
      "execution_count": 13,
      "outputs": [
        {
          "output_type": "execute_result",
          "data": {
            "text/plain": [
              "Parameter containing:\n",
              "tensor([-15.7679,   1.0712], dtype=torch.float64, requires_grad=True)"
            ]
          },
          "metadata": {},
          "execution_count": 13
        }
      ]
    },
    {
      "cell_type": "code",
      "metadata": {
        "id": "poCppqzmHhhU"
      },
      "source": [
        "X_plt = np.expand_dims(np.linspace(X.min(), X.max(), 100),1)"
      ],
      "execution_count": 15,
      "outputs": []
    },
    {
      "cell_type": "code",
      "metadata": {
        "id": "H5_pwGAFHUVJ"
      },
      "source": [
        "#Plot Predictions\n",
        "with torch.no_grad():\n",
        "    torch_p_hats = torch_lr_model.forward(torch.from_numpy(X_plt.flatten())).numpy()"
      ],
      "execution_count": 16,
      "outputs": []
    },
    {
      "cell_type": "code",
      "metadata": {
        "colab": {
          "base_uri": "https://localhost:8080/",
          "height": 542
        },
        "id": "XFTFQ3QfHX2G",
        "outputId": "c82bd585-d4ce-42b4-ee5a-f32ec3bd1d94"
      },
      "source": [
        "fig = go.Figure([points], layout=layout)\n",
        "pytorch_lr_line = go.Scatter(name = \"Pytorch Logistic Regression\", \n",
        "                         x=X_plt.flatten(), y=torch_p_hats,\n",
        "                         line=dict(color=\"cyan\", width=3))\n",
        "fig.add_trace(pytorch_lr_line)\n",
        "fig"
      ],
      "execution_count": 17,
      "outputs": [
        {
          "output_type": "display_data",
          "data": {
            "text/html": [
              "<html>\n",
              "<head><meta charset=\"utf-8\" /></head>\n",
              "<body>\n",
              "    <div>\n",
              "            <script src=\"https://cdnjs.cloudflare.com/ajax/libs/mathjax/2.7.5/MathJax.js?config=TeX-AMS-MML_SVG\"></script><script type=\"text/javascript\">if (window.MathJax) {MathJax.Hub.Config({SVG: {font: \"STIX-Web\"}});}</script>\n",
              "                <script type=\"text/javascript\">window.PlotlyConfig = {MathJaxConfig: 'local'};</script>\n",
              "        <script src=\"https://cdn.plot.ly/plotly-latest.min.js\"></script>    \n",
              "            <div id=\"8b08abe7-f184-4e3e-98e4-0ecdba3ece61\" class=\"plotly-graph-div\" style=\"height:525px; width:100%;\"></div>\n",
              "            <script type=\"text/javascript\">\n",
              "                \n",
              "                    window.PLOTLYENV=window.PLOTLYENV || {};\n",
              "                    \n",
              "                if (document.getElementById(\"8b08abe7-f184-4e3e-98e4-0ecdba3ece61\")) {\n",
              "                    Plotly.newPlot(\n",
              "                        '8b08abe7-f184-4e3e-98e4-0ecdba3ece61',\n",
              "                        [{\"marker\": {\"opacity\": 0.5}, \"mode\": \"markers\", \"type\": \"scatter\", \"x\": [25.22, 13.48, 11.29, 12.86, 19.69, 21.56, 14.4, 12.3, 12.62, 15.78, 20.18, 11.81, 12.98, 13.77, 15.78, 14.06, 16.46, 7.729, 13.47, 14.03, 13.96, 10.75, 11.27, 16.16, 11.25, 14.48, 20.94, 17.93, 15.32, 12.46, 17.6, 12.05, 12.86, 12.0, 13.46, 15.04, 11.2, 11.22, 9.777, 20.13, 13.81, 11.15, 17.27, 15.7, 9.738, 18.05, 17.99, 10.82, 11.75, 12.34, 23.09, 14.44, 14.64, 16.07, 11.52, 14.22, 20.73, 9.029, 21.09, 9.173, 10.65, 10.17, 14.54, 14.41, 11.43, 12.25, 19.89, 12.36, 21.1, 14.87, 9.667, 13.4, 19.27, 17.99, 15.22, 14.26, 11.7, 15.27, 15.34, 13.51, 10.48, 14.64, 14.45, 11.04, 19.81, 10.26, 12.89, 13.4, 12.96, 17.75, 20.58, 15.28, 13.78, 15.1, 12.34, 8.196, 13.45, 11.32, 22.27, 19.4, 7.76, 14.86, 11.13, 9.72, 9.606, 10.08, 12.56, 15.13, 10.48, 12.78, 14.74, 9.904, 13.82, 12.89, 13.74, 13.37, 14.69, 12.91, 13.62, 17.35, 15.0, 11.8, 14.53, 13.71, 11.36, 8.726, 16.11, 18.49, 13.71, 14.47, 13.54, 15.46, 12.85, 19.21, 12.47, 12.46, 10.86, 11.37, 18.81, 13.49, 9.567, 17.14, 11.06, 14.61, 7.691, 19.07, 13.69, 19.16, 19.8, 11.46, 12.06, 13.15, 13.61, 10.26, 9.333, 11.06, 10.66, 11.84, 10.51, 12.67, 11.08, 11.04, 12.43, 14.71, 14.87, 16.65, 16.13, 12.87, 9.465, 21.75, 13.16, 10.91, 12.25, 12.75, 14.58, 12.27, 12.16, 14.27, 15.06, 27.22, 12.99, 13.27, 21.16, 13.87, 13.87, 20.16, 13.59, 12.45, 8.95, 18.65, 13.65, 15.61, 11.47, 14.42, 14.68, 12.05, 9.683, 10.97, 11.42, 12.54, 17.06, 14.34, 14.58, 11.76, 12.83, 13.03, 16.84, 20.48, 13.21, 8.671, 11.87, 12.76, 14.86, 12.65, 11.31, 11.94, 17.47, 14.96, 11.6, 12.34, 9.731, 11.27, 20.09, 14.02, 10.51, 9.876, 11.57, 12.31, 13.66, 10.32, 17.95, 12.21, 12.21, 12.87, 16.69, 12.18, 16.35, 16.5, 12.04, 10.05, 14.25, 11.28, 17.3, 20.59, 8.618, 12.63, 16.27, 12.54, 17.29, 18.03, 11.76, 13.0, 10.6, 11.62, 14.99, 11.89, 9.0, 19.18, 9.042, 11.8, 13.9, 14.95, 13.46, 25.73, 14.5, 24.63, 12.18, 12.9, 17.46, 19.44, 9.787, 12.2, 20.47, 11.85, 20.18, 24.25, 11.41, 23.29, 20.34, 13.2, 16.17, 20.44, 18.82, 21.71, 12.45, 11.95, 13.85, 15.19, 15.75, 11.06, 18.22, 19.53, 19.79, 15.05, 11.14, 12.94, 13.24, 13.05, 13.85, 13.3, 12.72, 12.0, 19.59, 20.64, 14.26, 12.81, 17.08, 9.405, 10.94, 8.597, 8.219, 10.57, 20.51, 13.2, 12.39, 23.27, 18.22, 11.71, 18.08, 14.04, 15.66, 11.22, 11.93, 11.41, 12.72, 10.57, 13.27, 18.01, 9.397, 14.76, 19.0, 11.51, 12.58, 9.847, 9.676, 12.36, 11.63, 17.91, 15.71, 14.8, 13.17, 14.97, 14.78, 16.24, 18.46, 11.3, 18.31, 14.92, 10.9, 19.17, 16.74, 15.3, 12.32, 11.43, 11.68, 11.16, 14.53, 13.56, 11.34, 20.26, 13.64, 13.64, 14.59, 15.75, 9.668, 13.01, 16.25, 10.95, 8.571, 15.46, 9.876, 15.49, 19.4, 8.878, 12.8, 19.45, 12.22, 20.29, 19.55, 10.96, 14.9, 13.61, 10.44, 12.88, 17.42, 9.436, 13.43, 11.6, 12.95, 13.86, 8.598, 16.14, 13.17, 17.02, 15.5, 13.59, 12.03, 12.23, 18.45, 18.61, 11.49, 17.05, 20.31, 13.66, 11.26, 12.7, 19.59, 8.734, 18.31, 14.95, 14.25, 12.77, 15.1, 12.77, 13.0, 14.11, 11.71, 12.68, 19.53, 13.73, 17.68, 13.44, 11.08, 11.71, 12.46, 11.89, 12.27, 13.85, 11.94, 11.26, 18.77, 23.21, 17.01, 28.11, 13.77, 11.69, 11.5, 14.05, 27.42, 13.38, 16.6, 10.49, 11.66, 10.71, 13.7, 11.99, 17.54, 19.19, 13.28, 10.2, 11.93, 14.22, 14.2, 13.05, 15.53, 13.11, 19.55, 20.57, 12.07, 11.45, 15.12, 16.13, 16.3, 10.8, 12.62, 20.2, 15.37, 23.51, 10.26, 12.42, 15.85, 12.49, 13.88, 9.742, 10.8, 20.92, 15.73, 12.88, 9.268, 13.75, 12.3, 12.83, 11.74, 13.05, 10.88, 19.73, 9.504, 11.54, 9.755, 11.75, 11.33, 12.77, 14.6, 14.99, 17.85, 19.68, 13.5, 12.19, 14.42, 21.37, 19.02, 13.0, 16.03, 14.19, 13.14, 18.66, 13.08, 8.888, 11.64, 14.29, 13.98, 12.18], \"y\": [1.0, 1.0, 0.0, 0.0, 1.0, 1.0, 0.0, 0.0, 0.0, 1.0, 1.0, 0.0, 0.0, 1.0, 1.0, 0.0, 1.0, 0.0, 0.0, 0.0, 1.0, 0.0, 0.0, 1.0, 0.0, 1.0, 1.0, 1.0, 1.0, 1.0, 1.0, 0.0, 0.0, 0.0, 0.0, 0.0, 0.0, 0.0, 0.0, 1.0, 1.0, 0.0, 1.0, 1.0, 0.0, 1.0, 1.0, 0.0, 0.0, 0.0, 1.0, 0.0, 0.0, 1.0, 0.0, 0.0, 1.0, 0.0, 1.0, 0.0, 0.0, 0.0, 1.0, 0.0, 0.0, 0.0, 1.0, 0.0, 1.0, 1.0, 0.0, 0.0, 1.0, 1.0, 1.0, 0.0, 0.0, 0.0, 1.0, 0.0, 0.0, 0.0, 1.0, 0.0, 1.0, 0.0, 0.0, 1.0, 0.0, 1.0, 1.0, 1.0, 0.0, 1.0, 0.0, 0.0, 0.0, 0.0, 1.0, 1.0, 0.0, 0.0, 0.0, 0.0, 0.0, 0.0, 0.0, 1.0, 0.0, 0.0, 0.0, 0.0, 1.0, 0.0, 0.0, 0.0, 0.0, 0.0, 0.0, 1.0, 0.0, 0.0, 0.0, 0.0, 0.0, 0.0, 1.0, 1.0, 1.0, 0.0, 0.0, 1.0, 0.0, 1.0, 0.0, 0.0, 0.0, 0.0, 1.0, 0.0, 0.0, 1.0, 0.0, 0.0, 0.0, 1.0, 0.0, 1.0, 1.0, 0.0, 0.0, 0.0, 1.0, 0.0, 0.0, 0.0, 0.0, 1.0, 0.0, 0.0, 0.0, 0.0, 0.0, 1.0, 0.0, 1.0, 1.0, 0.0, 0.0, 1.0, 0.0, 0.0, 0.0, 0.0, 0.0, 0.0, 0.0, 1.0, 1.0, 1.0, 0.0, 0.0, 1.0, 0.0, 0.0, 1.0, 0.0, 1.0, 0.0, 1.0, 0.0, 1.0, 0.0, 0.0, 1.0, 0.0, 0.0, 0.0, 1.0, 0.0, 1.0, 0.0, 1.0, 0.0, 1.0, 0.0, 0.0, 1.0, 0.0, 0.0, 0.0, 0.0, 1.0, 0.0, 0.0, 0.0, 1.0, 0.0, 0.0, 1.0, 0.0, 0.0, 1.0, 0.0, 0.0, 0.0, 0.0, 0.0, 0.0, 0.0, 1.0, 0.0, 0.0, 0.0, 1.0, 0.0, 1.0, 0.0, 0.0, 0.0, 1.0, 0.0, 1.0, 1.0, 0.0, 0.0, 1.0, 0.0, 1.0, 1.0, 1.0, 0.0, 0.0, 0.0, 1.0, 0.0, 0.0, 1.0, 0.0, 1.0, 0.0, 0.0, 0.0, 1.0, 0.0, 1.0, 0.0, 0.0, 1.0, 1.0, 0.0, 0.0, 1.0, 0.0, 1.0, 1.0, 0.0, 1.0, 1.0, 0.0, 0.0, 1.0, 1.0, 1.0, 0.0, 0.0, 0.0, 0.0, 1.0, 0.0, 1.0, 1.0, 1.0, 1.0, 0.0, 0.0, 0.0, 0.0, 0.0, 0.0, 0.0, 0.0, 1.0, 1.0, 0.0, 0.0, 1.0, 0.0, 0.0, 0.0, 0.0, 0.0, 1.0, 0.0, 0.0, 1.0, 1.0, 0.0, 1.0, 0.0, 1.0, 0.0, 0.0, 0.0, 0.0, 0.0, 0.0, 1.0, 0.0, 0.0, 1.0, 0.0, 0.0, 0.0, 0.0, 0.0, 0.0, 1.0, 0.0, 0.0, 1.0, 0.0, 1.0, 1.0, 1.0, 0.0, 1.0, 0.0, 0.0, 1.0, 1.0, 1.0, 0.0, 0.0, 0.0, 0.0, 0.0, 0.0, 0.0, 1.0, 0.0, 0.0, 0.0, 1.0, 0.0, 0.0, 1.0, 1.0, 0.0, 1.0, 0.0, 1.0, 1.0, 0.0, 0.0, 1.0, 0.0, 1.0, 1.0, 0.0, 1.0, 1.0, 0.0, 0.0, 1.0, 0.0, 1.0, 0.0, 0.0, 1.0, 0.0, 0.0, 1.0, 1.0, 1.0, 0.0, 0.0, 0.0, 1.0, 1.0, 0.0, 1.0, 1.0, 0.0, 0.0, 0.0, 1.0, 0.0, 1.0, 1.0, 1.0, 1.0, 0.0, 0.0, 1.0, 0.0, 0.0, 1.0, 1.0, 1.0, 1.0, 1.0, 1.0, 0.0, 0.0, 0.0, 0.0, 0.0, 0.0, 0.0, 1.0, 1.0, 1.0, 1.0, 0.0, 0.0, 0.0, 0.0, 1.0, 0.0, 1.0, 0.0, 0.0, 0.0, 0.0, 0.0, 1.0, 1.0, 1.0, 0.0, 0.0, 1.0, 0.0, 0.0, 1.0, 1.0, 1.0, 1.0, 0.0, 0.0, 1.0, 1.0, 0.0, 0.0, 0.0, 1.0, 1.0, 1.0, 0.0, 0.0, 1.0, 0.0, 0.0, 0.0, 0.0, 1.0, 0.0, 0.0, 0.0, 0.0, 0.0, 0.0, 0.0, 0.0, 0.0, 1.0, 0.0, 0.0, 0.0, 0.0, 0.0, 0.0, 1.0, 0.0, 0.0, 1.0, 0.0, 0.0, 1.0, 1.0, 1.0, 0.0, 1.0, 1.0, 0.0, 1.0, 0.0, 0.0, 0.0, 0.0, 1.0, 0.0]}, {\"line\": {\"color\": \"cyan\", \"width\": 3}, \"name\": \"Pytorch Logistic Regression\", \"type\": \"scatter\", \"x\": [7.691, 7.897252525252525, 8.103505050505051, 8.309757575757576, 8.516010101010101, 8.722262626262626, 8.928515151515152, 9.134767676767677, 9.341020202020202, 9.547272727272727, 9.753525252525252, 9.959777777777777, 10.166030303030304, 10.372282828282827, 10.578535353535354, 10.78478787878788, 10.991040404040405, 11.19729292929293, 11.403545454545455, 11.60979797979798, 11.816050505050505, 12.02230303030303, 12.228555555555555, 12.434808080808082, 12.641060606060606, 12.847313131313133, 13.053565656565656, 13.259818181818183, 13.466070707070706, 13.672323232323233, 13.878575757575758, 14.084828282828283, 14.291080808080808, 14.497333333333334, 14.703585858585859, 14.909838383838384, 15.11609090909091, 15.322343434343434, 15.528595959595961, 15.734848484848484, 15.941101010101011, 16.147353535353535, 16.35360606060606, 16.559858585858585, 16.766111111111112, 16.97236363636364, 17.178616161616162, 17.38486868686869, 17.591121212121212, 17.79737373737374, 18.003626262626263, 18.20987878787879, 18.416131313131313, 18.62238383838384, 18.828636363636363, 19.03488888888889, 19.241141414141413, 19.44739393939394, 19.653646464646467, 19.85989898989899, 20.066151515151518, 20.27240404040404, 20.478656565656568, 20.68490909090909, 20.891161616161618, 21.09741414141414, 21.30366666666667, 21.50991919191919, 21.71617171717172, 21.922424242424242, 22.12867676767677, 22.334929292929296, 22.54118181818182, 22.747434343434346, 22.95368686868687, 23.159939393939396, 23.36619191919192, 23.572444444444447, 23.77869696969697, 23.984949494949497, 24.19120202020202, 24.397454545454547, 24.60370707070707, 24.809959595959597, 25.01621212121212, 25.222464646464648, 25.42871717171717, 25.634969696969698, 25.84122222222222, 26.047474747474748, 26.253727272727275, 26.4599797979798, 26.666232323232325, 26.87248484848485, 27.078737373737376, 27.2849898989899, 27.491242424242426, 27.69749494949495, 27.903747474747476, 28.11], \"y\": [0.0005368075518547923, 0.0006694422643775298, 0.0008348210634408117, 0.001041012428004229, 0.0012980645668250095, 0.0016184865041794214, 0.002017843479785447, 0.0025154923826859014, 0.003135487912318754, 0.003907695619107963, 0.004869153652188231, 0.006065730402608184, 0.007554129331434749, 0.009404293531189056, 0.011702258453023676, 0.014553487838186628, 0.01808669942583725, 0.022458135210576796, 0.02785614469899584, 0.034505814622307646, 0.04267317891996261, 0.052668264089570344, 0.06484586173302942, 0.07960248932598746, 0.09736756253956241, 0.11858648947414357, 0.1436934362401177, 0.17307222756251317, 0.20700559220839923, 0.2456159639818387, 0.2888051116269891, 0.33620407804887964, 0.38714752611524017, 0.44068550576852117, 0.4956394983407269, 0.5506990489700936, 0.6045436644782837, 0.6559666857613375, 0.7039772003891093, 0.7478630495194143, 0.7872093598623736, 0.8218780281337978, 0.8519605504679127, 0.8777184201939723, 0.8995231471328675, 0.917803861901952, 0.9330063004896272, 0.9455637676612917, 0.9558787414846278, 0.9643129269833016, 0.9711834447675259, 0.9767631156531598, 0.9812832312541445, 0.9849376379353012, 0.9878873374017872, 0.9902650992870667, 0.992179792386545, 0.9937202853057574, 0.9949588602917108, 0.9959541404427191, 0.9967535620225597, 0.9973954389367836, 0.9979106717085819, 0.9983241526832537, 0.9986559154126223, 0.9989220709327618, 0.9991355679789806, 0.9993068086655866, 0.9994441460973116, 0.9995542859047765, 0.9996426098370662, 0.999713436273574, 0.9997702297802454, 0.9998157695667262, 0.9998522848340934, 0.9998815634751387, 0.9999050393443412, 0.9999238623037275, 0.9999389544319937, 0.9999510551224096, 0.9999607572609439, 0.9999685362456181, 0.9999747732615761, 0.9999797739476046, 0.9999837833657651, 0.9999869980057525, 0.9999895754110112, 0.9999916418975431, 0.9999932987431797, 0.9999946271503065, 0.9999956922250556, 0.9999965461678414, 0.9999972308315281, 0.9999977797725446, 0.9999982198954425, 0.9999985727714737, 0.9999988556957988, 0.9999990825351321, 0.9999992644073619, 0.9999994102264528]}],\n",
              "                        {\"template\": {\"data\": {\"bar\": [{\"error_x\": {\"color\": \"#2a3f5f\"}, \"error_y\": {\"color\": \"#2a3f5f\"}, \"marker\": {\"line\": {\"color\": \"#E5ECF6\", \"width\": 0.5}}, \"type\": \"bar\"}], \"barpolar\": [{\"marker\": {\"line\": {\"color\": \"#E5ECF6\", \"width\": 0.5}}, \"type\": \"barpolar\"}], \"carpet\": [{\"aaxis\": {\"endlinecolor\": \"#2a3f5f\", \"gridcolor\": \"white\", \"linecolor\": \"white\", \"minorgridcolor\": \"white\", \"startlinecolor\": \"#2a3f5f\"}, \"baxis\": {\"endlinecolor\": \"#2a3f5f\", \"gridcolor\": \"white\", \"linecolor\": \"white\", \"minorgridcolor\": \"white\", \"startlinecolor\": \"#2a3f5f\"}, \"type\": \"carpet\"}], \"choropleth\": [{\"colorbar\": {\"outlinewidth\": 0, \"ticks\": \"\"}, \"type\": \"choropleth\"}], \"contour\": [{\"colorbar\": {\"outlinewidth\": 0, \"ticks\": \"\"}, \"colorscale\": [[0.0, \"#0d0887\"], [0.1111111111111111, \"#46039f\"], [0.2222222222222222, \"#7201a8\"], [0.3333333333333333, \"#9c179e\"], [0.4444444444444444, \"#bd3786\"], [0.5555555555555556, \"#d8576b\"], [0.6666666666666666, \"#ed7953\"], [0.7777777777777778, \"#fb9f3a\"], [0.8888888888888888, \"#fdca26\"], [1.0, \"#f0f921\"]], \"type\": \"contour\"}], \"contourcarpet\": [{\"colorbar\": {\"outlinewidth\": 0, \"ticks\": \"\"}, \"type\": \"contourcarpet\"}], \"heatmap\": [{\"colorbar\": {\"outlinewidth\": 0, \"ticks\": \"\"}, \"colorscale\": [[0.0, \"#0d0887\"], [0.1111111111111111, \"#46039f\"], [0.2222222222222222, \"#7201a8\"], [0.3333333333333333, \"#9c179e\"], [0.4444444444444444, \"#bd3786\"], [0.5555555555555556, \"#d8576b\"], [0.6666666666666666, \"#ed7953\"], [0.7777777777777778, \"#fb9f3a\"], [0.8888888888888888, \"#fdca26\"], [1.0, \"#f0f921\"]], \"type\": \"heatmap\"}], \"heatmapgl\": [{\"colorbar\": {\"outlinewidth\": 0, \"ticks\": \"\"}, \"colorscale\": [[0.0, \"#0d0887\"], [0.1111111111111111, \"#46039f\"], [0.2222222222222222, \"#7201a8\"], [0.3333333333333333, \"#9c179e\"], [0.4444444444444444, \"#bd3786\"], [0.5555555555555556, \"#d8576b\"], [0.6666666666666666, \"#ed7953\"], [0.7777777777777778, \"#fb9f3a\"], [0.8888888888888888, \"#fdca26\"], [1.0, \"#f0f921\"]], \"type\": \"heatmapgl\"}], \"histogram\": [{\"marker\": {\"colorbar\": {\"outlinewidth\": 0, \"ticks\": \"\"}}, \"type\": \"histogram\"}], \"histogram2d\": [{\"colorbar\": {\"outlinewidth\": 0, \"ticks\": \"\"}, \"colorscale\": [[0.0, \"#0d0887\"], [0.1111111111111111, \"#46039f\"], [0.2222222222222222, \"#7201a8\"], [0.3333333333333333, \"#9c179e\"], [0.4444444444444444, \"#bd3786\"], [0.5555555555555556, \"#d8576b\"], [0.6666666666666666, \"#ed7953\"], [0.7777777777777778, \"#fb9f3a\"], [0.8888888888888888, \"#fdca26\"], [1.0, \"#f0f921\"]], \"type\": \"histogram2d\"}], \"histogram2dcontour\": [{\"colorbar\": {\"outlinewidth\": 0, \"ticks\": \"\"}, \"colorscale\": [[0.0, \"#0d0887\"], [0.1111111111111111, \"#46039f\"], [0.2222222222222222, \"#7201a8\"], [0.3333333333333333, \"#9c179e\"], [0.4444444444444444, \"#bd3786\"], [0.5555555555555556, \"#d8576b\"], [0.6666666666666666, \"#ed7953\"], [0.7777777777777778, \"#fb9f3a\"], [0.8888888888888888, \"#fdca26\"], [1.0, \"#f0f921\"]], \"type\": \"histogram2dcontour\"}], \"mesh3d\": [{\"colorbar\": {\"outlinewidth\": 0, \"ticks\": \"\"}, \"type\": \"mesh3d\"}], \"parcoords\": [{\"line\": {\"colorbar\": {\"outlinewidth\": 0, \"ticks\": \"\"}}, \"type\": \"parcoords\"}], \"pie\": [{\"automargin\": true, \"type\": \"pie\"}], \"scatter\": [{\"marker\": {\"colorbar\": {\"outlinewidth\": 0, \"ticks\": \"\"}}, \"type\": \"scatter\"}], \"scatter3d\": [{\"line\": {\"colorbar\": {\"outlinewidth\": 0, \"ticks\": \"\"}}, \"marker\": {\"colorbar\": {\"outlinewidth\": 0, \"ticks\": \"\"}}, \"type\": \"scatter3d\"}], \"scattercarpet\": [{\"marker\": {\"colorbar\": {\"outlinewidth\": 0, \"ticks\": \"\"}}, \"type\": \"scattercarpet\"}], \"scattergeo\": [{\"marker\": {\"colorbar\": {\"outlinewidth\": 0, \"ticks\": \"\"}}, \"type\": \"scattergeo\"}], \"scattergl\": [{\"marker\": {\"colorbar\": {\"outlinewidth\": 0, \"ticks\": \"\"}}, \"type\": \"scattergl\"}], \"scattermapbox\": [{\"marker\": {\"colorbar\": {\"outlinewidth\": 0, \"ticks\": \"\"}}, \"type\": \"scattermapbox\"}], \"scatterpolar\": [{\"marker\": {\"colorbar\": {\"outlinewidth\": 0, \"ticks\": \"\"}}, \"type\": \"scatterpolar\"}], \"scatterpolargl\": [{\"marker\": {\"colorbar\": {\"outlinewidth\": 0, \"ticks\": \"\"}}, \"type\": \"scatterpolargl\"}], \"scatterternary\": [{\"marker\": {\"colorbar\": {\"outlinewidth\": 0, \"ticks\": \"\"}}, \"type\": \"scatterternary\"}], \"surface\": [{\"colorbar\": {\"outlinewidth\": 0, \"ticks\": \"\"}, \"colorscale\": [[0.0, \"#0d0887\"], [0.1111111111111111, \"#46039f\"], [0.2222222222222222, \"#7201a8\"], [0.3333333333333333, \"#9c179e\"], [0.4444444444444444, \"#bd3786\"], [0.5555555555555556, \"#d8576b\"], [0.6666666666666666, \"#ed7953\"], [0.7777777777777778, \"#fb9f3a\"], [0.8888888888888888, \"#fdca26\"], [1.0, \"#f0f921\"]], \"type\": \"surface\"}], \"table\": [{\"cells\": {\"fill\": {\"color\": \"#EBF0F8\"}, \"line\": {\"color\": \"white\"}}, \"header\": {\"fill\": {\"color\": \"#C8D4E3\"}, \"line\": {\"color\": \"white\"}}, \"type\": \"table\"}]}, \"layout\": {\"annotationdefaults\": {\"arrowcolor\": \"#2a3f5f\", \"arrowhead\": 0, \"arrowwidth\": 1}, \"coloraxis\": {\"colorbar\": {\"outlinewidth\": 0, \"ticks\": \"\"}}, \"colorscale\": {\"diverging\": [[0, \"#8e0152\"], [0.1, \"#c51b7d\"], [0.2, \"#de77ae\"], [0.3, \"#f1b6da\"], [0.4, \"#fde0ef\"], [0.5, \"#f7f7f7\"], [0.6, \"#e6f5d0\"], [0.7, \"#b8e186\"], [0.8, \"#7fbc41\"], [0.9, \"#4d9221\"], [1, \"#276419\"]], \"sequential\": [[0.0, \"#0d0887\"], [0.1111111111111111, \"#46039f\"], [0.2222222222222222, \"#7201a8\"], [0.3333333333333333, \"#9c179e\"], [0.4444444444444444, \"#bd3786\"], [0.5555555555555556, \"#d8576b\"], [0.6666666666666666, \"#ed7953\"], [0.7777777777777778, \"#fb9f3a\"], [0.8888888888888888, \"#fdca26\"], [1.0, \"#f0f921\"]], \"sequentialminus\": [[0.0, \"#0d0887\"], [0.1111111111111111, \"#46039f\"], [0.2222222222222222, \"#7201a8\"], [0.3333333333333333, \"#9c179e\"], [0.4444444444444444, \"#bd3786\"], [0.5555555555555556, \"#d8576b\"], [0.6666666666666666, \"#ed7953\"], [0.7777777777777778, \"#fb9f3a\"], [0.8888888888888888, \"#fdca26\"], [1.0, \"#f0f921\"]]}, \"colorway\": [\"#636efa\", \"#EF553B\", \"#00cc96\", \"#ab63fa\", \"#FFA15A\", \"#19d3f3\", \"#FF6692\", \"#B6E880\", \"#FF97FF\", \"#FECB52\"], \"font\": {\"color\": \"#2a3f5f\"}, \"geo\": {\"bgcolor\": \"white\", \"lakecolor\": \"white\", \"landcolor\": \"#E5ECF6\", \"showlakes\": true, \"showland\": true, \"subunitcolor\": \"white\"}, \"hoverlabel\": {\"align\": \"left\"}, \"hovermode\": \"closest\", \"mapbox\": {\"style\": \"light\"}, \"paper_bgcolor\": \"white\", \"plot_bgcolor\": \"#E5ECF6\", \"polar\": {\"angularaxis\": {\"gridcolor\": \"white\", \"linecolor\": \"white\", \"ticks\": \"\"}, \"bgcolor\": \"#E5ECF6\", \"radialaxis\": {\"gridcolor\": \"white\", \"linecolor\": \"white\", \"ticks\": \"\"}}, \"scene\": {\"xaxis\": {\"backgroundcolor\": \"#E5ECF6\", \"gridcolor\": \"white\", \"gridwidth\": 2, \"linecolor\": \"white\", \"showbackground\": true, \"ticks\": \"\", \"zerolinecolor\": \"white\"}, \"yaxis\": {\"backgroundcolor\": \"#E5ECF6\", \"gridcolor\": \"white\", \"gridwidth\": 2, \"linecolor\": \"white\", \"showbackground\": true, \"ticks\": \"\", \"zerolinecolor\": \"white\"}, \"zaxis\": {\"backgroundcolor\": \"#E5ECF6\", \"gridcolor\": \"white\", \"gridwidth\": 2, \"linecolor\": \"white\", \"showbackground\": true, \"ticks\": \"\", \"zerolinecolor\": \"white\"}}, \"shapedefaults\": {\"line\": {\"color\": \"#2a3f5f\"}}, \"ternary\": {\"aaxis\": {\"gridcolor\": \"white\", \"linecolor\": \"white\", \"ticks\": \"\"}, \"baxis\": {\"gridcolor\": \"white\", \"linecolor\": \"white\", \"ticks\": \"\"}, \"bgcolor\": \"#E5ECF6\", \"caxis\": {\"gridcolor\": \"white\", \"linecolor\": \"white\", \"ticks\": \"\"}}, \"title\": {\"x\": 0.05}, \"xaxis\": {\"automargin\": true, \"gridcolor\": \"white\", \"linecolor\": \"white\", \"ticks\": \"\", \"title\": {\"standoff\": 15}, \"zerolinecolor\": \"white\", \"zerolinewidth\": 2}, \"yaxis\": {\"automargin\": true, \"gridcolor\": \"white\", \"linecolor\": \"white\", \"ticks\": \"\", \"title\": {\"standoff\": 15}, \"zerolinecolor\": \"white\", \"zerolinewidth\": 2}}}, \"xaxis\": {\"title\": {\"text\": \"Mean Radius\"}}, \"yaxis\": {\"title\": {\"text\": \"Malignant\"}}},\n",
              "                        {\"responsive\": true}\n",
              "                    ).then(function(){\n",
              "                            \n",
              "var gd = document.getElementById('8b08abe7-f184-4e3e-98e4-0ecdba3ece61');\n",
              "var x = new MutationObserver(function (mutations, observer) {{\n",
              "        var display = window.getComputedStyle(gd).display;\n",
              "        if (!display || display === 'none') {{\n",
              "            console.log([gd, 'removed!']);\n",
              "            Plotly.purge(gd);\n",
              "            observer.disconnect();\n",
              "        }}\n",
              "}});\n",
              "\n",
              "// Listen for the removal of the full notebook cells\n",
              "var notebookContainer = gd.closest('#notebook-container');\n",
              "if (notebookContainer) {{\n",
              "    x.observe(notebookContainer, {childList: true});\n",
              "}}\n",
              "\n",
              "// Listen for the clearing of the current output cell\n",
              "var outputEl = gd.closest('.output');\n",
              "if (outputEl) {{\n",
              "    x.observe(outputEl, {childList: true});\n",
              "}}\n",
              "\n",
              "                        })\n",
              "                };\n",
              "                \n",
              "            </script>\n",
              "        </div>\n",
              "</body>\n",
              "</html>"
            ]
          },
          "metadata": {}
        }
      ]
    },
    {
      "cell_type": "markdown",
      "metadata": {
        "id": "VVGS_gkuGJd8"
      },
      "source": [
        "#Use PyTorch to build a simple neural network"
      ]
    },
    {
      "cell_type": "code",
      "metadata": {
        "id": "p00MOxR-GLpM"
      },
      "source": [
        "def activation(x):\n",
        "    \"\"\" Sigmoid activation function \n",
        "    \n",
        "        Arguments\n",
        "        ---------\n",
        "        x: torch.Tensor\n",
        "    \"\"\"\n",
        "    return 1/(1+torch.exp(-x))"
      ],
      "execution_count": null,
      "outputs": []
    },
    {
      "cell_type": "code",
      "metadata": {
        "id": "2t-nr_rfGQ-s"
      },
      "source": [
        "### Generate some data\n",
        "torch.manual_seed(7) # Set the random seed so things are predictable\n",
        "\n",
        "# Features are 5 random normal variables\n",
        "features = torch.randn((1, 5))\n",
        "# True weights for our data, random normal variables again\n",
        "weights = torch.randn_like(features)\n",
        "# and a true bias term\n",
        "bias = torch.randn((1, 1))"
      ],
      "execution_count": null,
      "outputs": []
    },
    {
      "cell_type": "code",
      "metadata": {
        "id": "oBf2An55GTnT",
        "colab": {
          "base_uri": "https://localhost:8080/",
          "height": 34
        },
        "outputId": "ed55cc8d-698c-4ffa-d764-bec2cbf9ad0c"
      },
      "source": [
        "print(weights)"
      ],
      "execution_count": null,
      "outputs": [
        {
          "output_type": "stream",
          "text": [
            "tensor([[-0.8948, -0.3556,  1.2324,  0.1382, -1.6822]])\n"
          ],
          "name": "stdout"
        }
      ]
    },
    {
      "cell_type": "markdown",
      "metadata": {
        "id": "QZ-HLCtTGcs9"
      },
      "source": [
        "You can do the multiplication and sum in the same operation using a matrix multiplication. In general, you'll want to use matrix multiplications since they are more efficient and accelerated using modern libraries and high-performance computing on GPUs."
      ]
    },
    {
      "cell_type": "code",
      "metadata": {
        "id": "hGNK3pY9H7Nn",
        "colab": {
          "base_uri": "https://localhost:8080/",
          "height": 34
        },
        "outputId": "7c0ba40d-de3d-4405-f77d-153ce9ffb5a3"
      },
      "source": [
        "# Now, make our labels from our data and true weights\n",
        "y = activation(torch.sum(features * weights) + bias)\n",
        "y"
      ],
      "execution_count": null,
      "outputs": [
        {
          "output_type": "execute_result",
          "data": {
            "text/plain": [
              "tensor([[0.1595]])"
            ]
          },
          "metadata": {
            "tags": []
          },
          "execution_count": 36
        }
      ]
    },
    {
      "cell_type": "code",
      "metadata": {
        "id": "_dSfyAsDJLbi",
        "colab": {
          "base_uri": "https://localhost:8080/",
          "height": 34
        },
        "outputId": "ccaea3d2-1153-498b-8ae2-b573b1a03988"
      },
      "source": [
        "print(features)"
      ],
      "execution_count": null,
      "outputs": [
        {
          "output_type": "stream",
          "text": [
            "tensor([[-0.1468,  0.7861,  0.9468, -1.1143,  1.6908]])\n"
          ],
          "name": "stdout"
        }
      ]
    },
    {
      "cell_type": "code",
      "metadata": {
        "id": "FIt95IbbJFQA",
        "colab": {
          "base_uri": "https://localhost:8080/",
          "height": 34
        },
        "outputId": "b97beafe-c745-4f10-ec51-b38a7192448b"
      },
      "source": [
        "print((features * weights))"
      ],
      "execution_count": null,
      "outputs": [
        {
          "output_type": "stream",
          "text": [
            "tensor([[ 0.1314, -0.2796,  1.1668, -0.1540, -2.8442]])\n"
          ],
          "name": "stdout"
        }
      ]
    },
    {
      "cell_type": "code",
      "metadata": {
        "id": "brpNGrEKItnD",
        "colab": {
          "base_uri": "https://localhost:8080/",
          "height": 34
        },
        "outputId": "442028d2-5d5b-42a9-b28f-cb828dc5628e"
      },
      "source": [
        "y = activation((features * weights).sum() + bias)\n",
        "y"
      ],
      "execution_count": null,
      "outputs": [
        {
          "output_type": "execute_result",
          "data": {
            "text/plain": [
              "tensor([[0.1595]])"
            ]
          },
          "metadata": {
            "tags": []
          },
          "execution_count": 33
        }
      ]
    },
    {
      "cell_type": "code",
      "metadata": {
        "id": "SEbyTk5uI8k5",
        "colab": {
          "base_uri": "https://localhost:8080/",
          "height": 34
        },
        "outputId": "69a17587-f002-4e8a-d03f-de9f74705b95"
      },
      "source": [
        "y = activation(torch.mm(features, weights.view(5,1)) + bias)#weights.view(a, b) will return a new tensor with the same data as weights with size (a, b).\n",
        "y"
      ],
      "execution_count": null,
      "outputs": [
        {
          "output_type": "execute_result",
          "data": {
            "text/plain": [
              "tensor([[0.1595]])"
            ]
          },
          "metadata": {
            "tags": []
          },
          "execution_count": 38
        }
      ]
    },
    {
      "cell_type": "markdown",
      "metadata": {
        "id": "hHik8jKOJZn-"
      },
      "source": [
        "Another example"
      ]
    },
    {
      "cell_type": "code",
      "metadata": {
        "id": "9l1Sx5NAHMnf"
      },
      "source": [
        "### Generate some data\n",
        "torch.manual_seed(7) # Set the random seed so things are predictable\n",
        "\n",
        "# Features are 3 random normal variables\n",
        "features = torch.randn((1, 3))\n",
        "\n",
        "# Define the size of each layer in our network\n",
        "n_input = features.shape[1]     # Number of input units, must match number of input features\n",
        "n_hidden = 2                    # Number of hidden units \n",
        "n_output = 1                    # Number of output units\n",
        "\n",
        "# Weights for inputs to hidden layer\n",
        "W1 = torch.randn(n_input, n_hidden)\n",
        "# Weights for hidden layer to output layer\n",
        "W2 = torch.randn(n_hidden, n_output)\n",
        "\n",
        "# and bias terms for hidden and output layers\n",
        "B1 = torch.randn((1, n_hidden))\n",
        "B2 = torch.randn((1, n_output))"
      ],
      "execution_count": null,
      "outputs": []
    },
    {
      "cell_type": "code",
      "metadata": {
        "id": "f7-kiJuFHN_i",
        "colab": {
          "base_uri": "https://localhost:8080/",
          "height": 68
        },
        "outputId": "a8591ed3-dd3f-46b6-f821-a4915fb60b4d"
      },
      "source": [
        "print(W1)"
      ],
      "execution_count": null,
      "outputs": [
        {
          "output_type": "stream",
          "text": [
            "tensor([[-1.1143,  1.6908],\n",
            "        [-0.8948, -0.3556],\n",
            "        [ 1.2324,  0.1382]])\n"
          ],
          "name": "stdout"
        }
      ]
    },
    {
      "cell_type": "code",
      "metadata": {
        "id": "J0Zw3JIbJt9p",
        "colab": {
          "base_uri": "https://localhost:8080/",
          "height": 34
        },
        "outputId": "05f8b43a-d8b7-4a54-cfcc-19b21b59b165"
      },
      "source": [
        "print(features)"
      ],
      "execution_count": null,
      "outputs": [
        {
          "output_type": "stream",
          "text": [
            "tensor([[-0.1468,  0.7861,  0.9468]])\n"
          ],
          "name": "stdout"
        }
      ]
    },
    {
      "cell_type": "code",
      "metadata": {
        "id": "wAUZyCVTJz0v",
        "colab": {
          "base_uri": "https://localhost:8080/",
          "height": 34
        },
        "outputId": "d099041a-c629-4cc3-cd41-b83add49e5e9"
      },
      "source": [
        "print(torch.mm(features, W1))"
      ],
      "execution_count": null,
      "outputs": [
        {
          "output_type": "stream",
          "text": [
            "tensor([[ 0.6270, -0.3969]])\n"
          ],
          "name": "stdout"
        }
      ]
    },
    {
      "cell_type": "code",
      "metadata": {
        "id": "SzA2c-jcJd_U",
        "colab": {
          "base_uri": "https://localhost:8080/",
          "height": 34
        },
        "outputId": "b471d7d0-9a37-4f91-98c4-d419451fedb2"
      },
      "source": [
        "h = activation(torch.mm(features, W1) + B1)\n",
        "output = activation(torch.mm(h, W2) + B2)\n",
        "print(output)"
      ],
      "execution_count": null,
      "outputs": [
        {
          "output_type": "stream",
          "text": [
            "tensor([[0.3171]])\n"
          ],
          "name": "stdout"
        }
      ]
    },
    {
      "cell_type": "markdown",
      "metadata": {
        "id": "ppT2XGCEHiD0"
      },
      "source": [
        "Numpy to Torch and back"
      ]
    },
    {
      "cell_type": "code",
      "metadata": {
        "id": "4sMzVIM5Hhdr",
        "colab": {
          "base_uri": "https://localhost:8080/",
          "height": 85
        },
        "outputId": "f76baa7a-7f2e-4b53-d094-085522bc13bf"
      },
      "source": [
        "import numpy as np\n",
        "a = np.random.rand(4,3)\n",
        "a"
      ],
      "execution_count": null,
      "outputs": [
        {
          "output_type": "execute_result",
          "data": {
            "text/plain": [
              "array([[0.02020965, 0.33853226, 0.93391586],\n",
              "       [0.56020857, 0.481601  , 0.36847533],\n",
              "       [0.85955547, 0.44864542, 0.47199414],\n",
              "       [0.54630808, 0.42206903, 0.36997061]])"
            ]
          },
          "metadata": {
            "tags": []
          },
          "execution_count": 13
        }
      ]
    },
    {
      "cell_type": "code",
      "metadata": {
        "id": "QGdFqu9CHlKn",
        "colab": {
          "base_uri": "https://localhost:8080/",
          "height": 85
        },
        "outputId": "243da1b6-41cd-4ea6-d21f-3d0cbedbce2a"
      },
      "source": [
        "b = torch.from_numpy(a)\n",
        "b"
      ],
      "execution_count": null,
      "outputs": [
        {
          "output_type": "execute_result",
          "data": {
            "text/plain": [
              "tensor([[0.0202, 0.3385, 0.9339],\n",
              "        [0.5602, 0.4816, 0.3685],\n",
              "        [0.8596, 0.4486, 0.4720],\n",
              "        [0.5463, 0.4221, 0.3700]], dtype=torch.float64)"
            ]
          },
          "metadata": {
            "tags": []
          },
          "execution_count": 14
        }
      ]
    },
    {
      "cell_type": "code",
      "metadata": {
        "id": "S9EoLuAzHmyq",
        "colab": {
          "base_uri": "https://localhost:8080/",
          "height": 85
        },
        "outputId": "2ffbb01a-1fd0-49ec-adb8-2c81fa363316"
      },
      "source": [
        "b.numpy()"
      ],
      "execution_count": null,
      "outputs": [
        {
          "output_type": "execute_result",
          "data": {
            "text/plain": [
              "array([[0.02020965, 0.33853226, 0.93391586],\n",
              "       [0.56020857, 0.481601  , 0.36847533],\n",
              "       [0.85955547, 0.44864542, 0.47199414],\n",
              "       [0.54630808, 0.42206903, 0.36997061]])"
            ]
          },
          "metadata": {
            "tags": []
          },
          "execution_count": 15
        }
      ]
    },
    {
      "cell_type": "code",
      "metadata": {
        "id": "ieyqI7FpHpPp",
        "colab": {
          "base_uri": "https://localhost:8080/",
          "height": 85
        },
        "outputId": "11427ad3-9ba0-4210-f570-2cc03bfc5c41"
      },
      "source": [
        "# Multiply PyTorch Tensor by 2, in place\n",
        "b.mul_(2)"
      ],
      "execution_count": null,
      "outputs": [
        {
          "output_type": "execute_result",
          "data": {
            "text/plain": [
              "tensor([[0.0404, 0.6771, 1.8678],\n",
              "        [1.1204, 0.9632, 0.7370],\n",
              "        [1.7191, 0.8973, 0.9440],\n",
              "        [1.0926, 0.8441, 0.7399]], dtype=torch.float64)"
            ]
          },
          "metadata": {
            "tags": []
          },
          "execution_count": 16
        }
      ]
    },
    {
      "cell_type": "markdown",
      "metadata": {
        "id": "Cyd6sYY1KO3s"
      },
      "source": [
        "#Neural networks with PyTorch"
      ]
    },
    {
      "cell_type": "code",
      "metadata": {
        "id": "J-zH1N9VKSfW"
      },
      "source": [
        "%matplotlib inline\n",
        "%config InlineBackend.figure_format = 'retina'\n",
        "\n",
        "import numpy as np\n",
        "import torch\n",
        "\n",
        "import helper\n",
        "\n",
        "import matplotlib.pyplot as plt"
      ],
      "execution_count": null,
      "outputs": []
    },
    {
      "cell_type": "code",
      "metadata": {
        "id": "m1g3F64uKasx",
        "colab": {
          "base_uri": "https://localhost:8080/",
          "height": 34
        },
        "outputId": "8805a656-d372-4ed8-f09c-f6e8c1e9cbaf"
      },
      "source": [
        "!pwd"
      ],
      "execution_count": null,
      "outputs": [
        {
          "output_type": "stream",
          "text": [
            "/content\n"
          ],
          "name": "stdout"
        }
      ]
    },
    {
      "cell_type": "markdown",
      "metadata": {
        "id": "CfSZKms9KqI2"
      },
      "source": [
        "Now we're going to build a larger network that can solve a (formerly) difficult problem, identifying text in an image. Here we'll use the MNIST dataset which consists of greyscale handwritten digits. Each image is 28x28 pixels"
      ]
    },
    {
      "cell_type": "code",
      "metadata": {
        "id": "iERJRr07KYoE",
        "colab": {
          "base_uri": "https://localhost:8080/",
          "height": 403,
          "referenced_widgets": [
            "752fb34d4f5f49949a002c7f2aab9bea",
            "3488d1d8dde644c2bd05e823c5b97623",
            "ecf7eb3872314e7789921a07451b242a",
            "3634a03c8bc84c7abbac2115c5507bc2",
            "dc24c31c279c4e52a0793b1483262e07",
            "362559810add4572a2bb94fe24677992",
            "1425539fc33e4af9afa361c62a152b18",
            "88ce042dac3047bb889ab95addec3c5b",
            "77108867ccf14191ba84e64917ab2484",
            "017dd81a504f4074aa5935cbc367533b",
            "6040affd59724270b3e439746c3b9887",
            "ed029c1b8bd34966b8aa328f09599930",
            "8c93212633a74906858ec658cca734cc",
            "ea8e10d5788d4f00a7f599090c7aec3b",
            "346537770db4439d8822b5076d18860f",
            "0082f8c9359f4114a6022e393a6d3fa6",
            "bce76872a48f4f3bb48eb8bb6d3f6cdc",
            "555d1da6dbd94ccf98e3f812f7829e99",
            "d199b2b674bb42b8a7e4d90f0c02587a",
            "975d5256e01e4ec89aeab48542e9e2fc",
            "174be500fe5e44398f10b98e2576c39e",
            "9c701865dfc7454683733166a06db113",
            "6dd21088ddb74294a0d6f1b834e24e59",
            "43bcc1160d9c445fb5523f80e0c7f84a",
            "6bcf60e8b39b4ba88a73ec4ee6303f4a",
            "2f9a827c6c03459eae758e6a7f96025d",
            "c038bfeff2224a18b4c85c2c2110d57f",
            "2b4d2ba717f74732abf8c345b9a92de7",
            "7a4d33f75885425f80add82badfef386",
            "47e6c618e120447cbf4aeef0e51c6e52",
            "025543aef58047f9bb86a2cdc9d2bbdf",
            "688e1bcdeb67474aaf3242ee1e62afc5"
          ]
        },
        "outputId": "d1eb21a3-5667-4ce3-abb6-198d97022e35"
      },
      "source": [
        "from torchvision import datasets, transforms\n",
        "\n",
        "# Define a transform to normalize the data\n",
        "transform = transforms.Compose([transforms.ToTensor(),\n",
        "                              transforms.Normalize((0.5,), (0.5,)),\n",
        "                              ])\n",
        "# Download and load the training data\n",
        "trainset = datasets.MNIST('/content/MNIST_data/', download=True, train=True, transform=transform)\n",
        "trainloader = torch.utils.data.DataLoader(trainset, batch_size=64, shuffle=True)\n",
        "#The batch size is the number of images we get in one iteration from the data loader and pass through our network, often called a batch. And shuffle=True tells it to shuffle the dataset every time we start going through the data loader again."
      ],
      "execution_count": null,
      "outputs": [
        {
          "output_type": "stream",
          "text": [
            "Downloading http://yann.lecun.com/exdb/mnist/train-images-idx3-ubyte.gz to /content/MNIST_data/MNIST/raw/train-images-idx3-ubyte.gz\n"
          ],
          "name": "stdout"
        },
        {
          "output_type": "display_data",
          "data": {
            "application/vnd.jupyter.widget-view+json": {
              "model_id": "752fb34d4f5f49949a002c7f2aab9bea",
              "version_minor": 0,
              "version_major": 2
            },
            "text/plain": [
              "HBox(children=(IntProgress(value=1, bar_style='info', max=1), HTML(value='')))"
            ]
          },
          "metadata": {
            "tags": []
          }
        },
        {
          "output_type": "stream",
          "text": [
            "\n",
            "Extracting /content/MNIST_data/MNIST/raw/train-images-idx3-ubyte.gz to /content/MNIST_data/MNIST/raw\n",
            "Downloading http://yann.lecun.com/exdb/mnist/train-labels-idx1-ubyte.gz to /content/MNIST_data/MNIST/raw/train-labels-idx1-ubyte.gz\n"
          ],
          "name": "stdout"
        },
        {
          "output_type": "display_data",
          "data": {
            "application/vnd.jupyter.widget-view+json": {
              "model_id": "77108867ccf14191ba84e64917ab2484",
              "version_minor": 0,
              "version_major": 2
            },
            "text/plain": [
              "HBox(children=(IntProgress(value=1, bar_style='info', max=1), HTML(value='')))"
            ]
          },
          "metadata": {
            "tags": []
          }
        },
        {
          "output_type": "stream",
          "text": [
            "\n",
            "Extracting /content/MNIST_data/MNIST/raw/train-labels-idx1-ubyte.gz to /content/MNIST_data/MNIST/raw\n",
            "Downloading http://yann.lecun.com/exdb/mnist/t10k-images-idx3-ubyte.gz to /content/MNIST_data/MNIST/raw/t10k-images-idx3-ubyte.gz\n"
          ],
          "name": "stdout"
        },
        {
          "output_type": "display_data",
          "data": {
            "application/vnd.jupyter.widget-view+json": {
              "model_id": "bce76872a48f4f3bb48eb8bb6d3f6cdc",
              "version_minor": 0,
              "version_major": 2
            },
            "text/plain": [
              "HBox(children=(IntProgress(value=1, bar_style='info', max=1), HTML(value='')))"
            ]
          },
          "metadata": {
            "tags": []
          }
        },
        {
          "output_type": "stream",
          "text": [
            "\n",
            "Extracting /content/MNIST_data/MNIST/raw/t10k-images-idx3-ubyte.gz to /content/MNIST_data/MNIST/raw\n",
            "Downloading http://yann.lecun.com/exdb/mnist/t10k-labels-idx1-ubyte.gz to /content/MNIST_data/MNIST/raw/t10k-labels-idx1-ubyte.gz\n"
          ],
          "name": "stdout"
        },
        {
          "output_type": "display_data",
          "data": {
            "application/vnd.jupyter.widget-view+json": {
              "model_id": "6bcf60e8b39b4ba88a73ec4ee6303f4a",
              "version_minor": 0,
              "version_major": 2
            },
            "text/plain": [
              "HBox(children=(IntProgress(value=1, bar_style='info', max=1), HTML(value='')))"
            ]
          },
          "metadata": {
            "tags": []
          }
        },
        {
          "output_type": "stream",
          "text": [
            "\n",
            "Extracting /content/MNIST_data/MNIST/raw/t10k-labels-idx1-ubyte.gz to /content/MNIST_data/MNIST/raw\n",
            "Processing...\n",
            "Done!\n"
          ],
          "name": "stdout"
        }
      ]
    },
    {
      "cell_type": "markdown",
      "metadata": {
        "id": "Xrbf1bhELCJA"
      },
      "source": [
        "I'm just grabbing the first batch so we can check out the data. We can see below that images is just a tensor with size (64, 1, 28, 28). So, 64 images per batch, 1 color channel, and 28x28 images."
      ]
    },
    {
      "cell_type": "code",
      "metadata": {
        "id": "rQlVEqNLLHQq",
        "colab": {
          "base_uri": "https://localhost:8080/",
          "height": 68
        },
        "outputId": "6fa39d7c-f5e8-498b-db78-2c3a3ef1997c"
      },
      "source": [
        "dataiter = iter(trainloader)\n",
        "images, labels = dataiter.next()\n",
        "print(type(images))\n",
        "print(images.shape)\n",
        "print(labels.shape)"
      ],
      "execution_count": null,
      "outputs": [
        {
          "output_type": "stream",
          "text": [
            "<class 'torch.Tensor'>\n",
            "torch.Size([64, 1, 28, 28])\n",
            "torch.Size([64])\n"
          ],
          "name": "stdout"
        }
      ]
    },
    {
      "cell_type": "code",
      "metadata": {
        "id": "VldEUbXBLJiC",
        "colab": {
          "base_uri": "https://localhost:8080/",
          "height": 265
        },
        "outputId": "bc6ed535-c983-44c5-ccce-9d2396274f08"
      },
      "source": [
        "plt.imshow(images[1].numpy().squeeze(), cmap='Greys_r');"
      ],
      "execution_count": null,
      "outputs": [
        {
          "output_type": "display_data",
          "data": {
            "image/png": "[encoded data removed]",
            "text/plain": [
              "<Figure size 432x288 with 1 Axes>"
            ]
          },
          "metadata": {
            "tags": [],
            "image/png": {
              "width": 251,
              "height": 248
            }
          }
        }
      ]
    },
    {
      "cell_type": "markdown",
      "metadata": {
        "id": "_WIuw1FTLVC6"
      },
      "source": [
        "We'll see how to do it using PyTorch's nn module which provides a much more convenient and powerful method for defining network architectures."
      ]
    },
    {
      "cell_type": "markdown",
      "metadata": {
        "id": "bv8jcavnLdsS"
      },
      "source": [
        "In fully-connected networks, the input to each layer must be a one-dimensional vector (which can be stacked into a 2D tensor as a batch of multiple examples). However, our images are 28x28 2D tensors, so we need to convert them into 1D vectors. Thinking about sizes, we need to convert the batch of images with shape (64, 1, 28, 28) to a have a shape of (64, 784), 784 is 28 times 28. This is typically called flattening, we flattened the 2D images into 1D vectors.\n",
        "Previously you built a network with one output unit. Here we need 10 output units, one for each digit. We want our network to predict the digit shown in an image, so what we'll do is calculate probabilities that the image is of any one digit or class. This ends up being a discrete probability distribution over the classes (digits) that tells us the most likely class for the image."
      ]
    },
    {
      "cell_type": "code",
      "metadata": {
        "id": "9TVuTdMjLUfO"
      },
      "source": [
        "def activation(x):\n",
        "    return 1/(1+torch.exp(-x))\n",
        "\n",
        "# Flatten the input images\n",
        "inputs = images.view(images.shape[0], -1)#(64, 1, 28, 28) to (64, 784)\n",
        "\n",
        "# Create parameters\n",
        "w1 = torch.randn(784, 256)\n",
        "b1 = torch.randn(256)\n",
        "\n",
        "w2 = torch.randn(256, 10)\n",
        "b2 = torch.randn(10)\n",
        "\n",
        "h = activation(torch.mm(inputs, w1) + b1)\n",
        "\n",
        "out = torch.mm(h, w2) + b2"
      ],
      "execution_count": null,
      "outputs": []
    },
    {
      "cell_type": "code",
      "metadata": {
        "id": "wULiOLjOMLwI",
        "colab": {
          "base_uri": "https://localhost:8080/",
          "height": 170
        },
        "outputId": "1da6ad4a-bf28-4ebe-d210-888cfc3deda8"
      },
      "source": [
        "def softmax(x):\n",
        "    return torch.exp(x)/torch.sum(torch.exp(x), dim=1).view(-1, 1)\n",
        "\n",
        "probabilities = softmax(out)\n",
        "\n",
        "# Does it have the right shape? Should be (64, 10)\n",
        "print(probabilities.shape)\n",
        "# Does it sum to 1?\n",
        "print(probabilities.sum(dim=1))"
      ],
      "execution_count": null,
      "outputs": [
        {
          "output_type": "stream",
          "text": [
            "torch.Size([64, 10])\n",
            "tensor([1.0000, 1.0000, 1.0000, 1.0000, 1.0000, 1.0000, 1.0000, 1.0000, 1.0000,\n",
            "        1.0000, 1.0000, 1.0000, 1.0000, 1.0000, 1.0000, 1.0000, 1.0000, 1.0000,\n",
            "        1.0000, 1.0000, 1.0000, 1.0000, 1.0000, 1.0000, 1.0000, 1.0000, 1.0000,\n",
            "        1.0000, 1.0000, 1.0000, 1.0000, 1.0000, 1.0000, 1.0000, 1.0000, 1.0000,\n",
            "        1.0000, 1.0000, 1.0000, 1.0000, 1.0000, 1.0000, 1.0000, 1.0000, 1.0000,\n",
            "        1.0000, 1.0000, 1.0000, 1.0000, 1.0000, 1.0000, 1.0000, 1.0000, 1.0000,\n",
            "        1.0000, 1.0000, 1.0000, 1.0000, 1.0000, 1.0000, 1.0000, 1.0000, 1.0000,\n",
            "        1.0000])\n"
          ],
          "name": "stdout"
        }
      ]
    },
    {
      "cell_type": "code",
      "metadata": {
        "id": "QC-NAetkMW1S",
        "colab": {
          "base_uri": "https://localhost:8080/",
          "height": 51
        },
        "outputId": "ed6030d5-ca07-48fe-a804-9c5cad4051cc"
      },
      "source": [
        "print(probabilities.sum(dim=0))"
      ],
      "execution_count": null,
      "outputs": [
        {
          "output_type": "stream",
          "text": [
            "tensor([4.2316e+00, 2.2374e+01, 2.3805e-04, 2.0477e-02, 1.5087e-04, 2.1441e+01,\n",
            "        1.8832e-04, 1.9745e+00, 2.5309e+00, 1.1427e+01])\n"
          ],
          "name": "stdout"
        }
      ]
    },
    {
      "cell_type": "markdown",
      "metadata": {
        "id": "C8AXSquCMiEi"
      },
      "source": [
        "PyTorch provides a module nn that makes building networks much simpler. Here I'll show you how to build the same one as above with 784 inputs, 256 hidden units, 10 output units and a softmax output."
      ]
    },
    {
      "cell_type": "code",
      "metadata": {
        "id": "vCJmS4rJMjw1"
      },
      "source": [
        "from torch import nn"
      ],
      "execution_count": null,
      "outputs": []
    },
    {
      "cell_type": "code",
      "metadata": {
        "id": "3-nEJvN9Mmnq"
      },
      "source": [
        "class Network(nn.Module):\n",
        "  #inheriting from nn.Module. Combined with super().__init__() this creates a class that tracks the architecture and provides a lot of useful methods and attributes. \n",
        "  #It is mandatory to inherit from nn.Module when you're creating a class for your network. The name of the class itself can be anything.\n",
        "    def __init__(self):\n",
        "        super().__init__()\n",
        "        \n",
        "        # Inputs to hidden layer linear transformation\n",
        "        # creates a module for a linear transformation, $x\\mathbf{W} + b$, with 784 inputs and 256 outputs\n",
        "        self.hidden = nn.Linear(784, 256)\n",
        "        #You can access the weight and bias tensors once the network (net) is created with net.hidden.weight and net.hidden.bias.\n",
        "\n",
        "        #this creates another linear transformation with 256 inputs and 10 outputs.\n",
        "        # Output layer, 10 units - one for each digit\n",
        "        self.output = nn.Linear(256, 10)\n",
        "        \n",
        "        # Define sigmoid activation and softmax output \n",
        "        self.sigmoid = nn.Sigmoid()\n",
        "        self.softmax = nn.Softmax(dim=1)\n",
        "        #Setting dim=1 in nn.Softmax(dim=1) calculates softmax across the columns.\n",
        "        \n",
        "    #PyTorch networks created with nn.Module must have a forward method defined. \n",
        "    #It takes in a tensor x and passes it through the operations you defined in the __init__ method.\n",
        "    def forward(self, x):\n",
        "        # Pass the input tensor through each of our operations\n",
        "        #Here the input tensor x is passed through each operation a reassigned to x.\n",
        "        x = self.hidden(x)\n",
        "        x = self.sigmoid(x)\n",
        "        x = self.output(x)\n",
        "        x = self.softmax(x)\n",
        "        \n",
        "        return x"
      ],
      "execution_count": null,
      "outputs": []
    },
    {
      "cell_type": "code",
      "metadata": {
        "id": "spzhKTHJNr5l",
        "colab": {
          "base_uri": "https://localhost:8080/",
          "height": 119
        },
        "outputId": "b265e453-f95e-4a7f-f6dc-5fae0ddfdc62"
      },
      "source": [
        "# Create the network and look at it's text representation\n",
        "model = Network()\n",
        "model"
      ],
      "execution_count": null,
      "outputs": [
        {
          "output_type": "execute_result",
          "data": {
            "text/plain": [
              "Network(\n",
              "  (hidden): Linear(in_features=784, out_features=256, bias=True)\n",
              "  (output): Linear(in_features=256, out_features=10, bias=True)\n",
              "  (sigmoid): Sigmoid()\n",
              "  (softmax): Softmax(dim=1)\n",
              ")"
            ]
          },
          "metadata": {
            "tags": []
          },
          "execution_count": 64
        }
      ]
    },
    {
      "cell_type": "markdown",
      "metadata": {
        "id": "Lp8jZGaVNy_b"
      },
      "source": [
        "You can define the network somewhat more concisely and clearly using the torch.nn.functional module. This is the most common way you'll see networks defined as many operations are simple element-wise functions. We normally import this module as F, import torch.nn.functional as F.\n"
      ]
    },
    {
      "cell_type": "code",
      "metadata": {
        "id": "QizW2cHxN3EI"
      },
      "source": [
        "import torch.nn.functional as F\n",
        "\n",
        "class Network(nn.Module):\n",
        "    def __init__(self):\n",
        "        super().__init__()\n",
        "        # Inputs to hidden layer linear transformation\n",
        "        self.hidden = nn.Linear(784, 256)\n",
        "        # Output layer, 10 units - one for each digit\n",
        "        self.output = nn.Linear(256, 10)\n",
        "        \n",
        "    def forward(self, x):\n",
        "        # Hidden layer with sigmoid activation\n",
        "        x = F.sigmoid(self.hidden(x))\n",
        "        # Output layer with softmax activation\n",
        "        x = F.softmax(self.output(x), dim=1)\n",
        "        \n",
        "        return x"
      ],
      "execution_count": null,
      "outputs": []
    },
    {
      "cell_type": "markdown",
      "metadata": {
        "id": "7vJWRPfHOOxX"
      },
      "source": [
        "Another model"
      ]
    },
    {
      "cell_type": "code",
      "metadata": {
        "id": "oa8jW9hhOSQ5",
        "colab": {
          "base_uri": "https://localhost:8080/",
          "height": 102
        },
        "outputId": "bf1fa34f-b7ae-4eb2-eac9-2040523fef2b"
      },
      "source": [
        "class Network(nn.Module):\n",
        "    def __init__(self):\n",
        "        super().__init__()\n",
        "        # Defining the layers, 128, 64, 10 units each\n",
        "        self.fc1 = nn.Linear(784, 128)\n",
        "        self.fc2 = nn.Linear(128, 64)\n",
        "        # Output layer, 10 units - one for each digit\n",
        "        self.fc3 = nn.Linear(64, 10)\n",
        "        \n",
        "    def forward(self, x):\n",
        "        ''' Forward pass through the network, returns the output logits '''\n",
        "        \n",
        "        x = self.fc1(x)\n",
        "        x = F.relu(x)\n",
        "        x = self.fc2(x)\n",
        "        x = F.relu(x)\n",
        "        x = self.fc3(x)\n",
        "        x = F.softmax(x, dim=1)\n",
        "        \n",
        "        return x\n",
        "\n",
        "model = Network()\n",
        "model"
      ],
      "execution_count": null,
      "outputs": [
        {
          "output_type": "execute_result",
          "data": {
            "text/plain": [
              "Network(\n",
              "  (fc1): Linear(in_features=784, out_features=128, bias=True)\n",
              "  (fc2): Linear(in_features=128, out_features=64, bias=True)\n",
              "  (fc3): Linear(in_features=64, out_features=10, bias=True)\n",
              ")"
            ]
          },
          "metadata": {
            "tags": []
          },
          "execution_count": 66
        }
      ]
    },
    {
      "cell_type": "markdown",
      "metadata": {
        "id": "OgqogJKKOVGr"
      },
      "source": [
        "It's good practice to name your layers by their type of network, for instance 'fc' to represent a fully-connected layer. As you code your solution, use fc1, fc2, and fc3 as your layer names.\n",
        "ReLU function is used almost exclusively as the activation function for hidden layers.\n",
        "The only requirement is that for a network to approximate a non-linear function, the activation functions must be non-linear.  Here are a few more examples of common activation functions: Tanh (hyperbolic tangent), and ReLU (rectified linear unit)."
      ]
    },
    {
      "cell_type": "markdown",
      "metadata": {
        "id": "5ydhb7UfOjHq"
      },
      "source": [
        "initializing weights and biases: The weights and such are automatically initialized for you, but it's possible to customize how they are initialized. The weights and biases are tensors attached to the layer you defined, you can get them with model.fc1.weight for instance.\n",
        "\n"
      ]
    },
    {
      "cell_type": "code",
      "metadata": {
        "id": "Xql_nPNoOvbO",
        "colab": {
          "base_uri": "https://localhost:8080/",
          "height": 476
        },
        "outputId": "7346208e-7113-48e1-bf21-dfaa9ca844aa"
      },
      "source": [
        "print(model.fc1.weight)\n",
        "print(model.fc1.bias)"
      ],
      "execution_count": null,
      "outputs": [
        {
          "output_type": "stream",
          "text": [
            "Parameter containing:\n",
            "tensor([[ 0.0053,  0.0095,  0.0104,  ..., -0.0226,  0.0165,  0.0120],\n",
            "        [-0.0142, -0.0229, -0.0197,  ...,  0.0299, -0.0270, -0.0269],\n",
            "        [-0.0248,  0.0253,  0.0324,  ..., -0.0175, -0.0339,  0.0020],\n",
            "        ...,\n",
            "        [ 0.0054,  0.0103,  0.0017,  ..., -0.0147, -0.0111, -0.0241],\n",
            "        [ 0.0340, -0.0104,  0.0198,  ..., -0.0157, -0.0128, -0.0336],\n",
            "        [-0.0086, -0.0058,  0.0136,  ...,  0.0086,  0.0153,  0.0127]],\n",
            "       requires_grad=True)\n",
            "Parameter containing:\n",
            "tensor([-0.0080, -0.0018,  0.0310,  0.0209, -0.0279,  0.0038,  0.0211, -0.0280,\n",
            "        -0.0354, -0.0346,  0.0077,  0.0270,  0.0150, -0.0330,  0.0125,  0.0229,\n",
            "        -0.0355, -0.0016,  0.0294,  0.0053,  0.0350,  0.0210,  0.0011,  0.0176,\n",
            "         0.0002, -0.0127, -0.0130, -0.0164, -0.0134, -0.0212, -0.0277,  0.0214,\n",
            "         0.0184,  0.0059, -0.0313, -0.0188,  0.0225,  0.0299,  0.0299,  0.0047,\n",
            "        -0.0238, -0.0196,  0.0241,  0.0200, -0.0347, -0.0111,  0.0093, -0.0025,\n",
            "        -0.0106,  0.0144,  0.0206, -0.0061,  0.0274, -0.0055, -0.0128, -0.0354,\n",
            "         0.0009,  0.0235,  0.0074, -0.0114, -0.0300, -0.0162,  0.0109,  0.0064,\n",
            "         0.0137,  0.0116,  0.0147,  0.0229,  0.0002, -0.0051,  0.0008, -0.0148,\n",
            "        -0.0055, -0.0066,  0.0146, -0.0197,  0.0296, -0.0122, -0.0259, -0.0357,\n",
            "        -0.0261,  0.0071, -0.0005, -0.0032, -0.0273,  0.0274,  0.0201,  0.0258,\n",
            "        -0.0009, -0.0258, -0.0201, -0.0246, -0.0325, -0.0046,  0.0031, -0.0323,\n",
            "        -0.0232, -0.0155,  0.0153,  0.0127, -0.0217,  0.0051,  0.0143, -0.0073,\n",
            "         0.0288, -0.0254, -0.0116, -0.0073,  0.0269,  0.0228, -0.0298, -0.0285,\n",
            "         0.0147,  0.0162, -0.0060, -0.0224, -0.0093,  0.0154, -0.0324,  0.0049,\n",
            "         0.0227,  0.0034,  0.0141,  0.0305,  0.0022,  0.0235,  0.0039,  0.0142],\n",
            "       requires_grad=True)\n"
          ],
          "name": "stdout"
        }
      ]
    },
    {
      "cell_type": "markdown",
      "metadata": {
        "id": "DKXig7oAO3kA"
      },
      "source": [
        "For custom initialization, we want to modify these tensors in place. These are actually autograd Variables, so we need to get back the actual tensors with model.fc1.weight.data. Once we have the tensors, we can fill them with zeros (for biases) or random normal values."
      ]
    },
    {
      "cell_type": "code",
      "metadata": {
        "id": "_T9SPxuPO5fp",
        "colab": {
          "base_uri": "https://localhost:8080/",
          "height": 139
        },
        "outputId": "bad0ed5b-9e8d-4307-c6fc-aa8268600363"
      },
      "source": [
        "# Set biases to all zeros\n",
        "model.fc1.bias.data.fill_(0)"
      ],
      "execution_count": null,
      "outputs": [
        {
          "output_type": "execute_result",
          "data": {
            "text/plain": [
              "tensor([0., 0., 0., 0., 0., 0., 0., 0., 0., 0., 0., 0., 0., 0., 0., 0., 0., 0., 0., 0., 0., 0., 0., 0.,\n",
              "        0., 0., 0., 0., 0., 0., 0., 0., 0., 0., 0., 0., 0., 0., 0., 0., 0., 0., 0., 0., 0., 0., 0., 0.,\n",
              "        0., 0., 0., 0., 0., 0., 0., 0., 0., 0., 0., 0., 0., 0., 0., 0., 0., 0., 0., 0., 0., 0., 0., 0.,\n",
              "        0., 0., 0., 0., 0., 0., 0., 0., 0., 0., 0., 0., 0., 0., 0., 0., 0., 0., 0., 0., 0., 0., 0., 0.,\n",
              "        0., 0., 0., 0., 0., 0., 0., 0., 0., 0., 0., 0., 0., 0., 0., 0., 0., 0., 0., 0., 0., 0., 0., 0.,\n",
              "        0., 0., 0., 0., 0., 0., 0., 0.])"
            ]
          },
          "metadata": {
            "tags": []
          },
          "execution_count": 68
        }
      ]
    },
    {
      "cell_type": "code",
      "metadata": {
        "id": "ZqTFSchKO99H",
        "colab": {
          "base_uri": "https://localhost:8080/",
          "height": 238
        },
        "outputId": "2b838f55-b693-48b8-abb6-ec6edc7e58f2"
      },
      "source": [
        "# sample from random normal with standard dev = 0.01\n",
        "model.fc1.weight.data.normal_(std=0.01)"
      ],
      "execution_count": null,
      "outputs": [
        {
          "output_type": "execute_result",
          "data": {
            "text/plain": [
              "tensor([[-2.6965e-02,  3.2594e-03,  7.2188e-03,  ...,  2.4345e-03,\n",
              "          5.3860e-04,  3.9906e-03],\n",
              "        [-4.0252e-03, -9.4899e-03,  1.6548e-02,  ...,  9.1848e-03,\n",
              "          8.1340e-03, -6.1363e-04],\n",
              "        [ 9.9076e-04,  7.7060e-04, -9.5502e-04,  ...,  6.8196e-03,\n",
              "         -5.0805e-03,  1.7135e-02],\n",
              "        ...,\n",
              "        [ 1.4525e-02,  1.1392e-02, -7.0820e-03,  ...,  6.6372e-03,\n",
              "          8.9632e-03, -3.5935e-04],\n",
              "        [-8.3963e-03, -1.1518e-02, -1.4619e-02,  ..., -1.8183e-05,\n",
              "         -9.8635e-03, -2.0011e-03],\n",
              "        [ 1.0964e-02, -3.1923e-03, -6.5580e-03,  ...,  6.6183e-03,\n",
              "         -1.7163e-02,  1.0629e-03]])"
            ]
          },
          "metadata": {
            "tags": []
          },
          "execution_count": 69
        }
      ]
    },
    {
      "cell_type": "markdown",
      "metadata": {
        "id": "88mlqWudPBqt"
      },
      "source": [
        "Now that we have a network, let's see what happens when we pass in an image."
      ]
    },
    {
      "cell_type": "code",
      "metadata": {
        "id": "V3kJhacDQQNb"
      },
      "source": [
        "import matplotlib.pyplot as plt\n",
        "import numpy as np\n",
        "from torch import nn, optim\n",
        "from torch.autograd import Variable\n",
        "\n",
        "\n",
        "def test_network(net, trainloader):\n",
        "\n",
        "    criterion = nn.MSELoss()\n",
        "    optimizer = optim.Adam(net.parameters(), lr=0.001)\n",
        "\n",
        "    dataiter = iter(trainloader)\n",
        "    images, labels = dataiter.next()\n",
        "\n",
        "    # Create Variables for the inputs and targets\n",
        "    inputs = Variable(images)\n",
        "    targets = Variable(images)\n",
        "\n",
        "    # Clear the gradients from all Variables\n",
        "    optimizer.zero_grad()\n",
        "\n",
        "    # Forward pass, then backward pass, then update weights\n",
        "    output = net.forward(inputs)\n",
        "    loss = criterion(output, targets)\n",
        "    loss.backward()\n",
        "    optimizer.step()\n",
        "\n",
        "    return True\n",
        "\n",
        "\n",
        "def imshow(image, ax=None, title=None, normalize=True):\n",
        "    \"\"\"Imshow for Tensor.\"\"\"\n",
        "    if ax is None:\n",
        "        fig, ax = plt.subplots()\n",
        "    image = image.numpy().transpose((1, 2, 0))\n",
        "\n",
        "    if normalize:\n",
        "        mean = np.array([0.485, 0.456, 0.406])\n",
        "        std = np.array([0.229, 0.224, 0.225])\n",
        "        image = std * image + mean\n",
        "        image = np.clip(image, 0, 1)\n",
        "\n",
        "    ax.imshow(image)\n",
        "    ax.spines['top'].set_visible(False)\n",
        "    ax.spines['right'].set_visible(False)\n",
        "    ax.spines['left'].set_visible(False)\n",
        "    ax.spines['bottom'].set_visible(False)\n",
        "    ax.tick_params(axis='both', length=0)\n",
        "    ax.set_xticklabels('')\n",
        "    ax.set_yticklabels('')\n",
        "\n",
        "    return ax\n",
        "\n",
        "\n",
        "def view_recon(img, recon):\n",
        "    ''' Function for displaying an image (as a PyTorch Tensor) and its\n",
        "        reconstruction also a PyTorch Tensor\n",
        "    '''\n",
        "\n",
        "    fig, axes = plt.subplots(ncols=2, sharex=True, sharey=True)\n",
        "    axes[0].imshow(img.numpy().squeeze())\n",
        "    axes[1].imshow(recon.data.numpy().squeeze())\n",
        "    for ax in axes:\n",
        "        ax.axis('off')\n",
        "        ax.set_adjustable('box-forced')\n",
        "\n",
        "def view_classify(img, ps, version=\"MNIST\"):\n",
        "    ''' Function for viewing an image and it's predicted classes.\n",
        "    '''\n",
        "    ps = ps.data.numpy().squeeze()\n",
        "\n",
        "    fig, (ax1, ax2) = plt.subplots(figsize=(6,9), ncols=2)\n",
        "    ax1.imshow(img.resize_(1, 28, 28).numpy().squeeze())\n",
        "    ax1.axis('off')\n",
        "    ax2.barh(np.arange(10), ps)\n",
        "    ax2.set_aspect(0.1)\n",
        "    ax2.set_yticks(np.arange(10))\n",
        "    if version == \"MNIST\":\n",
        "        ax2.set_yticklabels(np.arange(10))\n",
        "    elif version == \"Fashion\":\n",
        "        ax2.set_yticklabels(['T-shirt/top',\n",
        "                            'Trouser',\n",
        "                            'Pullover',\n",
        "                            'Dress',\n",
        "                            'Coat',\n",
        "                            'Sandal',\n",
        "                            'Shirt',\n",
        "                            'Sneaker',\n",
        "                            'Bag',\n",
        "                            'Ankle Boot'], size='small');\n",
        "    ax2.set_title('Class Probability')\n",
        "    ax2.set_xlim(0, 1.1)\n",
        "\n",
        "    plt.tight_layout()"
      ],
      "execution_count": null,
      "outputs": []
    },
    {
      "cell_type": "code",
      "metadata": {
        "id": "k2kp_JXePGm8"
      },
      "source": [
        "\n",
        "# Grab some data \n",
        "dataiter = iter(trainloader)\n",
        "images, labels = dataiter.next()\n",
        "\n",
        "# Resize images into a 1D vector, new shape is (batch size, color channels, image pixels) \n",
        "images.resize_(64, 1, 784)\n",
        "# or images.resize_(images.shape[0], 1, 784) to automatically get batch size\n",
        "\n",
        "# Forward pass through the network\n",
        "img_idx = 0\n",
        "ps = model.forward(images[img_idx,:])\n",
        "\n",
        "img = images[img_idx]\n",
        "\n"
      ],
      "execution_count": null,
      "outputs": []
    },
    {
      "cell_type": "code",
      "metadata": {
        "id": "KDWbnAzMP24f",
        "colab": {
          "base_uri": "https://localhost:8080/",
          "height": 252
        },
        "outputId": "2c7e794e-202a-44c6-88dd-75321efea3f0"
      },
      "source": [
        "view_classify(img.view(1, 28, 28), ps)"
      ],
      "execution_count": null,
      "outputs": [
        {
          "output_type": "display_data",
          "data": {
            "image/png": "[encoded data removed]",
            "text/plain": [
              "<Figure size 432x648 with 2 Axes>"
            ]
          },
          "metadata": {
            "tags": [],
            "image/png": {
              "width": 424,
              "height": 235
            }
          }
        }
      ]
    },
    {
      "cell_type": "markdown",
      "metadata": {
        "id": "Pg4rifuJQYxH"
      },
      "source": [
        "Using nn.Sequential: PyTorch provides a convenient way to build networks like this where a tensor is passed sequentially through operations, nn.Sequential (documentation). Using this to build the equivalent network:"
      ]
    },
    {
      "cell_type": "code",
      "metadata": {
        "id": "zSsTTIgyQfuG",
        "colab": {
          "base_uri": "https://localhost:8080/",
          "height": 388
        },
        "outputId": "6b97f6e6-2bd7-4e67-ea30-e9eb3d91f086"
      },
      "source": [
        "# Hyperparameters for our network\n",
        "input_size = 784\n",
        "hidden_sizes = [128, 64]\n",
        "output_size = 10\n",
        "\n",
        "# Build a feed-forward network\n",
        "model = nn.Sequential(nn.Linear(input_size, hidden_sizes[0]),\n",
        "                      nn.ReLU(),\n",
        "                      nn.Linear(hidden_sizes[0], hidden_sizes[1]),\n",
        "                      nn.ReLU(),\n",
        "                      nn.Linear(hidden_sizes[1], output_size),\n",
        "                      nn.Softmax(dim=1))\n",
        "print(model)\n",
        "\n",
        "# Forward pass through the network and display output\n",
        "images, labels = next(iter(trainloader))\n",
        "images.resize_(images.shape[0], 1, 784)\n",
        "ps = model.forward(images[0,:])\n",
        "view_classify(images[0].view(1, 28, 28), ps)"
      ],
      "execution_count": null,
      "outputs": [
        {
          "output_type": "stream",
          "text": [
            "Sequential(\n",
            "  (0): Linear(in_features=784, out_features=128, bias=True)\n",
            "  (1): ReLU()\n",
            "  (2): Linear(in_features=128, out_features=64, bias=True)\n",
            "  (3): ReLU()\n",
            "  (4): Linear(in_features=64, out_features=10, bias=True)\n",
            "  (5): Softmax(dim=1)\n",
            ")\n"
          ],
          "name": "stdout"
        },
        {
          "output_type": "display_data",
          "data": {
            "image/png": "[encoded data removed]",
            "text/plain": [
              "<Figure size 432x648 with 2 Axes>"
            ]
          },
          "metadata": {
            "tags": [],
            "image/png": {
              "width": 424,
              "height": 235
            }
          }
        }
      ]
    },
    {
      "cell_type": "markdown",
      "metadata": {
        "id": "RUBGm2NSQniq"
      },
      "source": [
        "The operations are availble by passing in the appropriate index. For example, if you want to get first Linear operation and look at the weights, you'd use model[0]."
      ]
    },
    {
      "cell_type": "code",
      "metadata": {
        "id": "1QyFsLFJQpyn",
        "colab": {
          "base_uri": "https://localhost:8080/",
          "height": 187
        },
        "outputId": "ae382f4d-7b94-452d-bdc0-694bed7c1c3d"
      },
      "source": [
        "print(model[0])\n",
        "model[0].weight"
      ],
      "execution_count": null,
      "outputs": [
        {
          "output_type": "stream",
          "text": [
            "Linear(in_features=784, out_features=128, bias=True)\n"
          ],
          "name": "stdout"
        },
        {
          "output_type": "execute_result",
          "data": {
            "text/plain": [
              "Parameter containing:\n",
              "tensor([[-0.0152, -0.0294,  0.0026,  ...,  0.0148,  0.0261, -0.0223],\n",
              "        [ 0.0032,  0.0163,  0.0208,  ..., -0.0124, -0.0124,  0.0186],\n",
              "        [ 0.0315, -0.0142, -0.0310,  ..., -0.0192, -0.0179,  0.0007],\n",
              "        ...,\n",
              "        [-0.0064, -0.0138, -0.0133,  ..., -0.0205, -0.0312,  0.0161],\n",
              "        [ 0.0131,  0.0127, -0.0273,  ...,  0.0140, -0.0335, -0.0295],\n",
              "        [ 0.0213, -0.0146, -0.0260,  ..., -0.0235,  0.0335, -0.0196]],\n",
              "       requires_grad=True)"
            ]
          },
          "metadata": {
            "tags": []
          },
          "execution_count": 80
        }
      ]
    },
    {
      "cell_type": "markdown",
      "metadata": {
        "id": "0jLR8vOZQwMR"
      },
      "source": [
        "You can also pass in an OrderedDict to name the individual layers and operations, instead of using incremental integers. Note that dictionary keys must be unique, so each operation must have a different name."
      ]
    },
    {
      "cell_type": "code",
      "metadata": {
        "id": "C-BxTVvRQzau",
        "colab": {
          "base_uri": "https://localhost:8080/",
          "height": 153
        },
        "outputId": "59647cf4-6fd2-491e-a4d0-0530d27b474e"
      },
      "source": [
        "from collections import OrderedDict\n",
        "model = nn.Sequential(OrderedDict([\n",
        "                      ('fc1', nn.Linear(input_size, hidden_sizes[0])),\n",
        "                      ('relu1', nn.ReLU()),\n",
        "                      ('fc2', nn.Linear(hidden_sizes[0], hidden_sizes[1])),\n",
        "                      ('relu2', nn.ReLU()),\n",
        "                      ('output', nn.Linear(hidden_sizes[1], output_size)),\n",
        "                      ('softmax', nn.Softmax(dim=1))]))\n",
        "model"
      ],
      "execution_count": null,
      "outputs": [
        {
          "output_type": "execute_result",
          "data": {
            "text/plain": [
              "Sequential(\n",
              "  (fc1): Linear(in_features=784, out_features=128, bias=True)\n",
              "  (relu1): ReLU()\n",
              "  (fc2): Linear(in_features=128, out_features=64, bias=True)\n",
              "  (relu2): ReLU()\n",
              "  (output): Linear(in_features=64, out_features=10, bias=True)\n",
              "  (softmax): Softmax(dim=1)\n",
              ")"
            ]
          },
          "metadata": {
            "tags": []
          },
          "execution_count": 81
        }
      ]
    },
    {
      "cell_type": "markdown",
      "metadata": {
        "id": "PT967o7DQ10C"
      },
      "source": [
        "Now you can access layers either by integer or the name"
      ]
    },
    {
      "cell_type": "code",
      "metadata": {
        "id": "7OuEUDnXQ3Lz",
        "colab": {
          "base_uri": "https://localhost:8080/",
          "height": 51
        },
        "outputId": "33d2555a-a738-4362-af81-03d87b685f19"
      },
      "source": [
        "print(model[0])\n",
        "print(model.fc1)"
      ],
      "execution_count": null,
      "outputs": [
        {
          "output_type": "stream",
          "text": [
            "Linear(in_features=784, out_features=128, bias=True)\n",
            "Linear(in_features=784, out_features=128, bias=True)\n"
          ],
          "name": "stdout"
        }
      ]
    },
    {
      "cell_type": "markdown",
      "metadata": {
        "id": "aI1N25R3Q9GD"
      },
      "source": [
        "#Training Neural Networks"
      ]
    },
    {
      "cell_type": "markdown",
      "metadata": {
        "id": "2BVKHqbfRlzV"
      },
      "source": [
        "Training the network!"
      ]
    },
    {
      "cell_type": "markdown",
      "metadata": {
        "id": "FUCzeZXyT5So"
      },
      "source": [
        "it's more convenient to build the model with a log-softmax output using nn.LogSoftmax or F.log_softmax (documentation). Then you can get the actual probabilites by taking the exponential torch.exp(output). With a log-softmax output, you want to use the negative log likelihood loss, nn.NLLLoss (documentation)."
      ]
    },
    {
      "cell_type": "code",
      "metadata": {
        "id": "z3B9mMGJRnli",
        "colab": {
          "base_uri": "https://localhost:8080/",
          "height": 102
        },
        "outputId": "551d5468-aadb-41f9-9116-2769fe05ec8d"
      },
      "source": [
        "from torch import optim\n",
        "\n",
        "model = nn.Sequential(nn.Linear(784, 128),\n",
        "                      nn.ReLU(),\n",
        "                      nn.Linear(128, 64),\n",
        "                      nn.ReLU(),\n",
        "                      nn.Linear(64, 10),\n",
        "                      nn.LogSoftmax(dim=1))\n",
        "\n",
        "criterion = nn.NLLLoss()\n",
        "optimizer = optim.SGD(model.parameters(), lr=0.003)\n",
        "\n",
        "epochs = 5\n",
        "for e in range(epochs):\n",
        "    running_loss = 0\n",
        "    for images, labels in trainloader:\n",
        "        # Flatten MNIST images into a 784 long vector\n",
        "        images = images.view(images.shape[0], -1)\n",
        "    \n",
        "        # TODO: Training pass\n",
        "        optimizer.zero_grad()\n",
        "        \n",
        "        output = model(images)\n",
        "        loss = criterion(output, labels)\n",
        "        loss.backward()\n",
        "        optimizer.step()\n",
        "        \n",
        "        running_loss += loss.item()\n",
        "    else:\n",
        "        print(f\"Training loss: {running_loss/len(trainloader)}\")"
      ],
      "execution_count": null,
      "outputs": [
        {
          "output_type": "stream",
          "text": [
            "Training loss: 1.91916799659668\n",
            "Training loss: 0.8666147714230552\n",
            "Training loss: 0.5323591251363123\n",
            "Training loss: 0.4345304797421386\n",
            "Training loss: 0.3882274371283903\n"
          ],
          "name": "stdout"
        }
      ]
    },
    {
      "cell_type": "code",
      "metadata": {
        "id": "wNJPPjg1S3yB",
        "colab": {
          "base_uri": "https://localhost:8080/",
          "height": 252
        },
        "outputId": "309a62c0-ed29-40f2-cdde-4202df712282"
      },
      "source": [
        "%matplotlib inline\n",
        "import helper\n",
        "\n",
        "images, labels = next(iter(trainloader))\n",
        "\n",
        "img = images[0].view(1, 784)\n",
        "# Turn off gradients to speed up this part\n",
        "with torch.no_grad():\n",
        "    logps = model(img)\n",
        "\n",
        "# Output of the network are log-probabilities, need to take exponential for probabilities\n",
        "ps = torch.exp(logps)\n",
        "view_classify(img.view(1, 28, 28), ps)"
      ],
      "execution_count": null,
      "outputs": [
        {
          "output_type": "display_data",
          "data": {
            "image/png": "[encoded data removed]",
            "text/plain": [
              "<Figure size 432x648 with 2 Axes>"
            ]
          },
          "metadata": {
            "tags": [],
            "image/png": {
              "width": 424,
              "height": 235
            }
          }
        }
      ]
    },
    {
      "cell_type": "markdown",
      "metadata": {
        "id": "nb6ztq-jVLjv"
      },
      "source": [
        "#Fashion Dataset"
      ]
    },
    {
      "cell_type": "code",
      "metadata": {
        "id": "k6Vv6bdpVN0D",
        "colab": {
          "base_uri": "https://localhost:8080/",
          "height": 403,
          "referenced_widgets": [
            "f519a017760b46a4ad8b979320f0114d",
            "b7f7f0d702054c73b531dfaf53eed71f",
            "75c6d761369b4bad8d9f80b481a102cf",
            "279300723eb649a4b17f5a1fb635266a",
            "37181eafcf624c25aa234df64fc24b6d",
            "c0b7a30c047947d1a4cf66dc97f4f340",
            "ea7da111562f441e8dfc494523dc2ffb",
            "49e2b74cacc849d48e47262beb5771aa",
            "378965ae989e4e609b174a221f3bedc8",
            "0666e66834c6441db676921732751f20",
            "72722ac2d8a24828b389912d8b865452",
            "eeb3632735a1431a9c6dd2ac68de1b36",
            "9cfb9cae296141078b01cf411b5e6089",
            "f65f855689244a8d8e287f6676f5f672",
            "317725c76f154e3c895ed67faaa704cb",
            "97fb27ae70e84b8f9f2b8efe97a6191a",
            "72022c74af9f4436a78850001c2a7870",
            "251e300a1b3d4d7aa84cf33016d5d600",
            "809a364e0e6e4552b52f9b2664f20fc3",
            "72c3f92b8fce4370a48a4bd4b11f2c4f",
            "8828c89c851d4e478fe44dfc458d2737",
            "83a6c58afc1a4077b1a2c9e5a395afba",
            "ced3e6ce69e345c59d066749ea4fe4f0",
            "34aebaff202845df81c3a5fc8f6dc554",
            "aefac60230b54d0fa1593ac89d3f528e",
            "0daf6a6b6e1f4ed9a640e5c1b25e749f",
            "cb3374bf4d304a2daf3738c4adfc0653",
            "dbe66f111b0c475ba3b7d740b6921bad",
            "8315c75ace2d4f7b920a98ed5bca656c",
            "8b28757df7ff40e28496d4a021fcf986",
            "ab20221caf0147a5a22737d32c00b28f",
            "bdbc8fa056eb41e8a7d38c0bcb7b5cf5"
          ]
        },
        "outputId": "2d5f5833-31a7-4fd3-f64b-2d2ccf21954a"
      },
      "source": [
        "import torch\n",
        "from torchvision import datasets, transforms\n",
        "\n",
        "# Define a transform to normalize the data\n",
        "transform = transforms.Compose([transforms.ToTensor(),\n",
        "                                transforms.Normalize((0.5,), (0.5,))])\n",
        "# Download and load the training data\n",
        "trainset = datasets.FashionMNIST('./F_MNIST_data/', download=True, train=True, transform=transform)\n",
        "trainloader = torch.utils.data.DataLoader(trainset, batch_size=64, shuffle=True)\n",
        "\n",
        "# Download and load the test data\n",
        "testset = datasets.FashionMNIST('./F_MNIST_data/', download=True, train=False, transform=transform)\n",
        "testloader = torch.utils.data.DataLoader(testset, batch_size=64, shuffle=True)"
      ],
      "execution_count": null,
      "outputs": [
        {
          "output_type": "stream",
          "text": [
            "Downloading http://fashion-mnist.s3-website.eu-central-1.amazonaws.com/train-images-idx3-ubyte.gz to ./F_MNIST_data/FashionMNIST/raw/train-images-idx3-ubyte.gz\n"
          ],
          "name": "stdout"
        },
        {
          "output_type": "display_data",
          "data": {
            "application/vnd.jupyter.widget-view+json": {
              "model_id": "f519a017760b46a4ad8b979320f0114d",
              "version_minor": 0,
              "version_major": 2
            },
            "text/plain": [
              "HBox(children=(IntProgress(value=1, bar_style='info', max=1), HTML(value='')))"
            ]
          },
          "metadata": {
            "tags": []
          }
        },
        {
          "output_type": "stream",
          "text": [
            "\n",
            "Extracting ./F_MNIST_data/FashionMNIST/raw/train-images-idx3-ubyte.gz to ./F_MNIST_data/FashionMNIST/raw\n",
            "Downloading http://fashion-mnist.s3-website.eu-central-1.amazonaws.com/train-labels-idx1-ubyte.gz to ./F_MNIST_data/FashionMNIST/raw/train-labels-idx1-ubyte.gz\n"
          ],
          "name": "stdout"
        },
        {
          "output_type": "display_data",
          "data": {
            "application/vnd.jupyter.widget-view+json": {
              "model_id": "378965ae989e4e609b174a221f3bedc8",
              "version_minor": 0,
              "version_major": 2
            },
            "text/plain": [
              "HBox(children=(IntProgress(value=1, bar_style='info', max=1), HTML(value='')))"
            ]
          },
          "metadata": {
            "tags": []
          }
        },
        {
          "output_type": "stream",
          "text": [
            "\n",
            "Extracting ./F_MNIST_data/FashionMNIST/raw/train-labels-idx1-ubyte.gz to ./F_MNIST_data/FashionMNIST/raw\n",
            "Downloading http://fashion-mnist.s3-website.eu-central-1.amazonaws.com/t10k-images-idx3-ubyte.gz to ./F_MNIST_data/FashionMNIST/raw/t10k-images-idx3-ubyte.gz\n"
          ],
          "name": "stdout"
        },
        {
          "output_type": "display_data",
          "data": {
            "application/vnd.jupyter.widget-view+json": {
              "model_id": "72022c74af9f4436a78850001c2a7870",
              "version_minor": 0,
              "version_major": 2
            },
            "text/plain": [
              "HBox(children=(IntProgress(value=1, bar_style='info', max=1), HTML(value='')))"
            ]
          },
          "metadata": {
            "tags": []
          }
        },
        {
          "output_type": "stream",
          "text": [
            "\n",
            "Extracting ./F_MNIST_data/FashionMNIST/raw/t10k-images-idx3-ubyte.gz to ./F_MNIST_data/FashionMNIST/raw\n",
            "Downloading http://fashion-mnist.s3-website.eu-central-1.amazonaws.com/t10k-labels-idx1-ubyte.gz to ./F_MNIST_data/FashionMNIST/raw/t10k-labels-idx1-ubyte.gz\n"
          ],
          "name": "stdout"
        },
        {
          "output_type": "display_data",
          "data": {
            "application/vnd.jupyter.widget-view+json": {
              "model_id": "aefac60230b54d0fa1593ac89d3f528e",
              "version_minor": 0,
              "version_major": 2
            },
            "text/plain": [
              "HBox(children=(IntProgress(value=1, bar_style='info', max=1), HTML(value='')))"
            ]
          },
          "metadata": {
            "tags": []
          }
        },
        {
          "output_type": "stream",
          "text": [
            "\n",
            "Extracting ./F_MNIST_data/FashionMNIST/raw/t10k-labels-idx1-ubyte.gz to ./F_MNIST_data/FashionMNIST/raw\n",
            "Processing...\n",
            "Done!\n"
          ],
          "name": "stdout"
        }
      ]
    },
    {
      "cell_type": "code",
      "metadata": {
        "id": "DNFKbNjWVatd"
      },
      "source": [
        "from torch import nn, optim\n",
        "import torch.nn.functional as F\n",
        "\n",
        "class Classifier(nn.Module):\n",
        "    def __init__(self):\n",
        "        super().__init__()\n",
        "        self.fc1 = nn.Linear(784, 256)\n",
        "        self.fc2 = nn.Linear(256, 128)\n",
        "        self.fc3 = nn.Linear(128, 64)\n",
        "        self.fc4 = nn.Linear(64, 10)\n",
        "        \n",
        "    def forward(self, x):\n",
        "        # make sure input tensor is flattened\n",
        "        x = x.view(x.shape[0], -1)\n",
        "        \n",
        "        x = F.relu(self.fc1(x))\n",
        "        x = F.relu(self.fc2(x))\n",
        "        x = F.relu(self.fc3(x))\n",
        "        x = F.log_softmax(self.fc4(x), dim=1)\n",
        "        \n",
        "        return x"
      ],
      "execution_count": null,
      "outputs": []
    },
    {
      "cell_type": "code",
      "metadata": {
        "id": "ZwQB_k-PVgyn",
        "colab": {
          "base_uri": "https://localhost:8080/",
          "height": 34
        },
        "outputId": "c2c9ccbb-e520-4252-df17-c3f42f23a43a"
      },
      "source": [
        "model = Classifier()\n",
        "\n",
        "images, labels = next(iter(testloader))\n",
        "# Get the class probabilities\n",
        "ps = torch.exp(model(images))\n",
        "# Make sure the shape is appropriate, we should get 10 class probabilities for 64 examples\n",
        "print(ps.shape)"
      ],
      "execution_count": null,
      "outputs": [
        {
          "output_type": "stream",
          "text": [
            "torch.Size([64, 10])\n"
          ],
          "name": "stdout"
        }
      ]
    },
    {
      "cell_type": "code",
      "metadata": {
        "id": "scKl_BbWVkm8",
        "colab": {
          "base_uri": "https://localhost:8080/",
          "height": 187
        },
        "outputId": "8444ec67-b04c-4594-c9dd-f2461bc0a913"
      },
      "source": [
        "top_p, top_class = ps.topk(1, dim=1)\n",
        "# Look at the most likely classes for the first 10 examples\n",
        "print(top_class[:10,:])"
      ],
      "execution_count": null,
      "outputs": [
        {
          "output_type": "stream",
          "text": [
            "tensor([[4],\n",
            "        [8],\n",
            "        [8],\n",
            "        [2],\n",
            "        [9],\n",
            "        [4],\n",
            "        [8],\n",
            "        [8],\n",
            "        [8],\n",
            "        [4]])\n"
          ],
          "name": "stdout"
        }
      ]
    },
    {
      "cell_type": "code",
      "metadata": {
        "id": "qyL2x0fpVtde"
      },
      "source": [
        "equals = top_class == labels.view(*top_class.shape)"
      ],
      "execution_count": null,
      "outputs": []
    },
    {
      "cell_type": "code",
      "metadata": {
        "id": "lXQt8UouVwib",
        "colab": {
          "base_uri": "https://localhost:8080/",
          "height": 34
        },
        "outputId": "772215c8-d469-494d-a3b7-063e79fff999"
      },
      "source": [
        "accuracy = torch.mean(equals.type(torch.FloatTensor))\n",
        "print(f'Accuracy: {accuracy.item()*100}%')"
      ],
      "execution_count": null,
      "outputs": [
        {
          "output_type": "stream",
          "text": [
            "Accuracy: 17.1875%\n"
          ],
          "name": "stdout"
        }
      ]
    },
    {
      "cell_type": "markdown",
      "metadata": {
        "id": "DdpOmq9GWBT4"
      },
      "source": [
        "Since we're not updating our parameters in the validation pass, we can speed up the by turning off gradients using torch.no_grad()"
      ]
    },
    {
      "cell_type": "code",
      "metadata": {
        "id": "5MuasSdAV4vz",
        "colab": {
          "base_uri": "https://localhost:8080/",
          "height": 527
        },
        "outputId": "a8cd9d0f-8b5c-469d-f9f4-e347b910ba2e"
      },
      "source": [
        "model = Classifier()\n",
        "criterion = nn.NLLLoss()\n",
        "optimizer = optim.Adam(model.parameters(), lr=0.003)\n",
        "\n",
        "epochs = 30\n",
        "steps = 0\n",
        "\n",
        "train_losses, test_losses = [], []\n",
        "for e in range(epochs):\n",
        "    running_loss = 0\n",
        "    for images, labels in trainloader:\n",
        "        \n",
        "        optimizer.zero_grad()\n",
        "        \n",
        "        log_ps = model(images)\n",
        "        loss = criterion(log_ps, labels)\n",
        "        loss.backward()\n",
        "        optimizer.step()\n",
        "        \n",
        "        running_loss += loss.item()\n",
        "        \n",
        "    else:\n",
        "        test_loss = 0\n",
        "        accuracy = 0\n",
        "        \n",
        "        # Turn off gradients for validation, saves memory and computations\n",
        "        with torch.no_grad():\n",
        "            for images, labels in testloader:\n",
        "                log_ps = model(images)\n",
        "                test_loss += criterion(log_ps, labels)\n",
        "                \n",
        "                ps = torch.exp(log_ps)\n",
        "                top_p, top_class = ps.topk(1, dim=1)\n",
        "                equals = top_class == labels.view(*top_class.shape)\n",
        "                accuracy += torch.mean(equals.type(torch.FloatTensor))\n",
        "                \n",
        "        train_losses.append(running_loss/len(trainloader))\n",
        "        test_losses.append(test_loss/len(testloader))\n",
        "\n",
        "        print(\"Epoch: {}/{}.. \".format(e+1, epochs),\n",
        "              \"Training Loss: {:.3f}.. \".format(running_loss/len(trainloader)),\n",
        "              \"Test Loss: {:.3f}.. \".format(test_loss/len(testloader)),\n",
        "              \"Test Accuracy: {:.3f}\".format(accuracy/len(testloader)))"
      ],
      "execution_count": null,
      "outputs": [
        {
          "output_type": "stream",
          "text": [
            "Epoch: 1/30..  Training Loss: 0.521..  Test Loss: 0.448..  Test Accuracy: 0.836\n",
            "Epoch: 2/30..  Training Loss: 0.393..  Test Loss: 0.429..  Test Accuracy: 0.843\n",
            "Epoch: 3/30..  Training Loss: 0.357..  Test Loss: 0.392..  Test Accuracy: 0.860\n",
            "Epoch: 4/30..  Training Loss: 0.333..  Test Loss: 0.393..  Test Accuracy: 0.857\n",
            "Epoch: 5/30..  Training Loss: 0.311..  Test Loss: 0.370..  Test Accuracy: 0.866\n",
            "Epoch: 6/30..  Training Loss: 0.303..  Test Loss: 0.383..  Test Accuracy: 0.862\n",
            "Epoch: 7/30..  Training Loss: 0.290..  Test Loss: 0.385..  Test Accuracy: 0.862\n",
            "Epoch: 8/30..  Training Loss: 0.282..  Test Loss: 0.373..  Test Accuracy: 0.871\n",
            "Epoch: 9/30..  Training Loss: 0.273..  Test Loss: 0.373..  Test Accuracy: 0.876\n",
            "Epoch: 10/30..  Training Loss: 0.262..  Test Loss: 0.362..  Test Accuracy: 0.874\n",
            "Epoch: 11/30..  Training Loss: 0.258..  Test Loss: 0.376..  Test Accuracy: 0.870\n",
            "Epoch: 12/30..  Training Loss: 0.253..  Test Loss: 0.368..  Test Accuracy: 0.882\n",
            "Epoch: 13/30..  Training Loss: 0.245..  Test Loss: 0.364..  Test Accuracy: 0.879\n",
            "Epoch: 14/30..  Training Loss: 0.240..  Test Loss: 0.395..  Test Accuracy: 0.873\n",
            "Epoch: 15/30..  Training Loss: 0.232..  Test Loss: 0.428..  Test Accuracy: 0.873\n",
            "Epoch: 16/30..  Training Loss: 0.232..  Test Loss: 0.375..  Test Accuracy: 0.880\n",
            "Epoch: 17/30..  Training Loss: 0.226..  Test Loss: 0.377..  Test Accuracy: 0.883\n",
            "Epoch: 18/30..  Training Loss: 0.221..  Test Loss: 0.351..  Test Accuracy: 0.886\n",
            "Epoch: 19/30..  Training Loss: 0.211..  Test Loss: 0.395..  Test Accuracy: 0.874\n",
            "Epoch: 20/30..  Training Loss: 0.215..  Test Loss: 0.364..  Test Accuracy: 0.883\n",
            "Epoch: 21/30..  Training Loss: 0.207..  Test Loss: 0.395..  Test Accuracy: 0.878\n",
            "Epoch: 22/30..  Training Loss: 0.203..  Test Loss: 0.431..  Test Accuracy: 0.878\n",
            "Epoch: 23/30..  Training Loss: 0.207..  Test Loss: 0.361..  Test Accuracy: 0.881\n",
            "Epoch: 24/30..  Training Loss: 0.197..  Test Loss: 0.388..  Test Accuracy: 0.885\n",
            "Epoch: 25/30..  Training Loss: 0.193..  Test Loss: 0.404..  Test Accuracy: 0.879\n",
            "Epoch: 26/30..  Training Loss: 0.193..  Test Loss: 0.485..  Test Accuracy: 0.867\n",
            "Epoch: 27/30..  Training Loss: 0.195..  Test Loss: 0.421..  Test Accuracy: 0.884\n",
            "Epoch: 28/30..  Training Loss: 0.181..  Test Loss: 0.389..  Test Accuracy: 0.885\n",
            "Epoch: 29/30..  Training Loss: 0.186..  Test Loss: 0.402..  Test Accuracy: 0.886\n",
            "Epoch: 30/30..  Training Loss: 0.180..  Test Loss: 0.404..  Test Accuracy: 0.886\n"
          ],
          "name": "stdout"
        }
      ]
    },
    {
      "cell_type": "code",
      "metadata": {
        "id": "SpfSD1VFWRDs",
        "colab": {
          "base_uri": "https://localhost:8080/",
          "height": 282
        },
        "outputId": "ca75c87a-7ba9-4deb-d4b0-1da7d77de0a8"
      },
      "source": [
        "%matplotlib inline\n",
        "%config InlineBackend.figure_format = 'retina'\n",
        "\n",
        "import matplotlib.pyplot as plt\n",
        "plt.plot(train_losses, label='Training loss')\n",
        "plt.plot(test_losses, label='Validation loss')\n",
        "plt.legend(frameon=False)"
      ],
      "execution_count": null,
      "outputs": [
        {
          "output_type": "execute_result",
          "data": {
            "text/plain": [
              "<matplotlib.legend.Legend at 0x7fd45530a2b0>"
            ]
          },
          "metadata": {
            "tags": []
          },
          "execution_count": 98
        },
        {
          "output_type": "display_data",
          "data": {
            "image/png": "[encoded data removed]",
            "text/plain": [
              "<Figure size 432x288 with 1 Axes>"
            ]
          },
          "metadata": {
            "tags": [],
            "image/png": {
              "width": 380,
              "height": 248
            }
          }
        }
      ]
    }
  ]
}