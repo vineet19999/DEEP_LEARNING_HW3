{
 "cells": [
  {
   "cell_type": "markdown",
   "metadata": {},
   "source": [
    "# Webcrawl\n",
    "ref: https://github.com/openai/openai-cookbook/blob/main/apps/web-crawl-q-and-a/web-qa.ipynb"
   ]
  },
  {
   "cell_type": "code",
   "execution_count": 1,
   "metadata": {},
   "outputs": [
    {
     "name": "stderr",
     "output_type": "stream",
     "text": [
      "/home/lkk/miniconda3/envs/mypy310/lib/python3.10/site-packages/requests/__init__.py:102: RequestsDependencyWarning: urllib3 (1.26.7) or chardet (5.2.0)/charset_normalizer (2.0.7) doesn't match a supported version!\n",
      "  warnings.warn(\"urllib3 ({}) or chardet ({})/charset_normalizer ({}) doesn't match a supported \"\n"
     ]
    }
   ],
   "source": [
    "import requests\n",
    "import re\n",
    "import urllib.request\n",
    "from bs4 import BeautifulSoup\n",
    "from collections import deque\n",
    "from html.parser import HTMLParser\n",
    "from urllib.parse import urlparse\n",
    "import os"
   ]
  },
  {
   "cell_type": "code",
   "execution_count": 27,
   "metadata": {},
   "outputs": [],
   "source": [
    "# Regex pattern to match a URL\n",
    "HTTP_URL_PATTERN = r'^http[s]*://.+'\n",
    "\n",
    "# Define root domain to crawl\n",
    "domain = \"sjsu.edu\"\n",
    "full_url = \"https://www.sjsu.edu/cmpe/\"\n",
    "subdomain = \"/cmpe\""
   ]
  },
  {
   "cell_type": "code",
   "execution_count": 45,
   "metadata": {},
   "outputs": [
    {
     "data": {
      "text/plain": [
       "ParseResult(scheme='https', netloc='www.sjsu.edu', path='/cmpe/research/tdd.pdf', params='', query='', fragment='')"
      ]
     },
     "execution_count": 45,
     "metadata": {},
     "output_type": "execute_result"
    }
   ],
   "source": [
    "url_obj = urlparse(\"https://www.sjsu.edu/cmpe/research/tdd.pdf\")\n",
    "url_obj"
   ]
  },
  {
   "cell_type": "code",
   "execution_count": 46,
   "metadata": {},
   "outputs": [
    {
     "data": {
      "text/plain": [
       "True"
      ]
     },
     "execution_count": 46,
     "metadata": {},
     "output_type": "execute_result"
    }
   ],
   "source": [
    "url_obj.path.startswith(\"/cmpe\")"
   ]
  },
  {
   "cell_type": "code",
   "execution_count": 47,
   "metadata": {},
   "outputs": [
    {
     "data": {
      "text/plain": [
       "True"
      ]
     },
     "execution_count": 47,
     "metadata": {},
     "output_type": "execute_result"
    }
   ],
   "source": [
    "url_obj.path.endswith(\".pdf\")"
   ]
  },
  {
   "cell_type": "code",
   "execution_count": 48,
   "metadata": {},
   "outputs": [],
   "source": [
    "# Create a class to parse the HTML and get the hyperlinks\n",
    "class HyperlinkParser(HTMLParser):\n",
    "    def __init__(self):\n",
    "        super().__init__()\n",
    "        # Create a list to store the hyperlinks\n",
    "        self.hyperlinks = []\n",
    "\n",
    "    # Override the HTMLParser's handle_starttag method to get the hyperlinks\n",
    "    def handle_starttag(self, tag, attrs):\n",
    "        attrs = dict(attrs)\n",
    "\n",
    "        # If the tag is an anchor tag and it has an href attribute, add the href attribute to the list of hyperlinks\n",
    "        #The <a> tag defines a hyperlink\n",
    "        if tag == \"a\" and \"href\" in attrs:\n",
    "            self.hyperlinks.append(attrs[\"href\"])\n",
    "\n",
    "#takes a URL as an argument, opens the URL, and reads the HTML content. Then, it returns all the hyperlinks found on that page.\n",
    "# Function to get the hyperlinks from a URL\n",
    "def get_hyperlinks(url):\n",
    "    \n",
    "    # Try to open the URL and read the HTML\n",
    "    try:\n",
    "        # Open the URL and read the HTML\n",
    "        with urllib.request.urlopen(url) as response:\n",
    "\n",
    "            # If the response is not HTML, return an empty list\n",
    "            if not response.info().get('Content-Type').startswith(\"text/html\"):\n",
    "                return []\n",
    "            \n",
    "            # Decode the HTML\n",
    "            html = response.read().decode('utf-8')\n",
    "    except Exception as e:\n",
    "        print(e)\n",
    "        return []\n",
    "\n",
    "    # Create the HTML Parser and then Parse the HTML to get hyperlinks\n",
    "    parser = HyperlinkParser()\n",
    "    parser.feed(html)\n",
    "\n",
    "    return parser.hyperlinks\n",
    "\n",
    "# Function to get the hyperlinks from a URL that are within the same domain\n",
    "def get_domain_hyperlinks(local_domain, url, subdomain=\"\"):\n",
    "    clean_links = []\n",
    "    for link in set(get_hyperlinks(url)):\n",
    "        clean_link = None\n",
    "\n",
    "        # If the link is a URL, check if it is within the same domain\n",
    "        if re.search(HTTP_URL_PATTERN, link):\n",
    "            # Parse the URL and check if the domain is the same\n",
    "            url_obj = urlparse(link)\n",
    "            if url_obj.netloc == local_domain:\n",
    "                if subdomain:\n",
    "                    if url_obj.path.startswith(subdomain):\n",
    "                        #print(\"match subdomain\")\n",
    "                        clean_link = link\n",
    "                else:\n",
    "                    clean_link = link\n",
    "\n",
    "        # If the link is not a URL, check if it is a relative link\n",
    "        else:\n",
    "            #print(\"relative link\", link)\n",
    "            if subdomain:\n",
    "                if not link.startswith(subdomain):\n",
    "                    continue\n",
    "            if link.startswith(\"/\"):\n",
    "                link = link[1:]\n",
    "            elif link.startswith(\"#\") or link.startswith(\"mailto:\"):\n",
    "                continue\n",
    "            clean_link = \"https://\" + local_domain + \"/\" + link\n",
    "\n",
    "        if clean_link is not None:\n",
    "            if clean_link.endswith(\"/\"):\n",
    "                clean_link = clean_link[:-1]\n",
    "            if clean_link.endswith(\".pdf\") or clean_link.endswith(\".jpg\") or clean_link.endswith(\".png\"):\n",
    "                 continue\n",
    "            clean_links.append(clean_link)\n",
    "\n",
    "    # Return the list of hyperlinks that are within the same domain\n",
    "    return list(set(clean_links))"
   ]
  },
  {
   "cell_type": "code",
   "execution_count": 9,
   "metadata": {},
   "outputs": [
    {
     "data": {
      "text/plain": [
       "'/home/lkk/Developer/DeepDataMiningLearning/dataapps'"
      ]
     },
     "execution_count": 9,
     "metadata": {},
     "output_type": "execute_result"
    }
   ],
   "source": [
    "os.getcwd()"
   ]
  },
  {
   "cell_type": "code",
   "execution_count": 32,
   "metadata": {},
   "outputs": [
    {
     "data": {
      "text/plain": [
       "'./output/text/'"
      ]
     },
     "execution_count": 32,
     "metadata": {},
     "output_type": "execute_result"
    }
   ],
   "source": [
    "outputpath=\"./output\"\n",
    "os.mkdir(outputpath)\n",
    "textoutputpath=os.path.join(outputpath,\"text/\")\n",
    "textoutputpath"
   ]
  },
  {
   "cell_type": "code",
   "execution_count": 13,
   "metadata": {},
   "outputs": [
    {
     "data": {
      "text/plain": [
       "'./output/text/www.sjsu.edu/'"
      ]
     },
     "execution_count": 13,
     "metadata": {},
     "output_type": "execute_result"
    }
   ],
   "source": [
    "textoutputpath+local_domain+\"/\""
   ]
  },
  {
   "cell_type": "code",
   "execution_count": 11,
   "metadata": {},
   "outputs": [],
   "source": [
    "local_domain = urlparse(full_url).netloc"
   ]
  },
  {
   "cell_type": "code",
   "execution_count": 12,
   "metadata": {},
   "outputs": [
    {
     "data": {
      "text/plain": [
       "'www.sjsu.edu'"
      ]
     },
     "execution_count": 12,
     "metadata": {},
     "output_type": "execute_result"
    }
   ],
   "source": [
    "local_domain"
   ]
  },
  {
   "cell_type": "code",
   "execution_count": 50,
   "metadata": {},
   "outputs": [],
   "source": [
    "#crawl the given url and output text files in textoutputpath\n",
    "def crawl(url, textoutputpath, subdomain=\"\"):\n",
    "    # Parse the URL and get the domain\n",
    "    local_domain = urlparse(url).netloc\n",
    "\n",
    "    # Create a queue to store the URLs to crawl\n",
    "    queue = deque([url])\n",
    "\n",
    "    # Create a set to store the URLs that have already been seen (no duplicates)\n",
    "    seen = set([url])\n",
    "\n",
    "    # Create a directory to store the text files\n",
    "    if not os.path.exists(textoutputpath):\n",
    "            os.mkdir(textoutputpath)\n",
    "\n",
    "    if not os.path.exists(textoutputpath+local_domain+\"/\"):\n",
    "            os.mkdir(textoutputpath + local_domain + \"/\")\n",
    "\n",
    "    # Create a directory to store the csv files\n",
    "    if not os.path.exists(textoutputpath+\"processed\"):\n",
    "            os.mkdir(textoutputpath+\"processed\")\n",
    "\n",
    "    # While the queue is not empty, continue crawling\n",
    "    while queue:\n",
    "\n",
    "        # Get the next URL from the queue\n",
    "        url = queue.pop()\n",
    "        print(url) # for debugging and to see the progress\n",
    "\n",
    "        # Save text from the url to a <url>.txt file\n",
    "        with open(textoutputpath+local_domain+'/'+url[8:].replace(\"/\", \"_\") + \".txt\", \"w\") as f:\n",
    "\n",
    "            # Get the text from the URL using BeautifulSoup\n",
    "            soup = BeautifulSoup(requests.get(url).text, \"html.parser\")\n",
    "\n",
    "            # Get the text but remove the tags\n",
    "            text = soup.get_text()\n",
    "\n",
    "            # If the crawler gets to a page that requires JavaScript, it will stop the crawl\n",
    "            if (\"You need to enable JavaScript to run this app.\" in text):\n",
    "                print(\"Unable to parse page \" + url + \" due to JavaScript being required\")\n",
    "            \n",
    "            # Otherwise, write the text to the file in the text directory\n",
    "            f.write(text)\n",
    "\n",
    "        # Get the hyperlinks from the URL and add them to the queue\n",
    "        for link in get_domain_hyperlinks(local_domain, url, subdomain):\n",
    "            if link not in seen:\n",
    "                queue.append(link)\n",
    "                seen.add(link)"
   ]
  },
  {
   "cell_type": "code",
   "execution_count": 51,
   "metadata": {},
   "outputs": [
    {
     "data": {
      "text/plain": [
       "'/cmpe'"
      ]
     },
     "execution_count": 51,
     "metadata": {},
     "output_type": "execute_result"
    }
   ],
   "source": [
    "subdomain"
   ]
  },
  {
   "cell_type": "code",
   "execution_count": 52,
   "metadata": {},
   "outputs": [
    {
     "name": "stdout",
     "output_type": "stream",
     "text": [
      "https://www.sjsu.edu/cmpe/\n",
      "https://www.sjsu.edu/cmpe/faculty/lecturer/brett-hartbeck.php\n",
      "https://www.sjsu.edu/cmpe\n",
      "https://www.sjsu.edu/cmpe/faculty\n",
      "https://www.sjsu.edu/cmpe/students/undergraduate-advising/cpt-guide-undergraduates.php\n",
      "https://www.sjsu.edu/cmpe/students/undergraduate-advising\n",
      "https://www.sjsu.edu/cmpe/students/undergraduate-advising/undergraduate-changeofmajor.php#faq\n",
      "https://www.sjsu.edu/cmpe/students/undergraduate-advising/undergraduate-changeofmajor.php#reviewguide\n",
      "https://www.sjsu.edu/cmpe/students/undergraduate-advising/undergraduate-changeofmajor.php#studentguide\n",
      "https://www.sjsu.edu/cmpe/students\n",
      "https://www.sjsu.edu/cmpe/academic/ms-cmpe/msce-faq.php\n",
      "https://www.sjsu.edu/cmpe/academic/ms-cmpe\n",
      "https://www.sjsu.edu/cmpe/academic\n",
      "https://www.sjsu.edu/cmpe/students/graduate-advising/credit-transfer.php\n",
      "https://www.sjsu.edu/cmpe/students/graduate-advising\n",
      "https://www.sjsu.edu/cmpe/faculty/advisors/index.php\n",
      "HTTP Error 404: Not Found\n",
      "https://www.sjsu.edu/cmpe/students/undergraduate-advising/undergraduate-faqs.php\n",
      "https://www.sjsu.edu/cmpe/academic/bscmpe/bcce-technical-electives.php\n",
      "https://www.sjsu.edu/cmpe/academic/bscmpe\n",
      "https://www.sjsu.edu/cmpe/faculty/tenure-line/stas-tiomkin.php\n",
      "https://www.sjsu.edu/cmpe/faculty/tenure-line/haonan-wang.php\n",
      "https://www.sjsu.edu/cmpe/academic/courses.php\n",
      "https://www.sjsu.edu/cmpe/about/news/index.php\n",
      "https://www.sjsu.edu/cmpe/Academic/MSAI/index.php\n",
      "HTTP Error 404: Not Found\n",
      "https://www.sjsu.edu/cmpe/about\n",
      "https://www.sjsu.edu/cmpe/faculty/tenure-line/gokay-saldamli.php\n",
      "https://www.sjsu.edu/cmpe/research/project-expo/2017-fall.php\n",
      "https://www.sjsu.edu/cmpe/research\n",
      "https://www.sjsu.edu/cmpe/academic/bs-software-engineering/bsse-faq.php\n",
      "https://www.sjsu.edu/cmpe/academic/bs-software-engineering\n",
      "https://www.sjsu.edu/cmpe/academic/ms-software-engineering\n",
      "https://www.sjsu.edu/cmpe/research/projects/index.php\n",
      "https://www.sjsu.edu/cmpe/faculty/tenure-line/rod-fatoohi.php\n",
      "https://www.sjsu.edu/cmpe/students/graduate-advising/gpa.php\n",
      "https://www.sjsu.edu/cmpe/resources/hpc.php\n",
      "https://www.sjsu.edu/cmpe/resources\n",
      "<urlopen error [Errno 110] Connection timed out>\n",
      "https://www.sjsu.edu/cmpe/faculty/lecturer/jahan-ghofraniha.php\n",
      "https://www.sjsu.edu/cmpe/research/index.php\n",
      "https://www.sjsu.edu/cmpe/resources/career-opportunity.php\n",
      "https://www.sjsu.edu/cmpe/students/graduate-advising/cpt.php\n",
      "https://www.sjsu.edu/cmpe/research/research-areas/data-science-analytics.php\n",
      "https://www.sjsu.edu/cmpe/research/research-areas\n",
      "https://www.sjsu.edu/cmpe/faculty/lecturer/juan-gomez.php\n",
      "https://www.sjsu.edu/cmpe/academic/bscmpe/bsce-probation.php\n",
      "https://www.sjsu.edu/cmpe/students/admission/index.php\n",
      "https://www.sjsu.edu/cmpe/academic/ms-software-engineering/msse-cybersecurity.php\n",
      "https://www.sjsu.edu/cmpe/faculty/lecturer/andrew-bond.php\n",
      "https://www.sjsu.edu/cmpe/faculty/lecturer/preetpal-kang.php\n",
      "https://www.sjsu.edu/cmpe/academic/bscmpe/index.php\n",
      "https://www.sjsu.edu/cmpe/faculty/officehours.php\n",
      "https://www.sjsu.edu/cmpe/faculty/lecturer/gopinath-k-vinodh.php\n",
      "https://www.sjsu.edu/cmpe/research/project-expo/2023-spring.php\n",
      "https://www.sjsu.edu/cmpe/faculty/lecturer/index.php\n",
      "https://www.sjsu.edu/cmpe/students/advisors/index.php\n",
      "https://www.sjsu.edu/cmpe/faculty/front-desk-assistant/monica-serna.php\n",
      "HTTP Error 404: Not Found\n",
      "https://www.sjsu.edu/cmpe/students/admission/msse-admission.php\n",
      "https://www.sjsu.edu/cmpe/students/admission\n",
      "https://www.sjsu.edu/cmpe/faculty/tenure-line/weider-yu.php\n",
      "https://www.sjsu.edu/cmpe/students/undergraduate-advising/index.php\n",
      "https://www.sjsu.edu/cmpe/students/graduate-advising/index.php\n",
      "https://www.sjsu.edu/cmpe/faculty/lecturer/charles-zhang.php\n",
      "https://www.sjsu.edu/cmpe/research/project-expo/2020-spring.php\n",
      "https://www.sjsu.edu/cmpe/research/research-areas/index.php\n",
      "https://www.sjsu.edu/cmpe/about/computer-engineering.php\n",
      "https://www.sjsu.edu/cmpe/academic/bscmpe/bscmpe-abet.php\n",
      "https://www.sjsu.edu/cmpe/research/thesis.php\n",
      "https://www.sjsu.edu/cmpe/research/project-expo/2021-spring.php\n",
      "https://www.sjsu.edu/cmpe/students/graduate-advising/msse-new-student-welcome.php\n",
      "https://www.sjsu.edu/cmpe/faculty/lecturer/hungwen-li.php\n",
      "https://www.sjsu.edu/cmpe/about/announcement/index.php\n",
      "HTTP Error 404: Not Found\n",
      "https://www.sjsu.edu/cmpe/research/research-areas/cloud-computing.php\n",
      "https://www.sjsu.edu/cmpe/academic/ms-cmpe/msce-taking-courses.php\n",
      "https://www.sjsu.edu/cmpe/resources/student-resources.php\n",
      "https://www.sjsu.edu/cmpe/docs/bs-cmpe/cmpe-majorform-fall2014.doc\n",
      "https://www.sjsu.edu/cmpe/docs/bs-cmpe/se-majorform-fall2015.doc\n",
      "https://www.sjsu.edu/cmpe/docs/bs-cmpe/se-programofstudy_fall_2019.doc\n",
      "https://www.sjsu.edu/cmpe/docs/bs-cmpe/advance_registration_form_updated_2017.doc\n",
      "https://www.sjsu.edu/cmpe/docs/bs-cmpe/cmpe-majorform-fall2015-1.doc\n",
      "https://www.sjsu.edu/cmpe/docs/bs-cmpe/cmpe-program_of_study_form_fall_2019.docx\n",
      "https://www.sjsu.edu/cmpe/docs/bs-cmpe/se-majorform-fall2016-19.doc\n",
      "https://www.sjsu.edu/cmpe/docs/bs-cmpe/cmpe-majorform-fall2016-19_1.doc\n",
      "https://www.sjsu.edu/cmpe/academic/cybersecurity-program/cybersecuritycertificatesprogram.php\n",
      "https://www.sjsu.edu/cmpe/academic/cybersecurity-program\n",
      "https://www.sjsu.edu/cmpe/academic/index.php\n",
      "https://www.sjsu.edu/cmpe/faculty/lecturer/john-gash.php\n",
      "https://www.sjsu.edu/cmpe/academic/ms-software-engineering/msse-university-learning-goals.php\n",
      "https://www.sjsu.edu/cmpe/faculty/lecturer/paul-nguyen.php\n",
      "https://www.sjsu.edu/cmpe/research/project-expo/2023-summer.php\n",
      "https://www.sjsu.edu/cmpe/research/project-expo/Project%20Video\n",
      "HTTP Error 404: Not Found\n",
      "https://www.sjsu.edu/cmpe/students/graduate-advising/prerequisite-classes.php\n",
      "https://www.sjsu.edu/cmpe/faculty/faculty-emeriti/ron-mak.php\n",
      "https://www.sjsu.edu/cmpe/faculty/faculty-emeriti\n",
      "https://www.sjsu.edu/cmpe/faculty/lecturer/ishie-eswar.php\n",
      "https://www.sjsu.edu/cmpe/faculty/tenure-line/jerry-gao.php\n",
      "https://www.sjsu.edu/cmpe/students/faqs/index.php\n",
      "https://www.sjsu.edu/cmpe/faculty/tenure-line/ahmet-bindal.php\n",
      "https://www.sjsu.edu/cmpe/faculty/lecturer/anna-meng.php\n",
      "https://www.sjsu.edu/cmpe/faculty/faculty-emeriti/donald-hung.php\n",
      "https://www.sjsu.edu/cmpe/research/project-expo/2017-spring.php\n",
      "https://www.sjsu.edu/cmpe/faculty/lecturer/chao-li-tarng.php\n",
      "https://www.sjsu.edu/cmpe/academic/bs-software-engineering/bsse-probation.php\n",
      "https://www.sjsu.edu/cmpe/resources/ta-position.php\n",
      "https://www.sjsu.edu/cmpe/research/project-expo/2022-spring.php\n",
      "https://www.sjsu.edu/cmpe/research/projects/nsfrings.php\n",
      "https://www.sjsu.edu/cmpe/research/projects\n",
      "https://www.sjsu.edu/cmpe/faculty/lecturer/shai-silberman.php\n",
      "https://www.sjsu.edu/cmpe/faculty/lecturer/michael-larkin.php\n",
      "https://www.sjsu.edu/cmpe/resources/advance-registrationadvising-hold-removal.php\n",
      "https://www.sjsu.edu/cmpe/faculty/lecturer/robert-bruce.php\n",
      "https://www.sjsu.edu/cmpe/research/project-expo/index.php\n"
     ]
    },
    {
     "ename": "ConnectTimeout",
     "evalue": "HTTPSConnectionPool(host='www.sjsu.edu', port=443): Max retries exceeded with url: /cmpe/research/project-expo/index.php (Caused by ConnectTimeoutError(<urllib3.connection.HTTPSConnection object at 0x7f8d5fec79d0>, 'Connection to www.sjsu.edu timed out. (connect timeout=None)'))",
     "output_type": "error",
     "traceback": [
      "\u001b[0;31m---------------------------------------------------------------------------\u001b[0m",
      "\u001b[0;31mTimeoutError\u001b[0m                              Traceback (most recent call last)",
      "File \u001b[0;32m~/miniconda3/envs/mypy310/lib/python3.10/site-packages/urllib3/connection.py:174\u001b[0m, in \u001b[0;36mHTTPConnection._new_conn\u001b[0;34m(self)\u001b[0m\n\u001b[1;32m    173\u001b[0m \u001b[39mtry\u001b[39;00m:\n\u001b[0;32m--> 174\u001b[0m     conn \u001b[39m=\u001b[39m connection\u001b[39m.\u001b[39;49mcreate_connection(\n\u001b[1;32m    175\u001b[0m         (\u001b[39mself\u001b[39;49m\u001b[39m.\u001b[39;49m_dns_host, \u001b[39mself\u001b[39;49m\u001b[39m.\u001b[39;49mport), \u001b[39mself\u001b[39;49m\u001b[39m.\u001b[39;49mtimeout, \u001b[39m*\u001b[39;49m\u001b[39m*\u001b[39;49mextra_kw\n\u001b[1;32m    176\u001b[0m     )\n\u001b[1;32m    178\u001b[0m \u001b[39mexcept\u001b[39;00m SocketTimeout:\n",
      "File \u001b[0;32m~/miniconda3/envs/mypy310/lib/python3.10/site-packages/urllib3/util/connection.py:96\u001b[0m, in \u001b[0;36mcreate_connection\u001b[0;34m(address, timeout, source_address, socket_options)\u001b[0m\n\u001b[1;32m     95\u001b[0m \u001b[39mif\u001b[39;00m err \u001b[39mis\u001b[39;00m \u001b[39mnot\u001b[39;00m \u001b[39mNone\u001b[39;00m:\n\u001b[0;32m---> 96\u001b[0m     \u001b[39mraise\u001b[39;00m err\n\u001b[1;32m     98\u001b[0m \u001b[39mraise\u001b[39;00m socket\u001b[39m.\u001b[39merror(\u001b[39m\"\u001b[39m\u001b[39mgetaddrinfo returns an empty list\u001b[39m\u001b[39m\"\u001b[39m)\n",
      "File \u001b[0;32m~/miniconda3/envs/mypy310/lib/python3.10/site-packages/urllib3/util/connection.py:86\u001b[0m, in \u001b[0;36mcreate_connection\u001b[0;34m(address, timeout, source_address, socket_options)\u001b[0m\n\u001b[1;32m     85\u001b[0m     sock\u001b[39m.\u001b[39mbind(source_address)\n\u001b[0;32m---> 86\u001b[0m sock\u001b[39m.\u001b[39;49mconnect(sa)\n\u001b[1;32m     87\u001b[0m \u001b[39mreturn\u001b[39;00m sock\n",
      "\u001b[0;31mTimeoutError\u001b[0m: [Errno 110] Connection timed out",
      "\nDuring handling of the above exception, another exception occurred:\n",
      "\u001b[0;31mConnectTimeoutError\u001b[0m                       Traceback (most recent call last)",
      "File \u001b[0;32m~/miniconda3/envs/mypy310/lib/python3.10/site-packages/urllib3/connectionpool.py:699\u001b[0m, in \u001b[0;36mHTTPConnectionPool.urlopen\u001b[0;34m(self, method, url, body, headers, retries, redirect, assert_same_host, timeout, pool_timeout, release_conn, chunked, body_pos, **response_kw)\u001b[0m\n\u001b[1;32m    698\u001b[0m \u001b[39m# Make the request on the httplib connection object.\u001b[39;00m\n\u001b[0;32m--> 699\u001b[0m httplib_response \u001b[39m=\u001b[39m \u001b[39mself\u001b[39;49m\u001b[39m.\u001b[39;49m_make_request(\n\u001b[1;32m    700\u001b[0m     conn,\n\u001b[1;32m    701\u001b[0m     method,\n\u001b[1;32m    702\u001b[0m     url,\n\u001b[1;32m    703\u001b[0m     timeout\u001b[39m=\u001b[39;49mtimeout_obj,\n\u001b[1;32m    704\u001b[0m     body\u001b[39m=\u001b[39;49mbody,\n\u001b[1;32m    705\u001b[0m     headers\u001b[39m=\u001b[39;49mheaders,\n\u001b[1;32m    706\u001b[0m     chunked\u001b[39m=\u001b[39;49mchunked,\n\u001b[1;32m    707\u001b[0m )\n\u001b[1;32m    709\u001b[0m \u001b[39m# If we're going to release the connection in ``finally:``, then\u001b[39;00m\n\u001b[1;32m    710\u001b[0m \u001b[39m# the response doesn't need to know about the connection. Otherwise\u001b[39;00m\n\u001b[1;32m    711\u001b[0m \u001b[39m# it will also try to release it and we'll have a double-release\u001b[39;00m\n\u001b[1;32m    712\u001b[0m \u001b[39m# mess.\u001b[39;00m\n",
      "File \u001b[0;32m~/miniconda3/envs/mypy310/lib/python3.10/site-packages/urllib3/connectionpool.py:382\u001b[0m, in \u001b[0;36mHTTPConnectionPool._make_request\u001b[0;34m(self, conn, method, url, timeout, chunked, **httplib_request_kw)\u001b[0m\n\u001b[1;32m    381\u001b[0m \u001b[39mtry\u001b[39;00m:\n\u001b[0;32m--> 382\u001b[0m     \u001b[39mself\u001b[39;49m\u001b[39m.\u001b[39;49m_validate_conn(conn)\n\u001b[1;32m    383\u001b[0m \u001b[39mexcept\u001b[39;00m (SocketTimeout, BaseSSLError) \u001b[39mas\u001b[39;00m e:\n\u001b[1;32m    384\u001b[0m     \u001b[39m# Py2 raises this as a BaseSSLError, Py3 raises it as socket timeout.\u001b[39;00m\n",
      "File \u001b[0;32m~/miniconda3/envs/mypy310/lib/python3.10/site-packages/urllib3/connectionpool.py:1010\u001b[0m, in \u001b[0;36mHTTPSConnectionPool._validate_conn\u001b[0;34m(self, conn)\u001b[0m\n\u001b[1;32m   1009\u001b[0m \u001b[39mif\u001b[39;00m \u001b[39mnot\u001b[39;00m \u001b[39mgetattr\u001b[39m(conn, \u001b[39m\"\u001b[39m\u001b[39msock\u001b[39m\u001b[39m\"\u001b[39m, \u001b[39mNone\u001b[39;00m):  \u001b[39m# AppEngine might not have  `.sock`\u001b[39;00m\n\u001b[0;32m-> 1010\u001b[0m     conn\u001b[39m.\u001b[39;49mconnect()\n\u001b[1;32m   1012\u001b[0m \u001b[39mif\u001b[39;00m \u001b[39mnot\u001b[39;00m conn\u001b[39m.\u001b[39mis_verified:\n",
      "File \u001b[0;32m~/miniconda3/envs/mypy310/lib/python3.10/site-packages/urllib3/connection.py:358\u001b[0m, in \u001b[0;36mHTTPSConnection.connect\u001b[0;34m(self)\u001b[0m\n\u001b[1;32m    356\u001b[0m \u001b[39mdef\u001b[39;00m \u001b[39mconnect\u001b[39m(\u001b[39mself\u001b[39m):\n\u001b[1;32m    357\u001b[0m     \u001b[39m# Add certificate verification\u001b[39;00m\n\u001b[0;32m--> 358\u001b[0m     conn \u001b[39m=\u001b[39m \u001b[39mself\u001b[39;49m\u001b[39m.\u001b[39;49m_new_conn()\n\u001b[1;32m    359\u001b[0m     hostname \u001b[39m=\u001b[39m \u001b[39mself\u001b[39m\u001b[39m.\u001b[39mhost\n",
      "File \u001b[0;32m~/miniconda3/envs/mypy310/lib/python3.10/site-packages/urllib3/connection.py:179\u001b[0m, in \u001b[0;36mHTTPConnection._new_conn\u001b[0;34m(self)\u001b[0m\n\u001b[1;32m    178\u001b[0m \u001b[39mexcept\u001b[39;00m SocketTimeout:\n\u001b[0;32m--> 179\u001b[0m     \u001b[39mraise\u001b[39;00m ConnectTimeoutError(\n\u001b[1;32m    180\u001b[0m         \u001b[39mself\u001b[39m,\n\u001b[1;32m    181\u001b[0m         \u001b[39m\"\u001b[39m\u001b[39mConnection to \u001b[39m\u001b[39m%s\u001b[39;00m\u001b[39m timed out. (connect timeout=\u001b[39m\u001b[39m%s\u001b[39;00m\u001b[39m)\u001b[39m\u001b[39m\"\u001b[39m\n\u001b[1;32m    182\u001b[0m         \u001b[39m%\u001b[39m (\u001b[39mself\u001b[39m\u001b[39m.\u001b[39mhost, \u001b[39mself\u001b[39m\u001b[39m.\u001b[39mtimeout),\n\u001b[1;32m    183\u001b[0m     )\n\u001b[1;32m    185\u001b[0m \u001b[39mexcept\u001b[39;00m SocketError \u001b[39mas\u001b[39;00m e:\n",
      "\u001b[0;31mConnectTimeoutError\u001b[0m: (<urllib3.connection.HTTPSConnection object at 0x7f8d5fec79d0>, 'Connection to www.sjsu.edu timed out. (connect timeout=None)')",
      "\nDuring handling of the above exception, another exception occurred:\n",
      "\u001b[0;31mMaxRetryError\u001b[0m                             Traceback (most recent call last)",
      "File \u001b[0;32m~/miniconda3/envs/mypy310/lib/python3.10/site-packages/requests/adapters.py:439\u001b[0m, in \u001b[0;36mHTTPAdapter.send\u001b[0;34m(self, request, stream, timeout, verify, cert, proxies)\u001b[0m\n\u001b[1;32m    438\u001b[0m \u001b[39mif\u001b[39;00m \u001b[39mnot\u001b[39;00m chunked:\n\u001b[0;32m--> 439\u001b[0m     resp \u001b[39m=\u001b[39m conn\u001b[39m.\u001b[39;49murlopen(\n\u001b[1;32m    440\u001b[0m         method\u001b[39m=\u001b[39;49mrequest\u001b[39m.\u001b[39;49mmethod,\n\u001b[1;32m    441\u001b[0m         url\u001b[39m=\u001b[39;49murl,\n\u001b[1;32m    442\u001b[0m         body\u001b[39m=\u001b[39;49mrequest\u001b[39m.\u001b[39;49mbody,\n\u001b[1;32m    443\u001b[0m         headers\u001b[39m=\u001b[39;49mrequest\u001b[39m.\u001b[39;49mheaders,\n\u001b[1;32m    444\u001b[0m         redirect\u001b[39m=\u001b[39;49m\u001b[39mFalse\u001b[39;49;00m,\n\u001b[1;32m    445\u001b[0m         assert_same_host\u001b[39m=\u001b[39;49m\u001b[39mFalse\u001b[39;49;00m,\n\u001b[1;32m    446\u001b[0m         preload_content\u001b[39m=\u001b[39;49m\u001b[39mFalse\u001b[39;49;00m,\n\u001b[1;32m    447\u001b[0m         decode_content\u001b[39m=\u001b[39;49m\u001b[39mFalse\u001b[39;49;00m,\n\u001b[1;32m    448\u001b[0m         retries\u001b[39m=\u001b[39;49m\u001b[39mself\u001b[39;49m\u001b[39m.\u001b[39;49mmax_retries,\n\u001b[1;32m    449\u001b[0m         timeout\u001b[39m=\u001b[39;49mtimeout\n\u001b[1;32m    450\u001b[0m     )\n\u001b[1;32m    452\u001b[0m \u001b[39m# Send the request.\u001b[39;00m\n\u001b[1;32m    453\u001b[0m \u001b[39melse\u001b[39;00m:\n",
      "File \u001b[0;32m~/miniconda3/envs/mypy310/lib/python3.10/site-packages/urllib3/connectionpool.py:755\u001b[0m, in \u001b[0;36mHTTPConnectionPool.urlopen\u001b[0;34m(self, method, url, body, headers, retries, redirect, assert_same_host, timeout, pool_timeout, release_conn, chunked, body_pos, **response_kw)\u001b[0m\n\u001b[1;32m    753\u001b[0m     e \u001b[39m=\u001b[39m ProtocolError(\u001b[39m\"\u001b[39m\u001b[39mConnection aborted.\u001b[39m\u001b[39m\"\u001b[39m, e)\n\u001b[0;32m--> 755\u001b[0m retries \u001b[39m=\u001b[39m retries\u001b[39m.\u001b[39;49mincrement(\n\u001b[1;32m    756\u001b[0m     method, url, error\u001b[39m=\u001b[39;49me, _pool\u001b[39m=\u001b[39;49m\u001b[39mself\u001b[39;49m, _stacktrace\u001b[39m=\u001b[39;49msys\u001b[39m.\u001b[39;49mexc_info()[\u001b[39m2\u001b[39;49m]\n\u001b[1;32m    757\u001b[0m )\n\u001b[1;32m    758\u001b[0m retries\u001b[39m.\u001b[39msleep()\n",
      "File \u001b[0;32m~/miniconda3/envs/mypy310/lib/python3.10/site-packages/urllib3/util/retry.py:574\u001b[0m, in \u001b[0;36mRetry.increment\u001b[0;34m(self, method, url, response, error, _pool, _stacktrace)\u001b[0m\n\u001b[1;32m    573\u001b[0m \u001b[39mif\u001b[39;00m new_retry\u001b[39m.\u001b[39mis_exhausted():\n\u001b[0;32m--> 574\u001b[0m     \u001b[39mraise\u001b[39;00m MaxRetryError(_pool, url, error \u001b[39mor\u001b[39;00m ResponseError(cause))\n\u001b[1;32m    576\u001b[0m log\u001b[39m.\u001b[39mdebug(\u001b[39m\"\u001b[39m\u001b[39mIncremented Retry for (url=\u001b[39m\u001b[39m'\u001b[39m\u001b[39m%s\u001b[39;00m\u001b[39m'\u001b[39m\u001b[39m): \u001b[39m\u001b[39m%r\u001b[39;00m\u001b[39m\"\u001b[39m, url, new_retry)\n",
      "\u001b[0;31mMaxRetryError\u001b[0m: HTTPSConnectionPool(host='www.sjsu.edu', port=443): Max retries exceeded with url: /cmpe/research/project-expo/index.php (Caused by ConnectTimeoutError(<urllib3.connection.HTTPSConnection object at 0x7f8d5fec79d0>, 'Connection to www.sjsu.edu timed out. (connect timeout=None)'))",
      "\nDuring handling of the above exception, another exception occurred:\n",
      "\u001b[0;31mConnectTimeout\u001b[0m                            Traceback (most recent call last)",
      "Cell \u001b[0;32mIn[52], line 1\u001b[0m\n\u001b[0;32m----> 1\u001b[0m crawl(full_url, textoutputpath, subdomain)\n",
      "Cell \u001b[0;32mIn[50], line 34\u001b[0m, in \u001b[0;36mcrawl\u001b[0;34m(url, textoutputpath, subdomain)\u001b[0m\n\u001b[1;32m     30\u001b[0m \u001b[39m# Save text from the url to a <url>.txt file\u001b[39;00m\n\u001b[1;32m     31\u001b[0m \u001b[39mwith\u001b[39;00m \u001b[39mopen\u001b[39m(textoutputpath\u001b[39m+\u001b[39mlocal_domain\u001b[39m+\u001b[39m\u001b[39m'\u001b[39m\u001b[39m/\u001b[39m\u001b[39m'\u001b[39m\u001b[39m+\u001b[39murl[\u001b[39m8\u001b[39m:]\u001b[39m.\u001b[39mreplace(\u001b[39m\"\u001b[39m\u001b[39m/\u001b[39m\u001b[39m\"\u001b[39m, \u001b[39m\"\u001b[39m\u001b[39m_\u001b[39m\u001b[39m\"\u001b[39m) \u001b[39m+\u001b[39m \u001b[39m\"\u001b[39m\u001b[39m.txt\u001b[39m\u001b[39m\"\u001b[39m, \u001b[39m\"\u001b[39m\u001b[39mw\u001b[39m\u001b[39m\"\u001b[39m) \u001b[39mas\u001b[39;00m f:\n\u001b[1;32m     32\u001b[0m \n\u001b[1;32m     33\u001b[0m     \u001b[39m# Get the text from the URL using BeautifulSoup\u001b[39;00m\n\u001b[0;32m---> 34\u001b[0m     soup \u001b[39m=\u001b[39m BeautifulSoup(requests\u001b[39m.\u001b[39;49mget(url)\u001b[39m.\u001b[39mtext, \u001b[39m\"\u001b[39m\u001b[39mhtml.parser\u001b[39m\u001b[39m\"\u001b[39m)\n\u001b[1;32m     36\u001b[0m     \u001b[39m# Get the text but remove the tags\u001b[39;00m\n\u001b[1;32m     37\u001b[0m     text \u001b[39m=\u001b[39m soup\u001b[39m.\u001b[39mget_text()\n",
      "File \u001b[0;32m~/miniconda3/envs/mypy310/lib/python3.10/site-packages/requests/api.py:75\u001b[0m, in \u001b[0;36mget\u001b[0;34m(url, params, **kwargs)\u001b[0m\n\u001b[1;32m     64\u001b[0m \u001b[39mdef\u001b[39;00m \u001b[39mget\u001b[39m(url, params\u001b[39m=\u001b[39m\u001b[39mNone\u001b[39;00m, \u001b[39m*\u001b[39m\u001b[39m*\u001b[39mkwargs):\n\u001b[1;32m     65\u001b[0m \u001b[39m    \u001b[39m\u001b[39mr\u001b[39m\u001b[39m\"\"\"Sends a GET request.\u001b[39;00m\n\u001b[1;32m     66\u001b[0m \n\u001b[1;32m     67\u001b[0m \u001b[39m    :param url: URL for the new :class:`Request` object.\u001b[39;00m\n\u001b[0;32m   (...)\u001b[0m\n\u001b[1;32m     72\u001b[0m \u001b[39m    :rtype: requests.Response\u001b[39;00m\n\u001b[1;32m     73\u001b[0m \u001b[39m    \"\"\"\u001b[39;00m\n\u001b[0;32m---> 75\u001b[0m     \u001b[39mreturn\u001b[39;00m request(\u001b[39m'\u001b[39;49m\u001b[39mget\u001b[39;49m\u001b[39m'\u001b[39;49m, url, params\u001b[39m=\u001b[39;49mparams, \u001b[39m*\u001b[39;49m\u001b[39m*\u001b[39;49mkwargs)\n",
      "File \u001b[0;32m~/miniconda3/envs/mypy310/lib/python3.10/site-packages/requests/api.py:61\u001b[0m, in \u001b[0;36mrequest\u001b[0;34m(method, url, **kwargs)\u001b[0m\n\u001b[1;32m     57\u001b[0m \u001b[39m# By using the 'with' statement we are sure the session is closed, thus we\u001b[39;00m\n\u001b[1;32m     58\u001b[0m \u001b[39m# avoid leaving sockets open which can trigger a ResourceWarning in some\u001b[39;00m\n\u001b[1;32m     59\u001b[0m \u001b[39m# cases, and look like a memory leak in others.\u001b[39;00m\n\u001b[1;32m     60\u001b[0m \u001b[39mwith\u001b[39;00m sessions\u001b[39m.\u001b[39mSession() \u001b[39mas\u001b[39;00m session:\n\u001b[0;32m---> 61\u001b[0m     \u001b[39mreturn\u001b[39;00m session\u001b[39m.\u001b[39;49mrequest(method\u001b[39m=\u001b[39;49mmethod, url\u001b[39m=\u001b[39;49murl, \u001b[39m*\u001b[39;49m\u001b[39m*\u001b[39;49mkwargs)\n",
      "File \u001b[0;32m~/miniconda3/envs/mypy310/lib/python3.10/site-packages/requests/sessions.py:542\u001b[0m, in \u001b[0;36mSession.request\u001b[0;34m(self, method, url, params, data, headers, cookies, files, auth, timeout, allow_redirects, proxies, hooks, stream, verify, cert, json)\u001b[0m\n\u001b[1;32m    537\u001b[0m send_kwargs \u001b[39m=\u001b[39m {\n\u001b[1;32m    538\u001b[0m     \u001b[39m'\u001b[39m\u001b[39mtimeout\u001b[39m\u001b[39m'\u001b[39m: timeout,\n\u001b[1;32m    539\u001b[0m     \u001b[39m'\u001b[39m\u001b[39mallow_redirects\u001b[39m\u001b[39m'\u001b[39m: allow_redirects,\n\u001b[1;32m    540\u001b[0m }\n\u001b[1;32m    541\u001b[0m send_kwargs\u001b[39m.\u001b[39mupdate(settings)\n\u001b[0;32m--> 542\u001b[0m resp \u001b[39m=\u001b[39m \u001b[39mself\u001b[39;49m\u001b[39m.\u001b[39;49msend(prep, \u001b[39m*\u001b[39;49m\u001b[39m*\u001b[39;49msend_kwargs)\n\u001b[1;32m    544\u001b[0m \u001b[39mreturn\u001b[39;00m resp\n",
      "File \u001b[0;32m~/miniconda3/envs/mypy310/lib/python3.10/site-packages/requests/sessions.py:655\u001b[0m, in \u001b[0;36mSession.send\u001b[0;34m(self, request, **kwargs)\u001b[0m\n\u001b[1;32m    652\u001b[0m start \u001b[39m=\u001b[39m preferred_clock()\n\u001b[1;32m    654\u001b[0m \u001b[39m# Send the request\u001b[39;00m\n\u001b[0;32m--> 655\u001b[0m r \u001b[39m=\u001b[39m adapter\u001b[39m.\u001b[39;49msend(request, \u001b[39m*\u001b[39;49m\u001b[39m*\u001b[39;49mkwargs)\n\u001b[1;32m    657\u001b[0m \u001b[39m# Total elapsed time of the request (approximately)\u001b[39;00m\n\u001b[1;32m    658\u001b[0m elapsed \u001b[39m=\u001b[39m preferred_clock() \u001b[39m-\u001b[39m start\n",
      "File \u001b[0;32m~/miniconda3/envs/mypy310/lib/python3.10/site-packages/requests/adapters.py:504\u001b[0m, in \u001b[0;36mHTTPAdapter.send\u001b[0;34m(self, request, stream, timeout, verify, cert, proxies)\u001b[0m\n\u001b[1;32m    501\u001b[0m \u001b[39mif\u001b[39;00m \u001b[39misinstance\u001b[39m(e\u001b[39m.\u001b[39mreason, ConnectTimeoutError):\n\u001b[1;32m    502\u001b[0m     \u001b[39m# TODO: Remove this in 3.0.0: see #2811\u001b[39;00m\n\u001b[1;32m    503\u001b[0m     \u001b[39mif\u001b[39;00m \u001b[39mnot\u001b[39;00m \u001b[39misinstance\u001b[39m(e\u001b[39m.\u001b[39mreason, NewConnectionError):\n\u001b[0;32m--> 504\u001b[0m         \u001b[39mraise\u001b[39;00m ConnectTimeout(e, request\u001b[39m=\u001b[39mrequest)\n\u001b[1;32m    506\u001b[0m \u001b[39mif\u001b[39;00m \u001b[39misinstance\u001b[39m(e\u001b[39m.\u001b[39mreason, ResponseError):\n\u001b[1;32m    507\u001b[0m     \u001b[39mraise\u001b[39;00m RetryError(e, request\u001b[39m=\u001b[39mrequest)\n",
      "\u001b[0;31mConnectTimeout\u001b[0m: HTTPSConnectionPool(host='www.sjsu.edu', port=443): Max retries exceeded with url: /cmpe/research/project-expo/index.php (Caused by ConnectTimeoutError(<urllib3.connection.HTTPSConnection object at 0x7f8d5fec79d0>, 'Connection to www.sjsu.edu timed out. (connect timeout=None)'))"
     ]
    }
   ],
   "source": [
    "crawl(full_url, textoutputpath, subdomain)"
   ]
  },
  {
   "cell_type": "markdown",
   "metadata": {},
   "source": [
    "CSV is a common format for storing embeddings. You can use this format with Python by converting the raw text files (which are in the text directory) into Pandas data frames.\n",
    "\n",
    "Converting the text to CSV requires looping through the text files in the text directory created earlier. After opening each file, remove the extra spacing and append the modified text to a list. Then, add the text with the new lines removed to an empty Pandas data frame and write the data frame to a CSV file."
   ]
  },
  {
   "cell_type": "code",
   "execution_count": 53,
   "metadata": {},
   "outputs": [],
   "source": [
    "def remove_newlines(serie):\n",
    "    serie = serie.str.replace('\\n', ' ')\n",
    "    serie = serie.str.replace('\\\\n', ' ')\n",
    "    serie = serie.str.replace('  ', ' ')\n",
    "    serie = serie.str.replace('  ', ' ')\n",
    "    return serie"
   ]
  },
  {
   "cell_type": "code",
   "execution_count": 54,
   "metadata": {},
   "outputs": [
    {
     "data": {
      "text/plain": [
       "'./output/text/'"
      ]
     },
     "execution_count": 54,
     "metadata": {},
     "output_type": "execute_result"
    }
   ],
   "source": [
    "textoutputpath"
   ]
  },
  {
   "cell_type": "code",
   "execution_count": 56,
   "metadata": {},
   "outputs": [
    {
     "data": {
      "text/plain": [
       "'sjsu.edu'"
      ]
     },
     "execution_count": 56,
     "metadata": {},
     "output_type": "execute_result"
    }
   ],
   "source": [
    "domain"
   ]
  },
  {
   "cell_type": "code",
   "execution_count": 76,
   "metadata": {},
   "outputs": [],
   "source": [
    "import pandas as pd\n",
    "import csv\n",
    "def processtxtfiles(inputfolder, outputpath):\n",
    "    # Create a list to store the text files\n",
    "    texts=[]\n",
    "\n",
    "    if not os.path.exists(outputpath):\n",
    "        os.mkdir(outputpath)\n",
    "\n",
    "\n",
    "    # Get all the text files in the text directory\n",
    "    for file in os.listdir(inputfolder + \"/\"):\n",
    "        if file.endswith(\"doc.txt\") or file.endswith(\"docx.txt\"):\n",
    "            continue\n",
    "        # Open the file and read the text\n",
    "        with open(inputfolder + \"/\" + file, \"r\") as f:\n",
    "            text = f.read()\n",
    "\n",
    "            # Omit the first 11 lines and the last 4 lines, then replace -, _, and #update with spaces.\n",
    "            texts.append((file[11:-4].replace('-',' ').replace('_', ' ').replace('#update',''), text))\n",
    "\n",
    "    # Create a dataframe from the list of texts\n",
    "    df = pd.DataFrame(texts, columns = ['fname', 'text'])\n",
    "\n",
    "    # Set the text column to be the raw text with the newlines removed\n",
    "    df['text'] = df.fname + \". \" + remove_newlines(df.text)\n",
    "    df.to_csv(outputpath+'/scraped.csv', escapechar='\\\\')\n",
    "    #csv.writer(f, quoting=csv.QUOTE_NONE, delimiter='|', quotechar='',escapechar='\\\\')    #Or any other appropriate escapechar\n",
    "    return df"
   ]
  },
  {
   "cell_type": "code",
   "execution_count": 77,
   "metadata": {},
   "outputs": [
    {
     "name": "stderr",
     "output_type": "stream",
     "text": [
      "/tmp/ipykernel_23999/2931785837.py:3: FutureWarning: The default value of regex will change from True to False in a future version.\n",
      "  serie = serie.str.replace('\\\\n', ' ')\n"
     ]
    }
   ],
   "source": [
    "inputfolder=\"./output/text/www.sjsu.edu\"\n",
    "outputpath=\"./output/text/processed\"\n",
    "df=processtxtfiles(inputfolder, outputpath)"
   ]
  },
  {
   "cell_type": "code",
   "execution_count": 78,
   "metadata": {},
   "outputs": [
    {
     "data": {
      "text/html": [
       "<div>\n",
       "<style scoped>\n",
       "    .dataframe tbody tr th:only-of-type {\n",
       "        vertical-align: middle;\n",
       "    }\n",
       "\n",
       "    .dataframe tbody tr th {\n",
       "        vertical-align: top;\n",
       "    }\n",
       "\n",
       "    .dataframe thead th {\n",
       "        text-align: right;\n",
       "    }\n",
       "</style>\n",
       "<table border=\"1\" class=\"dataframe\">\n",
       "  <thead>\n",
       "    <tr style=\"text-align: right;\">\n",
       "      <th></th>\n",
       "      <th>fname</th>\n",
       "      <th>text</th>\n",
       "    </tr>\n",
       "  </thead>\n",
       "  <tbody>\n",
       "    <tr>\n",
       "      <th>0</th>\n",
       "      <td>u cmpe faculty faculty emeriti ron mak.php</td>\n",
       "      <td>u cmpe faculty faculty emeriti ron mak.php.   ...</td>\n",
       "    </tr>\n",
       "    <tr>\n",
       "      <th>1</th>\n",
       "      <td>u cmpe faculty tenure line ahmet bindal.php</td>\n",
       "      <td>u cmpe faculty tenure line ahmet bindal.php.  ...</td>\n",
       "    </tr>\n",
       "    <tr>\n",
       "      <th>2</th>\n",
       "      <td>u cmpe research research areas</td>\n",
       "      <td>u cmpe research research areas.     Research A...</td>\n",
       "    </tr>\n",
       "    <tr>\n",
       "      <th>3</th>\n",
       "      <td>u cmpe academic cybersecurity program cybersec...</td>\n",
       "      <td>u cmpe academic cybersecurity program cybersec...</td>\n",
       "    </tr>\n",
       "    <tr>\n",
       "      <th>4</th>\n",
       "      <td>u cmpe academic bs software engineering bsse f...</td>\n",
       "      <td>u cmpe academic bs software engineering bsse f...</td>\n",
       "    </tr>\n",
       "  </tbody>\n",
       "</table>\n",
       "</div>"
      ],
      "text/plain": [
       "                                               fname  \\\n",
       "0         u cmpe faculty faculty emeriti ron mak.php   \n",
       "1        u cmpe faculty tenure line ahmet bindal.php   \n",
       "2                     u cmpe research research areas   \n",
       "3  u cmpe academic cybersecurity program cybersec...   \n",
       "4  u cmpe academic bs software engineering bsse f...   \n",
       "\n",
       "                                                text  \n",
       "0  u cmpe faculty faculty emeriti ron mak.php.   ...  \n",
       "1  u cmpe faculty tenure line ahmet bindal.php.  ...  \n",
       "2  u cmpe research research areas.     Research A...  \n",
       "3  u cmpe academic cybersecurity program cybersec...  \n",
       "4  u cmpe academic bs software engineering bsse f...  "
      ]
     },
     "execution_count": 78,
     "metadata": {},
     "output_type": "execute_result"
    }
   ],
   "source": [
    "df.head()"
   ]
  },
  {
   "cell_type": "code",
   "execution_count": 79,
   "metadata": {},
   "outputs": [
    {
     "data": {
      "text/plain": [
       "'u cmpe academic cybersecurity program cybersecuritycertificatesprogram.php'"
      ]
     },
     "execution_count": 79,
     "metadata": {},
     "output_type": "execute_result"
    }
   ],
   "source": [
    "df['fname'][3]"
   ]
  },
  {
   "cell_type": "code",
   "execution_count": 80,
   "metadata": {},
   "outputs": [
    {
     "data": {
      "text/plain": [
       "\"u cmpe academic cybersecurity program cybersecuritycertificatesprogram.php.     Cybersecurity Foundations Certificates Program Course Requirements | Computer Engineering   Skip to main content  San José State University  Menu  Visit Campus Tours Maps Parking Silicon Valley Hammer Theatre SJSU Loves SJ Academics Colleges and Departments Majors and Programs Academic Calendar Classes King Library Admissions Tuition and Fees Housing Professional Education Parent and Family Programs Campus Life Health and Wellness Safety SJSU Cares Events Traditions Student Alumni Connection Research and Innovation Office of Research Office of Innovation Research Foundation Student-Faculty Collaborations Become a Research Partner Centers and Institutes About Administration and Leadership Facts and Accomplishments NewsCenter Partnerships Transformation Defined  SJSU Online Athletics Alumni Association Giving to SJSU Canvas one.SJSU  Search    University Menu .Go toSJSU homepage.  Visit Campus Tours Maps Parking Silicon Valley Hammer Theatre SJSU Loves SJ Academics Colleges and Departments Majors and Programs Academic Calendar Classes King Library Admissions Tuition and Fees Housing Professional Education Parents and Family Programs Campus Life Health and Wellness Safety SJSU Cares Events Traditions Student Alumni Connection Research and Innovation Office of Research Office of Innovation Research Foundation Student-Faculty Collaborations Become a Research Partner Centers and Institutes  Athletics SJSU Online About Administration and Leadership Facts and Accomplishments NewsCenter Partnerships Transformation Defined    Home Computer Engineering Academic Programs Cybersecurity Certificates Program Cybersecurity Foundations Certificates Program Course Requirements Certificates Program  Computer EngineeringCollege of Engineering  Computer EngineeringCollege of Engineering Menu About About Computer Engineering News Enrollment Data Why Join Us Academics Academics BS in Computer Engineering BS in Computer Engineering BSCMPE FAQ Probabtion-general Program-Education-Objectives BSCMPE Technical Electives BSCMPE ABET Undergraduate Change of Major Policy BSCMPE Probation BS in Software Engineering BS in Software Engineering BSSE-ABET BSSE Technical Electives BSSE Probation BSSE FAQ MS in Computer Engineering MS in Computer Engineering MSCMPE University Learning Goals MSCMPE Degree Requirements Probation MSCMPE Admission MSCMPE Taking Courses Practical Training MSCMPE Advising MSCMPE FAQ MS in Software Engineering MS in Software Engineering Program Requirements Pre Fall 2020 MSSE Program Requirements MSSE University Learning Goals MSSE Enterprise Software Technologies MSSE Cloud Computing MSSE Software Systems Engineering MSSE Networking Software MSSE Data Science MSSE Cybersecurity MS in Artificial Intelligence MS in Artificial Intelligence MSAI Program Requirements MSAI Admissions Cybersecurity Foundations Certificate Program Cybersecurity Foundations Certificate Program Course Requirements Courses Students Students Undergraduate Advising Undergraduate Advising International Undergraduates CPT Guide Undergraduate Change of Major Undergraduate FAQs Graduate Advising Graduate Advising Advance Registration Admission Prerequisite Classes Change of Major Credit Transfer Curricular Practical Training (CPT) GPA Calculations MS Admission Conditions MSSE New Student Welcome Advisor Directory Admission Admission MSSE Admission Frequently Asked Questions Office Hours Faculty & Staff Faculty & Staff Faculty Directory Faculty Directory Ahmet Bindal Carlos Rojas Gheorghi Guzun Gokay Saldamli Haluk Ozemek Haonan Wang Harry Li Jerry Gao Jorjeta Jetcheva Kaikai Liu Magdalini Eirinaki Mahima Agumbe Suresh Mohamed Fayad Rod Fatoohi Stas Tiomkin Weider Yu Wencen Wu Xiao Su Younghee Park Lecturer Directory Lecturer Directory Ammar Rayes Andrew Bond Anna Meng Bapi Vinnakota Brett Hartbeck Chandrasekar Vuppalapati Chao-Li Tarng Charles Zhang Charley Abboud Dan Harkey Faramarz Mortezaie Frank Butt Frank Lin Gopinath k Vinodh Hungwen Li Ishie Eswar Jahan Ghofraniha John Gash Juan Gomez Kevin Nguyen Kong Li Michael Larkin Paul Nguyen Preetpal Kang Rakesh Ranjan Richard Sinn Robert Bruce Shai Silberman Sithu Aung Front Desk Assistant Faculty Emeriti Faculty Emeriti Donald Hung Ron Mak Sigurd Meldal Office Hours Research Research Research Areas Research Areas AI and ML Data Science & Analytics Embedded & Computer Systems Autonomous & Robotic Systems Networks, Security & IoT Software System & Enterprise Software Cloud Computing & Virtualization Theses Projects Projects NSF RINGS Project Expo Project Expo 2017 Fall Technology Showcase 2017 Spring Technology Showcase 2018 Fall Technology Showcase 2018 Spring Technology Showcase 2018 Summer Technology Showcase 2019 Fall Technology Showcase 2019 Spring Technology Showcase 2020 Spring Technology Showcase 2021 Fall Project Expo 2021 Spring Technology Showcase 2022 Summer Project Expo 2023 Summer Project Expo 2022 Spring Project Expo 2023 Spring Project Expo  Resources Resources TA Positions College of Engineering HPC Student Organizations Graduation For Alumni IAB Members Advance Registration Student Resources Career Opportunities Faculty Resources   About Computer\\xa0Engineering News Enrollment\\xa0Data Why\\xa0Join\\xa0Us Academics BS\\xa0in\\xa0Computer\\xa0Engineering BS\\xa0in\\xa0Software\\xa0Engineering MS\\xa0in\\xa0Computer\\xa0Engineering MS\\xa0in\\xa0Software\\xa0Engineering MS\\xa0in\\xa0Artificial\\xa0Intelligence Cybersecurity\\xa0Foundations\\xa0Certificate\\xa0Program Courses Students Undergraduate\\xa0Advising Graduate\\xa0Advising Advisor\\xa0Directory Admission Frequently\\xa0Asked\\xa0Questions Office\\xa0Hours Faculty & Staff Faculty\\xa0Directory Lecturer\\xa0Directory Front\\xa0Desk\\xa0Assistant Faculty\\xa0Emeriti Office\\xa0Hours Research Research\\xa0Areas Theses Projects Project\\xa0Expo Resources College\\xa0of\\xa0Engineering\\xa0HPC Student\\xa0Organizations Graduation For\\xa0Alumni IAB\\xa0Members Advance\\xa0Registration Student\\xa0Resources Career\\xa0Opportunities Faculty\\xa0Resources   Cybersecurity Foundations Certificates Program Course Requirements 1. You must be a currently enrolled CMPE student at SJSU to pursue this certificate. 2. You need to complete the six core courses before applying for the cybersecurity     certificate. 3. You are only allowed to repeat one of these courses once in order to still be eligible     for the certificate. 4. You will need a minimum 2.0 GPA in all required courses for the certificate (including     1 course repeat). 5. As soon as you receive all grades for the six core course requirements, please     fill out this CMPE Cybersecurity Foundations Certificate Google form to start the application process.\\xa0 This form will be available twice a year: (1) at the end of Spring semester and (2)      at the end of Fall semester. Opens: First day grades are viewable on MySJSU Closes: 5 weekdays after Academic Standing is posted on MySJSUView dates on the appropriate Registration Calendar.\\xa0 6. An application form will be started for you and will be reviewed by the department.     If approved, it will be forwarded to you for signature and then to the Registrar's     office for further processing. 7. Students can take either CMPE 132 (preferred) or CS 166.\\xa0 8. Students can take either CMPE 181 or CMPE 182 to substitute CS/SE 158B starting     Fall 2019. 9. Students can take CMPE 183 to substitute CS/SE 158B starting Fall 2021. Course Requirements\\xa0\\xa0\\xa0\\xa0\\xa0\\xa0\\xa0\\xa0\\xa0\\xa0\\xa0\\xa0\\xa0\\xa0\\xa0\\xa0\\xa0\\xa0\\xa0\\xa0\\xa0\\xa0\\xa0\\xa0\\xa0\\xa0\\xa0\\xa0\\xa0\\xa0\\xa0\\xa0\\xa0\\xa0\\xa0\\xa0\\xa0\\xa0\\xa0\\xa0\\xa0\\xa0\\xa0\\xa0\\xa0\\xa0\\xa0\\xa0\\xa0\\xa0\\xa0\\xa0\\xa0\\xa0\\xa0\\xa0\\xa0\\xa0\\xa0\\xa0\\xa0\\xa0\\xa0\\xa0\\xa0\\xa0     Unit CMPE 130. Advanced Algorithm Design \\xa0 \\xa0 \\xa0 \\xa0 \\xa0 \\xa0 \\xa0 \\xa0 \\xa0 \\xa0 \\xa0 \\xa0 \\xa0 \\xa0 \\xa0 \\xa0 \\xa0 \\xa0 \\xa0 \\xa0 \\xa0 3CMPE 132. Information Security \\xa0 \\xa0 \\xa0 \\xa0 \\xa0 \\xa0 \\xa0 \\xa0 \\xa0 \\xa0 \\xa0 \\xa0 \\xa0 \\xa0 \\xa0 \\xa0 \\xa0 \\xa0 \\xa0 \\xa0 \\xa0 \\xa0 \\xa0 \\xa0 \\xa0 \\xa0 3CMPE 138. Database Systems I \\xa0 \\xa0 \\xa0 \\xa0 \\xa0 \\xa0 \\xa0 \\xa0 \\xa0 \\xa0 \\xa0 \\xa0 \\xa0 \\xa0 \\xa0 \\xa0 \\xa0 \\xa0 \\xa0 \\xa0 \\xa0 \\xa0 \\xa0 \\xa0 \\xa0 \\xa0 \\xa03CMPE 142. Operating Systems Design \\xa0 \\xa0 \\xa0 \\xa0 \\xa0 \\xa0 \\xa0 \\xa0 \\xa0 \\xa0 \\xa0 \\xa0 \\xa0 \\xa0 \\xa0 \\xa0 \\xa0 \\xa0 \\xa0 \\xa0 \\xa0 \\xa0 3CMPE 148. Computer Networks I \\xa0 \\xa0 \\xa0 \\xa0 \\xa0 \\xa0 \\xa0 \\xa0 \\xa0 \\xa0 \\xa0 \\xa0 \\xa0 \\xa0 \\xa0 \\xa0 \\xa0 \\xa0 \\xa0 \\xa0 \\xa0 \\xa0 \\xa0 \\xa0 \\xa0 \\xa03SE 158B. Computer Network Management \\xa0 \\xa0 \\xa0 \\xa0 \\xa0 \\xa0 \\xa0 \\xa0 \\xa0 \\xa0 \\xa0 \\xa0 \\xa0 \\xa0 \\xa0 \\xa0 \\xa0 \\xa0 \\xa0 3 Total Units: \\xa0 \\xa0 \\xa0 \\xa0 \\xa0 \\xa0 \\xa0 \\xa0 \\xa0 \\xa0 \\xa0 \\xa0 \\xa0 \\xa0 \\xa0 \\xa0 \\xa0 \\xa0 \\xa0 \\xa0 \\xa0 \\xa0 \\xa0 \\xa0 \\xa0 \\xa0 \\xa0 \\xa0 \\xa0 \\xa0 \\xa0 \\xa0 \\xa0 \\xa0 \\xa0     \\xa0 \\xa0 \\xa0\\xa0 \\xa0 \\xa018 Cybersecurity Certificate Coordinator: Dr. Younghee Park If you have any questions, please email undergradadvisor-cmpe-se@sjsu.edu and include     your name and student ID number. If you are interested in obtaining a certificate in cybersecurity, follow the steps     in program requirements.\\xa0 \\xa0  About Computer Engineering News Enrollment Data Why Join Us Academics BS in Computer Engineering BSCMPE FAQ Probabtion-general Program-Education-Objectives BSCMPE Technical Electives BSCMPE ABET Undergraduate Change of Major Policy BSCMPE Probation BS in Software Engineering BSSE-ABET BSSE Technical Electives BSSE Probation BSSE FAQ MS in Computer Engineering MSCMPE University Learning Goals MSCMPE Degree Requirements Probation MSCMPE Admission MSCMPE Taking Courses Practical Training MSCMPE Advising MSCMPE FAQ MS in Software Engineering Program Requirements Pre Fall 2020 MSSE Program Requirements MSSE University Learning Goals MSSE Enterprise Software Technologies MSSE Cloud Computing MSSE Software Systems Engineering MSSE Networking Software MSSE Data Science MSSE Cybersecurity MS in Artificial Intelligence MSAI Program Requirements MSAI Admissions Cybersecurity Foundations Certificate Program Course Requirements Courses Students Undergraduate Advising International Undergraduates CPT Guide Undergraduate Change of Major Undergraduate FAQs Graduate Advising Advance Registration Admission Prerequisite Classes Change of Major Credit Transfer Curricular Practical Training (CPT) GPA Calculations MS Admission Conditions MSSE New Student Welcome Advisor Directory Admission MSSE Admission Frequently Asked Questions Office Hours Faculty & Staff Faculty Directory Ahmet Bindal Carlos Rojas Gheorghi Guzun Gokay Saldamli Haluk Ozemek Haonan Wang Harry Li Jerry Gao Jorjeta Jetcheva Kaikai Liu Magdalini Eirinaki Mahima Agumbe Suresh Mohamed Fayad Rod Fatoohi Stas Tiomkin Weider Yu Wencen Wu Xiao Su Younghee Park Lecturer Directory Ammar Rayes Andrew Bond Anna Meng Bapi Vinnakota Brett Hartbeck Chandrasekar Vuppalapati Chao-Li Tarng Charles Zhang Charley Abboud Dan Harkey Faramarz Mortezaie Frank Butt Frank Lin Gopinath k Vinodh Hungwen Li Ishie Eswar Jahan Ghofraniha John Gash Juan Gomez Kevin Nguyen Kong Li Michael Larkin Paul Nguyen Preetpal Kang Rakesh Ranjan Richard Sinn Robert Bruce Shai Silberman Sithu Aung Front Desk Assistant Faculty Emeriti Donald Hung Ron Mak Sigurd Meldal Office Hours Research Research Areas AI and ML Data Science & Analytics Embedded & Computer Systems Autonomous & Robotic Systems Networks, Security & IoT Software System & Enterprise Software Cloud Computing & Virtualization Theses Projects NSF RINGS Project Expo 2017 Fall Technology Showcase 2017 Spring Technology Showcase 2018 Fall Technology Showcase 2018 Spring Technology Showcase 2018 Summer Technology Showcase 2019 Fall Technology Showcase 2019 Spring Technology Showcase 2020 Spring Technology Showcase 2021 Fall Project Expo 2021 Spring Technology Showcase 2022 Summer Project Expo 2023 Summer Project Expo 2022 Spring Project Expo 2023 Spring Project Expo  Resources College of Engineering HPC Student Organizations Graduation For Alumni IAB Members Advance Registration Student Resources Career Opportunities Faculty Resources   Computer Engineering PLACEHOLDER-FOR-XSL:VALUE-OF(SITE-TITLE) on Facebook PLACEHOLDER-FOR-XSL:VALUE-OF(SITE-TITLE) on LinkedIn  Contact Us Phone: 408-924-4150Fax: 408-924-4153Email: frontdesk-computer-engineering@sjsu.edu Visit Office Engineering Building Room 284One Washington SquareSan Jose, CA 95192-0180 Make a Gift Give to the H&A Fund  Footer San José State University SJSU on Facebook SJSU on Twitter SJSU on LinkedIn SJSU on Instagram SJSU on YouTube  One Washington SquareSan José, CA 95192 408-924-1000 SJSU Online \\xa0  Accessibility Title IX Diversity Land Acknowledgement Privacy  Colleges Business Education Engineering Graduate Studies Health and Human Sciences Humanities and the Arts Professional and Global Education Science Social Science Resources A-Z Index Annual Security Report [pdf] Bookstore Calendars Careers and Jobs Catalog Current Students Emergency Food & Housing Freedom of Speech King Library NewsCenter Parenting Students Parking and Maps Contact Us Contact Form Directory Doing Business with SJSU Emergency Info Report a Web Problem Report a Title IX Complaint        Last Updated Oct 18, 2022 \""
      ]
     },
     "execution_count": 80,
     "metadata": {},
     "output_type": "execute_result"
    }
   ],
   "source": [
    "df['text'][3]"
   ]
  },
  {
   "cell_type": "code",
   "execution_count": 81,
   "metadata": {},
   "outputs": [],
   "source": [
    "import tiktoken\n",
    "\n",
    "# Load the cl100k_base tokenizer which is designed to work with the ada-002 model\n",
    "tokenizer = tiktoken.get_encoding(\"cl100k_base\")"
   ]
  },
  {
   "cell_type": "code",
   "execution_count": 82,
   "metadata": {},
   "outputs": [
    {
     "data": {
      "text/html": [
       "<div>\n",
       "<style scoped>\n",
       "    .dataframe tbody tr th:only-of-type {\n",
       "        vertical-align: middle;\n",
       "    }\n",
       "\n",
       "    .dataframe tbody tr th {\n",
       "        vertical-align: top;\n",
       "    }\n",
       "\n",
       "    .dataframe thead th {\n",
       "        text-align: right;\n",
       "    }\n",
       "</style>\n",
       "<table border=\"1\" class=\"dataframe\">\n",
       "  <thead>\n",
       "    <tr style=\"text-align: right;\">\n",
       "      <th></th>\n",
       "      <th>fname</th>\n",
       "      <th>text</th>\n",
       "    </tr>\n",
       "  </thead>\n",
       "  <tbody>\n",
       "    <tr>\n",
       "      <th>0</th>\n",
       "      <td>u cmpe faculty faculty emeriti ron mak.php</td>\n",
       "      <td>u cmpe faculty faculty emeriti ron mak.php.   ...</td>\n",
       "    </tr>\n",
       "    <tr>\n",
       "      <th>1</th>\n",
       "      <td>u cmpe faculty tenure line ahmet bindal.php</td>\n",
       "      <td>u cmpe faculty tenure line ahmet bindal.php.  ...</td>\n",
       "    </tr>\n",
       "    <tr>\n",
       "      <th>2</th>\n",
       "      <td>u cmpe research research areas</td>\n",
       "      <td>u cmpe research research areas.     Research A...</td>\n",
       "    </tr>\n",
       "    <tr>\n",
       "      <th>3</th>\n",
       "      <td>u cmpe academic cybersecurity program cybersec...</td>\n",
       "      <td>u cmpe academic cybersecurity program cybersec...</td>\n",
       "    </tr>\n",
       "    <tr>\n",
       "      <th>4</th>\n",
       "      <td>u cmpe academic bs software engineering bsse f...</td>\n",
       "      <td>u cmpe academic bs software engineering bsse f...</td>\n",
       "    </tr>\n",
       "  </tbody>\n",
       "</table>\n",
       "</div>"
      ],
      "text/plain": [
       "                                               fname  \\\n",
       "0         u cmpe faculty faculty emeriti ron mak.php   \n",
       "1        u cmpe faculty tenure line ahmet bindal.php   \n",
       "2                     u cmpe research research areas   \n",
       "3  u cmpe academic cybersecurity program cybersec...   \n",
       "4  u cmpe academic bs software engineering bsse f...   \n",
       "\n",
       "                                                text  \n",
       "0  u cmpe faculty faculty emeriti ron mak.php.   ...  \n",
       "1  u cmpe faculty tenure line ahmet bindal.php.  ...  \n",
       "2  u cmpe research research areas.     Research A...  \n",
       "3  u cmpe academic cybersecurity program cybersec...  \n",
       "4  u cmpe academic bs software engineering bsse f...  "
      ]
     },
     "execution_count": 82,
     "metadata": {},
     "output_type": "execute_result"
    }
   ],
   "source": [
    "df0 = pd.read_csv(outputpath+'/scraped.csv', index_col=0)\n",
    "df0.head()"
   ]
  },
  {
   "cell_type": "code",
   "execution_count": 91,
   "metadata": {},
   "outputs": [
    {
     "data": {
      "text/html": [
       "<div>\n",
       "<style scoped>\n",
       "    .dataframe tbody tr th:only-of-type {\n",
       "        vertical-align: middle;\n",
       "    }\n",
       "\n",
       "    .dataframe tbody tr th {\n",
       "        vertical-align: top;\n",
       "    }\n",
       "\n",
       "    .dataframe thead th {\n",
       "        text-align: right;\n",
       "    }\n",
       "</style>\n",
       "<table border=\"1\" class=\"dataframe\">\n",
       "  <thead>\n",
       "    <tr style=\"text-align: right;\">\n",
       "      <th></th>\n",
       "      <th>title</th>\n",
       "      <th>text</th>\n",
       "    </tr>\n",
       "  </thead>\n",
       "  <tbody>\n",
       "    <tr>\n",
       "      <th>0</th>\n",
       "      <td>u cmpe faculty faculty emeriti ron mak.php</td>\n",
       "      <td>u cmpe faculty faculty emeriti ron mak.php.   ...</td>\n",
       "    </tr>\n",
       "    <tr>\n",
       "      <th>1</th>\n",
       "      <td>u cmpe faculty tenure line ahmet bindal.php</td>\n",
       "      <td>u cmpe faculty tenure line ahmet bindal.php.  ...</td>\n",
       "    </tr>\n",
       "    <tr>\n",
       "      <th>2</th>\n",
       "      <td>u cmpe research research areas</td>\n",
       "      <td>u cmpe research research areas.     Research A...</td>\n",
       "    </tr>\n",
       "    <tr>\n",
       "      <th>3</th>\n",
       "      <td>u cmpe academic cybersecurity program cybersec...</td>\n",
       "      <td>u cmpe academic cybersecurity program cybersec...</td>\n",
       "    </tr>\n",
       "    <tr>\n",
       "      <th>4</th>\n",
       "      <td>u cmpe academic bs software engineering bsse f...</td>\n",
       "      <td>u cmpe academic bs software engineering bsse f...</td>\n",
       "    </tr>\n",
       "  </tbody>\n",
       "</table>\n",
       "</div>"
      ],
      "text/plain": [
       "                                               title  \\\n",
       "0         u cmpe faculty faculty emeriti ron mak.php   \n",
       "1        u cmpe faculty tenure line ahmet bindal.php   \n",
       "2                     u cmpe research research areas   \n",
       "3  u cmpe academic cybersecurity program cybersec...   \n",
       "4  u cmpe academic bs software engineering bsse f...   \n",
       "\n",
       "                                                text  \n",
       "0  u cmpe faculty faculty emeriti ron mak.php.   ...  \n",
       "1  u cmpe faculty tenure line ahmet bindal.php.  ...  \n",
       "2  u cmpe research research areas.     Research A...  \n",
       "3  u cmpe academic cybersecurity program cybersec...  \n",
       "4  u cmpe academic bs software engineering bsse f...  "
      ]
     },
     "execution_count": 91,
     "metadata": {},
     "output_type": "execute_result"
    }
   ],
   "source": [
    "df0.columns = ['title', 'text']\n",
    "df0.head()"
   ]
  },
  {
   "cell_type": "code",
   "execution_count": 92,
   "metadata": {},
   "outputs": [
    {
     "data": {
      "text/plain": [
       "102"
      ]
     },
     "execution_count": 92,
     "metadata": {},
     "output_type": "execute_result"
    }
   ],
   "source": [
    "len(df0)"
   ]
  },
  {
   "cell_type": "code",
   "execution_count": 93,
   "metadata": {},
   "outputs": [
    {
     "data": {
      "text/plain": [
       "<Axes: >"
      ]
     },
     "execution_count": 93,
     "metadata": {},
     "output_type": "execute_result"
    },
    {
     "data": {
      "image/png": "[encoded data removed]",
      "text/plain": [
       "<Figure size 640x480 with 1 Axes>"
      ]
     },
     "metadata": {},
     "output_type": "display_data"
    }
   ],
   "source": [
    "# Tokenize the text and save the number of tokens to a new column\n",
    "df0['n_tokens'] = df0.text.apply(lambda x: len(tokenizer.encode(x)))\n",
    "\n",
    "# Visualize the distribution of the number of tokens per row using a histogram\n",
    "df0.n_tokens.hist()"
   ]
  },
  {
   "cell_type": "code",
   "execution_count": 94,
   "metadata": {},
   "outputs": [
    {
     "data": {
      "text/html": [
       "<div>\n",
       "<style scoped>\n",
       "    .dataframe tbody tr th:only-of-type {\n",
       "        vertical-align: middle;\n",
       "    }\n",
       "\n",
       "    .dataframe tbody tr th {\n",
       "        vertical-align: top;\n",
       "    }\n",
       "\n",
       "    .dataframe thead th {\n",
       "        text-align: right;\n",
       "    }\n",
       "</style>\n",
       "<table border=\"1\" class=\"dataframe\">\n",
       "  <thead>\n",
       "    <tr style=\"text-align: right;\">\n",
       "      <th></th>\n",
       "      <th>title</th>\n",
       "      <th>text</th>\n",
       "      <th>n_tokens</th>\n",
       "    </tr>\n",
       "  </thead>\n",
       "  <tbody>\n",
       "    <tr>\n",
       "      <th>0</th>\n",
       "      <td>u cmpe faculty faculty emeriti ron mak.php</td>\n",
       "      <td>u cmpe faculty faculty emeriti ron mak.php.   ...</td>\n",
       "      <td>2003</td>\n",
       "    </tr>\n",
       "    <tr>\n",
       "      <th>1</th>\n",
       "      <td>u cmpe faculty tenure line ahmet bindal.php</td>\n",
       "      <td>u cmpe faculty tenure line ahmet bindal.php.  ...</td>\n",
       "      <td>2027</td>\n",
       "    </tr>\n",
       "    <tr>\n",
       "      <th>2</th>\n",
       "      <td>u cmpe research research areas</td>\n",
       "      <td>u cmpe research research areas.     Research A...</td>\n",
       "      <td>2017</td>\n",
       "    </tr>\n",
       "    <tr>\n",
       "      <th>3</th>\n",
       "      <td>u cmpe academic cybersecurity program cybersec...</td>\n",
       "      <td>u cmpe academic cybersecurity program cybersec...</td>\n",
       "      <td>2520</td>\n",
       "    </tr>\n",
       "    <tr>\n",
       "      <th>4</th>\n",
       "      <td>u cmpe academic bs software engineering bsse f...</td>\n",
       "      <td>u cmpe academic bs software engineering bsse f...</td>\n",
       "      <td>2698</td>\n",
       "    </tr>\n",
       "  </tbody>\n",
       "</table>\n",
       "</div>"
      ],
      "text/plain": [
       "                                               title  \\\n",
       "0         u cmpe faculty faculty emeriti ron mak.php   \n",
       "1        u cmpe faculty tenure line ahmet bindal.php   \n",
       "2                     u cmpe research research areas   \n",
       "3  u cmpe academic cybersecurity program cybersec...   \n",
       "4  u cmpe academic bs software engineering bsse f...   \n",
       "\n",
       "                                                text  n_tokens  \n",
       "0  u cmpe faculty faculty emeriti ron mak.php.   ...      2003  \n",
       "1  u cmpe faculty tenure line ahmet bindal.php.  ...      2027  \n",
       "2  u cmpe research research areas.     Research A...      2017  \n",
       "3  u cmpe academic cybersecurity program cybersec...      2520  \n",
       "4  u cmpe academic bs software engineering bsse f...      2698  "
      ]
     },
     "execution_count": 94,
     "metadata": {},
     "output_type": "execute_result"
    }
   ],
   "source": [
    "df0.head()"
   ]
  },
  {
   "cell_type": "code",
   "execution_count": 95,
   "metadata": {},
   "outputs": [
    {
     "data": {
      "text/plain": [
       "102"
      ]
     },
     "execution_count": 95,
     "metadata": {},
     "output_type": "execute_result"
    }
   ],
   "source": [
    "len(df0)"
   ]
  },
  {
   "cell_type": "markdown",
   "metadata": {},
   "source": [
    "split the longer lines into smaller chunks"
   ]
  },
  {
   "cell_type": "code",
   "execution_count": 96,
   "metadata": {},
   "outputs": [],
   "source": [
    "max_tokens = 500\n",
    "\n",
    "# Function to split the text into chunks of a maximum number of tokens\n",
    "def split_into_many(text, max_tokens = max_tokens):\n",
    "\n",
    "    # Split the text into sentences\n",
    "    sentences = text.split('. ')\n",
    "\n",
    "    # Get the number of tokens for each sentence\n",
    "    n_tokens = [len(tokenizer.encode(\" \" + sentence)) for sentence in sentences]\n",
    "\n",
    "    chunks = []\n",
    "    tokens_so_far = 0\n",
    "    chunk = []\n",
    "\n",
    "    # Loop through the sentences and tokens joined together in a tuple\n",
    "    for sentence, token in zip(sentences, n_tokens):\n",
    "\n",
    "        # If the number of tokens so far plus the number of tokens in the current sentence is greater\n",
    "        # than the max number of tokens, then add the chunk to the list of chunks and reset\n",
    "        # the chunk and tokens so far\n",
    "        if tokens_so_far + token > max_tokens:\n",
    "            chunks.append(\". \".join(chunk) + \".\")\n",
    "            chunk = []\n",
    "            tokens_so_far = 0\n",
    "\n",
    "        # If the number of tokens in the current sentence is greater than the max number of\n",
    "        # tokens, go to the next sentence\n",
    "        if token > max_tokens:\n",
    "            continue\n",
    "\n",
    "        # Otherwise, add the sentence to the chunk and add the number of tokens to the total\n",
    "        chunk.append(sentence)\n",
    "        tokens_so_far += token + 1\n",
    "\n",
    "    return chunks\n",
    "\n",
    "\n",
    "shortened = []\n",
    "\n",
    "# Loop through the dataframe\n",
    "for row in df0.iterrows():\n",
    "\n",
    "    # If the text is None, go to the next row\n",
    "    if row[1]['text'] is None:\n",
    "        continue\n",
    "\n",
    "    # If the number of tokens is greater than the max number of tokens, split the text into chunks\n",
    "    if row[1]['n_tokens'] > max_tokens:\n",
    "        shortened += split_into_many(row[1]['text'])\n",
    "\n",
    "    # Otherwise, add the text to the list of shortened texts\n",
    "    else:\n",
    "        shortened.append( row[1]['text'] )"
   ]
  },
  {
   "cell_type": "markdown",
   "metadata": {},
   "source": [
    "Visualizing the updated histogram again can help to confirm if the rows were successfully split into shortened sections."
   ]
  },
  {
   "cell_type": "code",
   "execution_count": 97,
   "metadata": {},
   "outputs": [
    {
     "data": {
      "text/plain": [
       "<Axes: >"
      ]
     },
     "execution_count": 97,
     "metadata": {},
     "output_type": "execute_result"
    },
    {
     "data": {
      "image/png": "[encoded data removed]",
      "text/plain": [
       "<Figure size 640x480 with 1 Axes>"
      ]
     },
     "metadata": {},
     "output_type": "display_data"
    }
   ],
   "source": [
    "df = pd.DataFrame(shortened, columns = ['text'])\n",
    "df['n_tokens'] = df.text.apply(lambda x: len(tokenizer.encode(x)))\n",
    "df.n_tokens.hist()"
   ]
  },
  {
   "cell_type": "code",
   "execution_count": 98,
   "metadata": {},
   "outputs": [
    {
     "data": {
      "text/html": [
       "<div>\n",
       "<style scoped>\n",
       "    .dataframe tbody tr th:only-of-type {\n",
       "        vertical-align: middle;\n",
       "    }\n",
       "\n",
       "    .dataframe tbody tr th {\n",
       "        vertical-align: top;\n",
       "    }\n",
       "\n",
       "    .dataframe thead th {\n",
       "        text-align: right;\n",
       "    }\n",
       "</style>\n",
       "<table border=\"1\" class=\"dataframe\">\n",
       "  <thead>\n",
       "    <tr style=\"text-align: right;\">\n",
       "      <th></th>\n",
       "      <th>text</th>\n",
       "      <th>n_tokens</th>\n",
       "    </tr>\n",
       "  </thead>\n",
       "  <tbody>\n",
       "    <tr>\n",
       "      <th>0</th>\n",
       "      <td>u cmpe faculty faculty emeriti ron mak.php.   ...</td>\n",
       "      <td>160</td>\n",
       "    </tr>\n",
       "    <tr>\n",
       "      <th>1</th>\n",
       "      <td>u cmpe faculty tenure line ahmet bindal.php.  ...</td>\n",
       "      <td>161</td>\n",
       "    </tr>\n",
       "    <tr>\n",
       "      <th>2</th>\n",
       "      <td>.</td>\n",
       "      <td>1</td>\n",
       "    </tr>\n",
       "    <tr>\n",
       "      <th>3</th>\n",
       "      <td>u cmpe research research areas.     Research A...</td>\n",
       "      <td>154</td>\n",
       "    </tr>\n",
       "    <tr>\n",
       "      <th>4</th>\n",
       "      <td>u cmpe academic cybersecurity program cybersec...</td>\n",
       "      <td>165</td>\n",
       "    </tr>\n",
       "  </tbody>\n",
       "</table>\n",
       "</div>"
      ],
      "text/plain": [
       "                                                text  n_tokens\n",
       "0  u cmpe faculty faculty emeriti ron mak.php.   ...       160\n",
       "1  u cmpe faculty tenure line ahmet bindal.php.  ...       161\n",
       "2                                                  .         1\n",
       "3  u cmpe research research areas.     Research A...       154\n",
       "4  u cmpe academic cybersecurity program cybersec...       165"
      ]
     },
     "execution_count": 98,
     "metadata": {},
     "output_type": "execute_result"
    }
   ],
   "source": [
    "df.head()"
   ]
  },
  {
   "cell_type": "code",
   "execution_count": 99,
   "metadata": {},
   "outputs": [
    {
     "data": {
      "text/plain": [
       "222"
      ]
     },
     "execution_count": 99,
     "metadata": {},
     "output_type": "execute_result"
    }
   ],
   "source": [
    "len(df)"
   ]
  },
  {
   "cell_type": "code",
   "execution_count": 100,
   "metadata": {},
   "outputs": [
    {
     "data": {
      "text/plain": [
       "59379"
      ]
     },
     "execution_count": 100,
     "metadata": {},
     "output_type": "execute_result"
    }
   ],
   "source": [
    "sum(df['n_tokens'])"
   ]
  },
  {
   "cell_type": "code",
   "execution_count": null,
   "metadata": {},
   "outputs": [],
   "source": [
    "df['']"
   ]
  },
  {
   "cell_type": "markdown",
   "metadata": {},
   "source": [
    "The content is now broken down into smaller chunks and a simple request can be sent to the OpenAI API specifying the use of the new text-embedding-ada-002 model to create the embeddings:"
   ]
  },
  {
   "cell_type": "code",
   "execution_count": 101,
   "metadata": {},
   "outputs": [
    {
     "data": {
      "text/plain": [
       "'./output/text/processed'"
      ]
     },
     "execution_count": 101,
     "metadata": {},
     "output_type": "execute_result"
    }
   ],
   "source": [
    "outputpath"
   ]
  },
  {
   "cell_type": "code",
   "execution_count": 104,
   "metadata": {},
   "outputs": [
    {
     "data": {
      "text/html": [
       "<div>\n",
       "<style scoped>\n",
       "    .dataframe tbody tr th:only-of-type {\n",
       "        vertical-align: middle;\n",
       "    }\n",
       "\n",
       "    .dataframe tbody tr th {\n",
       "        vertical-align: top;\n",
       "    }\n",
       "\n",
       "    .dataframe thead th {\n",
       "        text-align: right;\n",
       "    }\n",
       "</style>\n",
       "<table border=\"1\" class=\"dataframe\">\n",
       "  <thead>\n",
       "    <tr style=\"text-align: right;\">\n",
       "      <th></th>\n",
       "      <th>text</th>\n",
       "      <th>n_tokens</th>\n",
       "    </tr>\n",
       "  </thead>\n",
       "  <tbody>\n",
       "    <tr>\n",
       "      <th>8</th>\n",
       "      <td>CMPE 195A (2 units) has to be taken concurre...</td>\n",
       "      <td>171</td>\n",
       "    </tr>\n",
       "    <tr>\n",
       "      <th>9</th>\n",
       "      <td>u cmpe research project expo 2020 spring.php. ...</td>\n",
       "      <td>163</td>\n",
       "    </tr>\n",
       "  </tbody>\n",
       "</table>\n",
       "</div>"
      ],
      "text/plain": [
       "                                                text  n_tokens\n",
       "8    CMPE 195A (2 units) has to be taken concurre...       171\n",
       "9  u cmpe research project expo 2020 spring.php. ...       163"
      ]
     },
     "execution_count": 104,
     "metadata": {},
     "output_type": "execute_result"
    }
   ],
   "source": [
    "df[8:10]"
   ]
  },
  {
   "cell_type": "code",
   "execution_count": 102,
   "metadata": {},
   "outputs": [],
   "source": [
    "df.to_csv(outputpath+'/split.csv', escapechar='\\\\')"
   ]
  }
 ],
 "metadata": {
  "kernelspec": {
   "display_name": "mypy310",
   "language": "python",
   "name": "python3"
  },
  "language_info": {
   "codemirror_mode": {
    "name": "ipython",
    "version": 3
   },
   "file_extension": ".py",
   "mimetype": "text/x-python",
   "name": "python",
   "nbconvert_exporter": "python",
   "pygments_lexer": "ipython3",
   "version": "3.10.10"
  },
  "orig_nbformat": 4
 },
 "nbformat": 4,
 "nbformat_minor": 2
}
