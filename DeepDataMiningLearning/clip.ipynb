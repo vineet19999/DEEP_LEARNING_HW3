{
 "cells": [
  {
   "cell_type": "code",
   "execution_count": 1,
   "metadata": {},
   "outputs": [],
   "source": [
    "import pandas as pd, numpy as np\n",
    "import os\n",
    "import urllib.request\n",
    "from transformers import CLIPProcessor, CLIPTextModel, CLIPModel, logging\n",
    "\n",
    "from IPython.display import display, Markdown, HTML, clear_output\n",
    "import ipywidgets as widgets\n",
    "\n",
    "logging.get_verbosity = lambda: logging.NOTSET\n",
    "model = CLIPModel.from_pretrained(\"openai/clip-vit-base-patch32\")\n",
    "processor = CLIPProcessor.from_pretrained(\"openai/clip-vit-base-patch32\")\n",
    "clear_output()\n",
    "\n",
    "def compute_text_embeddings(list_of_strings):\n",
    "    inputs = processor(text=list_of_strings, return_tensors=\"pt\", padding=True)\n",
    "    return model.get_text_features(**inputs)"
   ]
  },
  {
   "cell_type": "code",
   "execution_count": 2,
   "metadata": {},
   "outputs": [
    {
     "data": {
      "text/plain": [
       "('../data/embeddings2.npy', <http.client.HTTPMessage at 0x10476bdf0>)"
      ]
     },
     "execution_count": 2,
     "metadata": {},
     "output_type": "execute_result"
    }
   ],
   "source": [
    "urllib.request.urlretrieve('https://drive.google.com/uc?export=download&id=1bt1O-iArKuU9LGkMV1zUPTEHZk8k7L65', '../data/data.csv')\n",
    "urllib.request.urlretrieve('https://drive.google.com/uc?export=download&id=19aVnFBY-Rc0-3VErF_C7PojmWpBsb5wk', '../data/data2.csv')\n",
    "urllib.request.urlretrieve('https://drive.google.com/uc?export=download&id=1onKr-pfWb4l6LgL-z8WDod3NMW-nIJxE', '../data/embeddings.npy')\n",
    "urllib.request.urlretrieve('https://drive.google.com/uc?export=download&id=1KbwUkE0T8bpnHraqSzTeGGV4-TZO_CFB', '../data/embeddings2.npy')\n"
   ]
  },
  {
   "cell_type": "code",
   "execution_count": 3,
   "metadata": {},
   "outputs": [],
   "source": [
    "df = {0: pd.read_csv('../data/data.csv'), 1: pd.read_csv('../data/data2.csv')}\n",
    "embeddings = {0: np.load('../data/embeddings.npy'), 1: np.load('../data/embeddings2.npy')}\n",
    "for k in [0, 1]:\n",
    "  embeddings[k] = np.divide(embeddings[k], np.sqrt(np.sum(embeddings[k]**2, axis=1, keepdims=True)))\n",
    "source = {0: '\\nSource: Unsplash', 1: '\\nSource: The Movie Database (TMDB)'}"
   ]
  },
  {
   "cell_type": "code",
   "execution_count": 6,
   "metadata": {},
   "outputs": [
    {
     "data": {
      "text/html": [
       "<div>\n",
       "<style scoped>\n",
       "    .dataframe tbody tr th:only-of-type {\n",
       "        vertical-align: middle;\n",
       "    }\n",
       "\n",
       "    .dataframe tbody tr th {\n",
       "        vertical-align: top;\n",
       "    }\n",
       "\n",
       "    .dataframe thead th {\n",
       "        text-align: right;\n",
       "    }\n",
       "</style>\n",
       "<table border=\"1\" class=\"dataframe\">\n",
       "  <thead>\n",
       "    <tr style=\"text-align: right;\">\n",
       "      <th></th>\n",
       "      <th>path</th>\n",
       "      <th>tooltip</th>\n",
       "      <th>link</th>\n",
       "    </tr>\n",
       "  </thead>\n",
       "  <tbody>\n",
       "    <tr>\n",
       "      <th>0</th>\n",
       "      <td>https://images.unsplash.com/uploads/1411949294...</td>\n",
       "      <td>\"Woman exploring a forest\" by Michelle Spencer</td>\n",
       "      <td>https://unsplash.com/photos/XMyPniM9LF0</td>\n",
       "    </tr>\n",
       "    <tr>\n",
       "      <th>1</th>\n",
       "      <td>https://images.unsplash.com/photo-141633941111...</td>\n",
       "      <td>\"Succulents in a terrarium\" by Jeff Sheldon</td>\n",
       "      <td>https://unsplash.com/photos/rDLBArZUl1c</td>\n",
       "    </tr>\n",
       "    <tr>\n",
       "      <th>2</th>\n",
       "      <td>https://images.unsplash.com/photo-142014251503...</td>\n",
       "      <td>\"Rural winter mountainside\" by John Price</td>\n",
       "      <td>https://unsplash.com/photos/cNDGZ2sQ3Bo</td>\n",
       "    </tr>\n",
       "    <tr>\n",
       "      <th>3</th>\n",
       "      <td>https://images.unsplash.com/photo-141487280988...</td>\n",
       "      <td>\"Poppy seeds and flowers\" by Kris Atomic</td>\n",
       "      <td>https://unsplash.com/photos/iuZ_D1eoq9k</td>\n",
       "    </tr>\n",
       "    <tr>\n",
       "      <th>4</th>\n",
       "      <td>https://images.unsplash.com/photo-141700759404...</td>\n",
       "      <td>\"Silhouette near dark trees\" by Jonas Eriksson</td>\n",
       "      <td>https://unsplash.com/photos/BeD3vjQ8SI0</td>\n",
       "    </tr>\n",
       "    <tr>\n",
       "      <th>...</th>\n",
       "      <td>...</td>\n",
       "      <td>...</td>\n",
       "      <td>...</td>\n",
       "    </tr>\n",
       "    <tr>\n",
       "      <th>24995</th>\n",
       "      <td>https://images.unsplash.com/photo-159300793778...</td>\n",
       "      <td>Photo by De an Sun</td>\n",
       "      <td>https://unsplash.com/photos/c7OrOMxrurA</td>\n",
       "    </tr>\n",
       "    <tr>\n",
       "      <th>24996</th>\n",
       "      <td>https://images.unsplash.com/photo-159296761254...</td>\n",
       "      <td>\"Pearl earrings and seashells\" by Content Pixie</td>\n",
       "      <td>https://unsplash.com/photos/15IuQ5a0Qwg</td>\n",
       "    </tr>\n",
       "    <tr>\n",
       "      <th>24997</th>\n",
       "      <td>https://images.unsplash.com/photo-159299937329...</td>\n",
       "      <td>Photo by Maurits Bausenhart</td>\n",
       "      <td>https://unsplash.com/photos/w8nrcXz8pwk</td>\n",
       "    </tr>\n",
       "    <tr>\n",
       "      <th>24998</th>\n",
       "      <td>https://images.unsplash.com/photo-159192792878...</td>\n",
       "      <td>\"Floral truck in the streets of Rome\" by Keith...</td>\n",
       "      <td>https://unsplash.com/photos/n1jHrRhehUI</td>\n",
       "    </tr>\n",
       "    <tr>\n",
       "      <th>24999</th>\n",
       "      <td>https://images.unsplash.com/photo-159240763188...</td>\n",
       "      <td>Photo by Oleksandr Kurchev</td>\n",
       "      <td>https://unsplash.com/photos/Ic74ACoaAX0</td>\n",
       "    </tr>\n",
       "  </tbody>\n",
       "</table>\n",
       "<p>25000 rows × 3 columns</p>\n",
       "</div>"
      ],
      "text/plain": [
       "                                                    path  \\\n",
       "0      https://images.unsplash.com/uploads/1411949294...   \n",
       "1      https://images.unsplash.com/photo-141633941111...   \n",
       "2      https://images.unsplash.com/photo-142014251503...   \n",
       "3      https://images.unsplash.com/photo-141487280988...   \n",
       "4      https://images.unsplash.com/photo-141700759404...   \n",
       "...                                                  ...   \n",
       "24995  https://images.unsplash.com/photo-159300793778...   \n",
       "24996  https://images.unsplash.com/photo-159296761254...   \n",
       "24997  https://images.unsplash.com/photo-159299937329...   \n",
       "24998  https://images.unsplash.com/photo-159192792878...   \n",
       "24999  https://images.unsplash.com/photo-159240763188...   \n",
       "\n",
       "                                                 tooltip  \\\n",
       "0         \"Woman exploring a forest\" by Michelle Spencer   \n",
       "1            \"Succulents in a terrarium\" by Jeff Sheldon   \n",
       "2              \"Rural winter mountainside\" by John Price   \n",
       "3               \"Poppy seeds and flowers\" by Kris Atomic   \n",
       "4         \"Silhouette near dark trees\" by Jonas Eriksson   \n",
       "...                                                  ...   \n",
       "24995                                 Photo by De an Sun   \n",
       "24996    \"Pearl earrings and seashells\" by Content Pixie   \n",
       "24997                        Photo by Maurits Bausenhart   \n",
       "24998  \"Floral truck in the streets of Rome\" by Keith...   \n",
       "24999                         Photo by Oleksandr Kurchev   \n",
       "\n",
       "                                          link  \n",
       "0      https://unsplash.com/photos/XMyPniM9LF0  \n",
       "1      https://unsplash.com/photos/rDLBArZUl1c  \n",
       "2      https://unsplash.com/photos/cNDGZ2sQ3Bo  \n",
       "3      https://unsplash.com/photos/iuZ_D1eoq9k  \n",
       "4      https://unsplash.com/photos/BeD3vjQ8SI0  \n",
       "...                                        ...  \n",
       "24995  https://unsplash.com/photos/c7OrOMxrurA  \n",
       "24996  https://unsplash.com/photos/15IuQ5a0Qwg  \n",
       "24997  https://unsplash.com/photos/w8nrcXz8pwk  \n",
       "24998  https://unsplash.com/photos/n1jHrRhehUI  \n",
       "24999  https://unsplash.com/photos/Ic74ACoaAX0  \n",
       "\n",
       "[25000 rows x 3 columns]"
      ]
     },
     "execution_count": 6,
     "metadata": {},
     "output_type": "execute_result"
    }
   ],
   "source": [
    "df[0]"
   ]
  },
  {
   "cell_type": "code",
   "execution_count": 7,
   "metadata": {},
   "outputs": [
    {
     "data": {
      "text/html": [
       "<div>\n",
       "<style scoped>\n",
       "    .dataframe tbody tr th:only-of-type {\n",
       "        vertical-align: middle;\n",
       "    }\n",
       "\n",
       "    .dataframe tbody tr th {\n",
       "        vertical-align: top;\n",
       "    }\n",
       "\n",
       "    .dataframe thead th {\n",
       "        text-align: right;\n",
       "    }\n",
       "</style>\n",
       "<table border=\"1\" class=\"dataframe\">\n",
       "  <thead>\n",
       "    <tr style=\"text-align: right;\">\n",
       "      <th></th>\n",
       "      <th>path</th>\n",
       "      <th>tooltip</th>\n",
       "      <th>link</th>\n",
       "    </tr>\n",
       "  </thead>\n",
       "  <tbody>\n",
       "    <tr>\n",
       "      <th>0</th>\n",
       "      <td>http://image.tmdb.org/t/p/w780/5hNcsnMkwU2LknL...</td>\n",
       "      <td>Dilwale Dulhania Le Jayenge</td>\n",
       "      <td>https://www.themoviedb.org/movie/19404</td>\n",
       "    </tr>\n",
       "    <tr>\n",
       "      <th>1</th>\n",
       "      <td>http://image.tmdb.org/t/p/w780/gNBCvtYyGPbjPCT...</td>\n",
       "      <td>Dilwale Dulhania Le Jayenge</td>\n",
       "      <td>https://www.themoviedb.org/movie/19404</td>\n",
       "    </tr>\n",
       "    <tr>\n",
       "      <th>2</th>\n",
       "      <td>http://image.tmdb.org/t/p/w780/iNh3BivHyg5sQRP...</td>\n",
       "      <td>The Shawshank Redemption</td>\n",
       "      <td>https://www.themoviedb.org/movie/278</td>\n",
       "    </tr>\n",
       "    <tr>\n",
       "      <th>3</th>\n",
       "      <td>http://image.tmdb.org/t/p/w780/9Xw0I5RV2ZqNLpu...</td>\n",
       "      <td>The Shawshank Redemption</td>\n",
       "      <td>https://www.themoviedb.org/movie/278</td>\n",
       "    </tr>\n",
       "    <tr>\n",
       "      <th>4</th>\n",
       "      <td>http://image.tmdb.org/t/p/w780/kXfqcdQKsToO0OU...</td>\n",
       "      <td>The Shawshank Redemption</td>\n",
       "      <td>https://www.themoviedb.org/movie/278</td>\n",
       "    </tr>\n",
       "    <tr>\n",
       "      <th>...</th>\n",
       "      <td>...</td>\n",
       "      <td>...</td>\n",
       "      <td>...</td>\n",
       "    </tr>\n",
       "    <tr>\n",
       "      <th>8165</th>\n",
       "      <td>http://image.tmdb.org/t/p/w780/hdypWIqmK47ACp1...</td>\n",
       "      <td>Every Day</td>\n",
       "      <td>https://www.themoviedb.org/movie/465136</td>\n",
       "    </tr>\n",
       "    <tr>\n",
       "      <th>8166</th>\n",
       "      <td>http://image.tmdb.org/t/p/w780/amycp73vQvnYmQX...</td>\n",
       "      <td>Every Day</td>\n",
       "      <td>https://www.themoviedb.org/movie/465136</td>\n",
       "    </tr>\n",
       "    <tr>\n",
       "      <th>8167</th>\n",
       "      <td>http://image.tmdb.org/t/p/w780/jXGT06zsyhNzrLy...</td>\n",
       "      <td>Every Day</td>\n",
       "      <td>https://www.themoviedb.org/movie/465136</td>\n",
       "    </tr>\n",
       "    <tr>\n",
       "      <th>8168</th>\n",
       "      <td>http://image.tmdb.org/t/p/w780/87vuFOt2vMofvZe...</td>\n",
       "      <td>Every Day</td>\n",
       "      <td>https://www.themoviedb.org/movie/465136</td>\n",
       "    </tr>\n",
       "    <tr>\n",
       "      <th>8169</th>\n",
       "      <td>http://image.tmdb.org/t/p/w780/wvuPxrtmwgOnCt4...</td>\n",
       "      <td>Every Day</td>\n",
       "      <td>https://www.themoviedb.org/movie/465136</td>\n",
       "    </tr>\n",
       "  </tbody>\n",
       "</table>\n",
       "<p>8170 rows × 3 columns</p>\n",
       "</div>"
      ],
      "text/plain": [
       "                                                   path  \\\n",
       "0     http://image.tmdb.org/t/p/w780/5hNcsnMkwU2LknL...   \n",
       "1     http://image.tmdb.org/t/p/w780/gNBCvtYyGPbjPCT...   \n",
       "2     http://image.tmdb.org/t/p/w780/iNh3BivHyg5sQRP...   \n",
       "3     http://image.tmdb.org/t/p/w780/9Xw0I5RV2ZqNLpu...   \n",
       "4     http://image.tmdb.org/t/p/w780/kXfqcdQKsToO0OU...   \n",
       "...                                                 ...   \n",
       "8165  http://image.tmdb.org/t/p/w780/hdypWIqmK47ACp1...   \n",
       "8166  http://image.tmdb.org/t/p/w780/amycp73vQvnYmQX...   \n",
       "8167  http://image.tmdb.org/t/p/w780/jXGT06zsyhNzrLy...   \n",
       "8168  http://image.tmdb.org/t/p/w780/87vuFOt2vMofvZe...   \n",
       "8169  http://image.tmdb.org/t/p/w780/wvuPxrtmwgOnCt4...   \n",
       "\n",
       "                          tooltip                                     link  \n",
       "0     Dilwale Dulhania Le Jayenge   https://www.themoviedb.org/movie/19404  \n",
       "1     Dilwale Dulhania Le Jayenge   https://www.themoviedb.org/movie/19404  \n",
       "2        The Shawshank Redemption     https://www.themoviedb.org/movie/278  \n",
       "3        The Shawshank Redemption     https://www.themoviedb.org/movie/278  \n",
       "4        The Shawshank Redemption     https://www.themoviedb.org/movie/278  \n",
       "...                           ...                                      ...  \n",
       "8165                    Every Day  https://www.themoviedb.org/movie/465136  \n",
       "8166                    Every Day  https://www.themoviedb.org/movie/465136  \n",
       "8167                    Every Day  https://www.themoviedb.org/movie/465136  \n",
       "8168                    Every Day  https://www.themoviedb.org/movie/465136  \n",
       "8169                    Every Day  https://www.themoviedb.org/movie/465136  \n",
       "\n",
       "[8170 rows x 3 columns]"
      ]
     },
     "execution_count": 7,
     "metadata": {},
     "output_type": "execute_result"
    }
   ],
   "source": [
    "df[1]"
   ]
  },
  {
   "cell_type": "code",
   "execution_count": 9,
   "metadata": {},
   "outputs": [
    {
     "data": {
      "text/plain": [
       "dict_keys([0, 1])"
      ]
     },
     "execution_count": 9,
     "metadata": {},
     "output_type": "execute_result"
    }
   ],
   "source": [
    "embeddings.keys()"
   ]
  },
  {
   "cell_type": "code",
   "execution_count": 11,
   "metadata": {},
   "outputs": [
    {
     "data": {
      "text/plain": [
       "(25000, 512)"
      ]
     },
     "execution_count": 11,
     "metadata": {},
     "output_type": "execute_result"
    }
   ],
   "source": [
    "embeddings[0].shape"
   ]
  },
  {
   "cell_type": "code",
   "execution_count": 5,
   "metadata": {},
   "outputs": [
    {
     "data": {
      "application/vnd.jupyter.widget-view+json": {
       "model_id": "5c6a506dcd8a44bfac47751b2560b534",
       "version_major": 2,
       "version_minor": 0
      },
      "text/plain": [
       "HBox(children=(Text(value='', layout=Layout(width='400px')), Button(description='Search', style=ButtonStyle())…"
      ]
     },
     "metadata": {},
     "output_type": "display_data"
    },
    {
     "data": {
      "application/vnd.jupyter.widget-view+json": {
       "model_id": "9ed627785e434563b3c30553bd5b57bc",
       "version_major": 2,
       "version_minor": 0
      },
      "text/plain": [
       "Output()"
      ]
     },
     "metadata": {},
     "output_type": "display_data"
    }
   ],
   "source": [
    "def get_html(url_list, height=200):\n",
    "    html = \"<div style='margin-top: 20px; display: flex; flex-wrap: wrap; justify-content: space-evenly'>\"\n",
    "    for url, title, link in url_list:\n",
    "        html2 = f\"<img title='{title}' style='height: {height}px; margin-bottom: 10px' src='{url}'>\"\n",
    "        if len(link) > 0:\n",
    "            html2 = f\"<a href='{link}' target='_blank'>\" + html2 + \"</a>\"\n",
    "        html = html + html2\n",
    "    html += \"</div>\"\n",
    "    return html\n",
    "\n",
    "query = widgets.Text(layout=widgets.Layout(width='400px'))\n",
    "dataset =widgets.Dropdown(\n",
    "    options=['Unsplash', 'Movies'],\n",
    "    value='Unsplash'\n",
    ")\n",
    "button = widgets.Button(description=\"Search\")\n",
    "output = widgets.Output()\n",
    "\n",
    "display(widgets.HBox([query, button, dataset],\n",
    "                     layout=widgets.Layout(justify_content='center')),\n",
    "        output)\n",
    "\n",
    "def image_search(query, n_results=24):\n",
    "    text_embeddings = compute_text_embeddings([query]).detach().numpy()\n",
    "    k = 0 if dataset.value == 'Unsplash' else 1\n",
    "    results = np.argsort((embeddings[k]@text_embeddings.T)[:, 0])[-1:-n_results-1:-1]\n",
    "    return [(df[k].iloc[i]['path'],\n",
    "             df[k].iloc[i]['tooltip'] + source[k],\n",
    "             df[k].iloc[i]['link']) for i in results]\n",
    "\n",
    "def on_button_clicked(b):\n",
    "    if len(query.value) > 0:\n",
    "        results = image_search(query.value)\n",
    "        output.clear_output()\n",
    "        with output:\n",
    "            display(HTML(get_html(results)))\n",
    "\n",
    "button.on_click(on_button_clicked)\n",
    "dataset.observe(on_button_clicked, names='value')"
   ]
  }
 ],
 "metadata": {
  "kernelspec": {
   "display_name": "mypy310",
   "language": "python",
   "name": "python3"
  },
  "language_info": {
   "codemirror_mode": {
    "name": "ipython",
    "version": 3
   },
   "file_extension": ".py",
   "mimetype": "text/x-python",
   "name": "python",
   "nbconvert_exporter": "python",
   "pygments_lexer": "ipython3",
   "version": "3.10.12"
  }
 },
 "nbformat": 4,
 "nbformat_minor": 2
}
