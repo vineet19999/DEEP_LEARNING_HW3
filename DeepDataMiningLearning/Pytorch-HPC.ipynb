{
 "cells": [
  {
   "cell_type": "markdown",
   "id": "23fd9373-2abf-44e3-ac9f-dc550bcfbf22",
   "metadata": {},
   "source": [
    "# Environment Check"
   ]
  },
  {
   "cell_type": "code",
   "execution_count": 2,
   "id": "6ae032af-af5c-4e5a-9ad7-86d69852ed6b",
   "metadata": {},
   "outputs": [
    {
     "name": "stdout",
     "output_type": "stream",
     "text": [
      "/home/010796032/miniconda3/envs/mycondapy39/bin/python\n"
     ]
    }
   ],
   "source": [
    "!which python"
   ]
  },
  {
   "cell_type": "code",
   "execution_count": 3,
   "id": "b307d1cd-4bd5-4443-bd2e-3374f96dabd5",
   "metadata": {},
   "outputs": [
    {
     "name": "stdout",
     "output_type": "stream",
     "text": [
      "# conda environments:\n",
      "#\n",
      "base                     /home/010796032/miniconda3\n",
      "intelaikit               /home/010796032/miniconda3/envs/intelaikit\n",
      "mycondapy39           *  /home/010796032/miniconda3/envs/mycondapy39\n",
      "\n"
     ]
    }
   ],
   "source": [
    "!conda info --envs"
   ]
  },
  {
   "cell_type": "code",
   "execution_count": 1,
   "id": "bf7769d5-1ce1-4003-bcf0-955712c7f31a",
   "metadata": {},
   "outputs": [
    {
     "name": "stdout",
     "output_type": "stream",
     "text": [
      "Using device: cuda\n",
      "Device name:  NVIDIA A100-PCIE-40GB\n",
      "Device properties: _CudaDeviceProperties(name='NVIDIA A100-PCIE-40GB', major=8, minor=0, total_memory=40536MB, multi_processor_count=108)\n",
      "Utilization: 0\n",
      "Memory Usage:\n",
      "Allocated: 0.0 GB\n",
      "Cached:    0.0 GB\n"
     ]
    }
   ],
   "source": [
    "import torch\n",
    "# setting device on GPU if available, else CPU\n",
    "device = torch.device('cuda' if torch.cuda.is_available() else 'cpu')\n",
    "print('Using device:', device)\n",
    "#Additional Info when using cuda\n",
    "if device.type == 'cuda':\n",
    "    print(\"Device name: \", torch.cuda.get_device_name(0))\n",
    "    print(\"Device properties:\", torch.cuda.get_device_properties(0))\n",
    "    print(\"Utilization:\", torch.cuda.utilization(0))\n",
    "    print('Memory Usage:')\n",
    "    print('Allocated:', round(torch.cuda.memory_allocated(0)/1024**3,1), 'GB')\n",
    "    print('Cached:   ', round(torch.cuda.memory_reserved(0)/1024**3,1), 'GB')"
   ]
  },
  {
   "cell_type": "code",
   "execution_count": 2,
   "id": "842a410a-6525-4eb6-b355-5c4c17b0ab76",
   "metadata": {},
   "outputs": [
    {
     "data": {
      "text/plain": [
       "4"
      ]
     },
     "execution_count": 2,
     "metadata": {},
     "output_type": "execute_result"
    }
   ],
   "source": [
    "torch.cuda.device_count()"
   ]
  },
  {
   "cell_type": "code",
   "execution_count": 3,
   "id": "3ea1d743-396d-44e0-9ddf-b9fd58aa7d89",
   "metadata": {},
   "outputs": [
    {
     "data": {
      "text/plain": [
       "'11.8'"
      ]
     },
     "execution_count": 3,
     "metadata": {},
     "output_type": "execute_result"
    }
   ],
   "source": [
    "torch.version.cuda"
   ]
  },
  {
   "cell_type": "code",
   "execution_count": 4,
   "id": "e53bd21a",
   "metadata": {},
   "outputs": [
    {
     "ename": "RuntimeError",
     "evalue": "cuDNN version incompatibility: PyTorch was compiled  against (8, 7, 0) but found runtime version (8, 1, 1). PyTorch already comes bundled with cuDNN. One option to resolving this error is to ensure PyTorch can find the bundled cuDNN.Looks like your LD_LIBRARY_PATH contains incompatible version of cudnnPlease either remove it from the path or install cudnn (8, 7, 0)",
     "output_type": "error",
     "traceback": [
      "\u001b[0;31m---------------------------------------------------------------------------\u001b[0m",
      "\u001b[0;31mRuntimeError\u001b[0m                              Traceback (most recent call last)",
      "Cell \u001b[0;32mIn [4], line 1\u001b[0m\n\u001b[0;32m----> 1\u001b[0m torch\u001b[39m.\u001b[39mbackends\u001b[39m.\u001b[39mcudnn\u001b[39m.\u001b[39mversion()\n",
      "File \u001b[0;32m~/miniconda3/envs/mycondapy39/lib/python3.9/site-packages/torch/backends/cudnn/__init__.py:70\u001b[0m, in \u001b[0;36mversion\u001b[0;34m()\u001b[0m\n\u001b[1;32m     68\u001b[0m \u001b[39mdef\u001b[39;00m \u001b[39mversion\u001b[39m():\n\u001b[1;32m     69\u001b[0m     \u001b[39m\"\"\"Returns the version of cuDNN\"\"\"\u001b[39;00m\n\u001b[0;32m---> 70\u001b[0m     \u001b[39mif\u001b[39;00m \u001b[39mnot\u001b[39;00m _init():\n\u001b[1;32m     71\u001b[0m         \u001b[39mreturn\u001b[39;00m \u001b[39mNone\u001b[39;00m\n\u001b[1;32m     72\u001b[0m     \u001b[39mreturn\u001b[39;00m __cudnn_version\n",
      "File \u001b[0;32m~/miniconda3/envs/mycondapy39/lib/python3.9/site-packages/torch/backends/cudnn/__init__.py:52\u001b[0m, in \u001b[0;36m_init\u001b[0;34m()\u001b[0m\n\u001b[1;32m     50\u001b[0m ld_library_path \u001b[39m=\u001b[39m os\u001b[39m.\u001b[39menviron\u001b[39m.\u001b[39mget(\u001b[39m'\u001b[39m\u001b[39mLD_LIBRARY_PATH\u001b[39m\u001b[39m'\u001b[39m, \u001b[39m'\u001b[39m\u001b[39m'\u001b[39m)\n\u001b[1;32m     51\u001b[0m \u001b[39mif\u001b[39;00m \u001b[39many\u001b[39m(substring \u001b[39min\u001b[39;00m ld_library_path \u001b[39mfor\u001b[39;00m substring \u001b[39min\u001b[39;00m [\u001b[39m'\u001b[39m\u001b[39mcuda\u001b[39m\u001b[39m'\u001b[39m, \u001b[39m'\u001b[39m\u001b[39mcudnn\u001b[39m\u001b[39m'\u001b[39m]):\n\u001b[0;32m---> 52\u001b[0m     \u001b[39mraise\u001b[39;00m \u001b[39mRuntimeError\u001b[39;00m(\u001b[39mf\u001b[39m\u001b[39m'\u001b[39m\u001b[39m{\u001b[39;00mbase_error_msg\u001b[39m}\u001b[39;00m\u001b[39m'\u001b[39m\n\u001b[1;32m     53\u001b[0m                        \u001b[39mf\u001b[39m\u001b[39m'\u001b[39m\u001b[39mLooks like your LD_LIBRARY_PATH contains incompatible version of cudnn\u001b[39m\u001b[39m'\u001b[39m\n\u001b[1;32m     54\u001b[0m                        \u001b[39mf\u001b[39m\u001b[39m'\u001b[39m\u001b[39mPlease either remove it from the path or install cudnn \u001b[39m\u001b[39m{\u001b[39;00mcompile_version\u001b[39m}\u001b[39;00m\u001b[39m'\u001b[39m)\n\u001b[1;32m     55\u001b[0m \u001b[39melse\u001b[39;00m:\n\u001b[1;32m     56\u001b[0m     \u001b[39mraise\u001b[39;00m \u001b[39mRuntimeError\u001b[39;00m(\u001b[39mf\u001b[39m\u001b[39m'\u001b[39m\u001b[39m{\u001b[39;00mbase_error_msg\u001b[39m}\u001b[39;00m\u001b[39m'\u001b[39m\n\u001b[1;32m     57\u001b[0m                        \u001b[39mf\u001b[39m\u001b[39m'\u001b[39m\u001b[39mone possibility is that there is a \u001b[39m\u001b[39m'\u001b[39m\n\u001b[1;32m     58\u001b[0m                        \u001b[39mf\u001b[39m\u001b[39m'\u001b[39m\u001b[39mconflicting cuDNN in LD_LIBRARY_PATH.\u001b[39m\u001b[39m'\u001b[39m)\n",
      "\u001b[0;31mRuntimeError\u001b[0m: cuDNN version incompatibility: PyTorch was compiled  against (8, 7, 0) but found runtime version (8, 1, 1). PyTorch already comes bundled with cuDNN. One option to resolving this error is to ensure PyTorch can find the bundled cuDNN.Looks like your LD_LIBRARY_PATH contains incompatible version of cudnnPlease either remove it from the path or install cudnn (8, 7, 0)"
     ]
    }
   ],
   "source": [
    "torch.backends.cudnn.version()"
   ]
  },
  {
   "cell_type": "code",
   "execution_count": 5,
   "id": "b9ce805b",
   "metadata": {},
   "outputs": [
    {
     "name": "stdout",
     "output_type": "stream",
     "text": [
      ":/data/cmpe249-fa22/mycuda/cuda/lib64:/data/cmpe249-fa22/mycuda/TensorRT-8.4.2.4/lib:/data/cmpe249-fa22/mycuda/cuda/lib64:/data/cmpe249-fa22/mycuda/TensorRT-8.4.2.4/lib\n"
     ]
    }
   ],
   "source": [
    "!echo $LD_LIBRARY_PATH"
   ]
  },
  {
   "cell_type": "code",
   "execution_count": 6,
   "id": "ce1a172f",
   "metadata": {},
   "outputs": [],
   "source": [
    "LD_LIBRARY_PATH=\"\""
   ]
  },
  {
   "cell_type": "code",
   "execution_count": 7,
   "id": "454773c7",
   "metadata": {},
   "outputs": [
    {
     "name": "stdout",
     "output_type": "stream",
     "text": [
      "\n"
     ]
    }
   ],
   "source": [
    "!echo $LD_LIBRARY_PATH"
   ]
  },
  {
   "cell_type": "code",
   "execution_count": 8,
   "id": "f3f2367c",
   "metadata": {},
   "outputs": [
    {
     "data": {
      "text/plain": [
       "8101"
      ]
     },
     "execution_count": 8,
     "metadata": {},
     "output_type": "execute_result"
    }
   ],
   "source": [
    "torch.backends.cudnn.version()"
   ]
  }
 ],
 "metadata": {
  "kernelspec": {
   "display_name": "mycondapy39",
   "language": "python",
   "name": "mycondapy39"
  },
  "language_info": {
   "codemirror_mode": {
    "name": "ipython",
    "version": 3
   },
   "file_extension": ".py",
   "mimetype": "text/x-python",
   "name": "python",
   "nbconvert_exporter": "python",
   "pygments_lexer": "ipython3",
   "version": "3.9.13"
  }
 },
 "nbformat": 4,
 "nbformat_minor": 5
}
